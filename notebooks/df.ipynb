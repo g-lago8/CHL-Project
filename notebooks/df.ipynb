{
 "cells": [
  {
   "cell_type": "code",
   "execution_count": 5,
   "metadata": {},
   "outputs": [],
   "source": [
    "import pandas as pd\n",
    "import os\n",
    "import graphein\n",
    "import pickle\n",
    "path = '../datasets/ALPHAFOLD PDBs/'\n"
   ]
  },
  {
   "cell_type": "markdown",
   "metadata": {},
   "source": [
    "## create a df with mutation name and path to che .pdb file"
   ]
  },
  {
   "cell_type": "code",
   "execution_count": 6,
   "metadata": {},
   "outputs": [],
   "source": [
    "\n",
    "pdb_files = []\n",
    "for folder in os.listdir(path):\n",
    "    # if the folder is a directory\n",
    "    if os.path.isdir(path + folder):\n",
    "        # for every file in the folder\n",
    "        for file in os.listdir(path + folder):\n",
    "            if 'rank_001' in file and file.endswith('.pdb'):\n",
    "                pdb_files.append(path + folder + '/' + file)\n",
    "\n"
   ]
  },
  {
   "cell_type": "code",
   "execution_count": 7,
   "metadata": {},
   "outputs": [
    {
     "data": {
      "text/plain": [
       "['../datasets/ALPHAFOLD PDBs/G185R_e6971/G185R_e6971_unrelaxed_rank_001_alphafold2_ptm_model_5_seed_000.pdb',\n",
       " '../datasets/ALPHAFOLD PDBs/E168L_0f4af/E168L_0f4af_unrelaxed_rank_001_alphafold2_ptm_model_5_seed_000.pdb',\n",
       " '../datasets/ALPHAFOLD PDBs/R53Q_8ee59/R53Q_8ee59_unrelaxed_rank_001_alphafold2_ptm_model_5_seed_000.pdb',\n",
       " '../datasets/ALPHAFOLD PDBs/W97C_b9ccb/W97C_b9ccb_unrelaxed_rank_001_alphafold2_ptm_model_5_seed_000.pdb',\n",
       " '../datasets/ALPHAFOLD PDBs/K353Q_ed31e/K353Q_ed31e_unrelaxed_rank_001_alphafold2_ptm_model_5_seed_000.pdb',\n",
       " '../datasets/ALPHAFOLD PDBs/G360A_4d8ad/G360A_4d8ad_unrelaxed_rank_001_alphafold2_ptm_model_5_seed_000.pdb',\n",
       " '../datasets/ALPHAFOLD PDBs/G360R_057f7/G360R_057f7_unrelaxed_rank_001_alphafold2_ptm_model_5_seed_000.pdb',\n",
       " '../datasets/ALPHAFOLD PDBs/A267V_1c2c3/A267V_1c2c3_unrelaxed_rank_001_alphafold2_ptm_model_5_seed_000.pdb',\n",
       " '../datasets/ALPHAFOLD PDBs/G251D_5ea06/G251D_5ea06_unrelaxed_rank_001_alphafold2_ptm_model_5_seed_000.pdb',\n",
       " '../datasets/ALPHAFOLD PDBs/L116P_12c5f/L116P_12c5f_unrelaxed_rank_001_alphafold2_ptm_model_5_seed_000.pdb',\n",
       " '../datasets/ALPHAFOLD PDBs/T167I_6e959/T167I_6e959_unrelaxed_rank_001_alphafold2_ptm_model_5_seed_000.pdb',\n",
       " '../datasets/ALPHAFOLD PDBs/F227S_cb1d8_0/F227S_cb1d8_0_unrelaxed_rank_001_alphafold2_ptm_model_5_seed_000.pdb',\n",
       " '../datasets/ALPHAFOLD PDBs/A122V_41d52/A122V_41d52_unrelaxed_rank_001_alphafold2_ptm_model_5_seed_000.pdb',\n",
       " '../datasets/ALPHAFOLD PDBs/Y40S_d8119/Y40S_d8119_unrelaxed_rank_001_alphafold2_ptm_model_5_seed_000.pdb',\n",
       " '../datasets/ALPHAFOLD PDBs/G362E_89990_0/G362E_89990_0_unrelaxed_rank_001_alphafold2_ptm_model_5_seed_000.pdb',\n",
       " '../datasets/ALPHAFOLD PDBs/E168K_b43e7/E168K_b43e7_unrelaxed_rank_001_alphafold2_ptm_model_5_seed_000.pdb',\n",
       " '../datasets/ALPHAFOLD PDBs/S150L_b9ee5/S150L_b9ee5_unrelaxed_rank_001_alphafold2_ptm_model_5_seed_000.pdb',\n",
       " '../datasets/ALPHAFOLD PDBs/G361R_7f213/G361R_7f213_unrelaxed_rank_001_alphafold2_ptm_model_5_seed_000.pdb',\n",
       " '../datasets/ALPHAFOLD PDBs/G152R_d7f73/G152R_d7f73_unrelaxed_rank_001_alphafold2_ptm_model_5_seed_000.pdb',\n",
       " '../datasets/ALPHAFOLD PDBs/S47L_9a618/S47L_9a618_unrelaxed_rank_001_alphafold2_ptm_model_5_seed_000.pdb',\n",
       " '../datasets/ALPHAFOLD PDBs/L44F_0ee96/L44F_0ee96_unrelaxed_rank_001_alphafold2_ptm_model_5_seed_000.pdb',\n",
       " '../datasets/ALPHAFOLD PDBs/I216T_85a22/I216T_85a22_unrelaxed_rank_001_alphafold2_ptm_model_5_seed_000.pdb',\n",
       " '../datasets/ALPHAFOLD PDBs/E401Q_0f21c/E401Q_0f21c_unrelaxed_rank_001_alphafold2_ptm_model_5_seed_000.pdb',\n",
       " '../datasets/ALPHAFOLD PDBs/E178G_aeca3/E178G_aeca3_unrelaxed_rank_001_alphafold2_ptm_model_5_seed_000.pdb',\n",
       " '../datasets/ALPHAFOLD PDBs/Y272C_d987f/Y272C_d987f_unrelaxed_rank_001_alphafold2_ptm_model_5_seed_000.pdb',\n",
       " '../datasets/ALPHAFOLD PDBs/P332R_e6340/P332R_e6340_unrelaxed_rank_001_alphafold2_ptm_model_5_seed_000.pdb',\n",
       " '../datasets/ALPHAFOLD PDBs/G198D_ce608/G198D_ce608_unrelaxed_rank_001_alphafold2_ptm_model_5_seed_000.pdb',\n",
       " '../datasets/ALPHAFOLD PDBs/K248E_ab234/K248E_ab234_unrelaxed_rank_001_alphafold2_ptm_model_5_seed_000.pdb',\n",
       " '../datasets/ALPHAFOLD PDBs/R330S_b8b36/R330S_b8b36_unrelaxed_rank_001_alphafold2_ptm_model_5_seed_000.pdb',\n",
       " '../datasets/ALPHAFOLD PDBs/G161R_c8ba5/G161R_c8ba5_unrelaxed_rank_001_alphafold2_ptm_model_5_seed_000.pdb',\n",
       " '../datasets/ALPHAFOLD PDBs/G170S_8931e/G170S_8931e_unrelaxed_rank_001_alphafold2_ptm_model_5_seed_000.pdb',\n",
       " '../datasets/ALPHAFOLD PDBs/M368V_be390/M368V_be390_unrelaxed_rank_001_alphafold2_ptm_model_3_seed_000.pdb',\n",
       " '../datasets/ALPHAFOLD PDBs/P230S_fba2c/P230S_fba2c_unrelaxed_rank_001_alphafold2_ptm_model_5_seed_000.pdb',\n",
       " '../datasets/ALPHAFOLD PDBs/C120F_3f78a/C120F_3f78a_unrelaxed_rank_001_alphafold2_ptm_model_5_seed_000.pdb',\n",
       " '../datasets/ALPHAFOLD PDBs/I346T_e431b/I346T_e431b_unrelaxed_rank_001_alphafold2_ptm_model_5_seed_000.pdb',\n",
       " '../datasets/ALPHAFOLD PDBs/W97G_38d4c/W97G_38d4c_unrelaxed_rank_001_alphafold2_ptm_model_5_seed_000.pdb',\n",
       " '../datasets/ALPHAFOLD PDBs/D18Y_aa632/D18Y_aa632_unrelaxed_rank_001_alphafold2_ptm_model_5_seed_000.pdb',\n",
       " '../datasets/ALPHAFOLD PDBs/V300G_f0e19/V300G_f0e19_unrelaxed_rank_001_alphafold2_ptm_model_5_seed_000.pdb',\n",
       " '../datasets/ALPHAFOLD PDBs/F73L_86356/F73L_86356_unrelaxed_rank_001_alphafold2_ptm_model_5_seed_000.pdb',\n",
       " '../datasets/ALPHAFOLD PDBs/G205D_0b80b/G205D_0b80b_unrelaxed_rank_001_alphafold2_ptm_model_5_seed_000.pdb',\n",
       " '../datasets/ALPHAFOLD PDBs/G170A_064f1/G170A_064f1_unrelaxed_rank_001_alphafold2_ptm_model_5_seed_000.pdb',\n",
       " '../datasets/ALPHAFOLD PDBs/R225P_9ee52/R225P_9ee52_unrelaxed_rank_001_alphafold2_ptm_model_5_seed_000.pdb',\n",
       " '../datasets/ALPHAFOLD PDBs/G270R_3f501/G270R_3f501_unrelaxed_rank_001_alphafold2_ptm_model_5_seed_000.pdb',\n",
       " '../datasets/ALPHAFOLD PDBs/G123A_a58f9/G123A_a58f9_unrelaxed_rank_001_alphafold2_ptm_model_5_seed_000.pdb']"
      ]
     },
     "execution_count": 7,
     "metadata": {},
     "output_type": "execute_result"
    }
   ],
   "source": [
    "pdb_files"
   ]
  },
  {
   "cell_type": "code",
   "execution_count": 8,
   "metadata": {},
   "outputs": [],
   "source": [
    "# for each pdb file in pdb_files, get name of the mutation which is the name of the folder before '_'\n",
    "mutations = []\n",
    "for pdb in pdb_files:\n",
    "    mutations.append(pdb.split('/')[-2].split('_')[0])\n",
    "\n",
    "    "
   ]
  },
  {
   "cell_type": "code",
   "execution_count": 9,
   "metadata": {},
   "outputs": [
    {
     "data": {
      "text/plain": [
       "['G185R',\n",
       " 'E168L',\n",
       " 'R53Q',\n",
       " 'W97C',\n",
       " 'K353Q',\n",
       " 'G360A',\n",
       " 'G360R',\n",
       " 'A267V',\n",
       " 'G251D',\n",
       " 'L116P',\n",
       " 'T167I',\n",
       " 'F227S',\n",
       " 'A122V',\n",
       " 'Y40S',\n",
       " 'G362E',\n",
       " 'E168K',\n",
       " 'S150L',\n",
       " 'G361R',\n",
       " 'G152R',\n",
       " 'S47L',\n",
       " 'L44F',\n",
       " 'I216T',\n",
       " 'E401Q',\n",
       " 'E178G',\n",
       " 'Y272C',\n",
       " 'P332R',\n",
       " 'G198D',\n",
       " 'K248E',\n",
       " 'R330S',\n",
       " 'G161R',\n",
       " 'G170S',\n",
       " 'M368V',\n",
       " 'P230S',\n",
       " 'C120F',\n",
       " 'I346T',\n",
       " 'W97G',\n",
       " 'D18Y',\n",
       " 'V300G',\n",
       " 'F73L',\n",
       " 'G205D',\n",
       " 'G170A',\n",
       " 'R225P',\n",
       " 'G270R',\n",
       " 'G123A']"
      ]
     },
     "execution_count": 9,
     "metadata": {},
     "output_type": "execute_result"
    }
   ],
   "source": [
    "mutations"
   ]
  },
  {
   "cell_type": "code",
   "execution_count": 10,
   "metadata": {},
   "outputs": [],
   "source": [
    "# create a dataframe with the mutation and the pdb file\n",
    "\n",
    "df = pd.DataFrame({'mutation': mutations, 'pdb_file': pdb_files})\n",
    "\n",
    "out_path = \"../datasets/pdb_files.csv\"\n",
    "if not os.path.isfile(out_path):\n",
    "    df.to_csv(out_path, index=False)\n"
   ]
  },
  {
   "cell_type": "markdown",
   "metadata": {},
   "source": [
    "## Parse the .pdb files"
   ]
  },
  {
   "cell_type": "code",
   "execution_count": 11,
   "metadata": {},
   "outputs": [],
   "source": [
    "from Bio.PDB import PDBParser   \n",
    "structures = {}\n",
    "parser = PDBParser()\n",
    "for i, row in df.iterrows():\n",
    "    structures[row['mutation']] = parser.get_structure(row['mutation'], row['pdb_file'])\n",
    " "
   ]
  },
  {
   "cell_type": "code",
   "execution_count": 12,
   "metadata": {},
   "outputs": [
    {
     "data": {
      "text/plain": [
       "{'G185R': <Structure id=G185R>,\n",
       " 'E168L': <Structure id=E168L>,\n",
       " 'R53Q': <Structure id=R53Q>,\n",
       " 'W97C': <Structure id=W97C>,\n",
       " 'K353Q': <Structure id=K353Q>,\n",
       " 'G360A': <Structure id=G360A>,\n",
       " 'G360R': <Structure id=G360R>,\n",
       " 'A267V': <Structure id=A267V>,\n",
       " 'G251D': <Structure id=G251D>,\n",
       " 'L116P': <Structure id=L116P>,\n",
       " 'T167I': <Structure id=T167I>,\n",
       " 'F227S': <Structure id=F227S>,\n",
       " 'A122V': <Structure id=A122V>,\n",
       " 'Y40S': <Structure id=Y40S>,\n",
       " 'G362E': <Structure id=G362E>,\n",
       " 'E168K': <Structure id=E168K>,\n",
       " 'S150L': <Structure id=S150L>,\n",
       " 'G361R': <Structure id=G361R>,\n",
       " 'G152R': <Structure id=G152R>,\n",
       " 'S47L': <Structure id=S47L>,\n",
       " 'L44F': <Structure id=L44F>,\n",
       " 'I216T': <Structure id=I216T>,\n",
       " 'E401Q': <Structure id=E401Q>,\n",
       " 'E178G': <Structure id=E178G>,\n",
       " 'Y272C': <Structure id=Y272C>,\n",
       " 'P332R': <Structure id=P332R>,\n",
       " 'G198D': <Structure id=G198D>,\n",
       " 'K248E': <Structure id=K248E>,\n",
       " 'R330S': <Structure id=R330S>,\n",
       " 'G161R': <Structure id=G161R>,\n",
       " 'G170S': <Structure id=G170S>,\n",
       " 'M368V': <Structure id=M368V>,\n",
       " 'P230S': <Structure id=P230S>,\n",
       " 'C120F': <Structure id=C120F>,\n",
       " 'I346T': <Structure id=I346T>,\n",
       " 'W97G': <Structure id=W97G>,\n",
       " 'D18Y': <Structure id=D18Y>,\n",
       " 'V300G': <Structure id=V300G>,\n",
       " 'F73L': <Structure id=F73L>,\n",
       " 'G205D': <Structure id=G205D>,\n",
       " 'G170A': <Structure id=G170A>,\n",
       " 'R225P': <Structure id=R225P>,\n",
       " 'G270R': <Structure id=G270R>,\n",
       " 'G123A': <Structure id=G123A>}"
      ]
     },
     "execution_count": 12,
     "metadata": {},
     "output_type": "execute_result"
    }
   ],
   "source": [
    "structures"
   ]
  },
  {
   "cell_type": "markdown",
   "metadata": {},
   "source": [
    "## Create graphs from the .pdb files"
   ]
  },
  {
   "cell_type": "code",
   "execution_count": 13,
   "metadata": {},
   "outputs": [
    {
     "data": {
      "text/plain": [
       "{'granularity': 'CA',\n",
       " 'keep_hets': [],\n",
       " 'insertions': True,\n",
       " 'alt_locs': 'max_occupancy',\n",
       " 'pdb_dir': None,\n",
       " 'verbose': False,\n",
       " 'exclude_waters': True,\n",
       " 'deprotonate': False,\n",
       " 'protein_df_processing_functions': None,\n",
       " 'edge_construction_functions': [<function graphein.protein.edges.distance.add_peptide_bonds(G: 'nx.Graph') -> 'nx.Graph'>],\n",
       " 'node_metadata_functions': [<function graphein.protein.features.nodes.amino_acid.meiler_embedding(n: str, d: Dict[str, Any], return_array: bool = False) -> Union[pandas.core.series.Series, numpy.ndarray]>],\n",
       " 'edge_metadata_functions': None,\n",
       " 'graph_metadata_functions': None,\n",
       " 'get_contacts_config': None,\n",
       " 'dssp_config': None}"
      ]
     },
     "execution_count": 13,
     "metadata": {},
     "output_type": "execute_result"
    }
   ],
   "source": [
    "from graphein.protein.config import ProteinGraphConfig\n",
    "from graphein.protein.graphs import construct_graph\n",
    "\n",
    "config = ProteinGraphConfig()\n",
    "(config.dict())"
   ]
  },
  {
   "cell_type": "code",
   "execution_count": 14,
   "metadata": {},
   "outputs": [
    {
     "data": {
      "application/vnd.jupyter.widget-view+json": {
       "model_id": "a4386dbf87ee4543b98eb9ddc75afe32",
       "version_major": 2,
       "version_minor": 0
      },
      "text/plain": [
       "Output()"
      ]
     },
     "metadata": {},
     "output_type": "display_data"
    },
    {
     "data": {
      "text/html": [
       "<pre style=\"white-space:pre;overflow-x:auto;line-height:normal;font-family:Menlo,'DejaVu Sans Mono',consolas,'Courier New',monospace\"><span style=\"color: #7fbfbf; text-decoration-color: #7fbfbf\">[04/29/24 09:45:17] </span><span style=\"color: #008000; text-decoration-color: #008000\">DEBUG   </span> Deprotonating protein. This removes H atoms from the pdb_df dataframe    <a href=\"file:///Users/lavo/Desktop/Projects/CHL-Project/.venv/lib/python3.10/site-packages/graphein/protein/graphs.py\" target=\"_blank\"><span style=\"color: #7f7f7f; text-decoration-color: #7f7f7f\">graphs.py</span></a><span style=\"color: #7f7f7f; text-decoration-color: #7f7f7f\">:</span><a href=\"file:///Users/lavo/Desktop/Projects/CHL-Project/.venv/lib/python3.10/site-packages/graphein/protein/graphs.py#188\" target=\"_blank\"><span style=\"color: #7f7f7f; text-decoration-color: #7f7f7f\">188</span></a>\n",
       "</pre>\n"
      ],
      "text/plain": [
       "\u001b[2;36m[04/29/24 09:45:17]\u001b[0m\u001b[2;36m \u001b[0m\u001b[32mDEBUG   \u001b[0m Deprotonating protein. This removes H atoms from the pdb_df dataframe    \u001b]8;id=944672;file:///Users/lavo/Desktop/Projects/CHL-Project/.venv/lib/python3.10/site-packages/graphein/protein/graphs.py\u001b\\\u001b[2mgraphs.py\u001b[0m\u001b]8;;\u001b\\\u001b[2m:\u001b[0m\u001b]8;id=365391;file:///Users/lavo/Desktop/Projects/CHL-Project/.venv/lib/python3.10/site-packages/graphein/protein/graphs.py#188\u001b\\\u001b[2m188\u001b[0m\u001b]8;;\u001b\\\n"
      ]
     },
     "metadata": {},
     "output_type": "display_data"
    },
    {
     "data": {
      "text/html": [
       "<pre style=\"white-space:pre;overflow-x:auto;line-height:normal;font-family:Menlo,'DejaVu Sans Mono',consolas,'Courier New',monospace\"><span style=\"color: #7fbfbf; text-decoration-color: #7fbfbf\">                    </span><span style=\"color: #008000; text-decoration-color: #008000\">DEBUG   </span> Detected <span style=\"color: #008080; text-decoration-color: #008080; font-weight: bold\">445</span> total nodes                                                 <a href=\"file:///Users/lavo/Desktop/Projects/CHL-Project/.venv/lib/python3.10/site-packages/graphein/protein/graphs.py\" target=\"_blank\"><span style=\"color: #7f7f7f; text-decoration-color: #7f7f7f\">graphs.py</span></a><span style=\"color: #7f7f7f; text-decoration-color: #7f7f7f\">:</span><a href=\"file:///Users/lavo/Desktop/Projects/CHL-Project/.venv/lib/python3.10/site-packages/graphein/protein/graphs.py#435\" target=\"_blank\"><span style=\"color: #7f7f7f; text-decoration-color: #7f7f7f\">435</span></a>\n",
       "</pre>\n"
      ],
      "text/plain": [
       "\u001b[2;36m                   \u001b[0m\u001b[2;36m \u001b[0m\u001b[32mDEBUG   \u001b[0m Detected \u001b[1;36m445\u001b[0m total nodes                                                 \u001b]8;id=129847;file:///Users/lavo/Desktop/Projects/CHL-Project/.venv/lib/python3.10/site-packages/graphein/protein/graphs.py\u001b\\\u001b[2mgraphs.py\u001b[0m\u001b]8;;\u001b\\\u001b[2m:\u001b[0m\u001b]8;id=803312;file:///Users/lavo/Desktop/Projects/CHL-Project/.venv/lib/python3.10/site-packages/graphein/protein/graphs.py#435\u001b\\\u001b[2m435\u001b[0m\u001b]8;;\u001b\\\n"
      ]
     },
     "metadata": {},
     "output_type": "display_data"
    },
    {
     "name": "stdout",
     "output_type": "stream",
     "text": [
      "G185R\n"
     ]
    },
    {
     "data": {
      "text/html": [
       "<pre style=\"white-space:pre;overflow-x:auto;line-height:normal;font-family:Menlo,'DejaVu Sans Mono',consolas,'Courier New',monospace\"></pre>\n"
      ],
      "text/plain": []
     },
     "metadata": {},
     "output_type": "display_data"
    },
    {
     "data": {
      "text/html": [
       "<pre style=\"white-space:pre;overflow-x:auto;line-height:normal;font-family:Menlo,'DejaVu Sans Mono',consolas,'Courier New',monospace\">\n",
       "</pre>\n"
      ],
      "text/plain": [
       "\n"
      ]
     },
     "metadata": {},
     "output_type": "display_data"
    },
    {
     "data": {
      "application/vnd.jupyter.widget-view+json": {
       "model_id": "33030895038148f6acd9f35f8bf74844",
       "version_major": 2,
       "version_minor": 0
      },
      "text/plain": [
       "Output()"
      ]
     },
     "metadata": {},
     "output_type": "display_data"
    },
    {
     "data": {
      "text/html": [
       "<pre style=\"white-space:pre;overflow-x:auto;line-height:normal;font-family:Menlo,'DejaVu Sans Mono',consolas,'Courier New',monospace\"><span style=\"color: #7fbfbf; text-decoration-color: #7fbfbf\">                    </span><span style=\"color: #008000; text-decoration-color: #008000\">DEBUG   </span> Deprotonating protein. This removes H atoms from the pdb_df dataframe    <a href=\"file:///Users/lavo/Desktop/Projects/CHL-Project/.venv/lib/python3.10/site-packages/graphein/protein/graphs.py\" target=\"_blank\"><span style=\"color: #7f7f7f; text-decoration-color: #7f7f7f\">graphs.py</span></a><span style=\"color: #7f7f7f; text-decoration-color: #7f7f7f\">:</span><a href=\"file:///Users/lavo/Desktop/Projects/CHL-Project/.venv/lib/python3.10/site-packages/graphein/protein/graphs.py#188\" target=\"_blank\"><span style=\"color: #7f7f7f; text-decoration-color: #7f7f7f\">188</span></a>\n",
       "</pre>\n"
      ],
      "text/plain": [
       "\u001b[2;36m                   \u001b[0m\u001b[2;36m \u001b[0m\u001b[32mDEBUG   \u001b[0m Deprotonating protein. This removes H atoms from the pdb_df dataframe    \u001b]8;id=519493;file:///Users/lavo/Desktop/Projects/CHL-Project/.venv/lib/python3.10/site-packages/graphein/protein/graphs.py\u001b\\\u001b[2mgraphs.py\u001b[0m\u001b]8;;\u001b\\\u001b[2m:\u001b[0m\u001b]8;id=450322;file:///Users/lavo/Desktop/Projects/CHL-Project/.venv/lib/python3.10/site-packages/graphein/protein/graphs.py#188\u001b\\\u001b[2m188\u001b[0m\u001b]8;;\u001b\\\n"
      ]
     },
     "metadata": {},
     "output_type": "display_data"
    },
    {
     "data": {
      "text/html": [
       "<pre style=\"white-space:pre;overflow-x:auto;line-height:normal;font-family:Menlo,'DejaVu Sans Mono',consolas,'Courier New',monospace\"><span style=\"color: #7fbfbf; text-decoration-color: #7fbfbf\">                    </span><span style=\"color: #008000; text-decoration-color: #008000\">DEBUG   </span> Detected <span style=\"color: #008080; text-decoration-color: #008080; font-weight: bold\">445</span> total nodes                                                 <a href=\"file:///Users/lavo/Desktop/Projects/CHL-Project/.venv/lib/python3.10/site-packages/graphein/protein/graphs.py\" target=\"_blank\"><span style=\"color: #7f7f7f; text-decoration-color: #7f7f7f\">graphs.py</span></a><span style=\"color: #7f7f7f; text-decoration-color: #7f7f7f\">:</span><a href=\"file:///Users/lavo/Desktop/Projects/CHL-Project/.venv/lib/python3.10/site-packages/graphein/protein/graphs.py#435\" target=\"_blank\"><span style=\"color: #7f7f7f; text-decoration-color: #7f7f7f\">435</span></a>\n",
       "</pre>\n"
      ],
      "text/plain": [
       "\u001b[2;36m                   \u001b[0m\u001b[2;36m \u001b[0m\u001b[32mDEBUG   \u001b[0m Detected \u001b[1;36m445\u001b[0m total nodes                                                 \u001b]8;id=570098;file:///Users/lavo/Desktop/Projects/CHL-Project/.venv/lib/python3.10/site-packages/graphein/protein/graphs.py\u001b\\\u001b[2mgraphs.py\u001b[0m\u001b]8;;\u001b\\\u001b[2m:\u001b[0m\u001b]8;id=908835;file:///Users/lavo/Desktop/Projects/CHL-Project/.venv/lib/python3.10/site-packages/graphein/protein/graphs.py#435\u001b\\\u001b[2m435\u001b[0m\u001b]8;;\u001b\\\n"
      ]
     },
     "metadata": {},
     "output_type": "display_data"
    },
    {
     "name": "stdout",
     "output_type": "stream",
     "text": [
      "E168L\n"
     ]
    },
    {
     "data": {
      "text/html": [
       "<pre style=\"white-space:pre;overflow-x:auto;line-height:normal;font-family:Menlo,'DejaVu Sans Mono',consolas,'Courier New',monospace\"></pre>\n"
      ],
      "text/plain": []
     },
     "metadata": {},
     "output_type": "display_data"
    },
    {
     "data": {
      "text/html": [
       "<pre style=\"white-space:pre;overflow-x:auto;line-height:normal;font-family:Menlo,'DejaVu Sans Mono',consolas,'Courier New',monospace\">\n",
       "</pre>\n"
      ],
      "text/plain": [
       "\n"
      ]
     },
     "metadata": {},
     "output_type": "display_data"
    },
    {
     "data": {
      "application/vnd.jupyter.widget-view+json": {
       "model_id": "b8a0c156d30b430aa6f95c1720c8da2c",
       "version_major": 2,
       "version_minor": 0
      },
      "text/plain": [
       "Output()"
      ]
     },
     "metadata": {},
     "output_type": "display_data"
    },
    {
     "data": {
      "text/html": [
       "<pre style=\"white-space:pre;overflow-x:auto;line-height:normal;font-family:Menlo,'DejaVu Sans Mono',consolas,'Courier New',monospace\"><span style=\"color: #7fbfbf; text-decoration-color: #7fbfbf\">                    </span><span style=\"color: #008000; text-decoration-color: #008000\">DEBUG   </span> Deprotonating protein. This removes H atoms from the pdb_df dataframe    <a href=\"file:///Users/lavo/Desktop/Projects/CHL-Project/.venv/lib/python3.10/site-packages/graphein/protein/graphs.py\" target=\"_blank\"><span style=\"color: #7f7f7f; text-decoration-color: #7f7f7f\">graphs.py</span></a><span style=\"color: #7f7f7f; text-decoration-color: #7f7f7f\">:</span><a href=\"file:///Users/lavo/Desktop/Projects/CHL-Project/.venv/lib/python3.10/site-packages/graphein/protein/graphs.py#188\" target=\"_blank\"><span style=\"color: #7f7f7f; text-decoration-color: #7f7f7f\">188</span></a>\n",
       "</pre>\n"
      ],
      "text/plain": [
       "\u001b[2;36m                   \u001b[0m\u001b[2;36m \u001b[0m\u001b[32mDEBUG   \u001b[0m Deprotonating protein. This removes H atoms from the pdb_df dataframe    \u001b]8;id=790244;file:///Users/lavo/Desktop/Projects/CHL-Project/.venv/lib/python3.10/site-packages/graphein/protein/graphs.py\u001b\\\u001b[2mgraphs.py\u001b[0m\u001b]8;;\u001b\\\u001b[2m:\u001b[0m\u001b]8;id=784404;file:///Users/lavo/Desktop/Projects/CHL-Project/.venv/lib/python3.10/site-packages/graphein/protein/graphs.py#188\u001b\\\u001b[2m188\u001b[0m\u001b]8;;\u001b\\\n"
      ]
     },
     "metadata": {},
     "output_type": "display_data"
    },
    {
     "data": {
      "text/html": [
       "<pre style=\"white-space:pre;overflow-x:auto;line-height:normal;font-family:Menlo,'DejaVu Sans Mono',consolas,'Courier New',monospace\"><span style=\"color: #7fbfbf; text-decoration-color: #7fbfbf\">                    </span><span style=\"color: #008000; text-decoration-color: #008000\">DEBUG   </span> Detected <span style=\"color: #008080; text-decoration-color: #008080; font-weight: bold\">445</span> total nodes                                                 <a href=\"file:///Users/lavo/Desktop/Projects/CHL-Project/.venv/lib/python3.10/site-packages/graphein/protein/graphs.py\" target=\"_blank\"><span style=\"color: #7f7f7f; text-decoration-color: #7f7f7f\">graphs.py</span></a><span style=\"color: #7f7f7f; text-decoration-color: #7f7f7f\">:</span><a href=\"file:///Users/lavo/Desktop/Projects/CHL-Project/.venv/lib/python3.10/site-packages/graphein/protein/graphs.py#435\" target=\"_blank\"><span style=\"color: #7f7f7f; text-decoration-color: #7f7f7f\">435</span></a>\n",
       "</pre>\n"
      ],
      "text/plain": [
       "\u001b[2;36m                   \u001b[0m\u001b[2;36m \u001b[0m\u001b[32mDEBUG   \u001b[0m Detected \u001b[1;36m445\u001b[0m total nodes                                                 \u001b]8;id=222091;file:///Users/lavo/Desktop/Projects/CHL-Project/.venv/lib/python3.10/site-packages/graphein/protein/graphs.py\u001b\\\u001b[2mgraphs.py\u001b[0m\u001b]8;;\u001b\\\u001b[2m:\u001b[0m\u001b]8;id=65306;file:///Users/lavo/Desktop/Projects/CHL-Project/.venv/lib/python3.10/site-packages/graphein/protein/graphs.py#435\u001b\\\u001b[2m435\u001b[0m\u001b]8;;\u001b\\\n"
      ]
     },
     "metadata": {},
     "output_type": "display_data"
    },
    {
     "name": "stdout",
     "output_type": "stream",
     "text": [
      "R53Q\n"
     ]
    },
    {
     "data": {
      "text/html": [
       "<pre style=\"white-space:pre;overflow-x:auto;line-height:normal;font-family:Menlo,'DejaVu Sans Mono',consolas,'Courier New',monospace\"></pre>\n"
      ],
      "text/plain": []
     },
     "metadata": {},
     "output_type": "display_data"
    },
    {
     "data": {
      "text/html": [
       "<pre style=\"white-space:pre;overflow-x:auto;line-height:normal;font-family:Menlo,'DejaVu Sans Mono',consolas,'Courier New',monospace\">\n",
       "</pre>\n"
      ],
      "text/plain": [
       "\n"
      ]
     },
     "metadata": {},
     "output_type": "display_data"
    },
    {
     "data": {
      "application/vnd.jupyter.widget-view+json": {
       "model_id": "507af49605954cb79d4f0ff958468784",
       "version_major": 2,
       "version_minor": 0
      },
      "text/plain": [
       "Output()"
      ]
     },
     "metadata": {},
     "output_type": "display_data"
    },
    {
     "data": {
      "text/html": [
       "<pre style=\"white-space:pre;overflow-x:auto;line-height:normal;font-family:Menlo,'DejaVu Sans Mono',consolas,'Courier New',monospace\"><span style=\"color: #7fbfbf; text-decoration-color: #7fbfbf\">                    </span><span style=\"color: #008000; text-decoration-color: #008000\">DEBUG   </span> Deprotonating protein. This removes H atoms from the pdb_df dataframe    <a href=\"file:///Users/lavo/Desktop/Projects/CHL-Project/.venv/lib/python3.10/site-packages/graphein/protein/graphs.py\" target=\"_blank\"><span style=\"color: #7f7f7f; text-decoration-color: #7f7f7f\">graphs.py</span></a><span style=\"color: #7f7f7f; text-decoration-color: #7f7f7f\">:</span><a href=\"file:///Users/lavo/Desktop/Projects/CHL-Project/.venv/lib/python3.10/site-packages/graphein/protein/graphs.py#188\" target=\"_blank\"><span style=\"color: #7f7f7f; text-decoration-color: #7f7f7f\">188</span></a>\n",
       "</pre>\n"
      ],
      "text/plain": [
       "\u001b[2;36m                   \u001b[0m\u001b[2;36m \u001b[0m\u001b[32mDEBUG   \u001b[0m Deprotonating protein. This removes H atoms from the pdb_df dataframe    \u001b]8;id=294022;file:///Users/lavo/Desktop/Projects/CHL-Project/.venv/lib/python3.10/site-packages/graphein/protein/graphs.py\u001b\\\u001b[2mgraphs.py\u001b[0m\u001b]8;;\u001b\\\u001b[2m:\u001b[0m\u001b]8;id=53154;file:///Users/lavo/Desktop/Projects/CHL-Project/.venv/lib/python3.10/site-packages/graphein/protein/graphs.py#188\u001b\\\u001b[2m188\u001b[0m\u001b]8;;\u001b\\\n"
      ]
     },
     "metadata": {},
     "output_type": "display_data"
    },
    {
     "data": {
      "text/html": [
       "<pre style=\"white-space:pre;overflow-x:auto;line-height:normal;font-family:Menlo,'DejaVu Sans Mono',consolas,'Courier New',monospace\"><span style=\"color: #7fbfbf; text-decoration-color: #7fbfbf\">                    </span><span style=\"color: #008000; text-decoration-color: #008000\">DEBUG   </span> Detected <span style=\"color: #008080; text-decoration-color: #008080; font-weight: bold\">445</span> total nodes                                                 <a href=\"file:///Users/lavo/Desktop/Projects/CHL-Project/.venv/lib/python3.10/site-packages/graphein/protein/graphs.py\" target=\"_blank\"><span style=\"color: #7f7f7f; text-decoration-color: #7f7f7f\">graphs.py</span></a><span style=\"color: #7f7f7f; text-decoration-color: #7f7f7f\">:</span><a href=\"file:///Users/lavo/Desktop/Projects/CHL-Project/.venv/lib/python3.10/site-packages/graphein/protein/graphs.py#435\" target=\"_blank\"><span style=\"color: #7f7f7f; text-decoration-color: #7f7f7f\">435</span></a>\n",
       "</pre>\n"
      ],
      "text/plain": [
       "\u001b[2;36m                   \u001b[0m\u001b[2;36m \u001b[0m\u001b[32mDEBUG   \u001b[0m Detected \u001b[1;36m445\u001b[0m total nodes                                                 \u001b]8;id=726095;file:///Users/lavo/Desktop/Projects/CHL-Project/.venv/lib/python3.10/site-packages/graphein/protein/graphs.py\u001b\\\u001b[2mgraphs.py\u001b[0m\u001b]8;;\u001b\\\u001b[2m:\u001b[0m\u001b]8;id=260997;file:///Users/lavo/Desktop/Projects/CHL-Project/.venv/lib/python3.10/site-packages/graphein/protein/graphs.py#435\u001b\\\u001b[2m435\u001b[0m\u001b]8;;\u001b\\\n"
      ]
     },
     "metadata": {},
     "output_type": "display_data"
    },
    {
     "name": "stdout",
     "output_type": "stream",
     "text": [
      "W97C\n"
     ]
    },
    {
     "data": {
      "text/html": [
       "<pre style=\"white-space:pre;overflow-x:auto;line-height:normal;font-family:Menlo,'DejaVu Sans Mono',consolas,'Courier New',monospace\"></pre>\n"
      ],
      "text/plain": []
     },
     "metadata": {},
     "output_type": "display_data"
    },
    {
     "data": {
      "text/html": [
       "<pre style=\"white-space:pre;overflow-x:auto;line-height:normal;font-family:Menlo,'DejaVu Sans Mono',consolas,'Courier New',monospace\">\n",
       "</pre>\n"
      ],
      "text/plain": [
       "\n"
      ]
     },
     "metadata": {},
     "output_type": "display_data"
    },
    {
     "data": {
      "application/vnd.jupyter.widget-view+json": {
       "model_id": "4e1dd5543f694332b9ad4c0a204a95e3",
       "version_major": 2,
       "version_minor": 0
      },
      "text/plain": [
       "Output()"
      ]
     },
     "metadata": {},
     "output_type": "display_data"
    },
    {
     "name": "stdout",
     "output_type": "stream",
     "text": [
      "K353Q\n"
     ]
    },
    {
     "data": {
      "text/html": [
       "<pre style=\"white-space:pre;overflow-x:auto;line-height:normal;font-family:Menlo,'DejaVu Sans Mono',consolas,'Courier New',monospace\"><span style=\"color: #7fbfbf; text-decoration-color: #7fbfbf\">                    </span><span style=\"color: #008000; text-decoration-color: #008000\">DEBUG   </span> Deprotonating protein. This removes H atoms from the pdb_df dataframe    <a href=\"file:///Users/lavo/Desktop/Projects/CHL-Project/.venv/lib/python3.10/site-packages/graphein/protein/graphs.py\" target=\"_blank\"><span style=\"color: #7f7f7f; text-decoration-color: #7f7f7f\">graphs.py</span></a><span style=\"color: #7f7f7f; text-decoration-color: #7f7f7f\">:</span><a href=\"file:///Users/lavo/Desktop/Projects/CHL-Project/.venv/lib/python3.10/site-packages/graphein/protein/graphs.py#188\" target=\"_blank\"><span style=\"color: #7f7f7f; text-decoration-color: #7f7f7f\">188</span></a>\n",
       "</pre>\n"
      ],
      "text/plain": [
       "\u001b[2;36m                   \u001b[0m\u001b[2;36m \u001b[0m\u001b[32mDEBUG   \u001b[0m Deprotonating protein. This removes H atoms from the pdb_df dataframe    \u001b]8;id=350287;file:///Users/lavo/Desktop/Projects/CHL-Project/.venv/lib/python3.10/site-packages/graphein/protein/graphs.py\u001b\\\u001b[2mgraphs.py\u001b[0m\u001b]8;;\u001b\\\u001b[2m:\u001b[0m\u001b]8;id=524742;file:///Users/lavo/Desktop/Projects/CHL-Project/.venv/lib/python3.10/site-packages/graphein/protein/graphs.py#188\u001b\\\u001b[2m188\u001b[0m\u001b]8;;\u001b\\\n"
      ]
     },
     "metadata": {},
     "output_type": "display_data"
    },
    {
     "data": {
      "text/html": [
       "<pre style=\"white-space:pre;overflow-x:auto;line-height:normal;font-family:Menlo,'DejaVu Sans Mono',consolas,'Courier New',monospace\"><span style=\"color: #7fbfbf; text-decoration-color: #7fbfbf\">                    </span><span style=\"color: #008000; text-decoration-color: #008000\">DEBUG   </span> Detected <span style=\"color: #008080; text-decoration-color: #008080; font-weight: bold\">445</span> total nodes                                                 <a href=\"file:///Users/lavo/Desktop/Projects/CHL-Project/.venv/lib/python3.10/site-packages/graphein/protein/graphs.py\" target=\"_blank\"><span style=\"color: #7f7f7f; text-decoration-color: #7f7f7f\">graphs.py</span></a><span style=\"color: #7f7f7f; text-decoration-color: #7f7f7f\">:</span><a href=\"file:///Users/lavo/Desktop/Projects/CHL-Project/.venv/lib/python3.10/site-packages/graphein/protein/graphs.py#435\" target=\"_blank\"><span style=\"color: #7f7f7f; text-decoration-color: #7f7f7f\">435</span></a>\n",
       "</pre>\n"
      ],
      "text/plain": [
       "\u001b[2;36m                   \u001b[0m\u001b[2;36m \u001b[0m\u001b[32mDEBUG   \u001b[0m Detected \u001b[1;36m445\u001b[0m total nodes                                                 \u001b]8;id=776505;file:///Users/lavo/Desktop/Projects/CHL-Project/.venv/lib/python3.10/site-packages/graphein/protein/graphs.py\u001b\\\u001b[2mgraphs.py\u001b[0m\u001b]8;;\u001b\\\u001b[2m:\u001b[0m\u001b]8;id=820888;file:///Users/lavo/Desktop/Projects/CHL-Project/.venv/lib/python3.10/site-packages/graphein/protein/graphs.py#435\u001b\\\u001b[2m435\u001b[0m\u001b]8;;\u001b\\\n"
      ]
     },
     "metadata": {},
     "output_type": "display_data"
    },
    {
     "data": {
      "text/html": [
       "<pre style=\"white-space:pre;overflow-x:auto;line-height:normal;font-family:Menlo,'DejaVu Sans Mono',consolas,'Courier New',monospace\"></pre>\n"
      ],
      "text/plain": []
     },
     "metadata": {},
     "output_type": "display_data"
    },
    {
     "data": {
      "text/html": [
       "<pre style=\"white-space:pre;overflow-x:auto;line-height:normal;font-family:Menlo,'DejaVu Sans Mono',consolas,'Courier New',monospace\">\n",
       "</pre>\n"
      ],
      "text/plain": [
       "\n"
      ]
     },
     "metadata": {},
     "output_type": "display_data"
    },
    {
     "data": {
      "application/vnd.jupyter.widget-view+json": {
       "model_id": "1c7d41b529094eb4a544c04924aaf288",
       "version_major": 2,
       "version_minor": 0
      },
      "text/plain": [
       "Output()"
      ]
     },
     "metadata": {},
     "output_type": "display_data"
    },
    {
     "data": {
      "text/html": [
       "<pre style=\"white-space:pre;overflow-x:auto;line-height:normal;font-family:Menlo,'DejaVu Sans Mono',consolas,'Courier New',monospace\"><span style=\"color: #7fbfbf; text-decoration-color: #7fbfbf\">                    </span><span style=\"color: #008000; text-decoration-color: #008000\">DEBUG   </span> Deprotonating protein. This removes H atoms from the pdb_df dataframe    <a href=\"file:///Users/lavo/Desktop/Projects/CHL-Project/.venv/lib/python3.10/site-packages/graphein/protein/graphs.py\" target=\"_blank\"><span style=\"color: #7f7f7f; text-decoration-color: #7f7f7f\">graphs.py</span></a><span style=\"color: #7f7f7f; text-decoration-color: #7f7f7f\">:</span><a href=\"file:///Users/lavo/Desktop/Projects/CHL-Project/.venv/lib/python3.10/site-packages/graphein/protein/graphs.py#188\" target=\"_blank\"><span style=\"color: #7f7f7f; text-decoration-color: #7f7f7f\">188</span></a>\n",
       "</pre>\n"
      ],
      "text/plain": [
       "\u001b[2;36m                   \u001b[0m\u001b[2;36m \u001b[0m\u001b[32mDEBUG   \u001b[0m Deprotonating protein. This removes H atoms from the pdb_df dataframe    \u001b]8;id=745881;file:///Users/lavo/Desktop/Projects/CHL-Project/.venv/lib/python3.10/site-packages/graphein/protein/graphs.py\u001b\\\u001b[2mgraphs.py\u001b[0m\u001b]8;;\u001b\\\u001b[2m:\u001b[0m\u001b]8;id=816746;file:///Users/lavo/Desktop/Projects/CHL-Project/.venv/lib/python3.10/site-packages/graphein/protein/graphs.py#188\u001b\\\u001b[2m188\u001b[0m\u001b]8;;\u001b\\\n"
      ]
     },
     "metadata": {},
     "output_type": "display_data"
    },
    {
     "data": {
      "text/html": [
       "<pre style=\"white-space:pre;overflow-x:auto;line-height:normal;font-family:Menlo,'DejaVu Sans Mono',consolas,'Courier New',monospace\"><span style=\"color: #7fbfbf; text-decoration-color: #7fbfbf\">                    </span><span style=\"color: #008000; text-decoration-color: #008000\">DEBUG   </span> Detected <span style=\"color: #008080; text-decoration-color: #008080; font-weight: bold\">445</span> total nodes                                                 <a href=\"file:///Users/lavo/Desktop/Projects/CHL-Project/.venv/lib/python3.10/site-packages/graphein/protein/graphs.py\" target=\"_blank\"><span style=\"color: #7f7f7f; text-decoration-color: #7f7f7f\">graphs.py</span></a><span style=\"color: #7f7f7f; text-decoration-color: #7f7f7f\">:</span><a href=\"file:///Users/lavo/Desktop/Projects/CHL-Project/.venv/lib/python3.10/site-packages/graphein/protein/graphs.py#435\" target=\"_blank\"><span style=\"color: #7f7f7f; text-decoration-color: #7f7f7f\">435</span></a>\n",
       "</pre>\n"
      ],
      "text/plain": [
       "\u001b[2;36m                   \u001b[0m\u001b[2;36m \u001b[0m\u001b[32mDEBUG   \u001b[0m Detected \u001b[1;36m445\u001b[0m total nodes                                                 \u001b]8;id=21605;file:///Users/lavo/Desktop/Projects/CHL-Project/.venv/lib/python3.10/site-packages/graphein/protein/graphs.py\u001b\\\u001b[2mgraphs.py\u001b[0m\u001b]8;;\u001b\\\u001b[2m:\u001b[0m\u001b]8;id=977721;file:///Users/lavo/Desktop/Projects/CHL-Project/.venv/lib/python3.10/site-packages/graphein/protein/graphs.py#435\u001b\\\u001b[2m435\u001b[0m\u001b]8;;\u001b\\\n"
      ]
     },
     "metadata": {},
     "output_type": "display_data"
    },
    {
     "data": {
      "text/html": [
       "<pre style=\"white-space:pre;overflow-x:auto;line-height:normal;font-family:Menlo,'DejaVu Sans Mono',consolas,'Courier New',monospace\"></pre>\n"
      ],
      "text/plain": []
     },
     "metadata": {},
     "output_type": "display_data"
    },
    {
     "data": {
      "text/html": [
       "<pre style=\"white-space:pre;overflow-x:auto;line-height:normal;font-family:Menlo,'DejaVu Sans Mono',consolas,'Courier New',monospace\">\n",
       "</pre>\n"
      ],
      "text/plain": [
       "\n"
      ]
     },
     "metadata": {},
     "output_type": "display_data"
    },
    {
     "data": {
      "application/vnd.jupyter.widget-view+json": {
       "model_id": "ede1de5356f44814829b40b1224bd923",
       "version_major": 2,
       "version_minor": 0
      },
      "text/plain": [
       "Output()"
      ]
     },
     "metadata": {},
     "output_type": "display_data"
    },
    {
     "data": {
      "text/html": [
       "<pre style=\"white-space:pre;overflow-x:auto;line-height:normal;font-family:Menlo,'DejaVu Sans Mono',consolas,'Courier New',monospace\"><span style=\"color: #7fbfbf; text-decoration-color: #7fbfbf\">                    </span><span style=\"color: #008000; text-decoration-color: #008000\">DEBUG   </span> Deprotonating protein. This removes H atoms from the pdb_df dataframe    <a href=\"file:///Users/lavo/Desktop/Projects/CHL-Project/.venv/lib/python3.10/site-packages/graphein/protein/graphs.py\" target=\"_blank\"><span style=\"color: #7f7f7f; text-decoration-color: #7f7f7f\">graphs.py</span></a><span style=\"color: #7f7f7f; text-decoration-color: #7f7f7f\">:</span><a href=\"file:///Users/lavo/Desktop/Projects/CHL-Project/.venv/lib/python3.10/site-packages/graphein/protein/graphs.py#188\" target=\"_blank\"><span style=\"color: #7f7f7f; text-decoration-color: #7f7f7f\">188</span></a>\n",
       "</pre>\n"
      ],
      "text/plain": [
       "\u001b[2;36m                   \u001b[0m\u001b[2;36m \u001b[0m\u001b[32mDEBUG   \u001b[0m Deprotonating protein. This removes H atoms from the pdb_df dataframe    \u001b]8;id=799196;file:///Users/lavo/Desktop/Projects/CHL-Project/.venv/lib/python3.10/site-packages/graphein/protein/graphs.py\u001b\\\u001b[2mgraphs.py\u001b[0m\u001b]8;;\u001b\\\u001b[2m:\u001b[0m\u001b]8;id=371436;file:///Users/lavo/Desktop/Projects/CHL-Project/.venv/lib/python3.10/site-packages/graphein/protein/graphs.py#188\u001b\\\u001b[2m188\u001b[0m\u001b]8;;\u001b\\\n"
      ]
     },
     "metadata": {},
     "output_type": "display_data"
    },
    {
     "data": {
      "text/html": [
       "<pre style=\"white-space:pre;overflow-x:auto;line-height:normal;font-family:Menlo,'DejaVu Sans Mono',consolas,'Courier New',monospace\"><span style=\"color: #7fbfbf; text-decoration-color: #7fbfbf\">                    </span><span style=\"color: #008000; text-decoration-color: #008000\">DEBUG   </span> Detected <span style=\"color: #008080; text-decoration-color: #008080; font-weight: bold\">445</span> total nodes                                                 <a href=\"file:///Users/lavo/Desktop/Projects/CHL-Project/.venv/lib/python3.10/site-packages/graphein/protein/graphs.py\" target=\"_blank\"><span style=\"color: #7f7f7f; text-decoration-color: #7f7f7f\">graphs.py</span></a><span style=\"color: #7f7f7f; text-decoration-color: #7f7f7f\">:</span><a href=\"file:///Users/lavo/Desktop/Projects/CHL-Project/.venv/lib/python3.10/site-packages/graphein/protein/graphs.py#435\" target=\"_blank\"><span style=\"color: #7f7f7f; text-decoration-color: #7f7f7f\">435</span></a>\n",
       "</pre>\n"
      ],
      "text/plain": [
       "\u001b[2;36m                   \u001b[0m\u001b[2;36m \u001b[0m\u001b[32mDEBUG   \u001b[0m Detected \u001b[1;36m445\u001b[0m total nodes                                                 \u001b]8;id=33900;file:///Users/lavo/Desktop/Projects/CHL-Project/.venv/lib/python3.10/site-packages/graphein/protein/graphs.py\u001b\\\u001b[2mgraphs.py\u001b[0m\u001b]8;;\u001b\\\u001b[2m:\u001b[0m\u001b]8;id=675175;file:///Users/lavo/Desktop/Projects/CHL-Project/.venv/lib/python3.10/site-packages/graphein/protein/graphs.py#435\u001b\\\u001b[2m435\u001b[0m\u001b]8;;\u001b\\\n"
      ]
     },
     "metadata": {},
     "output_type": "display_data"
    },
    {
     "name": "stdout",
     "output_type": "stream",
     "text": [
      "G360R\n"
     ]
    },
    {
     "data": {
      "text/html": [
       "<pre style=\"white-space:pre;overflow-x:auto;line-height:normal;font-family:Menlo,'DejaVu Sans Mono',consolas,'Courier New',monospace\"></pre>\n"
      ],
      "text/plain": []
     },
     "metadata": {},
     "output_type": "display_data"
    },
    {
     "data": {
      "text/html": [
       "<pre style=\"white-space:pre;overflow-x:auto;line-height:normal;font-family:Menlo,'DejaVu Sans Mono',consolas,'Courier New',monospace\">\n",
       "</pre>\n"
      ],
      "text/plain": [
       "\n"
      ]
     },
     "metadata": {},
     "output_type": "display_data"
    },
    {
     "data": {
      "application/vnd.jupyter.widget-view+json": {
       "model_id": "b78f48112b8a4535a8df3f32d0687ec6",
       "version_major": 2,
       "version_minor": 0
      },
      "text/plain": [
       "Output()"
      ]
     },
     "metadata": {},
     "output_type": "display_data"
    },
    {
     "data": {
      "text/html": [
       "<pre style=\"white-space:pre;overflow-x:auto;line-height:normal;font-family:Menlo,'DejaVu Sans Mono',consolas,'Courier New',monospace\"><span style=\"color: #7fbfbf; text-decoration-color: #7fbfbf\">[04/29/24 09:45:18] </span><span style=\"color: #008000; text-decoration-color: #008000\">DEBUG   </span> Deprotonating protein. This removes H atoms from the pdb_df dataframe    <a href=\"file:///Users/lavo/Desktop/Projects/CHL-Project/.venv/lib/python3.10/site-packages/graphein/protein/graphs.py\" target=\"_blank\"><span style=\"color: #7f7f7f; text-decoration-color: #7f7f7f\">graphs.py</span></a><span style=\"color: #7f7f7f; text-decoration-color: #7f7f7f\">:</span><a href=\"file:///Users/lavo/Desktop/Projects/CHL-Project/.venv/lib/python3.10/site-packages/graphein/protein/graphs.py#188\" target=\"_blank\"><span style=\"color: #7f7f7f; text-decoration-color: #7f7f7f\">188</span></a>\n",
       "</pre>\n"
      ],
      "text/plain": [
       "\u001b[2;36m[04/29/24 09:45:18]\u001b[0m\u001b[2;36m \u001b[0m\u001b[32mDEBUG   \u001b[0m Deprotonating protein. This removes H atoms from the pdb_df dataframe    \u001b]8;id=355089;file:///Users/lavo/Desktop/Projects/CHL-Project/.venv/lib/python3.10/site-packages/graphein/protein/graphs.py\u001b\\\u001b[2mgraphs.py\u001b[0m\u001b]8;;\u001b\\\u001b[2m:\u001b[0m\u001b]8;id=319114;file:///Users/lavo/Desktop/Projects/CHL-Project/.venv/lib/python3.10/site-packages/graphein/protein/graphs.py#188\u001b\\\u001b[2m188\u001b[0m\u001b]8;;\u001b\\\n"
      ]
     },
     "metadata": {},
     "output_type": "display_data"
    },
    {
     "data": {
      "text/html": [
       "<pre style=\"white-space:pre;overflow-x:auto;line-height:normal;font-family:Menlo,'DejaVu Sans Mono',consolas,'Courier New',monospace\"><span style=\"color: #7fbfbf; text-decoration-color: #7fbfbf\">                    </span><span style=\"color: #008000; text-decoration-color: #008000\">DEBUG   </span> Detected <span style=\"color: #008080; text-decoration-color: #008080; font-weight: bold\">445</span> total nodes                                                 <a href=\"file:///Users/lavo/Desktop/Projects/CHL-Project/.venv/lib/python3.10/site-packages/graphein/protein/graphs.py\" target=\"_blank\"><span style=\"color: #7f7f7f; text-decoration-color: #7f7f7f\">graphs.py</span></a><span style=\"color: #7f7f7f; text-decoration-color: #7f7f7f\">:</span><a href=\"file:///Users/lavo/Desktop/Projects/CHL-Project/.venv/lib/python3.10/site-packages/graphein/protein/graphs.py#435\" target=\"_blank\"><span style=\"color: #7f7f7f; text-decoration-color: #7f7f7f\">435</span></a>\n",
       "</pre>\n"
      ],
      "text/plain": [
       "\u001b[2;36m                   \u001b[0m\u001b[2;36m \u001b[0m\u001b[32mDEBUG   \u001b[0m Detected \u001b[1;36m445\u001b[0m total nodes                                                 \u001b]8;id=525189;file:///Users/lavo/Desktop/Projects/CHL-Project/.venv/lib/python3.10/site-packages/graphein/protein/graphs.py\u001b\\\u001b[2mgraphs.py\u001b[0m\u001b]8;;\u001b\\\u001b[2m:\u001b[0m\u001b]8;id=48615;file:///Users/lavo/Desktop/Projects/CHL-Project/.venv/lib/python3.10/site-packages/graphein/protein/graphs.py#435\u001b\\\u001b[2m435\u001b[0m\u001b]8;;\u001b\\\n"
      ]
     },
     "metadata": {},
     "output_type": "display_data"
    },
    {
     "data": {
      "text/html": [
       "<pre style=\"white-space:pre;overflow-x:auto;line-height:normal;font-family:Menlo,'DejaVu Sans Mono',consolas,'Courier New',monospace\"></pre>\n"
      ],
      "text/plain": []
     },
     "metadata": {},
     "output_type": "display_data"
    },
    {
     "data": {
      "text/html": [
       "<pre style=\"white-space:pre;overflow-x:auto;line-height:normal;font-family:Menlo,'DejaVu Sans Mono',consolas,'Courier New',monospace\">\n",
       "</pre>\n"
      ],
      "text/plain": [
       "\n"
      ]
     },
     "metadata": {},
     "output_type": "display_data"
    },
    {
     "data": {
      "application/vnd.jupyter.widget-view+json": {
       "model_id": "ce86d1e4ca36410ca51daa848c7cb983",
       "version_major": 2,
       "version_minor": 0
      },
      "text/plain": [
       "Output()"
      ]
     },
     "metadata": {},
     "output_type": "display_data"
    },
    {
     "data": {
      "text/html": [
       "<pre style=\"white-space:pre;overflow-x:auto;line-height:normal;font-family:Menlo,'DejaVu Sans Mono',consolas,'Courier New',monospace\"><span style=\"color: #7fbfbf; text-decoration-color: #7fbfbf\">                    </span><span style=\"color: #008000; text-decoration-color: #008000\">DEBUG   </span> Deprotonating protein. This removes H atoms from the pdb_df dataframe    <a href=\"file:///Users/lavo/Desktop/Projects/CHL-Project/.venv/lib/python3.10/site-packages/graphein/protein/graphs.py\" target=\"_blank\"><span style=\"color: #7f7f7f; text-decoration-color: #7f7f7f\">graphs.py</span></a><span style=\"color: #7f7f7f; text-decoration-color: #7f7f7f\">:</span><a href=\"file:///Users/lavo/Desktop/Projects/CHL-Project/.venv/lib/python3.10/site-packages/graphein/protein/graphs.py#188\" target=\"_blank\"><span style=\"color: #7f7f7f; text-decoration-color: #7f7f7f\">188</span></a>\n",
       "</pre>\n"
      ],
      "text/plain": [
       "\u001b[2;36m                   \u001b[0m\u001b[2;36m \u001b[0m\u001b[32mDEBUG   \u001b[0m Deprotonating protein. This removes H atoms from the pdb_df dataframe    \u001b]8;id=684797;file:///Users/lavo/Desktop/Projects/CHL-Project/.venv/lib/python3.10/site-packages/graphein/protein/graphs.py\u001b\\\u001b[2mgraphs.py\u001b[0m\u001b]8;;\u001b\\\u001b[2m:\u001b[0m\u001b]8;id=244261;file:///Users/lavo/Desktop/Projects/CHL-Project/.venv/lib/python3.10/site-packages/graphein/protein/graphs.py#188\u001b\\\u001b[2m188\u001b[0m\u001b]8;;\u001b\\\n"
      ]
     },
     "metadata": {},
     "output_type": "display_data"
    },
    {
     "data": {
      "text/html": [
       "<pre style=\"white-space:pre;overflow-x:auto;line-height:normal;font-family:Menlo,'DejaVu Sans Mono',consolas,'Courier New',monospace\"><span style=\"color: #7fbfbf; text-decoration-color: #7fbfbf\">                    </span><span style=\"color: #008000; text-decoration-color: #008000\">DEBUG   </span> Detected <span style=\"color: #008080; text-decoration-color: #008080; font-weight: bold\">445</span> total nodes                                                 <a href=\"file:///Users/lavo/Desktop/Projects/CHL-Project/.venv/lib/python3.10/site-packages/graphein/protein/graphs.py\" target=\"_blank\"><span style=\"color: #7f7f7f; text-decoration-color: #7f7f7f\">graphs.py</span></a><span style=\"color: #7f7f7f; text-decoration-color: #7f7f7f\">:</span><a href=\"file:///Users/lavo/Desktop/Projects/CHL-Project/.venv/lib/python3.10/site-packages/graphein/protein/graphs.py#435\" target=\"_blank\"><span style=\"color: #7f7f7f; text-decoration-color: #7f7f7f\">435</span></a>\n",
       "</pre>\n"
      ],
      "text/plain": [
       "\u001b[2;36m                   \u001b[0m\u001b[2;36m \u001b[0m\u001b[32mDEBUG   \u001b[0m Detected \u001b[1;36m445\u001b[0m total nodes                                                 \u001b]8;id=187869;file:///Users/lavo/Desktop/Projects/CHL-Project/.venv/lib/python3.10/site-packages/graphein/protein/graphs.py\u001b\\\u001b[2mgraphs.py\u001b[0m\u001b]8;;\u001b\\\u001b[2m:\u001b[0m\u001b]8;id=100051;file:///Users/lavo/Desktop/Projects/CHL-Project/.venv/lib/python3.10/site-packages/graphein/protein/graphs.py#435\u001b\\\u001b[2m435\u001b[0m\u001b]8;;\u001b\\\n"
      ]
     },
     "metadata": {},
     "output_type": "display_data"
    },
    {
     "name": "stdout",
     "output_type": "stream",
     "text": [
      "G251D\n"
     ]
    },
    {
     "data": {
      "text/html": [
       "<pre style=\"white-space:pre;overflow-x:auto;line-height:normal;font-family:Menlo,'DejaVu Sans Mono',consolas,'Courier New',monospace\"></pre>\n"
      ],
      "text/plain": []
     },
     "metadata": {},
     "output_type": "display_data"
    },
    {
     "data": {
      "text/html": [
       "<pre style=\"white-space:pre;overflow-x:auto;line-height:normal;font-family:Menlo,'DejaVu Sans Mono',consolas,'Courier New',monospace\">\n",
       "</pre>\n"
      ],
      "text/plain": [
       "\n"
      ]
     },
     "metadata": {},
     "output_type": "display_data"
    },
    {
     "data": {
      "application/vnd.jupyter.widget-view+json": {
       "model_id": "37d8c75842c443318279575f3436e278",
       "version_major": 2,
       "version_minor": 0
      },
      "text/plain": [
       "Output()"
      ]
     },
     "metadata": {},
     "output_type": "display_data"
    },
    {
     "name": "stdout",
     "output_type": "stream",
     "text": [
      "L116P\n"
     ]
    },
    {
     "data": {
      "text/html": [
       "<pre style=\"white-space:pre;overflow-x:auto;line-height:normal;font-family:Menlo,'DejaVu Sans Mono',consolas,'Courier New',monospace\"><span style=\"color: #7fbfbf; text-decoration-color: #7fbfbf\">                    </span><span style=\"color: #008000; text-decoration-color: #008000\">DEBUG   </span> Deprotonating protein. This removes H atoms from the pdb_df dataframe    <a href=\"file:///Users/lavo/Desktop/Projects/CHL-Project/.venv/lib/python3.10/site-packages/graphein/protein/graphs.py\" target=\"_blank\"><span style=\"color: #7f7f7f; text-decoration-color: #7f7f7f\">graphs.py</span></a><span style=\"color: #7f7f7f; text-decoration-color: #7f7f7f\">:</span><a href=\"file:///Users/lavo/Desktop/Projects/CHL-Project/.venv/lib/python3.10/site-packages/graphein/protein/graphs.py#188\" target=\"_blank\"><span style=\"color: #7f7f7f; text-decoration-color: #7f7f7f\">188</span></a>\n",
       "</pre>\n"
      ],
      "text/plain": [
       "\u001b[2;36m                   \u001b[0m\u001b[2;36m \u001b[0m\u001b[32mDEBUG   \u001b[0m Deprotonating protein. This removes H atoms from the pdb_df dataframe    \u001b]8;id=90469;file:///Users/lavo/Desktop/Projects/CHL-Project/.venv/lib/python3.10/site-packages/graphein/protein/graphs.py\u001b\\\u001b[2mgraphs.py\u001b[0m\u001b]8;;\u001b\\\u001b[2m:\u001b[0m\u001b]8;id=722459;file:///Users/lavo/Desktop/Projects/CHL-Project/.venv/lib/python3.10/site-packages/graphein/protein/graphs.py#188\u001b\\\u001b[2m188\u001b[0m\u001b]8;;\u001b\\\n"
      ]
     },
     "metadata": {},
     "output_type": "display_data"
    },
    {
     "data": {
      "text/html": [
       "<pre style=\"white-space:pre;overflow-x:auto;line-height:normal;font-family:Menlo,'DejaVu Sans Mono',consolas,'Courier New',monospace\"><span style=\"color: #7fbfbf; text-decoration-color: #7fbfbf\">                    </span><span style=\"color: #008000; text-decoration-color: #008000\">DEBUG   </span> Detected <span style=\"color: #008080; text-decoration-color: #008080; font-weight: bold\">445</span> total nodes                                                 <a href=\"file:///Users/lavo/Desktop/Projects/CHL-Project/.venv/lib/python3.10/site-packages/graphein/protein/graphs.py\" target=\"_blank\"><span style=\"color: #7f7f7f; text-decoration-color: #7f7f7f\">graphs.py</span></a><span style=\"color: #7f7f7f; text-decoration-color: #7f7f7f\">:</span><a href=\"file:///Users/lavo/Desktop/Projects/CHL-Project/.venv/lib/python3.10/site-packages/graphein/protein/graphs.py#435\" target=\"_blank\"><span style=\"color: #7f7f7f; text-decoration-color: #7f7f7f\">435</span></a>\n",
       "</pre>\n"
      ],
      "text/plain": [
       "\u001b[2;36m                   \u001b[0m\u001b[2;36m \u001b[0m\u001b[32mDEBUG   \u001b[0m Detected \u001b[1;36m445\u001b[0m total nodes                                                 \u001b]8;id=276440;file:///Users/lavo/Desktop/Projects/CHL-Project/.venv/lib/python3.10/site-packages/graphein/protein/graphs.py\u001b\\\u001b[2mgraphs.py\u001b[0m\u001b]8;;\u001b\\\u001b[2m:\u001b[0m\u001b]8;id=482277;file:///Users/lavo/Desktop/Projects/CHL-Project/.venv/lib/python3.10/site-packages/graphein/protein/graphs.py#435\u001b\\\u001b[2m435\u001b[0m\u001b]8;;\u001b\\\n"
      ]
     },
     "metadata": {},
     "output_type": "display_data"
    },
    {
     "data": {
      "text/html": [
       "<pre style=\"white-space:pre;overflow-x:auto;line-height:normal;font-family:Menlo,'DejaVu Sans Mono',consolas,'Courier New',monospace\"></pre>\n"
      ],
      "text/plain": []
     },
     "metadata": {},
     "output_type": "display_data"
    },
    {
     "data": {
      "text/html": [
       "<pre style=\"white-space:pre;overflow-x:auto;line-height:normal;font-family:Menlo,'DejaVu Sans Mono',consolas,'Courier New',monospace\">\n",
       "</pre>\n"
      ],
      "text/plain": [
       "\n"
      ]
     },
     "metadata": {},
     "output_type": "display_data"
    },
    {
     "data": {
      "application/vnd.jupyter.widget-view+json": {
       "model_id": "6668eb496eb34a81b28ad776ff8f3ae1",
       "version_major": 2,
       "version_minor": 0
      },
      "text/plain": [
       "Output()"
      ]
     },
     "metadata": {},
     "output_type": "display_data"
    },
    {
     "name": "stdout",
     "output_type": "stream",
     "text": [
      "T167I\n"
     ]
    },
    {
     "data": {
      "text/html": [
       "<pre style=\"white-space:pre;overflow-x:auto;line-height:normal;font-family:Menlo,'DejaVu Sans Mono',consolas,'Courier New',monospace\"><span style=\"color: #7fbfbf; text-decoration-color: #7fbfbf\">                    </span><span style=\"color: #008000; text-decoration-color: #008000\">DEBUG   </span> Deprotonating protein. This removes H atoms from the pdb_df dataframe    <a href=\"file:///Users/lavo/Desktop/Projects/CHL-Project/.venv/lib/python3.10/site-packages/graphein/protein/graphs.py\" target=\"_blank\"><span style=\"color: #7f7f7f; text-decoration-color: #7f7f7f\">graphs.py</span></a><span style=\"color: #7f7f7f; text-decoration-color: #7f7f7f\">:</span><a href=\"file:///Users/lavo/Desktop/Projects/CHL-Project/.venv/lib/python3.10/site-packages/graphein/protein/graphs.py#188\" target=\"_blank\"><span style=\"color: #7f7f7f; text-decoration-color: #7f7f7f\">188</span></a>\n",
       "</pre>\n"
      ],
      "text/plain": [
       "\u001b[2;36m                   \u001b[0m\u001b[2;36m \u001b[0m\u001b[32mDEBUG   \u001b[0m Deprotonating protein. This removes H atoms from the pdb_df dataframe    \u001b]8;id=43057;file:///Users/lavo/Desktop/Projects/CHL-Project/.venv/lib/python3.10/site-packages/graphein/protein/graphs.py\u001b\\\u001b[2mgraphs.py\u001b[0m\u001b]8;;\u001b\\\u001b[2m:\u001b[0m\u001b]8;id=566820;file:///Users/lavo/Desktop/Projects/CHL-Project/.venv/lib/python3.10/site-packages/graphein/protein/graphs.py#188\u001b\\\u001b[2m188\u001b[0m\u001b]8;;\u001b\\\n"
      ]
     },
     "metadata": {},
     "output_type": "display_data"
    },
    {
     "data": {
      "text/html": [
       "<pre style=\"white-space:pre;overflow-x:auto;line-height:normal;font-family:Menlo,'DejaVu Sans Mono',consolas,'Courier New',monospace\"><span style=\"color: #7fbfbf; text-decoration-color: #7fbfbf\">                    </span><span style=\"color: #008000; text-decoration-color: #008000\">DEBUG   </span> Detected <span style=\"color: #008080; text-decoration-color: #008080; font-weight: bold\">445</span> total nodes                                                 <a href=\"file:///Users/lavo/Desktop/Projects/CHL-Project/.venv/lib/python3.10/site-packages/graphein/protein/graphs.py\" target=\"_blank\"><span style=\"color: #7f7f7f; text-decoration-color: #7f7f7f\">graphs.py</span></a><span style=\"color: #7f7f7f; text-decoration-color: #7f7f7f\">:</span><a href=\"file:///Users/lavo/Desktop/Projects/CHL-Project/.venv/lib/python3.10/site-packages/graphein/protein/graphs.py#435\" target=\"_blank\"><span style=\"color: #7f7f7f; text-decoration-color: #7f7f7f\">435</span></a>\n",
       "</pre>\n"
      ],
      "text/plain": [
       "\u001b[2;36m                   \u001b[0m\u001b[2;36m \u001b[0m\u001b[32mDEBUG   \u001b[0m Detected \u001b[1;36m445\u001b[0m total nodes                                                 \u001b]8;id=269375;file:///Users/lavo/Desktop/Projects/CHL-Project/.venv/lib/python3.10/site-packages/graphein/protein/graphs.py\u001b\\\u001b[2mgraphs.py\u001b[0m\u001b]8;;\u001b\\\u001b[2m:\u001b[0m\u001b]8;id=680352;file:///Users/lavo/Desktop/Projects/CHL-Project/.venv/lib/python3.10/site-packages/graphein/protein/graphs.py#435\u001b\\\u001b[2m435\u001b[0m\u001b]8;;\u001b\\\n"
      ]
     },
     "metadata": {},
     "output_type": "display_data"
    },
    {
     "data": {
      "text/html": [
       "<pre style=\"white-space:pre;overflow-x:auto;line-height:normal;font-family:Menlo,'DejaVu Sans Mono',consolas,'Courier New',monospace\"></pre>\n"
      ],
      "text/plain": []
     },
     "metadata": {},
     "output_type": "display_data"
    },
    {
     "data": {
      "text/html": [
       "<pre style=\"white-space:pre;overflow-x:auto;line-height:normal;font-family:Menlo,'DejaVu Sans Mono',consolas,'Courier New',monospace\">\n",
       "</pre>\n"
      ],
      "text/plain": [
       "\n"
      ]
     },
     "metadata": {},
     "output_type": "display_data"
    },
    {
     "data": {
      "application/vnd.jupyter.widget-view+json": {
       "model_id": "118cf2d5bc6b4382a2fcb449cce3f3dd",
       "version_major": 2,
       "version_minor": 0
      },
      "text/plain": [
       "Output()"
      ]
     },
     "metadata": {},
     "output_type": "display_data"
    },
    {
     "name": "stdout",
     "output_type": "stream",
     "text": [
      "F227S\n"
     ]
    },
    {
     "data": {
      "text/html": [
       "<pre style=\"white-space:pre;overflow-x:auto;line-height:normal;font-family:Menlo,'DejaVu Sans Mono',consolas,'Courier New',monospace\"><span style=\"color: #7fbfbf; text-decoration-color: #7fbfbf\">                    </span><span style=\"color: #008000; text-decoration-color: #008000\">DEBUG   </span> Deprotonating protein. This removes H atoms from the pdb_df dataframe    <a href=\"file:///Users/lavo/Desktop/Projects/CHL-Project/.venv/lib/python3.10/site-packages/graphein/protein/graphs.py\" target=\"_blank\"><span style=\"color: #7f7f7f; text-decoration-color: #7f7f7f\">graphs.py</span></a><span style=\"color: #7f7f7f; text-decoration-color: #7f7f7f\">:</span><a href=\"file:///Users/lavo/Desktop/Projects/CHL-Project/.venv/lib/python3.10/site-packages/graphein/protein/graphs.py#188\" target=\"_blank\"><span style=\"color: #7f7f7f; text-decoration-color: #7f7f7f\">188</span></a>\n",
       "</pre>\n"
      ],
      "text/plain": [
       "\u001b[2;36m                   \u001b[0m\u001b[2;36m \u001b[0m\u001b[32mDEBUG   \u001b[0m Deprotonating protein. This removes H atoms from the pdb_df dataframe    \u001b]8;id=471399;file:///Users/lavo/Desktop/Projects/CHL-Project/.venv/lib/python3.10/site-packages/graphein/protein/graphs.py\u001b\\\u001b[2mgraphs.py\u001b[0m\u001b]8;;\u001b\\\u001b[2m:\u001b[0m\u001b]8;id=711053;file:///Users/lavo/Desktop/Projects/CHL-Project/.venv/lib/python3.10/site-packages/graphein/protein/graphs.py#188\u001b\\\u001b[2m188\u001b[0m\u001b]8;;\u001b\\\n"
      ]
     },
     "metadata": {},
     "output_type": "display_data"
    },
    {
     "data": {
      "text/html": [
       "<pre style=\"white-space:pre;overflow-x:auto;line-height:normal;font-family:Menlo,'DejaVu Sans Mono',consolas,'Courier New',monospace\"><span style=\"color: #7fbfbf; text-decoration-color: #7fbfbf\">                    </span><span style=\"color: #008000; text-decoration-color: #008000\">DEBUG   </span> Detected <span style=\"color: #008080; text-decoration-color: #008080; font-weight: bold\">445</span> total nodes                                                 <a href=\"file:///Users/lavo/Desktop/Projects/CHL-Project/.venv/lib/python3.10/site-packages/graphein/protein/graphs.py\" target=\"_blank\"><span style=\"color: #7f7f7f; text-decoration-color: #7f7f7f\">graphs.py</span></a><span style=\"color: #7f7f7f; text-decoration-color: #7f7f7f\">:</span><a href=\"file:///Users/lavo/Desktop/Projects/CHL-Project/.venv/lib/python3.10/site-packages/graphein/protein/graphs.py#435\" target=\"_blank\"><span style=\"color: #7f7f7f; text-decoration-color: #7f7f7f\">435</span></a>\n",
       "</pre>\n"
      ],
      "text/plain": [
       "\u001b[2;36m                   \u001b[0m\u001b[2;36m \u001b[0m\u001b[32mDEBUG   \u001b[0m Detected \u001b[1;36m445\u001b[0m total nodes                                                 \u001b]8;id=385572;file:///Users/lavo/Desktop/Projects/CHL-Project/.venv/lib/python3.10/site-packages/graphein/protein/graphs.py\u001b\\\u001b[2mgraphs.py\u001b[0m\u001b]8;;\u001b\\\u001b[2m:\u001b[0m\u001b]8;id=56292;file:///Users/lavo/Desktop/Projects/CHL-Project/.venv/lib/python3.10/site-packages/graphein/protein/graphs.py#435\u001b\\\u001b[2m435\u001b[0m\u001b]8;;\u001b\\\n"
      ]
     },
     "metadata": {},
     "output_type": "display_data"
    },
    {
     "data": {
      "text/html": [
       "<pre style=\"white-space:pre;overflow-x:auto;line-height:normal;font-family:Menlo,'DejaVu Sans Mono',consolas,'Courier New',monospace\"></pre>\n"
      ],
      "text/plain": []
     },
     "metadata": {},
     "output_type": "display_data"
    },
    {
     "data": {
      "text/html": [
       "<pre style=\"white-space:pre;overflow-x:auto;line-height:normal;font-family:Menlo,'DejaVu Sans Mono',consolas,'Courier New',monospace\">\n",
       "</pre>\n"
      ],
      "text/plain": [
       "\n"
      ]
     },
     "metadata": {},
     "output_type": "display_data"
    },
    {
     "data": {
      "application/vnd.jupyter.widget-view+json": {
       "model_id": "3f805fbd4dc9404c9192fa72c5ab7894",
       "version_major": 2,
       "version_minor": 0
      },
      "text/plain": [
       "Output()"
      ]
     },
     "metadata": {},
     "output_type": "display_data"
    },
    {
     "data": {
      "text/html": [
       "<pre style=\"white-space:pre;overflow-x:auto;line-height:normal;font-family:Menlo,'DejaVu Sans Mono',consolas,'Courier New',monospace\"><span style=\"color: #7fbfbf; text-decoration-color: #7fbfbf\">                    </span><span style=\"color: #008000; text-decoration-color: #008000\">DEBUG   </span> Deprotonating protein. This removes H atoms from the pdb_df dataframe    <a href=\"file:///Users/lavo/Desktop/Projects/CHL-Project/.venv/lib/python3.10/site-packages/graphein/protein/graphs.py\" target=\"_blank\"><span style=\"color: #7f7f7f; text-decoration-color: #7f7f7f\">graphs.py</span></a><span style=\"color: #7f7f7f; text-decoration-color: #7f7f7f\">:</span><a href=\"file:///Users/lavo/Desktop/Projects/CHL-Project/.venv/lib/python3.10/site-packages/graphein/protein/graphs.py#188\" target=\"_blank\"><span style=\"color: #7f7f7f; text-decoration-color: #7f7f7f\">188</span></a>\n",
       "</pre>\n"
      ],
      "text/plain": [
       "\u001b[2;36m                   \u001b[0m\u001b[2;36m \u001b[0m\u001b[32mDEBUG   \u001b[0m Deprotonating protein. This removes H atoms from the pdb_df dataframe    \u001b]8;id=820463;file:///Users/lavo/Desktop/Projects/CHL-Project/.venv/lib/python3.10/site-packages/graphein/protein/graphs.py\u001b\\\u001b[2mgraphs.py\u001b[0m\u001b]8;;\u001b\\\u001b[2m:\u001b[0m\u001b]8;id=489033;file:///Users/lavo/Desktop/Projects/CHL-Project/.venv/lib/python3.10/site-packages/graphein/protein/graphs.py#188\u001b\\\u001b[2m188\u001b[0m\u001b]8;;\u001b\\\n"
      ]
     },
     "metadata": {},
     "output_type": "display_data"
    },
    {
     "data": {
      "text/html": [
       "<pre style=\"white-space:pre;overflow-x:auto;line-height:normal;font-family:Menlo,'DejaVu Sans Mono',consolas,'Courier New',monospace\"><span style=\"color: #7fbfbf; text-decoration-color: #7fbfbf\">                    </span><span style=\"color: #008000; text-decoration-color: #008000\">DEBUG   </span> Detected <span style=\"color: #008080; text-decoration-color: #008080; font-weight: bold\">445</span> total nodes                                                 <a href=\"file:///Users/lavo/Desktop/Projects/CHL-Project/.venv/lib/python3.10/site-packages/graphein/protein/graphs.py\" target=\"_blank\"><span style=\"color: #7f7f7f; text-decoration-color: #7f7f7f\">graphs.py</span></a><span style=\"color: #7f7f7f; text-decoration-color: #7f7f7f\">:</span><a href=\"file:///Users/lavo/Desktop/Projects/CHL-Project/.venv/lib/python3.10/site-packages/graphein/protein/graphs.py#435\" target=\"_blank\"><span style=\"color: #7f7f7f; text-decoration-color: #7f7f7f\">435</span></a>\n",
       "</pre>\n"
      ],
      "text/plain": [
       "\u001b[2;36m                   \u001b[0m\u001b[2;36m \u001b[0m\u001b[32mDEBUG   \u001b[0m Detected \u001b[1;36m445\u001b[0m total nodes                                                 \u001b]8;id=369689;file:///Users/lavo/Desktop/Projects/CHL-Project/.venv/lib/python3.10/site-packages/graphein/protein/graphs.py\u001b\\\u001b[2mgraphs.py\u001b[0m\u001b]8;;\u001b\\\u001b[2m:\u001b[0m\u001b]8;id=309949;file:///Users/lavo/Desktop/Projects/CHL-Project/.venv/lib/python3.10/site-packages/graphein/protein/graphs.py#435\u001b\\\u001b[2m435\u001b[0m\u001b]8;;\u001b\\\n"
      ]
     },
     "metadata": {},
     "output_type": "display_data"
    },
    {
     "name": "stdout",
     "output_type": "stream",
     "text": [
      "A122V\n"
     ]
    },
    {
     "data": {
      "text/html": [
       "<pre style=\"white-space:pre;overflow-x:auto;line-height:normal;font-family:Menlo,'DejaVu Sans Mono',consolas,'Courier New',monospace\"></pre>\n"
      ],
      "text/plain": []
     },
     "metadata": {},
     "output_type": "display_data"
    },
    {
     "data": {
      "text/html": [
       "<pre style=\"white-space:pre;overflow-x:auto;line-height:normal;font-family:Menlo,'DejaVu Sans Mono',consolas,'Courier New',monospace\">\n",
       "</pre>\n"
      ],
      "text/plain": [
       "\n"
      ]
     },
     "metadata": {},
     "output_type": "display_data"
    },
    {
     "data": {
      "application/vnd.jupyter.widget-view+json": {
       "model_id": "305acae9d063464e8ff4d6d79423aa2d",
       "version_major": 2,
       "version_minor": 0
      },
      "text/plain": [
       "Output()"
      ]
     },
     "metadata": {},
     "output_type": "display_data"
    },
    {
     "data": {
      "text/html": [
       "<pre style=\"white-space:pre;overflow-x:auto;line-height:normal;font-family:Menlo,'DejaVu Sans Mono',consolas,'Courier New',monospace\"><span style=\"color: #7fbfbf; text-decoration-color: #7fbfbf\">                    </span><span style=\"color: #008000; text-decoration-color: #008000\">DEBUG   </span> Deprotonating protein. This removes H atoms from the pdb_df dataframe    <a href=\"file:///Users/lavo/Desktop/Projects/CHL-Project/.venv/lib/python3.10/site-packages/graphein/protein/graphs.py\" target=\"_blank\"><span style=\"color: #7f7f7f; text-decoration-color: #7f7f7f\">graphs.py</span></a><span style=\"color: #7f7f7f; text-decoration-color: #7f7f7f\">:</span><a href=\"file:///Users/lavo/Desktop/Projects/CHL-Project/.venv/lib/python3.10/site-packages/graphein/protein/graphs.py#188\" target=\"_blank\"><span style=\"color: #7f7f7f; text-decoration-color: #7f7f7f\">188</span></a>\n",
       "</pre>\n"
      ],
      "text/plain": [
       "\u001b[2;36m                   \u001b[0m\u001b[2;36m \u001b[0m\u001b[32mDEBUG   \u001b[0m Deprotonating protein. This removes H atoms from the pdb_df dataframe    \u001b]8;id=215190;file:///Users/lavo/Desktop/Projects/CHL-Project/.venv/lib/python3.10/site-packages/graphein/protein/graphs.py\u001b\\\u001b[2mgraphs.py\u001b[0m\u001b]8;;\u001b\\\u001b[2m:\u001b[0m\u001b]8;id=748675;file:///Users/lavo/Desktop/Projects/CHL-Project/.venv/lib/python3.10/site-packages/graphein/protein/graphs.py#188\u001b\\\u001b[2m188\u001b[0m\u001b]8;;\u001b\\\n"
      ]
     },
     "metadata": {},
     "output_type": "display_data"
    },
    {
     "data": {
      "text/html": [
       "<pre style=\"white-space:pre;overflow-x:auto;line-height:normal;font-family:Menlo,'DejaVu Sans Mono',consolas,'Courier New',monospace\"><span style=\"color: #7fbfbf; text-decoration-color: #7fbfbf\">                    </span><span style=\"color: #008000; text-decoration-color: #008000\">DEBUG   </span> Detected <span style=\"color: #008080; text-decoration-color: #008080; font-weight: bold\">445</span> total nodes                                                 <a href=\"file:///Users/lavo/Desktop/Projects/CHL-Project/.venv/lib/python3.10/site-packages/graphein/protein/graphs.py\" target=\"_blank\"><span style=\"color: #7f7f7f; text-decoration-color: #7f7f7f\">graphs.py</span></a><span style=\"color: #7f7f7f; text-decoration-color: #7f7f7f\">:</span><a href=\"file:///Users/lavo/Desktop/Projects/CHL-Project/.venv/lib/python3.10/site-packages/graphein/protein/graphs.py#435\" target=\"_blank\"><span style=\"color: #7f7f7f; text-decoration-color: #7f7f7f\">435</span></a>\n",
       "</pre>\n"
      ],
      "text/plain": [
       "\u001b[2;36m                   \u001b[0m\u001b[2;36m \u001b[0m\u001b[32mDEBUG   \u001b[0m Detected \u001b[1;36m445\u001b[0m total nodes                                                 \u001b]8;id=442719;file:///Users/lavo/Desktop/Projects/CHL-Project/.venv/lib/python3.10/site-packages/graphein/protein/graphs.py\u001b\\\u001b[2mgraphs.py\u001b[0m\u001b]8;;\u001b\\\u001b[2m:\u001b[0m\u001b]8;id=988762;file:///Users/lavo/Desktop/Projects/CHL-Project/.venv/lib/python3.10/site-packages/graphein/protein/graphs.py#435\u001b\\\u001b[2m435\u001b[0m\u001b]8;;\u001b\\\n"
      ]
     },
     "metadata": {},
     "output_type": "display_data"
    },
    {
     "name": "stdout",
     "output_type": "stream",
     "text": [
      "Y40S\n"
     ]
    },
    {
     "data": {
      "text/html": [
       "<pre style=\"white-space:pre;overflow-x:auto;line-height:normal;font-family:Menlo,'DejaVu Sans Mono',consolas,'Courier New',monospace\"></pre>\n"
      ],
      "text/plain": []
     },
     "metadata": {},
     "output_type": "display_data"
    },
    {
     "data": {
      "text/html": [
       "<pre style=\"white-space:pre;overflow-x:auto;line-height:normal;font-family:Menlo,'DejaVu Sans Mono',consolas,'Courier New',monospace\">\n",
       "</pre>\n"
      ],
      "text/plain": [
       "\n"
      ]
     },
     "metadata": {},
     "output_type": "display_data"
    },
    {
     "data": {
      "application/vnd.jupyter.widget-view+json": {
       "model_id": "221594c93d314707a6ed4c2a22982c90",
       "version_major": 2,
       "version_minor": 0
      },
      "text/plain": [
       "Output()"
      ]
     },
     "metadata": {},
     "output_type": "display_data"
    },
    {
     "name": "stdout",
     "output_type": "stream",
     "text": [
      "G362E\n"
     ]
    },
    {
     "data": {
      "text/html": [
       "<pre style=\"white-space:pre;overflow-x:auto;line-height:normal;font-family:Menlo,'DejaVu Sans Mono',consolas,'Courier New',monospace\"><span style=\"color: #7fbfbf; text-decoration-color: #7fbfbf\">                    </span><span style=\"color: #008000; text-decoration-color: #008000\">DEBUG   </span> Deprotonating protein. This removes H atoms from the pdb_df dataframe    <a href=\"file:///Users/lavo/Desktop/Projects/CHL-Project/.venv/lib/python3.10/site-packages/graphein/protein/graphs.py\" target=\"_blank\"><span style=\"color: #7f7f7f; text-decoration-color: #7f7f7f\">graphs.py</span></a><span style=\"color: #7f7f7f; text-decoration-color: #7f7f7f\">:</span><a href=\"file:///Users/lavo/Desktop/Projects/CHL-Project/.venv/lib/python3.10/site-packages/graphein/protein/graphs.py#188\" target=\"_blank\"><span style=\"color: #7f7f7f; text-decoration-color: #7f7f7f\">188</span></a>\n",
       "</pre>\n"
      ],
      "text/plain": [
       "\u001b[2;36m                   \u001b[0m\u001b[2;36m \u001b[0m\u001b[32mDEBUG   \u001b[0m Deprotonating protein. This removes H atoms from the pdb_df dataframe    \u001b]8;id=791335;file:///Users/lavo/Desktop/Projects/CHL-Project/.venv/lib/python3.10/site-packages/graphein/protein/graphs.py\u001b\\\u001b[2mgraphs.py\u001b[0m\u001b]8;;\u001b\\\u001b[2m:\u001b[0m\u001b]8;id=471068;file:///Users/lavo/Desktop/Projects/CHL-Project/.venv/lib/python3.10/site-packages/graphein/protein/graphs.py#188\u001b\\\u001b[2m188\u001b[0m\u001b]8;;\u001b\\\n"
      ]
     },
     "metadata": {},
     "output_type": "display_data"
    },
    {
     "data": {
      "text/html": [
       "<pre style=\"white-space:pre;overflow-x:auto;line-height:normal;font-family:Menlo,'DejaVu Sans Mono',consolas,'Courier New',monospace\"><span style=\"color: #7fbfbf; text-decoration-color: #7fbfbf\">                    </span><span style=\"color: #008000; text-decoration-color: #008000\">DEBUG   </span> Detected <span style=\"color: #008080; text-decoration-color: #008080; font-weight: bold\">445</span> total nodes                                                 <a href=\"file:///Users/lavo/Desktop/Projects/CHL-Project/.venv/lib/python3.10/site-packages/graphein/protein/graphs.py\" target=\"_blank\"><span style=\"color: #7f7f7f; text-decoration-color: #7f7f7f\">graphs.py</span></a><span style=\"color: #7f7f7f; text-decoration-color: #7f7f7f\">:</span><a href=\"file:///Users/lavo/Desktop/Projects/CHL-Project/.venv/lib/python3.10/site-packages/graphein/protein/graphs.py#435\" target=\"_blank\"><span style=\"color: #7f7f7f; text-decoration-color: #7f7f7f\">435</span></a>\n",
       "</pre>\n"
      ],
      "text/plain": [
       "\u001b[2;36m                   \u001b[0m\u001b[2;36m \u001b[0m\u001b[32mDEBUG   \u001b[0m Detected \u001b[1;36m445\u001b[0m total nodes                                                 \u001b]8;id=431113;file:///Users/lavo/Desktop/Projects/CHL-Project/.venv/lib/python3.10/site-packages/graphein/protein/graphs.py\u001b\\\u001b[2mgraphs.py\u001b[0m\u001b]8;;\u001b\\\u001b[2m:\u001b[0m\u001b]8;id=764628;file:///Users/lavo/Desktop/Projects/CHL-Project/.venv/lib/python3.10/site-packages/graphein/protein/graphs.py#435\u001b\\\u001b[2m435\u001b[0m\u001b]8;;\u001b\\\n"
      ]
     },
     "metadata": {},
     "output_type": "display_data"
    },
    {
     "data": {
      "text/html": [
       "<pre style=\"white-space:pre;overflow-x:auto;line-height:normal;font-family:Menlo,'DejaVu Sans Mono',consolas,'Courier New',monospace\"></pre>\n"
      ],
      "text/plain": []
     },
     "metadata": {},
     "output_type": "display_data"
    },
    {
     "data": {
      "text/html": [
       "<pre style=\"white-space:pre;overflow-x:auto;line-height:normal;font-family:Menlo,'DejaVu Sans Mono',consolas,'Courier New',monospace\">\n",
       "</pre>\n"
      ],
      "text/plain": [
       "\n"
      ]
     },
     "metadata": {},
     "output_type": "display_data"
    },
    {
     "data": {
      "application/vnd.jupyter.widget-view+json": {
       "model_id": "e997d4ae15924fee91bc8991c4229263",
       "version_major": 2,
       "version_minor": 0
      },
      "text/plain": [
       "Output()"
      ]
     },
     "metadata": {},
     "output_type": "display_data"
    },
    {
     "data": {
      "text/html": [
       "<pre style=\"white-space:pre;overflow-x:auto;line-height:normal;font-family:Menlo,'DejaVu Sans Mono',consolas,'Courier New',monospace\"><span style=\"color: #7fbfbf; text-decoration-color: #7fbfbf\">                    </span><span style=\"color: #008000; text-decoration-color: #008000\">DEBUG   </span> Deprotonating protein. This removes H atoms from the pdb_df dataframe    <a href=\"file:///Users/lavo/Desktop/Projects/CHL-Project/.venv/lib/python3.10/site-packages/graphein/protein/graphs.py\" target=\"_blank\"><span style=\"color: #7f7f7f; text-decoration-color: #7f7f7f\">graphs.py</span></a><span style=\"color: #7f7f7f; text-decoration-color: #7f7f7f\">:</span><a href=\"file:///Users/lavo/Desktop/Projects/CHL-Project/.venv/lib/python3.10/site-packages/graphein/protein/graphs.py#188\" target=\"_blank\"><span style=\"color: #7f7f7f; text-decoration-color: #7f7f7f\">188</span></a>\n",
       "</pre>\n"
      ],
      "text/plain": [
       "\u001b[2;36m                   \u001b[0m\u001b[2;36m \u001b[0m\u001b[32mDEBUG   \u001b[0m Deprotonating protein. This removes H atoms from the pdb_df dataframe    \u001b]8;id=35263;file:///Users/lavo/Desktop/Projects/CHL-Project/.venv/lib/python3.10/site-packages/graphein/protein/graphs.py\u001b\\\u001b[2mgraphs.py\u001b[0m\u001b]8;;\u001b\\\u001b[2m:\u001b[0m\u001b]8;id=545235;file:///Users/lavo/Desktop/Projects/CHL-Project/.venv/lib/python3.10/site-packages/graphein/protein/graphs.py#188\u001b\\\u001b[2m188\u001b[0m\u001b]8;;\u001b\\\n"
      ]
     },
     "metadata": {},
     "output_type": "display_data"
    },
    {
     "data": {
      "text/html": [
       "<pre style=\"white-space:pre;overflow-x:auto;line-height:normal;font-family:Menlo,'DejaVu Sans Mono',consolas,'Courier New',monospace\"><span style=\"color: #7fbfbf; text-decoration-color: #7fbfbf\">                    </span><span style=\"color: #008000; text-decoration-color: #008000\">DEBUG   </span> Detected <span style=\"color: #008080; text-decoration-color: #008080; font-weight: bold\">445</span> total nodes                                                 <a href=\"file:///Users/lavo/Desktop/Projects/CHL-Project/.venv/lib/python3.10/site-packages/graphein/protein/graphs.py\" target=\"_blank\"><span style=\"color: #7f7f7f; text-decoration-color: #7f7f7f\">graphs.py</span></a><span style=\"color: #7f7f7f; text-decoration-color: #7f7f7f\">:</span><a href=\"file:///Users/lavo/Desktop/Projects/CHL-Project/.venv/lib/python3.10/site-packages/graphein/protein/graphs.py#435\" target=\"_blank\"><span style=\"color: #7f7f7f; text-decoration-color: #7f7f7f\">435</span></a>\n",
       "</pre>\n"
      ],
      "text/plain": [
       "\u001b[2;36m                   \u001b[0m\u001b[2;36m \u001b[0m\u001b[32mDEBUG   \u001b[0m Detected \u001b[1;36m445\u001b[0m total nodes                                                 \u001b]8;id=88621;file:///Users/lavo/Desktop/Projects/CHL-Project/.venv/lib/python3.10/site-packages/graphein/protein/graphs.py\u001b\\\u001b[2mgraphs.py\u001b[0m\u001b]8;;\u001b\\\u001b[2m:\u001b[0m\u001b]8;id=137644;file:///Users/lavo/Desktop/Projects/CHL-Project/.venv/lib/python3.10/site-packages/graphein/protein/graphs.py#435\u001b\\\u001b[2m435\u001b[0m\u001b]8;;\u001b\\\n"
      ]
     },
     "metadata": {},
     "output_type": "display_data"
    },
    {
     "name": "stdout",
     "output_type": "stream",
     "text": [
      "E168K\n"
     ]
    },
    {
     "data": {
      "text/html": [
       "<pre style=\"white-space:pre;overflow-x:auto;line-height:normal;font-family:Menlo,'DejaVu Sans Mono',consolas,'Courier New',monospace\"></pre>\n"
      ],
      "text/plain": []
     },
     "metadata": {},
     "output_type": "display_data"
    },
    {
     "data": {
      "text/html": [
       "<pre style=\"white-space:pre;overflow-x:auto;line-height:normal;font-family:Menlo,'DejaVu Sans Mono',consolas,'Courier New',monospace\">\n",
       "</pre>\n"
      ],
      "text/plain": [
       "\n"
      ]
     },
     "metadata": {},
     "output_type": "display_data"
    },
    {
     "data": {
      "application/vnd.jupyter.widget-view+json": {
       "model_id": "e12f72c46f6a43b09329169b8c9d7aa7",
       "version_major": 2,
       "version_minor": 0
      },
      "text/plain": [
       "Output()"
      ]
     },
     "metadata": {},
     "output_type": "display_data"
    },
    {
     "data": {
      "text/html": [
       "<pre style=\"white-space:pre;overflow-x:auto;line-height:normal;font-family:Menlo,'DejaVu Sans Mono',consolas,'Courier New',monospace\"><span style=\"color: #7fbfbf; text-decoration-color: #7fbfbf\">                    </span><span style=\"color: #008000; text-decoration-color: #008000\">DEBUG   </span> Deprotonating protein. This removes H atoms from the pdb_df dataframe    <a href=\"file:///Users/lavo/Desktop/Projects/CHL-Project/.venv/lib/python3.10/site-packages/graphein/protein/graphs.py\" target=\"_blank\"><span style=\"color: #7f7f7f; text-decoration-color: #7f7f7f\">graphs.py</span></a><span style=\"color: #7f7f7f; text-decoration-color: #7f7f7f\">:</span><a href=\"file:///Users/lavo/Desktop/Projects/CHL-Project/.venv/lib/python3.10/site-packages/graphein/protein/graphs.py#188\" target=\"_blank\"><span style=\"color: #7f7f7f; text-decoration-color: #7f7f7f\">188</span></a>\n",
       "</pre>\n"
      ],
      "text/plain": [
       "\u001b[2;36m                   \u001b[0m\u001b[2;36m \u001b[0m\u001b[32mDEBUG   \u001b[0m Deprotonating protein. This removes H atoms from the pdb_df dataframe    \u001b]8;id=72723;file:///Users/lavo/Desktop/Projects/CHL-Project/.venv/lib/python3.10/site-packages/graphein/protein/graphs.py\u001b\\\u001b[2mgraphs.py\u001b[0m\u001b]8;;\u001b\\\u001b[2m:\u001b[0m\u001b]8;id=28218;file:///Users/lavo/Desktop/Projects/CHL-Project/.venv/lib/python3.10/site-packages/graphein/protein/graphs.py#188\u001b\\\u001b[2m188\u001b[0m\u001b]8;;\u001b\\\n"
      ]
     },
     "metadata": {},
     "output_type": "display_data"
    },
    {
     "data": {
      "text/html": [
       "<pre style=\"white-space:pre;overflow-x:auto;line-height:normal;font-family:Menlo,'DejaVu Sans Mono',consolas,'Courier New',monospace\"><span style=\"color: #7fbfbf; text-decoration-color: #7fbfbf\">                    </span><span style=\"color: #008000; text-decoration-color: #008000\">DEBUG   </span> Detected <span style=\"color: #008080; text-decoration-color: #008080; font-weight: bold\">445</span> total nodes                                                 <a href=\"file:///Users/lavo/Desktop/Projects/CHL-Project/.venv/lib/python3.10/site-packages/graphein/protein/graphs.py\" target=\"_blank\"><span style=\"color: #7f7f7f; text-decoration-color: #7f7f7f\">graphs.py</span></a><span style=\"color: #7f7f7f; text-decoration-color: #7f7f7f\">:</span><a href=\"file:///Users/lavo/Desktop/Projects/CHL-Project/.venv/lib/python3.10/site-packages/graphein/protein/graphs.py#435\" target=\"_blank\"><span style=\"color: #7f7f7f; text-decoration-color: #7f7f7f\">435</span></a>\n",
       "</pre>\n"
      ],
      "text/plain": [
       "\u001b[2;36m                   \u001b[0m\u001b[2;36m \u001b[0m\u001b[32mDEBUG   \u001b[0m Detected \u001b[1;36m445\u001b[0m total nodes                                                 \u001b]8;id=692554;file:///Users/lavo/Desktop/Projects/CHL-Project/.venv/lib/python3.10/site-packages/graphein/protein/graphs.py\u001b\\\u001b[2mgraphs.py\u001b[0m\u001b]8;;\u001b\\\u001b[2m:\u001b[0m\u001b]8;id=939147;file:///Users/lavo/Desktop/Projects/CHL-Project/.venv/lib/python3.10/site-packages/graphein/protein/graphs.py#435\u001b\\\u001b[2m435\u001b[0m\u001b]8;;\u001b\\\n"
      ]
     },
     "metadata": {},
     "output_type": "display_data"
    },
    {
     "name": "stdout",
     "output_type": "stream",
     "text": [
      "S150L\n"
     ]
    },
    {
     "data": {
      "text/html": [
       "<pre style=\"white-space:pre;overflow-x:auto;line-height:normal;font-family:Menlo,'DejaVu Sans Mono',consolas,'Courier New',monospace\"></pre>\n"
      ],
      "text/plain": []
     },
     "metadata": {},
     "output_type": "display_data"
    },
    {
     "data": {
      "text/html": [
       "<pre style=\"white-space:pre;overflow-x:auto;line-height:normal;font-family:Menlo,'DejaVu Sans Mono',consolas,'Courier New',monospace\">\n",
       "</pre>\n"
      ],
      "text/plain": [
       "\n"
      ]
     },
     "metadata": {},
     "output_type": "display_data"
    },
    {
     "data": {
      "application/vnd.jupyter.widget-view+json": {
       "model_id": "d457e8d965de4db88663d5fa7e9cabe5",
       "version_major": 2,
       "version_minor": 0
      },
      "text/plain": [
       "Output()"
      ]
     },
     "metadata": {},
     "output_type": "display_data"
    },
    {
     "data": {
      "text/html": [
       "<pre style=\"white-space:pre;overflow-x:auto;line-height:normal;font-family:Menlo,'DejaVu Sans Mono',consolas,'Courier New',monospace\"><span style=\"color: #7fbfbf; text-decoration-color: #7fbfbf\">[04/29/24 09:45:19] </span><span style=\"color: #008000; text-decoration-color: #008000\">DEBUG   </span> Deprotonating protein. This removes H atoms from the pdb_df dataframe    <a href=\"file:///Users/lavo/Desktop/Projects/CHL-Project/.venv/lib/python3.10/site-packages/graphein/protein/graphs.py\" target=\"_blank\"><span style=\"color: #7f7f7f; text-decoration-color: #7f7f7f\">graphs.py</span></a><span style=\"color: #7f7f7f; text-decoration-color: #7f7f7f\">:</span><a href=\"file:///Users/lavo/Desktop/Projects/CHL-Project/.venv/lib/python3.10/site-packages/graphein/protein/graphs.py#188\" target=\"_blank\"><span style=\"color: #7f7f7f; text-decoration-color: #7f7f7f\">188</span></a>\n",
       "</pre>\n"
      ],
      "text/plain": [
       "\u001b[2;36m[04/29/24 09:45:19]\u001b[0m\u001b[2;36m \u001b[0m\u001b[32mDEBUG   \u001b[0m Deprotonating protein. This removes H atoms from the pdb_df dataframe    \u001b]8;id=171487;file:///Users/lavo/Desktop/Projects/CHL-Project/.venv/lib/python3.10/site-packages/graphein/protein/graphs.py\u001b\\\u001b[2mgraphs.py\u001b[0m\u001b]8;;\u001b\\\u001b[2m:\u001b[0m\u001b]8;id=601049;file:///Users/lavo/Desktop/Projects/CHL-Project/.venv/lib/python3.10/site-packages/graphein/protein/graphs.py#188\u001b\\\u001b[2m188\u001b[0m\u001b]8;;\u001b\\\n"
      ]
     },
     "metadata": {},
     "output_type": "display_data"
    },
    {
     "data": {
      "text/html": [
       "<pre style=\"white-space:pre;overflow-x:auto;line-height:normal;font-family:Menlo,'DejaVu Sans Mono',consolas,'Courier New',monospace\"><span style=\"color: #7fbfbf; text-decoration-color: #7fbfbf\">                    </span><span style=\"color: #008000; text-decoration-color: #008000\">DEBUG   </span> Detected <span style=\"color: #008080; text-decoration-color: #008080; font-weight: bold\">445</span> total nodes                                                 <a href=\"file:///Users/lavo/Desktop/Projects/CHL-Project/.venv/lib/python3.10/site-packages/graphein/protein/graphs.py\" target=\"_blank\"><span style=\"color: #7f7f7f; text-decoration-color: #7f7f7f\">graphs.py</span></a><span style=\"color: #7f7f7f; text-decoration-color: #7f7f7f\">:</span><a href=\"file:///Users/lavo/Desktop/Projects/CHL-Project/.venv/lib/python3.10/site-packages/graphein/protein/graphs.py#435\" target=\"_blank\"><span style=\"color: #7f7f7f; text-decoration-color: #7f7f7f\">435</span></a>\n",
       "</pre>\n"
      ],
      "text/plain": [
       "\u001b[2;36m                   \u001b[0m\u001b[2;36m \u001b[0m\u001b[32mDEBUG   \u001b[0m Detected \u001b[1;36m445\u001b[0m total nodes                                                 \u001b]8;id=101109;file:///Users/lavo/Desktop/Projects/CHL-Project/.venv/lib/python3.10/site-packages/graphein/protein/graphs.py\u001b\\\u001b[2mgraphs.py\u001b[0m\u001b]8;;\u001b\\\u001b[2m:\u001b[0m\u001b]8;id=278549;file:///Users/lavo/Desktop/Projects/CHL-Project/.venv/lib/python3.10/site-packages/graphein/protein/graphs.py#435\u001b\\\u001b[2m435\u001b[0m\u001b]8;;\u001b\\\n"
      ]
     },
     "metadata": {},
     "output_type": "display_data"
    },
    {
     "name": "stdout",
     "output_type": "stream",
     "text": [
      "G361R\n"
     ]
    },
    {
     "data": {
      "text/html": [
       "<pre style=\"white-space:pre;overflow-x:auto;line-height:normal;font-family:Menlo,'DejaVu Sans Mono',consolas,'Courier New',monospace\"></pre>\n"
      ],
      "text/plain": []
     },
     "metadata": {},
     "output_type": "display_data"
    },
    {
     "data": {
      "text/html": [
       "<pre style=\"white-space:pre;overflow-x:auto;line-height:normal;font-family:Menlo,'DejaVu Sans Mono',consolas,'Courier New',monospace\">\n",
       "</pre>\n"
      ],
      "text/plain": [
       "\n"
      ]
     },
     "metadata": {},
     "output_type": "display_data"
    },
    {
     "data": {
      "application/vnd.jupyter.widget-view+json": {
       "model_id": "bc023a5971c44ed1b75c07a75ec5dd3b",
       "version_major": 2,
       "version_minor": 0
      },
      "text/plain": [
       "Output()"
      ]
     },
     "metadata": {},
     "output_type": "display_data"
    },
    {
     "name": "stdout",
     "output_type": "stream",
     "text": [
      "G152R\n"
     ]
    },
    {
     "data": {
      "text/html": [
       "<pre style=\"white-space:pre;overflow-x:auto;line-height:normal;font-family:Menlo,'DejaVu Sans Mono',consolas,'Courier New',monospace\"><span style=\"color: #7fbfbf; text-decoration-color: #7fbfbf\">                    </span><span style=\"color: #008000; text-decoration-color: #008000\">DEBUG   </span> Deprotonating protein. This removes H atoms from the pdb_df dataframe    <a href=\"file:///Users/lavo/Desktop/Projects/CHL-Project/.venv/lib/python3.10/site-packages/graphein/protein/graphs.py\" target=\"_blank\"><span style=\"color: #7f7f7f; text-decoration-color: #7f7f7f\">graphs.py</span></a><span style=\"color: #7f7f7f; text-decoration-color: #7f7f7f\">:</span><a href=\"file:///Users/lavo/Desktop/Projects/CHL-Project/.venv/lib/python3.10/site-packages/graphein/protein/graphs.py#188\" target=\"_blank\"><span style=\"color: #7f7f7f; text-decoration-color: #7f7f7f\">188</span></a>\n",
       "</pre>\n"
      ],
      "text/plain": [
       "\u001b[2;36m                   \u001b[0m\u001b[2;36m \u001b[0m\u001b[32mDEBUG   \u001b[0m Deprotonating protein. This removes H atoms from the pdb_df dataframe    \u001b]8;id=143641;file:///Users/lavo/Desktop/Projects/CHL-Project/.venv/lib/python3.10/site-packages/graphein/protein/graphs.py\u001b\\\u001b[2mgraphs.py\u001b[0m\u001b]8;;\u001b\\\u001b[2m:\u001b[0m\u001b]8;id=843645;file:///Users/lavo/Desktop/Projects/CHL-Project/.venv/lib/python3.10/site-packages/graphein/protein/graphs.py#188\u001b\\\u001b[2m188\u001b[0m\u001b]8;;\u001b\\\n"
      ]
     },
     "metadata": {},
     "output_type": "display_data"
    },
    {
     "data": {
      "text/html": [
       "<pre style=\"white-space:pre;overflow-x:auto;line-height:normal;font-family:Menlo,'DejaVu Sans Mono',consolas,'Courier New',monospace\"><span style=\"color: #7fbfbf; text-decoration-color: #7fbfbf\">                    </span><span style=\"color: #008000; text-decoration-color: #008000\">DEBUG   </span> Detected <span style=\"color: #008080; text-decoration-color: #008080; font-weight: bold\">445</span> total nodes                                                 <a href=\"file:///Users/lavo/Desktop/Projects/CHL-Project/.venv/lib/python3.10/site-packages/graphein/protein/graphs.py\" target=\"_blank\"><span style=\"color: #7f7f7f; text-decoration-color: #7f7f7f\">graphs.py</span></a><span style=\"color: #7f7f7f; text-decoration-color: #7f7f7f\">:</span><a href=\"file:///Users/lavo/Desktop/Projects/CHL-Project/.venv/lib/python3.10/site-packages/graphein/protein/graphs.py#435\" target=\"_blank\"><span style=\"color: #7f7f7f; text-decoration-color: #7f7f7f\">435</span></a>\n",
       "</pre>\n"
      ],
      "text/plain": [
       "\u001b[2;36m                   \u001b[0m\u001b[2;36m \u001b[0m\u001b[32mDEBUG   \u001b[0m Detected \u001b[1;36m445\u001b[0m total nodes                                                 \u001b]8;id=710650;file:///Users/lavo/Desktop/Projects/CHL-Project/.venv/lib/python3.10/site-packages/graphein/protein/graphs.py\u001b\\\u001b[2mgraphs.py\u001b[0m\u001b]8;;\u001b\\\u001b[2m:\u001b[0m\u001b]8;id=796857;file:///Users/lavo/Desktop/Projects/CHL-Project/.venv/lib/python3.10/site-packages/graphein/protein/graphs.py#435\u001b\\\u001b[2m435\u001b[0m\u001b]8;;\u001b\\\n"
      ]
     },
     "metadata": {},
     "output_type": "display_data"
    },
    {
     "data": {
      "text/html": [
       "<pre style=\"white-space:pre;overflow-x:auto;line-height:normal;font-family:Menlo,'DejaVu Sans Mono',consolas,'Courier New',monospace\"></pre>\n"
      ],
      "text/plain": []
     },
     "metadata": {},
     "output_type": "display_data"
    },
    {
     "data": {
      "text/html": [
       "<pre style=\"white-space:pre;overflow-x:auto;line-height:normal;font-family:Menlo,'DejaVu Sans Mono',consolas,'Courier New',monospace\">\n",
       "</pre>\n"
      ],
      "text/plain": [
       "\n"
      ]
     },
     "metadata": {},
     "output_type": "display_data"
    },
    {
     "data": {
      "application/vnd.jupyter.widget-view+json": {
       "model_id": "d16cce82e50a42ce931758c8e092b505",
       "version_major": 2,
       "version_minor": 0
      },
      "text/plain": [
       "Output()"
      ]
     },
     "metadata": {},
     "output_type": "display_data"
    },
    {
     "data": {
      "text/html": [
       "<pre style=\"white-space:pre;overflow-x:auto;line-height:normal;font-family:Menlo,'DejaVu Sans Mono',consolas,'Courier New',monospace\"><span style=\"color: #7fbfbf; text-decoration-color: #7fbfbf\">                    </span><span style=\"color: #008000; text-decoration-color: #008000\">DEBUG   </span> Deprotonating protein. This removes H atoms from the pdb_df dataframe    <a href=\"file:///Users/lavo/Desktop/Projects/CHL-Project/.venv/lib/python3.10/site-packages/graphein/protein/graphs.py\" target=\"_blank\"><span style=\"color: #7f7f7f; text-decoration-color: #7f7f7f\">graphs.py</span></a><span style=\"color: #7f7f7f; text-decoration-color: #7f7f7f\">:</span><a href=\"file:///Users/lavo/Desktop/Projects/CHL-Project/.venv/lib/python3.10/site-packages/graphein/protein/graphs.py#188\" target=\"_blank\"><span style=\"color: #7f7f7f; text-decoration-color: #7f7f7f\">188</span></a>\n",
       "</pre>\n"
      ],
      "text/plain": [
       "\u001b[2;36m                   \u001b[0m\u001b[2;36m \u001b[0m\u001b[32mDEBUG   \u001b[0m Deprotonating protein. This removes H atoms from the pdb_df dataframe    \u001b]8;id=624099;file:///Users/lavo/Desktop/Projects/CHL-Project/.venv/lib/python3.10/site-packages/graphein/protein/graphs.py\u001b\\\u001b[2mgraphs.py\u001b[0m\u001b]8;;\u001b\\\u001b[2m:\u001b[0m\u001b]8;id=197278;file:///Users/lavo/Desktop/Projects/CHL-Project/.venv/lib/python3.10/site-packages/graphein/protein/graphs.py#188\u001b\\\u001b[2m188\u001b[0m\u001b]8;;\u001b\\\n"
      ]
     },
     "metadata": {},
     "output_type": "display_data"
    },
    {
     "data": {
      "text/html": [
       "<pre style=\"white-space:pre;overflow-x:auto;line-height:normal;font-family:Menlo,'DejaVu Sans Mono',consolas,'Courier New',monospace\"><span style=\"color: #7fbfbf; text-decoration-color: #7fbfbf\">                    </span><span style=\"color: #008000; text-decoration-color: #008000\">DEBUG   </span> Detected <span style=\"color: #008080; text-decoration-color: #008080; font-weight: bold\">445</span> total nodes                                                 <a href=\"file:///Users/lavo/Desktop/Projects/CHL-Project/.venv/lib/python3.10/site-packages/graphein/protein/graphs.py\" target=\"_blank\"><span style=\"color: #7f7f7f; text-decoration-color: #7f7f7f\">graphs.py</span></a><span style=\"color: #7f7f7f; text-decoration-color: #7f7f7f\">:</span><a href=\"file:///Users/lavo/Desktop/Projects/CHL-Project/.venv/lib/python3.10/site-packages/graphein/protein/graphs.py#435\" target=\"_blank\"><span style=\"color: #7f7f7f; text-decoration-color: #7f7f7f\">435</span></a>\n",
       "</pre>\n"
      ],
      "text/plain": [
       "\u001b[2;36m                   \u001b[0m\u001b[2;36m \u001b[0m\u001b[32mDEBUG   \u001b[0m Detected \u001b[1;36m445\u001b[0m total nodes                                                 \u001b]8;id=329022;file:///Users/lavo/Desktop/Projects/CHL-Project/.venv/lib/python3.10/site-packages/graphein/protein/graphs.py\u001b\\\u001b[2mgraphs.py\u001b[0m\u001b]8;;\u001b\\\u001b[2m:\u001b[0m\u001b]8;id=298720;file:///Users/lavo/Desktop/Projects/CHL-Project/.venv/lib/python3.10/site-packages/graphein/protein/graphs.py#435\u001b\\\u001b[2m435\u001b[0m\u001b]8;;\u001b\\\n"
      ]
     },
     "metadata": {},
     "output_type": "display_data"
    },
    {
     "name": "stdout",
     "output_type": "stream",
     "text": [
      "S47L\n"
     ]
    },
    {
     "data": {
      "text/html": [
       "<pre style=\"white-space:pre;overflow-x:auto;line-height:normal;font-family:Menlo,'DejaVu Sans Mono',consolas,'Courier New',monospace\"></pre>\n"
      ],
      "text/plain": []
     },
     "metadata": {},
     "output_type": "display_data"
    },
    {
     "data": {
      "text/html": [
       "<pre style=\"white-space:pre;overflow-x:auto;line-height:normal;font-family:Menlo,'DejaVu Sans Mono',consolas,'Courier New',monospace\">\n",
       "</pre>\n"
      ],
      "text/plain": [
       "\n"
      ]
     },
     "metadata": {},
     "output_type": "display_data"
    },
    {
     "data": {
      "application/vnd.jupyter.widget-view+json": {
       "model_id": "224d7e36f1d544629db232b4610450ae",
       "version_major": 2,
       "version_minor": 0
      },
      "text/plain": [
       "Output()"
      ]
     },
     "metadata": {},
     "output_type": "display_data"
    },
    {
     "data": {
      "text/html": [
       "<pre style=\"white-space:pre;overflow-x:auto;line-height:normal;font-family:Menlo,'DejaVu Sans Mono',consolas,'Courier New',monospace\"><span style=\"color: #7fbfbf; text-decoration-color: #7fbfbf\">                    </span><span style=\"color: #008000; text-decoration-color: #008000\">DEBUG   </span> Deprotonating protein. This removes H atoms from the pdb_df dataframe    <a href=\"file:///Users/lavo/Desktop/Projects/CHL-Project/.venv/lib/python3.10/site-packages/graphein/protein/graphs.py\" target=\"_blank\"><span style=\"color: #7f7f7f; text-decoration-color: #7f7f7f\">graphs.py</span></a><span style=\"color: #7f7f7f; text-decoration-color: #7f7f7f\">:</span><a href=\"file:///Users/lavo/Desktop/Projects/CHL-Project/.venv/lib/python3.10/site-packages/graphein/protein/graphs.py#188\" target=\"_blank\"><span style=\"color: #7f7f7f; text-decoration-color: #7f7f7f\">188</span></a>\n",
       "</pre>\n"
      ],
      "text/plain": [
       "\u001b[2;36m                   \u001b[0m\u001b[2;36m \u001b[0m\u001b[32mDEBUG   \u001b[0m Deprotonating protein. This removes H atoms from the pdb_df dataframe    \u001b]8;id=437303;file:///Users/lavo/Desktop/Projects/CHL-Project/.venv/lib/python3.10/site-packages/graphein/protein/graphs.py\u001b\\\u001b[2mgraphs.py\u001b[0m\u001b]8;;\u001b\\\u001b[2m:\u001b[0m\u001b]8;id=356567;file:///Users/lavo/Desktop/Projects/CHL-Project/.venv/lib/python3.10/site-packages/graphein/protein/graphs.py#188\u001b\\\u001b[2m188\u001b[0m\u001b]8;;\u001b\\\n"
      ]
     },
     "metadata": {},
     "output_type": "display_data"
    },
    {
     "data": {
      "text/html": [
       "<pre style=\"white-space:pre;overflow-x:auto;line-height:normal;font-family:Menlo,'DejaVu Sans Mono',consolas,'Courier New',monospace\"><span style=\"color: #7fbfbf; text-decoration-color: #7fbfbf\">                    </span><span style=\"color: #008000; text-decoration-color: #008000\">DEBUG   </span> Detected <span style=\"color: #008080; text-decoration-color: #008080; font-weight: bold\">445</span> total nodes                                                 <a href=\"file:///Users/lavo/Desktop/Projects/CHL-Project/.venv/lib/python3.10/site-packages/graphein/protein/graphs.py\" target=\"_blank\"><span style=\"color: #7f7f7f; text-decoration-color: #7f7f7f\">graphs.py</span></a><span style=\"color: #7f7f7f; text-decoration-color: #7f7f7f\">:</span><a href=\"file:///Users/lavo/Desktop/Projects/CHL-Project/.venv/lib/python3.10/site-packages/graphein/protein/graphs.py#435\" target=\"_blank\"><span style=\"color: #7f7f7f; text-decoration-color: #7f7f7f\">435</span></a>\n",
       "</pre>\n"
      ],
      "text/plain": [
       "\u001b[2;36m                   \u001b[0m\u001b[2;36m \u001b[0m\u001b[32mDEBUG   \u001b[0m Detected \u001b[1;36m445\u001b[0m total nodes                                                 \u001b]8;id=836973;file:///Users/lavo/Desktop/Projects/CHL-Project/.venv/lib/python3.10/site-packages/graphein/protein/graphs.py\u001b\\\u001b[2mgraphs.py\u001b[0m\u001b]8;;\u001b\\\u001b[2m:\u001b[0m\u001b]8;id=270971;file:///Users/lavo/Desktop/Projects/CHL-Project/.venv/lib/python3.10/site-packages/graphein/protein/graphs.py#435\u001b\\\u001b[2m435\u001b[0m\u001b]8;;\u001b\\\n"
      ]
     },
     "metadata": {},
     "output_type": "display_data"
    },
    {
     "name": "stdout",
     "output_type": "stream",
     "text": [
      "L44F\n"
     ]
    },
    {
     "data": {
      "text/html": [
       "<pre style=\"white-space:pre;overflow-x:auto;line-height:normal;font-family:Menlo,'DejaVu Sans Mono',consolas,'Courier New',monospace\"></pre>\n"
      ],
      "text/plain": []
     },
     "metadata": {},
     "output_type": "display_data"
    },
    {
     "data": {
      "text/html": [
       "<pre style=\"white-space:pre;overflow-x:auto;line-height:normal;font-family:Menlo,'DejaVu Sans Mono',consolas,'Courier New',monospace\">\n",
       "</pre>\n"
      ],
      "text/plain": [
       "\n"
      ]
     },
     "metadata": {},
     "output_type": "display_data"
    },
    {
     "data": {
      "application/vnd.jupyter.widget-view+json": {
       "model_id": "34806217901d4720a0e159bc37d3c4b4",
       "version_major": 2,
       "version_minor": 0
      },
      "text/plain": [
       "Output()"
      ]
     },
     "metadata": {},
     "output_type": "display_data"
    },
    {
     "name": "stdout",
     "output_type": "stream",
     "text": [
      "I216T\n"
     ]
    },
    {
     "data": {
      "text/html": [
       "<pre style=\"white-space:pre;overflow-x:auto;line-height:normal;font-family:Menlo,'DejaVu Sans Mono',consolas,'Courier New',monospace\"><span style=\"color: #7fbfbf; text-decoration-color: #7fbfbf\">                    </span><span style=\"color: #008000; text-decoration-color: #008000\">DEBUG   </span> Deprotonating protein. This removes H atoms from the pdb_df dataframe    <a href=\"file:///Users/lavo/Desktop/Projects/CHL-Project/.venv/lib/python3.10/site-packages/graphein/protein/graphs.py\" target=\"_blank\"><span style=\"color: #7f7f7f; text-decoration-color: #7f7f7f\">graphs.py</span></a><span style=\"color: #7f7f7f; text-decoration-color: #7f7f7f\">:</span><a href=\"file:///Users/lavo/Desktop/Projects/CHL-Project/.venv/lib/python3.10/site-packages/graphein/protein/graphs.py#188\" target=\"_blank\"><span style=\"color: #7f7f7f; text-decoration-color: #7f7f7f\">188</span></a>\n",
       "</pre>\n"
      ],
      "text/plain": [
       "\u001b[2;36m                   \u001b[0m\u001b[2;36m \u001b[0m\u001b[32mDEBUG   \u001b[0m Deprotonating protein. This removes H atoms from the pdb_df dataframe    \u001b]8;id=382960;file:///Users/lavo/Desktop/Projects/CHL-Project/.venv/lib/python3.10/site-packages/graphein/protein/graphs.py\u001b\\\u001b[2mgraphs.py\u001b[0m\u001b]8;;\u001b\\\u001b[2m:\u001b[0m\u001b]8;id=2760;file:///Users/lavo/Desktop/Projects/CHL-Project/.venv/lib/python3.10/site-packages/graphein/protein/graphs.py#188\u001b\\\u001b[2m188\u001b[0m\u001b]8;;\u001b\\\n"
      ]
     },
     "metadata": {},
     "output_type": "display_data"
    },
    {
     "data": {
      "text/html": [
       "<pre style=\"white-space:pre;overflow-x:auto;line-height:normal;font-family:Menlo,'DejaVu Sans Mono',consolas,'Courier New',monospace\"><span style=\"color: #7fbfbf; text-decoration-color: #7fbfbf\">                    </span><span style=\"color: #008000; text-decoration-color: #008000\">DEBUG   </span> Detected <span style=\"color: #008080; text-decoration-color: #008080; font-weight: bold\">445</span> total nodes                                                 <a href=\"file:///Users/lavo/Desktop/Projects/CHL-Project/.venv/lib/python3.10/site-packages/graphein/protein/graphs.py\" target=\"_blank\"><span style=\"color: #7f7f7f; text-decoration-color: #7f7f7f\">graphs.py</span></a><span style=\"color: #7f7f7f; text-decoration-color: #7f7f7f\">:</span><a href=\"file:///Users/lavo/Desktop/Projects/CHL-Project/.venv/lib/python3.10/site-packages/graphein/protein/graphs.py#435\" target=\"_blank\"><span style=\"color: #7f7f7f; text-decoration-color: #7f7f7f\">435</span></a>\n",
       "</pre>\n"
      ],
      "text/plain": [
       "\u001b[2;36m                   \u001b[0m\u001b[2;36m \u001b[0m\u001b[32mDEBUG   \u001b[0m Detected \u001b[1;36m445\u001b[0m total nodes                                                 \u001b]8;id=47751;file:///Users/lavo/Desktop/Projects/CHL-Project/.venv/lib/python3.10/site-packages/graphein/protein/graphs.py\u001b\\\u001b[2mgraphs.py\u001b[0m\u001b]8;;\u001b\\\u001b[2m:\u001b[0m\u001b]8;id=928632;file:///Users/lavo/Desktop/Projects/CHL-Project/.venv/lib/python3.10/site-packages/graphein/protein/graphs.py#435\u001b\\\u001b[2m435\u001b[0m\u001b]8;;\u001b\\\n"
      ]
     },
     "metadata": {},
     "output_type": "display_data"
    },
    {
     "data": {
      "text/html": [
       "<pre style=\"white-space:pre;overflow-x:auto;line-height:normal;font-family:Menlo,'DejaVu Sans Mono',consolas,'Courier New',monospace\"></pre>\n"
      ],
      "text/plain": []
     },
     "metadata": {},
     "output_type": "display_data"
    },
    {
     "data": {
      "text/html": [
       "<pre style=\"white-space:pre;overflow-x:auto;line-height:normal;font-family:Menlo,'DejaVu Sans Mono',consolas,'Courier New',monospace\">\n",
       "</pre>\n"
      ],
      "text/plain": [
       "\n"
      ]
     },
     "metadata": {},
     "output_type": "display_data"
    },
    {
     "data": {
      "application/vnd.jupyter.widget-view+json": {
       "model_id": "ea0f4cdb79af46228cd7830b270b68a1",
       "version_major": 2,
       "version_minor": 0
      },
      "text/plain": [
       "Output()"
      ]
     },
     "metadata": {},
     "output_type": "display_data"
    },
    {
     "name": "stdout",
     "output_type": "stream",
     "text": [
      "E401Q\n"
     ]
    },
    {
     "data": {
      "text/html": [
       "<pre style=\"white-space:pre;overflow-x:auto;line-height:normal;font-family:Menlo,'DejaVu Sans Mono',consolas,'Courier New',monospace\"><span style=\"color: #7fbfbf; text-decoration-color: #7fbfbf\">                    </span><span style=\"color: #008000; text-decoration-color: #008000\">DEBUG   </span> Deprotonating protein. This removes H atoms from the pdb_df dataframe    <a href=\"file:///Users/lavo/Desktop/Projects/CHL-Project/.venv/lib/python3.10/site-packages/graphein/protein/graphs.py\" target=\"_blank\"><span style=\"color: #7f7f7f; text-decoration-color: #7f7f7f\">graphs.py</span></a><span style=\"color: #7f7f7f; text-decoration-color: #7f7f7f\">:</span><a href=\"file:///Users/lavo/Desktop/Projects/CHL-Project/.venv/lib/python3.10/site-packages/graphein/protein/graphs.py#188\" target=\"_blank\"><span style=\"color: #7f7f7f; text-decoration-color: #7f7f7f\">188</span></a>\n",
       "</pre>\n"
      ],
      "text/plain": [
       "\u001b[2;36m                   \u001b[0m\u001b[2;36m \u001b[0m\u001b[32mDEBUG   \u001b[0m Deprotonating protein. This removes H atoms from the pdb_df dataframe    \u001b]8;id=715015;file:///Users/lavo/Desktop/Projects/CHL-Project/.venv/lib/python3.10/site-packages/graphein/protein/graphs.py\u001b\\\u001b[2mgraphs.py\u001b[0m\u001b]8;;\u001b\\\u001b[2m:\u001b[0m\u001b]8;id=219589;file:///Users/lavo/Desktop/Projects/CHL-Project/.venv/lib/python3.10/site-packages/graphein/protein/graphs.py#188\u001b\\\u001b[2m188\u001b[0m\u001b]8;;\u001b\\\n"
      ]
     },
     "metadata": {},
     "output_type": "display_data"
    },
    {
     "data": {
      "text/html": [
       "<pre style=\"white-space:pre;overflow-x:auto;line-height:normal;font-family:Menlo,'DejaVu Sans Mono',consolas,'Courier New',monospace\"><span style=\"color: #7fbfbf; text-decoration-color: #7fbfbf\">                    </span><span style=\"color: #008000; text-decoration-color: #008000\">DEBUG   </span> Detected <span style=\"color: #008080; text-decoration-color: #008080; font-weight: bold\">445</span> total nodes                                                 <a href=\"file:///Users/lavo/Desktop/Projects/CHL-Project/.venv/lib/python3.10/site-packages/graphein/protein/graphs.py\" target=\"_blank\"><span style=\"color: #7f7f7f; text-decoration-color: #7f7f7f\">graphs.py</span></a><span style=\"color: #7f7f7f; text-decoration-color: #7f7f7f\">:</span><a href=\"file:///Users/lavo/Desktop/Projects/CHL-Project/.venv/lib/python3.10/site-packages/graphein/protein/graphs.py#435\" target=\"_blank\"><span style=\"color: #7f7f7f; text-decoration-color: #7f7f7f\">435</span></a>\n",
       "</pre>\n"
      ],
      "text/plain": [
       "\u001b[2;36m                   \u001b[0m\u001b[2;36m \u001b[0m\u001b[32mDEBUG   \u001b[0m Detected \u001b[1;36m445\u001b[0m total nodes                                                 \u001b]8;id=983372;file:///Users/lavo/Desktop/Projects/CHL-Project/.venv/lib/python3.10/site-packages/graphein/protein/graphs.py\u001b\\\u001b[2mgraphs.py\u001b[0m\u001b]8;;\u001b\\\u001b[2m:\u001b[0m\u001b]8;id=885176;file:///Users/lavo/Desktop/Projects/CHL-Project/.venv/lib/python3.10/site-packages/graphein/protein/graphs.py#435\u001b\\\u001b[2m435\u001b[0m\u001b]8;;\u001b\\\n"
      ]
     },
     "metadata": {},
     "output_type": "display_data"
    },
    {
     "data": {
      "text/html": [
       "<pre style=\"white-space:pre;overflow-x:auto;line-height:normal;font-family:Menlo,'DejaVu Sans Mono',consolas,'Courier New',monospace\"></pre>\n"
      ],
      "text/plain": []
     },
     "metadata": {},
     "output_type": "display_data"
    },
    {
     "data": {
      "text/html": [
       "<pre style=\"white-space:pre;overflow-x:auto;line-height:normal;font-family:Menlo,'DejaVu Sans Mono',consolas,'Courier New',monospace\">\n",
       "</pre>\n"
      ],
      "text/plain": [
       "\n"
      ]
     },
     "metadata": {},
     "output_type": "display_data"
    },
    {
     "data": {
      "application/vnd.jupyter.widget-view+json": {
       "model_id": "b880cab7ba3245fc8157bd4c2c27c041",
       "version_major": 2,
       "version_minor": 0
      },
      "text/plain": [
       "Output()"
      ]
     },
     "metadata": {},
     "output_type": "display_data"
    },
    {
     "name": "stdout",
     "output_type": "stream",
     "text": [
      "E178G\n"
     ]
    },
    {
     "data": {
      "text/html": [
       "<pre style=\"white-space:pre;overflow-x:auto;line-height:normal;font-family:Menlo,'DejaVu Sans Mono',consolas,'Courier New',monospace\"><span style=\"color: #7fbfbf; text-decoration-color: #7fbfbf\">                    </span><span style=\"color: #008000; text-decoration-color: #008000\">DEBUG   </span> Deprotonating protein. This removes H atoms from the pdb_df dataframe    <a href=\"file:///Users/lavo/Desktop/Projects/CHL-Project/.venv/lib/python3.10/site-packages/graphein/protein/graphs.py\" target=\"_blank\"><span style=\"color: #7f7f7f; text-decoration-color: #7f7f7f\">graphs.py</span></a><span style=\"color: #7f7f7f; text-decoration-color: #7f7f7f\">:</span><a href=\"file:///Users/lavo/Desktop/Projects/CHL-Project/.venv/lib/python3.10/site-packages/graphein/protein/graphs.py#188\" target=\"_blank\"><span style=\"color: #7f7f7f; text-decoration-color: #7f7f7f\">188</span></a>\n",
       "</pre>\n"
      ],
      "text/plain": [
       "\u001b[2;36m                   \u001b[0m\u001b[2;36m \u001b[0m\u001b[32mDEBUG   \u001b[0m Deprotonating protein. This removes H atoms from the pdb_df dataframe    \u001b]8;id=767049;file:///Users/lavo/Desktop/Projects/CHL-Project/.venv/lib/python3.10/site-packages/graphein/protein/graphs.py\u001b\\\u001b[2mgraphs.py\u001b[0m\u001b]8;;\u001b\\\u001b[2m:\u001b[0m\u001b]8;id=572961;file:///Users/lavo/Desktop/Projects/CHL-Project/.venv/lib/python3.10/site-packages/graphein/protein/graphs.py#188\u001b\\\u001b[2m188\u001b[0m\u001b]8;;\u001b\\\n"
      ]
     },
     "metadata": {},
     "output_type": "display_data"
    },
    {
     "data": {
      "text/html": [
       "<pre style=\"white-space:pre;overflow-x:auto;line-height:normal;font-family:Menlo,'DejaVu Sans Mono',consolas,'Courier New',monospace\"><span style=\"color: #7fbfbf; text-decoration-color: #7fbfbf\">                    </span><span style=\"color: #008000; text-decoration-color: #008000\">DEBUG   </span> Detected <span style=\"color: #008080; text-decoration-color: #008080; font-weight: bold\">445</span> total nodes                                                 <a href=\"file:///Users/lavo/Desktop/Projects/CHL-Project/.venv/lib/python3.10/site-packages/graphein/protein/graphs.py\" target=\"_blank\"><span style=\"color: #7f7f7f; text-decoration-color: #7f7f7f\">graphs.py</span></a><span style=\"color: #7f7f7f; text-decoration-color: #7f7f7f\">:</span><a href=\"file:///Users/lavo/Desktop/Projects/CHL-Project/.venv/lib/python3.10/site-packages/graphein/protein/graphs.py#435\" target=\"_blank\"><span style=\"color: #7f7f7f; text-decoration-color: #7f7f7f\">435</span></a>\n",
       "</pre>\n"
      ],
      "text/plain": [
       "\u001b[2;36m                   \u001b[0m\u001b[2;36m \u001b[0m\u001b[32mDEBUG   \u001b[0m Detected \u001b[1;36m445\u001b[0m total nodes                                                 \u001b]8;id=449894;file:///Users/lavo/Desktop/Projects/CHL-Project/.venv/lib/python3.10/site-packages/graphein/protein/graphs.py\u001b\\\u001b[2mgraphs.py\u001b[0m\u001b]8;;\u001b\\\u001b[2m:\u001b[0m\u001b]8;id=222698;file:///Users/lavo/Desktop/Projects/CHL-Project/.venv/lib/python3.10/site-packages/graphein/protein/graphs.py#435\u001b\\\u001b[2m435\u001b[0m\u001b]8;;\u001b\\\n"
      ]
     },
     "metadata": {},
     "output_type": "display_data"
    },
    {
     "data": {
      "text/html": [
       "<pre style=\"white-space:pre;overflow-x:auto;line-height:normal;font-family:Menlo,'DejaVu Sans Mono',consolas,'Courier New',monospace\"></pre>\n"
      ],
      "text/plain": []
     },
     "metadata": {},
     "output_type": "display_data"
    },
    {
     "data": {
      "text/html": [
       "<pre style=\"white-space:pre;overflow-x:auto;line-height:normal;font-family:Menlo,'DejaVu Sans Mono',consolas,'Courier New',monospace\">\n",
       "</pre>\n"
      ],
      "text/plain": [
       "\n"
      ]
     },
     "metadata": {},
     "output_type": "display_data"
    },
    {
     "data": {
      "application/vnd.jupyter.widget-view+json": {
       "model_id": "a93e9b617c5d4033918016a9a3922f91",
       "version_major": 2,
       "version_minor": 0
      },
      "text/plain": [
       "Output()"
      ]
     },
     "metadata": {},
     "output_type": "display_data"
    },
    {
     "data": {
      "text/html": [
       "<pre style=\"white-space:pre;overflow-x:auto;line-height:normal;font-family:Menlo,'DejaVu Sans Mono',consolas,'Courier New',monospace\"><span style=\"color: #7fbfbf; text-decoration-color: #7fbfbf\">                    </span><span style=\"color: #008000; text-decoration-color: #008000\">DEBUG   </span> Deprotonating protein. This removes H atoms from the pdb_df dataframe    <a href=\"file:///Users/lavo/Desktop/Projects/CHL-Project/.venv/lib/python3.10/site-packages/graphein/protein/graphs.py\" target=\"_blank\"><span style=\"color: #7f7f7f; text-decoration-color: #7f7f7f\">graphs.py</span></a><span style=\"color: #7f7f7f; text-decoration-color: #7f7f7f\">:</span><a href=\"file:///Users/lavo/Desktop/Projects/CHL-Project/.venv/lib/python3.10/site-packages/graphein/protein/graphs.py#188\" target=\"_blank\"><span style=\"color: #7f7f7f; text-decoration-color: #7f7f7f\">188</span></a>\n",
       "</pre>\n"
      ],
      "text/plain": [
       "\u001b[2;36m                   \u001b[0m\u001b[2;36m \u001b[0m\u001b[32mDEBUG   \u001b[0m Deprotonating protein. This removes H atoms from the pdb_df dataframe    \u001b]8;id=576913;file:///Users/lavo/Desktop/Projects/CHL-Project/.venv/lib/python3.10/site-packages/graphein/protein/graphs.py\u001b\\\u001b[2mgraphs.py\u001b[0m\u001b]8;;\u001b\\\u001b[2m:\u001b[0m\u001b]8;id=890117;file:///Users/lavo/Desktop/Projects/CHL-Project/.venv/lib/python3.10/site-packages/graphein/protein/graphs.py#188\u001b\\\u001b[2m188\u001b[0m\u001b]8;;\u001b\\\n"
      ]
     },
     "metadata": {},
     "output_type": "display_data"
    },
    {
     "data": {
      "text/html": [
       "<pre style=\"white-space:pre;overflow-x:auto;line-height:normal;font-family:Menlo,'DejaVu Sans Mono',consolas,'Courier New',monospace\"><span style=\"color: #7fbfbf; text-decoration-color: #7fbfbf\">                    </span><span style=\"color: #008000; text-decoration-color: #008000\">DEBUG   </span> Detected <span style=\"color: #008080; text-decoration-color: #008080; font-weight: bold\">445</span> total nodes                                                 <a href=\"file:///Users/lavo/Desktop/Projects/CHL-Project/.venv/lib/python3.10/site-packages/graphein/protein/graphs.py\" target=\"_blank\"><span style=\"color: #7f7f7f; text-decoration-color: #7f7f7f\">graphs.py</span></a><span style=\"color: #7f7f7f; text-decoration-color: #7f7f7f\">:</span><a href=\"file:///Users/lavo/Desktop/Projects/CHL-Project/.venv/lib/python3.10/site-packages/graphein/protein/graphs.py#435\" target=\"_blank\"><span style=\"color: #7f7f7f; text-decoration-color: #7f7f7f\">435</span></a>\n",
       "</pre>\n"
      ],
      "text/plain": [
       "\u001b[2;36m                   \u001b[0m\u001b[2;36m \u001b[0m\u001b[32mDEBUG   \u001b[0m Detected \u001b[1;36m445\u001b[0m total nodes                                                 \u001b]8;id=436497;file:///Users/lavo/Desktop/Projects/CHL-Project/.venv/lib/python3.10/site-packages/graphein/protein/graphs.py\u001b\\\u001b[2mgraphs.py\u001b[0m\u001b]8;;\u001b\\\u001b[2m:\u001b[0m\u001b]8;id=753181;file:///Users/lavo/Desktop/Projects/CHL-Project/.venv/lib/python3.10/site-packages/graphein/protein/graphs.py#435\u001b\\\u001b[2m435\u001b[0m\u001b]8;;\u001b\\\n"
      ]
     },
     "metadata": {},
     "output_type": "display_data"
    },
    {
     "name": "stdout",
     "output_type": "stream",
     "text": [
      "Y272C\n"
     ]
    },
    {
     "data": {
      "text/html": [
       "<pre style=\"white-space:pre;overflow-x:auto;line-height:normal;font-family:Menlo,'DejaVu Sans Mono',consolas,'Courier New',monospace\"></pre>\n"
      ],
      "text/plain": []
     },
     "metadata": {},
     "output_type": "display_data"
    },
    {
     "data": {
      "text/html": [
       "<pre style=\"white-space:pre;overflow-x:auto;line-height:normal;font-family:Menlo,'DejaVu Sans Mono',consolas,'Courier New',monospace\">\n",
       "</pre>\n"
      ],
      "text/plain": [
       "\n"
      ]
     },
     "metadata": {},
     "output_type": "display_data"
    },
    {
     "data": {
      "application/vnd.jupyter.widget-view+json": {
       "model_id": "f8661dc73c304f449643f8617b99d2aa",
       "version_major": 2,
       "version_minor": 0
      },
      "text/plain": [
       "Output()"
      ]
     },
     "metadata": {},
     "output_type": "display_data"
    },
    {
     "name": "stdout",
     "output_type": "stream",
     "text": [
      "P332R\n"
     ]
    },
    {
     "data": {
      "text/html": [
       "<pre style=\"white-space:pre;overflow-x:auto;line-height:normal;font-family:Menlo,'DejaVu Sans Mono',consolas,'Courier New',monospace\"><span style=\"color: #7fbfbf; text-decoration-color: #7fbfbf\">                    </span><span style=\"color: #008000; text-decoration-color: #008000\">DEBUG   </span> Deprotonating protein. This removes H atoms from the pdb_df dataframe    <a href=\"file:///Users/lavo/Desktop/Projects/CHL-Project/.venv/lib/python3.10/site-packages/graphein/protein/graphs.py\" target=\"_blank\"><span style=\"color: #7f7f7f; text-decoration-color: #7f7f7f\">graphs.py</span></a><span style=\"color: #7f7f7f; text-decoration-color: #7f7f7f\">:</span><a href=\"file:///Users/lavo/Desktop/Projects/CHL-Project/.venv/lib/python3.10/site-packages/graphein/protein/graphs.py#188\" target=\"_blank\"><span style=\"color: #7f7f7f; text-decoration-color: #7f7f7f\">188</span></a>\n",
       "</pre>\n"
      ],
      "text/plain": [
       "\u001b[2;36m                   \u001b[0m\u001b[2;36m \u001b[0m\u001b[32mDEBUG   \u001b[0m Deprotonating protein. This removes H atoms from the pdb_df dataframe    \u001b]8;id=26489;file:///Users/lavo/Desktop/Projects/CHL-Project/.venv/lib/python3.10/site-packages/graphein/protein/graphs.py\u001b\\\u001b[2mgraphs.py\u001b[0m\u001b]8;;\u001b\\\u001b[2m:\u001b[0m\u001b]8;id=414003;file:///Users/lavo/Desktop/Projects/CHL-Project/.venv/lib/python3.10/site-packages/graphein/protein/graphs.py#188\u001b\\\u001b[2m188\u001b[0m\u001b]8;;\u001b\\\n"
      ]
     },
     "metadata": {},
     "output_type": "display_data"
    },
    {
     "data": {
      "text/html": [
       "<pre style=\"white-space:pre;overflow-x:auto;line-height:normal;font-family:Menlo,'DejaVu Sans Mono',consolas,'Courier New',monospace\"><span style=\"color: #7fbfbf; text-decoration-color: #7fbfbf\">                    </span><span style=\"color: #008000; text-decoration-color: #008000\">DEBUG   </span> Detected <span style=\"color: #008080; text-decoration-color: #008080; font-weight: bold\">445</span> total nodes                                                 <a href=\"file:///Users/lavo/Desktop/Projects/CHL-Project/.venv/lib/python3.10/site-packages/graphein/protein/graphs.py\" target=\"_blank\"><span style=\"color: #7f7f7f; text-decoration-color: #7f7f7f\">graphs.py</span></a><span style=\"color: #7f7f7f; text-decoration-color: #7f7f7f\">:</span><a href=\"file:///Users/lavo/Desktop/Projects/CHL-Project/.venv/lib/python3.10/site-packages/graphein/protein/graphs.py#435\" target=\"_blank\"><span style=\"color: #7f7f7f; text-decoration-color: #7f7f7f\">435</span></a>\n",
       "</pre>\n"
      ],
      "text/plain": [
       "\u001b[2;36m                   \u001b[0m\u001b[2;36m \u001b[0m\u001b[32mDEBUG   \u001b[0m Detected \u001b[1;36m445\u001b[0m total nodes                                                 \u001b]8;id=338368;file:///Users/lavo/Desktop/Projects/CHL-Project/.venv/lib/python3.10/site-packages/graphein/protein/graphs.py\u001b\\\u001b[2mgraphs.py\u001b[0m\u001b]8;;\u001b\\\u001b[2m:\u001b[0m\u001b]8;id=528500;file:///Users/lavo/Desktop/Projects/CHL-Project/.venv/lib/python3.10/site-packages/graphein/protein/graphs.py#435\u001b\\\u001b[2m435\u001b[0m\u001b]8;;\u001b\\\n"
      ]
     },
     "metadata": {},
     "output_type": "display_data"
    },
    {
     "data": {
      "text/html": [
       "<pre style=\"white-space:pre;overflow-x:auto;line-height:normal;font-family:Menlo,'DejaVu Sans Mono',consolas,'Courier New',monospace\"></pre>\n"
      ],
      "text/plain": []
     },
     "metadata": {},
     "output_type": "display_data"
    },
    {
     "data": {
      "text/html": [
       "<pre style=\"white-space:pre;overflow-x:auto;line-height:normal;font-family:Menlo,'DejaVu Sans Mono',consolas,'Courier New',monospace\">\n",
       "</pre>\n"
      ],
      "text/plain": [
       "\n"
      ]
     },
     "metadata": {},
     "output_type": "display_data"
    },
    {
     "data": {
      "application/vnd.jupyter.widget-view+json": {
       "model_id": "2ca54c32feb341a5965369ddcb43ce84",
       "version_major": 2,
       "version_minor": 0
      },
      "text/plain": [
       "Output()"
      ]
     },
     "metadata": {},
     "output_type": "display_data"
    },
    {
     "data": {
      "text/html": [
       "<pre style=\"white-space:pre;overflow-x:auto;line-height:normal;font-family:Menlo,'DejaVu Sans Mono',consolas,'Courier New',monospace\"><span style=\"color: #7fbfbf; text-decoration-color: #7fbfbf\">                    </span><span style=\"color: #008000; text-decoration-color: #008000\">DEBUG   </span> Deprotonating protein. This removes H atoms from the pdb_df dataframe    <a href=\"file:///Users/lavo/Desktop/Projects/CHL-Project/.venv/lib/python3.10/site-packages/graphein/protein/graphs.py\" target=\"_blank\"><span style=\"color: #7f7f7f; text-decoration-color: #7f7f7f\">graphs.py</span></a><span style=\"color: #7f7f7f; text-decoration-color: #7f7f7f\">:</span><a href=\"file:///Users/lavo/Desktop/Projects/CHL-Project/.venv/lib/python3.10/site-packages/graphein/protein/graphs.py#188\" target=\"_blank\"><span style=\"color: #7f7f7f; text-decoration-color: #7f7f7f\">188</span></a>\n",
       "</pre>\n"
      ],
      "text/plain": [
       "\u001b[2;36m                   \u001b[0m\u001b[2;36m \u001b[0m\u001b[32mDEBUG   \u001b[0m Deprotonating protein. This removes H atoms from the pdb_df dataframe    \u001b]8;id=444742;file:///Users/lavo/Desktop/Projects/CHL-Project/.venv/lib/python3.10/site-packages/graphein/protein/graphs.py\u001b\\\u001b[2mgraphs.py\u001b[0m\u001b]8;;\u001b\\\u001b[2m:\u001b[0m\u001b]8;id=530706;file:///Users/lavo/Desktop/Projects/CHL-Project/.venv/lib/python3.10/site-packages/graphein/protein/graphs.py#188\u001b\\\u001b[2m188\u001b[0m\u001b]8;;\u001b\\\n"
      ]
     },
     "metadata": {},
     "output_type": "display_data"
    },
    {
     "data": {
      "text/html": [
       "<pre style=\"white-space:pre;overflow-x:auto;line-height:normal;font-family:Menlo,'DejaVu Sans Mono',consolas,'Courier New',monospace\"><span style=\"color: #7fbfbf; text-decoration-color: #7fbfbf\">                    </span><span style=\"color: #008000; text-decoration-color: #008000\">DEBUG   </span> Detected <span style=\"color: #008080; text-decoration-color: #008080; font-weight: bold\">445</span> total nodes                                                 <a href=\"file:///Users/lavo/Desktop/Projects/CHL-Project/.venv/lib/python3.10/site-packages/graphein/protein/graphs.py\" target=\"_blank\"><span style=\"color: #7f7f7f; text-decoration-color: #7f7f7f\">graphs.py</span></a><span style=\"color: #7f7f7f; text-decoration-color: #7f7f7f\">:</span><a href=\"file:///Users/lavo/Desktop/Projects/CHL-Project/.venv/lib/python3.10/site-packages/graphein/protein/graphs.py#435\" target=\"_blank\"><span style=\"color: #7f7f7f; text-decoration-color: #7f7f7f\">435</span></a>\n",
       "</pre>\n"
      ],
      "text/plain": [
       "\u001b[2;36m                   \u001b[0m\u001b[2;36m \u001b[0m\u001b[32mDEBUG   \u001b[0m Detected \u001b[1;36m445\u001b[0m total nodes                                                 \u001b]8;id=776426;file:///Users/lavo/Desktop/Projects/CHL-Project/.venv/lib/python3.10/site-packages/graphein/protein/graphs.py\u001b\\\u001b[2mgraphs.py\u001b[0m\u001b]8;;\u001b\\\u001b[2m:\u001b[0m\u001b]8;id=58948;file:///Users/lavo/Desktop/Projects/CHL-Project/.venv/lib/python3.10/site-packages/graphein/protein/graphs.py#435\u001b\\\u001b[2m435\u001b[0m\u001b]8;;\u001b\\\n"
      ]
     },
     "metadata": {},
     "output_type": "display_data"
    },
    {
     "name": "stdout",
     "output_type": "stream",
     "text": [
      "G198D\n"
     ]
    },
    {
     "data": {
      "text/html": [
       "<pre style=\"white-space:pre;overflow-x:auto;line-height:normal;font-family:Menlo,'DejaVu Sans Mono',consolas,'Courier New',monospace\"></pre>\n"
      ],
      "text/plain": []
     },
     "metadata": {},
     "output_type": "display_data"
    },
    {
     "data": {
      "text/html": [
       "<pre style=\"white-space:pre;overflow-x:auto;line-height:normal;font-family:Menlo,'DejaVu Sans Mono',consolas,'Courier New',monospace\">\n",
       "</pre>\n"
      ],
      "text/plain": [
       "\n"
      ]
     },
     "metadata": {},
     "output_type": "display_data"
    },
    {
     "data": {
      "application/vnd.jupyter.widget-view+json": {
       "model_id": "b7f9f843dace405fba235bd8aaa9711c",
       "version_major": 2,
       "version_minor": 0
      },
      "text/plain": [
       "Output()"
      ]
     },
     "metadata": {},
     "output_type": "display_data"
    },
    {
     "data": {
      "text/html": [
       "<pre style=\"white-space:pre;overflow-x:auto;line-height:normal;font-family:Menlo,'DejaVu Sans Mono',consolas,'Courier New',monospace\"><span style=\"color: #7fbfbf; text-decoration-color: #7fbfbf\">[04/29/24 09:45:20] </span><span style=\"color: #008000; text-decoration-color: #008000\">DEBUG   </span> Deprotonating protein. This removes H atoms from the pdb_df dataframe    <a href=\"file:///Users/lavo/Desktop/Projects/CHL-Project/.venv/lib/python3.10/site-packages/graphein/protein/graphs.py\" target=\"_blank\"><span style=\"color: #7f7f7f; text-decoration-color: #7f7f7f\">graphs.py</span></a><span style=\"color: #7f7f7f; text-decoration-color: #7f7f7f\">:</span><a href=\"file:///Users/lavo/Desktop/Projects/CHL-Project/.venv/lib/python3.10/site-packages/graphein/protein/graphs.py#188\" target=\"_blank\"><span style=\"color: #7f7f7f; text-decoration-color: #7f7f7f\">188</span></a>\n",
       "</pre>\n"
      ],
      "text/plain": [
       "\u001b[2;36m[04/29/24 09:45:20]\u001b[0m\u001b[2;36m \u001b[0m\u001b[32mDEBUG   \u001b[0m Deprotonating protein. This removes H atoms from the pdb_df dataframe    \u001b]8;id=419119;file:///Users/lavo/Desktop/Projects/CHL-Project/.venv/lib/python3.10/site-packages/graphein/protein/graphs.py\u001b\\\u001b[2mgraphs.py\u001b[0m\u001b]8;;\u001b\\\u001b[2m:\u001b[0m\u001b]8;id=682704;file:///Users/lavo/Desktop/Projects/CHL-Project/.venv/lib/python3.10/site-packages/graphein/protein/graphs.py#188\u001b\\\u001b[2m188\u001b[0m\u001b]8;;\u001b\\\n"
      ]
     },
     "metadata": {},
     "output_type": "display_data"
    },
    {
     "data": {
      "text/html": [
       "<pre style=\"white-space:pre;overflow-x:auto;line-height:normal;font-family:Menlo,'DejaVu Sans Mono',consolas,'Courier New',monospace\"><span style=\"color: #7fbfbf; text-decoration-color: #7fbfbf\">                    </span><span style=\"color: #008000; text-decoration-color: #008000\">DEBUG   </span> Detected <span style=\"color: #008080; text-decoration-color: #008080; font-weight: bold\">445</span> total nodes                                                 <a href=\"file:///Users/lavo/Desktop/Projects/CHL-Project/.venv/lib/python3.10/site-packages/graphein/protein/graphs.py\" target=\"_blank\"><span style=\"color: #7f7f7f; text-decoration-color: #7f7f7f\">graphs.py</span></a><span style=\"color: #7f7f7f; text-decoration-color: #7f7f7f\">:</span><a href=\"file:///Users/lavo/Desktop/Projects/CHL-Project/.venv/lib/python3.10/site-packages/graphein/protein/graphs.py#435\" target=\"_blank\"><span style=\"color: #7f7f7f; text-decoration-color: #7f7f7f\">435</span></a>\n",
       "</pre>\n"
      ],
      "text/plain": [
       "\u001b[2;36m                   \u001b[0m\u001b[2;36m \u001b[0m\u001b[32mDEBUG   \u001b[0m Detected \u001b[1;36m445\u001b[0m total nodes                                                 \u001b]8;id=23679;file:///Users/lavo/Desktop/Projects/CHL-Project/.venv/lib/python3.10/site-packages/graphein/protein/graphs.py\u001b\\\u001b[2mgraphs.py\u001b[0m\u001b]8;;\u001b\\\u001b[2m:\u001b[0m\u001b]8;id=94615;file:///Users/lavo/Desktop/Projects/CHL-Project/.venv/lib/python3.10/site-packages/graphein/protein/graphs.py#435\u001b\\\u001b[2m435\u001b[0m\u001b]8;;\u001b\\\n"
      ]
     },
     "metadata": {},
     "output_type": "display_data"
    },
    {
     "name": "stdout",
     "output_type": "stream",
     "text": [
      "K248E\n"
     ]
    },
    {
     "data": {
      "text/html": [
       "<pre style=\"white-space:pre;overflow-x:auto;line-height:normal;font-family:Menlo,'DejaVu Sans Mono',consolas,'Courier New',monospace\"></pre>\n"
      ],
      "text/plain": []
     },
     "metadata": {},
     "output_type": "display_data"
    },
    {
     "data": {
      "text/html": [
       "<pre style=\"white-space:pre;overflow-x:auto;line-height:normal;font-family:Menlo,'DejaVu Sans Mono',consolas,'Courier New',monospace\">\n",
       "</pre>\n"
      ],
      "text/plain": [
       "\n"
      ]
     },
     "metadata": {},
     "output_type": "display_data"
    },
    {
     "data": {
      "application/vnd.jupyter.widget-view+json": {
       "model_id": "b5d51541136b47d5a5fbc6711dcef9d6",
       "version_major": 2,
       "version_minor": 0
      },
      "text/plain": [
       "Output()"
      ]
     },
     "metadata": {},
     "output_type": "display_data"
    },
    {
     "data": {
      "text/html": [
       "<pre style=\"white-space:pre;overflow-x:auto;line-height:normal;font-family:Menlo,'DejaVu Sans Mono',consolas,'Courier New',monospace\"><span style=\"color: #7fbfbf; text-decoration-color: #7fbfbf\">                    </span><span style=\"color: #008000; text-decoration-color: #008000\">DEBUG   </span> Deprotonating protein. This removes H atoms from the pdb_df dataframe    <a href=\"file:///Users/lavo/Desktop/Projects/CHL-Project/.venv/lib/python3.10/site-packages/graphein/protein/graphs.py\" target=\"_blank\"><span style=\"color: #7f7f7f; text-decoration-color: #7f7f7f\">graphs.py</span></a><span style=\"color: #7f7f7f; text-decoration-color: #7f7f7f\">:</span><a href=\"file:///Users/lavo/Desktop/Projects/CHL-Project/.venv/lib/python3.10/site-packages/graphein/protein/graphs.py#188\" target=\"_blank\"><span style=\"color: #7f7f7f; text-decoration-color: #7f7f7f\">188</span></a>\n",
       "</pre>\n"
      ],
      "text/plain": [
       "\u001b[2;36m                   \u001b[0m\u001b[2;36m \u001b[0m\u001b[32mDEBUG   \u001b[0m Deprotonating protein. This removes H atoms from the pdb_df dataframe    \u001b]8;id=798895;file:///Users/lavo/Desktop/Projects/CHL-Project/.venv/lib/python3.10/site-packages/graphein/protein/graphs.py\u001b\\\u001b[2mgraphs.py\u001b[0m\u001b]8;;\u001b\\\u001b[2m:\u001b[0m\u001b]8;id=214200;file:///Users/lavo/Desktop/Projects/CHL-Project/.venv/lib/python3.10/site-packages/graphein/protein/graphs.py#188\u001b\\\u001b[2m188\u001b[0m\u001b]8;;\u001b\\\n"
      ]
     },
     "metadata": {},
     "output_type": "display_data"
    },
    {
     "data": {
      "text/html": [
       "<pre style=\"white-space:pre;overflow-x:auto;line-height:normal;font-family:Menlo,'DejaVu Sans Mono',consolas,'Courier New',monospace\"><span style=\"color: #7fbfbf; text-decoration-color: #7fbfbf\">                    </span><span style=\"color: #008000; text-decoration-color: #008000\">DEBUG   </span> Detected <span style=\"color: #008080; text-decoration-color: #008080; font-weight: bold\">445</span> total nodes                                                 <a href=\"file:///Users/lavo/Desktop/Projects/CHL-Project/.venv/lib/python3.10/site-packages/graphein/protein/graphs.py\" target=\"_blank\"><span style=\"color: #7f7f7f; text-decoration-color: #7f7f7f\">graphs.py</span></a><span style=\"color: #7f7f7f; text-decoration-color: #7f7f7f\">:</span><a href=\"file:///Users/lavo/Desktop/Projects/CHL-Project/.venv/lib/python3.10/site-packages/graphein/protein/graphs.py#435\" target=\"_blank\"><span style=\"color: #7f7f7f; text-decoration-color: #7f7f7f\">435</span></a>\n",
       "</pre>\n"
      ],
      "text/plain": [
       "\u001b[2;36m                   \u001b[0m\u001b[2;36m \u001b[0m\u001b[32mDEBUG   \u001b[0m Detected \u001b[1;36m445\u001b[0m total nodes                                                 \u001b]8;id=410424;file:///Users/lavo/Desktop/Projects/CHL-Project/.venv/lib/python3.10/site-packages/graphein/protein/graphs.py\u001b\\\u001b[2mgraphs.py\u001b[0m\u001b]8;;\u001b\\\u001b[2m:\u001b[0m\u001b]8;id=992013;file:///Users/lavo/Desktop/Projects/CHL-Project/.venv/lib/python3.10/site-packages/graphein/protein/graphs.py#435\u001b\\\u001b[2m435\u001b[0m\u001b]8;;\u001b\\\n"
      ]
     },
     "metadata": {},
     "output_type": "display_data"
    },
    {
     "name": "stdout",
     "output_type": "stream",
     "text": [
      "R330S\n"
     ]
    },
    {
     "data": {
      "text/html": [
       "<pre style=\"white-space:pre;overflow-x:auto;line-height:normal;font-family:Menlo,'DejaVu Sans Mono',consolas,'Courier New',monospace\"></pre>\n"
      ],
      "text/plain": []
     },
     "metadata": {},
     "output_type": "display_data"
    },
    {
     "data": {
      "text/html": [
       "<pre style=\"white-space:pre;overflow-x:auto;line-height:normal;font-family:Menlo,'DejaVu Sans Mono',consolas,'Courier New',monospace\">\n",
       "</pre>\n"
      ],
      "text/plain": [
       "\n"
      ]
     },
     "metadata": {},
     "output_type": "display_data"
    },
    {
     "data": {
      "application/vnd.jupyter.widget-view+json": {
       "model_id": "51118345957e4995ab6fe45c996b0a38",
       "version_major": 2,
       "version_minor": 0
      },
      "text/plain": [
       "Output()"
      ]
     },
     "metadata": {},
     "output_type": "display_data"
    },
    {
     "data": {
      "text/html": [
       "<pre style=\"white-space:pre;overflow-x:auto;line-height:normal;font-family:Menlo,'DejaVu Sans Mono',consolas,'Courier New',monospace\"><span style=\"color: #7fbfbf; text-decoration-color: #7fbfbf\">                    </span><span style=\"color: #008000; text-decoration-color: #008000\">DEBUG   </span> Deprotonating protein. This removes H atoms from the pdb_df dataframe    <a href=\"file:///Users/lavo/Desktop/Projects/CHL-Project/.venv/lib/python3.10/site-packages/graphein/protein/graphs.py\" target=\"_blank\"><span style=\"color: #7f7f7f; text-decoration-color: #7f7f7f\">graphs.py</span></a><span style=\"color: #7f7f7f; text-decoration-color: #7f7f7f\">:</span><a href=\"file:///Users/lavo/Desktop/Projects/CHL-Project/.venv/lib/python3.10/site-packages/graphein/protein/graphs.py#188\" target=\"_blank\"><span style=\"color: #7f7f7f; text-decoration-color: #7f7f7f\">188</span></a>\n",
       "</pre>\n"
      ],
      "text/plain": [
       "\u001b[2;36m                   \u001b[0m\u001b[2;36m \u001b[0m\u001b[32mDEBUG   \u001b[0m Deprotonating protein. This removes H atoms from the pdb_df dataframe    \u001b]8;id=119544;file:///Users/lavo/Desktop/Projects/CHL-Project/.venv/lib/python3.10/site-packages/graphein/protein/graphs.py\u001b\\\u001b[2mgraphs.py\u001b[0m\u001b]8;;\u001b\\\u001b[2m:\u001b[0m\u001b]8;id=158705;file:///Users/lavo/Desktop/Projects/CHL-Project/.venv/lib/python3.10/site-packages/graphein/protein/graphs.py#188\u001b\\\u001b[2m188\u001b[0m\u001b]8;;\u001b\\\n"
      ]
     },
     "metadata": {},
     "output_type": "display_data"
    },
    {
     "data": {
      "text/html": [
       "<pre style=\"white-space:pre;overflow-x:auto;line-height:normal;font-family:Menlo,'DejaVu Sans Mono',consolas,'Courier New',monospace\"><span style=\"color: #7fbfbf; text-decoration-color: #7fbfbf\">                    </span><span style=\"color: #008000; text-decoration-color: #008000\">DEBUG   </span> Detected <span style=\"color: #008080; text-decoration-color: #008080; font-weight: bold\">445</span> total nodes                                                 <a href=\"file:///Users/lavo/Desktop/Projects/CHL-Project/.venv/lib/python3.10/site-packages/graphein/protein/graphs.py\" target=\"_blank\"><span style=\"color: #7f7f7f; text-decoration-color: #7f7f7f\">graphs.py</span></a><span style=\"color: #7f7f7f; text-decoration-color: #7f7f7f\">:</span><a href=\"file:///Users/lavo/Desktop/Projects/CHL-Project/.venv/lib/python3.10/site-packages/graphein/protein/graphs.py#435\" target=\"_blank\"><span style=\"color: #7f7f7f; text-decoration-color: #7f7f7f\">435</span></a>\n",
       "</pre>\n"
      ],
      "text/plain": [
       "\u001b[2;36m                   \u001b[0m\u001b[2;36m \u001b[0m\u001b[32mDEBUG   \u001b[0m Detected \u001b[1;36m445\u001b[0m total nodes                                                 \u001b]8;id=219271;file:///Users/lavo/Desktop/Projects/CHL-Project/.venv/lib/python3.10/site-packages/graphein/protein/graphs.py\u001b\\\u001b[2mgraphs.py\u001b[0m\u001b]8;;\u001b\\\u001b[2m:\u001b[0m\u001b]8;id=238002;file:///Users/lavo/Desktop/Projects/CHL-Project/.venv/lib/python3.10/site-packages/graphein/protein/graphs.py#435\u001b\\\u001b[2m435\u001b[0m\u001b]8;;\u001b\\\n"
      ]
     },
     "metadata": {},
     "output_type": "display_data"
    },
    {
     "data": {
      "text/html": [
       "<pre style=\"white-space:pre;overflow-x:auto;line-height:normal;font-family:Menlo,'DejaVu Sans Mono',consolas,'Courier New',monospace\"></pre>\n"
      ],
      "text/plain": []
     },
     "metadata": {},
     "output_type": "display_data"
    },
    {
     "data": {
      "text/html": [
       "<pre style=\"white-space:pre;overflow-x:auto;line-height:normal;font-family:Menlo,'DejaVu Sans Mono',consolas,'Courier New',monospace\">\n",
       "</pre>\n"
      ],
      "text/plain": [
       "\n"
      ]
     },
     "metadata": {},
     "output_type": "display_data"
    },
    {
     "data": {
      "application/vnd.jupyter.widget-view+json": {
       "model_id": "6be500791f384cac8a39acb8a75ba3b2",
       "version_major": 2,
       "version_minor": 0
      },
      "text/plain": [
       "Output()"
      ]
     },
     "metadata": {},
     "output_type": "display_data"
    },
    {
     "data": {
      "text/html": [
       "<pre style=\"white-space:pre;overflow-x:auto;line-height:normal;font-family:Menlo,'DejaVu Sans Mono',consolas,'Courier New',monospace\"><span style=\"color: #7fbfbf; text-decoration-color: #7fbfbf\">                    </span><span style=\"color: #008000; text-decoration-color: #008000\">DEBUG   </span> Deprotonating protein. This removes H atoms from the pdb_df dataframe    <a href=\"file:///Users/lavo/Desktop/Projects/CHL-Project/.venv/lib/python3.10/site-packages/graphein/protein/graphs.py\" target=\"_blank\"><span style=\"color: #7f7f7f; text-decoration-color: #7f7f7f\">graphs.py</span></a><span style=\"color: #7f7f7f; text-decoration-color: #7f7f7f\">:</span><a href=\"file:///Users/lavo/Desktop/Projects/CHL-Project/.venv/lib/python3.10/site-packages/graphein/protein/graphs.py#188\" target=\"_blank\"><span style=\"color: #7f7f7f; text-decoration-color: #7f7f7f\">188</span></a>\n",
       "</pre>\n"
      ],
      "text/plain": [
       "\u001b[2;36m                   \u001b[0m\u001b[2;36m \u001b[0m\u001b[32mDEBUG   \u001b[0m Deprotonating protein. This removes H atoms from the pdb_df dataframe    \u001b]8;id=185724;file:///Users/lavo/Desktop/Projects/CHL-Project/.venv/lib/python3.10/site-packages/graphein/protein/graphs.py\u001b\\\u001b[2mgraphs.py\u001b[0m\u001b]8;;\u001b\\\u001b[2m:\u001b[0m\u001b]8;id=465200;file:///Users/lavo/Desktop/Projects/CHL-Project/.venv/lib/python3.10/site-packages/graphein/protein/graphs.py#188\u001b\\\u001b[2m188\u001b[0m\u001b]8;;\u001b\\\n"
      ]
     },
     "metadata": {},
     "output_type": "display_data"
    },
    {
     "data": {
      "text/html": [
       "<pre style=\"white-space:pre;overflow-x:auto;line-height:normal;font-family:Menlo,'DejaVu Sans Mono',consolas,'Courier New',monospace\"><span style=\"color: #7fbfbf; text-decoration-color: #7fbfbf\">                    </span><span style=\"color: #008000; text-decoration-color: #008000\">DEBUG   </span> Detected <span style=\"color: #008080; text-decoration-color: #008080; font-weight: bold\">445</span> total nodes                                                 <a href=\"file:///Users/lavo/Desktop/Projects/CHL-Project/.venv/lib/python3.10/site-packages/graphein/protein/graphs.py\" target=\"_blank\"><span style=\"color: #7f7f7f; text-decoration-color: #7f7f7f\">graphs.py</span></a><span style=\"color: #7f7f7f; text-decoration-color: #7f7f7f\">:</span><a href=\"file:///Users/lavo/Desktop/Projects/CHL-Project/.venv/lib/python3.10/site-packages/graphein/protein/graphs.py#435\" target=\"_blank\"><span style=\"color: #7f7f7f; text-decoration-color: #7f7f7f\">435</span></a>\n",
       "</pre>\n"
      ],
      "text/plain": [
       "\u001b[2;36m                   \u001b[0m\u001b[2;36m \u001b[0m\u001b[32mDEBUG   \u001b[0m Detected \u001b[1;36m445\u001b[0m total nodes                                                 \u001b]8;id=507903;file:///Users/lavo/Desktop/Projects/CHL-Project/.venv/lib/python3.10/site-packages/graphein/protein/graphs.py\u001b\\\u001b[2mgraphs.py\u001b[0m\u001b]8;;\u001b\\\u001b[2m:\u001b[0m\u001b]8;id=402590;file:///Users/lavo/Desktop/Projects/CHL-Project/.venv/lib/python3.10/site-packages/graphein/protein/graphs.py#435\u001b\\\u001b[2m435\u001b[0m\u001b]8;;\u001b\\\n"
      ]
     },
     "metadata": {},
     "output_type": "display_data"
    },
    {
     "name": "stdout",
     "output_type": "stream",
     "text": [
      "G170S\n"
     ]
    },
    {
     "data": {
      "text/html": [
       "<pre style=\"white-space:pre;overflow-x:auto;line-height:normal;font-family:Menlo,'DejaVu Sans Mono',consolas,'Courier New',monospace\"></pre>\n"
      ],
      "text/plain": []
     },
     "metadata": {},
     "output_type": "display_data"
    },
    {
     "data": {
      "text/html": [
       "<pre style=\"white-space:pre;overflow-x:auto;line-height:normal;font-family:Menlo,'DejaVu Sans Mono',consolas,'Courier New',monospace\">\n",
       "</pre>\n"
      ],
      "text/plain": [
       "\n"
      ]
     },
     "metadata": {},
     "output_type": "display_data"
    },
    {
     "data": {
      "application/vnd.jupyter.widget-view+json": {
       "model_id": "9a7d7f7c2c5946b1938030510385851d",
       "version_major": 2,
       "version_minor": 0
      },
      "text/plain": [
       "Output()"
      ]
     },
     "metadata": {},
     "output_type": "display_data"
    },
    {
     "name": "stdout",
     "output_type": "stream",
     "text": [
      "M368V\n"
     ]
    },
    {
     "data": {
      "text/html": [
       "<pre style=\"white-space:pre;overflow-x:auto;line-height:normal;font-family:Menlo,'DejaVu Sans Mono',consolas,'Courier New',monospace\"><span style=\"color: #7fbfbf; text-decoration-color: #7fbfbf\">                    </span><span style=\"color: #008000; text-decoration-color: #008000\">DEBUG   </span> Deprotonating protein. This removes H atoms from the pdb_df dataframe    <a href=\"file:///Users/lavo/Desktop/Projects/CHL-Project/.venv/lib/python3.10/site-packages/graphein/protein/graphs.py\" target=\"_blank\"><span style=\"color: #7f7f7f; text-decoration-color: #7f7f7f\">graphs.py</span></a><span style=\"color: #7f7f7f; text-decoration-color: #7f7f7f\">:</span><a href=\"file:///Users/lavo/Desktop/Projects/CHL-Project/.venv/lib/python3.10/site-packages/graphein/protein/graphs.py#188\" target=\"_blank\"><span style=\"color: #7f7f7f; text-decoration-color: #7f7f7f\">188</span></a>\n",
       "</pre>\n"
      ],
      "text/plain": [
       "\u001b[2;36m                   \u001b[0m\u001b[2;36m \u001b[0m\u001b[32mDEBUG   \u001b[0m Deprotonating protein. This removes H atoms from the pdb_df dataframe    \u001b]8;id=107008;file:///Users/lavo/Desktop/Projects/CHL-Project/.venv/lib/python3.10/site-packages/graphein/protein/graphs.py\u001b\\\u001b[2mgraphs.py\u001b[0m\u001b]8;;\u001b\\\u001b[2m:\u001b[0m\u001b]8;id=539982;file:///Users/lavo/Desktop/Projects/CHL-Project/.venv/lib/python3.10/site-packages/graphein/protein/graphs.py#188\u001b\\\u001b[2m188\u001b[0m\u001b]8;;\u001b\\\n"
      ]
     },
     "metadata": {},
     "output_type": "display_data"
    },
    {
     "data": {
      "text/html": [
       "<pre style=\"white-space:pre;overflow-x:auto;line-height:normal;font-family:Menlo,'DejaVu Sans Mono',consolas,'Courier New',monospace\"><span style=\"color: #7fbfbf; text-decoration-color: #7fbfbf\">                    </span><span style=\"color: #008000; text-decoration-color: #008000\">DEBUG   </span> Detected <span style=\"color: #008080; text-decoration-color: #008080; font-weight: bold\">445</span> total nodes                                                 <a href=\"file:///Users/lavo/Desktop/Projects/CHL-Project/.venv/lib/python3.10/site-packages/graphein/protein/graphs.py\" target=\"_blank\"><span style=\"color: #7f7f7f; text-decoration-color: #7f7f7f\">graphs.py</span></a><span style=\"color: #7f7f7f; text-decoration-color: #7f7f7f\">:</span><a href=\"file:///Users/lavo/Desktop/Projects/CHL-Project/.venv/lib/python3.10/site-packages/graphein/protein/graphs.py#435\" target=\"_blank\"><span style=\"color: #7f7f7f; text-decoration-color: #7f7f7f\">435</span></a>\n",
       "</pre>\n"
      ],
      "text/plain": [
       "\u001b[2;36m                   \u001b[0m\u001b[2;36m \u001b[0m\u001b[32mDEBUG   \u001b[0m Detected \u001b[1;36m445\u001b[0m total nodes                                                 \u001b]8;id=983325;file:///Users/lavo/Desktop/Projects/CHL-Project/.venv/lib/python3.10/site-packages/graphein/protein/graphs.py\u001b\\\u001b[2mgraphs.py\u001b[0m\u001b]8;;\u001b\\\u001b[2m:\u001b[0m\u001b]8;id=991054;file:///Users/lavo/Desktop/Projects/CHL-Project/.venv/lib/python3.10/site-packages/graphein/protein/graphs.py#435\u001b\\\u001b[2m435\u001b[0m\u001b]8;;\u001b\\\n"
      ]
     },
     "metadata": {},
     "output_type": "display_data"
    },
    {
     "data": {
      "text/html": [
       "<pre style=\"white-space:pre;overflow-x:auto;line-height:normal;font-family:Menlo,'DejaVu Sans Mono',consolas,'Courier New',monospace\"></pre>\n"
      ],
      "text/plain": []
     },
     "metadata": {},
     "output_type": "display_data"
    },
    {
     "data": {
      "text/html": [
       "<pre style=\"white-space:pre;overflow-x:auto;line-height:normal;font-family:Menlo,'DejaVu Sans Mono',consolas,'Courier New',monospace\">\n",
       "</pre>\n"
      ],
      "text/plain": [
       "\n"
      ]
     },
     "metadata": {},
     "output_type": "display_data"
    },
    {
     "data": {
      "application/vnd.jupyter.widget-view+json": {
       "model_id": "ca58fc70ccad46e69fe8759ef752115e",
       "version_major": 2,
       "version_minor": 0
      },
      "text/plain": [
       "Output()"
      ]
     },
     "metadata": {},
     "output_type": "display_data"
    },
    {
     "data": {
      "text/html": [
       "<pre style=\"white-space:pre;overflow-x:auto;line-height:normal;font-family:Menlo,'DejaVu Sans Mono',consolas,'Courier New',monospace\"><span style=\"color: #7fbfbf; text-decoration-color: #7fbfbf\">                    </span><span style=\"color: #008000; text-decoration-color: #008000\">DEBUG   </span> Deprotonating protein. This removes H atoms from the pdb_df dataframe    <a href=\"file:///Users/lavo/Desktop/Projects/CHL-Project/.venv/lib/python3.10/site-packages/graphein/protein/graphs.py\" target=\"_blank\"><span style=\"color: #7f7f7f; text-decoration-color: #7f7f7f\">graphs.py</span></a><span style=\"color: #7f7f7f; text-decoration-color: #7f7f7f\">:</span><a href=\"file:///Users/lavo/Desktop/Projects/CHL-Project/.venv/lib/python3.10/site-packages/graphein/protein/graphs.py#188\" target=\"_blank\"><span style=\"color: #7f7f7f; text-decoration-color: #7f7f7f\">188</span></a>\n",
       "</pre>\n"
      ],
      "text/plain": [
       "\u001b[2;36m                   \u001b[0m\u001b[2;36m \u001b[0m\u001b[32mDEBUG   \u001b[0m Deprotonating protein. This removes H atoms from the pdb_df dataframe    \u001b]8;id=760381;file:///Users/lavo/Desktop/Projects/CHL-Project/.venv/lib/python3.10/site-packages/graphein/protein/graphs.py\u001b\\\u001b[2mgraphs.py\u001b[0m\u001b]8;;\u001b\\\u001b[2m:\u001b[0m\u001b]8;id=567903;file:///Users/lavo/Desktop/Projects/CHL-Project/.venv/lib/python3.10/site-packages/graphein/protein/graphs.py#188\u001b\\\u001b[2m188\u001b[0m\u001b]8;;\u001b\\\n"
      ]
     },
     "metadata": {},
     "output_type": "display_data"
    },
    {
     "data": {
      "text/html": [
       "<pre style=\"white-space:pre;overflow-x:auto;line-height:normal;font-family:Menlo,'DejaVu Sans Mono',consolas,'Courier New',monospace\"><span style=\"color: #7fbfbf; text-decoration-color: #7fbfbf\">                    </span><span style=\"color: #008000; text-decoration-color: #008000\">DEBUG   </span> Detected <span style=\"color: #008080; text-decoration-color: #008080; font-weight: bold\">445</span> total nodes                                                 <a href=\"file:///Users/lavo/Desktop/Projects/CHL-Project/.venv/lib/python3.10/site-packages/graphein/protein/graphs.py\" target=\"_blank\"><span style=\"color: #7f7f7f; text-decoration-color: #7f7f7f\">graphs.py</span></a><span style=\"color: #7f7f7f; text-decoration-color: #7f7f7f\">:</span><a href=\"file:///Users/lavo/Desktop/Projects/CHL-Project/.venv/lib/python3.10/site-packages/graphein/protein/graphs.py#435\" target=\"_blank\"><span style=\"color: #7f7f7f; text-decoration-color: #7f7f7f\">435</span></a>\n",
       "</pre>\n"
      ],
      "text/plain": [
       "\u001b[2;36m                   \u001b[0m\u001b[2;36m \u001b[0m\u001b[32mDEBUG   \u001b[0m Detected \u001b[1;36m445\u001b[0m total nodes                                                 \u001b]8;id=943594;file:///Users/lavo/Desktop/Projects/CHL-Project/.venv/lib/python3.10/site-packages/graphein/protein/graphs.py\u001b\\\u001b[2mgraphs.py\u001b[0m\u001b]8;;\u001b\\\u001b[2m:\u001b[0m\u001b]8;id=56520;file:///Users/lavo/Desktop/Projects/CHL-Project/.venv/lib/python3.10/site-packages/graphein/protein/graphs.py#435\u001b\\\u001b[2m435\u001b[0m\u001b]8;;\u001b\\\n"
      ]
     },
     "metadata": {},
     "output_type": "display_data"
    },
    {
     "name": "stdout",
     "output_type": "stream",
     "text": [
      "P230S\n"
     ]
    },
    {
     "data": {
      "text/html": [
       "<pre style=\"white-space:pre;overflow-x:auto;line-height:normal;font-family:Menlo,'DejaVu Sans Mono',consolas,'Courier New',monospace\"></pre>\n"
      ],
      "text/plain": []
     },
     "metadata": {},
     "output_type": "display_data"
    },
    {
     "data": {
      "text/html": [
       "<pre style=\"white-space:pre;overflow-x:auto;line-height:normal;font-family:Menlo,'DejaVu Sans Mono',consolas,'Courier New',monospace\">\n",
       "</pre>\n"
      ],
      "text/plain": [
       "\n"
      ]
     },
     "metadata": {},
     "output_type": "display_data"
    },
    {
     "data": {
      "application/vnd.jupyter.widget-view+json": {
       "model_id": "deb583ddcaa84a32b94509572058c196",
       "version_major": 2,
       "version_minor": 0
      },
      "text/plain": [
       "Output()"
      ]
     },
     "metadata": {},
     "output_type": "display_data"
    },
    {
     "data": {
      "text/html": [
       "<pre style=\"white-space:pre;overflow-x:auto;line-height:normal;font-family:Menlo,'DejaVu Sans Mono',consolas,'Courier New',monospace\"><span style=\"color: #7fbfbf; text-decoration-color: #7fbfbf\">[04/29/24 09:45:21] </span><span style=\"color: #008000; text-decoration-color: #008000\">DEBUG   </span> Deprotonating protein. This removes H atoms from the pdb_df dataframe    <a href=\"file:///Users/lavo/Desktop/Projects/CHL-Project/.venv/lib/python3.10/site-packages/graphein/protein/graphs.py\" target=\"_blank\"><span style=\"color: #7f7f7f; text-decoration-color: #7f7f7f\">graphs.py</span></a><span style=\"color: #7f7f7f; text-decoration-color: #7f7f7f\">:</span><a href=\"file:///Users/lavo/Desktop/Projects/CHL-Project/.venv/lib/python3.10/site-packages/graphein/protein/graphs.py#188\" target=\"_blank\"><span style=\"color: #7f7f7f; text-decoration-color: #7f7f7f\">188</span></a>\n",
       "</pre>\n"
      ],
      "text/plain": [
       "\u001b[2;36m[04/29/24 09:45:21]\u001b[0m\u001b[2;36m \u001b[0m\u001b[32mDEBUG   \u001b[0m Deprotonating protein. This removes H atoms from the pdb_df dataframe    \u001b]8;id=270718;file:///Users/lavo/Desktop/Projects/CHL-Project/.venv/lib/python3.10/site-packages/graphein/protein/graphs.py\u001b\\\u001b[2mgraphs.py\u001b[0m\u001b]8;;\u001b\\\u001b[2m:\u001b[0m\u001b]8;id=766645;file:///Users/lavo/Desktop/Projects/CHL-Project/.venv/lib/python3.10/site-packages/graphein/protein/graphs.py#188\u001b\\\u001b[2m188\u001b[0m\u001b]8;;\u001b\\\n"
      ]
     },
     "metadata": {},
     "output_type": "display_data"
    },
    {
     "data": {
      "text/html": [
       "<pre style=\"white-space:pre;overflow-x:auto;line-height:normal;font-family:Menlo,'DejaVu Sans Mono',consolas,'Courier New',monospace\"><span style=\"color: #7fbfbf; text-decoration-color: #7fbfbf\">                    </span><span style=\"color: #008000; text-decoration-color: #008000\">DEBUG   </span> Detected <span style=\"color: #008080; text-decoration-color: #008080; font-weight: bold\">445</span> total nodes                                                 <a href=\"file:///Users/lavo/Desktop/Projects/CHL-Project/.venv/lib/python3.10/site-packages/graphein/protein/graphs.py\" target=\"_blank\"><span style=\"color: #7f7f7f; text-decoration-color: #7f7f7f\">graphs.py</span></a><span style=\"color: #7f7f7f; text-decoration-color: #7f7f7f\">:</span><a href=\"file:///Users/lavo/Desktop/Projects/CHL-Project/.venv/lib/python3.10/site-packages/graphein/protein/graphs.py#435\" target=\"_blank\"><span style=\"color: #7f7f7f; text-decoration-color: #7f7f7f\">435</span></a>\n",
       "</pre>\n"
      ],
      "text/plain": [
       "\u001b[2;36m                   \u001b[0m\u001b[2;36m \u001b[0m\u001b[32mDEBUG   \u001b[0m Detected \u001b[1;36m445\u001b[0m total nodes                                                 \u001b]8;id=522101;file:///Users/lavo/Desktop/Projects/CHL-Project/.venv/lib/python3.10/site-packages/graphein/protein/graphs.py\u001b\\\u001b[2mgraphs.py\u001b[0m\u001b]8;;\u001b\\\u001b[2m:\u001b[0m\u001b]8;id=483916;file:///Users/lavo/Desktop/Projects/CHL-Project/.venv/lib/python3.10/site-packages/graphein/protein/graphs.py#435\u001b\\\u001b[2m435\u001b[0m\u001b]8;;\u001b\\\n"
      ]
     },
     "metadata": {},
     "output_type": "display_data"
    },
    {
     "data": {
      "text/html": [
       "<pre style=\"white-space:pre;overflow-x:auto;line-height:normal;font-family:Menlo,'DejaVu Sans Mono',consolas,'Courier New',monospace\"></pre>\n"
      ],
      "text/plain": []
     },
     "metadata": {},
     "output_type": "display_data"
    },
    {
     "data": {
      "text/html": [
       "<pre style=\"white-space:pre;overflow-x:auto;line-height:normal;font-family:Menlo,'DejaVu Sans Mono',consolas,'Courier New',monospace\">\n",
       "</pre>\n"
      ],
      "text/plain": [
       "\n"
      ]
     },
     "metadata": {},
     "output_type": "display_data"
    },
    {
     "data": {
      "application/vnd.jupyter.widget-view+json": {
       "model_id": "619915f5f97141daa3b55fc0b94b4ca9",
       "version_major": 2,
       "version_minor": 0
      },
      "text/plain": [
       "Output()"
      ]
     },
     "metadata": {},
     "output_type": "display_data"
    },
    {
     "data": {
      "text/html": [
       "<pre style=\"white-space:pre;overflow-x:auto;line-height:normal;font-family:Menlo,'DejaVu Sans Mono',consolas,'Courier New',monospace\"><span style=\"color: #7fbfbf; text-decoration-color: #7fbfbf\">                    </span><span style=\"color: #008000; text-decoration-color: #008000\">DEBUG   </span> Deprotonating protein. This removes H atoms from the pdb_df dataframe    <a href=\"file:///Users/lavo/Desktop/Projects/CHL-Project/.venv/lib/python3.10/site-packages/graphein/protein/graphs.py\" target=\"_blank\"><span style=\"color: #7f7f7f; text-decoration-color: #7f7f7f\">graphs.py</span></a><span style=\"color: #7f7f7f; text-decoration-color: #7f7f7f\">:</span><a href=\"file:///Users/lavo/Desktop/Projects/CHL-Project/.venv/lib/python3.10/site-packages/graphein/protein/graphs.py#188\" target=\"_blank\"><span style=\"color: #7f7f7f; text-decoration-color: #7f7f7f\">188</span></a>\n",
       "</pre>\n"
      ],
      "text/plain": [
       "\u001b[2;36m                   \u001b[0m\u001b[2;36m \u001b[0m\u001b[32mDEBUG   \u001b[0m Deprotonating protein. This removes H atoms from the pdb_df dataframe    \u001b]8;id=815850;file:///Users/lavo/Desktop/Projects/CHL-Project/.venv/lib/python3.10/site-packages/graphein/protein/graphs.py\u001b\\\u001b[2mgraphs.py\u001b[0m\u001b]8;;\u001b\\\u001b[2m:\u001b[0m\u001b]8;id=383205;file:///Users/lavo/Desktop/Projects/CHL-Project/.venv/lib/python3.10/site-packages/graphein/protein/graphs.py#188\u001b\\\u001b[2m188\u001b[0m\u001b]8;;\u001b\\\n"
      ]
     },
     "metadata": {},
     "output_type": "display_data"
    },
    {
     "data": {
      "text/html": [
       "<pre style=\"white-space:pre;overflow-x:auto;line-height:normal;font-family:Menlo,'DejaVu Sans Mono',consolas,'Courier New',monospace\"><span style=\"color: #7fbfbf; text-decoration-color: #7fbfbf\">                    </span><span style=\"color: #008000; text-decoration-color: #008000\">DEBUG   </span> Detected <span style=\"color: #008080; text-decoration-color: #008080; font-weight: bold\">445</span> total nodes                                                 <a href=\"file:///Users/lavo/Desktop/Projects/CHL-Project/.venv/lib/python3.10/site-packages/graphein/protein/graphs.py\" target=\"_blank\"><span style=\"color: #7f7f7f; text-decoration-color: #7f7f7f\">graphs.py</span></a><span style=\"color: #7f7f7f; text-decoration-color: #7f7f7f\">:</span><a href=\"file:///Users/lavo/Desktop/Projects/CHL-Project/.venv/lib/python3.10/site-packages/graphein/protein/graphs.py#435\" target=\"_blank\"><span style=\"color: #7f7f7f; text-decoration-color: #7f7f7f\">435</span></a>\n",
       "</pre>\n"
      ],
      "text/plain": [
       "\u001b[2;36m                   \u001b[0m\u001b[2;36m \u001b[0m\u001b[32mDEBUG   \u001b[0m Detected \u001b[1;36m445\u001b[0m total nodes                                                 \u001b]8;id=22844;file:///Users/lavo/Desktop/Projects/CHL-Project/.venv/lib/python3.10/site-packages/graphein/protein/graphs.py\u001b\\\u001b[2mgraphs.py\u001b[0m\u001b]8;;\u001b\\\u001b[2m:\u001b[0m\u001b]8;id=880091;file:///Users/lavo/Desktop/Projects/CHL-Project/.venv/lib/python3.10/site-packages/graphein/protein/graphs.py#435\u001b\\\u001b[2m435\u001b[0m\u001b]8;;\u001b\\\n"
      ]
     },
     "metadata": {},
     "output_type": "display_data"
    },
    {
     "name": "stdout",
     "output_type": "stream",
     "text": [
      "I346T\n"
     ]
    },
    {
     "data": {
      "text/html": [
       "<pre style=\"white-space:pre;overflow-x:auto;line-height:normal;font-family:Menlo,'DejaVu Sans Mono',consolas,'Courier New',monospace\"></pre>\n"
      ],
      "text/plain": []
     },
     "metadata": {},
     "output_type": "display_data"
    },
    {
     "data": {
      "text/html": [
       "<pre style=\"white-space:pre;overflow-x:auto;line-height:normal;font-family:Menlo,'DejaVu Sans Mono',consolas,'Courier New',monospace\">\n",
       "</pre>\n"
      ],
      "text/plain": [
       "\n"
      ]
     },
     "metadata": {},
     "output_type": "display_data"
    },
    {
     "data": {
      "application/vnd.jupyter.widget-view+json": {
       "model_id": "89e3f0a9d8754e07a9ec539bc6890396",
       "version_major": 2,
       "version_minor": 0
      },
      "text/plain": [
       "Output()"
      ]
     },
     "metadata": {},
     "output_type": "display_data"
    },
    {
     "name": "stdout",
     "output_type": "stream",
     "text": [
      "W97G\n"
     ]
    },
    {
     "data": {
      "text/html": [
       "<pre style=\"white-space:pre;overflow-x:auto;line-height:normal;font-family:Menlo,'DejaVu Sans Mono',consolas,'Courier New',monospace\"><span style=\"color: #7fbfbf; text-decoration-color: #7fbfbf\">                    </span><span style=\"color: #008000; text-decoration-color: #008000\">DEBUG   </span> Deprotonating protein. This removes H atoms from the pdb_df dataframe    <a href=\"file:///Users/lavo/Desktop/Projects/CHL-Project/.venv/lib/python3.10/site-packages/graphein/protein/graphs.py\" target=\"_blank\"><span style=\"color: #7f7f7f; text-decoration-color: #7f7f7f\">graphs.py</span></a><span style=\"color: #7f7f7f; text-decoration-color: #7f7f7f\">:</span><a href=\"file:///Users/lavo/Desktop/Projects/CHL-Project/.venv/lib/python3.10/site-packages/graphein/protein/graphs.py#188\" target=\"_blank\"><span style=\"color: #7f7f7f; text-decoration-color: #7f7f7f\">188</span></a>\n",
       "</pre>\n"
      ],
      "text/plain": [
       "\u001b[2;36m                   \u001b[0m\u001b[2;36m \u001b[0m\u001b[32mDEBUG   \u001b[0m Deprotonating protein. This removes H atoms from the pdb_df dataframe    \u001b]8;id=292850;file:///Users/lavo/Desktop/Projects/CHL-Project/.venv/lib/python3.10/site-packages/graphein/protein/graphs.py\u001b\\\u001b[2mgraphs.py\u001b[0m\u001b]8;;\u001b\\\u001b[2m:\u001b[0m\u001b]8;id=554820;file:///Users/lavo/Desktop/Projects/CHL-Project/.venv/lib/python3.10/site-packages/graphein/protein/graphs.py#188\u001b\\\u001b[2m188\u001b[0m\u001b]8;;\u001b\\\n"
      ]
     },
     "metadata": {},
     "output_type": "display_data"
    },
    {
     "data": {
      "text/html": [
       "<pre style=\"white-space:pre;overflow-x:auto;line-height:normal;font-family:Menlo,'DejaVu Sans Mono',consolas,'Courier New',monospace\"><span style=\"color: #7fbfbf; text-decoration-color: #7fbfbf\">                    </span><span style=\"color: #008000; text-decoration-color: #008000\">DEBUG   </span> Detected <span style=\"color: #008080; text-decoration-color: #008080; font-weight: bold\">445</span> total nodes                                                 <a href=\"file:///Users/lavo/Desktop/Projects/CHL-Project/.venv/lib/python3.10/site-packages/graphein/protein/graphs.py\" target=\"_blank\"><span style=\"color: #7f7f7f; text-decoration-color: #7f7f7f\">graphs.py</span></a><span style=\"color: #7f7f7f; text-decoration-color: #7f7f7f\">:</span><a href=\"file:///Users/lavo/Desktop/Projects/CHL-Project/.venv/lib/python3.10/site-packages/graphein/protein/graphs.py#435\" target=\"_blank\"><span style=\"color: #7f7f7f; text-decoration-color: #7f7f7f\">435</span></a>\n",
       "</pre>\n"
      ],
      "text/plain": [
       "\u001b[2;36m                   \u001b[0m\u001b[2;36m \u001b[0m\u001b[32mDEBUG   \u001b[0m Detected \u001b[1;36m445\u001b[0m total nodes                                                 \u001b]8;id=441162;file:///Users/lavo/Desktop/Projects/CHL-Project/.venv/lib/python3.10/site-packages/graphein/protein/graphs.py\u001b\\\u001b[2mgraphs.py\u001b[0m\u001b]8;;\u001b\\\u001b[2m:\u001b[0m\u001b]8;id=20354;file:///Users/lavo/Desktop/Projects/CHL-Project/.venv/lib/python3.10/site-packages/graphein/protein/graphs.py#435\u001b\\\u001b[2m435\u001b[0m\u001b]8;;\u001b\\\n"
      ]
     },
     "metadata": {},
     "output_type": "display_data"
    },
    {
     "data": {
      "text/html": [
       "<pre style=\"white-space:pre;overflow-x:auto;line-height:normal;font-family:Menlo,'DejaVu Sans Mono',consolas,'Courier New',monospace\"></pre>\n"
      ],
      "text/plain": []
     },
     "metadata": {},
     "output_type": "display_data"
    },
    {
     "data": {
      "text/html": [
       "<pre style=\"white-space:pre;overflow-x:auto;line-height:normal;font-family:Menlo,'DejaVu Sans Mono',consolas,'Courier New',monospace\">\n",
       "</pre>\n"
      ],
      "text/plain": [
       "\n"
      ]
     },
     "metadata": {},
     "output_type": "display_data"
    },
    {
     "data": {
      "application/vnd.jupyter.widget-view+json": {
       "model_id": "fead1fec696c40a2832251b1a4ca8638",
       "version_major": 2,
       "version_minor": 0
      },
      "text/plain": [
       "Output()"
      ]
     },
     "metadata": {},
     "output_type": "display_data"
    },
    {
     "data": {
      "text/html": [
       "<pre style=\"white-space:pre;overflow-x:auto;line-height:normal;font-family:Menlo,'DejaVu Sans Mono',consolas,'Courier New',monospace\"><span style=\"color: #7fbfbf; text-decoration-color: #7fbfbf\">                    </span><span style=\"color: #008000; text-decoration-color: #008000\">DEBUG   </span> Deprotonating protein. This removes H atoms from the pdb_df dataframe    <a href=\"file:///Users/lavo/Desktop/Projects/CHL-Project/.venv/lib/python3.10/site-packages/graphein/protein/graphs.py\" target=\"_blank\"><span style=\"color: #7f7f7f; text-decoration-color: #7f7f7f\">graphs.py</span></a><span style=\"color: #7f7f7f; text-decoration-color: #7f7f7f\">:</span><a href=\"file:///Users/lavo/Desktop/Projects/CHL-Project/.venv/lib/python3.10/site-packages/graphein/protein/graphs.py#188\" target=\"_blank\"><span style=\"color: #7f7f7f; text-decoration-color: #7f7f7f\">188</span></a>\n",
       "</pre>\n"
      ],
      "text/plain": [
       "\u001b[2;36m                   \u001b[0m\u001b[2;36m \u001b[0m\u001b[32mDEBUG   \u001b[0m Deprotonating protein. This removes H atoms from the pdb_df dataframe    \u001b]8;id=918098;file:///Users/lavo/Desktop/Projects/CHL-Project/.venv/lib/python3.10/site-packages/graphein/protein/graphs.py\u001b\\\u001b[2mgraphs.py\u001b[0m\u001b]8;;\u001b\\\u001b[2m:\u001b[0m\u001b]8;id=531490;file:///Users/lavo/Desktop/Projects/CHL-Project/.venv/lib/python3.10/site-packages/graphein/protein/graphs.py#188\u001b\\\u001b[2m188\u001b[0m\u001b]8;;\u001b\\\n"
      ]
     },
     "metadata": {},
     "output_type": "display_data"
    },
    {
     "data": {
      "text/html": [
       "<pre style=\"white-space:pre;overflow-x:auto;line-height:normal;font-family:Menlo,'DejaVu Sans Mono',consolas,'Courier New',monospace\"><span style=\"color: #7fbfbf; text-decoration-color: #7fbfbf\">                    </span><span style=\"color: #008000; text-decoration-color: #008000\">DEBUG   </span> Detected <span style=\"color: #008080; text-decoration-color: #008080; font-weight: bold\">445</span> total nodes                                                 <a href=\"file:///Users/lavo/Desktop/Projects/CHL-Project/.venv/lib/python3.10/site-packages/graphein/protein/graphs.py\" target=\"_blank\"><span style=\"color: #7f7f7f; text-decoration-color: #7f7f7f\">graphs.py</span></a><span style=\"color: #7f7f7f; text-decoration-color: #7f7f7f\">:</span><a href=\"file:///Users/lavo/Desktop/Projects/CHL-Project/.venv/lib/python3.10/site-packages/graphein/protein/graphs.py#435\" target=\"_blank\"><span style=\"color: #7f7f7f; text-decoration-color: #7f7f7f\">435</span></a>\n",
       "</pre>\n"
      ],
      "text/plain": [
       "\u001b[2;36m                   \u001b[0m\u001b[2;36m \u001b[0m\u001b[32mDEBUG   \u001b[0m Detected \u001b[1;36m445\u001b[0m total nodes                                                 \u001b]8;id=847534;file:///Users/lavo/Desktop/Projects/CHL-Project/.venv/lib/python3.10/site-packages/graphein/protein/graphs.py\u001b\\\u001b[2mgraphs.py\u001b[0m\u001b]8;;\u001b\\\u001b[2m:\u001b[0m\u001b]8;id=938004;file:///Users/lavo/Desktop/Projects/CHL-Project/.venv/lib/python3.10/site-packages/graphein/protein/graphs.py#435\u001b\\\u001b[2m435\u001b[0m\u001b]8;;\u001b\\\n"
      ]
     },
     "metadata": {},
     "output_type": "display_data"
    },
    {
     "name": "stdout",
     "output_type": "stream",
     "text": [
      "D18Y\n"
     ]
    },
    {
     "data": {
      "text/html": [
       "<pre style=\"white-space:pre;overflow-x:auto;line-height:normal;font-family:Menlo,'DejaVu Sans Mono',consolas,'Courier New',monospace\"></pre>\n"
      ],
      "text/plain": []
     },
     "metadata": {},
     "output_type": "display_data"
    },
    {
     "data": {
      "text/html": [
       "<pre style=\"white-space:pre;overflow-x:auto;line-height:normal;font-family:Menlo,'DejaVu Sans Mono',consolas,'Courier New',monospace\">\n",
       "</pre>\n"
      ],
      "text/plain": [
       "\n"
      ]
     },
     "metadata": {},
     "output_type": "display_data"
    },
    {
     "data": {
      "application/vnd.jupyter.widget-view+json": {
       "model_id": "e6b30474d57b4a2ca39979c0341ece69",
       "version_major": 2,
       "version_minor": 0
      },
      "text/plain": [
       "Output()"
      ]
     },
     "metadata": {},
     "output_type": "display_data"
    },
    {
     "data": {
      "text/html": [
       "<pre style=\"white-space:pre;overflow-x:auto;line-height:normal;font-family:Menlo,'DejaVu Sans Mono',consolas,'Courier New',monospace\"><span style=\"color: #7fbfbf; text-decoration-color: #7fbfbf\">                    </span><span style=\"color: #008000; text-decoration-color: #008000\">DEBUG   </span> Deprotonating protein. This removes H atoms from the pdb_df dataframe    <a href=\"file:///Users/lavo/Desktop/Projects/CHL-Project/.venv/lib/python3.10/site-packages/graphein/protein/graphs.py\" target=\"_blank\"><span style=\"color: #7f7f7f; text-decoration-color: #7f7f7f\">graphs.py</span></a><span style=\"color: #7f7f7f; text-decoration-color: #7f7f7f\">:</span><a href=\"file:///Users/lavo/Desktop/Projects/CHL-Project/.venv/lib/python3.10/site-packages/graphein/protein/graphs.py#188\" target=\"_blank\"><span style=\"color: #7f7f7f; text-decoration-color: #7f7f7f\">188</span></a>\n",
       "</pre>\n"
      ],
      "text/plain": [
       "\u001b[2;36m                   \u001b[0m\u001b[2;36m \u001b[0m\u001b[32mDEBUG   \u001b[0m Deprotonating protein. This removes H atoms from the pdb_df dataframe    \u001b]8;id=574217;file:///Users/lavo/Desktop/Projects/CHL-Project/.venv/lib/python3.10/site-packages/graphein/protein/graphs.py\u001b\\\u001b[2mgraphs.py\u001b[0m\u001b]8;;\u001b\\\u001b[2m:\u001b[0m\u001b]8;id=110160;file:///Users/lavo/Desktop/Projects/CHL-Project/.venv/lib/python3.10/site-packages/graphein/protein/graphs.py#188\u001b\\\u001b[2m188\u001b[0m\u001b]8;;\u001b\\\n"
      ]
     },
     "metadata": {},
     "output_type": "display_data"
    },
    {
     "data": {
      "text/html": [
       "<pre style=\"white-space:pre;overflow-x:auto;line-height:normal;font-family:Menlo,'DejaVu Sans Mono',consolas,'Courier New',monospace\"><span style=\"color: #7fbfbf; text-decoration-color: #7fbfbf\">                    </span><span style=\"color: #008000; text-decoration-color: #008000\">DEBUG   </span> Detected <span style=\"color: #008080; text-decoration-color: #008080; font-weight: bold\">445</span> total nodes                                                 <a href=\"file:///Users/lavo/Desktop/Projects/CHL-Project/.venv/lib/python3.10/site-packages/graphein/protein/graphs.py\" target=\"_blank\"><span style=\"color: #7f7f7f; text-decoration-color: #7f7f7f\">graphs.py</span></a><span style=\"color: #7f7f7f; text-decoration-color: #7f7f7f\">:</span><a href=\"file:///Users/lavo/Desktop/Projects/CHL-Project/.venv/lib/python3.10/site-packages/graphein/protein/graphs.py#435\" target=\"_blank\"><span style=\"color: #7f7f7f; text-decoration-color: #7f7f7f\">435</span></a>\n",
       "</pre>\n"
      ],
      "text/plain": [
       "\u001b[2;36m                   \u001b[0m\u001b[2;36m \u001b[0m\u001b[32mDEBUG   \u001b[0m Detected \u001b[1;36m445\u001b[0m total nodes                                                 \u001b]8;id=289430;file:///Users/lavo/Desktop/Projects/CHL-Project/.venv/lib/python3.10/site-packages/graphein/protein/graphs.py\u001b\\\u001b[2mgraphs.py\u001b[0m\u001b]8;;\u001b\\\u001b[2m:\u001b[0m\u001b]8;id=633428;file:///Users/lavo/Desktop/Projects/CHL-Project/.venv/lib/python3.10/site-packages/graphein/protein/graphs.py#435\u001b\\\u001b[2m435\u001b[0m\u001b]8;;\u001b\\\n"
      ]
     },
     "metadata": {},
     "output_type": "display_data"
    },
    {
     "name": "stdout",
     "output_type": "stream",
     "text": [
      "V300G\n"
     ]
    },
    {
     "data": {
      "text/html": [
       "<pre style=\"white-space:pre;overflow-x:auto;line-height:normal;font-family:Menlo,'DejaVu Sans Mono',consolas,'Courier New',monospace\"></pre>\n"
      ],
      "text/plain": []
     },
     "metadata": {},
     "output_type": "display_data"
    },
    {
     "data": {
      "text/html": [
       "<pre style=\"white-space:pre;overflow-x:auto;line-height:normal;font-family:Menlo,'DejaVu Sans Mono',consolas,'Courier New',monospace\">\n",
       "</pre>\n"
      ],
      "text/plain": [
       "\n"
      ]
     },
     "metadata": {},
     "output_type": "display_data"
    },
    {
     "data": {
      "application/vnd.jupyter.widget-view+json": {
       "model_id": "c28fea6f8e8a431d8cbe38e9272d1984",
       "version_major": 2,
       "version_minor": 0
      },
      "text/plain": [
       "Output()"
      ]
     },
     "metadata": {},
     "output_type": "display_data"
    },
    {
     "name": "stdout",
     "output_type": "stream",
     "text": [
      "F73L\n"
     ]
    },
    {
     "data": {
      "text/html": [
       "<pre style=\"white-space:pre;overflow-x:auto;line-height:normal;font-family:Menlo,'DejaVu Sans Mono',consolas,'Courier New',monospace\"><span style=\"color: #7fbfbf; text-decoration-color: #7fbfbf\">                    </span><span style=\"color: #008000; text-decoration-color: #008000\">DEBUG   </span> Deprotonating protein. This removes H atoms from the pdb_df dataframe    <a href=\"file:///Users/lavo/Desktop/Projects/CHL-Project/.venv/lib/python3.10/site-packages/graphein/protein/graphs.py\" target=\"_blank\"><span style=\"color: #7f7f7f; text-decoration-color: #7f7f7f\">graphs.py</span></a><span style=\"color: #7f7f7f; text-decoration-color: #7f7f7f\">:</span><a href=\"file:///Users/lavo/Desktop/Projects/CHL-Project/.venv/lib/python3.10/site-packages/graphein/protein/graphs.py#188\" target=\"_blank\"><span style=\"color: #7f7f7f; text-decoration-color: #7f7f7f\">188</span></a>\n",
       "</pre>\n"
      ],
      "text/plain": [
       "\u001b[2;36m                   \u001b[0m\u001b[2;36m \u001b[0m\u001b[32mDEBUG   \u001b[0m Deprotonating protein. This removes H atoms from the pdb_df dataframe    \u001b]8;id=666414;file:///Users/lavo/Desktop/Projects/CHL-Project/.venv/lib/python3.10/site-packages/graphein/protein/graphs.py\u001b\\\u001b[2mgraphs.py\u001b[0m\u001b]8;;\u001b\\\u001b[2m:\u001b[0m\u001b]8;id=577194;file:///Users/lavo/Desktop/Projects/CHL-Project/.venv/lib/python3.10/site-packages/graphein/protein/graphs.py#188\u001b\\\u001b[2m188\u001b[0m\u001b]8;;\u001b\\\n"
      ]
     },
     "metadata": {},
     "output_type": "display_data"
    },
    {
     "data": {
      "text/html": [
       "<pre style=\"white-space:pre;overflow-x:auto;line-height:normal;font-family:Menlo,'DejaVu Sans Mono',consolas,'Courier New',monospace\"><span style=\"color: #7fbfbf; text-decoration-color: #7fbfbf\">                    </span><span style=\"color: #008000; text-decoration-color: #008000\">DEBUG   </span> Detected <span style=\"color: #008080; text-decoration-color: #008080; font-weight: bold\">445</span> total nodes                                                 <a href=\"file:///Users/lavo/Desktop/Projects/CHL-Project/.venv/lib/python3.10/site-packages/graphein/protein/graphs.py\" target=\"_blank\"><span style=\"color: #7f7f7f; text-decoration-color: #7f7f7f\">graphs.py</span></a><span style=\"color: #7f7f7f; text-decoration-color: #7f7f7f\">:</span><a href=\"file:///Users/lavo/Desktop/Projects/CHL-Project/.venv/lib/python3.10/site-packages/graphein/protein/graphs.py#435\" target=\"_blank\"><span style=\"color: #7f7f7f; text-decoration-color: #7f7f7f\">435</span></a>\n",
       "</pre>\n"
      ],
      "text/plain": [
       "\u001b[2;36m                   \u001b[0m\u001b[2;36m \u001b[0m\u001b[32mDEBUG   \u001b[0m Detected \u001b[1;36m445\u001b[0m total nodes                                                 \u001b]8;id=64883;file:///Users/lavo/Desktop/Projects/CHL-Project/.venv/lib/python3.10/site-packages/graphein/protein/graphs.py\u001b\\\u001b[2mgraphs.py\u001b[0m\u001b]8;;\u001b\\\u001b[2m:\u001b[0m\u001b]8;id=238438;file:///Users/lavo/Desktop/Projects/CHL-Project/.venv/lib/python3.10/site-packages/graphein/protein/graphs.py#435\u001b\\\u001b[2m435\u001b[0m\u001b]8;;\u001b\\\n"
      ]
     },
     "metadata": {},
     "output_type": "display_data"
    },
    {
     "data": {
      "text/html": [
       "<pre style=\"white-space:pre;overflow-x:auto;line-height:normal;font-family:Menlo,'DejaVu Sans Mono',consolas,'Courier New',monospace\"></pre>\n"
      ],
      "text/plain": []
     },
     "metadata": {},
     "output_type": "display_data"
    },
    {
     "data": {
      "text/html": [
       "<pre style=\"white-space:pre;overflow-x:auto;line-height:normal;font-family:Menlo,'DejaVu Sans Mono',consolas,'Courier New',monospace\">\n",
       "</pre>\n"
      ],
      "text/plain": [
       "\n"
      ]
     },
     "metadata": {},
     "output_type": "display_data"
    },
    {
     "data": {
      "application/vnd.jupyter.widget-view+json": {
       "model_id": "ce009f60e9654378b45ce410289f07a2",
       "version_major": 2,
       "version_minor": 0
      },
      "text/plain": [
       "Output()"
      ]
     },
     "metadata": {},
     "output_type": "display_data"
    },
    {
     "name": "stdout",
     "output_type": "stream",
     "text": [
      "G205D\n"
     ]
    },
    {
     "data": {
      "text/html": [
       "<pre style=\"white-space:pre;overflow-x:auto;line-height:normal;font-family:Menlo,'DejaVu Sans Mono',consolas,'Courier New',monospace\"><span style=\"color: #7fbfbf; text-decoration-color: #7fbfbf\">                    </span><span style=\"color: #008000; text-decoration-color: #008000\">DEBUG   </span> Deprotonating protein. This removes H atoms from the pdb_df dataframe    <a href=\"file:///Users/lavo/Desktop/Projects/CHL-Project/.venv/lib/python3.10/site-packages/graphein/protein/graphs.py\" target=\"_blank\"><span style=\"color: #7f7f7f; text-decoration-color: #7f7f7f\">graphs.py</span></a><span style=\"color: #7f7f7f; text-decoration-color: #7f7f7f\">:</span><a href=\"file:///Users/lavo/Desktop/Projects/CHL-Project/.venv/lib/python3.10/site-packages/graphein/protein/graphs.py#188\" target=\"_blank\"><span style=\"color: #7f7f7f; text-decoration-color: #7f7f7f\">188</span></a>\n",
       "</pre>\n"
      ],
      "text/plain": [
       "\u001b[2;36m                   \u001b[0m\u001b[2;36m \u001b[0m\u001b[32mDEBUG   \u001b[0m Deprotonating protein. This removes H atoms from the pdb_df dataframe    \u001b]8;id=312979;file:///Users/lavo/Desktop/Projects/CHL-Project/.venv/lib/python3.10/site-packages/graphein/protein/graphs.py\u001b\\\u001b[2mgraphs.py\u001b[0m\u001b]8;;\u001b\\\u001b[2m:\u001b[0m\u001b]8;id=795751;file:///Users/lavo/Desktop/Projects/CHL-Project/.venv/lib/python3.10/site-packages/graphein/protein/graphs.py#188\u001b\\\u001b[2m188\u001b[0m\u001b]8;;\u001b\\\n"
      ]
     },
     "metadata": {},
     "output_type": "display_data"
    },
    {
     "data": {
      "text/html": [
       "<pre style=\"white-space:pre;overflow-x:auto;line-height:normal;font-family:Menlo,'DejaVu Sans Mono',consolas,'Courier New',monospace\"><span style=\"color: #7fbfbf; text-decoration-color: #7fbfbf\">                    </span><span style=\"color: #008000; text-decoration-color: #008000\">DEBUG   </span> Detected <span style=\"color: #008080; text-decoration-color: #008080; font-weight: bold\">445</span> total nodes                                                 <a href=\"file:///Users/lavo/Desktop/Projects/CHL-Project/.venv/lib/python3.10/site-packages/graphein/protein/graphs.py\" target=\"_blank\"><span style=\"color: #7f7f7f; text-decoration-color: #7f7f7f\">graphs.py</span></a><span style=\"color: #7f7f7f; text-decoration-color: #7f7f7f\">:</span><a href=\"file:///Users/lavo/Desktop/Projects/CHL-Project/.venv/lib/python3.10/site-packages/graphein/protein/graphs.py#435\" target=\"_blank\"><span style=\"color: #7f7f7f; text-decoration-color: #7f7f7f\">435</span></a>\n",
       "</pre>\n"
      ],
      "text/plain": [
       "\u001b[2;36m                   \u001b[0m\u001b[2;36m \u001b[0m\u001b[32mDEBUG   \u001b[0m Detected \u001b[1;36m445\u001b[0m total nodes                                                 \u001b]8;id=295239;file:///Users/lavo/Desktop/Projects/CHL-Project/.venv/lib/python3.10/site-packages/graphein/protein/graphs.py\u001b\\\u001b[2mgraphs.py\u001b[0m\u001b]8;;\u001b\\\u001b[2m:\u001b[0m\u001b]8;id=323664;file:///Users/lavo/Desktop/Projects/CHL-Project/.venv/lib/python3.10/site-packages/graphein/protein/graphs.py#435\u001b\\\u001b[2m435\u001b[0m\u001b]8;;\u001b\\\n"
      ]
     },
     "metadata": {},
     "output_type": "display_data"
    },
    {
     "data": {
      "text/html": [
       "<pre style=\"white-space:pre;overflow-x:auto;line-height:normal;font-family:Menlo,'DejaVu Sans Mono',consolas,'Courier New',monospace\"></pre>\n"
      ],
      "text/plain": []
     },
     "metadata": {},
     "output_type": "display_data"
    },
    {
     "data": {
      "text/html": [
       "<pre style=\"white-space:pre;overflow-x:auto;line-height:normal;font-family:Menlo,'DejaVu Sans Mono',consolas,'Courier New',monospace\">\n",
       "</pre>\n"
      ],
      "text/plain": [
       "\n"
      ]
     },
     "metadata": {},
     "output_type": "display_data"
    },
    {
     "data": {
      "application/vnd.jupyter.widget-view+json": {
       "model_id": "f52802ab340f40379acec67208337b0c",
       "version_major": 2,
       "version_minor": 0
      },
      "text/plain": [
       "Output()"
      ]
     },
     "metadata": {},
     "output_type": "display_data"
    },
    {
     "data": {
      "text/html": [
       "<pre style=\"white-space:pre;overflow-x:auto;line-height:normal;font-family:Menlo,'DejaVu Sans Mono',consolas,'Courier New',monospace\"><span style=\"color: #7fbfbf; text-decoration-color: #7fbfbf\">                    </span><span style=\"color: #008000; text-decoration-color: #008000\">DEBUG   </span> Deprotonating protein. This removes H atoms from the pdb_df dataframe    <a href=\"file:///Users/lavo/Desktop/Projects/CHL-Project/.venv/lib/python3.10/site-packages/graphein/protein/graphs.py\" target=\"_blank\"><span style=\"color: #7f7f7f; text-decoration-color: #7f7f7f\">graphs.py</span></a><span style=\"color: #7f7f7f; text-decoration-color: #7f7f7f\">:</span><a href=\"file:///Users/lavo/Desktop/Projects/CHL-Project/.venv/lib/python3.10/site-packages/graphein/protein/graphs.py#188\" target=\"_blank\"><span style=\"color: #7f7f7f; text-decoration-color: #7f7f7f\">188</span></a>\n",
       "</pre>\n"
      ],
      "text/plain": [
       "\u001b[2;36m                   \u001b[0m\u001b[2;36m \u001b[0m\u001b[32mDEBUG   \u001b[0m Deprotonating protein. This removes H atoms from the pdb_df dataframe    \u001b]8;id=81723;file:///Users/lavo/Desktop/Projects/CHL-Project/.venv/lib/python3.10/site-packages/graphein/protein/graphs.py\u001b\\\u001b[2mgraphs.py\u001b[0m\u001b]8;;\u001b\\\u001b[2m:\u001b[0m\u001b]8;id=632204;file:///Users/lavo/Desktop/Projects/CHL-Project/.venv/lib/python3.10/site-packages/graphein/protein/graphs.py#188\u001b\\\u001b[2m188\u001b[0m\u001b]8;;\u001b\\\n"
      ]
     },
     "metadata": {},
     "output_type": "display_data"
    },
    {
     "data": {
      "text/html": [
       "<pre style=\"white-space:pre;overflow-x:auto;line-height:normal;font-family:Menlo,'DejaVu Sans Mono',consolas,'Courier New',monospace\"><span style=\"color: #7fbfbf; text-decoration-color: #7fbfbf\">                    </span><span style=\"color: #008000; text-decoration-color: #008000\">DEBUG   </span> Detected <span style=\"color: #008080; text-decoration-color: #008080; font-weight: bold\">445</span> total nodes                                                 <a href=\"file:///Users/lavo/Desktop/Projects/CHL-Project/.venv/lib/python3.10/site-packages/graphein/protein/graphs.py\" target=\"_blank\"><span style=\"color: #7f7f7f; text-decoration-color: #7f7f7f\">graphs.py</span></a><span style=\"color: #7f7f7f; text-decoration-color: #7f7f7f\">:</span><a href=\"file:///Users/lavo/Desktop/Projects/CHL-Project/.venv/lib/python3.10/site-packages/graphein/protein/graphs.py#435\" target=\"_blank\"><span style=\"color: #7f7f7f; text-decoration-color: #7f7f7f\">435</span></a>\n",
       "</pre>\n"
      ],
      "text/plain": [
       "\u001b[2;36m                   \u001b[0m\u001b[2;36m \u001b[0m\u001b[32mDEBUG   \u001b[0m Detected \u001b[1;36m445\u001b[0m total nodes                                                 \u001b]8;id=81284;file:///Users/lavo/Desktop/Projects/CHL-Project/.venv/lib/python3.10/site-packages/graphein/protein/graphs.py\u001b\\\u001b[2mgraphs.py\u001b[0m\u001b]8;;\u001b\\\u001b[2m:\u001b[0m\u001b]8;id=17527;file:///Users/lavo/Desktop/Projects/CHL-Project/.venv/lib/python3.10/site-packages/graphein/protein/graphs.py#435\u001b\\\u001b[2m435\u001b[0m\u001b]8;;\u001b\\\n"
      ]
     },
     "metadata": {},
     "output_type": "display_data"
    },
    {
     "name": "stdout",
     "output_type": "stream",
     "text": [
      "G170A\n"
     ]
    },
    {
     "data": {
      "text/html": [
       "<pre style=\"white-space:pre;overflow-x:auto;line-height:normal;font-family:Menlo,'DejaVu Sans Mono',consolas,'Courier New',monospace\"></pre>\n"
      ],
      "text/plain": []
     },
     "metadata": {},
     "output_type": "display_data"
    },
    {
     "data": {
      "text/html": [
       "<pre style=\"white-space:pre;overflow-x:auto;line-height:normal;font-family:Menlo,'DejaVu Sans Mono',consolas,'Courier New',monospace\">\n",
       "</pre>\n"
      ],
      "text/plain": [
       "\n"
      ]
     },
     "metadata": {},
     "output_type": "display_data"
    },
    {
     "data": {
      "application/vnd.jupyter.widget-view+json": {
       "model_id": "219af8b8da3043d78490ae319479717f",
       "version_major": 2,
       "version_minor": 0
      },
      "text/plain": [
       "Output()"
      ]
     },
     "metadata": {},
     "output_type": "display_data"
    },
    {
     "data": {
      "text/html": [
       "<pre style=\"white-space:pre;overflow-x:auto;line-height:normal;font-family:Menlo,'DejaVu Sans Mono',consolas,'Courier New',monospace\"><span style=\"color: #7fbfbf; text-decoration-color: #7fbfbf\">                    </span><span style=\"color: #008000; text-decoration-color: #008000\">DEBUG   </span> Deprotonating protein. This removes H atoms from the pdb_df dataframe    <a href=\"file:///Users/lavo/Desktop/Projects/CHL-Project/.venv/lib/python3.10/site-packages/graphein/protein/graphs.py\" target=\"_blank\"><span style=\"color: #7f7f7f; text-decoration-color: #7f7f7f\">graphs.py</span></a><span style=\"color: #7f7f7f; text-decoration-color: #7f7f7f\">:</span><a href=\"file:///Users/lavo/Desktop/Projects/CHL-Project/.venv/lib/python3.10/site-packages/graphein/protein/graphs.py#188\" target=\"_blank\"><span style=\"color: #7f7f7f; text-decoration-color: #7f7f7f\">188</span></a>\n",
       "</pre>\n"
      ],
      "text/plain": [
       "\u001b[2;36m                   \u001b[0m\u001b[2;36m \u001b[0m\u001b[32mDEBUG   \u001b[0m Deprotonating protein. This removes H atoms from the pdb_df dataframe    \u001b]8;id=453296;file:///Users/lavo/Desktop/Projects/CHL-Project/.venv/lib/python3.10/site-packages/graphein/protein/graphs.py\u001b\\\u001b[2mgraphs.py\u001b[0m\u001b]8;;\u001b\\\u001b[2m:\u001b[0m\u001b]8;id=282114;file:///Users/lavo/Desktop/Projects/CHL-Project/.venv/lib/python3.10/site-packages/graphein/protein/graphs.py#188\u001b\\\u001b[2m188\u001b[0m\u001b]8;;\u001b\\\n"
      ]
     },
     "metadata": {},
     "output_type": "display_data"
    },
    {
     "data": {
      "text/html": [
       "<pre style=\"white-space:pre;overflow-x:auto;line-height:normal;font-family:Menlo,'DejaVu Sans Mono',consolas,'Courier New',monospace\"><span style=\"color: #7fbfbf; text-decoration-color: #7fbfbf\">                    </span><span style=\"color: #008000; text-decoration-color: #008000\">DEBUG   </span> Detected <span style=\"color: #008080; text-decoration-color: #008080; font-weight: bold\">445</span> total nodes                                                 <a href=\"file:///Users/lavo/Desktop/Projects/CHL-Project/.venv/lib/python3.10/site-packages/graphein/protein/graphs.py\" target=\"_blank\"><span style=\"color: #7f7f7f; text-decoration-color: #7f7f7f\">graphs.py</span></a><span style=\"color: #7f7f7f; text-decoration-color: #7f7f7f\">:</span><a href=\"file:///Users/lavo/Desktop/Projects/CHL-Project/.venv/lib/python3.10/site-packages/graphein/protein/graphs.py#435\" target=\"_blank\"><span style=\"color: #7f7f7f; text-decoration-color: #7f7f7f\">435</span></a>\n",
       "</pre>\n"
      ],
      "text/plain": [
       "\u001b[2;36m                   \u001b[0m\u001b[2;36m \u001b[0m\u001b[32mDEBUG   \u001b[0m Detected \u001b[1;36m445\u001b[0m total nodes                                                 \u001b]8;id=744882;file:///Users/lavo/Desktop/Projects/CHL-Project/.venv/lib/python3.10/site-packages/graphein/protein/graphs.py\u001b\\\u001b[2mgraphs.py\u001b[0m\u001b]8;;\u001b\\\u001b[2m:\u001b[0m\u001b]8;id=571296;file:///Users/lavo/Desktop/Projects/CHL-Project/.venv/lib/python3.10/site-packages/graphein/protein/graphs.py#435\u001b\\\u001b[2m435\u001b[0m\u001b]8;;\u001b\\\n"
      ]
     },
     "metadata": {},
     "output_type": "display_data"
    },
    {
     "name": "stdout",
     "output_type": "stream",
     "text": [
      "R225P\n"
     ]
    },
    {
     "data": {
      "text/html": [
       "<pre style=\"white-space:pre;overflow-x:auto;line-height:normal;font-family:Menlo,'DejaVu Sans Mono',consolas,'Courier New',monospace\"></pre>\n"
      ],
      "text/plain": []
     },
     "metadata": {},
     "output_type": "display_data"
    },
    {
     "data": {
      "text/html": [
       "<pre style=\"white-space:pre;overflow-x:auto;line-height:normal;font-family:Menlo,'DejaVu Sans Mono',consolas,'Courier New',monospace\">\n",
       "</pre>\n"
      ],
      "text/plain": [
       "\n"
      ]
     },
     "metadata": {},
     "output_type": "display_data"
    },
    {
     "data": {
      "application/vnd.jupyter.widget-view+json": {
       "model_id": "e645138e350b441aa7067a2214e29394",
       "version_major": 2,
       "version_minor": 0
      },
      "text/plain": [
       "Output()"
      ]
     },
     "metadata": {},
     "output_type": "display_data"
    },
    {
     "name": "stdout",
     "output_type": "stream",
     "text": [
      "G270R\n"
     ]
    },
    {
     "data": {
      "text/html": [
       "<pre style=\"white-space:pre;overflow-x:auto;line-height:normal;font-family:Menlo,'DejaVu Sans Mono',consolas,'Courier New',monospace\"><span style=\"color: #7fbfbf; text-decoration-color: #7fbfbf\">[04/29/24 09:45:22] </span><span style=\"color: #008000; text-decoration-color: #008000\">DEBUG   </span> Deprotonating protein. This removes H atoms from the pdb_df dataframe    <a href=\"file:///Users/lavo/Desktop/Projects/CHL-Project/.venv/lib/python3.10/site-packages/graphein/protein/graphs.py\" target=\"_blank\"><span style=\"color: #7f7f7f; text-decoration-color: #7f7f7f\">graphs.py</span></a><span style=\"color: #7f7f7f; text-decoration-color: #7f7f7f\">:</span><a href=\"file:///Users/lavo/Desktop/Projects/CHL-Project/.venv/lib/python3.10/site-packages/graphein/protein/graphs.py#188\" target=\"_blank\"><span style=\"color: #7f7f7f; text-decoration-color: #7f7f7f\">188</span></a>\n",
       "</pre>\n"
      ],
      "text/plain": [
       "\u001b[2;36m[04/29/24 09:45:22]\u001b[0m\u001b[2;36m \u001b[0m\u001b[32mDEBUG   \u001b[0m Deprotonating protein. This removes H atoms from the pdb_df dataframe    \u001b]8;id=186334;file:///Users/lavo/Desktop/Projects/CHL-Project/.venv/lib/python3.10/site-packages/graphein/protein/graphs.py\u001b\\\u001b[2mgraphs.py\u001b[0m\u001b]8;;\u001b\\\u001b[2m:\u001b[0m\u001b]8;id=957218;file:///Users/lavo/Desktop/Projects/CHL-Project/.venv/lib/python3.10/site-packages/graphein/protein/graphs.py#188\u001b\\\u001b[2m188\u001b[0m\u001b]8;;\u001b\\\n"
      ]
     },
     "metadata": {},
     "output_type": "display_data"
    },
    {
     "data": {
      "text/html": [
       "<pre style=\"white-space:pre;overflow-x:auto;line-height:normal;font-family:Menlo,'DejaVu Sans Mono',consolas,'Courier New',monospace\"><span style=\"color: #7fbfbf; text-decoration-color: #7fbfbf\">                    </span><span style=\"color: #008000; text-decoration-color: #008000\">DEBUG   </span> Detected <span style=\"color: #008080; text-decoration-color: #008080; font-weight: bold\">445</span> total nodes                                                 <a href=\"file:///Users/lavo/Desktop/Projects/CHL-Project/.venv/lib/python3.10/site-packages/graphein/protein/graphs.py\" target=\"_blank\"><span style=\"color: #7f7f7f; text-decoration-color: #7f7f7f\">graphs.py</span></a><span style=\"color: #7f7f7f; text-decoration-color: #7f7f7f\">:</span><a href=\"file:///Users/lavo/Desktop/Projects/CHL-Project/.venv/lib/python3.10/site-packages/graphein/protein/graphs.py#435\" target=\"_blank\"><span style=\"color: #7f7f7f; text-decoration-color: #7f7f7f\">435</span></a>\n",
       "</pre>\n"
      ],
      "text/plain": [
       "\u001b[2;36m                   \u001b[0m\u001b[2;36m \u001b[0m\u001b[32mDEBUG   \u001b[0m Detected \u001b[1;36m445\u001b[0m total nodes                                                 \u001b]8;id=653986;file:///Users/lavo/Desktop/Projects/CHL-Project/.venv/lib/python3.10/site-packages/graphein/protein/graphs.py\u001b\\\u001b[2mgraphs.py\u001b[0m\u001b]8;;\u001b\\\u001b[2m:\u001b[0m\u001b]8;id=434577;file:///Users/lavo/Desktop/Projects/CHL-Project/.venv/lib/python3.10/site-packages/graphein/protein/graphs.py#435\u001b\\\u001b[2m435\u001b[0m\u001b]8;;\u001b\\\n"
      ]
     },
     "metadata": {},
     "output_type": "display_data"
    },
    {
     "data": {
      "text/html": [
       "<pre style=\"white-space:pre;overflow-x:auto;line-height:normal;font-family:Menlo,'DejaVu Sans Mono',consolas,'Courier New',monospace\"></pre>\n"
      ],
      "text/plain": []
     },
     "metadata": {},
     "output_type": "display_data"
    },
    {
     "data": {
      "text/html": [
       "<pre style=\"white-space:pre;overflow-x:auto;line-height:normal;font-family:Menlo,'DejaVu Sans Mono',consolas,'Courier New',monospace\">\n",
       "</pre>\n"
      ],
      "text/plain": [
       "\n"
      ]
     },
     "metadata": {},
     "output_type": "display_data"
    },
    {
     "data": {
      "application/vnd.jupyter.widget-view+json": {
       "model_id": "b94b2ee85a654317bd71c04ed40b3fe9",
       "version_major": 2,
       "version_minor": 0
      },
      "text/plain": [
       "Output()"
      ]
     },
     "metadata": {},
     "output_type": "display_data"
    },
    {
     "name": "stdout",
     "output_type": "stream",
     "text": [
      "G123A\n"
     ]
    },
    {
     "data": {
      "text/html": [
       "<pre style=\"white-space:pre;overflow-x:auto;line-height:normal;font-family:Menlo,'DejaVu Sans Mono',consolas,'Courier New',monospace\"><span style=\"color: #7fbfbf; text-decoration-color: #7fbfbf\">                    </span><span style=\"color: #008000; text-decoration-color: #008000\">DEBUG   </span> Deprotonating protein. This removes H atoms from the pdb_df dataframe    <a href=\"file:///Users/lavo/Desktop/Projects/CHL-Project/.venv/lib/python3.10/site-packages/graphein/protein/graphs.py\" target=\"_blank\"><span style=\"color: #7f7f7f; text-decoration-color: #7f7f7f\">graphs.py</span></a><span style=\"color: #7f7f7f; text-decoration-color: #7f7f7f\">:</span><a href=\"file:///Users/lavo/Desktop/Projects/CHL-Project/.venv/lib/python3.10/site-packages/graphein/protein/graphs.py#188\" target=\"_blank\"><span style=\"color: #7f7f7f; text-decoration-color: #7f7f7f\">188</span></a>\n",
       "</pre>\n"
      ],
      "text/plain": [
       "\u001b[2;36m                   \u001b[0m\u001b[2;36m \u001b[0m\u001b[32mDEBUG   \u001b[0m Deprotonating protein. This removes H atoms from the pdb_df dataframe    \u001b]8;id=185466;file:///Users/lavo/Desktop/Projects/CHL-Project/.venv/lib/python3.10/site-packages/graphein/protein/graphs.py\u001b\\\u001b[2mgraphs.py\u001b[0m\u001b]8;;\u001b\\\u001b[2m:\u001b[0m\u001b]8;id=38469;file:///Users/lavo/Desktop/Projects/CHL-Project/.venv/lib/python3.10/site-packages/graphein/protein/graphs.py#188\u001b\\\u001b[2m188\u001b[0m\u001b]8;;\u001b\\\n"
      ]
     },
     "metadata": {},
     "output_type": "display_data"
    },
    {
     "data": {
      "text/html": [
       "<pre style=\"white-space:pre;overflow-x:auto;line-height:normal;font-family:Menlo,'DejaVu Sans Mono',consolas,'Courier New',monospace\"><span style=\"color: #7fbfbf; text-decoration-color: #7fbfbf\">                    </span><span style=\"color: #008000; text-decoration-color: #008000\">DEBUG   </span> Detected <span style=\"color: #008080; text-decoration-color: #008080; font-weight: bold\">445</span> total nodes                                                 <a href=\"file:///Users/lavo/Desktop/Projects/CHL-Project/.venv/lib/python3.10/site-packages/graphein/protein/graphs.py\" target=\"_blank\"><span style=\"color: #7f7f7f; text-decoration-color: #7f7f7f\">graphs.py</span></a><span style=\"color: #7f7f7f; text-decoration-color: #7f7f7f\">:</span><a href=\"file:///Users/lavo/Desktop/Projects/CHL-Project/.venv/lib/python3.10/site-packages/graphein/protein/graphs.py#435\" target=\"_blank\"><span style=\"color: #7f7f7f; text-decoration-color: #7f7f7f\">435</span></a>\n",
       "</pre>\n"
      ],
      "text/plain": [
       "\u001b[2;36m                   \u001b[0m\u001b[2;36m \u001b[0m\u001b[32mDEBUG   \u001b[0m Detected \u001b[1;36m445\u001b[0m total nodes                                                 \u001b]8;id=290624;file:///Users/lavo/Desktop/Projects/CHL-Project/.venv/lib/python3.10/site-packages/graphein/protein/graphs.py\u001b\\\u001b[2mgraphs.py\u001b[0m\u001b]8;;\u001b\\\u001b[2m:\u001b[0m\u001b]8;id=413581;file:///Users/lavo/Desktop/Projects/CHL-Project/.venv/lib/python3.10/site-packages/graphein/protein/graphs.py#435\u001b\\\u001b[2m435\u001b[0m\u001b]8;;\u001b\\\n"
      ]
     },
     "metadata": {},
     "output_type": "display_data"
    },
    {
     "data": {
      "text/html": [
       "<pre style=\"white-space:pre;overflow-x:auto;line-height:normal;font-family:Menlo,'DejaVu Sans Mono',consolas,'Courier New',monospace\"></pre>\n"
      ],
      "text/plain": []
     },
     "metadata": {},
     "output_type": "display_data"
    },
    {
     "data": {
      "text/html": [
       "<pre style=\"white-space:pre;overflow-x:auto;line-height:normal;font-family:Menlo,'DejaVu Sans Mono',consolas,'Courier New',monospace\">\n",
       "</pre>\n"
      ],
      "text/plain": [
       "\n"
      ]
     },
     "metadata": {},
     "output_type": "display_data"
    }
   ],
   "source": [
    "graphs = {}\n",
    "for i, row in df.iterrows():\n",
    "    print(row['mutation'])\n",
    "    graphs[row['mutation'] ] = construct_graph(path = row['pdb_file'], config= config, )"
   ]
  },
  {
   "cell_type": "code",
   "execution_count": 15,
   "metadata": {},
   "outputs": [
    {
     "data": {
      "text/plain": [
       "{'G185R': <networkx.classes.graph.Graph at 0x105414850>,\n",
       " 'E168L': <networkx.classes.graph.Graph at 0x331d8a8f0>,\n",
       " 'R53Q': <networkx.classes.graph.Graph at 0x331d8b2b0>,\n",
       " 'W97C': <networkx.classes.graph.Graph at 0x331df7010>,\n",
       " 'K353Q': <networkx.classes.graph.Graph at 0x331d8bcd0>,\n",
       " 'G360A': <networkx.classes.graph.Graph at 0x331df79a0>,\n",
       " 'G360R': <networkx.classes.graph.Graph at 0x3332f73a0>,\n",
       " 'A267V': <networkx.classes.graph.Graph at 0x3332f4970>,\n",
       " 'G251D': <networkx.classes.graph.Graph at 0x3341bed10>,\n",
       " 'L116P': <networkx.classes.graph.Graph at 0x3341be4a0>,\n",
       " 'T167I': <networkx.classes.graph.Graph at 0x3341bfa60>,\n",
       " 'F227S': <networkx.classes.graph.Graph at 0x3341bf580>,\n",
       " 'A122V': <networkx.classes.graph.Graph at 0x3345b7400>,\n",
       " 'Y40S': <networkx.classes.graph.Graph at 0x334abd7e0>,\n",
       " 'G362E': <networkx.classes.graph.Graph at 0x3345b6950>,\n",
       " 'E168K': <networkx.classes.graph.Graph at 0x334abe9b0>,\n",
       " 'S150L': <networkx.classes.graph.Graph at 0x334abf940>,\n",
       " 'G361R': <networkx.classes.graph.Graph at 0x334abf1c0>,\n",
       " 'G152R': <networkx.classes.graph.Graph at 0x334f7baf0>,\n",
       " 'S47L': <networkx.classes.graph.Graph at 0x334f7bd60>,\n",
       " 'L44F': <networkx.classes.graph.Graph at 0x335296ad0>,\n",
       " 'I216T': <networkx.classes.graph.Graph at 0x335297dc0>,\n",
       " 'E401Q': <networkx.classes.graph.Graph at 0x334f7b9d0>,\n",
       " 'E178G': <networkx.classes.graph.Graph at 0x3352957e0>,\n",
       " 'Y272C': <networkx.classes.graph.Graph at 0x3355a6bf0>,\n",
       " 'P332R': <networkx.classes.graph.Graph at 0x3355a6b60>,\n",
       " 'G198D': <networkx.classes.graph.Graph at 0x335be8a90>,\n",
       " 'K248E': <networkx.classes.graph.Graph at 0x335be85e0>,\n",
       " 'R330S': <networkx.classes.graph.Graph at 0x335be8280>,\n",
       " 'G161R': <networkx.classes.graph.Graph at 0x335fbb4f0>,\n",
       " 'G170S': <networkx.classes.graph.Graph at 0x335fb8940>,\n",
       " 'M368V': <networkx.classes.graph.Graph at 0x335fbae00>,\n",
       " 'P230S': <networkx.classes.graph.Graph at 0x335fb8a60>,\n",
       " 'C120F': <networkx.classes.graph.Graph at 0x3355a47f0>,\n",
       " 'I346T': <networkx.classes.graph.Graph at 0x335bea530>,\n",
       " 'W97G': <networkx.classes.graph.Graph at 0x335fba710>,\n",
       " 'D18Y': <networkx.classes.graph.Graph at 0x3345b5300>,\n",
       " 'V300G': <networkx.classes.graph.Graph at 0x3054609d0>,\n",
       " 'F73L': <networkx.classes.graph.Graph at 0x3332f67a0>,\n",
       " 'G205D': <networkx.classes.graph.Graph at 0x3364d8970>,\n",
       " 'G170A': <networkx.classes.graph.Graph at 0x3364da7d0>,\n",
       " 'R225P': <networkx.classes.graph.Graph at 0x3370f6b60>,\n",
       " 'G270R': <networkx.classes.graph.Graph at 0x3370f4be0>,\n",
       " 'G123A': <networkx.classes.graph.Graph at 0x3370f48b0>}"
      ]
     },
     "execution_count": 15,
     "metadata": {},
     "output_type": "execute_result"
    }
   ],
   "source": [
    "graphs"
   ]
  },
  {
   "cell_type": "code",
   "execution_count": 16,
   "metadata": {},
   "outputs": [
    {
     "data": {
      "application/vnd.plotly.v1+json": {
       "config": {
        "plotlyServerURL": "https://plot.ly"
       },
       "data": [
        {
         "hoverinfo": "text+x+y+z",
         "marker": {
          "color": [
           [
            0.610667,
            0.090204,
            0.619951,
            1
           ],
           [
            0.928329,
            0.472975,
            0.326067,
            1
           ],
           [
            0.928329,
            0.472975,
            0.326067,
            1
           ],
           [
            0.928329,
            0.472975,
            0.326067,
            1
           ],
           [
            0.928329,
            0.472975,
            0.326067,
            1
           ],
           [
            0.928329,
            0.472975,
            0.326067,
            1
           ],
           [
            0.928329,
            0.472975,
            0.326067,
            1
           ],
           [
            0.928329,
            0.472975,
            0.326067,
            1
           ],
           [
            0.928329,
            0.472975,
            0.326067,
            1
           ],
           [
            0.928329,
            0.472975,
            0.326067,
            1
           ],
           [
            0.928329,
            0.472975,
            0.326067,
            1
           ],
           [
            0.928329,
            0.472975,
            0.326067,
            1
           ],
           [
            0.928329,
            0.472975,
            0.326067,
            1
           ],
           [
            0.928329,
            0.472975,
            0.326067,
            1
           ],
           [
            0.928329,
            0.472975,
            0.326067,
            1
           ],
           [
            0.928329,
            0.472975,
            0.326067,
            1
           ],
           [
            0.928329,
            0.472975,
            0.326067,
            1
           ],
           [
            0.928329,
            0.472975,
            0.326067,
            1
           ],
           [
            0.928329,
            0.472975,
            0.326067,
            1
           ],
           [
            0.928329,
            0.472975,
            0.326067,
            1
           ],
           [
            0.928329,
            0.472975,
            0.326067,
            1
           ],
           [
            0.928329,
            0.472975,
            0.326067,
            1
           ],
           [
            0.928329,
            0.472975,
            0.326067,
            1
           ],
           [
            0.928329,
            0.472975,
            0.326067,
            1
           ],
           [
            0.928329,
            0.472975,
            0.326067,
            1
           ],
           [
            0.928329,
            0.472975,
            0.326067,
            1
           ],
           [
            0.928329,
            0.472975,
            0.326067,
            1
           ],
           [
            0.928329,
            0.472975,
            0.326067,
            1
           ],
           [
            0.928329,
            0.472975,
            0.326067,
            1
           ],
           [
            0.928329,
            0.472975,
            0.326067,
            1
           ],
           [
            0.928329,
            0.472975,
            0.326067,
            1
           ],
           [
            0.928329,
            0.472975,
            0.326067,
            1
           ],
           [
            0.928329,
            0.472975,
            0.326067,
            1
           ],
           [
            0.928329,
            0.472975,
            0.326067,
            1
           ],
           [
            0.928329,
            0.472975,
            0.326067,
            1
           ],
           [
            0.928329,
            0.472975,
            0.326067,
            1
           ],
           [
            0.928329,
            0.472975,
            0.326067,
            1
           ],
           [
            0.928329,
            0.472975,
            0.326067,
            1
           ],
           [
            0.928329,
            0.472975,
            0.326067,
            1
           ],
           [
            0.928329,
            0.472975,
            0.326067,
            1
           ],
           [
            0.928329,
            0.472975,
            0.326067,
            1
           ],
           [
            0.928329,
            0.472975,
            0.326067,
            1
           ],
           [
            0.928329,
            0.472975,
            0.326067,
            1
           ],
           [
            0.928329,
            0.472975,
            0.326067,
            1
           ],
           [
            0.928329,
            0.472975,
            0.326067,
            1
           ],
           [
            0.928329,
            0.472975,
            0.326067,
            1
           ],
           [
            0.928329,
            0.472975,
            0.326067,
            1
           ],
           [
            0.928329,
            0.472975,
            0.326067,
            1
           ],
           [
            0.928329,
            0.472975,
            0.326067,
            1
           ],
           [
            0.928329,
            0.472975,
            0.326067,
            1
           ],
           [
            0.928329,
            0.472975,
            0.326067,
            1
           ],
           [
            0.928329,
            0.472975,
            0.326067,
            1
           ],
           [
            0.928329,
            0.472975,
            0.326067,
            1
           ],
           [
            0.928329,
            0.472975,
            0.326067,
            1
           ],
           [
            0.928329,
            0.472975,
            0.326067,
            1
           ],
           [
            0.928329,
            0.472975,
            0.326067,
            1
           ],
           [
            0.928329,
            0.472975,
            0.326067,
            1
           ],
           [
            0.928329,
            0.472975,
            0.326067,
            1
           ],
           [
            0.928329,
            0.472975,
            0.326067,
            1
           ],
           [
            0.928329,
            0.472975,
            0.326067,
            1
           ],
           [
            0.928329,
            0.472975,
            0.326067,
            1
           ],
           [
            0.928329,
            0.472975,
            0.326067,
            1
           ],
           [
            0.928329,
            0.472975,
            0.326067,
            1
           ],
           [
            0.928329,
            0.472975,
            0.326067,
            1
           ],
           [
            0.928329,
            0.472975,
            0.326067,
            1
           ],
           [
            0.928329,
            0.472975,
            0.326067,
            1
           ],
           [
            0.928329,
            0.472975,
            0.326067,
            1
           ],
           [
            0.928329,
            0.472975,
            0.326067,
            1
           ],
           [
            0.928329,
            0.472975,
            0.326067,
            1
           ],
           [
            0.928329,
            0.472975,
            0.326067,
            1
           ],
           [
            0.928329,
            0.472975,
            0.326067,
            1
           ],
           [
            0.928329,
            0.472975,
            0.326067,
            1
           ],
           [
            0.928329,
            0.472975,
            0.326067,
            1
           ],
           [
            0.928329,
            0.472975,
            0.326067,
            1
           ],
           [
            0.928329,
            0.472975,
            0.326067,
            1
           ],
           [
            0.928329,
            0.472975,
            0.326067,
            1
           ],
           [
            0.928329,
            0.472975,
            0.326067,
            1
           ],
           [
            0.928329,
            0.472975,
            0.326067,
            1
           ],
           [
            0.928329,
            0.472975,
            0.326067,
            1
           ],
           [
            0.928329,
            0.472975,
            0.326067,
            1
           ],
           [
            0.928329,
            0.472975,
            0.326067,
            1
           ],
           [
            0.928329,
            0.472975,
            0.326067,
            1
           ],
           [
            0.928329,
            0.472975,
            0.326067,
            1
           ],
           [
            0.928329,
            0.472975,
            0.326067,
            1
           ],
           [
            0.928329,
            0.472975,
            0.326067,
            1
           ],
           [
            0.928329,
            0.472975,
            0.326067,
            1
           ],
           [
            0.928329,
            0.472975,
            0.326067,
            1
           ],
           [
            0.928329,
            0.472975,
            0.326067,
            1
           ],
           [
            0.928329,
            0.472975,
            0.326067,
            1
           ],
           [
            0.928329,
            0.472975,
            0.326067,
            1
           ],
           [
            0.928329,
            0.472975,
            0.326067,
            1
           ],
           [
            0.928329,
            0.472975,
            0.326067,
            1
           ],
           [
            0.928329,
            0.472975,
            0.326067,
            1
           ],
           [
            0.928329,
            0.472975,
            0.326067,
            1
           ],
           [
            0.928329,
            0.472975,
            0.326067,
            1
           ],
           [
            0.928329,
            0.472975,
            0.326067,
            1
           ],
           [
            0.928329,
            0.472975,
            0.326067,
            1
           ],
           [
            0.928329,
            0.472975,
            0.326067,
            1
           ],
           [
            0.928329,
            0.472975,
            0.326067,
            1
           ],
           [
            0.928329,
            0.472975,
            0.326067,
            1
           ],
           [
            0.928329,
            0.472975,
            0.326067,
            1
           ],
           [
            0.928329,
            0.472975,
            0.326067,
            1
           ],
           [
            0.928329,
            0.472975,
            0.326067,
            1
           ],
           [
            0.928329,
            0.472975,
            0.326067,
            1
           ],
           [
            0.928329,
            0.472975,
            0.326067,
            1
           ],
           [
            0.928329,
            0.472975,
            0.326067,
            1
           ],
           [
            0.928329,
            0.472975,
            0.326067,
            1
           ],
           [
            0.928329,
            0.472975,
            0.326067,
            1
           ],
           [
            0.928329,
            0.472975,
            0.326067,
            1
           ],
           [
            0.928329,
            0.472975,
            0.326067,
            1
           ],
           [
            0.928329,
            0.472975,
            0.326067,
            1
           ],
           [
            0.928329,
            0.472975,
            0.326067,
            1
           ],
           [
            0.928329,
            0.472975,
            0.326067,
            1
           ],
           [
            0.928329,
            0.472975,
            0.326067,
            1
           ],
           [
            0.928329,
            0.472975,
            0.326067,
            1
           ],
           [
            0.928329,
            0.472975,
            0.326067,
            1
           ],
           [
            0.928329,
            0.472975,
            0.326067,
            1
           ],
           [
            0.928329,
            0.472975,
            0.326067,
            1
           ],
           [
            0.928329,
            0.472975,
            0.326067,
            1
           ],
           [
            0.928329,
            0.472975,
            0.326067,
            1
           ],
           [
            0.928329,
            0.472975,
            0.326067,
            1
           ],
           [
            0.928329,
            0.472975,
            0.326067,
            1
           ],
           [
            0.928329,
            0.472975,
            0.326067,
            1
           ],
           [
            0.928329,
            0.472975,
            0.326067,
            1
           ],
           [
            0.928329,
            0.472975,
            0.326067,
            1
           ],
           [
            0.928329,
            0.472975,
            0.326067,
            1
           ],
           [
            0.928329,
            0.472975,
            0.326067,
            1
           ],
           [
            0.928329,
            0.472975,
            0.326067,
            1
           ],
           [
            0.928329,
            0.472975,
            0.326067,
            1
           ],
           [
            0.928329,
            0.472975,
            0.326067,
            1
           ],
           [
            0.928329,
            0.472975,
            0.326067,
            1
           ],
           [
            0.928329,
            0.472975,
            0.326067,
            1
           ],
           [
            0.928329,
            0.472975,
            0.326067,
            1
           ],
           [
            0.928329,
            0.472975,
            0.326067,
            1
           ],
           [
            0.928329,
            0.472975,
            0.326067,
            1
           ],
           [
            0.928329,
            0.472975,
            0.326067,
            1
           ],
           [
            0.928329,
            0.472975,
            0.326067,
            1
           ],
           [
            0.928329,
            0.472975,
            0.326067,
            1
           ],
           [
            0.928329,
            0.472975,
            0.326067,
            1
           ],
           [
            0.928329,
            0.472975,
            0.326067,
            1
           ],
           [
            0.928329,
            0.472975,
            0.326067,
            1
           ],
           [
            0.928329,
            0.472975,
            0.326067,
            1
           ],
           [
            0.928329,
            0.472975,
            0.326067,
            1
           ],
           [
            0.928329,
            0.472975,
            0.326067,
            1
           ],
           [
            0.928329,
            0.472975,
            0.326067,
            1
           ],
           [
            0.928329,
            0.472975,
            0.326067,
            1
           ],
           [
            0.928329,
            0.472975,
            0.326067,
            1
           ],
           [
            0.928329,
            0.472975,
            0.326067,
            1
           ],
           [
            0.928329,
            0.472975,
            0.326067,
            1
           ],
           [
            0.928329,
            0.472975,
            0.326067,
            1
           ],
           [
            0.928329,
            0.472975,
            0.326067,
            1
           ],
           [
            0.928329,
            0.472975,
            0.326067,
            1
           ],
           [
            0.928329,
            0.472975,
            0.326067,
            1
           ],
           [
            0.928329,
            0.472975,
            0.326067,
            1
           ],
           [
            0.928329,
            0.472975,
            0.326067,
            1
           ],
           [
            0.928329,
            0.472975,
            0.326067,
            1
           ],
           [
            0.928329,
            0.472975,
            0.326067,
            1
           ],
           [
            0.928329,
            0.472975,
            0.326067,
            1
           ],
           [
            0.928329,
            0.472975,
            0.326067,
            1
           ],
           [
            0.928329,
            0.472975,
            0.326067,
            1
           ],
           [
            0.928329,
            0.472975,
            0.326067,
            1
           ],
           [
            0.928329,
            0.472975,
            0.326067,
            1
           ],
           [
            0.928329,
            0.472975,
            0.326067,
            1
           ],
           [
            0.928329,
            0.472975,
            0.326067,
            1
           ],
           [
            0.928329,
            0.472975,
            0.326067,
            1
           ],
           [
            0.928329,
            0.472975,
            0.326067,
            1
           ],
           [
            0.928329,
            0.472975,
            0.326067,
            1
           ],
           [
            0.928329,
            0.472975,
            0.326067,
            1
           ],
           [
            0.928329,
            0.472975,
            0.326067,
            1
           ],
           [
            0.928329,
            0.472975,
            0.326067,
            1
           ],
           [
            0.928329,
            0.472975,
            0.326067,
            1
           ],
           [
            0.928329,
            0.472975,
            0.326067,
            1
           ],
           [
            0.928329,
            0.472975,
            0.326067,
            1
           ],
           [
            0.928329,
            0.472975,
            0.326067,
            1
           ],
           [
            0.928329,
            0.472975,
            0.326067,
            1
           ],
           [
            0.928329,
            0.472975,
            0.326067,
            1
           ],
           [
            0.928329,
            0.472975,
            0.326067,
            1
           ],
           [
            0.928329,
            0.472975,
            0.326067,
            1
           ],
           [
            0.928329,
            0.472975,
            0.326067,
            1
           ],
           [
            0.928329,
            0.472975,
            0.326067,
            1
           ],
           [
            0.928329,
            0.472975,
            0.326067,
            1
           ],
           [
            0.928329,
            0.472975,
            0.326067,
            1
           ],
           [
            0.928329,
            0.472975,
            0.326067,
            1
           ],
           [
            0.928329,
            0.472975,
            0.326067,
            1
           ],
           [
            0.928329,
            0.472975,
            0.326067,
            1
           ],
           [
            0.928329,
            0.472975,
            0.326067,
            1
           ],
           [
            0.928329,
            0.472975,
            0.326067,
            1
           ],
           [
            0.928329,
            0.472975,
            0.326067,
            1
           ],
           [
            0.928329,
            0.472975,
            0.326067,
            1
           ],
           [
            0.928329,
            0.472975,
            0.326067,
            1
           ],
           [
            0.928329,
            0.472975,
            0.326067,
            1
           ],
           [
            0.928329,
            0.472975,
            0.326067,
            1
           ],
           [
            0.928329,
            0.472975,
            0.326067,
            1
           ],
           [
            0.928329,
            0.472975,
            0.326067,
            1
           ],
           [
            0.928329,
            0.472975,
            0.326067,
            1
           ],
           [
            0.928329,
            0.472975,
            0.326067,
            1
           ],
           [
            0.928329,
            0.472975,
            0.326067,
            1
           ],
           [
            0.928329,
            0.472975,
            0.326067,
            1
           ],
           [
            0.928329,
            0.472975,
            0.326067,
            1
           ],
           [
            0.928329,
            0.472975,
            0.326067,
            1
           ],
           [
            0.928329,
            0.472975,
            0.326067,
            1
           ],
           [
            0.928329,
            0.472975,
            0.326067,
            1
           ],
           [
            0.928329,
            0.472975,
            0.326067,
            1
           ],
           [
            0.928329,
            0.472975,
            0.326067,
            1
           ],
           [
            0.928329,
            0.472975,
            0.326067,
            1
           ],
           [
            0.928329,
            0.472975,
            0.326067,
            1
           ],
           [
            0.928329,
            0.472975,
            0.326067,
            1
           ],
           [
            0.928329,
            0.472975,
            0.326067,
            1
           ],
           [
            0.928329,
            0.472975,
            0.326067,
            1
           ],
           [
            0.928329,
            0.472975,
            0.326067,
            1
           ],
           [
            0.928329,
            0.472975,
            0.326067,
            1
           ],
           [
            0.928329,
            0.472975,
            0.326067,
            1
           ],
           [
            0.928329,
            0.472975,
            0.326067,
            1
           ],
           [
            0.928329,
            0.472975,
            0.326067,
            1
           ],
           [
            0.928329,
            0.472975,
            0.326067,
            1
           ],
           [
            0.928329,
            0.472975,
            0.326067,
            1
           ],
           [
            0.928329,
            0.472975,
            0.326067,
            1
           ],
           [
            0.928329,
            0.472975,
            0.326067,
            1
           ],
           [
            0.928329,
            0.472975,
            0.326067,
            1
           ],
           [
            0.928329,
            0.472975,
            0.326067,
            1
           ],
           [
            0.928329,
            0.472975,
            0.326067,
            1
           ],
           [
            0.928329,
            0.472975,
            0.326067,
            1
           ],
           [
            0.928329,
            0.472975,
            0.326067,
            1
           ],
           [
            0.928329,
            0.472975,
            0.326067,
            1
           ],
           [
            0.928329,
            0.472975,
            0.326067,
            1
           ],
           [
            0.928329,
            0.472975,
            0.326067,
            1
           ],
           [
            0.928329,
            0.472975,
            0.326067,
            1
           ],
           [
            0.928329,
            0.472975,
            0.326067,
            1
           ],
           [
            0.928329,
            0.472975,
            0.326067,
            1
           ],
           [
            0.928329,
            0.472975,
            0.326067,
            1
           ],
           [
            0.928329,
            0.472975,
            0.326067,
            1
           ],
           [
            0.928329,
            0.472975,
            0.326067,
            1
           ],
           [
            0.928329,
            0.472975,
            0.326067,
            1
           ],
           [
            0.928329,
            0.472975,
            0.326067,
            1
           ],
           [
            0.928329,
            0.472975,
            0.326067,
            1
           ],
           [
            0.928329,
            0.472975,
            0.326067,
            1
           ],
           [
            0.928329,
            0.472975,
            0.326067,
            1
           ],
           [
            0.928329,
            0.472975,
            0.326067,
            1
           ],
           [
            0.928329,
            0.472975,
            0.326067,
            1
           ],
           [
            0.928329,
            0.472975,
            0.326067,
            1
           ],
           [
            0.928329,
            0.472975,
            0.326067,
            1
           ],
           [
            0.928329,
            0.472975,
            0.326067,
            1
           ],
           [
            0.928329,
            0.472975,
            0.326067,
            1
           ],
           [
            0.928329,
            0.472975,
            0.326067,
            1
           ],
           [
            0.928329,
            0.472975,
            0.326067,
            1
           ],
           [
            0.928329,
            0.472975,
            0.326067,
            1
           ],
           [
            0.928329,
            0.472975,
            0.326067,
            1
           ],
           [
            0.928329,
            0.472975,
            0.326067,
            1
           ],
           [
            0.928329,
            0.472975,
            0.326067,
            1
           ],
           [
            0.928329,
            0.472975,
            0.326067,
            1
           ],
           [
            0.928329,
            0.472975,
            0.326067,
            1
           ],
           [
            0.928329,
            0.472975,
            0.326067,
            1
           ],
           [
            0.928329,
            0.472975,
            0.326067,
            1
           ],
           [
            0.928329,
            0.472975,
            0.326067,
            1
           ],
           [
            0.928329,
            0.472975,
            0.326067,
            1
           ],
           [
            0.928329,
            0.472975,
            0.326067,
            1
           ],
           [
            0.928329,
            0.472975,
            0.326067,
            1
           ],
           [
            0.928329,
            0.472975,
            0.326067,
            1
           ],
           [
            0.928329,
            0.472975,
            0.326067,
            1
           ],
           [
            0.928329,
            0.472975,
            0.326067,
            1
           ],
           [
            0.928329,
            0.472975,
            0.326067,
            1
           ],
           [
            0.928329,
            0.472975,
            0.326067,
            1
           ],
           [
            0.928329,
            0.472975,
            0.326067,
            1
           ],
           [
            0.928329,
            0.472975,
            0.326067,
            1
           ],
           [
            0.928329,
            0.472975,
            0.326067,
            1
           ],
           [
            0.928329,
            0.472975,
            0.326067,
            1
           ],
           [
            0.928329,
            0.472975,
            0.326067,
            1
           ],
           [
            0.928329,
            0.472975,
            0.326067,
            1
           ],
           [
            0.928329,
            0.472975,
            0.326067,
            1
           ],
           [
            0.928329,
            0.472975,
            0.326067,
            1
           ],
           [
            0.928329,
            0.472975,
            0.326067,
            1
           ],
           [
            0.928329,
            0.472975,
            0.326067,
            1
           ],
           [
            0.928329,
            0.472975,
            0.326067,
            1
           ],
           [
            0.928329,
            0.472975,
            0.326067,
            1
           ],
           [
            0.928329,
            0.472975,
            0.326067,
            1
           ],
           [
            0.928329,
            0.472975,
            0.326067,
            1
           ],
           [
            0.928329,
            0.472975,
            0.326067,
            1
           ],
           [
            0.928329,
            0.472975,
            0.326067,
            1
           ],
           [
            0.928329,
            0.472975,
            0.326067,
            1
           ],
           [
            0.928329,
            0.472975,
            0.326067,
            1
           ],
           [
            0.928329,
            0.472975,
            0.326067,
            1
           ],
           [
            0.928329,
            0.472975,
            0.326067,
            1
           ],
           [
            0.928329,
            0.472975,
            0.326067,
            1
           ],
           [
            0.928329,
            0.472975,
            0.326067,
            1
           ],
           [
            0.928329,
            0.472975,
            0.326067,
            1
           ],
           [
            0.928329,
            0.472975,
            0.326067,
            1
           ],
           [
            0.928329,
            0.472975,
            0.326067,
            1
           ],
           [
            0.928329,
            0.472975,
            0.326067,
            1
           ],
           [
            0.928329,
            0.472975,
            0.326067,
            1
           ],
           [
            0.928329,
            0.472975,
            0.326067,
            1
           ],
           [
            0.928329,
            0.472975,
            0.326067,
            1
           ],
           [
            0.928329,
            0.472975,
            0.326067,
            1
           ],
           [
            0.928329,
            0.472975,
            0.326067,
            1
           ],
           [
            0.928329,
            0.472975,
            0.326067,
            1
           ],
           [
            0.928329,
            0.472975,
            0.326067,
            1
           ],
           [
            0.928329,
            0.472975,
            0.326067,
            1
           ],
           [
            0.928329,
            0.472975,
            0.326067,
            1
           ],
           [
            0.928329,
            0.472975,
            0.326067,
            1
           ],
           [
            0.928329,
            0.472975,
            0.326067,
            1
           ],
           [
            0.928329,
            0.472975,
            0.326067,
            1
           ],
           [
            0.928329,
            0.472975,
            0.326067,
            1
           ],
           [
            0.928329,
            0.472975,
            0.326067,
            1
           ],
           [
            0.928329,
            0.472975,
            0.326067,
            1
           ],
           [
            0.928329,
            0.472975,
            0.326067,
            1
           ],
           [
            0.928329,
            0.472975,
            0.326067,
            1
           ],
           [
            0.928329,
            0.472975,
            0.326067,
            1
           ],
           [
            0.928329,
            0.472975,
            0.326067,
            1
           ],
           [
            0.928329,
            0.472975,
            0.326067,
            1
           ],
           [
            0.928329,
            0.472975,
            0.326067,
            1
           ],
           [
            0.928329,
            0.472975,
            0.326067,
            1
           ],
           [
            0.928329,
            0.472975,
            0.326067,
            1
           ],
           [
            0.928329,
            0.472975,
            0.326067,
            1
           ],
           [
            0.928329,
            0.472975,
            0.326067,
            1
           ],
           [
            0.928329,
            0.472975,
            0.326067,
            1
           ],
           [
            0.928329,
            0.472975,
            0.326067,
            1
           ],
           [
            0.928329,
            0.472975,
            0.326067,
            1
           ],
           [
            0.928329,
            0.472975,
            0.326067,
            1
           ],
           [
            0.928329,
            0.472975,
            0.326067,
            1
           ],
           [
            0.928329,
            0.472975,
            0.326067,
            1
           ],
           [
            0.928329,
            0.472975,
            0.326067,
            1
           ],
           [
            0.928329,
            0.472975,
            0.326067,
            1
           ],
           [
            0.928329,
            0.472975,
            0.326067,
            1
           ],
           [
            0.928329,
            0.472975,
            0.326067,
            1
           ],
           [
            0.928329,
            0.472975,
            0.326067,
            1
           ],
           [
            0.928329,
            0.472975,
            0.326067,
            1
           ],
           [
            0.928329,
            0.472975,
            0.326067,
            1
           ],
           [
            0.928329,
            0.472975,
            0.326067,
            1
           ],
           [
            0.928329,
            0.472975,
            0.326067,
            1
           ],
           [
            0.928329,
            0.472975,
            0.326067,
            1
           ],
           [
            0.928329,
            0.472975,
            0.326067,
            1
           ],
           [
            0.928329,
            0.472975,
            0.326067,
            1
           ],
           [
            0.928329,
            0.472975,
            0.326067,
            1
           ],
           [
            0.928329,
            0.472975,
            0.326067,
            1
           ],
           [
            0.928329,
            0.472975,
            0.326067,
            1
           ],
           [
            0.928329,
            0.472975,
            0.326067,
            1
           ],
           [
            0.928329,
            0.472975,
            0.326067,
            1
           ],
           [
            0.928329,
            0.472975,
            0.326067,
            1
           ],
           [
            0.928329,
            0.472975,
            0.326067,
            1
           ],
           [
            0.928329,
            0.472975,
            0.326067,
            1
           ],
           [
            0.928329,
            0.472975,
            0.326067,
            1
           ],
           [
            0.928329,
            0.472975,
            0.326067,
            1
           ],
           [
            0.928329,
            0.472975,
            0.326067,
            1
           ],
           [
            0.928329,
            0.472975,
            0.326067,
            1
           ],
           [
            0.928329,
            0.472975,
            0.326067,
            1
           ],
           [
            0.928329,
            0.472975,
            0.326067,
            1
           ],
           [
            0.928329,
            0.472975,
            0.326067,
            1
           ],
           [
            0.928329,
            0.472975,
            0.326067,
            1
           ],
           [
            0.928329,
            0.472975,
            0.326067,
            1
           ],
           [
            0.928329,
            0.472975,
            0.326067,
            1
           ],
           [
            0.928329,
            0.472975,
            0.326067,
            1
           ],
           [
            0.928329,
            0.472975,
            0.326067,
            1
           ],
           [
            0.928329,
            0.472975,
            0.326067,
            1
           ],
           [
            0.928329,
            0.472975,
            0.326067,
            1
           ],
           [
            0.928329,
            0.472975,
            0.326067,
            1
           ],
           [
            0.928329,
            0.472975,
            0.326067,
            1
           ],
           [
            0.928329,
            0.472975,
            0.326067,
            1
           ],
           [
            0.928329,
            0.472975,
            0.326067,
            1
           ],
           [
            0.928329,
            0.472975,
            0.326067,
            1
           ],
           [
            0.928329,
            0.472975,
            0.326067,
            1
           ],
           [
            0.928329,
            0.472975,
            0.326067,
            1
           ],
           [
            0.928329,
            0.472975,
            0.326067,
            1
           ],
           [
            0.928329,
            0.472975,
            0.326067,
            1
           ],
           [
            0.928329,
            0.472975,
            0.326067,
            1
           ],
           [
            0.928329,
            0.472975,
            0.326067,
            1
           ],
           [
            0.928329,
            0.472975,
            0.326067,
            1
           ],
           [
            0.928329,
            0.472975,
            0.326067,
            1
           ],
           [
            0.928329,
            0.472975,
            0.326067,
            1
           ],
           [
            0.928329,
            0.472975,
            0.326067,
            1
           ],
           [
            0.928329,
            0.472975,
            0.326067,
            1
           ],
           [
            0.928329,
            0.472975,
            0.326067,
            1
           ],
           [
            0.928329,
            0.472975,
            0.326067,
            1
           ],
           [
            0.928329,
            0.472975,
            0.326067,
            1
           ],
           [
            0.928329,
            0.472975,
            0.326067,
            1
           ],
           [
            0.928329,
            0.472975,
            0.326067,
            1
           ],
           [
            0.928329,
            0.472975,
            0.326067,
            1
           ],
           [
            0.928329,
            0.472975,
            0.326067,
            1
           ],
           [
            0.928329,
            0.472975,
            0.326067,
            1
           ],
           [
            0.928329,
            0.472975,
            0.326067,
            1
           ],
           [
            0.928329,
            0.472975,
            0.326067,
            1
           ],
           [
            0.928329,
            0.472975,
            0.326067,
            1
           ],
           [
            0.928329,
            0.472975,
            0.326067,
            1
           ],
           [
            0.928329,
            0.472975,
            0.326067,
            1
           ],
           [
            0.928329,
            0.472975,
            0.326067,
            1
           ],
           [
            0.928329,
            0.472975,
            0.326067,
            1
           ],
           [
            0.928329,
            0.472975,
            0.326067,
            1
           ],
           [
            0.928329,
            0.472975,
            0.326067,
            1
           ],
           [
            0.928329,
            0.472975,
            0.326067,
            1
           ],
           [
            0.928329,
            0.472975,
            0.326067,
            1
           ],
           [
            0.928329,
            0.472975,
            0.326067,
            1
           ],
           [
            0.928329,
            0.472975,
            0.326067,
            1
           ],
           [
            0.928329,
            0.472975,
            0.326067,
            1
           ],
           [
            0.928329,
            0.472975,
            0.326067,
            1
           ],
           [
            0.928329,
            0.472975,
            0.326067,
            1
           ],
           [
            0.928329,
            0.472975,
            0.326067,
            1
           ],
           [
            0.928329,
            0.472975,
            0.326067,
            1
           ],
           [
            0.928329,
            0.472975,
            0.326067,
            1
           ],
           [
            0.928329,
            0.472975,
            0.326067,
            1
           ],
           [
            0.928329,
            0.472975,
            0.326067,
            1
           ],
           [
            0.928329,
            0.472975,
            0.326067,
            1
           ],
           [
            0.928329,
            0.472975,
            0.326067,
            1
           ],
           [
            0.928329,
            0.472975,
            0.326067,
            1
           ],
           [
            0.928329,
            0.472975,
            0.326067,
            1
           ],
           [
            0.928329,
            0.472975,
            0.326067,
            1
           ],
           [
            0.928329,
            0.472975,
            0.326067,
            1
           ],
           [
            0.928329,
            0.472975,
            0.326067,
            1
           ],
           [
            0.928329,
            0.472975,
            0.326067,
            1
           ],
           [
            0.928329,
            0.472975,
            0.326067,
            1
           ],
           [
            0.928329,
            0.472975,
            0.326067,
            1
           ],
           [
            0.928329,
            0.472975,
            0.326067,
            1
           ],
           [
            0.928329,
            0.472975,
            0.326067,
            1
           ],
           [
            0.928329,
            0.472975,
            0.326067,
            1
           ],
           [
            0.928329,
            0.472975,
            0.326067,
            1
           ],
           [
            0.928329,
            0.472975,
            0.326067,
            1
           ],
           [
            0.928329,
            0.472975,
            0.326067,
            1
           ],
           [
            0.928329,
            0.472975,
            0.326067,
            1
           ],
           [
            0.928329,
            0.472975,
            0.326067,
            1
           ],
           [
            0.928329,
            0.472975,
            0.326067,
            1
           ],
           [
            0.928329,
            0.472975,
            0.326067,
            1
           ],
           [
            0.928329,
            0.472975,
            0.326067,
            1
           ],
           [
            0.928329,
            0.472975,
            0.326067,
            1
           ],
           [
            0.928329,
            0.472975,
            0.326067,
            1
           ],
           [
            0.928329,
            0.472975,
            0.326067,
            1
           ],
           [
            0.928329,
            0.472975,
            0.326067,
            1
           ],
           [
            0.928329,
            0.472975,
            0.326067,
            1
           ],
           [
            0.928329,
            0.472975,
            0.326067,
            1
           ],
           [
            0.928329,
            0.472975,
            0.326067,
            1
           ],
           [
            0.928329,
            0.472975,
            0.326067,
            1
           ],
           [
            0.928329,
            0.472975,
            0.326067,
            1
           ],
           [
            0.928329,
            0.472975,
            0.326067,
            1
           ],
           [
            0.928329,
            0.472975,
            0.326067,
            1
           ],
           [
            0.928329,
            0.472975,
            0.326067,
            1
           ],
           [
            0.928329,
            0.472975,
            0.326067,
            1
           ],
           [
            0.928329,
            0.472975,
            0.326067,
            1
           ],
           [
            0.928329,
            0.472975,
            0.326067,
            1
           ],
           [
            0.928329,
            0.472975,
            0.326067,
            1
           ],
           [
            0.928329,
            0.472975,
            0.326067,
            1
           ],
           [
            0.928329,
            0.472975,
            0.326067,
            1
           ],
           [
            0.928329,
            0.472975,
            0.326067,
            1
           ],
           [
            0.928329,
            0.472975,
            0.326067,
            1
           ],
           [
            0.928329,
            0.472975,
            0.326067,
            1
           ],
           [
            0.928329,
            0.472975,
            0.326067,
            1
           ],
           [
            0.928329,
            0.472975,
            0.326067,
            1
           ],
           [
            0.928329,
            0.472975,
            0.326067,
            1
           ],
           [
            0.928329,
            0.472975,
            0.326067,
            1
           ],
           [
            0.610667,
            0.090204,
            0.619951,
            1
           ]
          ],
          "opacity": 0.7,
          "size": [
           21,
           22,
           22,
           22,
           22,
           22,
           22,
           22,
           22,
           22,
           22,
           22,
           22,
           22,
           22,
           22,
           22,
           22,
           22,
           22,
           22,
           22,
           22,
           22,
           22,
           22,
           22,
           22,
           22,
           22,
           22,
           22,
           22,
           22,
           22,
           22,
           22,
           22,
           22,
           22,
           22,
           22,
           22,
           22,
           22,
           22,
           22,
           22,
           22,
           22,
           22,
           22,
           22,
           22,
           22,
           22,
           22,
           22,
           22,
           22,
           22,
           22,
           22,
           22,
           22,
           22,
           22,
           22,
           22,
           22,
           22,
           22,
           22,
           22,
           22,
           22,
           22,
           22,
           22,
           22,
           22,
           22,
           22,
           22,
           22,
           22,
           22,
           22,
           22,
           22,
           22,
           22,
           22,
           22,
           22,
           22,
           22,
           22,
           22,
           22,
           22,
           22,
           22,
           22,
           22,
           22,
           22,
           22,
           22,
           22,
           22,
           22,
           22,
           22,
           22,
           22,
           22,
           22,
           22,
           22,
           22,
           22,
           22,
           22,
           22,
           22,
           22,
           22,
           22,
           22,
           22,
           22,
           22,
           22,
           22,
           22,
           22,
           22,
           22,
           22,
           22,
           22,
           22,
           22,
           22,
           22,
           22,
           22,
           22,
           22,
           22,
           22,
           22,
           22,
           22,
           22,
           22,
           22,
           22,
           22,
           22,
           22,
           22,
           22,
           22,
           22,
           22,
           22,
           22,
           22,
           22,
           22,
           22,
           22,
           22,
           22,
           22,
           22,
           22,
           22,
           22,
           22,
           22,
           22,
           22,
           22,
           22,
           22,
           22,
           22,
           22,
           22,
           22,
           22,
           22,
           22,
           22,
           22,
           22,
           22,
           22,
           22,
           22,
           22,
           22,
           22,
           22,
           22,
           22,
           22,
           22,
           22,
           22,
           22,
           22,
           22,
           22,
           22,
           22,
           22,
           22,
           22,
           22,
           22,
           22,
           22,
           22,
           22,
           22,
           22,
           22,
           22,
           22,
           22,
           22,
           22,
           22,
           22,
           22,
           22,
           22,
           22,
           22,
           22,
           22,
           22,
           22,
           22,
           22,
           22,
           22,
           22,
           22,
           22,
           22,
           22,
           22,
           22,
           22,
           22,
           22,
           22,
           22,
           22,
           22,
           22,
           22,
           22,
           22,
           22,
           22,
           22,
           22,
           22,
           22,
           22,
           22,
           22,
           22,
           22,
           22,
           22,
           22,
           22,
           22,
           22,
           22,
           22,
           22,
           22,
           22,
           22,
           22,
           22,
           22,
           22,
           22,
           22,
           22,
           22,
           22,
           22,
           22,
           22,
           22,
           22,
           22,
           22,
           22,
           22,
           22,
           22,
           22,
           22,
           22,
           22,
           22,
           22,
           22,
           22,
           22,
           22,
           22,
           22,
           22,
           22,
           22,
           22,
           22,
           22,
           22,
           22,
           22,
           22,
           22,
           22,
           22,
           22,
           22,
           22,
           22,
           22,
           22,
           22,
           22,
           22,
           22,
           22,
           22,
           22,
           22,
           22,
           22,
           22,
           22,
           22,
           22,
           22,
           22,
           22,
           22,
           22,
           22,
           22,
           22,
           22,
           22,
           22,
           22,
           22,
           22,
           22,
           22,
           22,
           22,
           22,
           22,
           22,
           22,
           22,
           22,
           22,
           22,
           22,
           22,
           22,
           22,
           22,
           22,
           22,
           22,
           22,
           22,
           22,
           22,
           22,
           22,
           22,
           22,
           22,
           22,
           22,
           22,
           22,
           22,
           22,
           22,
           22,
           22,
           22,
           22,
           22,
           22,
           22,
           22,
           22,
           22,
           22,
           22,
           22,
           22,
           22,
           22,
           22,
           22,
           22,
           22,
           22,
           22,
           22,
           22,
           22,
           22,
           22,
           22,
           22,
           22,
           22,
           22,
           22,
           22,
           22,
           22,
           22,
           21
          ],
          "symbol": "circle"
         },
         "mode": "markers",
         "text": [
          "A:MET:1",
          "A:ALA:2",
          "A:GLU:3",
          "A:LEU:4",
          "A:LYS:5",
          "A:TYR:6",
          "A:ILE:7",
          "A:SER:8",
          "A:GLY:9",
          "A:PHE:10",
          "A:GLY:11",
          "A:ASN:12",
          "A:GLU:13",
          "A:CYS:14",
          "A:SER:15",
          "A:SER:16",
          "A:GLU:17",
          "A:ASP:18",
          "A:PRO:19",
          "A:ARG:20",
          "A:CYS:21",
          "A:PRO:22",
          "A:GLY:23",
          "A:SER:24",
          "A:LEU:25",
          "A:PRO:26",
          "A:GLU:27",
          "A:GLY:28",
          "A:GLN:29",
          "A:ASN:30",
          "A:ASN:31",
          "A:PRO:32",
          "A:GLN:33",
          "A:VAL:34",
          "A:CYS:35",
          "A:PRO:36",
          "A:TYR:37",
          "A:ASN:38",
          "A:LEU:39",
          "A:TYR:40",
          "A:ALA:41",
          "A:GLU:42",
          "A:GLN:43",
          "A:LEU:44",
          "A:SER:45",
          "A:GLY:46",
          "A:SER:47",
          "A:ALA:48",
          "A:PHE:49",
          "A:THR:50",
          "A:CYS:51",
          "A:PRO:52",
          "A:ARG:53",
          "A:SER:54",
          "A:THR:55",
          "A:ASN:56",
          "A:LYS:57",
          "A:ARG:58",
          "A:SER:59",
          "A:TRP:60",
          "A:LEU:61",
          "A:TYR:62",
          "A:ARG:63",
          "A:ILE:64",
          "A:LEU:65",
          "A:PRO:66",
          "A:SER:67",
          "A:VAL:68",
          "A:SER:69",
          "A:HIS:70",
          "A:LYS:71",
          "A:PRO:72",
          "A:PHE:73",
          "A:GLU:74",
          "A:SER:75",
          "A:ILE:76",
          "A:ASP:77",
          "A:GLU:78",
          "A:GLY:79",
          "A:GLN:80",
          "A:VAL:81",
          "A:THR:82",
          "A:HIS:83",
          "A:ASN:84",
          "A:TRP:85",
          "A:ASP:86",
          "A:GLU:87",
          "A:VAL:88",
          "A:ASP:89",
          "A:PRO:90",
          "A:ASP:91",
          "A:PRO:92",
          "A:ASN:93",
          "A:GLN:94",
          "A:LEU:95",
          "A:ARG:96",
          "A:TRP:97",
          "A:LYS:98",
          "A:PRO:99",
          "A:PHE:100",
          "A:GLU:101",
          "A:ILE:102",
          "A:PRO:103",
          "A:LYS:104",
          "A:ALA:105",
          "A:SER:106",
          "A:GLN:107",
          "A:LYS:108",
          "A:LYS:109",
          "A:VAL:110",
          "A:ASP:111",
          "A:PHE:112",
          "A:VAL:113",
          "A:SER:114",
          "A:GLY:115",
          "A:LEU:116",
          "A:HIS:117",
          "A:THR:118",
          "A:LEU:119",
          "A:CYS:120",
          "A:GLY:121",
          "A:ALA:122",
          "A:GLY:123",
          "A:ASP:124",
          "A:ILE:125",
          "A:LYS:126",
          "A:SER:127",
          "A:ASN:128",
          "A:ASN:129",
          "A:GLY:130",
          "A:LEU:131",
          "A:ALA:132",
          "A:ILE:133",
          "A:HIS:134",
          "A:ILE:135",
          "A:PHE:136",
          "A:LEU:137",
          "A:CYS:138",
          "A:ASN:139",
          "A:THR:140",
          "A:SER:141",
          "A:MET:142",
          "A:GLU:143",
          "A:ASN:144",
          "A:ARG:145",
          "A:CYS:146",
          "A:PHE:147",
          "A:TYR:148",
          "A:ASN:149",
          "A:SER:150",
          "A:ASP:151",
          "A:GLY:152",
          "A:ASP:153",
          "A:PHE:154",
          "A:LEU:155",
          "A:ILE:156",
          "A:VAL:157",
          "A:PRO:158",
          "A:GLN:159",
          "A:LYS:160",
          "A:ARG:161",
          "A:ASN:162",
          "A:LEU:163",
          "A:LEU:164",
          "A:ILE:165",
          "A:TYR:166",
          "A:THR:167",
          "A:GLU:168",
          "A:PHE:169",
          "A:GLY:170",
          "A:LYS:171",
          "A:MET:172",
          "A:LEU:173",
          "A:VAL:174",
          "A:GLN:175",
          "A:PRO:176",
          "A:ASN:177",
          "A:GLU:178",
          "A:ILE:179",
          "A:CYS:180",
          "A:VAL:181",
          "A:ILE:182",
          "A:GLN:183",
          "A:ARG:184",
          "A:GLY:185",
          "A:MET:186",
          "A:ARG:187",
          "A:PHE:188",
          "A:SER:189",
          "A:ILE:190",
          "A:ASP:191",
          "A:VAL:192",
          "A:PHE:193",
          "A:GLU:194",
          "A:GLU:195",
          "A:THR:196",
          "A:ARG:197",
          "A:GLY:198",
          "A:TYR:199",
          "A:ILE:200",
          "A:LEU:201",
          "A:GLU:202",
          "A:VAL:203",
          "A:TYR:204",
          "A:GLY:205",
          "A:VAL:206",
          "A:HIS:207",
          "A:PHE:208",
          "A:GLU:209",
          "A:LEU:210",
          "A:PRO:211",
          "A:ASP:212",
          "A:LEU:213",
          "A:GLY:214",
          "A:PRO:215",
          "A:ILE:216",
          "A:GLY:217",
          "A:ALA:218",
          "A:ASN:219",
          "A:GLY:220",
          "A:LEU:221",
          "A:ALA:222",
          "A:ASN:223",
          "A:PRO:224",
          "A:ARG:225",
          "A:ASP:226",
          "A:PHE:227",
          "A:LEU:228",
          "A:ILE:229",
          "A:PRO:230",
          "A:ILE:231",
          "A:ALA:232",
          "A:TRP:233",
          "A:TYR:234",
          "A:GLU:235",
          "A:ASP:236",
          "A:ARG:237",
          "A:GLN:238",
          "A:VAL:239",
          "A:PRO:240",
          "A:GLY:241",
          "A:GLY:242",
          "A:TYR:243",
          "A:THR:244",
          "A:VAL:245",
          "A:ILE:246",
          "A:ASN:247",
          "A:LYS:248",
          "A:TYR:249",
          "A:GLN:250",
          "A:GLY:251",
          "A:LYS:252",
          "A:LEU:253",
          "A:PHE:254",
          "A:ALA:255",
          "A:ALA:256",
          "A:LYS:257",
          "A:GLN:258",
          "A:ASP:259",
          "A:VAL:260",
          "A:SER:261",
          "A:PRO:262",
          "A:PHE:263",
          "A:ASN:264",
          "A:VAL:265",
          "A:VAL:266",
          "A:ALA:267",
          "A:TRP:268",
          "A:HIS:269",
          "A:GLY:270",
          "A:ASN:271",
          "A:TYR:272",
          "A:THR:273",
          "A:PRO:274",
          "A:TYR:275",
          "A:LYS:276",
          "A:TYR:277",
          "A:ASN:278",
          "A:LEU:279",
          "A:LYS:280",
          "A:ASN:281",
          "A:PHE:282",
          "A:MET:283",
          "A:VAL:284",
          "A:ILE:285",
          "A:ASN:286",
          "A:SER:287",
          "A:VAL:288",
          "A:ALA:289",
          "A:PHE:290",
          "A:ASP:291",
          "A:HIS:292",
          "A:ALA:293",
          "A:ASP:294",
          "A:PRO:295",
          "A:SER:296",
          "A:ILE:297",
          "A:PHE:298",
          "A:THR:299",
          "A:VAL:300",
          "A:LEU:301",
          "A:THR:302",
          "A:ALA:303",
          "A:LYS:304",
          "A:SER:305",
          "A:VAL:306",
          "A:ARG:307",
          "A:PRO:308",
          "A:GLY:309",
          "A:VAL:310",
          "A:ALA:311",
          "A:ILE:312",
          "A:ALA:313",
          "A:ASP:314",
          "A:PHE:315",
          "A:VAL:316",
          "A:ILE:317",
          "A:PHE:318",
          "A:PRO:319",
          "A:PRO:320",
          "A:ARG:321",
          "A:TRP:322",
          "A:GLY:323",
          "A:VAL:324",
          "A:ALA:325",
          "A:ASP:326",
          "A:LYS:327",
          "A:THR:328",
          "A:PHE:329",
          "A:ARG:330",
          "A:PRO:331",
          "A:PRO:332",
          "A:TYR:333",
          "A:TYR:334",
          "A:HIS:335",
          "A:ARG:336",
          "A:ASN:337",
          "A:CYS:338",
          "A:MET:339",
          "A:SER:340",
          "A:GLU:341",
          "A:PHE:342",
          "A:MET:343",
          "A:GLY:344",
          "A:LEU:345",
          "A:ILE:346",
          "A:ARG:347",
          "A:GLY:348",
          "A:HIS:349",
          "A:TYR:350",
          "A:GLU:351",
          "A:ALA:352",
          "A:LYS:353",
          "A:GLN:354",
          "A:GLY:355",
          "A:GLY:356",
          "A:PHE:357",
          "A:LEU:358",
          "A:PRO:359",
          "A:GLY:360",
          "A:GLY:361",
          "A:GLY:362",
          "A:SER:363",
          "A:LEU:364",
          "A:HIS:365",
          "A:SER:366",
          "A:THR:367",
          "A:MET:368",
          "A:THR:369",
          "A:PRO:370",
          "A:HIS:371",
          "A:GLY:372",
          "A:PRO:373",
          "A:ASP:374",
          "A:ALA:375",
          "A:ASP:376",
          "A:CYS:377",
          "A:PHE:378",
          "A:GLU:379",
          "A:LYS:380",
          "A:ALA:381",
          "A:SER:382",
          "A:LYS:383",
          "A:VAL:384",
          "A:LYS:385",
          "A:LEU:386",
          "A:ALA:387",
          "A:PRO:388",
          "A:GLU:389",
          "A:ARG:390",
          "A:ILE:391",
          "A:ALA:392",
          "A:ASP:393",
          "A:GLY:394",
          "A:THR:395",
          "A:MET:396",
          "A:ALA:397",
          "A:PHE:398",
          "A:MET:399",
          "A:PHE:400",
          "A:GLU:401",
          "A:SER:402",
          "A:SER:403",
          "A:LEU:404",
          "A:SER:405",
          "A:LEU:406",
          "A:ALA:407",
          "A:VAL:408",
          "A:THR:409",
          "A:LYS:410",
          "A:TRP:411",
          "A:GLY:412",
          "A:LEU:413",
          "A:LYS:414",
          "A:ALA:415",
          "A:SER:416",
          "A:ARG:417",
          "A:CYS:418",
          "A:LEU:419",
          "A:ASP:420",
          "A:GLU:421",
          "A:ASN:422",
          "A:TYR:423",
          "A:HIS:424",
          "A:LYS:425",
          "A:CYS:426",
          "A:TRP:427",
          "A:GLU:428",
          "A:PRO:429",
          "A:LEU:430",
          "A:LYS:431",
          "A:SER:432",
          "A:HIS:433",
          "A:PHE:434",
          "A:THR:435",
          "A:PRO:436",
          "A:ASN:437",
          "A:SER:438",
          "A:ARG:439",
          "A:ASN:440",
          "A:PRO:441",
          "A:ALA:442",
          "A:GLU:443",
          "A:PRO:444",
          "A:ASN:445"
         ],
         "type": "scatter3d",
         "x": [
          -3.59,
          -6.18,
          -5.469,
          -7.648,
          -10.039,
          -10.406,
          -12.523,
          -10.414,
          -10.859,
          -10.523,
          -13.297,
          -16.062,
          -19.438,
          -18.969,
          -20.969,
          -19.906,
          -21.578,
          -20.062,
          -20.641,
          -21.875,
          -24.938,
          -26.078,
          -28.672,
          -27.641,
          -27.656,
          -30.984,
          -32.406,
          -33.594,
          -33.125,
          -30.422,
          -32.469,
          -35.531,
          -37.875,
          -36.375,
          -32.938,
          -32.125,
          -30.953,
          -32.344,
          -29.188,
          -28.812,
          -28.344,
          -25.641,
          -24.281,
          -20.656,
          -20.281,
          -16.812,
          -18.141,
          -20.875,
          -24.406,
          -24.547,
          -21.281,
          -21.641,
          -22.109,
          -18.484,
          -17.047,
          -19.703,
          -18.234,
          -20.344,
          -20.859,
          -23.797,
          -22.922,
          -25.219,
          -24.016,
          -25.141,
          -24.938,
          -24.656,
          -21.406,
          -23.266,
          -23.312,
          -20.344,
          -19.453,
          -18.234,
          -14.82,
          -12.055,
          -8.836,
          -5.816,
          -2.117,
          -0.994,
          1.251,
          3.111,
          0.618,
          0.608,
          -0.609,
          1.407,
          3.457,
          4.949,
          6.539,
          10.086,
          11.805,
          11.672,
          14.812,
          15.422,
          18.375,
          18.516,
          17.281,
          17.891,
          16.891,
          18.531,
          16.234,
          13.797,
          14.289,
          11.484,
          10.961,
          11.938,
          9,
          11.055,
          11.141,
          7.684,
          4.664,
          3.773,
          0.917,
          0.099,
          -1.63,
          0.834,
          3.662,
          2.457,
          4.926,
          4.262,
          7.363,
          6.285,
          3.256,
          1.411,
          -1.991,
          -5.023,
          -7.031,
          -10.086,
          -10.273,
          -9.719,
          -6.582,
          -3.211,
          -1.263,
          0.907,
          3.586,
          3.754,
          6.062,
          4.555,
          6.762,
          5.098,
          5.859,
          2.537,
          -0.915,
          -3.9,
          -5.891,
          -9.633,
          -9.07,
          -9.445,
          -8.547,
          -10.336,
          -9.195,
          -11.734,
          -9.227,
          -8.141,
          -7.191,
          -4.258,
          -2.01,
          0.029,
          3.395,
          4.824,
          8.555,
          9.312,
          7.113,
          3.422,
          0.277,
          -2.873,
          -5.566,
          -9.125,
          -11.586,
          -15.242,
          -15.117,
          -13.047,
          -9.492,
          -6.34,
          -2.891,
          -0.42,
          3.195,
          6.281,
          6.121,
          2.346,
          0.42,
          -3.045,
          -5.445,
          -7.781,
          -10.078,
          -11.305,
          -13.695,
          -13.156,
          -12.484,
          -9.594,
          -7.324,
          -3.854,
          -2.213,
          1.479,
          3.684,
          7.02,
          8.688,
          7.066,
          7.699,
          6.473,
          5.289,
          1.942,
          0.799,
          -2.256,
          -4.25,
          -7.039,
          -10.234,
          -9.375,
          -9.219,
          -6.551,
          -7.207,
          -5.391,
          -3.354,
          -4.641,
          -2.945,
          -2.898,
          -0.818,
          0.063,
          -3.404,
          -5.574,
          -2.639,
          0.241,
          1.204,
          -1.083,
          -3.98,
          -7.293,
          -7.863,
          -4.793,
          -6.309,
          -7.781,
          -10.734,
          -11.406,
          -14.438,
          -17.016,
          -15.992,
          -17.438,
          -17.094,
          -19.938,
          -18.281,
          -18.828,
          -15.781,
          -15.836,
          -14.023,
          -14.719,
          -13.641,
          -11.531,
          -12.312,
          -9.547,
          -10.289,
          -8.039,
          -10.016,
          -8.625,
          -5.121,
          -5.652,
          -6.402,
          -9.547,
          -10.82,
          -14.227,
          -15.406,
          -18,
          -19.125,
          -18.75,
          -16.297,
          -16.797,
          -15.984,
          -19.594,
          -20.422,
          -22.016,
          -22.531,
          -21.703,
          -22.062,
          -20.641,
          -17.594,
          -15.938,
          -13.758,
          -10.336,
          -7.961,
          -4.461,
          -2.035,
          1.01,
          3.754,
          5.246,
          2.236,
          2.986,
          3.629,
          6.73,
          7.145,
          10.109,
          12.258,
          13.172,
          15.406,
          17.156,
          16.734,
          15.25,
          11.484,
          10.227,
          9.672,
          5.977,
          5.82,
          6.016,
          2.947,
          0.787,
          -1.828,
          -2.598,
          -4.605,
          -5.531,
          -5.895,
          -8.453,
          -5.801,
          -5.73,
          -2.494,
          -1.434,
          -1.586,
          -1.841,
          0.163,
          1.472,
          2.551,
          5.426,
          7.504,
          10.828,
          10.352,
          12.836,
          13.133,
          15.312,
          17.5,
          18.031,
          18.219,
          20.984,
          23.594,
          21.672,
          22.703,
          20.406,
          20.484,
          18.172,
          19.188,
          20.344,
          17.453,
          15.336,
          11.664,
          8.633,
          7.266,
          8.297,
          9.844,
          9.805,
          11.609,
          11.414,
          12.953,
          10.898,
          13.695,
          17.078,
          19.594,
          18.828,
          20.812,
          21.547,
          23.047,
          25.562,
          26,
          23.406,
          19.781,
          18.625,
          15.297,
          13.125,
          14.75,
          13.797,
          14.805,
          13.07,
          13.859,
          11.742,
          10.539,
          13.32,
          16.031,
          18.688,
          19.453,
          20.609,
          22.906,
          26.094,
          29.625,
          30.547,
          27.344,
          27.891,
          31.484,
          30.578,
          27.438,
          29.062,
          31.781,
          30.203,
          29.594,
          25.891,
          24.297,
          20.938,
          20.906,
          18.625,
          18.047,
          16.719,
          16.359,
          15.508,
          14.883,
          11.68,
          11.875,
          8.961,
          8.242,
          5.559,
          5.547,
          3.559,
          2.742,
          2.721,
          5.742,
          6.207,
          7.055,
          9.156,
          8.18,
          10.422,
          10.398,
          11.539,
          14.422,
          15.625,
          13.648,
          13.93,
          17.75,
          17.703,
          18.516,
          21.688,
          23.734,
          26.188,
          23.797,
          25.016,
          28.578,
          27.672,
          27.688,
          30.844,
          33.312,
          31.594,
          34.062,
          33.75,
          34.312,
          33.875,
          36.469,
          35.844,
          37.438,
          36.594,
          33.094,
          33.938,
          36.5,
          36.25,
          37.5,
          41.25,
          42.688
         ],
         "y": [
          -18.422,
          -20.594,
          -20.266,
          -17.375,
          -18.375,
          -16.547,
          -16.281,
          -16.625,
          -14.273,
          -10.672,
          -8.328,
          -11.008,
          -10.719,
          -12.266,
          -12.797,
          -13.719,
          -14.133,
          -14.852,
          -18.516,
          -17.359,
          -15.812,
          -18.094,
          -16.625,
          -13.008,
          -12.094,
          -10.93,
          -13.211,
          -11.773,
          -8.109,
          -5.637,
          -3.623,
          -5.469,
          -3.711,
          -5.934,
          -7.469,
          -10.859,
          -10.555,
          -7.027,
          -5.758,
          -2.471,
          -2.576,
          -0.198,
          0.33,
          1.167,
          2.584,
          2.547,
          4.023,
          6.328,
          4.828,
          5.383,
          3.602,
          0.732,
          -2.73,
          -3.709,
          -0.833,
          -0.456,
          -1.091,
          -1.577,
          -3.604,
          -4.098,
          -4.355,
          -5.805,
          -4.457,
          -4.223,
          -0.398,
          1.845,
          3.709,
          7.027,
          6.668,
          8.75,
          12.133,
          14.992,
          14.688,
          16.953,
          17.812,
          16.062,
          16.641,
          13.008,
          11.367,
          13.242,
          13.078,
          15.992,
          16.984,
          20.094,
          19.328,
          22.859,
          22.766,
          22.516,
          23.266,
          20.359,
          18.094,
          16.516,
          14.438,
          10.648,
          10.047,
          7.168,
          6.574,
          4.309,
          2.156,
          4.262,
          3.912,
          2.41,
          4.23,
          2.143,
          0.997,
          1.979,
          5.629,
          6.18,
          4.172,
          4.586,
          2.801,
          2.57,
          5.984,
          7.957,
          6.391,
          7.457,
          9.57,
          10.969,
          10.586,
          11.938,
          12.406,
          14.367,
          15.531,
          16.828,
          14.93,
          17.188,
          16.469,
          12.734,
          12.695,
          11.781,
          9.594,
          9.562,
          7.293,
          6.777,
          5.102,
          3.531,
          3.092,
          1.52,
          -0.415,
          -0.747,
          -2.057,
          0.123,
          -0.057,
          0.784,
          2.855,
          2.467,
          4.297,
          4.949,
          6.824,
          9.055,
          10.164,
          6.988,
          3.318,
          2.066,
          -0.523,
          -1.631,
          -3.389,
          -4.758,
          -4.852,
          -5.852,
          -8.266,
          -9.25,
          -7.156,
          -8.453,
          -6.289,
          -5.977,
          -4.695,
          -4.293,
          -7.395,
          -9.656,
          -10.359,
          -10.422,
          -11.555,
          -9.844,
          -10.922,
          -9.586,
          -10.562,
          -10.18,
          -7.074,
          -5.91,
          -3.318,
          -1.531,
          0.41,
          3.924,
          4.367,
          0.994,
          1.081,
          -0.973,
          -1.534,
          -3.01,
          -5.191,
          -5.473,
          -7.699,
          -5.973,
          -2.959,
          -2.91,
          -0.984,
          -0.845,
          1.1,
          2.479,
          3.457,
          5.688,
          6.504,
          9.172,
          8.734,
          5.297,
          1.653,
          -0.988,
          -3.52,
          -6.316,
          -5.168,
          -5.941,
          -9.062,
          -8.297,
          -10.852,
          -12.805,
          -14.25,
          -15.711,
          -16.938,
          -14.883,
          -12.375,
          -12.203,
          -14.656,
          -13.406,
          -16.781,
          -16.078,
          -12.969,
          -13.531,
          -11.75,
          -11.977,
          -13.766,
          -11.891,
          -11.352,
          -9.156,
          -8.008,
          -6.922,
          -5.012,
          -1.826,
          0.349,
          2.172,
          5.527,
          5.621,
          3.998,
          6.379,
          6.586,
          8.289,
          9.641,
          10.82,
          13.484,
          15.766,
          15.211,
          15.797,
          13.695,
          13.859,
          11.914,
          11.062,
          9.102,
          6.324,
          3.824,
          0.707,
          -1.13,
          -0.344,
          -3.941,
          -4.875,
          -6.137,
          -9.523,
          -10.188,
          -8.57,
          -9.047,
          -7.195,
          -6.645,
          -3.805,
          -5.621,
          -5.59,
          -8.172,
          -9.555,
          -11.219,
          -13.383,
          -12.047,
          -15.523,
          -16.547,
          -14.078,
          -15.859,
          -14.25,
          -13.758,
          -12.469,
          -12.797,
          -16.422,
          -15.727,
          -12.414,
          -8.758,
          -7.152,
          -6.742,
          -3.59,
          -3.834,
          -3.273,
          -7.035,
          -7.523,
          -5.375,
          -6.934,
          -4.176,
          -1.012,
          2.129,
          3.438,
          7.008,
          8.312,
          8.109,
          4.652,
          2.803,
          5.305,
          4.531,
          6.895,
          4.262,
          0.744,
          -1.711,
          -3.623,
          -6.375,
          -8.031,
          -11.602,
          -14.523,
          -15.883,
          -17.578,
          -15.406,
          -17.172,
          -14.367,
          -14.867,
          -12.219,
          -9.727,
          -7.273,
          -8.711,
          -6.027,
          -3.129,
          -0.935,
          2.727,
          5.113,
          8.234,
          7.758,
          9.914,
          8.008,
          8.461,
          5.379,
          4.738,
          1.578,
          -0.283,
          -3.445,
          -5.887,
          -8.508,
          -9.641,
          -7.859,
          -5.895,
          -7.266,
          -3.934,
          -2.25,
          -4.426,
          -1.576,
          0.694,
          -0.271,
          -2.068,
          -3.447,
          -0.689,
          1.942,
          3.354,
          5.215,
          7.73,
          8.383,
          11.32,
          12.039,
          12.227,
          11.672,
          9.25,
          6.172,
          2.482,
          -0.045,
          1.079,
          0.941,
          -2.418,
          -4.031,
          -2.822,
          -4.051,
          -7.414,
          -7.969,
          -6.844,
          -9.539,
          -12.375,
          -15.656,
          -15.961,
          -19.156,
          -19.953,
          -18.547,
          -17.953,
          -14.195,
          -12.469,
          -15.719,
          -14.578,
          -10.992,
          -9.117,
          -5.621,
          -3.562,
          -0.387,
          2.24,
          3.682,
          6.785,
          8.969,
          11.953,
          14.047,
          13.344,
          16.062,
          15.023,
          16.234,
          18.031,
          14.875,
          12.828,
          15.188,
          16.203,
          15.195,
          11.461,
          11.703,
          8.781,
          10.469,
          9.141,
          12.156,
          10.016,
          8.117,
          9.758,
          8.562,
          5,
          6.074,
          8.438,
          5.668,
          4.68,
          4.91,
          5.199,
          1.836,
          3.346,
          2.25,
          4.496,
          1.778,
          -1.586,
          -2.859,
          -6.129,
          -5.648,
          -9.383,
          -10.883,
          -11.547,
          -10.398
         ],
         "z": [
          17.359,
          15.469,
          11.688,
          10.266,
          7.496,
          4.191,
          1.085,
          -2.08,
          -4.961,
          -6.25,
          -7.184,
          -6.652,
          -4.961,
          -1.614,
          1.456,
          4.906,
          8.32,
          11.688,
          12.641,
          16.031,
          14.289,
          11.438,
          9.117,
          9.852,
          6.145,
          4.883,
          2.188,
          -1.201,
          -0.209,
          1.227,
          3.729,
          5.223,
          7.621,
          10.328,
          9.93,
          11.406,
          14.969,
          14.922,
          13.297,
          11.438,
          7.719,
          6.488,
          3.012,
          2.26,
          -1.22,
          -2.816,
          -6.133,
          -7.336,
          -7.469,
          -11.195,
          -12.023,
          -14.461,
          -12.953,
          -13.891,
          -11.922,
          -9.25,
          -5.73,
          -2.6,
          0.499,
          2.744,
          6.426,
          9.055,
          12.289,
          15.945,
          15.992,
          13,
          12.297,
          12.469,
          16.297,
          17.531,
          19.047,
          16.938,
          15.25,
          16.531,
          14.883,
          16.312,
          15.883,
          15.688,
          13.078,
          10.352,
          7.5,
          5.086,
          1.743,
          1.446,
          -1.635,
          -1.607,
          1.867,
          0.439,
          -2.932,
          -5.359,
          -5.621,
          -9.023,
          -7.727,
          -7.215,
          -3.697,
          -1.421,
          2.174,
          4.688,
          6.777,
          8.828,
          12.562,
          14.609,
          17.891,
          20.875,
          22.984,
          26.031,
          24.844,
          23.547,
          22.734,
          19.094,
          17.406,
          13.648,
          13.344,
          15.445,
          13.562,
          10.109,
          8.141,
          4.703,
          2.6,
          -0.763,
          -2.918,
          -5.586,
          -6.613,
          -4.863,
          -2.297,
          -2.729,
          -6.453,
          -5.781,
          -7.977,
          -6.676,
          -4.344,
          -1.243,
          0.005,
          3.75,
          6.176,
          9.219,
          12.32,
          15.375,
          18.5,
          20.234,
          19.297,
          18.719,
          21.984,
          21.797,
          18.734,
          14.984,
          11.852,
          8.602,
          5.551,
          3.758,
          1.223,
          -0.472,
          -0.569,
          1.56,
          0.001,
          3.033,
          2.643,
          5.879,
          5.93,
          9.562,
          11.625,
          11.203,
          11.289,
          12.875,
          11.305,
          12.539,
          9.961,
          9.75,
          7.441,
          9.656,
          10.742,
          8.555,
          9.414,
          7.066,
          7.117,
          5.438,
          1.727,
          1.934,
          1.124,
          1.97,
          0.652,
          2.99,
          0.81,
          1.351,
          4.309,
          5.984,
          9.719,
          10.898,
          13.906,
          13.992,
          16.547,
          16.672,
          18.797,
          18.375,
          16.719,
          13.344,
          10.109,
          6.566,
          3.543,
          2.457,
          -1.044,
          -0.825,
          -3.969,
          -4.352,
          -6.309,
          -7.758,
          -6.578,
          -7.141,
          -9.867,
          -11.602,
          -14.633,
          -18.125,
          -19.547,
          -23.188,
          -25.219,
          -21.984,
          -22.188,
          -19.438,
          -17.281,
          -15.773,
          -13.062,
          -9.945,
          -10.07,
          -8.742,
          -6.852,
          -4.711,
          -3.125,
          0.292,
          1.906,
          5.633,
          7.043,
          9.07,
          12.672,
          15.297,
          18.844,
          21.016,
          23.719,
          25.656,
          26.062,
          29.359,
          28.812,
          25.094,
          21.812,
          19.641,
          15.906,
          13.93,
          10.516,
          7.844,
          5.973,
          3.297,
          4.324,
          8.062,
          11.102,
          13.266,
          16.188,
          17.625,
          20.641,
          20.984,
          23.609,
          21.547,
          19.281,
          15.555,
          14.797,
          15.398,
          11.922,
          12.211,
          8.508,
          5.184,
          1.438,
          -1.55,
          -3.814,
          -1.852,
          0.755,
          2.258,
          0.906,
          1.184,
          -1.218,
          -0.825,
          -3.131,
          -3.387,
          -5.355,
          -8.148,
          -11.438,
          -12.828,
          -16.594,
          -18.375,
          -21.531,
          -22.234,
          -25.281,
          -25.234,
          -23.984,
          -20.953,
          -20.562,
          -18.906,
          -15.195,
          -15.797,
          -16.562,
          -12.773,
          -11.914,
          -9.141,
          -8.742,
          -10.703,
          -9.938,
          -13.383,
          -14.383,
          -16.766,
          -19.469,
          -21.031,
          -20.344,
          -17.672,
          -13.93,
          -11.055,
          -9.398,
          -10.062,
          -7.383,
          -8.953,
          -7.387,
          -8.148,
          -7.043,
          -7.082,
          -10.57,
          -13.227,
          -15.383,
          -18.734,
          -21.406,
          -24.016,
          -24.703,
          -22.5,
          -19.844,
          -17.203,
          -14.594,
          -14.906,
          -17.875,
          -17.656,
          -18.406,
          -17.969,
          -17.359,
          -17.688,
          -14.578,
          -11,
          -9.367,
          -5.648,
          -4.727,
          -1.425,
          -0.006,
          2.086,
          2.736,
          1.447,
          -0.843,
          -3.971,
          -7.023,
          -8.703,
          -5.637,
          -3.729,
          -1.081,
          0.664,
          -0.478,
          2.67,
          3.885,
          5.359,
          3.193,
          -0.16,
          -3.307,
          -5.453,
          -9.039,
          -10.133,
          -13.562,
          -16.078,
          -13.492,
          -15.016,
          -13.07,
          -13.289,
          -11.805,
          -9.961,
          -11.547,
          -9.945,
          -11.094,
          -14.609,
          -14.766,
          -13.359,
          -15.461,
          -18.672,
          -18.422,
          -16.625,
          -18.438,
          -18.984,
          -17.656,
          -16.141,
          -12.578,
          -9.648,
          -8.992,
          -5.902,
          -3.879,
          -0.344,
          -1.642,
          -2.283,
          -3.691,
          -4.93,
          -6.77,
          -6.574,
          -10.07,
          -10.75,
          -13.711,
          -11.336,
          -10.383,
          -6.688,
          -4.211,
          -1.245,
          2.209,
          4.777,
          6.848,
          3.887,
          3.031,
          6.422,
          9.602,
          9.016,
          8.992,
          6.688,
          3.395,
          1.835,
          0.685,
          -1.145,
          -3.336,
          -6.531,
          -5.836,
          -6.801,
          -10.5,
          -10.375,
          -11.031,
          -14.383,
          -17.281,
          -20.938,
          -22.609,
          -26.125,
          -28.703,
          -31.953,
          -34.281,
          -32.812,
          -33.531,
          -31.641,
          -28.812,
          -27.922,
          -31.219,
          -30.938,
          -34.25
         ]
        },
        {
         "hoverinfo": "text",
         "line": {
          "color": [
           [
            0.050383,
            0.029803,
            0.527975,
            1
           ],
           [
            0.050383,
            0.029803,
            0.527975,
            1
           ],
           [
            0.050383,
            0.029803,
            0.527975,
            1
           ],
           [
            0.050383,
            0.029803,
            0.527975,
            1
           ],
           [
            0.050383,
            0.029803,
            0.527975,
            1
           ],
           [
            0.050383,
            0.029803,
            0.527975,
            1
           ],
           [
            0.050383,
            0.029803,
            0.527975,
            1
           ],
           [
            0.050383,
            0.029803,
            0.527975,
            1
           ],
           [
            0.050383,
            0.029803,
            0.527975,
            1
           ],
           [
            0.050383,
            0.029803,
            0.527975,
            1
           ],
           [
            0.050383,
            0.029803,
            0.527975,
            1
           ],
           [
            0.050383,
            0.029803,
            0.527975,
            1
           ],
           [
            0.050383,
            0.029803,
            0.527975,
            1
           ],
           [
            0.050383,
            0.029803,
            0.527975,
            1
           ],
           [
            0.050383,
            0.029803,
            0.527975,
            1
           ],
           [
            0.050383,
            0.029803,
            0.527975,
            1
           ],
           [
            0.050383,
            0.029803,
            0.527975,
            1
           ],
           [
            0.050383,
            0.029803,
            0.527975,
            1
           ],
           [
            0.050383,
            0.029803,
            0.527975,
            1
           ],
           [
            0.050383,
            0.029803,
            0.527975,
            1
           ],
           [
            0.050383,
            0.029803,
            0.527975,
            1
           ],
           [
            0.050383,
            0.029803,
            0.527975,
            1
           ],
           [
            0.050383,
            0.029803,
            0.527975,
            1
           ],
           [
            0.050383,
            0.029803,
            0.527975,
            1
           ],
           [
            0.050383,
            0.029803,
            0.527975,
            1
           ],
           [
            0.050383,
            0.029803,
            0.527975,
            1
           ],
           [
            0.050383,
            0.029803,
            0.527975,
            1
           ],
           [
            0.050383,
            0.029803,
            0.527975,
            1
           ],
           [
            0.050383,
            0.029803,
            0.527975,
            1
           ],
           [
            0.050383,
            0.029803,
            0.527975,
            1
           ],
           [
            0.050383,
            0.029803,
            0.527975,
            1
           ],
           [
            0.050383,
            0.029803,
            0.527975,
            1
           ],
           [
            0.050383,
            0.029803,
            0.527975,
            1
           ],
           [
            0.050383,
            0.029803,
            0.527975,
            1
           ],
           [
            0.050383,
            0.029803,
            0.527975,
            1
           ],
           [
            0.050383,
            0.029803,
            0.527975,
            1
           ],
           [
            0.050383,
            0.029803,
            0.527975,
            1
           ],
           [
            0.050383,
            0.029803,
            0.527975,
            1
           ],
           [
            0.050383,
            0.029803,
            0.527975,
            1
           ],
           [
            0.050383,
            0.029803,
            0.527975,
            1
           ],
           [
            0.050383,
            0.029803,
            0.527975,
            1
           ],
           [
            0.050383,
            0.029803,
            0.527975,
            1
           ],
           [
            0.050383,
            0.029803,
            0.527975,
            1
           ],
           [
            0.050383,
            0.029803,
            0.527975,
            1
           ],
           [
            0.050383,
            0.029803,
            0.527975,
            1
           ],
           [
            0.050383,
            0.029803,
            0.527975,
            1
           ],
           [
            0.050383,
            0.029803,
            0.527975,
            1
           ],
           [
            0.050383,
            0.029803,
            0.527975,
            1
           ],
           [
            0.050383,
            0.029803,
            0.527975,
            1
           ],
           [
            0.050383,
            0.029803,
            0.527975,
            1
           ],
           [
            0.050383,
            0.029803,
            0.527975,
            1
           ],
           [
            0.050383,
            0.029803,
            0.527975,
            1
           ],
           [
            0.050383,
            0.029803,
            0.527975,
            1
           ],
           [
            0.050383,
            0.029803,
            0.527975,
            1
           ],
           [
            0.050383,
            0.029803,
            0.527975,
            1
           ],
           [
            0.050383,
            0.029803,
            0.527975,
            1
           ],
           [
            0.050383,
            0.029803,
            0.527975,
            1
           ],
           [
            0.050383,
            0.029803,
            0.527975,
            1
           ],
           [
            0.050383,
            0.029803,
            0.527975,
            1
           ],
           [
            0.050383,
            0.029803,
            0.527975,
            1
           ],
           [
            0.050383,
            0.029803,
            0.527975,
            1
           ],
           [
            0.050383,
            0.029803,
            0.527975,
            1
           ],
           [
            0.050383,
            0.029803,
            0.527975,
            1
           ],
           [
            0.050383,
            0.029803,
            0.527975,
            1
           ],
           [
            0.050383,
            0.029803,
            0.527975,
            1
           ],
           [
            0.050383,
            0.029803,
            0.527975,
            1
           ],
           [
            0.050383,
            0.029803,
            0.527975,
            1
           ],
           [
            0.050383,
            0.029803,
            0.527975,
            1
           ],
           [
            0.050383,
            0.029803,
            0.527975,
            1
           ],
           [
            0.050383,
            0.029803,
            0.527975,
            1
           ],
           [
            0.050383,
            0.029803,
            0.527975,
            1
           ],
           [
            0.050383,
            0.029803,
            0.527975,
            1
           ],
           [
            0.050383,
            0.029803,
            0.527975,
            1
           ],
           [
            0.050383,
            0.029803,
            0.527975,
            1
           ],
           [
            0.050383,
            0.029803,
            0.527975,
            1
           ],
           [
            0.050383,
            0.029803,
            0.527975,
            1
           ],
           [
            0.050383,
            0.029803,
            0.527975,
            1
           ],
           [
            0.050383,
            0.029803,
            0.527975,
            1
           ],
           [
            0.050383,
            0.029803,
            0.527975,
            1
           ],
           [
            0.050383,
            0.029803,
            0.527975,
            1
           ],
           [
            0.050383,
            0.029803,
            0.527975,
            1
           ],
           [
            0.050383,
            0.029803,
            0.527975,
            1
           ],
           [
            0.050383,
            0.029803,
            0.527975,
            1
           ],
           [
            0.050383,
            0.029803,
            0.527975,
            1
           ],
           [
            0.050383,
            0.029803,
            0.527975,
            1
           ],
           [
            0.050383,
            0.029803,
            0.527975,
            1
           ],
           [
            0.050383,
            0.029803,
            0.527975,
            1
           ],
           [
            0.050383,
            0.029803,
            0.527975,
            1
           ],
           [
            0.050383,
            0.029803,
            0.527975,
            1
           ],
           [
            0.050383,
            0.029803,
            0.527975,
            1
           ],
           [
            0.050383,
            0.029803,
            0.527975,
            1
           ],
           [
            0.050383,
            0.029803,
            0.527975,
            1
           ],
           [
            0.050383,
            0.029803,
            0.527975,
            1
           ],
           [
            0.050383,
            0.029803,
            0.527975,
            1
           ],
           [
            0.050383,
            0.029803,
            0.527975,
            1
           ],
           [
            0.050383,
            0.029803,
            0.527975,
            1
           ],
           [
            0.050383,
            0.029803,
            0.527975,
            1
           ],
           [
            0.050383,
            0.029803,
            0.527975,
            1
           ],
           [
            0.050383,
            0.029803,
            0.527975,
            1
           ],
           [
            0.050383,
            0.029803,
            0.527975,
            1
           ],
           [
            0.050383,
            0.029803,
            0.527975,
            1
           ],
           [
            0.050383,
            0.029803,
            0.527975,
            1
           ],
           [
            0.050383,
            0.029803,
            0.527975,
            1
           ],
           [
            0.050383,
            0.029803,
            0.527975,
            1
           ],
           [
            0.050383,
            0.029803,
            0.527975,
            1
           ],
           [
            0.050383,
            0.029803,
            0.527975,
            1
           ],
           [
            0.050383,
            0.029803,
            0.527975,
            1
           ],
           [
            0.050383,
            0.029803,
            0.527975,
            1
           ],
           [
            0.050383,
            0.029803,
            0.527975,
            1
           ],
           [
            0.050383,
            0.029803,
            0.527975,
            1
           ],
           [
            0.050383,
            0.029803,
            0.527975,
            1
           ],
           [
            0.050383,
            0.029803,
            0.527975,
            1
           ],
           [
            0.050383,
            0.029803,
            0.527975,
            1
           ],
           [
            0.050383,
            0.029803,
            0.527975,
            1
           ],
           [
            0.050383,
            0.029803,
            0.527975,
            1
           ],
           [
            0.050383,
            0.029803,
            0.527975,
            1
           ],
           [
            0.050383,
            0.029803,
            0.527975,
            1
           ],
           [
            0.050383,
            0.029803,
            0.527975,
            1
           ],
           [
            0.050383,
            0.029803,
            0.527975,
            1
           ],
           [
            0.050383,
            0.029803,
            0.527975,
            1
           ],
           [
            0.050383,
            0.029803,
            0.527975,
            1
           ],
           [
            0.050383,
            0.029803,
            0.527975,
            1
           ],
           [
            0.050383,
            0.029803,
            0.527975,
            1
           ],
           [
            0.050383,
            0.029803,
            0.527975,
            1
           ],
           [
            0.050383,
            0.029803,
            0.527975,
            1
           ],
           [
            0.050383,
            0.029803,
            0.527975,
            1
           ],
           [
            0.050383,
            0.029803,
            0.527975,
            1
           ],
           [
            0.050383,
            0.029803,
            0.527975,
            1
           ],
           [
            0.050383,
            0.029803,
            0.527975,
            1
           ],
           [
            0.050383,
            0.029803,
            0.527975,
            1
           ],
           [
            0.050383,
            0.029803,
            0.527975,
            1
           ],
           [
            0.050383,
            0.029803,
            0.527975,
            1
           ],
           [
            0.050383,
            0.029803,
            0.527975,
            1
           ],
           [
            0.050383,
            0.029803,
            0.527975,
            1
           ],
           [
            0.050383,
            0.029803,
            0.527975,
            1
           ],
           [
            0.050383,
            0.029803,
            0.527975,
            1
           ],
           [
            0.050383,
            0.029803,
            0.527975,
            1
           ],
           [
            0.050383,
            0.029803,
            0.527975,
            1
           ],
           [
            0.050383,
            0.029803,
            0.527975,
            1
           ],
           [
            0.050383,
            0.029803,
            0.527975,
            1
           ],
           [
            0.050383,
            0.029803,
            0.527975,
            1
           ],
           [
            0.050383,
            0.029803,
            0.527975,
            1
           ],
           [
            0.050383,
            0.029803,
            0.527975,
            1
           ],
           [
            0.050383,
            0.029803,
            0.527975,
            1
           ],
           [
            0.050383,
            0.029803,
            0.527975,
            1
           ],
           [
            0.050383,
            0.029803,
            0.527975,
            1
           ],
           [
            0.050383,
            0.029803,
            0.527975,
            1
           ],
           [
            0.050383,
            0.029803,
            0.527975,
            1
           ],
           [
            0.050383,
            0.029803,
            0.527975,
            1
           ],
           [
            0.050383,
            0.029803,
            0.527975,
            1
           ],
           [
            0.050383,
            0.029803,
            0.527975,
            1
           ],
           [
            0.050383,
            0.029803,
            0.527975,
            1
           ],
           [
            0.050383,
            0.029803,
            0.527975,
            1
           ],
           [
            0.050383,
            0.029803,
            0.527975,
            1
           ],
           [
            0.050383,
            0.029803,
            0.527975,
            1
           ],
           [
            0.050383,
            0.029803,
            0.527975,
            1
           ],
           [
            0.050383,
            0.029803,
            0.527975,
            1
           ],
           [
            0.050383,
            0.029803,
            0.527975,
            1
           ],
           [
            0.050383,
            0.029803,
            0.527975,
            1
           ],
           [
            0.050383,
            0.029803,
            0.527975,
            1
           ],
           [
            0.050383,
            0.029803,
            0.527975,
            1
           ],
           [
            0.050383,
            0.029803,
            0.527975,
            1
           ],
           [
            0.050383,
            0.029803,
            0.527975,
            1
           ],
           [
            0.050383,
            0.029803,
            0.527975,
            1
           ],
           [
            0.050383,
            0.029803,
            0.527975,
            1
           ],
           [
            0.050383,
            0.029803,
            0.527975,
            1
           ],
           [
            0.050383,
            0.029803,
            0.527975,
            1
           ],
           [
            0.050383,
            0.029803,
            0.527975,
            1
           ],
           [
            0.050383,
            0.029803,
            0.527975,
            1
           ],
           [
            0.050383,
            0.029803,
            0.527975,
            1
           ],
           [
            0.050383,
            0.029803,
            0.527975,
            1
           ],
           [
            0.050383,
            0.029803,
            0.527975,
            1
           ],
           [
            0.050383,
            0.029803,
            0.527975,
            1
           ],
           [
            0.050383,
            0.029803,
            0.527975,
            1
           ],
           [
            0.050383,
            0.029803,
            0.527975,
            1
           ],
           [
            0.050383,
            0.029803,
            0.527975,
            1
           ],
           [
            0.050383,
            0.029803,
            0.527975,
            1
           ],
           [
            0.050383,
            0.029803,
            0.527975,
            1
           ],
           [
            0.050383,
            0.029803,
            0.527975,
            1
           ],
           [
            0.050383,
            0.029803,
            0.527975,
            1
           ],
           [
            0.050383,
            0.029803,
            0.527975,
            1
           ],
           [
            0.050383,
            0.029803,
            0.527975,
            1
           ],
           [
            0.050383,
            0.029803,
            0.527975,
            1
           ],
           [
            0.050383,
            0.029803,
            0.527975,
            1
           ],
           [
            0.050383,
            0.029803,
            0.527975,
            1
           ],
           [
            0.050383,
            0.029803,
            0.527975,
            1
           ],
           [
            0.050383,
            0.029803,
            0.527975,
            1
           ],
           [
            0.050383,
            0.029803,
            0.527975,
            1
           ],
           [
            0.050383,
            0.029803,
            0.527975,
            1
           ],
           [
            0.050383,
            0.029803,
            0.527975,
            1
           ],
           [
            0.050383,
            0.029803,
            0.527975,
            1
           ],
           [
            0.050383,
            0.029803,
            0.527975,
            1
           ],
           [
            0.050383,
            0.029803,
            0.527975,
            1
           ],
           [
            0.050383,
            0.029803,
            0.527975,
            1
           ],
           [
            0.050383,
            0.029803,
            0.527975,
            1
           ],
           [
            0.050383,
            0.029803,
            0.527975,
            1
           ],
           [
            0.050383,
            0.029803,
            0.527975,
            1
           ],
           [
            0.050383,
            0.029803,
            0.527975,
            1
           ],
           [
            0.050383,
            0.029803,
            0.527975,
            1
           ],
           [
            0.050383,
            0.029803,
            0.527975,
            1
           ],
           [
            0.050383,
            0.029803,
            0.527975,
            1
           ],
           [
            0.050383,
            0.029803,
            0.527975,
            1
           ],
           [
            0.050383,
            0.029803,
            0.527975,
            1
           ],
           [
            0.050383,
            0.029803,
            0.527975,
            1
           ],
           [
            0.050383,
            0.029803,
            0.527975,
            1
           ],
           [
            0.050383,
            0.029803,
            0.527975,
            1
           ],
           [
            0.050383,
            0.029803,
            0.527975,
            1
           ],
           [
            0.050383,
            0.029803,
            0.527975,
            1
           ],
           [
            0.050383,
            0.029803,
            0.527975,
            1
           ],
           [
            0.050383,
            0.029803,
            0.527975,
            1
           ],
           [
            0.050383,
            0.029803,
            0.527975,
            1
           ],
           [
            0.050383,
            0.029803,
            0.527975,
            1
           ],
           [
            0.050383,
            0.029803,
            0.527975,
            1
           ],
           [
            0.050383,
            0.029803,
            0.527975,
            1
           ],
           [
            0.050383,
            0.029803,
            0.527975,
            1
           ],
           [
            0.050383,
            0.029803,
            0.527975,
            1
           ],
           [
            0.050383,
            0.029803,
            0.527975,
            1
           ],
           [
            0.050383,
            0.029803,
            0.527975,
            1
           ],
           [
            0.050383,
            0.029803,
            0.527975,
            1
           ],
           [
            0.050383,
            0.029803,
            0.527975,
            1
           ],
           [
            0.050383,
            0.029803,
            0.527975,
            1
           ],
           [
            0.050383,
            0.029803,
            0.527975,
            1
           ],
           [
            0.050383,
            0.029803,
            0.527975,
            1
           ],
           [
            0.050383,
            0.029803,
            0.527975,
            1
           ],
           [
            0.050383,
            0.029803,
            0.527975,
            1
           ],
           [
            0.050383,
            0.029803,
            0.527975,
            1
           ],
           [
            0.050383,
            0.029803,
            0.527975,
            1
           ],
           [
            0.050383,
            0.029803,
            0.527975,
            1
           ],
           [
            0.050383,
            0.029803,
            0.527975,
            1
           ],
           [
            0.050383,
            0.029803,
            0.527975,
            1
           ],
           [
            0.050383,
            0.029803,
            0.527975,
            1
           ],
           [
            0.050383,
            0.029803,
            0.527975,
            1
           ],
           [
            0.050383,
            0.029803,
            0.527975,
            1
           ],
           [
            0.050383,
            0.029803,
            0.527975,
            1
           ],
           [
            0.050383,
            0.029803,
            0.527975,
            1
           ],
           [
            0.050383,
            0.029803,
            0.527975,
            1
           ],
           [
            0.050383,
            0.029803,
            0.527975,
            1
           ],
           [
            0.050383,
            0.029803,
            0.527975,
            1
           ],
           [
            0.050383,
            0.029803,
            0.527975,
            1
           ],
           [
            0.050383,
            0.029803,
            0.527975,
            1
           ],
           [
            0.050383,
            0.029803,
            0.527975,
            1
           ],
           [
            0.050383,
            0.029803,
            0.527975,
            1
           ],
           [
            0.050383,
            0.029803,
            0.527975,
            1
           ],
           [
            0.050383,
            0.029803,
            0.527975,
            1
           ],
           [
            0.050383,
            0.029803,
            0.527975,
            1
           ],
           [
            0.050383,
            0.029803,
            0.527975,
            1
           ],
           [
            0.050383,
            0.029803,
            0.527975,
            1
           ],
           [
            0.050383,
            0.029803,
            0.527975,
            1
           ],
           [
            0.050383,
            0.029803,
            0.527975,
            1
           ],
           [
            0.050383,
            0.029803,
            0.527975,
            1
           ],
           [
            0.050383,
            0.029803,
            0.527975,
            1
           ],
           [
            0.050383,
            0.029803,
            0.527975,
            1
           ],
           [
            0.050383,
            0.029803,
            0.527975,
            1
           ],
           [
            0.050383,
            0.029803,
            0.527975,
            1
           ],
           [
            0.050383,
            0.029803,
            0.527975,
            1
           ],
           [
            0.050383,
            0.029803,
            0.527975,
            1
           ],
           [
            0.050383,
            0.029803,
            0.527975,
            1
           ],
           [
            0.050383,
            0.029803,
            0.527975,
            1
           ],
           [
            0.050383,
            0.029803,
            0.527975,
            1
           ],
           [
            0.050383,
            0.029803,
            0.527975,
            1
           ],
           [
            0.050383,
            0.029803,
            0.527975,
            1
           ],
           [
            0.050383,
            0.029803,
            0.527975,
            1
           ],
           [
            0.050383,
            0.029803,
            0.527975,
            1
           ],
           [
            0.050383,
            0.029803,
            0.527975,
            1
           ],
           [
            0.050383,
            0.029803,
            0.527975,
            1
           ],
           [
            0.050383,
            0.029803,
            0.527975,
            1
           ],
           [
            0.050383,
            0.029803,
            0.527975,
            1
           ],
           [
            0.050383,
            0.029803,
            0.527975,
            1
           ],
           [
            0.050383,
            0.029803,
            0.527975,
            1
           ],
           [
            0.050383,
            0.029803,
            0.527975,
            1
           ],
           [
            0.050383,
            0.029803,
            0.527975,
            1
           ],
           [
            0.050383,
            0.029803,
            0.527975,
            1
           ],
           [
            0.050383,
            0.029803,
            0.527975,
            1
           ],
           [
            0.050383,
            0.029803,
            0.527975,
            1
           ],
           [
            0.050383,
            0.029803,
            0.527975,
            1
           ],
           [
            0.050383,
            0.029803,
            0.527975,
            1
           ],
           [
            0.050383,
            0.029803,
            0.527975,
            1
           ],
           [
            0.050383,
            0.029803,
            0.527975,
            1
           ],
           [
            0.050383,
            0.029803,
            0.527975,
            1
           ],
           [
            0.050383,
            0.029803,
            0.527975,
            1
           ],
           [
            0.050383,
            0.029803,
            0.527975,
            1
           ],
           [
            0.050383,
            0.029803,
            0.527975,
            1
           ],
           [
            0.050383,
            0.029803,
            0.527975,
            1
           ],
           [
            0.050383,
            0.029803,
            0.527975,
            1
           ],
           [
            0.050383,
            0.029803,
            0.527975,
            1
           ],
           [
            0.050383,
            0.029803,
            0.527975,
            1
           ],
           [
            0.050383,
            0.029803,
            0.527975,
            1
           ],
           [
            0.050383,
            0.029803,
            0.527975,
            1
           ],
           [
            0.050383,
            0.029803,
            0.527975,
            1
           ],
           [
            0.050383,
            0.029803,
            0.527975,
            1
           ],
           [
            0.050383,
            0.029803,
            0.527975,
            1
           ],
           [
            0.050383,
            0.029803,
            0.527975,
            1
           ],
           [
            0.050383,
            0.029803,
            0.527975,
            1
           ],
           [
            0.050383,
            0.029803,
            0.527975,
            1
           ],
           [
            0.050383,
            0.029803,
            0.527975,
            1
           ],
           [
            0.050383,
            0.029803,
            0.527975,
            1
           ],
           [
            0.050383,
            0.029803,
            0.527975,
            1
           ],
           [
            0.050383,
            0.029803,
            0.527975,
            1
           ],
           [
            0.050383,
            0.029803,
            0.527975,
            1
           ],
           [
            0.050383,
            0.029803,
            0.527975,
            1
           ],
           [
            0.050383,
            0.029803,
            0.527975,
            1
           ],
           [
            0.050383,
            0.029803,
            0.527975,
            1
           ],
           [
            0.050383,
            0.029803,
            0.527975,
            1
           ],
           [
            0.050383,
            0.029803,
            0.527975,
            1
           ],
           [
            0.050383,
            0.029803,
            0.527975,
            1
           ],
           [
            0.050383,
            0.029803,
            0.527975,
            1
           ],
           [
            0.050383,
            0.029803,
            0.527975,
            1
           ],
           [
            0.050383,
            0.029803,
            0.527975,
            1
           ],
           [
            0.050383,
            0.029803,
            0.527975,
            1
           ],
           [
            0.050383,
            0.029803,
            0.527975,
            1
           ],
           [
            0.050383,
            0.029803,
            0.527975,
            1
           ],
           [
            0.050383,
            0.029803,
            0.527975,
            1
           ],
           [
            0.050383,
            0.029803,
            0.527975,
            1
           ],
           [
            0.050383,
            0.029803,
            0.527975,
            1
           ],
           [
            0.050383,
            0.029803,
            0.527975,
            1
           ],
           [
            0.050383,
            0.029803,
            0.527975,
            1
           ],
           [
            0.050383,
            0.029803,
            0.527975,
            1
           ],
           [
            0.050383,
            0.029803,
            0.527975,
            1
           ],
           [
            0.050383,
            0.029803,
            0.527975,
            1
           ],
           [
            0.050383,
            0.029803,
            0.527975,
            1
           ],
           [
            0.050383,
            0.029803,
            0.527975,
            1
           ],
           [
            0.050383,
            0.029803,
            0.527975,
            1
           ],
           [
            0.050383,
            0.029803,
            0.527975,
            1
           ],
           [
            0.050383,
            0.029803,
            0.527975,
            1
           ],
           [
            0.050383,
            0.029803,
            0.527975,
            1
           ],
           [
            0.050383,
            0.029803,
            0.527975,
            1
           ],
           [
            0.050383,
            0.029803,
            0.527975,
            1
           ],
           [
            0.050383,
            0.029803,
            0.527975,
            1
           ],
           [
            0.050383,
            0.029803,
            0.527975,
            1
           ],
           [
            0.050383,
            0.029803,
            0.527975,
            1
           ],
           [
            0.050383,
            0.029803,
            0.527975,
            1
           ],
           [
            0.050383,
            0.029803,
            0.527975,
            1
           ],
           [
            0.050383,
            0.029803,
            0.527975,
            1
           ],
           [
            0.050383,
            0.029803,
            0.527975,
            1
           ],
           [
            0.050383,
            0.029803,
            0.527975,
            1
           ],
           [
            0.050383,
            0.029803,
            0.527975,
            1
           ],
           [
            0.050383,
            0.029803,
            0.527975,
            1
           ],
           [
            0.050383,
            0.029803,
            0.527975,
            1
           ],
           [
            0.050383,
            0.029803,
            0.527975,
            1
           ],
           [
            0.050383,
            0.029803,
            0.527975,
            1
           ],
           [
            0.050383,
            0.029803,
            0.527975,
            1
           ],
           [
            0.050383,
            0.029803,
            0.527975,
            1
           ],
           [
            0.050383,
            0.029803,
            0.527975,
            1
           ],
           [
            0.050383,
            0.029803,
            0.527975,
            1
           ],
           [
            0.050383,
            0.029803,
            0.527975,
            1
           ],
           [
            0.050383,
            0.029803,
            0.527975,
            1
           ],
           [
            0.050383,
            0.029803,
            0.527975,
            1
           ],
           [
            0.050383,
            0.029803,
            0.527975,
            1
           ],
           [
            0.050383,
            0.029803,
            0.527975,
            1
           ],
           [
            0.050383,
            0.029803,
            0.527975,
            1
           ],
           [
            0.050383,
            0.029803,
            0.527975,
            1
           ],
           [
            0.050383,
            0.029803,
            0.527975,
            1
           ],
           [
            0.050383,
            0.029803,
            0.527975,
            1
           ],
           [
            0.050383,
            0.029803,
            0.527975,
            1
           ],
           [
            0.050383,
            0.029803,
            0.527975,
            1
           ],
           [
            0.050383,
            0.029803,
            0.527975,
            1
           ],
           [
            0.050383,
            0.029803,
            0.527975,
            1
           ],
           [
            0.050383,
            0.029803,
            0.527975,
            1
           ],
           [
            0.050383,
            0.029803,
            0.527975,
            1
           ],
           [
            0.050383,
            0.029803,
            0.527975,
            1
           ],
           [
            0.050383,
            0.029803,
            0.527975,
            1
           ],
           [
            0.050383,
            0.029803,
            0.527975,
            1
           ],
           [
            0.050383,
            0.029803,
            0.527975,
            1
           ],
           [
            0.050383,
            0.029803,
            0.527975,
            1
           ],
           [
            0.050383,
            0.029803,
            0.527975,
            1
           ],
           [
            0.050383,
            0.029803,
            0.527975,
            1
           ],
           [
            0.050383,
            0.029803,
            0.527975,
            1
           ],
           [
            0.050383,
            0.029803,
            0.527975,
            1
           ],
           [
            0.050383,
            0.029803,
            0.527975,
            1
           ],
           [
            0.050383,
            0.029803,
            0.527975,
            1
           ],
           [
            0.050383,
            0.029803,
            0.527975,
            1
           ],
           [
            0.050383,
            0.029803,
            0.527975,
            1
           ],
           [
            0.050383,
            0.029803,
            0.527975,
            1
           ],
           [
            0.050383,
            0.029803,
            0.527975,
            1
           ],
           [
            0.050383,
            0.029803,
            0.527975,
            1
           ],
           [
            0.050383,
            0.029803,
            0.527975,
            1
           ],
           [
            0.050383,
            0.029803,
            0.527975,
            1
           ],
           [
            0.050383,
            0.029803,
            0.527975,
            1
           ],
           [
            0.050383,
            0.029803,
            0.527975,
            1
           ],
           [
            0.050383,
            0.029803,
            0.527975,
            1
           ],
           [
            0.050383,
            0.029803,
            0.527975,
            1
           ],
           [
            0.050383,
            0.029803,
            0.527975,
            1
           ],
           [
            0.050383,
            0.029803,
            0.527975,
            1
           ],
           [
            0.050383,
            0.029803,
            0.527975,
            1
           ],
           [
            0.050383,
            0.029803,
            0.527975,
            1
           ],
           [
            0.050383,
            0.029803,
            0.527975,
            1
           ],
           [
            0.050383,
            0.029803,
            0.527975,
            1
           ],
           [
            0.050383,
            0.029803,
            0.527975,
            1
           ],
           [
            0.050383,
            0.029803,
            0.527975,
            1
           ],
           [
            0.050383,
            0.029803,
            0.527975,
            1
           ],
           [
            0.050383,
            0.029803,
            0.527975,
            1
           ],
           [
            0.050383,
            0.029803,
            0.527975,
            1
           ],
           [
            0.050383,
            0.029803,
            0.527975,
            1
           ],
           [
            0.050383,
            0.029803,
            0.527975,
            1
           ],
           [
            0.050383,
            0.029803,
            0.527975,
            1
           ],
           [
            0.050383,
            0.029803,
            0.527975,
            1
           ],
           [
            0.050383,
            0.029803,
            0.527975,
            1
           ],
           [
            0.050383,
            0.029803,
            0.527975,
            1
           ],
           [
            0.050383,
            0.029803,
            0.527975,
            1
           ],
           [
            0.050383,
            0.029803,
            0.527975,
            1
           ],
           [
            0.050383,
            0.029803,
            0.527975,
            1
           ],
           [
            0.050383,
            0.029803,
            0.527975,
            1
           ],
           [
            0.050383,
            0.029803,
            0.527975,
            1
           ],
           [
            0.050383,
            0.029803,
            0.527975,
            1
           ],
           [
            0.050383,
            0.029803,
            0.527975,
            1
           ],
           [
            0.050383,
            0.029803,
            0.527975,
            1
           ],
           [
            0.050383,
            0.029803,
            0.527975,
            1
           ],
           [
            0.050383,
            0.029803,
            0.527975,
            1
           ],
           [
            0.050383,
            0.029803,
            0.527975,
            1
           ],
           [
            0.050383,
            0.029803,
            0.527975,
            1
           ],
           [
            0.050383,
            0.029803,
            0.527975,
            1
           ],
           [
            0.050383,
            0.029803,
            0.527975,
            1
           ],
           [
            0.050383,
            0.029803,
            0.527975,
            1
           ],
           [
            0.050383,
            0.029803,
            0.527975,
            1
           ],
           [
            0.050383,
            0.029803,
            0.527975,
            1
           ],
           [
            0.050383,
            0.029803,
            0.527975,
            1
           ],
           [
            0.050383,
            0.029803,
            0.527975,
            1
           ],
           [
            0.050383,
            0.029803,
            0.527975,
            1
           ],
           [
            0.050383,
            0.029803,
            0.527975,
            1
           ],
           [
            0.050383,
            0.029803,
            0.527975,
            1
           ],
           [
            0.050383,
            0.029803,
            0.527975,
            1
           ],
           [
            0.050383,
            0.029803,
            0.527975,
            1
           ],
           [
            0.050383,
            0.029803,
            0.527975,
            1
           ],
           [
            0.050383,
            0.029803,
            0.527975,
            1
           ],
           [
            0.050383,
            0.029803,
            0.527975,
            1
           ],
           [
            0.050383,
            0.029803,
            0.527975,
            1
           ],
           [
            0.050383,
            0.029803,
            0.527975,
            1
           ],
           [
            0.050383,
            0.029803,
            0.527975,
            1
           ],
           [
            0.050383,
            0.029803,
            0.527975,
            1
           ],
           [
            0.050383,
            0.029803,
            0.527975,
            1
           ],
           [
            0.050383,
            0.029803,
            0.527975,
            1
           ],
           [
            0.050383,
            0.029803,
            0.527975,
            1
           ],
           [
            0.050383,
            0.029803,
            0.527975,
            1
           ],
           [
            0.050383,
            0.029803,
            0.527975,
            1
           ],
           [
            0.050383,
            0.029803,
            0.527975,
            1
           ],
           [
            0.050383,
            0.029803,
            0.527975,
            1
           ],
           [
            0.050383,
            0.029803,
            0.527975,
            1
           ],
           [
            0.050383,
            0.029803,
            0.527975,
            1
           ],
           [
            0.050383,
            0.029803,
            0.527975,
            1
           ],
           [
            0.050383,
            0.029803,
            0.527975,
            1
           ],
           [
            0.050383,
            0.029803,
            0.527975,
            1
           ],
           [
            0.050383,
            0.029803,
            0.527975,
            1
           ],
           [
            0.050383,
            0.029803,
            0.527975,
            1
           ],
           [
            0.050383,
            0.029803,
            0.527975,
            1
           ],
           [
            0.050383,
            0.029803,
            0.527975,
            1
           ],
           [
            0.050383,
            0.029803,
            0.527975,
            1
           ],
           [
            0.050383,
            0.029803,
            0.527975,
            1
           ],
           [
            0.050383,
            0.029803,
            0.527975,
            1
           ],
           [
            0.050383,
            0.029803,
            0.527975,
            1
           ],
           [
            0.050383,
            0.029803,
            0.527975,
            1
           ],
           [
            0.050383,
            0.029803,
            0.527975,
            1
           ],
           [
            0.050383,
            0.029803,
            0.527975,
            1
           ],
           [
            0.050383,
            0.029803,
            0.527975,
            1
           ],
           [
            0.050383,
            0.029803,
            0.527975,
            1
           ],
           [
            0.050383,
            0.029803,
            0.527975,
            1
           ],
           [
            0.050383,
            0.029803,
            0.527975,
            1
           ],
           [
            0.050383,
            0.029803,
            0.527975,
            1
           ],
           [
            0.050383,
            0.029803,
            0.527975,
            1
           ],
           [
            0.050383,
            0.029803,
            0.527975,
            1
           ],
           [
            0.050383,
            0.029803,
            0.527975,
            1
           ],
           [
            0.050383,
            0.029803,
            0.527975,
            1
           ],
           [
            0.050383,
            0.029803,
            0.527975,
            1
           ],
           [
            0.050383,
            0.029803,
            0.527975,
            1
           ],
           [
            0.050383,
            0.029803,
            0.527975,
            1
           ],
           [
            0.050383,
            0.029803,
            0.527975,
            1
           ],
           [
            0.050383,
            0.029803,
            0.527975,
            1
           ],
           [
            0.050383,
            0.029803,
            0.527975,
            1
           ],
           [
            0.050383,
            0.029803,
            0.527975,
            1
           ],
           [
            0.050383,
            0.029803,
            0.527975,
            1
           ],
           [
            0.050383,
            0.029803,
            0.527975,
            1
           ],
           [
            0.050383,
            0.029803,
            0.527975,
            1
           ],
           [
            0.050383,
            0.029803,
            0.527975,
            1
           ],
           [
            0.050383,
            0.029803,
            0.527975,
            1
           ],
           [
            0.050383,
            0.029803,
            0.527975,
            1
           ],
           [
            0.050383,
            0.029803,
            0.527975,
            1
           ],
           [
            0.050383,
            0.029803,
            0.527975,
            1
           ],
           [
            0.050383,
            0.029803,
            0.527975,
            1
           ],
           [
            0.050383,
            0.029803,
            0.527975,
            1
           ],
           [
            0.050383,
            0.029803,
            0.527975,
            1
           ],
           [
            0.050383,
            0.029803,
            0.527975,
            1
           ],
           [
            0.050383,
            0.029803,
            0.527975,
            1
           ],
           [
            0.050383,
            0.029803,
            0.527975,
            1
           ],
           [
            0.050383,
            0.029803,
            0.527975,
            1
           ],
           [
            0.050383,
            0.029803,
            0.527975,
            1
           ],
           [
            0.050383,
            0.029803,
            0.527975,
            1
           ],
           [
            0.050383,
            0.029803,
            0.527975,
            1
           ],
           [
            0.050383,
            0.029803,
            0.527975,
            1
           ],
           [
            0.050383,
            0.029803,
            0.527975,
            1
           ],
           [
            0.050383,
            0.029803,
            0.527975,
            1
           ],
           [
            0.050383,
            0.029803,
            0.527975,
            1
           ],
           [
            0.050383,
            0.029803,
            0.527975,
            1
           ],
           [
            0.050383,
            0.029803,
            0.527975,
            1
           ],
           [
            0.050383,
            0.029803,
            0.527975,
            1
           ],
           [
            0.050383,
            0.029803,
            0.527975,
            1
           ],
           [
            0.050383,
            0.029803,
            0.527975,
            1
           ],
           [
            0.050383,
            0.029803,
            0.527975,
            1
           ],
           [
            0.050383,
            0.029803,
            0.527975,
            1
           ],
           [
            0.050383,
            0.029803,
            0.527975,
            1
           ],
           [
            0.050383,
            0.029803,
            0.527975,
            1
           ],
           [
            0.050383,
            0.029803,
            0.527975,
            1
           ],
           [
            0.050383,
            0.029803,
            0.527975,
            1
           ],
           [
            0.050383,
            0.029803,
            0.527975,
            1
           ],
           [
            0.050383,
            0.029803,
            0.527975,
            1
           ],
           [
            0.050383,
            0.029803,
            0.527975,
            1
           ],
           [
            0.050383,
            0.029803,
            0.527975,
            1
           ],
           [
            0.050383,
            0.029803,
            0.527975,
            1
           ],
           [
            0.050383,
            0.029803,
            0.527975,
            1
           ],
           [
            0.050383,
            0.029803,
            0.527975,
            1
           ],
           [
            0.050383,
            0.029803,
            0.527975,
            1
           ],
           [
            0.050383,
            0.029803,
            0.527975,
            1
           ],
           [
            0.050383,
            0.029803,
            0.527975,
            1
           ],
           [
            0.050383,
            0.029803,
            0.527975,
            1
           ],
           [
            0.050383,
            0.029803,
            0.527975,
            1
           ],
           [
            0.050383,
            0.029803,
            0.527975,
            1
           ],
           [
            0.050383,
            0.029803,
            0.527975,
            1
           ],
           [
            0.050383,
            0.029803,
            0.527975,
            1
           ],
           [
            0.050383,
            0.029803,
            0.527975,
            1
           ],
           [
            0.050383,
            0.029803,
            0.527975,
            1
           ],
           [
            0.050383,
            0.029803,
            0.527975,
            1
           ],
           [
            0.050383,
            0.029803,
            0.527975,
            1
           ],
           [
            0.050383,
            0.029803,
            0.527975,
            1
           ],
           [
            0.050383,
            0.029803,
            0.527975,
            1
           ],
           [
            0.050383,
            0.029803,
            0.527975,
            1
           ],
           [
            0.050383,
            0.029803,
            0.527975,
            1
           ],
           [
            0.050383,
            0.029803,
            0.527975,
            1
           ],
           [
            0.050383,
            0.029803,
            0.527975,
            1
           ],
           [
            0.050383,
            0.029803,
            0.527975,
            1
           ],
           [
            0.050383,
            0.029803,
            0.527975,
            1
           ],
           [
            0.050383,
            0.029803,
            0.527975,
            1
           ],
           [
            0.050383,
            0.029803,
            0.527975,
            1
           ],
           [
            0.050383,
            0.029803,
            0.527975,
            1
           ],
           [
            0.050383,
            0.029803,
            0.527975,
            1
           ],
           [
            0.050383,
            0.029803,
            0.527975,
            1
           ],
           [
            0.050383,
            0.029803,
            0.527975,
            1
           ],
           [
            0.050383,
            0.029803,
            0.527975,
            1
           ],
           [
            0.050383,
            0.029803,
            0.527975,
            1
           ],
           [
            0.050383,
            0.029803,
            0.527975,
            1
           ],
           [
            0.050383,
            0.029803,
            0.527975,
            1
           ],
           [
            0.050383,
            0.029803,
            0.527975,
            1
           ],
           [
            0.050383,
            0.029803,
            0.527975,
            1
           ],
           [
            0.050383,
            0.029803,
            0.527975,
            1
           ],
           [
            0.050383,
            0.029803,
            0.527975,
            1
           ],
           [
            0.050383,
            0.029803,
            0.527975,
            1
           ],
           [
            0.050383,
            0.029803,
            0.527975,
            1
           ],
           [
            0.050383,
            0.029803,
            0.527975,
            1
           ],
           [
            0.050383,
            0.029803,
            0.527975,
            1
           ],
           [
            0.050383,
            0.029803,
            0.527975,
            1
           ],
           [
            0.050383,
            0.029803,
            0.527975,
            1
           ],
           [
            0.050383,
            0.029803,
            0.527975,
            1
           ],
           [
            0.050383,
            0.029803,
            0.527975,
            1
           ],
           [
            0.050383,
            0.029803,
            0.527975,
            1
           ],
           [
            0.050383,
            0.029803,
            0.527975,
            1
           ],
           [
            0.050383,
            0.029803,
            0.527975,
            1
           ],
           [
            0.050383,
            0.029803,
            0.527975,
            1
           ],
           [
            0.050383,
            0.029803,
            0.527975,
            1
           ],
           [
            0.050383,
            0.029803,
            0.527975,
            1
           ],
           [
            0.050383,
            0.029803,
            0.527975,
            1
           ],
           [
            0.050383,
            0.029803,
            0.527975,
            1
           ],
           [
            0.050383,
            0.029803,
            0.527975,
            1
           ],
           [
            0.050383,
            0.029803,
            0.527975,
            1
           ],
           [
            0.050383,
            0.029803,
            0.527975,
            1
           ],
           [
            0.050383,
            0.029803,
            0.527975,
            1
           ],
           [
            0.050383,
            0.029803,
            0.527975,
            1
           ],
           [
            0.050383,
            0.029803,
            0.527975,
            1
           ],
           [
            0.050383,
            0.029803,
            0.527975,
            1
           ],
           [
            0.050383,
            0.029803,
            0.527975,
            1
           ],
           [
            0.050383,
            0.029803,
            0.527975,
            1
           ],
           [
            0.050383,
            0.029803,
            0.527975,
            1
           ],
           [
            0.050383,
            0.029803,
            0.527975,
            1
           ],
           [
            0.050383,
            0.029803,
            0.527975,
            1
           ],
           [
            0.050383,
            0.029803,
            0.527975,
            1
           ],
           [
            0.050383,
            0.029803,
            0.527975,
            1
           ],
           [
            0.050383,
            0.029803,
            0.527975,
            1
           ],
           [
            0.050383,
            0.029803,
            0.527975,
            1
           ],
           [
            0.050383,
            0.029803,
            0.527975,
            1
           ],
           [
            0.050383,
            0.029803,
            0.527975,
            1
           ],
           [
            0.050383,
            0.029803,
            0.527975,
            1
           ],
           [
            0.050383,
            0.029803,
            0.527975,
            1
           ],
           [
            0.050383,
            0.029803,
            0.527975,
            1
           ],
           [
            0.050383,
            0.029803,
            0.527975,
            1
           ],
           [
            0.050383,
            0.029803,
            0.527975,
            1
           ],
           [
            0.050383,
            0.029803,
            0.527975,
            1
           ],
           [
            0.050383,
            0.029803,
            0.527975,
            1
           ],
           [
            0.050383,
            0.029803,
            0.527975,
            1
           ],
           [
            0.050383,
            0.029803,
            0.527975,
            1
           ],
           [
            0.050383,
            0.029803,
            0.527975,
            1
           ],
           [
            0.050383,
            0.029803,
            0.527975,
            1
           ],
           [
            0.050383,
            0.029803,
            0.527975,
            1
           ],
           [
            0.050383,
            0.029803,
            0.527975,
            1
           ],
           [
            0.050383,
            0.029803,
            0.527975,
            1
           ],
           [
            0.050383,
            0.029803,
            0.527975,
            1
           ],
           [
            0.050383,
            0.029803,
            0.527975,
            1
           ],
           [
            0.050383,
            0.029803,
            0.527975,
            1
           ],
           [
            0.050383,
            0.029803,
            0.527975,
            1
           ],
           [
            0.050383,
            0.029803,
            0.527975,
            1
           ],
           [
            0.050383,
            0.029803,
            0.527975,
            1
           ],
           [
            0.050383,
            0.029803,
            0.527975,
            1
           ],
           [
            0.050383,
            0.029803,
            0.527975,
            1
           ],
           [
            0.050383,
            0.029803,
            0.527975,
            1
           ],
           [
            0.050383,
            0.029803,
            0.527975,
            1
           ],
           [
            0.050383,
            0.029803,
            0.527975,
            1
           ],
           [
            0.050383,
            0.029803,
            0.527975,
            1
           ],
           [
            0.050383,
            0.029803,
            0.527975,
            1
           ],
           [
            0.050383,
            0.029803,
            0.527975,
            1
           ],
           [
            0.050383,
            0.029803,
            0.527975,
            1
           ],
           [
            0.050383,
            0.029803,
            0.527975,
            1
           ],
           [
            0.050383,
            0.029803,
            0.527975,
            1
           ],
           [
            0.050383,
            0.029803,
            0.527975,
            1
           ],
           [
            0.050383,
            0.029803,
            0.527975,
            1
           ],
           [
            0.050383,
            0.029803,
            0.527975,
            1
           ],
           [
            0.050383,
            0.029803,
            0.527975,
            1
           ],
           [
            0.050383,
            0.029803,
            0.527975,
            1
           ],
           [
            0.050383,
            0.029803,
            0.527975,
            1
           ],
           [
            0.050383,
            0.029803,
            0.527975,
            1
           ],
           [
            0.050383,
            0.029803,
            0.527975,
            1
           ],
           [
            0.050383,
            0.029803,
            0.527975,
            1
           ],
           [
            0.050383,
            0.029803,
            0.527975,
            1
           ],
           [
            0.050383,
            0.029803,
            0.527975,
            1
           ],
           [
            0.050383,
            0.029803,
            0.527975,
            1
           ],
           [
            0.050383,
            0.029803,
            0.527975,
            1
           ],
           [
            0.050383,
            0.029803,
            0.527975,
            1
           ],
           [
            0.050383,
            0.029803,
            0.527975,
            1
           ],
           [
            0.050383,
            0.029803,
            0.527975,
            1
           ],
           [
            0.050383,
            0.029803,
            0.527975,
            1
           ],
           [
            0.050383,
            0.029803,
            0.527975,
            1
           ],
           [
            0.050383,
            0.029803,
            0.527975,
            1
           ],
           [
            0.050383,
            0.029803,
            0.527975,
            1
           ],
           [
            0.050383,
            0.029803,
            0.527975,
            1
           ],
           [
            0.050383,
            0.029803,
            0.527975,
            1
           ],
           [
            0.050383,
            0.029803,
            0.527975,
            1
           ],
           [
            0.050383,
            0.029803,
            0.527975,
            1
           ],
           [
            0.050383,
            0.029803,
            0.527975,
            1
           ],
           [
            0.050383,
            0.029803,
            0.527975,
            1
           ],
           [
            0.050383,
            0.029803,
            0.527975,
            1
           ],
           [
            0.050383,
            0.029803,
            0.527975,
            1
           ],
           [
            0.050383,
            0.029803,
            0.527975,
            1
           ],
           [
            0.050383,
            0.029803,
            0.527975,
            1
           ],
           [
            0.050383,
            0.029803,
            0.527975,
            1
           ],
           [
            0.050383,
            0.029803,
            0.527975,
            1
           ],
           [
            0.050383,
            0.029803,
            0.527975,
            1
           ],
           [
            0.050383,
            0.029803,
            0.527975,
            1
           ],
           [
            0.050383,
            0.029803,
            0.527975,
            1
           ],
           [
            0.050383,
            0.029803,
            0.527975,
            1
           ],
           [
            0.050383,
            0.029803,
            0.527975,
            1
           ],
           [
            0.050383,
            0.029803,
            0.527975,
            1
           ],
           [
            0.050383,
            0.029803,
            0.527975,
            1
           ],
           [
            0.050383,
            0.029803,
            0.527975,
            1
           ],
           [
            0.050383,
            0.029803,
            0.527975,
            1
           ],
           [
            0.050383,
            0.029803,
            0.527975,
            1
           ],
           [
            0.050383,
            0.029803,
            0.527975,
            1
           ],
           [
            0.050383,
            0.029803,
            0.527975,
            1
           ],
           [
            0.050383,
            0.029803,
            0.527975,
            1
           ],
           [
            0.050383,
            0.029803,
            0.527975,
            1
           ],
           [
            0.050383,
            0.029803,
            0.527975,
            1
           ],
           [
            0.050383,
            0.029803,
            0.527975,
            1
           ],
           [
            0.050383,
            0.029803,
            0.527975,
            1
           ],
           [
            0.050383,
            0.029803,
            0.527975,
            1
           ],
           [
            0.050383,
            0.029803,
            0.527975,
            1
           ],
           [
            0.050383,
            0.029803,
            0.527975,
            1
           ],
           [
            0.050383,
            0.029803,
            0.527975,
            1
           ],
           [
            0.050383,
            0.029803,
            0.527975,
            1
           ],
           [
            0.050383,
            0.029803,
            0.527975,
            1
           ],
           [
            0.050383,
            0.029803,
            0.527975,
            1
           ],
           [
            0.050383,
            0.029803,
            0.527975,
            1
           ],
           [
            0.050383,
            0.029803,
            0.527975,
            1
           ],
           [
            0.050383,
            0.029803,
            0.527975,
            1
           ],
           [
            0.050383,
            0.029803,
            0.527975,
            1
           ],
           [
            0.050383,
            0.029803,
            0.527975,
            1
           ],
           [
            0.050383,
            0.029803,
            0.527975,
            1
           ],
           [
            0.050383,
            0.029803,
            0.527975,
            1
           ],
           [
            0.050383,
            0.029803,
            0.527975,
            1
           ],
           [
            0.050383,
            0.029803,
            0.527975,
            1
           ],
           [
            0.050383,
            0.029803,
            0.527975,
            1
           ],
           [
            0.050383,
            0.029803,
            0.527975,
            1
           ],
           [
            0.050383,
            0.029803,
            0.527975,
            1
           ],
           [
            0.050383,
            0.029803,
            0.527975,
            1
           ],
           [
            0.050383,
            0.029803,
            0.527975,
            1
           ],
           [
            0.050383,
            0.029803,
            0.527975,
            1
           ],
           [
            0.050383,
            0.029803,
            0.527975,
            1
           ],
           [
            0.050383,
            0.029803,
            0.527975,
            1
           ],
           [
            0.050383,
            0.029803,
            0.527975,
            1
           ],
           [
            0.050383,
            0.029803,
            0.527975,
            1
           ],
           [
            0.050383,
            0.029803,
            0.527975,
            1
           ],
           [
            0.050383,
            0.029803,
            0.527975,
            1
           ],
           [
            0.050383,
            0.029803,
            0.527975,
            1
           ],
           [
            0.050383,
            0.029803,
            0.527975,
            1
           ],
           [
            0.050383,
            0.029803,
            0.527975,
            1
           ],
           [
            0.050383,
            0.029803,
            0.527975,
            1
           ],
           [
            0.050383,
            0.029803,
            0.527975,
            1
           ],
           [
            0.050383,
            0.029803,
            0.527975,
            1
           ],
           [
            0.050383,
            0.029803,
            0.527975,
            1
           ],
           [
            0.050383,
            0.029803,
            0.527975,
            1
           ],
           [
            0.050383,
            0.029803,
            0.527975,
            1
           ],
           [
            0.050383,
            0.029803,
            0.527975,
            1
           ],
           [
            0.050383,
            0.029803,
            0.527975,
            1
           ],
           [
            0.050383,
            0.029803,
            0.527975,
            1
           ],
           [
            0.050383,
            0.029803,
            0.527975,
            1
           ],
           [
            0.050383,
            0.029803,
            0.527975,
            1
           ],
           [
            0.050383,
            0.029803,
            0.527975,
            1
           ],
           [
            0.050383,
            0.029803,
            0.527975,
            1
           ],
           [
            0.050383,
            0.029803,
            0.527975,
            1
           ],
           [
            0.050383,
            0.029803,
            0.527975,
            1
           ],
           [
            0.050383,
            0.029803,
            0.527975,
            1
           ],
           [
            0.050383,
            0.029803,
            0.527975,
            1
           ],
           [
            0.050383,
            0.029803,
            0.527975,
            1
           ],
           [
            0.050383,
            0.029803,
            0.527975,
            1
           ],
           [
            0.050383,
            0.029803,
            0.527975,
            1
           ],
           [
            0.050383,
            0.029803,
            0.527975,
            1
           ],
           [
            0.050383,
            0.029803,
            0.527975,
            1
           ],
           [
            0.050383,
            0.029803,
            0.527975,
            1
           ],
           [
            0.050383,
            0.029803,
            0.527975,
            1
           ],
           [
            0.050383,
            0.029803,
            0.527975,
            1
           ],
           [
            0.050383,
            0.029803,
            0.527975,
            1
           ],
           [
            0.050383,
            0.029803,
            0.527975,
            1
           ],
           [
            0.050383,
            0.029803,
            0.527975,
            1
           ],
           [
            0.050383,
            0.029803,
            0.527975,
            1
           ],
           [
            0.050383,
            0.029803,
            0.527975,
            1
           ],
           [
            0.050383,
            0.029803,
            0.527975,
            1
           ],
           [
            0.050383,
            0.029803,
            0.527975,
            1
           ],
           [
            0.050383,
            0.029803,
            0.527975,
            1
           ],
           [
            0.050383,
            0.029803,
            0.527975,
            1
           ],
           [
            0.050383,
            0.029803,
            0.527975,
            1
           ],
           [
            0.050383,
            0.029803,
            0.527975,
            1
           ],
           [
            0.050383,
            0.029803,
            0.527975,
            1
           ],
           [
            0.050383,
            0.029803,
            0.527975,
            1
           ],
           [
            0.050383,
            0.029803,
            0.527975,
            1
           ],
           [
            0.050383,
            0.029803,
            0.527975,
            1
           ],
           [
            0.050383,
            0.029803,
            0.527975,
            1
           ],
           [
            0.050383,
            0.029803,
            0.527975,
            1
           ],
           [
            0.050383,
            0.029803,
            0.527975,
            1
           ],
           [
            0.050383,
            0.029803,
            0.527975,
            1
           ],
           [
            0.050383,
            0.029803,
            0.527975,
            1
           ],
           [
            0.050383,
            0.029803,
            0.527975,
            1
           ],
           [
            0.050383,
            0.029803,
            0.527975,
            1
           ],
           [
            0.050383,
            0.029803,
            0.527975,
            1
           ],
           [
            0.050383,
            0.029803,
            0.527975,
            1
           ],
           [
            0.050383,
            0.029803,
            0.527975,
            1
           ],
           [
            0.050383,
            0.029803,
            0.527975,
            1
           ],
           [
            0.050383,
            0.029803,
            0.527975,
            1
           ],
           [
            0.050383,
            0.029803,
            0.527975,
            1
           ],
           [
            0.050383,
            0.029803,
            0.527975,
            1
           ],
           [
            0.050383,
            0.029803,
            0.527975,
            1
           ],
           [
            0.050383,
            0.029803,
            0.527975,
            1
           ],
           [
            0.050383,
            0.029803,
            0.527975,
            1
           ],
           [
            0.050383,
            0.029803,
            0.527975,
            1
           ],
           [
            0.050383,
            0.029803,
            0.527975,
            1
           ],
           [
            0.050383,
            0.029803,
            0.527975,
            1
           ],
           [
            0.050383,
            0.029803,
            0.527975,
            1
           ],
           [
            0.050383,
            0.029803,
            0.527975,
            1
           ],
           [
            0.050383,
            0.029803,
            0.527975,
            1
           ],
           [
            0.050383,
            0.029803,
            0.527975,
            1
           ],
           [
            0.050383,
            0.029803,
            0.527975,
            1
           ],
           [
            0.050383,
            0.029803,
            0.527975,
            1
           ],
           [
            0.050383,
            0.029803,
            0.527975,
            1
           ],
           [
            0.050383,
            0.029803,
            0.527975,
            1
           ],
           [
            0.050383,
            0.029803,
            0.527975,
            1
           ],
           [
            0.050383,
            0.029803,
            0.527975,
            1
           ],
           [
            0.050383,
            0.029803,
            0.527975,
            1
           ],
           [
            0.050383,
            0.029803,
            0.527975,
            1
           ],
           [
            0.050383,
            0.029803,
            0.527975,
            1
           ],
           [
            0.050383,
            0.029803,
            0.527975,
            1
           ],
           [
            0.050383,
            0.029803,
            0.527975,
            1
           ],
           [
            0.050383,
            0.029803,
            0.527975,
            1
           ],
           [
            0.050383,
            0.029803,
            0.527975,
            1
           ],
           [
            0.050383,
            0.029803,
            0.527975,
            1
           ],
           [
            0.050383,
            0.029803,
            0.527975,
            1
           ],
           [
            0.050383,
            0.029803,
            0.527975,
            1
           ],
           [
            0.050383,
            0.029803,
            0.527975,
            1
           ],
           [
            0.050383,
            0.029803,
            0.527975,
            1
           ],
           [
            0.050383,
            0.029803,
            0.527975,
            1
           ],
           [
            0.050383,
            0.029803,
            0.527975,
            1
           ],
           [
            0.050383,
            0.029803,
            0.527975,
            1
           ],
           [
            0.050383,
            0.029803,
            0.527975,
            1
           ],
           [
            0.050383,
            0.029803,
            0.527975,
            1
           ],
           [
            0.050383,
            0.029803,
            0.527975,
            1
           ],
           [
            0.050383,
            0.029803,
            0.527975,
            1
           ],
           [
            0.050383,
            0.029803,
            0.527975,
            1
           ],
           [
            0.050383,
            0.029803,
            0.527975,
            1
           ],
           [
            0.050383,
            0.029803,
            0.527975,
            1
           ],
           [
            0.050383,
            0.029803,
            0.527975,
            1
           ],
           [
            0.050383,
            0.029803,
            0.527975,
            1
           ],
           [
            0.050383,
            0.029803,
            0.527975,
            1
           ],
           [
            0.050383,
            0.029803,
            0.527975,
            1
           ],
           [
            0.050383,
            0.029803,
            0.527975,
            1
           ],
           [
            0.050383,
            0.029803,
            0.527975,
            1
           ],
           [
            0.050383,
            0.029803,
            0.527975,
            1
           ],
           [
            0.050383,
            0.029803,
            0.527975,
            1
           ],
           [
            0.050383,
            0.029803,
            0.527975,
            1
           ],
           [
            0.050383,
            0.029803,
            0.527975,
            1
           ],
           [
            0.050383,
            0.029803,
            0.527975,
            1
           ],
           [
            0.050383,
            0.029803,
            0.527975,
            1
           ],
           [
            0.050383,
            0.029803,
            0.527975,
            1
           ],
           [
            0.050383,
            0.029803,
            0.527975,
            1
           ],
           [
            0.050383,
            0.029803,
            0.527975,
            1
           ],
           [
            0.050383,
            0.029803,
            0.527975,
            1
           ],
           [
            0.050383,
            0.029803,
            0.527975,
            1
           ],
           [
            0.050383,
            0.029803,
            0.527975,
            1
           ],
           [
            0.050383,
            0.029803,
            0.527975,
            1
           ],
           [
            0.050383,
            0.029803,
            0.527975,
            1
           ],
           [
            0.050383,
            0.029803,
            0.527975,
            1
           ],
           [
            0.050383,
            0.029803,
            0.527975,
            1
           ],
           [
            0.050383,
            0.029803,
            0.527975,
            1
           ],
           [
            0.050383,
            0.029803,
            0.527975,
            1
           ],
           [
            0.050383,
            0.029803,
            0.527975,
            1
           ],
           [
            0.050383,
            0.029803,
            0.527975,
            1
           ],
           [
            0.050383,
            0.029803,
            0.527975,
            1
           ],
           [
            0.050383,
            0.029803,
            0.527975,
            1
           ],
           [
            0.050383,
            0.029803,
            0.527975,
            1
           ],
           [
            0.050383,
            0.029803,
            0.527975,
            1
           ],
           [
            0.050383,
            0.029803,
            0.527975,
            1
           ],
           [
            0.050383,
            0.029803,
            0.527975,
            1
           ],
           [
            0.050383,
            0.029803,
            0.527975,
            1
           ],
           [
            0.050383,
            0.029803,
            0.527975,
            1
           ],
           [
            0.050383,
            0.029803,
            0.527975,
            1
           ],
           [
            0.050383,
            0.029803,
            0.527975,
            1
           ],
           [
            0.050383,
            0.029803,
            0.527975,
            1
           ],
           [
            0.050383,
            0.029803,
            0.527975,
            1
           ],
           [
            0.050383,
            0.029803,
            0.527975,
            1
           ],
           [
            0.050383,
            0.029803,
            0.527975,
            1
           ],
           [
            0.050383,
            0.029803,
            0.527975,
            1
           ],
           [
            0.050383,
            0.029803,
            0.527975,
            1
           ],
           [
            0.050383,
            0.029803,
            0.527975,
            1
           ],
           [
            0.050383,
            0.029803,
            0.527975,
            1
           ],
           [
            0.050383,
            0.029803,
            0.527975,
            1
           ],
           [
            0.050383,
            0.029803,
            0.527975,
            1
           ],
           [
            0.050383,
            0.029803,
            0.527975,
            1
           ],
           [
            0.050383,
            0.029803,
            0.527975,
            1
           ],
           [
            0.050383,
            0.029803,
            0.527975,
            1
           ],
           [
            0.050383,
            0.029803,
            0.527975,
            1
           ],
           [
            0.050383,
            0.029803,
            0.527975,
            1
           ],
           [
            0.050383,
            0.029803,
            0.527975,
            1
           ],
           [
            0.050383,
            0.029803,
            0.527975,
            1
           ],
           [
            0.050383,
            0.029803,
            0.527975,
            1
           ],
           [
            0.050383,
            0.029803,
            0.527975,
            1
           ],
           [
            0.050383,
            0.029803,
            0.527975,
            1
           ],
           [
            0.050383,
            0.029803,
            0.527975,
            1
           ],
           [
            0.050383,
            0.029803,
            0.527975,
            1
           ],
           [
            0.050383,
            0.029803,
            0.527975,
            1
           ],
           [
            0.050383,
            0.029803,
            0.527975,
            1
           ],
           [
            0.050383,
            0.029803,
            0.527975,
            1
           ],
           [
            0.050383,
            0.029803,
            0.527975,
            1
           ],
           [
            0.050383,
            0.029803,
            0.527975,
            1
           ],
           [
            0.050383,
            0.029803,
            0.527975,
            1
           ],
           [
            0.050383,
            0.029803,
            0.527975,
            1
           ],
           [
            0.050383,
            0.029803,
            0.527975,
            1
           ],
           [
            0.050383,
            0.029803,
            0.527975,
            1
           ],
           [
            0.050383,
            0.029803,
            0.527975,
            1
           ],
           [
            0.050383,
            0.029803,
            0.527975,
            1
           ],
           [
            0.050383,
            0.029803,
            0.527975,
            1
           ],
           [
            0.050383,
            0.029803,
            0.527975,
            1
           ],
           [
            0.050383,
            0.029803,
            0.527975,
            1
           ],
           [
            0.050383,
            0.029803,
            0.527975,
            1
           ],
           [
            0.050383,
            0.029803,
            0.527975,
            1
           ],
           [
            0.050383,
            0.029803,
            0.527975,
            1
           ],
           [
            0.050383,
            0.029803,
            0.527975,
            1
           ],
           [
            0.050383,
            0.029803,
            0.527975,
            1
           ],
           [
            0.050383,
            0.029803,
            0.527975,
            1
           ],
           [
            0.050383,
            0.029803,
            0.527975,
            1
           ],
           [
            0.050383,
            0.029803,
            0.527975,
            1
           ],
           [
            0.050383,
            0.029803,
            0.527975,
            1
           ],
           [
            0.050383,
            0.029803,
            0.527975,
            1
           ],
           [
            0.050383,
            0.029803,
            0.527975,
            1
           ],
           [
            0.050383,
            0.029803,
            0.527975,
            1
           ],
           [
            0.050383,
            0.029803,
            0.527975,
            1
           ],
           [
            0.050383,
            0.029803,
            0.527975,
            1
           ],
           [
            0.050383,
            0.029803,
            0.527975,
            1
           ],
           [
            0.050383,
            0.029803,
            0.527975,
            1
           ],
           [
            0.050383,
            0.029803,
            0.527975,
            1
           ],
           [
            0.050383,
            0.029803,
            0.527975,
            1
           ],
           [
            0.050383,
            0.029803,
            0.527975,
            1
           ],
           [
            0.050383,
            0.029803,
            0.527975,
            1
           ],
           [
            0.050383,
            0.029803,
            0.527975,
            1
           ],
           [
            0.050383,
            0.029803,
            0.527975,
            1
           ],
           [
            0.050383,
            0.029803,
            0.527975,
            1
           ],
           [
            0.050383,
            0.029803,
            0.527975,
            1
           ],
           [
            0.050383,
            0.029803,
            0.527975,
            1
           ],
           [
            0.050383,
            0.029803,
            0.527975,
            1
           ],
           [
            0.050383,
            0.029803,
            0.527975,
            1
           ],
           [
            0.050383,
            0.029803,
            0.527975,
            1
           ],
           [
            0.050383,
            0.029803,
            0.527975,
            1
           ],
           [
            0.050383,
            0.029803,
            0.527975,
            1
           ],
           [
            0.050383,
            0.029803,
            0.527975,
            1
           ],
           [
            0.050383,
            0.029803,
            0.527975,
            1
           ],
           [
            0.050383,
            0.029803,
            0.527975,
            1
           ],
           [
            0.050383,
            0.029803,
            0.527975,
            1
           ],
           [
            0.050383,
            0.029803,
            0.527975,
            1
           ],
           [
            0.050383,
            0.029803,
            0.527975,
            1
           ],
           [
            0.050383,
            0.029803,
            0.527975,
            1
           ],
           [
            0.050383,
            0.029803,
            0.527975,
            1
           ],
           [
            0.050383,
            0.029803,
            0.527975,
            1
           ],
           [
            0.050383,
            0.029803,
            0.527975,
            1
           ],
           [
            0.050383,
            0.029803,
            0.527975,
            1
           ],
           [
            0.050383,
            0.029803,
            0.527975,
            1
           ],
           [
            0.050383,
            0.029803,
            0.527975,
            1
           ],
           [
            0.050383,
            0.029803,
            0.527975,
            1
           ],
           [
            0.050383,
            0.029803,
            0.527975,
            1
           ],
           [
            0.050383,
            0.029803,
            0.527975,
            1
           ],
           [
            0.050383,
            0.029803,
            0.527975,
            1
           ],
           [
            0.050383,
            0.029803,
            0.527975,
            1
           ],
           [
            0.050383,
            0.029803,
            0.527975,
            1
           ],
           [
            0.050383,
            0.029803,
            0.527975,
            1
           ],
           [
            0.050383,
            0.029803,
            0.527975,
            1
           ],
           [
            0.050383,
            0.029803,
            0.527975,
            1
           ],
           [
            0.050383,
            0.029803,
            0.527975,
            1
           ],
           [
            0.050383,
            0.029803,
            0.527975,
            1
           ],
           [
            0.050383,
            0.029803,
            0.527975,
            1
           ],
           [
            0.050383,
            0.029803,
            0.527975,
            1
           ],
           [
            0.050383,
            0.029803,
            0.527975,
            1
           ],
           [
            0.050383,
            0.029803,
            0.527975,
            1
           ],
           [
            0.050383,
            0.029803,
            0.527975,
            1
           ],
           [
            0.050383,
            0.029803,
            0.527975,
            1
           ],
           [
            0.050383,
            0.029803,
            0.527975,
            1
           ],
           [
            0.050383,
            0.029803,
            0.527975,
            1
           ],
           [
            0.050383,
            0.029803,
            0.527975,
            1
           ],
           [
            0.050383,
            0.029803,
            0.527975,
            1
           ],
           [
            0.050383,
            0.029803,
            0.527975,
            1
           ],
           [
            0.050383,
            0.029803,
            0.527975,
            1
           ],
           [
            0.050383,
            0.029803,
            0.527975,
            1
           ],
           [
            0.050383,
            0.029803,
            0.527975,
            1
           ],
           [
            0.050383,
            0.029803,
            0.527975,
            1
           ],
           [
            0.050383,
            0.029803,
            0.527975,
            1
           ],
           [
            0.050383,
            0.029803,
            0.527975,
            1
           ],
           [
            0.050383,
            0.029803,
            0.527975,
            1
           ],
           [
            0.050383,
            0.029803,
            0.527975,
            1
           ],
           [
            0.050383,
            0.029803,
            0.527975,
            1
           ],
           [
            0.050383,
            0.029803,
            0.527975,
            1
           ],
           [
            0.050383,
            0.029803,
            0.527975,
            1
           ],
           [
            0.050383,
            0.029803,
            0.527975,
            1
           ],
           [
            0.050383,
            0.029803,
            0.527975,
            1
           ],
           [
            0.050383,
            0.029803,
            0.527975,
            1
           ],
           [
            0.050383,
            0.029803,
            0.527975,
            1
           ],
           [
            0.050383,
            0.029803,
            0.527975,
            1
           ],
           [
            0.050383,
            0.029803,
            0.527975,
            1
           ],
           [
            0.050383,
            0.029803,
            0.527975,
            1
           ],
           [
            0.050383,
            0.029803,
            0.527975,
            1
           ],
           [
            0.050383,
            0.029803,
            0.527975,
            1
           ],
           [
            0.050383,
            0.029803,
            0.527975,
            1
           ],
           [
            0.050383,
            0.029803,
            0.527975,
            1
           ],
           [
            0.050383,
            0.029803,
            0.527975,
            1
           ],
           [
            0.050383,
            0.029803,
            0.527975,
            1
           ],
           [
            0.050383,
            0.029803,
            0.527975,
            1
           ],
           [
            0.050383,
            0.029803,
            0.527975,
            1
           ],
           [
            0.050383,
            0.029803,
            0.527975,
            1
           ],
           [
            0.050383,
            0.029803,
            0.527975,
            1
           ],
           [
            0.050383,
            0.029803,
            0.527975,
            1
           ],
           [
            0.050383,
            0.029803,
            0.527975,
            1
           ],
           [
            0.050383,
            0.029803,
            0.527975,
            1
           ],
           [
            0.050383,
            0.029803,
            0.527975,
            1
           ],
           [
            0.050383,
            0.029803,
            0.527975,
            1
           ],
           [
            0.050383,
            0.029803,
            0.527975,
            1
           ],
           [
            0.050383,
            0.029803,
            0.527975,
            1
           ],
           [
            0.050383,
            0.029803,
            0.527975,
            1
           ],
           [
            0.050383,
            0.029803,
            0.527975,
            1
           ],
           [
            0.050383,
            0.029803,
            0.527975,
            1
           ],
           [
            0.050383,
            0.029803,
            0.527975,
            1
           ],
           [
            0.050383,
            0.029803,
            0.527975,
            1
           ],
           [
            0.050383,
            0.029803,
            0.527975,
            1
           ],
           [
            0.050383,
            0.029803,
            0.527975,
            1
           ],
           [
            0.050383,
            0.029803,
            0.527975,
            1
           ],
           [
            0.050383,
            0.029803,
            0.527975,
            1
           ],
           [
            0.050383,
            0.029803,
            0.527975,
            1
           ],
           [
            0.050383,
            0.029803,
            0.527975,
            1
           ],
           [
            0.050383,
            0.029803,
            0.527975,
            1
           ],
           [
            0.050383,
            0.029803,
            0.527975,
            1
           ],
           [
            0.050383,
            0.029803,
            0.527975,
            1
           ],
           [
            0.050383,
            0.029803,
            0.527975,
            1
           ],
           [
            0.050383,
            0.029803,
            0.527975,
            1
           ],
           [
            0.050383,
            0.029803,
            0.527975,
            1
           ],
           [
            0.050383,
            0.029803,
            0.527975,
            1
           ],
           [
            0.050383,
            0.029803,
            0.527975,
            1
           ],
           [
            0.050383,
            0.029803,
            0.527975,
            1
           ],
           [
            0.050383,
            0.029803,
            0.527975,
            1
           ],
           [
            0.050383,
            0.029803,
            0.527975,
            1
           ],
           [
            0.050383,
            0.029803,
            0.527975,
            1
           ],
           [
            0.050383,
            0.029803,
            0.527975,
            1
           ],
           [
            0.050383,
            0.029803,
            0.527975,
            1
           ],
           [
            0.050383,
            0.029803,
            0.527975,
            1
           ],
           [
            0.050383,
            0.029803,
            0.527975,
            1
           ],
           [
            0.050383,
            0.029803,
            0.527975,
            1
           ],
           [
            0.050383,
            0.029803,
            0.527975,
            1
           ],
           [
            0.050383,
            0.029803,
            0.527975,
            1
           ],
           [
            0.050383,
            0.029803,
            0.527975,
            1
           ],
           [
            0.050383,
            0.029803,
            0.527975,
            1
           ],
           [
            0.050383,
            0.029803,
            0.527975,
            1
           ],
           [
            0.050383,
            0.029803,
            0.527975,
            1
           ],
           [
            0.050383,
            0.029803,
            0.527975,
            1
           ],
           [
            0.050383,
            0.029803,
            0.527975,
            1
           ],
           [
            0.050383,
            0.029803,
            0.527975,
            1
           ],
           [
            0.050383,
            0.029803,
            0.527975,
            1
           ],
           [
            0.050383,
            0.029803,
            0.527975,
            1
           ],
           [
            0.050383,
            0.029803,
            0.527975,
            1
           ],
           [
            0.050383,
            0.029803,
            0.527975,
            1
           ],
           [
            0.050383,
            0.029803,
            0.527975,
            1
           ],
           [
            0.050383,
            0.029803,
            0.527975,
            1
           ],
           [
            0.050383,
            0.029803,
            0.527975,
            1
           ],
           [
            0.050383,
            0.029803,
            0.527975,
            1
           ],
           [
            0.050383,
            0.029803,
            0.527975,
            1
           ],
           [
            0.050383,
            0.029803,
            0.527975,
            1
           ],
           [
            0.050383,
            0.029803,
            0.527975,
            1
           ],
           [
            0.050383,
            0.029803,
            0.527975,
            1
           ],
           [
            0.050383,
            0.029803,
            0.527975,
            1
           ],
           [
            0.050383,
            0.029803,
            0.527975,
            1
           ],
           [
            0.050383,
            0.029803,
            0.527975,
            1
           ],
           [
            0.050383,
            0.029803,
            0.527975,
            1
           ],
           [
            0.050383,
            0.029803,
            0.527975,
            1
           ],
           [
            0.050383,
            0.029803,
            0.527975,
            1
           ],
           [
            0.050383,
            0.029803,
            0.527975,
            1
           ],
           [
            0.050383,
            0.029803,
            0.527975,
            1
           ],
           [
            0.050383,
            0.029803,
            0.527975,
            1
           ],
           [
            0.050383,
            0.029803,
            0.527975,
            1
           ],
           [
            0.050383,
            0.029803,
            0.527975,
            1
           ],
           [
            0.050383,
            0.029803,
            0.527975,
            1
           ],
           [
            0.050383,
            0.029803,
            0.527975,
            1
           ],
           [
            0.050383,
            0.029803,
            0.527975,
            1
           ],
           [
            0.050383,
            0.029803,
            0.527975,
            1
           ],
           [
            0.050383,
            0.029803,
            0.527975,
            1
           ],
           [
            0.050383,
            0.029803,
            0.527975,
            1
           ],
           [
            0.050383,
            0.029803,
            0.527975,
            1
           ],
           [
            0.050383,
            0.029803,
            0.527975,
            1
           ],
           [
            0.050383,
            0.029803,
            0.527975,
            1
           ],
           [
            0.050383,
            0.029803,
            0.527975,
            1
           ],
           [
            0.050383,
            0.029803,
            0.527975,
            1
           ],
           [
            0.050383,
            0.029803,
            0.527975,
            1
           ],
           [
            0.050383,
            0.029803,
            0.527975,
            1
           ],
           [
            0.050383,
            0.029803,
            0.527975,
            1
           ],
           [
            0.050383,
            0.029803,
            0.527975,
            1
           ],
           [
            0.050383,
            0.029803,
            0.527975,
            1
           ],
           [
            0.050383,
            0.029803,
            0.527975,
            1
           ],
           [
            0.050383,
            0.029803,
            0.527975,
            1
           ],
           [
            0.050383,
            0.029803,
            0.527975,
            1
           ],
           [
            0.050383,
            0.029803,
            0.527975,
            1
           ],
           [
            0.050383,
            0.029803,
            0.527975,
            1
           ],
           [
            0.050383,
            0.029803,
            0.527975,
            1
           ],
           [
            0.050383,
            0.029803,
            0.527975,
            1
           ],
           [
            0.050383,
            0.029803,
            0.527975,
            1
           ],
           [
            0.050383,
            0.029803,
            0.527975,
            1
           ],
           [
            0.050383,
            0.029803,
            0.527975,
            1
           ],
           [
            0.050383,
            0.029803,
            0.527975,
            1
           ],
           [
            0.050383,
            0.029803,
            0.527975,
            1
           ],
           [
            0.050383,
            0.029803,
            0.527975,
            1
           ],
           [
            0.050383,
            0.029803,
            0.527975,
            1
           ],
           [
            0.050383,
            0.029803,
            0.527975,
            1
           ],
           [
            0.050383,
            0.029803,
            0.527975,
            1
           ],
           [
            0.050383,
            0.029803,
            0.527975,
            1
           ],
           [
            0.050383,
            0.029803,
            0.527975,
            1
           ],
           [
            0.050383,
            0.029803,
            0.527975,
            1
           ],
           [
            0.050383,
            0.029803,
            0.527975,
            1
           ],
           [
            0.050383,
            0.029803,
            0.527975,
            1
           ],
           [
            0.050383,
            0.029803,
            0.527975,
            1
           ],
           [
            0.050383,
            0.029803,
            0.527975,
            1
           ],
           [
            0.050383,
            0.029803,
            0.527975,
            1
           ],
           [
            0.050383,
            0.029803,
            0.527975,
            1
           ],
           [
            0.050383,
            0.029803,
            0.527975,
            1
           ],
           [
            0.050383,
            0.029803,
            0.527975,
            1
           ],
           [
            0.050383,
            0.029803,
            0.527975,
            1
           ],
           [
            0.050383,
            0.029803,
            0.527975,
            1
           ],
           [
            0.050383,
            0.029803,
            0.527975,
            1
           ],
           [
            0.050383,
            0.029803,
            0.527975,
            1
           ],
           [
            0.050383,
            0.029803,
            0.527975,
            1
           ],
           [
            0.050383,
            0.029803,
            0.527975,
            1
           ],
           [
            0.050383,
            0.029803,
            0.527975,
            1
           ],
           [
            0.050383,
            0.029803,
            0.527975,
            1
           ],
           [
            0.050383,
            0.029803,
            0.527975,
            1
           ],
           [
            0.050383,
            0.029803,
            0.527975,
            1
           ],
           [
            0.050383,
            0.029803,
            0.527975,
            1
           ],
           [
            0.050383,
            0.029803,
            0.527975,
            1
           ],
           [
            0.050383,
            0.029803,
            0.527975,
            1
           ],
           [
            0.050383,
            0.029803,
            0.527975,
            1
           ],
           [
            0.050383,
            0.029803,
            0.527975,
            1
           ],
           [
            0.050383,
            0.029803,
            0.527975,
            1
           ],
           [
            0.050383,
            0.029803,
            0.527975,
            1
           ],
           [
            0.050383,
            0.029803,
            0.527975,
            1
           ],
           [
            0.050383,
            0.029803,
            0.527975,
            1
           ],
           [
            0.050383,
            0.029803,
            0.527975,
            1
           ],
           [
            0.050383,
            0.029803,
            0.527975,
            1
           ],
           [
            0.050383,
            0.029803,
            0.527975,
            1
           ],
           [
            0.050383,
            0.029803,
            0.527975,
            1
           ],
           [
            0.050383,
            0.029803,
            0.527975,
            1
           ],
           [
            0.050383,
            0.029803,
            0.527975,
            1
           ],
           [
            0.050383,
            0.029803,
            0.527975,
            1
           ],
           [
            0.050383,
            0.029803,
            0.527975,
            1
           ],
           [
            0.050383,
            0.029803,
            0.527975,
            1
           ],
           [
            0.050383,
            0.029803,
            0.527975,
            1
           ],
           [
            0.050383,
            0.029803,
            0.527975,
            1
           ],
           [
            0.050383,
            0.029803,
            0.527975,
            1
           ],
           [
            0.050383,
            0.029803,
            0.527975,
            1
           ],
           [
            0.050383,
            0.029803,
            0.527975,
            1
           ],
           [
            0.050383,
            0.029803,
            0.527975,
            1
           ],
           [
            0.050383,
            0.029803,
            0.527975,
            1
           ],
           [
            0.050383,
            0.029803,
            0.527975,
            1
           ],
           [
            0.050383,
            0.029803,
            0.527975,
            1
           ],
           [
            0.050383,
            0.029803,
            0.527975,
            1
           ],
           [
            0.050383,
            0.029803,
            0.527975,
            1
           ],
           [
            0.050383,
            0.029803,
            0.527975,
            1
           ],
           [
            0.050383,
            0.029803,
            0.527975,
            1
           ],
           [
            0.050383,
            0.029803,
            0.527975,
            1
           ],
           [
            0.050383,
            0.029803,
            0.527975,
            1
           ],
           [
            0.050383,
            0.029803,
            0.527975,
            1
           ],
           [
            0.050383,
            0.029803,
            0.527975,
            1
           ],
           [
            0.050383,
            0.029803,
            0.527975,
            1
           ],
           [
            0.050383,
            0.029803,
            0.527975,
            1
           ],
           [
            0.050383,
            0.029803,
            0.527975,
            1
           ],
           [
            0.050383,
            0.029803,
            0.527975,
            1
           ],
           [
            0.050383,
            0.029803,
            0.527975,
            1
           ],
           [
            0.050383,
            0.029803,
            0.527975,
            1
           ],
           [
            0.050383,
            0.029803,
            0.527975,
            1
           ],
           [
            0.050383,
            0.029803,
            0.527975,
            1
           ],
           [
            0.050383,
            0.029803,
            0.527975,
            1
           ],
           [
            0.050383,
            0.029803,
            0.527975,
            1
           ],
           [
            0.050383,
            0.029803,
            0.527975,
            1
           ],
           [
            0.050383,
            0.029803,
            0.527975,
            1
           ],
           [
            0.050383,
            0.029803,
            0.527975,
            1
           ],
           [
            0.050383,
            0.029803,
            0.527975,
            1
           ],
           [
            0.050383,
            0.029803,
            0.527975,
            1
           ],
           [
            0.050383,
            0.029803,
            0.527975,
            1
           ],
           [
            0.050383,
            0.029803,
            0.527975,
            1
           ],
           [
            0.050383,
            0.029803,
            0.527975,
            1
           ],
           [
            0.050383,
            0.029803,
            0.527975,
            1
           ],
           [
            0.050383,
            0.029803,
            0.527975,
            1
           ],
           [
            0.050383,
            0.029803,
            0.527975,
            1
           ],
           [
            0.050383,
            0.029803,
            0.527975,
            1
           ],
           [
            0.050383,
            0.029803,
            0.527975,
            1
           ],
           [
            0.050383,
            0.029803,
            0.527975,
            1
           ],
           [
            0.050383,
            0.029803,
            0.527975,
            1
           ],
           [
            0.050383,
            0.029803,
            0.527975,
            1
           ],
           [
            0.050383,
            0.029803,
            0.527975,
            1
           ],
           [
            0.050383,
            0.029803,
            0.527975,
            1
           ],
           [
            0.050383,
            0.029803,
            0.527975,
            1
           ],
           [
            0.050383,
            0.029803,
            0.527975,
            1
           ],
           [
            0.050383,
            0.029803,
            0.527975,
            1
           ],
           [
            0.050383,
            0.029803,
            0.527975,
            1
           ],
           [
            0.050383,
            0.029803,
            0.527975,
            1
           ],
           [
            0.050383,
            0.029803,
            0.527975,
            1
           ],
           [
            0.050383,
            0.029803,
            0.527975,
            1
           ],
           [
            0.050383,
            0.029803,
            0.527975,
            1
           ],
           [
            0.050383,
            0.029803,
            0.527975,
            1
           ],
           [
            0.050383,
            0.029803,
            0.527975,
            1
           ],
           [
            0.050383,
            0.029803,
            0.527975,
            1
           ],
           [
            0.050383,
            0.029803,
            0.527975,
            1
           ],
           [
            0.050383,
            0.029803,
            0.527975,
            1
           ],
           [
            0.050383,
            0.029803,
            0.527975,
            1
           ],
           [
            0.050383,
            0.029803,
            0.527975,
            1
           ],
           [
            0.050383,
            0.029803,
            0.527975,
            1
           ],
           [
            0.050383,
            0.029803,
            0.527975,
            1
           ],
           [
            0.050383,
            0.029803,
            0.527975,
            1
           ],
           [
            0.050383,
            0.029803,
            0.527975,
            1
           ],
           [
            0.050383,
            0.029803,
            0.527975,
            1
           ],
           [
            0.050383,
            0.029803,
            0.527975,
            1
           ],
           [
            0.050383,
            0.029803,
            0.527975,
            1
           ],
           [
            0.050383,
            0.029803,
            0.527975,
            1
           ],
           [
            0.050383,
            0.029803,
            0.527975,
            1
           ],
           [
            0.050383,
            0.029803,
            0.527975,
            1
           ],
           [
            0.050383,
            0.029803,
            0.527975,
            1
           ],
           [
            0.050383,
            0.029803,
            0.527975,
            1
           ],
           [
            0.050383,
            0.029803,
            0.527975,
            1
           ],
           [
            0.050383,
            0.029803,
            0.527975,
            1
           ],
           [
            0.050383,
            0.029803,
            0.527975,
            1
           ],
           [
            0.050383,
            0.029803,
            0.527975,
            1
           ],
           [
            0.050383,
            0.029803,
            0.527975,
            1
           ],
           [
            0.050383,
            0.029803,
            0.527975,
            1
           ],
           [
            0.050383,
            0.029803,
            0.527975,
            1
           ],
           [
            0.050383,
            0.029803,
            0.527975,
            1
           ],
           [
            0.050383,
            0.029803,
            0.527975,
            1
           ],
           [
            0.050383,
            0.029803,
            0.527975,
            1
           ],
           [
            0.050383,
            0.029803,
            0.527975,
            1
           ],
           [
            0.050383,
            0.029803,
            0.527975,
            1
           ],
           [
            0.050383,
            0.029803,
            0.527975,
            1
           ],
           [
            0.050383,
            0.029803,
            0.527975,
            1
           ],
           [
            0.050383,
            0.029803,
            0.527975,
            1
           ],
           [
            0.050383,
            0.029803,
            0.527975,
            1
           ],
           [
            0.050383,
            0.029803,
            0.527975,
            1
           ],
           [
            0.050383,
            0.029803,
            0.527975,
            1
           ],
           [
            0.050383,
            0.029803,
            0.527975,
            1
           ],
           [
            0.050383,
            0.029803,
            0.527975,
            1
           ],
           [
            0.050383,
            0.029803,
            0.527975,
            1
           ],
           [
            0.050383,
            0.029803,
            0.527975,
            1
           ],
           [
            0.050383,
            0.029803,
            0.527975,
            1
           ],
           [
            0.050383,
            0.029803,
            0.527975,
            1
           ],
           [
            0.050383,
            0.029803,
            0.527975,
            1
           ],
           [
            0.050383,
            0.029803,
            0.527975,
            1
           ],
           [
            0.050383,
            0.029803,
            0.527975,
            1
           ],
           [
            0.050383,
            0.029803,
            0.527975,
            1
           ],
           [
            0.050383,
            0.029803,
            0.527975,
            1
           ],
           [
            0.050383,
            0.029803,
            0.527975,
            1
           ],
           [
            0.050383,
            0.029803,
            0.527975,
            1
           ],
           [
            0.050383,
            0.029803,
            0.527975,
            1
           ],
           [
            0.050383,
            0.029803,
            0.527975,
            1
           ],
           [
            0.050383,
            0.029803,
            0.527975,
            1
           ],
           [
            0.050383,
            0.029803,
            0.527975,
            1
           ],
           [
            0.050383,
            0.029803,
            0.527975,
            1
           ],
           [
            0.050383,
            0.029803,
            0.527975,
            1
           ],
           [
            0.050383,
            0.029803,
            0.527975,
            1
           ],
           [
            0.050383,
            0.029803,
            0.527975,
            1
           ],
           [
            0.050383,
            0.029803,
            0.527975,
            1
           ],
           [
            0.050383,
            0.029803,
            0.527975,
            1
           ],
           [
            0.050383,
            0.029803,
            0.527975,
            1
           ],
           [
            0.050383,
            0.029803,
            0.527975,
            1
           ],
           [
            0.050383,
            0.029803,
            0.527975,
            1
           ],
           [
            0.050383,
            0.029803,
            0.527975,
            1
           ],
           [
            0.050383,
            0.029803,
            0.527975,
            1
           ],
           [
            0.050383,
            0.029803,
            0.527975,
            1
           ],
           [
            0.050383,
            0.029803,
            0.527975,
            1
           ],
           [
            0.050383,
            0.029803,
            0.527975,
            1
           ],
           [
            0.050383,
            0.029803,
            0.527975,
            1
           ],
           [
            0.050383,
            0.029803,
            0.527975,
            1
           ],
           [
            0.050383,
            0.029803,
            0.527975,
            1
           ],
           [
            0.050383,
            0.029803,
            0.527975,
            1
           ],
           [
            0.050383,
            0.029803,
            0.527975,
            1
           ],
           [
            0.050383,
            0.029803,
            0.527975,
            1
           ],
           [
            0.050383,
            0.029803,
            0.527975,
            1
           ],
           [
            0.050383,
            0.029803,
            0.527975,
            1
           ],
           [
            0.050383,
            0.029803,
            0.527975,
            1
           ],
           [
            0.050383,
            0.029803,
            0.527975,
            1
           ],
           [
            0.050383,
            0.029803,
            0.527975,
            1
           ],
           [
            0.050383,
            0.029803,
            0.527975,
            1
           ],
           [
            0.050383,
            0.029803,
            0.527975,
            1
           ],
           [
            0.050383,
            0.029803,
            0.527975,
            1
           ],
           [
            0.050383,
            0.029803,
            0.527975,
            1
           ],
           [
            0.050383,
            0.029803,
            0.527975,
            1
           ],
           [
            0.050383,
            0.029803,
            0.527975,
            1
           ],
           [
            0.050383,
            0.029803,
            0.527975,
            1
           ],
           [
            0.050383,
            0.029803,
            0.527975,
            1
           ],
           [
            0.050383,
            0.029803,
            0.527975,
            1
           ],
           [
            0.050383,
            0.029803,
            0.527975,
            1
           ],
           [
            0.050383,
            0.029803,
            0.527975,
            1
           ],
           [
            0.050383,
            0.029803,
            0.527975,
            1
           ],
           [
            0.050383,
            0.029803,
            0.527975,
            1
           ],
           [
            0.050383,
            0.029803,
            0.527975,
            1
           ],
           [
            0.050383,
            0.029803,
            0.527975,
            1
           ],
           [
            0.050383,
            0.029803,
            0.527975,
            1
           ],
           [
            0.050383,
            0.029803,
            0.527975,
            1
           ],
           [
            0.050383,
            0.029803,
            0.527975,
            1
           ],
           [
            0.050383,
            0.029803,
            0.527975,
            1
           ],
           [
            0.050383,
            0.029803,
            0.527975,
            1
           ],
           [
            0.050383,
            0.029803,
            0.527975,
            1
           ],
           [
            0.050383,
            0.029803,
            0.527975,
            1
           ],
           [
            0.050383,
            0.029803,
            0.527975,
            1
           ],
           [
            0.050383,
            0.029803,
            0.527975,
            1
           ],
           [
            0.050383,
            0.029803,
            0.527975,
            1
           ],
           [
            0.050383,
            0.029803,
            0.527975,
            1
           ],
           [
            0.050383,
            0.029803,
            0.527975,
            1
           ],
           [
            0.050383,
            0.029803,
            0.527975,
            1
           ],
           [
            0.050383,
            0.029803,
            0.527975,
            1
           ],
           [
            0.050383,
            0.029803,
            0.527975,
            1
           ],
           [
            0.050383,
            0.029803,
            0.527975,
            1
           ],
           [
            0.050383,
            0.029803,
            0.527975,
            1
           ],
           [
            0.050383,
            0.029803,
            0.527975,
            1
           ],
           [
            0.050383,
            0.029803,
            0.527975,
            1
           ],
           [
            0.050383,
            0.029803,
            0.527975,
            1
           ],
           [
            0.050383,
            0.029803,
            0.527975,
            1
           ],
           [
            0.050383,
            0.029803,
            0.527975,
            1
           ],
           [
            0.050383,
            0.029803,
            0.527975,
            1
           ],
           [
            0.050383,
            0.029803,
            0.527975,
            1
           ],
           [
            0.050383,
            0.029803,
            0.527975,
            1
           ],
           [
            0.050383,
            0.029803,
            0.527975,
            1
           ],
           [
            0.050383,
            0.029803,
            0.527975,
            1
           ],
           [
            0.050383,
            0.029803,
            0.527975,
            1
           ],
           [
            0.050383,
            0.029803,
            0.527975,
            1
           ],
           [
            0.050383,
            0.029803,
            0.527975,
            1
           ],
           [
            0.050383,
            0.029803,
            0.527975,
            1
           ],
           [
            0.050383,
            0.029803,
            0.527975,
            1
           ],
           [
            0.050383,
            0.029803,
            0.527975,
            1
           ],
           [
            0.050383,
            0.029803,
            0.527975,
            1
           ],
           [
            0.050383,
            0.029803,
            0.527975,
            1
           ],
           [
            0.050383,
            0.029803,
            0.527975,
            1
           ],
           [
            0.050383,
            0.029803,
            0.527975,
            1
           ],
           [
            0.050383,
            0.029803,
            0.527975,
            1
           ],
           [
            0.050383,
            0.029803,
            0.527975,
            1
           ],
           [
            0.050383,
            0.029803,
            0.527975,
            1
           ],
           [
            0.050383,
            0.029803,
            0.527975,
            1
           ],
           [
            0.050383,
            0.029803,
            0.527975,
            1
           ],
           [
            0.050383,
            0.029803,
            0.527975,
            1
           ],
           [
            0.050383,
            0.029803,
            0.527975,
            1
           ],
           [
            0.050383,
            0.029803,
            0.527975,
            1
           ],
           [
            0.050383,
            0.029803,
            0.527975,
            1
           ],
           [
            0.050383,
            0.029803,
            0.527975,
            1
           ],
           [
            0.050383,
            0.029803,
            0.527975,
            1
           ],
           [
            0.050383,
            0.029803,
            0.527975,
            1
           ],
           [
            0.050383,
            0.029803,
            0.527975,
            1
           ],
           [
            0.050383,
            0.029803,
            0.527975,
            1
           ],
           [
            0.050383,
            0.029803,
            0.527975,
            1
           ],
           [
            0.050383,
            0.029803,
            0.527975,
            1
           ],
           [
            0.050383,
            0.029803,
            0.527975,
            1
           ],
           [
            0.050383,
            0.029803,
            0.527975,
            1
           ],
           [
            0.050383,
            0.029803,
            0.527975,
            1
           ],
           [
            0.050383,
            0.029803,
            0.527975,
            1
           ],
           [
            0.050383,
            0.029803,
            0.527975,
            1
           ],
           [
            0.050383,
            0.029803,
            0.527975,
            1
           ],
           [
            0.050383,
            0.029803,
            0.527975,
            1
           ],
           [
            0.050383,
            0.029803,
            0.527975,
            1
           ],
           [
            0.050383,
            0.029803,
            0.527975,
            1
           ],
           [
            0.050383,
            0.029803,
            0.527975,
            1
           ],
           [
            0.050383,
            0.029803,
            0.527975,
            1
           ],
           [
            0.050383,
            0.029803,
            0.527975,
            1
           ],
           [
            0.050383,
            0.029803,
            0.527975,
            1
           ],
           [
            0.050383,
            0.029803,
            0.527975,
            1
           ],
           [
            0.050383,
            0.029803,
            0.527975,
            1
           ],
           [
            0.050383,
            0.029803,
            0.527975,
            1
           ],
           [
            0.050383,
            0.029803,
            0.527975,
            1
           ],
           [
            0.050383,
            0.029803,
            0.527975,
            1
           ],
           [
            0.050383,
            0.029803,
            0.527975,
            1
           ],
           [
            0.050383,
            0.029803,
            0.527975,
            1
           ],
           [
            0.050383,
            0.029803,
            0.527975,
            1
           ],
           [
            0.050383,
            0.029803,
            0.527975,
            1
           ],
           [
            0.050383,
            0.029803,
            0.527975,
            1
           ],
           [
            0.050383,
            0.029803,
            0.527975,
            1
           ],
           [
            0.050383,
            0.029803,
            0.527975,
            1
           ],
           [
            0.050383,
            0.029803,
            0.527975,
            1
           ],
           [
            0.050383,
            0.029803,
            0.527975,
            1
           ],
           [
            0.050383,
            0.029803,
            0.527975,
            1
           ],
           [
            0.050383,
            0.029803,
            0.527975,
            1
           ],
           [
            0.050383,
            0.029803,
            0.527975,
            1
           ],
           [
            0.050383,
            0.029803,
            0.527975,
            1
           ],
           [
            0.050383,
            0.029803,
            0.527975,
            1
           ],
           [
            0.050383,
            0.029803,
            0.527975,
            1
           ],
           [
            0.050383,
            0.029803,
            0.527975,
            1
           ],
           [
            0.050383,
            0.029803,
            0.527975,
            1
           ],
           [
            0.050383,
            0.029803,
            0.527975,
            1
           ],
           [
            0.050383,
            0.029803,
            0.527975,
            1
           ],
           [
            0.050383,
            0.029803,
            0.527975,
            1
           ],
           [
            0.050383,
            0.029803,
            0.527975,
            1
           ],
           [
            0.050383,
            0.029803,
            0.527975,
            1
           ],
           [
            0.050383,
            0.029803,
            0.527975,
            1
           ],
           [
            0.050383,
            0.029803,
            0.527975,
            1
           ],
           [
            0.050383,
            0.029803,
            0.527975,
            1
           ],
           [
            0.050383,
            0.029803,
            0.527975,
            1
           ],
           [
            0.050383,
            0.029803,
            0.527975,
            1
           ],
           [
            0.050383,
            0.029803,
            0.527975,
            1
           ],
           [
            0.050383,
            0.029803,
            0.527975,
            1
           ],
           [
            0.050383,
            0.029803,
            0.527975,
            1
           ],
           [
            0.050383,
            0.029803,
            0.527975,
            1
           ],
           [
            0.050383,
            0.029803,
            0.527975,
            1
           ]
          ],
          "width": 10
         },
         "mode": "lines",
         "text": [
          "peptide_bond",
          "peptide_bond",
          "peptide_bond",
          "peptide_bond",
          "peptide_bond",
          "peptide_bond",
          "peptide_bond",
          "peptide_bond",
          "peptide_bond",
          "peptide_bond",
          "peptide_bond",
          "peptide_bond",
          "peptide_bond",
          "peptide_bond",
          "peptide_bond",
          "peptide_bond",
          "peptide_bond",
          "peptide_bond",
          "peptide_bond",
          "peptide_bond",
          "peptide_bond",
          "peptide_bond",
          "peptide_bond",
          "peptide_bond",
          "peptide_bond",
          "peptide_bond",
          "peptide_bond",
          "peptide_bond",
          "peptide_bond",
          "peptide_bond",
          "peptide_bond",
          "peptide_bond",
          "peptide_bond",
          "peptide_bond",
          "peptide_bond",
          "peptide_bond",
          "peptide_bond",
          "peptide_bond",
          "peptide_bond",
          "peptide_bond",
          "peptide_bond",
          "peptide_bond",
          "peptide_bond",
          "peptide_bond",
          "peptide_bond",
          "peptide_bond",
          "peptide_bond",
          "peptide_bond",
          "peptide_bond",
          "peptide_bond",
          "peptide_bond",
          "peptide_bond",
          "peptide_bond",
          "peptide_bond",
          "peptide_bond",
          "peptide_bond",
          "peptide_bond",
          "peptide_bond",
          "peptide_bond",
          "peptide_bond",
          "peptide_bond",
          "peptide_bond",
          "peptide_bond",
          "peptide_bond",
          "peptide_bond",
          "peptide_bond",
          "peptide_bond",
          "peptide_bond",
          "peptide_bond",
          "peptide_bond",
          "peptide_bond",
          "peptide_bond",
          "peptide_bond",
          "peptide_bond",
          "peptide_bond",
          "peptide_bond",
          "peptide_bond",
          "peptide_bond",
          "peptide_bond",
          "peptide_bond",
          "peptide_bond",
          "peptide_bond",
          "peptide_bond",
          "peptide_bond",
          "peptide_bond",
          "peptide_bond",
          "peptide_bond",
          "peptide_bond",
          "peptide_bond",
          "peptide_bond",
          "peptide_bond",
          "peptide_bond",
          "peptide_bond",
          "peptide_bond",
          "peptide_bond",
          "peptide_bond",
          "peptide_bond",
          "peptide_bond",
          "peptide_bond",
          "peptide_bond",
          "peptide_bond",
          "peptide_bond",
          "peptide_bond",
          "peptide_bond",
          "peptide_bond",
          "peptide_bond",
          "peptide_bond",
          "peptide_bond",
          "peptide_bond",
          "peptide_bond",
          "peptide_bond",
          "peptide_bond",
          "peptide_bond",
          "peptide_bond",
          "peptide_bond",
          "peptide_bond",
          "peptide_bond",
          "peptide_bond",
          "peptide_bond",
          "peptide_bond",
          "peptide_bond",
          "peptide_bond",
          "peptide_bond",
          "peptide_bond",
          "peptide_bond",
          "peptide_bond",
          "peptide_bond",
          "peptide_bond",
          "peptide_bond",
          "peptide_bond",
          "peptide_bond",
          "peptide_bond",
          "peptide_bond",
          "peptide_bond",
          "peptide_bond",
          "peptide_bond",
          "peptide_bond",
          "peptide_bond",
          "peptide_bond",
          "peptide_bond",
          "peptide_bond",
          "peptide_bond",
          "peptide_bond",
          "peptide_bond",
          "peptide_bond",
          "peptide_bond",
          "peptide_bond",
          "peptide_bond",
          "peptide_bond",
          "peptide_bond",
          "peptide_bond",
          "peptide_bond",
          "peptide_bond",
          "peptide_bond",
          "peptide_bond",
          "peptide_bond",
          "peptide_bond",
          "peptide_bond",
          "peptide_bond",
          "peptide_bond",
          "peptide_bond",
          "peptide_bond",
          "peptide_bond",
          "peptide_bond",
          "peptide_bond",
          "peptide_bond",
          "peptide_bond",
          "peptide_bond",
          "peptide_bond",
          "peptide_bond",
          "peptide_bond",
          "peptide_bond",
          "peptide_bond",
          "peptide_bond",
          "peptide_bond",
          "peptide_bond",
          "peptide_bond",
          "peptide_bond",
          "peptide_bond",
          "peptide_bond",
          "peptide_bond",
          "peptide_bond",
          "peptide_bond",
          "peptide_bond",
          "peptide_bond",
          "peptide_bond",
          "peptide_bond",
          "peptide_bond",
          "peptide_bond",
          "peptide_bond",
          "peptide_bond",
          "peptide_bond",
          "peptide_bond",
          "peptide_bond",
          "peptide_bond",
          "peptide_bond",
          "peptide_bond",
          "peptide_bond",
          "peptide_bond",
          "peptide_bond",
          "peptide_bond",
          "peptide_bond",
          "peptide_bond",
          "peptide_bond",
          "peptide_bond",
          "peptide_bond",
          "peptide_bond",
          "peptide_bond",
          "peptide_bond",
          "peptide_bond",
          "peptide_bond",
          "peptide_bond",
          "peptide_bond",
          "peptide_bond",
          "peptide_bond",
          "peptide_bond",
          "peptide_bond",
          "peptide_bond",
          "peptide_bond",
          "peptide_bond",
          "peptide_bond",
          "peptide_bond",
          "peptide_bond",
          "peptide_bond",
          "peptide_bond",
          "peptide_bond",
          "peptide_bond",
          "peptide_bond",
          "peptide_bond",
          "peptide_bond",
          "peptide_bond",
          "peptide_bond",
          "peptide_bond",
          "peptide_bond",
          "peptide_bond",
          "peptide_bond",
          "peptide_bond",
          "peptide_bond",
          "peptide_bond",
          "peptide_bond",
          "peptide_bond",
          "peptide_bond",
          "peptide_bond",
          "peptide_bond",
          "peptide_bond",
          "peptide_bond",
          "peptide_bond",
          "peptide_bond",
          "peptide_bond",
          "peptide_bond",
          "peptide_bond",
          "peptide_bond",
          "peptide_bond",
          "peptide_bond",
          "peptide_bond",
          "peptide_bond",
          "peptide_bond",
          "peptide_bond",
          "peptide_bond",
          "peptide_bond",
          "peptide_bond",
          "peptide_bond",
          "peptide_bond",
          "peptide_bond",
          "peptide_bond",
          "peptide_bond",
          "peptide_bond",
          "peptide_bond",
          "peptide_bond",
          "peptide_bond",
          "peptide_bond",
          "peptide_bond",
          "peptide_bond",
          "peptide_bond",
          "peptide_bond",
          "peptide_bond",
          "peptide_bond",
          "peptide_bond",
          "peptide_bond",
          "peptide_bond",
          "peptide_bond",
          "peptide_bond",
          "peptide_bond",
          "peptide_bond",
          "peptide_bond",
          "peptide_bond",
          "peptide_bond",
          "peptide_bond",
          "peptide_bond",
          "peptide_bond",
          "peptide_bond",
          "peptide_bond",
          "peptide_bond",
          "peptide_bond",
          "peptide_bond",
          "peptide_bond",
          "peptide_bond",
          "peptide_bond",
          "peptide_bond",
          "peptide_bond",
          "peptide_bond",
          "peptide_bond",
          "peptide_bond",
          "peptide_bond",
          "peptide_bond",
          "peptide_bond",
          "peptide_bond",
          "peptide_bond",
          "peptide_bond",
          "peptide_bond",
          "peptide_bond",
          "peptide_bond",
          "peptide_bond",
          "peptide_bond",
          "peptide_bond",
          "peptide_bond",
          "peptide_bond",
          "peptide_bond",
          "peptide_bond",
          "peptide_bond",
          "peptide_bond",
          "peptide_bond",
          "peptide_bond",
          "peptide_bond",
          "peptide_bond",
          "peptide_bond",
          "peptide_bond",
          "peptide_bond",
          "peptide_bond",
          "peptide_bond",
          "peptide_bond",
          "peptide_bond",
          "peptide_bond",
          "peptide_bond",
          "peptide_bond",
          "peptide_bond",
          "peptide_bond",
          "peptide_bond",
          "peptide_bond",
          "peptide_bond",
          "peptide_bond",
          "peptide_bond",
          "peptide_bond",
          "peptide_bond",
          "peptide_bond",
          "peptide_bond",
          "peptide_bond",
          "peptide_bond",
          "peptide_bond",
          "peptide_bond",
          "peptide_bond",
          "peptide_bond",
          "peptide_bond",
          "peptide_bond",
          "peptide_bond",
          "peptide_bond",
          "peptide_bond",
          "peptide_bond",
          "peptide_bond",
          "peptide_bond",
          "peptide_bond",
          "peptide_bond",
          "peptide_bond",
          "peptide_bond",
          "peptide_bond",
          "peptide_bond",
          "peptide_bond",
          "peptide_bond",
          "peptide_bond",
          "peptide_bond",
          "peptide_bond",
          "peptide_bond",
          "peptide_bond",
          "peptide_bond",
          "peptide_bond",
          "peptide_bond",
          "peptide_bond",
          "peptide_bond",
          "peptide_bond",
          "peptide_bond",
          "peptide_bond",
          "peptide_bond",
          "peptide_bond",
          "peptide_bond",
          "peptide_bond",
          "peptide_bond",
          "peptide_bond",
          "peptide_bond",
          "peptide_bond",
          "peptide_bond",
          "peptide_bond",
          "peptide_bond",
          "peptide_bond",
          "peptide_bond",
          "peptide_bond",
          "peptide_bond",
          "peptide_bond",
          "peptide_bond",
          "peptide_bond",
          "peptide_bond",
          "peptide_bond",
          "peptide_bond",
          "peptide_bond",
          "peptide_bond",
          "peptide_bond",
          "peptide_bond",
          "peptide_bond",
          "peptide_bond",
          "peptide_bond",
          "peptide_bond",
          "peptide_bond",
          "peptide_bond",
          "peptide_bond",
          "peptide_bond",
          "peptide_bond",
          "peptide_bond",
          "peptide_bond",
          "peptide_bond",
          "peptide_bond",
          "peptide_bond",
          "peptide_bond",
          "peptide_bond",
          "peptide_bond",
          "peptide_bond",
          "peptide_bond",
          "peptide_bond",
          "peptide_bond",
          "peptide_bond",
          "peptide_bond",
          "peptide_bond",
          "peptide_bond",
          "peptide_bond",
          "peptide_bond",
          "peptide_bond",
          "peptide_bond",
          "peptide_bond",
          "peptide_bond",
          "peptide_bond",
          "peptide_bond",
          "peptide_bond",
          "peptide_bond",
          "peptide_bond",
          "peptide_bond",
          "peptide_bond",
          "peptide_bond",
          "peptide_bond",
          "peptide_bond",
          "peptide_bond",
          "peptide_bond",
          "peptide_bond",
          "peptide_bond",
          "peptide_bond",
          "peptide_bond",
          "peptide_bond",
          "peptide_bond",
          "peptide_bond",
          "peptide_bond",
          "peptide_bond",
          "peptide_bond",
          "peptide_bond",
          "peptide_bond",
          "peptide_bond",
          "peptide_bond",
          "peptide_bond",
          "peptide_bond",
          "peptide_bond",
          "peptide_bond",
          "peptide_bond",
          "peptide_bond",
          "peptide_bond",
          "peptide_bond",
          "peptide_bond",
          "peptide_bond",
          "peptide_bond",
          "peptide_bond",
          "peptide_bond",
          "peptide_bond",
          "peptide_bond",
          "peptide_bond",
          "peptide_bond",
          "peptide_bond",
          "peptide_bond",
          "peptide_bond",
          "peptide_bond",
          "peptide_bond",
          "peptide_bond",
          "peptide_bond",
          "peptide_bond",
          "peptide_bond",
          "peptide_bond",
          "peptide_bond",
          "peptide_bond",
          "peptide_bond",
          "peptide_bond",
          "peptide_bond",
          "peptide_bond",
          "peptide_bond",
          "peptide_bond",
          "peptide_bond",
          "peptide_bond",
          "peptide_bond",
          "peptide_bond",
          "peptide_bond",
          "peptide_bond",
          "peptide_bond",
          "peptide_bond",
          "peptide_bond",
          "peptide_bond",
          "peptide_bond",
          "peptide_bond",
          "peptide_bond",
          "peptide_bond",
          "peptide_bond",
          "peptide_bond",
          "peptide_bond",
          "peptide_bond",
          "peptide_bond",
          "peptide_bond",
          "peptide_bond",
          "peptide_bond",
          "peptide_bond",
          "peptide_bond",
          "peptide_bond",
          "peptide_bond",
          "peptide_bond",
          "peptide_bond",
          "peptide_bond",
          "peptide_bond",
          "peptide_bond",
          "peptide_bond",
          "peptide_bond",
          "peptide_bond",
          "peptide_bond",
          "peptide_bond",
          "peptide_bond",
          "peptide_bond",
          "peptide_bond",
          "peptide_bond",
          "peptide_bond",
          "peptide_bond",
          "peptide_bond",
          "peptide_bond",
          "peptide_bond",
          "peptide_bond",
          "peptide_bond",
          "peptide_bond",
          "peptide_bond",
          "peptide_bond",
          "peptide_bond",
          "peptide_bond",
          "peptide_bond",
          "peptide_bond",
          "peptide_bond",
          "peptide_bond",
          "peptide_bond",
          "peptide_bond",
          "peptide_bond",
          "peptide_bond",
          "peptide_bond",
          "peptide_bond",
          "peptide_bond",
          "peptide_bond",
          "peptide_bond",
          "peptide_bond",
          "peptide_bond",
          "peptide_bond",
          "peptide_bond",
          "peptide_bond",
          "peptide_bond",
          "peptide_bond",
          "peptide_bond",
          "peptide_bond",
          "peptide_bond",
          "peptide_bond",
          "peptide_bond",
          "peptide_bond",
          "peptide_bond",
          "peptide_bond",
          "peptide_bond",
          "peptide_bond",
          "peptide_bond",
          "peptide_bond",
          "peptide_bond",
          "peptide_bond",
          "peptide_bond",
          "peptide_bond",
          "peptide_bond",
          "peptide_bond",
          "peptide_bond",
          "peptide_bond",
          "peptide_bond",
          "peptide_bond",
          "peptide_bond",
          "peptide_bond",
          "peptide_bond",
          "peptide_bond",
          "peptide_bond",
          "peptide_bond",
          "peptide_bond",
          "peptide_bond",
          "peptide_bond",
          "peptide_bond",
          "peptide_bond",
          "peptide_bond",
          "peptide_bond",
          "peptide_bond",
          "peptide_bond",
          "peptide_bond",
          "peptide_bond",
          "peptide_bond",
          "peptide_bond",
          "peptide_bond",
          "peptide_bond",
          "peptide_bond",
          "peptide_bond",
          "peptide_bond",
          "peptide_bond",
          "peptide_bond",
          "peptide_bond",
          "peptide_bond",
          "peptide_bond",
          "peptide_bond",
          "peptide_bond",
          "peptide_bond",
          "peptide_bond",
          "peptide_bond",
          "peptide_bond",
          "peptide_bond",
          "peptide_bond",
          "peptide_bond",
          "peptide_bond",
          "peptide_bond",
          "peptide_bond",
          "peptide_bond",
          "peptide_bond",
          "peptide_bond",
          "peptide_bond",
          "peptide_bond",
          "peptide_bond",
          "peptide_bond",
          "peptide_bond",
          "peptide_bond",
          "peptide_bond",
          "peptide_bond",
          "peptide_bond",
          "peptide_bond",
          "peptide_bond",
          "peptide_bond",
          "peptide_bond",
          "peptide_bond",
          "peptide_bond",
          "peptide_bond",
          "peptide_bond",
          "peptide_bond",
          "peptide_bond",
          "peptide_bond",
          "peptide_bond",
          "peptide_bond",
          "peptide_bond",
          "peptide_bond",
          "peptide_bond",
          "peptide_bond",
          "peptide_bond",
          "peptide_bond",
          "peptide_bond",
          "peptide_bond",
          "peptide_bond",
          "peptide_bond",
          "peptide_bond",
          "peptide_bond",
          "peptide_bond",
          "peptide_bond",
          "peptide_bond",
          "peptide_bond",
          "peptide_bond",
          "peptide_bond",
          "peptide_bond",
          "peptide_bond",
          "peptide_bond",
          "peptide_bond",
          "peptide_bond",
          "peptide_bond",
          "peptide_bond",
          "peptide_bond",
          "peptide_bond",
          "peptide_bond",
          "peptide_bond",
          "peptide_bond",
          "peptide_bond",
          "peptide_bond",
          "peptide_bond",
          "peptide_bond",
          "peptide_bond",
          "peptide_bond",
          "peptide_bond",
          "peptide_bond",
          "peptide_bond",
          "peptide_bond",
          "peptide_bond",
          "peptide_bond",
          "peptide_bond",
          "peptide_bond",
          "peptide_bond",
          "peptide_bond",
          "peptide_bond",
          "peptide_bond",
          "peptide_bond",
          "peptide_bond",
          "peptide_bond",
          "peptide_bond",
          "peptide_bond",
          "peptide_bond",
          "peptide_bond",
          "peptide_bond",
          "peptide_bond",
          "peptide_bond",
          "peptide_bond",
          "peptide_bond",
          "peptide_bond",
          "peptide_bond",
          "peptide_bond",
          "peptide_bond",
          "peptide_bond",
          "peptide_bond",
          "peptide_bond",
          "peptide_bond",
          "peptide_bond",
          "peptide_bond",
          "peptide_bond",
          "peptide_bond",
          "peptide_bond",
          "peptide_bond",
          "peptide_bond",
          "peptide_bond",
          "peptide_bond",
          "peptide_bond",
          "peptide_bond",
          "peptide_bond",
          "peptide_bond",
          "peptide_bond",
          "peptide_bond",
          "peptide_bond",
          "peptide_bond",
          "peptide_bond",
          "peptide_bond",
          "peptide_bond",
          "peptide_bond",
          "peptide_bond",
          "peptide_bond",
          "peptide_bond",
          "peptide_bond",
          "peptide_bond",
          "peptide_bond",
          "peptide_bond",
          "peptide_bond",
          "peptide_bond",
          "peptide_bond",
          "peptide_bond",
          "peptide_bond",
          "peptide_bond",
          "peptide_bond",
          "peptide_bond",
          "peptide_bond",
          "peptide_bond",
          "peptide_bond",
          "peptide_bond",
          "peptide_bond",
          "peptide_bond",
          "peptide_bond",
          "peptide_bond",
          "peptide_bond",
          "peptide_bond",
          "peptide_bond",
          "peptide_bond",
          "peptide_bond",
          "peptide_bond",
          "peptide_bond",
          "peptide_bond",
          "peptide_bond",
          "peptide_bond",
          "peptide_bond",
          "peptide_bond",
          "peptide_bond",
          "peptide_bond",
          "peptide_bond",
          "peptide_bond",
          "peptide_bond",
          "peptide_bond",
          "peptide_bond",
          "peptide_bond",
          "peptide_bond",
          "peptide_bond",
          "peptide_bond",
          "peptide_bond",
          "peptide_bond",
          "peptide_bond",
          "peptide_bond",
          "peptide_bond",
          "peptide_bond",
          "peptide_bond",
          "peptide_bond",
          "peptide_bond",
          "peptide_bond",
          "peptide_bond",
          "peptide_bond",
          "peptide_bond",
          "peptide_bond",
          "peptide_bond",
          "peptide_bond",
          "peptide_bond",
          "peptide_bond",
          "peptide_bond",
          "peptide_bond",
          "peptide_bond",
          "peptide_bond",
          "peptide_bond",
          "peptide_bond",
          "peptide_bond",
          "peptide_bond",
          "peptide_bond",
          "peptide_bond",
          "peptide_bond",
          "peptide_bond",
          "peptide_bond",
          "peptide_bond",
          "peptide_bond",
          "peptide_bond",
          "peptide_bond",
          "peptide_bond",
          "peptide_bond",
          "peptide_bond",
          "peptide_bond",
          "peptide_bond",
          "peptide_bond",
          "peptide_bond",
          "peptide_bond",
          "peptide_bond",
          "peptide_bond",
          "peptide_bond",
          "peptide_bond",
          "peptide_bond",
          "peptide_bond",
          "peptide_bond",
          "peptide_bond",
          "peptide_bond",
          "peptide_bond",
          "peptide_bond",
          "peptide_bond",
          "peptide_bond",
          "peptide_bond",
          "peptide_bond",
          "peptide_bond",
          "peptide_bond",
          "peptide_bond",
          "peptide_bond",
          "peptide_bond",
          "peptide_bond",
          "peptide_bond",
          "peptide_bond",
          "peptide_bond",
          "peptide_bond",
          "peptide_bond",
          "peptide_bond",
          "peptide_bond",
          "peptide_bond",
          "peptide_bond",
          "peptide_bond",
          "peptide_bond",
          "peptide_bond",
          "peptide_bond",
          "peptide_bond",
          "peptide_bond",
          "peptide_bond",
          "peptide_bond",
          "peptide_bond",
          "peptide_bond",
          "peptide_bond",
          "peptide_bond",
          "peptide_bond",
          "peptide_bond",
          "peptide_bond",
          "peptide_bond",
          "peptide_bond",
          "peptide_bond",
          "peptide_bond",
          "peptide_bond",
          "peptide_bond",
          "peptide_bond",
          "peptide_bond",
          "peptide_bond",
          "peptide_bond",
          "peptide_bond",
          "peptide_bond",
          "peptide_bond",
          "peptide_bond",
          "peptide_bond",
          "peptide_bond",
          "peptide_bond",
          "peptide_bond",
          "peptide_bond",
          "peptide_bond",
          "peptide_bond",
          "peptide_bond",
          "peptide_bond",
          "peptide_bond",
          "peptide_bond",
          "peptide_bond",
          "peptide_bond",
          "peptide_bond",
          "peptide_bond",
          "peptide_bond",
          "peptide_bond",
          "peptide_bond",
          "peptide_bond",
          "peptide_bond",
          "peptide_bond",
          "peptide_bond",
          "peptide_bond",
          "peptide_bond",
          "peptide_bond",
          "peptide_bond",
          "peptide_bond",
          "peptide_bond",
          "peptide_bond",
          "peptide_bond",
          "peptide_bond",
          "peptide_bond",
          "peptide_bond",
          "peptide_bond",
          "peptide_bond",
          "peptide_bond",
          "peptide_bond",
          "peptide_bond",
          "peptide_bond",
          "peptide_bond",
          "peptide_bond",
          "peptide_bond",
          "peptide_bond",
          "peptide_bond",
          "peptide_bond",
          "peptide_bond",
          "peptide_bond",
          "peptide_bond",
          "peptide_bond",
          "peptide_bond",
          "peptide_bond",
          "peptide_bond",
          "peptide_bond",
          "peptide_bond",
          "peptide_bond",
          "peptide_bond",
          "peptide_bond",
          "peptide_bond",
          "peptide_bond",
          "peptide_bond",
          "peptide_bond",
          "peptide_bond",
          "peptide_bond",
          "peptide_bond",
          "peptide_bond",
          "peptide_bond",
          "peptide_bond",
          "peptide_bond",
          "peptide_bond",
          "peptide_bond",
          "peptide_bond",
          "peptide_bond",
          "peptide_bond",
          "peptide_bond",
          "peptide_bond",
          "peptide_bond",
          "peptide_bond",
          "peptide_bond",
          "peptide_bond",
          "peptide_bond",
          "peptide_bond",
          "peptide_bond",
          "peptide_bond",
          "peptide_bond",
          "peptide_bond",
          "peptide_bond",
          "peptide_bond",
          "peptide_bond",
          "peptide_bond",
          "peptide_bond",
          "peptide_bond",
          "peptide_bond",
          "peptide_bond",
          "peptide_bond",
          "peptide_bond",
          "peptide_bond",
          "peptide_bond",
          "peptide_bond",
          "peptide_bond",
          "peptide_bond",
          "peptide_bond",
          "peptide_bond",
          "peptide_bond",
          "peptide_bond",
          "peptide_bond",
          "peptide_bond",
          "peptide_bond",
          "peptide_bond",
          "peptide_bond",
          "peptide_bond",
          "peptide_bond",
          "peptide_bond",
          "peptide_bond",
          "peptide_bond",
          "peptide_bond",
          "peptide_bond",
          "peptide_bond",
          "peptide_bond",
          "peptide_bond",
          "peptide_bond",
          "peptide_bond",
          "peptide_bond",
          "peptide_bond",
          "peptide_bond",
          "peptide_bond",
          "peptide_bond",
          "peptide_bond",
          "peptide_bond",
          "peptide_bond",
          "peptide_bond",
          "peptide_bond",
          "peptide_bond",
          "peptide_bond",
          "peptide_bond",
          "peptide_bond",
          "peptide_bond",
          "peptide_bond",
          "peptide_bond",
          "peptide_bond",
          "peptide_bond",
          "peptide_bond",
          "peptide_bond",
          "peptide_bond",
          "peptide_bond",
          "peptide_bond",
          "peptide_bond",
          "peptide_bond",
          "peptide_bond",
          "peptide_bond",
          "peptide_bond",
          "peptide_bond",
          "peptide_bond",
          "peptide_bond",
          "peptide_bond",
          "peptide_bond",
          "peptide_bond",
          "peptide_bond",
          "peptide_bond",
          "peptide_bond",
          "peptide_bond",
          "peptide_bond",
          "peptide_bond",
          "peptide_bond",
          "peptide_bond",
          "peptide_bond",
          "peptide_bond",
          "peptide_bond",
          "peptide_bond",
          "peptide_bond",
          "peptide_bond",
          "peptide_bond",
          "peptide_bond",
          "peptide_bond",
          "peptide_bond",
          "peptide_bond",
          "peptide_bond",
          "peptide_bond",
          "peptide_bond",
          "peptide_bond",
          "peptide_bond",
          "peptide_bond",
          "peptide_bond",
          "peptide_bond",
          "peptide_bond",
          "peptide_bond",
          "peptide_bond",
          "peptide_bond",
          "peptide_bond",
          "peptide_bond",
          "peptide_bond",
          "peptide_bond",
          "peptide_bond",
          "peptide_bond",
          "peptide_bond",
          "peptide_bond",
          "peptide_bond",
          "peptide_bond",
          "peptide_bond",
          "peptide_bond",
          "peptide_bond",
          "peptide_bond",
          "peptide_bond",
          "peptide_bond",
          "peptide_bond",
          "peptide_bond",
          "peptide_bond",
          "peptide_bond",
          "peptide_bond",
          "peptide_bond",
          "peptide_bond",
          "peptide_bond",
          "peptide_bond",
          "peptide_bond",
          "peptide_bond",
          "peptide_bond",
          "peptide_bond",
          "peptide_bond",
          "peptide_bond",
          "peptide_bond",
          "peptide_bond",
          "peptide_bond",
          "peptide_bond",
          "peptide_bond",
          "peptide_bond",
          "peptide_bond",
          "peptide_bond",
          "peptide_bond",
          "peptide_bond",
          "peptide_bond",
          "peptide_bond",
          "peptide_bond",
          "peptide_bond",
          "peptide_bond",
          "peptide_bond",
          "peptide_bond",
          "peptide_bond",
          "peptide_bond",
          "peptide_bond",
          "peptide_bond",
          "peptide_bond",
          "peptide_bond",
          "peptide_bond",
          "peptide_bond",
          "peptide_bond",
          "peptide_bond",
          "peptide_bond",
          "peptide_bond",
          "peptide_bond",
          "peptide_bond",
          "peptide_bond",
          "peptide_bond",
          "peptide_bond",
          "peptide_bond",
          "peptide_bond",
          "peptide_bond",
          "peptide_bond",
          "peptide_bond",
          "peptide_bond",
          "peptide_bond",
          "peptide_bond",
          "peptide_bond",
          "peptide_bond",
          "peptide_bond",
          "peptide_bond",
          "peptide_bond",
          "peptide_bond",
          "peptide_bond",
          "peptide_bond",
          "peptide_bond",
          "peptide_bond",
          "peptide_bond",
          "peptide_bond",
          "peptide_bond",
          "peptide_bond",
          "peptide_bond",
          "peptide_bond",
          "peptide_bond",
          "peptide_bond",
          "peptide_bond",
          "peptide_bond",
          "peptide_bond",
          "peptide_bond",
          "peptide_bond",
          "peptide_bond",
          "peptide_bond",
          "peptide_bond",
          "peptide_bond",
          "peptide_bond",
          "peptide_bond",
          "peptide_bond",
          "peptide_bond",
          "peptide_bond",
          "peptide_bond",
          "peptide_bond",
          "peptide_bond",
          "peptide_bond",
          "peptide_bond",
          "peptide_bond",
          "peptide_bond",
          "peptide_bond",
          "peptide_bond",
          "peptide_bond",
          "peptide_bond",
          "peptide_bond",
          "peptide_bond",
          "peptide_bond",
          "peptide_bond",
          "peptide_bond",
          "peptide_bond",
          "peptide_bond",
          "peptide_bond",
          "peptide_bond",
          "peptide_bond",
          "peptide_bond",
          "peptide_bond",
          "peptide_bond",
          "peptide_bond",
          "peptide_bond",
          "peptide_bond",
          "peptide_bond",
          "peptide_bond",
          "peptide_bond",
          "peptide_bond",
          "peptide_bond",
          "peptide_bond",
          "peptide_bond",
          "peptide_bond",
          "peptide_bond",
          "peptide_bond",
          "peptide_bond",
          "peptide_bond",
          "peptide_bond",
          "peptide_bond",
          "peptide_bond",
          "peptide_bond",
          "peptide_bond",
          "peptide_bond",
          "peptide_bond",
          "peptide_bond",
          "peptide_bond",
          "peptide_bond",
          "peptide_bond",
          "peptide_bond",
          "peptide_bond",
          "peptide_bond",
          "peptide_bond",
          "peptide_bond",
          "peptide_bond",
          "peptide_bond",
          "peptide_bond",
          "peptide_bond",
          "peptide_bond",
          "peptide_bond",
          "peptide_bond",
          "peptide_bond",
          "peptide_bond",
          "peptide_bond",
          "peptide_bond",
          "peptide_bond",
          "peptide_bond",
          "peptide_bond",
          "peptide_bond",
          "peptide_bond",
          "peptide_bond",
          "peptide_bond",
          "peptide_bond",
          "peptide_bond",
          "peptide_bond",
          "peptide_bond",
          "peptide_bond",
          "peptide_bond",
          "peptide_bond",
          "peptide_bond",
          "peptide_bond",
          "peptide_bond",
          "peptide_bond",
          "peptide_bond",
          "peptide_bond",
          "peptide_bond",
          "peptide_bond",
          "peptide_bond",
          "peptide_bond",
          "peptide_bond",
          "peptide_bond",
          "peptide_bond",
          "peptide_bond",
          "peptide_bond",
          "peptide_bond",
          "peptide_bond",
          "peptide_bond",
          "peptide_bond",
          "peptide_bond",
          "peptide_bond",
          "peptide_bond",
          "peptide_bond",
          "peptide_bond",
          "peptide_bond",
          "peptide_bond",
          "peptide_bond",
          "peptide_bond",
          "peptide_bond",
          "peptide_bond",
          "peptide_bond",
          "peptide_bond",
          "peptide_bond",
          "peptide_bond",
          "peptide_bond",
          "peptide_bond",
          "peptide_bond",
          "peptide_bond",
          "peptide_bond",
          "peptide_bond",
          "peptide_bond",
          "peptide_bond",
          "peptide_bond",
          "peptide_bond",
          "peptide_bond",
          "peptide_bond",
          "peptide_bond",
          "peptide_bond",
          "peptide_bond",
          "peptide_bond",
          "peptide_bond",
          "peptide_bond",
          "peptide_bond",
          "peptide_bond",
          "peptide_bond",
          "peptide_bond",
          "peptide_bond",
          "peptide_bond",
          "peptide_bond",
          "peptide_bond",
          "peptide_bond",
          "peptide_bond",
          "peptide_bond",
          "peptide_bond",
          "peptide_bond"
         ],
         "type": "scatter3d",
         "x": [
          -3.59,
          -6.18,
          null,
          -6.18,
          -5.469,
          null,
          -5.469,
          -7.648,
          null,
          -7.648,
          -10.039,
          null,
          -10.039,
          -10.406,
          null,
          -10.406,
          -12.523,
          null,
          -12.523,
          -10.414,
          null,
          -10.414,
          -10.859,
          null,
          -10.859,
          -10.523,
          null,
          -10.523,
          -13.297,
          null,
          -13.297,
          -16.062,
          null,
          -16.062,
          -19.438,
          null,
          -19.438,
          -18.969,
          null,
          -18.969,
          -20.969,
          null,
          -20.969,
          -19.906,
          null,
          -19.906,
          -21.578,
          null,
          -21.578,
          -20.062,
          null,
          -20.062,
          -20.641,
          null,
          -20.641,
          -21.875,
          null,
          -21.875,
          -24.938,
          null,
          -24.938,
          -26.078,
          null,
          -26.078,
          -28.672,
          null,
          -28.672,
          -27.641,
          null,
          -27.641,
          -27.656,
          null,
          -27.656,
          -30.984,
          null,
          -30.984,
          -32.406,
          null,
          -32.406,
          -33.594,
          null,
          -33.594,
          -33.125,
          null,
          -33.125,
          -30.422,
          null,
          -30.422,
          -32.469,
          null,
          -32.469,
          -35.531,
          null,
          -35.531,
          -37.875,
          null,
          -37.875,
          -36.375,
          null,
          -36.375,
          -32.938,
          null,
          -32.938,
          -32.125,
          null,
          -32.125,
          -30.953,
          null,
          -30.953,
          -32.344,
          null,
          -32.344,
          -29.188,
          null,
          -29.188,
          -28.812,
          null,
          -28.812,
          -28.344,
          null,
          -28.344,
          -25.641,
          null,
          -25.641,
          -24.281,
          null,
          -24.281,
          -20.656,
          null,
          -20.656,
          -20.281,
          null,
          -20.281,
          -16.812,
          null,
          -16.812,
          -18.141,
          null,
          -18.141,
          -20.875,
          null,
          -20.875,
          -24.406,
          null,
          -24.406,
          -24.547,
          null,
          -24.547,
          -21.281,
          null,
          -21.281,
          -21.641,
          null,
          -21.641,
          -22.109,
          null,
          -22.109,
          -18.484,
          null,
          -18.484,
          -17.047,
          null,
          -17.047,
          -19.703,
          null,
          -19.703,
          -18.234,
          null,
          -18.234,
          -20.344,
          null,
          -20.344,
          -20.859,
          null,
          -20.859,
          -23.797,
          null,
          -23.797,
          -22.922,
          null,
          -22.922,
          -25.219,
          null,
          -25.219,
          -24.016,
          null,
          -24.016,
          -25.141,
          null,
          -25.141,
          -24.938,
          null,
          -24.938,
          -24.656,
          null,
          -24.656,
          -21.406,
          null,
          -21.406,
          -23.266,
          null,
          -23.266,
          -23.312,
          null,
          -23.312,
          -20.344,
          null,
          -20.344,
          -19.453,
          null,
          -19.453,
          -18.234,
          null,
          -18.234,
          -14.82,
          null,
          -14.82,
          -12.055,
          null,
          -12.055,
          -8.836,
          null,
          -8.836,
          -5.816,
          null,
          -5.816,
          -2.117,
          null,
          -2.117,
          -0.994,
          null,
          -0.994,
          1.251,
          null,
          1.251,
          3.111,
          null,
          3.111,
          0.618,
          null,
          0.618,
          0.608,
          null,
          0.608,
          -0.609,
          null,
          -0.609,
          1.407,
          null,
          1.407,
          3.457,
          null,
          3.457,
          4.949,
          null,
          4.949,
          6.539,
          null,
          6.539,
          10.086,
          null,
          10.086,
          11.805,
          null,
          11.805,
          11.672,
          null,
          11.672,
          14.812,
          null,
          14.812,
          15.422,
          null,
          15.422,
          18.375,
          null,
          18.375,
          18.516,
          null,
          18.516,
          17.281,
          null,
          17.281,
          17.891,
          null,
          17.891,
          16.891,
          null,
          16.891,
          18.531,
          null,
          18.531,
          16.234,
          null,
          16.234,
          13.797,
          null,
          13.797,
          14.289,
          null,
          14.289,
          11.484,
          null,
          11.484,
          10.961,
          null,
          10.961,
          11.938,
          null,
          11.938,
          9,
          null,
          9,
          11.055,
          null,
          11.055,
          11.141,
          null,
          11.141,
          7.684,
          null,
          7.684,
          4.664,
          null,
          4.664,
          3.773,
          null,
          3.773,
          0.917,
          null,
          0.917,
          0.099,
          null,
          0.099,
          -1.63,
          null,
          -1.63,
          0.834,
          null,
          0.834,
          3.662,
          null,
          3.662,
          2.457,
          null,
          2.457,
          4.926,
          null,
          4.926,
          4.262,
          null,
          4.262,
          7.363,
          null,
          7.363,
          6.285,
          null,
          6.285,
          3.256,
          null,
          3.256,
          1.411,
          null,
          1.411,
          -1.991,
          null,
          -1.991,
          -5.023,
          null,
          -5.023,
          -7.031,
          null,
          -7.031,
          -10.086,
          null,
          -10.086,
          -10.273,
          null,
          -10.273,
          -9.719,
          null,
          -9.719,
          -6.582,
          null,
          -6.582,
          -3.211,
          null,
          -3.211,
          -1.263,
          null,
          -1.263,
          0.907,
          null,
          0.907,
          3.586,
          null,
          3.586,
          3.754,
          null,
          3.754,
          6.062,
          null,
          6.062,
          4.555,
          null,
          4.555,
          6.762,
          null,
          6.762,
          5.098,
          null,
          5.098,
          5.859,
          null,
          5.859,
          2.537,
          null,
          2.537,
          -0.915,
          null,
          -0.915,
          -3.9,
          null,
          -3.9,
          -5.891,
          null,
          -5.891,
          -9.633,
          null,
          -9.633,
          -9.07,
          null,
          -9.07,
          -9.445,
          null,
          -9.445,
          -8.547,
          null,
          -8.547,
          -10.336,
          null,
          -10.336,
          -9.195,
          null,
          -9.195,
          -11.734,
          null,
          -11.734,
          -9.227,
          null,
          -9.227,
          -8.141,
          null,
          -8.141,
          -7.191,
          null,
          -7.191,
          -4.258,
          null,
          -4.258,
          -2.01,
          null,
          -2.01,
          0.029,
          null,
          0.029,
          3.395,
          null,
          3.395,
          4.824,
          null,
          4.824,
          8.555,
          null,
          8.555,
          9.312,
          null,
          9.312,
          7.113,
          null,
          7.113,
          3.422,
          null,
          3.422,
          0.277,
          null,
          0.277,
          -2.873,
          null,
          -2.873,
          -5.566,
          null,
          -5.566,
          -9.125,
          null,
          -9.125,
          -11.586,
          null,
          -11.586,
          -15.242,
          null,
          -15.242,
          -15.117,
          null,
          -15.117,
          -13.047,
          null,
          -13.047,
          -9.492,
          null,
          -9.492,
          -6.34,
          null,
          -6.34,
          -2.891,
          null,
          -2.891,
          -0.42,
          null,
          -0.42,
          3.195,
          null,
          3.195,
          6.281,
          null,
          6.281,
          6.121,
          null,
          6.121,
          2.346,
          null,
          2.346,
          0.42,
          null,
          0.42,
          -3.045,
          null,
          -3.045,
          -5.445,
          null,
          -5.445,
          -7.781,
          null,
          -7.781,
          -10.078,
          null,
          -10.078,
          -11.305,
          null,
          -11.305,
          -13.695,
          null,
          -13.695,
          -13.156,
          null,
          -13.156,
          -12.484,
          null,
          -12.484,
          -9.594,
          null,
          -9.594,
          -7.324,
          null,
          -7.324,
          -3.854,
          null,
          -3.854,
          -2.213,
          null,
          -2.213,
          1.479,
          null,
          1.479,
          3.684,
          null,
          3.684,
          7.02,
          null,
          7.02,
          8.688,
          null,
          8.688,
          7.066,
          null,
          7.066,
          7.699,
          null,
          7.699,
          6.473,
          null,
          6.473,
          5.289,
          null,
          5.289,
          1.942,
          null,
          1.942,
          0.799,
          null,
          0.799,
          -2.256,
          null,
          -2.256,
          -4.25,
          null,
          -4.25,
          -7.039,
          null,
          -7.039,
          -10.234,
          null,
          -10.234,
          -9.375,
          null,
          -9.375,
          -9.219,
          null,
          -9.219,
          -6.551,
          null,
          -6.551,
          -7.207,
          null,
          -7.207,
          -5.391,
          null,
          -5.391,
          -3.354,
          null,
          -3.354,
          -4.641,
          null,
          -4.641,
          -2.945,
          null,
          -2.945,
          -2.898,
          null,
          -2.898,
          -0.818,
          null,
          -0.818,
          0.063,
          null,
          0.063,
          -3.404,
          null,
          -3.404,
          -5.574,
          null,
          -5.574,
          -2.639,
          null,
          -2.639,
          0.241,
          null,
          0.241,
          1.204,
          null,
          1.204,
          -1.083,
          null,
          -1.083,
          -3.98,
          null,
          -3.98,
          -7.293,
          null,
          -7.293,
          -7.863,
          null,
          -7.863,
          -4.793,
          null,
          -4.793,
          -6.309,
          null,
          -6.309,
          -7.781,
          null,
          -7.781,
          -10.734,
          null,
          -10.734,
          -11.406,
          null,
          -11.406,
          -14.438,
          null,
          -14.438,
          -17.016,
          null,
          -17.016,
          -15.992,
          null,
          -15.992,
          -17.438,
          null,
          -17.438,
          -17.094,
          null,
          -17.094,
          -19.938,
          null,
          -19.938,
          -18.281,
          null,
          -18.281,
          -18.828,
          null,
          -18.828,
          -15.781,
          null,
          -15.781,
          -15.836,
          null,
          -15.836,
          -14.023,
          null,
          -14.023,
          -14.719,
          null,
          -14.719,
          -13.641,
          null,
          -13.641,
          -11.531,
          null,
          -11.531,
          -12.312,
          null,
          -12.312,
          -9.547,
          null,
          -9.547,
          -10.289,
          null,
          -10.289,
          -8.039,
          null,
          -8.039,
          -10.016,
          null,
          -10.016,
          -8.625,
          null,
          -8.625,
          -5.121,
          null,
          -5.121,
          -5.652,
          null,
          -5.652,
          -6.402,
          null,
          -6.402,
          -9.547,
          null,
          -9.547,
          -10.82,
          null,
          -10.82,
          -14.227,
          null,
          -14.227,
          -15.406,
          null,
          -15.406,
          -18,
          null,
          -18,
          -19.125,
          null,
          -19.125,
          -18.75,
          null,
          -18.75,
          -16.297,
          null,
          -16.297,
          -16.797,
          null,
          -16.797,
          -15.984,
          null,
          -15.984,
          -19.594,
          null,
          -19.594,
          -20.422,
          null,
          -20.422,
          -22.016,
          null,
          -22.016,
          -22.531,
          null,
          -22.531,
          -21.703,
          null,
          -21.703,
          -22.062,
          null,
          -22.062,
          -20.641,
          null,
          -20.641,
          -17.594,
          null,
          -17.594,
          -15.938,
          null,
          -15.938,
          -13.758,
          null,
          -13.758,
          -10.336,
          null,
          -10.336,
          -7.961,
          null,
          -7.961,
          -4.461,
          null,
          -4.461,
          -2.035,
          null,
          -2.035,
          1.01,
          null,
          1.01,
          3.754,
          null,
          3.754,
          5.246,
          null,
          5.246,
          2.236,
          null,
          2.236,
          2.986,
          null,
          2.986,
          3.629,
          null,
          3.629,
          6.73,
          null,
          6.73,
          7.145,
          null,
          7.145,
          10.109,
          null,
          10.109,
          12.258,
          null,
          12.258,
          13.172,
          null,
          13.172,
          15.406,
          null,
          15.406,
          17.156,
          null,
          17.156,
          16.734,
          null,
          16.734,
          15.25,
          null,
          15.25,
          11.484,
          null,
          11.484,
          10.227,
          null,
          10.227,
          9.672,
          null,
          9.672,
          5.977,
          null,
          5.977,
          5.82,
          null,
          5.82,
          6.016,
          null,
          6.016,
          2.947,
          null,
          2.947,
          0.787,
          null,
          0.787,
          -1.828,
          null,
          -1.828,
          -2.598,
          null,
          -2.598,
          -4.605,
          null,
          -4.605,
          -5.531,
          null,
          -5.531,
          -5.895,
          null,
          -5.895,
          -8.453,
          null,
          -8.453,
          -5.801,
          null,
          -5.801,
          -5.73,
          null,
          -5.73,
          -2.494,
          null,
          -2.494,
          -1.434,
          null,
          -1.434,
          -1.586,
          null,
          -1.586,
          -1.841,
          null,
          -1.841,
          0.163,
          null,
          0.163,
          1.472,
          null,
          1.472,
          2.551,
          null,
          2.551,
          5.426,
          null,
          5.426,
          7.504,
          null,
          7.504,
          10.828,
          null,
          10.828,
          10.352,
          null,
          10.352,
          12.836,
          null,
          12.836,
          13.133,
          null,
          13.133,
          15.312,
          null,
          15.312,
          17.5,
          null,
          17.5,
          18.031,
          null,
          18.031,
          18.219,
          null,
          18.219,
          20.984,
          null,
          20.984,
          23.594,
          null,
          23.594,
          21.672,
          null,
          21.672,
          22.703,
          null,
          22.703,
          20.406,
          null,
          20.406,
          20.484,
          null,
          20.484,
          18.172,
          null,
          18.172,
          19.188,
          null,
          19.188,
          20.344,
          null,
          20.344,
          17.453,
          null,
          17.453,
          15.336,
          null,
          15.336,
          11.664,
          null,
          11.664,
          8.633,
          null,
          8.633,
          7.266,
          null,
          7.266,
          8.297,
          null,
          8.297,
          9.844,
          null,
          9.844,
          9.805,
          null,
          9.805,
          11.609,
          null,
          11.609,
          11.414,
          null,
          11.414,
          12.953,
          null,
          12.953,
          10.898,
          null,
          10.898,
          13.695,
          null,
          13.695,
          17.078,
          null,
          17.078,
          19.594,
          null,
          19.594,
          18.828,
          null,
          18.828,
          20.812,
          null,
          20.812,
          21.547,
          null,
          21.547,
          23.047,
          null,
          23.047,
          25.562,
          null,
          25.562,
          26,
          null,
          26,
          23.406,
          null,
          23.406,
          19.781,
          null,
          19.781,
          18.625,
          null,
          18.625,
          15.297,
          null,
          15.297,
          13.125,
          null,
          13.125,
          14.75,
          null,
          14.75,
          13.797,
          null,
          13.797,
          14.805,
          null,
          14.805,
          13.07,
          null,
          13.07,
          13.859,
          null,
          13.859,
          11.742,
          null,
          11.742,
          10.539,
          null,
          10.539,
          13.32,
          null,
          13.32,
          16.031,
          null,
          16.031,
          18.688,
          null,
          18.688,
          19.453,
          null,
          19.453,
          20.609,
          null,
          20.609,
          22.906,
          null,
          22.906,
          26.094,
          null,
          26.094,
          29.625,
          null,
          29.625,
          30.547,
          null,
          30.547,
          27.344,
          null,
          27.344,
          27.891,
          null,
          27.891,
          31.484,
          null,
          31.484,
          30.578,
          null,
          30.578,
          27.438,
          null,
          27.438,
          29.062,
          null,
          29.062,
          31.781,
          null,
          31.781,
          30.203,
          null,
          30.203,
          29.594,
          null,
          29.594,
          25.891,
          null,
          25.891,
          24.297,
          null,
          24.297,
          20.938,
          null,
          20.938,
          20.906,
          null,
          20.906,
          18.625,
          null,
          18.625,
          18.047,
          null,
          18.047,
          16.719,
          null,
          16.719,
          16.359,
          null,
          16.359,
          15.508,
          null,
          15.508,
          14.883,
          null,
          14.883,
          11.68,
          null,
          11.68,
          11.875,
          null,
          11.875,
          8.961,
          null,
          8.961,
          8.242,
          null,
          8.242,
          5.559,
          null,
          5.559,
          5.547,
          null,
          5.547,
          3.559,
          null,
          3.559,
          2.742,
          null,
          2.742,
          2.721,
          null,
          2.721,
          5.742,
          null,
          5.742,
          6.207,
          null,
          6.207,
          7.055,
          null,
          7.055,
          9.156,
          null,
          9.156,
          8.18,
          null,
          8.18,
          10.422,
          null,
          10.422,
          10.398,
          null,
          10.398,
          11.539,
          null,
          11.539,
          14.422,
          null,
          14.422,
          15.625,
          null,
          15.625,
          13.648,
          null,
          13.648,
          13.93,
          null,
          13.93,
          17.75,
          null,
          17.75,
          17.703,
          null,
          17.703,
          18.516,
          null,
          18.516,
          21.688,
          null,
          21.688,
          23.734,
          null,
          23.734,
          26.188,
          null,
          26.188,
          23.797,
          null,
          23.797,
          25.016,
          null,
          25.016,
          28.578,
          null,
          28.578,
          27.672,
          null,
          27.672,
          27.688,
          null,
          27.688,
          30.844,
          null,
          30.844,
          33.312,
          null,
          33.312,
          31.594,
          null,
          31.594,
          34.062,
          null,
          34.062,
          33.75,
          null,
          33.75,
          34.312,
          null,
          34.312,
          33.875,
          null,
          33.875,
          36.469,
          null,
          36.469,
          35.844,
          null,
          35.844,
          37.438,
          null,
          37.438,
          36.594,
          null,
          36.594,
          33.094,
          null,
          33.094,
          33.938,
          null,
          33.938,
          36.5,
          null,
          36.5,
          36.25,
          null,
          36.25,
          37.5,
          null,
          37.5,
          41.25,
          null,
          41.25,
          42.688,
          null
         ],
         "y": [
          -18.422,
          -20.594,
          null,
          -20.594,
          -20.266,
          null,
          -20.266,
          -17.375,
          null,
          -17.375,
          -18.375,
          null,
          -18.375,
          -16.547,
          null,
          -16.547,
          -16.281,
          null,
          -16.281,
          -16.625,
          null,
          -16.625,
          -14.273,
          null,
          -14.273,
          -10.672,
          null,
          -10.672,
          -8.328,
          null,
          -8.328,
          -11.008,
          null,
          -11.008,
          -10.719,
          null,
          -10.719,
          -12.266,
          null,
          -12.266,
          -12.797,
          null,
          -12.797,
          -13.719,
          null,
          -13.719,
          -14.133,
          null,
          -14.133,
          -14.852,
          null,
          -14.852,
          -18.516,
          null,
          -18.516,
          -17.359,
          null,
          -17.359,
          -15.812,
          null,
          -15.812,
          -18.094,
          null,
          -18.094,
          -16.625,
          null,
          -16.625,
          -13.008,
          null,
          -13.008,
          -12.094,
          null,
          -12.094,
          -10.93,
          null,
          -10.93,
          -13.211,
          null,
          -13.211,
          -11.773,
          null,
          -11.773,
          -8.109,
          null,
          -8.109,
          -5.637,
          null,
          -5.637,
          -3.623,
          null,
          -3.623,
          -5.469,
          null,
          -5.469,
          -3.711,
          null,
          -3.711,
          -5.934,
          null,
          -5.934,
          -7.469,
          null,
          -7.469,
          -10.859,
          null,
          -10.859,
          -10.555,
          null,
          -10.555,
          -7.027,
          null,
          -7.027,
          -5.758,
          null,
          -5.758,
          -2.471,
          null,
          -2.471,
          -2.576,
          null,
          -2.576,
          -0.198,
          null,
          -0.198,
          0.33,
          null,
          0.33,
          1.167,
          null,
          1.167,
          2.584,
          null,
          2.584,
          2.547,
          null,
          2.547,
          4.023,
          null,
          4.023,
          6.328,
          null,
          6.328,
          4.828,
          null,
          4.828,
          5.383,
          null,
          5.383,
          3.602,
          null,
          3.602,
          0.732,
          null,
          0.732,
          -2.73,
          null,
          -2.73,
          -3.709,
          null,
          -3.709,
          -0.833,
          null,
          -0.833,
          -0.456,
          null,
          -0.456,
          -1.091,
          null,
          -1.091,
          -1.577,
          null,
          -1.577,
          -3.604,
          null,
          -3.604,
          -4.098,
          null,
          -4.098,
          -4.355,
          null,
          -4.355,
          -5.805,
          null,
          -5.805,
          -4.457,
          null,
          -4.457,
          -4.223,
          null,
          -4.223,
          -0.398,
          null,
          -0.398,
          1.845,
          null,
          1.845,
          3.709,
          null,
          3.709,
          7.027,
          null,
          7.027,
          6.668,
          null,
          6.668,
          8.75,
          null,
          8.75,
          12.133,
          null,
          12.133,
          14.992,
          null,
          14.992,
          14.688,
          null,
          14.688,
          16.953,
          null,
          16.953,
          17.812,
          null,
          17.812,
          16.062,
          null,
          16.062,
          16.641,
          null,
          16.641,
          13.008,
          null,
          13.008,
          11.367,
          null,
          11.367,
          13.242,
          null,
          13.242,
          13.078,
          null,
          13.078,
          15.992,
          null,
          15.992,
          16.984,
          null,
          16.984,
          20.094,
          null,
          20.094,
          19.328,
          null,
          19.328,
          22.859,
          null,
          22.859,
          22.766,
          null,
          22.766,
          22.516,
          null,
          22.516,
          23.266,
          null,
          23.266,
          20.359,
          null,
          20.359,
          18.094,
          null,
          18.094,
          16.516,
          null,
          16.516,
          14.438,
          null,
          14.438,
          10.648,
          null,
          10.648,
          10.047,
          null,
          10.047,
          7.168,
          null,
          7.168,
          6.574,
          null,
          6.574,
          4.309,
          null,
          4.309,
          2.156,
          null,
          2.156,
          4.262,
          null,
          4.262,
          3.912,
          null,
          3.912,
          2.41,
          null,
          2.41,
          4.23,
          null,
          4.23,
          2.143,
          null,
          2.143,
          0.997,
          null,
          0.997,
          1.979,
          null,
          1.979,
          5.629,
          null,
          5.629,
          6.18,
          null,
          6.18,
          4.172,
          null,
          4.172,
          4.586,
          null,
          4.586,
          2.801,
          null,
          2.801,
          2.57,
          null,
          2.57,
          5.984,
          null,
          5.984,
          7.957,
          null,
          7.957,
          6.391,
          null,
          6.391,
          7.457,
          null,
          7.457,
          9.57,
          null,
          9.57,
          10.969,
          null,
          10.969,
          10.586,
          null,
          10.586,
          11.938,
          null,
          11.938,
          12.406,
          null,
          12.406,
          14.367,
          null,
          14.367,
          15.531,
          null,
          15.531,
          16.828,
          null,
          16.828,
          14.93,
          null,
          14.93,
          17.188,
          null,
          17.188,
          16.469,
          null,
          16.469,
          12.734,
          null,
          12.734,
          12.695,
          null,
          12.695,
          11.781,
          null,
          11.781,
          9.594,
          null,
          9.594,
          9.562,
          null,
          9.562,
          7.293,
          null,
          7.293,
          6.777,
          null,
          6.777,
          5.102,
          null,
          5.102,
          3.531,
          null,
          3.531,
          3.092,
          null,
          3.092,
          1.52,
          null,
          1.52,
          -0.415,
          null,
          -0.415,
          -0.747,
          null,
          -0.747,
          -2.057,
          null,
          -2.057,
          0.123,
          null,
          0.123,
          -0.057,
          null,
          -0.057,
          0.784,
          null,
          0.784,
          2.855,
          null,
          2.855,
          2.467,
          null,
          2.467,
          4.297,
          null,
          4.297,
          4.949,
          null,
          4.949,
          6.824,
          null,
          6.824,
          9.055,
          null,
          9.055,
          10.164,
          null,
          10.164,
          6.988,
          null,
          6.988,
          3.318,
          null,
          3.318,
          2.066,
          null,
          2.066,
          -0.523,
          null,
          -0.523,
          -1.631,
          null,
          -1.631,
          -3.389,
          null,
          -3.389,
          -4.758,
          null,
          -4.758,
          -4.852,
          null,
          -4.852,
          -5.852,
          null,
          -5.852,
          -8.266,
          null,
          -8.266,
          -9.25,
          null,
          -9.25,
          -7.156,
          null,
          -7.156,
          -8.453,
          null,
          -8.453,
          -6.289,
          null,
          -6.289,
          -5.977,
          null,
          -5.977,
          -4.695,
          null,
          -4.695,
          -4.293,
          null,
          -4.293,
          -7.395,
          null,
          -7.395,
          -9.656,
          null,
          -9.656,
          -10.359,
          null,
          -10.359,
          -10.422,
          null,
          -10.422,
          -11.555,
          null,
          -11.555,
          -9.844,
          null,
          -9.844,
          -10.922,
          null,
          -10.922,
          -9.586,
          null,
          -9.586,
          -10.562,
          null,
          -10.562,
          -10.18,
          null,
          -10.18,
          -7.074,
          null,
          -7.074,
          -5.91,
          null,
          -5.91,
          -3.318,
          null,
          -3.318,
          -1.531,
          null,
          -1.531,
          0.41,
          null,
          0.41,
          3.924,
          null,
          3.924,
          4.367,
          null,
          4.367,
          0.994,
          null,
          0.994,
          1.081,
          null,
          1.081,
          -0.973,
          null,
          -0.973,
          -1.534,
          null,
          -1.534,
          -3.01,
          null,
          -3.01,
          -5.191,
          null,
          -5.191,
          -5.473,
          null,
          -5.473,
          -7.699,
          null,
          -7.699,
          -5.973,
          null,
          -5.973,
          -2.959,
          null,
          -2.959,
          -2.91,
          null,
          -2.91,
          -0.984,
          null,
          -0.984,
          -0.845,
          null,
          -0.845,
          1.1,
          null,
          1.1,
          2.479,
          null,
          2.479,
          3.457,
          null,
          3.457,
          5.688,
          null,
          5.688,
          6.504,
          null,
          6.504,
          9.172,
          null,
          9.172,
          8.734,
          null,
          8.734,
          5.297,
          null,
          5.297,
          1.653,
          null,
          1.653,
          -0.988,
          null,
          -0.988,
          -3.52,
          null,
          -3.52,
          -6.316,
          null,
          -6.316,
          -5.168,
          null,
          -5.168,
          -5.941,
          null,
          -5.941,
          -9.062,
          null,
          -9.062,
          -8.297,
          null,
          -8.297,
          -10.852,
          null,
          -10.852,
          -12.805,
          null,
          -12.805,
          -14.25,
          null,
          -14.25,
          -15.711,
          null,
          -15.711,
          -16.938,
          null,
          -16.938,
          -14.883,
          null,
          -14.883,
          -12.375,
          null,
          -12.375,
          -12.203,
          null,
          -12.203,
          -14.656,
          null,
          -14.656,
          -13.406,
          null,
          -13.406,
          -16.781,
          null,
          -16.781,
          -16.078,
          null,
          -16.078,
          -12.969,
          null,
          -12.969,
          -13.531,
          null,
          -13.531,
          -11.75,
          null,
          -11.75,
          -11.977,
          null,
          -11.977,
          -13.766,
          null,
          -13.766,
          -11.891,
          null,
          -11.891,
          -11.352,
          null,
          -11.352,
          -9.156,
          null,
          -9.156,
          -8.008,
          null,
          -8.008,
          -6.922,
          null,
          -6.922,
          -5.012,
          null,
          -5.012,
          -1.826,
          null,
          -1.826,
          0.349,
          null,
          0.349,
          2.172,
          null,
          2.172,
          5.527,
          null,
          5.527,
          5.621,
          null,
          5.621,
          3.998,
          null,
          3.998,
          6.379,
          null,
          6.379,
          6.586,
          null,
          6.586,
          8.289,
          null,
          8.289,
          9.641,
          null,
          9.641,
          10.82,
          null,
          10.82,
          13.484,
          null,
          13.484,
          15.766,
          null,
          15.766,
          15.211,
          null,
          15.211,
          15.797,
          null,
          15.797,
          13.695,
          null,
          13.695,
          13.859,
          null,
          13.859,
          11.914,
          null,
          11.914,
          11.062,
          null,
          11.062,
          9.102,
          null,
          9.102,
          6.324,
          null,
          6.324,
          3.824,
          null,
          3.824,
          0.707,
          null,
          0.707,
          -1.13,
          null,
          -1.13,
          -0.344,
          null,
          -0.344,
          -3.941,
          null,
          -3.941,
          -4.875,
          null,
          -4.875,
          -6.137,
          null,
          -6.137,
          -9.523,
          null,
          -9.523,
          -10.188,
          null,
          -10.188,
          -8.57,
          null,
          -8.57,
          -9.047,
          null,
          -9.047,
          -7.195,
          null,
          -7.195,
          -6.645,
          null,
          -6.645,
          -3.805,
          null,
          -3.805,
          -5.621,
          null,
          -5.621,
          -5.59,
          null,
          -5.59,
          -8.172,
          null,
          -8.172,
          -9.555,
          null,
          -9.555,
          -11.219,
          null,
          -11.219,
          -13.383,
          null,
          -13.383,
          -12.047,
          null,
          -12.047,
          -15.523,
          null,
          -15.523,
          -16.547,
          null,
          -16.547,
          -14.078,
          null,
          -14.078,
          -15.859,
          null,
          -15.859,
          -14.25,
          null,
          -14.25,
          -13.758,
          null,
          -13.758,
          -12.469,
          null,
          -12.469,
          -12.797,
          null,
          -12.797,
          -16.422,
          null,
          -16.422,
          -15.727,
          null,
          -15.727,
          -12.414,
          null,
          -12.414,
          -8.758,
          null,
          -8.758,
          -7.152,
          null,
          -7.152,
          -6.742,
          null,
          -6.742,
          -3.59,
          null,
          -3.59,
          -3.834,
          null,
          -3.834,
          -3.273,
          null,
          -3.273,
          -7.035,
          null,
          -7.035,
          -7.523,
          null,
          -7.523,
          -5.375,
          null,
          -5.375,
          -6.934,
          null,
          -6.934,
          -4.176,
          null,
          -4.176,
          -1.012,
          null,
          -1.012,
          2.129,
          null,
          2.129,
          3.438,
          null,
          3.438,
          7.008,
          null,
          7.008,
          8.312,
          null,
          8.312,
          8.109,
          null,
          8.109,
          4.652,
          null,
          4.652,
          2.803,
          null,
          2.803,
          5.305,
          null,
          5.305,
          4.531,
          null,
          4.531,
          6.895,
          null,
          6.895,
          4.262,
          null,
          4.262,
          0.744,
          null,
          0.744,
          -1.711,
          null,
          -1.711,
          -3.623,
          null,
          -3.623,
          -6.375,
          null,
          -6.375,
          -8.031,
          null,
          -8.031,
          -11.602,
          null,
          -11.602,
          -14.523,
          null,
          -14.523,
          -15.883,
          null,
          -15.883,
          -17.578,
          null,
          -17.578,
          -15.406,
          null,
          -15.406,
          -17.172,
          null,
          -17.172,
          -14.367,
          null,
          -14.367,
          -14.867,
          null,
          -14.867,
          -12.219,
          null,
          -12.219,
          -9.727,
          null,
          -9.727,
          -7.273,
          null,
          -7.273,
          -8.711,
          null,
          -8.711,
          -6.027,
          null,
          -6.027,
          -3.129,
          null,
          -3.129,
          -0.935,
          null,
          -0.935,
          2.727,
          null,
          2.727,
          5.113,
          null,
          5.113,
          8.234,
          null,
          8.234,
          7.758,
          null,
          7.758,
          9.914,
          null,
          9.914,
          8.008,
          null,
          8.008,
          8.461,
          null,
          8.461,
          5.379,
          null,
          5.379,
          4.738,
          null,
          4.738,
          1.578,
          null,
          1.578,
          -0.283,
          null,
          -0.283,
          -3.445,
          null,
          -3.445,
          -5.887,
          null,
          -5.887,
          -8.508,
          null,
          -8.508,
          -9.641,
          null,
          -9.641,
          -7.859,
          null,
          -7.859,
          -5.895,
          null,
          -5.895,
          -7.266,
          null,
          -7.266,
          -3.934,
          null,
          -3.934,
          -2.25,
          null,
          -2.25,
          -4.426,
          null,
          -4.426,
          -1.576,
          null,
          -1.576,
          0.694,
          null,
          0.694,
          -0.271,
          null,
          -0.271,
          -2.068,
          null,
          -2.068,
          -3.447,
          null,
          -3.447,
          -0.689,
          null,
          -0.689,
          1.942,
          null,
          1.942,
          3.354,
          null,
          3.354,
          5.215,
          null,
          5.215,
          7.73,
          null,
          7.73,
          8.383,
          null,
          8.383,
          11.32,
          null,
          11.32,
          12.039,
          null,
          12.039,
          12.227,
          null,
          12.227,
          11.672,
          null,
          11.672,
          9.25,
          null,
          9.25,
          6.172,
          null,
          6.172,
          2.482,
          null,
          2.482,
          -0.045,
          null,
          -0.045,
          1.079,
          null,
          1.079,
          0.941,
          null,
          0.941,
          -2.418,
          null,
          -2.418,
          -4.031,
          null,
          -4.031,
          -2.822,
          null,
          -2.822,
          -4.051,
          null,
          -4.051,
          -7.414,
          null,
          -7.414,
          -7.969,
          null,
          -7.969,
          -6.844,
          null,
          -6.844,
          -9.539,
          null,
          -9.539,
          -12.375,
          null,
          -12.375,
          -15.656,
          null,
          -15.656,
          -15.961,
          null,
          -15.961,
          -19.156,
          null,
          -19.156,
          -19.953,
          null,
          -19.953,
          -18.547,
          null,
          -18.547,
          -17.953,
          null,
          -17.953,
          -14.195,
          null,
          -14.195,
          -12.469,
          null,
          -12.469,
          -15.719,
          null,
          -15.719,
          -14.578,
          null,
          -14.578,
          -10.992,
          null,
          -10.992,
          -9.117,
          null,
          -9.117,
          -5.621,
          null,
          -5.621,
          -3.562,
          null,
          -3.562,
          -0.387,
          null,
          -0.387,
          2.24,
          null,
          2.24,
          3.682,
          null,
          3.682,
          6.785,
          null,
          6.785,
          8.969,
          null,
          8.969,
          11.953,
          null,
          11.953,
          14.047,
          null,
          14.047,
          13.344,
          null,
          13.344,
          16.062,
          null,
          16.062,
          15.023,
          null,
          15.023,
          16.234,
          null,
          16.234,
          18.031,
          null,
          18.031,
          14.875,
          null,
          14.875,
          12.828,
          null,
          12.828,
          15.188,
          null,
          15.188,
          16.203,
          null,
          16.203,
          15.195,
          null,
          15.195,
          11.461,
          null,
          11.461,
          11.703,
          null,
          11.703,
          8.781,
          null,
          8.781,
          10.469,
          null,
          10.469,
          9.141,
          null,
          9.141,
          12.156,
          null,
          12.156,
          10.016,
          null,
          10.016,
          8.117,
          null,
          8.117,
          9.758,
          null,
          9.758,
          8.562,
          null,
          8.562,
          5,
          null,
          5,
          6.074,
          null,
          6.074,
          8.438,
          null,
          8.438,
          5.668,
          null,
          5.668,
          4.68,
          null,
          4.68,
          4.91,
          null,
          4.91,
          5.199,
          null,
          5.199,
          1.836,
          null,
          1.836,
          3.346,
          null,
          3.346,
          2.25,
          null,
          2.25,
          4.496,
          null,
          4.496,
          1.778,
          null,
          1.778,
          -1.586,
          null,
          -1.586,
          -2.859,
          null,
          -2.859,
          -6.129,
          null,
          -6.129,
          -5.648,
          null,
          -5.648,
          -9.383,
          null,
          -9.383,
          -10.883,
          null,
          -10.883,
          -11.547,
          null,
          -11.547,
          -10.398,
          null
         ],
         "z": [
          17.359,
          15.469,
          null,
          15.469,
          11.688,
          null,
          11.688,
          10.266,
          null,
          10.266,
          7.496,
          null,
          7.496,
          4.191,
          null,
          4.191,
          1.085,
          null,
          1.085,
          -2.08,
          null,
          -2.08,
          -4.961,
          null,
          -4.961,
          -6.25,
          null,
          -6.25,
          -7.184,
          null,
          -7.184,
          -6.652,
          null,
          -6.652,
          -4.961,
          null,
          -4.961,
          -1.614,
          null,
          -1.614,
          1.456,
          null,
          1.456,
          4.906,
          null,
          4.906,
          8.32,
          null,
          8.32,
          11.688,
          null,
          11.688,
          12.641,
          null,
          12.641,
          16.031,
          null,
          16.031,
          14.289,
          null,
          14.289,
          11.438,
          null,
          11.438,
          9.117,
          null,
          9.117,
          9.852,
          null,
          9.852,
          6.145,
          null,
          6.145,
          4.883,
          null,
          4.883,
          2.188,
          null,
          2.188,
          -1.201,
          null,
          -1.201,
          -0.209,
          null,
          -0.209,
          1.227,
          null,
          1.227,
          3.729,
          null,
          3.729,
          5.223,
          null,
          5.223,
          7.621,
          null,
          7.621,
          10.328,
          null,
          10.328,
          9.93,
          null,
          9.93,
          11.406,
          null,
          11.406,
          14.969,
          null,
          14.969,
          14.922,
          null,
          14.922,
          13.297,
          null,
          13.297,
          11.438,
          null,
          11.438,
          7.719,
          null,
          7.719,
          6.488,
          null,
          6.488,
          3.012,
          null,
          3.012,
          2.26,
          null,
          2.26,
          -1.22,
          null,
          -1.22,
          -2.816,
          null,
          -2.816,
          -6.133,
          null,
          -6.133,
          -7.336,
          null,
          -7.336,
          -7.469,
          null,
          -7.469,
          -11.195,
          null,
          -11.195,
          -12.023,
          null,
          -12.023,
          -14.461,
          null,
          -14.461,
          -12.953,
          null,
          -12.953,
          -13.891,
          null,
          -13.891,
          -11.922,
          null,
          -11.922,
          -9.25,
          null,
          -9.25,
          -5.73,
          null,
          -5.73,
          -2.6,
          null,
          -2.6,
          0.499,
          null,
          0.499,
          2.744,
          null,
          2.744,
          6.426,
          null,
          6.426,
          9.055,
          null,
          9.055,
          12.289,
          null,
          12.289,
          15.945,
          null,
          15.945,
          15.992,
          null,
          15.992,
          13,
          null,
          13,
          12.297,
          null,
          12.297,
          12.469,
          null,
          12.469,
          16.297,
          null,
          16.297,
          17.531,
          null,
          17.531,
          19.047,
          null,
          19.047,
          16.938,
          null,
          16.938,
          15.25,
          null,
          15.25,
          16.531,
          null,
          16.531,
          14.883,
          null,
          14.883,
          16.312,
          null,
          16.312,
          15.883,
          null,
          15.883,
          15.688,
          null,
          15.688,
          13.078,
          null,
          13.078,
          10.352,
          null,
          10.352,
          7.5,
          null,
          7.5,
          5.086,
          null,
          5.086,
          1.743,
          null,
          1.743,
          1.446,
          null,
          1.446,
          -1.635,
          null,
          -1.635,
          -1.607,
          null,
          -1.607,
          1.867,
          null,
          1.867,
          0.439,
          null,
          0.439,
          -2.932,
          null,
          -2.932,
          -5.359,
          null,
          -5.359,
          -5.621,
          null,
          -5.621,
          -9.023,
          null,
          -9.023,
          -7.727,
          null,
          -7.727,
          -7.215,
          null,
          -7.215,
          -3.697,
          null,
          -3.697,
          -1.421,
          null,
          -1.421,
          2.174,
          null,
          2.174,
          4.688,
          null,
          4.688,
          6.777,
          null,
          6.777,
          8.828,
          null,
          8.828,
          12.562,
          null,
          12.562,
          14.609,
          null,
          14.609,
          17.891,
          null,
          17.891,
          20.875,
          null,
          20.875,
          22.984,
          null,
          22.984,
          26.031,
          null,
          26.031,
          24.844,
          null,
          24.844,
          23.547,
          null,
          23.547,
          22.734,
          null,
          22.734,
          19.094,
          null,
          19.094,
          17.406,
          null,
          17.406,
          13.648,
          null,
          13.648,
          13.344,
          null,
          13.344,
          15.445,
          null,
          15.445,
          13.562,
          null,
          13.562,
          10.109,
          null,
          10.109,
          8.141,
          null,
          8.141,
          4.703,
          null,
          4.703,
          2.6,
          null,
          2.6,
          -0.763,
          null,
          -0.763,
          -2.918,
          null,
          -2.918,
          -5.586,
          null,
          -5.586,
          -6.613,
          null,
          -6.613,
          -4.863,
          null,
          -4.863,
          -2.297,
          null,
          -2.297,
          -2.729,
          null,
          -2.729,
          -6.453,
          null,
          -6.453,
          -5.781,
          null,
          -5.781,
          -7.977,
          null,
          -7.977,
          -6.676,
          null,
          -6.676,
          -4.344,
          null,
          -4.344,
          -1.243,
          null,
          -1.243,
          0.005,
          null,
          0.005,
          3.75,
          null,
          3.75,
          6.176,
          null,
          6.176,
          9.219,
          null,
          9.219,
          12.32,
          null,
          12.32,
          15.375,
          null,
          15.375,
          18.5,
          null,
          18.5,
          20.234,
          null,
          20.234,
          19.297,
          null,
          19.297,
          18.719,
          null,
          18.719,
          21.984,
          null,
          21.984,
          21.797,
          null,
          21.797,
          18.734,
          null,
          18.734,
          14.984,
          null,
          14.984,
          11.852,
          null,
          11.852,
          8.602,
          null,
          8.602,
          5.551,
          null,
          5.551,
          3.758,
          null,
          3.758,
          1.223,
          null,
          1.223,
          -0.472,
          null,
          -0.472,
          -0.569,
          null,
          -0.569,
          1.56,
          null,
          1.56,
          0.001,
          null,
          0.001,
          3.033,
          null,
          3.033,
          2.643,
          null,
          2.643,
          5.879,
          null,
          5.879,
          5.93,
          null,
          5.93,
          9.562,
          null,
          9.562,
          11.625,
          null,
          11.625,
          11.203,
          null,
          11.203,
          11.289,
          null,
          11.289,
          12.875,
          null,
          12.875,
          11.305,
          null,
          11.305,
          12.539,
          null,
          12.539,
          9.961,
          null,
          9.961,
          9.75,
          null,
          9.75,
          7.441,
          null,
          7.441,
          9.656,
          null,
          9.656,
          10.742,
          null,
          10.742,
          8.555,
          null,
          8.555,
          9.414,
          null,
          9.414,
          7.066,
          null,
          7.066,
          7.117,
          null,
          7.117,
          5.438,
          null,
          5.438,
          1.727,
          null,
          1.727,
          1.934,
          null,
          1.934,
          1.124,
          null,
          1.124,
          1.97,
          null,
          1.97,
          0.652,
          null,
          0.652,
          2.99,
          null,
          2.99,
          0.81,
          null,
          0.81,
          1.351,
          null,
          1.351,
          4.309,
          null,
          4.309,
          5.984,
          null,
          5.984,
          9.719,
          null,
          9.719,
          10.898,
          null,
          10.898,
          13.906,
          null,
          13.906,
          13.992,
          null,
          13.992,
          16.547,
          null,
          16.547,
          16.672,
          null,
          16.672,
          18.797,
          null,
          18.797,
          18.375,
          null,
          18.375,
          16.719,
          null,
          16.719,
          13.344,
          null,
          13.344,
          10.109,
          null,
          10.109,
          6.566,
          null,
          6.566,
          3.543,
          null,
          3.543,
          2.457,
          null,
          2.457,
          -1.044,
          null,
          -1.044,
          -0.825,
          null,
          -0.825,
          -3.969,
          null,
          -3.969,
          -4.352,
          null,
          -4.352,
          -6.309,
          null,
          -6.309,
          -7.758,
          null,
          -7.758,
          -6.578,
          null,
          -6.578,
          -7.141,
          null,
          -7.141,
          -9.867,
          null,
          -9.867,
          -11.602,
          null,
          -11.602,
          -14.633,
          null,
          -14.633,
          -18.125,
          null,
          -18.125,
          -19.547,
          null,
          -19.547,
          -23.188,
          null,
          -23.188,
          -25.219,
          null,
          -25.219,
          -21.984,
          null,
          -21.984,
          -22.188,
          null,
          -22.188,
          -19.438,
          null,
          -19.438,
          -17.281,
          null,
          -17.281,
          -15.773,
          null,
          -15.773,
          -13.062,
          null,
          -13.062,
          -9.945,
          null,
          -9.945,
          -10.07,
          null,
          -10.07,
          -8.742,
          null,
          -8.742,
          -6.852,
          null,
          -6.852,
          -4.711,
          null,
          -4.711,
          -3.125,
          null,
          -3.125,
          0.292,
          null,
          0.292,
          1.906,
          null,
          1.906,
          5.633,
          null,
          5.633,
          7.043,
          null,
          7.043,
          9.07,
          null,
          9.07,
          12.672,
          null,
          12.672,
          15.297,
          null,
          15.297,
          18.844,
          null,
          18.844,
          21.016,
          null,
          21.016,
          23.719,
          null,
          23.719,
          25.656,
          null,
          25.656,
          26.062,
          null,
          26.062,
          29.359,
          null,
          29.359,
          28.812,
          null,
          28.812,
          25.094,
          null,
          25.094,
          21.812,
          null,
          21.812,
          19.641,
          null,
          19.641,
          15.906,
          null,
          15.906,
          13.93,
          null,
          13.93,
          10.516,
          null,
          10.516,
          7.844,
          null,
          7.844,
          5.973,
          null,
          5.973,
          3.297,
          null,
          3.297,
          4.324,
          null,
          4.324,
          8.062,
          null,
          8.062,
          11.102,
          null,
          11.102,
          13.266,
          null,
          13.266,
          16.188,
          null,
          16.188,
          17.625,
          null,
          17.625,
          20.641,
          null,
          20.641,
          20.984,
          null,
          20.984,
          23.609,
          null,
          23.609,
          21.547,
          null,
          21.547,
          19.281,
          null,
          19.281,
          15.555,
          null,
          15.555,
          14.797,
          null,
          14.797,
          15.398,
          null,
          15.398,
          11.922,
          null,
          11.922,
          12.211,
          null,
          12.211,
          8.508,
          null,
          8.508,
          5.184,
          null,
          5.184,
          1.438,
          null,
          1.438,
          -1.55,
          null,
          -1.55,
          -3.814,
          null,
          -3.814,
          -1.852,
          null,
          -1.852,
          0.755,
          null,
          0.755,
          2.258,
          null,
          2.258,
          0.906,
          null,
          0.906,
          1.184,
          null,
          1.184,
          -1.218,
          null,
          -1.218,
          -0.825,
          null,
          -0.825,
          -3.131,
          null,
          -3.131,
          -3.387,
          null,
          -3.387,
          -5.355,
          null,
          -5.355,
          -8.148,
          null,
          -8.148,
          -11.438,
          null,
          -11.438,
          -12.828,
          null,
          -12.828,
          -16.594,
          null,
          -16.594,
          -18.375,
          null,
          -18.375,
          -21.531,
          null,
          -21.531,
          -22.234,
          null,
          -22.234,
          -25.281,
          null,
          -25.281,
          -25.234,
          null,
          -25.234,
          -23.984,
          null,
          -23.984,
          -20.953,
          null,
          -20.953,
          -20.562,
          null,
          -20.562,
          -18.906,
          null,
          -18.906,
          -15.195,
          null,
          -15.195,
          -15.797,
          null,
          -15.797,
          -16.562,
          null,
          -16.562,
          -12.773,
          null,
          -12.773,
          -11.914,
          null,
          -11.914,
          -9.141,
          null,
          -9.141,
          -8.742,
          null,
          -8.742,
          -10.703,
          null,
          -10.703,
          -9.938,
          null,
          -9.938,
          -13.383,
          null,
          -13.383,
          -14.383,
          null,
          -14.383,
          -16.766,
          null,
          -16.766,
          -19.469,
          null,
          -19.469,
          -21.031,
          null,
          -21.031,
          -20.344,
          null,
          -20.344,
          -17.672,
          null,
          -17.672,
          -13.93,
          null,
          -13.93,
          -11.055,
          null,
          -11.055,
          -9.398,
          null,
          -9.398,
          -10.062,
          null,
          -10.062,
          -7.383,
          null,
          -7.383,
          -8.953,
          null,
          -8.953,
          -7.387,
          null,
          -7.387,
          -8.148,
          null,
          -8.148,
          -7.043,
          null,
          -7.043,
          -7.082,
          null,
          -7.082,
          -10.57,
          null,
          -10.57,
          -13.227,
          null,
          -13.227,
          -15.383,
          null,
          -15.383,
          -18.734,
          null,
          -18.734,
          -21.406,
          null,
          -21.406,
          -24.016,
          null,
          -24.016,
          -24.703,
          null,
          -24.703,
          -22.5,
          null,
          -22.5,
          -19.844,
          null,
          -19.844,
          -17.203,
          null,
          -17.203,
          -14.594,
          null,
          -14.594,
          -14.906,
          null,
          -14.906,
          -17.875,
          null,
          -17.875,
          -17.656,
          null,
          -17.656,
          -18.406,
          null,
          -18.406,
          -17.969,
          null,
          -17.969,
          -17.359,
          null,
          -17.359,
          -17.688,
          null,
          -17.688,
          -14.578,
          null,
          -14.578,
          -11,
          null,
          -11,
          -9.367,
          null,
          -9.367,
          -5.648,
          null,
          -5.648,
          -4.727,
          null,
          -4.727,
          -1.425,
          null,
          -1.425,
          -0.006,
          null,
          -0.006,
          2.086,
          null,
          2.086,
          2.736,
          null,
          2.736,
          1.447,
          null,
          1.447,
          -0.843,
          null,
          -0.843,
          -3.971,
          null,
          -3.971,
          -7.023,
          null,
          -7.023,
          -8.703,
          null,
          -8.703,
          -5.637,
          null,
          -5.637,
          -3.729,
          null,
          -3.729,
          -1.081,
          null,
          -1.081,
          0.664,
          null,
          0.664,
          -0.478,
          null,
          -0.478,
          2.67,
          null,
          2.67,
          3.885,
          null,
          3.885,
          5.359,
          null,
          5.359,
          3.193,
          null,
          3.193,
          -0.16,
          null,
          -0.16,
          -3.307,
          null,
          -3.307,
          -5.453,
          null,
          -5.453,
          -9.039,
          null,
          -9.039,
          -10.133,
          null,
          -10.133,
          -13.562,
          null,
          -13.562,
          -16.078,
          null,
          -16.078,
          -13.492,
          null,
          -13.492,
          -15.016,
          null,
          -15.016,
          -13.07,
          null,
          -13.07,
          -13.289,
          null,
          -13.289,
          -11.805,
          null,
          -11.805,
          -9.961,
          null,
          -9.961,
          -11.547,
          null,
          -11.547,
          -9.945,
          null,
          -9.945,
          -11.094,
          null,
          -11.094,
          -14.609,
          null,
          -14.609,
          -14.766,
          null,
          -14.766,
          -13.359,
          null,
          -13.359,
          -15.461,
          null,
          -15.461,
          -18.672,
          null,
          -18.672,
          -18.422,
          null,
          -18.422,
          -16.625,
          null,
          -16.625,
          -18.438,
          null,
          -18.438,
          -18.984,
          null,
          -18.984,
          -17.656,
          null,
          -17.656,
          -16.141,
          null,
          -16.141,
          -12.578,
          null,
          -12.578,
          -9.648,
          null,
          -9.648,
          -8.992,
          null,
          -8.992,
          -5.902,
          null,
          -5.902,
          -3.879,
          null,
          -3.879,
          -0.344,
          null,
          -0.344,
          -1.642,
          null,
          -1.642,
          -2.283,
          null,
          -2.283,
          -3.691,
          null,
          -3.691,
          -4.93,
          null,
          -4.93,
          -6.77,
          null,
          -6.77,
          -6.574,
          null,
          -6.574,
          -10.07,
          null,
          -10.07,
          -10.75,
          null,
          -10.75,
          -13.711,
          null,
          -13.711,
          -11.336,
          null,
          -11.336,
          -10.383,
          null,
          -10.383,
          -6.688,
          null,
          -6.688,
          -4.211,
          null,
          -4.211,
          -1.245,
          null,
          -1.245,
          2.209,
          null,
          2.209,
          4.777,
          null,
          4.777,
          6.848,
          null,
          6.848,
          3.887,
          null,
          3.887,
          3.031,
          null,
          3.031,
          6.422,
          null,
          6.422,
          9.602,
          null,
          9.602,
          9.016,
          null,
          9.016,
          8.992,
          null,
          8.992,
          6.688,
          null,
          6.688,
          3.395,
          null,
          3.395,
          1.835,
          null,
          1.835,
          0.685,
          null,
          0.685,
          -1.145,
          null,
          -1.145,
          -3.336,
          null,
          -3.336,
          -6.531,
          null,
          -6.531,
          -5.836,
          null,
          -5.836,
          -6.801,
          null,
          -6.801,
          -10.5,
          null,
          -10.5,
          -10.375,
          null,
          -10.375,
          -11.031,
          null,
          -11.031,
          -14.383,
          null,
          -14.383,
          -17.281,
          null,
          -17.281,
          -20.938,
          null,
          -20.938,
          -22.609,
          null,
          -22.609,
          -26.125,
          null,
          -26.125,
          -28.703,
          null,
          -28.703,
          -31.953,
          null,
          -31.953,
          -34.281,
          null,
          -34.281,
          -32.812,
          null,
          -32.812,
          -33.531,
          null,
          -33.531,
          -31.641,
          null,
          -31.641,
          -28.812,
          null,
          -28.812,
          -27.922,
          null,
          -27.922,
          -31.219,
          null,
          -31.219,
          -30.938,
          null,
          -30.938,
          -34.25,
          null
         ]
        }
       ],
       "layout": {
        "height": 650,
        "margin": {
         "t": 100
        },
        "scene": {
         "xaxis": {
          "showbackground": false,
          "showgrid": false,
          "showline": false,
          "showticklabels": false,
          "title": {
           "text": ""
          },
          "zeroline": false
         },
         "yaxis": {
          "showbackground": false,
          "showgrid": false,
          "showline": false,
          "showticklabels": false,
          "title": {
           "text": ""
          },
          "zeroline": false
         },
         "zaxis": {
          "showbackground": false,
          "showgrid": false,
          "showline": false,
          "showticklabels": false,
          "title": {
           "text": ""
          },
          "zeroline": false
         }
        },
        "showlegend": false,
        "template": {
         "data": {
          "bar": [
           {
            "error_x": {
             "color": "#2a3f5f"
            },
            "error_y": {
             "color": "#2a3f5f"
            },
            "marker": {
             "line": {
              "color": "#E5ECF6",
              "width": 0.5
             },
             "pattern": {
              "fillmode": "overlay",
              "size": 10,
              "solidity": 0.2
             }
            },
            "type": "bar"
           }
          ],
          "barpolar": [
           {
            "marker": {
             "line": {
              "color": "#E5ECF6",
              "width": 0.5
             },
             "pattern": {
              "fillmode": "overlay",
              "size": 10,
              "solidity": 0.2
             }
            },
            "type": "barpolar"
           }
          ],
          "carpet": [
           {
            "aaxis": {
             "endlinecolor": "#2a3f5f",
             "gridcolor": "white",
             "linecolor": "white",
             "minorgridcolor": "white",
             "startlinecolor": "#2a3f5f"
            },
            "baxis": {
             "endlinecolor": "#2a3f5f",
             "gridcolor": "white",
             "linecolor": "white",
             "minorgridcolor": "white",
             "startlinecolor": "#2a3f5f"
            },
            "type": "carpet"
           }
          ],
          "choropleth": [
           {
            "colorbar": {
             "outlinewidth": 0,
             "ticks": ""
            },
            "type": "choropleth"
           }
          ],
          "contour": [
           {
            "colorbar": {
             "outlinewidth": 0,
             "ticks": ""
            },
            "colorscale": [
             [
              0,
              "#0d0887"
             ],
             [
              0.1111111111111111,
              "#46039f"
             ],
             [
              0.2222222222222222,
              "#7201a8"
             ],
             [
              0.3333333333333333,
              "#9c179e"
             ],
             [
              0.4444444444444444,
              "#bd3786"
             ],
             [
              0.5555555555555556,
              "#d8576b"
             ],
             [
              0.6666666666666666,
              "#ed7953"
             ],
             [
              0.7777777777777778,
              "#fb9f3a"
             ],
             [
              0.8888888888888888,
              "#fdca26"
             ],
             [
              1,
              "#f0f921"
             ]
            ],
            "type": "contour"
           }
          ],
          "contourcarpet": [
           {
            "colorbar": {
             "outlinewidth": 0,
             "ticks": ""
            },
            "type": "contourcarpet"
           }
          ],
          "heatmap": [
           {
            "colorbar": {
             "outlinewidth": 0,
             "ticks": ""
            },
            "colorscale": [
             [
              0,
              "#0d0887"
             ],
             [
              0.1111111111111111,
              "#46039f"
             ],
             [
              0.2222222222222222,
              "#7201a8"
             ],
             [
              0.3333333333333333,
              "#9c179e"
             ],
             [
              0.4444444444444444,
              "#bd3786"
             ],
             [
              0.5555555555555556,
              "#d8576b"
             ],
             [
              0.6666666666666666,
              "#ed7953"
             ],
             [
              0.7777777777777778,
              "#fb9f3a"
             ],
             [
              0.8888888888888888,
              "#fdca26"
             ],
             [
              1,
              "#f0f921"
             ]
            ],
            "type": "heatmap"
           }
          ],
          "heatmapgl": [
           {
            "colorbar": {
             "outlinewidth": 0,
             "ticks": ""
            },
            "colorscale": [
             [
              0,
              "#0d0887"
             ],
             [
              0.1111111111111111,
              "#46039f"
             ],
             [
              0.2222222222222222,
              "#7201a8"
             ],
             [
              0.3333333333333333,
              "#9c179e"
             ],
             [
              0.4444444444444444,
              "#bd3786"
             ],
             [
              0.5555555555555556,
              "#d8576b"
             ],
             [
              0.6666666666666666,
              "#ed7953"
             ],
             [
              0.7777777777777778,
              "#fb9f3a"
             ],
             [
              0.8888888888888888,
              "#fdca26"
             ],
             [
              1,
              "#f0f921"
             ]
            ],
            "type": "heatmapgl"
           }
          ],
          "histogram": [
           {
            "marker": {
             "pattern": {
              "fillmode": "overlay",
              "size": 10,
              "solidity": 0.2
             }
            },
            "type": "histogram"
           }
          ],
          "histogram2d": [
           {
            "colorbar": {
             "outlinewidth": 0,
             "ticks": ""
            },
            "colorscale": [
             [
              0,
              "#0d0887"
             ],
             [
              0.1111111111111111,
              "#46039f"
             ],
             [
              0.2222222222222222,
              "#7201a8"
             ],
             [
              0.3333333333333333,
              "#9c179e"
             ],
             [
              0.4444444444444444,
              "#bd3786"
             ],
             [
              0.5555555555555556,
              "#d8576b"
             ],
             [
              0.6666666666666666,
              "#ed7953"
             ],
             [
              0.7777777777777778,
              "#fb9f3a"
             ],
             [
              0.8888888888888888,
              "#fdca26"
             ],
             [
              1,
              "#f0f921"
             ]
            ],
            "type": "histogram2d"
           }
          ],
          "histogram2dcontour": [
           {
            "colorbar": {
             "outlinewidth": 0,
             "ticks": ""
            },
            "colorscale": [
             [
              0,
              "#0d0887"
             ],
             [
              0.1111111111111111,
              "#46039f"
             ],
             [
              0.2222222222222222,
              "#7201a8"
             ],
             [
              0.3333333333333333,
              "#9c179e"
             ],
             [
              0.4444444444444444,
              "#bd3786"
             ],
             [
              0.5555555555555556,
              "#d8576b"
             ],
             [
              0.6666666666666666,
              "#ed7953"
             ],
             [
              0.7777777777777778,
              "#fb9f3a"
             ],
             [
              0.8888888888888888,
              "#fdca26"
             ],
             [
              1,
              "#f0f921"
             ]
            ],
            "type": "histogram2dcontour"
           }
          ],
          "mesh3d": [
           {
            "colorbar": {
             "outlinewidth": 0,
             "ticks": ""
            },
            "type": "mesh3d"
           }
          ],
          "parcoords": [
           {
            "line": {
             "colorbar": {
              "outlinewidth": 0,
              "ticks": ""
             }
            },
            "type": "parcoords"
           }
          ],
          "pie": [
           {
            "automargin": true,
            "type": "pie"
           }
          ],
          "scatter": [
           {
            "fillpattern": {
             "fillmode": "overlay",
             "size": 10,
             "solidity": 0.2
            },
            "type": "scatter"
           }
          ],
          "scatter3d": [
           {
            "line": {
             "colorbar": {
              "outlinewidth": 0,
              "ticks": ""
             }
            },
            "marker": {
             "colorbar": {
              "outlinewidth": 0,
              "ticks": ""
             }
            },
            "type": "scatter3d"
           }
          ],
          "scattercarpet": [
           {
            "marker": {
             "colorbar": {
              "outlinewidth": 0,
              "ticks": ""
             }
            },
            "type": "scattercarpet"
           }
          ],
          "scattergeo": [
           {
            "marker": {
             "colorbar": {
              "outlinewidth": 0,
              "ticks": ""
             }
            },
            "type": "scattergeo"
           }
          ],
          "scattergl": [
           {
            "marker": {
             "colorbar": {
              "outlinewidth": 0,
              "ticks": ""
             }
            },
            "type": "scattergl"
           }
          ],
          "scattermapbox": [
           {
            "marker": {
             "colorbar": {
              "outlinewidth": 0,
              "ticks": ""
             }
            },
            "type": "scattermapbox"
           }
          ],
          "scatterpolar": [
           {
            "marker": {
             "colorbar": {
              "outlinewidth": 0,
              "ticks": ""
             }
            },
            "type": "scatterpolar"
           }
          ],
          "scatterpolargl": [
           {
            "marker": {
             "colorbar": {
              "outlinewidth": 0,
              "ticks": ""
             }
            },
            "type": "scatterpolargl"
           }
          ],
          "scatterternary": [
           {
            "marker": {
             "colorbar": {
              "outlinewidth": 0,
              "ticks": ""
             }
            },
            "type": "scatterternary"
           }
          ],
          "surface": [
           {
            "colorbar": {
             "outlinewidth": 0,
             "ticks": ""
            },
            "colorscale": [
             [
              0,
              "#0d0887"
             ],
             [
              0.1111111111111111,
              "#46039f"
             ],
             [
              0.2222222222222222,
              "#7201a8"
             ],
             [
              0.3333333333333333,
              "#9c179e"
             ],
             [
              0.4444444444444444,
              "#bd3786"
             ],
             [
              0.5555555555555556,
              "#d8576b"
             ],
             [
              0.6666666666666666,
              "#ed7953"
             ],
             [
              0.7777777777777778,
              "#fb9f3a"
             ],
             [
              0.8888888888888888,
              "#fdca26"
             ],
             [
              1,
              "#f0f921"
             ]
            ],
            "type": "surface"
           }
          ],
          "table": [
           {
            "cells": {
             "fill": {
              "color": "#EBF0F8"
             },
             "line": {
              "color": "white"
             }
            },
            "header": {
             "fill": {
              "color": "#C8D4E3"
             },
             "line": {
              "color": "white"
             }
            },
            "type": "table"
           }
          ]
         },
         "layout": {
          "annotationdefaults": {
           "arrowcolor": "#2a3f5f",
           "arrowhead": 0,
           "arrowwidth": 1
          },
          "autotypenumbers": "strict",
          "coloraxis": {
           "colorbar": {
            "outlinewidth": 0,
            "ticks": ""
           }
          },
          "colorscale": {
           "diverging": [
            [
             0,
             "#8e0152"
            ],
            [
             0.1,
             "#c51b7d"
            ],
            [
             0.2,
             "#de77ae"
            ],
            [
             0.3,
             "#f1b6da"
            ],
            [
             0.4,
             "#fde0ef"
            ],
            [
             0.5,
             "#f7f7f7"
            ],
            [
             0.6,
             "#e6f5d0"
            ],
            [
             0.7,
             "#b8e186"
            ],
            [
             0.8,
             "#7fbc41"
            ],
            [
             0.9,
             "#4d9221"
            ],
            [
             1,
             "#276419"
            ]
           ],
           "sequential": [
            [
             0,
             "#0d0887"
            ],
            [
             0.1111111111111111,
             "#46039f"
            ],
            [
             0.2222222222222222,
             "#7201a8"
            ],
            [
             0.3333333333333333,
             "#9c179e"
            ],
            [
             0.4444444444444444,
             "#bd3786"
            ],
            [
             0.5555555555555556,
             "#d8576b"
            ],
            [
             0.6666666666666666,
             "#ed7953"
            ],
            [
             0.7777777777777778,
             "#fb9f3a"
            ],
            [
             0.8888888888888888,
             "#fdca26"
            ],
            [
             1,
             "#f0f921"
            ]
           ],
           "sequentialminus": [
            [
             0,
             "#0d0887"
            ],
            [
             0.1111111111111111,
             "#46039f"
            ],
            [
             0.2222222222222222,
             "#7201a8"
            ],
            [
             0.3333333333333333,
             "#9c179e"
            ],
            [
             0.4444444444444444,
             "#bd3786"
            ],
            [
             0.5555555555555556,
             "#d8576b"
            ],
            [
             0.6666666666666666,
             "#ed7953"
            ],
            [
             0.7777777777777778,
             "#fb9f3a"
            ],
            [
             0.8888888888888888,
             "#fdca26"
            ],
            [
             1,
             "#f0f921"
            ]
           ]
          },
          "colorway": [
           "#636efa",
           "#EF553B",
           "#00cc96",
           "#ab63fa",
           "#FFA15A",
           "#19d3f3",
           "#FF6692",
           "#B6E880",
           "#FF97FF",
           "#FECB52"
          ],
          "font": {
           "color": "#2a3f5f"
          },
          "geo": {
           "bgcolor": "white",
           "lakecolor": "white",
           "landcolor": "#E5ECF6",
           "showlakes": true,
           "showland": true,
           "subunitcolor": "white"
          },
          "hoverlabel": {
           "align": "left"
          },
          "hovermode": "closest",
          "mapbox": {
           "style": "light"
          },
          "paper_bgcolor": "white",
          "plot_bgcolor": "#E5ECF6",
          "polar": {
           "angularaxis": {
            "gridcolor": "white",
            "linecolor": "white",
            "ticks": ""
           },
           "bgcolor": "#E5ECF6",
           "radialaxis": {
            "gridcolor": "white",
            "linecolor": "white",
            "ticks": ""
           }
          },
          "scene": {
           "xaxis": {
            "backgroundcolor": "#E5ECF6",
            "gridcolor": "white",
            "gridwidth": 2,
            "linecolor": "white",
            "showbackground": true,
            "ticks": "",
            "zerolinecolor": "white"
           },
           "yaxis": {
            "backgroundcolor": "#E5ECF6",
            "gridcolor": "white",
            "gridwidth": 2,
            "linecolor": "white",
            "showbackground": true,
            "ticks": "",
            "zerolinecolor": "white"
           },
           "zaxis": {
            "backgroundcolor": "#E5ECF6",
            "gridcolor": "white",
            "gridwidth": 2,
            "linecolor": "white",
            "showbackground": true,
            "ticks": "",
            "zerolinecolor": "white"
           }
          },
          "shapedefaults": {
           "line": {
            "color": "#2a3f5f"
           }
          },
          "ternary": {
           "aaxis": {
            "gridcolor": "white",
            "linecolor": "white",
            "ticks": ""
           },
           "baxis": {
            "gridcolor": "white",
            "linecolor": "white",
            "ticks": ""
           },
           "bgcolor": "#E5ECF6",
           "caxis": {
            "gridcolor": "white",
            "linecolor": "white",
            "ticks": ""
           }
          },
          "title": {
           "x": 0.05
          },
          "xaxis": {
           "automargin": true,
           "gridcolor": "white",
           "linecolor": "white",
           "ticks": "",
           "title": {
            "standoff": 15
           },
           "zerolinecolor": "white",
           "zerolinewidth": 2
          },
          "yaxis": {
           "automargin": true,
           "gridcolor": "white",
           "linecolor": "white",
           "ticks": "",
           "title": {
            "standoff": 15
           },
           "zerolinecolor": "white",
           "zerolinewidth": 2
          }
         }
        },
        "title": {
         "text": "Peptide backbone graph. Nodes coloured by degree."
        },
        "width": 620
       }
      }
     },
     "metadata": {},
     "output_type": "display_data"
    }
   ],
   "source": [
    "from graphein.protein.visualisation import plotly_protein_structure_graph\n",
    "\n",
    "p = plotly_protein_structure_graph(\n",
    "    graphs['G161R'],\n",
    "    colour_edges_by=\"kind\",\n",
    "    colour_nodes_by=\"degree\",\n",
    "    label_node_ids=False,\n",
    "    plot_title=\"Peptide backbone graph. Nodes coloured by degree.\",\n",
    "    node_size_multiplier=1\n",
    "    )\n",
    "p.show()"
   ]
  },
  {
   "cell_type": "code",
   "execution_count": 17,
   "metadata": {},
   "outputs": [
    {
     "data": {
      "application/vnd.jupyter.widget-view+json": {
       "model_id": "552dc502b16c49c090a3fb83cf04f9c7",
       "version_major": 2,
       "version_minor": 0
      },
      "text/plain": []
     },
     "metadata": {},
     "output_type": "display_data"
    },
    {
     "data": {
      "application/vnd.jupyter.widget-view+json": {
       "model_id": "44ef63bdd57b41399688dae59f249e9d",
       "version_major": 2,
       "version_minor": 0
      },
      "text/plain": [
       "NGLWidget()"
      ]
     },
     "metadata": {},
     "output_type": "display_data"
    }
   ],
   "source": [
    "# plot structures['G161R'] \n",
    "\n",
    "import nglview as nv\n",
    "view = nv.show_biopython(structures['G161R'])\n",
    "view\n"
   ]
  },
  {
   "cell_type": "code",
   "execution_count": 18,
   "metadata": {},
   "outputs": [],
   "source": [
    "# save the graphs\n",
    "os.makedirs('../datasets/graphs/', exist_ok=True)\n",
    "for i, graph in enumerate(graphs):\n",
    "    mut = df.iloc[i]['mutation']\n",
    "    with open(f'../datasets/graphs/graph_{mut}.gpickle', 'wb') as f:\n",
    "        pickle.dump(graph, f)"
   ]
  },
  {
   "cell_type": "markdown",
   "metadata": {},
   "source": [
    "## Associate to each patient its mutations"
   ]
  },
  {
   "cell_type": "code",
   "execution_count": 19,
   "metadata": {},
   "outputs": [],
   "source": [
    "import pandas as pd\n",
    "df_patients =pd.read_excel('../datasets/aku_prin_v2.0.xlsx')"
   ]
  },
  {
   "cell_type": "code",
   "execution_count": 20,
   "metadata": {},
   "outputs": [],
   "source": [
    "df_patients = df_patients[['Protein change allele 1 ', 'Protein change allele 2']]"
   ]
  },
  {
   "cell_type": "code",
   "execution_count": 21,
   "metadata": {},
   "outputs": [],
   "source": [
    "df_patients['graph_allele1'] = [graphs[mut] if mut in graphs else None for mut in df_patients['Protein change allele 1 '] ]\n",
    "df_patients['graph_allele2'] = [graphs[mut] if mut in graphs else None for mut in df_patients['Protein change allele 2'] ]\n",
    "df_patients['structure_allele1'] = [structures[mut] if mut in structures else None for mut in df_patients['Protein change allele 1 '] ] \n",
    "df_patients['structure_allele2'] = [structures[mut] if mut in structures else None for mut in df_patients['Protein change allele 2'] ]"
   ]
  },
  {
   "cell_type": "code",
   "execution_count": 22,
   "metadata": {},
   "outputs": [
    {
     "data": {
      "text/html": [
       "<div>\n",
       "<style scoped>\n",
       "    .dataframe tbody tr th:only-of-type {\n",
       "        vertical-align: middle;\n",
       "    }\n",
       "\n",
       "    .dataframe tbody tr th {\n",
       "        vertical-align: top;\n",
       "    }\n",
       "\n",
       "    .dataframe thead th {\n",
       "        text-align: right;\n",
       "    }\n",
       "</style>\n",
       "<table border=\"1\" class=\"dataframe\">\n",
       "  <thead>\n",
       "    <tr style=\"text-align: right;\">\n",
       "      <th></th>\n",
       "      <th>Protein change allele 1</th>\n",
       "      <th>Protein change allele 2</th>\n",
       "      <th>graph_allele1</th>\n",
       "      <th>graph_allele2</th>\n",
       "      <th>structure_allele1</th>\n",
       "      <th>structure_allele2</th>\n",
       "    </tr>\n",
       "  </thead>\n",
       "  <tbody>\n",
       "    <tr>\n",
       "      <th>0</th>\n",
       "      <td>G161R</td>\n",
       "      <td>His371Profs</td>\n",
       "      <td>(A:MET:1, A:ALA:2, A:GLU:3, A:LEU:4, A:LYS:5, ...</td>\n",
       "      <td>None</td>\n",
       "      <td>(((&lt;Residue MET het=  resseq=1 icode= &gt;, &lt;Resi...</td>\n",
       "      <td>None</td>\n",
       "    </tr>\n",
       "    <tr>\n",
       "      <th>1</th>\n",
       "      <td>G161R</td>\n",
       "      <td>G161R</td>\n",
       "      <td>(A:MET:1, A:ALA:2, A:GLU:3, A:LEU:4, A:LYS:5, ...</td>\n",
       "      <td>(A:MET:1, A:ALA:2, A:GLU:3, A:LEU:4, A:LYS:5, ...</td>\n",
       "      <td>(((&lt;Residue MET het=  resseq=1 icode= &gt;, &lt;Resi...</td>\n",
       "      <td>(((&lt;Residue MET het=  resseq=1 icode= &gt;, &lt;Resi...</td>\n",
       "    </tr>\n",
       "    <tr>\n",
       "      <th>2</th>\n",
       "      <td>G161R</td>\n",
       "      <td>M368V</td>\n",
       "      <td>(A:MET:1, A:ALA:2, A:GLU:3, A:LEU:4, A:LYS:5, ...</td>\n",
       "      <td>(A:MET:1, A:ALA:2, A:GLU:3, A:LEU:4, A:LYS:5, ...</td>\n",
       "      <td>(((&lt;Residue MET het=  resseq=1 icode= &gt;, &lt;Resi...</td>\n",
       "      <td>(((&lt;Residue MET het=  resseq=1 icode= &gt;, &lt;Resi...</td>\n",
       "    </tr>\n",
       "    <tr>\n",
       "      <th>3</th>\n",
       "      <td>Y6_G29del ivs1-1G&gt;A</td>\n",
       "      <td>Y6_G29del ivs1-1G&gt;A</td>\n",
       "      <td>None</td>\n",
       "      <td>None</td>\n",
       "      <td>None</td>\n",
       "      <td>None</td>\n",
       "    </tr>\n",
       "    <tr>\n",
       "      <th>4</th>\n",
       "      <td>G161R</td>\n",
       "      <td>G161R</td>\n",
       "      <td>(A:MET:1, A:ALA:2, A:GLU:3, A:LEU:4, A:LYS:5, ...</td>\n",
       "      <td>(A:MET:1, A:ALA:2, A:GLU:3, A:LEU:4, A:LYS:5, ...</td>\n",
       "      <td>(((&lt;Residue MET het=  resseq=1 icode= &gt;, &lt;Resi...</td>\n",
       "      <td>(((&lt;Residue MET het=  resseq=1 icode= &gt;, &lt;Resi...</td>\n",
       "    </tr>\n",
       "    <tr>\n",
       "      <th>...</th>\n",
       "      <td>...</td>\n",
       "      <td>...</td>\n",
       "      <td>...</td>\n",
       "      <td>...</td>\n",
       "      <td>...</td>\n",
       "      <td>...</td>\n",
       "    </tr>\n",
       "    <tr>\n",
       "      <th>214</th>\n",
       "      <td>G251D</td>\n",
       "      <td>del ex13 (MLPA)</td>\n",
       "      <td>(A:MET:1, A:ALA:2, A:GLU:3, A:LEU:4, A:LYS:5, ...</td>\n",
       "      <td>None</td>\n",
       "      <td>(((&lt;Residue MET het=  resseq=1 icode= &gt;, &lt;Resi...</td>\n",
       "      <td>None</td>\n",
       "    </tr>\n",
       "    <tr>\n",
       "      <th>215</th>\n",
       "      <td>E401Q</td>\n",
       "      <td>(p.(Ala218_Asn219insLysIle))</td>\n",
       "      <td>(A:MET:1, A:ALA:2, A:GLU:3, A:LEU:4, A:LYS:5, ...</td>\n",
       "      <td>None</td>\n",
       "      <td>(((&lt;Residue MET het=  resseq=1 icode= &gt;, &lt;Resi...</td>\n",
       "      <td>None</td>\n",
       "    </tr>\n",
       "    <tr>\n",
       "      <th>216</th>\n",
       "      <td>R53Q</td>\n",
       "      <td>R53Q</td>\n",
       "      <td>(A:MET:1, A:ALA:2, A:GLU:3, A:LEU:4, A:LYS:5, ...</td>\n",
       "      <td>(A:MET:1, A:ALA:2, A:GLU:3, A:LEU:4, A:LYS:5, ...</td>\n",
       "      <td>(((&lt;Residue MET het=  resseq=1 icode= &gt;, &lt;Resi...</td>\n",
       "      <td>(((&lt;Residue MET het=  resseq=1 icode= &gt;, &lt;Resi...</td>\n",
       "    </tr>\n",
       "    <tr>\n",
       "      <th>217</th>\n",
       "      <td>ivs8-2A&gt;G (R184fs)</td>\n",
       "      <td>n.i. (MLPAneg)</td>\n",
       "      <td>None</td>\n",
       "      <td>None</td>\n",
       "      <td>None</td>\n",
       "      <td>None</td>\n",
       "    </tr>\n",
       "    <tr>\n",
       "      <th>218</th>\n",
       "      <td>E168K</td>\n",
       "      <td>E168K</td>\n",
       "      <td>(A:MET:1, A:ALA:2, A:GLU:3, A:LEU:4, A:LYS:5, ...</td>\n",
       "      <td>(A:MET:1, A:ALA:2, A:GLU:3, A:LEU:4, A:LYS:5, ...</td>\n",
       "      <td>(((&lt;Residue MET het=  resseq=1 icode= &gt;, &lt;Resi...</td>\n",
       "      <td>(((&lt;Residue MET het=  resseq=1 icode= &gt;, &lt;Resi...</td>\n",
       "    </tr>\n",
       "  </tbody>\n",
       "</table>\n",
       "<p>219 rows × 6 columns</p>\n",
       "</div>"
      ],
      "text/plain": [
       "    Protein change allele 1        Protein change allele 2  \\\n",
       "0                      G161R                   His371Profs   \n",
       "1                      G161R                         G161R   \n",
       "2                      G161R                         M368V   \n",
       "3        Y6_G29del ivs1-1G>A           Y6_G29del ivs1-1G>A   \n",
       "4                      G161R                         G161R   \n",
       "..                       ...                           ...   \n",
       "214                    G251D               del ex13 (MLPA)   \n",
       "215                    E401Q  (p.(Ala218_Asn219insLysIle))   \n",
       "216                     R53Q                          R53Q   \n",
       "217       ivs8-2A>G (R184fs)                n.i. (MLPAneg)   \n",
       "218                    E168K                         E168K   \n",
       "\n",
       "                                         graph_allele1  \\\n",
       "0    (A:MET:1, A:ALA:2, A:GLU:3, A:LEU:4, A:LYS:5, ...   \n",
       "1    (A:MET:1, A:ALA:2, A:GLU:3, A:LEU:4, A:LYS:5, ...   \n",
       "2    (A:MET:1, A:ALA:2, A:GLU:3, A:LEU:4, A:LYS:5, ...   \n",
       "3                                                 None   \n",
       "4    (A:MET:1, A:ALA:2, A:GLU:3, A:LEU:4, A:LYS:5, ...   \n",
       "..                                                 ...   \n",
       "214  (A:MET:1, A:ALA:2, A:GLU:3, A:LEU:4, A:LYS:5, ...   \n",
       "215  (A:MET:1, A:ALA:2, A:GLU:3, A:LEU:4, A:LYS:5, ...   \n",
       "216  (A:MET:1, A:ALA:2, A:GLU:3, A:LEU:4, A:LYS:5, ...   \n",
       "217                                               None   \n",
       "218  (A:MET:1, A:ALA:2, A:GLU:3, A:LEU:4, A:LYS:5, ...   \n",
       "\n",
       "                                         graph_allele2  \\\n",
       "0                                                 None   \n",
       "1    (A:MET:1, A:ALA:2, A:GLU:3, A:LEU:4, A:LYS:5, ...   \n",
       "2    (A:MET:1, A:ALA:2, A:GLU:3, A:LEU:4, A:LYS:5, ...   \n",
       "3                                                 None   \n",
       "4    (A:MET:1, A:ALA:2, A:GLU:3, A:LEU:4, A:LYS:5, ...   \n",
       "..                                                 ...   \n",
       "214                                               None   \n",
       "215                                               None   \n",
       "216  (A:MET:1, A:ALA:2, A:GLU:3, A:LEU:4, A:LYS:5, ...   \n",
       "217                                               None   \n",
       "218  (A:MET:1, A:ALA:2, A:GLU:3, A:LEU:4, A:LYS:5, ...   \n",
       "\n",
       "                                     structure_allele1  \\\n",
       "0    (((<Residue MET het=  resseq=1 icode= >, <Resi...   \n",
       "1    (((<Residue MET het=  resseq=1 icode= >, <Resi...   \n",
       "2    (((<Residue MET het=  resseq=1 icode= >, <Resi...   \n",
       "3                                                 None   \n",
       "4    (((<Residue MET het=  resseq=1 icode= >, <Resi...   \n",
       "..                                                 ...   \n",
       "214  (((<Residue MET het=  resseq=1 icode= >, <Resi...   \n",
       "215  (((<Residue MET het=  resseq=1 icode= >, <Resi...   \n",
       "216  (((<Residue MET het=  resseq=1 icode= >, <Resi...   \n",
       "217                                               None   \n",
       "218  (((<Residue MET het=  resseq=1 icode= >, <Resi...   \n",
       "\n",
       "                                     structure_allele2  \n",
       "0                                                 None  \n",
       "1    (((<Residue MET het=  resseq=1 icode= >, <Resi...  \n",
       "2    (((<Residue MET het=  resseq=1 icode= >, <Resi...  \n",
       "3                                                 None  \n",
       "4    (((<Residue MET het=  resseq=1 icode= >, <Resi...  \n",
       "..                                                 ...  \n",
       "214                                               None  \n",
       "215                                               None  \n",
       "216  (((<Residue MET het=  resseq=1 icode= >, <Resi...  \n",
       "217                                               None  \n",
       "218  (((<Residue MET het=  resseq=1 icode= >, <Resi...  \n",
       "\n",
       "[219 rows x 6 columns]"
      ]
     },
     "execution_count": 22,
     "metadata": {},
     "output_type": "execute_result"
    }
   ],
   "source": [
    "#show all rows\n",
    "pd.set_option('display.max_columns', 500)\n",
    "df_patients"
   ]
  },
  {
   "cell_type": "code",
   "execution_count": 23,
   "metadata": {},
   "outputs": [],
   "source": [
    "df_patients.to_csv('../datasets/aku_prin_v2.0_with_graphs.csv', index=False)\n",
    "\n"
   ]
  },
  {
   "cell_type": "code",
   "execution_count": 24,
   "metadata": {},
   "outputs": [],
   "source": [
    "#read the csv file\n",
    "df_patients_2 = pd.read_csv('../datasets/aku_prin_v2.0_with_graphs.csv')\n"
   ]
  },
  {
   "cell_type": "code",
   "execution_count": 25,
   "metadata": {},
   "outputs": [],
   "source": [
    "graph_test = df_patients_2['graph_allele1'][0]\n",
    "graph_test_og = df_patients['graph_allele1'][0]"
   ]
  },
  {
   "cell_type": "code",
   "execution_count": 28,
   "metadata": {},
   "outputs": [
    {
     "data": {
      "text/plain": [
       "networkx.classes.graph.Graph"
      ]
     },
     "execution_count": 28,
     "metadata": {},
     "output_type": "execute_result"
    }
   ],
   "source": [
    "type(graph_test_og)"
   ]
  },
  {
   "cell_type": "code",
   "execution_count": 84,
   "metadata": {},
   "outputs": [],
   "source": [
    "import networkx as nx\n",
    "\n",
    "def string_to_graph(input_string):\n",
    "    # Initialize a NetworkX graph\n",
    "    G = nx.Graph()\n",
    "\n",
    "    # Split the input string into lines\n",
    "    lines = input_string.strip().split('\\n')\n",
    "\n",
    "    # Iterate through each line\n",
    "    for line in lines:\n",
    "        # Split the line into nodes and edges\n",
    "        nodes = line.strip().split()\n",
    "        # Assuming the first element is a node and the rest are its neighbors\n",
    "        node = nodes[0]\n",
    "        neighbors = nodes[1:]\n",
    "\n",
    "        # Add the node to the graph\n",
    "        G.add_node(node)\n",
    "\n",
    "        # Add edges between the node and its neighbors\n",
    "        for neighbor in neighbors:\n",
    "            G.add_edge(node, neighbor)\n",
    "\n",
    "    return G"
   ]
  },
  {
   "cell_type": "code",
   "execution_count": 89,
   "metadata": {},
   "outputs": [
    {
     "data": {
      "text/plain": [
       "networkx.classes.graph.Graph"
      ]
     },
     "execution_count": 89,
     "metadata": {},
     "output_type": "execute_result"
    }
   ],
   "source": [
    "type(graph_test)\n",
    "# convert to a scipy sparse matrix\n",
    "graph = string_to_graph(graph_test)\n",
    "type(graph)"
   ]
  },
  {
   "cell_type": "code",
   "execution_count": 93,
   "metadata": {},
   "outputs": [
    {
     "data": {
      "text/plain": [
       "EdgeView([('Graph', 'named'), ('Graph', \"'G161R_c8ba5_unrelaxed_rank_001_alphafold2_ptm_model_5_seed_000'\"), ('Graph', 'with'), ('Graph', '445'), ('Graph', 'nodes'), ('Graph', 'and'), ('Graph', '444'), ('Graph', 'edges')])"
      ]
     },
     "execution_count": 93,
     "metadata": {},
     "output_type": "execute_result"
    }
   ],
   "source": [
    "graph.edges"
   ]
  },
  {
   "cell_type": "code",
   "execution_count": null,
   "metadata": {},
   "outputs": [],
   "source": [
    "from torch_geometric.data import Data\n"
   ]
  },
  {
   "cell_type": "code",
   "execution_count": 4,
   "metadata": {},
   "outputs": [],
   "source": [
    "import logging\n",
    "logger = logging.getLogger()\n",
    "logger.setLevel(logging.CRITICAL)"
   ]
  },
  {
   "cell_type": "code",
   "execution_count": 7,
   "metadata": {},
   "outputs": [
    {
     "data": {
      "text/html": [
       "<pre style=\"white-space:pre;overflow-x:auto;line-height:normal;font-family:Menlo,'DejaVu Sans Mono',consolas,'Courier New',monospace\"><span style=\"color: #7fbfbf; text-decoration-color: #7fbfbf\">[04/29/24 11:01:57] </span><span style=\"color: #008000; text-decoration-color: #008000\">DEBUG   </span> Deprotonating protein. This removes H atoms from the pdb_df dataframe    <a href=\"file:///Users/lavo/Desktop/Projects/CHL-Project/.venv/lib/python3.10/site-packages/graphein/protein/graphs.py\" target=\"_blank\"><span style=\"color: #7f7f7f; text-decoration-color: #7f7f7f\">graphs.py</span></a><span style=\"color: #7f7f7f; text-decoration-color: #7f7f7f\">:</span><a href=\"file:///Users/lavo/Desktop/Projects/CHL-Project/.venv/lib/python3.10/site-packages/graphein/protein/graphs.py#188\" target=\"_blank\"><span style=\"color: #7f7f7f; text-decoration-color: #7f7f7f\">188</span></a>\n",
       "</pre>\n"
      ],
      "text/plain": [
       "\u001b[2;36m[04/29/24 11:01:57]\u001b[0m\u001b[2;36m \u001b[0m\u001b[32mDEBUG   \u001b[0m Deprotonating protein. This removes H atoms from the pdb_df dataframe    \u001b]8;id=986137;file:///Users/lavo/Desktop/Projects/CHL-Project/.venv/lib/python3.10/site-packages/graphein/protein/graphs.py\u001b\\\u001b[2mgraphs.py\u001b[0m\u001b]8;;\u001b\\\u001b[2m:\u001b[0m\u001b]8;id=712395;file:///Users/lavo/Desktop/Projects/CHL-Project/.venv/lib/python3.10/site-packages/graphein/protein/graphs.py#188\u001b\\\u001b[2m188\u001b[0m\u001b]8;;\u001b\\\n"
      ]
     },
     "metadata": {},
     "output_type": "display_data"
    },
    {
     "data": {
      "text/html": [
       "<pre style=\"white-space:pre;overflow-x:auto;line-height:normal;font-family:Menlo,'DejaVu Sans Mono',consolas,'Courier New',monospace\"><span style=\"color: #7fbfbf; text-decoration-color: #7fbfbf\">                    </span><span style=\"color: #008000; text-decoration-color: #008000\">DEBUG   </span> Detected <span style=\"color: #008080; text-decoration-color: #008080; font-weight: bold\">445</span> total nodes                                                 <a href=\"file:///Users/lavo/Desktop/Projects/CHL-Project/.venv/lib/python3.10/site-packages/graphein/protein/graphs.py\" target=\"_blank\"><span style=\"color: #7f7f7f; text-decoration-color: #7f7f7f\">graphs.py</span></a><span style=\"color: #7f7f7f; text-decoration-color: #7f7f7f\">:</span><a href=\"file:///Users/lavo/Desktop/Projects/CHL-Project/.venv/lib/python3.10/site-packages/graphein/protein/graphs.py#435\" target=\"_blank\"><span style=\"color: #7f7f7f; text-decoration-color: #7f7f7f\">435</span></a>\n",
       "</pre>\n"
      ],
      "text/plain": [
       "\u001b[2;36m                   \u001b[0m\u001b[2;36m \u001b[0m\u001b[32mDEBUG   \u001b[0m Detected \u001b[1;36m445\u001b[0m total nodes                                                 \u001b]8;id=555293;file:///Users/lavo/Desktop/Projects/CHL-Project/.venv/lib/python3.10/site-packages/graphein/protein/graphs.py\u001b\\\u001b[2mgraphs.py\u001b[0m\u001b]8;;\u001b\\\u001b[2m:\u001b[0m\u001b]8;id=834650;file:///Users/lavo/Desktop/Projects/CHL-Project/.venv/lib/python3.10/site-packages/graphein/protein/graphs.py#435\u001b\\\u001b[2m435\u001b[0m\u001b]8;;\u001b\\\n"
      ]
     },
     "metadata": {},
     "output_type": "display_data"
    },
    {
     "data": {
      "text/html": [
       "<pre style=\"white-space:pre;overflow-x:auto;line-height:normal;font-family:Menlo,'DejaVu Sans Mono',consolas,'Courier New',monospace\"><span style=\"color: #7fbfbf; text-decoration-color: #7fbfbf\">                    </span><span style=\"color: #008000; text-decoration-color: #008000\">DEBUG   </span> Deprotonating protein. This removes H atoms from the pdb_df dataframe    <a href=\"file:///Users/lavo/Desktop/Projects/CHL-Project/.venv/lib/python3.10/site-packages/graphein/protein/graphs.py\" target=\"_blank\"><span style=\"color: #7f7f7f; text-decoration-color: #7f7f7f\">graphs.py</span></a><span style=\"color: #7f7f7f; text-decoration-color: #7f7f7f\">:</span><a href=\"file:///Users/lavo/Desktop/Projects/CHL-Project/.venv/lib/python3.10/site-packages/graphein/protein/graphs.py#188\" target=\"_blank\"><span style=\"color: #7f7f7f; text-decoration-color: #7f7f7f\">188</span></a>\n",
       "</pre>\n"
      ],
      "text/plain": [
       "\u001b[2;36m                   \u001b[0m\u001b[2;36m \u001b[0m\u001b[32mDEBUG   \u001b[0m Deprotonating protein. This removes H atoms from the pdb_df dataframe    \u001b]8;id=410997;file:///Users/lavo/Desktop/Projects/CHL-Project/.venv/lib/python3.10/site-packages/graphein/protein/graphs.py\u001b\\\u001b[2mgraphs.py\u001b[0m\u001b]8;;\u001b\\\u001b[2m:\u001b[0m\u001b]8;id=663037;file:///Users/lavo/Desktop/Projects/CHL-Project/.venv/lib/python3.10/site-packages/graphein/protein/graphs.py#188\u001b\\\u001b[2m188\u001b[0m\u001b]8;;\u001b\\\n"
      ]
     },
     "metadata": {},
     "output_type": "display_data"
    },
    {
     "data": {
      "text/html": [
       "<pre style=\"white-space:pre;overflow-x:auto;line-height:normal;font-family:Menlo,'DejaVu Sans Mono',consolas,'Courier New',monospace\"><span style=\"color: #7fbfbf; text-decoration-color: #7fbfbf\">                    </span><span style=\"color: #008000; text-decoration-color: #008000\">DEBUG   </span> Detected <span style=\"color: #008080; text-decoration-color: #008080; font-weight: bold\">445</span> total nodes                                                 <a href=\"file:///Users/lavo/Desktop/Projects/CHL-Project/.venv/lib/python3.10/site-packages/graphein/protein/graphs.py\" target=\"_blank\"><span style=\"color: #7f7f7f; text-decoration-color: #7f7f7f\">graphs.py</span></a><span style=\"color: #7f7f7f; text-decoration-color: #7f7f7f\">:</span><a href=\"file:///Users/lavo/Desktop/Projects/CHL-Project/.venv/lib/python3.10/site-packages/graphein/protein/graphs.py#435\" target=\"_blank\"><span style=\"color: #7f7f7f; text-decoration-color: #7f7f7f\">435</span></a>\n",
       "</pre>\n"
      ],
      "text/plain": [
       "\u001b[2;36m                   \u001b[0m\u001b[2;36m \u001b[0m\u001b[32mDEBUG   \u001b[0m Detected \u001b[1;36m445\u001b[0m total nodes                                                 \u001b]8;id=263213;file:///Users/lavo/Desktop/Projects/CHL-Project/.venv/lib/python3.10/site-packages/graphein/protein/graphs.py\u001b\\\u001b[2mgraphs.py\u001b[0m\u001b]8;;\u001b\\\u001b[2m:\u001b[0m\u001b]8;id=691651;file:///Users/lavo/Desktop/Projects/CHL-Project/.venv/lib/python3.10/site-packages/graphein/protein/graphs.py#435\u001b\\\u001b[2m435\u001b[0m\u001b]8;;\u001b\\\n"
      ]
     },
     "metadata": {},
     "output_type": "display_data"
    },
    {
     "data": {
      "text/html": [
       "<pre style=\"white-space:pre;overflow-x:auto;line-height:normal;font-family:Menlo,'DejaVu Sans Mono',consolas,'Courier New',monospace\"><span style=\"color: #7fbfbf; text-decoration-color: #7fbfbf\">                    </span><span style=\"color: #008000; text-decoration-color: #008000\">DEBUG   </span> Deprotonating protein. This removes H atoms from the pdb_df dataframe    <a href=\"file:///Users/lavo/Desktop/Projects/CHL-Project/.venv/lib/python3.10/site-packages/graphein/protein/graphs.py\" target=\"_blank\"><span style=\"color: #7f7f7f; text-decoration-color: #7f7f7f\">graphs.py</span></a><span style=\"color: #7f7f7f; text-decoration-color: #7f7f7f\">:</span><a href=\"file:///Users/lavo/Desktop/Projects/CHL-Project/.venv/lib/python3.10/site-packages/graphein/protein/graphs.py#188\" target=\"_blank\"><span style=\"color: #7f7f7f; text-decoration-color: #7f7f7f\">188</span></a>\n",
       "</pre>\n"
      ],
      "text/plain": [
       "\u001b[2;36m                   \u001b[0m\u001b[2;36m \u001b[0m\u001b[32mDEBUG   \u001b[0m Deprotonating protein. This removes H atoms from the pdb_df dataframe    \u001b]8;id=810575;file:///Users/lavo/Desktop/Projects/CHL-Project/.venv/lib/python3.10/site-packages/graphein/protein/graphs.py\u001b\\\u001b[2mgraphs.py\u001b[0m\u001b]8;;\u001b\\\u001b[2m:\u001b[0m\u001b]8;id=807749;file:///Users/lavo/Desktop/Projects/CHL-Project/.venv/lib/python3.10/site-packages/graphein/protein/graphs.py#188\u001b\\\u001b[2m188\u001b[0m\u001b]8;;\u001b\\\n"
      ]
     },
     "metadata": {},
     "output_type": "display_data"
    },
    {
     "data": {
      "text/html": [
       "<pre style=\"white-space:pre;overflow-x:auto;line-height:normal;font-family:Menlo,'DejaVu Sans Mono',consolas,'Courier New',monospace\"><span style=\"color: #7fbfbf; text-decoration-color: #7fbfbf\">                    </span><span style=\"color: #008000; text-decoration-color: #008000\">DEBUG   </span> Detected <span style=\"color: #008080; text-decoration-color: #008080; font-weight: bold\">445</span> total nodes                                                 <a href=\"file:///Users/lavo/Desktop/Projects/CHL-Project/.venv/lib/python3.10/site-packages/graphein/protein/graphs.py\" target=\"_blank\"><span style=\"color: #7f7f7f; text-decoration-color: #7f7f7f\">graphs.py</span></a><span style=\"color: #7f7f7f; text-decoration-color: #7f7f7f\">:</span><a href=\"file:///Users/lavo/Desktop/Projects/CHL-Project/.venv/lib/python3.10/site-packages/graphein/protein/graphs.py#435\" target=\"_blank\"><span style=\"color: #7f7f7f; text-decoration-color: #7f7f7f\">435</span></a>\n",
       "</pre>\n"
      ],
      "text/plain": [
       "\u001b[2;36m                   \u001b[0m\u001b[2;36m \u001b[0m\u001b[32mDEBUG   \u001b[0m Detected \u001b[1;36m445\u001b[0m total nodes                                                 \u001b]8;id=106653;file:///Users/lavo/Desktop/Projects/CHL-Project/.venv/lib/python3.10/site-packages/graphein/protein/graphs.py\u001b\\\u001b[2mgraphs.py\u001b[0m\u001b]8;;\u001b\\\u001b[2m:\u001b[0m\u001b]8;id=906211;file:///Users/lavo/Desktop/Projects/CHL-Project/.venv/lib/python3.10/site-packages/graphein/protein/graphs.py#435\u001b\\\u001b[2m435\u001b[0m\u001b]8;;\u001b\\\n"
      ]
     },
     "metadata": {},
     "output_type": "display_data"
    },
    {
     "data": {
      "text/html": [
       "<pre style=\"white-space:pre;overflow-x:auto;line-height:normal;font-family:Menlo,'DejaVu Sans Mono',consolas,'Courier New',monospace\"><span style=\"color: #7fbfbf; text-decoration-color: #7fbfbf\">                    </span><span style=\"color: #008000; text-decoration-color: #008000\">DEBUG   </span> Deprotonating protein. This removes H atoms from the pdb_df dataframe    <a href=\"file:///Users/lavo/Desktop/Projects/CHL-Project/.venv/lib/python3.10/site-packages/graphein/protein/graphs.py\" target=\"_blank\"><span style=\"color: #7f7f7f; text-decoration-color: #7f7f7f\">graphs.py</span></a><span style=\"color: #7f7f7f; text-decoration-color: #7f7f7f\">:</span><a href=\"file:///Users/lavo/Desktop/Projects/CHL-Project/.venv/lib/python3.10/site-packages/graphein/protein/graphs.py#188\" target=\"_blank\"><span style=\"color: #7f7f7f; text-decoration-color: #7f7f7f\">188</span></a>\n",
       "</pre>\n"
      ],
      "text/plain": [
       "\u001b[2;36m                   \u001b[0m\u001b[2;36m \u001b[0m\u001b[32mDEBUG   \u001b[0m Deprotonating protein. This removes H atoms from the pdb_df dataframe    \u001b]8;id=701772;file:///Users/lavo/Desktop/Projects/CHL-Project/.venv/lib/python3.10/site-packages/graphein/protein/graphs.py\u001b\\\u001b[2mgraphs.py\u001b[0m\u001b]8;;\u001b\\\u001b[2m:\u001b[0m\u001b]8;id=680682;file:///Users/lavo/Desktop/Projects/CHL-Project/.venv/lib/python3.10/site-packages/graphein/protein/graphs.py#188\u001b\\\u001b[2m188\u001b[0m\u001b]8;;\u001b\\\n"
      ]
     },
     "metadata": {},
     "output_type": "display_data"
    },
    {
     "data": {
      "text/html": [
       "<pre style=\"white-space:pre;overflow-x:auto;line-height:normal;font-family:Menlo,'DejaVu Sans Mono',consolas,'Courier New',monospace\"><span style=\"color: #7fbfbf; text-decoration-color: #7fbfbf\">                    </span><span style=\"color: #008000; text-decoration-color: #008000\">DEBUG   </span> Detected <span style=\"color: #008080; text-decoration-color: #008080; font-weight: bold\">445</span> total nodes                                                 <a href=\"file:///Users/lavo/Desktop/Projects/CHL-Project/.venv/lib/python3.10/site-packages/graphein/protein/graphs.py\" target=\"_blank\"><span style=\"color: #7f7f7f; text-decoration-color: #7f7f7f\">graphs.py</span></a><span style=\"color: #7f7f7f; text-decoration-color: #7f7f7f\">:</span><a href=\"file:///Users/lavo/Desktop/Projects/CHL-Project/.venv/lib/python3.10/site-packages/graphein/protein/graphs.py#435\" target=\"_blank\"><span style=\"color: #7f7f7f; text-decoration-color: #7f7f7f\">435</span></a>\n",
       "</pre>\n"
      ],
      "text/plain": [
       "\u001b[2;36m                   \u001b[0m\u001b[2;36m \u001b[0m\u001b[32mDEBUG   \u001b[0m Detected \u001b[1;36m445\u001b[0m total nodes                                                 \u001b]8;id=399302;file:///Users/lavo/Desktop/Projects/CHL-Project/.venv/lib/python3.10/site-packages/graphein/protein/graphs.py\u001b\\\u001b[2mgraphs.py\u001b[0m\u001b]8;;\u001b\\\u001b[2m:\u001b[0m\u001b]8;id=896268;file:///Users/lavo/Desktop/Projects/CHL-Project/.venv/lib/python3.10/site-packages/graphein/protein/graphs.py#435\u001b\\\u001b[2m435\u001b[0m\u001b]8;;\u001b\\\n"
      ]
     },
     "metadata": {},
     "output_type": "display_data"
    },
    {
     "data": {
      "text/html": [
       "<pre style=\"white-space:pre;overflow-x:auto;line-height:normal;font-family:Menlo,'DejaVu Sans Mono',consolas,'Courier New',monospace\"><span style=\"color: #7fbfbf; text-decoration-color: #7fbfbf\">                    </span><span style=\"color: #008000; text-decoration-color: #008000\">DEBUG   </span> Deprotonating protein. This removes H atoms from the pdb_df dataframe    <a href=\"file:///Users/lavo/Desktop/Projects/CHL-Project/.venv/lib/python3.10/site-packages/graphein/protein/graphs.py\" target=\"_blank\"><span style=\"color: #7f7f7f; text-decoration-color: #7f7f7f\">graphs.py</span></a><span style=\"color: #7f7f7f; text-decoration-color: #7f7f7f\">:</span><a href=\"file:///Users/lavo/Desktop/Projects/CHL-Project/.venv/lib/python3.10/site-packages/graphein/protein/graphs.py#188\" target=\"_blank\"><span style=\"color: #7f7f7f; text-decoration-color: #7f7f7f\">188</span></a>\n",
       "</pre>\n"
      ],
      "text/plain": [
       "\u001b[2;36m                   \u001b[0m\u001b[2;36m \u001b[0m\u001b[32mDEBUG   \u001b[0m Deprotonating protein. This removes H atoms from the pdb_df dataframe    \u001b]8;id=164855;file:///Users/lavo/Desktop/Projects/CHL-Project/.venv/lib/python3.10/site-packages/graphein/protein/graphs.py\u001b\\\u001b[2mgraphs.py\u001b[0m\u001b]8;;\u001b\\\u001b[2m:\u001b[0m\u001b]8;id=51412;file:///Users/lavo/Desktop/Projects/CHL-Project/.venv/lib/python3.10/site-packages/graphein/protein/graphs.py#188\u001b\\\u001b[2m188\u001b[0m\u001b]8;;\u001b\\\n"
      ]
     },
     "metadata": {},
     "output_type": "display_data"
    },
    {
     "data": {
      "text/html": [
       "<pre style=\"white-space:pre;overflow-x:auto;line-height:normal;font-family:Menlo,'DejaVu Sans Mono',consolas,'Courier New',monospace\"><span style=\"color: #7fbfbf; text-decoration-color: #7fbfbf\">                    </span><span style=\"color: #008000; text-decoration-color: #008000\">DEBUG   </span> Detected <span style=\"color: #008080; text-decoration-color: #008080; font-weight: bold\">445</span> total nodes                                                 <a href=\"file:///Users/lavo/Desktop/Projects/CHL-Project/.venv/lib/python3.10/site-packages/graphein/protein/graphs.py\" target=\"_blank\"><span style=\"color: #7f7f7f; text-decoration-color: #7f7f7f\">graphs.py</span></a><span style=\"color: #7f7f7f; text-decoration-color: #7f7f7f\">:</span><a href=\"file:///Users/lavo/Desktop/Projects/CHL-Project/.venv/lib/python3.10/site-packages/graphein/protein/graphs.py#435\" target=\"_blank\"><span style=\"color: #7f7f7f; text-decoration-color: #7f7f7f\">435</span></a>\n",
       "</pre>\n"
      ],
      "text/plain": [
       "\u001b[2;36m                   \u001b[0m\u001b[2;36m \u001b[0m\u001b[32mDEBUG   \u001b[0m Detected \u001b[1;36m445\u001b[0m total nodes                                                 \u001b]8;id=287371;file:///Users/lavo/Desktop/Projects/CHL-Project/.venv/lib/python3.10/site-packages/graphein/protein/graphs.py\u001b\\\u001b[2mgraphs.py\u001b[0m\u001b]8;;\u001b\\\u001b[2m:\u001b[0m\u001b]8;id=1322;file:///Users/lavo/Desktop/Projects/CHL-Project/.venv/lib/python3.10/site-packages/graphein/protein/graphs.py#435\u001b\\\u001b[2m435\u001b[0m\u001b]8;;\u001b\\\n"
      ]
     },
     "metadata": {},
     "output_type": "display_data"
    },
    {
     "data": {
      "text/html": [
       "<pre style=\"white-space:pre;overflow-x:auto;line-height:normal;font-family:Menlo,'DejaVu Sans Mono',consolas,'Courier New',monospace\"><span style=\"color: #7fbfbf; text-decoration-color: #7fbfbf\">                    </span><span style=\"color: #008000; text-decoration-color: #008000\">DEBUG   </span> Deprotonating protein. This removes H atoms from the pdb_df dataframe    <a href=\"file:///Users/lavo/Desktop/Projects/CHL-Project/.venv/lib/python3.10/site-packages/graphein/protein/graphs.py\" target=\"_blank\"><span style=\"color: #7f7f7f; text-decoration-color: #7f7f7f\">graphs.py</span></a><span style=\"color: #7f7f7f; text-decoration-color: #7f7f7f\">:</span><a href=\"file:///Users/lavo/Desktop/Projects/CHL-Project/.venv/lib/python3.10/site-packages/graphein/protein/graphs.py#188\" target=\"_blank\"><span style=\"color: #7f7f7f; text-decoration-color: #7f7f7f\">188</span></a>\n",
       "</pre>\n"
      ],
      "text/plain": [
       "\u001b[2;36m                   \u001b[0m\u001b[2;36m \u001b[0m\u001b[32mDEBUG   \u001b[0m Deprotonating protein. This removes H atoms from the pdb_df dataframe    \u001b]8;id=936492;file:///Users/lavo/Desktop/Projects/CHL-Project/.venv/lib/python3.10/site-packages/graphein/protein/graphs.py\u001b\\\u001b[2mgraphs.py\u001b[0m\u001b]8;;\u001b\\\u001b[2m:\u001b[0m\u001b]8;id=529515;file:///Users/lavo/Desktop/Projects/CHL-Project/.venv/lib/python3.10/site-packages/graphein/protein/graphs.py#188\u001b\\\u001b[2m188\u001b[0m\u001b]8;;\u001b\\\n"
      ]
     },
     "metadata": {},
     "output_type": "display_data"
    },
    {
     "data": {
      "text/html": [
       "<pre style=\"white-space:pre;overflow-x:auto;line-height:normal;font-family:Menlo,'DejaVu Sans Mono',consolas,'Courier New',monospace\"><span style=\"color: #7fbfbf; text-decoration-color: #7fbfbf\">                    </span><span style=\"color: #008000; text-decoration-color: #008000\">DEBUG   </span> Detected <span style=\"color: #008080; text-decoration-color: #008080; font-weight: bold\">445</span> total nodes                                                 <a href=\"file:///Users/lavo/Desktop/Projects/CHL-Project/.venv/lib/python3.10/site-packages/graphein/protein/graphs.py\" target=\"_blank\"><span style=\"color: #7f7f7f; text-decoration-color: #7f7f7f\">graphs.py</span></a><span style=\"color: #7f7f7f; text-decoration-color: #7f7f7f\">:</span><a href=\"file:///Users/lavo/Desktop/Projects/CHL-Project/.venv/lib/python3.10/site-packages/graphein/protein/graphs.py#435\" target=\"_blank\"><span style=\"color: #7f7f7f; text-decoration-color: #7f7f7f\">435</span></a>\n",
       "</pre>\n"
      ],
      "text/plain": [
       "\u001b[2;36m                   \u001b[0m\u001b[2;36m \u001b[0m\u001b[32mDEBUG   \u001b[0m Detected \u001b[1;36m445\u001b[0m total nodes                                                 \u001b]8;id=517435;file:///Users/lavo/Desktop/Projects/CHL-Project/.venv/lib/python3.10/site-packages/graphein/protein/graphs.py\u001b\\\u001b[2mgraphs.py\u001b[0m\u001b]8;;\u001b\\\u001b[2m:\u001b[0m\u001b]8;id=736224;file:///Users/lavo/Desktop/Projects/CHL-Project/.venv/lib/python3.10/site-packages/graphein/protein/graphs.py#435\u001b\\\u001b[2m435\u001b[0m\u001b]8;;\u001b\\\n"
      ]
     },
     "metadata": {},
     "output_type": "display_data"
    },
    {
     "data": {
      "text/html": [
       "<pre style=\"white-space:pre;overflow-x:auto;line-height:normal;font-family:Menlo,'DejaVu Sans Mono',consolas,'Courier New',monospace\"><span style=\"color: #7fbfbf; text-decoration-color: #7fbfbf\">                    </span><span style=\"color: #008000; text-decoration-color: #008000\">DEBUG   </span> Deprotonating protein. This removes H atoms from the pdb_df dataframe    <a href=\"file:///Users/lavo/Desktop/Projects/CHL-Project/.venv/lib/python3.10/site-packages/graphein/protein/graphs.py\" target=\"_blank\"><span style=\"color: #7f7f7f; text-decoration-color: #7f7f7f\">graphs.py</span></a><span style=\"color: #7f7f7f; text-decoration-color: #7f7f7f\">:</span><a href=\"file:///Users/lavo/Desktop/Projects/CHL-Project/.venv/lib/python3.10/site-packages/graphein/protein/graphs.py#188\" target=\"_blank\"><span style=\"color: #7f7f7f; text-decoration-color: #7f7f7f\">188</span></a>\n",
       "</pre>\n"
      ],
      "text/plain": [
       "\u001b[2;36m                   \u001b[0m\u001b[2;36m \u001b[0m\u001b[32mDEBUG   \u001b[0m Deprotonating protein. This removes H atoms from the pdb_df dataframe    \u001b]8;id=118766;file:///Users/lavo/Desktop/Projects/CHL-Project/.venv/lib/python3.10/site-packages/graphein/protein/graphs.py\u001b\\\u001b[2mgraphs.py\u001b[0m\u001b]8;;\u001b\\\u001b[2m:\u001b[0m\u001b]8;id=996281;file:///Users/lavo/Desktop/Projects/CHL-Project/.venv/lib/python3.10/site-packages/graphein/protein/graphs.py#188\u001b\\\u001b[2m188\u001b[0m\u001b]8;;\u001b\\\n"
      ]
     },
     "metadata": {},
     "output_type": "display_data"
    },
    {
     "data": {
      "text/html": [
       "<pre style=\"white-space:pre;overflow-x:auto;line-height:normal;font-family:Menlo,'DejaVu Sans Mono',consolas,'Courier New',monospace\"><span style=\"color: #7fbfbf; text-decoration-color: #7fbfbf\">                    </span><span style=\"color: #008000; text-decoration-color: #008000\">DEBUG   </span> Detected <span style=\"color: #008080; text-decoration-color: #008080; font-weight: bold\">445</span> total nodes                                                 <a href=\"file:///Users/lavo/Desktop/Projects/CHL-Project/.venv/lib/python3.10/site-packages/graphein/protein/graphs.py\" target=\"_blank\"><span style=\"color: #7f7f7f; text-decoration-color: #7f7f7f\">graphs.py</span></a><span style=\"color: #7f7f7f; text-decoration-color: #7f7f7f\">:</span><a href=\"file:///Users/lavo/Desktop/Projects/CHL-Project/.venv/lib/python3.10/site-packages/graphein/protein/graphs.py#435\" target=\"_blank\"><span style=\"color: #7f7f7f; text-decoration-color: #7f7f7f\">435</span></a>\n",
       "</pre>\n"
      ],
      "text/plain": [
       "\u001b[2;36m                   \u001b[0m\u001b[2;36m \u001b[0m\u001b[32mDEBUG   \u001b[0m Detected \u001b[1;36m445\u001b[0m total nodes                                                 \u001b]8;id=857514;file:///Users/lavo/Desktop/Projects/CHL-Project/.venv/lib/python3.10/site-packages/graphein/protein/graphs.py\u001b\\\u001b[2mgraphs.py\u001b[0m\u001b]8;;\u001b\\\u001b[2m:\u001b[0m\u001b]8;id=806018;file:///Users/lavo/Desktop/Projects/CHL-Project/.venv/lib/python3.10/site-packages/graphein/protein/graphs.py#435\u001b\\\u001b[2m435\u001b[0m\u001b]8;;\u001b\\\n"
      ]
     },
     "metadata": {},
     "output_type": "display_data"
    },
    {
     "data": {
      "text/html": [
       "<pre style=\"white-space:pre;overflow-x:auto;line-height:normal;font-family:Menlo,'DejaVu Sans Mono',consolas,'Courier New',monospace\"><span style=\"color: #7fbfbf; text-decoration-color: #7fbfbf\">                    </span><span style=\"color: #008000; text-decoration-color: #008000\">DEBUG   </span> Deprotonating protein. This removes H atoms from the pdb_df dataframe    <a href=\"file:///Users/lavo/Desktop/Projects/CHL-Project/.venv/lib/python3.10/site-packages/graphein/protein/graphs.py\" target=\"_blank\"><span style=\"color: #7f7f7f; text-decoration-color: #7f7f7f\">graphs.py</span></a><span style=\"color: #7f7f7f; text-decoration-color: #7f7f7f\">:</span><a href=\"file:///Users/lavo/Desktop/Projects/CHL-Project/.venv/lib/python3.10/site-packages/graphein/protein/graphs.py#188\" target=\"_blank\"><span style=\"color: #7f7f7f; text-decoration-color: #7f7f7f\">188</span></a>\n",
       "</pre>\n"
      ],
      "text/plain": [
       "\u001b[2;36m                   \u001b[0m\u001b[2;36m \u001b[0m\u001b[32mDEBUG   \u001b[0m Deprotonating protein. This removes H atoms from the pdb_df dataframe    \u001b]8;id=299312;file:///Users/lavo/Desktop/Projects/CHL-Project/.venv/lib/python3.10/site-packages/graphein/protein/graphs.py\u001b\\\u001b[2mgraphs.py\u001b[0m\u001b]8;;\u001b\\\u001b[2m:\u001b[0m\u001b]8;id=717738;file:///Users/lavo/Desktop/Projects/CHL-Project/.venv/lib/python3.10/site-packages/graphein/protein/graphs.py#188\u001b\\\u001b[2m188\u001b[0m\u001b]8;;\u001b\\\n"
      ]
     },
     "metadata": {},
     "output_type": "display_data"
    },
    {
     "data": {
      "text/html": [
       "<pre style=\"white-space:pre;overflow-x:auto;line-height:normal;font-family:Menlo,'DejaVu Sans Mono',consolas,'Courier New',monospace\"><span style=\"color: #7fbfbf; text-decoration-color: #7fbfbf\">                    </span><span style=\"color: #008000; text-decoration-color: #008000\">DEBUG   </span> Detected <span style=\"color: #008080; text-decoration-color: #008080; font-weight: bold\">445</span> total nodes                                                 <a href=\"file:///Users/lavo/Desktop/Projects/CHL-Project/.venv/lib/python3.10/site-packages/graphein/protein/graphs.py\" target=\"_blank\"><span style=\"color: #7f7f7f; text-decoration-color: #7f7f7f\">graphs.py</span></a><span style=\"color: #7f7f7f; text-decoration-color: #7f7f7f\">:</span><a href=\"file:///Users/lavo/Desktop/Projects/CHL-Project/.venv/lib/python3.10/site-packages/graphein/protein/graphs.py#435\" target=\"_blank\"><span style=\"color: #7f7f7f; text-decoration-color: #7f7f7f\">435</span></a>\n",
       "</pre>\n"
      ],
      "text/plain": [
       "\u001b[2;36m                   \u001b[0m\u001b[2;36m \u001b[0m\u001b[32mDEBUG   \u001b[0m Detected \u001b[1;36m445\u001b[0m total nodes                                                 \u001b]8;id=105300;file:///Users/lavo/Desktop/Projects/CHL-Project/.venv/lib/python3.10/site-packages/graphein/protein/graphs.py\u001b\\\u001b[2mgraphs.py\u001b[0m\u001b]8;;\u001b\\\u001b[2m:\u001b[0m\u001b]8;id=816170;file:///Users/lavo/Desktop/Projects/CHL-Project/.venv/lib/python3.10/site-packages/graphein/protein/graphs.py#435\u001b\\\u001b[2m435\u001b[0m\u001b]8;;\u001b\\\n"
      ]
     },
     "metadata": {},
     "output_type": "display_data"
    },
    {
     "data": {
      "text/html": [
       "<pre style=\"white-space:pre;overflow-x:auto;line-height:normal;font-family:Menlo,'DejaVu Sans Mono',consolas,'Courier New',monospace\"><span style=\"color: #7fbfbf; text-decoration-color: #7fbfbf\">                    </span><span style=\"color: #008000; text-decoration-color: #008000\">DEBUG   </span> Deprotonating protein. This removes H atoms from the pdb_df dataframe    <a href=\"file:///Users/lavo/Desktop/Projects/CHL-Project/.venv/lib/python3.10/site-packages/graphein/protein/graphs.py\" target=\"_blank\"><span style=\"color: #7f7f7f; text-decoration-color: #7f7f7f\">graphs.py</span></a><span style=\"color: #7f7f7f; text-decoration-color: #7f7f7f\">:</span><a href=\"file:///Users/lavo/Desktop/Projects/CHL-Project/.venv/lib/python3.10/site-packages/graphein/protein/graphs.py#188\" target=\"_blank\"><span style=\"color: #7f7f7f; text-decoration-color: #7f7f7f\">188</span></a>\n",
       "</pre>\n"
      ],
      "text/plain": [
       "\u001b[2;36m                   \u001b[0m\u001b[2;36m \u001b[0m\u001b[32mDEBUG   \u001b[0m Deprotonating protein. This removes H atoms from the pdb_df dataframe    \u001b]8;id=324773;file:///Users/lavo/Desktop/Projects/CHL-Project/.venv/lib/python3.10/site-packages/graphein/protein/graphs.py\u001b\\\u001b[2mgraphs.py\u001b[0m\u001b]8;;\u001b\\\u001b[2m:\u001b[0m\u001b]8;id=590331;file:///Users/lavo/Desktop/Projects/CHL-Project/.venv/lib/python3.10/site-packages/graphein/protein/graphs.py#188\u001b\\\u001b[2m188\u001b[0m\u001b]8;;\u001b\\\n"
      ]
     },
     "metadata": {},
     "output_type": "display_data"
    },
    {
     "data": {
      "text/html": [
       "<pre style=\"white-space:pre;overflow-x:auto;line-height:normal;font-family:Menlo,'DejaVu Sans Mono',consolas,'Courier New',monospace\"><span style=\"color: #7fbfbf; text-decoration-color: #7fbfbf\">                    </span><span style=\"color: #008000; text-decoration-color: #008000\">DEBUG   </span> Detected <span style=\"color: #008080; text-decoration-color: #008080; font-weight: bold\">445</span> total nodes                                                 <a href=\"file:///Users/lavo/Desktop/Projects/CHL-Project/.venv/lib/python3.10/site-packages/graphein/protein/graphs.py\" target=\"_blank\"><span style=\"color: #7f7f7f; text-decoration-color: #7f7f7f\">graphs.py</span></a><span style=\"color: #7f7f7f; text-decoration-color: #7f7f7f\">:</span><a href=\"file:///Users/lavo/Desktop/Projects/CHL-Project/.venv/lib/python3.10/site-packages/graphein/protein/graphs.py#435\" target=\"_blank\"><span style=\"color: #7f7f7f; text-decoration-color: #7f7f7f\">435</span></a>\n",
       "</pre>\n"
      ],
      "text/plain": [
       "\u001b[2;36m                   \u001b[0m\u001b[2;36m \u001b[0m\u001b[32mDEBUG   \u001b[0m Detected \u001b[1;36m445\u001b[0m total nodes                                                 \u001b]8;id=6323;file:///Users/lavo/Desktop/Projects/CHL-Project/.venv/lib/python3.10/site-packages/graphein/protein/graphs.py\u001b\\\u001b[2mgraphs.py\u001b[0m\u001b]8;;\u001b\\\u001b[2m:\u001b[0m\u001b]8;id=740386;file:///Users/lavo/Desktop/Projects/CHL-Project/.venv/lib/python3.10/site-packages/graphein/protein/graphs.py#435\u001b\\\u001b[2m435\u001b[0m\u001b]8;;\u001b\\\n"
      ]
     },
     "metadata": {},
     "output_type": "display_data"
    },
    {
     "data": {
      "text/html": [
       "<pre style=\"white-space:pre;overflow-x:auto;line-height:normal;font-family:Menlo,'DejaVu Sans Mono',consolas,'Courier New',monospace\"><span style=\"color: #7fbfbf; text-decoration-color: #7fbfbf\">[04/29/24 11:01:58] </span><span style=\"color: #008000; text-decoration-color: #008000\">DEBUG   </span> Deprotonating protein. This removes H atoms from the pdb_df dataframe    <a href=\"file:///Users/lavo/Desktop/Projects/CHL-Project/.venv/lib/python3.10/site-packages/graphein/protein/graphs.py\" target=\"_blank\"><span style=\"color: #7f7f7f; text-decoration-color: #7f7f7f\">graphs.py</span></a><span style=\"color: #7f7f7f; text-decoration-color: #7f7f7f\">:</span><a href=\"file:///Users/lavo/Desktop/Projects/CHL-Project/.venv/lib/python3.10/site-packages/graphein/protein/graphs.py#188\" target=\"_blank\"><span style=\"color: #7f7f7f; text-decoration-color: #7f7f7f\">188</span></a>\n",
       "</pre>\n"
      ],
      "text/plain": [
       "\u001b[2;36m[04/29/24 11:01:58]\u001b[0m\u001b[2;36m \u001b[0m\u001b[32mDEBUG   \u001b[0m Deprotonating protein. This removes H atoms from the pdb_df dataframe    \u001b]8;id=733002;file:///Users/lavo/Desktop/Projects/CHL-Project/.venv/lib/python3.10/site-packages/graphein/protein/graphs.py\u001b\\\u001b[2mgraphs.py\u001b[0m\u001b]8;;\u001b\\\u001b[2m:\u001b[0m\u001b]8;id=622159;file:///Users/lavo/Desktop/Projects/CHL-Project/.venv/lib/python3.10/site-packages/graphein/protein/graphs.py#188\u001b\\\u001b[2m188\u001b[0m\u001b]8;;\u001b\\\n"
      ]
     },
     "metadata": {},
     "output_type": "display_data"
    },
    {
     "data": {
      "text/html": [
       "<pre style=\"white-space:pre;overflow-x:auto;line-height:normal;font-family:Menlo,'DejaVu Sans Mono',consolas,'Courier New',monospace\"><span style=\"color: #7fbfbf; text-decoration-color: #7fbfbf\">                    </span><span style=\"color: #008000; text-decoration-color: #008000\">DEBUG   </span> Detected <span style=\"color: #008080; text-decoration-color: #008080; font-weight: bold\">445</span> total nodes                                                 <a href=\"file:///Users/lavo/Desktop/Projects/CHL-Project/.venv/lib/python3.10/site-packages/graphein/protein/graphs.py\" target=\"_blank\"><span style=\"color: #7f7f7f; text-decoration-color: #7f7f7f\">graphs.py</span></a><span style=\"color: #7f7f7f; text-decoration-color: #7f7f7f\">:</span><a href=\"file:///Users/lavo/Desktop/Projects/CHL-Project/.venv/lib/python3.10/site-packages/graphein/protein/graphs.py#435\" target=\"_blank\"><span style=\"color: #7f7f7f; text-decoration-color: #7f7f7f\">435</span></a>\n",
       "</pre>\n"
      ],
      "text/plain": [
       "\u001b[2;36m                   \u001b[0m\u001b[2;36m \u001b[0m\u001b[32mDEBUG   \u001b[0m Detected \u001b[1;36m445\u001b[0m total nodes                                                 \u001b]8;id=867793;file:///Users/lavo/Desktop/Projects/CHL-Project/.venv/lib/python3.10/site-packages/graphein/protein/graphs.py\u001b\\\u001b[2mgraphs.py\u001b[0m\u001b]8;;\u001b\\\u001b[2m:\u001b[0m\u001b]8;id=5650;file:///Users/lavo/Desktop/Projects/CHL-Project/.venv/lib/python3.10/site-packages/graphein/protein/graphs.py#435\u001b\\\u001b[2m435\u001b[0m\u001b]8;;\u001b\\\n"
      ]
     },
     "metadata": {},
     "output_type": "display_data"
    },
    {
     "data": {
      "text/html": [
       "<pre style=\"white-space:pre;overflow-x:auto;line-height:normal;font-family:Menlo,'DejaVu Sans Mono',consolas,'Courier New',monospace\"><span style=\"color: #7fbfbf; text-decoration-color: #7fbfbf\">                    </span><span style=\"color: #008000; text-decoration-color: #008000\">DEBUG   </span> Deprotonating protein. This removes H atoms from the pdb_df dataframe    <a href=\"file:///Users/lavo/Desktop/Projects/CHL-Project/.venv/lib/python3.10/site-packages/graphein/protein/graphs.py\" target=\"_blank\"><span style=\"color: #7f7f7f; text-decoration-color: #7f7f7f\">graphs.py</span></a><span style=\"color: #7f7f7f; text-decoration-color: #7f7f7f\">:</span><a href=\"file:///Users/lavo/Desktop/Projects/CHL-Project/.venv/lib/python3.10/site-packages/graphein/protein/graphs.py#188\" target=\"_blank\"><span style=\"color: #7f7f7f; text-decoration-color: #7f7f7f\">188</span></a>\n",
       "</pre>\n"
      ],
      "text/plain": [
       "\u001b[2;36m                   \u001b[0m\u001b[2;36m \u001b[0m\u001b[32mDEBUG   \u001b[0m Deprotonating protein. This removes H atoms from the pdb_df dataframe    \u001b]8;id=109610;file:///Users/lavo/Desktop/Projects/CHL-Project/.venv/lib/python3.10/site-packages/graphein/protein/graphs.py\u001b\\\u001b[2mgraphs.py\u001b[0m\u001b]8;;\u001b\\\u001b[2m:\u001b[0m\u001b]8;id=876609;file:///Users/lavo/Desktop/Projects/CHL-Project/.venv/lib/python3.10/site-packages/graphein/protein/graphs.py#188\u001b\\\u001b[2m188\u001b[0m\u001b]8;;\u001b\\\n"
      ]
     },
     "metadata": {},
     "output_type": "display_data"
    },
    {
     "data": {
      "text/html": [
       "<pre style=\"white-space:pre;overflow-x:auto;line-height:normal;font-family:Menlo,'DejaVu Sans Mono',consolas,'Courier New',monospace\"><span style=\"color: #7fbfbf; text-decoration-color: #7fbfbf\">                    </span><span style=\"color: #008000; text-decoration-color: #008000\">DEBUG   </span> Detected <span style=\"color: #008080; text-decoration-color: #008080; font-weight: bold\">445</span> total nodes                                                 <a href=\"file:///Users/lavo/Desktop/Projects/CHL-Project/.venv/lib/python3.10/site-packages/graphein/protein/graphs.py\" target=\"_blank\"><span style=\"color: #7f7f7f; text-decoration-color: #7f7f7f\">graphs.py</span></a><span style=\"color: #7f7f7f; text-decoration-color: #7f7f7f\">:</span><a href=\"file:///Users/lavo/Desktop/Projects/CHL-Project/.venv/lib/python3.10/site-packages/graphein/protein/graphs.py#435\" target=\"_blank\"><span style=\"color: #7f7f7f; text-decoration-color: #7f7f7f\">435</span></a>\n",
       "</pre>\n"
      ],
      "text/plain": [
       "\u001b[2;36m                   \u001b[0m\u001b[2;36m \u001b[0m\u001b[32mDEBUG   \u001b[0m Detected \u001b[1;36m445\u001b[0m total nodes                                                 \u001b]8;id=19838;file:///Users/lavo/Desktop/Projects/CHL-Project/.venv/lib/python3.10/site-packages/graphein/protein/graphs.py\u001b\\\u001b[2mgraphs.py\u001b[0m\u001b]8;;\u001b\\\u001b[2m:\u001b[0m\u001b]8;id=198502;file:///Users/lavo/Desktop/Projects/CHL-Project/.venv/lib/python3.10/site-packages/graphein/protein/graphs.py#435\u001b\\\u001b[2m435\u001b[0m\u001b]8;;\u001b\\\n"
      ]
     },
     "metadata": {},
     "output_type": "display_data"
    },
    {
     "data": {
      "text/html": [
       "<pre style=\"white-space:pre;overflow-x:auto;line-height:normal;font-family:Menlo,'DejaVu Sans Mono',consolas,'Courier New',monospace\"><span style=\"color: #7fbfbf; text-decoration-color: #7fbfbf\">                    </span><span style=\"color: #008000; text-decoration-color: #008000\">DEBUG   </span> Deprotonating protein. This removes H atoms from the pdb_df dataframe    <a href=\"file:///Users/lavo/Desktop/Projects/CHL-Project/.venv/lib/python3.10/site-packages/graphein/protein/graphs.py\" target=\"_blank\"><span style=\"color: #7f7f7f; text-decoration-color: #7f7f7f\">graphs.py</span></a><span style=\"color: #7f7f7f; text-decoration-color: #7f7f7f\">:</span><a href=\"file:///Users/lavo/Desktop/Projects/CHL-Project/.venv/lib/python3.10/site-packages/graphein/protein/graphs.py#188\" target=\"_blank\"><span style=\"color: #7f7f7f; text-decoration-color: #7f7f7f\">188</span></a>\n",
       "</pre>\n"
      ],
      "text/plain": [
       "\u001b[2;36m                   \u001b[0m\u001b[2;36m \u001b[0m\u001b[32mDEBUG   \u001b[0m Deprotonating protein. This removes H atoms from the pdb_df dataframe    \u001b]8;id=401159;file:///Users/lavo/Desktop/Projects/CHL-Project/.venv/lib/python3.10/site-packages/graphein/protein/graphs.py\u001b\\\u001b[2mgraphs.py\u001b[0m\u001b]8;;\u001b\\\u001b[2m:\u001b[0m\u001b]8;id=977812;file:///Users/lavo/Desktop/Projects/CHL-Project/.venv/lib/python3.10/site-packages/graphein/protein/graphs.py#188\u001b\\\u001b[2m188\u001b[0m\u001b]8;;\u001b\\\n"
      ]
     },
     "metadata": {},
     "output_type": "display_data"
    },
    {
     "data": {
      "text/html": [
       "<pre style=\"white-space:pre;overflow-x:auto;line-height:normal;font-family:Menlo,'DejaVu Sans Mono',consolas,'Courier New',monospace\"><span style=\"color: #7fbfbf; text-decoration-color: #7fbfbf\">                    </span><span style=\"color: #008000; text-decoration-color: #008000\">DEBUG   </span> Detected <span style=\"color: #008080; text-decoration-color: #008080; font-weight: bold\">445</span> total nodes                                                 <a href=\"file:///Users/lavo/Desktop/Projects/CHL-Project/.venv/lib/python3.10/site-packages/graphein/protein/graphs.py\" target=\"_blank\"><span style=\"color: #7f7f7f; text-decoration-color: #7f7f7f\">graphs.py</span></a><span style=\"color: #7f7f7f; text-decoration-color: #7f7f7f\">:</span><a href=\"file:///Users/lavo/Desktop/Projects/CHL-Project/.venv/lib/python3.10/site-packages/graphein/protein/graphs.py#435\" target=\"_blank\"><span style=\"color: #7f7f7f; text-decoration-color: #7f7f7f\">435</span></a>\n",
       "</pre>\n"
      ],
      "text/plain": [
       "\u001b[2;36m                   \u001b[0m\u001b[2;36m \u001b[0m\u001b[32mDEBUG   \u001b[0m Detected \u001b[1;36m445\u001b[0m total nodes                                                 \u001b]8;id=913699;file:///Users/lavo/Desktop/Projects/CHL-Project/.venv/lib/python3.10/site-packages/graphein/protein/graphs.py\u001b\\\u001b[2mgraphs.py\u001b[0m\u001b]8;;\u001b\\\u001b[2m:\u001b[0m\u001b]8;id=539144;file:///Users/lavo/Desktop/Projects/CHL-Project/.venv/lib/python3.10/site-packages/graphein/protein/graphs.py#435\u001b\\\u001b[2m435\u001b[0m\u001b]8;;\u001b\\\n"
      ]
     },
     "metadata": {},
     "output_type": "display_data"
    },
    {
     "data": {
      "text/html": [
       "<pre style=\"white-space:pre;overflow-x:auto;line-height:normal;font-family:Menlo,'DejaVu Sans Mono',consolas,'Courier New',monospace\"><span style=\"color: #7fbfbf; text-decoration-color: #7fbfbf\">                    </span><span style=\"color: #008000; text-decoration-color: #008000\">DEBUG   </span> Deprotonating protein. This removes H atoms from the pdb_df dataframe    <a href=\"file:///Users/lavo/Desktop/Projects/CHL-Project/.venv/lib/python3.10/site-packages/graphein/protein/graphs.py\" target=\"_blank\"><span style=\"color: #7f7f7f; text-decoration-color: #7f7f7f\">graphs.py</span></a><span style=\"color: #7f7f7f; text-decoration-color: #7f7f7f\">:</span><a href=\"file:///Users/lavo/Desktop/Projects/CHL-Project/.venv/lib/python3.10/site-packages/graphein/protein/graphs.py#188\" target=\"_blank\"><span style=\"color: #7f7f7f; text-decoration-color: #7f7f7f\">188</span></a>\n",
       "</pre>\n"
      ],
      "text/plain": [
       "\u001b[2;36m                   \u001b[0m\u001b[2;36m \u001b[0m\u001b[32mDEBUG   \u001b[0m Deprotonating protein. This removes H atoms from the pdb_df dataframe    \u001b]8;id=33988;file:///Users/lavo/Desktop/Projects/CHL-Project/.venv/lib/python3.10/site-packages/graphein/protein/graphs.py\u001b\\\u001b[2mgraphs.py\u001b[0m\u001b]8;;\u001b\\\u001b[2m:\u001b[0m\u001b]8;id=46701;file:///Users/lavo/Desktop/Projects/CHL-Project/.venv/lib/python3.10/site-packages/graphein/protein/graphs.py#188\u001b\\\u001b[2m188\u001b[0m\u001b]8;;\u001b\\\n"
      ]
     },
     "metadata": {},
     "output_type": "display_data"
    },
    {
     "data": {
      "text/html": [
       "<pre style=\"white-space:pre;overflow-x:auto;line-height:normal;font-family:Menlo,'DejaVu Sans Mono',consolas,'Courier New',monospace\"><span style=\"color: #7fbfbf; text-decoration-color: #7fbfbf\">                    </span><span style=\"color: #008000; text-decoration-color: #008000\">DEBUG   </span> Detected <span style=\"color: #008080; text-decoration-color: #008080; font-weight: bold\">445</span> total nodes                                                 <a href=\"file:///Users/lavo/Desktop/Projects/CHL-Project/.venv/lib/python3.10/site-packages/graphein/protein/graphs.py\" target=\"_blank\"><span style=\"color: #7f7f7f; text-decoration-color: #7f7f7f\">graphs.py</span></a><span style=\"color: #7f7f7f; text-decoration-color: #7f7f7f\">:</span><a href=\"file:///Users/lavo/Desktop/Projects/CHL-Project/.venv/lib/python3.10/site-packages/graphein/protein/graphs.py#435\" target=\"_blank\"><span style=\"color: #7f7f7f; text-decoration-color: #7f7f7f\">435</span></a>\n",
       "</pre>\n"
      ],
      "text/plain": [
       "\u001b[2;36m                   \u001b[0m\u001b[2;36m \u001b[0m\u001b[32mDEBUG   \u001b[0m Detected \u001b[1;36m445\u001b[0m total nodes                                                 \u001b]8;id=40445;file:///Users/lavo/Desktop/Projects/CHL-Project/.venv/lib/python3.10/site-packages/graphein/protein/graphs.py\u001b\\\u001b[2mgraphs.py\u001b[0m\u001b]8;;\u001b\\\u001b[2m:\u001b[0m\u001b]8;id=118872;file:///Users/lavo/Desktop/Projects/CHL-Project/.venv/lib/python3.10/site-packages/graphein/protein/graphs.py#435\u001b\\\u001b[2m435\u001b[0m\u001b]8;;\u001b\\\n"
      ]
     },
     "metadata": {},
     "output_type": "display_data"
    },
    {
     "data": {
      "text/html": [
       "<pre style=\"white-space:pre;overflow-x:auto;line-height:normal;font-family:Menlo,'DejaVu Sans Mono',consolas,'Courier New',monospace\"><span style=\"color: #7fbfbf; text-decoration-color: #7fbfbf\">                    </span><span style=\"color: #008000; text-decoration-color: #008000\">DEBUG   </span> Deprotonating protein. This removes H atoms from the pdb_df dataframe    <a href=\"file:///Users/lavo/Desktop/Projects/CHL-Project/.venv/lib/python3.10/site-packages/graphein/protein/graphs.py\" target=\"_blank\"><span style=\"color: #7f7f7f; text-decoration-color: #7f7f7f\">graphs.py</span></a><span style=\"color: #7f7f7f; text-decoration-color: #7f7f7f\">:</span><a href=\"file:///Users/lavo/Desktop/Projects/CHL-Project/.venv/lib/python3.10/site-packages/graphein/protein/graphs.py#188\" target=\"_blank\"><span style=\"color: #7f7f7f; text-decoration-color: #7f7f7f\">188</span></a>\n",
       "</pre>\n"
      ],
      "text/plain": [
       "\u001b[2;36m                   \u001b[0m\u001b[2;36m \u001b[0m\u001b[32mDEBUG   \u001b[0m Deprotonating protein. This removes H atoms from the pdb_df dataframe    \u001b]8;id=677926;file:///Users/lavo/Desktop/Projects/CHL-Project/.venv/lib/python3.10/site-packages/graphein/protein/graphs.py\u001b\\\u001b[2mgraphs.py\u001b[0m\u001b]8;;\u001b\\\u001b[2m:\u001b[0m\u001b]8;id=199819;file:///Users/lavo/Desktop/Projects/CHL-Project/.venv/lib/python3.10/site-packages/graphein/protein/graphs.py#188\u001b\\\u001b[2m188\u001b[0m\u001b]8;;\u001b\\\n"
      ]
     },
     "metadata": {},
     "output_type": "display_data"
    },
    {
     "data": {
      "text/html": [
       "<pre style=\"white-space:pre;overflow-x:auto;line-height:normal;font-family:Menlo,'DejaVu Sans Mono',consolas,'Courier New',monospace\"><span style=\"color: #7fbfbf; text-decoration-color: #7fbfbf\">                    </span><span style=\"color: #008000; text-decoration-color: #008000\">DEBUG   </span> Detected <span style=\"color: #008080; text-decoration-color: #008080; font-weight: bold\">445</span> total nodes                                                 <a href=\"file:///Users/lavo/Desktop/Projects/CHL-Project/.venv/lib/python3.10/site-packages/graphein/protein/graphs.py\" target=\"_blank\"><span style=\"color: #7f7f7f; text-decoration-color: #7f7f7f\">graphs.py</span></a><span style=\"color: #7f7f7f; text-decoration-color: #7f7f7f\">:</span><a href=\"file:///Users/lavo/Desktop/Projects/CHL-Project/.venv/lib/python3.10/site-packages/graphein/protein/graphs.py#435\" target=\"_blank\"><span style=\"color: #7f7f7f; text-decoration-color: #7f7f7f\">435</span></a>\n",
       "</pre>\n"
      ],
      "text/plain": [
       "\u001b[2;36m                   \u001b[0m\u001b[2;36m \u001b[0m\u001b[32mDEBUG   \u001b[0m Detected \u001b[1;36m445\u001b[0m total nodes                                                 \u001b]8;id=175014;file:///Users/lavo/Desktop/Projects/CHL-Project/.venv/lib/python3.10/site-packages/graphein/protein/graphs.py\u001b\\\u001b[2mgraphs.py\u001b[0m\u001b]8;;\u001b\\\u001b[2m:\u001b[0m\u001b]8;id=95150;file:///Users/lavo/Desktop/Projects/CHL-Project/.venv/lib/python3.10/site-packages/graphein/protein/graphs.py#435\u001b\\\u001b[2m435\u001b[0m\u001b]8;;\u001b\\\n"
      ]
     },
     "metadata": {},
     "output_type": "display_data"
    },
    {
     "data": {
      "text/html": [
       "<pre style=\"white-space:pre;overflow-x:auto;line-height:normal;font-family:Menlo,'DejaVu Sans Mono',consolas,'Courier New',monospace\"><span style=\"color: #7fbfbf; text-decoration-color: #7fbfbf\">                    </span><span style=\"color: #008000; text-decoration-color: #008000\">DEBUG   </span> Deprotonating protein. This removes H atoms from the pdb_df dataframe    <a href=\"file:///Users/lavo/Desktop/Projects/CHL-Project/.venv/lib/python3.10/site-packages/graphein/protein/graphs.py\" target=\"_blank\"><span style=\"color: #7f7f7f; text-decoration-color: #7f7f7f\">graphs.py</span></a><span style=\"color: #7f7f7f; text-decoration-color: #7f7f7f\">:</span><a href=\"file:///Users/lavo/Desktop/Projects/CHL-Project/.venv/lib/python3.10/site-packages/graphein/protein/graphs.py#188\" target=\"_blank\"><span style=\"color: #7f7f7f; text-decoration-color: #7f7f7f\">188</span></a>\n",
       "</pre>\n"
      ],
      "text/plain": [
       "\u001b[2;36m                   \u001b[0m\u001b[2;36m \u001b[0m\u001b[32mDEBUG   \u001b[0m Deprotonating protein. This removes H atoms from the pdb_df dataframe    \u001b]8;id=463927;file:///Users/lavo/Desktop/Projects/CHL-Project/.venv/lib/python3.10/site-packages/graphein/protein/graphs.py\u001b\\\u001b[2mgraphs.py\u001b[0m\u001b]8;;\u001b\\\u001b[2m:\u001b[0m\u001b]8;id=929865;file:///Users/lavo/Desktop/Projects/CHL-Project/.venv/lib/python3.10/site-packages/graphein/protein/graphs.py#188\u001b\\\u001b[2m188\u001b[0m\u001b]8;;\u001b\\\n"
      ]
     },
     "metadata": {},
     "output_type": "display_data"
    },
    {
     "data": {
      "text/html": [
       "<pre style=\"white-space:pre;overflow-x:auto;line-height:normal;font-family:Menlo,'DejaVu Sans Mono',consolas,'Courier New',monospace\"><span style=\"color: #7fbfbf; text-decoration-color: #7fbfbf\">                    </span><span style=\"color: #008000; text-decoration-color: #008000\">DEBUG   </span> Detected <span style=\"color: #008080; text-decoration-color: #008080; font-weight: bold\">445</span> total nodes                                                 <a href=\"file:///Users/lavo/Desktop/Projects/CHL-Project/.venv/lib/python3.10/site-packages/graphein/protein/graphs.py\" target=\"_blank\"><span style=\"color: #7f7f7f; text-decoration-color: #7f7f7f\">graphs.py</span></a><span style=\"color: #7f7f7f; text-decoration-color: #7f7f7f\">:</span><a href=\"file:///Users/lavo/Desktop/Projects/CHL-Project/.venv/lib/python3.10/site-packages/graphein/protein/graphs.py#435\" target=\"_blank\"><span style=\"color: #7f7f7f; text-decoration-color: #7f7f7f\">435</span></a>\n",
       "</pre>\n"
      ],
      "text/plain": [
       "\u001b[2;36m                   \u001b[0m\u001b[2;36m \u001b[0m\u001b[32mDEBUG   \u001b[0m Detected \u001b[1;36m445\u001b[0m total nodes                                                 \u001b]8;id=371201;file:///Users/lavo/Desktop/Projects/CHL-Project/.venv/lib/python3.10/site-packages/graphein/protein/graphs.py\u001b\\\u001b[2mgraphs.py\u001b[0m\u001b]8;;\u001b\\\u001b[2m:\u001b[0m\u001b]8;id=818834;file:///Users/lavo/Desktop/Projects/CHL-Project/.venv/lib/python3.10/site-packages/graphein/protein/graphs.py#435\u001b\\\u001b[2m435\u001b[0m\u001b]8;;\u001b\\\n"
      ]
     },
     "metadata": {},
     "output_type": "display_data"
    },
    {
     "data": {
      "text/html": [
       "<pre style=\"white-space:pre;overflow-x:auto;line-height:normal;font-family:Menlo,'DejaVu Sans Mono',consolas,'Courier New',monospace\"><span style=\"color: #7fbfbf; text-decoration-color: #7fbfbf\">                    </span><span style=\"color: #008000; text-decoration-color: #008000\">DEBUG   </span> Deprotonating protein. This removes H atoms from the pdb_df dataframe    <a href=\"file:///Users/lavo/Desktop/Projects/CHL-Project/.venv/lib/python3.10/site-packages/graphein/protein/graphs.py\" target=\"_blank\"><span style=\"color: #7f7f7f; text-decoration-color: #7f7f7f\">graphs.py</span></a><span style=\"color: #7f7f7f; text-decoration-color: #7f7f7f\">:</span><a href=\"file:///Users/lavo/Desktop/Projects/CHL-Project/.venv/lib/python3.10/site-packages/graphein/protein/graphs.py#188\" target=\"_blank\"><span style=\"color: #7f7f7f; text-decoration-color: #7f7f7f\">188</span></a>\n",
       "</pre>\n"
      ],
      "text/plain": [
       "\u001b[2;36m                   \u001b[0m\u001b[2;36m \u001b[0m\u001b[32mDEBUG   \u001b[0m Deprotonating protein. This removes H atoms from the pdb_df dataframe    \u001b]8;id=743225;file:///Users/lavo/Desktop/Projects/CHL-Project/.venv/lib/python3.10/site-packages/graphein/protein/graphs.py\u001b\\\u001b[2mgraphs.py\u001b[0m\u001b]8;;\u001b\\\u001b[2m:\u001b[0m\u001b]8;id=181930;file:///Users/lavo/Desktop/Projects/CHL-Project/.venv/lib/python3.10/site-packages/graphein/protein/graphs.py#188\u001b\\\u001b[2m188\u001b[0m\u001b]8;;\u001b\\\n"
      ]
     },
     "metadata": {},
     "output_type": "display_data"
    },
    {
     "data": {
      "text/html": [
       "<pre style=\"white-space:pre;overflow-x:auto;line-height:normal;font-family:Menlo,'DejaVu Sans Mono',consolas,'Courier New',monospace\"><span style=\"color: #7fbfbf; text-decoration-color: #7fbfbf\">                    </span><span style=\"color: #008000; text-decoration-color: #008000\">DEBUG   </span> Detected <span style=\"color: #008080; text-decoration-color: #008080; font-weight: bold\">445</span> total nodes                                                 <a href=\"file:///Users/lavo/Desktop/Projects/CHL-Project/.venv/lib/python3.10/site-packages/graphein/protein/graphs.py\" target=\"_blank\"><span style=\"color: #7f7f7f; text-decoration-color: #7f7f7f\">graphs.py</span></a><span style=\"color: #7f7f7f; text-decoration-color: #7f7f7f\">:</span><a href=\"file:///Users/lavo/Desktop/Projects/CHL-Project/.venv/lib/python3.10/site-packages/graphein/protein/graphs.py#435\" target=\"_blank\"><span style=\"color: #7f7f7f; text-decoration-color: #7f7f7f\">435</span></a>\n",
       "</pre>\n"
      ],
      "text/plain": [
       "\u001b[2;36m                   \u001b[0m\u001b[2;36m \u001b[0m\u001b[32mDEBUG   \u001b[0m Detected \u001b[1;36m445\u001b[0m total nodes                                                 \u001b]8;id=677204;file:///Users/lavo/Desktop/Projects/CHL-Project/.venv/lib/python3.10/site-packages/graphein/protein/graphs.py\u001b\\\u001b[2mgraphs.py\u001b[0m\u001b]8;;\u001b\\\u001b[2m:\u001b[0m\u001b]8;id=723652;file:///Users/lavo/Desktop/Projects/CHL-Project/.venv/lib/python3.10/site-packages/graphein/protein/graphs.py#435\u001b\\\u001b[2m435\u001b[0m\u001b]8;;\u001b\\\n"
      ]
     },
     "metadata": {},
     "output_type": "display_data"
    },
    {
     "data": {
      "text/html": [
       "<pre style=\"white-space:pre;overflow-x:auto;line-height:normal;font-family:Menlo,'DejaVu Sans Mono',consolas,'Courier New',monospace\"><span style=\"color: #7fbfbf; text-decoration-color: #7fbfbf\">                    </span><span style=\"color: #008000; text-decoration-color: #008000\">DEBUG   </span> Deprotonating protein. This removes H atoms from the pdb_df dataframe    <a href=\"file:///Users/lavo/Desktop/Projects/CHL-Project/.venv/lib/python3.10/site-packages/graphein/protein/graphs.py\" target=\"_blank\"><span style=\"color: #7f7f7f; text-decoration-color: #7f7f7f\">graphs.py</span></a><span style=\"color: #7f7f7f; text-decoration-color: #7f7f7f\">:</span><a href=\"file:///Users/lavo/Desktop/Projects/CHL-Project/.venv/lib/python3.10/site-packages/graphein/protein/graphs.py#188\" target=\"_blank\"><span style=\"color: #7f7f7f; text-decoration-color: #7f7f7f\">188</span></a>\n",
       "</pre>\n"
      ],
      "text/plain": [
       "\u001b[2;36m                   \u001b[0m\u001b[2;36m \u001b[0m\u001b[32mDEBUG   \u001b[0m Deprotonating protein. This removes H atoms from the pdb_df dataframe    \u001b]8;id=147899;file:///Users/lavo/Desktop/Projects/CHL-Project/.venv/lib/python3.10/site-packages/graphein/protein/graphs.py\u001b\\\u001b[2mgraphs.py\u001b[0m\u001b]8;;\u001b\\\u001b[2m:\u001b[0m\u001b]8;id=706648;file:///Users/lavo/Desktop/Projects/CHL-Project/.venv/lib/python3.10/site-packages/graphein/protein/graphs.py#188\u001b\\\u001b[2m188\u001b[0m\u001b]8;;\u001b\\\n"
      ]
     },
     "metadata": {},
     "output_type": "display_data"
    },
    {
     "data": {
      "text/html": [
       "<pre style=\"white-space:pre;overflow-x:auto;line-height:normal;font-family:Menlo,'DejaVu Sans Mono',consolas,'Courier New',monospace\"><span style=\"color: #7fbfbf; text-decoration-color: #7fbfbf\">                    </span><span style=\"color: #008000; text-decoration-color: #008000\">DEBUG   </span> Detected <span style=\"color: #008080; text-decoration-color: #008080; font-weight: bold\">445</span> total nodes                                                 <a href=\"file:///Users/lavo/Desktop/Projects/CHL-Project/.venv/lib/python3.10/site-packages/graphein/protein/graphs.py\" target=\"_blank\"><span style=\"color: #7f7f7f; text-decoration-color: #7f7f7f\">graphs.py</span></a><span style=\"color: #7f7f7f; text-decoration-color: #7f7f7f\">:</span><a href=\"file:///Users/lavo/Desktop/Projects/CHL-Project/.venv/lib/python3.10/site-packages/graphein/protein/graphs.py#435\" target=\"_blank\"><span style=\"color: #7f7f7f; text-decoration-color: #7f7f7f\">435</span></a>\n",
       "</pre>\n"
      ],
      "text/plain": [
       "\u001b[2;36m                   \u001b[0m\u001b[2;36m \u001b[0m\u001b[32mDEBUG   \u001b[0m Detected \u001b[1;36m445\u001b[0m total nodes                                                 \u001b]8;id=83589;file:///Users/lavo/Desktop/Projects/CHL-Project/.venv/lib/python3.10/site-packages/graphein/protein/graphs.py\u001b\\\u001b[2mgraphs.py\u001b[0m\u001b]8;;\u001b\\\u001b[2m:\u001b[0m\u001b]8;id=870652;file:///Users/lavo/Desktop/Projects/CHL-Project/.venv/lib/python3.10/site-packages/graphein/protein/graphs.py#435\u001b\\\u001b[2m435\u001b[0m\u001b]8;;\u001b\\\n"
      ]
     },
     "metadata": {},
     "output_type": "display_data"
    },
    {
     "data": {
      "text/html": [
       "<pre style=\"white-space:pre;overflow-x:auto;line-height:normal;font-family:Menlo,'DejaVu Sans Mono',consolas,'Courier New',monospace\"><span style=\"color: #7fbfbf; text-decoration-color: #7fbfbf\">                    </span><span style=\"color: #008000; text-decoration-color: #008000\">DEBUG   </span> Deprotonating protein. This removes H atoms from the pdb_df dataframe    <a href=\"file:///Users/lavo/Desktop/Projects/CHL-Project/.venv/lib/python3.10/site-packages/graphein/protein/graphs.py\" target=\"_blank\"><span style=\"color: #7f7f7f; text-decoration-color: #7f7f7f\">graphs.py</span></a><span style=\"color: #7f7f7f; text-decoration-color: #7f7f7f\">:</span><a href=\"file:///Users/lavo/Desktop/Projects/CHL-Project/.venv/lib/python3.10/site-packages/graphein/protein/graphs.py#188\" target=\"_blank\"><span style=\"color: #7f7f7f; text-decoration-color: #7f7f7f\">188</span></a>\n",
       "</pre>\n"
      ],
      "text/plain": [
       "\u001b[2;36m                   \u001b[0m\u001b[2;36m \u001b[0m\u001b[32mDEBUG   \u001b[0m Deprotonating protein. This removes H atoms from the pdb_df dataframe    \u001b]8;id=905718;file:///Users/lavo/Desktop/Projects/CHL-Project/.venv/lib/python3.10/site-packages/graphein/protein/graphs.py\u001b\\\u001b[2mgraphs.py\u001b[0m\u001b]8;;\u001b\\\u001b[2m:\u001b[0m\u001b]8;id=108370;file:///Users/lavo/Desktop/Projects/CHL-Project/.venv/lib/python3.10/site-packages/graphein/protein/graphs.py#188\u001b\\\u001b[2m188\u001b[0m\u001b]8;;\u001b\\\n"
      ]
     },
     "metadata": {},
     "output_type": "display_data"
    },
    {
     "data": {
      "text/html": [
       "<pre style=\"white-space:pre;overflow-x:auto;line-height:normal;font-family:Menlo,'DejaVu Sans Mono',consolas,'Courier New',monospace\"><span style=\"color: #7fbfbf; text-decoration-color: #7fbfbf\">                    </span><span style=\"color: #008000; text-decoration-color: #008000\">DEBUG   </span> Detected <span style=\"color: #008080; text-decoration-color: #008080; font-weight: bold\">445</span> total nodes                                                 <a href=\"file:///Users/lavo/Desktop/Projects/CHL-Project/.venv/lib/python3.10/site-packages/graphein/protein/graphs.py\" target=\"_blank\"><span style=\"color: #7f7f7f; text-decoration-color: #7f7f7f\">graphs.py</span></a><span style=\"color: #7f7f7f; text-decoration-color: #7f7f7f\">:</span><a href=\"file:///Users/lavo/Desktop/Projects/CHL-Project/.venv/lib/python3.10/site-packages/graphein/protein/graphs.py#435\" target=\"_blank\"><span style=\"color: #7f7f7f; text-decoration-color: #7f7f7f\">435</span></a>\n",
       "</pre>\n"
      ],
      "text/plain": [
       "\u001b[2;36m                   \u001b[0m\u001b[2;36m \u001b[0m\u001b[32mDEBUG   \u001b[0m Detected \u001b[1;36m445\u001b[0m total nodes                                                 \u001b]8;id=33433;file:///Users/lavo/Desktop/Projects/CHL-Project/.venv/lib/python3.10/site-packages/graphein/protein/graphs.py\u001b\\\u001b[2mgraphs.py\u001b[0m\u001b]8;;\u001b\\\u001b[2m:\u001b[0m\u001b]8;id=460450;file:///Users/lavo/Desktop/Projects/CHL-Project/.venv/lib/python3.10/site-packages/graphein/protein/graphs.py#435\u001b\\\u001b[2m435\u001b[0m\u001b]8;;\u001b\\\n"
      ]
     },
     "metadata": {},
     "output_type": "display_data"
    },
    {
     "data": {
      "text/html": [
       "<pre style=\"white-space:pre;overflow-x:auto;line-height:normal;font-family:Menlo,'DejaVu Sans Mono',consolas,'Courier New',monospace\"><span style=\"color: #7fbfbf; text-decoration-color: #7fbfbf\">                    </span><span style=\"color: #008000; text-decoration-color: #008000\">DEBUG   </span> Deprotonating protein. This removes H atoms from the pdb_df dataframe    <a href=\"file:///Users/lavo/Desktop/Projects/CHL-Project/.venv/lib/python3.10/site-packages/graphein/protein/graphs.py\" target=\"_blank\"><span style=\"color: #7f7f7f; text-decoration-color: #7f7f7f\">graphs.py</span></a><span style=\"color: #7f7f7f; text-decoration-color: #7f7f7f\">:</span><a href=\"file:///Users/lavo/Desktop/Projects/CHL-Project/.venv/lib/python3.10/site-packages/graphein/protein/graphs.py#188\" target=\"_blank\"><span style=\"color: #7f7f7f; text-decoration-color: #7f7f7f\">188</span></a>\n",
       "</pre>\n"
      ],
      "text/plain": [
       "\u001b[2;36m                   \u001b[0m\u001b[2;36m \u001b[0m\u001b[32mDEBUG   \u001b[0m Deprotonating protein. This removes H atoms from the pdb_df dataframe    \u001b]8;id=958266;file:///Users/lavo/Desktop/Projects/CHL-Project/.venv/lib/python3.10/site-packages/graphein/protein/graphs.py\u001b\\\u001b[2mgraphs.py\u001b[0m\u001b]8;;\u001b\\\u001b[2m:\u001b[0m\u001b]8;id=367862;file:///Users/lavo/Desktop/Projects/CHL-Project/.venv/lib/python3.10/site-packages/graphein/protein/graphs.py#188\u001b\\\u001b[2m188\u001b[0m\u001b]8;;\u001b\\\n"
      ]
     },
     "metadata": {},
     "output_type": "display_data"
    },
    {
     "data": {
      "text/html": [
       "<pre style=\"white-space:pre;overflow-x:auto;line-height:normal;font-family:Menlo,'DejaVu Sans Mono',consolas,'Courier New',monospace\"><span style=\"color: #7fbfbf; text-decoration-color: #7fbfbf\">                    </span><span style=\"color: #008000; text-decoration-color: #008000\">DEBUG   </span> Detected <span style=\"color: #008080; text-decoration-color: #008080; font-weight: bold\">445</span> total nodes                                                 <a href=\"file:///Users/lavo/Desktop/Projects/CHL-Project/.venv/lib/python3.10/site-packages/graphein/protein/graphs.py\" target=\"_blank\"><span style=\"color: #7f7f7f; text-decoration-color: #7f7f7f\">graphs.py</span></a><span style=\"color: #7f7f7f; text-decoration-color: #7f7f7f\">:</span><a href=\"file:///Users/lavo/Desktop/Projects/CHL-Project/.venv/lib/python3.10/site-packages/graphein/protein/graphs.py#435\" target=\"_blank\"><span style=\"color: #7f7f7f; text-decoration-color: #7f7f7f\">435</span></a>\n",
       "</pre>\n"
      ],
      "text/plain": [
       "\u001b[2;36m                   \u001b[0m\u001b[2;36m \u001b[0m\u001b[32mDEBUG   \u001b[0m Detected \u001b[1;36m445\u001b[0m total nodes                                                 \u001b]8;id=281855;file:///Users/lavo/Desktop/Projects/CHL-Project/.venv/lib/python3.10/site-packages/graphein/protein/graphs.py\u001b\\\u001b[2mgraphs.py\u001b[0m\u001b]8;;\u001b\\\u001b[2m:\u001b[0m\u001b]8;id=275535;file:///Users/lavo/Desktop/Projects/CHL-Project/.venv/lib/python3.10/site-packages/graphein/protein/graphs.py#435\u001b\\\u001b[2m435\u001b[0m\u001b]8;;\u001b\\\n"
      ]
     },
     "metadata": {},
     "output_type": "display_data"
    },
    {
     "data": {
      "text/html": [
       "<pre style=\"white-space:pre;overflow-x:auto;line-height:normal;font-family:Menlo,'DejaVu Sans Mono',consolas,'Courier New',monospace\"><span style=\"color: #7fbfbf; text-decoration-color: #7fbfbf\">                    </span><span style=\"color: #008000; text-decoration-color: #008000\">DEBUG   </span> Deprotonating protein. This removes H atoms from the pdb_df dataframe    <a href=\"file:///Users/lavo/Desktop/Projects/CHL-Project/.venv/lib/python3.10/site-packages/graphein/protein/graphs.py\" target=\"_blank\"><span style=\"color: #7f7f7f; text-decoration-color: #7f7f7f\">graphs.py</span></a><span style=\"color: #7f7f7f; text-decoration-color: #7f7f7f\">:</span><a href=\"file:///Users/lavo/Desktop/Projects/CHL-Project/.venv/lib/python3.10/site-packages/graphein/protein/graphs.py#188\" target=\"_blank\"><span style=\"color: #7f7f7f; text-decoration-color: #7f7f7f\">188</span></a>\n",
       "</pre>\n"
      ],
      "text/plain": [
       "\u001b[2;36m                   \u001b[0m\u001b[2;36m \u001b[0m\u001b[32mDEBUG   \u001b[0m Deprotonating protein. This removes H atoms from the pdb_df dataframe    \u001b]8;id=381443;file:///Users/lavo/Desktop/Projects/CHL-Project/.venv/lib/python3.10/site-packages/graphein/protein/graphs.py\u001b\\\u001b[2mgraphs.py\u001b[0m\u001b]8;;\u001b\\\u001b[2m:\u001b[0m\u001b]8;id=650303;file:///Users/lavo/Desktop/Projects/CHL-Project/.venv/lib/python3.10/site-packages/graphein/protein/graphs.py#188\u001b\\\u001b[2m188\u001b[0m\u001b]8;;\u001b\\\n"
      ]
     },
     "metadata": {},
     "output_type": "display_data"
    },
    {
     "data": {
      "text/html": [
       "<pre style=\"white-space:pre;overflow-x:auto;line-height:normal;font-family:Menlo,'DejaVu Sans Mono',consolas,'Courier New',monospace\"><span style=\"color: #7fbfbf; text-decoration-color: #7fbfbf\">                    </span><span style=\"color: #008000; text-decoration-color: #008000\">DEBUG   </span> Detected <span style=\"color: #008080; text-decoration-color: #008080; font-weight: bold\">445</span> total nodes                                                 <a href=\"file:///Users/lavo/Desktop/Projects/CHL-Project/.venv/lib/python3.10/site-packages/graphein/protein/graphs.py\" target=\"_blank\"><span style=\"color: #7f7f7f; text-decoration-color: #7f7f7f\">graphs.py</span></a><span style=\"color: #7f7f7f; text-decoration-color: #7f7f7f\">:</span><a href=\"file:///Users/lavo/Desktop/Projects/CHL-Project/.venv/lib/python3.10/site-packages/graphein/protein/graphs.py#435\" target=\"_blank\"><span style=\"color: #7f7f7f; text-decoration-color: #7f7f7f\">435</span></a>\n",
       "</pre>\n"
      ],
      "text/plain": [
       "\u001b[2;36m                   \u001b[0m\u001b[2;36m \u001b[0m\u001b[32mDEBUG   \u001b[0m Detected \u001b[1;36m445\u001b[0m total nodes                                                 \u001b]8;id=331655;file:///Users/lavo/Desktop/Projects/CHL-Project/.venv/lib/python3.10/site-packages/graphein/protein/graphs.py\u001b\\\u001b[2mgraphs.py\u001b[0m\u001b]8;;\u001b\\\u001b[2m:\u001b[0m\u001b]8;id=920176;file:///Users/lavo/Desktop/Projects/CHL-Project/.venv/lib/python3.10/site-packages/graphein/protein/graphs.py#435\u001b\\\u001b[2m435\u001b[0m\u001b]8;;\u001b\\\n"
      ]
     },
     "metadata": {},
     "output_type": "display_data"
    },
    {
     "data": {
      "text/html": [
       "<pre style=\"white-space:pre;overflow-x:auto;line-height:normal;font-family:Menlo,'DejaVu Sans Mono',consolas,'Courier New',monospace\"><span style=\"color: #7fbfbf; text-decoration-color: #7fbfbf\">                    </span><span style=\"color: #008000; text-decoration-color: #008000\">DEBUG   </span> Deprotonating protein. This removes H atoms from the pdb_df dataframe    <a href=\"file:///Users/lavo/Desktop/Projects/CHL-Project/.venv/lib/python3.10/site-packages/graphein/protein/graphs.py\" target=\"_blank\"><span style=\"color: #7f7f7f; text-decoration-color: #7f7f7f\">graphs.py</span></a><span style=\"color: #7f7f7f; text-decoration-color: #7f7f7f\">:</span><a href=\"file:///Users/lavo/Desktop/Projects/CHL-Project/.venv/lib/python3.10/site-packages/graphein/protein/graphs.py#188\" target=\"_blank\"><span style=\"color: #7f7f7f; text-decoration-color: #7f7f7f\">188</span></a>\n",
       "</pre>\n"
      ],
      "text/plain": [
       "\u001b[2;36m                   \u001b[0m\u001b[2;36m \u001b[0m\u001b[32mDEBUG   \u001b[0m Deprotonating protein. This removes H atoms from the pdb_df dataframe    \u001b]8;id=954942;file:///Users/lavo/Desktop/Projects/CHL-Project/.venv/lib/python3.10/site-packages/graphein/protein/graphs.py\u001b\\\u001b[2mgraphs.py\u001b[0m\u001b]8;;\u001b\\\u001b[2m:\u001b[0m\u001b]8;id=984602;file:///Users/lavo/Desktop/Projects/CHL-Project/.venv/lib/python3.10/site-packages/graphein/protein/graphs.py#188\u001b\\\u001b[2m188\u001b[0m\u001b]8;;\u001b\\\n"
      ]
     },
     "metadata": {},
     "output_type": "display_data"
    },
    {
     "data": {
      "text/html": [
       "<pre style=\"white-space:pre;overflow-x:auto;line-height:normal;font-family:Menlo,'DejaVu Sans Mono',consolas,'Courier New',monospace\"><span style=\"color: #7fbfbf; text-decoration-color: #7fbfbf\">                    </span><span style=\"color: #008000; text-decoration-color: #008000\">DEBUG   </span> Detected <span style=\"color: #008080; text-decoration-color: #008080; font-weight: bold\">445</span> total nodes                                                 <a href=\"file:///Users/lavo/Desktop/Projects/CHL-Project/.venv/lib/python3.10/site-packages/graphein/protein/graphs.py\" target=\"_blank\"><span style=\"color: #7f7f7f; text-decoration-color: #7f7f7f\">graphs.py</span></a><span style=\"color: #7f7f7f; text-decoration-color: #7f7f7f\">:</span><a href=\"file:///Users/lavo/Desktop/Projects/CHL-Project/.venv/lib/python3.10/site-packages/graphein/protein/graphs.py#435\" target=\"_blank\"><span style=\"color: #7f7f7f; text-decoration-color: #7f7f7f\">435</span></a>\n",
       "</pre>\n"
      ],
      "text/plain": [
       "\u001b[2;36m                   \u001b[0m\u001b[2;36m \u001b[0m\u001b[32mDEBUG   \u001b[0m Detected \u001b[1;36m445\u001b[0m total nodes                                                 \u001b]8;id=604320;file:///Users/lavo/Desktop/Projects/CHL-Project/.venv/lib/python3.10/site-packages/graphein/protein/graphs.py\u001b\\\u001b[2mgraphs.py\u001b[0m\u001b]8;;\u001b\\\u001b[2m:\u001b[0m\u001b]8;id=524760;file:///Users/lavo/Desktop/Projects/CHL-Project/.venv/lib/python3.10/site-packages/graphein/protein/graphs.py#435\u001b\\\u001b[2m435\u001b[0m\u001b]8;;\u001b\\\n"
      ]
     },
     "metadata": {},
     "output_type": "display_data"
    },
    {
     "data": {
      "text/html": [
       "<pre style=\"white-space:pre;overflow-x:auto;line-height:normal;font-family:Menlo,'DejaVu Sans Mono',consolas,'Courier New',monospace\"><span style=\"color: #7fbfbf; text-decoration-color: #7fbfbf\">[04/29/24 11:01:59] </span><span style=\"color: #008000; text-decoration-color: #008000\">DEBUG   </span> Deprotonating protein. This removes H atoms from the pdb_df dataframe    <a href=\"file:///Users/lavo/Desktop/Projects/CHL-Project/.venv/lib/python3.10/site-packages/graphein/protein/graphs.py\" target=\"_blank\"><span style=\"color: #7f7f7f; text-decoration-color: #7f7f7f\">graphs.py</span></a><span style=\"color: #7f7f7f; text-decoration-color: #7f7f7f\">:</span><a href=\"file:///Users/lavo/Desktop/Projects/CHL-Project/.venv/lib/python3.10/site-packages/graphein/protein/graphs.py#188\" target=\"_blank\"><span style=\"color: #7f7f7f; text-decoration-color: #7f7f7f\">188</span></a>\n",
       "</pre>\n"
      ],
      "text/plain": [
       "\u001b[2;36m[04/29/24 11:01:59]\u001b[0m\u001b[2;36m \u001b[0m\u001b[32mDEBUG   \u001b[0m Deprotonating protein. This removes H atoms from the pdb_df dataframe    \u001b]8;id=230216;file:///Users/lavo/Desktop/Projects/CHL-Project/.venv/lib/python3.10/site-packages/graphein/protein/graphs.py\u001b\\\u001b[2mgraphs.py\u001b[0m\u001b]8;;\u001b\\\u001b[2m:\u001b[0m\u001b]8;id=758087;file:///Users/lavo/Desktop/Projects/CHL-Project/.venv/lib/python3.10/site-packages/graphein/protein/graphs.py#188\u001b\\\u001b[2m188\u001b[0m\u001b]8;;\u001b\\\n"
      ]
     },
     "metadata": {},
     "output_type": "display_data"
    },
    {
     "data": {
      "text/html": [
       "<pre style=\"white-space:pre;overflow-x:auto;line-height:normal;font-family:Menlo,'DejaVu Sans Mono',consolas,'Courier New',monospace\"><span style=\"color: #7fbfbf; text-decoration-color: #7fbfbf\">                    </span><span style=\"color: #008000; text-decoration-color: #008000\">DEBUG   </span> Detected <span style=\"color: #008080; text-decoration-color: #008080; font-weight: bold\">445</span> total nodes                                                 <a href=\"file:///Users/lavo/Desktop/Projects/CHL-Project/.venv/lib/python3.10/site-packages/graphein/protein/graphs.py\" target=\"_blank\"><span style=\"color: #7f7f7f; text-decoration-color: #7f7f7f\">graphs.py</span></a><span style=\"color: #7f7f7f; text-decoration-color: #7f7f7f\">:</span><a href=\"file:///Users/lavo/Desktop/Projects/CHL-Project/.venv/lib/python3.10/site-packages/graphein/protein/graphs.py#435\" target=\"_blank\"><span style=\"color: #7f7f7f; text-decoration-color: #7f7f7f\">435</span></a>\n",
       "</pre>\n"
      ],
      "text/plain": [
       "\u001b[2;36m                   \u001b[0m\u001b[2;36m \u001b[0m\u001b[32mDEBUG   \u001b[0m Detected \u001b[1;36m445\u001b[0m total nodes                                                 \u001b]8;id=817410;file:///Users/lavo/Desktop/Projects/CHL-Project/.venv/lib/python3.10/site-packages/graphein/protein/graphs.py\u001b\\\u001b[2mgraphs.py\u001b[0m\u001b]8;;\u001b\\\u001b[2m:\u001b[0m\u001b]8;id=543048;file:///Users/lavo/Desktop/Projects/CHL-Project/.venv/lib/python3.10/site-packages/graphein/protein/graphs.py#435\u001b\\\u001b[2m435\u001b[0m\u001b]8;;\u001b\\\n"
      ]
     },
     "metadata": {},
     "output_type": "display_data"
    },
    {
     "data": {
      "text/html": [
       "<pre style=\"white-space:pre;overflow-x:auto;line-height:normal;font-family:Menlo,'DejaVu Sans Mono',consolas,'Courier New',monospace\"><span style=\"color: #7fbfbf; text-decoration-color: #7fbfbf\">                    </span><span style=\"color: #008000; text-decoration-color: #008000\">DEBUG   </span> Deprotonating protein. This removes H atoms from the pdb_df dataframe    <a href=\"file:///Users/lavo/Desktop/Projects/CHL-Project/.venv/lib/python3.10/site-packages/graphein/protein/graphs.py\" target=\"_blank\"><span style=\"color: #7f7f7f; text-decoration-color: #7f7f7f\">graphs.py</span></a><span style=\"color: #7f7f7f; text-decoration-color: #7f7f7f\">:</span><a href=\"file:///Users/lavo/Desktop/Projects/CHL-Project/.venv/lib/python3.10/site-packages/graphein/protein/graphs.py#188\" target=\"_blank\"><span style=\"color: #7f7f7f; text-decoration-color: #7f7f7f\">188</span></a>\n",
       "</pre>\n"
      ],
      "text/plain": [
       "\u001b[2;36m                   \u001b[0m\u001b[2;36m \u001b[0m\u001b[32mDEBUG   \u001b[0m Deprotonating protein. This removes H atoms from the pdb_df dataframe    \u001b]8;id=259648;file:///Users/lavo/Desktop/Projects/CHL-Project/.venv/lib/python3.10/site-packages/graphein/protein/graphs.py\u001b\\\u001b[2mgraphs.py\u001b[0m\u001b]8;;\u001b\\\u001b[2m:\u001b[0m\u001b]8;id=903770;file:///Users/lavo/Desktop/Projects/CHL-Project/.venv/lib/python3.10/site-packages/graphein/protein/graphs.py#188\u001b\\\u001b[2m188\u001b[0m\u001b]8;;\u001b\\\n"
      ]
     },
     "metadata": {},
     "output_type": "display_data"
    },
    {
     "data": {
      "text/html": [
       "<pre style=\"white-space:pre;overflow-x:auto;line-height:normal;font-family:Menlo,'DejaVu Sans Mono',consolas,'Courier New',monospace\"><span style=\"color: #7fbfbf; text-decoration-color: #7fbfbf\">                    </span><span style=\"color: #008000; text-decoration-color: #008000\">DEBUG   </span> Detected <span style=\"color: #008080; text-decoration-color: #008080; font-weight: bold\">445</span> total nodes                                                 <a href=\"file:///Users/lavo/Desktop/Projects/CHL-Project/.venv/lib/python3.10/site-packages/graphein/protein/graphs.py\" target=\"_blank\"><span style=\"color: #7f7f7f; text-decoration-color: #7f7f7f\">graphs.py</span></a><span style=\"color: #7f7f7f; text-decoration-color: #7f7f7f\">:</span><a href=\"file:///Users/lavo/Desktop/Projects/CHL-Project/.venv/lib/python3.10/site-packages/graphein/protein/graphs.py#435\" target=\"_blank\"><span style=\"color: #7f7f7f; text-decoration-color: #7f7f7f\">435</span></a>\n",
       "</pre>\n"
      ],
      "text/plain": [
       "\u001b[2;36m                   \u001b[0m\u001b[2;36m \u001b[0m\u001b[32mDEBUG   \u001b[0m Detected \u001b[1;36m445\u001b[0m total nodes                                                 \u001b]8;id=9453;file:///Users/lavo/Desktop/Projects/CHL-Project/.venv/lib/python3.10/site-packages/graphein/protein/graphs.py\u001b\\\u001b[2mgraphs.py\u001b[0m\u001b]8;;\u001b\\\u001b[2m:\u001b[0m\u001b]8;id=697425;file:///Users/lavo/Desktop/Projects/CHL-Project/.venv/lib/python3.10/site-packages/graphein/protein/graphs.py#435\u001b\\\u001b[2m435\u001b[0m\u001b]8;;\u001b\\\n"
      ]
     },
     "metadata": {},
     "output_type": "display_data"
    },
    {
     "data": {
      "text/html": [
       "<pre style=\"white-space:pre;overflow-x:auto;line-height:normal;font-family:Menlo,'DejaVu Sans Mono',consolas,'Courier New',monospace\"><span style=\"color: #7fbfbf; text-decoration-color: #7fbfbf\">                    </span><span style=\"color: #008000; text-decoration-color: #008000\">DEBUG   </span> Deprotonating protein. This removes H atoms from the pdb_df dataframe    <a href=\"file:///Users/lavo/Desktop/Projects/CHL-Project/.venv/lib/python3.10/site-packages/graphein/protein/graphs.py\" target=\"_blank\"><span style=\"color: #7f7f7f; text-decoration-color: #7f7f7f\">graphs.py</span></a><span style=\"color: #7f7f7f; text-decoration-color: #7f7f7f\">:</span><a href=\"file:///Users/lavo/Desktop/Projects/CHL-Project/.venv/lib/python3.10/site-packages/graphein/protein/graphs.py#188\" target=\"_blank\"><span style=\"color: #7f7f7f; text-decoration-color: #7f7f7f\">188</span></a>\n",
       "</pre>\n"
      ],
      "text/plain": [
       "\u001b[2;36m                   \u001b[0m\u001b[2;36m \u001b[0m\u001b[32mDEBUG   \u001b[0m Deprotonating protein. This removes H atoms from the pdb_df dataframe    \u001b]8;id=43206;file:///Users/lavo/Desktop/Projects/CHL-Project/.venv/lib/python3.10/site-packages/graphein/protein/graphs.py\u001b\\\u001b[2mgraphs.py\u001b[0m\u001b]8;;\u001b\\\u001b[2m:\u001b[0m\u001b]8;id=753165;file:///Users/lavo/Desktop/Projects/CHL-Project/.venv/lib/python3.10/site-packages/graphein/protein/graphs.py#188\u001b\\\u001b[2m188\u001b[0m\u001b]8;;\u001b\\\n"
      ]
     },
     "metadata": {},
     "output_type": "display_data"
    },
    {
     "data": {
      "text/html": [
       "<pre style=\"white-space:pre;overflow-x:auto;line-height:normal;font-family:Menlo,'DejaVu Sans Mono',consolas,'Courier New',monospace\"><span style=\"color: #7fbfbf; text-decoration-color: #7fbfbf\">                    </span><span style=\"color: #008000; text-decoration-color: #008000\">DEBUG   </span> Detected <span style=\"color: #008080; text-decoration-color: #008080; font-weight: bold\">445</span> total nodes                                                 <a href=\"file:///Users/lavo/Desktop/Projects/CHL-Project/.venv/lib/python3.10/site-packages/graphein/protein/graphs.py\" target=\"_blank\"><span style=\"color: #7f7f7f; text-decoration-color: #7f7f7f\">graphs.py</span></a><span style=\"color: #7f7f7f; text-decoration-color: #7f7f7f\">:</span><a href=\"file:///Users/lavo/Desktop/Projects/CHL-Project/.venv/lib/python3.10/site-packages/graphein/protein/graphs.py#435\" target=\"_blank\"><span style=\"color: #7f7f7f; text-decoration-color: #7f7f7f\">435</span></a>\n",
       "</pre>\n"
      ],
      "text/plain": [
       "\u001b[2;36m                   \u001b[0m\u001b[2;36m \u001b[0m\u001b[32mDEBUG   \u001b[0m Detected \u001b[1;36m445\u001b[0m total nodes                                                 \u001b]8;id=196423;file:///Users/lavo/Desktop/Projects/CHL-Project/.venv/lib/python3.10/site-packages/graphein/protein/graphs.py\u001b\\\u001b[2mgraphs.py\u001b[0m\u001b]8;;\u001b\\\u001b[2m:\u001b[0m\u001b]8;id=996859;file:///Users/lavo/Desktop/Projects/CHL-Project/.venv/lib/python3.10/site-packages/graphein/protein/graphs.py#435\u001b\\\u001b[2m435\u001b[0m\u001b]8;;\u001b\\\n"
      ]
     },
     "metadata": {},
     "output_type": "display_data"
    },
    {
     "data": {
      "text/html": [
       "<pre style=\"white-space:pre;overflow-x:auto;line-height:normal;font-family:Menlo,'DejaVu Sans Mono',consolas,'Courier New',monospace\"><span style=\"color: #7fbfbf; text-decoration-color: #7fbfbf\">                    </span><span style=\"color: #008000; text-decoration-color: #008000\">DEBUG   </span> Deprotonating protein. This removes H atoms from the pdb_df dataframe    <a href=\"file:///Users/lavo/Desktop/Projects/CHL-Project/.venv/lib/python3.10/site-packages/graphein/protein/graphs.py\" target=\"_blank\"><span style=\"color: #7f7f7f; text-decoration-color: #7f7f7f\">graphs.py</span></a><span style=\"color: #7f7f7f; text-decoration-color: #7f7f7f\">:</span><a href=\"file:///Users/lavo/Desktop/Projects/CHL-Project/.venv/lib/python3.10/site-packages/graphein/protein/graphs.py#188\" target=\"_blank\"><span style=\"color: #7f7f7f; text-decoration-color: #7f7f7f\">188</span></a>\n",
       "</pre>\n"
      ],
      "text/plain": [
       "\u001b[2;36m                   \u001b[0m\u001b[2;36m \u001b[0m\u001b[32mDEBUG   \u001b[0m Deprotonating protein. This removes H atoms from the pdb_df dataframe    \u001b]8;id=979497;file:///Users/lavo/Desktop/Projects/CHL-Project/.venv/lib/python3.10/site-packages/graphein/protein/graphs.py\u001b\\\u001b[2mgraphs.py\u001b[0m\u001b]8;;\u001b\\\u001b[2m:\u001b[0m\u001b]8;id=343250;file:///Users/lavo/Desktop/Projects/CHL-Project/.venv/lib/python3.10/site-packages/graphein/protein/graphs.py#188\u001b\\\u001b[2m188\u001b[0m\u001b]8;;\u001b\\\n"
      ]
     },
     "metadata": {},
     "output_type": "display_data"
    },
    {
     "data": {
      "text/html": [
       "<pre style=\"white-space:pre;overflow-x:auto;line-height:normal;font-family:Menlo,'DejaVu Sans Mono',consolas,'Courier New',monospace\"><span style=\"color: #7fbfbf; text-decoration-color: #7fbfbf\">                    </span><span style=\"color: #008000; text-decoration-color: #008000\">DEBUG   </span> Detected <span style=\"color: #008080; text-decoration-color: #008080; font-weight: bold\">445</span> total nodes                                                 <a href=\"file:///Users/lavo/Desktop/Projects/CHL-Project/.venv/lib/python3.10/site-packages/graphein/protein/graphs.py\" target=\"_blank\"><span style=\"color: #7f7f7f; text-decoration-color: #7f7f7f\">graphs.py</span></a><span style=\"color: #7f7f7f; text-decoration-color: #7f7f7f\">:</span><a href=\"file:///Users/lavo/Desktop/Projects/CHL-Project/.venv/lib/python3.10/site-packages/graphein/protein/graphs.py#435\" target=\"_blank\"><span style=\"color: #7f7f7f; text-decoration-color: #7f7f7f\">435</span></a>\n",
       "</pre>\n"
      ],
      "text/plain": [
       "\u001b[2;36m                   \u001b[0m\u001b[2;36m \u001b[0m\u001b[32mDEBUG   \u001b[0m Detected \u001b[1;36m445\u001b[0m total nodes                                                 \u001b]8;id=969851;file:///Users/lavo/Desktop/Projects/CHL-Project/.venv/lib/python3.10/site-packages/graphein/protein/graphs.py\u001b\\\u001b[2mgraphs.py\u001b[0m\u001b]8;;\u001b\\\u001b[2m:\u001b[0m\u001b]8;id=749247;file:///Users/lavo/Desktop/Projects/CHL-Project/.venv/lib/python3.10/site-packages/graphein/protein/graphs.py#435\u001b\\\u001b[2m435\u001b[0m\u001b]8;;\u001b\\\n"
      ]
     },
     "metadata": {},
     "output_type": "display_data"
    },
    {
     "data": {
      "text/html": [
       "<pre style=\"white-space:pre;overflow-x:auto;line-height:normal;font-family:Menlo,'DejaVu Sans Mono',consolas,'Courier New',monospace\"><span style=\"color: #7fbfbf; text-decoration-color: #7fbfbf\">                    </span><span style=\"color: #008000; text-decoration-color: #008000\">DEBUG   </span> Deprotonating protein. This removes H atoms from the pdb_df dataframe    <a href=\"file:///Users/lavo/Desktop/Projects/CHL-Project/.venv/lib/python3.10/site-packages/graphein/protein/graphs.py\" target=\"_blank\"><span style=\"color: #7f7f7f; text-decoration-color: #7f7f7f\">graphs.py</span></a><span style=\"color: #7f7f7f; text-decoration-color: #7f7f7f\">:</span><a href=\"file:///Users/lavo/Desktop/Projects/CHL-Project/.venv/lib/python3.10/site-packages/graphein/protein/graphs.py#188\" target=\"_blank\"><span style=\"color: #7f7f7f; text-decoration-color: #7f7f7f\">188</span></a>\n",
       "</pre>\n"
      ],
      "text/plain": [
       "\u001b[2;36m                   \u001b[0m\u001b[2;36m \u001b[0m\u001b[32mDEBUG   \u001b[0m Deprotonating protein. This removes H atoms from the pdb_df dataframe    \u001b]8;id=946396;file:///Users/lavo/Desktop/Projects/CHL-Project/.venv/lib/python3.10/site-packages/graphein/protein/graphs.py\u001b\\\u001b[2mgraphs.py\u001b[0m\u001b]8;;\u001b\\\u001b[2m:\u001b[0m\u001b]8;id=110948;file:///Users/lavo/Desktop/Projects/CHL-Project/.venv/lib/python3.10/site-packages/graphein/protein/graphs.py#188\u001b\\\u001b[2m188\u001b[0m\u001b]8;;\u001b\\\n"
      ]
     },
     "metadata": {},
     "output_type": "display_data"
    },
    {
     "data": {
      "text/html": [
       "<pre style=\"white-space:pre;overflow-x:auto;line-height:normal;font-family:Menlo,'DejaVu Sans Mono',consolas,'Courier New',monospace\"><span style=\"color: #7fbfbf; text-decoration-color: #7fbfbf\">                    </span><span style=\"color: #008000; text-decoration-color: #008000\">DEBUG   </span> Detected <span style=\"color: #008080; text-decoration-color: #008080; font-weight: bold\">445</span> total nodes                                                 <a href=\"file:///Users/lavo/Desktop/Projects/CHL-Project/.venv/lib/python3.10/site-packages/graphein/protein/graphs.py\" target=\"_blank\"><span style=\"color: #7f7f7f; text-decoration-color: #7f7f7f\">graphs.py</span></a><span style=\"color: #7f7f7f; text-decoration-color: #7f7f7f\">:</span><a href=\"file:///Users/lavo/Desktop/Projects/CHL-Project/.venv/lib/python3.10/site-packages/graphein/protein/graphs.py#435\" target=\"_blank\"><span style=\"color: #7f7f7f; text-decoration-color: #7f7f7f\">435</span></a>\n",
       "</pre>\n"
      ],
      "text/plain": [
       "\u001b[2;36m                   \u001b[0m\u001b[2;36m \u001b[0m\u001b[32mDEBUG   \u001b[0m Detected \u001b[1;36m445\u001b[0m total nodes                                                 \u001b]8;id=258655;file:///Users/lavo/Desktop/Projects/CHL-Project/.venv/lib/python3.10/site-packages/graphein/protein/graphs.py\u001b\\\u001b[2mgraphs.py\u001b[0m\u001b]8;;\u001b\\\u001b[2m:\u001b[0m\u001b]8;id=87321;file:///Users/lavo/Desktop/Projects/CHL-Project/.venv/lib/python3.10/site-packages/graphein/protein/graphs.py#435\u001b\\\u001b[2m435\u001b[0m\u001b]8;;\u001b\\\n"
      ]
     },
     "metadata": {},
     "output_type": "display_data"
    },
    {
     "data": {
      "text/html": [
       "<pre style=\"white-space:pre;overflow-x:auto;line-height:normal;font-family:Menlo,'DejaVu Sans Mono',consolas,'Courier New',monospace\"><span style=\"color: #7fbfbf; text-decoration-color: #7fbfbf\">                    </span><span style=\"color: #008000; text-decoration-color: #008000\">DEBUG   </span> Deprotonating protein. This removes H atoms from the pdb_df dataframe    <a href=\"file:///Users/lavo/Desktop/Projects/CHL-Project/.venv/lib/python3.10/site-packages/graphein/protein/graphs.py\" target=\"_blank\"><span style=\"color: #7f7f7f; text-decoration-color: #7f7f7f\">graphs.py</span></a><span style=\"color: #7f7f7f; text-decoration-color: #7f7f7f\">:</span><a href=\"file:///Users/lavo/Desktop/Projects/CHL-Project/.venv/lib/python3.10/site-packages/graphein/protein/graphs.py#188\" target=\"_blank\"><span style=\"color: #7f7f7f; text-decoration-color: #7f7f7f\">188</span></a>\n",
       "</pre>\n"
      ],
      "text/plain": [
       "\u001b[2;36m                   \u001b[0m\u001b[2;36m \u001b[0m\u001b[32mDEBUG   \u001b[0m Deprotonating protein. This removes H atoms from the pdb_df dataframe    \u001b]8;id=537951;file:///Users/lavo/Desktop/Projects/CHL-Project/.venv/lib/python3.10/site-packages/graphein/protein/graphs.py\u001b\\\u001b[2mgraphs.py\u001b[0m\u001b]8;;\u001b\\\u001b[2m:\u001b[0m\u001b]8;id=328742;file:///Users/lavo/Desktop/Projects/CHL-Project/.venv/lib/python3.10/site-packages/graphein/protein/graphs.py#188\u001b\\\u001b[2m188\u001b[0m\u001b]8;;\u001b\\\n"
      ]
     },
     "metadata": {},
     "output_type": "display_data"
    },
    {
     "data": {
      "text/html": [
       "<pre style=\"white-space:pre;overflow-x:auto;line-height:normal;font-family:Menlo,'DejaVu Sans Mono',consolas,'Courier New',monospace\"><span style=\"color: #7fbfbf; text-decoration-color: #7fbfbf\">                    </span><span style=\"color: #008000; text-decoration-color: #008000\">DEBUG   </span> Detected <span style=\"color: #008080; text-decoration-color: #008080; font-weight: bold\">445</span> total nodes                                                 <a href=\"file:///Users/lavo/Desktop/Projects/CHL-Project/.venv/lib/python3.10/site-packages/graphein/protein/graphs.py\" target=\"_blank\"><span style=\"color: #7f7f7f; text-decoration-color: #7f7f7f\">graphs.py</span></a><span style=\"color: #7f7f7f; text-decoration-color: #7f7f7f\">:</span><a href=\"file:///Users/lavo/Desktop/Projects/CHL-Project/.venv/lib/python3.10/site-packages/graphein/protein/graphs.py#435\" target=\"_blank\"><span style=\"color: #7f7f7f; text-decoration-color: #7f7f7f\">435</span></a>\n",
       "</pre>\n"
      ],
      "text/plain": [
       "\u001b[2;36m                   \u001b[0m\u001b[2;36m \u001b[0m\u001b[32mDEBUG   \u001b[0m Detected \u001b[1;36m445\u001b[0m total nodes                                                 \u001b]8;id=618261;file:///Users/lavo/Desktop/Projects/CHL-Project/.venv/lib/python3.10/site-packages/graphein/protein/graphs.py\u001b\\\u001b[2mgraphs.py\u001b[0m\u001b]8;;\u001b\\\u001b[2m:\u001b[0m\u001b]8;id=949185;file:///Users/lavo/Desktop/Projects/CHL-Project/.venv/lib/python3.10/site-packages/graphein/protein/graphs.py#435\u001b\\\u001b[2m435\u001b[0m\u001b]8;;\u001b\\\n"
      ]
     },
     "metadata": {},
     "output_type": "display_data"
    },
    {
     "data": {
      "text/html": [
       "<pre style=\"white-space:pre;overflow-x:auto;line-height:normal;font-family:Menlo,'DejaVu Sans Mono',consolas,'Courier New',monospace\"><span style=\"color: #7fbfbf; text-decoration-color: #7fbfbf\">                    </span><span style=\"color: #008000; text-decoration-color: #008000\">DEBUG   </span> Deprotonating protein. This removes H atoms from the pdb_df dataframe    <a href=\"file:///Users/lavo/Desktop/Projects/CHL-Project/.venv/lib/python3.10/site-packages/graphein/protein/graphs.py\" target=\"_blank\"><span style=\"color: #7f7f7f; text-decoration-color: #7f7f7f\">graphs.py</span></a><span style=\"color: #7f7f7f; text-decoration-color: #7f7f7f\">:</span><a href=\"file:///Users/lavo/Desktop/Projects/CHL-Project/.venv/lib/python3.10/site-packages/graphein/protein/graphs.py#188\" target=\"_blank\"><span style=\"color: #7f7f7f; text-decoration-color: #7f7f7f\">188</span></a>\n",
       "</pre>\n"
      ],
      "text/plain": [
       "\u001b[2;36m                   \u001b[0m\u001b[2;36m \u001b[0m\u001b[32mDEBUG   \u001b[0m Deprotonating protein. This removes H atoms from the pdb_df dataframe    \u001b]8;id=716477;file:///Users/lavo/Desktop/Projects/CHL-Project/.venv/lib/python3.10/site-packages/graphein/protein/graphs.py\u001b\\\u001b[2mgraphs.py\u001b[0m\u001b]8;;\u001b\\\u001b[2m:\u001b[0m\u001b]8;id=239278;file:///Users/lavo/Desktop/Projects/CHL-Project/.venv/lib/python3.10/site-packages/graphein/protein/graphs.py#188\u001b\\\u001b[2m188\u001b[0m\u001b]8;;\u001b\\\n"
      ]
     },
     "metadata": {},
     "output_type": "display_data"
    },
    {
     "data": {
      "text/html": [
       "<pre style=\"white-space:pre;overflow-x:auto;line-height:normal;font-family:Menlo,'DejaVu Sans Mono',consolas,'Courier New',monospace\"><span style=\"color: #7fbfbf; text-decoration-color: #7fbfbf\">                    </span><span style=\"color: #008000; text-decoration-color: #008000\">DEBUG   </span> Detected <span style=\"color: #008080; text-decoration-color: #008080; font-weight: bold\">445</span> total nodes                                                 <a href=\"file:///Users/lavo/Desktop/Projects/CHL-Project/.venv/lib/python3.10/site-packages/graphein/protein/graphs.py\" target=\"_blank\"><span style=\"color: #7f7f7f; text-decoration-color: #7f7f7f\">graphs.py</span></a><span style=\"color: #7f7f7f; text-decoration-color: #7f7f7f\">:</span><a href=\"file:///Users/lavo/Desktop/Projects/CHL-Project/.venv/lib/python3.10/site-packages/graphein/protein/graphs.py#435\" target=\"_blank\"><span style=\"color: #7f7f7f; text-decoration-color: #7f7f7f\">435</span></a>\n",
       "</pre>\n"
      ],
      "text/plain": [
       "\u001b[2;36m                   \u001b[0m\u001b[2;36m \u001b[0m\u001b[32mDEBUG   \u001b[0m Detected \u001b[1;36m445\u001b[0m total nodes                                                 \u001b]8;id=121827;file:///Users/lavo/Desktop/Projects/CHL-Project/.venv/lib/python3.10/site-packages/graphein/protein/graphs.py\u001b\\\u001b[2mgraphs.py\u001b[0m\u001b]8;;\u001b\\\u001b[2m:\u001b[0m\u001b]8;id=229017;file:///Users/lavo/Desktop/Projects/CHL-Project/.venv/lib/python3.10/site-packages/graphein/protein/graphs.py#435\u001b\\\u001b[2m435\u001b[0m\u001b]8;;\u001b\\\n"
      ]
     },
     "metadata": {},
     "output_type": "display_data"
    },
    {
     "data": {
      "text/html": [
       "<pre style=\"white-space:pre;overflow-x:auto;line-height:normal;font-family:Menlo,'DejaVu Sans Mono',consolas,'Courier New',monospace\"><span style=\"color: #7fbfbf; text-decoration-color: #7fbfbf\">                    </span><span style=\"color: #008000; text-decoration-color: #008000\">DEBUG   </span> Deprotonating protein. This removes H atoms from the pdb_df dataframe    <a href=\"file:///Users/lavo/Desktop/Projects/CHL-Project/.venv/lib/python3.10/site-packages/graphein/protein/graphs.py\" target=\"_blank\"><span style=\"color: #7f7f7f; text-decoration-color: #7f7f7f\">graphs.py</span></a><span style=\"color: #7f7f7f; text-decoration-color: #7f7f7f\">:</span><a href=\"file:///Users/lavo/Desktop/Projects/CHL-Project/.venv/lib/python3.10/site-packages/graphein/protein/graphs.py#188\" target=\"_blank\"><span style=\"color: #7f7f7f; text-decoration-color: #7f7f7f\">188</span></a>\n",
       "</pre>\n"
      ],
      "text/plain": [
       "\u001b[2;36m                   \u001b[0m\u001b[2;36m \u001b[0m\u001b[32mDEBUG   \u001b[0m Deprotonating protein. This removes H atoms from the pdb_df dataframe    \u001b]8;id=447278;file:///Users/lavo/Desktop/Projects/CHL-Project/.venv/lib/python3.10/site-packages/graphein/protein/graphs.py\u001b\\\u001b[2mgraphs.py\u001b[0m\u001b]8;;\u001b\\\u001b[2m:\u001b[0m\u001b]8;id=32553;file:///Users/lavo/Desktop/Projects/CHL-Project/.venv/lib/python3.10/site-packages/graphein/protein/graphs.py#188\u001b\\\u001b[2m188\u001b[0m\u001b]8;;\u001b\\\n"
      ]
     },
     "metadata": {},
     "output_type": "display_data"
    },
    {
     "data": {
      "text/html": [
       "<pre style=\"white-space:pre;overflow-x:auto;line-height:normal;font-family:Menlo,'DejaVu Sans Mono',consolas,'Courier New',monospace\"><span style=\"color: #7fbfbf; text-decoration-color: #7fbfbf\">                    </span><span style=\"color: #008000; text-decoration-color: #008000\">DEBUG   </span> Detected <span style=\"color: #008080; text-decoration-color: #008080; font-weight: bold\">445</span> total nodes                                                 <a href=\"file:///Users/lavo/Desktop/Projects/CHL-Project/.venv/lib/python3.10/site-packages/graphein/protein/graphs.py\" target=\"_blank\"><span style=\"color: #7f7f7f; text-decoration-color: #7f7f7f\">graphs.py</span></a><span style=\"color: #7f7f7f; text-decoration-color: #7f7f7f\">:</span><a href=\"file:///Users/lavo/Desktop/Projects/CHL-Project/.venv/lib/python3.10/site-packages/graphein/protein/graphs.py#435\" target=\"_blank\"><span style=\"color: #7f7f7f; text-decoration-color: #7f7f7f\">435</span></a>\n",
       "</pre>\n"
      ],
      "text/plain": [
       "\u001b[2;36m                   \u001b[0m\u001b[2;36m \u001b[0m\u001b[32mDEBUG   \u001b[0m Detected \u001b[1;36m445\u001b[0m total nodes                                                 \u001b]8;id=166064;file:///Users/lavo/Desktop/Projects/CHL-Project/.venv/lib/python3.10/site-packages/graphein/protein/graphs.py\u001b\\\u001b[2mgraphs.py\u001b[0m\u001b]8;;\u001b\\\u001b[2m:\u001b[0m\u001b]8;id=544088;file:///Users/lavo/Desktop/Projects/CHL-Project/.venv/lib/python3.10/site-packages/graphein/protein/graphs.py#435\u001b\\\u001b[2m435\u001b[0m\u001b]8;;\u001b\\\n"
      ]
     },
     "metadata": {},
     "output_type": "display_data"
    },
    {
     "data": {
      "text/html": [
       "<pre style=\"white-space:pre;overflow-x:auto;line-height:normal;font-family:Menlo,'DejaVu Sans Mono',consolas,'Courier New',monospace\"><span style=\"color: #7fbfbf; text-decoration-color: #7fbfbf\">                    </span><span style=\"color: #008000; text-decoration-color: #008000\">DEBUG   </span> Deprotonating protein. This removes H atoms from the pdb_df dataframe    <a href=\"file:///Users/lavo/Desktop/Projects/CHL-Project/.venv/lib/python3.10/site-packages/graphein/protein/graphs.py\" target=\"_blank\"><span style=\"color: #7f7f7f; text-decoration-color: #7f7f7f\">graphs.py</span></a><span style=\"color: #7f7f7f; text-decoration-color: #7f7f7f\">:</span><a href=\"file:///Users/lavo/Desktop/Projects/CHL-Project/.venv/lib/python3.10/site-packages/graphein/protein/graphs.py#188\" target=\"_blank\"><span style=\"color: #7f7f7f; text-decoration-color: #7f7f7f\">188</span></a>\n",
       "</pre>\n"
      ],
      "text/plain": [
       "\u001b[2;36m                   \u001b[0m\u001b[2;36m \u001b[0m\u001b[32mDEBUG   \u001b[0m Deprotonating protein. This removes H atoms from the pdb_df dataframe    \u001b]8;id=596232;file:///Users/lavo/Desktop/Projects/CHL-Project/.venv/lib/python3.10/site-packages/graphein/protein/graphs.py\u001b\\\u001b[2mgraphs.py\u001b[0m\u001b]8;;\u001b\\\u001b[2m:\u001b[0m\u001b]8;id=21591;file:///Users/lavo/Desktop/Projects/CHL-Project/.venv/lib/python3.10/site-packages/graphein/protein/graphs.py#188\u001b\\\u001b[2m188\u001b[0m\u001b]8;;\u001b\\\n"
      ]
     },
     "metadata": {},
     "output_type": "display_data"
    },
    {
     "data": {
      "text/html": [
       "<pre style=\"white-space:pre;overflow-x:auto;line-height:normal;font-family:Menlo,'DejaVu Sans Mono',consolas,'Courier New',monospace\"><span style=\"color: #7fbfbf; text-decoration-color: #7fbfbf\">                    </span><span style=\"color: #008000; text-decoration-color: #008000\">DEBUG   </span> Detected <span style=\"color: #008080; text-decoration-color: #008080; font-weight: bold\">445</span> total nodes                                                 <a href=\"file:///Users/lavo/Desktop/Projects/CHL-Project/.venv/lib/python3.10/site-packages/graphein/protein/graphs.py\" target=\"_blank\"><span style=\"color: #7f7f7f; text-decoration-color: #7f7f7f\">graphs.py</span></a><span style=\"color: #7f7f7f; text-decoration-color: #7f7f7f\">:</span><a href=\"file:///Users/lavo/Desktop/Projects/CHL-Project/.venv/lib/python3.10/site-packages/graphein/protein/graphs.py#435\" target=\"_blank\"><span style=\"color: #7f7f7f; text-decoration-color: #7f7f7f\">435</span></a>\n",
       "</pre>\n"
      ],
      "text/plain": [
       "\u001b[2;36m                   \u001b[0m\u001b[2;36m \u001b[0m\u001b[32mDEBUG   \u001b[0m Detected \u001b[1;36m445\u001b[0m total nodes                                                 \u001b]8;id=863266;file:///Users/lavo/Desktop/Projects/CHL-Project/.venv/lib/python3.10/site-packages/graphein/protein/graphs.py\u001b\\\u001b[2mgraphs.py\u001b[0m\u001b]8;;\u001b\\\u001b[2m:\u001b[0m\u001b]8;id=900523;file:///Users/lavo/Desktop/Projects/CHL-Project/.venv/lib/python3.10/site-packages/graphein/protein/graphs.py#435\u001b\\\u001b[2m435\u001b[0m\u001b]8;;\u001b\\\n"
      ]
     },
     "metadata": {},
     "output_type": "display_data"
    },
    {
     "data": {
      "text/html": [
       "<pre style=\"white-space:pre;overflow-x:auto;line-height:normal;font-family:Menlo,'DejaVu Sans Mono',consolas,'Courier New',monospace\"><span style=\"color: #7fbfbf; text-decoration-color: #7fbfbf\">                    </span><span style=\"color: #008000; text-decoration-color: #008000\">DEBUG   </span> Deprotonating protein. This removes H atoms from the pdb_df dataframe    <a href=\"file:///Users/lavo/Desktop/Projects/CHL-Project/.venv/lib/python3.10/site-packages/graphein/protein/graphs.py\" target=\"_blank\"><span style=\"color: #7f7f7f; text-decoration-color: #7f7f7f\">graphs.py</span></a><span style=\"color: #7f7f7f; text-decoration-color: #7f7f7f\">:</span><a href=\"file:///Users/lavo/Desktop/Projects/CHL-Project/.venv/lib/python3.10/site-packages/graphein/protein/graphs.py#188\" target=\"_blank\"><span style=\"color: #7f7f7f; text-decoration-color: #7f7f7f\">188</span></a>\n",
       "</pre>\n"
      ],
      "text/plain": [
       "\u001b[2;36m                   \u001b[0m\u001b[2;36m \u001b[0m\u001b[32mDEBUG   \u001b[0m Deprotonating protein. This removes H atoms from the pdb_df dataframe    \u001b]8;id=918211;file:///Users/lavo/Desktop/Projects/CHL-Project/.venv/lib/python3.10/site-packages/graphein/protein/graphs.py\u001b\\\u001b[2mgraphs.py\u001b[0m\u001b]8;;\u001b\\\u001b[2m:\u001b[0m\u001b]8;id=279660;file:///Users/lavo/Desktop/Projects/CHL-Project/.venv/lib/python3.10/site-packages/graphein/protein/graphs.py#188\u001b\\\u001b[2m188\u001b[0m\u001b]8;;\u001b\\\n"
      ]
     },
     "metadata": {},
     "output_type": "display_data"
    },
    {
     "data": {
      "text/html": [
       "<pre style=\"white-space:pre;overflow-x:auto;line-height:normal;font-family:Menlo,'DejaVu Sans Mono',consolas,'Courier New',monospace\"><span style=\"color: #7fbfbf; text-decoration-color: #7fbfbf\">                    </span><span style=\"color: #008000; text-decoration-color: #008000\">DEBUG   </span> Detected <span style=\"color: #008080; text-decoration-color: #008080; font-weight: bold\">445</span> total nodes                                                 <a href=\"file:///Users/lavo/Desktop/Projects/CHL-Project/.venv/lib/python3.10/site-packages/graphein/protein/graphs.py\" target=\"_blank\"><span style=\"color: #7f7f7f; text-decoration-color: #7f7f7f\">graphs.py</span></a><span style=\"color: #7f7f7f; text-decoration-color: #7f7f7f\">:</span><a href=\"file:///Users/lavo/Desktop/Projects/CHL-Project/.venv/lib/python3.10/site-packages/graphein/protein/graphs.py#435\" target=\"_blank\"><span style=\"color: #7f7f7f; text-decoration-color: #7f7f7f\">435</span></a>\n",
       "</pre>\n"
      ],
      "text/plain": [
       "\u001b[2;36m                   \u001b[0m\u001b[2;36m \u001b[0m\u001b[32mDEBUG   \u001b[0m Detected \u001b[1;36m445\u001b[0m total nodes                                                 \u001b]8;id=240785;file:///Users/lavo/Desktop/Projects/CHL-Project/.venv/lib/python3.10/site-packages/graphein/protein/graphs.py\u001b\\\u001b[2mgraphs.py\u001b[0m\u001b]8;;\u001b\\\u001b[2m:\u001b[0m\u001b]8;id=192225;file:///Users/lavo/Desktop/Projects/CHL-Project/.venv/lib/python3.10/site-packages/graphein/protein/graphs.py#435\u001b\\\u001b[2m435\u001b[0m\u001b]8;;\u001b\\\n"
      ]
     },
     "metadata": {},
     "output_type": "display_data"
    },
    {
     "data": {
      "text/html": [
       "<pre style=\"white-space:pre;overflow-x:auto;line-height:normal;font-family:Menlo,'DejaVu Sans Mono',consolas,'Courier New',monospace\"><span style=\"color: #7fbfbf; text-decoration-color: #7fbfbf\">                    </span><span style=\"color: #008000; text-decoration-color: #008000\">DEBUG   </span> Deprotonating protein. This removes H atoms from the pdb_df dataframe    <a href=\"file:///Users/lavo/Desktop/Projects/CHL-Project/.venv/lib/python3.10/site-packages/graphein/protein/graphs.py\" target=\"_blank\"><span style=\"color: #7f7f7f; text-decoration-color: #7f7f7f\">graphs.py</span></a><span style=\"color: #7f7f7f; text-decoration-color: #7f7f7f\">:</span><a href=\"file:///Users/lavo/Desktop/Projects/CHL-Project/.venv/lib/python3.10/site-packages/graphein/protein/graphs.py#188\" target=\"_blank\"><span style=\"color: #7f7f7f; text-decoration-color: #7f7f7f\">188</span></a>\n",
       "</pre>\n"
      ],
      "text/plain": [
       "\u001b[2;36m                   \u001b[0m\u001b[2;36m \u001b[0m\u001b[32mDEBUG   \u001b[0m Deprotonating protein. This removes H atoms from the pdb_df dataframe    \u001b]8;id=326487;file:///Users/lavo/Desktop/Projects/CHL-Project/.venv/lib/python3.10/site-packages/graphein/protein/graphs.py\u001b\\\u001b[2mgraphs.py\u001b[0m\u001b]8;;\u001b\\\u001b[2m:\u001b[0m\u001b]8;id=594486;file:///Users/lavo/Desktop/Projects/CHL-Project/.venv/lib/python3.10/site-packages/graphein/protein/graphs.py#188\u001b\\\u001b[2m188\u001b[0m\u001b]8;;\u001b\\\n"
      ]
     },
     "metadata": {},
     "output_type": "display_data"
    },
    {
     "data": {
      "text/html": [
       "<pre style=\"white-space:pre;overflow-x:auto;line-height:normal;font-family:Menlo,'DejaVu Sans Mono',consolas,'Courier New',monospace\"><span style=\"color: #7fbfbf; text-decoration-color: #7fbfbf\">                    </span><span style=\"color: #008000; text-decoration-color: #008000\">DEBUG   </span> Detected <span style=\"color: #008080; text-decoration-color: #008080; font-weight: bold\">445</span> total nodes                                                 <a href=\"file:///Users/lavo/Desktop/Projects/CHL-Project/.venv/lib/python3.10/site-packages/graphein/protein/graphs.py\" target=\"_blank\"><span style=\"color: #7f7f7f; text-decoration-color: #7f7f7f\">graphs.py</span></a><span style=\"color: #7f7f7f; text-decoration-color: #7f7f7f\">:</span><a href=\"file:///Users/lavo/Desktop/Projects/CHL-Project/.venv/lib/python3.10/site-packages/graphein/protein/graphs.py#435\" target=\"_blank\"><span style=\"color: #7f7f7f; text-decoration-color: #7f7f7f\">435</span></a>\n",
       "</pre>\n"
      ],
      "text/plain": [
       "\u001b[2;36m                   \u001b[0m\u001b[2;36m \u001b[0m\u001b[32mDEBUG   \u001b[0m Detected \u001b[1;36m445\u001b[0m total nodes                                                 \u001b]8;id=589801;file:///Users/lavo/Desktop/Projects/CHL-Project/.venv/lib/python3.10/site-packages/graphein/protein/graphs.py\u001b\\\u001b[2mgraphs.py\u001b[0m\u001b]8;;\u001b\\\u001b[2m:\u001b[0m\u001b]8;id=891459;file:///Users/lavo/Desktop/Projects/CHL-Project/.venv/lib/python3.10/site-packages/graphein/protein/graphs.py#435\u001b\\\u001b[2m435\u001b[0m\u001b]8;;\u001b\\\n"
      ]
     },
     "metadata": {},
     "output_type": "display_data"
    },
    {
     "data": {
      "text/html": [
       "<pre style=\"white-space:pre;overflow-x:auto;line-height:normal;font-family:Menlo,'DejaVu Sans Mono',consolas,'Courier New',monospace\"><span style=\"color: #7fbfbf; text-decoration-color: #7fbfbf\">                    </span><span style=\"color: #008000; text-decoration-color: #008000\">DEBUG   </span> Deprotonating protein. This removes H atoms from the pdb_df dataframe    <a href=\"file:///Users/lavo/Desktop/Projects/CHL-Project/.venv/lib/python3.10/site-packages/graphein/protein/graphs.py\" target=\"_blank\"><span style=\"color: #7f7f7f; text-decoration-color: #7f7f7f\">graphs.py</span></a><span style=\"color: #7f7f7f; text-decoration-color: #7f7f7f\">:</span><a href=\"file:///Users/lavo/Desktop/Projects/CHL-Project/.venv/lib/python3.10/site-packages/graphein/protein/graphs.py#188\" target=\"_blank\"><span style=\"color: #7f7f7f; text-decoration-color: #7f7f7f\">188</span></a>\n",
       "</pre>\n"
      ],
      "text/plain": [
       "\u001b[2;36m                   \u001b[0m\u001b[2;36m \u001b[0m\u001b[32mDEBUG   \u001b[0m Deprotonating protein. This removes H atoms from the pdb_df dataframe    \u001b]8;id=314400;file:///Users/lavo/Desktop/Projects/CHL-Project/.venv/lib/python3.10/site-packages/graphein/protein/graphs.py\u001b\\\u001b[2mgraphs.py\u001b[0m\u001b]8;;\u001b\\\u001b[2m:\u001b[0m\u001b]8;id=7509;file:///Users/lavo/Desktop/Projects/CHL-Project/.venv/lib/python3.10/site-packages/graphein/protein/graphs.py#188\u001b\\\u001b[2m188\u001b[0m\u001b]8;;\u001b\\\n"
      ]
     },
     "metadata": {},
     "output_type": "display_data"
    },
    {
     "data": {
      "text/html": [
       "<pre style=\"white-space:pre;overflow-x:auto;line-height:normal;font-family:Menlo,'DejaVu Sans Mono',consolas,'Courier New',monospace\"><span style=\"color: #7fbfbf; text-decoration-color: #7fbfbf\">                    </span><span style=\"color: #008000; text-decoration-color: #008000\">DEBUG   </span> Detected <span style=\"color: #008080; text-decoration-color: #008080; font-weight: bold\">445</span> total nodes                                                 <a href=\"file:///Users/lavo/Desktop/Projects/CHL-Project/.venv/lib/python3.10/site-packages/graphein/protein/graphs.py\" target=\"_blank\"><span style=\"color: #7f7f7f; text-decoration-color: #7f7f7f\">graphs.py</span></a><span style=\"color: #7f7f7f; text-decoration-color: #7f7f7f\">:</span><a href=\"file:///Users/lavo/Desktop/Projects/CHL-Project/.venv/lib/python3.10/site-packages/graphein/protein/graphs.py#435\" target=\"_blank\"><span style=\"color: #7f7f7f; text-decoration-color: #7f7f7f\">435</span></a>\n",
       "</pre>\n"
      ],
      "text/plain": [
       "\u001b[2;36m                   \u001b[0m\u001b[2;36m \u001b[0m\u001b[32mDEBUG   \u001b[0m Detected \u001b[1;36m445\u001b[0m total nodes                                                 \u001b]8;id=916686;file:///Users/lavo/Desktop/Projects/CHL-Project/.venv/lib/python3.10/site-packages/graphein/protein/graphs.py\u001b\\\u001b[2mgraphs.py\u001b[0m\u001b]8;;\u001b\\\u001b[2m:\u001b[0m\u001b]8;id=575492;file:///Users/lavo/Desktop/Projects/CHL-Project/.venv/lib/python3.10/site-packages/graphein/protein/graphs.py#435\u001b\\\u001b[2m435\u001b[0m\u001b]8;;\u001b\\\n"
      ]
     },
     "metadata": {},
     "output_type": "display_data"
    },
    {
     "data": {
      "text/html": [
       "<pre style=\"white-space:pre;overflow-x:auto;line-height:normal;font-family:Menlo,'DejaVu Sans Mono',consolas,'Courier New',monospace\"><span style=\"color: #7fbfbf; text-decoration-color: #7fbfbf\">                    </span><span style=\"color: #008000; text-decoration-color: #008000\">DEBUG   </span> Deprotonating protein. This removes H atoms from the pdb_df dataframe    <a href=\"file:///Users/lavo/Desktop/Projects/CHL-Project/.venv/lib/python3.10/site-packages/graphein/protein/graphs.py\" target=\"_blank\"><span style=\"color: #7f7f7f; text-decoration-color: #7f7f7f\">graphs.py</span></a><span style=\"color: #7f7f7f; text-decoration-color: #7f7f7f\">:</span><a href=\"file:///Users/lavo/Desktop/Projects/CHL-Project/.venv/lib/python3.10/site-packages/graphein/protein/graphs.py#188\" target=\"_blank\"><span style=\"color: #7f7f7f; text-decoration-color: #7f7f7f\">188</span></a>\n",
       "</pre>\n"
      ],
      "text/plain": [
       "\u001b[2;36m                   \u001b[0m\u001b[2;36m \u001b[0m\u001b[32mDEBUG   \u001b[0m Deprotonating protein. This removes H atoms from the pdb_df dataframe    \u001b]8;id=747019;file:///Users/lavo/Desktop/Projects/CHL-Project/.venv/lib/python3.10/site-packages/graphein/protein/graphs.py\u001b\\\u001b[2mgraphs.py\u001b[0m\u001b]8;;\u001b\\\u001b[2m:\u001b[0m\u001b]8;id=367191;file:///Users/lavo/Desktop/Projects/CHL-Project/.venv/lib/python3.10/site-packages/graphein/protein/graphs.py#188\u001b\\\u001b[2m188\u001b[0m\u001b]8;;\u001b\\\n"
      ]
     },
     "metadata": {},
     "output_type": "display_data"
    },
    {
     "data": {
      "text/html": [
       "<pre style=\"white-space:pre;overflow-x:auto;line-height:normal;font-family:Menlo,'DejaVu Sans Mono',consolas,'Courier New',monospace\"><span style=\"color: #7fbfbf; text-decoration-color: #7fbfbf\">                    </span><span style=\"color: #008000; text-decoration-color: #008000\">DEBUG   </span> Detected <span style=\"color: #008080; text-decoration-color: #008080; font-weight: bold\">445</span> total nodes                                                 <a href=\"file:///Users/lavo/Desktop/Projects/CHL-Project/.venv/lib/python3.10/site-packages/graphein/protein/graphs.py\" target=\"_blank\"><span style=\"color: #7f7f7f; text-decoration-color: #7f7f7f\">graphs.py</span></a><span style=\"color: #7f7f7f; text-decoration-color: #7f7f7f\">:</span><a href=\"file:///Users/lavo/Desktop/Projects/CHL-Project/.venv/lib/python3.10/site-packages/graphein/protein/graphs.py#435\" target=\"_blank\"><span style=\"color: #7f7f7f; text-decoration-color: #7f7f7f\">435</span></a>\n",
       "</pre>\n"
      ],
      "text/plain": [
       "\u001b[2;36m                   \u001b[0m\u001b[2;36m \u001b[0m\u001b[32mDEBUG   \u001b[0m Detected \u001b[1;36m445\u001b[0m total nodes                                                 \u001b]8;id=860893;file:///Users/lavo/Desktop/Projects/CHL-Project/.venv/lib/python3.10/site-packages/graphein/protein/graphs.py\u001b\\\u001b[2mgraphs.py\u001b[0m\u001b]8;;\u001b\\\u001b[2m:\u001b[0m\u001b]8;id=489880;file:///Users/lavo/Desktop/Projects/CHL-Project/.venv/lib/python3.10/site-packages/graphein/protein/graphs.py#435\u001b\\\u001b[2m435\u001b[0m\u001b]8;;\u001b\\\n"
      ]
     },
     "metadata": {},
     "output_type": "display_data"
    },
    {
     "data": {
      "text/html": [
       "<pre style=\"white-space:pre;overflow-x:auto;line-height:normal;font-family:Menlo,'DejaVu Sans Mono',consolas,'Courier New',monospace\"><span style=\"color: #7fbfbf; text-decoration-color: #7fbfbf\">[04/29/24 11:02:00] </span><span style=\"color: #008000; text-decoration-color: #008000\">DEBUG   </span> Deprotonating protein. This removes H atoms from the pdb_df dataframe    <a href=\"file:///Users/lavo/Desktop/Projects/CHL-Project/.venv/lib/python3.10/site-packages/graphein/protein/graphs.py\" target=\"_blank\"><span style=\"color: #7f7f7f; text-decoration-color: #7f7f7f\">graphs.py</span></a><span style=\"color: #7f7f7f; text-decoration-color: #7f7f7f\">:</span><a href=\"file:///Users/lavo/Desktop/Projects/CHL-Project/.venv/lib/python3.10/site-packages/graphein/protein/graphs.py#188\" target=\"_blank\"><span style=\"color: #7f7f7f; text-decoration-color: #7f7f7f\">188</span></a>\n",
       "</pre>\n"
      ],
      "text/plain": [
       "\u001b[2;36m[04/29/24 11:02:00]\u001b[0m\u001b[2;36m \u001b[0m\u001b[32mDEBUG   \u001b[0m Deprotonating protein. This removes H atoms from the pdb_df dataframe    \u001b]8;id=325731;file:///Users/lavo/Desktop/Projects/CHL-Project/.venv/lib/python3.10/site-packages/graphein/protein/graphs.py\u001b\\\u001b[2mgraphs.py\u001b[0m\u001b]8;;\u001b\\\u001b[2m:\u001b[0m\u001b]8;id=52445;file:///Users/lavo/Desktop/Projects/CHL-Project/.venv/lib/python3.10/site-packages/graphein/protein/graphs.py#188\u001b\\\u001b[2m188\u001b[0m\u001b]8;;\u001b\\\n"
      ]
     },
     "metadata": {},
     "output_type": "display_data"
    },
    {
     "data": {
      "text/html": [
       "<pre style=\"white-space:pre;overflow-x:auto;line-height:normal;font-family:Menlo,'DejaVu Sans Mono',consolas,'Courier New',monospace\"><span style=\"color: #7fbfbf; text-decoration-color: #7fbfbf\">                    </span><span style=\"color: #008000; text-decoration-color: #008000\">DEBUG   </span> Detected <span style=\"color: #008080; text-decoration-color: #008080; font-weight: bold\">445</span> total nodes                                                 <a href=\"file:///Users/lavo/Desktop/Projects/CHL-Project/.venv/lib/python3.10/site-packages/graphein/protein/graphs.py\" target=\"_blank\"><span style=\"color: #7f7f7f; text-decoration-color: #7f7f7f\">graphs.py</span></a><span style=\"color: #7f7f7f; text-decoration-color: #7f7f7f\">:</span><a href=\"file:///Users/lavo/Desktop/Projects/CHL-Project/.venv/lib/python3.10/site-packages/graphein/protein/graphs.py#435\" target=\"_blank\"><span style=\"color: #7f7f7f; text-decoration-color: #7f7f7f\">435</span></a>\n",
       "</pre>\n"
      ],
      "text/plain": [
       "\u001b[2;36m                   \u001b[0m\u001b[2;36m \u001b[0m\u001b[32mDEBUG   \u001b[0m Detected \u001b[1;36m445\u001b[0m total nodes                                                 \u001b]8;id=528955;file:///Users/lavo/Desktop/Projects/CHL-Project/.venv/lib/python3.10/site-packages/graphein/protein/graphs.py\u001b\\\u001b[2mgraphs.py\u001b[0m\u001b]8;;\u001b\\\u001b[2m:\u001b[0m\u001b]8;id=192576;file:///Users/lavo/Desktop/Projects/CHL-Project/.venv/lib/python3.10/site-packages/graphein/protein/graphs.py#435\u001b\\\u001b[2m435\u001b[0m\u001b]8;;\u001b\\\n"
      ]
     },
     "metadata": {},
     "output_type": "display_data"
    },
    {
     "data": {
      "text/html": [
       "<pre style=\"white-space:pre;overflow-x:auto;line-height:normal;font-family:Menlo,'DejaVu Sans Mono',consolas,'Courier New',monospace\"><span style=\"color: #7fbfbf; text-decoration-color: #7fbfbf\">                    </span><span style=\"color: #008000; text-decoration-color: #008000\">DEBUG   </span> Deprotonating protein. This removes H atoms from the pdb_df dataframe    <a href=\"file:///Users/lavo/Desktop/Projects/CHL-Project/.venv/lib/python3.10/site-packages/graphein/protein/graphs.py\" target=\"_blank\"><span style=\"color: #7f7f7f; text-decoration-color: #7f7f7f\">graphs.py</span></a><span style=\"color: #7f7f7f; text-decoration-color: #7f7f7f\">:</span><a href=\"file:///Users/lavo/Desktop/Projects/CHL-Project/.venv/lib/python3.10/site-packages/graphein/protein/graphs.py#188\" target=\"_blank\"><span style=\"color: #7f7f7f; text-decoration-color: #7f7f7f\">188</span></a>\n",
       "</pre>\n"
      ],
      "text/plain": [
       "\u001b[2;36m                   \u001b[0m\u001b[2;36m \u001b[0m\u001b[32mDEBUG   \u001b[0m Deprotonating protein. This removes H atoms from the pdb_df dataframe    \u001b]8;id=708309;file:///Users/lavo/Desktop/Projects/CHL-Project/.venv/lib/python3.10/site-packages/graphein/protein/graphs.py\u001b\\\u001b[2mgraphs.py\u001b[0m\u001b]8;;\u001b\\\u001b[2m:\u001b[0m\u001b]8;id=426379;file:///Users/lavo/Desktop/Projects/CHL-Project/.venv/lib/python3.10/site-packages/graphein/protein/graphs.py#188\u001b\\\u001b[2m188\u001b[0m\u001b]8;;\u001b\\\n"
      ]
     },
     "metadata": {},
     "output_type": "display_data"
    },
    {
     "data": {
      "text/html": [
       "<pre style=\"white-space:pre;overflow-x:auto;line-height:normal;font-family:Menlo,'DejaVu Sans Mono',consolas,'Courier New',monospace\"><span style=\"color: #7fbfbf; text-decoration-color: #7fbfbf\">                    </span><span style=\"color: #008000; text-decoration-color: #008000\">DEBUG   </span> Detected <span style=\"color: #008080; text-decoration-color: #008080; font-weight: bold\">445</span> total nodes                                                 <a href=\"file:///Users/lavo/Desktop/Projects/CHL-Project/.venv/lib/python3.10/site-packages/graphein/protein/graphs.py\" target=\"_blank\"><span style=\"color: #7f7f7f; text-decoration-color: #7f7f7f\">graphs.py</span></a><span style=\"color: #7f7f7f; text-decoration-color: #7f7f7f\">:</span><a href=\"file:///Users/lavo/Desktop/Projects/CHL-Project/.venv/lib/python3.10/site-packages/graphein/protein/graphs.py#435\" target=\"_blank\"><span style=\"color: #7f7f7f; text-decoration-color: #7f7f7f\">435</span></a>\n",
       "</pre>\n"
      ],
      "text/plain": [
       "\u001b[2;36m                   \u001b[0m\u001b[2;36m \u001b[0m\u001b[32mDEBUG   \u001b[0m Detected \u001b[1;36m445\u001b[0m total nodes                                                 \u001b]8;id=844605;file:///Users/lavo/Desktop/Projects/CHL-Project/.venv/lib/python3.10/site-packages/graphein/protein/graphs.py\u001b\\\u001b[2mgraphs.py\u001b[0m\u001b]8;;\u001b\\\u001b[2m:\u001b[0m\u001b]8;id=501058;file:///Users/lavo/Desktop/Projects/CHL-Project/.venv/lib/python3.10/site-packages/graphein/protein/graphs.py#435\u001b\\\u001b[2m435\u001b[0m\u001b]8;;\u001b\\\n"
      ]
     },
     "metadata": {},
     "output_type": "display_data"
    },
    {
     "data": {
      "text/html": [
       "<pre style=\"white-space:pre;overflow-x:auto;line-height:normal;font-family:Menlo,'DejaVu Sans Mono',consolas,'Courier New',monospace\"><span style=\"color: #7fbfbf; text-decoration-color: #7fbfbf\">                    </span><span style=\"color: #008000; text-decoration-color: #008000\">DEBUG   </span> Deprotonating protein. This removes H atoms from the pdb_df dataframe    <a href=\"file:///Users/lavo/Desktop/Projects/CHL-Project/.venv/lib/python3.10/site-packages/graphein/protein/graphs.py\" target=\"_blank\"><span style=\"color: #7f7f7f; text-decoration-color: #7f7f7f\">graphs.py</span></a><span style=\"color: #7f7f7f; text-decoration-color: #7f7f7f\">:</span><a href=\"file:///Users/lavo/Desktop/Projects/CHL-Project/.venv/lib/python3.10/site-packages/graphein/protein/graphs.py#188\" target=\"_blank\"><span style=\"color: #7f7f7f; text-decoration-color: #7f7f7f\">188</span></a>\n",
       "</pre>\n"
      ],
      "text/plain": [
       "\u001b[2;36m                   \u001b[0m\u001b[2;36m \u001b[0m\u001b[32mDEBUG   \u001b[0m Deprotonating protein. This removes H atoms from the pdb_df dataframe    \u001b]8;id=766196;file:///Users/lavo/Desktop/Projects/CHL-Project/.venv/lib/python3.10/site-packages/graphein/protein/graphs.py\u001b\\\u001b[2mgraphs.py\u001b[0m\u001b]8;;\u001b\\\u001b[2m:\u001b[0m\u001b]8;id=70743;file:///Users/lavo/Desktop/Projects/CHL-Project/.venv/lib/python3.10/site-packages/graphein/protein/graphs.py#188\u001b\\\u001b[2m188\u001b[0m\u001b]8;;\u001b\\\n"
      ]
     },
     "metadata": {},
     "output_type": "display_data"
    },
    {
     "data": {
      "text/html": [
       "<pre style=\"white-space:pre;overflow-x:auto;line-height:normal;font-family:Menlo,'DejaVu Sans Mono',consolas,'Courier New',monospace\"><span style=\"color: #7fbfbf; text-decoration-color: #7fbfbf\">                    </span><span style=\"color: #008000; text-decoration-color: #008000\">DEBUG   </span> Detected <span style=\"color: #008080; text-decoration-color: #008080; font-weight: bold\">445</span> total nodes                                                 <a href=\"file:///Users/lavo/Desktop/Projects/CHL-Project/.venv/lib/python3.10/site-packages/graphein/protein/graphs.py\" target=\"_blank\"><span style=\"color: #7f7f7f; text-decoration-color: #7f7f7f\">graphs.py</span></a><span style=\"color: #7f7f7f; text-decoration-color: #7f7f7f\">:</span><a href=\"file:///Users/lavo/Desktop/Projects/CHL-Project/.venv/lib/python3.10/site-packages/graphein/protein/graphs.py#435\" target=\"_blank\"><span style=\"color: #7f7f7f; text-decoration-color: #7f7f7f\">435</span></a>\n",
       "</pre>\n"
      ],
      "text/plain": [
       "\u001b[2;36m                   \u001b[0m\u001b[2;36m \u001b[0m\u001b[32mDEBUG   \u001b[0m Detected \u001b[1;36m445\u001b[0m total nodes                                                 \u001b]8;id=48730;file:///Users/lavo/Desktop/Projects/CHL-Project/.venv/lib/python3.10/site-packages/graphein/protein/graphs.py\u001b\\\u001b[2mgraphs.py\u001b[0m\u001b]8;;\u001b\\\u001b[2m:\u001b[0m\u001b]8;id=763675;file:///Users/lavo/Desktop/Projects/CHL-Project/.venv/lib/python3.10/site-packages/graphein/protein/graphs.py#435\u001b\\\u001b[2m435\u001b[0m\u001b]8;;\u001b\\\n"
      ]
     },
     "metadata": {},
     "output_type": "display_data"
    },
    {
     "data": {
      "text/html": [
       "<pre style=\"white-space:pre;overflow-x:auto;line-height:normal;font-family:Menlo,'DejaVu Sans Mono',consolas,'Courier New',monospace\"><span style=\"color: #7fbfbf; text-decoration-color: #7fbfbf\">                    </span><span style=\"color: #008000; text-decoration-color: #008000\">DEBUG   </span> Deprotonating protein. This removes H atoms from the pdb_df dataframe    <a href=\"file:///Users/lavo/Desktop/Projects/CHL-Project/.venv/lib/python3.10/site-packages/graphein/protein/graphs.py\" target=\"_blank\"><span style=\"color: #7f7f7f; text-decoration-color: #7f7f7f\">graphs.py</span></a><span style=\"color: #7f7f7f; text-decoration-color: #7f7f7f\">:</span><a href=\"file:///Users/lavo/Desktop/Projects/CHL-Project/.venv/lib/python3.10/site-packages/graphein/protein/graphs.py#188\" target=\"_blank\"><span style=\"color: #7f7f7f; text-decoration-color: #7f7f7f\">188</span></a>\n",
       "</pre>\n"
      ],
      "text/plain": [
       "\u001b[2;36m                   \u001b[0m\u001b[2;36m \u001b[0m\u001b[32mDEBUG   \u001b[0m Deprotonating protein. This removes H atoms from the pdb_df dataframe    \u001b]8;id=795670;file:///Users/lavo/Desktop/Projects/CHL-Project/.venv/lib/python3.10/site-packages/graphein/protein/graphs.py\u001b\\\u001b[2mgraphs.py\u001b[0m\u001b]8;;\u001b\\\u001b[2m:\u001b[0m\u001b]8;id=484241;file:///Users/lavo/Desktop/Projects/CHL-Project/.venv/lib/python3.10/site-packages/graphein/protein/graphs.py#188\u001b\\\u001b[2m188\u001b[0m\u001b]8;;\u001b\\\n"
      ]
     },
     "metadata": {},
     "output_type": "display_data"
    },
    {
     "data": {
      "text/html": [
       "<pre style=\"white-space:pre;overflow-x:auto;line-height:normal;font-family:Menlo,'DejaVu Sans Mono',consolas,'Courier New',monospace\"><span style=\"color: #7fbfbf; text-decoration-color: #7fbfbf\">                    </span><span style=\"color: #008000; text-decoration-color: #008000\">DEBUG   </span> Detected <span style=\"color: #008080; text-decoration-color: #008080; font-weight: bold\">445</span> total nodes                                                 <a href=\"file:///Users/lavo/Desktop/Projects/CHL-Project/.venv/lib/python3.10/site-packages/graphein/protein/graphs.py\" target=\"_blank\"><span style=\"color: #7f7f7f; text-decoration-color: #7f7f7f\">graphs.py</span></a><span style=\"color: #7f7f7f; text-decoration-color: #7f7f7f\">:</span><a href=\"file:///Users/lavo/Desktop/Projects/CHL-Project/.venv/lib/python3.10/site-packages/graphein/protein/graphs.py#435\" target=\"_blank\"><span style=\"color: #7f7f7f; text-decoration-color: #7f7f7f\">435</span></a>\n",
       "</pre>\n"
      ],
      "text/plain": [
       "\u001b[2;36m                   \u001b[0m\u001b[2;36m \u001b[0m\u001b[32mDEBUG   \u001b[0m Detected \u001b[1;36m445\u001b[0m total nodes                                                 \u001b]8;id=956513;file:///Users/lavo/Desktop/Projects/CHL-Project/.venv/lib/python3.10/site-packages/graphein/protein/graphs.py\u001b\\\u001b[2mgraphs.py\u001b[0m\u001b]8;;\u001b\\\u001b[2m:\u001b[0m\u001b]8;id=992906;file:///Users/lavo/Desktop/Projects/CHL-Project/.venv/lib/python3.10/site-packages/graphein/protein/graphs.py#435\u001b\\\u001b[2m435\u001b[0m\u001b]8;;\u001b\\\n"
      ]
     },
     "metadata": {},
     "output_type": "display_data"
    },
    {
     "data": {
      "text/html": [
       "<pre style=\"white-space:pre;overflow-x:auto;line-height:normal;font-family:Menlo,'DejaVu Sans Mono',consolas,'Courier New',monospace\"><span style=\"color: #7fbfbf; text-decoration-color: #7fbfbf\">                    </span><span style=\"color: #008000; text-decoration-color: #008000\">DEBUG   </span> Deprotonating protein. This removes H atoms from the pdb_df dataframe    <a href=\"file:///Users/lavo/Desktop/Projects/CHL-Project/.venv/lib/python3.10/site-packages/graphein/protein/graphs.py\" target=\"_blank\"><span style=\"color: #7f7f7f; text-decoration-color: #7f7f7f\">graphs.py</span></a><span style=\"color: #7f7f7f; text-decoration-color: #7f7f7f\">:</span><a href=\"file:///Users/lavo/Desktop/Projects/CHL-Project/.venv/lib/python3.10/site-packages/graphein/protein/graphs.py#188\" target=\"_blank\"><span style=\"color: #7f7f7f; text-decoration-color: #7f7f7f\">188</span></a>\n",
       "</pre>\n"
      ],
      "text/plain": [
       "\u001b[2;36m                   \u001b[0m\u001b[2;36m \u001b[0m\u001b[32mDEBUG   \u001b[0m Deprotonating protein. This removes H atoms from the pdb_df dataframe    \u001b]8;id=256136;file:///Users/lavo/Desktop/Projects/CHL-Project/.venv/lib/python3.10/site-packages/graphein/protein/graphs.py\u001b\\\u001b[2mgraphs.py\u001b[0m\u001b]8;;\u001b\\\u001b[2m:\u001b[0m\u001b]8;id=987490;file:///Users/lavo/Desktop/Projects/CHL-Project/.venv/lib/python3.10/site-packages/graphein/protein/graphs.py#188\u001b\\\u001b[2m188\u001b[0m\u001b]8;;\u001b\\\n"
      ]
     },
     "metadata": {},
     "output_type": "display_data"
    },
    {
     "data": {
      "text/html": [
       "<pre style=\"white-space:pre;overflow-x:auto;line-height:normal;font-family:Menlo,'DejaVu Sans Mono',consolas,'Courier New',monospace\"><span style=\"color: #7fbfbf; text-decoration-color: #7fbfbf\">                    </span><span style=\"color: #008000; text-decoration-color: #008000\">DEBUG   </span> Detected <span style=\"color: #008080; text-decoration-color: #008080; font-weight: bold\">445</span> total nodes                                                 <a href=\"file:///Users/lavo/Desktop/Projects/CHL-Project/.venv/lib/python3.10/site-packages/graphein/protein/graphs.py\" target=\"_blank\"><span style=\"color: #7f7f7f; text-decoration-color: #7f7f7f\">graphs.py</span></a><span style=\"color: #7f7f7f; text-decoration-color: #7f7f7f\">:</span><a href=\"file:///Users/lavo/Desktop/Projects/CHL-Project/.venv/lib/python3.10/site-packages/graphein/protein/graphs.py#435\" target=\"_blank\"><span style=\"color: #7f7f7f; text-decoration-color: #7f7f7f\">435</span></a>\n",
       "</pre>\n"
      ],
      "text/plain": [
       "\u001b[2;36m                   \u001b[0m\u001b[2;36m \u001b[0m\u001b[32mDEBUG   \u001b[0m Detected \u001b[1;36m445\u001b[0m total nodes                                                 \u001b]8;id=50328;file:///Users/lavo/Desktop/Projects/CHL-Project/.venv/lib/python3.10/site-packages/graphein/protein/graphs.py\u001b\\\u001b[2mgraphs.py\u001b[0m\u001b]8;;\u001b\\\u001b[2m:\u001b[0m\u001b]8;id=440368;file:///Users/lavo/Desktop/Projects/CHL-Project/.venv/lib/python3.10/site-packages/graphein/protein/graphs.py#435\u001b\\\u001b[2m435\u001b[0m\u001b]8;;\u001b\\\n"
      ]
     },
     "metadata": {},
     "output_type": "display_data"
    },
    {
     "data": {
      "text/html": [
       "<pre style=\"white-space:pre;overflow-x:auto;line-height:normal;font-family:Menlo,'DejaVu Sans Mono',consolas,'Courier New',monospace\"><span style=\"color: #7fbfbf; text-decoration-color: #7fbfbf\">                    </span><span style=\"color: #008000; text-decoration-color: #008000\">DEBUG   </span> Deprotonating protein. This removes H atoms from the pdb_df dataframe    <a href=\"file:///Users/lavo/Desktop/Projects/CHL-Project/.venv/lib/python3.10/site-packages/graphein/protein/graphs.py\" target=\"_blank\"><span style=\"color: #7f7f7f; text-decoration-color: #7f7f7f\">graphs.py</span></a><span style=\"color: #7f7f7f; text-decoration-color: #7f7f7f\">:</span><a href=\"file:///Users/lavo/Desktop/Projects/CHL-Project/.venv/lib/python3.10/site-packages/graphein/protein/graphs.py#188\" target=\"_blank\"><span style=\"color: #7f7f7f; text-decoration-color: #7f7f7f\">188</span></a>\n",
       "</pre>\n"
      ],
      "text/plain": [
       "\u001b[2;36m                   \u001b[0m\u001b[2;36m \u001b[0m\u001b[32mDEBUG   \u001b[0m Deprotonating protein. This removes H atoms from the pdb_df dataframe    \u001b]8;id=274670;file:///Users/lavo/Desktop/Projects/CHL-Project/.venv/lib/python3.10/site-packages/graphein/protein/graphs.py\u001b\\\u001b[2mgraphs.py\u001b[0m\u001b]8;;\u001b\\\u001b[2m:\u001b[0m\u001b]8;id=916567;file:///Users/lavo/Desktop/Projects/CHL-Project/.venv/lib/python3.10/site-packages/graphein/protein/graphs.py#188\u001b\\\u001b[2m188\u001b[0m\u001b]8;;\u001b\\\n"
      ]
     },
     "metadata": {},
     "output_type": "display_data"
    },
    {
     "data": {
      "text/html": [
       "<pre style=\"white-space:pre;overflow-x:auto;line-height:normal;font-family:Menlo,'DejaVu Sans Mono',consolas,'Courier New',monospace\"><span style=\"color: #7fbfbf; text-decoration-color: #7fbfbf\">                    </span><span style=\"color: #008000; text-decoration-color: #008000\">DEBUG   </span> Detected <span style=\"color: #008080; text-decoration-color: #008080; font-weight: bold\">445</span> total nodes                                                 <a href=\"file:///Users/lavo/Desktop/Projects/CHL-Project/.venv/lib/python3.10/site-packages/graphein/protein/graphs.py\" target=\"_blank\"><span style=\"color: #7f7f7f; text-decoration-color: #7f7f7f\">graphs.py</span></a><span style=\"color: #7f7f7f; text-decoration-color: #7f7f7f\">:</span><a href=\"file:///Users/lavo/Desktop/Projects/CHL-Project/.venv/lib/python3.10/site-packages/graphein/protein/graphs.py#435\" target=\"_blank\"><span style=\"color: #7f7f7f; text-decoration-color: #7f7f7f\">435</span></a>\n",
       "</pre>\n"
      ],
      "text/plain": [
       "\u001b[2;36m                   \u001b[0m\u001b[2;36m \u001b[0m\u001b[32mDEBUG   \u001b[0m Detected \u001b[1;36m445\u001b[0m total nodes                                                 \u001b]8;id=733304;file:///Users/lavo/Desktop/Projects/CHL-Project/.venv/lib/python3.10/site-packages/graphein/protein/graphs.py\u001b\\\u001b[2mgraphs.py\u001b[0m\u001b]8;;\u001b\\\u001b[2m:\u001b[0m\u001b]8;id=506209;file:///Users/lavo/Desktop/Projects/CHL-Project/.venv/lib/python3.10/site-packages/graphein/protein/graphs.py#435\u001b\\\u001b[2m435\u001b[0m\u001b]8;;\u001b\\\n"
      ]
     },
     "metadata": {},
     "output_type": "display_data"
    },
    {
     "data": {
      "text/html": [
       "<pre style=\"white-space:pre;overflow-x:auto;line-height:normal;font-family:Menlo,'DejaVu Sans Mono',consolas,'Courier New',monospace\"><span style=\"color: #7fbfbf; text-decoration-color: #7fbfbf\">                    </span><span style=\"color: #008000; text-decoration-color: #008000\">DEBUG   </span> Deprotonating protein. This removes H atoms from the pdb_df dataframe    <a href=\"file:///Users/lavo/Desktop/Projects/CHL-Project/.venv/lib/python3.10/site-packages/graphein/protein/graphs.py\" target=\"_blank\"><span style=\"color: #7f7f7f; text-decoration-color: #7f7f7f\">graphs.py</span></a><span style=\"color: #7f7f7f; text-decoration-color: #7f7f7f\">:</span><a href=\"file:///Users/lavo/Desktop/Projects/CHL-Project/.venv/lib/python3.10/site-packages/graphein/protein/graphs.py#188\" target=\"_blank\"><span style=\"color: #7f7f7f; text-decoration-color: #7f7f7f\">188</span></a>\n",
       "</pre>\n"
      ],
      "text/plain": [
       "\u001b[2;36m                   \u001b[0m\u001b[2;36m \u001b[0m\u001b[32mDEBUG   \u001b[0m Deprotonating protein. This removes H atoms from the pdb_df dataframe    \u001b]8;id=785166;file:///Users/lavo/Desktop/Projects/CHL-Project/.venv/lib/python3.10/site-packages/graphein/protein/graphs.py\u001b\\\u001b[2mgraphs.py\u001b[0m\u001b]8;;\u001b\\\u001b[2m:\u001b[0m\u001b]8;id=757676;file:///Users/lavo/Desktop/Projects/CHL-Project/.venv/lib/python3.10/site-packages/graphein/protein/graphs.py#188\u001b\\\u001b[2m188\u001b[0m\u001b]8;;\u001b\\\n"
      ]
     },
     "metadata": {},
     "output_type": "display_data"
    },
    {
     "data": {
      "text/html": [
       "<pre style=\"white-space:pre;overflow-x:auto;line-height:normal;font-family:Menlo,'DejaVu Sans Mono',consolas,'Courier New',monospace\"><span style=\"color: #7fbfbf; text-decoration-color: #7fbfbf\">                    </span><span style=\"color: #008000; text-decoration-color: #008000\">DEBUG   </span> Detected <span style=\"color: #008080; text-decoration-color: #008080; font-weight: bold\">445</span> total nodes                                                 <a href=\"file:///Users/lavo/Desktop/Projects/CHL-Project/.venv/lib/python3.10/site-packages/graphein/protein/graphs.py\" target=\"_blank\"><span style=\"color: #7f7f7f; text-decoration-color: #7f7f7f\">graphs.py</span></a><span style=\"color: #7f7f7f; text-decoration-color: #7f7f7f\">:</span><a href=\"file:///Users/lavo/Desktop/Projects/CHL-Project/.venv/lib/python3.10/site-packages/graphein/protein/graphs.py#435\" target=\"_blank\"><span style=\"color: #7f7f7f; text-decoration-color: #7f7f7f\">435</span></a>\n",
       "</pre>\n"
      ],
      "text/plain": [
       "\u001b[2;36m                   \u001b[0m\u001b[2;36m \u001b[0m\u001b[32mDEBUG   \u001b[0m Detected \u001b[1;36m445\u001b[0m total nodes                                                 \u001b]8;id=561431;file:///Users/lavo/Desktop/Projects/CHL-Project/.venv/lib/python3.10/site-packages/graphein/protein/graphs.py\u001b\\\u001b[2mgraphs.py\u001b[0m\u001b]8;;\u001b\\\u001b[2m:\u001b[0m\u001b]8;id=445782;file:///Users/lavo/Desktop/Projects/CHL-Project/.venv/lib/python3.10/site-packages/graphein/protein/graphs.py#435\u001b\\\u001b[2m435\u001b[0m\u001b]8;;\u001b\\\n"
      ]
     },
     "metadata": {},
     "output_type": "display_data"
    },
    {
     "data": {
      "text/html": [
       "<pre style=\"white-space:pre;overflow-x:auto;line-height:normal;font-family:Menlo,'DejaVu Sans Mono',consolas,'Courier New',monospace\"><span style=\"color: #7fbfbf; text-decoration-color: #7fbfbf\">                    </span><span style=\"color: #008000; text-decoration-color: #008000\">DEBUG   </span> Deprotonating protein. This removes H atoms from the pdb_df dataframe    <a href=\"file:///Users/lavo/Desktop/Projects/CHL-Project/.venv/lib/python3.10/site-packages/graphein/protein/graphs.py\" target=\"_blank\"><span style=\"color: #7f7f7f; text-decoration-color: #7f7f7f\">graphs.py</span></a><span style=\"color: #7f7f7f; text-decoration-color: #7f7f7f\">:</span><a href=\"file:///Users/lavo/Desktop/Projects/CHL-Project/.venv/lib/python3.10/site-packages/graphein/protein/graphs.py#188\" target=\"_blank\"><span style=\"color: #7f7f7f; text-decoration-color: #7f7f7f\">188</span></a>\n",
       "</pre>\n"
      ],
      "text/plain": [
       "\u001b[2;36m                   \u001b[0m\u001b[2;36m \u001b[0m\u001b[32mDEBUG   \u001b[0m Deprotonating protein. This removes H atoms from the pdb_df dataframe    \u001b]8;id=146575;file:///Users/lavo/Desktop/Projects/CHL-Project/.venv/lib/python3.10/site-packages/graphein/protein/graphs.py\u001b\\\u001b[2mgraphs.py\u001b[0m\u001b]8;;\u001b\\\u001b[2m:\u001b[0m\u001b]8;id=101337;file:///Users/lavo/Desktop/Projects/CHL-Project/.venv/lib/python3.10/site-packages/graphein/protein/graphs.py#188\u001b\\\u001b[2m188\u001b[0m\u001b]8;;\u001b\\\n"
      ]
     },
     "metadata": {},
     "output_type": "display_data"
    },
    {
     "data": {
      "text/html": [
       "<pre style=\"white-space:pre;overflow-x:auto;line-height:normal;font-family:Menlo,'DejaVu Sans Mono',consolas,'Courier New',monospace\"><span style=\"color: #7fbfbf; text-decoration-color: #7fbfbf\">                    </span><span style=\"color: #008000; text-decoration-color: #008000\">DEBUG   </span> Detected <span style=\"color: #008080; text-decoration-color: #008080; font-weight: bold\">445</span> total nodes                                                 <a href=\"file:///Users/lavo/Desktop/Projects/CHL-Project/.venv/lib/python3.10/site-packages/graphein/protein/graphs.py\" target=\"_blank\"><span style=\"color: #7f7f7f; text-decoration-color: #7f7f7f\">graphs.py</span></a><span style=\"color: #7f7f7f; text-decoration-color: #7f7f7f\">:</span><a href=\"file:///Users/lavo/Desktop/Projects/CHL-Project/.venv/lib/python3.10/site-packages/graphein/protein/graphs.py#435\" target=\"_blank\"><span style=\"color: #7f7f7f; text-decoration-color: #7f7f7f\">435</span></a>\n",
       "</pre>\n"
      ],
      "text/plain": [
       "\u001b[2;36m                   \u001b[0m\u001b[2;36m \u001b[0m\u001b[32mDEBUG   \u001b[0m Detected \u001b[1;36m445\u001b[0m total nodes                                                 \u001b]8;id=932572;file:///Users/lavo/Desktop/Projects/CHL-Project/.venv/lib/python3.10/site-packages/graphein/protein/graphs.py\u001b\\\u001b[2mgraphs.py\u001b[0m\u001b]8;;\u001b\\\u001b[2m:\u001b[0m\u001b]8;id=221669;file:///Users/lavo/Desktop/Projects/CHL-Project/.venv/lib/python3.10/site-packages/graphein/protein/graphs.py#435\u001b\\\u001b[2m435\u001b[0m\u001b]8;;\u001b\\\n"
      ]
     },
     "metadata": {},
     "output_type": "display_data"
    },
    {
     "data": {
      "text/html": [
       "<pre style=\"white-space:pre;overflow-x:auto;line-height:normal;font-family:Menlo,'DejaVu Sans Mono',consolas,'Courier New',monospace\"><span style=\"color: #7fbfbf; text-decoration-color: #7fbfbf\">                    </span><span style=\"color: #008000; text-decoration-color: #008000\">DEBUG   </span> Deprotonating protein. This removes H atoms from the pdb_df dataframe    <a href=\"file:///Users/lavo/Desktop/Projects/CHL-Project/.venv/lib/python3.10/site-packages/graphein/protein/graphs.py\" target=\"_blank\"><span style=\"color: #7f7f7f; text-decoration-color: #7f7f7f\">graphs.py</span></a><span style=\"color: #7f7f7f; text-decoration-color: #7f7f7f\">:</span><a href=\"file:///Users/lavo/Desktop/Projects/CHL-Project/.venv/lib/python3.10/site-packages/graphein/protein/graphs.py#188\" target=\"_blank\"><span style=\"color: #7f7f7f; text-decoration-color: #7f7f7f\">188</span></a>\n",
       "</pre>\n"
      ],
      "text/plain": [
       "\u001b[2;36m                   \u001b[0m\u001b[2;36m \u001b[0m\u001b[32mDEBUG   \u001b[0m Deprotonating protein. This removes H atoms from the pdb_df dataframe    \u001b]8;id=501819;file:///Users/lavo/Desktop/Projects/CHL-Project/.venv/lib/python3.10/site-packages/graphein/protein/graphs.py\u001b\\\u001b[2mgraphs.py\u001b[0m\u001b]8;;\u001b\\\u001b[2m:\u001b[0m\u001b]8;id=446960;file:///Users/lavo/Desktop/Projects/CHL-Project/.venv/lib/python3.10/site-packages/graphein/protein/graphs.py#188\u001b\\\u001b[2m188\u001b[0m\u001b]8;;\u001b\\\n"
      ]
     },
     "metadata": {},
     "output_type": "display_data"
    },
    {
     "data": {
      "text/html": [
       "<pre style=\"white-space:pre;overflow-x:auto;line-height:normal;font-family:Menlo,'DejaVu Sans Mono',consolas,'Courier New',monospace\"><span style=\"color: #7fbfbf; text-decoration-color: #7fbfbf\">                    </span><span style=\"color: #008000; text-decoration-color: #008000\">DEBUG   </span> Detected <span style=\"color: #008080; text-decoration-color: #008080; font-weight: bold\">445</span> total nodes                                                 <a href=\"file:///Users/lavo/Desktop/Projects/CHL-Project/.venv/lib/python3.10/site-packages/graphein/protein/graphs.py\" target=\"_blank\"><span style=\"color: #7f7f7f; text-decoration-color: #7f7f7f\">graphs.py</span></a><span style=\"color: #7f7f7f; text-decoration-color: #7f7f7f\">:</span><a href=\"file:///Users/lavo/Desktop/Projects/CHL-Project/.venv/lib/python3.10/site-packages/graphein/protein/graphs.py#435\" target=\"_blank\"><span style=\"color: #7f7f7f; text-decoration-color: #7f7f7f\">435</span></a>\n",
       "</pre>\n"
      ],
      "text/plain": [
       "\u001b[2;36m                   \u001b[0m\u001b[2;36m \u001b[0m\u001b[32mDEBUG   \u001b[0m Detected \u001b[1;36m445\u001b[0m total nodes                                                 \u001b]8;id=905237;file:///Users/lavo/Desktop/Projects/CHL-Project/.venv/lib/python3.10/site-packages/graphein/protein/graphs.py\u001b\\\u001b[2mgraphs.py\u001b[0m\u001b]8;;\u001b\\\u001b[2m:\u001b[0m\u001b]8;id=286985;file:///Users/lavo/Desktop/Projects/CHL-Project/.venv/lib/python3.10/site-packages/graphein/protein/graphs.py#435\u001b\\\u001b[2m435\u001b[0m\u001b]8;;\u001b\\\n"
      ]
     },
     "metadata": {},
     "output_type": "display_data"
    },
    {
     "data": {
      "text/html": [
       "<pre style=\"white-space:pre;overflow-x:auto;line-height:normal;font-family:Menlo,'DejaVu Sans Mono',consolas,'Courier New',monospace\"><span style=\"color: #7fbfbf; text-decoration-color: #7fbfbf\">                    </span><span style=\"color: #008000; text-decoration-color: #008000\">DEBUG   </span> Deprotonating protein. This removes H atoms from the pdb_df dataframe    <a href=\"file:///Users/lavo/Desktop/Projects/CHL-Project/.venv/lib/python3.10/site-packages/graphein/protein/graphs.py\" target=\"_blank\"><span style=\"color: #7f7f7f; text-decoration-color: #7f7f7f\">graphs.py</span></a><span style=\"color: #7f7f7f; text-decoration-color: #7f7f7f\">:</span><a href=\"file:///Users/lavo/Desktop/Projects/CHL-Project/.venv/lib/python3.10/site-packages/graphein/protein/graphs.py#188\" target=\"_blank\"><span style=\"color: #7f7f7f; text-decoration-color: #7f7f7f\">188</span></a>\n",
       "</pre>\n"
      ],
      "text/plain": [
       "\u001b[2;36m                   \u001b[0m\u001b[2;36m \u001b[0m\u001b[32mDEBUG   \u001b[0m Deprotonating protein. This removes H atoms from the pdb_df dataframe    \u001b]8;id=24761;file:///Users/lavo/Desktop/Projects/CHL-Project/.venv/lib/python3.10/site-packages/graphein/protein/graphs.py\u001b\\\u001b[2mgraphs.py\u001b[0m\u001b]8;;\u001b\\\u001b[2m:\u001b[0m\u001b]8;id=707491;file:///Users/lavo/Desktop/Projects/CHL-Project/.venv/lib/python3.10/site-packages/graphein/protein/graphs.py#188\u001b\\\u001b[2m188\u001b[0m\u001b]8;;\u001b\\\n"
      ]
     },
     "metadata": {},
     "output_type": "display_data"
    },
    {
     "data": {
      "text/html": [
       "<pre style=\"white-space:pre;overflow-x:auto;line-height:normal;font-family:Menlo,'DejaVu Sans Mono',consolas,'Courier New',monospace\"><span style=\"color: #7fbfbf; text-decoration-color: #7fbfbf\">                    </span><span style=\"color: #008000; text-decoration-color: #008000\">DEBUG   </span> Detected <span style=\"color: #008080; text-decoration-color: #008080; font-weight: bold\">445</span> total nodes                                                 <a href=\"file:///Users/lavo/Desktop/Projects/CHL-Project/.venv/lib/python3.10/site-packages/graphein/protein/graphs.py\" target=\"_blank\"><span style=\"color: #7f7f7f; text-decoration-color: #7f7f7f\">graphs.py</span></a><span style=\"color: #7f7f7f; text-decoration-color: #7f7f7f\">:</span><a href=\"file:///Users/lavo/Desktop/Projects/CHL-Project/.venv/lib/python3.10/site-packages/graphein/protein/graphs.py#435\" target=\"_blank\"><span style=\"color: #7f7f7f; text-decoration-color: #7f7f7f\">435</span></a>\n",
       "</pre>\n"
      ],
      "text/plain": [
       "\u001b[2;36m                   \u001b[0m\u001b[2;36m \u001b[0m\u001b[32mDEBUG   \u001b[0m Detected \u001b[1;36m445\u001b[0m total nodes                                                 \u001b]8;id=291607;file:///Users/lavo/Desktop/Projects/CHL-Project/.venv/lib/python3.10/site-packages/graphein/protein/graphs.py\u001b\\\u001b[2mgraphs.py\u001b[0m\u001b]8;;\u001b\\\u001b[2m:\u001b[0m\u001b]8;id=258807;file:///Users/lavo/Desktop/Projects/CHL-Project/.venv/lib/python3.10/site-packages/graphein/protein/graphs.py#435\u001b\\\u001b[2m435\u001b[0m\u001b]8;;\u001b\\\n"
      ]
     },
     "metadata": {},
     "output_type": "display_data"
    },
    {
     "data": {
      "text/html": [
       "<div>\n",
       "<style scoped>\n",
       "    .dataframe tbody tr th:only-of-type {\n",
       "        vertical-align: middle;\n",
       "    }\n",
       "\n",
       "    .dataframe tbody tr th {\n",
       "        vertical-align: top;\n",
       "    }\n",
       "\n",
       "    .dataframe thead th {\n",
       "        text-align: right;\n",
       "    }\n",
       "</style>\n",
       "<table border=\"1\" class=\"dataframe\">\n",
       "  <thead>\n",
       "    <tr style=\"text-align: right;\">\n",
       "      <th></th>\n",
       "      <th>Protein change allele 1</th>\n",
       "      <th>Protein change allele 2</th>\n",
       "      <th>graph_allele1</th>\n",
       "      <th>graph_allele2</th>\n",
       "      <th>structure_allele1</th>\n",
       "      <th>structure_allele2</th>\n",
       "    </tr>\n",
       "  </thead>\n",
       "  <tbody>\n",
       "    <tr>\n",
       "      <th>0</th>\n",
       "      <td>G161R</td>\n",
       "      <td>His371Profs</td>\n",
       "      <td>(A:MET:1, A:ALA:2, A:GLU:3, A:LEU:4, A:LYS:5, ...</td>\n",
       "      <td>None</td>\n",
       "      <td>(((&lt;Residue MET het=  resseq=1 icode= &gt;, &lt;Resi...</td>\n",
       "      <td>None</td>\n",
       "    </tr>\n",
       "    <tr>\n",
       "      <th>1</th>\n",
       "      <td>G161R</td>\n",
       "      <td>G161R</td>\n",
       "      <td>(A:MET:1, A:ALA:2, A:GLU:3, A:LEU:4, A:LYS:5, ...</td>\n",
       "      <td>(A:MET:1, A:ALA:2, A:GLU:3, A:LEU:4, A:LYS:5, ...</td>\n",
       "      <td>(((&lt;Residue MET het=  resseq=1 icode= &gt;, &lt;Resi...</td>\n",
       "      <td>(((&lt;Residue MET het=  resseq=1 icode= &gt;, &lt;Resi...</td>\n",
       "    </tr>\n",
       "    <tr>\n",
       "      <th>2</th>\n",
       "      <td>G161R</td>\n",
       "      <td>M368V</td>\n",
       "      <td>(A:MET:1, A:ALA:2, A:GLU:3, A:LEU:4, A:LYS:5, ...</td>\n",
       "      <td>(A:MET:1, A:ALA:2, A:GLU:3, A:LEU:4, A:LYS:5, ...</td>\n",
       "      <td>(((&lt;Residue MET het=  resseq=1 icode= &gt;, &lt;Resi...</td>\n",
       "      <td>(((&lt;Residue MET het=  resseq=1 icode= &gt;, &lt;Resi...</td>\n",
       "    </tr>\n",
       "    <tr>\n",
       "      <th>3</th>\n",
       "      <td>Y6_G29del ivs1-1G&gt;A</td>\n",
       "      <td>Y6_G29del ivs1-1G&gt;A</td>\n",
       "      <td>None</td>\n",
       "      <td>None</td>\n",
       "      <td>None</td>\n",
       "      <td>None</td>\n",
       "    </tr>\n",
       "    <tr>\n",
       "      <th>4</th>\n",
       "      <td>G161R</td>\n",
       "      <td>G161R</td>\n",
       "      <td>(A:MET:1, A:ALA:2, A:GLU:3, A:LEU:4, A:LYS:5, ...</td>\n",
       "      <td>(A:MET:1, A:ALA:2, A:GLU:3, A:LEU:4, A:LYS:5, ...</td>\n",
       "      <td>(((&lt;Residue MET het=  resseq=1 icode= &gt;, &lt;Resi...</td>\n",
       "      <td>(((&lt;Residue MET het=  resseq=1 icode= &gt;, &lt;Resi...</td>\n",
       "    </tr>\n",
       "    <tr>\n",
       "      <th>...</th>\n",
       "      <td>...</td>\n",
       "      <td>...</td>\n",
       "      <td>...</td>\n",
       "      <td>...</td>\n",
       "      <td>...</td>\n",
       "      <td>...</td>\n",
       "    </tr>\n",
       "    <tr>\n",
       "      <th>214</th>\n",
       "      <td>G251D</td>\n",
       "      <td>del ex13 (MLPA)</td>\n",
       "      <td>(A:MET:1, A:ALA:2, A:GLU:3, A:LEU:4, A:LYS:5, ...</td>\n",
       "      <td>None</td>\n",
       "      <td>(((&lt;Residue MET het=  resseq=1 icode= &gt;, &lt;Resi...</td>\n",
       "      <td>None</td>\n",
       "    </tr>\n",
       "    <tr>\n",
       "      <th>215</th>\n",
       "      <td>E401Q</td>\n",
       "      <td>(p.(Ala218_Asn219insLysIle))</td>\n",
       "      <td>(A:MET:1, A:ALA:2, A:GLU:3, A:LEU:4, A:LYS:5, ...</td>\n",
       "      <td>None</td>\n",
       "      <td>(((&lt;Residue MET het=  resseq=1 icode= &gt;, &lt;Resi...</td>\n",
       "      <td>None</td>\n",
       "    </tr>\n",
       "    <tr>\n",
       "      <th>216</th>\n",
       "      <td>R53Q</td>\n",
       "      <td>R53Q</td>\n",
       "      <td>(A:MET:1, A:ALA:2, A:GLU:3, A:LEU:4, A:LYS:5, ...</td>\n",
       "      <td>(A:MET:1, A:ALA:2, A:GLU:3, A:LEU:4, A:LYS:5, ...</td>\n",
       "      <td>(((&lt;Residue MET het=  resseq=1 icode= &gt;, &lt;Resi...</td>\n",
       "      <td>(((&lt;Residue MET het=  resseq=1 icode= &gt;, &lt;Resi...</td>\n",
       "    </tr>\n",
       "    <tr>\n",
       "      <th>217</th>\n",
       "      <td>ivs8-2A&gt;G (R184fs)</td>\n",
       "      <td>n.i. (MLPAneg)</td>\n",
       "      <td>None</td>\n",
       "      <td>None</td>\n",
       "      <td>None</td>\n",
       "      <td>None</td>\n",
       "    </tr>\n",
       "    <tr>\n",
       "      <th>218</th>\n",
       "      <td>E168K</td>\n",
       "      <td>E168K</td>\n",
       "      <td>(A:MET:1, A:ALA:2, A:GLU:3, A:LEU:4, A:LYS:5, ...</td>\n",
       "      <td>(A:MET:1, A:ALA:2, A:GLU:3, A:LEU:4, A:LYS:5, ...</td>\n",
       "      <td>(((&lt;Residue MET het=  resseq=1 icode= &gt;, &lt;Resi...</td>\n",
       "      <td>(((&lt;Residue MET het=  resseq=1 icode= &gt;, &lt;Resi...</td>\n",
       "    </tr>\n",
       "  </tbody>\n",
       "</table>\n",
       "<p>219 rows × 6 columns</p>\n",
       "</div>"
      ],
      "text/plain": [
       "    Protein change allele 1        Protein change allele 2  \\\n",
       "0                      G161R                   His371Profs   \n",
       "1                      G161R                         G161R   \n",
       "2                      G161R                         M368V   \n",
       "3        Y6_G29del ivs1-1G>A           Y6_G29del ivs1-1G>A   \n",
       "4                      G161R                         G161R   \n",
       "..                       ...                           ...   \n",
       "214                    G251D               del ex13 (MLPA)   \n",
       "215                    E401Q  (p.(Ala218_Asn219insLysIle))   \n",
       "216                     R53Q                          R53Q   \n",
       "217       ivs8-2A>G (R184fs)                n.i. (MLPAneg)   \n",
       "218                    E168K                         E168K   \n",
       "\n",
       "                                         graph_allele1  \\\n",
       "0    (A:MET:1, A:ALA:2, A:GLU:3, A:LEU:4, A:LYS:5, ...   \n",
       "1    (A:MET:1, A:ALA:2, A:GLU:3, A:LEU:4, A:LYS:5, ...   \n",
       "2    (A:MET:1, A:ALA:2, A:GLU:3, A:LEU:4, A:LYS:5, ...   \n",
       "3                                                 None   \n",
       "4    (A:MET:1, A:ALA:2, A:GLU:3, A:LEU:4, A:LYS:5, ...   \n",
       "..                                                 ...   \n",
       "214  (A:MET:1, A:ALA:2, A:GLU:3, A:LEU:4, A:LYS:5, ...   \n",
       "215  (A:MET:1, A:ALA:2, A:GLU:3, A:LEU:4, A:LYS:5, ...   \n",
       "216  (A:MET:1, A:ALA:2, A:GLU:3, A:LEU:4, A:LYS:5, ...   \n",
       "217                                               None   \n",
       "218  (A:MET:1, A:ALA:2, A:GLU:3, A:LEU:4, A:LYS:5, ...   \n",
       "\n",
       "                                         graph_allele2  \\\n",
       "0                                                 None   \n",
       "1    (A:MET:1, A:ALA:2, A:GLU:3, A:LEU:4, A:LYS:5, ...   \n",
       "2    (A:MET:1, A:ALA:2, A:GLU:3, A:LEU:4, A:LYS:5, ...   \n",
       "3                                                 None   \n",
       "4    (A:MET:1, A:ALA:2, A:GLU:3, A:LEU:4, A:LYS:5, ...   \n",
       "..                                                 ...   \n",
       "214                                               None   \n",
       "215                                               None   \n",
       "216  (A:MET:1, A:ALA:2, A:GLU:3, A:LEU:4, A:LYS:5, ...   \n",
       "217                                               None   \n",
       "218  (A:MET:1, A:ALA:2, A:GLU:3, A:LEU:4, A:LYS:5, ...   \n",
       "\n",
       "                                     structure_allele1  \\\n",
       "0    (((<Residue MET het=  resseq=1 icode= >, <Resi...   \n",
       "1    (((<Residue MET het=  resseq=1 icode= >, <Resi...   \n",
       "2    (((<Residue MET het=  resseq=1 icode= >, <Resi...   \n",
       "3                                                 None   \n",
       "4    (((<Residue MET het=  resseq=1 icode= >, <Resi...   \n",
       "..                                                 ...   \n",
       "214  (((<Residue MET het=  resseq=1 icode= >, <Resi...   \n",
       "215  (((<Residue MET het=  resseq=1 icode= >, <Resi...   \n",
       "216  (((<Residue MET het=  resseq=1 icode= >, <Resi...   \n",
       "217                                               None   \n",
       "218  (((<Residue MET het=  resseq=1 icode= >, <Resi...   \n",
       "\n",
       "                                     structure_allele2  \n",
       "0                                                 None  \n",
       "1    (((<Residue MET het=  resseq=1 icode= >, <Resi...  \n",
       "2    (((<Residue MET het=  resseq=1 icode= >, <Resi...  \n",
       "3                                                 None  \n",
       "4    (((<Residue MET het=  resseq=1 icode= >, <Resi...  \n",
       "..                                                 ...  \n",
       "214                                               None  \n",
       "215                                               None  \n",
       "216  (((<Residue MET het=  resseq=1 icode= >, <Resi...  \n",
       "217                                               None  \n",
       "218  (((<Residue MET het=  resseq=1 icode= >, <Resi...  \n",
       "\n",
       "[219 rows x 6 columns]"
      ]
     },
     "execution_count": 7,
     "metadata": {},
     "output_type": "execute_result"
    }
   ],
   "source": [
    "import logging, sys\n",
    "logging.disable(sys.maxsize)\n",
    "\n",
    "from utils import create_graph_df\n",
    "df_p = create_graph_df()\n",
    "df_p"
   ]
  },
  {
   "cell_type": "code",
   "execution_count": 2,
   "metadata": {},
   "outputs": [
    {
     "data": {
      "text/plain": [
       "networkx.classes.graph.Graph"
      ]
     },
     "execution_count": 2,
     "metadata": {},
     "output_type": "execute_result"
    }
   ],
   "source": [
    "type(df_p['graph_allele1'][0])"
   ]
  }
 ],
 "metadata": {
  "kernelspec": {
   "display_name": "Python 3 (ipykernel)",
   "language": "python",
   "name": "python3"
  },
  "language_info": {
   "codemirror_mode": {
    "name": "ipython",
    "version": 3
   },
   "file_extension": ".py",
   "mimetype": "text/x-python",
   "name": "python",
   "nbconvert_exporter": "python",
   "pygments_lexer": "ipython3",
   "version": "3.10.13"
  }
 },
 "nbformat": 4,
 "nbformat_minor": 4
}
