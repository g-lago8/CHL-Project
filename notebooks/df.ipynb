{
 "cells": [
  {
   "cell_type": "code",
   "execution_count": 4,
   "metadata": {},
   "outputs": [],
   "source": [
    "import pandas as pd\n",
    "import os\n",
    "path = '../datasets/ALPHAFOLD PDBs/'"
   ]
  },
  {
   "cell_type": "code",
   "execution_count": 9,
   "metadata": {},
   "outputs": [],
   "source": [
    "\n",
    "pdb_files = []\n",
    "for folder in os.listdir(path):\n",
    "    for file in os.listdir(path + folder):\n",
    "        if 'rank_001' in file and file.endswith('.pdb'):\n",
    "            pdb_files.append(path + folder + '/' + file)\n",
    "\n"
   ]
  },
  {
   "cell_type": "code",
   "execution_count": 15,
   "metadata": {},
   "outputs": [
    {
     "data": {
      "text/plain": [
       "['../datasets/ALPHAFOLD PDBs/G185R_e6971/G185R_e6971_unrelaxed_rank_001_alphafold2_ptm_model_5_seed_000.pdb',\n",
       " '../datasets/ALPHAFOLD PDBs/E168L_0f4af/E168L_0f4af_unrelaxed_rank_001_alphafold2_ptm_model_5_seed_000.pdb',\n",
       " '../datasets/ALPHAFOLD PDBs/R53Q_8ee59/R53Q_8ee59_unrelaxed_rank_001_alphafold2_ptm_model_5_seed_000.pdb',\n",
       " '../datasets/ALPHAFOLD PDBs/W97C_b9ccb/W97C_b9ccb_unrelaxed_rank_001_alphafold2_ptm_model_5_seed_000.pdb',\n",
       " '../datasets/ALPHAFOLD PDBs/K353Q_ed31e/K353Q_ed31e_unrelaxed_rank_001_alphafold2_ptm_model_5_seed_000.pdb',\n",
       " '../datasets/ALPHAFOLD PDBs/G360A_4d8ad/G360A_4d8ad_unrelaxed_rank_001_alphafold2_ptm_model_5_seed_000.pdb',\n",
       " '../datasets/ALPHAFOLD PDBs/G360R_057f7/G360R_057f7_unrelaxed_rank_001_alphafold2_ptm_model_5_seed_000.pdb',\n",
       " '../datasets/ALPHAFOLD PDBs/A267V_1c2c3/A267V_1c2c3_unrelaxed_rank_001_alphafold2_ptm_model_5_seed_000.pdb',\n",
       " '../datasets/ALPHAFOLD PDBs/G251D_5ea06/G251D_5ea06_unrelaxed_rank_001_alphafold2_ptm_model_5_seed_000.pdb',\n",
       " '../datasets/ALPHAFOLD PDBs/L116P_12c5f/L116P_12c5f_unrelaxed_rank_001_alphafold2_ptm_model_5_seed_000.pdb',\n",
       " '../datasets/ALPHAFOLD PDBs/T167I_6e959/T167I_6e959_unrelaxed_rank_001_alphafold2_ptm_model_5_seed_000.pdb',\n",
       " '../datasets/ALPHAFOLD PDBs/F227S_cb1d8_0/F227S_cb1d8_0_unrelaxed_rank_001_alphafold2_ptm_model_5_seed_000.pdb',\n",
       " '../datasets/ALPHAFOLD PDBs/A122V_41d52/A122V_41d52_unrelaxed_rank_001_alphafold2_ptm_model_5_seed_000.pdb',\n",
       " '../datasets/ALPHAFOLD PDBs/Y40S_d8119/Y40S_d8119_unrelaxed_rank_001_alphafold2_ptm_model_5_seed_000.pdb',\n",
       " '../datasets/ALPHAFOLD PDBs/G362E_89990_0/G362E_89990_0_unrelaxed_rank_001_alphafold2_ptm_model_5_seed_000.pdb',\n",
       " '../datasets/ALPHAFOLD PDBs/E168K_b43e7/E168K_b43e7_unrelaxed_rank_001_alphafold2_ptm_model_5_seed_000.pdb',\n",
       " '../datasets/ALPHAFOLD PDBs/S150L_b9ee5/S150L_b9ee5_unrelaxed_rank_001_alphafold2_ptm_model_5_seed_000.pdb',\n",
       " '../datasets/ALPHAFOLD PDBs/G361R_7f213/G361R_7f213_unrelaxed_rank_001_alphafold2_ptm_model_5_seed_000.pdb',\n",
       " '../datasets/ALPHAFOLD PDBs/G152R_d7f73/G152R_d7f73_unrelaxed_rank_001_alphafold2_ptm_model_5_seed_000.pdb',\n",
       " '../datasets/ALPHAFOLD PDBs/S47L_9a618/S47L_9a618_unrelaxed_rank_001_alphafold2_ptm_model_5_seed_000.pdb',\n",
       " '../datasets/ALPHAFOLD PDBs/L44F_0ee96/L44F_0ee96_unrelaxed_rank_001_alphafold2_ptm_model_5_seed_000.pdb',\n",
       " '../datasets/ALPHAFOLD PDBs/I216T_85a22/I216T_85a22_unrelaxed_rank_001_alphafold2_ptm_model_5_seed_000.pdb',\n",
       " '../datasets/ALPHAFOLD PDBs/E401Q_0f21c/E401Q_0f21c_unrelaxed_rank_001_alphafold2_ptm_model_5_seed_000.pdb',\n",
       " '../datasets/ALPHAFOLD PDBs/E178G_aeca3/E178G_aeca3_unrelaxed_rank_001_alphafold2_ptm_model_5_seed_000.pdb',\n",
       " '../datasets/ALPHAFOLD PDBs/Y272C_d987f/Y272C_d987f_unrelaxed_rank_001_alphafold2_ptm_model_5_seed_000.pdb',\n",
       " '../datasets/ALPHAFOLD PDBs/P332R_e6340/P332R_e6340_unrelaxed_rank_001_alphafold2_ptm_model_5_seed_000.pdb',\n",
       " '../datasets/ALPHAFOLD PDBs/G198D_ce608/G198D_ce608_unrelaxed_rank_001_alphafold2_ptm_model_5_seed_000.pdb',\n",
       " '../datasets/ALPHAFOLD PDBs/K248E_ab234/K248E_ab234_unrelaxed_rank_001_alphafold2_ptm_model_5_seed_000.pdb',\n",
       " '../datasets/ALPHAFOLD PDBs/R330S_b8b36/R330S_b8b36_unrelaxed_rank_001_alphafold2_ptm_model_5_seed_000.pdb',\n",
       " '../datasets/ALPHAFOLD PDBs/G161R_c8ba5/G161R_c8ba5_unrelaxed_rank_001_alphafold2_ptm_model_5_seed_000.pdb',\n",
       " '../datasets/ALPHAFOLD PDBs/G170S_8931e/G170S_8931e_unrelaxed_rank_001_alphafold2_ptm_model_5_seed_000.pdb',\n",
       " '../datasets/ALPHAFOLD PDBs/M368V_be390/M368V_be390_unrelaxed_rank_001_alphafold2_ptm_model_3_seed_000.pdb',\n",
       " '../datasets/ALPHAFOLD PDBs/P230S_fba2c/P230S_fba2c_unrelaxed_rank_001_alphafold2_ptm_model_5_seed_000.pdb',\n",
       " '../datasets/ALPHAFOLD PDBs/C120F_3f78a/C120F_3f78a_unrelaxed_rank_001_alphafold2_ptm_model_5_seed_000.pdb',\n",
       " '../datasets/ALPHAFOLD PDBs/I346T_e431b/I346T_e431b_unrelaxed_rank_001_alphafold2_ptm_model_5_seed_000.pdb',\n",
       " '../datasets/ALPHAFOLD PDBs/W97G_38d4c/W97G_38d4c_unrelaxed_rank_001_alphafold2_ptm_model_5_seed_000.pdb',\n",
       " '../datasets/ALPHAFOLD PDBs/D18Y_aa632/D18Y_aa632_unrelaxed_rank_001_alphafold2_ptm_model_5_seed_000.pdb',\n",
       " '../datasets/ALPHAFOLD PDBs/V300G_f0e19/V300G_f0e19_unrelaxed_rank_001_alphafold2_ptm_model_5_seed_000.pdb',\n",
       " '../datasets/ALPHAFOLD PDBs/F73L_86356/F73L_86356_unrelaxed_rank_001_alphafold2_ptm_model_5_seed_000.pdb',\n",
       " '../datasets/ALPHAFOLD PDBs/G205D_0b80b/G205D_0b80b_unrelaxed_rank_001_alphafold2_ptm_model_5_seed_000.pdb',\n",
       " '../datasets/ALPHAFOLD PDBs/G170A_064f1/G170A_064f1_unrelaxed_rank_001_alphafold2_ptm_model_5_seed_000.pdb',\n",
       " '../datasets/ALPHAFOLD PDBs/R225P_9ee52/R225P_9ee52_unrelaxed_rank_001_alphafold2_ptm_model_5_seed_000.pdb',\n",
       " '../datasets/ALPHAFOLD PDBs/G270R_3f501/G270R_3f501_unrelaxed_rank_001_alphafold2_ptm_model_5_seed_000.pdb',\n",
       " '../datasets/ALPHAFOLD PDBs/G123A_a58f9/G123A_a58f9_unrelaxed_rank_001_alphafold2_ptm_model_5_seed_000.pdb']"
      ]
     },
     "execution_count": 15,
     "metadata": {},
     "output_type": "execute_result"
    }
   ],
   "source": [
    "pdb_files"
   ]
  },
  {
   "cell_type": "code",
   "execution_count": 13,
   "metadata": {},
   "outputs": [],
   "source": [
    "# for each pdb file in pdb_files, get name of the mutation which is the name of the folder before '_'\n",
    "mutations = []\n",
    "for pdb in pdb_files:\n",
    "    mutations.append(pdb.split('/')[-2].split('_')[0])\n",
    "\n",
    "    "
   ]
  },
  {
   "cell_type": "code",
   "execution_count": 14,
   "metadata": {},
   "outputs": [
    {
     "data": {
      "text/plain": [
       "['G185R',\n",
       " 'E168L',\n",
       " 'R53Q',\n",
       " 'W97C',\n",
       " 'K353Q',\n",
       " 'G360A',\n",
       " 'G360R',\n",
       " 'A267V',\n",
       " 'G251D',\n",
       " 'L116P',\n",
       " 'T167I',\n",
       " 'F227S',\n",
       " 'A122V',\n",
       " 'Y40S',\n",
       " 'G362E',\n",
       " 'E168K',\n",
       " 'S150L',\n",
       " 'G361R',\n",
       " 'G152R',\n",
       " 'S47L',\n",
       " 'L44F',\n",
       " 'I216T',\n",
       " 'E401Q',\n",
       " 'E178G',\n",
       " 'Y272C',\n",
       " 'P332R',\n",
       " 'G198D',\n",
       " 'K248E',\n",
       " 'R330S',\n",
       " 'G161R',\n",
       " 'G170S',\n",
       " 'M368V',\n",
       " 'P230S',\n",
       " 'C120F',\n",
       " 'I346T',\n",
       " 'W97G',\n",
       " 'D18Y',\n",
       " 'V300G',\n",
       " 'F73L',\n",
       " 'G205D',\n",
       " 'G170A',\n",
       " 'R225P',\n",
       " 'G270R',\n",
       " 'G123A']"
      ]
     },
     "execution_count": 14,
     "metadata": {},
     "output_type": "execute_result"
    }
   ],
   "source": [
    "mutations"
   ]
  },
  {
   "cell_type": "code",
   "execution_count": 32,
   "metadata": {},
   "outputs": [],
   "source": [
    "# create a dataframe with the mutation and the pdb file\n",
    "df = pd.DataFrame({'mutation': mutations, 'pdb_file': pdb_files})\n",
    "df.to_csv('../datasets/pdb_files.csv', index=False)\n"
   ]
  }
 ],
 "metadata": {
  "kernelspec": {
   "display_name": ".venv",
   "language": "python",
   "name": "python3"
  },
  "language_info": {
   "codemirror_mode": {
    "name": "ipython",
    "version": 3
   },
   "file_extension": ".py",
   "mimetype": "text/x-python",
   "name": "python",
   "nbconvert_exporter": "python",
   "pygments_lexer": "ipython3",
   "version": "3.10.13"
  }
 },
 "nbformat": 4,
 "nbformat_minor": 2
}
