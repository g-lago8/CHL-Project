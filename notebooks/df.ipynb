{
 "cells": [
  {
   "cell_type": "code",
   "execution_count": null,
   "metadata": {},
   "outputs": [],
   "source": [
    "import pandas as pd\n",
    "import os\n",
    "import graphein\n",
    "import pickle\n",
    "path = '../datasets/ALPHAFOLD PDBs/'\n",
    "import numpy as np\n",
    "from graphein.protein.visualisation import plotly_protein_structure_graph\n",
    "from graphein.protein.config import ProteinGraphConfig\n",
    "from graphein.protein.graphs import construct_graph\n",
    "from Bio.PDB import PDBParser   \n",
    "from utils import *"
   ]
  },
  {
   "cell_type": "code",
   "execution_count": null,
   "metadata": {},
   "outputs": [],
   "source": [
    "import torch_geometric"
   ]
  },
  {
   "cell_type": "markdown",
   "metadata": {},
   "source": [
    "## create a df with mutation name and path to che .pdb file"
   ]
  },
  {
   "cell_type": "code",
   "execution_count": null,
   "metadata": {},
   "outputs": [],
   "source": [
    "\n",
    "pdb_files = []\n",
    "for folder in os.listdir(path):\n",
    "    # if the folder is a directory\n",
    "    if os.path.isdir(path + folder):\n",
    "        # for every file in the folder\n",
    "        for file in os.listdir(path + folder):\n",
    "            if 'rank_001' in file and file.endswith('.pdb'):\n",
    "                pdb_files.append(path + folder + '/' + file)\n",
    "\n"
   ]
  },
  {
   "cell_type": "code",
   "execution_count": null,
   "metadata": {},
   "outputs": [],
   "source": [
    "# for each pdb file in pdb_files, get name of the mutation which is the name of the folder before '_'\n",
    "mutations = []\n",
    "for pdb in pdb_files:\n",
    "    mutations.append(pdb.split('/')[-2].split('_')[0])\n",
    "\n",
    "pdb_files.append('../datasets/ALPHAFOLD PDBs/H371fs_9b3dd/H371fs_9b3dd_unrelaxed_rank_001_alphafold2_ptm_model_3_seed_000.pdb')\n",
    "mutations.append('His371Profs')\n",
    "\n",
    "pdb_files.append('../datasets/ALPHAFOLD PDBs/K353Q_ed31e/K353Q_ed31e_unrelaxed_rank_001_alphafold2_ptm_model_5_seed_000.pdb')\n",
    "mutations.append('L353Q')\n",
    "\n",
    "# create a dataframe with the mutation and the pdb file\n",
    "\n",
    "df = pd.DataFrame({'mutation': mutations, 'pdb_file': pdb_files})\n",
    "\n",
    "out_path = \"../datasets/pdb_files.csv\"\n",
    "\n"
   ]
  },
  {
   "cell_type": "code",
   "execution_count": null,
   "metadata": {},
   "outputs": [],
   "source": [
    "# search the index of Ala218 in the df\n",
    "\n",
    "df['mutation'] = df['mutation'].replace('Ala218', '(p.(Ala218_Asn219insLysIle))')\n",
    "df['mutation'] = df['mutation'].replace('E168', 'E168*')\n",
    "df['mutation'] = df['mutation'].replace('G115Mfs', 'G115Mfs*')\n",
    "df['mutation'] = df['mutation'].replace('G372', 'G372_P373delinsA')\n",
    "df['mutation'] = df['mutation'].replace('R321', 'R321*')\n",
    "df['mutation'] = df['mutation'].replace('W60', 'W60*')\n",
    "# add a row with the mutation and the pdb file\n",
    "\n"
   ]
  },
  {
   "cell_type": "code",
   "execution_count": null,
   "metadata": {},
   "outputs": [],
   "source": [
    "df.to_csv(out_path, index=False)"
   ]
  },
  {
   "cell_type": "markdown",
   "metadata": {},
   "source": [
    "## Parse the .pdb files"
   ]
  },
  {
   "cell_type": "code",
   "execution_count": null,
   "metadata": {},
   "outputs": [],
   "source": [
    "structures = {}\n",
    "parser = PDBParser()\n",
    "for i, row in df.iterrows():\n",
    "    structures[row['mutation']] = parser.get_structure(row['mutation'], row['pdb_file'])\n",
    " "
   ]
  },
  {
   "cell_type": "markdown",
   "metadata": {},
   "source": [
    "## Create graphs from the .pdb files"
   ]
  },
  {
   "cell_type": "code",
   "execution_count": null,
   "metadata": {},
   "outputs": [],
   "source": [
    "\n",
    "\n",
    "config = ProteinGraphConfig()\n",
    "(config.dict())"
   ]
  },
  {
   "cell_type": "code",
   "execution_count": null,
   "metadata": {},
   "outputs": [],
   "source": [
    "graphs = {}\n",
    "for i, row in df.iterrows():\n",
    "    print(row['mutation'])\n",
    "    graphs[row['mutation'] ] = construct_graph(path = row['pdb_file'], config= config, )"
   ]
  },
  {
   "cell_type": "code",
   "execution_count": null,
   "metadata": {},
   "outputs": [],
   "source": [
    "graph_original = graphein.protein.graphs.construct_graph(path ='../datasets/ALPHAFOLD PDBs/HGD_normal.pdb', config= config )\n",
    "structure_original = parser.get_structure('HGD_normal', '../datasets/ALPHAFOLD PDBs/HGD_normal.pdb')"
   ]
  },
  {
   "cell_type": "code",
   "execution_count": null,
   "metadata": {},
   "outputs": [],
   "source": [
    "from graphein.protein.visualisation import plotly_protein_structure_graph\n",
    "\n",
    "p = plotly_protein_structure_graph(\n",
    "    graphs['G161R'],\n",
    "    colour_edges_by=\"kind\",\n",
    "    colour_nodes_by=\"degree\",\n",
    "    label_node_ids=False,\n",
    "    plot_title=\"Peptide backbone graph. Nodes coloured by degree.\",\n",
    "    node_size_multiplier=1\n",
    "    )\n",
    "p.show()"
   ]
  },
  {
   "cell_type": "code",
   "execution_count": null,
   "metadata": {},
   "outputs": [],
   "source": []
  },
  {
   "cell_type": "code",
   "execution_count": null,
   "metadata": {},
   "outputs": [],
   "source": []
  },
  {
   "cell_type": "code",
   "execution_count": null,
   "metadata": {},
   "outputs": [],
   "source": [
    "import networkx as nx\n",
    "# check if graphs are isomorphic\n",
    "G1 = graphs['G161R']\n",
    "G2 = graphs['G170A']\n",
    "\n",
    "nx.is_isomorphic(G1, G2)"
   ]
  },
  {
   "cell_type": "code",
   "execution_count": null,
   "metadata": {},
   "outputs": [],
   "source": [
    "# plot structures['G161R'] \n",
    "\n",
    "import nglview as nv\n",
    "view = nv.show_biopython(structures['G161R'])\n",
    "view"
   ]
  },
  {
   "cell_type": "code",
   "execution_count": null,
   "metadata": {},
   "outputs": [],
   "source": [
    "# save the graphs\n",
    "os.makedirs('../datasets/graphs/', exist_ok=True)\n",
    "for i, graph in enumerate(graphs):\n",
    "    mut = df.iloc[i]['mutation']\n",
    "    with open(f'../datasets/graphs/graph_{mut}.gpickle', 'wb') as f:\n",
    "        pickle.dump(graph, f)"
   ]
  },
  {
   "cell_type": "markdown",
   "metadata": {},
   "source": [
    "## Associate to each patient its mutations"
   ]
  },
  {
   "cell_type": "code",
   "execution_count": null,
   "metadata": {},
   "outputs": [],
   "source": [
    "import pandas as pd\n",
    "df_patients =pd.read_excel('../datasets/aku_prin_v2.0.xlsx')"
   ]
  },
  {
   "cell_type": "code",
   "execution_count": null,
   "metadata": {},
   "outputs": [],
   "source": [
    "df_patients = df_patients[['Protein change allele 1 ', 'Protein change allele 2']]"
   ]
  },
  {
   "cell_type": "code",
   "execution_count": null,
   "metadata": {},
   "outputs": [],
   "source": [
    "df_patients['graph_allele1'] = [graphs[mut] if mut in graphs else None for mut in df_patients['Protein change allele 1 '] ]\n",
    "df_patients['graph_allele2'] = [graphs[mut] if mut in graphs else None for mut in df_patients['Protein change allele 2'] ]\n",
    "df_patients['structure_allele1'] = [structures[mut] if mut in structures else None for mut in df_patients['Protein change allele 1 '] ] \n",
    "df_patients['structure_allele2'] = [structures[mut] if mut in structures else None for mut in df_patients['Protein change allele 2'] ]"
   ]
  },
  {
   "cell_type": "code",
   "execution_count": null,
   "metadata": {},
   "outputs": [],
   "source": [
    "#show all rows\n",
    "pd.set_option('display.max_columns', 500)\n",
    "df_patients"
   ]
  },
  {
   "cell_type": "code",
   "execution_count": null,
   "metadata": {},
   "outputs": [],
   "source": [
    "df_patients.to_csv('../datasets/aku_prin_v2.0_with_graphs.csv', index=False)\n",
    "\n"
   ]
  },
  {
   "cell_type": "code",
   "execution_count": null,
   "metadata": {},
   "outputs": [],
   "source": [
    "#read the csv file\n",
    "df_patients_2 = pd.read_csv('../datasets/aku_prin_v2.0_with_graphs.csv')\n"
   ]
  },
  {
   "cell_type": "code",
   "execution_count": null,
   "metadata": {},
   "outputs": [],
   "source": [
    "graph_test = df_patients_2['graph_allele1'][0]\n",
    "graph_test_og = df_patients['graph_allele1'][0]"
   ]
  },
  {
   "cell_type": "code",
   "execution_count": null,
   "metadata": {},
   "outputs": [],
   "source": [
    "type(graph_test_og)"
   ]
  },
  {
   "cell_type": "code",
   "execution_count": null,
   "metadata": {},
   "outputs": [],
   "source": [
    "import networkx as nx\n",
    "\n",
    "def string_to_graph(input_string):\n",
    "    # Initialize a NetworkX graph\n",
    "    G = nx.Graph()\n",
    "\n",
    "    # Split the input string into lines\n",
    "    lines = input_string.strip().split('\\n')\n",
    "\n",
    "    # Iterate through each line\n",
    "    for line in lines:\n",
    "        # Split the line into nodes and edges\n",
    "        nodes = line.strip().split()\n",
    "        # Assuming the first element is a node and the rest are its neighbors\n",
    "        node = nodes[0]\n",
    "        neighbors = nodes[1:]\n",
    "\n",
    "        # Add the node to the graph\n",
    "        G.add_node(node)\n",
    "\n",
    "        # Add edges between the node and its neighbors\n",
    "        for neighbor in neighbors:\n",
    "            G.add_edge(node, neighbor)\n",
    "\n",
    "    return G"
   ]
  },
  {
   "cell_type": "code",
   "execution_count": null,
   "metadata": {},
   "outputs": [],
   "source": [
    "type(graph_test)\n",
    "# convert to a scipy sparse matrix\n",
    "graph = string_to_graph(graph_test)\n",
    "type(graph)"
   ]
  },
  {
   "cell_type": "code",
   "execution_count": null,
   "metadata": {},
   "outputs": [],
   "source": [
    "from torch_geometric.data import Data\n"
   ]
  },
  {
   "cell_type": "code",
   "execution_count": null,
   "metadata": {},
   "outputs": [],
   "source": [
    "from utils import create_graph_df\n",
    "df_p = create_graph_df()"
   ]
  },
  {
   "cell_type": "markdown",
   "metadata": {},
   "source": [
    "## Convert to pytorch geometric"
   ]
  },
  {
   "cell_type": "code",
   "execution_count": null,
   "metadata": {},
   "outputs": [],
   "source": [
    "mutations_to_path = {}\n",
    "for i, row in df.iterrows():\n",
    "    mutations_to_path[row['mutation']] = row['pdb_file']"
   ]
  },
  {
   "cell_type": "code",
   "execution_count": null,
   "metadata": {},
   "outputs": [],
   "source": [
    "from graphein.protein.config import ProteinGraphConfig\n",
    "from graphein.protein.edges.distance import *\n",
    "from graphein.protein.graphs import construct_graph\n",
    "\n",
    "from torch_geometric import nn\n",
    "edge_fns = [\n",
    "    add_aromatic_interactions,\n",
    "    add_hydrophobic_interactions,\n",
    "    add_aromatic_sulphur_interactions,\n",
    "    add_cation_pi_interactions,\n",
    "    add_disulfide_interactions,\n",
    "    add_hydrogen_bond_interactions,\n",
    "    add_ionic_interactions,\n",
    "    add_peptide_bonds\n",
    "    ]\n",
    "config = ProteinGraphConfig(edge_construction_functions=edge_fns)\n",
    "\n",
    "g_original = construct_graph(config=config, path='../datasets/ALPHAFOLD PDBs/HGD_normal.pdb')\n",
    "g_g161r = construct_graph(config=config, path= mutations_to_path['G161R'])\n",
    "g_r330s = construct_graph(config=config, path= mutations_to_path['R330S'])\n"
   ]
  },
  {
   "cell_type": "code",
   "execution_count": null,
   "metadata": {},
   "outputs": [],
   "source": [
    "active_sites =['A:HIS:292', 'A:HIS:335', 'A:HIS:365', 'A:HIS:371', 'A:GLU:341']\n",
    "\n",
    "# active sites : His292, His335, His365, His371, and Glu341.\n",
    "# get neighbours of active sites\n",
    "def get_neighbours(active_sites, g):\n",
    "    active_sites_neighbours = []\n",
    "    for site in active_sites:\n",
    "        active_sites_neighbours.append(list(g.neighbors(site)))\n",
    "\n",
    "    active_sites_neighbours = [item for sublist in active_sites_neighbours for item in sublist]\n",
    "    active_sites_neighbours = list(set(active_sites_neighbours) | set(active_sites))\n",
    "    return active_sites_neighbours\n",
    "\n",
    "def get_subgraph_active_site(path, config):\n",
    "    g= construct_graph(config=config, path=path)\n",
    "    active_sites_neighbours = get_neighbours(active_sites, g)\n",
    "    subgraph_active_site = get_subgraph(g, active_sites_neighbours)\n",
    "    return subgraph_active_site"
   ]
  },
  {
   "cell_type": "code",
   "execution_count": null,
   "metadata": {},
   "outputs": [],
   "source": [
    "\n"
   ]
  },
  {
   "cell_type": "code",
   "execution_count": null,
   "metadata": {},
   "outputs": [],
   "source": [
    "# convert the list of lists to a single list\n",
    "active_sites_neighbours = get_neighbours(active_sites, g_original)\n",
    "active_sites_neighbours_g161r = get_neighbours(active_sites, g_g161r)\n",
    "active_sites_neighbours_r330s = get_neighbours(active_sites, g_r330s)"
   ]
  },
  {
   "cell_type": "code",
   "execution_count": null,
   "metadata": {},
   "outputs": [],
   "source": [
    "active_sites_neighbours"
   ]
  },
  {
   "cell_type": "code",
   "execution_count": null,
   "metadata": {},
   "outputs": [],
   "source": [
    "from utils import get_subgraph\n",
    "\n",
    "# get the subgraph of the active sites and neighbours\n",
    "g_active = get_subgraph(g_original, active_sites_neighbours)\n",
    "g_active_g161r = get_subgraph(g_g161r, active_sites_neighbours_g161r)\n",
    "g_active_r330s = get_subgraph(g_r330s, active_sites_neighbours_r330s)"
   ]
  },
  {
   "cell_type": "code",
   "execution_count": 21,
   "metadata": {},
   "outputs": [],
   "source": [
    "def plot_graph(g, mut_name):\n",
    "    p = plotly_protein_structure_graph(\n",
    "        g,\n",
    "        colour_edges_by=\"kind\",\n",
    "        colour_nodes_by=\"degree\",\n",
    "        label_node_ids=False,\n",
    "        plot_title=f\"Subgraph of active sites and their neighbors ({mut_name})\",\n",
    "        node_size_multiplier=1\n",
    "        )\n",
    "\n",
    "    p.show()"
   ]
  },
  {
   "cell_type": "code",
   "execution_count": null,
   "metadata": {},
   "outputs": [],
   "source": [
    "\n",
    "\n",
    "#H292R (no), R321P (no), R330S (ok), P332R (ok), R336K (no), R336T (no), N337D (no), R347P (no),\n",
    "# Y350C (no), K353Q (ok), P359L (no), H371R (no), G372R (no), P373L (no), D374H (no), E401Q (ok)\n",
    "# mutations with no pdb files: H292R, R321P, R336K, R336T, N337D, R347P, Y350C, P359L, H371R, G372R, P373L, D374H\n",
    "\n",
    "g_active_k353q = get_subgraph_active_site(mutations_to_path['K353Q'], config)\n",
    "g_active_e401q = get_subgraph_active_site(mutations_to_path['E401Q'], config)\n",
    "g_active_p332r = get_subgraph_active_site(mutations_to_path['P332R'], config)"
   ]
  },
  {
   "cell_type": "code",
   "execution_count": 22,
   "metadata": {},
   "outputs": [
    {
     "data": {
      "application/vnd.plotly.v1+json": {
       "config": {
        "plotlyServerURL": "https://plot.ly"
       },
       "data": [
        {
         "hoverinfo": "text+x+y+z",
         "marker": {
          "color": [
           [
            0.32515,
            0.006915,
            0.639512,
            1
           ],
           [
            0.95547,
            0.533093,
            0.28549,
            1
           ],
           [
            0.723444,
            0.196158,
            0.538981,
            1
           ],
           [
            0.32515,
            0.006915,
            0.639512,
            1
           ],
           [
            0.95547,
            0.533093,
            0.28549,
            1
           ],
           [
            0.994495,
            0.74088,
            0.166335,
            1
           ],
           [
            0.723444,
            0.196158,
            0.538981,
            1
           ],
           [
            0.546157,
            0.038954,
            0.64701,
            1
           ],
           [
            0.723444,
            0.196158,
            0.538981,
            1
           ],
           [
            0.546157,
            0.038954,
            0.64701,
            1
           ],
           [
            0.95547,
            0.533093,
            0.28549,
            1
           ],
           [
            0.85975,
            0.360588,
            0.406917,
            1
           ],
           [
            0.32515,
            0.006915,
            0.639512,
            1
           ],
           [
            0.32515,
            0.006915,
            0.639512,
            1
           ],
           [
            0.32515,
            0.006915,
            0.639512,
            1
           ],
           [
            0.32515,
            0.006915,
            0.639512,
            1
           ],
           [
            0.32515,
            0.006915,
            0.639512,
            1
           ],
           [
            0.546157,
            0.038954,
            0.64701,
            1
           ],
           [
            0.32515,
            0.006915,
            0.639512,
            1
           ]
          ],
          "opacity": 0.7,
          "size": [
           21,
           25,
           23,
           21,
           25,
           26,
           23,
           22,
           23,
           22,
           25,
           24,
           21,
           21,
           21,
           21,
           21,
           22,
           21
          ],
          "symbol": "circle"
         },
         "mode": "markers",
         "text": [
          "A:ARG:336",
          "A:HIS:335",
          "A:TRP:427",
          "A:ALA:293",
          "A:GLU:341",
          "A:HIS:365",
          "A:TYR:333",
          "A:LEU:364",
          "A:TYR:334",
          "A:TYR:423",
          "A:HIS:371",
          "A:HIS:292",
          "A:SER:366",
          "A:GLU:351",
          "A:ASP:291",
          "A:SER:340",
          "A:GLY:372",
          "A:PHE:342",
          "A:PRO:370"
         ],
         "type": "scatter3d",
         "x": [
          18.035,
          18.004,
          11.009,
          20.351,
          8.956,
          8.718,
          18.664,
          5.057,
          18.259,
          3.522,
          13.418,
          20.611,
          9.894,
          7.956,
          23.958,
          10.559,
          14,
          5.218,
          15.356
         ],
         "y": [
          -7.704,
          -4.606,
          -7.341,
          7.447,
          -4.836,
          -8.297,
          0.579,
          -7.471,
          -3.16,
          -9.095,
          -6.366,
          7.304,
          -11.223,
          6.28,
          8.583,
          -7.847,
          -2.974,
          -4.093,
          -9.549
         ],
         "z": [
          -13.781,
          -16.055,
          -26.773,
          -12.317,
          -9.17,
          -12.927,
          -18.8,
          -12.265,
          -19.55,
          -22.795,
          -18.323,
          -16.145,
          -10.759,
          -21.295,
          -17.507,
          -7.456,
          -19.983,
          -9.273,
          -17.481
         ]
        },
        {
         "hoverinfo": "text",
         "line": {
          "color": [
           [
            0.928329,
            0.472975,
            0.326067,
            1
           ],
           [
            0.928329,
            0.472975,
            0.326067,
            1
           ],
           [
            0.928329,
            0.472975,
            0.326067,
            1
           ],
           [
            0.610667,
            0.090204,
            0.619951,
            1
           ],
           [
            0.610667,
            0.090204,
            0.619951,
            1
           ],
           [
            0.610667,
            0.090204,
            0.619951,
            1
           ],
           [
            0.928329,
            0.472975,
            0.326067,
            1
           ],
           [
            0.928329,
            0.472975,
            0.326067,
            1
           ],
           [
            0.928329,
            0.472975,
            0.326067,
            1
           ],
           [
            0.610667,
            0.090204,
            0.619951,
            1
           ],
           [
            0.610667,
            0.090204,
            0.619951,
            1
           ],
           [
            0.610667,
            0.090204,
            0.619951,
            1
           ],
           [
            0.362553,
            0.003243,
            0.649245,
            1
           ],
           [
            0.362553,
            0.003243,
            0.649245,
            1
           ],
           [
            0.362553,
            0.003243,
            0.649245,
            1
           ],
           [
            0.798216,
            0.280197,
            0.469538,
            1
           ],
           [
            0.798216,
            0.280197,
            0.469538,
            1
           ],
           [
            0.798216,
            0.280197,
            0.469538,
            1
           ],
           [
            0.610667,
            0.090204,
            0.619951,
            1
           ],
           [
            0.610667,
            0.090204,
            0.619951,
            1
           ],
           [
            0.610667,
            0.090204,
            0.619951,
            1
           ],
           [
            0.050383,
            0.029803,
            0.527975,
            1
           ],
           [
            0.050383,
            0.029803,
            0.527975,
            1
           ],
           [
            0.050383,
            0.029803,
            0.527975,
            1
           ],
           [
            0.928329,
            0.472975,
            0.326067,
            1
           ],
           [
            0.928329,
            0.472975,
            0.326067,
            1
           ],
           [
            0.928329,
            0.472975,
            0.326067,
            1
           ],
           [
            0.928329,
            0.472975,
            0.326067,
            1
           ],
           [
            0.928329,
            0.472975,
            0.326067,
            1
           ],
           [
            0.928329,
            0.472975,
            0.326067,
            1
           ],
           [
            0.362553,
            0.003243,
            0.649245,
            1
           ],
           [
            0.362553,
            0.003243,
            0.649245,
            1
           ],
           [
            0.362553,
            0.003243,
            0.649245,
            1
           ],
           [
            0.362553,
            0.003243,
            0.649245,
            1
           ],
           [
            0.362553,
            0.003243,
            0.649245,
            1
           ],
           [
            0.362553,
            0.003243,
            0.649245,
            1
           ],
           [
            0.928329,
            0.472975,
            0.326067,
            1
           ],
           [
            0.928329,
            0.472975,
            0.326067,
            1
           ],
           [
            0.928329,
            0.472975,
            0.326067,
            1
           ],
           [
            0.928329,
            0.472975,
            0.326067,
            1
           ],
           [
            0.928329,
            0.472975,
            0.326067,
            1
           ],
           [
            0.928329,
            0.472975,
            0.326067,
            1
           ],
           [
            0.610667,
            0.090204,
            0.619951,
            1
           ],
           [
            0.610667,
            0.090204,
            0.619951,
            1
           ],
           [
            0.610667,
            0.090204,
            0.619951,
            1
           ],
           [
            0.610667,
            0.090204,
            0.619951,
            1
           ],
           [
            0.610667,
            0.090204,
            0.619951,
            1
           ],
           [
            0.610667,
            0.090204,
            0.619951,
            1
           ],
           [
            0.928329,
            0.472975,
            0.326067,
            1
           ],
           [
            0.928329,
            0.472975,
            0.326067,
            1
           ],
           [
            0.928329,
            0.472975,
            0.326067,
            1
           ],
           [
            0.610667,
            0.090204,
            0.619951,
            1
           ],
           [
            0.610667,
            0.090204,
            0.619951,
            1
           ],
           [
            0.610667,
            0.090204,
            0.619951,
            1
           ],
           [
            0.928329,
            0.472975,
            0.326067,
            1
           ],
           [
            0.928329,
            0.472975,
            0.326067,
            1
           ],
           [
            0.928329,
            0.472975,
            0.326067,
            1
           ],
           [
            0.798216,
            0.280197,
            0.469538,
            1
           ],
           [
            0.798216,
            0.280197,
            0.469538,
            1
           ],
           [
            0.798216,
            0.280197,
            0.469538,
            1
           ],
           [
            0.928329,
            0.472975,
            0.326067,
            1
           ],
           [
            0.928329,
            0.472975,
            0.326067,
            1
           ],
           [
            0.928329,
            0.472975,
            0.326067,
            1
           ],
           [
            0.928329,
            0.472975,
            0.326067,
            1
           ],
           [
            0.928329,
            0.472975,
            0.326067,
            1
           ],
           [
            0.928329,
            0.472975,
            0.326067,
            1
           ],
           [
            0.928329,
            0.472975,
            0.326067,
            1
           ],
           [
            0.928329,
            0.472975,
            0.326067,
            1
           ],
           [
            0.928329,
            0.472975,
            0.326067,
            1
           ],
           [
            0.362553,
            0.003243,
            0.649245,
            1
           ],
           [
            0.362553,
            0.003243,
            0.649245,
            1
           ],
           [
            0.362553,
            0.003243,
            0.649245,
            1
           ]
          ],
          "width": 10
         },
         "mode": "lines",
         "text": [
          "peptide_bond",
          "peptide_bond",
          "peptide_bond",
          "aromatic",
          "aromatic",
          "aromatic",
          "peptide_bond",
          "peptide_bond",
          "peptide_bond",
          "aromatic",
          "aromatic",
          "aromatic",
          "ionic",
          "ionic",
          "ionic",
          "hydrophobic",
          "hydrophobic",
          "hydrophobic",
          "aromatic",
          "aromatic",
          "aromatic",
          "hydrophobic / aromatic",
          "hydrophobic / aromatic",
          "hydrophobic / aromatic",
          "peptide_bond",
          "peptide_bond",
          "peptide_bond",
          "peptide_bond",
          "peptide_bond",
          "peptide_bond",
          "ionic",
          "ionic",
          "ionic",
          "ionic",
          "ionic",
          "ionic",
          "peptide_bond",
          "peptide_bond",
          "peptide_bond",
          "peptide_bond",
          "peptide_bond",
          "peptide_bond",
          "aromatic",
          "aromatic",
          "aromatic",
          "aromatic",
          "aromatic",
          "aromatic",
          "peptide_bond",
          "peptide_bond",
          "peptide_bond",
          "aromatic",
          "aromatic",
          "aromatic",
          "peptide_bond",
          "peptide_bond",
          "peptide_bond",
          "hydrophobic",
          "hydrophobic",
          "hydrophobic",
          "peptide_bond",
          "peptide_bond",
          "peptide_bond",
          "peptide_bond",
          "peptide_bond",
          "peptide_bond",
          "peptide_bond",
          "peptide_bond",
          "peptide_bond",
          "ionic",
          "ionic",
          "ionic"
         ],
         "type": "scatter3d",
         "x": [
          18.035,
          18.004,
          null,
          18.004,
          18.664,
          null,
          18.004,
          18.259,
          null,
          18.004,
          13.418,
          null,
          18.004,
          8.956,
          null,
          11.009,
          18.259,
          null,
          11.009,
          8.718,
          null,
          11.009,
          3.522,
          null,
          20.351,
          20.611,
          null,
          8.956,
          10.559,
          null,
          8.956,
          13.418,
          null,
          8.956,
          8.718,
          null,
          8.956,
          5.218,
          null,
          8.718,
          5.057,
          null,
          8.718,
          13.418,
          null,
          8.718,
          3.522,
          null,
          8.718,
          9.894,
          null,
          18.664,
          20.611,
          null,
          18.664,
          18.259,
          null,
          5.057,
          5.218,
          null,
          13.418,
          15.356,
          null,
          13.418,
          14,
          null,
          20.611,
          23.958,
          null,
          20.611,
          7.956,
          null
         ],
         "y": [
          -7.704,
          -4.606,
          null,
          -4.606,
          0.579,
          null,
          -4.606,
          -3.16,
          null,
          -4.606,
          -6.366,
          null,
          -4.606,
          -4.836,
          null,
          -7.341,
          -3.16,
          null,
          -7.341,
          -8.297,
          null,
          -7.341,
          -9.095,
          null,
          7.447,
          7.304,
          null,
          -4.836,
          -7.847,
          null,
          -4.836,
          -6.366,
          null,
          -4.836,
          -8.297,
          null,
          -4.836,
          -4.093,
          null,
          -8.297,
          -7.471,
          null,
          -8.297,
          -6.366,
          null,
          -8.297,
          -9.095,
          null,
          -8.297,
          -11.223,
          null,
          0.579,
          7.304,
          null,
          0.579,
          -3.16,
          null,
          -7.471,
          -4.093,
          null,
          -6.366,
          -9.549,
          null,
          -6.366,
          -2.974,
          null,
          7.304,
          8.583,
          null,
          7.304,
          6.28,
          null
         ],
         "z": [
          -13.781,
          -16.055,
          null,
          -16.055,
          -18.8,
          null,
          -16.055,
          -19.55,
          null,
          -16.055,
          -18.323,
          null,
          -16.055,
          -9.17,
          null,
          -26.773,
          -19.55,
          null,
          -26.773,
          -12.927,
          null,
          -26.773,
          -22.795,
          null,
          -12.317,
          -16.145,
          null,
          -9.17,
          -7.456,
          null,
          -9.17,
          -18.323,
          null,
          -9.17,
          -12.927,
          null,
          -9.17,
          -9.273,
          null,
          -12.927,
          -12.265,
          null,
          -12.927,
          -18.323,
          null,
          -12.927,
          -22.795,
          null,
          -12.927,
          -10.759,
          null,
          -18.8,
          -16.145,
          null,
          -18.8,
          -19.55,
          null,
          -12.265,
          -9.273,
          null,
          -18.323,
          -17.481,
          null,
          -18.323,
          -19.983,
          null,
          -16.145,
          -17.507,
          null,
          -16.145,
          -21.295,
          null
         ]
        }
       ],
       "layout": {
        "height": 650,
        "margin": {
         "t": 100
        },
        "scene": {
         "xaxis": {
          "showbackground": false,
          "showgrid": false,
          "showline": false,
          "showticklabels": false,
          "title": {
           "text": ""
          },
          "zeroline": false
         },
         "yaxis": {
          "showbackground": false,
          "showgrid": false,
          "showline": false,
          "showticklabels": false,
          "title": {
           "text": ""
          },
          "zeroline": false
         },
         "zaxis": {
          "showbackground": false,
          "showgrid": false,
          "showline": false,
          "showticklabels": false,
          "title": {
           "text": ""
          },
          "zeroline": false
         }
        },
        "showlegend": false,
        "template": {
         "data": {
          "bar": [
           {
            "error_x": {
             "color": "#2a3f5f"
            },
            "error_y": {
             "color": "#2a3f5f"
            },
            "marker": {
             "line": {
              "color": "#E5ECF6",
              "width": 0.5
             },
             "pattern": {
              "fillmode": "overlay",
              "size": 10,
              "solidity": 0.2
             }
            },
            "type": "bar"
           }
          ],
          "barpolar": [
           {
            "marker": {
             "line": {
              "color": "#E5ECF6",
              "width": 0.5
             },
             "pattern": {
              "fillmode": "overlay",
              "size": 10,
              "solidity": 0.2
             }
            },
            "type": "barpolar"
           }
          ],
          "carpet": [
           {
            "aaxis": {
             "endlinecolor": "#2a3f5f",
             "gridcolor": "white",
             "linecolor": "white",
             "minorgridcolor": "white",
             "startlinecolor": "#2a3f5f"
            },
            "baxis": {
             "endlinecolor": "#2a3f5f",
             "gridcolor": "white",
             "linecolor": "white",
             "minorgridcolor": "white",
             "startlinecolor": "#2a3f5f"
            },
            "type": "carpet"
           }
          ],
          "choropleth": [
           {
            "colorbar": {
             "outlinewidth": 0,
             "ticks": ""
            },
            "type": "choropleth"
           }
          ],
          "contour": [
           {
            "colorbar": {
             "outlinewidth": 0,
             "ticks": ""
            },
            "colorscale": [
             [
              0,
              "#0d0887"
             ],
             [
              0.1111111111111111,
              "#46039f"
             ],
             [
              0.2222222222222222,
              "#7201a8"
             ],
             [
              0.3333333333333333,
              "#9c179e"
             ],
             [
              0.4444444444444444,
              "#bd3786"
             ],
             [
              0.5555555555555556,
              "#d8576b"
             ],
             [
              0.6666666666666666,
              "#ed7953"
             ],
             [
              0.7777777777777778,
              "#fb9f3a"
             ],
             [
              0.8888888888888888,
              "#fdca26"
             ],
             [
              1,
              "#f0f921"
             ]
            ],
            "type": "contour"
           }
          ],
          "contourcarpet": [
           {
            "colorbar": {
             "outlinewidth": 0,
             "ticks": ""
            },
            "type": "contourcarpet"
           }
          ],
          "heatmap": [
           {
            "colorbar": {
             "outlinewidth": 0,
             "ticks": ""
            },
            "colorscale": [
             [
              0,
              "#0d0887"
             ],
             [
              0.1111111111111111,
              "#46039f"
             ],
             [
              0.2222222222222222,
              "#7201a8"
             ],
             [
              0.3333333333333333,
              "#9c179e"
             ],
             [
              0.4444444444444444,
              "#bd3786"
             ],
             [
              0.5555555555555556,
              "#d8576b"
             ],
             [
              0.6666666666666666,
              "#ed7953"
             ],
             [
              0.7777777777777778,
              "#fb9f3a"
             ],
             [
              0.8888888888888888,
              "#fdca26"
             ],
             [
              1,
              "#f0f921"
             ]
            ],
            "type": "heatmap"
           }
          ],
          "heatmapgl": [
           {
            "colorbar": {
             "outlinewidth": 0,
             "ticks": ""
            },
            "colorscale": [
             [
              0,
              "#0d0887"
             ],
             [
              0.1111111111111111,
              "#46039f"
             ],
             [
              0.2222222222222222,
              "#7201a8"
             ],
             [
              0.3333333333333333,
              "#9c179e"
             ],
             [
              0.4444444444444444,
              "#bd3786"
             ],
             [
              0.5555555555555556,
              "#d8576b"
             ],
             [
              0.6666666666666666,
              "#ed7953"
             ],
             [
              0.7777777777777778,
              "#fb9f3a"
             ],
             [
              0.8888888888888888,
              "#fdca26"
             ],
             [
              1,
              "#f0f921"
             ]
            ],
            "type": "heatmapgl"
           }
          ],
          "histogram": [
           {
            "marker": {
             "pattern": {
              "fillmode": "overlay",
              "size": 10,
              "solidity": 0.2
             }
            },
            "type": "histogram"
           }
          ],
          "histogram2d": [
           {
            "colorbar": {
             "outlinewidth": 0,
             "ticks": ""
            },
            "colorscale": [
             [
              0,
              "#0d0887"
             ],
             [
              0.1111111111111111,
              "#46039f"
             ],
             [
              0.2222222222222222,
              "#7201a8"
             ],
             [
              0.3333333333333333,
              "#9c179e"
             ],
             [
              0.4444444444444444,
              "#bd3786"
             ],
             [
              0.5555555555555556,
              "#d8576b"
             ],
             [
              0.6666666666666666,
              "#ed7953"
             ],
             [
              0.7777777777777778,
              "#fb9f3a"
             ],
             [
              0.8888888888888888,
              "#fdca26"
             ],
             [
              1,
              "#f0f921"
             ]
            ],
            "type": "histogram2d"
           }
          ],
          "histogram2dcontour": [
           {
            "colorbar": {
             "outlinewidth": 0,
             "ticks": ""
            },
            "colorscale": [
             [
              0,
              "#0d0887"
             ],
             [
              0.1111111111111111,
              "#46039f"
             ],
             [
              0.2222222222222222,
              "#7201a8"
             ],
             [
              0.3333333333333333,
              "#9c179e"
             ],
             [
              0.4444444444444444,
              "#bd3786"
             ],
             [
              0.5555555555555556,
              "#d8576b"
             ],
             [
              0.6666666666666666,
              "#ed7953"
             ],
             [
              0.7777777777777778,
              "#fb9f3a"
             ],
             [
              0.8888888888888888,
              "#fdca26"
             ],
             [
              1,
              "#f0f921"
             ]
            ],
            "type": "histogram2dcontour"
           }
          ],
          "mesh3d": [
           {
            "colorbar": {
             "outlinewidth": 0,
             "ticks": ""
            },
            "type": "mesh3d"
           }
          ],
          "parcoords": [
           {
            "line": {
             "colorbar": {
              "outlinewidth": 0,
              "ticks": ""
             }
            },
            "type": "parcoords"
           }
          ],
          "pie": [
           {
            "automargin": true,
            "type": "pie"
           }
          ],
          "scatter": [
           {
            "fillpattern": {
             "fillmode": "overlay",
             "size": 10,
             "solidity": 0.2
            },
            "type": "scatter"
           }
          ],
          "scatter3d": [
           {
            "line": {
             "colorbar": {
              "outlinewidth": 0,
              "ticks": ""
             }
            },
            "marker": {
             "colorbar": {
              "outlinewidth": 0,
              "ticks": ""
             }
            },
            "type": "scatter3d"
           }
          ],
          "scattercarpet": [
           {
            "marker": {
             "colorbar": {
              "outlinewidth": 0,
              "ticks": ""
             }
            },
            "type": "scattercarpet"
           }
          ],
          "scattergeo": [
           {
            "marker": {
             "colorbar": {
              "outlinewidth": 0,
              "ticks": ""
             }
            },
            "type": "scattergeo"
           }
          ],
          "scattergl": [
           {
            "marker": {
             "colorbar": {
              "outlinewidth": 0,
              "ticks": ""
             }
            },
            "type": "scattergl"
           }
          ],
          "scattermapbox": [
           {
            "marker": {
             "colorbar": {
              "outlinewidth": 0,
              "ticks": ""
             }
            },
            "type": "scattermapbox"
           }
          ],
          "scatterpolar": [
           {
            "marker": {
             "colorbar": {
              "outlinewidth": 0,
              "ticks": ""
             }
            },
            "type": "scatterpolar"
           }
          ],
          "scatterpolargl": [
           {
            "marker": {
             "colorbar": {
              "outlinewidth": 0,
              "ticks": ""
             }
            },
            "type": "scatterpolargl"
           }
          ],
          "scatterternary": [
           {
            "marker": {
             "colorbar": {
              "outlinewidth": 0,
              "ticks": ""
             }
            },
            "type": "scatterternary"
           }
          ],
          "surface": [
           {
            "colorbar": {
             "outlinewidth": 0,
             "ticks": ""
            },
            "colorscale": [
             [
              0,
              "#0d0887"
             ],
             [
              0.1111111111111111,
              "#46039f"
             ],
             [
              0.2222222222222222,
              "#7201a8"
             ],
             [
              0.3333333333333333,
              "#9c179e"
             ],
             [
              0.4444444444444444,
              "#bd3786"
             ],
             [
              0.5555555555555556,
              "#d8576b"
             ],
             [
              0.6666666666666666,
              "#ed7953"
             ],
             [
              0.7777777777777778,
              "#fb9f3a"
             ],
             [
              0.8888888888888888,
              "#fdca26"
             ],
             [
              1,
              "#f0f921"
             ]
            ],
            "type": "surface"
           }
          ],
          "table": [
           {
            "cells": {
             "fill": {
              "color": "#EBF0F8"
             },
             "line": {
              "color": "white"
             }
            },
            "header": {
             "fill": {
              "color": "#C8D4E3"
             },
             "line": {
              "color": "white"
             }
            },
            "type": "table"
           }
          ]
         },
         "layout": {
          "annotationdefaults": {
           "arrowcolor": "#2a3f5f",
           "arrowhead": 0,
           "arrowwidth": 1
          },
          "autotypenumbers": "strict",
          "coloraxis": {
           "colorbar": {
            "outlinewidth": 0,
            "ticks": ""
           }
          },
          "colorscale": {
           "diverging": [
            [
             0,
             "#8e0152"
            ],
            [
             0.1,
             "#c51b7d"
            ],
            [
             0.2,
             "#de77ae"
            ],
            [
             0.3,
             "#f1b6da"
            ],
            [
             0.4,
             "#fde0ef"
            ],
            [
             0.5,
             "#f7f7f7"
            ],
            [
             0.6,
             "#e6f5d0"
            ],
            [
             0.7,
             "#b8e186"
            ],
            [
             0.8,
             "#7fbc41"
            ],
            [
             0.9,
             "#4d9221"
            ],
            [
             1,
             "#276419"
            ]
           ],
           "sequential": [
            [
             0,
             "#0d0887"
            ],
            [
             0.1111111111111111,
             "#46039f"
            ],
            [
             0.2222222222222222,
             "#7201a8"
            ],
            [
             0.3333333333333333,
             "#9c179e"
            ],
            [
             0.4444444444444444,
             "#bd3786"
            ],
            [
             0.5555555555555556,
             "#d8576b"
            ],
            [
             0.6666666666666666,
             "#ed7953"
            ],
            [
             0.7777777777777778,
             "#fb9f3a"
            ],
            [
             0.8888888888888888,
             "#fdca26"
            ],
            [
             1,
             "#f0f921"
            ]
           ],
           "sequentialminus": [
            [
             0,
             "#0d0887"
            ],
            [
             0.1111111111111111,
             "#46039f"
            ],
            [
             0.2222222222222222,
             "#7201a8"
            ],
            [
             0.3333333333333333,
             "#9c179e"
            ],
            [
             0.4444444444444444,
             "#bd3786"
            ],
            [
             0.5555555555555556,
             "#d8576b"
            ],
            [
             0.6666666666666666,
             "#ed7953"
            ],
            [
             0.7777777777777778,
             "#fb9f3a"
            ],
            [
             0.8888888888888888,
             "#fdca26"
            ],
            [
             1,
             "#f0f921"
            ]
           ]
          },
          "colorway": [
           "#636efa",
           "#EF553B",
           "#00cc96",
           "#ab63fa",
           "#FFA15A",
           "#19d3f3",
           "#FF6692",
           "#B6E880",
           "#FF97FF",
           "#FECB52"
          ],
          "font": {
           "color": "#2a3f5f"
          },
          "geo": {
           "bgcolor": "white",
           "lakecolor": "white",
           "landcolor": "#E5ECF6",
           "showlakes": true,
           "showland": true,
           "subunitcolor": "white"
          },
          "hoverlabel": {
           "align": "left"
          },
          "hovermode": "closest",
          "mapbox": {
           "style": "light"
          },
          "paper_bgcolor": "white",
          "plot_bgcolor": "#E5ECF6",
          "polar": {
           "angularaxis": {
            "gridcolor": "white",
            "linecolor": "white",
            "ticks": ""
           },
           "bgcolor": "#E5ECF6",
           "radialaxis": {
            "gridcolor": "white",
            "linecolor": "white",
            "ticks": ""
           }
          },
          "scene": {
           "xaxis": {
            "backgroundcolor": "#E5ECF6",
            "gridcolor": "white",
            "gridwidth": 2,
            "linecolor": "white",
            "showbackground": true,
            "ticks": "",
            "zerolinecolor": "white"
           },
           "yaxis": {
            "backgroundcolor": "#E5ECF6",
            "gridcolor": "white",
            "gridwidth": 2,
            "linecolor": "white",
            "showbackground": true,
            "ticks": "",
            "zerolinecolor": "white"
           },
           "zaxis": {
            "backgroundcolor": "#E5ECF6",
            "gridcolor": "white",
            "gridwidth": 2,
            "linecolor": "white",
            "showbackground": true,
            "ticks": "",
            "zerolinecolor": "white"
           }
          },
          "shapedefaults": {
           "line": {
            "color": "#2a3f5f"
           }
          },
          "ternary": {
           "aaxis": {
            "gridcolor": "white",
            "linecolor": "white",
            "ticks": ""
           },
           "baxis": {
            "gridcolor": "white",
            "linecolor": "white",
            "ticks": ""
           },
           "bgcolor": "#E5ECF6",
           "caxis": {
            "gridcolor": "white",
            "linecolor": "white",
            "ticks": ""
           }
          },
          "title": {
           "x": 0.05
          },
          "xaxis": {
           "automargin": true,
           "gridcolor": "white",
           "linecolor": "white",
           "ticks": "",
           "title": {
            "standoff": 15
           },
           "zerolinecolor": "white",
           "zerolinewidth": 2
          },
          "yaxis": {
           "automargin": true,
           "gridcolor": "white",
           "linecolor": "white",
           "ticks": "",
           "title": {
            "standoff": 15
           },
           "zerolinecolor": "white",
           "zerolinewidth": 2
          }
         }
        },
        "title": {
         "text": "Subgraph of active sites and their neighbors (HGD_normal)"
        },
        "width": 620
       }
      }
     },
     "metadata": {},
     "output_type": "display_data"
    },
    {
     "data": {
      "application/vnd.plotly.v1+json": {
       "config": {
        "plotlyServerURL": "https://plot.ly"
       },
       "data": [
        {
         "hoverinfo": "text+x+y+z",
         "marker": {
          "color": [
           [
            0.362553,
            0.003243,
            0.649245,
            1
           ],
           [
            0.928329,
            0.472975,
            0.326067,
            1
           ],
           [
            0.798216,
            0.280197,
            0.469538,
            1
           ],
           [
            0.798216,
            0.280197,
            0.469538,
            1
           ],
           [
            0.610667,
            0.090204,
            0.619951,
            1
           ],
           [
            0.993814,
            0.704741,
            0.183043,
            1
           ],
           [
            0.993814,
            0.704741,
            0.183043,
            1
           ],
           [
            0.928329,
            0.472975,
            0.326067,
            1
           ],
           [
            0.610667,
            0.090204,
            0.619951,
            1
           ],
           [
            0.798216,
            0.280197,
            0.469538,
            1
           ],
           [
            0.610667,
            0.090204,
            0.619951,
            1
           ],
           [
            0.798216,
            0.280197,
            0.469538,
            1
           ],
           [
            0.928329,
            0.472975,
            0.326067,
            1
           ],
           [
            0.362553,
            0.003243,
            0.649245,
            1
           ],
           [
            0.362553,
            0.003243,
            0.649245,
            1
           ],
           [
            0.362553,
            0.003243,
            0.649245,
            1
           ],
           [
            0.362553,
            0.003243,
            0.649245,
            1
           ],
           [
            0.610667,
            0.090204,
            0.619951,
            1
           ],
           [
            0.362553,
            0.003243,
            0.649245,
            1
           ]
          ],
          "opacity": 0.7,
          "size": [
           21,
           24,
           23,
           23,
           22,
           25,
           25,
           24,
           22,
           23,
           22,
           23,
           24,
           21,
           21,
           21,
           21,
           22,
           21
          ],
          "symbol": "circle"
         },
         "mode": "markers",
         "text": [
          "A:ARG:336",
          "A:HIS:335",
          "A:ASP:294",
          "A:TRP:427",
          "A:ALA:293",
          "A:GLU:341",
          "A:HIS:365",
          "A:TYR:333",
          "A:LEU:364",
          "A:TYR:334",
          "A:TYR:423",
          "A:HIS:371",
          "A:HIS:292",
          "A:SER:366",
          "A:ASP:291",
          "A:SER:340",
          "A:GLY:372",
          "A:PHE:342",
          "A:PRO:370"
         ],
         "type": "scatter3d",
         "x": [
          15.336,
          17.453,
          10.227,
          27.688,
          11.484,
          9.844,
          13.859,
          19.188,
          13.07,
          20.344,
          23.797,
          19.453,
          15.25,
          11.742,
          16.734,
          8.297,
          20.609,
          9.805,
          18.688
         ],
         "y": [
          8.234,
          5.113,
          -3.59,
          6.074,
          -6.742,
          5.379,
          8.383,
          -0.935,
          7.73,
          2.727,
          8.117,
          6.172,
          -7.152,
          11.32,
          -8.758,
          8.461,
          2.482,
          4.738,
          9.25
         ],
         "z": [
          -17.969,
          -18.406,
          -18.906,
          -10.5,
          -20.562,
          -9.367,
          -9.039,
          -17.875,
          -5.453,
          -17.656,
          -3.336,
          -13.07,
          -20.953,
          -10.133,
          -23.984,
          -11,
          -13.289,
          -5.648,
          -15.016
         ]
        },
        {
         "hoverinfo": "text",
         "line": {
          "color": [
           [
            0.95547,
            0.533093,
            0.28549,
            1
           ],
           [
            0.95547,
            0.533093,
            0.28549,
            1
           ],
           [
            0.95547,
            0.533093,
            0.28549,
            1
           ],
           [
            0.723444,
            0.196158,
            0.538981,
            1
           ],
           [
            0.723444,
            0.196158,
            0.538981,
            1
           ],
           [
            0.723444,
            0.196158,
            0.538981,
            1
           ],
           [
            0.95547,
            0.533093,
            0.28549,
            1
           ],
           [
            0.95547,
            0.533093,
            0.28549,
            1
           ],
           [
            0.95547,
            0.533093,
            0.28549,
            1
           ],
           [
            0.546157,
            0.038954,
            0.64701,
            1
           ],
           [
            0.546157,
            0.038954,
            0.64701,
            1
           ],
           [
            0.546157,
            0.038954,
            0.64701,
            1
           ],
           [
            0.546157,
            0.038954,
            0.64701,
            1
           ],
           [
            0.546157,
            0.038954,
            0.64701,
            1
           ],
           [
            0.546157,
            0.038954,
            0.64701,
            1
           ],
           [
            0.95547,
            0.533093,
            0.28549,
            1
           ],
           [
            0.95547,
            0.533093,
            0.28549,
            1
           ],
           [
            0.95547,
            0.533093,
            0.28549,
            1
           ],
           [
            0.32515,
            0.006915,
            0.639512,
            1
           ],
           [
            0.32515,
            0.006915,
            0.639512,
            1
           ],
           [
            0.32515,
            0.006915,
            0.639512,
            1
           ],
           [
            0.85975,
            0.360588,
            0.406917,
            1
           ],
           [
            0.85975,
            0.360588,
            0.406917,
            1
           ],
           [
            0.85975,
            0.360588,
            0.406917,
            1
           ],
           [
            0.723444,
            0.196158,
            0.538981,
            1
           ],
           [
            0.723444,
            0.196158,
            0.538981,
            1
           ],
           [
            0.723444,
            0.196158,
            0.538981,
            1
           ],
           [
            0.050383,
            0.029803,
            0.527975,
            1
           ],
           [
            0.050383,
            0.029803,
            0.527975,
            1
           ],
           [
            0.050383,
            0.029803,
            0.527975,
            1
           ],
           [
            0.95547,
            0.533093,
            0.28549,
            1
           ],
           [
            0.95547,
            0.533093,
            0.28549,
            1
           ],
           [
            0.95547,
            0.533093,
            0.28549,
            1
           ],
           [
            0.95547,
            0.533093,
            0.28549,
            1
           ],
           [
            0.95547,
            0.533093,
            0.28549,
            1
           ],
           [
            0.95547,
            0.533093,
            0.28549,
            1
           ],
           [
            0.546157,
            0.038954,
            0.64701,
            1
           ],
           [
            0.546157,
            0.038954,
            0.64701,
            1
           ],
           [
            0.546157,
            0.038954,
            0.64701,
            1
           ],
           [
            0.546157,
            0.038954,
            0.64701,
            1
           ],
           [
            0.546157,
            0.038954,
            0.64701,
            1
           ],
           [
            0.546157,
            0.038954,
            0.64701,
            1
           ],
           [
            0.95547,
            0.533093,
            0.28549,
            1
           ],
           [
            0.95547,
            0.533093,
            0.28549,
            1
           ],
           [
            0.95547,
            0.533093,
            0.28549,
            1
           ],
           [
            0.95547,
            0.533093,
            0.28549,
            1
           ],
           [
            0.95547,
            0.533093,
            0.28549,
            1
           ],
           [
            0.95547,
            0.533093,
            0.28549,
            1
           ],
           [
            0.723444,
            0.196158,
            0.538981,
            1
           ],
           [
            0.723444,
            0.196158,
            0.538981,
            1
           ],
           [
            0.723444,
            0.196158,
            0.538981,
            1
           ],
           [
            0.95547,
            0.533093,
            0.28549,
            1
           ],
           [
            0.95547,
            0.533093,
            0.28549,
            1
           ],
           [
            0.95547,
            0.533093,
            0.28549,
            1
           ],
           [
            0.723444,
            0.196158,
            0.538981,
            1
           ],
           [
            0.723444,
            0.196158,
            0.538981,
            1
           ],
           [
            0.723444,
            0.196158,
            0.538981,
            1
           ],
           [
            0.95547,
            0.533093,
            0.28549,
            1
           ],
           [
            0.95547,
            0.533093,
            0.28549,
            1
           ],
           [
            0.95547,
            0.533093,
            0.28549,
            1
           ],
           [
            0.85975,
            0.360588,
            0.406917,
            1
           ],
           [
            0.85975,
            0.360588,
            0.406917,
            1
           ],
           [
            0.85975,
            0.360588,
            0.406917,
            1
           ],
           [
            0.95547,
            0.533093,
            0.28549,
            1
           ],
           [
            0.95547,
            0.533093,
            0.28549,
            1
           ],
           [
            0.95547,
            0.533093,
            0.28549,
            1
           ],
           [
            0.95547,
            0.533093,
            0.28549,
            1
           ],
           [
            0.95547,
            0.533093,
            0.28549,
            1
           ],
           [
            0.95547,
            0.533093,
            0.28549,
            1
           ],
           [
            0.95547,
            0.533093,
            0.28549,
            1
           ],
           [
            0.95547,
            0.533093,
            0.28549,
            1
           ],
           [
            0.95547,
            0.533093,
            0.28549,
            1
           ]
          ],
          "width": 10
         },
         "mode": "lines",
         "text": [
          "peptide_bond",
          "peptide_bond",
          "peptide_bond",
          "aromatic",
          "aromatic",
          "aromatic",
          "peptide_bond",
          "peptide_bond",
          "peptide_bond",
          "ionic",
          "ionic",
          "ionic",
          "ionic",
          "ionic",
          "ionic",
          "peptide_bond",
          "peptide_bond",
          "peptide_bond",
          "hbond",
          "hbond",
          "hbond",
          "hydrophobic",
          "hydrophobic",
          "hydrophobic",
          "aromatic",
          "aromatic",
          "aromatic",
          "hydrophobic / aromatic",
          "hydrophobic / aromatic",
          "hydrophobic / aromatic",
          "peptide_bond",
          "peptide_bond",
          "peptide_bond",
          "peptide_bond",
          "peptide_bond",
          "peptide_bond",
          "ionic",
          "ionic",
          "ionic",
          "ionic",
          "ionic",
          "ionic",
          "peptide_bond",
          "peptide_bond",
          "peptide_bond",
          "peptide_bond",
          "peptide_bond",
          "peptide_bond",
          "aromatic",
          "aromatic",
          "aromatic",
          "peptide_bond",
          "peptide_bond",
          "peptide_bond",
          "aromatic",
          "aromatic",
          "aromatic",
          "peptide_bond",
          "peptide_bond",
          "peptide_bond",
          "hydrophobic",
          "hydrophobic",
          "hydrophobic",
          "peptide_bond",
          "peptide_bond",
          "peptide_bond",
          "peptide_bond",
          "peptide_bond",
          "peptide_bond",
          "peptide_bond",
          "peptide_bond",
          "peptide_bond"
         ],
         "type": "scatter3d",
         "x": [
          15.336,
          17.453,
          null,
          17.453,
          19.188,
          null,
          17.453,
          20.344,
          null,
          17.453,
          9.844,
          null,
          10.227,
          15.25,
          null,
          10.227,
          11.484,
          null,
          10.227,
          19.188,
          null,
          27.688,
          20.344,
          null,
          27.688,
          13.859,
          null,
          27.688,
          23.797,
          null,
          11.484,
          15.25,
          null,
          9.844,
          8.297,
          null,
          9.844,
          19.453,
          null,
          9.844,
          13.859,
          null,
          9.844,
          9.805,
          null,
          13.859,
          13.07,
          null,
          13.859,
          23.797,
          null,
          13.859,
          11.742,
          null,
          19.188,
          15.25,
          null,
          19.188,
          20.344,
          null,
          13.07,
          9.805,
          null,
          19.453,
          18.688,
          null,
          19.453,
          20.609,
          null,
          15.25,
          16.734,
          null
         ],
         "y": [
          8.234,
          5.113,
          null,
          5.113,
          -0.935,
          null,
          5.113,
          2.727,
          null,
          5.113,
          5.379,
          null,
          -3.59,
          -7.152,
          null,
          -3.59,
          -6.742,
          null,
          -3.59,
          -0.935,
          null,
          6.074,
          2.727,
          null,
          6.074,
          8.383,
          null,
          6.074,
          8.117,
          null,
          -6.742,
          -7.152,
          null,
          5.379,
          8.461,
          null,
          5.379,
          6.172,
          null,
          5.379,
          8.383,
          null,
          5.379,
          4.738,
          null,
          8.383,
          7.73,
          null,
          8.383,
          8.117,
          null,
          8.383,
          11.32,
          null,
          -0.935,
          -7.152,
          null,
          -0.935,
          2.727,
          null,
          7.73,
          4.738,
          null,
          6.172,
          9.25,
          null,
          6.172,
          2.482,
          null,
          -7.152,
          -8.758,
          null
         ],
         "z": [
          -17.969,
          -18.406,
          null,
          -18.406,
          -17.875,
          null,
          -18.406,
          -17.656,
          null,
          -18.406,
          -9.367,
          null,
          -18.906,
          -20.953,
          null,
          -18.906,
          -20.562,
          null,
          -18.906,
          -17.875,
          null,
          -10.5,
          -17.656,
          null,
          -10.5,
          -9.039,
          null,
          -10.5,
          -3.336,
          null,
          -20.562,
          -20.953,
          null,
          -9.367,
          -11,
          null,
          -9.367,
          -13.07,
          null,
          -9.367,
          -9.039,
          null,
          -9.367,
          -5.648,
          null,
          -9.039,
          -5.453,
          null,
          -9.039,
          -3.336,
          null,
          -9.039,
          -10.133,
          null,
          -17.875,
          -20.953,
          null,
          -17.875,
          -17.656,
          null,
          -5.453,
          -5.648,
          null,
          -13.07,
          -15.016,
          null,
          -13.07,
          -13.289,
          null,
          -20.953,
          -23.984,
          null
         ]
        }
       ],
       "layout": {
        "height": 650,
        "margin": {
         "t": 100
        },
        "scene": {
         "xaxis": {
          "showbackground": false,
          "showgrid": false,
          "showline": false,
          "showticklabels": false,
          "title": {
           "text": ""
          },
          "zeroline": false
         },
         "yaxis": {
          "showbackground": false,
          "showgrid": false,
          "showline": false,
          "showticklabels": false,
          "title": {
           "text": ""
          },
          "zeroline": false
         },
         "zaxis": {
          "showbackground": false,
          "showgrid": false,
          "showline": false,
          "showticklabels": false,
          "title": {
           "text": ""
          },
          "zeroline": false
         }
        },
        "showlegend": false,
        "template": {
         "data": {
          "bar": [
           {
            "error_x": {
             "color": "#2a3f5f"
            },
            "error_y": {
             "color": "#2a3f5f"
            },
            "marker": {
             "line": {
              "color": "#E5ECF6",
              "width": 0.5
             },
             "pattern": {
              "fillmode": "overlay",
              "size": 10,
              "solidity": 0.2
             }
            },
            "type": "bar"
           }
          ],
          "barpolar": [
           {
            "marker": {
             "line": {
              "color": "#E5ECF6",
              "width": 0.5
             },
             "pattern": {
              "fillmode": "overlay",
              "size": 10,
              "solidity": 0.2
             }
            },
            "type": "barpolar"
           }
          ],
          "carpet": [
           {
            "aaxis": {
             "endlinecolor": "#2a3f5f",
             "gridcolor": "white",
             "linecolor": "white",
             "minorgridcolor": "white",
             "startlinecolor": "#2a3f5f"
            },
            "baxis": {
             "endlinecolor": "#2a3f5f",
             "gridcolor": "white",
             "linecolor": "white",
             "minorgridcolor": "white",
             "startlinecolor": "#2a3f5f"
            },
            "type": "carpet"
           }
          ],
          "choropleth": [
           {
            "colorbar": {
             "outlinewidth": 0,
             "ticks": ""
            },
            "type": "choropleth"
           }
          ],
          "contour": [
           {
            "colorbar": {
             "outlinewidth": 0,
             "ticks": ""
            },
            "colorscale": [
             [
              0,
              "#0d0887"
             ],
             [
              0.1111111111111111,
              "#46039f"
             ],
             [
              0.2222222222222222,
              "#7201a8"
             ],
             [
              0.3333333333333333,
              "#9c179e"
             ],
             [
              0.4444444444444444,
              "#bd3786"
             ],
             [
              0.5555555555555556,
              "#d8576b"
             ],
             [
              0.6666666666666666,
              "#ed7953"
             ],
             [
              0.7777777777777778,
              "#fb9f3a"
             ],
             [
              0.8888888888888888,
              "#fdca26"
             ],
             [
              1,
              "#f0f921"
             ]
            ],
            "type": "contour"
           }
          ],
          "contourcarpet": [
           {
            "colorbar": {
             "outlinewidth": 0,
             "ticks": ""
            },
            "type": "contourcarpet"
           }
          ],
          "heatmap": [
           {
            "colorbar": {
             "outlinewidth": 0,
             "ticks": ""
            },
            "colorscale": [
             [
              0,
              "#0d0887"
             ],
             [
              0.1111111111111111,
              "#46039f"
             ],
             [
              0.2222222222222222,
              "#7201a8"
             ],
             [
              0.3333333333333333,
              "#9c179e"
             ],
             [
              0.4444444444444444,
              "#bd3786"
             ],
             [
              0.5555555555555556,
              "#d8576b"
             ],
             [
              0.6666666666666666,
              "#ed7953"
             ],
             [
              0.7777777777777778,
              "#fb9f3a"
             ],
             [
              0.8888888888888888,
              "#fdca26"
             ],
             [
              1,
              "#f0f921"
             ]
            ],
            "type": "heatmap"
           }
          ],
          "heatmapgl": [
           {
            "colorbar": {
             "outlinewidth": 0,
             "ticks": ""
            },
            "colorscale": [
             [
              0,
              "#0d0887"
             ],
             [
              0.1111111111111111,
              "#46039f"
             ],
             [
              0.2222222222222222,
              "#7201a8"
             ],
             [
              0.3333333333333333,
              "#9c179e"
             ],
             [
              0.4444444444444444,
              "#bd3786"
             ],
             [
              0.5555555555555556,
              "#d8576b"
             ],
             [
              0.6666666666666666,
              "#ed7953"
             ],
             [
              0.7777777777777778,
              "#fb9f3a"
             ],
             [
              0.8888888888888888,
              "#fdca26"
             ],
             [
              1,
              "#f0f921"
             ]
            ],
            "type": "heatmapgl"
           }
          ],
          "histogram": [
           {
            "marker": {
             "pattern": {
              "fillmode": "overlay",
              "size": 10,
              "solidity": 0.2
             }
            },
            "type": "histogram"
           }
          ],
          "histogram2d": [
           {
            "colorbar": {
             "outlinewidth": 0,
             "ticks": ""
            },
            "colorscale": [
             [
              0,
              "#0d0887"
             ],
             [
              0.1111111111111111,
              "#46039f"
             ],
             [
              0.2222222222222222,
              "#7201a8"
             ],
             [
              0.3333333333333333,
              "#9c179e"
             ],
             [
              0.4444444444444444,
              "#bd3786"
             ],
             [
              0.5555555555555556,
              "#d8576b"
             ],
             [
              0.6666666666666666,
              "#ed7953"
             ],
             [
              0.7777777777777778,
              "#fb9f3a"
             ],
             [
              0.8888888888888888,
              "#fdca26"
             ],
             [
              1,
              "#f0f921"
             ]
            ],
            "type": "histogram2d"
           }
          ],
          "histogram2dcontour": [
           {
            "colorbar": {
             "outlinewidth": 0,
             "ticks": ""
            },
            "colorscale": [
             [
              0,
              "#0d0887"
             ],
             [
              0.1111111111111111,
              "#46039f"
             ],
             [
              0.2222222222222222,
              "#7201a8"
             ],
             [
              0.3333333333333333,
              "#9c179e"
             ],
             [
              0.4444444444444444,
              "#bd3786"
             ],
             [
              0.5555555555555556,
              "#d8576b"
             ],
             [
              0.6666666666666666,
              "#ed7953"
             ],
             [
              0.7777777777777778,
              "#fb9f3a"
             ],
             [
              0.8888888888888888,
              "#fdca26"
             ],
             [
              1,
              "#f0f921"
             ]
            ],
            "type": "histogram2dcontour"
           }
          ],
          "mesh3d": [
           {
            "colorbar": {
             "outlinewidth": 0,
             "ticks": ""
            },
            "type": "mesh3d"
           }
          ],
          "parcoords": [
           {
            "line": {
             "colorbar": {
              "outlinewidth": 0,
              "ticks": ""
             }
            },
            "type": "parcoords"
           }
          ],
          "pie": [
           {
            "automargin": true,
            "type": "pie"
           }
          ],
          "scatter": [
           {
            "fillpattern": {
             "fillmode": "overlay",
             "size": 10,
             "solidity": 0.2
            },
            "type": "scatter"
           }
          ],
          "scatter3d": [
           {
            "line": {
             "colorbar": {
              "outlinewidth": 0,
              "ticks": ""
             }
            },
            "marker": {
             "colorbar": {
              "outlinewidth": 0,
              "ticks": ""
             }
            },
            "type": "scatter3d"
           }
          ],
          "scattercarpet": [
           {
            "marker": {
             "colorbar": {
              "outlinewidth": 0,
              "ticks": ""
             }
            },
            "type": "scattercarpet"
           }
          ],
          "scattergeo": [
           {
            "marker": {
             "colorbar": {
              "outlinewidth": 0,
              "ticks": ""
             }
            },
            "type": "scattergeo"
           }
          ],
          "scattergl": [
           {
            "marker": {
             "colorbar": {
              "outlinewidth": 0,
              "ticks": ""
             }
            },
            "type": "scattergl"
           }
          ],
          "scattermapbox": [
           {
            "marker": {
             "colorbar": {
              "outlinewidth": 0,
              "ticks": ""
             }
            },
            "type": "scattermapbox"
           }
          ],
          "scatterpolar": [
           {
            "marker": {
             "colorbar": {
              "outlinewidth": 0,
              "ticks": ""
             }
            },
            "type": "scatterpolar"
           }
          ],
          "scatterpolargl": [
           {
            "marker": {
             "colorbar": {
              "outlinewidth": 0,
              "ticks": ""
             }
            },
            "type": "scatterpolargl"
           }
          ],
          "scatterternary": [
           {
            "marker": {
             "colorbar": {
              "outlinewidth": 0,
              "ticks": ""
             }
            },
            "type": "scatterternary"
           }
          ],
          "surface": [
           {
            "colorbar": {
             "outlinewidth": 0,
             "ticks": ""
            },
            "colorscale": [
             [
              0,
              "#0d0887"
             ],
             [
              0.1111111111111111,
              "#46039f"
             ],
             [
              0.2222222222222222,
              "#7201a8"
             ],
             [
              0.3333333333333333,
              "#9c179e"
             ],
             [
              0.4444444444444444,
              "#bd3786"
             ],
             [
              0.5555555555555556,
              "#d8576b"
             ],
             [
              0.6666666666666666,
              "#ed7953"
             ],
             [
              0.7777777777777778,
              "#fb9f3a"
             ],
             [
              0.8888888888888888,
              "#fdca26"
             ],
             [
              1,
              "#f0f921"
             ]
            ],
            "type": "surface"
           }
          ],
          "table": [
           {
            "cells": {
             "fill": {
              "color": "#EBF0F8"
             },
             "line": {
              "color": "white"
             }
            },
            "header": {
             "fill": {
              "color": "#C8D4E3"
             },
             "line": {
              "color": "white"
             }
            },
            "type": "table"
           }
          ]
         },
         "layout": {
          "annotationdefaults": {
           "arrowcolor": "#2a3f5f",
           "arrowhead": 0,
           "arrowwidth": 1
          },
          "autotypenumbers": "strict",
          "coloraxis": {
           "colorbar": {
            "outlinewidth": 0,
            "ticks": ""
           }
          },
          "colorscale": {
           "diverging": [
            [
             0,
             "#8e0152"
            ],
            [
             0.1,
             "#c51b7d"
            ],
            [
             0.2,
             "#de77ae"
            ],
            [
             0.3,
             "#f1b6da"
            ],
            [
             0.4,
             "#fde0ef"
            ],
            [
             0.5,
             "#f7f7f7"
            ],
            [
             0.6,
             "#e6f5d0"
            ],
            [
             0.7,
             "#b8e186"
            ],
            [
             0.8,
             "#7fbc41"
            ],
            [
             0.9,
             "#4d9221"
            ],
            [
             1,
             "#276419"
            ]
           ],
           "sequential": [
            [
             0,
             "#0d0887"
            ],
            [
             0.1111111111111111,
             "#46039f"
            ],
            [
             0.2222222222222222,
             "#7201a8"
            ],
            [
             0.3333333333333333,
             "#9c179e"
            ],
            [
             0.4444444444444444,
             "#bd3786"
            ],
            [
             0.5555555555555556,
             "#d8576b"
            ],
            [
             0.6666666666666666,
             "#ed7953"
            ],
            [
             0.7777777777777778,
             "#fb9f3a"
            ],
            [
             0.8888888888888888,
             "#fdca26"
            ],
            [
             1,
             "#f0f921"
            ]
           ],
           "sequentialminus": [
            [
             0,
             "#0d0887"
            ],
            [
             0.1111111111111111,
             "#46039f"
            ],
            [
             0.2222222222222222,
             "#7201a8"
            ],
            [
             0.3333333333333333,
             "#9c179e"
            ],
            [
             0.4444444444444444,
             "#bd3786"
            ],
            [
             0.5555555555555556,
             "#d8576b"
            ],
            [
             0.6666666666666666,
             "#ed7953"
            ],
            [
             0.7777777777777778,
             "#fb9f3a"
            ],
            [
             0.8888888888888888,
             "#fdca26"
            ],
            [
             1,
             "#f0f921"
            ]
           ]
          },
          "colorway": [
           "#636efa",
           "#EF553B",
           "#00cc96",
           "#ab63fa",
           "#FFA15A",
           "#19d3f3",
           "#FF6692",
           "#B6E880",
           "#FF97FF",
           "#FECB52"
          ],
          "font": {
           "color": "#2a3f5f"
          },
          "geo": {
           "bgcolor": "white",
           "lakecolor": "white",
           "landcolor": "#E5ECF6",
           "showlakes": true,
           "showland": true,
           "subunitcolor": "white"
          },
          "hoverlabel": {
           "align": "left"
          },
          "hovermode": "closest",
          "mapbox": {
           "style": "light"
          },
          "paper_bgcolor": "white",
          "plot_bgcolor": "#E5ECF6",
          "polar": {
           "angularaxis": {
            "gridcolor": "white",
            "linecolor": "white",
            "ticks": ""
           },
           "bgcolor": "#E5ECF6",
           "radialaxis": {
            "gridcolor": "white",
            "linecolor": "white",
            "ticks": ""
           }
          },
          "scene": {
           "xaxis": {
            "backgroundcolor": "#E5ECF6",
            "gridcolor": "white",
            "gridwidth": 2,
            "linecolor": "white",
            "showbackground": true,
            "ticks": "",
            "zerolinecolor": "white"
           },
           "yaxis": {
            "backgroundcolor": "#E5ECF6",
            "gridcolor": "white",
            "gridwidth": 2,
            "linecolor": "white",
            "showbackground": true,
            "ticks": "",
            "zerolinecolor": "white"
           },
           "zaxis": {
            "backgroundcolor": "#E5ECF6",
            "gridcolor": "white",
            "gridwidth": 2,
            "linecolor": "white",
            "showbackground": true,
            "ticks": "",
            "zerolinecolor": "white"
           }
          },
          "shapedefaults": {
           "line": {
            "color": "#2a3f5f"
           }
          },
          "ternary": {
           "aaxis": {
            "gridcolor": "white",
            "linecolor": "white",
            "ticks": ""
           },
           "baxis": {
            "gridcolor": "white",
            "linecolor": "white",
            "ticks": ""
           },
           "bgcolor": "#E5ECF6",
           "caxis": {
            "gridcolor": "white",
            "linecolor": "white",
            "ticks": ""
           }
          },
          "title": {
           "x": 0.05
          },
          "xaxis": {
           "automargin": true,
           "gridcolor": "white",
           "linecolor": "white",
           "ticks": "",
           "title": {
            "standoff": 15
           },
           "zerolinecolor": "white",
           "zerolinewidth": 2
          },
          "yaxis": {
           "automargin": true,
           "gridcolor": "white",
           "linecolor": "white",
           "ticks": "",
           "title": {
            "standoff": 15
           },
           "zerolinecolor": "white",
           "zerolinewidth": 2
          }
         }
        },
        "title": {
         "text": "Subgraph of active sites and their neighbors (G161R)"
        },
        "width": 620
       }
      }
     },
     "metadata": {},
     "output_type": "display_data"
    },
    {
     "data": {
      "application/vnd.plotly.v1+json": {
       "config": {
        "plotlyServerURL": "https://plot.ly"
       },
       "data": [
        {
         "hoverinfo": "text+x+y+z",
         "marker": {
          "color": [
           [
            0.362553,
            0.003243,
            0.649245,
            1
           ],
           [
            0.928329,
            0.472975,
            0.326067,
            1
           ],
           [
            0.798216,
            0.280197,
            0.469538,
            1
           ],
           [
            0.362553,
            0.003243,
            0.649245,
            1
           ],
           [
            0.993814,
            0.704741,
            0.183043,
            1
           ],
           [
            0.993814,
            0.704741,
            0.183043,
            1
           ],
           [
            0.798216,
            0.280197,
            0.469538,
            1
           ],
           [
            0.610667,
            0.090204,
            0.619951,
            1
           ],
           [
            0.798216,
            0.280197,
            0.469538,
            1
           ],
           [
            0.610667,
            0.090204,
            0.619951,
            1
           ],
           [
            0.798216,
            0.280197,
            0.469538,
            1
           ],
           [
            0.928329,
            0.472975,
            0.326067,
            1
           ],
           [
            0.362553,
            0.003243,
            0.649245,
            1
           ],
           [
            0.362553,
            0.003243,
            0.649245,
            1
           ],
           [
            0.362553,
            0.003243,
            0.649245,
            1
           ],
           [
            0.362553,
            0.003243,
            0.649245,
            1
           ],
           [
            0.362553,
            0.003243,
            0.649245,
            1
           ],
           [
            0.610667,
            0.090204,
            0.619951,
            1
           ],
           [
            0.362553,
            0.003243,
            0.649245,
            1
           ]
          ],
          "opacity": 0.7,
          "size": [
           21,
           24,
           23,
           21,
           25,
           25,
           23,
           22,
           23,
           22,
           23,
           24,
           21,
           21,
           21,
           21,
           21,
           22,
           21
          ],
          "symbol": "circle"
         },
         "mode": "markers",
         "text": [
          "A:ARG:336",
          "A:HIS:335",
          "A:TRP:427",
          "A:ALA:293",
          "A:GLU:341",
          "A:HIS:365",
          "A:TYR:333",
          "A:LEU:364",
          "A:TYR:334",
          "A:TYR:423",
          "A:HIS:371",
          "A:HIS:292",
          "A:SER:366",
          "A:GLU:351",
          "A:ASP:291",
          "A:SER:340",
          "A:GLY:372",
          "A:PHE:342",
          "A:PRO:370"
         ],
         "type": "scatter3d",
         "x": [
          16.5,
          18.312,
          28.328,
          11.773,
          10.57,
          14.781,
          19.641,
          13.859,
          20.984,
          24.469,
          20.25,
          15.539,
          12.969,
          20.359,
          16.797,
          9.328,
          21.125,
          10.391,
          19.797
         ],
         "y": [
          8.922,
          5.648,
          5.137,
          -5.543,
          5.664,
          8.266,
          -0.524,
          7.371,
          3.004,
          6.789,
          6.023,
          -6.152,
          11.469,
          -7.906,
          -7.512,
          9.008,
          2.303,
          4.637,
          9.336
         ],
         "z": [
          -16.672,
          -17.375,
          -9.258,
          -20.75,
          -8.453,
          -7.766,
          -17.531,
          -4.273,
          -16.828,
          -2.006,
          -11.922,
          -20.922,
          -8.602,
          -7.375,
          -24.156,
          -9.797,
          -12.5,
          -4.844,
          -13.578
         ]
        },
        {
         "hoverinfo": "text",
         "line": {
          "color": [
           [
            0.928329,
            0.472975,
            0.326067,
            1
           ],
           [
            0.928329,
            0.472975,
            0.326067,
            1
           ],
           [
            0.928329,
            0.472975,
            0.326067,
            1
           ],
           [
            0.610667,
            0.090204,
            0.619951,
            1
           ],
           [
            0.610667,
            0.090204,
            0.619951,
            1
           ],
           [
            0.610667,
            0.090204,
            0.619951,
            1
           ],
           [
            0.928329,
            0.472975,
            0.326067,
            1
           ],
           [
            0.928329,
            0.472975,
            0.326067,
            1
           ],
           [
            0.928329,
            0.472975,
            0.326067,
            1
           ],
           [
            0.362553,
            0.003243,
            0.649245,
            1
           ],
           [
            0.362553,
            0.003243,
            0.649245,
            1
           ],
           [
            0.362553,
            0.003243,
            0.649245,
            1
           ],
           [
            0.798216,
            0.280197,
            0.469538,
            1
           ],
           [
            0.798216,
            0.280197,
            0.469538,
            1
           ],
           [
            0.798216,
            0.280197,
            0.469538,
            1
           ],
           [
            0.610667,
            0.090204,
            0.619951,
            1
           ],
           [
            0.610667,
            0.090204,
            0.619951,
            1
           ],
           [
            0.610667,
            0.090204,
            0.619951,
            1
           ],
           [
            0.050383,
            0.029803,
            0.527975,
            1
           ],
           [
            0.050383,
            0.029803,
            0.527975,
            1
           ],
           [
            0.050383,
            0.029803,
            0.527975,
            1
           ],
           [
            0.928329,
            0.472975,
            0.326067,
            1
           ],
           [
            0.928329,
            0.472975,
            0.326067,
            1
           ],
           [
            0.928329,
            0.472975,
            0.326067,
            1
           ],
           [
            0.928329,
            0.472975,
            0.326067,
            1
           ],
           [
            0.928329,
            0.472975,
            0.326067,
            1
           ],
           [
            0.928329,
            0.472975,
            0.326067,
            1
           ],
           [
            0.362553,
            0.003243,
            0.649245,
            1
           ],
           [
            0.362553,
            0.003243,
            0.649245,
            1
           ],
           [
            0.362553,
            0.003243,
            0.649245,
            1
           ],
           [
            0.362553,
            0.003243,
            0.649245,
            1
           ],
           [
            0.362553,
            0.003243,
            0.649245,
            1
           ],
           [
            0.362553,
            0.003243,
            0.649245,
            1
           ],
           [
            0.928329,
            0.472975,
            0.326067,
            1
           ],
           [
            0.928329,
            0.472975,
            0.326067,
            1
           ],
           [
            0.928329,
            0.472975,
            0.326067,
            1
           ],
           [
            0.928329,
            0.472975,
            0.326067,
            1
           ],
           [
            0.928329,
            0.472975,
            0.326067,
            1
           ],
           [
            0.928329,
            0.472975,
            0.326067,
            1
           ],
           [
            0.610667,
            0.090204,
            0.619951,
            1
           ],
           [
            0.610667,
            0.090204,
            0.619951,
            1
           ],
           [
            0.610667,
            0.090204,
            0.619951,
            1
           ],
           [
            0.928329,
            0.472975,
            0.326067,
            1
           ],
           [
            0.928329,
            0.472975,
            0.326067,
            1
           ],
           [
            0.928329,
            0.472975,
            0.326067,
            1
           ],
           [
            0.610667,
            0.090204,
            0.619951,
            1
           ],
           [
            0.610667,
            0.090204,
            0.619951,
            1
           ],
           [
            0.610667,
            0.090204,
            0.619951,
            1
           ],
           [
            0.928329,
            0.472975,
            0.326067,
            1
           ],
           [
            0.928329,
            0.472975,
            0.326067,
            1
           ],
           [
            0.928329,
            0.472975,
            0.326067,
            1
           ],
           [
            0.798216,
            0.280197,
            0.469538,
            1
           ],
           [
            0.798216,
            0.280197,
            0.469538,
            1
           ],
           [
            0.798216,
            0.280197,
            0.469538,
            1
           ],
           [
            0.928329,
            0.472975,
            0.326067,
            1
           ],
           [
            0.928329,
            0.472975,
            0.326067,
            1
           ],
           [
            0.928329,
            0.472975,
            0.326067,
            1
           ],
           [
            0.928329,
            0.472975,
            0.326067,
            1
           ],
           [
            0.928329,
            0.472975,
            0.326067,
            1
           ],
           [
            0.928329,
            0.472975,
            0.326067,
            1
           ],
           [
            0.928329,
            0.472975,
            0.326067,
            1
           ],
           [
            0.928329,
            0.472975,
            0.326067,
            1
           ],
           [
            0.928329,
            0.472975,
            0.326067,
            1
           ],
           [
            0.362553,
            0.003243,
            0.649245,
            1
           ],
           [
            0.362553,
            0.003243,
            0.649245,
            1
           ],
           [
            0.362553,
            0.003243,
            0.649245,
            1
           ]
          ],
          "width": 10
         },
         "mode": "lines",
         "text": [
          "peptide_bond",
          "peptide_bond",
          "peptide_bond",
          "aromatic",
          "aromatic",
          "aromatic",
          "peptide_bond",
          "peptide_bond",
          "peptide_bond",
          "ionic",
          "ionic",
          "ionic",
          "hydrophobic",
          "hydrophobic",
          "hydrophobic",
          "aromatic",
          "aromatic",
          "aromatic",
          "hydrophobic / aromatic",
          "hydrophobic / aromatic",
          "hydrophobic / aromatic",
          "peptide_bond",
          "peptide_bond",
          "peptide_bond",
          "peptide_bond",
          "peptide_bond",
          "peptide_bond",
          "ionic",
          "ionic",
          "ionic",
          "ionic",
          "ionic",
          "ionic",
          "peptide_bond",
          "peptide_bond",
          "peptide_bond",
          "peptide_bond",
          "peptide_bond",
          "peptide_bond",
          "aromatic",
          "aromatic",
          "aromatic",
          "peptide_bond",
          "peptide_bond",
          "peptide_bond",
          "aromatic",
          "aromatic",
          "aromatic",
          "peptide_bond",
          "peptide_bond",
          "peptide_bond",
          "hydrophobic",
          "hydrophobic",
          "hydrophobic",
          "peptide_bond",
          "peptide_bond",
          "peptide_bond",
          "peptide_bond",
          "peptide_bond",
          "peptide_bond",
          "peptide_bond",
          "peptide_bond",
          "peptide_bond",
          "ionic",
          "ionic",
          "ionic"
         ],
         "type": "scatter3d",
         "x": [
          16.5,
          18.312,
          null,
          18.312,
          19.641,
          null,
          18.312,
          20.984,
          null,
          18.312,
          10.57,
          null,
          28.328,
          20.984,
          null,
          28.328,
          14.781,
          null,
          28.328,
          24.469,
          null,
          11.773,
          15.539,
          null,
          10.57,
          9.328,
          null,
          10.57,
          20.25,
          null,
          10.57,
          14.781,
          null,
          10.57,
          10.391,
          null,
          14.781,
          13.859,
          null,
          14.781,
          24.469,
          null,
          14.781,
          12.969,
          null,
          19.641,
          15.539,
          null,
          19.641,
          20.984,
          null,
          13.859,
          10.391,
          null,
          20.25,
          19.797,
          null,
          20.25,
          21.125,
          null,
          15.539,
          16.797,
          null,
          15.539,
          20.359,
          null
         ],
         "y": [
          8.922,
          5.648,
          null,
          5.648,
          -0.524,
          null,
          5.648,
          3.004,
          null,
          5.648,
          5.664,
          null,
          5.137,
          3.004,
          null,
          5.137,
          8.266,
          null,
          5.137,
          6.789,
          null,
          -5.543,
          -6.152,
          null,
          5.664,
          9.008,
          null,
          5.664,
          6.023,
          null,
          5.664,
          8.266,
          null,
          5.664,
          4.637,
          null,
          8.266,
          7.371,
          null,
          8.266,
          6.789,
          null,
          8.266,
          11.469,
          null,
          -0.524,
          -6.152,
          null,
          -0.524,
          3.004,
          null,
          7.371,
          4.637,
          null,
          6.023,
          9.336,
          null,
          6.023,
          2.303,
          null,
          -6.152,
          -7.512,
          null,
          -6.152,
          -7.906,
          null
         ],
         "z": [
          -16.672,
          -17.375,
          null,
          -17.375,
          -17.531,
          null,
          -17.375,
          -16.828,
          null,
          -17.375,
          -8.453,
          null,
          -9.258,
          -16.828,
          null,
          -9.258,
          -7.766,
          null,
          -9.258,
          -2.006,
          null,
          -20.75,
          -20.922,
          null,
          -8.453,
          -9.797,
          null,
          -8.453,
          -11.922,
          null,
          -8.453,
          -7.766,
          null,
          -8.453,
          -4.844,
          null,
          -7.766,
          -4.273,
          null,
          -7.766,
          -2.006,
          null,
          -7.766,
          -8.602,
          null,
          -17.531,
          -20.922,
          null,
          -17.531,
          -16.828,
          null,
          -4.273,
          -4.844,
          null,
          -11.922,
          -13.578,
          null,
          -11.922,
          -12.5,
          null,
          -20.922,
          -24.156,
          null,
          -20.922,
          -7.375,
          null
         ]
        }
       ],
       "layout": {
        "height": 650,
        "margin": {
         "t": 100
        },
        "scene": {
         "xaxis": {
          "showbackground": false,
          "showgrid": false,
          "showline": false,
          "showticklabels": false,
          "title": {
           "text": ""
          },
          "zeroline": false
         },
         "yaxis": {
          "showbackground": false,
          "showgrid": false,
          "showline": false,
          "showticklabels": false,
          "title": {
           "text": ""
          },
          "zeroline": false
         },
         "zaxis": {
          "showbackground": false,
          "showgrid": false,
          "showline": false,
          "showticklabels": false,
          "title": {
           "text": ""
          },
          "zeroline": false
         }
        },
        "showlegend": false,
        "template": {
         "data": {
          "bar": [
           {
            "error_x": {
             "color": "#2a3f5f"
            },
            "error_y": {
             "color": "#2a3f5f"
            },
            "marker": {
             "line": {
              "color": "#E5ECF6",
              "width": 0.5
             },
             "pattern": {
              "fillmode": "overlay",
              "size": 10,
              "solidity": 0.2
             }
            },
            "type": "bar"
           }
          ],
          "barpolar": [
           {
            "marker": {
             "line": {
              "color": "#E5ECF6",
              "width": 0.5
             },
             "pattern": {
              "fillmode": "overlay",
              "size": 10,
              "solidity": 0.2
             }
            },
            "type": "barpolar"
           }
          ],
          "carpet": [
           {
            "aaxis": {
             "endlinecolor": "#2a3f5f",
             "gridcolor": "white",
             "linecolor": "white",
             "minorgridcolor": "white",
             "startlinecolor": "#2a3f5f"
            },
            "baxis": {
             "endlinecolor": "#2a3f5f",
             "gridcolor": "white",
             "linecolor": "white",
             "minorgridcolor": "white",
             "startlinecolor": "#2a3f5f"
            },
            "type": "carpet"
           }
          ],
          "choropleth": [
           {
            "colorbar": {
             "outlinewidth": 0,
             "ticks": ""
            },
            "type": "choropleth"
           }
          ],
          "contour": [
           {
            "colorbar": {
             "outlinewidth": 0,
             "ticks": ""
            },
            "colorscale": [
             [
              0,
              "#0d0887"
             ],
             [
              0.1111111111111111,
              "#46039f"
             ],
             [
              0.2222222222222222,
              "#7201a8"
             ],
             [
              0.3333333333333333,
              "#9c179e"
             ],
             [
              0.4444444444444444,
              "#bd3786"
             ],
             [
              0.5555555555555556,
              "#d8576b"
             ],
             [
              0.6666666666666666,
              "#ed7953"
             ],
             [
              0.7777777777777778,
              "#fb9f3a"
             ],
             [
              0.8888888888888888,
              "#fdca26"
             ],
             [
              1,
              "#f0f921"
             ]
            ],
            "type": "contour"
           }
          ],
          "contourcarpet": [
           {
            "colorbar": {
             "outlinewidth": 0,
             "ticks": ""
            },
            "type": "contourcarpet"
           }
          ],
          "heatmap": [
           {
            "colorbar": {
             "outlinewidth": 0,
             "ticks": ""
            },
            "colorscale": [
             [
              0,
              "#0d0887"
             ],
             [
              0.1111111111111111,
              "#46039f"
             ],
             [
              0.2222222222222222,
              "#7201a8"
             ],
             [
              0.3333333333333333,
              "#9c179e"
             ],
             [
              0.4444444444444444,
              "#bd3786"
             ],
             [
              0.5555555555555556,
              "#d8576b"
             ],
             [
              0.6666666666666666,
              "#ed7953"
             ],
             [
              0.7777777777777778,
              "#fb9f3a"
             ],
             [
              0.8888888888888888,
              "#fdca26"
             ],
             [
              1,
              "#f0f921"
             ]
            ],
            "type": "heatmap"
           }
          ],
          "heatmapgl": [
           {
            "colorbar": {
             "outlinewidth": 0,
             "ticks": ""
            },
            "colorscale": [
             [
              0,
              "#0d0887"
             ],
             [
              0.1111111111111111,
              "#46039f"
             ],
             [
              0.2222222222222222,
              "#7201a8"
             ],
             [
              0.3333333333333333,
              "#9c179e"
             ],
             [
              0.4444444444444444,
              "#bd3786"
             ],
             [
              0.5555555555555556,
              "#d8576b"
             ],
             [
              0.6666666666666666,
              "#ed7953"
             ],
             [
              0.7777777777777778,
              "#fb9f3a"
             ],
             [
              0.8888888888888888,
              "#fdca26"
             ],
             [
              1,
              "#f0f921"
             ]
            ],
            "type": "heatmapgl"
           }
          ],
          "histogram": [
           {
            "marker": {
             "pattern": {
              "fillmode": "overlay",
              "size": 10,
              "solidity": 0.2
             }
            },
            "type": "histogram"
           }
          ],
          "histogram2d": [
           {
            "colorbar": {
             "outlinewidth": 0,
             "ticks": ""
            },
            "colorscale": [
             [
              0,
              "#0d0887"
             ],
             [
              0.1111111111111111,
              "#46039f"
             ],
             [
              0.2222222222222222,
              "#7201a8"
             ],
             [
              0.3333333333333333,
              "#9c179e"
             ],
             [
              0.4444444444444444,
              "#bd3786"
             ],
             [
              0.5555555555555556,
              "#d8576b"
             ],
             [
              0.6666666666666666,
              "#ed7953"
             ],
             [
              0.7777777777777778,
              "#fb9f3a"
             ],
             [
              0.8888888888888888,
              "#fdca26"
             ],
             [
              1,
              "#f0f921"
             ]
            ],
            "type": "histogram2d"
           }
          ],
          "histogram2dcontour": [
           {
            "colorbar": {
             "outlinewidth": 0,
             "ticks": ""
            },
            "colorscale": [
             [
              0,
              "#0d0887"
             ],
             [
              0.1111111111111111,
              "#46039f"
             ],
             [
              0.2222222222222222,
              "#7201a8"
             ],
             [
              0.3333333333333333,
              "#9c179e"
             ],
             [
              0.4444444444444444,
              "#bd3786"
             ],
             [
              0.5555555555555556,
              "#d8576b"
             ],
             [
              0.6666666666666666,
              "#ed7953"
             ],
             [
              0.7777777777777778,
              "#fb9f3a"
             ],
             [
              0.8888888888888888,
              "#fdca26"
             ],
             [
              1,
              "#f0f921"
             ]
            ],
            "type": "histogram2dcontour"
           }
          ],
          "mesh3d": [
           {
            "colorbar": {
             "outlinewidth": 0,
             "ticks": ""
            },
            "type": "mesh3d"
           }
          ],
          "parcoords": [
           {
            "line": {
             "colorbar": {
              "outlinewidth": 0,
              "ticks": ""
             }
            },
            "type": "parcoords"
           }
          ],
          "pie": [
           {
            "automargin": true,
            "type": "pie"
           }
          ],
          "scatter": [
           {
            "fillpattern": {
             "fillmode": "overlay",
             "size": 10,
             "solidity": 0.2
            },
            "type": "scatter"
           }
          ],
          "scatter3d": [
           {
            "line": {
             "colorbar": {
              "outlinewidth": 0,
              "ticks": ""
             }
            },
            "marker": {
             "colorbar": {
              "outlinewidth": 0,
              "ticks": ""
             }
            },
            "type": "scatter3d"
           }
          ],
          "scattercarpet": [
           {
            "marker": {
             "colorbar": {
              "outlinewidth": 0,
              "ticks": ""
             }
            },
            "type": "scattercarpet"
           }
          ],
          "scattergeo": [
           {
            "marker": {
             "colorbar": {
              "outlinewidth": 0,
              "ticks": ""
             }
            },
            "type": "scattergeo"
           }
          ],
          "scattergl": [
           {
            "marker": {
             "colorbar": {
              "outlinewidth": 0,
              "ticks": ""
             }
            },
            "type": "scattergl"
           }
          ],
          "scattermapbox": [
           {
            "marker": {
             "colorbar": {
              "outlinewidth": 0,
              "ticks": ""
             }
            },
            "type": "scattermapbox"
           }
          ],
          "scatterpolar": [
           {
            "marker": {
             "colorbar": {
              "outlinewidth": 0,
              "ticks": ""
             }
            },
            "type": "scatterpolar"
           }
          ],
          "scatterpolargl": [
           {
            "marker": {
             "colorbar": {
              "outlinewidth": 0,
              "ticks": ""
             }
            },
            "type": "scatterpolargl"
           }
          ],
          "scatterternary": [
           {
            "marker": {
             "colorbar": {
              "outlinewidth": 0,
              "ticks": ""
             }
            },
            "type": "scatterternary"
           }
          ],
          "surface": [
           {
            "colorbar": {
             "outlinewidth": 0,
             "ticks": ""
            },
            "colorscale": [
             [
              0,
              "#0d0887"
             ],
             [
              0.1111111111111111,
              "#46039f"
             ],
             [
              0.2222222222222222,
              "#7201a8"
             ],
             [
              0.3333333333333333,
              "#9c179e"
             ],
             [
              0.4444444444444444,
              "#bd3786"
             ],
             [
              0.5555555555555556,
              "#d8576b"
             ],
             [
              0.6666666666666666,
              "#ed7953"
             ],
             [
              0.7777777777777778,
              "#fb9f3a"
             ],
             [
              0.8888888888888888,
              "#fdca26"
             ],
             [
              1,
              "#f0f921"
             ]
            ],
            "type": "surface"
           }
          ],
          "table": [
           {
            "cells": {
             "fill": {
              "color": "#EBF0F8"
             },
             "line": {
              "color": "white"
             }
            },
            "header": {
             "fill": {
              "color": "#C8D4E3"
             },
             "line": {
              "color": "white"
             }
            },
            "type": "table"
           }
          ]
         },
         "layout": {
          "annotationdefaults": {
           "arrowcolor": "#2a3f5f",
           "arrowhead": 0,
           "arrowwidth": 1
          },
          "autotypenumbers": "strict",
          "coloraxis": {
           "colorbar": {
            "outlinewidth": 0,
            "ticks": ""
           }
          },
          "colorscale": {
           "diverging": [
            [
             0,
             "#8e0152"
            ],
            [
             0.1,
             "#c51b7d"
            ],
            [
             0.2,
             "#de77ae"
            ],
            [
             0.3,
             "#f1b6da"
            ],
            [
             0.4,
             "#fde0ef"
            ],
            [
             0.5,
             "#f7f7f7"
            ],
            [
             0.6,
             "#e6f5d0"
            ],
            [
             0.7,
             "#b8e186"
            ],
            [
             0.8,
             "#7fbc41"
            ],
            [
             0.9,
             "#4d9221"
            ],
            [
             1,
             "#276419"
            ]
           ],
           "sequential": [
            [
             0,
             "#0d0887"
            ],
            [
             0.1111111111111111,
             "#46039f"
            ],
            [
             0.2222222222222222,
             "#7201a8"
            ],
            [
             0.3333333333333333,
             "#9c179e"
            ],
            [
             0.4444444444444444,
             "#bd3786"
            ],
            [
             0.5555555555555556,
             "#d8576b"
            ],
            [
             0.6666666666666666,
             "#ed7953"
            ],
            [
             0.7777777777777778,
             "#fb9f3a"
            ],
            [
             0.8888888888888888,
             "#fdca26"
            ],
            [
             1,
             "#f0f921"
            ]
           ],
           "sequentialminus": [
            [
             0,
             "#0d0887"
            ],
            [
             0.1111111111111111,
             "#46039f"
            ],
            [
             0.2222222222222222,
             "#7201a8"
            ],
            [
             0.3333333333333333,
             "#9c179e"
            ],
            [
             0.4444444444444444,
             "#bd3786"
            ],
            [
             0.5555555555555556,
             "#d8576b"
            ],
            [
             0.6666666666666666,
             "#ed7953"
            ],
            [
             0.7777777777777778,
             "#fb9f3a"
            ],
            [
             0.8888888888888888,
             "#fdca26"
            ],
            [
             1,
             "#f0f921"
            ]
           ]
          },
          "colorway": [
           "#636efa",
           "#EF553B",
           "#00cc96",
           "#ab63fa",
           "#FFA15A",
           "#19d3f3",
           "#FF6692",
           "#B6E880",
           "#FF97FF",
           "#FECB52"
          ],
          "font": {
           "color": "#2a3f5f"
          },
          "geo": {
           "bgcolor": "white",
           "lakecolor": "white",
           "landcolor": "#E5ECF6",
           "showlakes": true,
           "showland": true,
           "subunitcolor": "white"
          },
          "hoverlabel": {
           "align": "left"
          },
          "hovermode": "closest",
          "mapbox": {
           "style": "light"
          },
          "paper_bgcolor": "white",
          "plot_bgcolor": "#E5ECF6",
          "polar": {
           "angularaxis": {
            "gridcolor": "white",
            "linecolor": "white",
            "ticks": ""
           },
           "bgcolor": "#E5ECF6",
           "radialaxis": {
            "gridcolor": "white",
            "linecolor": "white",
            "ticks": ""
           }
          },
          "scene": {
           "xaxis": {
            "backgroundcolor": "#E5ECF6",
            "gridcolor": "white",
            "gridwidth": 2,
            "linecolor": "white",
            "showbackground": true,
            "ticks": "",
            "zerolinecolor": "white"
           },
           "yaxis": {
            "backgroundcolor": "#E5ECF6",
            "gridcolor": "white",
            "gridwidth": 2,
            "linecolor": "white",
            "showbackground": true,
            "ticks": "",
            "zerolinecolor": "white"
           },
           "zaxis": {
            "backgroundcolor": "#E5ECF6",
            "gridcolor": "white",
            "gridwidth": 2,
            "linecolor": "white",
            "showbackground": true,
            "ticks": "",
            "zerolinecolor": "white"
           }
          },
          "shapedefaults": {
           "line": {
            "color": "#2a3f5f"
           }
          },
          "ternary": {
           "aaxis": {
            "gridcolor": "white",
            "linecolor": "white",
            "ticks": ""
           },
           "baxis": {
            "gridcolor": "white",
            "linecolor": "white",
            "ticks": ""
           },
           "bgcolor": "#E5ECF6",
           "caxis": {
            "gridcolor": "white",
            "linecolor": "white",
            "ticks": ""
           }
          },
          "title": {
           "x": 0.05
          },
          "xaxis": {
           "automargin": true,
           "gridcolor": "white",
           "linecolor": "white",
           "ticks": "",
           "title": {
            "standoff": 15
           },
           "zerolinecolor": "white",
           "zerolinewidth": 2
          },
          "yaxis": {
           "automargin": true,
           "gridcolor": "white",
           "linecolor": "white",
           "ticks": "",
           "title": {
            "standoff": 15
           },
           "zerolinecolor": "white",
           "zerolinewidth": 2
          }
         }
        },
        "title": {
         "text": "Subgraph of active sites and their neighbors (R330S)"
        },
        "width": 620
       }
      }
     },
     "metadata": {},
     "output_type": "display_data"
    },
    {
     "data": {
      "application/vnd.plotly.v1+json": {
       "config": {
        "plotlyServerURL": "https://plot.ly"
       },
       "data": [
        {
         "hoverinfo": "text+x+y+z",
         "marker": {
          "color": [
           [
            0.362553,
            0.003243,
            0.649245,
            1
           ],
           [
            0.928329,
            0.472975,
            0.326067,
            1
           ],
           [
            0.798216,
            0.280197,
            0.469538,
            1
           ],
           [
            0.798216,
            0.280197,
            0.469538,
            1
           ],
           [
            0.610667,
            0.090204,
            0.619951,
            1
           ],
           [
            0.993814,
            0.704741,
            0.183043,
            1
           ],
           [
            0.993814,
            0.704741,
            0.183043,
            1
           ],
           [
            0.928329,
            0.472975,
            0.326067,
            1
           ],
           [
            0.610667,
            0.090204,
            0.619951,
            1
           ],
           [
            0.798216,
            0.280197,
            0.469538,
            1
           ],
           [
            0.610667,
            0.090204,
            0.619951,
            1
           ],
           [
            0.798216,
            0.280197,
            0.469538,
            1
           ],
           [
            0.928329,
            0.472975,
            0.326067,
            1
           ],
           [
            0.362553,
            0.003243,
            0.649245,
            1
           ],
           [
            0.362553,
            0.003243,
            0.649245,
            1
           ],
           [
            0.362553,
            0.003243,
            0.649245,
            1
           ],
           [
            0.362553,
            0.003243,
            0.649245,
            1
           ],
           [
            0.610667,
            0.090204,
            0.619951,
            1
           ],
           [
            0.362553,
            0.003243,
            0.649245,
            1
           ]
          ],
          "opacity": 0.7,
          "size": [
           21,
           24,
           23,
           23,
           22,
           25,
           25,
           24,
           22,
           23,
           22,
           23,
           24,
           21,
           21,
           21,
           21,
           22,
           21
          ],
          "symbol": "circle"
         },
         "mode": "markers",
         "text": [
          "A:ARG:336",
          "A:HIS:335",
          "A:ASP:294",
          "A:TRP:427",
          "A:ALA:293",
          "A:GLU:341",
          "A:HIS:365",
          "A:TYR:333",
          "A:LEU:364",
          "A:TYR:334",
          "A:TYR:423",
          "A:HIS:371",
          "A:HIS:292",
          "A:SER:366",
          "A:ASP:291",
          "A:SER:340",
          "A:GLY:372",
          "A:PHE:342",
          "A:PRO:370"
         ],
         "type": "scatter3d",
         "x": [
          16.75,
          18.359,
          9.773,
          28.453,
          10.602,
          10.734,
          15.141,
          19.25,
          14.203,
          20.875,
          24.859,
          20.359,
          14.289,
          13.547,
          15.633,
          9.734,
          20.984,
          10.523,
          20.125
         ],
         "y": [
          10.25,
          7.059,
          -0.117,
          4.492,
          -2.971,
          6.121,
          8.297,
          0.927,
          6.984,
          4.191,
          5.273,
          6.426,
          -3.693,
          11.703,
          -4.727,
          9.695,
          2.779,
          4.629,
          9.969
         ],
         "z": [
          -15.414,
          -16.719,
          -19.172,
          -9.031,
          -21.469,
          -7.68,
          -6.719,
          -17.875,
          -3.355,
          -16.672,
          -1.548,
          -11.336,
          -22.031,
          -6.996,
          -25.375,
          -8.5,
          -12.492,
          -4.211,
          -12.453
         ]
        },
        {
         "hoverinfo": "text",
         "line": {
          "color": [
           [
            0.95547,
            0.533093,
            0.28549,
            1
           ],
           [
            0.95547,
            0.533093,
            0.28549,
            1
           ],
           [
            0.95547,
            0.533093,
            0.28549,
            1
           ],
           [
            0.723444,
            0.196158,
            0.538981,
            1
           ],
           [
            0.723444,
            0.196158,
            0.538981,
            1
           ],
           [
            0.723444,
            0.196158,
            0.538981,
            1
           ],
           [
            0.95547,
            0.533093,
            0.28549,
            1
           ],
           [
            0.95547,
            0.533093,
            0.28549,
            1
           ],
           [
            0.95547,
            0.533093,
            0.28549,
            1
           ],
           [
            0.546157,
            0.038954,
            0.64701,
            1
           ],
           [
            0.546157,
            0.038954,
            0.64701,
            1
           ],
           [
            0.546157,
            0.038954,
            0.64701,
            1
           ],
           [
            0.546157,
            0.038954,
            0.64701,
            1
           ],
           [
            0.546157,
            0.038954,
            0.64701,
            1
           ],
           [
            0.546157,
            0.038954,
            0.64701,
            1
           ],
           [
            0.95547,
            0.533093,
            0.28549,
            1
           ],
           [
            0.95547,
            0.533093,
            0.28549,
            1
           ],
           [
            0.95547,
            0.533093,
            0.28549,
            1
           ],
           [
            0.32515,
            0.006915,
            0.639512,
            1
           ],
           [
            0.32515,
            0.006915,
            0.639512,
            1
           ],
           [
            0.32515,
            0.006915,
            0.639512,
            1
           ],
           [
            0.85975,
            0.360588,
            0.406917,
            1
           ],
           [
            0.85975,
            0.360588,
            0.406917,
            1
           ],
           [
            0.85975,
            0.360588,
            0.406917,
            1
           ],
           [
            0.723444,
            0.196158,
            0.538981,
            1
           ],
           [
            0.723444,
            0.196158,
            0.538981,
            1
           ],
           [
            0.723444,
            0.196158,
            0.538981,
            1
           ],
           [
            0.050383,
            0.029803,
            0.527975,
            1
           ],
           [
            0.050383,
            0.029803,
            0.527975,
            1
           ],
           [
            0.050383,
            0.029803,
            0.527975,
            1
           ],
           [
            0.95547,
            0.533093,
            0.28549,
            1
           ],
           [
            0.95547,
            0.533093,
            0.28549,
            1
           ],
           [
            0.95547,
            0.533093,
            0.28549,
            1
           ],
           [
            0.95547,
            0.533093,
            0.28549,
            1
           ],
           [
            0.95547,
            0.533093,
            0.28549,
            1
           ],
           [
            0.95547,
            0.533093,
            0.28549,
            1
           ],
           [
            0.546157,
            0.038954,
            0.64701,
            1
           ],
           [
            0.546157,
            0.038954,
            0.64701,
            1
           ],
           [
            0.546157,
            0.038954,
            0.64701,
            1
           ],
           [
            0.546157,
            0.038954,
            0.64701,
            1
           ],
           [
            0.546157,
            0.038954,
            0.64701,
            1
           ],
           [
            0.546157,
            0.038954,
            0.64701,
            1
           ],
           [
            0.95547,
            0.533093,
            0.28549,
            1
           ],
           [
            0.95547,
            0.533093,
            0.28549,
            1
           ],
           [
            0.95547,
            0.533093,
            0.28549,
            1
           ],
           [
            0.95547,
            0.533093,
            0.28549,
            1
           ],
           [
            0.95547,
            0.533093,
            0.28549,
            1
           ],
           [
            0.95547,
            0.533093,
            0.28549,
            1
           ],
           [
            0.723444,
            0.196158,
            0.538981,
            1
           ],
           [
            0.723444,
            0.196158,
            0.538981,
            1
           ],
           [
            0.723444,
            0.196158,
            0.538981,
            1
           ],
           [
            0.95547,
            0.533093,
            0.28549,
            1
           ],
           [
            0.95547,
            0.533093,
            0.28549,
            1
           ],
           [
            0.95547,
            0.533093,
            0.28549,
            1
           ],
           [
            0.723444,
            0.196158,
            0.538981,
            1
           ],
           [
            0.723444,
            0.196158,
            0.538981,
            1
           ],
           [
            0.723444,
            0.196158,
            0.538981,
            1
           ],
           [
            0.95547,
            0.533093,
            0.28549,
            1
           ],
           [
            0.95547,
            0.533093,
            0.28549,
            1
           ],
           [
            0.95547,
            0.533093,
            0.28549,
            1
           ],
           [
            0.85975,
            0.360588,
            0.406917,
            1
           ],
           [
            0.85975,
            0.360588,
            0.406917,
            1
           ],
           [
            0.85975,
            0.360588,
            0.406917,
            1
           ],
           [
            0.95547,
            0.533093,
            0.28549,
            1
           ],
           [
            0.95547,
            0.533093,
            0.28549,
            1
           ],
           [
            0.95547,
            0.533093,
            0.28549,
            1
           ],
           [
            0.95547,
            0.533093,
            0.28549,
            1
           ],
           [
            0.95547,
            0.533093,
            0.28549,
            1
           ],
           [
            0.95547,
            0.533093,
            0.28549,
            1
           ],
           [
            0.95547,
            0.533093,
            0.28549,
            1
           ],
           [
            0.95547,
            0.533093,
            0.28549,
            1
           ],
           [
            0.95547,
            0.533093,
            0.28549,
            1
           ]
          ],
          "width": 10
         },
         "mode": "lines",
         "text": [
          "peptide_bond",
          "peptide_bond",
          "peptide_bond",
          "aromatic",
          "aromatic",
          "aromatic",
          "peptide_bond",
          "peptide_bond",
          "peptide_bond",
          "ionic",
          "ionic",
          "ionic",
          "ionic",
          "ionic",
          "ionic",
          "peptide_bond",
          "peptide_bond",
          "peptide_bond",
          "hbond",
          "hbond",
          "hbond",
          "hydrophobic",
          "hydrophobic",
          "hydrophobic",
          "aromatic",
          "aromatic",
          "aromatic",
          "hydrophobic / aromatic",
          "hydrophobic / aromatic",
          "hydrophobic / aromatic",
          "peptide_bond",
          "peptide_bond",
          "peptide_bond",
          "peptide_bond",
          "peptide_bond",
          "peptide_bond",
          "ionic",
          "ionic",
          "ionic",
          "ionic",
          "ionic",
          "ionic",
          "peptide_bond",
          "peptide_bond",
          "peptide_bond",
          "peptide_bond",
          "peptide_bond",
          "peptide_bond",
          "aromatic",
          "aromatic",
          "aromatic",
          "peptide_bond",
          "peptide_bond",
          "peptide_bond",
          "aromatic",
          "aromatic",
          "aromatic",
          "peptide_bond",
          "peptide_bond",
          "peptide_bond",
          "hydrophobic",
          "hydrophobic",
          "hydrophobic",
          "peptide_bond",
          "peptide_bond",
          "peptide_bond",
          "peptide_bond",
          "peptide_bond",
          "peptide_bond",
          "peptide_bond",
          "peptide_bond",
          "peptide_bond"
         ],
         "type": "scatter3d",
         "x": [
          16.75,
          18.359,
          null,
          18.359,
          19.25,
          null,
          18.359,
          20.875,
          null,
          18.359,
          10.734,
          null,
          9.773,
          14.289,
          null,
          9.773,
          10.602,
          null,
          9.773,
          19.25,
          null,
          28.453,
          20.875,
          null,
          28.453,
          15.141,
          null,
          28.453,
          24.859,
          null,
          10.602,
          14.289,
          null,
          10.734,
          9.734,
          null,
          10.734,
          20.359,
          null,
          10.734,
          15.141,
          null,
          10.734,
          10.523,
          null,
          15.141,
          14.203,
          null,
          15.141,
          24.859,
          null,
          15.141,
          13.547,
          null,
          19.25,
          14.289,
          null,
          19.25,
          20.875,
          null,
          14.203,
          10.523,
          null,
          20.359,
          20.125,
          null,
          20.359,
          20.984,
          null,
          14.289,
          15.633,
          null
         ],
         "y": [
          10.25,
          7.059,
          null,
          7.059,
          0.927,
          null,
          7.059,
          4.191,
          null,
          7.059,
          6.121,
          null,
          -0.117,
          -3.693,
          null,
          -0.117,
          -2.971,
          null,
          -0.117,
          0.927,
          null,
          4.492,
          4.191,
          null,
          4.492,
          8.297,
          null,
          4.492,
          5.273,
          null,
          -2.971,
          -3.693,
          null,
          6.121,
          9.695,
          null,
          6.121,
          6.426,
          null,
          6.121,
          8.297,
          null,
          6.121,
          4.629,
          null,
          8.297,
          6.984,
          null,
          8.297,
          5.273,
          null,
          8.297,
          11.703,
          null,
          0.927,
          -3.693,
          null,
          0.927,
          4.191,
          null,
          6.984,
          4.629,
          null,
          6.426,
          9.969,
          null,
          6.426,
          2.779,
          null,
          -3.693,
          -4.727,
          null
         ],
         "z": [
          -15.414,
          -16.719,
          null,
          -16.719,
          -17.875,
          null,
          -16.719,
          -16.672,
          null,
          -16.719,
          -7.68,
          null,
          -19.172,
          -22.031,
          null,
          -19.172,
          -21.469,
          null,
          -19.172,
          -17.875,
          null,
          -9.031,
          -16.672,
          null,
          -9.031,
          -6.719,
          null,
          -9.031,
          -1.548,
          null,
          -21.469,
          -22.031,
          null,
          -7.68,
          -8.5,
          null,
          -7.68,
          -11.336,
          null,
          -7.68,
          -6.719,
          null,
          -7.68,
          -4.211,
          null,
          -6.719,
          -3.355,
          null,
          -6.719,
          -1.548,
          null,
          -6.719,
          -6.996,
          null,
          -17.875,
          -22.031,
          null,
          -17.875,
          -16.672,
          null,
          -3.355,
          -4.211,
          null,
          -11.336,
          -12.453,
          null,
          -11.336,
          -12.492,
          null,
          -22.031,
          -25.375,
          null
         ]
        }
       ],
       "layout": {
        "height": 650,
        "margin": {
         "t": 100
        },
        "scene": {
         "xaxis": {
          "showbackground": false,
          "showgrid": false,
          "showline": false,
          "showticklabels": false,
          "title": {
           "text": ""
          },
          "zeroline": false
         },
         "yaxis": {
          "showbackground": false,
          "showgrid": false,
          "showline": false,
          "showticklabels": false,
          "title": {
           "text": ""
          },
          "zeroline": false
         },
         "zaxis": {
          "showbackground": false,
          "showgrid": false,
          "showline": false,
          "showticklabels": false,
          "title": {
           "text": ""
          },
          "zeroline": false
         }
        },
        "showlegend": false,
        "template": {
         "data": {
          "bar": [
           {
            "error_x": {
             "color": "#2a3f5f"
            },
            "error_y": {
             "color": "#2a3f5f"
            },
            "marker": {
             "line": {
              "color": "#E5ECF6",
              "width": 0.5
             },
             "pattern": {
              "fillmode": "overlay",
              "size": 10,
              "solidity": 0.2
             }
            },
            "type": "bar"
           }
          ],
          "barpolar": [
           {
            "marker": {
             "line": {
              "color": "#E5ECF6",
              "width": 0.5
             },
             "pattern": {
              "fillmode": "overlay",
              "size": 10,
              "solidity": 0.2
             }
            },
            "type": "barpolar"
           }
          ],
          "carpet": [
           {
            "aaxis": {
             "endlinecolor": "#2a3f5f",
             "gridcolor": "white",
             "linecolor": "white",
             "minorgridcolor": "white",
             "startlinecolor": "#2a3f5f"
            },
            "baxis": {
             "endlinecolor": "#2a3f5f",
             "gridcolor": "white",
             "linecolor": "white",
             "minorgridcolor": "white",
             "startlinecolor": "#2a3f5f"
            },
            "type": "carpet"
           }
          ],
          "choropleth": [
           {
            "colorbar": {
             "outlinewidth": 0,
             "ticks": ""
            },
            "type": "choropleth"
           }
          ],
          "contour": [
           {
            "colorbar": {
             "outlinewidth": 0,
             "ticks": ""
            },
            "colorscale": [
             [
              0,
              "#0d0887"
             ],
             [
              0.1111111111111111,
              "#46039f"
             ],
             [
              0.2222222222222222,
              "#7201a8"
             ],
             [
              0.3333333333333333,
              "#9c179e"
             ],
             [
              0.4444444444444444,
              "#bd3786"
             ],
             [
              0.5555555555555556,
              "#d8576b"
             ],
             [
              0.6666666666666666,
              "#ed7953"
             ],
             [
              0.7777777777777778,
              "#fb9f3a"
             ],
             [
              0.8888888888888888,
              "#fdca26"
             ],
             [
              1,
              "#f0f921"
             ]
            ],
            "type": "contour"
           }
          ],
          "contourcarpet": [
           {
            "colorbar": {
             "outlinewidth": 0,
             "ticks": ""
            },
            "type": "contourcarpet"
           }
          ],
          "heatmap": [
           {
            "colorbar": {
             "outlinewidth": 0,
             "ticks": ""
            },
            "colorscale": [
             [
              0,
              "#0d0887"
             ],
             [
              0.1111111111111111,
              "#46039f"
             ],
             [
              0.2222222222222222,
              "#7201a8"
             ],
             [
              0.3333333333333333,
              "#9c179e"
             ],
             [
              0.4444444444444444,
              "#bd3786"
             ],
             [
              0.5555555555555556,
              "#d8576b"
             ],
             [
              0.6666666666666666,
              "#ed7953"
             ],
             [
              0.7777777777777778,
              "#fb9f3a"
             ],
             [
              0.8888888888888888,
              "#fdca26"
             ],
             [
              1,
              "#f0f921"
             ]
            ],
            "type": "heatmap"
           }
          ],
          "heatmapgl": [
           {
            "colorbar": {
             "outlinewidth": 0,
             "ticks": ""
            },
            "colorscale": [
             [
              0,
              "#0d0887"
             ],
             [
              0.1111111111111111,
              "#46039f"
             ],
             [
              0.2222222222222222,
              "#7201a8"
             ],
             [
              0.3333333333333333,
              "#9c179e"
             ],
             [
              0.4444444444444444,
              "#bd3786"
             ],
             [
              0.5555555555555556,
              "#d8576b"
             ],
             [
              0.6666666666666666,
              "#ed7953"
             ],
             [
              0.7777777777777778,
              "#fb9f3a"
             ],
             [
              0.8888888888888888,
              "#fdca26"
             ],
             [
              1,
              "#f0f921"
             ]
            ],
            "type": "heatmapgl"
           }
          ],
          "histogram": [
           {
            "marker": {
             "pattern": {
              "fillmode": "overlay",
              "size": 10,
              "solidity": 0.2
             }
            },
            "type": "histogram"
           }
          ],
          "histogram2d": [
           {
            "colorbar": {
             "outlinewidth": 0,
             "ticks": ""
            },
            "colorscale": [
             [
              0,
              "#0d0887"
             ],
             [
              0.1111111111111111,
              "#46039f"
             ],
             [
              0.2222222222222222,
              "#7201a8"
             ],
             [
              0.3333333333333333,
              "#9c179e"
             ],
             [
              0.4444444444444444,
              "#bd3786"
             ],
             [
              0.5555555555555556,
              "#d8576b"
             ],
             [
              0.6666666666666666,
              "#ed7953"
             ],
             [
              0.7777777777777778,
              "#fb9f3a"
             ],
             [
              0.8888888888888888,
              "#fdca26"
             ],
             [
              1,
              "#f0f921"
             ]
            ],
            "type": "histogram2d"
           }
          ],
          "histogram2dcontour": [
           {
            "colorbar": {
             "outlinewidth": 0,
             "ticks": ""
            },
            "colorscale": [
             [
              0,
              "#0d0887"
             ],
             [
              0.1111111111111111,
              "#46039f"
             ],
             [
              0.2222222222222222,
              "#7201a8"
             ],
             [
              0.3333333333333333,
              "#9c179e"
             ],
             [
              0.4444444444444444,
              "#bd3786"
             ],
             [
              0.5555555555555556,
              "#d8576b"
             ],
             [
              0.6666666666666666,
              "#ed7953"
             ],
             [
              0.7777777777777778,
              "#fb9f3a"
             ],
             [
              0.8888888888888888,
              "#fdca26"
             ],
             [
              1,
              "#f0f921"
             ]
            ],
            "type": "histogram2dcontour"
           }
          ],
          "mesh3d": [
           {
            "colorbar": {
             "outlinewidth": 0,
             "ticks": ""
            },
            "type": "mesh3d"
           }
          ],
          "parcoords": [
           {
            "line": {
             "colorbar": {
              "outlinewidth": 0,
              "ticks": ""
             }
            },
            "type": "parcoords"
           }
          ],
          "pie": [
           {
            "automargin": true,
            "type": "pie"
           }
          ],
          "scatter": [
           {
            "fillpattern": {
             "fillmode": "overlay",
             "size": 10,
             "solidity": 0.2
            },
            "type": "scatter"
           }
          ],
          "scatter3d": [
           {
            "line": {
             "colorbar": {
              "outlinewidth": 0,
              "ticks": ""
             }
            },
            "marker": {
             "colorbar": {
              "outlinewidth": 0,
              "ticks": ""
             }
            },
            "type": "scatter3d"
           }
          ],
          "scattercarpet": [
           {
            "marker": {
             "colorbar": {
              "outlinewidth": 0,
              "ticks": ""
             }
            },
            "type": "scattercarpet"
           }
          ],
          "scattergeo": [
           {
            "marker": {
             "colorbar": {
              "outlinewidth": 0,
              "ticks": ""
             }
            },
            "type": "scattergeo"
           }
          ],
          "scattergl": [
           {
            "marker": {
             "colorbar": {
              "outlinewidth": 0,
              "ticks": ""
             }
            },
            "type": "scattergl"
           }
          ],
          "scattermapbox": [
           {
            "marker": {
             "colorbar": {
              "outlinewidth": 0,
              "ticks": ""
             }
            },
            "type": "scattermapbox"
           }
          ],
          "scatterpolar": [
           {
            "marker": {
             "colorbar": {
              "outlinewidth": 0,
              "ticks": ""
             }
            },
            "type": "scatterpolar"
           }
          ],
          "scatterpolargl": [
           {
            "marker": {
             "colorbar": {
              "outlinewidth": 0,
              "ticks": ""
             }
            },
            "type": "scatterpolargl"
           }
          ],
          "scatterternary": [
           {
            "marker": {
             "colorbar": {
              "outlinewidth": 0,
              "ticks": ""
             }
            },
            "type": "scatterternary"
           }
          ],
          "surface": [
           {
            "colorbar": {
             "outlinewidth": 0,
             "ticks": ""
            },
            "colorscale": [
             [
              0,
              "#0d0887"
             ],
             [
              0.1111111111111111,
              "#46039f"
             ],
             [
              0.2222222222222222,
              "#7201a8"
             ],
             [
              0.3333333333333333,
              "#9c179e"
             ],
             [
              0.4444444444444444,
              "#bd3786"
             ],
             [
              0.5555555555555556,
              "#d8576b"
             ],
             [
              0.6666666666666666,
              "#ed7953"
             ],
             [
              0.7777777777777778,
              "#fb9f3a"
             ],
             [
              0.8888888888888888,
              "#fdca26"
             ],
             [
              1,
              "#f0f921"
             ]
            ],
            "type": "surface"
           }
          ],
          "table": [
           {
            "cells": {
             "fill": {
              "color": "#EBF0F8"
             },
             "line": {
              "color": "white"
             }
            },
            "header": {
             "fill": {
              "color": "#C8D4E3"
             },
             "line": {
              "color": "white"
             }
            },
            "type": "table"
           }
          ]
         },
         "layout": {
          "annotationdefaults": {
           "arrowcolor": "#2a3f5f",
           "arrowhead": 0,
           "arrowwidth": 1
          },
          "autotypenumbers": "strict",
          "coloraxis": {
           "colorbar": {
            "outlinewidth": 0,
            "ticks": ""
           }
          },
          "colorscale": {
           "diverging": [
            [
             0,
             "#8e0152"
            ],
            [
             0.1,
             "#c51b7d"
            ],
            [
             0.2,
             "#de77ae"
            ],
            [
             0.3,
             "#f1b6da"
            ],
            [
             0.4,
             "#fde0ef"
            ],
            [
             0.5,
             "#f7f7f7"
            ],
            [
             0.6,
             "#e6f5d0"
            ],
            [
             0.7,
             "#b8e186"
            ],
            [
             0.8,
             "#7fbc41"
            ],
            [
             0.9,
             "#4d9221"
            ],
            [
             1,
             "#276419"
            ]
           ],
           "sequential": [
            [
             0,
             "#0d0887"
            ],
            [
             0.1111111111111111,
             "#46039f"
            ],
            [
             0.2222222222222222,
             "#7201a8"
            ],
            [
             0.3333333333333333,
             "#9c179e"
            ],
            [
             0.4444444444444444,
             "#bd3786"
            ],
            [
             0.5555555555555556,
             "#d8576b"
            ],
            [
             0.6666666666666666,
             "#ed7953"
            ],
            [
             0.7777777777777778,
             "#fb9f3a"
            ],
            [
             0.8888888888888888,
             "#fdca26"
            ],
            [
             1,
             "#f0f921"
            ]
           ],
           "sequentialminus": [
            [
             0,
             "#0d0887"
            ],
            [
             0.1111111111111111,
             "#46039f"
            ],
            [
             0.2222222222222222,
             "#7201a8"
            ],
            [
             0.3333333333333333,
             "#9c179e"
            ],
            [
             0.4444444444444444,
             "#bd3786"
            ],
            [
             0.5555555555555556,
             "#d8576b"
            ],
            [
             0.6666666666666666,
             "#ed7953"
            ],
            [
             0.7777777777777778,
             "#fb9f3a"
            ],
            [
             0.8888888888888888,
             "#fdca26"
            ],
            [
             1,
             "#f0f921"
            ]
           ]
          },
          "colorway": [
           "#636efa",
           "#EF553B",
           "#00cc96",
           "#ab63fa",
           "#FFA15A",
           "#19d3f3",
           "#FF6692",
           "#B6E880",
           "#FF97FF",
           "#FECB52"
          ],
          "font": {
           "color": "#2a3f5f"
          },
          "geo": {
           "bgcolor": "white",
           "lakecolor": "white",
           "landcolor": "#E5ECF6",
           "showlakes": true,
           "showland": true,
           "subunitcolor": "white"
          },
          "hoverlabel": {
           "align": "left"
          },
          "hovermode": "closest",
          "mapbox": {
           "style": "light"
          },
          "paper_bgcolor": "white",
          "plot_bgcolor": "#E5ECF6",
          "polar": {
           "angularaxis": {
            "gridcolor": "white",
            "linecolor": "white",
            "ticks": ""
           },
           "bgcolor": "#E5ECF6",
           "radialaxis": {
            "gridcolor": "white",
            "linecolor": "white",
            "ticks": ""
           }
          },
          "scene": {
           "xaxis": {
            "backgroundcolor": "#E5ECF6",
            "gridcolor": "white",
            "gridwidth": 2,
            "linecolor": "white",
            "showbackground": true,
            "ticks": "",
            "zerolinecolor": "white"
           },
           "yaxis": {
            "backgroundcolor": "#E5ECF6",
            "gridcolor": "white",
            "gridwidth": 2,
            "linecolor": "white",
            "showbackground": true,
            "ticks": "",
            "zerolinecolor": "white"
           },
           "zaxis": {
            "backgroundcolor": "#E5ECF6",
            "gridcolor": "white",
            "gridwidth": 2,
            "linecolor": "white",
            "showbackground": true,
            "ticks": "",
            "zerolinecolor": "white"
           }
          },
          "shapedefaults": {
           "line": {
            "color": "#2a3f5f"
           }
          },
          "ternary": {
           "aaxis": {
            "gridcolor": "white",
            "linecolor": "white",
            "ticks": ""
           },
           "baxis": {
            "gridcolor": "white",
            "linecolor": "white",
            "ticks": ""
           },
           "bgcolor": "#E5ECF6",
           "caxis": {
            "gridcolor": "white",
            "linecolor": "white",
            "ticks": ""
           }
          },
          "title": {
           "x": 0.05
          },
          "xaxis": {
           "automargin": true,
           "gridcolor": "white",
           "linecolor": "white",
           "ticks": "",
           "title": {
            "standoff": 15
           },
           "zerolinecolor": "white",
           "zerolinewidth": 2
          },
          "yaxis": {
           "automargin": true,
           "gridcolor": "white",
           "linecolor": "white",
           "ticks": "",
           "title": {
            "standoff": 15
           },
           "zerolinecolor": "white",
           "zerolinewidth": 2
          }
         }
        },
        "title": {
         "text": "Subgraph of active sites and their neighbors (K353Q)"
        },
        "width": 620
       }
      }
     },
     "metadata": {},
     "output_type": "display_data"
    },
    {
     "data": {
      "application/vnd.plotly.v1+json": {
       "config": {
        "plotlyServerURL": "https://plot.ly"
       },
       "data": [
        {
         "hoverinfo": "text+x+y+z",
         "marker": {
          "color": [
           [
            0.362553,
            0.003243,
            0.649245,
            1
           ],
           [
            0.928329,
            0.472975,
            0.326067,
            1
           ],
           [
            0.798216,
            0.280197,
            0.469538,
            1
           ],
           [
            0.798216,
            0.280197,
            0.469538,
            1
           ],
           [
            0.610667,
            0.090204,
            0.619951,
            1
           ],
           [
            0.993814,
            0.704741,
            0.183043,
            1
           ],
           [
            0.993814,
            0.704741,
            0.183043,
            1
           ],
           [
            0.928329,
            0.472975,
            0.326067,
            1
           ],
           [
            0.610667,
            0.090204,
            0.619951,
            1
           ],
           [
            0.798216,
            0.280197,
            0.469538,
            1
           ],
           [
            0.610667,
            0.090204,
            0.619951,
            1
           ],
           [
            0.798216,
            0.280197,
            0.469538,
            1
           ],
           [
            0.928329,
            0.472975,
            0.326067,
            1
           ],
           [
            0.362553,
            0.003243,
            0.649245,
            1
           ],
           [
            0.362553,
            0.003243,
            0.649245,
            1
           ],
           [
            0.362553,
            0.003243,
            0.649245,
            1
           ],
           [
            0.362553,
            0.003243,
            0.649245,
            1
           ],
           [
            0.610667,
            0.090204,
            0.619951,
            1
           ],
           [
            0.362553,
            0.003243,
            0.649245,
            1
           ]
          ],
          "opacity": 0.7,
          "size": [
           21,
           24,
           23,
           23,
           22,
           25,
           25,
           24,
           22,
           23,
           22,
           23,
           24,
           21,
           21,
           21,
           21,
           22,
           21
          ],
          "symbol": "circle"
         },
         "mode": "markers",
         "text": [
          "A:ARG:336",
          "A:HIS:335",
          "A:ASP:294",
          "A:TRP:427",
          "A:ALA:293",
          "A:GLU:341",
          "A:HIS:365",
          "A:TYR:333",
          "A:LEU:364",
          "A:TYR:334",
          "A:TYR:423",
          "A:HIS:371",
          "A:HIS:292",
          "A:SER:366",
          "A:ASP:291",
          "A:SER:340",
          "A:GLY:372",
          "A:PHE:342",
          "A:PRO:370"
         ],
         "type": "scatter3d",
         "x": [
          21.156,
          21.609,
          11.57,
          28.953,
          11.602,
          13.133,
          17.844,
          20.234,
          16.062,
          22.812,
          24.953,
          22.547,
          14.703,
          17.688,
          15.938,
          13.602,
          21.875,
          11.93,
          23.781
         ],
         "y": [
          8.789,
          6.348,
          5.277,
          -3.406,
          4.035,
          3.934,
          3.436,
          1.899,
          1.075,
          3.146,
          -5.273,
          2.369,
          2.211,
          6.809,
          2.752,
          7.5,
          -0.094,
          1.105,
          5.773
         ],
         "z": [
          -8.75,
          -11.633,
          -16.641,
          -7.352,
          -20.188,
          -3.791,
          -2.238,
          -15.836,
          0.031,
          -13.273,
          -0.221,
          -7.535,
          -21.438,
          -0.555,
          -24.906,
          -2.529,
          -10.43,
          -1.614,
          -6.648
         ]
        },
        {
         "hoverinfo": "text",
         "line": {
          "color": [
           [
            0.95547,
            0.533093,
            0.28549,
            1
           ],
           [
            0.95547,
            0.533093,
            0.28549,
            1
           ],
           [
            0.95547,
            0.533093,
            0.28549,
            1
           ],
           [
            0.723444,
            0.196158,
            0.538981,
            1
           ],
           [
            0.723444,
            0.196158,
            0.538981,
            1
           ],
           [
            0.723444,
            0.196158,
            0.538981,
            1
           ],
           [
            0.95547,
            0.533093,
            0.28549,
            1
           ],
           [
            0.95547,
            0.533093,
            0.28549,
            1
           ],
           [
            0.95547,
            0.533093,
            0.28549,
            1
           ],
           [
            0.546157,
            0.038954,
            0.64701,
            1
           ],
           [
            0.546157,
            0.038954,
            0.64701,
            1
           ],
           [
            0.546157,
            0.038954,
            0.64701,
            1
           ],
           [
            0.546157,
            0.038954,
            0.64701,
            1
           ],
           [
            0.546157,
            0.038954,
            0.64701,
            1
           ],
           [
            0.546157,
            0.038954,
            0.64701,
            1
           ],
           [
            0.95547,
            0.533093,
            0.28549,
            1
           ],
           [
            0.95547,
            0.533093,
            0.28549,
            1
           ],
           [
            0.95547,
            0.533093,
            0.28549,
            1
           ],
           [
            0.32515,
            0.006915,
            0.639512,
            1
           ],
           [
            0.32515,
            0.006915,
            0.639512,
            1
           ],
           [
            0.32515,
            0.006915,
            0.639512,
            1
           ],
           [
            0.85975,
            0.360588,
            0.406917,
            1
           ],
           [
            0.85975,
            0.360588,
            0.406917,
            1
           ],
           [
            0.85975,
            0.360588,
            0.406917,
            1
           ],
           [
            0.723444,
            0.196158,
            0.538981,
            1
           ],
           [
            0.723444,
            0.196158,
            0.538981,
            1
           ],
           [
            0.723444,
            0.196158,
            0.538981,
            1
           ],
           [
            0.050383,
            0.029803,
            0.527975,
            1
           ],
           [
            0.050383,
            0.029803,
            0.527975,
            1
           ],
           [
            0.050383,
            0.029803,
            0.527975,
            1
           ],
           [
            0.95547,
            0.533093,
            0.28549,
            1
           ],
           [
            0.95547,
            0.533093,
            0.28549,
            1
           ],
           [
            0.95547,
            0.533093,
            0.28549,
            1
           ],
           [
            0.95547,
            0.533093,
            0.28549,
            1
           ],
           [
            0.95547,
            0.533093,
            0.28549,
            1
           ],
           [
            0.95547,
            0.533093,
            0.28549,
            1
           ],
           [
            0.546157,
            0.038954,
            0.64701,
            1
           ],
           [
            0.546157,
            0.038954,
            0.64701,
            1
           ],
           [
            0.546157,
            0.038954,
            0.64701,
            1
           ],
           [
            0.546157,
            0.038954,
            0.64701,
            1
           ],
           [
            0.546157,
            0.038954,
            0.64701,
            1
           ],
           [
            0.546157,
            0.038954,
            0.64701,
            1
           ],
           [
            0.95547,
            0.533093,
            0.28549,
            1
           ],
           [
            0.95547,
            0.533093,
            0.28549,
            1
           ],
           [
            0.95547,
            0.533093,
            0.28549,
            1
           ],
           [
            0.95547,
            0.533093,
            0.28549,
            1
           ],
           [
            0.95547,
            0.533093,
            0.28549,
            1
           ],
           [
            0.95547,
            0.533093,
            0.28549,
            1
           ],
           [
            0.723444,
            0.196158,
            0.538981,
            1
           ],
           [
            0.723444,
            0.196158,
            0.538981,
            1
           ],
           [
            0.723444,
            0.196158,
            0.538981,
            1
           ],
           [
            0.95547,
            0.533093,
            0.28549,
            1
           ],
           [
            0.95547,
            0.533093,
            0.28549,
            1
           ],
           [
            0.95547,
            0.533093,
            0.28549,
            1
           ],
           [
            0.723444,
            0.196158,
            0.538981,
            1
           ],
           [
            0.723444,
            0.196158,
            0.538981,
            1
           ],
           [
            0.723444,
            0.196158,
            0.538981,
            1
           ],
           [
            0.95547,
            0.533093,
            0.28549,
            1
           ],
           [
            0.95547,
            0.533093,
            0.28549,
            1
           ],
           [
            0.95547,
            0.533093,
            0.28549,
            1
           ],
           [
            0.85975,
            0.360588,
            0.406917,
            1
           ],
           [
            0.85975,
            0.360588,
            0.406917,
            1
           ],
           [
            0.85975,
            0.360588,
            0.406917,
            1
           ],
           [
            0.95547,
            0.533093,
            0.28549,
            1
           ],
           [
            0.95547,
            0.533093,
            0.28549,
            1
           ],
           [
            0.95547,
            0.533093,
            0.28549,
            1
           ],
           [
            0.95547,
            0.533093,
            0.28549,
            1
           ],
           [
            0.95547,
            0.533093,
            0.28549,
            1
           ],
           [
            0.95547,
            0.533093,
            0.28549,
            1
           ],
           [
            0.95547,
            0.533093,
            0.28549,
            1
           ],
           [
            0.95547,
            0.533093,
            0.28549,
            1
           ],
           [
            0.95547,
            0.533093,
            0.28549,
            1
           ]
          ],
          "width": 10
         },
         "mode": "lines",
         "text": [
          "peptide_bond",
          "peptide_bond",
          "peptide_bond",
          "aromatic",
          "aromatic",
          "aromatic",
          "peptide_bond",
          "peptide_bond",
          "peptide_bond",
          "ionic",
          "ionic",
          "ionic",
          "ionic",
          "ionic",
          "ionic",
          "peptide_bond",
          "peptide_bond",
          "peptide_bond",
          "hbond",
          "hbond",
          "hbond",
          "hydrophobic",
          "hydrophobic",
          "hydrophobic",
          "aromatic",
          "aromatic",
          "aromatic",
          "hydrophobic / aromatic",
          "hydrophobic / aromatic",
          "hydrophobic / aromatic",
          "peptide_bond",
          "peptide_bond",
          "peptide_bond",
          "peptide_bond",
          "peptide_bond",
          "peptide_bond",
          "ionic",
          "ionic",
          "ionic",
          "ionic",
          "ionic",
          "ionic",
          "peptide_bond",
          "peptide_bond",
          "peptide_bond",
          "peptide_bond",
          "peptide_bond",
          "peptide_bond",
          "aromatic",
          "aromatic",
          "aromatic",
          "peptide_bond",
          "peptide_bond",
          "peptide_bond",
          "aromatic",
          "aromatic",
          "aromatic",
          "peptide_bond",
          "peptide_bond",
          "peptide_bond",
          "hydrophobic",
          "hydrophobic",
          "hydrophobic",
          "peptide_bond",
          "peptide_bond",
          "peptide_bond",
          "peptide_bond",
          "peptide_bond",
          "peptide_bond",
          "peptide_bond",
          "peptide_bond",
          "peptide_bond"
         ],
         "type": "scatter3d",
         "x": [
          21.156,
          21.609,
          null,
          21.609,
          20.234,
          null,
          21.609,
          22.812,
          null,
          21.609,
          13.133,
          null,
          11.57,
          14.703,
          null,
          11.57,
          11.602,
          null,
          11.57,
          20.234,
          null,
          28.953,
          22.812,
          null,
          28.953,
          17.844,
          null,
          28.953,
          24.953,
          null,
          11.602,
          14.703,
          null,
          13.133,
          13.602,
          null,
          13.133,
          22.547,
          null,
          13.133,
          17.844,
          null,
          13.133,
          11.93,
          null,
          17.844,
          16.062,
          null,
          17.844,
          24.953,
          null,
          17.844,
          17.688,
          null,
          20.234,
          14.703,
          null,
          20.234,
          22.812,
          null,
          16.062,
          11.93,
          null,
          22.547,
          23.781,
          null,
          22.547,
          21.875,
          null,
          14.703,
          15.938,
          null
         ],
         "y": [
          8.789,
          6.348,
          null,
          6.348,
          1.899,
          null,
          6.348,
          3.146,
          null,
          6.348,
          3.934,
          null,
          5.277,
          2.211,
          null,
          5.277,
          4.035,
          null,
          5.277,
          1.899,
          null,
          -3.406,
          3.146,
          null,
          -3.406,
          3.436,
          null,
          -3.406,
          -5.273,
          null,
          4.035,
          2.211,
          null,
          3.934,
          7.5,
          null,
          3.934,
          2.369,
          null,
          3.934,
          3.436,
          null,
          3.934,
          1.105,
          null,
          3.436,
          1.075,
          null,
          3.436,
          -5.273,
          null,
          3.436,
          6.809,
          null,
          1.899,
          2.211,
          null,
          1.899,
          3.146,
          null,
          1.075,
          1.105,
          null,
          2.369,
          5.773,
          null,
          2.369,
          -0.094,
          null,
          2.211,
          2.752,
          null
         ],
         "z": [
          -8.75,
          -11.633,
          null,
          -11.633,
          -15.836,
          null,
          -11.633,
          -13.273,
          null,
          -11.633,
          -3.791,
          null,
          -16.641,
          -21.438,
          null,
          -16.641,
          -20.188,
          null,
          -16.641,
          -15.836,
          null,
          -7.352,
          -13.273,
          null,
          -7.352,
          -2.238,
          null,
          -7.352,
          -0.221,
          null,
          -20.188,
          -21.438,
          null,
          -3.791,
          -2.529,
          null,
          -3.791,
          -7.535,
          null,
          -3.791,
          -2.238,
          null,
          -3.791,
          -1.614,
          null,
          -2.238,
          0.031,
          null,
          -2.238,
          -0.221,
          null,
          -2.238,
          -0.555,
          null,
          -15.836,
          -21.438,
          null,
          -15.836,
          -13.273,
          null,
          0.031,
          -1.614,
          null,
          -7.535,
          -6.648,
          null,
          -7.535,
          -10.43,
          null,
          -21.438,
          -24.906,
          null
         ]
        }
       ],
       "layout": {
        "height": 650,
        "margin": {
         "t": 100
        },
        "scene": {
         "xaxis": {
          "showbackground": false,
          "showgrid": false,
          "showline": false,
          "showticklabels": false,
          "title": {
           "text": ""
          },
          "zeroline": false
         },
         "yaxis": {
          "showbackground": false,
          "showgrid": false,
          "showline": false,
          "showticklabels": false,
          "title": {
           "text": ""
          },
          "zeroline": false
         },
         "zaxis": {
          "showbackground": false,
          "showgrid": false,
          "showline": false,
          "showticklabels": false,
          "title": {
           "text": ""
          },
          "zeroline": false
         }
        },
        "showlegend": false,
        "template": {
         "data": {
          "bar": [
           {
            "error_x": {
             "color": "#2a3f5f"
            },
            "error_y": {
             "color": "#2a3f5f"
            },
            "marker": {
             "line": {
              "color": "#E5ECF6",
              "width": 0.5
             },
             "pattern": {
              "fillmode": "overlay",
              "size": 10,
              "solidity": 0.2
             }
            },
            "type": "bar"
           }
          ],
          "barpolar": [
           {
            "marker": {
             "line": {
              "color": "#E5ECF6",
              "width": 0.5
             },
             "pattern": {
              "fillmode": "overlay",
              "size": 10,
              "solidity": 0.2
             }
            },
            "type": "barpolar"
           }
          ],
          "carpet": [
           {
            "aaxis": {
             "endlinecolor": "#2a3f5f",
             "gridcolor": "white",
             "linecolor": "white",
             "minorgridcolor": "white",
             "startlinecolor": "#2a3f5f"
            },
            "baxis": {
             "endlinecolor": "#2a3f5f",
             "gridcolor": "white",
             "linecolor": "white",
             "minorgridcolor": "white",
             "startlinecolor": "#2a3f5f"
            },
            "type": "carpet"
           }
          ],
          "choropleth": [
           {
            "colorbar": {
             "outlinewidth": 0,
             "ticks": ""
            },
            "type": "choropleth"
           }
          ],
          "contour": [
           {
            "colorbar": {
             "outlinewidth": 0,
             "ticks": ""
            },
            "colorscale": [
             [
              0,
              "#0d0887"
             ],
             [
              0.1111111111111111,
              "#46039f"
             ],
             [
              0.2222222222222222,
              "#7201a8"
             ],
             [
              0.3333333333333333,
              "#9c179e"
             ],
             [
              0.4444444444444444,
              "#bd3786"
             ],
             [
              0.5555555555555556,
              "#d8576b"
             ],
             [
              0.6666666666666666,
              "#ed7953"
             ],
             [
              0.7777777777777778,
              "#fb9f3a"
             ],
             [
              0.8888888888888888,
              "#fdca26"
             ],
             [
              1,
              "#f0f921"
             ]
            ],
            "type": "contour"
           }
          ],
          "contourcarpet": [
           {
            "colorbar": {
             "outlinewidth": 0,
             "ticks": ""
            },
            "type": "contourcarpet"
           }
          ],
          "heatmap": [
           {
            "colorbar": {
             "outlinewidth": 0,
             "ticks": ""
            },
            "colorscale": [
             [
              0,
              "#0d0887"
             ],
             [
              0.1111111111111111,
              "#46039f"
             ],
             [
              0.2222222222222222,
              "#7201a8"
             ],
             [
              0.3333333333333333,
              "#9c179e"
             ],
             [
              0.4444444444444444,
              "#bd3786"
             ],
             [
              0.5555555555555556,
              "#d8576b"
             ],
             [
              0.6666666666666666,
              "#ed7953"
             ],
             [
              0.7777777777777778,
              "#fb9f3a"
             ],
             [
              0.8888888888888888,
              "#fdca26"
             ],
             [
              1,
              "#f0f921"
             ]
            ],
            "type": "heatmap"
           }
          ],
          "heatmapgl": [
           {
            "colorbar": {
             "outlinewidth": 0,
             "ticks": ""
            },
            "colorscale": [
             [
              0,
              "#0d0887"
             ],
             [
              0.1111111111111111,
              "#46039f"
             ],
             [
              0.2222222222222222,
              "#7201a8"
             ],
             [
              0.3333333333333333,
              "#9c179e"
             ],
             [
              0.4444444444444444,
              "#bd3786"
             ],
             [
              0.5555555555555556,
              "#d8576b"
             ],
             [
              0.6666666666666666,
              "#ed7953"
             ],
             [
              0.7777777777777778,
              "#fb9f3a"
             ],
             [
              0.8888888888888888,
              "#fdca26"
             ],
             [
              1,
              "#f0f921"
             ]
            ],
            "type": "heatmapgl"
           }
          ],
          "histogram": [
           {
            "marker": {
             "pattern": {
              "fillmode": "overlay",
              "size": 10,
              "solidity": 0.2
             }
            },
            "type": "histogram"
           }
          ],
          "histogram2d": [
           {
            "colorbar": {
             "outlinewidth": 0,
             "ticks": ""
            },
            "colorscale": [
             [
              0,
              "#0d0887"
             ],
             [
              0.1111111111111111,
              "#46039f"
             ],
             [
              0.2222222222222222,
              "#7201a8"
             ],
             [
              0.3333333333333333,
              "#9c179e"
             ],
             [
              0.4444444444444444,
              "#bd3786"
             ],
             [
              0.5555555555555556,
              "#d8576b"
             ],
             [
              0.6666666666666666,
              "#ed7953"
             ],
             [
              0.7777777777777778,
              "#fb9f3a"
             ],
             [
              0.8888888888888888,
              "#fdca26"
             ],
             [
              1,
              "#f0f921"
             ]
            ],
            "type": "histogram2d"
           }
          ],
          "histogram2dcontour": [
           {
            "colorbar": {
             "outlinewidth": 0,
             "ticks": ""
            },
            "colorscale": [
             [
              0,
              "#0d0887"
             ],
             [
              0.1111111111111111,
              "#46039f"
             ],
             [
              0.2222222222222222,
              "#7201a8"
             ],
             [
              0.3333333333333333,
              "#9c179e"
             ],
             [
              0.4444444444444444,
              "#bd3786"
             ],
             [
              0.5555555555555556,
              "#d8576b"
             ],
             [
              0.6666666666666666,
              "#ed7953"
             ],
             [
              0.7777777777777778,
              "#fb9f3a"
             ],
             [
              0.8888888888888888,
              "#fdca26"
             ],
             [
              1,
              "#f0f921"
             ]
            ],
            "type": "histogram2dcontour"
           }
          ],
          "mesh3d": [
           {
            "colorbar": {
             "outlinewidth": 0,
             "ticks": ""
            },
            "type": "mesh3d"
           }
          ],
          "parcoords": [
           {
            "line": {
             "colorbar": {
              "outlinewidth": 0,
              "ticks": ""
             }
            },
            "type": "parcoords"
           }
          ],
          "pie": [
           {
            "automargin": true,
            "type": "pie"
           }
          ],
          "scatter": [
           {
            "fillpattern": {
             "fillmode": "overlay",
             "size": 10,
             "solidity": 0.2
            },
            "type": "scatter"
           }
          ],
          "scatter3d": [
           {
            "line": {
             "colorbar": {
              "outlinewidth": 0,
              "ticks": ""
             }
            },
            "marker": {
             "colorbar": {
              "outlinewidth": 0,
              "ticks": ""
             }
            },
            "type": "scatter3d"
           }
          ],
          "scattercarpet": [
           {
            "marker": {
             "colorbar": {
              "outlinewidth": 0,
              "ticks": ""
             }
            },
            "type": "scattercarpet"
           }
          ],
          "scattergeo": [
           {
            "marker": {
             "colorbar": {
              "outlinewidth": 0,
              "ticks": ""
             }
            },
            "type": "scattergeo"
           }
          ],
          "scattergl": [
           {
            "marker": {
             "colorbar": {
              "outlinewidth": 0,
              "ticks": ""
             }
            },
            "type": "scattergl"
           }
          ],
          "scattermapbox": [
           {
            "marker": {
             "colorbar": {
              "outlinewidth": 0,
              "ticks": ""
             }
            },
            "type": "scattermapbox"
           }
          ],
          "scatterpolar": [
           {
            "marker": {
             "colorbar": {
              "outlinewidth": 0,
              "ticks": ""
             }
            },
            "type": "scatterpolar"
           }
          ],
          "scatterpolargl": [
           {
            "marker": {
             "colorbar": {
              "outlinewidth": 0,
              "ticks": ""
             }
            },
            "type": "scatterpolargl"
           }
          ],
          "scatterternary": [
           {
            "marker": {
             "colorbar": {
              "outlinewidth": 0,
              "ticks": ""
             }
            },
            "type": "scatterternary"
           }
          ],
          "surface": [
           {
            "colorbar": {
             "outlinewidth": 0,
             "ticks": ""
            },
            "colorscale": [
             [
              0,
              "#0d0887"
             ],
             [
              0.1111111111111111,
              "#46039f"
             ],
             [
              0.2222222222222222,
              "#7201a8"
             ],
             [
              0.3333333333333333,
              "#9c179e"
             ],
             [
              0.4444444444444444,
              "#bd3786"
             ],
             [
              0.5555555555555556,
              "#d8576b"
             ],
             [
              0.6666666666666666,
              "#ed7953"
             ],
             [
              0.7777777777777778,
              "#fb9f3a"
             ],
             [
              0.8888888888888888,
              "#fdca26"
             ],
             [
              1,
              "#f0f921"
             ]
            ],
            "type": "surface"
           }
          ],
          "table": [
           {
            "cells": {
             "fill": {
              "color": "#EBF0F8"
             },
             "line": {
              "color": "white"
             }
            },
            "header": {
             "fill": {
              "color": "#C8D4E3"
             },
             "line": {
              "color": "white"
             }
            },
            "type": "table"
           }
          ]
         },
         "layout": {
          "annotationdefaults": {
           "arrowcolor": "#2a3f5f",
           "arrowhead": 0,
           "arrowwidth": 1
          },
          "autotypenumbers": "strict",
          "coloraxis": {
           "colorbar": {
            "outlinewidth": 0,
            "ticks": ""
           }
          },
          "colorscale": {
           "diverging": [
            [
             0,
             "#8e0152"
            ],
            [
             0.1,
             "#c51b7d"
            ],
            [
             0.2,
             "#de77ae"
            ],
            [
             0.3,
             "#f1b6da"
            ],
            [
             0.4,
             "#fde0ef"
            ],
            [
             0.5,
             "#f7f7f7"
            ],
            [
             0.6,
             "#e6f5d0"
            ],
            [
             0.7,
             "#b8e186"
            ],
            [
             0.8,
             "#7fbc41"
            ],
            [
             0.9,
             "#4d9221"
            ],
            [
             1,
             "#276419"
            ]
           ],
           "sequential": [
            [
             0,
             "#0d0887"
            ],
            [
             0.1111111111111111,
             "#46039f"
            ],
            [
             0.2222222222222222,
             "#7201a8"
            ],
            [
             0.3333333333333333,
             "#9c179e"
            ],
            [
             0.4444444444444444,
             "#bd3786"
            ],
            [
             0.5555555555555556,
             "#d8576b"
            ],
            [
             0.6666666666666666,
             "#ed7953"
            ],
            [
             0.7777777777777778,
             "#fb9f3a"
            ],
            [
             0.8888888888888888,
             "#fdca26"
            ],
            [
             1,
             "#f0f921"
            ]
           ],
           "sequentialminus": [
            [
             0,
             "#0d0887"
            ],
            [
             0.1111111111111111,
             "#46039f"
            ],
            [
             0.2222222222222222,
             "#7201a8"
            ],
            [
             0.3333333333333333,
             "#9c179e"
            ],
            [
             0.4444444444444444,
             "#bd3786"
            ],
            [
             0.5555555555555556,
             "#d8576b"
            ],
            [
             0.6666666666666666,
             "#ed7953"
            ],
            [
             0.7777777777777778,
             "#fb9f3a"
            ],
            [
             0.8888888888888888,
             "#fdca26"
            ],
            [
             1,
             "#f0f921"
            ]
           ]
          },
          "colorway": [
           "#636efa",
           "#EF553B",
           "#00cc96",
           "#ab63fa",
           "#FFA15A",
           "#19d3f3",
           "#FF6692",
           "#B6E880",
           "#FF97FF",
           "#FECB52"
          ],
          "font": {
           "color": "#2a3f5f"
          },
          "geo": {
           "bgcolor": "white",
           "lakecolor": "white",
           "landcolor": "#E5ECF6",
           "showlakes": true,
           "showland": true,
           "subunitcolor": "white"
          },
          "hoverlabel": {
           "align": "left"
          },
          "hovermode": "closest",
          "mapbox": {
           "style": "light"
          },
          "paper_bgcolor": "white",
          "plot_bgcolor": "#E5ECF6",
          "polar": {
           "angularaxis": {
            "gridcolor": "white",
            "linecolor": "white",
            "ticks": ""
           },
           "bgcolor": "#E5ECF6",
           "radialaxis": {
            "gridcolor": "white",
            "linecolor": "white",
            "ticks": ""
           }
          },
          "scene": {
           "xaxis": {
            "backgroundcolor": "#E5ECF6",
            "gridcolor": "white",
            "gridwidth": 2,
            "linecolor": "white",
            "showbackground": true,
            "ticks": "",
            "zerolinecolor": "white"
           },
           "yaxis": {
            "backgroundcolor": "#E5ECF6",
            "gridcolor": "white",
            "gridwidth": 2,
            "linecolor": "white",
            "showbackground": true,
            "ticks": "",
            "zerolinecolor": "white"
           },
           "zaxis": {
            "backgroundcolor": "#E5ECF6",
            "gridcolor": "white",
            "gridwidth": 2,
            "linecolor": "white",
            "showbackground": true,
            "ticks": "",
            "zerolinecolor": "white"
           }
          },
          "shapedefaults": {
           "line": {
            "color": "#2a3f5f"
           }
          },
          "ternary": {
           "aaxis": {
            "gridcolor": "white",
            "linecolor": "white",
            "ticks": ""
           },
           "baxis": {
            "gridcolor": "white",
            "linecolor": "white",
            "ticks": ""
           },
           "bgcolor": "#E5ECF6",
           "caxis": {
            "gridcolor": "white",
            "linecolor": "white",
            "ticks": ""
           }
          },
          "title": {
           "x": 0.05
          },
          "xaxis": {
           "automargin": true,
           "gridcolor": "white",
           "linecolor": "white",
           "ticks": "",
           "title": {
            "standoff": 15
           },
           "zerolinecolor": "white",
           "zerolinewidth": 2
          },
          "yaxis": {
           "automargin": true,
           "gridcolor": "white",
           "linecolor": "white",
           "ticks": "",
           "title": {
            "standoff": 15
           },
           "zerolinecolor": "white",
           "zerolinewidth": 2
          }
         }
        },
        "title": {
         "text": "Subgraph of active sites and their neighbors (E401Q)"
        },
        "width": 620
       }
      }
     },
     "metadata": {},
     "output_type": "display_data"
    },
    {
     "data": {
      "application/vnd.plotly.v1+json": {
       "config": {
        "plotlyServerURL": "https://plot.ly"
       },
       "data": [
        {
         "hoverinfo": "text+x+y+z",
         "marker": {
          "color": [
           [
            0.362553,
            0.003243,
            0.649245,
            1
           ],
           [
            0.928329,
            0.472975,
            0.326067,
            1
           ],
           [
            0.798216,
            0.280197,
            0.469538,
            1
           ],
           [
            0.798216,
            0.280197,
            0.469538,
            1
           ],
           [
            0.610667,
            0.090204,
            0.619951,
            1
           ],
           [
            0.993814,
            0.704741,
            0.183043,
            1
           ],
           [
            0.993814,
            0.704741,
            0.183043,
            1
           ],
           [
            0.928329,
            0.472975,
            0.326067,
            1
           ],
           [
            0.610667,
            0.090204,
            0.619951,
            1
           ],
           [
            0.798216,
            0.280197,
            0.469538,
            1
           ],
           [
            0.610667,
            0.090204,
            0.619951,
            1
           ],
           [
            0.798216,
            0.280197,
            0.469538,
            1
           ],
           [
            0.928329,
            0.472975,
            0.326067,
            1
           ],
           [
            0.362553,
            0.003243,
            0.649245,
            1
           ],
           [
            0.362553,
            0.003243,
            0.649245,
            1
           ],
           [
            0.362553,
            0.003243,
            0.649245,
            1
           ],
           [
            0.362553,
            0.003243,
            0.649245,
            1
           ],
           [
            0.610667,
            0.090204,
            0.619951,
            1
           ],
           [
            0.362553,
            0.003243,
            0.649245,
            1
           ]
          ],
          "opacity": 0.7,
          "size": [
           21,
           24,
           23,
           23,
           22,
           25,
           25,
           24,
           22,
           23,
           22,
           23,
           24,
           21,
           21,
           21,
           21,
           22,
           21
          ],
          "symbol": "circle"
         },
         "mode": "markers",
         "text": [
          "A:ARG:336",
          "A:HIS:335",
          "A:ASP:294",
          "A:TRP:427",
          "A:ALA:293",
          "A:GLU:341",
          "A:HIS:365",
          "A:TYR:333",
          "A:LEU:364",
          "A:TYR:334",
          "A:TYR:423",
          "A:HIS:371",
          "A:HIS:292",
          "A:SER:366",
          "A:ASP:291",
          "A:SER:340",
          "A:GLY:372",
          "A:PHE:342",
          "A:PRO:370"
         ],
         "type": "scatter3d",
         "x": [
          21.625,
          21.984,
          11.734,
          29.188,
          11.445,
          13.469,
          18.219,
          20.656,
          16.375,
          23.188,
          25.109,
          22.891,
          14.516,
          18.156,
          16.078,
          14.055,
          22.219,
          12.219,
          24.188
         ],
         "y": [
          8.492,
          6.133,
          5.582,
          -3.807,
          4.5,
          3.852,
          3.162,
          1.847,
          0.79,
          2.992,
          -5.746,
          2.02,
          2.803,
          6.504,
          2.998,
          7.348,
          -0.341,
          0.965,
          5.371
         ],
         "z": [
          -8.875,
          -11.844,
          -16.812,
          -7.77,
          -20.453,
          -3.98,
          -2.475,
          -16.234,
          -0.267,
          -13.602,
          -0.686,
          -7.887,
          -21.766,
          -0.708,
          -25.156,
          -2.594,
          -10.883,
          -1.858,
          -6.906
         ]
        },
        {
         "hoverinfo": "text",
         "line": {
          "color": [
           [
            0.95547,
            0.533093,
            0.28549,
            1
           ],
           [
            0.95547,
            0.533093,
            0.28549,
            1
           ],
           [
            0.95547,
            0.533093,
            0.28549,
            1
           ],
           [
            0.723444,
            0.196158,
            0.538981,
            1
           ],
           [
            0.723444,
            0.196158,
            0.538981,
            1
           ],
           [
            0.723444,
            0.196158,
            0.538981,
            1
           ],
           [
            0.95547,
            0.533093,
            0.28549,
            1
           ],
           [
            0.95547,
            0.533093,
            0.28549,
            1
           ],
           [
            0.95547,
            0.533093,
            0.28549,
            1
           ],
           [
            0.546157,
            0.038954,
            0.64701,
            1
           ],
           [
            0.546157,
            0.038954,
            0.64701,
            1
           ],
           [
            0.546157,
            0.038954,
            0.64701,
            1
           ],
           [
            0.546157,
            0.038954,
            0.64701,
            1
           ],
           [
            0.546157,
            0.038954,
            0.64701,
            1
           ],
           [
            0.546157,
            0.038954,
            0.64701,
            1
           ],
           [
            0.95547,
            0.533093,
            0.28549,
            1
           ],
           [
            0.95547,
            0.533093,
            0.28549,
            1
           ],
           [
            0.95547,
            0.533093,
            0.28549,
            1
           ],
           [
            0.32515,
            0.006915,
            0.639512,
            1
           ],
           [
            0.32515,
            0.006915,
            0.639512,
            1
           ],
           [
            0.32515,
            0.006915,
            0.639512,
            1
           ],
           [
            0.85975,
            0.360588,
            0.406917,
            1
           ],
           [
            0.85975,
            0.360588,
            0.406917,
            1
           ],
           [
            0.85975,
            0.360588,
            0.406917,
            1
           ],
           [
            0.723444,
            0.196158,
            0.538981,
            1
           ],
           [
            0.723444,
            0.196158,
            0.538981,
            1
           ],
           [
            0.723444,
            0.196158,
            0.538981,
            1
           ],
           [
            0.050383,
            0.029803,
            0.527975,
            1
           ],
           [
            0.050383,
            0.029803,
            0.527975,
            1
           ],
           [
            0.050383,
            0.029803,
            0.527975,
            1
           ],
           [
            0.95547,
            0.533093,
            0.28549,
            1
           ],
           [
            0.95547,
            0.533093,
            0.28549,
            1
           ],
           [
            0.95547,
            0.533093,
            0.28549,
            1
           ],
           [
            0.95547,
            0.533093,
            0.28549,
            1
           ],
           [
            0.95547,
            0.533093,
            0.28549,
            1
           ],
           [
            0.95547,
            0.533093,
            0.28549,
            1
           ],
           [
            0.546157,
            0.038954,
            0.64701,
            1
           ],
           [
            0.546157,
            0.038954,
            0.64701,
            1
           ],
           [
            0.546157,
            0.038954,
            0.64701,
            1
           ],
           [
            0.546157,
            0.038954,
            0.64701,
            1
           ],
           [
            0.546157,
            0.038954,
            0.64701,
            1
           ],
           [
            0.546157,
            0.038954,
            0.64701,
            1
           ],
           [
            0.95547,
            0.533093,
            0.28549,
            1
           ],
           [
            0.95547,
            0.533093,
            0.28549,
            1
           ],
           [
            0.95547,
            0.533093,
            0.28549,
            1
           ],
           [
            0.95547,
            0.533093,
            0.28549,
            1
           ],
           [
            0.95547,
            0.533093,
            0.28549,
            1
           ],
           [
            0.95547,
            0.533093,
            0.28549,
            1
           ],
           [
            0.723444,
            0.196158,
            0.538981,
            1
           ],
           [
            0.723444,
            0.196158,
            0.538981,
            1
           ],
           [
            0.723444,
            0.196158,
            0.538981,
            1
           ],
           [
            0.95547,
            0.533093,
            0.28549,
            1
           ],
           [
            0.95547,
            0.533093,
            0.28549,
            1
           ],
           [
            0.95547,
            0.533093,
            0.28549,
            1
           ],
           [
            0.723444,
            0.196158,
            0.538981,
            1
           ],
           [
            0.723444,
            0.196158,
            0.538981,
            1
           ],
           [
            0.723444,
            0.196158,
            0.538981,
            1
           ],
           [
            0.95547,
            0.533093,
            0.28549,
            1
           ],
           [
            0.95547,
            0.533093,
            0.28549,
            1
           ],
           [
            0.95547,
            0.533093,
            0.28549,
            1
           ],
           [
            0.85975,
            0.360588,
            0.406917,
            1
           ],
           [
            0.85975,
            0.360588,
            0.406917,
            1
           ],
           [
            0.85975,
            0.360588,
            0.406917,
            1
           ],
           [
            0.95547,
            0.533093,
            0.28549,
            1
           ],
           [
            0.95547,
            0.533093,
            0.28549,
            1
           ],
           [
            0.95547,
            0.533093,
            0.28549,
            1
           ],
           [
            0.95547,
            0.533093,
            0.28549,
            1
           ],
           [
            0.95547,
            0.533093,
            0.28549,
            1
           ],
           [
            0.95547,
            0.533093,
            0.28549,
            1
           ],
           [
            0.95547,
            0.533093,
            0.28549,
            1
           ],
           [
            0.95547,
            0.533093,
            0.28549,
            1
           ],
           [
            0.95547,
            0.533093,
            0.28549,
            1
           ]
          ],
          "width": 10
         },
         "mode": "lines",
         "text": [
          "peptide_bond",
          "peptide_bond",
          "peptide_bond",
          "aromatic",
          "aromatic",
          "aromatic",
          "peptide_bond",
          "peptide_bond",
          "peptide_bond",
          "ionic",
          "ionic",
          "ionic",
          "ionic",
          "ionic",
          "ionic",
          "peptide_bond",
          "peptide_bond",
          "peptide_bond",
          "hbond",
          "hbond",
          "hbond",
          "hydrophobic",
          "hydrophobic",
          "hydrophobic",
          "aromatic",
          "aromatic",
          "aromatic",
          "hydrophobic / aromatic",
          "hydrophobic / aromatic",
          "hydrophobic / aromatic",
          "peptide_bond",
          "peptide_bond",
          "peptide_bond",
          "peptide_bond",
          "peptide_bond",
          "peptide_bond",
          "ionic",
          "ionic",
          "ionic",
          "ionic",
          "ionic",
          "ionic",
          "peptide_bond",
          "peptide_bond",
          "peptide_bond",
          "peptide_bond",
          "peptide_bond",
          "peptide_bond",
          "aromatic",
          "aromatic",
          "aromatic",
          "peptide_bond",
          "peptide_bond",
          "peptide_bond",
          "aromatic",
          "aromatic",
          "aromatic",
          "peptide_bond",
          "peptide_bond",
          "peptide_bond",
          "hydrophobic",
          "hydrophobic",
          "hydrophobic",
          "peptide_bond",
          "peptide_bond",
          "peptide_bond",
          "peptide_bond",
          "peptide_bond",
          "peptide_bond",
          "peptide_bond",
          "peptide_bond",
          "peptide_bond"
         ],
         "type": "scatter3d",
         "x": [
          21.625,
          21.984,
          null,
          21.984,
          20.656,
          null,
          21.984,
          23.188,
          null,
          21.984,
          13.469,
          null,
          11.734,
          14.516,
          null,
          11.734,
          11.445,
          null,
          11.734,
          20.656,
          null,
          29.188,
          23.188,
          null,
          29.188,
          18.219,
          null,
          29.188,
          25.109,
          null,
          11.445,
          14.516,
          null,
          13.469,
          14.055,
          null,
          13.469,
          22.891,
          null,
          13.469,
          18.219,
          null,
          13.469,
          12.219,
          null,
          18.219,
          16.375,
          null,
          18.219,
          25.109,
          null,
          18.219,
          18.156,
          null,
          20.656,
          14.516,
          null,
          20.656,
          23.188,
          null,
          16.375,
          12.219,
          null,
          22.891,
          24.188,
          null,
          22.891,
          22.219,
          null,
          14.516,
          16.078,
          null
         ],
         "y": [
          8.492,
          6.133,
          null,
          6.133,
          1.847,
          null,
          6.133,
          2.992,
          null,
          6.133,
          3.852,
          null,
          5.582,
          2.803,
          null,
          5.582,
          4.5,
          null,
          5.582,
          1.847,
          null,
          -3.807,
          2.992,
          null,
          -3.807,
          3.162,
          null,
          -3.807,
          -5.746,
          null,
          4.5,
          2.803,
          null,
          3.852,
          7.348,
          null,
          3.852,
          2.02,
          null,
          3.852,
          3.162,
          null,
          3.852,
          0.965,
          null,
          3.162,
          0.79,
          null,
          3.162,
          -5.746,
          null,
          3.162,
          6.504,
          null,
          1.847,
          2.803,
          null,
          1.847,
          2.992,
          null,
          0.79,
          0.965,
          null,
          2.02,
          5.371,
          null,
          2.02,
          -0.341,
          null,
          2.803,
          2.998,
          null
         ],
         "z": [
          -8.875,
          -11.844,
          null,
          -11.844,
          -16.234,
          null,
          -11.844,
          -13.602,
          null,
          -11.844,
          -3.98,
          null,
          -16.812,
          -21.766,
          null,
          -16.812,
          -20.453,
          null,
          -16.812,
          -16.234,
          null,
          -7.77,
          -13.602,
          null,
          -7.77,
          -2.475,
          null,
          -7.77,
          -0.686,
          null,
          -20.453,
          -21.766,
          null,
          -3.98,
          -2.594,
          null,
          -3.98,
          -7.887,
          null,
          -3.98,
          -2.475,
          null,
          -3.98,
          -1.858,
          null,
          -2.475,
          -0.267,
          null,
          -2.475,
          -0.686,
          null,
          -2.475,
          -0.708,
          null,
          -16.234,
          -21.766,
          null,
          -16.234,
          -13.602,
          null,
          -0.267,
          -1.858,
          null,
          -7.887,
          -6.906,
          null,
          -7.887,
          -10.883,
          null,
          -21.766,
          -25.156,
          null
         ]
        }
       ],
       "layout": {
        "height": 650,
        "margin": {
         "t": 100
        },
        "scene": {
         "xaxis": {
          "showbackground": false,
          "showgrid": false,
          "showline": false,
          "showticklabels": false,
          "title": {
           "text": ""
          },
          "zeroline": false
         },
         "yaxis": {
          "showbackground": false,
          "showgrid": false,
          "showline": false,
          "showticklabels": false,
          "title": {
           "text": ""
          },
          "zeroline": false
         },
         "zaxis": {
          "showbackground": false,
          "showgrid": false,
          "showline": false,
          "showticklabels": false,
          "title": {
           "text": ""
          },
          "zeroline": false
         }
        },
        "showlegend": false,
        "template": {
         "data": {
          "bar": [
           {
            "error_x": {
             "color": "#2a3f5f"
            },
            "error_y": {
             "color": "#2a3f5f"
            },
            "marker": {
             "line": {
              "color": "#E5ECF6",
              "width": 0.5
             },
             "pattern": {
              "fillmode": "overlay",
              "size": 10,
              "solidity": 0.2
             }
            },
            "type": "bar"
           }
          ],
          "barpolar": [
           {
            "marker": {
             "line": {
              "color": "#E5ECF6",
              "width": 0.5
             },
             "pattern": {
              "fillmode": "overlay",
              "size": 10,
              "solidity": 0.2
             }
            },
            "type": "barpolar"
           }
          ],
          "carpet": [
           {
            "aaxis": {
             "endlinecolor": "#2a3f5f",
             "gridcolor": "white",
             "linecolor": "white",
             "minorgridcolor": "white",
             "startlinecolor": "#2a3f5f"
            },
            "baxis": {
             "endlinecolor": "#2a3f5f",
             "gridcolor": "white",
             "linecolor": "white",
             "minorgridcolor": "white",
             "startlinecolor": "#2a3f5f"
            },
            "type": "carpet"
           }
          ],
          "choropleth": [
           {
            "colorbar": {
             "outlinewidth": 0,
             "ticks": ""
            },
            "type": "choropleth"
           }
          ],
          "contour": [
           {
            "colorbar": {
             "outlinewidth": 0,
             "ticks": ""
            },
            "colorscale": [
             [
              0,
              "#0d0887"
             ],
             [
              0.1111111111111111,
              "#46039f"
             ],
             [
              0.2222222222222222,
              "#7201a8"
             ],
             [
              0.3333333333333333,
              "#9c179e"
             ],
             [
              0.4444444444444444,
              "#bd3786"
             ],
             [
              0.5555555555555556,
              "#d8576b"
             ],
             [
              0.6666666666666666,
              "#ed7953"
             ],
             [
              0.7777777777777778,
              "#fb9f3a"
             ],
             [
              0.8888888888888888,
              "#fdca26"
             ],
             [
              1,
              "#f0f921"
             ]
            ],
            "type": "contour"
           }
          ],
          "contourcarpet": [
           {
            "colorbar": {
             "outlinewidth": 0,
             "ticks": ""
            },
            "type": "contourcarpet"
           }
          ],
          "heatmap": [
           {
            "colorbar": {
             "outlinewidth": 0,
             "ticks": ""
            },
            "colorscale": [
             [
              0,
              "#0d0887"
             ],
             [
              0.1111111111111111,
              "#46039f"
             ],
             [
              0.2222222222222222,
              "#7201a8"
             ],
             [
              0.3333333333333333,
              "#9c179e"
             ],
             [
              0.4444444444444444,
              "#bd3786"
             ],
             [
              0.5555555555555556,
              "#d8576b"
             ],
             [
              0.6666666666666666,
              "#ed7953"
             ],
             [
              0.7777777777777778,
              "#fb9f3a"
             ],
             [
              0.8888888888888888,
              "#fdca26"
             ],
             [
              1,
              "#f0f921"
             ]
            ],
            "type": "heatmap"
           }
          ],
          "heatmapgl": [
           {
            "colorbar": {
             "outlinewidth": 0,
             "ticks": ""
            },
            "colorscale": [
             [
              0,
              "#0d0887"
             ],
             [
              0.1111111111111111,
              "#46039f"
             ],
             [
              0.2222222222222222,
              "#7201a8"
             ],
             [
              0.3333333333333333,
              "#9c179e"
             ],
             [
              0.4444444444444444,
              "#bd3786"
             ],
             [
              0.5555555555555556,
              "#d8576b"
             ],
             [
              0.6666666666666666,
              "#ed7953"
             ],
             [
              0.7777777777777778,
              "#fb9f3a"
             ],
             [
              0.8888888888888888,
              "#fdca26"
             ],
             [
              1,
              "#f0f921"
             ]
            ],
            "type": "heatmapgl"
           }
          ],
          "histogram": [
           {
            "marker": {
             "pattern": {
              "fillmode": "overlay",
              "size": 10,
              "solidity": 0.2
             }
            },
            "type": "histogram"
           }
          ],
          "histogram2d": [
           {
            "colorbar": {
             "outlinewidth": 0,
             "ticks": ""
            },
            "colorscale": [
             [
              0,
              "#0d0887"
             ],
             [
              0.1111111111111111,
              "#46039f"
             ],
             [
              0.2222222222222222,
              "#7201a8"
             ],
             [
              0.3333333333333333,
              "#9c179e"
             ],
             [
              0.4444444444444444,
              "#bd3786"
             ],
             [
              0.5555555555555556,
              "#d8576b"
             ],
             [
              0.6666666666666666,
              "#ed7953"
             ],
             [
              0.7777777777777778,
              "#fb9f3a"
             ],
             [
              0.8888888888888888,
              "#fdca26"
             ],
             [
              1,
              "#f0f921"
             ]
            ],
            "type": "histogram2d"
           }
          ],
          "histogram2dcontour": [
           {
            "colorbar": {
             "outlinewidth": 0,
             "ticks": ""
            },
            "colorscale": [
             [
              0,
              "#0d0887"
             ],
             [
              0.1111111111111111,
              "#46039f"
             ],
             [
              0.2222222222222222,
              "#7201a8"
             ],
             [
              0.3333333333333333,
              "#9c179e"
             ],
             [
              0.4444444444444444,
              "#bd3786"
             ],
             [
              0.5555555555555556,
              "#d8576b"
             ],
             [
              0.6666666666666666,
              "#ed7953"
             ],
             [
              0.7777777777777778,
              "#fb9f3a"
             ],
             [
              0.8888888888888888,
              "#fdca26"
             ],
             [
              1,
              "#f0f921"
             ]
            ],
            "type": "histogram2dcontour"
           }
          ],
          "mesh3d": [
           {
            "colorbar": {
             "outlinewidth": 0,
             "ticks": ""
            },
            "type": "mesh3d"
           }
          ],
          "parcoords": [
           {
            "line": {
             "colorbar": {
              "outlinewidth": 0,
              "ticks": ""
             }
            },
            "type": "parcoords"
           }
          ],
          "pie": [
           {
            "automargin": true,
            "type": "pie"
           }
          ],
          "scatter": [
           {
            "fillpattern": {
             "fillmode": "overlay",
             "size": 10,
             "solidity": 0.2
            },
            "type": "scatter"
           }
          ],
          "scatter3d": [
           {
            "line": {
             "colorbar": {
              "outlinewidth": 0,
              "ticks": ""
             }
            },
            "marker": {
             "colorbar": {
              "outlinewidth": 0,
              "ticks": ""
             }
            },
            "type": "scatter3d"
           }
          ],
          "scattercarpet": [
           {
            "marker": {
             "colorbar": {
              "outlinewidth": 0,
              "ticks": ""
             }
            },
            "type": "scattercarpet"
           }
          ],
          "scattergeo": [
           {
            "marker": {
             "colorbar": {
              "outlinewidth": 0,
              "ticks": ""
             }
            },
            "type": "scattergeo"
           }
          ],
          "scattergl": [
           {
            "marker": {
             "colorbar": {
              "outlinewidth": 0,
              "ticks": ""
             }
            },
            "type": "scattergl"
           }
          ],
          "scattermapbox": [
           {
            "marker": {
             "colorbar": {
              "outlinewidth": 0,
              "ticks": ""
             }
            },
            "type": "scattermapbox"
           }
          ],
          "scatterpolar": [
           {
            "marker": {
             "colorbar": {
              "outlinewidth": 0,
              "ticks": ""
             }
            },
            "type": "scatterpolar"
           }
          ],
          "scatterpolargl": [
           {
            "marker": {
             "colorbar": {
              "outlinewidth": 0,
              "ticks": ""
             }
            },
            "type": "scatterpolargl"
           }
          ],
          "scatterternary": [
           {
            "marker": {
             "colorbar": {
              "outlinewidth": 0,
              "ticks": ""
             }
            },
            "type": "scatterternary"
           }
          ],
          "surface": [
           {
            "colorbar": {
             "outlinewidth": 0,
             "ticks": ""
            },
            "colorscale": [
             [
              0,
              "#0d0887"
             ],
             [
              0.1111111111111111,
              "#46039f"
             ],
             [
              0.2222222222222222,
              "#7201a8"
             ],
             [
              0.3333333333333333,
              "#9c179e"
             ],
             [
              0.4444444444444444,
              "#bd3786"
             ],
             [
              0.5555555555555556,
              "#d8576b"
             ],
             [
              0.6666666666666666,
              "#ed7953"
             ],
             [
              0.7777777777777778,
              "#fb9f3a"
             ],
             [
              0.8888888888888888,
              "#fdca26"
             ],
             [
              1,
              "#f0f921"
             ]
            ],
            "type": "surface"
           }
          ],
          "table": [
           {
            "cells": {
             "fill": {
              "color": "#EBF0F8"
             },
             "line": {
              "color": "white"
             }
            },
            "header": {
             "fill": {
              "color": "#C8D4E3"
             },
             "line": {
              "color": "white"
             }
            },
            "type": "table"
           }
          ]
         },
         "layout": {
          "annotationdefaults": {
           "arrowcolor": "#2a3f5f",
           "arrowhead": 0,
           "arrowwidth": 1
          },
          "autotypenumbers": "strict",
          "coloraxis": {
           "colorbar": {
            "outlinewidth": 0,
            "ticks": ""
           }
          },
          "colorscale": {
           "diverging": [
            [
             0,
             "#8e0152"
            ],
            [
             0.1,
             "#c51b7d"
            ],
            [
             0.2,
             "#de77ae"
            ],
            [
             0.3,
             "#f1b6da"
            ],
            [
             0.4,
             "#fde0ef"
            ],
            [
             0.5,
             "#f7f7f7"
            ],
            [
             0.6,
             "#e6f5d0"
            ],
            [
             0.7,
             "#b8e186"
            ],
            [
             0.8,
             "#7fbc41"
            ],
            [
             0.9,
             "#4d9221"
            ],
            [
             1,
             "#276419"
            ]
           ],
           "sequential": [
            [
             0,
             "#0d0887"
            ],
            [
             0.1111111111111111,
             "#46039f"
            ],
            [
             0.2222222222222222,
             "#7201a8"
            ],
            [
             0.3333333333333333,
             "#9c179e"
            ],
            [
             0.4444444444444444,
             "#bd3786"
            ],
            [
             0.5555555555555556,
             "#d8576b"
            ],
            [
             0.6666666666666666,
             "#ed7953"
            ],
            [
             0.7777777777777778,
             "#fb9f3a"
            ],
            [
             0.8888888888888888,
             "#fdca26"
            ],
            [
             1,
             "#f0f921"
            ]
           ],
           "sequentialminus": [
            [
             0,
             "#0d0887"
            ],
            [
             0.1111111111111111,
             "#46039f"
            ],
            [
             0.2222222222222222,
             "#7201a8"
            ],
            [
             0.3333333333333333,
             "#9c179e"
            ],
            [
             0.4444444444444444,
             "#bd3786"
            ],
            [
             0.5555555555555556,
             "#d8576b"
            ],
            [
             0.6666666666666666,
             "#ed7953"
            ],
            [
             0.7777777777777778,
             "#fb9f3a"
            ],
            [
             0.8888888888888888,
             "#fdca26"
            ],
            [
             1,
             "#f0f921"
            ]
           ]
          },
          "colorway": [
           "#636efa",
           "#EF553B",
           "#00cc96",
           "#ab63fa",
           "#FFA15A",
           "#19d3f3",
           "#FF6692",
           "#B6E880",
           "#FF97FF",
           "#FECB52"
          ],
          "font": {
           "color": "#2a3f5f"
          },
          "geo": {
           "bgcolor": "white",
           "lakecolor": "white",
           "landcolor": "#E5ECF6",
           "showlakes": true,
           "showland": true,
           "subunitcolor": "white"
          },
          "hoverlabel": {
           "align": "left"
          },
          "hovermode": "closest",
          "mapbox": {
           "style": "light"
          },
          "paper_bgcolor": "white",
          "plot_bgcolor": "#E5ECF6",
          "polar": {
           "angularaxis": {
            "gridcolor": "white",
            "linecolor": "white",
            "ticks": ""
           },
           "bgcolor": "#E5ECF6",
           "radialaxis": {
            "gridcolor": "white",
            "linecolor": "white",
            "ticks": ""
           }
          },
          "scene": {
           "xaxis": {
            "backgroundcolor": "#E5ECF6",
            "gridcolor": "white",
            "gridwidth": 2,
            "linecolor": "white",
            "showbackground": true,
            "ticks": "",
            "zerolinecolor": "white"
           },
           "yaxis": {
            "backgroundcolor": "#E5ECF6",
            "gridcolor": "white",
            "gridwidth": 2,
            "linecolor": "white",
            "showbackground": true,
            "ticks": "",
            "zerolinecolor": "white"
           },
           "zaxis": {
            "backgroundcolor": "#E5ECF6",
            "gridcolor": "white",
            "gridwidth": 2,
            "linecolor": "white",
            "showbackground": true,
            "ticks": "",
            "zerolinecolor": "white"
           }
          },
          "shapedefaults": {
           "line": {
            "color": "#2a3f5f"
           }
          },
          "ternary": {
           "aaxis": {
            "gridcolor": "white",
            "linecolor": "white",
            "ticks": ""
           },
           "baxis": {
            "gridcolor": "white",
            "linecolor": "white",
            "ticks": ""
           },
           "bgcolor": "#E5ECF6",
           "caxis": {
            "gridcolor": "white",
            "linecolor": "white",
            "ticks": ""
           }
          },
          "title": {
           "x": 0.05
          },
          "xaxis": {
           "automargin": true,
           "gridcolor": "white",
           "linecolor": "white",
           "ticks": "",
           "title": {
            "standoff": 15
           },
           "zerolinecolor": "white",
           "zerolinewidth": 2
          },
          "yaxis": {
           "automargin": true,
           "gridcolor": "white",
           "linecolor": "white",
           "ticks": "",
           "title": {
            "standoff": 15
           },
           "zerolinecolor": "white",
           "zerolinewidth": 2
          }
         }
        },
        "title": {
         "text": "Subgraph of active sites and their neighbors (P332R)"
        },
        "width": 620
       }
      }
     },
     "metadata": {},
     "output_type": "display_data"
    }
   ],
   "source": [
    "plot_graph(g_active, 'HGD_normal')\n",
    "plot_graph(g_active_g161r, 'G161R')\n",
    "plot_graph(g_active_r330s, 'R330S')\n",
    "\n",
    "\n",
    "plot_graph(g_active_k353q, 'K353Q')\n",
    "plot_graph(g_active_e401q, 'E401Q')\n",
    "plot_graph(g_active_p332r, 'P332R')\n",
    "\n",
    "\n"
   ]
  },
  {
   "cell_type": "code",
   "execution_count": null,
   "metadata": {},
   "outputs": [],
   "source": [
    "# check if the subgraphs are isomorphic\n",
    "print(nx.is_isomorphic(g_active, g_active_g161r))\n",
    "print(nx.is_isomorphic(g_active, g_active_r330s))\n",
    "\n",
    "# edit distance between the subgraphs\n",
    "\n",
    "from networkx.algorithms.similarity import graph_edit_distance\n",
    "\n",
    "distance = graph_edit_distance(g_active, g_active_g161r)\n",
    "distance\n",
    "\n",
    "\n"
   ]
  },
  {
   "cell_type": "code",
   "execution_count": null,
   "metadata": {},
   "outputs": [],
   "source": [
    "# create two networkx graphs\n",
    "G1 = nx.Graph()\n",
    "G2 = nx.Graph()\n",
    "\n",
    "# add nodes\n",
    "G1.add_nodes_from(g_active.nodes)\n",
    "G2.add_nodes_from(g_active_g161r.nodes)\n",
    "\n",
    "# add edges withou attributes\n",
    "G1.add_edges_from(g_active.edges)\n",
    "G2.add_edges_from(g_active_g161r.edges)\n",
    "for node in G1.nodes:\n",
    "    print(node)\n",
    "\n",
    "print('-----------------')\n",
    "\n",
    "for node in G2.nodes:\n",
    "    print(node)\n",
    "\n",
    "# add attributes to the nodes\n",
    "for node in G1.nodes:\n",
    "    G1.nodes[node]['kind'] = g_active.nodes[node]['kind']\n",
    "\n"
   ]
  },
  {
   "cell_type": "code",
   "execution_count": null,
   "metadata": {},
   "outputs": [],
   "source": [
    "# add a node to G1\n",
    "G1.add_node('A:GLU:341')\n",
    "\n",
    "# add an edge to G1\n",
    "G1.add_edge('A:GLU:341', 'A:HIS:292')"
   ]
  },
  {
   "cell_type": "code",
   "execution_count": null,
   "metadata": {},
   "outputs": [],
   "source": [
    "# edit distance between the subgraphs\n",
    "\n",
    "from networkx.algorithms.similarity import optimize_graph_edit_distance\n",
    "\n",
    "def node_match(n1, n2):\n",
    "    return n1['residue_number'] == n2['residue_number']\n",
    "\n",
    "\n",
    "\n",
    "for d in optimize_graph_edit_distance(g_active, g_active_g161r, node_match=node_match):\n",
    "    print(d)\n",
    "d_g161r = d\n",
    "\n",
    "for d in optimize_graph_edit_distance(g_active, g_active_r330s, node_match=node_match):\n",
    "    print(d)\n",
    "d_r330s = d"
   ]
  },
  {
   "cell_type": "code",
   "execution_count": null,
   "metadata": {},
   "outputs": [],
   "source": [
    "d_g161r, d_r330s"
   ]
  },
  {
   "cell_type": "code",
   "execution_count": null,
   "metadata": {},
   "outputs": [],
   "source": [
    "g = g.to_directed()\n",
    "\n",
    "# see g edges attributes\n",
    "g.edges(data=True)\n"
   ]
  },
  {
   "cell_type": "code",
   "execution_count": null,
   "metadata": {},
   "outputs": [],
   "source": [
    "# get the edge attributes\n",
    "edge_attrs = nx.get_edge_attributes(g, 'kind')\n",
    "# convert sets to frozensets\n",
    "type(edge_attrs.values())"
   ]
  },
  {
   "cell_type": "code",
   "execution_count": null,
   "metadata": {},
   "outputs": [],
   "source": [
    "edge_values =edge_attrs.values()\n",
    "# get one element of edge_values\n",
    "edge_values = list(edge_values)"
   ]
  },
  {
   "cell_type": "code",
   "execution_count": null,
   "metadata": {},
   "outputs": [],
   "source": [
    "# one hot encode edge values\n",
    "edge_values = [list(edge) for edge in edge_values]\n",
    "from sklearn.preprocessing import MultiLabelBinarizer\n",
    "mlb = MultiLabelBinarizer()\n",
    "edge_values = mlb.fit_transform(edge_values)\n"
   ]
  },
  {
   "cell_type": "code",
   "execution_count": null,
   "metadata": {},
   "outputs": [],
   "source": [
    "# see labels associated with the one hot encoding\n",
    "mlb.classes_"
   ]
  },
  {
   "cell_type": "code",
   "execution_count": null,
   "metadata": {},
   "outputs": [],
   "source": [
    "#assign the one hot encoded values to the edge attributes\n",
    "for i, edge in enumerate(g.edges()):\n",
    "    g.edges[edge[0], edge[1]]['kind'] = edge_values[i]"
   ]
  },
  {
   "cell_type": "code",
   "execution_count": null,
   "metadata": {},
   "outputs": [],
   "source": [
    "\n",
    "from dgl import from_networkx\n",
    "g = g.to_directed()\n",
    "g_dgl=from_networkx(g, node_attrs=['residue_number', 'coords'], edge_attrs=['distance', 'kind'])\n",
    "g_dgl.edata['kind'][1]"
   ]
  },
  {
   "cell_type": "markdown",
   "metadata": {},
   "source": [
    "# -------"
   ]
  },
  {
   "cell_type": "code",
   "execution_count": 23,
   "metadata": {},
   "outputs": [],
   "source": [
    "from utils import generate_df\n",
    "\n",
    "df = generate_df(generate_graph=False)"
   ]
  },
  {
   "cell_type": "code",
   "execution_count": 25,
   "metadata": {},
   "outputs": [],
   "source": [
    "structure=df['structure_allele1'][0]"
   ]
  },
  {
   "cell_type": "code",
   "execution_count": 27,
   "metadata": {},
   "outputs": [],
   "source": [
    "# get atoms of the structure\n",
    "atoms = list(structure.get_atoms())\n"
   ]
  },
  {
   "cell_type": "code",
   "execution_count": 37,
   "metadata": {},
   "outputs": [],
   "source": [
    "# print the atoms with the element symbol\n",
    "for atom in atoms:\n",
    "    if atom.element == 'Fe':\n",
    "        print(atom.get_parent())"
   ]
  },
  {
   "cell_type": "code",
   "execution_count": 39,
   "metadata": {},
   "outputs": [],
   "source": [
    "# get structure normal\n",
    "from Bio.PDB import PDBParser\n",
    "parser = PDBParser()\n",
    "structure_normal = parser.get_structure('HGD_normal', '../datasets/ALPHAFOLD PDBs/HGD_normal.pdb')"
   ]
  },
  {
   "cell_type": "code",
   "execution_count": 41,
   "metadata": {},
   "outputs": [],
   "source": [
    "atoms = list(structure_normal.get_atoms())\n",
    "\n",
    "# print the atoms with the element symbol\n",
    "for atom in atoms:\n",
    "    if atom.element == 'Fe':\n",
    "        print('found')"
   ]
  },
  {
   "cell_type": "code",
   "execution_count": null,
   "metadata": {},
   "outputs": [],
   "source": []
  }
 ],
 "metadata": {
  "kernelspec": {
   "display_name": "Python 3 (ipykernel)",
   "language": "python",
   "name": "python3"
  },
  "language_info": {
   "codemirror_mode": {
    "name": "ipython",
    "version": 3
   },
   "file_extension": ".py",
   "mimetype": "text/x-python",
   "name": "python",
   "nbconvert_exporter": "python",
   "pygments_lexer": "ipython3",
   "version": "3.10.8"
  }
 },
 "nbformat": 4,
 "nbformat_minor": 4
}
