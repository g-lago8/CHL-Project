{
 "cells": [
  {
   "cell_type": "code",
   "execution_count": 2,
   "metadata": {},
   "outputs": [],
   "source": [
    "import pandas as pd\n",
    "import numpy as np\n",
    "import matplotlib.pyplot as plt\n",
    "import seaborn as sns"
   ]
  },
  {
   "cell_type": "code",
   "execution_count": 3,
   "metadata": {},
   "outputs": [],
   "source": [
    "# read the first sheet of the excel file\n",
    "df = pd.read_excel('../datasets/aku_prin_v2.0.xlsx', sheet_name=0)"
   ]
  },
  {
   "cell_type": "code",
   "execution_count": 4,
   "metadata": {},
   "outputs": [
    {
     "data": {
      "text/plain": [
       "Index(['patient', 'sex', 'birth', 'creatinine_urines mg/dl', 'HGA_u mg/dl',\n",
       "       'HGA_U mg/24h', 'bqa', 'urate', 'uric_acid_urine', 'tyr_urines',\n",
       "       'hypoxanthine_urines', 'xanthine_urines', 'Protein change allele 1 ',\n",
       "       'DNA change allele 1', 'Exon/intron allele 1',\n",
       "       'Protein change allele 2', 'DNA change allele 2', 'ex/in allele 2',\n",
       "       'SAA (ug/mL) ', 'chitotriosidase', 'HGA_serum', 'CATD (ng/mL)',\n",
       "       'IL-6 (pg/mL)', 'IL-1beta (pg/mL)', 'IL-1ra (pg/mL)', 'TNFalfa (pg/mL)',\n",
       "       'CRP (mg/dL)', 'CRP (æg/mL) ELISA', 'MMP3 (ng/mL)', 'aopp',\n",
       "       'glucose(mg/dL)', 'creatinine (mg/dL)', 'cholesterol (mg/dL)',\n",
       "       'triglycerides  (mg/dL)', 'hdl_cholesterol (mg/dL)',\n",
       "       'ldl_cholesterol (mg/dL)', 'alkaline_phosphatase (UI/L)',\n",
       "       'cystatin_C (mg/dL)', 'smoker/cigarettes_a_day', 'alcohol_units_weekly',\n",
       "       'bmi', 'physical_health_score', 'mental_health_score',\n",
       "       'AKUSSI_jointpain', 'AKUSSI_spinalpain', 'KOOSpain', 'KOOSsymptoms',\n",
       "       'KOOSdaily_living', 'KOOSsport', 'KOOS_QOL', 'HAQ_hapVAS', 'HAQ_haqDI',\n",
       "       'anti_inflammatories', 'painkillers', 'other_drugs', 'nitisinone doses',\n",
       "       'adverse_event_or_diagnosis', 'creatinine_plasma', 'hga_plasma', 'tyr',\n",
       "       'phe', 'trp', 'hypoxanthine', 'xanthine', 'uracil', 'uric_acid',\n",
       "       'nitisinone'],\n",
       "      dtype='object')"
      ]
     },
     "execution_count": 4,
     "metadata": {},
     "output_type": "execute_result"
    }
   ],
   "source": [
    "df.columns"
   ]
  },
  {
   "cell_type": "code",
   "execution_count": 5,
   "metadata": {},
   "outputs": [
    {
     "data": {
      "text/plain": [
       "67"
      ]
     },
     "execution_count": 5,
     "metadata": {},
     "output_type": "execute_result"
    }
   ],
   "source": [
    "len(df.columns)"
   ]
  },
  {
   "cell_type": "code",
   "execution_count": 6,
   "metadata": {},
   "outputs": [
    {
     "data": {
      "text/plain": [
       "18"
      ]
     },
     "execution_count": 6,
     "metadata": {},
     "output_type": "execute_result"
    }
   ],
   "source": [
    "# get the index of Protein change allele 1 column\n",
    "df.columns.get_loc('Protein change allele 1 ') +6\n"
   ]
  },
  {
   "cell_type": "code",
   "execution_count": 7,
   "metadata": {},
   "outputs": [
    {
     "data": {
      "text/plain": [
       "52"
      ]
     },
     "execution_count": 7,
     "metadata": {},
     "output_type": "execute_result"
    }
   ],
   "source": [
    "# get the index of physical_health_score column\n",
    "df.columns.get_loc('physical_health_score') + 11"
   ]
  },
  {
   "cell_type": "code",
   "execution_count": 8,
   "metadata": {},
   "outputs": [
    {
     "data": {
      "text/html": [
       "<div>\n",
       "<style scoped>\n",
       "    .dataframe tbody tr th:only-of-type {\n",
       "        vertical-align: middle;\n",
       "    }\n",
       "\n",
       "    .dataframe tbody tr th {\n",
       "        vertical-align: top;\n",
       "    }\n",
       "\n",
       "    .dataframe thead th {\n",
       "        text-align: right;\n",
       "    }\n",
       "</style>\n",
       "<table border=\"1\" class=\"dataframe\">\n",
       "  <thead>\n",
       "    <tr style=\"text-align: right;\">\n",
       "      <th></th>\n",
       "      <th>Protein change allele 1</th>\n",
       "      <th>DNA change allele 1</th>\n",
       "      <th>Exon/intron allele 1</th>\n",
       "      <th>Protein change allele 2</th>\n",
       "      <th>DNA change allele 2</th>\n",
       "      <th>ex/in allele 2</th>\n",
       "      <th>physical_health_score</th>\n",
       "      <th>mental_health_score</th>\n",
       "      <th>AKUSSI_jointpain</th>\n",
       "      <th>AKUSSI_spinalpain</th>\n",
       "      <th>KOOSpain</th>\n",
       "      <th>KOOSsymptoms</th>\n",
       "      <th>KOOSdaily_living</th>\n",
       "      <th>KOOSsport</th>\n",
       "      <th>KOOS_QOL</th>\n",
       "      <th>HAQ_hapVAS</th>\n",
       "      <th>HAQ_haqDI</th>\n",
       "    </tr>\n",
       "  </thead>\n",
       "  <tbody>\n",
       "    <tr>\n",
       "      <th>0</th>\n",
       "      <td>G161R</td>\n",
       "      <td>c.481G&gt;A</td>\n",
       "      <td>ex8</td>\n",
       "      <td>His371Profs</td>\n",
       "      <td>c.1111dupC</td>\n",
       "      <td>ex13</td>\n",
       "      <td>26.0</td>\n",
       "      <td>43.0</td>\n",
       "      <td>57.0</td>\n",
       "      <td>75.0</td>\n",
       "      <td>67.0</td>\n",
       "      <td>89.0</td>\n",
       "      <td>75.0</td>\n",
       "      <td>70.0</td>\n",
       "      <td>69.0</td>\n",
       "      <td>63.0</td>\n",
       "      <td>1.50</td>\n",
       "    </tr>\n",
       "    <tr>\n",
       "      <th>1</th>\n",
       "      <td>G161R</td>\n",
       "      <td>c.481G&gt;A</td>\n",
       "      <td>ex8</td>\n",
       "      <td>G161R</td>\n",
       "      <td>c.481G&gt;A</td>\n",
       "      <td>ex8</td>\n",
       "      <td>53.0</td>\n",
       "      <td>51.0</td>\n",
       "      <td>29.0</td>\n",
       "      <td>25.0</td>\n",
       "      <td>92.0</td>\n",
       "      <td>96.0</td>\n",
       "      <td>91.0</td>\n",
       "      <td>85.0</td>\n",
       "      <td>75.0</td>\n",
       "      <td>23.0</td>\n",
       "      <td>0.25</td>\n",
       "    </tr>\n",
       "    <tr>\n",
       "      <th>2</th>\n",
       "      <td>G161R</td>\n",
       "      <td>c.481G&gt;A</td>\n",
       "      <td>ex8</td>\n",
       "      <td>M368V</td>\n",
       "      <td>c.1102A&gt;G</td>\n",
       "      <td>ex13</td>\n",
       "      <td>23.0</td>\n",
       "      <td>40.0</td>\n",
       "      <td>36.0</td>\n",
       "      <td>100.0</td>\n",
       "      <td>47.0</td>\n",
       "      <td>39.0</td>\n",
       "      <td>31.0</td>\n",
       "      <td>0.0</td>\n",
       "      <td>19.0</td>\n",
       "      <td>53.0</td>\n",
       "      <td>1.75</td>\n",
       "    </tr>\n",
       "    <tr>\n",
       "      <th>3</th>\n",
       "      <td>Y6_G29del ivs1-1G&gt;A</td>\n",
       "      <td>c.16-1G&gt;A</td>\n",
       "      <td>in1</td>\n",
       "      <td>Y6_G29del ivs1-1G&gt;A</td>\n",
       "      <td>c.16-1G&gt;A</td>\n",
       "      <td>in1</td>\n",
       "      <td>NaN</td>\n",
       "      <td>NaN</td>\n",
       "      <td>NaN</td>\n",
       "      <td>NaN</td>\n",
       "      <td>NaN</td>\n",
       "      <td>NaN</td>\n",
       "      <td>NaN</td>\n",
       "      <td>NaN</td>\n",
       "      <td>NaN</td>\n",
       "      <td>NaN</td>\n",
       "      <td>NaN</td>\n",
       "    </tr>\n",
       "    <tr>\n",
       "      <th>4</th>\n",
       "      <td>G161R</td>\n",
       "      <td>c.481G&gt;A</td>\n",
       "      <td>ex8</td>\n",
       "      <td>G161R</td>\n",
       "      <td>c.481G&gt;A</td>\n",
       "      <td>ex8</td>\n",
       "      <td>23.0</td>\n",
       "      <td>29.0</td>\n",
       "      <td>50.0</td>\n",
       "      <td>100.0</td>\n",
       "      <td>33.0</td>\n",
       "      <td>29.0</td>\n",
       "      <td>60.0</td>\n",
       "      <td>25.0</td>\n",
       "      <td>13.0</td>\n",
       "      <td>70.0</td>\n",
       "      <td>2.00</td>\n",
       "    </tr>\n",
       "  </tbody>\n",
       "</table>\n",
       "</div>"
      ],
      "text/plain": [
       "  Protein change allele 1  DNA change allele 1 Exon/intron allele 1  \\\n",
       "0                    G161R            c.481G>A                  ex8   \n",
       "1                    G161R            c.481G>A                  ex8   \n",
       "2                    G161R            c.481G>A                  ex8   \n",
       "3      Y6_G29del ivs1-1G>A           c.16-1G>A                  in1   \n",
       "4                    G161R            c.481G>A                  ex8   \n",
       "\n",
       "  Protein change allele 2 DNA change allele 2 ex/in allele 2  \\\n",
       "0             His371Profs          c.1111dupC           ex13   \n",
       "1                   G161R            c.481G>A            ex8   \n",
       "2                   M368V           c.1102A>G           ex13   \n",
       "3     Y6_G29del ivs1-1G>A           c.16-1G>A            in1   \n",
       "4                   G161R            c.481G>A            ex8   \n",
       "\n",
       "   physical_health_score  mental_health_score  AKUSSI_jointpain  \\\n",
       "0                   26.0                 43.0              57.0   \n",
       "1                   53.0                 51.0              29.0   \n",
       "2                   23.0                 40.0              36.0   \n",
       "3                    NaN                  NaN               NaN   \n",
       "4                   23.0                 29.0              50.0   \n",
       "\n",
       "   AKUSSI_spinalpain  KOOSpain  KOOSsymptoms  KOOSdaily_living  KOOSsport  \\\n",
       "0               75.0      67.0          89.0              75.0       70.0   \n",
       "1               25.0      92.0          96.0              91.0       85.0   \n",
       "2              100.0      47.0          39.0              31.0        0.0   \n",
       "3                NaN       NaN           NaN               NaN        NaN   \n",
       "4              100.0      33.0          29.0              60.0       25.0   \n",
       "\n",
       "   KOOS_QOL  HAQ_hapVAS  HAQ_haqDI  \n",
       "0      69.0        63.0       1.50  \n",
       "1      75.0        23.0       0.25  \n",
       "2      19.0        53.0       1.75  \n",
       "3       NaN         NaN        NaN  \n",
       "4      13.0        70.0       2.00  "
      ]
     },
     "execution_count": 8,
     "metadata": {},
     "output_type": "execute_result"
    }
   ],
   "source": [
    "# create a new dataframe with the columns of interest, from index 12 to 18 and 41 to 52\n",
    "df2 = df.iloc[:, list(range(12, 18)) + list(range(41, 52))]\n",
    "df2.head()\n"
   ]
  },
  {
   "cell_type": "code",
   "execution_count": 9,
   "metadata": {},
   "outputs": [
    {
     "data": {
      "text/plain": [
       "(219, 17)"
      ]
     },
     "execution_count": 9,
     "metadata": {},
     "output_type": "execute_result"
    }
   ],
   "source": [
    "df2.shape"
   ]
  },
  {
   "cell_type": "code",
   "execution_count": 10,
   "metadata": {},
   "outputs": [
    {
     "data": {
      "text/plain": [
       "19"
      ]
     },
     "execution_count": 10,
     "metadata": {},
     "output_type": "execute_result"
    }
   ],
   "source": [
    "# count null values of Protein change allele 1 column\n",
    "df2['Protein change allele 1 '].isnull().sum()"
   ]
  },
  {
   "cell_type": "code",
   "execution_count": 11,
   "metadata": {},
   "outputs": [
    {
     "data": {
      "text/plain": [
       "True"
      ]
     },
     "execution_count": 11,
     "metadata": {},
     "output_type": "execute_result"
    }
   ],
   "source": [
    "# check if the null value of Protein change allele 1 is the same as Protein change allele 2\n",
    "df2['Protein change allele 1 '].isnull().sum() == df2['Protein change allele 2'].isnull().sum()"
   ]
  },
  {
   "cell_type": "code",
   "execution_count": 12,
   "metadata": {},
   "outputs": [
    {
     "data": {
      "text/plain": [
       "False"
      ]
     },
     "execution_count": 12,
     "metadata": {},
     "output_type": "execute_result"
    }
   ],
   "source": [
    "# check if tthey are the same indexes\n",
    "(df2['Protein change allele 1 '].isnull() == df2['Protein change allele 2'].isnull()).all()"
   ]
  },
  {
   "cell_type": "code",
   "execution_count": 13,
   "metadata": {},
   "outputs": [
    {
     "data": {
      "text/plain": [
       "Index([ 50,  54,  61,  66,  72,  80,  84,  87,  88,  89,  90, 165, 166, 183,\n",
       "       185, 191, 192, 204, 213],\n",
       "      dtype='int64')"
      ]
     },
     "execution_count": 13,
     "metadata": {},
     "output_type": "execute_result"
    }
   ],
   "source": [
    "# print the indexes of the null values\n",
    "df2[df2['Protein change allele 1 '].isnull()].index"
   ]
  },
  {
   "cell_type": "code",
   "execution_count": 14,
   "metadata": {},
   "outputs": [],
   "source": [
    "# print the indexes of the null values\n",
    "null1 = df2['Protein change allele 1 '][df2['Protein change allele 1 '].isnull()].index"
   ]
  },
  {
   "cell_type": "code",
   "execution_count": 15,
   "metadata": {},
   "outputs": [
    {
     "data": {
      "text/plain": [
       "Index([ 50,  54,  61,  66,  72,  80,  84,  87,  88,  89,  90, 165, 166, 183,\n",
       "       185, 191, 192, 204, 213],\n",
       "      dtype='int64')"
      ]
     },
     "execution_count": 15,
     "metadata": {},
     "output_type": "execute_result"
    }
   ],
   "source": [
    "null1"
   ]
  },
  {
   "cell_type": "code",
   "execution_count": 16,
   "metadata": {},
   "outputs": [],
   "source": [
    "null2 = df2['Protein change allele 2'][df2['Protein change allele 2'].isnull()].index"
   ]
  },
  {
   "cell_type": "code",
   "execution_count": 17,
   "metadata": {},
   "outputs": [
    {
     "data": {
      "text/plain": [
       "Index([ 50,  54,  61,  66,  80,  84,  87,  88,  89,  90, 165, 166, 178, 183,\n",
       "       185, 191, 192, 204, 213],\n",
       "      dtype='int64')"
      ]
     },
     "execution_count": 17,
     "metadata": {},
     "output_type": "execute_result"
    }
   ],
   "source": [
    "null2"
   ]
  },
  {
   "cell_type": "code",
   "execution_count": 18,
   "metadata": {},
   "outputs": [
    {
     "data": {
      "text/plain": [
       "20"
      ]
     },
     "execution_count": 18,
     "metadata": {},
     "output_type": "execute_result"
    }
   ],
   "source": [
    "# merge null1 and null2 in a list without repetition\n",
    "null = list(set(null1) | set(null2))\n",
    "len(null)"
   ]
  },
  {
   "cell_type": "code",
   "execution_count": 19,
   "metadata": {},
   "outputs": [
    {
     "data": {
      "text/plain": [
       "(19, 19)"
      ]
     },
     "execution_count": 19,
     "metadata": {},
     "output_type": "execute_result"
    }
   ],
   "source": [
    "len(null1), len(null2)"
   ]
  },
  {
   "cell_type": "code",
   "execution_count": 20,
   "metadata": {},
   "outputs": [],
   "source": [
    "# remove the null indexed rows from the dataframe\n",
    "df2 = df2.drop(null)"
   ]
  },
  {
   "cell_type": "code",
   "execution_count": 21,
   "metadata": {},
   "outputs": [
    {
     "data": {
      "text/plain": [
       "(199, 17)"
      ]
     },
     "execution_count": 21,
     "metadata": {},
     "output_type": "execute_result"
    }
   ],
   "source": [
    "df2.shape"
   ]
  },
  {
   "cell_type": "code",
   "execution_count": 22,
   "metadata": {},
   "outputs": [
    {
     "data": {
      "text/html": [
       "<div>\n",
       "<style scoped>\n",
       "    .dataframe tbody tr th:only-of-type {\n",
       "        vertical-align: middle;\n",
       "    }\n",
       "\n",
       "    .dataframe tbody tr th {\n",
       "        vertical-align: top;\n",
       "    }\n",
       "\n",
       "    .dataframe thead th {\n",
       "        text-align: right;\n",
       "    }\n",
       "</style>\n",
       "<table border=\"1\" class=\"dataframe\">\n",
       "  <thead>\n",
       "    <tr style=\"text-align: right;\">\n",
       "      <th></th>\n",
       "      <th>Protein change allele 1</th>\n",
       "      <th>DNA change allele 1</th>\n",
       "      <th>Exon/intron allele 1</th>\n",
       "      <th>Protein change allele 2</th>\n",
       "      <th>DNA change allele 2</th>\n",
       "      <th>ex/in allele 2</th>\n",
       "      <th>physical_health_score</th>\n",
       "      <th>mental_health_score</th>\n",
       "      <th>AKUSSI_jointpain</th>\n",
       "      <th>AKUSSI_spinalpain</th>\n",
       "      <th>KOOSpain</th>\n",
       "      <th>KOOSsymptoms</th>\n",
       "      <th>KOOSdaily_living</th>\n",
       "      <th>KOOSsport</th>\n",
       "      <th>KOOS_QOL</th>\n",
       "      <th>HAQ_hapVAS</th>\n",
       "      <th>HAQ_haqDI</th>\n",
       "    </tr>\n",
       "  </thead>\n",
       "  <tbody>\n",
       "    <tr>\n",
       "      <th>0</th>\n",
       "      <td>G161R</td>\n",
       "      <td>c.481G&gt;A</td>\n",
       "      <td>ex8</td>\n",
       "      <td>His371Profs</td>\n",
       "      <td>c.1111dupC</td>\n",
       "      <td>ex13</td>\n",
       "      <td>26.0</td>\n",
       "      <td>43.0</td>\n",
       "      <td>57.0</td>\n",
       "      <td>75.0</td>\n",
       "      <td>67.0</td>\n",
       "      <td>89.0</td>\n",
       "      <td>75.0</td>\n",
       "      <td>70.0</td>\n",
       "      <td>69.0</td>\n",
       "      <td>63.0</td>\n",
       "      <td>1.50</td>\n",
       "    </tr>\n",
       "    <tr>\n",
       "      <th>1</th>\n",
       "      <td>G161R</td>\n",
       "      <td>c.481G&gt;A</td>\n",
       "      <td>ex8</td>\n",
       "      <td>G161R</td>\n",
       "      <td>c.481G&gt;A</td>\n",
       "      <td>ex8</td>\n",
       "      <td>53.0</td>\n",
       "      <td>51.0</td>\n",
       "      <td>29.0</td>\n",
       "      <td>25.0</td>\n",
       "      <td>92.0</td>\n",
       "      <td>96.0</td>\n",
       "      <td>91.0</td>\n",
       "      <td>85.0</td>\n",
       "      <td>75.0</td>\n",
       "      <td>23.0</td>\n",
       "      <td>0.25</td>\n",
       "    </tr>\n",
       "    <tr>\n",
       "      <th>2</th>\n",
       "      <td>G161R</td>\n",
       "      <td>c.481G&gt;A</td>\n",
       "      <td>ex8</td>\n",
       "      <td>M368V</td>\n",
       "      <td>c.1102A&gt;G</td>\n",
       "      <td>ex13</td>\n",
       "      <td>23.0</td>\n",
       "      <td>40.0</td>\n",
       "      <td>36.0</td>\n",
       "      <td>100.0</td>\n",
       "      <td>47.0</td>\n",
       "      <td>39.0</td>\n",
       "      <td>31.0</td>\n",
       "      <td>0.0</td>\n",
       "      <td>19.0</td>\n",
       "      <td>53.0</td>\n",
       "      <td>1.75</td>\n",
       "    </tr>\n",
       "    <tr>\n",
       "      <th>3</th>\n",
       "      <td>Y6_G29del ivs1-1G&gt;A</td>\n",
       "      <td>c.16-1G&gt;A</td>\n",
       "      <td>in1</td>\n",
       "      <td>Y6_G29del ivs1-1G&gt;A</td>\n",
       "      <td>c.16-1G&gt;A</td>\n",
       "      <td>in1</td>\n",
       "      <td>NaN</td>\n",
       "      <td>NaN</td>\n",
       "      <td>NaN</td>\n",
       "      <td>NaN</td>\n",
       "      <td>NaN</td>\n",
       "      <td>NaN</td>\n",
       "      <td>NaN</td>\n",
       "      <td>NaN</td>\n",
       "      <td>NaN</td>\n",
       "      <td>NaN</td>\n",
       "      <td>NaN</td>\n",
       "    </tr>\n",
       "    <tr>\n",
       "      <th>4</th>\n",
       "      <td>G161R</td>\n",
       "      <td>c.481G&gt;A</td>\n",
       "      <td>ex8</td>\n",
       "      <td>G161R</td>\n",
       "      <td>c.481G&gt;A</td>\n",
       "      <td>ex8</td>\n",
       "      <td>23.0</td>\n",
       "      <td>29.0</td>\n",
       "      <td>50.0</td>\n",
       "      <td>100.0</td>\n",
       "      <td>33.0</td>\n",
       "      <td>29.0</td>\n",
       "      <td>60.0</td>\n",
       "      <td>25.0</td>\n",
       "      <td>13.0</td>\n",
       "      <td>70.0</td>\n",
       "      <td>2.00</td>\n",
       "    </tr>\n",
       "  </tbody>\n",
       "</table>\n",
       "</div>"
      ],
      "text/plain": [
       "  Protein change allele 1  DNA change allele 1 Exon/intron allele 1  \\\n",
       "0                    G161R            c.481G>A                  ex8   \n",
       "1                    G161R            c.481G>A                  ex8   \n",
       "2                    G161R            c.481G>A                  ex8   \n",
       "3      Y6_G29del ivs1-1G>A           c.16-1G>A                  in1   \n",
       "4                    G161R            c.481G>A                  ex8   \n",
       "\n",
       "  Protein change allele 2 DNA change allele 2 ex/in allele 2  \\\n",
       "0             His371Profs          c.1111dupC           ex13   \n",
       "1                   G161R            c.481G>A            ex8   \n",
       "2                   M368V           c.1102A>G           ex13   \n",
       "3     Y6_G29del ivs1-1G>A           c.16-1G>A            in1   \n",
       "4                   G161R            c.481G>A            ex8   \n",
       "\n",
       "   physical_health_score  mental_health_score  AKUSSI_jointpain  \\\n",
       "0                   26.0                 43.0              57.0   \n",
       "1                   53.0                 51.0              29.0   \n",
       "2                   23.0                 40.0              36.0   \n",
       "3                    NaN                  NaN               NaN   \n",
       "4                   23.0                 29.0              50.0   \n",
       "\n",
       "   AKUSSI_spinalpain  KOOSpain  KOOSsymptoms  KOOSdaily_living  KOOSsport  \\\n",
       "0               75.0      67.0          89.0              75.0       70.0   \n",
       "1               25.0      92.0          96.0              91.0       85.0   \n",
       "2              100.0      47.0          39.0              31.0        0.0   \n",
       "3                NaN       NaN           NaN               NaN        NaN   \n",
       "4              100.0      33.0          29.0              60.0       25.0   \n",
       "\n",
       "   KOOS_QOL  HAQ_hapVAS  HAQ_haqDI  \n",
       "0      69.0        63.0       1.50  \n",
       "1      75.0        23.0       0.25  \n",
       "2      19.0        53.0       1.75  \n",
       "3       NaN         NaN        NaN  \n",
       "4      13.0        70.0       2.00  "
      ]
     },
     "execution_count": 22,
     "metadata": {},
     "output_type": "execute_result"
    }
   ],
   "source": [
    "df2.head()"
   ]
  },
  {
   "cell_type": "code",
   "execution_count": 23,
   "metadata": {},
   "outputs": [
    {
     "data": {
      "text/plain": [
       "Exon/intron allele 1\n",
       "ex8      55\n",
       "ex13     21\n",
       "ex6      18\n",
       "ex7      14\n",
       "ex10     12\n",
       "ex14      8\n",
       "ex3       8\n",
       "ex2       7\n",
       "ex11      7\n",
       " in1      6\n",
       " ex3      6\n",
       "ex9       4\n",
       " ex13     4\n",
       "ex12      4\n",
       " ex14     3\n",
       "ex7i      3\n",
       "ex5       2\n",
       "in1       2\n",
       " ex10     2\n",
       "in7       2\n",
       "ex4       2\n",
       "in8       1\n",
       " ex2      1\n",
       "S47L      1\n",
       " ex8      1\n",
       "in12      1\n",
       "in5       1\n",
       "in10      1\n",
       "in2       1\n",
       "ex 8      1\n",
       "Name: count, dtype: int64"
      ]
     },
     "execution_count": 23,
     "metadata": {},
     "output_type": "execute_result"
    }
   ],
   "source": [
    "# count the number of 'ex8' value in Exon/intron allele 1 column\n",
    "df2['Exon/intron allele 1'].value_counts()"
   ]
  },
  {
   "cell_type": "markdown",
   "metadata": {},
   "source": [
    "vediamo che si deve stare attenti: ci sono varie istanze di ex8, questo perche è stato scritto con gli spazi a volte (ex8, ex8,ex 8)"
   ]
  },
  {
   "cell_type": "code",
   "execution_count": 24,
   "metadata": {},
   "outputs": [
    {
     "data": {
      "text/plain": [
       "183"
      ]
     },
     "execution_count": 24,
     "metadata": {},
     "output_type": "execute_result"
    }
   ],
   "source": [
    "# sum all the values that contains \"ex\" in the string value\n",
    "df2['Exon/intron allele 1'].str.contains('ex').sum()"
   ]
  },
  {
   "cell_type": "code",
   "execution_count": 25,
   "metadata": {},
   "outputs": [],
   "source": [
    "# get the indexes of the values that contains \"in\" in the string value\n",
    "in_indexes = df2['Exon/intron allele 1'][df2['Exon/intron allele 1'].str.contains('in')].index"
   ]
  },
  {
   "cell_type": "code",
   "execution_count": 26,
   "metadata": {},
   "outputs": [
    {
     "data": {
      "text/plain": [
       "Index([3, 24, 74, 103, 115, 135, 141, 142, 148, 157, 159, 163, 170, 193, 217], dtype='int64')"
      ]
     },
     "execution_count": 26,
     "metadata": {},
     "output_type": "execute_result"
    }
   ],
   "source": [
    "in_indexes"
   ]
  },
  {
   "cell_type": "code",
   "execution_count": 27,
   "metadata": {},
   "outputs": [],
   "source": [
    "# drop the rows which index is in_indexes\n",
    "df3 = df2.drop(in_indexes)"
   ]
  },
  {
   "cell_type": "code",
   "execution_count": 28,
   "metadata": {},
   "outputs": [
    {
     "data": {
      "text/plain": [
       "(184, 17)"
      ]
     },
     "execution_count": 28,
     "metadata": {},
     "output_type": "execute_result"
    }
   ],
   "source": [
    "df3.shape"
   ]
  },
  {
   "cell_type": "code",
   "execution_count": 29,
   "metadata": {},
   "outputs": [
    {
     "data": {
      "text/plain": [
       "183"
      ]
     },
     "execution_count": 29,
     "metadata": {},
     "output_type": "execute_result"
    }
   ],
   "source": [
    "# sum all the values that contains \"ex\" in the string value\n",
    "df3['Exon/intron allele 1'].str.contains('ex').sum()"
   ]
  },
  {
   "cell_type": "markdown",
   "metadata": {},
   "source": [
    "notiamo che 183 su 184 istanze hanno ex nella colonna `Exon/intron allele 1`, vediamo chi è la riga che non ha ex"
   ]
  },
  {
   "cell_type": "code",
   "execution_count": 30,
   "metadata": {},
   "outputs": [
    {
     "data": {
      "text/plain": [
       "51    S47L\n",
       "Name: Exon/intron allele 1, dtype: object"
      ]
     },
     "execution_count": 30,
     "metadata": {},
     "output_type": "execute_result"
    }
   ],
   "source": [
    "# see instance that has no \"ex\" in the string value\n",
    "df3['Exon/intron allele 1'][~df3['Exon/intron allele 1'].str.contains('ex')]"
   ]
  },
  {
   "cell_type": "code",
   "execution_count": 31,
   "metadata": {},
   "outputs": [
    {
     "data": {
      "text/html": [
       "<div>\n",
       "<style scoped>\n",
       "    .dataframe tbody tr th:only-of-type {\n",
       "        vertical-align: middle;\n",
       "    }\n",
       "\n",
       "    .dataframe tbody tr th {\n",
       "        vertical-align: top;\n",
       "    }\n",
       "\n",
       "    .dataframe thead th {\n",
       "        text-align: right;\n",
       "    }\n",
       "</style>\n",
       "<table border=\"1\" class=\"dataframe\">\n",
       "  <thead>\n",
       "    <tr style=\"text-align: right;\">\n",
       "      <th></th>\n",
       "      <th>Protein change allele 1</th>\n",
       "      <th>DNA change allele 1</th>\n",
       "      <th>Exon/intron allele 1</th>\n",
       "      <th>Protein change allele 2</th>\n",
       "      <th>DNA change allele 2</th>\n",
       "      <th>ex/in allele 2</th>\n",
       "      <th>physical_health_score</th>\n",
       "      <th>mental_health_score</th>\n",
       "      <th>AKUSSI_jointpain</th>\n",
       "      <th>AKUSSI_spinalpain</th>\n",
       "      <th>KOOSpain</th>\n",
       "      <th>KOOSsymptoms</th>\n",
       "      <th>KOOSdaily_living</th>\n",
       "      <th>KOOSsport</th>\n",
       "      <th>KOOS_QOL</th>\n",
       "      <th>HAQ_hapVAS</th>\n",
       "      <th>HAQ_haqDI</th>\n",
       "    </tr>\n",
       "  </thead>\n",
       "  <tbody>\n",
       "    <tr>\n",
       "      <th>51</th>\n",
       "      <td>c.140C&gt;T</td>\n",
       "      <td>ex3</td>\n",
       "      <td>S47L</td>\n",
       "      <td>c.140C&gt;T</td>\n",
       "      <td>ex3</td>\n",
       "      <td>NaN</td>\n",
       "      <td>NaN</td>\n",
       "      <td>NaN</td>\n",
       "      <td>NaN</td>\n",
       "      <td>NaN</td>\n",
       "      <td>NaN</td>\n",
       "      <td>NaN</td>\n",
       "      <td>NaN</td>\n",
       "      <td>NaN</td>\n",
       "      <td>NaN</td>\n",
       "      <td>NaN</td>\n",
       "      <td>NaN</td>\n",
       "    </tr>\n",
       "  </tbody>\n",
       "</table>\n",
       "</div>"
      ],
      "text/plain": [
       "   Protein change allele 1  DNA change allele 1 Exon/intron allele 1  \\\n",
       "51                 c.140C>T                 ex3                 S47L   \n",
       "\n",
       "   Protein change allele 2 DNA change allele 2 ex/in allele 2  \\\n",
       "51                c.140C>T                 ex3            NaN   \n",
       "\n",
       "    physical_health_score  mental_health_score  AKUSSI_jointpain  \\\n",
       "51                    NaN                  NaN               NaN   \n",
       "\n",
       "    AKUSSI_spinalpain  KOOSpain  KOOSsymptoms  KOOSdaily_living  KOOSsport  \\\n",
       "51                NaN       NaN           NaN               NaN        NaN   \n",
       "\n",
       "    KOOS_QOL  HAQ_hapVAS  HAQ_haqDI  \n",
       "51       NaN         NaN        NaN  "
      ]
     },
     "execution_count": 31,
     "metadata": {},
     "output_type": "execute_result"
    }
   ],
   "source": [
    "df3[48:49]"
   ]
  },
  {
   "cell_type": "markdown",
   "metadata": {},
   "source": [
    "è evidente che i dati sono utilizzabili, ma vanno spostati nelle colonne corrette\n",
    "\n",
    "siccome vediamo che ci sono altri pazienti con la stessa situazione, non serve nemmeno che facciamo questi cambiamenti perche il paziente 51 e gia rappresentato"
   ]
  },
  {
   "cell_type": "code",
   "execution_count": 40,
   "metadata": {},
   "outputs": [
    {
     "data": {
      "text/html": [
       "<div>\n",
       "<style scoped>\n",
       "    .dataframe tbody tr th:only-of-type {\n",
       "        vertical-align: middle;\n",
       "    }\n",
       "\n",
       "    .dataframe tbody tr th {\n",
       "        vertical-align: top;\n",
       "    }\n",
       "\n",
       "    .dataframe thead th {\n",
       "        text-align: right;\n",
       "    }\n",
       "</style>\n",
       "<table border=\"1\" class=\"dataframe\">\n",
       "  <thead>\n",
       "    <tr style=\"text-align: right;\">\n",
       "      <th></th>\n",
       "      <th>Protein change allele 1</th>\n",
       "      <th>DNA change allele 1</th>\n",
       "      <th>Exon/intron allele 1</th>\n",
       "      <th>Protein change allele 2</th>\n",
       "      <th>DNA change allele 2</th>\n",
       "      <th>ex/in allele 2</th>\n",
       "      <th>physical_health_score</th>\n",
       "      <th>mental_health_score</th>\n",
       "      <th>AKUSSI_jointpain</th>\n",
       "      <th>AKUSSI_spinalpain</th>\n",
       "      <th>KOOSpain</th>\n",
       "      <th>KOOSsymptoms</th>\n",
       "      <th>KOOSdaily_living</th>\n",
       "      <th>KOOSsport</th>\n",
       "      <th>KOOS_QOL</th>\n",
       "      <th>HAQ_hapVAS</th>\n",
       "      <th>HAQ_haqDI</th>\n",
       "    </tr>\n",
       "  </thead>\n",
       "  <tbody>\n",
       "    <tr>\n",
       "      <th>6</th>\n",
       "      <td>S47L</td>\n",
       "      <td>c.140C&gt;T</td>\n",
       "      <td>ex3</td>\n",
       "      <td>S47L</td>\n",
       "      <td>c.140C&gt;T</td>\n",
       "      <td>ex3</td>\n",
       "      <td>38.0</td>\n",
       "      <td>53.0</td>\n",
       "      <td>29.0</td>\n",
       "      <td>100.0</td>\n",
       "      <td>78.0</td>\n",
       "      <td>93.0</td>\n",
       "      <td>71.0</td>\n",
       "      <td>25.0</td>\n",
       "      <td>44.0</td>\n",
       "      <td>50.0</td>\n",
       "      <td>0.75</td>\n",
       "    </tr>\n",
       "    <tr>\n",
       "      <th>48</th>\n",
       "      <td>S47L</td>\n",
       "      <td>c.140C&gt;T</td>\n",
       "      <td>ex3</td>\n",
       "      <td>S47L</td>\n",
       "      <td>c.140C&gt;T</td>\n",
       "      <td>ex3</td>\n",
       "      <td>40.0</td>\n",
       "      <td>49.0</td>\n",
       "      <td>14.0</td>\n",
       "      <td>25.0</td>\n",
       "      <td>89.0</td>\n",
       "      <td>86.0</td>\n",
       "      <td>97.0</td>\n",
       "      <td>75.0</td>\n",
       "      <td>75.0</td>\n",
       "      <td>20.0</td>\n",
       "      <td>1.50</td>\n",
       "    </tr>\n",
       "    <tr>\n",
       "      <th>49</th>\n",
       "      <td>S47L</td>\n",
       "      <td>c.140C&gt;T</td>\n",
       "      <td>ex3</td>\n",
       "      <td>S47L</td>\n",
       "      <td>c.140C&gt;T</td>\n",
       "      <td>ex3</td>\n",
       "      <td>28.0</td>\n",
       "      <td>52.0</td>\n",
       "      <td>71.0</td>\n",
       "      <td>75.0</td>\n",
       "      <td>64.0</td>\n",
       "      <td>64.0</td>\n",
       "      <td>68.0</td>\n",
       "      <td>38.0</td>\n",
       "      <td>13.0</td>\n",
       "      <td>80.0</td>\n",
       "      <td>0.50</td>\n",
       "    </tr>\n",
       "  </tbody>\n",
       "</table>\n",
       "</div>"
      ],
      "text/plain": [
       "   Protein change allele 1  DNA change allele 1 Exon/intron allele 1  \\\n",
       "6                      S47L            c.140C>T                  ex3   \n",
       "48                     S47L            c.140C>T                  ex3   \n",
       "49                     S47L            c.140C>T                  ex3   \n",
       "\n",
       "   Protein change allele 2 DNA change allele 2 ex/in allele 2  \\\n",
       "6                     S47L            c.140C>T            ex3   \n",
       "48                    S47L            c.140C>T            ex3   \n",
       "49                    S47L            c.140C>T            ex3   \n",
       "\n",
       "    physical_health_score  mental_health_score  AKUSSI_jointpain  \\\n",
       "6                    38.0                 53.0              29.0   \n",
       "48                   40.0                 49.0              14.0   \n",
       "49                   28.0                 52.0              71.0   \n",
       "\n",
       "    AKUSSI_spinalpain  KOOSpain  KOOSsymptoms  KOOSdaily_living  KOOSsport  \\\n",
       "6               100.0      78.0          93.0              71.0       25.0   \n",
       "48               25.0      89.0          86.0              97.0       75.0   \n",
       "49               75.0      64.0          64.0              68.0       38.0   \n",
       "\n",
       "    KOOS_QOL  HAQ_hapVAS  HAQ_haqDI  \n",
       "6       44.0        50.0       0.75  \n",
       "48      75.0        20.0       1.50  \n",
       "49      13.0        80.0       0.50  "
      ]
     },
     "execution_count": 40,
     "metadata": {},
     "output_type": "execute_result"
    }
   ],
   "source": [
    "# define df that has S47L in the Protein change allele 1 column\n",
    "df_s = df3[df3['Protein change allele 1 '].str.contains('S47L')]\n",
    "df_s"
   ]
  },
  {
   "cell_type": "code",
   "execution_count": 41,
   "metadata": {},
   "outputs": [
    {
     "data": {
      "text/plain": [
       "Index([51], dtype='int64')"
      ]
     },
     "execution_count": 41,
     "metadata": {},
     "output_type": "execute_result"
    }
   ],
   "source": [
    "# get the index of the elements that does not contain \"ex\" in the string value\n",
    "not_ex_indexes = df3['Exon/intron allele 1'][~df3['Exon/intron allele 1'].str.contains('ex')].index\n",
    "not_ex_indexes"
   ]
  },
  {
   "cell_type": "code",
   "execution_count": 42,
   "metadata": {},
   "outputs": [],
   "source": [
    "# drop the rows which index is not_ex_indexes\n",
    "df3 = df3.drop(not_ex_indexes)"
   ]
  },
  {
   "cell_type": "code",
   "execution_count": 43,
   "metadata": {},
   "outputs": [
    {
     "data": {
      "text/plain": [
       "Index([8, 15, 45, 78, 98, 108, 130, 131, 146, 147, 153, 181, 207], dtype='int64')"
      ]
     },
     "execution_count": 43,
     "metadata": {},
     "output_type": "execute_result"
    }
   ],
   "source": [
    "not_ex_indexes2 = df3['ex/in allele 2'][~df3['ex/in allele 2'].str.contains('ex')].index\n",
    "not_ex_indexes2"
   ]
  },
  {
   "cell_type": "code",
   "execution_count": 44,
   "metadata": {},
   "outputs": [
    {
     "data": {
      "text/plain": [
       "(170, 17)"
      ]
     },
     "execution_count": 44,
     "metadata": {},
     "output_type": "execute_result"
    }
   ],
   "source": [
    "# drop the rows which index is not_ex_indexes\n",
    "df3 = df3.drop(not_ex_indexes2)\n",
    "df3.shape"
   ]
  },
  {
   "cell_type": "code",
   "execution_count": 45,
   "metadata": {},
   "outputs": [],
   "source": [
    "def is_replace(mutation):\n",
    "\n",
    "    if mutation[0].isupper() and mutation[-1].isupper() and mutation[1:-1].isdigit(): \n",
    "        return True\n",
    "    return False"
   ]
  },
  {
   "cell_type": "code",
   "execution_count": 46,
   "metadata": {},
   "outputs": [
    {
     "data": {
      "text/plain": [
       "(135, 17)"
      ]
     },
     "execution_count": 46,
     "metadata": {},
     "output_type": "execute_result"
    }
   ],
   "source": [
    "# drop the rows that does not contain a replacement mutation\n",
    "df4 = df3[df3['Protein change allele 1 '].apply(is_replace)]\n",
    "df4.shape"
   ]
  },
  {
   "cell_type": "code",
   "execution_count": 47,
   "metadata": {},
   "outputs": [],
   "source": [
    "# in the same way, drop the rows that does not contain a replacement mutation wrt allele 2\n",
    "df4 = df4[df4['Protein change allele 2'].apply(is_replace)]"
   ]
  },
  {
   "cell_type": "code",
   "execution_count": 48,
   "metadata": {},
   "outputs": [
    {
     "data": {
      "text/plain": [
       "(116, 17)"
      ]
     },
     "execution_count": 48,
     "metadata": {},
     "output_type": "execute_result"
    }
   ],
   "source": [
    "df4.shape"
   ]
  },
  {
   "cell_type": "code",
   "execution_count": 50,
   "metadata": {},
   "outputs": [
    {
     "data": {
      "text/html": [
       "<div>\n",
       "<style scoped>\n",
       "    .dataframe tbody tr th:only-of-type {\n",
       "        vertical-align: middle;\n",
       "    }\n",
       "\n",
       "    .dataframe tbody tr th {\n",
       "        vertical-align: top;\n",
       "    }\n",
       "\n",
       "    .dataframe thead th {\n",
       "        text-align: right;\n",
       "    }\n",
       "</style>\n",
       "<table border=\"1\" class=\"dataframe\">\n",
       "  <thead>\n",
       "    <tr style=\"text-align: right;\">\n",
       "      <th></th>\n",
       "      <th>Protein change allele 1</th>\n",
       "      <th>DNA change allele 1</th>\n",
       "      <th>Exon/intron allele 1</th>\n",
       "      <th>Protein change allele 2</th>\n",
       "      <th>DNA change allele 2</th>\n",
       "      <th>ex/in allele 2</th>\n",
       "      <th>physical_health_score</th>\n",
       "      <th>mental_health_score</th>\n",
       "      <th>AKUSSI_jointpain</th>\n",
       "      <th>AKUSSI_spinalpain</th>\n",
       "      <th>KOOSpain</th>\n",
       "      <th>KOOSsymptoms</th>\n",
       "      <th>KOOSdaily_living</th>\n",
       "      <th>KOOSsport</th>\n",
       "      <th>KOOS_QOL</th>\n",
       "      <th>HAQ_hapVAS</th>\n",
       "      <th>HAQ_haqDI</th>\n",
       "    </tr>\n",
       "  </thead>\n",
       "  <tbody>\n",
       "    <tr>\n",
       "      <th>1</th>\n",
       "      <td>G161R</td>\n",
       "      <td>c.481G&gt;A</td>\n",
       "      <td>ex8</td>\n",
       "      <td>G161R</td>\n",
       "      <td>c.481G&gt;A</td>\n",
       "      <td>ex8</td>\n",
       "      <td>53.0</td>\n",
       "      <td>51.0</td>\n",
       "      <td>29.0</td>\n",
       "      <td>25.0</td>\n",
       "      <td>92.0</td>\n",
       "      <td>96.0</td>\n",
       "      <td>91.0</td>\n",
       "      <td>85.0</td>\n",
       "      <td>75.0</td>\n",
       "      <td>23.0</td>\n",
       "      <td>0.25</td>\n",
       "    </tr>\n",
       "    <tr>\n",
       "      <th>2</th>\n",
       "      <td>G161R</td>\n",
       "      <td>c.481G&gt;A</td>\n",
       "      <td>ex8</td>\n",
       "      <td>M368V</td>\n",
       "      <td>c.1102A&gt;G</td>\n",
       "      <td>ex13</td>\n",
       "      <td>23.0</td>\n",
       "      <td>40.0</td>\n",
       "      <td>36.0</td>\n",
       "      <td>100.0</td>\n",
       "      <td>47.0</td>\n",
       "      <td>39.0</td>\n",
       "      <td>31.0</td>\n",
       "      <td>0.0</td>\n",
       "      <td>19.0</td>\n",
       "      <td>53.0</td>\n",
       "      <td>1.75</td>\n",
       "    </tr>\n",
       "    <tr>\n",
       "      <th>4</th>\n",
       "      <td>G161R</td>\n",
       "      <td>c.481G&gt;A</td>\n",
       "      <td>ex8</td>\n",
       "      <td>G161R</td>\n",
       "      <td>c.481G&gt;A</td>\n",
       "      <td>ex8</td>\n",
       "      <td>23.0</td>\n",
       "      <td>29.0</td>\n",
       "      <td>50.0</td>\n",
       "      <td>100.0</td>\n",
       "      <td>33.0</td>\n",
       "      <td>29.0</td>\n",
       "      <td>60.0</td>\n",
       "      <td>25.0</td>\n",
       "      <td>13.0</td>\n",
       "      <td>70.0</td>\n",
       "      <td>2.00</td>\n",
       "    </tr>\n",
       "    <tr>\n",
       "      <th>5</th>\n",
       "      <td>G161R</td>\n",
       "      <td>c.481G&gt;A</td>\n",
       "      <td>ex8</td>\n",
       "      <td>G161R</td>\n",
       "      <td>c.481G&gt;A</td>\n",
       "      <td>ex8</td>\n",
       "      <td>26.0</td>\n",
       "      <td>31.0</td>\n",
       "      <td>50.0</td>\n",
       "      <td>100.0</td>\n",
       "      <td>44.0</td>\n",
       "      <td>29.0</td>\n",
       "      <td>32.0</td>\n",
       "      <td>35.0</td>\n",
       "      <td>13.0</td>\n",
       "      <td>71.0</td>\n",
       "      <td>1.88</td>\n",
       "    </tr>\n",
       "    <tr>\n",
       "      <th>6</th>\n",
       "      <td>S47L</td>\n",
       "      <td>c.140C&gt;T</td>\n",
       "      <td>ex3</td>\n",
       "      <td>S47L</td>\n",
       "      <td>c.140C&gt;T</td>\n",
       "      <td>ex3</td>\n",
       "      <td>38.0</td>\n",
       "      <td>53.0</td>\n",
       "      <td>29.0</td>\n",
       "      <td>100.0</td>\n",
       "      <td>78.0</td>\n",
       "      <td>93.0</td>\n",
       "      <td>71.0</td>\n",
       "      <td>25.0</td>\n",
       "      <td>44.0</td>\n",
       "      <td>50.0</td>\n",
       "      <td>0.75</td>\n",
       "    </tr>\n",
       "    <tr>\n",
       "      <th>7</th>\n",
       "      <td>G161R</td>\n",
       "      <td>c.481G&gt;A</td>\n",
       "      <td>ex8</td>\n",
       "      <td>G161R</td>\n",
       "      <td>c.481G&gt;A</td>\n",
       "      <td>ex8</td>\n",
       "      <td>41.0</td>\n",
       "      <td>64.0</td>\n",
       "      <td>21.0</td>\n",
       "      <td>0.0</td>\n",
       "      <td>78.0</td>\n",
       "      <td>39.0</td>\n",
       "      <td>76.0</td>\n",
       "      <td>60.0</td>\n",
       "      <td>56.0</td>\n",
       "      <td>2.0</td>\n",
       "      <td>0.63</td>\n",
       "    </tr>\n",
       "    <tr>\n",
       "      <th>10</th>\n",
       "      <td>W97C</td>\n",
       "      <td>c.291G&gt;C</td>\n",
       "      <td>ex5</td>\n",
       "      <td>W97C</td>\n",
       "      <td>c.291G&gt;C</td>\n",
       "      <td>ex5</td>\n",
       "      <td>44.0</td>\n",
       "      <td>56.0</td>\n",
       "      <td>57.0</td>\n",
       "      <td>50.0</td>\n",
       "      <td>94.0</td>\n",
       "      <td>100.0</td>\n",
       "      <td>100.0</td>\n",
       "      <td>100.0</td>\n",
       "      <td>69.0</td>\n",
       "      <td>55.0</td>\n",
       "      <td>0.00</td>\n",
       "    </tr>\n",
       "    <tr>\n",
       "      <th>13</th>\n",
       "      <td>R225P</td>\n",
       "      <td>c.674G&gt;C</td>\n",
       "      <td>ex10</td>\n",
       "      <td>I216T</td>\n",
       "      <td>c.647T&gt;C</td>\n",
       "      <td>ex9</td>\n",
       "      <td>33.0</td>\n",
       "      <td>17.0</td>\n",
       "      <td>57.0</td>\n",
       "      <td>100.0</td>\n",
       "      <td>17.0</td>\n",
       "      <td>0.0</td>\n",
       "      <td>21.0</td>\n",
       "      <td>0.0</td>\n",
       "      <td>6.0</td>\n",
       "      <td>100.0</td>\n",
       "      <td>1.38</td>\n",
       "    </tr>\n",
       "    <tr>\n",
       "      <th>16</th>\n",
       "      <td>R53Q</td>\n",
       "      <td>c.158G&gt;A</td>\n",
       "      <td>ex3</td>\n",
       "      <td>R53Q</td>\n",
       "      <td>c.158G&gt;A</td>\n",
       "      <td>ex3</td>\n",
       "      <td>25.0</td>\n",
       "      <td>44.0</td>\n",
       "      <td>29.0</td>\n",
       "      <td>75.0</td>\n",
       "      <td>47.0</td>\n",
       "      <td>54.0</td>\n",
       "      <td>18.0</td>\n",
       "      <td>0.0</td>\n",
       "      <td>19.0</td>\n",
       "      <td>77.0</td>\n",
       "      <td>1.63</td>\n",
       "    </tr>\n",
       "    <tr>\n",
       "      <th>17</th>\n",
       "      <td>G161R</td>\n",
       "      <td>c.481G&gt;A</td>\n",
       "      <td>ex8</td>\n",
       "      <td>G161R</td>\n",
       "      <td>c.481G&gt;A</td>\n",
       "      <td>ex8</td>\n",
       "      <td>40.0</td>\n",
       "      <td>2.0</td>\n",
       "      <td>50.0</td>\n",
       "      <td>100.0</td>\n",
       "      <td>NaN</td>\n",
       "      <td>NaN</td>\n",
       "      <td>NaN</td>\n",
       "      <td>NaN</td>\n",
       "      <td>NaN</td>\n",
       "      <td>98.0</td>\n",
       "      <td>2.50</td>\n",
       "    </tr>\n",
       "    <tr>\n",
       "      <th>18</th>\n",
       "      <td>G161R</td>\n",
       "      <td>c.481G&gt;A</td>\n",
       "      <td>ex8</td>\n",
       "      <td>G161R</td>\n",
       "      <td>c.481G&gt;A</td>\n",
       "      <td>ex8</td>\n",
       "      <td>16.0</td>\n",
       "      <td>30.0</td>\n",
       "      <td>43.0</td>\n",
       "      <td>100.0</td>\n",
       "      <td>36.0</td>\n",
       "      <td>21.0</td>\n",
       "      <td>3.0</td>\n",
       "      <td>0.0</td>\n",
       "      <td>0.0</td>\n",
       "      <td>48.0</td>\n",
       "      <td>2.50</td>\n",
       "    </tr>\n",
       "    <tr>\n",
       "      <th>19</th>\n",
       "      <td>A267V</td>\n",
       "      <td>c.800C&gt;T</td>\n",
       "      <td>ex11</td>\n",
       "      <td>A267V</td>\n",
       "      <td>c.800C&gt;T</td>\n",
       "      <td>ex11</td>\n",
       "      <td>57.0</td>\n",
       "      <td>58.0</td>\n",
       "      <td>0.0</td>\n",
       "      <td>50.0</td>\n",
       "      <td>100.0</td>\n",
       "      <td>100.0</td>\n",
       "      <td>100.0</td>\n",
       "      <td>100.0</td>\n",
       "      <td>100.0</td>\n",
       "      <td>0.0</td>\n",
       "      <td>0.00</td>\n",
       "    </tr>\n",
       "    <tr>\n",
       "      <th>21</th>\n",
       "      <td>M368V</td>\n",
       "      <td>c.1102A&gt;G</td>\n",
       "      <td>ex13</td>\n",
       "      <td>M368V</td>\n",
       "      <td>c.1102A&gt;G</td>\n",
       "      <td>ex13</td>\n",
       "      <td>15.0</td>\n",
       "      <td>50.0</td>\n",
       "      <td>79.0</td>\n",
       "      <td>100.0</td>\n",
       "      <td>19.0</td>\n",
       "      <td>14.0</td>\n",
       "      <td>19.0</td>\n",
       "      <td>5.0</td>\n",
       "      <td>0.0</td>\n",
       "      <td>80.0</td>\n",
       "      <td>1.63</td>\n",
       "    </tr>\n",
       "    <tr>\n",
       "      <th>27</th>\n",
       "      <td>G362E</td>\n",
       "      <td>c.1085G&gt;A</td>\n",
       "      <td>ex13</td>\n",
       "      <td>M368V</td>\n",
       "      <td>c.1102A&gt;G</td>\n",
       "      <td>ex13</td>\n",
       "      <td>38.0</td>\n",
       "      <td>28.0</td>\n",
       "      <td>29.0</td>\n",
       "      <td>100.0</td>\n",
       "      <td>86.0</td>\n",
       "      <td>79.0</td>\n",
       "      <td>78.0</td>\n",
       "      <td>75.0</td>\n",
       "      <td>69.0</td>\n",
       "      <td>74.0</td>\n",
       "      <td>0.50</td>\n",
       "    </tr>\n",
       "    <tr>\n",
       "      <th>28</th>\n",
       "      <td>G161R</td>\n",
       "      <td>c.481G&gt;A</td>\n",
       "      <td>ex8</td>\n",
       "      <td>R53Q</td>\n",
       "      <td>c.158G&gt;A</td>\n",
       "      <td>ex3</td>\n",
       "      <td>54.0</td>\n",
       "      <td>52.0</td>\n",
       "      <td>7.0</td>\n",
       "      <td>25.0</td>\n",
       "      <td>100.0</td>\n",
       "      <td>93.0</td>\n",
       "      <td>84.0</td>\n",
       "      <td>75.0</td>\n",
       "      <td>88.0</td>\n",
       "      <td>20.0</td>\n",
       "      <td>0.00</td>\n",
       "    </tr>\n",
       "  </tbody>\n",
       "</table>\n",
       "</div>"
      ],
      "text/plain": [
       "   Protein change allele 1  DNA change allele 1 Exon/intron allele 1  \\\n",
       "1                     G161R            c.481G>A                  ex8   \n",
       "2                     G161R            c.481G>A                  ex8   \n",
       "4                     G161R            c.481G>A                  ex8   \n",
       "5                     G161R            c.481G>A                  ex8   \n",
       "6                      S47L            c.140C>T                  ex3   \n",
       "7                     G161R            c.481G>A                  ex8   \n",
       "10                     W97C            c.291G>C                  ex5   \n",
       "13                    R225P            c.674G>C                 ex10   \n",
       "16                     R53Q            c.158G>A                  ex3   \n",
       "17                    G161R            c.481G>A                  ex8   \n",
       "18                    G161R            c.481G>A                  ex8   \n",
       "19                    A267V            c.800C>T                 ex11   \n",
       "21                    M368V           c.1102A>G                 ex13   \n",
       "27                    G362E           c.1085G>A                 ex13   \n",
       "28                    G161R            c.481G>A                  ex8   \n",
       "\n",
       "   Protein change allele 2 DNA change allele 2 ex/in allele 2  \\\n",
       "1                    G161R            c.481G>A            ex8   \n",
       "2                    M368V           c.1102A>G           ex13   \n",
       "4                    G161R            c.481G>A            ex8   \n",
       "5                    G161R            c.481G>A            ex8   \n",
       "6                     S47L            c.140C>T            ex3   \n",
       "7                    G161R            c.481G>A            ex8   \n",
       "10                    W97C            c.291G>C            ex5   \n",
       "13                   I216T            c.647T>C            ex9   \n",
       "16                    R53Q            c.158G>A            ex3   \n",
       "17                   G161R            c.481G>A            ex8   \n",
       "18                   G161R            c.481G>A            ex8   \n",
       "19                   A267V            c.800C>T           ex11   \n",
       "21                   M368V           c.1102A>G           ex13   \n",
       "27                   M368V           c.1102A>G           ex13   \n",
       "28                    R53Q            c.158G>A            ex3   \n",
       "\n",
       "    physical_health_score  mental_health_score  AKUSSI_jointpain  \\\n",
       "1                    53.0                 51.0              29.0   \n",
       "2                    23.0                 40.0              36.0   \n",
       "4                    23.0                 29.0              50.0   \n",
       "5                    26.0                 31.0              50.0   \n",
       "6                    38.0                 53.0              29.0   \n",
       "7                    41.0                 64.0              21.0   \n",
       "10                   44.0                 56.0              57.0   \n",
       "13                   33.0                 17.0              57.0   \n",
       "16                   25.0                 44.0              29.0   \n",
       "17                   40.0                  2.0              50.0   \n",
       "18                   16.0                 30.0              43.0   \n",
       "19                   57.0                 58.0               0.0   \n",
       "21                   15.0                 50.0              79.0   \n",
       "27                   38.0                 28.0              29.0   \n",
       "28                   54.0                 52.0               7.0   \n",
       "\n",
       "    AKUSSI_spinalpain  KOOSpain  KOOSsymptoms  KOOSdaily_living  KOOSsport  \\\n",
       "1                25.0      92.0          96.0              91.0       85.0   \n",
       "2               100.0      47.0          39.0              31.0        0.0   \n",
       "4               100.0      33.0          29.0              60.0       25.0   \n",
       "5               100.0      44.0          29.0              32.0       35.0   \n",
       "6               100.0      78.0          93.0              71.0       25.0   \n",
       "7                 0.0      78.0          39.0              76.0       60.0   \n",
       "10               50.0      94.0         100.0             100.0      100.0   \n",
       "13              100.0      17.0           0.0              21.0        0.0   \n",
       "16               75.0      47.0          54.0              18.0        0.0   \n",
       "17              100.0       NaN           NaN               NaN        NaN   \n",
       "18              100.0      36.0          21.0               3.0        0.0   \n",
       "19               50.0     100.0         100.0             100.0      100.0   \n",
       "21              100.0      19.0          14.0              19.0        5.0   \n",
       "27              100.0      86.0          79.0              78.0       75.0   \n",
       "28               25.0     100.0          93.0              84.0       75.0   \n",
       "\n",
       "    KOOS_QOL  HAQ_hapVAS  HAQ_haqDI  \n",
       "1       75.0        23.0       0.25  \n",
       "2       19.0        53.0       1.75  \n",
       "4       13.0        70.0       2.00  \n",
       "5       13.0        71.0       1.88  \n",
       "6       44.0        50.0       0.75  \n",
       "7       56.0         2.0       0.63  \n",
       "10      69.0        55.0       0.00  \n",
       "13       6.0       100.0       1.38  \n",
       "16      19.0        77.0       1.63  \n",
       "17       NaN        98.0       2.50  \n",
       "18       0.0        48.0       2.50  \n",
       "19     100.0         0.0       0.00  \n",
       "21       0.0        80.0       1.63  \n",
       "27      69.0        74.0       0.50  \n",
       "28      88.0        20.0       0.00  "
      ]
     },
     "execution_count": 50,
     "metadata": {},
     "output_type": "execute_result"
    }
   ],
   "source": [
    "df4.head(15)"
   ]
  },
  {
   "cell_type": "code",
   "execution_count": 52,
   "metadata": {},
   "outputs": [
    {
     "data": {
      "text/html": [
       "<div>\n",
       "<style scoped>\n",
       "    .dataframe tbody tr th:only-of-type {\n",
       "        vertical-align: middle;\n",
       "    }\n",
       "\n",
       "    .dataframe tbody tr th {\n",
       "        vertical-align: top;\n",
       "    }\n",
       "\n",
       "    .dataframe thead th {\n",
       "        text-align: right;\n",
       "    }\n",
       "</style>\n",
       "<table border=\"1\" class=\"dataframe\">\n",
       "  <thead>\n",
       "    <tr style=\"text-align: right;\">\n",
       "      <th></th>\n",
       "      <th>Protein change allele 1</th>\n",
       "      <th>DNA change allele 1</th>\n",
       "      <th>Exon/intron allele 1</th>\n",
       "      <th>Protein change allele 2</th>\n",
       "      <th>DNA change allele 2</th>\n",
       "      <th>ex/in allele 2</th>\n",
       "    </tr>\n",
       "  </thead>\n",
       "  <tbody>\n",
       "    <tr>\n",
       "      <th>1</th>\n",
       "      <td>G161R</td>\n",
       "      <td>c.481G&gt;A</td>\n",
       "      <td>ex8</td>\n",
       "      <td>G161R</td>\n",
       "      <td>c.481G&gt;A</td>\n",
       "      <td>ex8</td>\n",
       "    </tr>\n",
       "    <tr>\n",
       "      <th>2</th>\n",
       "      <td>G161R</td>\n",
       "      <td>c.481G&gt;A</td>\n",
       "      <td>ex8</td>\n",
       "      <td>M368V</td>\n",
       "      <td>c.1102A&gt;G</td>\n",
       "      <td>ex13</td>\n",
       "    </tr>\n",
       "    <tr>\n",
       "      <th>4</th>\n",
       "      <td>G161R</td>\n",
       "      <td>c.481G&gt;A</td>\n",
       "      <td>ex8</td>\n",
       "      <td>G161R</td>\n",
       "      <td>c.481G&gt;A</td>\n",
       "      <td>ex8</td>\n",
       "    </tr>\n",
       "    <tr>\n",
       "      <th>5</th>\n",
       "      <td>G161R</td>\n",
       "      <td>c.481G&gt;A</td>\n",
       "      <td>ex8</td>\n",
       "      <td>G161R</td>\n",
       "      <td>c.481G&gt;A</td>\n",
       "      <td>ex8</td>\n",
       "    </tr>\n",
       "    <tr>\n",
       "      <th>6</th>\n",
       "      <td>S47L</td>\n",
       "      <td>c.140C&gt;T</td>\n",
       "      <td>ex3</td>\n",
       "      <td>S47L</td>\n",
       "      <td>c.140C&gt;T</td>\n",
       "      <td>ex3</td>\n",
       "    </tr>\n",
       "  </tbody>\n",
       "</table>\n",
       "</div>"
      ],
      "text/plain": [
       "  Protein change allele 1  DNA change allele 1 Exon/intron allele 1  \\\n",
       "1                    G161R            c.481G>A                  ex8   \n",
       "2                    G161R            c.481G>A                  ex8   \n",
       "4                    G161R            c.481G>A                  ex8   \n",
       "5                    G161R            c.481G>A                  ex8   \n",
       "6                     S47L            c.140C>T                  ex3   \n",
       "\n",
       "  Protein change allele 2 DNA change allele 2 ex/in allele 2  \n",
       "1                   G161R            c.481G>A            ex8  \n",
       "2                   M368V           c.1102A>G           ex13  \n",
       "4                   G161R            c.481G>A            ex8  \n",
       "5                   G161R            c.481G>A            ex8  \n",
       "6                    S47L            c.140C>T            ex3  "
      ]
     },
     "execution_count": 52,
     "metadata": {},
     "output_type": "execute_result"
    }
   ],
   "source": [
    "seq = [\n",
    "    'Protein change allele 1 ', \n",
    "    'DNA change allele 1',\n",
    "    'Exon/intron allele 1', \n",
    "    'Protein change allele 2',\n",
    "    'DNA change allele 2', \n",
    "    'ex/in allele 2'\n",
    "]\n",
    "\n",
    "# keep only the columns in the seq list\n",
    "df5 = df4[seq]\n",
    "df5.head()"
   ]
  },
  {
   "cell_type": "code",
   "execution_count": 54,
   "metadata": {},
   "outputs": [
    {
     "data": {
      "text/plain": [
       "DNA change allele 1\n",
       "c.481G>A      36\n",
       "c.365C>T      12\n",
       " c.1201G>C     8\n",
       "c.1102A>G      6\n",
       " c.158G>A      4\n",
       " c.1102A>G     3\n",
       " C158G>A       3\n",
       "c.502G>A       3\n",
       "c.140C>T       3\n",
       " c.688C>T      3\n",
       "c.688C>T       3\n",
       "c.647T>C       2\n",
       "c.368G>C       2\n",
       "c.1078G>C      2\n",
       "c.808G>A       2\n",
       "c.217T>C       1\n",
       "c.289T>G       1\n",
       "c.509G>C       1\n",
       "c.1081G>A      1\n",
       "c.553G>A       1\n",
       "c.449C>T       1\n",
       "c.815A>G       1\n",
       "c.508G>A       1\n",
       "c.359G>T       1\n",
       "c.130C>T       1\n",
       "c.1079G>C      1\n",
       "c.680T>C       1\n",
       "c.593G>A       1\n",
       "c.742A>G       1\n",
       "c.119A>C       1\n",
       "c.752G>A       1\n",
       "c.347T>C       1\n",
       "c.533A>G       1\n",
       "c.990G>C       1\n",
       "c.1085G>A      1\n",
       "c.800C>T       1\n",
       "c.674G>C       1\n",
       "c.291G>C       1\n",
       "c.1057A>C      1\n",
       "Name: count, dtype: int64"
      ]
     },
     "execution_count": 54,
     "metadata": {},
     "output_type": "execute_result"
    }
   ],
   "source": [
    "df5['DNA change allele 1'].value_counts()"
   ]
  },
  {
   "cell_type": "markdown",
   "metadata": {},
   "source": [
    "some instances have a space before the DNA change: let's uniform the data"
   ]
  },
  {
   "cell_type": "code",
   "execution_count": 57,
   "metadata": {},
   "outputs": [
    {
     "name": "stderr",
     "output_type": "stream",
     "text": [
      "/var/folders/xd/64006ztx62g6gm6fh5jj4src0000gn/T/ipykernel_26826/2035421048.py:2: SettingWithCopyWarning: \n",
      "A value is trying to be set on a copy of a slice from a DataFrame.\n",
      "Try using .loc[row_indexer,col_indexer] = value instead\n",
      "\n",
      "See the caveats in the documentation: https://pandas.pydata.org/pandas-docs/stable/user_guide/indexing.html#returning-a-view-versus-a-copy\n",
      "  df5['DNA change allele 1'] = df5['DNA change allele 1'].str.replace(' ', '')\n"
     ]
    },
    {
     "data": {
      "text/plain": [
       "DNA change allele 1\n",
       "c.481G>A     36\n",
       "c.365C>T     12\n",
       "c.1102A>G     9\n",
       "c.1201G>C     8\n",
       "c.688C>T      6\n",
       "c.158G>A      4\n",
       "C158G>A       3\n",
       "c.502G>A      3\n",
       "c.140C>T      3\n",
       "c.1078G>C     2\n",
       "c.368G>C      2\n",
       "c.647T>C      2\n",
       "c.808G>A      2\n",
       "c.289T>G      1\n",
       "c.359G>T      1\n",
       "c.217T>C      1\n",
       "c.509G>C      1\n",
       "c.1081G>A     1\n",
       "c.553G>A      1\n",
       "c.1079G>C     1\n",
       "c.815A>G      1\n",
       "c.508G>A      1\n",
       "c.449C>T      1\n",
       "c.742A>G      1\n",
       "c.680T>C      1\n",
       "c.593G>A      1\n",
       "c.130C>T      1\n",
       "c.119A>C      1\n",
       "c.752G>A      1\n",
       "c.347T>C      1\n",
       "c.533A>G      1\n",
       "c.990G>C      1\n",
       "c.1085G>A     1\n",
       "c.800C>T      1\n",
       "c.674G>C      1\n",
       "c.291G>C      1\n",
       "c.1057A>C     1\n",
       "Name: count, dtype: int64"
      ]
     },
     "execution_count": 57,
     "metadata": {},
     "output_type": "execute_result"
    }
   ],
   "source": [
    "# eliminate the space in the column DNA change allele 1\n",
    "df5['DNA change allele 1'] = df5['DNA change allele 1'].str.replace(' ', '')\n",
    "df5['DNA change allele 1'].value_counts()"
   ]
  },
  {
   "cell_type": "code",
   "execution_count": 58,
   "metadata": {},
   "outputs": [
    {
     "data": {
      "text/plain": [
       "Exon/intron allele 1\n",
       "ex8      41\n",
       "ex6      16\n",
       "ex13     12\n",
       "ex10      8\n",
       "ex3       6\n",
       " ex3      6\n",
       "ex14      5\n",
       "ex11      4\n",
       "ex9       4\n",
       " ex14     3\n",
       " ex13     3\n",
       "ex5       2\n",
       " ex10     2\n",
       "ex12      1\n",
       "ex7       1\n",
       "ex4       1\n",
       "ex 8      1\n",
       "Name: count, dtype: int64"
      ]
     },
     "execution_count": 58,
     "metadata": {},
     "output_type": "execute_result"
    }
   ],
   "source": [
    "# see value counts for Exon/intron allele 1 column\n",
    "df5['Exon/intron allele 1'].value_counts()"
   ]
  },
  {
   "cell_type": "code",
   "execution_count": 59,
   "metadata": {},
   "outputs": [
    {
     "name": "stderr",
     "output_type": "stream",
     "text": [
      "/var/folders/xd/64006ztx62g6gm6fh5jj4src0000gn/T/ipykernel_26826/4246110940.py:2: SettingWithCopyWarning: \n",
      "A value is trying to be set on a copy of a slice from a DataFrame.\n",
      "Try using .loc[row_indexer,col_indexer] = value instead\n",
      "\n",
      "See the caveats in the documentation: https://pandas.pydata.org/pandas-docs/stable/user_guide/indexing.html#returning-a-view-versus-a-copy\n",
      "  df5['Exon/intron allele 1'] = df5['Exon/intron allele 1'].str.replace(' ', '')\n"
     ]
    },
    {
     "data": {
      "text/plain": [
       "Exon/intron allele 1\n",
       "ex8     42\n",
       "ex6     16\n",
       "ex13    15\n",
       "ex3     12\n",
       "ex10    10\n",
       "ex14     8\n",
       "ex11     4\n",
       "ex9      4\n",
       "ex5      2\n",
       "ex12     1\n",
       "ex7      1\n",
       "ex4      1\n",
       "Name: count, dtype: int64"
      ]
     },
     "execution_count": 59,
     "metadata": {},
     "output_type": "execute_result"
    }
   ],
   "source": [
    "# eliminate the space in the column Exon/intron allele 1\n",
    "df5['Exon/intron allele 1'] = df5['Exon/intron allele 1'].str.replace(' ', '')\n",
    "df5['Exon/intron allele 1'].value_counts()"
   ]
  },
  {
   "cell_type": "code",
   "execution_count": 61,
   "metadata": {},
   "outputs": [
    {
     "data": {
      "text/plain": [
       "DNA change allele 2\n",
       "c.481G>A      22\n",
       "c.365C>T      13\n",
       " c.1201G>C     9\n",
       "c.1102A>G      8\n",
       "c.1078G>C      6\n",
       " c.158G>A      6\n",
       " c.688C>T      4\n",
       "c.808G>A       4\n",
       " c.899T>G      4\n",
       "c.680T>C       3\n",
       " C158G>A       3\n",
       " c.1102A>G     3\n",
       "c.140C>T       3\n",
       "c.502G>A       2\n",
       "c.688C>T       2\n",
       "c.647T>C       2\n",
       "c.368G>C       2\n",
       "c.533A>G       1\n",
       "c.899T>G       1\n",
       "c.1057A>C      1\n",
       "c.815A>G       1\n",
       "c.995C>G       1\n",
       "c.500C>T       1\n",
       "c.359G>T       1\n",
       "c.119A>C       1\n",
       "c.593G>A       1\n",
       "c.130C>T       1\n",
       "c.742A>G       1\n",
       "c.752G>A       1\n",
       "c.614G>A       1\n",
       "c.347T>C       1\n",
       "c.990G>C       1\n",
       "c.1037T>C      1\n",
       "c.454G>A       1\n",
       "c.800C>T       1\n",
       "c.291G>C       1\n",
       "c.52G>T        1\n",
       "Name: count, dtype: int64"
      ]
     },
     "execution_count": 61,
     "metadata": {},
     "output_type": "execute_result"
    }
   ],
   "source": [
    "df5['DNA change allele 2'].value_counts()"
   ]
  },
  {
   "cell_type": "code",
   "execution_count": 62,
   "metadata": {},
   "outputs": [
    {
     "name": "stderr",
     "output_type": "stream",
     "text": [
      "/var/folders/xd/64006ztx62g6gm6fh5jj4src0000gn/T/ipykernel_26826/1093346150.py:2: SettingWithCopyWarning: \n",
      "A value is trying to be set on a copy of a slice from a DataFrame.\n",
      "Try using .loc[row_indexer,col_indexer] = value instead\n",
      "\n",
      "See the caveats in the documentation: https://pandas.pydata.org/pandas-docs/stable/user_guide/indexing.html#returning-a-view-versus-a-copy\n",
      "  df5['DNA change allele 2'] = df5['DNA change allele 2'].str.replace(' ', '')\n"
     ]
    },
    {
     "data": {
      "text/plain": [
       "DNA change allele 2\n",
       "c.481G>A     22\n",
       "c.365C>T     13\n",
       "c.1102A>G    11\n",
       "c.1201G>C     9\n",
       "c.688C>T      6\n",
       "c.1078G>C     6\n",
       "c.158G>A      6\n",
       "c.899T>G      5\n",
       "c.808G>A      4\n",
       "C158G>A       3\n",
       "c.140C>T      3\n",
       "c.680T>C      3\n",
       "c.502G>A      2\n",
       "c.647T>C      2\n",
       "c.368G>C      2\n",
       "c.593G>A      1\n",
       "c.995C>G      1\n",
       "c.500C>T      1\n",
       "c.815A>G      1\n",
       "c.359G>T      1\n",
       "c.533A>G      1\n",
       "c.1057A>C     1\n",
       "c.752G>A      1\n",
       "c.130C>T      1\n",
       "c.742A>G      1\n",
       "c.119A>C      1\n",
       "c.614G>A      1\n",
       "c.347T>C      1\n",
       "c.990G>C      1\n",
       "c.1037T>C     1\n",
       "c.454G>A      1\n",
       "c.800C>T      1\n",
       "c.291G>C      1\n",
       "c.52G>T       1\n",
       "Name: count, dtype: int64"
      ]
     },
     "execution_count": 62,
     "metadata": {},
     "output_type": "execute_result"
    }
   ],
   "source": [
    "# eliminate the space in the column DNA change allele 2\n",
    "df5['DNA change allele 2'] = df5['DNA change allele 2'].str.replace(' ', '')\n",
    "df5['DNA change allele 2'].value_counts()"
   ]
  },
  {
   "cell_type": "code",
   "execution_count": 63,
   "metadata": {},
   "outputs": [
    {
     "data": {
      "text/plain": [
       "ex/in allele 2\n",
       "ex8      25\n",
       "ex6      17\n",
       "ex13     16\n",
       " ex3     10\n",
       " ex14     9\n",
       "ex10      7\n",
       "ex11      6\n",
       "ex3       4\n",
       "ex9       4\n",
       " ex12     4\n",
       " ex10     4\n",
       "ex12      3\n",
       " ex13     3\n",
       "ex5       1\n",
       "ex7       1\n",
       "ex2       1\n",
       "ex 8      1\n",
       "Name: count, dtype: int64"
      ]
     },
     "execution_count": 63,
     "metadata": {},
     "output_type": "execute_result"
    }
   ],
   "source": [
    "df5['ex/in allele 2'].value_counts()"
   ]
  },
  {
   "cell_type": "code",
   "execution_count": 64,
   "metadata": {},
   "outputs": [
    {
     "name": "stderr",
     "output_type": "stream",
     "text": [
      "/var/folders/xd/64006ztx62g6gm6fh5jj4src0000gn/T/ipykernel_26826/4150708269.py:2: SettingWithCopyWarning: \n",
      "A value is trying to be set on a copy of a slice from a DataFrame.\n",
      "Try using .loc[row_indexer,col_indexer] = value instead\n",
      "\n",
      "See the caveats in the documentation: https://pandas.pydata.org/pandas-docs/stable/user_guide/indexing.html#returning-a-view-versus-a-copy\n",
      "  df5['ex/in allele 2'] = df5['ex/in allele 2'].str.replace(' ', '')\n"
     ]
    }
   ],
   "source": [
    "# eliminate the space in the column ex/in allele 2\n",
    "df5['ex/in allele 2'] = df5['ex/in allele 2'].str.replace(' ', '')"
   ]
  },
  {
   "cell_type": "code",
   "execution_count": 65,
   "metadata": {},
   "outputs": [
    {
     "data": {
      "text/plain": [
       "ex/in allele 2\n",
       "ex8     26\n",
       "ex13    19\n",
       "ex6     17\n",
       "ex3     14\n",
       "ex10    11\n",
       "ex14     9\n",
       "ex12     7\n",
       "ex11     6\n",
       "ex9      4\n",
       "ex5      1\n",
       "ex7      1\n",
       "ex2      1\n",
       "Name: count, dtype: int64"
      ]
     },
     "execution_count": 65,
     "metadata": {},
     "output_type": "execute_result"
    }
   ],
   "source": [
    "df5['ex/in allele 2'].value_counts()"
   ]
  },
  {
   "cell_type": "code",
   "execution_count": 70,
   "metadata": {},
   "outputs": [
    {
     "data": {
      "text/html": [
       "<div>\n",
       "<style scoped>\n",
       "    .dataframe tbody tr th:only-of-type {\n",
       "        vertical-align: middle;\n",
       "    }\n",
       "\n",
       "    .dataframe tbody tr th {\n",
       "        vertical-align: top;\n",
       "    }\n",
       "\n",
       "    .dataframe thead th {\n",
       "        text-align: right;\n",
       "    }\n",
       "</style>\n",
       "<table border=\"1\" class=\"dataframe\">\n",
       "  <thead>\n",
       "    <tr style=\"text-align: right;\">\n",
       "      <th></th>\n",
       "      <th>Protein change allele 1</th>\n",
       "      <th>DNA change allele 1</th>\n",
       "      <th>Exon/intron allele 1</th>\n",
       "      <th>Protein change allele 2</th>\n",
       "      <th>DNA change allele 2</th>\n",
       "      <th>ex/in allele 2</th>\n",
       "    </tr>\n",
       "  </thead>\n",
       "  <tbody>\n",
       "    <tr>\n",
       "      <th>1</th>\n",
       "      <td>G161R</td>\n",
       "      <td>c.481G&gt;A</td>\n",
       "      <td>ex8</td>\n",
       "      <td>G161R</td>\n",
       "      <td>c.481G&gt;A</td>\n",
       "      <td>ex8</td>\n",
       "    </tr>\n",
       "    <tr>\n",
       "      <th>2</th>\n",
       "      <td>G161R</td>\n",
       "      <td>c.481G&gt;A</td>\n",
       "      <td>ex8</td>\n",
       "      <td>M368V</td>\n",
       "      <td>c.1102A&gt;G</td>\n",
       "      <td>ex13</td>\n",
       "    </tr>\n",
       "    <tr>\n",
       "      <th>4</th>\n",
       "      <td>G161R</td>\n",
       "      <td>c.481G&gt;A</td>\n",
       "      <td>ex8</td>\n",
       "      <td>G161R</td>\n",
       "      <td>c.481G&gt;A</td>\n",
       "      <td>ex8</td>\n",
       "    </tr>\n",
       "    <tr>\n",
       "      <th>5</th>\n",
       "      <td>G161R</td>\n",
       "      <td>c.481G&gt;A</td>\n",
       "      <td>ex8</td>\n",
       "      <td>G161R</td>\n",
       "      <td>c.481G&gt;A</td>\n",
       "      <td>ex8</td>\n",
       "    </tr>\n",
       "    <tr>\n",
       "      <th>6</th>\n",
       "      <td>S47L</td>\n",
       "      <td>c.140C&gt;T</td>\n",
       "      <td>ex3</td>\n",
       "      <td>S47L</td>\n",
       "      <td>c.140C&gt;T</td>\n",
       "      <td>ex3</td>\n",
       "    </tr>\n",
       "  </tbody>\n",
       "</table>\n",
       "</div>"
      ],
      "text/plain": [
       "  Protein change allele 1  DNA change allele 1 Exon/intron allele 1  \\\n",
       "1                    G161R            c.481G>A                  ex8   \n",
       "2                    G161R            c.481G>A                  ex8   \n",
       "4                    G161R            c.481G>A                  ex8   \n",
       "5                    G161R            c.481G>A                  ex8   \n",
       "6                     S47L            c.140C>T                  ex3   \n",
       "\n",
       "  Protein change allele 2 DNA change allele 2 ex/in allele 2  \n",
       "1                   G161R            c.481G>A            ex8  \n",
       "2                   M368V           c.1102A>G           ex13  \n",
       "4                   G161R            c.481G>A            ex8  \n",
       "5                   G161R            c.481G>A            ex8  \n",
       "6                    S47L            c.140C>T            ex3  "
      ]
     },
     "execution_count": 70,
     "metadata": {},
     "output_type": "execute_result"
    }
   ],
   "source": [
    "df5.head()"
   ]
  },
  {
   "cell_type": "markdown",
   "metadata": {},
   "source": [
    "notiamo che il paziente 4 e 5 sono uguali all'1 in tutto e per tutto, quindi saranno rappresentati dalla proteina 3d ottenuta per il paziente1"
   ]
  },
  {
   "cell_type": "code",
   "execution_count": 68,
   "metadata": {},
   "outputs": [
    {
     "data": {
      "text/plain": [
       "(52, 6)"
      ]
     },
     "execution_count": 68,
     "metadata": {},
     "output_type": "execute_result"
    }
   ],
   "source": [
    "# count how many different rows are in the dataframe\n",
    "df5.drop_duplicates().shape"
   ]
  },
  {
   "cell_type": "code",
   "execution_count": 69,
   "metadata": {},
   "outputs": [
    {
     "data": {
      "text/html": [
       "<div>\n",
       "<style scoped>\n",
       "    .dataframe tbody tr th:only-of-type {\n",
       "        vertical-align: middle;\n",
       "    }\n",
       "\n",
       "    .dataframe tbody tr th {\n",
       "        vertical-align: top;\n",
       "    }\n",
       "\n",
       "    .dataframe thead th {\n",
       "        text-align: right;\n",
       "    }\n",
       "</style>\n",
       "<table border=\"1\" class=\"dataframe\">\n",
       "  <thead>\n",
       "    <tr style=\"text-align: right;\">\n",
       "      <th></th>\n",
       "      <th>Protein change allele 1</th>\n",
       "      <th>DNA change allele 1</th>\n",
       "      <th>Exon/intron allele 1</th>\n",
       "      <th>Protein change allele 2</th>\n",
       "      <th>DNA change allele 2</th>\n",
       "      <th>ex/in allele 2</th>\n",
       "    </tr>\n",
       "  </thead>\n",
       "  <tbody>\n",
       "    <tr>\n",
       "      <th>1</th>\n",
       "      <td>G161R</td>\n",
       "      <td>c.481G&gt;A</td>\n",
       "      <td>ex8</td>\n",
       "      <td>G161R</td>\n",
       "      <td>c.481G&gt;A</td>\n",
       "      <td>ex8</td>\n",
       "    </tr>\n",
       "    <tr>\n",
       "      <th>2</th>\n",
       "      <td>G161R</td>\n",
       "      <td>c.481G&gt;A</td>\n",
       "      <td>ex8</td>\n",
       "      <td>M368V</td>\n",
       "      <td>c.1102A&gt;G</td>\n",
       "      <td>ex13</td>\n",
       "    </tr>\n",
       "    <tr>\n",
       "      <th>6</th>\n",
       "      <td>S47L</td>\n",
       "      <td>c.140C&gt;T</td>\n",
       "      <td>ex3</td>\n",
       "      <td>S47L</td>\n",
       "      <td>c.140C&gt;T</td>\n",
       "      <td>ex3</td>\n",
       "    </tr>\n",
       "    <tr>\n",
       "      <th>10</th>\n",
       "      <td>W97C</td>\n",
       "      <td>c.291G&gt;C</td>\n",
       "      <td>ex5</td>\n",
       "      <td>W97C</td>\n",
       "      <td>c.291G&gt;C</td>\n",
       "      <td>ex5</td>\n",
       "    </tr>\n",
       "    <tr>\n",
       "      <th>13</th>\n",
       "      <td>R225P</td>\n",
       "      <td>c.674G&gt;C</td>\n",
       "      <td>ex10</td>\n",
       "      <td>I216T</td>\n",
       "      <td>c.647T&gt;C</td>\n",
       "      <td>ex9</td>\n",
       "    </tr>\n",
       "  </tbody>\n",
       "</table>\n",
       "</div>"
      ],
      "text/plain": [
       "   Protein change allele 1  DNA change allele 1 Exon/intron allele 1  \\\n",
       "1                     G161R            c.481G>A                  ex8   \n",
       "2                     G161R            c.481G>A                  ex8   \n",
       "6                      S47L            c.140C>T                  ex3   \n",
       "10                     W97C            c.291G>C                  ex5   \n",
       "13                    R225P            c.674G>C                 ex10   \n",
       "\n",
       "   Protein change allele 2 DNA change allele 2 ex/in allele 2  \n",
       "1                    G161R            c.481G>A            ex8  \n",
       "2                    M368V           c.1102A>G           ex13  \n",
       "6                     S47L            c.140C>T            ex3  \n",
       "10                    W97C            c.291G>C            ex5  \n",
       "13                   I216T            c.647T>C            ex9  "
      ]
     },
     "execution_count": 69,
     "metadata": {},
     "output_type": "execute_result"
    }
   ],
   "source": [
    "df6 = df5.drop_duplicates()\n",
    "df6.head()"
   ]
  },
  {
   "cell_type": "markdown",
   "metadata": {},
   "source": [
    "vediamo infatti che i pazienti 4 e 5 sono stati tolti"
   ]
  },
  {
   "cell_type": "code",
   "execution_count": null,
   "metadata": {},
   "outputs": [],
   "source": [
    "#------------------------------------------------------------"
   ]
  },
  {
   "cell_type": "code",
   "execution_count": 133,
   "metadata": {},
   "outputs": [
    {
     "name": "stdout",
     "output_type": "stream",
     "text": [
      "78\n",
      "76\n"
     ]
    },
    {
     "data": {
      "text/html": [
       "<div>\n",
       "<style scoped>\n",
       "    .dataframe tbody tr th:only-of-type {\n",
       "        vertical-align: middle;\n",
       "    }\n",
       "\n",
       "    .dataframe tbody tr th {\n",
       "        vertical-align: top;\n",
       "    }\n",
       "\n",
       "    .dataframe thead th {\n",
       "        text-align: right;\n",
       "    }\n",
       "</style>\n",
       "<table border=\"1\" class=\"dataframe\">\n",
       "  <thead>\n",
       "    <tr style=\"text-align: right;\">\n",
       "      <th></th>\n",
       "      <th>Protein change allele 1</th>\n",
       "      <th>DNA change allele 1</th>\n",
       "      <th>Exon/intron allele 1</th>\n",
       "      <th>Protein change allele 2</th>\n",
       "      <th>DNA change allele 2</th>\n",
       "      <th>ex/in allele 2</th>\n",
       "      <th>physical_health_score</th>\n",
       "      <th>mental_health_score</th>\n",
       "      <th>AKUSSI_jointpain</th>\n",
       "      <th>AKUSSI_spinalpain</th>\n",
       "      <th>KOOSpain</th>\n",
       "      <th>KOOSsymptoms</th>\n",
       "      <th>KOOSdaily_living</th>\n",
       "      <th>KOOSsport</th>\n",
       "      <th>KOOS_QOL</th>\n",
       "      <th>HAQ_hapVAS</th>\n",
       "      <th>HAQ_haqDI</th>\n",
       "    </tr>\n",
       "  </thead>\n",
       "  <tbody>\n",
       "    <tr>\n",
       "      <th>128</th>\n",
       "      <td>A122V</td>\n",
       "      <td>c.365C&gt;T</td>\n",
       "      <td>ex6</td>\n",
       "      <td>A122V</td>\n",
       "      <td>c.365C&gt;T</td>\n",
       "      <td>ex6</td>\n",
       "      <td>24.0</td>\n",
       "      <td>50.0</td>\n",
       "      <td>29.0</td>\n",
       "      <td>25.0</td>\n",
       "      <td>44.0</td>\n",
       "      <td>61.0</td>\n",
       "      <td>25.0</td>\n",
       "      <td>20.0</td>\n",
       "      <td>50.0</td>\n",
       "      <td>100.0</td>\n",
       "      <td>1.88</td>\n",
       "    </tr>\n",
       "    <tr>\n",
       "      <th>1</th>\n",
       "      <td>G161R</td>\n",
       "      <td>c.481G&gt;A</td>\n",
       "      <td>ex8</td>\n",
       "      <td>G161R</td>\n",
       "      <td>c.481G&gt;A</td>\n",
       "      <td>ex8</td>\n",
       "      <td>53.0</td>\n",
       "      <td>51.0</td>\n",
       "      <td>29.0</td>\n",
       "      <td>25.0</td>\n",
       "      <td>92.0</td>\n",
       "      <td>96.0</td>\n",
       "      <td>91.0</td>\n",
       "      <td>85.0</td>\n",
       "      <td>75.0</td>\n",
       "      <td>23.0</td>\n",
       "      <td>0.25</td>\n",
       "    </tr>\n",
       "    <tr>\n",
       "      <th>129</th>\n",
       "      <td>A122V</td>\n",
       "      <td>c.365C&gt;T</td>\n",
       "      <td>ex6</td>\n",
       "      <td>A122V</td>\n",
       "      <td>c.365C&gt;T</td>\n",
       "      <td>ex6</td>\n",
       "      <td>40.0</td>\n",
       "      <td>60.0</td>\n",
       "      <td>14.0</td>\n",
       "      <td>25.0</td>\n",
       "      <td>78.0</td>\n",
       "      <td>86.0</td>\n",
       "      <td>75.0</td>\n",
       "      <td>85.0</td>\n",
       "      <td>63.0</td>\n",
       "      <td>0.0</td>\n",
       "      <td>0.00</td>\n",
       "    </tr>\n",
       "    <tr>\n",
       "      <th>4</th>\n",
       "      <td>G161R</td>\n",
       "      <td>c.481G&gt;A</td>\n",
       "      <td>ex8</td>\n",
       "      <td>G161R</td>\n",
       "      <td>c.481G&gt;A</td>\n",
       "      <td>ex8</td>\n",
       "      <td>23.0</td>\n",
       "      <td>29.0</td>\n",
       "      <td>50.0</td>\n",
       "      <td>100.0</td>\n",
       "      <td>33.0</td>\n",
       "      <td>29.0</td>\n",
       "      <td>60.0</td>\n",
       "      <td>25.0</td>\n",
       "      <td>13.0</td>\n",
       "      <td>70.0</td>\n",
       "      <td>2.00</td>\n",
       "    </tr>\n",
       "    <tr>\n",
       "      <th>5</th>\n",
       "      <td>G161R</td>\n",
       "      <td>c.481G&gt;A</td>\n",
       "      <td>ex8</td>\n",
       "      <td>G161R</td>\n",
       "      <td>c.481G&gt;A</td>\n",
       "      <td>ex8</td>\n",
       "      <td>26.0</td>\n",
       "      <td>31.0</td>\n",
       "      <td>50.0</td>\n",
       "      <td>100.0</td>\n",
       "      <td>44.0</td>\n",
       "      <td>29.0</td>\n",
       "      <td>32.0</td>\n",
       "      <td>35.0</td>\n",
       "      <td>13.0</td>\n",
       "      <td>71.0</td>\n",
       "      <td>1.88</td>\n",
       "    </tr>\n",
       "    <tr>\n",
       "      <th>...</th>\n",
       "      <td>...</td>\n",
       "      <td>...</td>\n",
       "      <td>...</td>\n",
       "      <td>...</td>\n",
       "      <td>...</td>\n",
       "      <td>...</td>\n",
       "      <td>...</td>\n",
       "      <td>...</td>\n",
       "      <td>...</td>\n",
       "      <td>...</td>\n",
       "      <td>...</td>\n",
       "      <td>...</td>\n",
       "      <td>...</td>\n",
       "      <td>...</td>\n",
       "      <td>...</td>\n",
       "      <td>...</td>\n",
       "      <td>...</td>\n",
       "    </tr>\n",
       "    <tr>\n",
       "      <th>111</th>\n",
       "      <td>R53Q</td>\n",
       "      <td>c.158G&gt;A</td>\n",
       "      <td>ex3</td>\n",
       "      <td>R53Q</td>\n",
       "      <td>c.158G&gt;A</td>\n",
       "      <td>ex3</td>\n",
       "      <td>37.0</td>\n",
       "      <td>40.0</td>\n",
       "      <td>21.0</td>\n",
       "      <td>50.0</td>\n",
       "      <td>83.0</td>\n",
       "      <td>93.0</td>\n",
       "      <td>87.0</td>\n",
       "      <td>80.0</td>\n",
       "      <td>75.0</td>\n",
       "      <td>75.0</td>\n",
       "      <td>0.88</td>\n",
       "    </tr>\n",
       "    <tr>\n",
       "      <th>112</th>\n",
       "      <td>P230S</td>\n",
       "      <td>c.688C&gt;T</td>\n",
       "      <td>ex10</td>\n",
       "      <td>P230S</td>\n",
       "      <td>c.688C&gt;T</td>\n",
       "      <td>ex10</td>\n",
       "      <td>39.0</td>\n",
       "      <td>32.0</td>\n",
       "      <td>50.0</td>\n",
       "      <td>75.0</td>\n",
       "      <td>64.0</td>\n",
       "      <td>54.0</td>\n",
       "      <td>65.0</td>\n",
       "      <td>5.0</td>\n",
       "      <td>19.0</td>\n",
       "      <td>30.0</td>\n",
       "      <td>1.13</td>\n",
       "    </tr>\n",
       "    <tr>\n",
       "      <th>114</th>\n",
       "      <td>G123A</td>\n",
       "      <td>c.368G&gt;C</td>\n",
       "      <td>ex6</td>\n",
       "      <td>G123A</td>\n",
       "      <td>c.368G&gt;C</td>\n",
       "      <td>ex6</td>\n",
       "      <td>29.0</td>\n",
       "      <td>37.0</td>\n",
       "      <td>71.0</td>\n",
       "      <td>50.0</td>\n",
       "      <td>44.0</td>\n",
       "      <td>50.0</td>\n",
       "      <td>52.0</td>\n",
       "      <td>40.0</td>\n",
       "      <td>56.0</td>\n",
       "      <td>35.0</td>\n",
       "      <td>1.75</td>\n",
       "    </tr>\n",
       "    <tr>\n",
       "      <th>122</th>\n",
       "      <td>G161R</td>\n",
       "      <td>c.481G&gt;A</td>\n",
       "      <td>ex8</td>\n",
       "      <td>G161R</td>\n",
       "      <td>c.481G&gt;A</td>\n",
       "      <td>ex8</td>\n",
       "      <td>NaN</td>\n",
       "      <td>NaN</td>\n",
       "      <td>14.0</td>\n",
       "      <td>0.0</td>\n",
       "      <td>100.0</td>\n",
       "      <td>100.0</td>\n",
       "      <td>100.0</td>\n",
       "      <td>100.0</td>\n",
       "      <td>100.0</td>\n",
       "      <td>30.0</td>\n",
       "      <td>0.13</td>\n",
       "    </tr>\n",
       "    <tr>\n",
       "      <th>127</th>\n",
       "      <td>A122V</td>\n",
       "      <td>c.365C&gt;T</td>\n",
       "      <td>ex6</td>\n",
       "      <td>A122V</td>\n",
       "      <td>c.365C&gt;T</td>\n",
       "      <td>ex6</td>\n",
       "      <td>28.0</td>\n",
       "      <td>47.0</td>\n",
       "      <td>29.0</td>\n",
       "      <td>25.0</td>\n",
       "      <td>53.0</td>\n",
       "      <td>82.0</td>\n",
       "      <td>52.0</td>\n",
       "      <td>NaN</td>\n",
       "      <td>63.0</td>\n",
       "      <td>50.0</td>\n",
       "      <td>1.13</td>\n",
       "    </tr>\n",
       "  </tbody>\n",
       "</table>\n",
       "<p>71 rows × 17 columns</p>\n",
       "</div>"
      ],
      "text/plain": [
       "    Protein change allele 1  DNA change allele 1 Exon/intron allele 1  \\\n",
       "128                    A122V            c.365C>T                  ex6   \n",
       "1                      G161R            c.481G>A                  ex8   \n",
       "129                    A122V            c.365C>T                  ex6   \n",
       "4                      G161R            c.481G>A                  ex8   \n",
       "5                      G161R            c.481G>A                  ex8   \n",
       "..                       ...                 ...                  ...   \n",
       "111                     R53Q            c.158G>A                  ex3   \n",
       "112                    P230S            c.688C>T                 ex10   \n",
       "114                    G123A            c.368G>C                  ex6   \n",
       "122                    G161R            c.481G>A                  ex8   \n",
       "127                    A122V            c.365C>T                  ex6   \n",
       "\n",
       "    Protein change allele 2 DNA change allele 2 ex/in allele 2  \\\n",
       "128                   A122V            c.365C>T            ex6   \n",
       "1                     G161R            c.481G>A            ex8   \n",
       "129                   A122V            c.365C>T            ex6   \n",
       "4                     G161R            c.481G>A            ex8   \n",
       "5                     G161R            c.481G>A            ex8   \n",
       "..                      ...                 ...            ...   \n",
       "111                    R53Q            c.158G>A            ex3   \n",
       "112                   P230S            c.688C>T           ex10   \n",
       "114                   G123A            c.368G>C            ex6   \n",
       "122                   G161R            c.481G>A            ex8   \n",
       "127                   A122V            c.365C>T            ex6   \n",
       "\n",
       "     physical_health_score  mental_health_score  AKUSSI_jointpain  \\\n",
       "128                   24.0                 50.0              29.0   \n",
       "1                     53.0                 51.0              29.0   \n",
       "129                   40.0                 60.0              14.0   \n",
       "4                     23.0                 29.0              50.0   \n",
       "5                     26.0                 31.0              50.0   \n",
       "..                     ...                  ...               ...   \n",
       "111                   37.0                 40.0              21.0   \n",
       "112                   39.0                 32.0              50.0   \n",
       "114                   29.0                 37.0              71.0   \n",
       "122                    NaN                  NaN              14.0   \n",
       "127                   28.0                 47.0              29.0   \n",
       "\n",
       "     AKUSSI_spinalpain  KOOSpain  KOOSsymptoms  KOOSdaily_living  KOOSsport  \\\n",
       "128               25.0      44.0          61.0              25.0       20.0   \n",
       "1                 25.0      92.0          96.0              91.0       85.0   \n",
       "129               25.0      78.0          86.0              75.0       85.0   \n",
       "4                100.0      33.0          29.0              60.0       25.0   \n",
       "5                100.0      44.0          29.0              32.0       35.0   \n",
       "..                 ...       ...           ...               ...        ...   \n",
       "111               50.0      83.0          93.0              87.0       80.0   \n",
       "112               75.0      64.0          54.0              65.0        5.0   \n",
       "114               50.0      44.0          50.0              52.0       40.0   \n",
       "122                0.0     100.0         100.0             100.0      100.0   \n",
       "127               25.0      53.0          82.0              52.0        NaN   \n",
       "\n",
       "     KOOS_QOL  HAQ_hapVAS  HAQ_haqDI  \n",
       "128      50.0       100.0       1.88  \n",
       "1        75.0        23.0       0.25  \n",
       "129      63.0         0.0       0.00  \n",
       "4        13.0        70.0       2.00  \n",
       "5        13.0        71.0       1.88  \n",
       "..        ...         ...        ...  \n",
       "111      75.0        75.0       0.88  \n",
       "112      19.0        30.0       1.13  \n",
       "114      56.0        35.0       1.75  \n",
       "122     100.0        30.0       0.13  \n",
       "127      63.0        50.0       1.13  \n",
       "\n",
       "[71 rows x 17 columns]"
      ]
     },
     "execution_count": 133,
     "metadata": {},
     "output_type": "execute_result"
    }
   ],
   "source": [
    "# return the indexes of the elements that have the same value in both columns \n",
    "same_change = df4[df4['Protein change allele 1 '] == df4['Protein change allele 2']].index\n",
    "print(len(same_change))\n",
    "# do the same for exon/intron columns\n",
    "same_exon = df4[df4['Exon/intron allele 1'] == df4['ex/in allele 2']].index\n",
    "print(len(same_exon))\n",
    "\n",
    "# count how many indexes are in both lists\n",
    "indexes = set(same_change) & set(same_exon)\n",
    "\n",
    "# print the df4 elements that are in the indexes list\n",
    "df4.loc[list(indexes)]\n"
   ]
  },
  {
   "cell_type": "code",
   "execution_count": 134,
   "metadata": {},
   "outputs": [
    {
     "data": {
      "text/plain": [
       "38"
      ]
     },
     "execution_count": 134,
     "metadata": {},
     "output_type": "execute_result"
    }
   ],
   "source": [
    "# count unique values of Protein change allele 1 column\n",
    "df4['Protein change allele 1 '].nunique()"
   ]
  }
 ],
 "metadata": {
  "kernelspec": {
   "display_name": ".venv",
   "language": "python",
   "name": "python3"
  },
  "language_info": {
   "codemirror_mode": {
    "name": "ipython",
    "version": 3
   },
   "file_extension": ".py",
   "mimetype": "text/x-python",
   "name": "python",
   "nbconvert_exporter": "python",
   "pygments_lexer": "ipython3",
   "version": "3.11.7"
  }
 },
 "nbformat": 4,
 "nbformat_minor": 2
}
