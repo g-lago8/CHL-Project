{
 "cells": [
  {
   "cell_type": "code",
   "execution_count": 4,
   "metadata": {},
   "outputs": [],
   "source": [
    "import pandas as pd\n",
    "import numpy as np\n",
    "import matplotlib.pyplot as plt\n",
    "import seaborn as sns"
   ]
  },
  {
   "cell_type": "code",
   "execution_count": 6,
   "metadata": {},
   "outputs": [],
   "source": [
    "# read the first sheet of the excel file\n",
    "df = pd.read_excel('../datasets/aku_prin_v2.0.xlsx', sheet_name=0)\n"
   ]
  },
  {
   "cell_type": "code",
   "execution_count": 8,
   "metadata": {},
   "outputs": [
    {
     "data": {
      "text/plain": [
       "Index(['patient', 'sex', 'birth', 'creatinine_urines mg/dl', 'HGA_u mg/dl',\n",
       "       'HGA_U mg/24h', 'bqa', 'urate', 'uric_acid_urine', 'tyr_urines',\n",
       "       'hypoxanthine_urines', 'xanthine_urines', 'Protein change allele 1 ',\n",
       "       'DNA change allele 1', 'Exon/intron allele 1',\n",
       "       'Protein change allele 2', 'DNA change allele 2', 'ex/in allele 2',\n",
       "       'SAA (ug/mL) ', 'chitotriosidase', 'HGA_serum', 'CATD (ng/mL)',\n",
       "       'IL-6 (pg/mL)', 'IL-1beta (pg/mL)', 'IL-1ra (pg/mL)', 'TNFalfa (pg/mL)',\n",
       "       'CRP (mg/dL)', 'CRP (æg/mL) ELISA', 'MMP3 (ng/mL)', 'aopp',\n",
       "       'glucose(mg/dL)', 'creatinine (mg/dL)', 'cholesterol (mg/dL)',\n",
       "       'triglycerides  (mg/dL)', 'hdl_cholesterol (mg/dL)',\n",
       "       'ldl_cholesterol (mg/dL)', 'alkaline_phosphatase (UI/L)',\n",
       "       'cystatin_C (mg/dL)', 'smoker/cigarettes_a_day', 'alcohol_units_weekly',\n",
       "       'bmi', 'physical_health_score', 'mental_health_score',\n",
       "       'AKUSSI_jointpain', 'AKUSSI_spinalpain', 'KOOSpain', 'KOOSsymptoms',\n",
       "       'KOOSdaily_living', 'KOOSsport', 'KOOS_QOL', 'HAQ_hapVAS', 'HAQ_haqDI',\n",
       "       'anti_inflammatories', 'painkillers', 'other_drugs', 'nitisinone doses',\n",
       "       'adverse_event_or_diagnosis', 'creatinine_plasma', 'hga_plasma', 'tyr',\n",
       "       'phe', 'trp', 'hypoxanthine', 'xanthine', 'uracil', 'uric_acid',\n",
       "       'nitisinone'],\n",
       "      dtype='object')"
      ]
     },
     "execution_count": 8,
     "metadata": {},
     "output_type": "execute_result"
    }
   ],
   "source": [
    "df.columns"
   ]
  },
  {
   "cell_type": "code",
   "execution_count": 9,
   "metadata": {},
   "outputs": [
    {
     "data": {
      "text/plain": [
       "67"
      ]
     },
     "execution_count": 9,
     "metadata": {},
     "output_type": "execute_result"
    }
   ],
   "source": [
    "len(df.columns)"
   ]
  },
  {
   "cell_type": "code",
   "execution_count": 12,
   "metadata": {},
   "outputs": [
    {
     "data": {
      "text/plain": [
       "12"
      ]
     },
     "execution_count": 12,
     "metadata": {},
     "output_type": "execute_result"
    }
   ],
   "source": [
    "# get the index of Protein change allele 1 column\n",
    "df.columns.get_loc('Protein change allele 1 ') +6\n"
   ]
  },
  {
   "cell_type": "code",
   "execution_count": 13,
   "metadata": {},
   "outputs": [
    {
     "data": {
      "text/plain": [
       "41"
      ]
     },
     "execution_count": 13,
     "metadata": {},
     "output_type": "execute_result"
    }
   ],
   "source": [
    "# get the index of physical_health_score column\n",
    "df.columns.get_loc('physical_health_score') + 11"
   ]
  },
  {
   "cell_type": "code",
   "execution_count": 15,
   "metadata": {},
   "outputs": [
    {
     "data": {
      "text/html": [
       "<div>\n",
       "<style scoped>\n",
       "    .dataframe tbody tr th:only-of-type {\n",
       "        vertical-align: middle;\n",
       "    }\n",
       "\n",
       "    .dataframe tbody tr th {\n",
       "        vertical-align: top;\n",
       "    }\n",
       "\n",
       "    .dataframe thead th {\n",
       "        text-align: right;\n",
       "    }\n",
       "</style>\n",
       "<table border=\"1\" class=\"dataframe\">\n",
       "  <thead>\n",
       "    <tr style=\"text-align: right;\">\n",
       "      <th></th>\n",
       "      <th>Protein change allele 1</th>\n",
       "      <th>DNA change allele 1</th>\n",
       "      <th>Exon/intron allele 1</th>\n",
       "      <th>Protein change allele 2</th>\n",
       "      <th>DNA change allele 2</th>\n",
       "      <th>ex/in allele 2</th>\n",
       "      <th>physical_health_score</th>\n",
       "      <th>mental_health_score</th>\n",
       "      <th>AKUSSI_jointpain</th>\n",
       "      <th>AKUSSI_spinalpain</th>\n",
       "      <th>KOOSpain</th>\n",
       "      <th>KOOSsymptoms</th>\n",
       "      <th>KOOSdaily_living</th>\n",
       "      <th>KOOSsport</th>\n",
       "      <th>KOOS_QOL</th>\n",
       "      <th>HAQ_hapVAS</th>\n",
       "      <th>HAQ_haqDI</th>\n",
       "    </tr>\n",
       "  </thead>\n",
       "  <tbody>\n",
       "    <tr>\n",
       "      <th>0</th>\n",
       "      <td>G161R</td>\n",
       "      <td>c.481G&gt;A</td>\n",
       "      <td>ex8</td>\n",
       "      <td>His371Profs</td>\n",
       "      <td>c.1111dupC</td>\n",
       "      <td>ex13</td>\n",
       "      <td>26.0</td>\n",
       "      <td>43.0</td>\n",
       "      <td>57.0</td>\n",
       "      <td>75.0</td>\n",
       "      <td>67.0</td>\n",
       "      <td>89.0</td>\n",
       "      <td>75.0</td>\n",
       "      <td>70.0</td>\n",
       "      <td>69.0</td>\n",
       "      <td>63.0</td>\n",
       "      <td>1.50</td>\n",
       "    </tr>\n",
       "    <tr>\n",
       "      <th>1</th>\n",
       "      <td>G161R</td>\n",
       "      <td>c.481G&gt;A</td>\n",
       "      <td>ex8</td>\n",
       "      <td>G161R</td>\n",
       "      <td>c.481G&gt;A</td>\n",
       "      <td>ex8</td>\n",
       "      <td>53.0</td>\n",
       "      <td>51.0</td>\n",
       "      <td>29.0</td>\n",
       "      <td>25.0</td>\n",
       "      <td>92.0</td>\n",
       "      <td>96.0</td>\n",
       "      <td>91.0</td>\n",
       "      <td>85.0</td>\n",
       "      <td>75.0</td>\n",
       "      <td>23.0</td>\n",
       "      <td>0.25</td>\n",
       "    </tr>\n",
       "    <tr>\n",
       "      <th>2</th>\n",
       "      <td>G161R</td>\n",
       "      <td>c.481G&gt;A</td>\n",
       "      <td>ex8</td>\n",
       "      <td>M368V</td>\n",
       "      <td>c.1102A&gt;G</td>\n",
       "      <td>ex13</td>\n",
       "      <td>23.0</td>\n",
       "      <td>40.0</td>\n",
       "      <td>36.0</td>\n",
       "      <td>100.0</td>\n",
       "      <td>47.0</td>\n",
       "      <td>39.0</td>\n",
       "      <td>31.0</td>\n",
       "      <td>0.0</td>\n",
       "      <td>19.0</td>\n",
       "      <td>53.0</td>\n",
       "      <td>1.75</td>\n",
       "    </tr>\n",
       "    <tr>\n",
       "      <th>3</th>\n",
       "      <td>Y6_G29del ivs1-1G&gt;A</td>\n",
       "      <td>c.16-1G&gt;A</td>\n",
       "      <td>in1</td>\n",
       "      <td>Y6_G29del ivs1-1G&gt;A</td>\n",
       "      <td>c.16-1G&gt;A</td>\n",
       "      <td>in1</td>\n",
       "      <td>NaN</td>\n",
       "      <td>NaN</td>\n",
       "      <td>NaN</td>\n",
       "      <td>NaN</td>\n",
       "      <td>NaN</td>\n",
       "      <td>NaN</td>\n",
       "      <td>NaN</td>\n",
       "      <td>NaN</td>\n",
       "      <td>NaN</td>\n",
       "      <td>NaN</td>\n",
       "      <td>NaN</td>\n",
       "    </tr>\n",
       "    <tr>\n",
       "      <th>4</th>\n",
       "      <td>G161R</td>\n",
       "      <td>c.481G&gt;A</td>\n",
       "      <td>ex8</td>\n",
       "      <td>G161R</td>\n",
       "      <td>c.481G&gt;A</td>\n",
       "      <td>ex8</td>\n",
       "      <td>23.0</td>\n",
       "      <td>29.0</td>\n",
       "      <td>50.0</td>\n",
       "      <td>100.0</td>\n",
       "      <td>33.0</td>\n",
       "      <td>29.0</td>\n",
       "      <td>60.0</td>\n",
       "      <td>25.0</td>\n",
       "      <td>13.0</td>\n",
       "      <td>70.0</td>\n",
       "      <td>2.00</td>\n",
       "    </tr>\n",
       "  </tbody>\n",
       "</table>\n",
       "</div>"
      ],
      "text/plain": [
       "  Protein change allele 1  DNA change allele 1 Exon/intron allele 1  \\\n",
       "0                    G161R            c.481G>A                  ex8   \n",
       "1                    G161R            c.481G>A                  ex8   \n",
       "2                    G161R            c.481G>A                  ex8   \n",
       "3      Y6_G29del ivs1-1G>A           c.16-1G>A                  in1   \n",
       "4                    G161R            c.481G>A                  ex8   \n",
       "\n",
       "  Protein change allele 2 DNA change allele 2 ex/in allele 2  \\\n",
       "0             His371Profs          c.1111dupC           ex13   \n",
       "1                   G161R            c.481G>A            ex8   \n",
       "2                   M368V           c.1102A>G           ex13   \n",
       "3     Y6_G29del ivs1-1G>A           c.16-1G>A            in1   \n",
       "4                   G161R            c.481G>A            ex8   \n",
       "\n",
       "   physical_health_score  mental_health_score  AKUSSI_jointpain  \\\n",
       "0                   26.0                 43.0              57.0   \n",
       "1                   53.0                 51.0              29.0   \n",
       "2                   23.0                 40.0              36.0   \n",
       "3                    NaN                  NaN               NaN   \n",
       "4                   23.0                 29.0              50.0   \n",
       "\n",
       "   AKUSSI_spinalpain  KOOSpain  KOOSsymptoms  KOOSdaily_living  KOOSsport  \\\n",
       "0               75.0      67.0          89.0              75.0       70.0   \n",
       "1               25.0      92.0          96.0              91.0       85.0   \n",
       "2              100.0      47.0          39.0              31.0        0.0   \n",
       "3                NaN       NaN           NaN               NaN        NaN   \n",
       "4              100.0      33.0          29.0              60.0       25.0   \n",
       "\n",
       "   KOOS_QOL  HAQ_hapVAS  HAQ_haqDI  \n",
       "0      69.0        63.0       1.50  \n",
       "1      75.0        23.0       0.25  \n",
       "2      19.0        53.0       1.75  \n",
       "3       NaN         NaN        NaN  \n",
       "4      13.0        70.0       2.00  "
      ]
     },
     "execution_count": 15,
     "metadata": {},
     "output_type": "execute_result"
    }
   ],
   "source": [
    "# create a new dataframe with the columns of interest, from index 12 to 18 and 41 to 52\n",
    "df2 = df.iloc[:, list(range(12, 18)) + list(range(41, 52))]\n",
    "df2.head()\n"
   ]
  },
  {
   "cell_type": "code",
   "execution_count": 16,
   "metadata": {},
   "outputs": [
    {
     "data": {
      "text/plain": [
       "(219, 17)"
      ]
     },
     "execution_count": 16,
     "metadata": {},
     "output_type": "execute_result"
    }
   ],
   "source": [
    "df2.shape"
   ]
  },
  {
   "cell_type": "code",
   "execution_count": 21,
   "metadata": {},
   "outputs": [
    {
     "data": {
      "text/plain": [
       "19"
      ]
     },
     "execution_count": 21,
     "metadata": {},
     "output_type": "execute_result"
    }
   ],
   "source": [
    "# count null values of Protein change allele 1 column\n",
    "df2['Protein change allele 1 '].isnull().sum()"
   ]
  },
  {
   "cell_type": "code",
   "execution_count": 23,
   "metadata": {},
   "outputs": [
    {
     "data": {
      "text/plain": [
       "True"
      ]
     },
     "execution_count": 23,
     "metadata": {},
     "output_type": "execute_result"
    }
   ],
   "source": [
    "# check if the null value of Protein change allele 1 is the same as Protein change allele 2\n",
    "df2['Protein change allele 1 '].isnull().sum() == df2['Protein change allele 2'].isnull().sum()\n",
    "\n",
    "\n",
    "\n"
   ]
  },
  {
   "cell_type": "code",
   "execution_count": 25,
   "metadata": {},
   "outputs": [
    {
     "data": {
      "text/plain": [
       "False"
      ]
     },
     "execution_count": 25,
     "metadata": {},
     "output_type": "execute_result"
    }
   ],
   "source": [
    "# check if tthey are the same indexes\n",
    "\n",
    "(df2['Protein change allele 1 '].isnull() == df2['Protein change allele 2'].isnull()).all()"
   ]
  },
  {
   "cell_type": "code",
   "execution_count": 30,
   "metadata": {},
   "outputs": [],
   "source": [
    "# print the indexes of the null values\n",
    "null1 = df2['Protein change allele 1 '][df2['Protein change allele 1 '].isnull()].index\n",
    "\n"
   ]
  },
  {
   "cell_type": "code",
   "execution_count": 31,
   "metadata": {},
   "outputs": [],
   "source": [
    "null2 = df2['Protein change allele 2'][df2['Protein change allele 2'].isnull()].index"
   ]
  },
  {
   "cell_type": "code",
   "execution_count": 34,
   "metadata": {},
   "outputs": [
    {
     "data": {
      "text/plain": [
       "20"
      ]
     },
     "execution_count": 34,
     "metadata": {},
     "output_type": "execute_result"
    }
   ],
   "source": [
    "# merge null1 and null2 in a list without repetition\n",
    "null = list(set(null1) | set(null2))\n",
    "len(null)\n",
    "\n"
   ]
  },
  {
   "cell_type": "code",
   "execution_count": 35,
   "metadata": {},
   "outputs": [],
   "source": [
    "# remove the null indexed rows from the dataframe\n",
    "df2 = df2.drop(null)"
   ]
  },
  {
   "cell_type": "code",
   "execution_count": 36,
   "metadata": {},
   "outputs": [
    {
     "data": {
      "text/plain": [
       "(199, 17)"
      ]
     },
     "execution_count": 36,
     "metadata": {},
     "output_type": "execute_result"
    }
   ],
   "source": [
    "df2.shape"
   ]
  },
  {
   "cell_type": "code",
   "execution_count": 37,
   "metadata": {},
   "outputs": [
    {
     "data": {
      "text/html": [
       "<div>\n",
       "<style scoped>\n",
       "    .dataframe tbody tr th:only-of-type {\n",
       "        vertical-align: middle;\n",
       "    }\n",
       "\n",
       "    .dataframe tbody tr th {\n",
       "        vertical-align: top;\n",
       "    }\n",
       "\n",
       "    .dataframe thead th {\n",
       "        text-align: right;\n",
       "    }\n",
       "</style>\n",
       "<table border=\"1\" class=\"dataframe\">\n",
       "  <thead>\n",
       "    <tr style=\"text-align: right;\">\n",
       "      <th></th>\n",
       "      <th>Protein change allele 1</th>\n",
       "      <th>DNA change allele 1</th>\n",
       "      <th>Exon/intron allele 1</th>\n",
       "      <th>Protein change allele 2</th>\n",
       "      <th>DNA change allele 2</th>\n",
       "      <th>ex/in allele 2</th>\n",
       "      <th>physical_health_score</th>\n",
       "      <th>mental_health_score</th>\n",
       "      <th>AKUSSI_jointpain</th>\n",
       "      <th>AKUSSI_spinalpain</th>\n",
       "      <th>KOOSpain</th>\n",
       "      <th>KOOSsymptoms</th>\n",
       "      <th>KOOSdaily_living</th>\n",
       "      <th>KOOSsport</th>\n",
       "      <th>KOOS_QOL</th>\n",
       "      <th>HAQ_hapVAS</th>\n",
       "      <th>HAQ_haqDI</th>\n",
       "    </tr>\n",
       "  </thead>\n",
       "  <tbody>\n",
       "    <tr>\n",
       "      <th>0</th>\n",
       "      <td>G161R</td>\n",
       "      <td>c.481G&gt;A</td>\n",
       "      <td>ex8</td>\n",
       "      <td>His371Profs</td>\n",
       "      <td>c.1111dupC</td>\n",
       "      <td>ex13</td>\n",
       "      <td>26.0</td>\n",
       "      <td>43.0</td>\n",
       "      <td>57.0</td>\n",
       "      <td>75.0</td>\n",
       "      <td>67.0</td>\n",
       "      <td>89.0</td>\n",
       "      <td>75.0</td>\n",
       "      <td>70.0</td>\n",
       "      <td>69.0</td>\n",
       "      <td>63.0</td>\n",
       "      <td>1.50</td>\n",
       "    </tr>\n",
       "    <tr>\n",
       "      <th>1</th>\n",
       "      <td>G161R</td>\n",
       "      <td>c.481G&gt;A</td>\n",
       "      <td>ex8</td>\n",
       "      <td>G161R</td>\n",
       "      <td>c.481G&gt;A</td>\n",
       "      <td>ex8</td>\n",
       "      <td>53.0</td>\n",
       "      <td>51.0</td>\n",
       "      <td>29.0</td>\n",
       "      <td>25.0</td>\n",
       "      <td>92.0</td>\n",
       "      <td>96.0</td>\n",
       "      <td>91.0</td>\n",
       "      <td>85.0</td>\n",
       "      <td>75.0</td>\n",
       "      <td>23.0</td>\n",
       "      <td>0.25</td>\n",
       "    </tr>\n",
       "    <tr>\n",
       "      <th>2</th>\n",
       "      <td>G161R</td>\n",
       "      <td>c.481G&gt;A</td>\n",
       "      <td>ex8</td>\n",
       "      <td>M368V</td>\n",
       "      <td>c.1102A&gt;G</td>\n",
       "      <td>ex13</td>\n",
       "      <td>23.0</td>\n",
       "      <td>40.0</td>\n",
       "      <td>36.0</td>\n",
       "      <td>100.0</td>\n",
       "      <td>47.0</td>\n",
       "      <td>39.0</td>\n",
       "      <td>31.0</td>\n",
       "      <td>0.0</td>\n",
       "      <td>19.0</td>\n",
       "      <td>53.0</td>\n",
       "      <td>1.75</td>\n",
       "    </tr>\n",
       "    <tr>\n",
       "      <th>3</th>\n",
       "      <td>Y6_G29del ivs1-1G&gt;A</td>\n",
       "      <td>c.16-1G&gt;A</td>\n",
       "      <td>in1</td>\n",
       "      <td>Y6_G29del ivs1-1G&gt;A</td>\n",
       "      <td>c.16-1G&gt;A</td>\n",
       "      <td>in1</td>\n",
       "      <td>NaN</td>\n",
       "      <td>NaN</td>\n",
       "      <td>NaN</td>\n",
       "      <td>NaN</td>\n",
       "      <td>NaN</td>\n",
       "      <td>NaN</td>\n",
       "      <td>NaN</td>\n",
       "      <td>NaN</td>\n",
       "      <td>NaN</td>\n",
       "      <td>NaN</td>\n",
       "      <td>NaN</td>\n",
       "    </tr>\n",
       "    <tr>\n",
       "      <th>4</th>\n",
       "      <td>G161R</td>\n",
       "      <td>c.481G&gt;A</td>\n",
       "      <td>ex8</td>\n",
       "      <td>G161R</td>\n",
       "      <td>c.481G&gt;A</td>\n",
       "      <td>ex8</td>\n",
       "      <td>23.0</td>\n",
       "      <td>29.0</td>\n",
       "      <td>50.0</td>\n",
       "      <td>100.0</td>\n",
       "      <td>33.0</td>\n",
       "      <td>29.0</td>\n",
       "      <td>60.0</td>\n",
       "      <td>25.0</td>\n",
       "      <td>13.0</td>\n",
       "      <td>70.0</td>\n",
       "      <td>2.00</td>\n",
       "    </tr>\n",
       "  </tbody>\n",
       "</table>\n",
       "</div>"
      ],
      "text/plain": [
       "  Protein change allele 1  DNA change allele 1 Exon/intron allele 1  \\\n",
       "0                    G161R            c.481G>A                  ex8   \n",
       "1                    G161R            c.481G>A                  ex8   \n",
       "2                    G161R            c.481G>A                  ex8   \n",
       "3      Y6_G29del ivs1-1G>A           c.16-1G>A                  in1   \n",
       "4                    G161R            c.481G>A                  ex8   \n",
       "\n",
       "  Protein change allele 2 DNA change allele 2 ex/in allele 2  \\\n",
       "0             His371Profs          c.1111dupC           ex13   \n",
       "1                   G161R            c.481G>A            ex8   \n",
       "2                   M368V           c.1102A>G           ex13   \n",
       "3     Y6_G29del ivs1-1G>A           c.16-1G>A            in1   \n",
       "4                   G161R            c.481G>A            ex8   \n",
       "\n",
       "   physical_health_score  mental_health_score  AKUSSI_jointpain  \\\n",
       "0                   26.0                 43.0              57.0   \n",
       "1                   53.0                 51.0              29.0   \n",
       "2                   23.0                 40.0              36.0   \n",
       "3                    NaN                  NaN               NaN   \n",
       "4                   23.0                 29.0              50.0   \n",
       "\n",
       "   AKUSSI_spinalpain  KOOSpain  KOOSsymptoms  KOOSdaily_living  KOOSsport  \\\n",
       "0               75.0      67.0          89.0              75.0       70.0   \n",
       "1               25.0      92.0          96.0              91.0       85.0   \n",
       "2              100.0      47.0          39.0              31.0        0.0   \n",
       "3                NaN       NaN           NaN               NaN        NaN   \n",
       "4              100.0      33.0          29.0              60.0       25.0   \n",
       "\n",
       "   KOOS_QOL  HAQ_hapVAS  HAQ_haqDI  \n",
       "0      69.0        63.0       1.50  \n",
       "1      75.0        23.0       0.25  \n",
       "2      19.0        53.0       1.75  \n",
       "3       NaN         NaN        NaN  \n",
       "4      13.0        70.0       2.00  "
      ]
     },
     "execution_count": 37,
     "metadata": {},
     "output_type": "execute_result"
    }
   ],
   "source": [
    "df2.head()"
   ]
  },
  {
   "cell_type": "code",
   "execution_count": 38,
   "metadata": {},
   "outputs": [
    {
     "data": {
      "text/plain": [
       "Exon/intron allele 1\n",
       "ex8      55\n",
       "ex13     21\n",
       "ex6      18\n",
       "ex7      14\n",
       "ex10     12\n",
       "ex14      8\n",
       "ex3       8\n",
       "ex2       7\n",
       "ex11      7\n",
       " in1      6\n",
       " ex3      6\n",
       "ex9       4\n",
       " ex13     4\n",
       "ex12      4\n",
       " ex14     3\n",
       "ex7i      3\n",
       "ex5       2\n",
       "in1       2\n",
       " ex10     2\n",
       "in7       2\n",
       "ex4       2\n",
       "in8       1\n",
       " ex2      1\n",
       "S47L      1\n",
       " ex8      1\n",
       "in12      1\n",
       "in5       1\n",
       "in10      1\n",
       "in2       1\n",
       "ex 8      1\n",
       "Name: count, dtype: int64"
      ]
     },
     "execution_count": 38,
     "metadata": {},
     "output_type": "execute_result"
    }
   ],
   "source": [
    "# count the number of 'ex8' value in Exon/intron allele 1 column\n",
    "df2['Exon/intron allele 1'].value_counts()"
   ]
  },
  {
   "cell_type": "code",
   "execution_count": 39,
   "metadata": {},
   "outputs": [
    {
     "data": {
      "text/plain": [
       "183"
      ]
     },
     "execution_count": 39,
     "metadata": {},
     "output_type": "execute_result"
    }
   ],
   "source": [
    "# sum all the values that contains \"ex\" in the string value\n",
    "\n",
    "df2['Exon/intron allele 1'].str.contains('ex').sum()\n"
   ]
  },
  {
   "cell_type": "code",
   "execution_count": 41,
   "metadata": {},
   "outputs": [],
   "source": [
    "# get the indexes of the values that contains \"in\" in the string value\n",
    "in_indexes = df2['Exon/intron allele 1'][df2['Exon/intron allele 1'].str.contains('in')].index"
   ]
  },
  {
   "cell_type": "code",
   "execution_count": 42,
   "metadata": {},
   "outputs": [
    {
     "data": {
      "text/plain": [
       "Index([3, 24, 74, 103, 115, 135, 141, 142, 148, 157, 159, 163, 170, 193, 217], dtype='int64')"
      ]
     },
     "execution_count": 42,
     "metadata": {},
     "output_type": "execute_result"
    }
   ],
   "source": [
    "in_indexes"
   ]
  },
  {
   "cell_type": "code",
   "execution_count": null,
   "metadata": {},
   "outputs": [],
   "source": [
    "# drop the rows which index is in_indexes\n",
    "df2 = df2.drop(in_indexes)"
   ]
  },
  {
   "cell_type": "code",
   "execution_count": 46,
   "metadata": {},
   "outputs": [
    {
     "data": {
      "text/plain": [
       "(184, 17)"
      ]
     },
     "execution_count": 46,
     "metadata": {},
     "output_type": "execute_result"
    }
   ],
   "source": [
    "df2.shape"
   ]
  },
  {
   "cell_type": "code",
   "execution_count": 48,
   "metadata": {},
   "outputs": [
    {
     "data": {
      "text/plain": [
       "Index([51], dtype='int64')"
      ]
     },
     "execution_count": 48,
     "metadata": {},
     "output_type": "execute_result"
    }
   ],
   "source": [
    "# get the index of the elements that does not contain \"ex\" in the string value\n",
    "not_ex_indexes = df2['Exon/intron allele 1'][~df2['Exon/intron allele 1'].str.contains('ex')].index\n",
    "not_ex_indexes"
   ]
  },
  {
   "cell_type": "code",
   "execution_count": 49,
   "metadata": {},
   "outputs": [
    {
     "data": {
      "text/plain": [
       "Protein change allele 1     c.140C>T\n",
       "DNA change allele 1              ex3\n",
       "Exon/intron allele 1            S47L\n",
       "Protein change allele 2     c.140C>T\n",
       "DNA change allele 2              ex3\n",
       "ex/in allele 2                   NaN\n",
       "physical_health_score            NaN\n",
       "mental_health_score              NaN\n",
       "AKUSSI_jointpain                 NaN\n",
       "AKUSSI_spinalpain                NaN\n",
       "KOOSpain                         NaN\n",
       "KOOSsymptoms                     NaN\n",
       "KOOSdaily_living                 NaN\n",
       "KOOSsport                        NaN\n",
       "KOOS_QOL                         NaN\n",
       "HAQ_hapVAS                       NaN\n",
       "HAQ_haqDI                        NaN\n",
       "Name: 51, dtype: object"
      ]
     },
     "execution_count": 49,
     "metadata": {},
     "output_type": "execute_result"
    }
   ],
   "source": [
    "# print the row with index 51\n",
    "df2.loc[51]"
   ]
  }
 ],
 "metadata": {
  "kernelspec": {
   "display_name": ".venv",
   "language": "python",
   "name": "python3"
  },
  "language_info": {
   "codemirror_mode": {
    "name": "ipython",
    "version": 3
   },
   "file_extension": ".py",
   "mimetype": "text/x-python",
   "name": "python",
   "nbconvert_exporter": "python",
   "pygments_lexer": "ipython3",
   "version": "3.10.13"
  }
 },
 "nbformat": 4,
 "nbformat_minor": 2
}
