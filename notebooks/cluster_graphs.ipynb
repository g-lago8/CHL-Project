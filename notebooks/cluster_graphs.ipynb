{
 "cells": [
  {
   "cell_type": "code",
   "execution_count": 34,
   "metadata": {},
   "outputs": [],
   "source": [
    "from graphein.protein.config import ProteinGraphConfig\n",
    "from graphein.protein.edges.distance import *\n",
    "from graphein.protein.graphs import construct_graph\n",
    "from utils import *\n",
    "from networkx import adjacency_matrix\n",
    "import numpy as np\n",
    "import matplotlib.pyplot as plt\n",
    "from scipy.sparse import csr_matrix\n",
    "from scipy.spatial import KDTree\n",
    "\n",
    "edge_fns = [\n",
    "    add_aromatic_interactions,\n",
    "    add_hydrophobic_interactions,\n",
    "    add_aromatic_sulphur_interactions,\n",
    "    add_cation_pi_interactions,\n",
    "    add_disulfide_interactions,\n",
    "    add_hydrogen_bond_interactions,\n",
    "    add_ionic_interactions,\n",
    "    add_peptide_bonds\n",
    "    ]\n",
    "config = ProteinGraphConfig(edge_construction_functions=edge_fns)\n",
    "\n"
   ]
  },
  {
   "cell_type": "code",
   "execution_count": 3,
   "metadata": {},
   "outputs": [
    {
     "data": {
      "application/vnd.jupyter.widget-view+json": {
       "model_id": "2330f9a311d3489daa9bcde8315c31a2",
       "version_major": 2,
       "version_minor": 0
      },
      "text/plain": [
       "Output()"
      ]
     },
     "metadata": {},
     "output_type": "display_data"
    },
    {
     "data": {
      "text/html": [
       "<pre style=\"white-space:pre;overflow-x:auto;line-height:normal;font-family:Menlo,'DejaVu Sans Mono',consolas,'Courier New',monospace\"><span style=\"color: #7fbfbf; text-decoration-color: #7fbfbf\">[05/03/24 18:03:32] </span><span style=\"color: #008000; text-decoration-color: #008000\">DEBUG   </span> Deprotonating protein. This removes H atoms from the pdb_df dataframe    <span style=\"color: #7f7f7f; text-decoration-color: #7f7f7f\">graphs.py:188</span>\n",
       "</pre>\n"
      ],
      "text/plain": [
       "\u001b[2;36m[05/03/24 18:03:32]\u001b[0m\u001b[2;36m \u001b[0m\u001b[32mDEBUG   \u001b[0m Deprotonating protein. This removes H atoms from the pdb_df dataframe    \u001b[2mgraphs.py\u001b[0m\u001b[2m:\u001b[0m\u001b[2m188\u001b[0m\n"
      ]
     },
     "metadata": {},
     "output_type": "display_data"
    },
    {
     "data": {
      "text/html": [
       "<pre style=\"white-space:pre;overflow-x:auto;line-height:normal;font-family:Menlo,'DejaVu Sans Mono',consolas,'Courier New',monospace\"><span style=\"color: #7fbfbf; text-decoration-color: #7fbfbf\">                    </span><span style=\"color: #008000; text-decoration-color: #008000\">DEBUG   </span> Detected <span style=\"color: #008080; text-decoration-color: #008080; font-weight: bold\">445</span> total nodes                                                 <span style=\"color: #7f7f7f; text-decoration-color: #7f7f7f\">graphs.py:435</span>\n",
       "</pre>\n"
      ],
      "text/plain": [
       "\u001b[2;36m                   \u001b[0m\u001b[2;36m \u001b[0m\u001b[32mDEBUG   \u001b[0m Detected \u001b[1;36m445\u001b[0m total nodes                                                 \u001b[2mgraphs.py\u001b[0m\u001b[2m:\u001b[0m\u001b[2m435\u001b[0m\n"
      ]
     },
     "metadata": {},
     "output_type": "display_data"
    },
    {
     "data": {
      "text/html": [
       "<pre style=\"white-space:pre;overflow-x:auto;line-height:normal;font-family:Menlo,'DejaVu Sans Mono',consolas,'Courier New',monospace\"><span style=\"color: #7fbfbf; text-decoration-color: #7fbfbf\">                    </span><span style=\"color: #008000; text-decoration-color: #008000\">DEBUG   </span> Reading meiler embeddings from: c:\\Users\\HUAWEI\\Desktop\\materiale     <span style=\"color: #7f7f7f; text-decoration-color: #7f7f7f\">amino_acid.py:58</span>\n",
       "<span style=\"color: #7fbfbf; text-decoration-color: #7fbfbf\">                    </span>         magistrale\\CHL\\CHL-Project\\.venv\\lib\\site-packages\\graphein\\protein\\f <span style=\"color: #7f7f7f; text-decoration-color: #7f7f7f\">                </span>\n",
       "<span style=\"color: #7fbfbf; text-decoration-color: #7fbfbf\">                    </span>         eatures\\nodes\\meiler_embeddings.csv                                   <span style=\"color: #7f7f7f; text-decoration-color: #7f7f7f\">                </span>\n",
       "</pre>\n"
      ],
      "text/plain": [
       "\u001b[2;36m                   \u001b[0m\u001b[2;36m \u001b[0m\u001b[32mDEBUG   \u001b[0m Reading meiler embeddings from: c:\\Users\\HUAWEI\\Desktop\\materiale     \u001b[2mamino_acid.py\u001b[0m\u001b[2m:\u001b[0m\u001b[2m58\u001b[0m\n",
       "\u001b[2;36m                    \u001b[0m         magistrale\\CHL\\CHL-Project\\.venv\\lib\\site-packages\\graphein\\protein\\f \u001b[2m                \u001b[0m\n",
       "\u001b[2;36m                    \u001b[0m         eatures\\nodes\\meiler_embeddings.csv                                   \u001b[2m                \u001b[0m\n"
      ]
     },
     "metadata": {},
     "output_type": "display_data"
    },
    {
     "data": {
      "text/html": [
       "<pre style=\"white-space:pre;overflow-x:auto;line-height:normal;font-family:Menlo,'DejaVu Sans Mono',consolas,'Courier New',monospace\">c:\\Users\\HUAWEI\\Desktop\\materiale \n",
       "magistrale\\CHL\\CHL-Project\\.venv\\lib\\site-packages\\graphein\\protein\\edges\\distance.py:1213: FutureWarning: The \n",
       "default value of numeric_only in DataFrameGroupBy.mean is deprecated. In a future version, numeric_only will \n",
       "default to False. Either specify numeric_only or select only columns which should be valid for the function.\n",
       "  .mean()[[\"x_coord\", \"y_coord\", \"z_coord\"]]\n",
       "</pre>\n"
      ],
      "text/plain": [
       "c:\\Users\\HUAWEI\\Desktop\\materiale \n",
       "magistrale\\CHL\\CHL-Project\\.venv\\lib\\site-packages\\graphein\\protein\\edges\\distance.py:1213: FutureWarning: The \n",
       "default value of numeric_only in DataFrameGroupBy.mean is deprecated. In a future version, numeric_only will \n",
       "default to False. Either specify numeric_only or select only columns which should be valid for the function.\n",
       "  .mean()[[\"x_coord\", \"y_coord\", \"z_coord\"]]\n"
      ]
     },
     "metadata": {},
     "output_type": "display_data"
    },
    {
     "data": {
      "text/html": [
       "<pre style=\"white-space:pre;overflow-x:auto;line-height:normal;font-family:Menlo,'DejaVu Sans Mono',consolas,'Courier New',monospace\">c:\\Users\\HUAWEI\\Desktop\\materiale \n",
       "magistrale\\CHL\\CHL-Project\\.venv\\lib\\site-packages\\graphein\\protein\\edges\\distance.py:1213: FutureWarning: The \n",
       "default value of numeric_only in DataFrameGroupBy.mean is deprecated. In a future version, numeric_only will \n",
       "default to False. Either specify numeric_only or select only columns which should be valid for the function.\n",
       "  .mean()[[\"x_coord\", \"y_coord\", \"z_coord\"]]\n",
       "</pre>\n"
      ],
      "text/plain": [
       "c:\\Users\\HUAWEI\\Desktop\\materiale \n",
       "magistrale\\CHL\\CHL-Project\\.venv\\lib\\site-packages\\graphein\\protein\\edges\\distance.py:1213: FutureWarning: The \n",
       "default value of numeric_only in DataFrameGroupBy.mean is deprecated. In a future version, numeric_only will \n",
       "default to False. Either specify numeric_only or select only columns which should be valid for the function.\n",
       "  .mean()[[\"x_coord\", \"y_coord\", \"z_coord\"]]\n"
      ]
     },
     "metadata": {},
     "output_type": "display_data"
    },
    {
     "data": {
      "text/html": [
       "<pre style=\"white-space:pre;overflow-x:auto;line-height:normal;font-family:Menlo,'DejaVu Sans Mono',consolas,'Courier New',monospace\">c:\\Users\\HUAWEI\\Desktop\\materiale \n",
       "magistrale\\CHL\\CHL-Project\\.venv\\lib\\site-packages\\graphein\\protein\\edges\\distance.py:1213: FutureWarning: The \n",
       "default value of numeric_only in DataFrameGroupBy.mean is deprecated. In a future version, numeric_only will \n",
       "default to False. Either specify numeric_only or select only columns which should be valid for the function.\n",
       "  .mean()[[\"x_coord\", \"y_coord\", \"z_coord\"]]\n",
       "</pre>\n"
      ],
      "text/plain": [
       "c:\\Users\\HUAWEI\\Desktop\\materiale \n",
       "magistrale\\CHL\\CHL-Project\\.venv\\lib\\site-packages\\graphein\\protein\\edges\\distance.py:1213: FutureWarning: The \n",
       "default value of numeric_only in DataFrameGroupBy.mean is deprecated. In a future version, numeric_only will \n",
       "default to False. Either specify numeric_only or select only columns which should be valid for the function.\n",
       "  .mean()[[\"x_coord\", \"y_coord\", \"z_coord\"]]\n"
      ]
     },
     "metadata": {},
     "output_type": "display_data"
    },
    {
     "data": {
      "text/html": [
       "<pre style=\"white-space:pre;overflow-x:auto;line-height:normal;font-family:Menlo,'DejaVu Sans Mono',consolas,'Courier New',monospace\">c:\\Users\\HUAWEI\\Desktop\\materiale \n",
       "magistrale\\CHL\\CHL-Project\\.venv\\lib\\site-packages\\graphein\\protein\\edges\\distance.py:1213: FutureWarning: The \n",
       "default value of numeric_only in DataFrameGroupBy.mean is deprecated. In a future version, numeric_only will \n",
       "default to False. Either specify numeric_only or select only columns which should be valid for the function.\n",
       "  .mean()[[\"x_coord\", \"y_coord\", \"z_coord\"]]\n",
       "</pre>\n"
      ],
      "text/plain": [
       "c:\\Users\\HUAWEI\\Desktop\\materiale \n",
       "magistrale\\CHL\\CHL-Project\\.venv\\lib\\site-packages\\graphein\\protein\\edges\\distance.py:1213: FutureWarning: The \n",
       "default value of numeric_only in DataFrameGroupBy.mean is deprecated. In a future version, numeric_only will \n",
       "default to False. Either specify numeric_only or select only columns which should be valid for the function.\n",
       "  .mean()[[\"x_coord\", \"y_coord\", \"z_coord\"]]\n"
      ]
     },
     "metadata": {},
     "output_type": "display_data"
    },
    {
     "data": {
      "text/html": [
       "<pre style=\"white-space:pre;overflow-x:auto;line-height:normal;font-family:Menlo,'DejaVu Sans Mono',consolas,'Courier New',monospace\"><span style=\"color: #7fbfbf; text-decoration-color: #7fbfbf\">                    </span><span style=\"color: #000080; text-decoration-color: #000080\">INFO    </span> Found: <span style=\"color: #008080; text-decoration-color: #008080; font-weight: bold\">92</span> aromatic-aromatic interactions                               <span style=\"color: #7f7f7f; text-decoration-color: #7f7f7f\">distance.py:467</span>\n",
       "</pre>\n"
      ],
      "text/plain": [
       "\u001b[2;36m                   \u001b[0m\u001b[2;36m \u001b[0m\u001b[34mINFO    \u001b[0m Found: \u001b[1;36m92\u001b[0m aromatic-aromatic interactions                               \u001b[2mdistance.py\u001b[0m\u001b[2m:\u001b[0m\u001b[2m467\u001b[0m\n"
      ]
     },
     "metadata": {},
     "output_type": "display_data"
    },
    {
     "data": {
      "text/html": [
       "<pre style=\"white-space:pre;overflow-x:auto;line-height:normal;font-family:Menlo,'DejaVu Sans Mono',consolas,'Courier New',monospace\"><span style=\"color: #7fbfbf; text-decoration-color: #7fbfbf\">                    </span><span style=\"color: #000080; text-decoration-color: #000080\">INFO    </span> Found <span style=\"color: #008080; text-decoration-color: #008080; font-weight: bold\">962</span> hydrophobic interactions.                                   <span style=\"color: #7f7f7f; text-decoration-color: #7f7f7f\">distance.py:1344</span>\n",
       "</pre>\n"
      ],
      "text/plain": [
       "\u001b[2;36m                   \u001b[0m\u001b[2;36m \u001b[0m\u001b[34mINFO    \u001b[0m Found \u001b[1;36m962\u001b[0m hydrophobic interactions.                                   \u001b[2mdistance.py\u001b[0m\u001b[2m:\u001b[0m\u001b[2m1344\u001b[0m\n"
      ]
     },
     "metadata": {},
     "output_type": "display_data"
    },
    {
     "data": {
      "text/html": [
       "<pre style=\"white-space:pre;overflow-x:auto;line-height:normal;font-family:Menlo,'DejaVu Sans Mono',consolas,'Courier New',monospace\"><span style=\"color: #7fbfbf; text-decoration-color: #7fbfbf\">                    </span><span style=\"color: #000080; text-decoration-color: #000080\">INFO    </span> Found <span style=\"color: #008080; text-decoration-color: #008080; font-weight: bold\">12</span> disulfide interactions.                                      <span style=\"color: #7f7f7f; text-decoration-color: #7f7f7f\">distance.py:1344</span>\n",
       "</pre>\n"
      ],
      "text/plain": [
       "\u001b[2;36m                   \u001b[0m\u001b[2;36m \u001b[0m\u001b[34mINFO    \u001b[0m Found \u001b[1;36m12\u001b[0m disulfide interactions.                                      \u001b[2mdistance.py\u001b[0m\u001b[2m:\u001b[0m\u001b[2m1344\u001b[0m\n"
      ]
     },
     "metadata": {},
     "output_type": "display_data"
    },
    {
     "data": {
      "text/html": [
       "<pre style=\"white-space:pre;overflow-x:auto;line-height:normal;font-family:Menlo,'DejaVu Sans Mono',consolas,'Courier New',monospace\"><span style=\"color: #7fbfbf; text-decoration-color: #7fbfbf\">                    </span><span style=\"color: #000080; text-decoration-color: #000080\">INFO    </span> Found <span style=\"color: #008080; text-decoration-color: #008080; font-weight: bold\">190</span> hbond interactions.                                         <span style=\"color: #7f7f7f; text-decoration-color: #7f7f7f\">distance.py:1344</span>\n",
       "</pre>\n"
      ],
      "text/plain": [
       "\u001b[2;36m                   \u001b[0m\u001b[2;36m \u001b[0m\u001b[34mINFO    \u001b[0m Found \u001b[1;36m190\u001b[0m hbond interactions.                                         \u001b[2mdistance.py\u001b[0m\u001b[2m:\u001b[0m\u001b[2m1344\u001b[0m\n"
      ]
     },
     "metadata": {},
     "output_type": "display_data"
    },
    {
     "data": {
      "text/html": [
       "<pre style=\"white-space:pre;overflow-x:auto;line-height:normal;font-family:Menlo,'DejaVu Sans Mono',consolas,'Courier New',monospace\"><span style=\"color: #7fbfbf; text-decoration-color: #7fbfbf\">                    </span><span style=\"color: #000080; text-decoration-color: #000080\">INFO    </span> Found <span style=\"color: #008080; text-decoration-color: #008080; font-weight: bold\">22</span> hbond interactions.                                          <span style=\"color: #7f7f7f; text-decoration-color: #7f7f7f\">distance.py:1344</span>\n",
       "</pre>\n"
      ],
      "text/plain": [
       "\u001b[2;36m                   \u001b[0m\u001b[2;36m \u001b[0m\u001b[34mINFO    \u001b[0m Found \u001b[1;36m22\u001b[0m hbond interactions.                                          \u001b[2mdistance.py\u001b[0m\u001b[2m:\u001b[0m\u001b[2m1344\u001b[0m\n"
      ]
     },
     "metadata": {},
     "output_type": "display_data"
    },
    {
     "data": {
      "text/html": [
       "<pre style=\"white-space:pre;overflow-x:auto;line-height:normal;font-family:Menlo,'DejaVu Sans Mono',consolas,'Courier New',monospace\"><span style=\"color: #7fbfbf; text-decoration-color: #7fbfbf\">                    </span><span style=\"color: #000080; text-decoration-color: #000080\">INFO    </span> Found <span style=\"color: #008080; text-decoration-color: #008080; font-weight: bold\">3496</span> ionic interactions.                                        <span style=\"color: #7f7f7f; text-decoration-color: #7f7f7f\">distance.py:1344</span>\n",
       "</pre>\n"
      ],
      "text/plain": [
       "\u001b[2;36m                   \u001b[0m\u001b[2;36m \u001b[0m\u001b[34mINFO    \u001b[0m Found \u001b[1;36m3496\u001b[0m ionic interactions.                                        \u001b[2mdistance.py\u001b[0m\u001b[2m:\u001b[0m\u001b[2m1344\u001b[0m\n"
      ]
     },
     "metadata": {},
     "output_type": "display_data"
    },
    {
     "data": {
      "text/html": [
       "<pre style=\"white-space:pre;overflow-x:auto;line-height:normal;font-family:Menlo,'DejaVu Sans Mono',consolas,'Courier New',monospace\"></pre>\n"
      ],
      "text/plain": []
     },
     "metadata": {},
     "output_type": "display_data"
    },
    {
     "data": {
      "text/html": [
       "<pre style=\"white-space:pre;overflow-x:auto;line-height:normal;font-family:Menlo,'DejaVu Sans Mono',consolas,'Courier New',monospace\">\n",
       "</pre>\n"
      ],
      "text/plain": [
       "\n"
      ]
     },
     "metadata": {},
     "output_type": "display_data"
    },
    {
     "data": {
      "application/vnd.jupyter.widget-view+json": {
       "model_id": "f92090df8b354a5da062dd4fb4817b3a",
       "version_major": 2,
       "version_minor": 0
      },
      "text/plain": [
       "Output()"
      ]
     },
     "metadata": {},
     "output_type": "display_data"
    },
    {
     "data": {
      "text/html": [
       "<pre style=\"white-space:pre;overflow-x:auto;line-height:normal;font-family:Menlo,'DejaVu Sans Mono',consolas,'Courier New',monospace\"><span style=\"color: #7fbfbf; text-decoration-color: #7fbfbf\">[05/03/24 18:03:33] </span><span style=\"color: #008000; text-decoration-color: #008000\">DEBUG   </span> Deprotonating protein. This removes H atoms from the pdb_df dataframe    <span style=\"color: #7f7f7f; text-decoration-color: #7f7f7f\">graphs.py:188</span>\n",
       "</pre>\n"
      ],
      "text/plain": [
       "\u001b[2;36m[05/03/24 18:03:33]\u001b[0m\u001b[2;36m \u001b[0m\u001b[32mDEBUG   \u001b[0m Deprotonating protein. This removes H atoms from the pdb_df dataframe    \u001b[2mgraphs.py\u001b[0m\u001b[2m:\u001b[0m\u001b[2m188\u001b[0m\n"
      ]
     },
     "metadata": {},
     "output_type": "display_data"
    },
    {
     "data": {
      "text/html": [
       "<pre style=\"white-space:pre;overflow-x:auto;line-height:normal;font-family:Menlo,'DejaVu Sans Mono',consolas,'Courier New',monospace\"><span style=\"color: #7fbfbf; text-decoration-color: #7fbfbf\">                    </span><span style=\"color: #008000; text-decoration-color: #008000\">DEBUG   </span> Detected <span style=\"color: #008080; text-decoration-color: #008080; font-weight: bold\">445</span> total nodes                                                 <span style=\"color: #7f7f7f; text-decoration-color: #7f7f7f\">graphs.py:435</span>\n",
       "</pre>\n"
      ],
      "text/plain": [
       "\u001b[2;36m                   \u001b[0m\u001b[2;36m \u001b[0m\u001b[32mDEBUG   \u001b[0m Detected \u001b[1;36m445\u001b[0m total nodes                                                 \u001b[2mgraphs.py\u001b[0m\u001b[2m:\u001b[0m\u001b[2m435\u001b[0m\n"
      ]
     },
     "metadata": {},
     "output_type": "display_data"
    },
    {
     "data": {
      "text/html": [
       "<pre style=\"white-space:pre;overflow-x:auto;line-height:normal;font-family:Menlo,'DejaVu Sans Mono',consolas,'Courier New',monospace\">c:\\Users\\HUAWEI\\Desktop\\materiale \n",
       "magistrale\\CHL\\CHL-Project\\.venv\\lib\\site-packages\\graphein\\protein\\edges\\distance.py:1213: FutureWarning: The \n",
       "default value of numeric_only in DataFrameGroupBy.mean is deprecated. In a future version, numeric_only will \n",
       "default to False. Either specify numeric_only or select only columns which should be valid for the function.\n",
       "  .mean()[[\"x_coord\", \"y_coord\", \"z_coord\"]]\n",
       "</pre>\n"
      ],
      "text/plain": [
       "c:\\Users\\HUAWEI\\Desktop\\materiale \n",
       "magistrale\\CHL\\CHL-Project\\.venv\\lib\\site-packages\\graphein\\protein\\edges\\distance.py:1213: FutureWarning: The \n",
       "default value of numeric_only in DataFrameGroupBy.mean is deprecated. In a future version, numeric_only will \n",
       "default to False. Either specify numeric_only or select only columns which should be valid for the function.\n",
       "  .mean()[[\"x_coord\", \"y_coord\", \"z_coord\"]]\n"
      ]
     },
     "metadata": {},
     "output_type": "display_data"
    },
    {
     "data": {
      "text/html": [
       "<pre style=\"white-space:pre;overflow-x:auto;line-height:normal;font-family:Menlo,'DejaVu Sans Mono',consolas,'Courier New',monospace\">c:\\Users\\HUAWEI\\Desktop\\materiale \n",
       "magistrale\\CHL\\CHL-Project\\.venv\\lib\\site-packages\\graphein\\protein\\edges\\distance.py:1213: FutureWarning: The \n",
       "default value of numeric_only in DataFrameGroupBy.mean is deprecated. In a future version, numeric_only will \n",
       "default to False. Either specify numeric_only or select only columns which should be valid for the function.\n",
       "  .mean()[[\"x_coord\", \"y_coord\", \"z_coord\"]]\n",
       "</pre>\n"
      ],
      "text/plain": [
       "c:\\Users\\HUAWEI\\Desktop\\materiale \n",
       "magistrale\\CHL\\CHL-Project\\.venv\\lib\\site-packages\\graphein\\protein\\edges\\distance.py:1213: FutureWarning: The \n",
       "default value of numeric_only in DataFrameGroupBy.mean is deprecated. In a future version, numeric_only will \n",
       "default to False. Either specify numeric_only or select only columns which should be valid for the function.\n",
       "  .mean()[[\"x_coord\", \"y_coord\", \"z_coord\"]]\n"
      ]
     },
     "metadata": {},
     "output_type": "display_data"
    },
    {
     "data": {
      "text/html": [
       "<pre style=\"white-space:pre;overflow-x:auto;line-height:normal;font-family:Menlo,'DejaVu Sans Mono',consolas,'Courier New',monospace\">c:\\Users\\HUAWEI\\Desktop\\materiale \n",
       "magistrale\\CHL\\CHL-Project\\.venv\\lib\\site-packages\\graphein\\protein\\edges\\distance.py:1213: FutureWarning: The \n",
       "default value of numeric_only in DataFrameGroupBy.mean is deprecated. In a future version, numeric_only will \n",
       "default to False. Either specify numeric_only or select only columns which should be valid for the function.\n",
       "  .mean()[[\"x_coord\", \"y_coord\", \"z_coord\"]]\n",
       "</pre>\n"
      ],
      "text/plain": [
       "c:\\Users\\HUAWEI\\Desktop\\materiale \n",
       "magistrale\\CHL\\CHL-Project\\.venv\\lib\\site-packages\\graphein\\protein\\edges\\distance.py:1213: FutureWarning: The \n",
       "default value of numeric_only in DataFrameGroupBy.mean is deprecated. In a future version, numeric_only will \n",
       "default to False. Either specify numeric_only or select only columns which should be valid for the function.\n",
       "  .mean()[[\"x_coord\", \"y_coord\", \"z_coord\"]]\n"
      ]
     },
     "metadata": {},
     "output_type": "display_data"
    },
    {
     "data": {
      "text/html": [
       "<pre style=\"white-space:pre;overflow-x:auto;line-height:normal;font-family:Menlo,'DejaVu Sans Mono',consolas,'Courier New',monospace\">c:\\Users\\HUAWEI\\Desktop\\materiale \n",
       "magistrale\\CHL\\CHL-Project\\.venv\\lib\\site-packages\\graphein\\protein\\edges\\distance.py:1213: FutureWarning: The \n",
       "default value of numeric_only in DataFrameGroupBy.mean is deprecated. In a future version, numeric_only will \n",
       "default to False. Either specify numeric_only or select only columns which should be valid for the function.\n",
       "  .mean()[[\"x_coord\", \"y_coord\", \"z_coord\"]]\n",
       "</pre>\n"
      ],
      "text/plain": [
       "c:\\Users\\HUAWEI\\Desktop\\materiale \n",
       "magistrale\\CHL\\CHL-Project\\.venv\\lib\\site-packages\\graphein\\protein\\edges\\distance.py:1213: FutureWarning: The \n",
       "default value of numeric_only in DataFrameGroupBy.mean is deprecated. In a future version, numeric_only will \n",
       "default to False. Either specify numeric_only or select only columns which should be valid for the function.\n",
       "  .mean()[[\"x_coord\", \"y_coord\", \"z_coord\"]]\n"
      ]
     },
     "metadata": {},
     "output_type": "display_data"
    },
    {
     "data": {
      "text/html": [
       "<pre style=\"white-space:pre;overflow-x:auto;line-height:normal;font-family:Menlo,'DejaVu Sans Mono',consolas,'Courier New',monospace\"><span style=\"color: #7fbfbf; text-decoration-color: #7fbfbf\">                    </span><span style=\"color: #000080; text-decoration-color: #000080\">INFO    </span> Found: <span style=\"color: #008080; text-decoration-color: #008080; font-weight: bold\">92</span> aromatic-aromatic interactions                               <span style=\"color: #7f7f7f; text-decoration-color: #7f7f7f\">distance.py:467</span>\n",
       "</pre>\n"
      ],
      "text/plain": [
       "\u001b[2;36m                   \u001b[0m\u001b[2;36m \u001b[0m\u001b[34mINFO    \u001b[0m Found: \u001b[1;36m92\u001b[0m aromatic-aromatic interactions                               \u001b[2mdistance.py\u001b[0m\u001b[2m:\u001b[0m\u001b[2m467\u001b[0m\n"
      ]
     },
     "metadata": {},
     "output_type": "display_data"
    },
    {
     "data": {
      "text/html": [
       "<pre style=\"white-space:pre;overflow-x:auto;line-height:normal;font-family:Menlo,'DejaVu Sans Mono',consolas,'Courier New',monospace\"><span style=\"color: #7fbfbf; text-decoration-color: #7fbfbf\">                    </span><span style=\"color: #000080; text-decoration-color: #000080\">INFO    </span> Found <span style=\"color: #008080; text-decoration-color: #008080; font-weight: bold\">966</span> hydrophobic interactions.                                   <span style=\"color: #7f7f7f; text-decoration-color: #7f7f7f\">distance.py:1344</span>\n",
       "</pre>\n"
      ],
      "text/plain": [
       "\u001b[2;36m                   \u001b[0m\u001b[2;36m \u001b[0m\u001b[34mINFO    \u001b[0m Found \u001b[1;36m966\u001b[0m hydrophobic interactions.                                   \u001b[2mdistance.py\u001b[0m\u001b[2m:\u001b[0m\u001b[2m1344\u001b[0m\n"
      ]
     },
     "metadata": {},
     "output_type": "display_data"
    },
    {
     "data": {
      "text/html": [
       "<pre style=\"white-space:pre;overflow-x:auto;line-height:normal;font-family:Menlo,'DejaVu Sans Mono',consolas,'Courier New',monospace\"><span style=\"color: #7fbfbf; text-decoration-color: #7fbfbf\">[05/03/24 18:03:34] </span><span style=\"color: #000080; text-decoration-color: #000080\">INFO    </span> Found <span style=\"color: #008080; text-decoration-color: #008080; font-weight: bold\">12</span> disulfide interactions.                                      <span style=\"color: #7f7f7f; text-decoration-color: #7f7f7f\">distance.py:1344</span>\n",
       "</pre>\n"
      ],
      "text/plain": [
       "\u001b[2;36m[05/03/24 18:03:34]\u001b[0m\u001b[2;36m \u001b[0m\u001b[34mINFO    \u001b[0m Found \u001b[1;36m12\u001b[0m disulfide interactions.                                      \u001b[2mdistance.py\u001b[0m\u001b[2m:\u001b[0m\u001b[2m1344\u001b[0m\n"
      ]
     },
     "metadata": {},
     "output_type": "display_data"
    },
    {
     "data": {
      "text/html": [
       "<pre style=\"white-space:pre;overflow-x:auto;line-height:normal;font-family:Menlo,'DejaVu Sans Mono',consolas,'Courier New',monospace\"><span style=\"color: #7fbfbf; text-decoration-color: #7fbfbf\">                    </span><span style=\"color: #000080; text-decoration-color: #000080\">INFO    </span> Found <span style=\"color: #008080; text-decoration-color: #008080; font-weight: bold\">190</span> hbond interactions.                                         <span style=\"color: #7f7f7f; text-decoration-color: #7f7f7f\">distance.py:1344</span>\n",
       "</pre>\n"
      ],
      "text/plain": [
       "\u001b[2;36m                   \u001b[0m\u001b[2;36m \u001b[0m\u001b[34mINFO    \u001b[0m Found \u001b[1;36m190\u001b[0m hbond interactions.                                         \u001b[2mdistance.py\u001b[0m\u001b[2m:\u001b[0m\u001b[2m1344\u001b[0m\n"
      ]
     },
     "metadata": {},
     "output_type": "display_data"
    },
    {
     "data": {
      "text/html": [
       "<pre style=\"white-space:pre;overflow-x:auto;line-height:normal;font-family:Menlo,'DejaVu Sans Mono',consolas,'Courier New',monospace\"><span style=\"color: #7fbfbf; text-decoration-color: #7fbfbf\">                    </span><span style=\"color: #000080; text-decoration-color: #000080\">INFO    </span> Found <span style=\"color: #008080; text-decoration-color: #008080; font-weight: bold\">3500</span> ionic interactions.                                        <span style=\"color: #7f7f7f; text-decoration-color: #7f7f7f\">distance.py:1344</span>\n",
       "</pre>\n"
      ],
      "text/plain": [
       "\u001b[2;36m                   \u001b[0m\u001b[2;36m \u001b[0m\u001b[34mINFO    \u001b[0m Found \u001b[1;36m3500\u001b[0m ionic interactions.                                        \u001b[2mdistance.py\u001b[0m\u001b[2m:\u001b[0m\u001b[2m1344\u001b[0m\n"
      ]
     },
     "metadata": {},
     "output_type": "display_data"
    },
    {
     "data": {
      "text/html": [
       "<pre style=\"white-space:pre;overflow-x:auto;line-height:normal;font-family:Menlo,'DejaVu Sans Mono',consolas,'Courier New',monospace\"></pre>\n"
      ],
      "text/plain": []
     },
     "metadata": {},
     "output_type": "display_data"
    },
    {
     "data": {
      "text/html": [
       "<pre style=\"white-space:pre;overflow-x:auto;line-height:normal;font-family:Menlo,'DejaVu Sans Mono',consolas,'Courier New',monospace\">\n",
       "</pre>\n"
      ],
      "text/plain": [
       "\n"
      ]
     },
     "metadata": {},
     "output_type": "display_data"
    },
    {
     "data": {
      "application/vnd.jupyter.widget-view+json": {
       "model_id": "7bffbf10f635413f81a241d15f22113d",
       "version_major": 2,
       "version_minor": 0
      },
      "text/plain": [
       "Output()"
      ]
     },
     "metadata": {},
     "output_type": "display_data"
    },
    {
     "data": {
      "text/html": [
       "<pre style=\"white-space:pre;overflow-x:auto;line-height:normal;font-family:Menlo,'DejaVu Sans Mono',consolas,'Courier New',monospace\"><span style=\"color: #7fbfbf; text-decoration-color: #7fbfbf\">                    </span><span style=\"color: #008000; text-decoration-color: #008000\">DEBUG   </span> Deprotonating protein. This removes H atoms from the pdb_df dataframe    <span style=\"color: #7f7f7f; text-decoration-color: #7f7f7f\">graphs.py:188</span>\n",
       "</pre>\n"
      ],
      "text/plain": [
       "\u001b[2;36m                   \u001b[0m\u001b[2;36m \u001b[0m\u001b[32mDEBUG   \u001b[0m Deprotonating protein. This removes H atoms from the pdb_df dataframe    \u001b[2mgraphs.py\u001b[0m\u001b[2m:\u001b[0m\u001b[2m188\u001b[0m\n"
      ]
     },
     "metadata": {},
     "output_type": "display_data"
    },
    {
     "data": {
      "text/html": [
       "<pre style=\"white-space:pre;overflow-x:auto;line-height:normal;font-family:Menlo,'DejaVu Sans Mono',consolas,'Courier New',monospace\"><span style=\"color: #7fbfbf; text-decoration-color: #7fbfbf\">                    </span><span style=\"color: #008000; text-decoration-color: #008000\">DEBUG   </span> Detected <span style=\"color: #008080; text-decoration-color: #008080; font-weight: bold\">445</span> total nodes                                                 <span style=\"color: #7f7f7f; text-decoration-color: #7f7f7f\">graphs.py:435</span>\n",
       "</pre>\n"
      ],
      "text/plain": [
       "\u001b[2;36m                   \u001b[0m\u001b[2;36m \u001b[0m\u001b[32mDEBUG   \u001b[0m Detected \u001b[1;36m445\u001b[0m total nodes                                                 \u001b[2mgraphs.py\u001b[0m\u001b[2m:\u001b[0m\u001b[2m435\u001b[0m\n"
      ]
     },
     "metadata": {},
     "output_type": "display_data"
    },
    {
     "data": {
      "text/html": [
       "<pre style=\"white-space:pre;overflow-x:auto;line-height:normal;font-family:Menlo,'DejaVu Sans Mono',consolas,'Courier New',monospace\">c:\\Users\\HUAWEI\\Desktop\\materiale \n",
       "magistrale\\CHL\\CHL-Project\\.venv\\lib\\site-packages\\graphein\\protein\\edges\\distance.py:1213: FutureWarning: The \n",
       "default value of numeric_only in DataFrameGroupBy.mean is deprecated. In a future version, numeric_only will \n",
       "default to False. Either specify numeric_only or select only columns which should be valid for the function.\n",
       "  .mean()[[\"x_coord\", \"y_coord\", \"z_coord\"]]\n",
       "</pre>\n"
      ],
      "text/plain": [
       "c:\\Users\\HUAWEI\\Desktop\\materiale \n",
       "magistrale\\CHL\\CHL-Project\\.venv\\lib\\site-packages\\graphein\\protein\\edges\\distance.py:1213: FutureWarning: The \n",
       "default value of numeric_only in DataFrameGroupBy.mean is deprecated. In a future version, numeric_only will \n",
       "default to False. Either specify numeric_only or select only columns which should be valid for the function.\n",
       "  .mean()[[\"x_coord\", \"y_coord\", \"z_coord\"]]\n"
      ]
     },
     "metadata": {},
     "output_type": "display_data"
    },
    {
     "data": {
      "text/html": [
       "<pre style=\"white-space:pre;overflow-x:auto;line-height:normal;font-family:Menlo,'DejaVu Sans Mono',consolas,'Courier New',monospace\">c:\\Users\\HUAWEI\\Desktop\\materiale \n",
       "magistrale\\CHL\\CHL-Project\\.venv\\lib\\site-packages\\graphein\\protein\\edges\\distance.py:1213: FutureWarning: The \n",
       "default value of numeric_only in DataFrameGroupBy.mean is deprecated. In a future version, numeric_only will \n",
       "default to False. Either specify numeric_only or select only columns which should be valid for the function.\n",
       "  .mean()[[\"x_coord\", \"y_coord\", \"z_coord\"]]\n",
       "</pre>\n"
      ],
      "text/plain": [
       "c:\\Users\\HUAWEI\\Desktop\\materiale \n",
       "magistrale\\CHL\\CHL-Project\\.venv\\lib\\site-packages\\graphein\\protein\\edges\\distance.py:1213: FutureWarning: The \n",
       "default value of numeric_only in DataFrameGroupBy.mean is deprecated. In a future version, numeric_only will \n",
       "default to False. Either specify numeric_only or select only columns which should be valid for the function.\n",
       "  .mean()[[\"x_coord\", \"y_coord\", \"z_coord\"]]\n"
      ]
     },
     "metadata": {},
     "output_type": "display_data"
    },
    {
     "data": {
      "text/html": [
       "<pre style=\"white-space:pre;overflow-x:auto;line-height:normal;font-family:Menlo,'DejaVu Sans Mono',consolas,'Courier New',monospace\">c:\\Users\\HUAWEI\\Desktop\\materiale \n",
       "magistrale\\CHL\\CHL-Project\\.venv\\lib\\site-packages\\graphein\\protein\\edges\\distance.py:1213: FutureWarning: The \n",
       "default value of numeric_only in DataFrameGroupBy.mean is deprecated. In a future version, numeric_only will \n",
       "default to False. Either specify numeric_only or select only columns which should be valid for the function.\n",
       "  .mean()[[\"x_coord\", \"y_coord\", \"z_coord\"]]\n",
       "</pre>\n"
      ],
      "text/plain": [
       "c:\\Users\\HUAWEI\\Desktop\\materiale \n",
       "magistrale\\CHL\\CHL-Project\\.venv\\lib\\site-packages\\graphein\\protein\\edges\\distance.py:1213: FutureWarning: The \n",
       "default value of numeric_only in DataFrameGroupBy.mean is deprecated. In a future version, numeric_only will \n",
       "default to False. Either specify numeric_only or select only columns which should be valid for the function.\n",
       "  .mean()[[\"x_coord\", \"y_coord\", \"z_coord\"]]\n"
      ]
     },
     "metadata": {},
     "output_type": "display_data"
    },
    {
     "data": {
      "text/html": [
       "<pre style=\"white-space:pre;overflow-x:auto;line-height:normal;font-family:Menlo,'DejaVu Sans Mono',consolas,'Courier New',monospace\">c:\\Users\\HUAWEI\\Desktop\\materiale \n",
       "magistrale\\CHL\\CHL-Project\\.venv\\lib\\site-packages\\graphein\\protein\\edges\\distance.py:1213: FutureWarning: The \n",
       "default value of numeric_only in DataFrameGroupBy.mean is deprecated. In a future version, numeric_only will \n",
       "default to False. Either specify numeric_only or select only columns which should be valid for the function.\n",
       "  .mean()[[\"x_coord\", \"y_coord\", \"z_coord\"]]\n",
       "</pre>\n"
      ],
      "text/plain": [
       "c:\\Users\\HUAWEI\\Desktop\\materiale \n",
       "magistrale\\CHL\\CHL-Project\\.venv\\lib\\site-packages\\graphein\\protein\\edges\\distance.py:1213: FutureWarning: The \n",
       "default value of numeric_only in DataFrameGroupBy.mean is deprecated. In a future version, numeric_only will \n",
       "default to False. Either specify numeric_only or select only columns which should be valid for the function.\n",
       "  .mean()[[\"x_coord\", \"y_coord\", \"z_coord\"]]\n"
      ]
     },
     "metadata": {},
     "output_type": "display_data"
    },
    {
     "data": {
      "text/html": [
       "<pre style=\"white-space:pre;overflow-x:auto;line-height:normal;font-family:Menlo,'DejaVu Sans Mono',consolas,'Courier New',monospace\"><span style=\"color: #7fbfbf; text-decoration-color: #7fbfbf\">                    </span><span style=\"color: #000080; text-decoration-color: #000080\">INFO    </span> Found: <span style=\"color: #008080; text-decoration-color: #008080; font-weight: bold\">96</span> aromatic-aromatic interactions                               <span style=\"color: #7f7f7f; text-decoration-color: #7f7f7f\">distance.py:467</span>\n",
       "</pre>\n"
      ],
      "text/plain": [
       "\u001b[2;36m                   \u001b[0m\u001b[2;36m \u001b[0m\u001b[34mINFO    \u001b[0m Found: \u001b[1;36m96\u001b[0m aromatic-aromatic interactions                               \u001b[2mdistance.py\u001b[0m\u001b[2m:\u001b[0m\u001b[2m467\u001b[0m\n"
      ]
     },
     "metadata": {},
     "output_type": "display_data"
    },
    {
     "data": {
      "text/html": [
       "<pre style=\"white-space:pre;overflow-x:auto;line-height:normal;font-family:Menlo,'DejaVu Sans Mono',consolas,'Courier New',monospace\"><span style=\"color: #7fbfbf; text-decoration-color: #7fbfbf\">                    </span><span style=\"color: #000080; text-decoration-color: #000080\">INFO    </span> Found <span style=\"color: #008080; text-decoration-color: #008080; font-weight: bold\">973</span> hydrophobic interactions.                                   <span style=\"color: #7f7f7f; text-decoration-color: #7f7f7f\">distance.py:1344</span>\n",
       "</pre>\n"
      ],
      "text/plain": [
       "\u001b[2;36m                   \u001b[0m\u001b[2;36m \u001b[0m\u001b[34mINFO    \u001b[0m Found \u001b[1;36m973\u001b[0m hydrophobic interactions.                                   \u001b[2mdistance.py\u001b[0m\u001b[2m:\u001b[0m\u001b[2m1344\u001b[0m\n"
      ]
     },
     "metadata": {},
     "output_type": "display_data"
    },
    {
     "data": {
      "text/html": [
       "<pre style=\"white-space:pre;overflow-x:auto;line-height:normal;font-family:Menlo,'DejaVu Sans Mono',consolas,'Courier New',monospace\"><span style=\"color: #7fbfbf; text-decoration-color: #7fbfbf\">[05/03/24 18:03:35] </span><span style=\"color: #000080; text-decoration-color: #000080\">INFO    </span> Found <span style=\"color: #008080; text-decoration-color: #008080; font-weight: bold\">11</span> disulfide interactions.                                      <span style=\"color: #7f7f7f; text-decoration-color: #7f7f7f\">distance.py:1344</span>\n",
       "</pre>\n"
      ],
      "text/plain": [
       "\u001b[2;36m[05/03/24 18:03:35]\u001b[0m\u001b[2;36m \u001b[0m\u001b[34mINFO    \u001b[0m Found \u001b[1;36m11\u001b[0m disulfide interactions.                                      \u001b[2mdistance.py\u001b[0m\u001b[2m:\u001b[0m\u001b[2m1344\u001b[0m\n"
      ]
     },
     "metadata": {},
     "output_type": "display_data"
    },
    {
     "data": {
      "text/html": [
       "<pre style=\"white-space:pre;overflow-x:auto;line-height:normal;font-family:Menlo,'DejaVu Sans Mono',consolas,'Courier New',monospace\"><span style=\"color: #7fbfbf; text-decoration-color: #7fbfbf\">                    </span><span style=\"color: #000080; text-decoration-color: #000080\">INFO    </span> Found <span style=\"color: #008080; text-decoration-color: #008080; font-weight: bold\">189</span> hbond interactions.                                         <span style=\"color: #7f7f7f; text-decoration-color: #7f7f7f\">distance.py:1344</span>\n",
       "</pre>\n"
      ],
      "text/plain": [
       "\u001b[2;36m                   \u001b[0m\u001b[2;36m \u001b[0m\u001b[34mINFO    \u001b[0m Found \u001b[1;36m189\u001b[0m hbond interactions.                                         \u001b[2mdistance.py\u001b[0m\u001b[2m:\u001b[0m\u001b[2m1344\u001b[0m\n"
      ]
     },
     "metadata": {},
     "output_type": "display_data"
    },
    {
     "data": {
      "text/html": [
       "<pre style=\"white-space:pre;overflow-x:auto;line-height:normal;font-family:Menlo,'DejaVu Sans Mono',consolas,'Courier New',monospace\"><span style=\"color: #7fbfbf; text-decoration-color: #7fbfbf\">                    </span><span style=\"color: #000080; text-decoration-color: #000080\">INFO    </span> Found <span style=\"color: #008080; text-decoration-color: #008080; font-weight: bold\">21</span> hbond interactions.                                          <span style=\"color: #7f7f7f; text-decoration-color: #7f7f7f\">distance.py:1344</span>\n",
       "</pre>\n"
      ],
      "text/plain": [
       "\u001b[2;36m                   \u001b[0m\u001b[2;36m \u001b[0m\u001b[34mINFO    \u001b[0m Found \u001b[1;36m21\u001b[0m hbond interactions.                                          \u001b[2mdistance.py\u001b[0m\u001b[2m:\u001b[0m\u001b[2m1344\u001b[0m\n"
      ]
     },
     "metadata": {},
     "output_type": "display_data"
    },
    {
     "data": {
      "text/html": [
       "<pre style=\"white-space:pre;overflow-x:auto;line-height:normal;font-family:Menlo,'DejaVu Sans Mono',consolas,'Courier New',monospace\"><span style=\"color: #7fbfbf; text-decoration-color: #7fbfbf\">                    </span><span style=\"color: #000080; text-decoration-color: #000080\">INFO    </span> Found <span style=\"color: #008080; text-decoration-color: #008080; font-weight: bold\">3502</span> ionic interactions.                                        <span style=\"color: #7f7f7f; text-decoration-color: #7f7f7f\">distance.py:1344</span>\n",
       "</pre>\n"
      ],
      "text/plain": [
       "\u001b[2;36m                   \u001b[0m\u001b[2;36m \u001b[0m\u001b[34mINFO    \u001b[0m Found \u001b[1;36m3502\u001b[0m ionic interactions.                                        \u001b[2mdistance.py\u001b[0m\u001b[2m:\u001b[0m\u001b[2m1344\u001b[0m\n"
      ]
     },
     "metadata": {},
     "output_type": "display_data"
    },
    {
     "data": {
      "text/html": [
       "<pre style=\"white-space:pre;overflow-x:auto;line-height:normal;font-family:Menlo,'DejaVu Sans Mono',consolas,'Courier New',monospace\"></pre>\n"
      ],
      "text/plain": []
     },
     "metadata": {},
     "output_type": "display_data"
    },
    {
     "data": {
      "text/html": [
       "<pre style=\"white-space:pre;overflow-x:auto;line-height:normal;font-family:Menlo,'DejaVu Sans Mono',consolas,'Courier New',monospace\">\n",
       "</pre>\n"
      ],
      "text/plain": [
       "\n"
      ]
     },
     "metadata": {},
     "output_type": "display_data"
    },
    {
     "data": {
      "application/vnd.jupyter.widget-view+json": {
       "model_id": "9fea267ef1e04e16846e7c3a3e92dea7",
       "version_major": 2,
       "version_minor": 0
      },
      "text/plain": [
       "Output()"
      ]
     },
     "metadata": {},
     "output_type": "display_data"
    },
    {
     "data": {
      "text/html": [
       "<pre style=\"white-space:pre;overflow-x:auto;line-height:normal;font-family:Menlo,'DejaVu Sans Mono',consolas,'Courier New',monospace\"><span style=\"color: #7fbfbf; text-decoration-color: #7fbfbf\">                    </span><span style=\"color: #008000; text-decoration-color: #008000\">DEBUG   </span> Deprotonating protein. This removes H atoms from the pdb_df dataframe    <span style=\"color: #7f7f7f; text-decoration-color: #7f7f7f\">graphs.py:188</span>\n",
       "</pre>\n"
      ],
      "text/plain": [
       "\u001b[2;36m                   \u001b[0m\u001b[2;36m \u001b[0m\u001b[32mDEBUG   \u001b[0m Deprotonating protein. This removes H atoms from the pdb_df dataframe    \u001b[2mgraphs.py\u001b[0m\u001b[2m:\u001b[0m\u001b[2m188\u001b[0m\n"
      ]
     },
     "metadata": {},
     "output_type": "display_data"
    },
    {
     "data": {
      "text/html": [
       "<pre style=\"white-space:pre;overflow-x:auto;line-height:normal;font-family:Menlo,'DejaVu Sans Mono',consolas,'Courier New',monospace\"><span style=\"color: #7fbfbf; text-decoration-color: #7fbfbf\">                    </span><span style=\"color: #008000; text-decoration-color: #008000\">DEBUG   </span> Detected <span style=\"color: #008080; text-decoration-color: #008080; font-weight: bold\">445</span> total nodes                                                 <span style=\"color: #7f7f7f; text-decoration-color: #7f7f7f\">graphs.py:435</span>\n",
       "</pre>\n"
      ],
      "text/plain": [
       "\u001b[2;36m                   \u001b[0m\u001b[2;36m \u001b[0m\u001b[32mDEBUG   \u001b[0m Detected \u001b[1;36m445\u001b[0m total nodes                                                 \u001b[2mgraphs.py\u001b[0m\u001b[2m:\u001b[0m\u001b[2m435\u001b[0m\n"
      ]
     },
     "metadata": {},
     "output_type": "display_data"
    },
    {
     "data": {
      "text/html": [
       "<pre style=\"white-space:pre;overflow-x:auto;line-height:normal;font-family:Menlo,'DejaVu Sans Mono',consolas,'Courier New',monospace\">c:\\Users\\HUAWEI\\Desktop\\materiale \n",
       "magistrale\\CHL\\CHL-Project\\.venv\\lib\\site-packages\\graphein\\protein\\edges\\distance.py:1213: FutureWarning: The \n",
       "default value of numeric_only in DataFrameGroupBy.mean is deprecated. In a future version, numeric_only will \n",
       "default to False. Either specify numeric_only or select only columns which should be valid for the function.\n",
       "  .mean()[[\"x_coord\", \"y_coord\", \"z_coord\"]]\n",
       "</pre>\n"
      ],
      "text/plain": [
       "c:\\Users\\HUAWEI\\Desktop\\materiale \n",
       "magistrale\\CHL\\CHL-Project\\.venv\\lib\\site-packages\\graphein\\protein\\edges\\distance.py:1213: FutureWarning: The \n",
       "default value of numeric_only in DataFrameGroupBy.mean is deprecated. In a future version, numeric_only will \n",
       "default to False. Either specify numeric_only or select only columns which should be valid for the function.\n",
       "  .mean()[[\"x_coord\", \"y_coord\", \"z_coord\"]]\n"
      ]
     },
     "metadata": {},
     "output_type": "display_data"
    },
    {
     "data": {
      "text/html": [
       "<pre style=\"white-space:pre;overflow-x:auto;line-height:normal;font-family:Menlo,'DejaVu Sans Mono',consolas,'Courier New',monospace\">c:\\Users\\HUAWEI\\Desktop\\materiale \n",
       "magistrale\\CHL\\CHL-Project\\.venv\\lib\\site-packages\\graphein\\protein\\edges\\distance.py:1213: FutureWarning: The \n",
       "default value of numeric_only in DataFrameGroupBy.mean is deprecated. In a future version, numeric_only will \n",
       "default to False. Either specify numeric_only or select only columns which should be valid for the function.\n",
       "  .mean()[[\"x_coord\", \"y_coord\", \"z_coord\"]]\n",
       "</pre>\n"
      ],
      "text/plain": [
       "c:\\Users\\HUAWEI\\Desktop\\materiale \n",
       "magistrale\\CHL\\CHL-Project\\.venv\\lib\\site-packages\\graphein\\protein\\edges\\distance.py:1213: FutureWarning: The \n",
       "default value of numeric_only in DataFrameGroupBy.mean is deprecated. In a future version, numeric_only will \n",
       "default to False. Either specify numeric_only or select only columns which should be valid for the function.\n",
       "  .mean()[[\"x_coord\", \"y_coord\", \"z_coord\"]]\n"
      ]
     },
     "metadata": {},
     "output_type": "display_data"
    },
    {
     "data": {
      "text/html": [
       "<pre style=\"white-space:pre;overflow-x:auto;line-height:normal;font-family:Menlo,'DejaVu Sans Mono',consolas,'Courier New',monospace\">c:\\Users\\HUAWEI\\Desktop\\materiale \n",
       "magistrale\\CHL\\CHL-Project\\.venv\\lib\\site-packages\\graphein\\protein\\edges\\distance.py:1213: FutureWarning: The \n",
       "default value of numeric_only in DataFrameGroupBy.mean is deprecated. In a future version, numeric_only will \n",
       "default to False. Either specify numeric_only or select only columns which should be valid for the function.\n",
       "  .mean()[[\"x_coord\", \"y_coord\", \"z_coord\"]]\n",
       "</pre>\n"
      ],
      "text/plain": [
       "c:\\Users\\HUAWEI\\Desktop\\materiale \n",
       "magistrale\\CHL\\CHL-Project\\.venv\\lib\\site-packages\\graphein\\protein\\edges\\distance.py:1213: FutureWarning: The \n",
       "default value of numeric_only in DataFrameGroupBy.mean is deprecated. In a future version, numeric_only will \n",
       "default to False. Either specify numeric_only or select only columns which should be valid for the function.\n",
       "  .mean()[[\"x_coord\", \"y_coord\", \"z_coord\"]]\n"
      ]
     },
     "metadata": {},
     "output_type": "display_data"
    },
    {
     "data": {
      "text/html": [
       "<pre style=\"white-space:pre;overflow-x:auto;line-height:normal;font-family:Menlo,'DejaVu Sans Mono',consolas,'Courier New',monospace\">c:\\Users\\HUAWEI\\Desktop\\materiale \n",
       "magistrale\\CHL\\CHL-Project\\.venv\\lib\\site-packages\\graphein\\protein\\edges\\distance.py:1213: FutureWarning: The \n",
       "default value of numeric_only in DataFrameGroupBy.mean is deprecated. In a future version, numeric_only will \n",
       "default to False. Either specify numeric_only or select only columns which should be valid for the function.\n",
       "  .mean()[[\"x_coord\", \"y_coord\", \"z_coord\"]]\n",
       "</pre>\n"
      ],
      "text/plain": [
       "c:\\Users\\HUAWEI\\Desktop\\materiale \n",
       "magistrale\\CHL\\CHL-Project\\.venv\\lib\\site-packages\\graphein\\protein\\edges\\distance.py:1213: FutureWarning: The \n",
       "default value of numeric_only in DataFrameGroupBy.mean is deprecated. In a future version, numeric_only will \n",
       "default to False. Either specify numeric_only or select only columns which should be valid for the function.\n",
       "  .mean()[[\"x_coord\", \"y_coord\", \"z_coord\"]]\n"
      ]
     },
     "metadata": {},
     "output_type": "display_data"
    },
    {
     "data": {
      "text/html": [
       "<pre style=\"white-space:pre;overflow-x:auto;line-height:normal;font-family:Menlo,'DejaVu Sans Mono',consolas,'Courier New',monospace\"><span style=\"color: #7fbfbf; text-decoration-color: #7fbfbf\">                    </span><span style=\"color: #000080; text-decoration-color: #000080\">INFO    </span> Found: <span style=\"color: #008080; text-decoration-color: #008080; font-weight: bold\">96</span> aromatic-aromatic interactions                               <span style=\"color: #7f7f7f; text-decoration-color: #7f7f7f\">distance.py:467</span>\n",
       "</pre>\n"
      ],
      "text/plain": [
       "\u001b[2;36m                   \u001b[0m\u001b[2;36m \u001b[0m\u001b[34mINFO    \u001b[0m Found: \u001b[1;36m96\u001b[0m aromatic-aromatic interactions                               \u001b[2mdistance.py\u001b[0m\u001b[2m:\u001b[0m\u001b[2m467\u001b[0m\n"
      ]
     },
     "metadata": {},
     "output_type": "display_data"
    },
    {
     "data": {
      "text/html": [
       "<pre style=\"white-space:pre;overflow-x:auto;line-height:normal;font-family:Menlo,'DejaVu Sans Mono',consolas,'Courier New',monospace\"><span style=\"color: #7fbfbf; text-decoration-color: #7fbfbf\">                    </span><span style=\"color: #000080; text-decoration-color: #000080\">INFO    </span> Found <span style=\"color: #008080; text-decoration-color: #008080; font-weight: bold\">975</span> hydrophobic interactions.                                   <span style=\"color: #7f7f7f; text-decoration-color: #7f7f7f\">distance.py:1344</span>\n",
       "</pre>\n"
      ],
      "text/plain": [
       "\u001b[2;36m                   \u001b[0m\u001b[2;36m \u001b[0m\u001b[34mINFO    \u001b[0m Found \u001b[1;36m975\u001b[0m hydrophobic interactions.                                   \u001b[2mdistance.py\u001b[0m\u001b[2m:\u001b[0m\u001b[2m1344\u001b[0m\n"
      ]
     },
     "metadata": {},
     "output_type": "display_data"
    },
    {
     "data": {
      "text/html": [
       "<pre style=\"white-space:pre;overflow-x:auto;line-height:normal;font-family:Menlo,'DejaVu Sans Mono',consolas,'Courier New',monospace\"><span style=\"color: #7fbfbf; text-decoration-color: #7fbfbf\">[05/03/24 18:03:36] </span><span style=\"color: #000080; text-decoration-color: #000080\">INFO    </span> Found <span style=\"color: #008080; text-decoration-color: #008080; font-weight: bold\">12</span> disulfide interactions.                                      <span style=\"color: #7f7f7f; text-decoration-color: #7f7f7f\">distance.py:1344</span>\n",
       "</pre>\n"
      ],
      "text/plain": [
       "\u001b[2;36m[05/03/24 18:03:36]\u001b[0m\u001b[2;36m \u001b[0m\u001b[34mINFO    \u001b[0m Found \u001b[1;36m12\u001b[0m disulfide interactions.                                      \u001b[2mdistance.py\u001b[0m\u001b[2m:\u001b[0m\u001b[2m1344\u001b[0m\n"
      ]
     },
     "metadata": {},
     "output_type": "display_data"
    },
    {
     "data": {
      "text/html": [
       "<pre style=\"white-space:pre;overflow-x:auto;line-height:normal;font-family:Menlo,'DejaVu Sans Mono',consolas,'Courier New',monospace\"><span style=\"color: #7fbfbf; text-decoration-color: #7fbfbf\">                    </span><span style=\"color: #000080; text-decoration-color: #000080\">INFO    </span> Found <span style=\"color: #008080; text-decoration-color: #008080; font-weight: bold\">188</span> hbond interactions.                                         <span style=\"color: #7f7f7f; text-decoration-color: #7f7f7f\">distance.py:1344</span>\n",
       "</pre>\n"
      ],
      "text/plain": [
       "\u001b[2;36m                   \u001b[0m\u001b[2;36m \u001b[0m\u001b[34mINFO    \u001b[0m Found \u001b[1;36m188\u001b[0m hbond interactions.                                         \u001b[2mdistance.py\u001b[0m\u001b[2m:\u001b[0m\u001b[2m1344\u001b[0m\n"
      ]
     },
     "metadata": {},
     "output_type": "display_data"
    },
    {
     "data": {
      "text/html": [
       "<pre style=\"white-space:pre;overflow-x:auto;line-height:normal;font-family:Menlo,'DejaVu Sans Mono',consolas,'Courier New',monospace\"><span style=\"color: #7fbfbf; text-decoration-color: #7fbfbf\">                    </span><span style=\"color: #000080; text-decoration-color: #000080\">INFO    </span> Found <span style=\"color: #008080; text-decoration-color: #008080; font-weight: bold\">22</span> hbond interactions.                                          <span style=\"color: #7f7f7f; text-decoration-color: #7f7f7f\">distance.py:1344</span>\n",
       "</pre>\n"
      ],
      "text/plain": [
       "\u001b[2;36m                   \u001b[0m\u001b[2;36m \u001b[0m\u001b[34mINFO    \u001b[0m Found \u001b[1;36m22\u001b[0m hbond interactions.                                          \u001b[2mdistance.py\u001b[0m\u001b[2m:\u001b[0m\u001b[2m1344\u001b[0m\n"
      ]
     },
     "metadata": {},
     "output_type": "display_data"
    },
    {
     "data": {
      "text/html": [
       "<pre style=\"white-space:pre;overflow-x:auto;line-height:normal;font-family:Menlo,'DejaVu Sans Mono',consolas,'Courier New',monospace\"><span style=\"color: #7fbfbf; text-decoration-color: #7fbfbf\">                    </span><span style=\"color: #000080; text-decoration-color: #000080\">INFO    </span> Found <span style=\"color: #008080; text-decoration-color: #008080; font-weight: bold\">3496</span> ionic interactions.                                        <span style=\"color: #7f7f7f; text-decoration-color: #7f7f7f\">distance.py:1344</span>\n",
       "</pre>\n"
      ],
      "text/plain": [
       "\u001b[2;36m                   \u001b[0m\u001b[2;36m \u001b[0m\u001b[34mINFO    \u001b[0m Found \u001b[1;36m3496\u001b[0m ionic interactions.                                        \u001b[2mdistance.py\u001b[0m\u001b[2m:\u001b[0m\u001b[2m1344\u001b[0m\n"
      ]
     },
     "metadata": {},
     "output_type": "display_data"
    },
    {
     "data": {
      "text/html": [
       "<pre style=\"white-space:pre;overflow-x:auto;line-height:normal;font-family:Menlo,'DejaVu Sans Mono',consolas,'Courier New',monospace\"></pre>\n"
      ],
      "text/plain": []
     },
     "metadata": {},
     "output_type": "display_data"
    },
    {
     "data": {
      "text/html": [
       "<pre style=\"white-space:pre;overflow-x:auto;line-height:normal;font-family:Menlo,'DejaVu Sans Mono',consolas,'Courier New',monospace\">\n",
       "</pre>\n"
      ],
      "text/plain": [
       "\n"
      ]
     },
     "metadata": {},
     "output_type": "display_data"
    },
    {
     "data": {
      "application/vnd.jupyter.widget-view+json": {
       "model_id": "26447e19c26347348b0f97c191954f0d",
       "version_major": 2,
       "version_minor": 0
      },
      "text/plain": [
       "Output()"
      ]
     },
     "metadata": {},
     "output_type": "display_data"
    },
    {
     "data": {
      "text/html": [
       "<pre style=\"white-space:pre;overflow-x:auto;line-height:normal;font-family:Menlo,'DejaVu Sans Mono',consolas,'Courier New',monospace\"><span style=\"color: #7fbfbf; text-decoration-color: #7fbfbf\">                    </span><span style=\"color: #008000; text-decoration-color: #008000\">DEBUG   </span> Deprotonating protein. This removes H atoms from the pdb_df dataframe    <span style=\"color: #7f7f7f; text-decoration-color: #7f7f7f\">graphs.py:188</span>\n",
       "</pre>\n"
      ],
      "text/plain": [
       "\u001b[2;36m                   \u001b[0m\u001b[2;36m \u001b[0m\u001b[32mDEBUG   \u001b[0m Deprotonating protein. This removes H atoms from the pdb_df dataframe    \u001b[2mgraphs.py\u001b[0m\u001b[2m:\u001b[0m\u001b[2m188\u001b[0m\n"
      ]
     },
     "metadata": {},
     "output_type": "display_data"
    },
    {
     "data": {
      "text/html": [
       "<pre style=\"white-space:pre;overflow-x:auto;line-height:normal;font-family:Menlo,'DejaVu Sans Mono',consolas,'Courier New',monospace\"><span style=\"color: #7fbfbf; text-decoration-color: #7fbfbf\">                    </span><span style=\"color: #008000; text-decoration-color: #008000\">DEBUG   </span> Detected <span style=\"color: #008080; text-decoration-color: #008080; font-weight: bold\">445</span> total nodes                                                 <span style=\"color: #7f7f7f; text-decoration-color: #7f7f7f\">graphs.py:435</span>\n",
       "</pre>\n"
      ],
      "text/plain": [
       "\u001b[2;36m                   \u001b[0m\u001b[2;36m \u001b[0m\u001b[32mDEBUG   \u001b[0m Detected \u001b[1;36m445\u001b[0m total nodes                                                 \u001b[2mgraphs.py\u001b[0m\u001b[2m:\u001b[0m\u001b[2m435\u001b[0m\n"
      ]
     },
     "metadata": {},
     "output_type": "display_data"
    },
    {
     "data": {
      "text/html": [
       "<pre style=\"white-space:pre;overflow-x:auto;line-height:normal;font-family:Menlo,'DejaVu Sans Mono',consolas,'Courier New',monospace\">c:\\Users\\HUAWEI\\Desktop\\materiale \n",
       "magistrale\\CHL\\CHL-Project\\.venv\\lib\\site-packages\\graphein\\protein\\edges\\distance.py:1213: FutureWarning: The \n",
       "default value of numeric_only in DataFrameGroupBy.mean is deprecated. In a future version, numeric_only will \n",
       "default to False. Either specify numeric_only or select only columns which should be valid for the function.\n",
       "  .mean()[[\"x_coord\", \"y_coord\", \"z_coord\"]]\n",
       "</pre>\n"
      ],
      "text/plain": [
       "c:\\Users\\HUAWEI\\Desktop\\materiale \n",
       "magistrale\\CHL\\CHL-Project\\.venv\\lib\\site-packages\\graphein\\protein\\edges\\distance.py:1213: FutureWarning: The \n",
       "default value of numeric_only in DataFrameGroupBy.mean is deprecated. In a future version, numeric_only will \n",
       "default to False. Either specify numeric_only or select only columns which should be valid for the function.\n",
       "  .mean()[[\"x_coord\", \"y_coord\", \"z_coord\"]]\n"
      ]
     },
     "metadata": {},
     "output_type": "display_data"
    },
    {
     "data": {
      "text/html": [
       "<pre style=\"white-space:pre;overflow-x:auto;line-height:normal;font-family:Menlo,'DejaVu Sans Mono',consolas,'Courier New',monospace\">c:\\Users\\HUAWEI\\Desktop\\materiale \n",
       "magistrale\\CHL\\CHL-Project\\.venv\\lib\\site-packages\\graphein\\protein\\edges\\distance.py:1213: FutureWarning: The \n",
       "default value of numeric_only in DataFrameGroupBy.mean is deprecated. In a future version, numeric_only will \n",
       "default to False. Either specify numeric_only or select only columns which should be valid for the function.\n",
       "  .mean()[[\"x_coord\", \"y_coord\", \"z_coord\"]]\n",
       "</pre>\n"
      ],
      "text/plain": [
       "c:\\Users\\HUAWEI\\Desktop\\materiale \n",
       "magistrale\\CHL\\CHL-Project\\.venv\\lib\\site-packages\\graphein\\protein\\edges\\distance.py:1213: FutureWarning: The \n",
       "default value of numeric_only in DataFrameGroupBy.mean is deprecated. In a future version, numeric_only will \n",
       "default to False. Either specify numeric_only or select only columns which should be valid for the function.\n",
       "  .mean()[[\"x_coord\", \"y_coord\", \"z_coord\"]]\n"
      ]
     },
     "metadata": {},
     "output_type": "display_data"
    },
    {
     "data": {
      "text/html": [
       "<pre style=\"white-space:pre;overflow-x:auto;line-height:normal;font-family:Menlo,'DejaVu Sans Mono',consolas,'Courier New',monospace\">c:\\Users\\HUAWEI\\Desktop\\materiale \n",
       "magistrale\\CHL\\CHL-Project\\.venv\\lib\\site-packages\\graphein\\protein\\edges\\distance.py:1213: FutureWarning: The \n",
       "default value of numeric_only in DataFrameGroupBy.mean is deprecated. In a future version, numeric_only will \n",
       "default to False. Either specify numeric_only or select only columns which should be valid for the function.\n",
       "  .mean()[[\"x_coord\", \"y_coord\", \"z_coord\"]]\n",
       "</pre>\n"
      ],
      "text/plain": [
       "c:\\Users\\HUAWEI\\Desktop\\materiale \n",
       "magistrale\\CHL\\CHL-Project\\.venv\\lib\\site-packages\\graphein\\protein\\edges\\distance.py:1213: FutureWarning: The \n",
       "default value of numeric_only in DataFrameGroupBy.mean is deprecated. In a future version, numeric_only will \n",
       "default to False. Either specify numeric_only or select only columns which should be valid for the function.\n",
       "  .mean()[[\"x_coord\", \"y_coord\", \"z_coord\"]]\n"
      ]
     },
     "metadata": {},
     "output_type": "display_data"
    },
    {
     "data": {
      "text/html": [
       "<pre style=\"white-space:pre;overflow-x:auto;line-height:normal;font-family:Menlo,'DejaVu Sans Mono',consolas,'Courier New',monospace\">c:\\Users\\HUAWEI\\Desktop\\materiale \n",
       "magistrale\\CHL\\CHL-Project\\.venv\\lib\\site-packages\\graphein\\protein\\edges\\distance.py:1213: FutureWarning: The \n",
       "default value of numeric_only in DataFrameGroupBy.mean is deprecated. In a future version, numeric_only will \n",
       "default to False. Either specify numeric_only or select only columns which should be valid for the function.\n",
       "  .mean()[[\"x_coord\", \"y_coord\", \"z_coord\"]]\n",
       "</pre>\n"
      ],
      "text/plain": [
       "c:\\Users\\HUAWEI\\Desktop\\materiale \n",
       "magistrale\\CHL\\CHL-Project\\.venv\\lib\\site-packages\\graphein\\protein\\edges\\distance.py:1213: FutureWarning: The \n",
       "default value of numeric_only in DataFrameGroupBy.mean is deprecated. In a future version, numeric_only will \n",
       "default to False. Either specify numeric_only or select only columns which should be valid for the function.\n",
       "  .mean()[[\"x_coord\", \"y_coord\", \"z_coord\"]]\n"
      ]
     },
     "metadata": {},
     "output_type": "display_data"
    },
    {
     "data": {
      "text/html": [
       "<pre style=\"white-space:pre;overflow-x:auto;line-height:normal;font-family:Menlo,'DejaVu Sans Mono',consolas,'Courier New',monospace\"><span style=\"color: #7fbfbf; text-decoration-color: #7fbfbf\">                    </span><span style=\"color: #000080; text-decoration-color: #000080\">INFO    </span> Found: <span style=\"color: #008080; text-decoration-color: #008080; font-weight: bold\">92</span> aromatic-aromatic interactions                               <span style=\"color: #7f7f7f; text-decoration-color: #7f7f7f\">distance.py:467</span>\n",
       "</pre>\n"
      ],
      "text/plain": [
       "\u001b[2;36m                   \u001b[0m\u001b[2;36m \u001b[0m\u001b[34mINFO    \u001b[0m Found: \u001b[1;36m92\u001b[0m aromatic-aromatic interactions                               \u001b[2mdistance.py\u001b[0m\u001b[2m:\u001b[0m\u001b[2m467\u001b[0m\n"
      ]
     },
     "metadata": {},
     "output_type": "display_data"
    },
    {
     "data": {
      "text/html": [
       "<pre style=\"white-space:pre;overflow-x:auto;line-height:normal;font-family:Menlo,'DejaVu Sans Mono',consolas,'Courier New',monospace\"><span style=\"color: #7fbfbf; text-decoration-color: #7fbfbf\">                    </span><span style=\"color: #000080; text-decoration-color: #000080\">INFO    </span> Found <span style=\"color: #008080; text-decoration-color: #008080; font-weight: bold\">960</span> hydrophobic interactions.                                   <span style=\"color: #7f7f7f; text-decoration-color: #7f7f7f\">distance.py:1344</span>\n",
       "</pre>\n"
      ],
      "text/plain": [
       "\u001b[2;36m                   \u001b[0m\u001b[2;36m \u001b[0m\u001b[34mINFO    \u001b[0m Found \u001b[1;36m960\u001b[0m hydrophobic interactions.                                   \u001b[2mdistance.py\u001b[0m\u001b[2m:\u001b[0m\u001b[2m1344\u001b[0m\n"
      ]
     },
     "metadata": {},
     "output_type": "display_data"
    },
    {
     "data": {
      "text/html": [
       "<pre style=\"white-space:pre;overflow-x:auto;line-height:normal;font-family:Menlo,'DejaVu Sans Mono',consolas,'Courier New',monospace\"><span style=\"color: #7fbfbf; text-decoration-color: #7fbfbf\">[05/03/24 18:03:37] </span><span style=\"color: #000080; text-decoration-color: #000080\">INFO    </span> Found <span style=\"color: #008080; text-decoration-color: #008080; font-weight: bold\">12</span> disulfide interactions.                                      <span style=\"color: #7f7f7f; text-decoration-color: #7f7f7f\">distance.py:1344</span>\n",
       "</pre>\n"
      ],
      "text/plain": [
       "\u001b[2;36m[05/03/24 18:03:37]\u001b[0m\u001b[2;36m \u001b[0m\u001b[34mINFO    \u001b[0m Found \u001b[1;36m12\u001b[0m disulfide interactions.                                      \u001b[2mdistance.py\u001b[0m\u001b[2m:\u001b[0m\u001b[2m1344\u001b[0m\n"
      ]
     },
     "metadata": {},
     "output_type": "display_data"
    },
    {
     "data": {
      "text/html": [
       "<pre style=\"white-space:pre;overflow-x:auto;line-height:normal;font-family:Menlo,'DejaVu Sans Mono',consolas,'Courier New',monospace\"><span style=\"color: #7fbfbf; text-decoration-color: #7fbfbf\">                    </span><span style=\"color: #000080; text-decoration-color: #000080\">INFO    </span> Found <span style=\"color: #008080; text-decoration-color: #008080; font-weight: bold\">193</span> hbond interactions.                                         <span style=\"color: #7f7f7f; text-decoration-color: #7f7f7f\">distance.py:1344</span>\n",
       "</pre>\n"
      ],
      "text/plain": [
       "\u001b[2;36m                   \u001b[0m\u001b[2;36m \u001b[0m\u001b[34mINFO    \u001b[0m Found \u001b[1;36m193\u001b[0m hbond interactions.                                         \u001b[2mdistance.py\u001b[0m\u001b[2m:\u001b[0m\u001b[2m1344\u001b[0m\n"
      ]
     },
     "metadata": {},
     "output_type": "display_data"
    },
    {
     "data": {
      "text/html": [
       "<pre style=\"white-space:pre;overflow-x:auto;line-height:normal;font-family:Menlo,'DejaVu Sans Mono',consolas,'Courier New',monospace\"><span style=\"color: #7fbfbf; text-decoration-color: #7fbfbf\">                    </span><span style=\"color: #000080; text-decoration-color: #000080\">INFO    </span> Found <span style=\"color: #008080; text-decoration-color: #008080; font-weight: bold\">22</span> hbond interactions.                                          <span style=\"color: #7f7f7f; text-decoration-color: #7f7f7f\">distance.py:1344</span>\n",
       "</pre>\n"
      ],
      "text/plain": [
       "\u001b[2;36m                   \u001b[0m\u001b[2;36m \u001b[0m\u001b[34mINFO    \u001b[0m Found \u001b[1;36m22\u001b[0m hbond interactions.                                          \u001b[2mdistance.py\u001b[0m\u001b[2m:\u001b[0m\u001b[2m1344\u001b[0m\n"
      ]
     },
     "metadata": {},
     "output_type": "display_data"
    },
    {
     "data": {
      "text/html": [
       "<pre style=\"white-space:pre;overflow-x:auto;line-height:normal;font-family:Menlo,'DejaVu Sans Mono',consolas,'Courier New',monospace\"><span style=\"color: #7fbfbf; text-decoration-color: #7fbfbf\">                    </span><span style=\"color: #000080; text-decoration-color: #000080\">INFO    </span> Found <span style=\"color: #008080; text-decoration-color: #008080; font-weight: bold\">3498</span> ionic interactions.                                        <span style=\"color: #7f7f7f; text-decoration-color: #7f7f7f\">distance.py:1344</span>\n",
       "</pre>\n"
      ],
      "text/plain": [
       "\u001b[2;36m                   \u001b[0m\u001b[2;36m \u001b[0m\u001b[34mINFO    \u001b[0m Found \u001b[1;36m3498\u001b[0m ionic interactions.                                        \u001b[2mdistance.py\u001b[0m\u001b[2m:\u001b[0m\u001b[2m1344\u001b[0m\n"
      ]
     },
     "metadata": {},
     "output_type": "display_data"
    },
    {
     "data": {
      "text/html": [
       "<pre style=\"white-space:pre;overflow-x:auto;line-height:normal;font-family:Menlo,'DejaVu Sans Mono',consolas,'Courier New',monospace\"></pre>\n"
      ],
      "text/plain": []
     },
     "metadata": {},
     "output_type": "display_data"
    },
    {
     "data": {
      "text/html": [
       "<pre style=\"white-space:pre;overflow-x:auto;line-height:normal;font-family:Menlo,'DejaVu Sans Mono',consolas,'Courier New',monospace\">\n",
       "</pre>\n"
      ],
      "text/plain": [
       "\n"
      ]
     },
     "metadata": {},
     "output_type": "display_data"
    },
    {
     "data": {
      "application/vnd.jupyter.widget-view+json": {
       "model_id": "f2386c1d539540b5a601853376d22323",
       "version_major": 2,
       "version_minor": 0
      },
      "text/plain": [
       "Output()"
      ]
     },
     "metadata": {},
     "output_type": "display_data"
    },
    {
     "data": {
      "text/html": [
       "<pre style=\"white-space:pre;overflow-x:auto;line-height:normal;font-family:Menlo,'DejaVu Sans Mono',consolas,'Courier New',monospace\"><span style=\"color: #7fbfbf; text-decoration-color: #7fbfbf\">                    </span><span style=\"color: #008000; text-decoration-color: #008000\">DEBUG   </span> Deprotonating protein. This removes H atoms from the pdb_df dataframe    <span style=\"color: #7f7f7f; text-decoration-color: #7f7f7f\">graphs.py:188</span>\n",
       "</pre>\n"
      ],
      "text/plain": [
       "\u001b[2;36m                   \u001b[0m\u001b[2;36m \u001b[0m\u001b[32mDEBUG   \u001b[0m Deprotonating protein. This removes H atoms from the pdb_df dataframe    \u001b[2mgraphs.py\u001b[0m\u001b[2m:\u001b[0m\u001b[2m188\u001b[0m\n"
      ]
     },
     "metadata": {},
     "output_type": "display_data"
    },
    {
     "data": {
      "text/html": [
       "<pre style=\"white-space:pre;overflow-x:auto;line-height:normal;font-family:Menlo,'DejaVu Sans Mono',consolas,'Courier New',monospace\"><span style=\"color: #7fbfbf; text-decoration-color: #7fbfbf\">                    </span><span style=\"color: #008000; text-decoration-color: #008000\">DEBUG   </span> Detected <span style=\"color: #008080; text-decoration-color: #008080; font-weight: bold\">445</span> total nodes                                                 <span style=\"color: #7f7f7f; text-decoration-color: #7f7f7f\">graphs.py:435</span>\n",
       "</pre>\n"
      ],
      "text/plain": [
       "\u001b[2;36m                   \u001b[0m\u001b[2;36m \u001b[0m\u001b[32mDEBUG   \u001b[0m Detected \u001b[1;36m445\u001b[0m total nodes                                                 \u001b[2mgraphs.py\u001b[0m\u001b[2m:\u001b[0m\u001b[2m435\u001b[0m\n"
      ]
     },
     "metadata": {},
     "output_type": "display_data"
    },
    {
     "data": {
      "text/html": [
       "<pre style=\"white-space:pre;overflow-x:auto;line-height:normal;font-family:Menlo,'DejaVu Sans Mono',consolas,'Courier New',monospace\">c:\\Users\\HUAWEI\\Desktop\\materiale \n",
       "magistrale\\CHL\\CHL-Project\\.venv\\lib\\site-packages\\graphein\\protein\\edges\\distance.py:1213: FutureWarning: The \n",
       "default value of numeric_only in DataFrameGroupBy.mean is deprecated. In a future version, numeric_only will \n",
       "default to False. Either specify numeric_only or select only columns which should be valid for the function.\n",
       "  .mean()[[\"x_coord\", \"y_coord\", \"z_coord\"]]\n",
       "</pre>\n"
      ],
      "text/plain": [
       "c:\\Users\\HUAWEI\\Desktop\\materiale \n",
       "magistrale\\CHL\\CHL-Project\\.venv\\lib\\site-packages\\graphein\\protein\\edges\\distance.py:1213: FutureWarning: The \n",
       "default value of numeric_only in DataFrameGroupBy.mean is deprecated. In a future version, numeric_only will \n",
       "default to False. Either specify numeric_only or select only columns which should be valid for the function.\n",
       "  .mean()[[\"x_coord\", \"y_coord\", \"z_coord\"]]\n"
      ]
     },
     "metadata": {},
     "output_type": "display_data"
    },
    {
     "data": {
      "text/html": [
       "<pre style=\"white-space:pre;overflow-x:auto;line-height:normal;font-family:Menlo,'DejaVu Sans Mono',consolas,'Courier New',monospace\">c:\\Users\\HUAWEI\\Desktop\\materiale \n",
       "magistrale\\CHL\\CHL-Project\\.venv\\lib\\site-packages\\graphein\\protein\\edges\\distance.py:1213: FutureWarning: The \n",
       "default value of numeric_only in DataFrameGroupBy.mean is deprecated. In a future version, numeric_only will \n",
       "default to False. Either specify numeric_only or select only columns which should be valid for the function.\n",
       "  .mean()[[\"x_coord\", \"y_coord\", \"z_coord\"]]\n",
       "</pre>\n"
      ],
      "text/plain": [
       "c:\\Users\\HUAWEI\\Desktop\\materiale \n",
       "magistrale\\CHL\\CHL-Project\\.venv\\lib\\site-packages\\graphein\\protein\\edges\\distance.py:1213: FutureWarning: The \n",
       "default value of numeric_only in DataFrameGroupBy.mean is deprecated. In a future version, numeric_only will \n",
       "default to False. Either specify numeric_only or select only columns which should be valid for the function.\n",
       "  .mean()[[\"x_coord\", \"y_coord\", \"z_coord\"]]\n"
      ]
     },
     "metadata": {},
     "output_type": "display_data"
    },
    {
     "data": {
      "text/html": [
       "<pre style=\"white-space:pre;overflow-x:auto;line-height:normal;font-family:Menlo,'DejaVu Sans Mono',consolas,'Courier New',monospace\">c:\\Users\\HUAWEI\\Desktop\\materiale \n",
       "magistrale\\CHL\\CHL-Project\\.venv\\lib\\site-packages\\graphein\\protein\\edges\\distance.py:1213: FutureWarning: The \n",
       "default value of numeric_only in DataFrameGroupBy.mean is deprecated. In a future version, numeric_only will \n",
       "default to False. Either specify numeric_only or select only columns which should be valid for the function.\n",
       "  .mean()[[\"x_coord\", \"y_coord\", \"z_coord\"]]\n",
       "</pre>\n"
      ],
      "text/plain": [
       "c:\\Users\\HUAWEI\\Desktop\\materiale \n",
       "magistrale\\CHL\\CHL-Project\\.venv\\lib\\site-packages\\graphein\\protein\\edges\\distance.py:1213: FutureWarning: The \n",
       "default value of numeric_only in DataFrameGroupBy.mean is deprecated. In a future version, numeric_only will \n",
       "default to False. Either specify numeric_only or select only columns which should be valid for the function.\n",
       "  .mean()[[\"x_coord\", \"y_coord\", \"z_coord\"]]\n"
      ]
     },
     "metadata": {},
     "output_type": "display_data"
    },
    {
     "data": {
      "text/html": [
       "<pre style=\"white-space:pre;overflow-x:auto;line-height:normal;font-family:Menlo,'DejaVu Sans Mono',consolas,'Courier New',monospace\"><span style=\"color: #7fbfbf; text-decoration-color: #7fbfbf\">                    </span><span style=\"color: #000080; text-decoration-color: #000080\">INFO    </span> Found: <span style=\"color: #008080; text-decoration-color: #008080; font-weight: bold\">92</span> aromatic-aromatic interactions                               <span style=\"color: #7f7f7f; text-decoration-color: #7f7f7f\">distance.py:467</span>\n",
       "</pre>\n"
      ],
      "text/plain": [
       "\u001b[2;36m                   \u001b[0m\u001b[2;36m \u001b[0m\u001b[34mINFO    \u001b[0m Found: \u001b[1;36m92\u001b[0m aromatic-aromatic interactions                               \u001b[2mdistance.py\u001b[0m\u001b[2m:\u001b[0m\u001b[2m467\u001b[0m\n"
      ]
     },
     "metadata": {},
     "output_type": "display_data"
    },
    {
     "data": {
      "text/html": [
       "<pre style=\"white-space:pre;overflow-x:auto;line-height:normal;font-family:Menlo,'DejaVu Sans Mono',consolas,'Courier New',monospace\"><span style=\"color: #7fbfbf; text-decoration-color: #7fbfbf\">                    </span><span style=\"color: #000080; text-decoration-color: #000080\">INFO    </span> Found <span style=\"color: #008080; text-decoration-color: #008080; font-weight: bold\">971</span> hydrophobic interactions.                                   <span style=\"color: #7f7f7f; text-decoration-color: #7f7f7f\">distance.py:1344</span>\n",
       "</pre>\n"
      ],
      "text/plain": [
       "\u001b[2;36m                   \u001b[0m\u001b[2;36m \u001b[0m\u001b[34mINFO    \u001b[0m Found \u001b[1;36m971\u001b[0m hydrophobic interactions.                                   \u001b[2mdistance.py\u001b[0m\u001b[2m:\u001b[0m\u001b[2m1344\u001b[0m\n"
      ]
     },
     "metadata": {},
     "output_type": "display_data"
    },
    {
     "data": {
      "text/html": [
       "<pre style=\"white-space:pre;overflow-x:auto;line-height:normal;font-family:Menlo,'DejaVu Sans Mono',consolas,'Courier New',monospace\"><span style=\"color: #7fbfbf; text-decoration-color: #7fbfbf\">[05/03/24 18:03:38] </span><span style=\"color: #000080; text-decoration-color: #000080\">INFO    </span> Found <span style=\"color: #008080; text-decoration-color: #008080; font-weight: bold\">12</span> disulfide interactions.                                      <span style=\"color: #7f7f7f; text-decoration-color: #7f7f7f\">distance.py:1344</span>\n",
       "</pre>\n"
      ],
      "text/plain": [
       "\u001b[2;36m[05/03/24 18:03:38]\u001b[0m\u001b[2;36m \u001b[0m\u001b[34mINFO    \u001b[0m Found \u001b[1;36m12\u001b[0m disulfide interactions.                                      \u001b[2mdistance.py\u001b[0m\u001b[2m:\u001b[0m\u001b[2m1344\u001b[0m\n"
      ]
     },
     "metadata": {},
     "output_type": "display_data"
    },
    {
     "data": {
      "text/html": [
       "<pre style=\"white-space:pre;overflow-x:auto;line-height:normal;font-family:Menlo,'DejaVu Sans Mono',consolas,'Courier New',monospace\"><span style=\"color: #7fbfbf; text-decoration-color: #7fbfbf\">                    </span><span style=\"color: #000080; text-decoration-color: #000080\">INFO    </span> Found <span style=\"color: #008080; text-decoration-color: #008080; font-weight: bold\">190</span> hbond interactions.                                         <span style=\"color: #7f7f7f; text-decoration-color: #7f7f7f\">distance.py:1344</span>\n",
       "</pre>\n"
      ],
      "text/plain": [
       "\u001b[2;36m                   \u001b[0m\u001b[2;36m \u001b[0m\u001b[34mINFO    \u001b[0m Found \u001b[1;36m190\u001b[0m hbond interactions.                                         \u001b[2mdistance.py\u001b[0m\u001b[2m:\u001b[0m\u001b[2m1344\u001b[0m\n"
      ]
     },
     "metadata": {},
     "output_type": "display_data"
    },
    {
     "data": {
      "text/html": [
       "<pre style=\"white-space:pre;overflow-x:auto;line-height:normal;font-family:Menlo,'DejaVu Sans Mono',consolas,'Courier New',monospace\"><span style=\"color: #7fbfbf; text-decoration-color: #7fbfbf\">                    </span><span style=\"color: #000080; text-decoration-color: #000080\">INFO    </span> Found <span style=\"color: #008080; text-decoration-color: #008080; font-weight: bold\">22</span> hbond interactions.                                          <span style=\"color: #7f7f7f; text-decoration-color: #7f7f7f\">distance.py:1344</span>\n",
       "</pre>\n"
      ],
      "text/plain": [
       "\u001b[2;36m                   \u001b[0m\u001b[2;36m \u001b[0m\u001b[34mINFO    \u001b[0m Found \u001b[1;36m22\u001b[0m hbond interactions.                                          \u001b[2mdistance.py\u001b[0m\u001b[2m:\u001b[0m\u001b[2m1344\u001b[0m\n"
      ]
     },
     "metadata": {},
     "output_type": "display_data"
    },
    {
     "data": {
      "text/html": [
       "<pre style=\"white-space:pre;overflow-x:auto;line-height:normal;font-family:Menlo,'DejaVu Sans Mono',consolas,'Courier New',monospace\"><span style=\"color: #7fbfbf; text-decoration-color: #7fbfbf\">                    </span><span style=\"color: #000080; text-decoration-color: #000080\">INFO    </span> Found <span style=\"color: #008080; text-decoration-color: #008080; font-weight: bold\">3498</span> ionic interactions.                                        <span style=\"color: #7f7f7f; text-decoration-color: #7f7f7f\">distance.py:1344</span>\n",
       "</pre>\n"
      ],
      "text/plain": [
       "\u001b[2;36m                   \u001b[0m\u001b[2;36m \u001b[0m\u001b[34mINFO    \u001b[0m Found \u001b[1;36m3498\u001b[0m ionic interactions.                                        \u001b[2mdistance.py\u001b[0m\u001b[2m:\u001b[0m\u001b[2m1344\u001b[0m\n"
      ]
     },
     "metadata": {},
     "output_type": "display_data"
    },
    {
     "data": {
      "text/html": [
       "<pre style=\"white-space:pre;overflow-x:auto;line-height:normal;font-family:Menlo,'DejaVu Sans Mono',consolas,'Courier New',monospace\"></pre>\n"
      ],
      "text/plain": []
     },
     "metadata": {},
     "output_type": "display_data"
    },
    {
     "data": {
      "text/html": [
       "<pre style=\"white-space:pre;overflow-x:auto;line-height:normal;font-family:Menlo,'DejaVu Sans Mono',consolas,'Courier New',monospace\">\n",
       "</pre>\n"
      ],
      "text/plain": [
       "\n"
      ]
     },
     "metadata": {},
     "output_type": "display_data"
    },
    {
     "data": {
      "application/vnd.jupyter.widget-view+json": {
       "model_id": "a34ba7df7cf3451f8a2c0c576688d4f8",
       "version_major": 2,
       "version_minor": 0
      },
      "text/plain": [
       "Output()"
      ]
     },
     "metadata": {},
     "output_type": "display_data"
    },
    {
     "data": {
      "text/html": [
       "<pre style=\"white-space:pre;overflow-x:auto;line-height:normal;font-family:Menlo,'DejaVu Sans Mono',consolas,'Courier New',monospace\"><span style=\"color: #7fbfbf; text-decoration-color: #7fbfbf\">                    </span><span style=\"color: #008000; text-decoration-color: #008000\">DEBUG   </span> Deprotonating protein. This removes H atoms from the pdb_df dataframe    <span style=\"color: #7f7f7f; text-decoration-color: #7f7f7f\">graphs.py:188</span>\n",
       "</pre>\n"
      ],
      "text/plain": [
       "\u001b[2;36m                   \u001b[0m\u001b[2;36m \u001b[0m\u001b[32mDEBUG   \u001b[0m Deprotonating protein. This removes H atoms from the pdb_df dataframe    \u001b[2mgraphs.py\u001b[0m\u001b[2m:\u001b[0m\u001b[2m188\u001b[0m\n"
      ]
     },
     "metadata": {},
     "output_type": "display_data"
    },
    {
     "data": {
      "text/html": [
       "<pre style=\"white-space:pre;overflow-x:auto;line-height:normal;font-family:Menlo,'DejaVu Sans Mono',consolas,'Courier New',monospace\"><span style=\"color: #7fbfbf; text-decoration-color: #7fbfbf\">                    </span><span style=\"color: #008000; text-decoration-color: #008000\">DEBUG   </span> Detected <span style=\"color: #008080; text-decoration-color: #008080; font-weight: bold\">445</span> total nodes                                                 <span style=\"color: #7f7f7f; text-decoration-color: #7f7f7f\">graphs.py:435</span>\n",
       "</pre>\n"
      ],
      "text/plain": [
       "\u001b[2;36m                   \u001b[0m\u001b[2;36m \u001b[0m\u001b[32mDEBUG   \u001b[0m Detected \u001b[1;36m445\u001b[0m total nodes                                                 \u001b[2mgraphs.py\u001b[0m\u001b[2m:\u001b[0m\u001b[2m435\u001b[0m\n"
      ]
     },
     "metadata": {},
     "output_type": "display_data"
    },
    {
     "data": {
      "text/html": [
       "<pre style=\"white-space:pre;overflow-x:auto;line-height:normal;font-family:Menlo,'DejaVu Sans Mono',consolas,'Courier New',monospace\">c:\\Users\\HUAWEI\\Desktop\\materiale \n",
       "magistrale\\CHL\\CHL-Project\\.venv\\lib\\site-packages\\graphein\\protein\\edges\\distance.py:1213: FutureWarning: The \n",
       "default value of numeric_only in DataFrameGroupBy.mean is deprecated. In a future version, numeric_only will \n",
       "default to False. Either specify numeric_only or select only columns which should be valid for the function.\n",
       "  .mean()[[\"x_coord\", \"y_coord\", \"z_coord\"]]\n",
       "</pre>\n"
      ],
      "text/plain": [
       "c:\\Users\\HUAWEI\\Desktop\\materiale \n",
       "magistrale\\CHL\\CHL-Project\\.venv\\lib\\site-packages\\graphein\\protein\\edges\\distance.py:1213: FutureWarning: The \n",
       "default value of numeric_only in DataFrameGroupBy.mean is deprecated. In a future version, numeric_only will \n",
       "default to False. Either specify numeric_only or select only columns which should be valid for the function.\n",
       "  .mean()[[\"x_coord\", \"y_coord\", \"z_coord\"]]\n"
      ]
     },
     "metadata": {},
     "output_type": "display_data"
    },
    {
     "data": {
      "text/html": [
       "<pre style=\"white-space:pre;overflow-x:auto;line-height:normal;font-family:Menlo,'DejaVu Sans Mono',consolas,'Courier New',monospace\">c:\\Users\\HUAWEI\\Desktop\\materiale \n",
       "magistrale\\CHL\\CHL-Project\\.venv\\lib\\site-packages\\graphein\\protein\\edges\\distance.py:1213: FutureWarning: The \n",
       "default value of numeric_only in DataFrameGroupBy.mean is deprecated. In a future version, numeric_only will \n",
       "default to False. Either specify numeric_only or select only columns which should be valid for the function.\n",
       "  .mean()[[\"x_coord\", \"y_coord\", \"z_coord\"]]\n",
       "</pre>\n"
      ],
      "text/plain": [
       "c:\\Users\\HUAWEI\\Desktop\\materiale \n",
       "magistrale\\CHL\\CHL-Project\\.venv\\lib\\site-packages\\graphein\\protein\\edges\\distance.py:1213: FutureWarning: The \n",
       "default value of numeric_only in DataFrameGroupBy.mean is deprecated. In a future version, numeric_only will \n",
       "default to False. Either specify numeric_only or select only columns which should be valid for the function.\n",
       "  .mean()[[\"x_coord\", \"y_coord\", \"z_coord\"]]\n"
      ]
     },
     "metadata": {},
     "output_type": "display_data"
    },
    {
     "data": {
      "text/html": [
       "<pre style=\"white-space:pre;overflow-x:auto;line-height:normal;font-family:Menlo,'DejaVu Sans Mono',consolas,'Courier New',monospace\">c:\\Users\\HUAWEI\\Desktop\\materiale \n",
       "magistrale\\CHL\\CHL-Project\\.venv\\lib\\site-packages\\graphein\\protein\\edges\\distance.py:1213: FutureWarning: The \n",
       "default value of numeric_only in DataFrameGroupBy.mean is deprecated. In a future version, numeric_only will \n",
       "default to False. Either specify numeric_only or select only columns which should be valid for the function.\n",
       "  .mean()[[\"x_coord\", \"y_coord\", \"z_coord\"]]\n",
       "</pre>\n"
      ],
      "text/plain": [
       "c:\\Users\\HUAWEI\\Desktop\\materiale \n",
       "magistrale\\CHL\\CHL-Project\\.venv\\lib\\site-packages\\graphein\\protein\\edges\\distance.py:1213: FutureWarning: The \n",
       "default value of numeric_only in DataFrameGroupBy.mean is deprecated. In a future version, numeric_only will \n",
       "default to False. Either specify numeric_only or select only columns which should be valid for the function.\n",
       "  .mean()[[\"x_coord\", \"y_coord\", \"z_coord\"]]\n"
      ]
     },
     "metadata": {},
     "output_type": "display_data"
    },
    {
     "data": {
      "text/html": [
       "<pre style=\"white-space:pre;overflow-x:auto;line-height:normal;font-family:Menlo,'DejaVu Sans Mono',consolas,'Courier New',monospace\"><span style=\"color: #7fbfbf; text-decoration-color: #7fbfbf\">                    </span><span style=\"color: #000080; text-decoration-color: #000080\">INFO    </span> Found: <span style=\"color: #008080; text-decoration-color: #008080; font-weight: bold\">92</span> aromatic-aromatic interactions                               <span style=\"color: #7f7f7f; text-decoration-color: #7f7f7f\">distance.py:467</span>\n",
       "</pre>\n"
      ],
      "text/plain": [
       "\u001b[2;36m                   \u001b[0m\u001b[2;36m \u001b[0m\u001b[34mINFO    \u001b[0m Found: \u001b[1;36m92\u001b[0m aromatic-aromatic interactions                               \u001b[2mdistance.py\u001b[0m\u001b[2m:\u001b[0m\u001b[2m467\u001b[0m\n"
      ]
     },
     "metadata": {},
     "output_type": "display_data"
    },
    {
     "data": {
      "text/html": [
       "<pre style=\"white-space:pre;overflow-x:auto;line-height:normal;font-family:Menlo,'DejaVu Sans Mono',consolas,'Courier New',monospace\"><span style=\"color: #7fbfbf; text-decoration-color: #7fbfbf\">                    </span><span style=\"color: #000080; text-decoration-color: #000080\">INFO    </span> Found <span style=\"color: #008080; text-decoration-color: #008080; font-weight: bold\">968</span> hydrophobic interactions.                                   <span style=\"color: #7f7f7f; text-decoration-color: #7f7f7f\">distance.py:1344</span>\n",
       "</pre>\n"
      ],
      "text/plain": [
       "\u001b[2;36m                   \u001b[0m\u001b[2;36m \u001b[0m\u001b[34mINFO    \u001b[0m Found \u001b[1;36m968\u001b[0m hydrophobic interactions.                                   \u001b[2mdistance.py\u001b[0m\u001b[2m:\u001b[0m\u001b[2m1344\u001b[0m\n"
      ]
     },
     "metadata": {},
     "output_type": "display_data"
    },
    {
     "data": {
      "text/html": [
       "<pre style=\"white-space:pre;overflow-x:auto;line-height:normal;font-family:Menlo,'DejaVu Sans Mono',consolas,'Courier New',monospace\"><span style=\"color: #7fbfbf; text-decoration-color: #7fbfbf\">[05/03/24 18:03:39] </span><span style=\"color: #000080; text-decoration-color: #000080\">INFO    </span> Found <span style=\"color: #008080; text-decoration-color: #008080; font-weight: bold\">12</span> disulfide interactions.                                      <span style=\"color: #7f7f7f; text-decoration-color: #7f7f7f\">distance.py:1344</span>\n",
       "</pre>\n"
      ],
      "text/plain": [
       "\u001b[2;36m[05/03/24 18:03:39]\u001b[0m\u001b[2;36m \u001b[0m\u001b[34mINFO    \u001b[0m Found \u001b[1;36m12\u001b[0m disulfide interactions.                                      \u001b[2mdistance.py\u001b[0m\u001b[2m:\u001b[0m\u001b[2m1344\u001b[0m\n"
      ]
     },
     "metadata": {},
     "output_type": "display_data"
    },
    {
     "data": {
      "text/html": [
       "<pre style=\"white-space:pre;overflow-x:auto;line-height:normal;font-family:Menlo,'DejaVu Sans Mono',consolas,'Courier New',monospace\"><span style=\"color: #7fbfbf; text-decoration-color: #7fbfbf\">                    </span><span style=\"color: #000080; text-decoration-color: #000080\">INFO    </span> Found <span style=\"color: #008080; text-decoration-color: #008080; font-weight: bold\">194</span> hbond interactions.                                         <span style=\"color: #7f7f7f; text-decoration-color: #7f7f7f\">distance.py:1344</span>\n",
       "</pre>\n"
      ],
      "text/plain": [
       "\u001b[2;36m                   \u001b[0m\u001b[2;36m \u001b[0m\u001b[34mINFO    \u001b[0m Found \u001b[1;36m194\u001b[0m hbond interactions.                                         \u001b[2mdistance.py\u001b[0m\u001b[2m:\u001b[0m\u001b[2m1344\u001b[0m\n"
      ]
     },
     "metadata": {},
     "output_type": "display_data"
    },
    {
     "data": {
      "text/html": [
       "<pre style=\"white-space:pre;overflow-x:auto;line-height:normal;font-family:Menlo,'DejaVu Sans Mono',consolas,'Courier New',monospace\"><span style=\"color: #7fbfbf; text-decoration-color: #7fbfbf\">                    </span><span style=\"color: #000080; text-decoration-color: #000080\">INFO    </span> Found <span style=\"color: #008080; text-decoration-color: #008080; font-weight: bold\">22</span> hbond interactions.                                          <span style=\"color: #7f7f7f; text-decoration-color: #7f7f7f\">distance.py:1344</span>\n",
       "</pre>\n"
      ],
      "text/plain": [
       "\u001b[2;36m                   \u001b[0m\u001b[2;36m \u001b[0m\u001b[34mINFO    \u001b[0m Found \u001b[1;36m22\u001b[0m hbond interactions.                                          \u001b[2mdistance.py\u001b[0m\u001b[2m:\u001b[0m\u001b[2m1344\u001b[0m\n"
      ]
     },
     "metadata": {},
     "output_type": "display_data"
    },
    {
     "data": {
      "text/html": [
       "<pre style=\"white-space:pre;overflow-x:auto;line-height:normal;font-family:Menlo,'DejaVu Sans Mono',consolas,'Courier New',monospace\"><span style=\"color: #7fbfbf; text-decoration-color: #7fbfbf\">                    </span><span style=\"color: #000080; text-decoration-color: #000080\">INFO    </span> Found <span style=\"color: #008080; text-decoration-color: #008080; font-weight: bold\">3483</span> ionic interactions.                                        <span style=\"color: #7f7f7f; text-decoration-color: #7f7f7f\">distance.py:1344</span>\n",
       "</pre>\n"
      ],
      "text/plain": [
       "\u001b[2;36m                   \u001b[0m\u001b[2;36m \u001b[0m\u001b[34mINFO    \u001b[0m Found \u001b[1;36m3483\u001b[0m ionic interactions.                                        \u001b[2mdistance.py\u001b[0m\u001b[2m:\u001b[0m\u001b[2m1344\u001b[0m\n"
      ]
     },
     "metadata": {},
     "output_type": "display_data"
    },
    {
     "data": {
      "text/html": [
       "<pre style=\"white-space:pre;overflow-x:auto;line-height:normal;font-family:Menlo,'DejaVu Sans Mono',consolas,'Courier New',monospace\"></pre>\n"
      ],
      "text/plain": []
     },
     "metadata": {},
     "output_type": "display_data"
    },
    {
     "data": {
      "text/html": [
       "<pre style=\"white-space:pre;overflow-x:auto;line-height:normal;font-family:Menlo,'DejaVu Sans Mono',consolas,'Courier New',monospace\">\n",
       "</pre>\n"
      ],
      "text/plain": [
       "\n"
      ]
     },
     "metadata": {},
     "output_type": "display_data"
    },
    {
     "data": {
      "application/vnd.jupyter.widget-view+json": {
       "model_id": "9afe6a08e18c4b3b9e82d24d333c37c5",
       "version_major": 2,
       "version_minor": 0
      },
      "text/plain": [
       "Output()"
      ]
     },
     "metadata": {},
     "output_type": "display_data"
    },
    {
     "data": {
      "text/html": [
       "<pre style=\"white-space:pre;overflow-x:auto;line-height:normal;font-family:Menlo,'DejaVu Sans Mono',consolas,'Courier New',monospace\"><span style=\"color: #7fbfbf; text-decoration-color: #7fbfbf\">                    </span><span style=\"color: #008000; text-decoration-color: #008000\">DEBUG   </span> Deprotonating protein. This removes H atoms from the pdb_df dataframe    <span style=\"color: #7f7f7f; text-decoration-color: #7f7f7f\">graphs.py:188</span>\n",
       "</pre>\n"
      ],
      "text/plain": [
       "\u001b[2;36m                   \u001b[0m\u001b[2;36m \u001b[0m\u001b[32mDEBUG   \u001b[0m Deprotonating protein. This removes H atoms from the pdb_df dataframe    \u001b[2mgraphs.py\u001b[0m\u001b[2m:\u001b[0m\u001b[2m188\u001b[0m\n"
      ]
     },
     "metadata": {},
     "output_type": "display_data"
    },
    {
     "data": {
      "text/html": [
       "<pre style=\"white-space:pre;overflow-x:auto;line-height:normal;font-family:Menlo,'DejaVu Sans Mono',consolas,'Courier New',monospace\"><span style=\"color: #7fbfbf; text-decoration-color: #7fbfbf\">                    </span><span style=\"color: #008000; text-decoration-color: #008000\">DEBUG   </span> Detected <span style=\"color: #008080; text-decoration-color: #008080; font-weight: bold\">445</span> total nodes                                                 <span style=\"color: #7f7f7f; text-decoration-color: #7f7f7f\">graphs.py:435</span>\n",
       "</pre>\n"
      ],
      "text/plain": [
       "\u001b[2;36m                   \u001b[0m\u001b[2;36m \u001b[0m\u001b[32mDEBUG   \u001b[0m Detected \u001b[1;36m445\u001b[0m total nodes                                                 \u001b[2mgraphs.py\u001b[0m\u001b[2m:\u001b[0m\u001b[2m435\u001b[0m\n"
      ]
     },
     "metadata": {},
     "output_type": "display_data"
    },
    {
     "data": {
      "text/html": [
       "<pre style=\"white-space:pre;overflow-x:auto;line-height:normal;font-family:Menlo,'DejaVu Sans Mono',consolas,'Courier New',monospace\">c:\\Users\\HUAWEI\\Desktop\\materiale \n",
       "magistrale\\CHL\\CHL-Project\\.venv\\lib\\site-packages\\graphein\\protein\\edges\\distance.py:1213: FutureWarning: The \n",
       "default value of numeric_only in DataFrameGroupBy.mean is deprecated. In a future version, numeric_only will \n",
       "default to False. Either specify numeric_only or select only columns which should be valid for the function.\n",
       "  .mean()[[\"x_coord\", \"y_coord\", \"z_coord\"]]\n",
       "</pre>\n"
      ],
      "text/plain": [
       "c:\\Users\\HUAWEI\\Desktop\\materiale \n",
       "magistrale\\CHL\\CHL-Project\\.venv\\lib\\site-packages\\graphein\\protein\\edges\\distance.py:1213: FutureWarning: The \n",
       "default value of numeric_only in DataFrameGroupBy.mean is deprecated. In a future version, numeric_only will \n",
       "default to False. Either specify numeric_only or select only columns which should be valid for the function.\n",
       "  .mean()[[\"x_coord\", \"y_coord\", \"z_coord\"]]\n"
      ]
     },
     "metadata": {},
     "output_type": "display_data"
    },
    {
     "data": {
      "text/html": [
       "<pre style=\"white-space:pre;overflow-x:auto;line-height:normal;font-family:Menlo,'DejaVu Sans Mono',consolas,'Courier New',monospace\">c:\\Users\\HUAWEI\\Desktop\\materiale \n",
       "magistrale\\CHL\\CHL-Project\\.venv\\lib\\site-packages\\graphein\\protein\\edges\\distance.py:1213: FutureWarning: The \n",
       "default value of numeric_only in DataFrameGroupBy.mean is deprecated. In a future version, numeric_only will \n",
       "default to False. Either specify numeric_only or select only columns which should be valid for the function.\n",
       "  .mean()[[\"x_coord\", \"y_coord\", \"z_coord\"]]\n",
       "</pre>\n"
      ],
      "text/plain": [
       "c:\\Users\\HUAWEI\\Desktop\\materiale \n",
       "magistrale\\CHL\\CHL-Project\\.venv\\lib\\site-packages\\graphein\\protein\\edges\\distance.py:1213: FutureWarning: The \n",
       "default value of numeric_only in DataFrameGroupBy.mean is deprecated. In a future version, numeric_only will \n",
       "default to False. Either specify numeric_only or select only columns which should be valid for the function.\n",
       "  .mean()[[\"x_coord\", \"y_coord\", \"z_coord\"]]\n"
      ]
     },
     "metadata": {},
     "output_type": "display_data"
    },
    {
     "data": {
      "text/html": [
       "<pre style=\"white-space:pre;overflow-x:auto;line-height:normal;font-family:Menlo,'DejaVu Sans Mono',consolas,'Courier New',monospace\">c:\\Users\\HUAWEI\\Desktop\\materiale \n",
       "magistrale\\CHL\\CHL-Project\\.venv\\lib\\site-packages\\graphein\\protein\\edges\\distance.py:1213: FutureWarning: The \n",
       "default value of numeric_only in DataFrameGroupBy.mean is deprecated. In a future version, numeric_only will \n",
       "default to False. Either specify numeric_only or select only columns which should be valid for the function.\n",
       "  .mean()[[\"x_coord\", \"y_coord\", \"z_coord\"]]\n",
       "</pre>\n"
      ],
      "text/plain": [
       "c:\\Users\\HUAWEI\\Desktop\\materiale \n",
       "magistrale\\CHL\\CHL-Project\\.venv\\lib\\site-packages\\graphein\\protein\\edges\\distance.py:1213: FutureWarning: The \n",
       "default value of numeric_only in DataFrameGroupBy.mean is deprecated. In a future version, numeric_only will \n",
       "default to False. Either specify numeric_only or select only columns which should be valid for the function.\n",
       "  .mean()[[\"x_coord\", \"y_coord\", \"z_coord\"]]\n"
      ]
     },
     "metadata": {},
     "output_type": "display_data"
    },
    {
     "data": {
      "text/html": [
       "<pre style=\"white-space:pre;overflow-x:auto;line-height:normal;font-family:Menlo,'DejaVu Sans Mono',consolas,'Courier New',monospace\">c:\\Users\\HUAWEI\\Desktop\\materiale \n",
       "magistrale\\CHL\\CHL-Project\\.venv\\lib\\site-packages\\graphein\\protein\\edges\\distance.py:1213: FutureWarning: The \n",
       "default value of numeric_only in DataFrameGroupBy.mean is deprecated. In a future version, numeric_only will \n",
       "default to False. Either specify numeric_only or select only columns which should be valid for the function.\n",
       "  .mean()[[\"x_coord\", \"y_coord\", \"z_coord\"]]\n",
       "</pre>\n"
      ],
      "text/plain": [
       "c:\\Users\\HUAWEI\\Desktop\\materiale \n",
       "magistrale\\CHL\\CHL-Project\\.venv\\lib\\site-packages\\graphein\\protein\\edges\\distance.py:1213: FutureWarning: The \n",
       "default value of numeric_only in DataFrameGroupBy.mean is deprecated. In a future version, numeric_only will \n",
       "default to False. Either specify numeric_only or select only columns which should be valid for the function.\n",
       "  .mean()[[\"x_coord\", \"y_coord\", \"z_coord\"]]\n"
      ]
     },
     "metadata": {},
     "output_type": "display_data"
    },
    {
     "data": {
      "text/html": [
       "<pre style=\"white-space:pre;overflow-x:auto;line-height:normal;font-family:Menlo,'DejaVu Sans Mono',consolas,'Courier New',monospace\"><span style=\"color: #7fbfbf; text-decoration-color: #7fbfbf\">                    </span><span style=\"color: #000080; text-decoration-color: #000080\">INFO    </span> Found <span style=\"color: #008080; text-decoration-color: #008080; font-weight: bold\">958</span> hydrophobic interactions.                                   <span style=\"color: #7f7f7f; text-decoration-color: #7f7f7f\">distance.py:1344</span>\n",
       "</pre>\n"
      ],
      "text/plain": [
       "\u001b[2;36m                   \u001b[0m\u001b[2;36m \u001b[0m\u001b[34mINFO    \u001b[0m Found \u001b[1;36m958\u001b[0m hydrophobic interactions.                                   \u001b[2mdistance.py\u001b[0m\u001b[2m:\u001b[0m\u001b[2m1344\u001b[0m\n"
      ]
     },
     "metadata": {},
     "output_type": "display_data"
    },
    {
     "data": {
      "text/html": [
       "<pre style=\"white-space:pre;overflow-x:auto;line-height:normal;font-family:Menlo,'DejaVu Sans Mono',consolas,'Courier New',monospace\"><span style=\"color: #7fbfbf; text-decoration-color: #7fbfbf\">[05/03/24 18:03:40] </span><span style=\"color: #000080; text-decoration-color: #000080\">INFO    </span> Found <span style=\"color: #008080; text-decoration-color: #008080; font-weight: bold\">12</span> disulfide interactions.                                      <span style=\"color: #7f7f7f; text-decoration-color: #7f7f7f\">distance.py:1344</span>\n",
       "</pre>\n"
      ],
      "text/plain": [
       "\u001b[2;36m[05/03/24 18:03:40]\u001b[0m\u001b[2;36m \u001b[0m\u001b[34mINFO    \u001b[0m Found \u001b[1;36m12\u001b[0m disulfide interactions.                                      \u001b[2mdistance.py\u001b[0m\u001b[2m:\u001b[0m\u001b[2m1344\u001b[0m\n"
      ]
     },
     "metadata": {},
     "output_type": "display_data"
    },
    {
     "data": {
      "text/html": [
       "<pre style=\"white-space:pre;overflow-x:auto;line-height:normal;font-family:Menlo,'DejaVu Sans Mono',consolas,'Courier New',monospace\"><span style=\"color: #7fbfbf; text-decoration-color: #7fbfbf\">                    </span><span style=\"color: #000080; text-decoration-color: #000080\">INFO    </span> Found <span style=\"color: #008080; text-decoration-color: #008080; font-weight: bold\">192</span> hbond interactions.                                         <span style=\"color: #7f7f7f; text-decoration-color: #7f7f7f\">distance.py:1344</span>\n",
       "</pre>\n"
      ],
      "text/plain": [
       "\u001b[2;36m                   \u001b[0m\u001b[2;36m \u001b[0m\u001b[34mINFO    \u001b[0m Found \u001b[1;36m192\u001b[0m hbond interactions.                                         \u001b[2mdistance.py\u001b[0m\u001b[2m:\u001b[0m\u001b[2m1344\u001b[0m\n"
      ]
     },
     "metadata": {},
     "output_type": "display_data"
    },
    {
     "data": {
      "text/html": [
       "<pre style=\"white-space:pre;overflow-x:auto;line-height:normal;font-family:Menlo,'DejaVu Sans Mono',consolas,'Courier New',monospace\"><span style=\"color: #7fbfbf; text-decoration-color: #7fbfbf\">                    </span><span style=\"color: #000080; text-decoration-color: #000080\">INFO    </span> Found <span style=\"color: #008080; text-decoration-color: #008080; font-weight: bold\">22</span> hbond interactions.                                          <span style=\"color: #7f7f7f; text-decoration-color: #7f7f7f\">distance.py:1344</span>\n",
       "</pre>\n"
      ],
      "text/plain": [
       "\u001b[2;36m                   \u001b[0m\u001b[2;36m \u001b[0m\u001b[34mINFO    \u001b[0m Found \u001b[1;36m22\u001b[0m hbond interactions.                                          \u001b[2mdistance.py\u001b[0m\u001b[2m:\u001b[0m\u001b[2m1344\u001b[0m\n"
      ]
     },
     "metadata": {},
     "output_type": "display_data"
    },
    {
     "data": {
      "text/html": [
       "<pre style=\"white-space:pre;overflow-x:auto;line-height:normal;font-family:Menlo,'DejaVu Sans Mono',consolas,'Courier New',monospace\"><span style=\"color: #7fbfbf; text-decoration-color: #7fbfbf\">                    </span><span style=\"color: #000080; text-decoration-color: #000080\">INFO    </span> Found <span style=\"color: #008080; text-decoration-color: #008080; font-weight: bold\">3512</span> ionic interactions.                                        <span style=\"color: #7f7f7f; text-decoration-color: #7f7f7f\">distance.py:1344</span>\n",
       "</pre>\n"
      ],
      "text/plain": [
       "\u001b[2;36m                   \u001b[0m\u001b[2;36m \u001b[0m\u001b[34mINFO    \u001b[0m Found \u001b[1;36m3512\u001b[0m ionic interactions.                                        \u001b[2mdistance.py\u001b[0m\u001b[2m:\u001b[0m\u001b[2m1344\u001b[0m\n"
      ]
     },
     "metadata": {},
     "output_type": "display_data"
    },
    {
     "data": {
      "text/html": [
       "<pre style=\"white-space:pre;overflow-x:auto;line-height:normal;font-family:Menlo,'DejaVu Sans Mono',consolas,'Courier New',monospace\"></pre>\n"
      ],
      "text/plain": []
     },
     "metadata": {},
     "output_type": "display_data"
    },
    {
     "data": {
      "text/html": [
       "<pre style=\"white-space:pre;overflow-x:auto;line-height:normal;font-family:Menlo,'DejaVu Sans Mono',consolas,'Courier New',monospace\">\n",
       "</pre>\n"
      ],
      "text/plain": [
       "\n"
      ]
     },
     "metadata": {},
     "output_type": "display_data"
    },
    {
     "data": {
      "application/vnd.jupyter.widget-view+json": {
       "model_id": "8c91490b0e3e43a39d3bf339d60b6f9d",
       "version_major": 2,
       "version_minor": 0
      },
      "text/plain": [
       "Output()"
      ]
     },
     "metadata": {},
     "output_type": "display_data"
    },
    {
     "data": {
      "text/html": [
       "<pre style=\"white-space:pre;overflow-x:auto;line-height:normal;font-family:Menlo,'DejaVu Sans Mono',consolas,'Courier New',monospace\"><span style=\"color: #7fbfbf; text-decoration-color: #7fbfbf\">                    </span><span style=\"color: #008000; text-decoration-color: #008000\">DEBUG   </span> Deprotonating protein. This removes H atoms from the pdb_df dataframe    <span style=\"color: #7f7f7f; text-decoration-color: #7f7f7f\">graphs.py:188</span>\n",
       "</pre>\n"
      ],
      "text/plain": [
       "\u001b[2;36m                   \u001b[0m\u001b[2;36m \u001b[0m\u001b[32mDEBUG   \u001b[0m Deprotonating protein. This removes H atoms from the pdb_df dataframe    \u001b[2mgraphs.py\u001b[0m\u001b[2m:\u001b[0m\u001b[2m188\u001b[0m\n"
      ]
     },
     "metadata": {},
     "output_type": "display_data"
    },
    {
     "data": {
      "text/html": [
       "<pre style=\"white-space:pre;overflow-x:auto;line-height:normal;font-family:Menlo,'DejaVu Sans Mono',consolas,'Courier New',monospace\"><span style=\"color: #7fbfbf; text-decoration-color: #7fbfbf\">                    </span><span style=\"color: #008000; text-decoration-color: #008000\">DEBUG   </span> Detected <span style=\"color: #008080; text-decoration-color: #008080; font-weight: bold\">445</span> total nodes                                                 <span style=\"color: #7f7f7f; text-decoration-color: #7f7f7f\">graphs.py:435</span>\n",
       "</pre>\n"
      ],
      "text/plain": [
       "\u001b[2;36m                   \u001b[0m\u001b[2;36m \u001b[0m\u001b[32mDEBUG   \u001b[0m Detected \u001b[1;36m445\u001b[0m total nodes                                                 \u001b[2mgraphs.py\u001b[0m\u001b[2m:\u001b[0m\u001b[2m435\u001b[0m\n"
      ]
     },
     "metadata": {},
     "output_type": "display_data"
    },
    {
     "data": {
      "text/html": [
       "<pre style=\"white-space:pre;overflow-x:auto;line-height:normal;font-family:Menlo,'DejaVu Sans Mono',consolas,'Courier New',monospace\">c:\\Users\\HUAWEI\\Desktop\\materiale \n",
       "magistrale\\CHL\\CHL-Project\\.venv\\lib\\site-packages\\graphein\\protein\\edges\\distance.py:1213: FutureWarning: The \n",
       "default value of numeric_only in DataFrameGroupBy.mean is deprecated. In a future version, numeric_only will \n",
       "default to False. Either specify numeric_only or select only columns which should be valid for the function.\n",
       "  .mean()[[\"x_coord\", \"y_coord\", \"z_coord\"]]\n",
       "</pre>\n"
      ],
      "text/plain": [
       "c:\\Users\\HUAWEI\\Desktop\\materiale \n",
       "magistrale\\CHL\\CHL-Project\\.venv\\lib\\site-packages\\graphein\\protein\\edges\\distance.py:1213: FutureWarning: The \n",
       "default value of numeric_only in DataFrameGroupBy.mean is deprecated. In a future version, numeric_only will \n",
       "default to False. Either specify numeric_only or select only columns which should be valid for the function.\n",
       "  .mean()[[\"x_coord\", \"y_coord\", \"z_coord\"]]\n"
      ]
     },
     "metadata": {},
     "output_type": "display_data"
    },
    {
     "data": {
      "text/html": [
       "<pre style=\"white-space:pre;overflow-x:auto;line-height:normal;font-family:Menlo,'DejaVu Sans Mono',consolas,'Courier New',monospace\">c:\\Users\\HUAWEI\\Desktop\\materiale \n",
       "magistrale\\CHL\\CHL-Project\\.venv\\lib\\site-packages\\graphein\\protein\\edges\\distance.py:1213: FutureWarning: The \n",
       "default value of numeric_only in DataFrameGroupBy.mean is deprecated. In a future version, numeric_only will \n",
       "default to False. Either specify numeric_only or select only columns which should be valid for the function.\n",
       "  .mean()[[\"x_coord\", \"y_coord\", \"z_coord\"]]\n",
       "</pre>\n"
      ],
      "text/plain": [
       "c:\\Users\\HUAWEI\\Desktop\\materiale \n",
       "magistrale\\CHL\\CHL-Project\\.venv\\lib\\site-packages\\graphein\\protein\\edges\\distance.py:1213: FutureWarning: The \n",
       "default value of numeric_only in DataFrameGroupBy.mean is deprecated. In a future version, numeric_only will \n",
       "default to False. Either specify numeric_only or select only columns which should be valid for the function.\n",
       "  .mean()[[\"x_coord\", \"y_coord\", \"z_coord\"]]\n"
      ]
     },
     "metadata": {},
     "output_type": "display_data"
    },
    {
     "data": {
      "text/html": [
       "<pre style=\"white-space:pre;overflow-x:auto;line-height:normal;font-family:Menlo,'DejaVu Sans Mono',consolas,'Courier New',monospace\">c:\\Users\\HUAWEI\\Desktop\\materiale \n",
       "magistrale\\CHL\\CHL-Project\\.venv\\lib\\site-packages\\graphein\\protein\\edges\\distance.py:1213: FutureWarning: The \n",
       "default value of numeric_only in DataFrameGroupBy.mean is deprecated. In a future version, numeric_only will \n",
       "default to False. Either specify numeric_only or select only columns which should be valid for the function.\n",
       "  .mean()[[\"x_coord\", \"y_coord\", \"z_coord\"]]\n",
       "</pre>\n"
      ],
      "text/plain": [
       "c:\\Users\\HUAWEI\\Desktop\\materiale \n",
       "magistrale\\CHL\\CHL-Project\\.venv\\lib\\site-packages\\graphein\\protein\\edges\\distance.py:1213: FutureWarning: The \n",
       "default value of numeric_only in DataFrameGroupBy.mean is deprecated. In a future version, numeric_only will \n",
       "default to False. Either specify numeric_only or select only columns which should be valid for the function.\n",
       "  .mean()[[\"x_coord\", \"y_coord\", \"z_coord\"]]\n"
      ]
     },
     "metadata": {},
     "output_type": "display_data"
    },
    {
     "data": {
      "text/html": [
       "<pre style=\"white-space:pre;overflow-x:auto;line-height:normal;font-family:Menlo,'DejaVu Sans Mono',consolas,'Courier New',monospace\"><span style=\"color: #7fbfbf; text-decoration-color: #7fbfbf\">                    </span><span style=\"color: #000080; text-decoration-color: #000080\">INFO    </span> Found: <span style=\"color: #008080; text-decoration-color: #008080; font-weight: bold\">92</span> aromatic-aromatic interactions                               <span style=\"color: #7f7f7f; text-decoration-color: #7f7f7f\">distance.py:467</span>\n",
       "</pre>\n"
      ],
      "text/plain": [
       "\u001b[2;36m                   \u001b[0m\u001b[2;36m \u001b[0m\u001b[34mINFO    \u001b[0m Found: \u001b[1;36m92\u001b[0m aromatic-aromatic interactions                               \u001b[2mdistance.py\u001b[0m\u001b[2m:\u001b[0m\u001b[2m467\u001b[0m\n"
      ]
     },
     "metadata": {},
     "output_type": "display_data"
    },
    {
     "data": {
      "text/html": [
       "<pre style=\"white-space:pre;overflow-x:auto;line-height:normal;font-family:Menlo,'DejaVu Sans Mono',consolas,'Courier New',monospace\"><span style=\"color: #7fbfbf; text-decoration-color: #7fbfbf\">[05/03/24 18:03:41] </span><span style=\"color: #000080; text-decoration-color: #000080\">INFO    </span> Found <span style=\"color: #008080; text-decoration-color: #008080; font-weight: bold\">949</span> hydrophobic interactions.                                   <span style=\"color: #7f7f7f; text-decoration-color: #7f7f7f\">distance.py:1344</span>\n",
       "</pre>\n"
      ],
      "text/plain": [
       "\u001b[2;36m[05/03/24 18:03:41]\u001b[0m\u001b[2;36m \u001b[0m\u001b[34mINFO    \u001b[0m Found \u001b[1;36m949\u001b[0m hydrophobic interactions.                                   \u001b[2mdistance.py\u001b[0m\u001b[2m:\u001b[0m\u001b[2m1344\u001b[0m\n"
      ]
     },
     "metadata": {},
     "output_type": "display_data"
    },
    {
     "data": {
      "text/html": [
       "<pre style=\"white-space:pre;overflow-x:auto;line-height:normal;font-family:Menlo,'DejaVu Sans Mono',consolas,'Courier New',monospace\"><span style=\"color: #7fbfbf; text-decoration-color: #7fbfbf\">                    </span><span style=\"color: #000080; text-decoration-color: #000080\">INFO    </span> Found <span style=\"color: #008080; text-decoration-color: #008080; font-weight: bold\">12</span> disulfide interactions.                                      <span style=\"color: #7f7f7f; text-decoration-color: #7f7f7f\">distance.py:1344</span>\n",
       "</pre>\n"
      ],
      "text/plain": [
       "\u001b[2;36m                   \u001b[0m\u001b[2;36m \u001b[0m\u001b[34mINFO    \u001b[0m Found \u001b[1;36m12\u001b[0m disulfide interactions.                                      \u001b[2mdistance.py\u001b[0m\u001b[2m:\u001b[0m\u001b[2m1344\u001b[0m\n"
      ]
     },
     "metadata": {},
     "output_type": "display_data"
    },
    {
     "data": {
      "text/html": [
       "<pre style=\"white-space:pre;overflow-x:auto;line-height:normal;font-family:Menlo,'DejaVu Sans Mono',consolas,'Courier New',monospace\"><span style=\"color: #7fbfbf; text-decoration-color: #7fbfbf\">                    </span><span style=\"color: #000080; text-decoration-color: #000080\">INFO    </span> Found <span style=\"color: #008080; text-decoration-color: #008080; font-weight: bold\">193</span> hbond interactions.                                         <span style=\"color: #7f7f7f; text-decoration-color: #7f7f7f\">distance.py:1344</span>\n",
       "</pre>\n"
      ],
      "text/plain": [
       "\u001b[2;36m                   \u001b[0m\u001b[2;36m \u001b[0m\u001b[34mINFO    \u001b[0m Found \u001b[1;36m193\u001b[0m hbond interactions.                                         \u001b[2mdistance.py\u001b[0m\u001b[2m:\u001b[0m\u001b[2m1344\u001b[0m\n"
      ]
     },
     "metadata": {},
     "output_type": "display_data"
    },
    {
     "data": {
      "text/html": [
       "<pre style=\"white-space:pre;overflow-x:auto;line-height:normal;font-family:Menlo,'DejaVu Sans Mono',consolas,'Courier New',monospace\"><span style=\"color: #7fbfbf; text-decoration-color: #7fbfbf\">                    </span><span style=\"color: #000080; text-decoration-color: #000080\">INFO    </span> Found <span style=\"color: #008080; text-decoration-color: #008080; font-weight: bold\">22</span> hbond interactions.                                          <span style=\"color: #7f7f7f; text-decoration-color: #7f7f7f\">distance.py:1344</span>\n",
       "</pre>\n"
      ],
      "text/plain": [
       "\u001b[2;36m                   \u001b[0m\u001b[2;36m \u001b[0m\u001b[34mINFO    \u001b[0m Found \u001b[1;36m22\u001b[0m hbond interactions.                                          \u001b[2mdistance.py\u001b[0m\u001b[2m:\u001b[0m\u001b[2m1344\u001b[0m\n"
      ]
     },
     "metadata": {},
     "output_type": "display_data"
    },
    {
     "data": {
      "text/html": [
       "<pre style=\"white-space:pre;overflow-x:auto;line-height:normal;font-family:Menlo,'DejaVu Sans Mono',consolas,'Courier New',monospace\"><span style=\"color: #7fbfbf; text-decoration-color: #7fbfbf\">                    </span><span style=\"color: #000080; text-decoration-color: #000080\">INFO    </span> Found <span style=\"color: #008080; text-decoration-color: #008080; font-weight: bold\">3486</span> ionic interactions.                                        <span style=\"color: #7f7f7f; text-decoration-color: #7f7f7f\">distance.py:1344</span>\n",
       "</pre>\n"
      ],
      "text/plain": [
       "\u001b[2;36m                   \u001b[0m\u001b[2;36m \u001b[0m\u001b[34mINFO    \u001b[0m Found \u001b[1;36m3486\u001b[0m ionic interactions.                                        \u001b[2mdistance.py\u001b[0m\u001b[2m:\u001b[0m\u001b[2m1344\u001b[0m\n"
      ]
     },
     "metadata": {},
     "output_type": "display_data"
    },
    {
     "data": {
      "text/html": [
       "<pre style=\"white-space:pre;overflow-x:auto;line-height:normal;font-family:Menlo,'DejaVu Sans Mono',consolas,'Courier New',monospace\"></pre>\n"
      ],
      "text/plain": []
     },
     "metadata": {},
     "output_type": "display_data"
    },
    {
     "data": {
      "text/html": [
       "<pre style=\"white-space:pre;overflow-x:auto;line-height:normal;font-family:Menlo,'DejaVu Sans Mono',consolas,'Courier New',monospace\">\n",
       "</pre>\n"
      ],
      "text/plain": [
       "\n"
      ]
     },
     "metadata": {},
     "output_type": "display_data"
    },
    {
     "data": {
      "application/vnd.jupyter.widget-view+json": {
       "model_id": "bc9b9f785d894147877621abe6030fc9",
       "version_major": 2,
       "version_minor": 0
      },
      "text/plain": [
       "Output()"
      ]
     },
     "metadata": {},
     "output_type": "display_data"
    },
    {
     "data": {
      "text/html": [
       "<pre style=\"white-space:pre;overflow-x:auto;line-height:normal;font-family:Menlo,'DejaVu Sans Mono',consolas,'Courier New',monospace\"><span style=\"color: #7fbfbf; text-decoration-color: #7fbfbf\">                    </span><span style=\"color: #008000; text-decoration-color: #008000\">DEBUG   </span> Deprotonating protein. This removes H atoms from the pdb_df dataframe    <span style=\"color: #7f7f7f; text-decoration-color: #7f7f7f\">graphs.py:188</span>\n",
       "</pre>\n"
      ],
      "text/plain": [
       "\u001b[2;36m                   \u001b[0m\u001b[2;36m \u001b[0m\u001b[32mDEBUG   \u001b[0m Deprotonating protein. This removes H atoms from the pdb_df dataframe    \u001b[2mgraphs.py\u001b[0m\u001b[2m:\u001b[0m\u001b[2m188\u001b[0m\n"
      ]
     },
     "metadata": {},
     "output_type": "display_data"
    },
    {
     "data": {
      "text/html": [
       "<pre style=\"white-space:pre;overflow-x:auto;line-height:normal;font-family:Menlo,'DejaVu Sans Mono',consolas,'Courier New',monospace\"><span style=\"color: #7fbfbf; text-decoration-color: #7fbfbf\">                    </span><span style=\"color: #008000; text-decoration-color: #008000\">DEBUG   </span> Detected <span style=\"color: #008080; text-decoration-color: #008080; font-weight: bold\">445</span> total nodes                                                 <span style=\"color: #7f7f7f; text-decoration-color: #7f7f7f\">graphs.py:435</span>\n",
       "</pre>\n"
      ],
      "text/plain": [
       "\u001b[2;36m                   \u001b[0m\u001b[2;36m \u001b[0m\u001b[32mDEBUG   \u001b[0m Detected \u001b[1;36m445\u001b[0m total nodes                                                 \u001b[2mgraphs.py\u001b[0m\u001b[2m:\u001b[0m\u001b[2m435\u001b[0m\n"
      ]
     },
     "metadata": {},
     "output_type": "display_data"
    },
    {
     "data": {
      "text/html": [
       "<pre style=\"white-space:pre;overflow-x:auto;line-height:normal;font-family:Menlo,'DejaVu Sans Mono',consolas,'Courier New',monospace\">c:\\Users\\HUAWEI\\Desktop\\materiale \n",
       "magistrale\\CHL\\CHL-Project\\.venv\\lib\\site-packages\\graphein\\protein\\edges\\distance.py:1213: FutureWarning: The \n",
       "default value of numeric_only in DataFrameGroupBy.mean is deprecated. In a future version, numeric_only will \n",
       "default to False. Either specify numeric_only or select only columns which should be valid for the function.\n",
       "  .mean()[[\"x_coord\", \"y_coord\", \"z_coord\"]]\n",
       "</pre>\n"
      ],
      "text/plain": [
       "c:\\Users\\HUAWEI\\Desktop\\materiale \n",
       "magistrale\\CHL\\CHL-Project\\.venv\\lib\\site-packages\\graphein\\protein\\edges\\distance.py:1213: FutureWarning: The \n",
       "default value of numeric_only in DataFrameGroupBy.mean is deprecated. In a future version, numeric_only will \n",
       "default to False. Either specify numeric_only or select only columns which should be valid for the function.\n",
       "  .mean()[[\"x_coord\", \"y_coord\", \"z_coord\"]]\n"
      ]
     },
     "metadata": {},
     "output_type": "display_data"
    },
    {
     "data": {
      "text/html": [
       "<pre style=\"white-space:pre;overflow-x:auto;line-height:normal;font-family:Menlo,'DejaVu Sans Mono',consolas,'Courier New',monospace\">c:\\Users\\HUAWEI\\Desktop\\materiale \n",
       "magistrale\\CHL\\CHL-Project\\.venv\\lib\\site-packages\\graphein\\protein\\edges\\distance.py:1213: FutureWarning: The \n",
       "default value of numeric_only in DataFrameGroupBy.mean is deprecated. In a future version, numeric_only will \n",
       "default to False. Either specify numeric_only or select only columns which should be valid for the function.\n",
       "  .mean()[[\"x_coord\", \"y_coord\", \"z_coord\"]]\n",
       "</pre>\n"
      ],
      "text/plain": [
       "c:\\Users\\HUAWEI\\Desktop\\materiale \n",
       "magistrale\\CHL\\CHL-Project\\.venv\\lib\\site-packages\\graphein\\protein\\edges\\distance.py:1213: FutureWarning: The \n",
       "default value of numeric_only in DataFrameGroupBy.mean is deprecated. In a future version, numeric_only will \n",
       "default to False. Either specify numeric_only or select only columns which should be valid for the function.\n",
       "  .mean()[[\"x_coord\", \"y_coord\", \"z_coord\"]]\n"
      ]
     },
     "metadata": {},
     "output_type": "display_data"
    },
    {
     "data": {
      "text/html": [
       "<pre style=\"white-space:pre;overflow-x:auto;line-height:normal;font-family:Menlo,'DejaVu Sans Mono',consolas,'Courier New',monospace\">c:\\Users\\HUAWEI\\Desktop\\materiale \n",
       "magistrale\\CHL\\CHL-Project\\.venv\\lib\\site-packages\\graphein\\protein\\edges\\distance.py:1213: FutureWarning: The \n",
       "default value of numeric_only in DataFrameGroupBy.mean is deprecated. In a future version, numeric_only will \n",
       "default to False. Either specify numeric_only or select only columns which should be valid for the function.\n",
       "  .mean()[[\"x_coord\", \"y_coord\", \"z_coord\"]]\n",
       "</pre>\n"
      ],
      "text/plain": [
       "c:\\Users\\HUAWEI\\Desktop\\materiale \n",
       "magistrale\\CHL\\CHL-Project\\.venv\\lib\\site-packages\\graphein\\protein\\edges\\distance.py:1213: FutureWarning: The \n",
       "default value of numeric_only in DataFrameGroupBy.mean is deprecated. In a future version, numeric_only will \n",
       "default to False. Either specify numeric_only or select only columns which should be valid for the function.\n",
       "  .mean()[[\"x_coord\", \"y_coord\", \"z_coord\"]]\n"
      ]
     },
     "metadata": {},
     "output_type": "display_data"
    },
    {
     "data": {
      "text/html": [
       "<pre style=\"white-space:pre;overflow-x:auto;line-height:normal;font-family:Menlo,'DejaVu Sans Mono',consolas,'Courier New',monospace\">c:\\Users\\HUAWEI\\Desktop\\materiale \n",
       "magistrale\\CHL\\CHL-Project\\.venv\\lib\\site-packages\\graphein\\protein\\edges\\distance.py:1213: FutureWarning: The \n",
       "default value of numeric_only in DataFrameGroupBy.mean is deprecated. In a future version, numeric_only will \n",
       "default to False. Either specify numeric_only or select only columns which should be valid for the function.\n",
       "  .mean()[[\"x_coord\", \"y_coord\", \"z_coord\"]]\n",
       "</pre>\n"
      ],
      "text/plain": [
       "c:\\Users\\HUAWEI\\Desktop\\materiale \n",
       "magistrale\\CHL\\CHL-Project\\.venv\\lib\\site-packages\\graphein\\protein\\edges\\distance.py:1213: FutureWarning: The \n",
       "default value of numeric_only in DataFrameGroupBy.mean is deprecated. In a future version, numeric_only will \n",
       "default to False. Either specify numeric_only or select only columns which should be valid for the function.\n",
       "  .mean()[[\"x_coord\", \"y_coord\", \"z_coord\"]]\n"
      ]
     },
     "metadata": {},
     "output_type": "display_data"
    },
    {
     "data": {
      "text/html": [
       "<pre style=\"white-space:pre;overflow-x:auto;line-height:normal;font-family:Menlo,'DejaVu Sans Mono',consolas,'Courier New',monospace\"><span style=\"color: #7fbfbf; text-decoration-color: #7fbfbf\">                    </span><span style=\"color: #000080; text-decoration-color: #000080\">INFO    </span> Found: <span style=\"color: #008080; text-decoration-color: #008080; font-weight: bold\">88</span> aromatic-aromatic interactions                               <span style=\"color: #7f7f7f; text-decoration-color: #7f7f7f\">distance.py:467</span>\n",
       "</pre>\n"
      ],
      "text/plain": [
       "\u001b[2;36m                   \u001b[0m\u001b[2;36m \u001b[0m\u001b[34mINFO    \u001b[0m Found: \u001b[1;36m88\u001b[0m aromatic-aromatic interactions                               \u001b[2mdistance.py\u001b[0m\u001b[2m:\u001b[0m\u001b[2m467\u001b[0m\n"
      ]
     },
     "metadata": {},
     "output_type": "display_data"
    },
    {
     "data": {
      "text/html": [
       "<pre style=\"white-space:pre;overflow-x:auto;line-height:normal;font-family:Menlo,'DejaVu Sans Mono',consolas,'Courier New',monospace\"><span style=\"color: #7fbfbf; text-decoration-color: #7fbfbf\">                    </span><span style=\"color: #000080; text-decoration-color: #000080\">INFO    </span> Found <span style=\"color: #008080; text-decoration-color: #008080; font-weight: bold\">958</span> hydrophobic interactions.                                   <span style=\"color: #7f7f7f; text-decoration-color: #7f7f7f\">distance.py:1344</span>\n",
       "</pre>\n"
      ],
      "text/plain": [
       "\u001b[2;36m                   \u001b[0m\u001b[2;36m \u001b[0m\u001b[34mINFO    \u001b[0m Found \u001b[1;36m958\u001b[0m hydrophobic interactions.                                   \u001b[2mdistance.py\u001b[0m\u001b[2m:\u001b[0m\u001b[2m1344\u001b[0m\n"
      ]
     },
     "metadata": {},
     "output_type": "display_data"
    },
    {
     "data": {
      "text/html": [
       "<pre style=\"white-space:pre;overflow-x:auto;line-height:normal;font-family:Menlo,'DejaVu Sans Mono',consolas,'Courier New',monospace\"><span style=\"color: #7fbfbf; text-decoration-color: #7fbfbf\">[05/03/24 18:03:42] </span><span style=\"color: #000080; text-decoration-color: #000080\">INFO    </span> Found <span style=\"color: #008080; text-decoration-color: #008080; font-weight: bold\">12</span> disulfide interactions.                                      <span style=\"color: #7f7f7f; text-decoration-color: #7f7f7f\">distance.py:1344</span>\n",
       "</pre>\n"
      ],
      "text/plain": [
       "\u001b[2;36m[05/03/24 18:03:42]\u001b[0m\u001b[2;36m \u001b[0m\u001b[34mINFO    \u001b[0m Found \u001b[1;36m12\u001b[0m disulfide interactions.                                      \u001b[2mdistance.py\u001b[0m\u001b[2m:\u001b[0m\u001b[2m1344\u001b[0m\n"
      ]
     },
     "metadata": {},
     "output_type": "display_data"
    },
    {
     "data": {
      "text/html": [
       "<pre style=\"white-space:pre;overflow-x:auto;line-height:normal;font-family:Menlo,'DejaVu Sans Mono',consolas,'Courier New',monospace\"><span style=\"color: #7fbfbf; text-decoration-color: #7fbfbf\">                    </span><span style=\"color: #000080; text-decoration-color: #000080\">INFO    </span> Found <span style=\"color: #008080; text-decoration-color: #008080; font-weight: bold\">190</span> hbond interactions.                                         <span style=\"color: #7f7f7f; text-decoration-color: #7f7f7f\">distance.py:1344</span>\n",
       "</pre>\n"
      ],
      "text/plain": [
       "\u001b[2;36m                   \u001b[0m\u001b[2;36m \u001b[0m\u001b[34mINFO    \u001b[0m Found \u001b[1;36m190\u001b[0m hbond interactions.                                         \u001b[2mdistance.py\u001b[0m\u001b[2m:\u001b[0m\u001b[2m1344\u001b[0m\n"
      ]
     },
     "metadata": {},
     "output_type": "display_data"
    },
    {
     "data": {
      "text/html": [
       "<pre style=\"white-space:pre;overflow-x:auto;line-height:normal;font-family:Menlo,'DejaVu Sans Mono',consolas,'Courier New',monospace\"><span style=\"color: #7fbfbf; text-decoration-color: #7fbfbf\">                    </span><span style=\"color: #000080; text-decoration-color: #000080\">INFO    </span> Found <span style=\"color: #008080; text-decoration-color: #008080; font-weight: bold\">22</span> hbond interactions.                                          <span style=\"color: #7f7f7f; text-decoration-color: #7f7f7f\">distance.py:1344</span>\n",
       "</pre>\n"
      ],
      "text/plain": [
       "\u001b[2;36m                   \u001b[0m\u001b[2;36m \u001b[0m\u001b[34mINFO    \u001b[0m Found \u001b[1;36m22\u001b[0m hbond interactions.                                          \u001b[2mdistance.py\u001b[0m\u001b[2m:\u001b[0m\u001b[2m1344\u001b[0m\n"
      ]
     },
     "metadata": {},
     "output_type": "display_data"
    },
    {
     "data": {
      "text/html": [
       "<pre style=\"white-space:pre;overflow-x:auto;line-height:normal;font-family:Menlo,'DejaVu Sans Mono',consolas,'Courier New',monospace\"><span style=\"color: #7fbfbf; text-decoration-color: #7fbfbf\">                    </span><span style=\"color: #000080; text-decoration-color: #000080\">INFO    </span> Found <span style=\"color: #008080; text-decoration-color: #008080; font-weight: bold\">3496</span> ionic interactions.                                        <span style=\"color: #7f7f7f; text-decoration-color: #7f7f7f\">distance.py:1344</span>\n",
       "</pre>\n"
      ],
      "text/plain": [
       "\u001b[2;36m                   \u001b[0m\u001b[2;36m \u001b[0m\u001b[34mINFO    \u001b[0m Found \u001b[1;36m3496\u001b[0m ionic interactions.                                        \u001b[2mdistance.py\u001b[0m\u001b[2m:\u001b[0m\u001b[2m1344\u001b[0m\n"
      ]
     },
     "metadata": {},
     "output_type": "display_data"
    },
    {
     "data": {
      "text/html": [
       "<pre style=\"white-space:pre;overflow-x:auto;line-height:normal;font-family:Menlo,'DejaVu Sans Mono',consolas,'Courier New',monospace\"></pre>\n"
      ],
      "text/plain": []
     },
     "metadata": {},
     "output_type": "display_data"
    },
    {
     "data": {
      "text/html": [
       "<pre style=\"white-space:pre;overflow-x:auto;line-height:normal;font-family:Menlo,'DejaVu Sans Mono',consolas,'Courier New',monospace\">\n",
       "</pre>\n"
      ],
      "text/plain": [
       "\n"
      ]
     },
     "metadata": {},
     "output_type": "display_data"
    },
    {
     "data": {
      "application/vnd.jupyter.widget-view+json": {
       "model_id": "f5cd338e7a0046ed948139b55111e0dc",
       "version_major": 2,
       "version_minor": 0
      },
      "text/plain": [
       "Output()"
      ]
     },
     "metadata": {},
     "output_type": "display_data"
    },
    {
     "data": {
      "text/html": [
       "<pre style=\"white-space:pre;overflow-x:auto;line-height:normal;font-family:Menlo,'DejaVu Sans Mono',consolas,'Courier New',monospace\"><span style=\"color: #7fbfbf; text-decoration-color: #7fbfbf\">                    </span><span style=\"color: #008000; text-decoration-color: #008000\">DEBUG   </span> Deprotonating protein. This removes H atoms from the pdb_df dataframe    <span style=\"color: #7f7f7f; text-decoration-color: #7f7f7f\">graphs.py:188</span>\n",
       "</pre>\n"
      ],
      "text/plain": [
       "\u001b[2;36m                   \u001b[0m\u001b[2;36m \u001b[0m\u001b[32mDEBUG   \u001b[0m Deprotonating protein. This removes H atoms from the pdb_df dataframe    \u001b[2mgraphs.py\u001b[0m\u001b[2m:\u001b[0m\u001b[2m188\u001b[0m\n"
      ]
     },
     "metadata": {},
     "output_type": "display_data"
    },
    {
     "data": {
      "text/html": [
       "<pre style=\"white-space:pre;overflow-x:auto;line-height:normal;font-family:Menlo,'DejaVu Sans Mono',consolas,'Courier New',monospace\"><span style=\"color: #7fbfbf; text-decoration-color: #7fbfbf\">                    </span><span style=\"color: #008000; text-decoration-color: #008000\">DEBUG   </span> Detected <span style=\"color: #008080; text-decoration-color: #008080; font-weight: bold\">445</span> total nodes                                                 <span style=\"color: #7f7f7f; text-decoration-color: #7f7f7f\">graphs.py:435</span>\n",
       "</pre>\n"
      ],
      "text/plain": [
       "\u001b[2;36m                   \u001b[0m\u001b[2;36m \u001b[0m\u001b[32mDEBUG   \u001b[0m Detected \u001b[1;36m445\u001b[0m total nodes                                                 \u001b[2mgraphs.py\u001b[0m\u001b[2m:\u001b[0m\u001b[2m435\u001b[0m\n"
      ]
     },
     "metadata": {},
     "output_type": "display_data"
    },
    {
     "data": {
      "text/html": [
       "<pre style=\"white-space:pre;overflow-x:auto;line-height:normal;font-family:Menlo,'DejaVu Sans Mono',consolas,'Courier New',monospace\">c:\\Users\\HUAWEI\\Desktop\\materiale \n",
       "magistrale\\CHL\\CHL-Project\\.venv\\lib\\site-packages\\graphein\\protein\\edges\\distance.py:1213: FutureWarning: The \n",
       "default value of numeric_only in DataFrameGroupBy.mean is deprecated. In a future version, numeric_only will \n",
       "default to False. Either specify numeric_only or select only columns which should be valid for the function.\n",
       "  .mean()[[\"x_coord\", \"y_coord\", \"z_coord\"]]\n",
       "</pre>\n"
      ],
      "text/plain": [
       "c:\\Users\\HUAWEI\\Desktop\\materiale \n",
       "magistrale\\CHL\\CHL-Project\\.venv\\lib\\site-packages\\graphein\\protein\\edges\\distance.py:1213: FutureWarning: The \n",
       "default value of numeric_only in DataFrameGroupBy.mean is deprecated. In a future version, numeric_only will \n",
       "default to False. Either specify numeric_only or select only columns which should be valid for the function.\n",
       "  .mean()[[\"x_coord\", \"y_coord\", \"z_coord\"]]\n"
      ]
     },
     "metadata": {},
     "output_type": "display_data"
    },
    {
     "data": {
      "text/html": [
       "<pre style=\"white-space:pre;overflow-x:auto;line-height:normal;font-family:Menlo,'DejaVu Sans Mono',consolas,'Courier New',monospace\">c:\\Users\\HUAWEI\\Desktop\\materiale \n",
       "magistrale\\CHL\\CHL-Project\\.venv\\lib\\site-packages\\graphein\\protein\\edges\\distance.py:1213: FutureWarning: The \n",
       "default value of numeric_only in DataFrameGroupBy.mean is deprecated. In a future version, numeric_only will \n",
       "default to False. Either specify numeric_only or select only columns which should be valid for the function.\n",
       "  .mean()[[\"x_coord\", \"y_coord\", \"z_coord\"]]\n",
       "</pre>\n"
      ],
      "text/plain": [
       "c:\\Users\\HUAWEI\\Desktop\\materiale \n",
       "magistrale\\CHL\\CHL-Project\\.venv\\lib\\site-packages\\graphein\\protein\\edges\\distance.py:1213: FutureWarning: The \n",
       "default value of numeric_only in DataFrameGroupBy.mean is deprecated. In a future version, numeric_only will \n",
       "default to False. Either specify numeric_only or select only columns which should be valid for the function.\n",
       "  .mean()[[\"x_coord\", \"y_coord\", \"z_coord\"]]\n"
      ]
     },
     "metadata": {},
     "output_type": "display_data"
    },
    {
     "data": {
      "text/html": [
       "<pre style=\"white-space:pre;overflow-x:auto;line-height:normal;font-family:Menlo,'DejaVu Sans Mono',consolas,'Courier New',monospace\">c:\\Users\\HUAWEI\\Desktop\\materiale \n",
       "magistrale\\CHL\\CHL-Project\\.venv\\lib\\site-packages\\graphein\\protein\\edges\\distance.py:1213: FutureWarning: The \n",
       "default value of numeric_only in DataFrameGroupBy.mean is deprecated. In a future version, numeric_only will \n",
       "default to False. Either specify numeric_only or select only columns which should be valid for the function.\n",
       "  .mean()[[\"x_coord\", \"y_coord\", \"z_coord\"]]\n",
       "</pre>\n"
      ],
      "text/plain": [
       "c:\\Users\\HUAWEI\\Desktop\\materiale \n",
       "magistrale\\CHL\\CHL-Project\\.venv\\lib\\site-packages\\graphein\\protein\\edges\\distance.py:1213: FutureWarning: The \n",
       "default value of numeric_only in DataFrameGroupBy.mean is deprecated. In a future version, numeric_only will \n",
       "default to False. Either specify numeric_only or select only columns which should be valid for the function.\n",
       "  .mean()[[\"x_coord\", \"y_coord\", \"z_coord\"]]\n"
      ]
     },
     "metadata": {},
     "output_type": "display_data"
    },
    {
     "data": {
      "text/html": [
       "<pre style=\"white-space:pre;overflow-x:auto;line-height:normal;font-family:Menlo,'DejaVu Sans Mono',consolas,'Courier New',monospace\">c:\\Users\\HUAWEI\\Desktop\\materiale \n",
       "magistrale\\CHL\\CHL-Project\\.venv\\lib\\site-packages\\graphein\\protein\\edges\\distance.py:1213: FutureWarning: The \n",
       "default value of numeric_only in DataFrameGroupBy.mean is deprecated. In a future version, numeric_only will \n",
       "default to False. Either specify numeric_only or select only columns which should be valid for the function.\n",
       "  .mean()[[\"x_coord\", \"y_coord\", \"z_coord\"]]\n",
       "</pre>\n"
      ],
      "text/plain": [
       "c:\\Users\\HUAWEI\\Desktop\\materiale \n",
       "magistrale\\CHL\\CHL-Project\\.venv\\lib\\site-packages\\graphein\\protein\\edges\\distance.py:1213: FutureWarning: The \n",
       "default value of numeric_only in DataFrameGroupBy.mean is deprecated. In a future version, numeric_only will \n",
       "default to False. Either specify numeric_only or select only columns which should be valid for the function.\n",
       "  .mean()[[\"x_coord\", \"y_coord\", \"z_coord\"]]\n"
      ]
     },
     "metadata": {},
     "output_type": "display_data"
    },
    {
     "data": {
      "text/html": [
       "<pre style=\"white-space:pre;overflow-x:auto;line-height:normal;font-family:Menlo,'DejaVu Sans Mono',consolas,'Courier New',monospace\"><span style=\"color: #7fbfbf; text-decoration-color: #7fbfbf\">                    </span><span style=\"color: #000080; text-decoration-color: #000080\">INFO    </span> Found: <span style=\"color: #008080; text-decoration-color: #008080; font-weight: bold\">94</span> aromatic-aromatic interactions                               <span style=\"color: #7f7f7f; text-decoration-color: #7f7f7f\">distance.py:467</span>\n",
       "</pre>\n"
      ],
      "text/plain": [
       "\u001b[2;36m                   \u001b[0m\u001b[2;36m \u001b[0m\u001b[34mINFO    \u001b[0m Found: \u001b[1;36m94\u001b[0m aromatic-aromatic interactions                               \u001b[2mdistance.py\u001b[0m\u001b[2m:\u001b[0m\u001b[2m467\u001b[0m\n"
      ]
     },
     "metadata": {},
     "output_type": "display_data"
    },
    {
     "data": {
      "text/html": [
       "<pre style=\"white-space:pre;overflow-x:auto;line-height:normal;font-family:Menlo,'DejaVu Sans Mono',consolas,'Courier New',monospace\"><span style=\"color: #7fbfbf; text-decoration-color: #7fbfbf\">[05/03/24 18:03:43] </span><span style=\"color: #000080; text-decoration-color: #000080\">INFO    </span> Found <span style=\"color: #008080; text-decoration-color: #008080; font-weight: bold\">967</span> hydrophobic interactions.                                   <span style=\"color: #7f7f7f; text-decoration-color: #7f7f7f\">distance.py:1344</span>\n",
       "</pre>\n"
      ],
      "text/plain": [
       "\u001b[2;36m[05/03/24 18:03:43]\u001b[0m\u001b[2;36m \u001b[0m\u001b[34mINFO    \u001b[0m Found \u001b[1;36m967\u001b[0m hydrophobic interactions.                                   \u001b[2mdistance.py\u001b[0m\u001b[2m:\u001b[0m\u001b[2m1344\u001b[0m\n"
      ]
     },
     "metadata": {},
     "output_type": "display_data"
    },
    {
     "data": {
      "text/html": [
       "<pre style=\"white-space:pre;overflow-x:auto;line-height:normal;font-family:Menlo,'DejaVu Sans Mono',consolas,'Courier New',monospace\"><span style=\"color: #7fbfbf; text-decoration-color: #7fbfbf\">                    </span><span style=\"color: #000080; text-decoration-color: #000080\">INFO    </span> Found <span style=\"color: #008080; text-decoration-color: #008080; font-weight: bold\">12</span> disulfide interactions.                                      <span style=\"color: #7f7f7f; text-decoration-color: #7f7f7f\">distance.py:1344</span>\n",
       "</pre>\n"
      ],
      "text/plain": [
       "\u001b[2;36m                   \u001b[0m\u001b[2;36m \u001b[0m\u001b[34mINFO    \u001b[0m Found \u001b[1;36m12\u001b[0m disulfide interactions.                                      \u001b[2mdistance.py\u001b[0m\u001b[2m:\u001b[0m\u001b[2m1344\u001b[0m\n"
      ]
     },
     "metadata": {},
     "output_type": "display_data"
    },
    {
     "data": {
      "text/html": [
       "<pre style=\"white-space:pre;overflow-x:auto;line-height:normal;font-family:Menlo,'DejaVu Sans Mono',consolas,'Courier New',monospace\"><span style=\"color: #7fbfbf; text-decoration-color: #7fbfbf\">                    </span><span style=\"color: #000080; text-decoration-color: #000080\">INFO    </span> Found <span style=\"color: #008080; text-decoration-color: #008080; font-weight: bold\">190</span> hbond interactions.                                         <span style=\"color: #7f7f7f; text-decoration-color: #7f7f7f\">distance.py:1344</span>\n",
       "</pre>\n"
      ],
      "text/plain": [
       "\u001b[2;36m                   \u001b[0m\u001b[2;36m \u001b[0m\u001b[34mINFO    \u001b[0m Found \u001b[1;36m190\u001b[0m hbond interactions.                                         \u001b[2mdistance.py\u001b[0m\u001b[2m:\u001b[0m\u001b[2m1344\u001b[0m\n"
      ]
     },
     "metadata": {},
     "output_type": "display_data"
    },
    {
     "data": {
      "text/html": [
       "<pre style=\"white-space:pre;overflow-x:auto;line-height:normal;font-family:Menlo,'DejaVu Sans Mono',consolas,'Courier New',monospace\"><span style=\"color: #7fbfbf; text-decoration-color: #7fbfbf\">                    </span><span style=\"color: #000080; text-decoration-color: #000080\">INFO    </span> Found <span style=\"color: #008080; text-decoration-color: #008080; font-weight: bold\">22</span> hbond interactions.                                          <span style=\"color: #7f7f7f; text-decoration-color: #7f7f7f\">distance.py:1344</span>\n",
       "</pre>\n"
      ],
      "text/plain": [
       "\u001b[2;36m                   \u001b[0m\u001b[2;36m \u001b[0m\u001b[34mINFO    \u001b[0m Found \u001b[1;36m22\u001b[0m hbond interactions.                                          \u001b[2mdistance.py\u001b[0m\u001b[2m:\u001b[0m\u001b[2m1344\u001b[0m\n"
      ]
     },
     "metadata": {},
     "output_type": "display_data"
    },
    {
     "data": {
      "text/html": [
       "<pre style=\"white-space:pre;overflow-x:auto;line-height:normal;font-family:Menlo,'DejaVu Sans Mono',consolas,'Courier New',monospace\"><span style=\"color: #7fbfbf; text-decoration-color: #7fbfbf\">                    </span><span style=\"color: #000080; text-decoration-color: #000080\">INFO    </span> Found <span style=\"color: #008080; text-decoration-color: #008080; font-weight: bold\">3531</span> ionic interactions.                                        <span style=\"color: #7f7f7f; text-decoration-color: #7f7f7f\">distance.py:1344</span>\n",
       "</pre>\n"
      ],
      "text/plain": [
       "\u001b[2;36m                   \u001b[0m\u001b[2;36m \u001b[0m\u001b[34mINFO    \u001b[0m Found \u001b[1;36m3531\u001b[0m ionic interactions.                                        \u001b[2mdistance.py\u001b[0m\u001b[2m:\u001b[0m\u001b[2m1344\u001b[0m\n"
      ]
     },
     "metadata": {},
     "output_type": "display_data"
    },
    {
     "data": {
      "text/html": [
       "<pre style=\"white-space:pre;overflow-x:auto;line-height:normal;font-family:Menlo,'DejaVu Sans Mono',consolas,'Courier New',monospace\"></pre>\n"
      ],
      "text/plain": []
     },
     "metadata": {},
     "output_type": "display_data"
    },
    {
     "data": {
      "text/html": [
       "<pre style=\"white-space:pre;overflow-x:auto;line-height:normal;font-family:Menlo,'DejaVu Sans Mono',consolas,'Courier New',monospace\">\n",
       "</pre>\n"
      ],
      "text/plain": [
       "\n"
      ]
     },
     "metadata": {},
     "output_type": "display_data"
    },
    {
     "data": {
      "application/vnd.jupyter.widget-view+json": {
       "model_id": "f1c8e1215afe470ba427fde0a79fa96f",
       "version_major": 2,
       "version_minor": 0
      },
      "text/plain": [
       "Output()"
      ]
     },
     "metadata": {},
     "output_type": "display_data"
    },
    {
     "data": {
      "text/html": [
       "<pre style=\"white-space:pre;overflow-x:auto;line-height:normal;font-family:Menlo,'DejaVu Sans Mono',consolas,'Courier New',monospace\"><span style=\"color: #7fbfbf; text-decoration-color: #7fbfbf\">                    </span><span style=\"color: #008000; text-decoration-color: #008000\">DEBUG   </span> Deprotonating protein. This removes H atoms from the pdb_df dataframe    <span style=\"color: #7f7f7f; text-decoration-color: #7f7f7f\">graphs.py:188</span>\n",
       "</pre>\n"
      ],
      "text/plain": [
       "\u001b[2;36m                   \u001b[0m\u001b[2;36m \u001b[0m\u001b[32mDEBUG   \u001b[0m Deprotonating protein. This removes H atoms from the pdb_df dataframe    \u001b[2mgraphs.py\u001b[0m\u001b[2m:\u001b[0m\u001b[2m188\u001b[0m\n"
      ]
     },
     "metadata": {},
     "output_type": "display_data"
    },
    {
     "data": {
      "text/html": [
       "<pre style=\"white-space:pre;overflow-x:auto;line-height:normal;font-family:Menlo,'DejaVu Sans Mono',consolas,'Courier New',monospace\"><span style=\"color: #7fbfbf; text-decoration-color: #7fbfbf\">                    </span><span style=\"color: #008000; text-decoration-color: #008000\">DEBUG   </span> Detected <span style=\"color: #008080; text-decoration-color: #008080; font-weight: bold\">445</span> total nodes                                                 <span style=\"color: #7f7f7f; text-decoration-color: #7f7f7f\">graphs.py:435</span>\n",
       "</pre>\n"
      ],
      "text/plain": [
       "\u001b[2;36m                   \u001b[0m\u001b[2;36m \u001b[0m\u001b[32mDEBUG   \u001b[0m Detected \u001b[1;36m445\u001b[0m total nodes                                                 \u001b[2mgraphs.py\u001b[0m\u001b[2m:\u001b[0m\u001b[2m435\u001b[0m\n"
      ]
     },
     "metadata": {},
     "output_type": "display_data"
    },
    {
     "data": {
      "text/html": [
       "<pre style=\"white-space:pre;overflow-x:auto;line-height:normal;font-family:Menlo,'DejaVu Sans Mono',consolas,'Courier New',monospace\">c:\\Users\\HUAWEI\\Desktop\\materiale \n",
       "magistrale\\CHL\\CHL-Project\\.venv\\lib\\site-packages\\graphein\\protein\\edges\\distance.py:1213: FutureWarning: The \n",
       "default value of numeric_only in DataFrameGroupBy.mean is deprecated. In a future version, numeric_only will \n",
       "default to False. Either specify numeric_only or select only columns which should be valid for the function.\n",
       "  .mean()[[\"x_coord\", \"y_coord\", \"z_coord\"]]\n",
       "</pre>\n"
      ],
      "text/plain": [
       "c:\\Users\\HUAWEI\\Desktop\\materiale \n",
       "magistrale\\CHL\\CHL-Project\\.venv\\lib\\site-packages\\graphein\\protein\\edges\\distance.py:1213: FutureWarning: The \n",
       "default value of numeric_only in DataFrameGroupBy.mean is deprecated. In a future version, numeric_only will \n",
       "default to False. Either specify numeric_only or select only columns which should be valid for the function.\n",
       "  .mean()[[\"x_coord\", \"y_coord\", \"z_coord\"]]\n"
      ]
     },
     "metadata": {},
     "output_type": "display_data"
    },
    {
     "data": {
      "text/html": [
       "<pre style=\"white-space:pre;overflow-x:auto;line-height:normal;font-family:Menlo,'DejaVu Sans Mono',consolas,'Courier New',monospace\">c:\\Users\\HUAWEI\\Desktop\\materiale \n",
       "magistrale\\CHL\\CHL-Project\\.venv\\lib\\site-packages\\graphein\\protein\\edges\\distance.py:1213: FutureWarning: The \n",
       "default value of numeric_only in DataFrameGroupBy.mean is deprecated. In a future version, numeric_only will \n",
       "default to False. Either specify numeric_only or select only columns which should be valid for the function.\n",
       "  .mean()[[\"x_coord\", \"y_coord\", \"z_coord\"]]\n",
       "</pre>\n"
      ],
      "text/plain": [
       "c:\\Users\\HUAWEI\\Desktop\\materiale \n",
       "magistrale\\CHL\\CHL-Project\\.venv\\lib\\site-packages\\graphein\\protein\\edges\\distance.py:1213: FutureWarning: The \n",
       "default value of numeric_only in DataFrameGroupBy.mean is deprecated. In a future version, numeric_only will \n",
       "default to False. Either specify numeric_only or select only columns which should be valid for the function.\n",
       "  .mean()[[\"x_coord\", \"y_coord\", \"z_coord\"]]\n"
      ]
     },
     "metadata": {},
     "output_type": "display_data"
    },
    {
     "data": {
      "text/html": [
       "<pre style=\"white-space:pre;overflow-x:auto;line-height:normal;font-family:Menlo,'DejaVu Sans Mono',consolas,'Courier New',monospace\">c:\\Users\\HUAWEI\\Desktop\\materiale \n",
       "magistrale\\CHL\\CHL-Project\\.venv\\lib\\site-packages\\graphein\\protein\\edges\\distance.py:1213: FutureWarning: The \n",
       "default value of numeric_only in DataFrameGroupBy.mean is deprecated. In a future version, numeric_only will \n",
       "default to False. Either specify numeric_only or select only columns which should be valid for the function.\n",
       "  .mean()[[\"x_coord\", \"y_coord\", \"z_coord\"]]\n",
       "</pre>\n"
      ],
      "text/plain": [
       "c:\\Users\\HUAWEI\\Desktop\\materiale \n",
       "magistrale\\CHL\\CHL-Project\\.venv\\lib\\site-packages\\graphein\\protein\\edges\\distance.py:1213: FutureWarning: The \n",
       "default value of numeric_only in DataFrameGroupBy.mean is deprecated. In a future version, numeric_only will \n",
       "default to False. Either specify numeric_only or select only columns which should be valid for the function.\n",
       "  .mean()[[\"x_coord\", \"y_coord\", \"z_coord\"]]\n"
      ]
     },
     "metadata": {},
     "output_type": "display_data"
    },
    {
     "data": {
      "text/html": [
       "<pre style=\"white-space:pre;overflow-x:auto;line-height:normal;font-family:Menlo,'DejaVu Sans Mono',consolas,'Courier New',monospace\">c:\\Users\\HUAWEI\\Desktop\\materiale \n",
       "magistrale\\CHL\\CHL-Project\\.venv\\lib\\site-packages\\graphein\\protein\\edges\\distance.py:1213: FutureWarning: The \n",
       "default value of numeric_only in DataFrameGroupBy.mean is deprecated. In a future version, numeric_only will \n",
       "default to False. Either specify numeric_only or select only columns which should be valid for the function.\n",
       "  .mean()[[\"x_coord\", \"y_coord\", \"z_coord\"]]\n",
       "</pre>\n"
      ],
      "text/plain": [
       "c:\\Users\\HUAWEI\\Desktop\\materiale \n",
       "magistrale\\CHL\\CHL-Project\\.venv\\lib\\site-packages\\graphein\\protein\\edges\\distance.py:1213: FutureWarning: The \n",
       "default value of numeric_only in DataFrameGroupBy.mean is deprecated. In a future version, numeric_only will \n",
       "default to False. Either specify numeric_only or select only columns which should be valid for the function.\n",
       "  .mean()[[\"x_coord\", \"y_coord\", \"z_coord\"]]\n"
      ]
     },
     "metadata": {},
     "output_type": "display_data"
    },
    {
     "data": {
      "text/html": [
       "<pre style=\"white-space:pre;overflow-x:auto;line-height:normal;font-family:Menlo,'DejaVu Sans Mono',consolas,'Courier New',monospace\"><span style=\"color: #7fbfbf; text-decoration-color: #7fbfbf\">                    </span><span style=\"color: #000080; text-decoration-color: #000080\">INFO    </span> Found: <span style=\"color: #008080; text-decoration-color: #008080; font-weight: bold\">90</span> aromatic-aromatic interactions                               <span style=\"color: #7f7f7f; text-decoration-color: #7f7f7f\">distance.py:467</span>\n",
       "</pre>\n"
      ],
      "text/plain": [
       "\u001b[2;36m                   \u001b[0m\u001b[2;36m \u001b[0m\u001b[34mINFO    \u001b[0m Found: \u001b[1;36m90\u001b[0m aromatic-aromatic interactions                               \u001b[2mdistance.py\u001b[0m\u001b[2m:\u001b[0m\u001b[2m467\u001b[0m\n"
      ]
     },
     "metadata": {},
     "output_type": "display_data"
    },
    {
     "data": {
      "text/html": [
       "<pre style=\"white-space:pre;overflow-x:auto;line-height:normal;font-family:Menlo,'DejaVu Sans Mono',consolas,'Courier New',monospace\"><span style=\"color: #7fbfbf; text-decoration-color: #7fbfbf\">[05/03/24 18:03:44] </span><span style=\"color: #000080; text-decoration-color: #000080\">INFO    </span> Found <span style=\"color: #008080; text-decoration-color: #008080; font-weight: bold\">966</span> hydrophobic interactions.                                   <span style=\"color: #7f7f7f; text-decoration-color: #7f7f7f\">distance.py:1344</span>\n",
       "</pre>\n"
      ],
      "text/plain": [
       "\u001b[2;36m[05/03/24 18:03:44]\u001b[0m\u001b[2;36m \u001b[0m\u001b[34mINFO    \u001b[0m Found \u001b[1;36m966\u001b[0m hydrophobic interactions.                                   \u001b[2mdistance.py\u001b[0m\u001b[2m:\u001b[0m\u001b[2m1344\u001b[0m\n"
      ]
     },
     "metadata": {},
     "output_type": "display_data"
    },
    {
     "data": {
      "text/html": [
       "<pre style=\"white-space:pre;overflow-x:auto;line-height:normal;font-family:Menlo,'DejaVu Sans Mono',consolas,'Courier New',monospace\"><span style=\"color: #7fbfbf; text-decoration-color: #7fbfbf\">                    </span><span style=\"color: #000080; text-decoration-color: #000080\">INFO    </span> Found <span style=\"color: #008080; text-decoration-color: #008080; font-weight: bold\">12</span> disulfide interactions.                                      <span style=\"color: #7f7f7f; text-decoration-color: #7f7f7f\">distance.py:1344</span>\n",
       "</pre>\n"
      ],
      "text/plain": [
       "\u001b[2;36m                   \u001b[0m\u001b[2;36m \u001b[0m\u001b[34mINFO    \u001b[0m Found \u001b[1;36m12\u001b[0m disulfide interactions.                                      \u001b[2mdistance.py\u001b[0m\u001b[2m:\u001b[0m\u001b[2m1344\u001b[0m\n"
      ]
     },
     "metadata": {},
     "output_type": "display_data"
    },
    {
     "data": {
      "text/html": [
       "<pre style=\"white-space:pre;overflow-x:auto;line-height:normal;font-family:Menlo,'DejaVu Sans Mono',consolas,'Courier New',monospace\"><span style=\"color: #7fbfbf; text-decoration-color: #7fbfbf\">                    </span><span style=\"color: #000080; text-decoration-color: #000080\">INFO    </span> Found <span style=\"color: #008080; text-decoration-color: #008080; font-weight: bold\">193</span> hbond interactions.                                         <span style=\"color: #7f7f7f; text-decoration-color: #7f7f7f\">distance.py:1344</span>\n",
       "</pre>\n"
      ],
      "text/plain": [
       "\u001b[2;36m                   \u001b[0m\u001b[2;36m \u001b[0m\u001b[34mINFO    \u001b[0m Found \u001b[1;36m193\u001b[0m hbond interactions.                                         \u001b[2mdistance.py\u001b[0m\u001b[2m:\u001b[0m\u001b[2m1344\u001b[0m\n"
      ]
     },
     "metadata": {},
     "output_type": "display_data"
    },
    {
     "data": {
      "text/html": [
       "<pre style=\"white-space:pre;overflow-x:auto;line-height:normal;font-family:Menlo,'DejaVu Sans Mono',consolas,'Courier New',monospace\"><span style=\"color: #7fbfbf; text-decoration-color: #7fbfbf\">                    </span><span style=\"color: #000080; text-decoration-color: #000080\">INFO    </span> Found <span style=\"color: #008080; text-decoration-color: #008080; font-weight: bold\">22</span> hbond interactions.                                          <span style=\"color: #7f7f7f; text-decoration-color: #7f7f7f\">distance.py:1344</span>\n",
       "</pre>\n"
      ],
      "text/plain": [
       "\u001b[2;36m                   \u001b[0m\u001b[2;36m \u001b[0m\u001b[34mINFO    \u001b[0m Found \u001b[1;36m22\u001b[0m hbond interactions.                                          \u001b[2mdistance.py\u001b[0m\u001b[2m:\u001b[0m\u001b[2m1344\u001b[0m\n"
      ]
     },
     "metadata": {},
     "output_type": "display_data"
    },
    {
     "data": {
      "text/html": [
       "<pre style=\"white-space:pre;overflow-x:auto;line-height:normal;font-family:Menlo,'DejaVu Sans Mono',consolas,'Courier New',monospace\"><span style=\"color: #7fbfbf; text-decoration-color: #7fbfbf\">                    </span><span style=\"color: #000080; text-decoration-color: #000080\">INFO    </span> Found <span style=\"color: #008080; text-decoration-color: #008080; font-weight: bold\">3517</span> ionic interactions.                                        <span style=\"color: #7f7f7f; text-decoration-color: #7f7f7f\">distance.py:1344</span>\n",
       "</pre>\n"
      ],
      "text/plain": [
       "\u001b[2;36m                   \u001b[0m\u001b[2;36m \u001b[0m\u001b[34mINFO    \u001b[0m Found \u001b[1;36m3517\u001b[0m ionic interactions.                                        \u001b[2mdistance.py\u001b[0m\u001b[2m:\u001b[0m\u001b[2m1344\u001b[0m\n"
      ]
     },
     "metadata": {},
     "output_type": "display_data"
    },
    {
     "data": {
      "text/html": [
       "<pre style=\"white-space:pre;overflow-x:auto;line-height:normal;font-family:Menlo,'DejaVu Sans Mono',consolas,'Courier New',monospace\"></pre>\n"
      ],
      "text/plain": []
     },
     "metadata": {},
     "output_type": "display_data"
    },
    {
     "data": {
      "text/html": [
       "<pre style=\"white-space:pre;overflow-x:auto;line-height:normal;font-family:Menlo,'DejaVu Sans Mono',consolas,'Courier New',monospace\">\n",
       "</pre>\n"
      ],
      "text/plain": [
       "\n"
      ]
     },
     "metadata": {},
     "output_type": "display_data"
    },
    {
     "data": {
      "application/vnd.jupyter.widget-view+json": {
       "model_id": "774a559bb52444e697508dcb975e4106",
       "version_major": 2,
       "version_minor": 0
      },
      "text/plain": [
       "Output()"
      ]
     },
     "metadata": {},
     "output_type": "display_data"
    },
    {
     "data": {
      "text/html": [
       "<pre style=\"white-space:pre;overflow-x:auto;line-height:normal;font-family:Menlo,'DejaVu Sans Mono',consolas,'Courier New',monospace\"><span style=\"color: #7fbfbf; text-decoration-color: #7fbfbf\">                    </span><span style=\"color: #008000; text-decoration-color: #008000\">DEBUG   </span> Deprotonating protein. This removes H atoms from the pdb_df dataframe    <span style=\"color: #7f7f7f; text-decoration-color: #7f7f7f\">graphs.py:188</span>\n",
       "</pre>\n"
      ],
      "text/plain": [
       "\u001b[2;36m                   \u001b[0m\u001b[2;36m \u001b[0m\u001b[32mDEBUG   \u001b[0m Deprotonating protein. This removes H atoms from the pdb_df dataframe    \u001b[2mgraphs.py\u001b[0m\u001b[2m:\u001b[0m\u001b[2m188\u001b[0m\n"
      ]
     },
     "metadata": {},
     "output_type": "display_data"
    },
    {
     "data": {
      "text/html": [
       "<pre style=\"white-space:pre;overflow-x:auto;line-height:normal;font-family:Menlo,'DejaVu Sans Mono',consolas,'Courier New',monospace\"><span style=\"color: #7fbfbf; text-decoration-color: #7fbfbf\">                    </span><span style=\"color: #008000; text-decoration-color: #008000\">DEBUG   </span> Detected <span style=\"color: #008080; text-decoration-color: #008080; font-weight: bold\">445</span> total nodes                                                 <span style=\"color: #7f7f7f; text-decoration-color: #7f7f7f\">graphs.py:435</span>\n",
       "</pre>\n"
      ],
      "text/plain": [
       "\u001b[2;36m                   \u001b[0m\u001b[2;36m \u001b[0m\u001b[32mDEBUG   \u001b[0m Detected \u001b[1;36m445\u001b[0m total nodes                                                 \u001b[2mgraphs.py\u001b[0m\u001b[2m:\u001b[0m\u001b[2m435\u001b[0m\n"
      ]
     },
     "metadata": {},
     "output_type": "display_data"
    },
    {
     "data": {
      "text/html": [
       "<pre style=\"white-space:pre;overflow-x:auto;line-height:normal;font-family:Menlo,'DejaVu Sans Mono',consolas,'Courier New',monospace\">c:\\Users\\HUAWEI\\Desktop\\materiale \n",
       "magistrale\\CHL\\CHL-Project\\.venv\\lib\\site-packages\\graphein\\protein\\edges\\distance.py:1213: FutureWarning: The \n",
       "default value of numeric_only in DataFrameGroupBy.mean is deprecated. In a future version, numeric_only will \n",
       "default to False. Either specify numeric_only or select only columns which should be valid for the function.\n",
       "  .mean()[[\"x_coord\", \"y_coord\", \"z_coord\"]]\n",
       "</pre>\n"
      ],
      "text/plain": [
       "c:\\Users\\HUAWEI\\Desktop\\materiale \n",
       "magistrale\\CHL\\CHL-Project\\.venv\\lib\\site-packages\\graphein\\protein\\edges\\distance.py:1213: FutureWarning: The \n",
       "default value of numeric_only in DataFrameGroupBy.mean is deprecated. In a future version, numeric_only will \n",
       "default to False. Either specify numeric_only or select only columns which should be valid for the function.\n",
       "  .mean()[[\"x_coord\", \"y_coord\", \"z_coord\"]]\n"
      ]
     },
     "metadata": {},
     "output_type": "display_data"
    },
    {
     "data": {
      "text/html": [
       "<pre style=\"white-space:pre;overflow-x:auto;line-height:normal;font-family:Menlo,'DejaVu Sans Mono',consolas,'Courier New',monospace\">c:\\Users\\HUAWEI\\Desktop\\materiale \n",
       "magistrale\\CHL\\CHL-Project\\.venv\\lib\\site-packages\\graphein\\protein\\edges\\distance.py:1213: FutureWarning: The \n",
       "default value of numeric_only in DataFrameGroupBy.mean is deprecated. In a future version, numeric_only will \n",
       "default to False. Either specify numeric_only or select only columns which should be valid for the function.\n",
       "  .mean()[[\"x_coord\", \"y_coord\", \"z_coord\"]]\n",
       "</pre>\n"
      ],
      "text/plain": [
       "c:\\Users\\HUAWEI\\Desktop\\materiale \n",
       "magistrale\\CHL\\CHL-Project\\.venv\\lib\\site-packages\\graphein\\protein\\edges\\distance.py:1213: FutureWarning: The \n",
       "default value of numeric_only in DataFrameGroupBy.mean is deprecated. In a future version, numeric_only will \n",
       "default to False. Either specify numeric_only or select only columns which should be valid for the function.\n",
       "  .mean()[[\"x_coord\", \"y_coord\", \"z_coord\"]]\n"
      ]
     },
     "metadata": {},
     "output_type": "display_data"
    },
    {
     "data": {
      "text/html": [
       "<pre style=\"white-space:pre;overflow-x:auto;line-height:normal;font-family:Menlo,'DejaVu Sans Mono',consolas,'Courier New',monospace\">c:\\Users\\HUAWEI\\Desktop\\materiale \n",
       "magistrale\\CHL\\CHL-Project\\.venv\\lib\\site-packages\\graphein\\protein\\edges\\distance.py:1213: FutureWarning: The \n",
       "default value of numeric_only in DataFrameGroupBy.mean is deprecated. In a future version, numeric_only will \n",
       "default to False. Either specify numeric_only or select only columns which should be valid for the function.\n",
       "  .mean()[[\"x_coord\", \"y_coord\", \"z_coord\"]]\n",
       "</pre>\n"
      ],
      "text/plain": [
       "c:\\Users\\HUAWEI\\Desktop\\materiale \n",
       "magistrale\\CHL\\CHL-Project\\.venv\\lib\\site-packages\\graphein\\protein\\edges\\distance.py:1213: FutureWarning: The \n",
       "default value of numeric_only in DataFrameGroupBy.mean is deprecated. In a future version, numeric_only will \n",
       "default to False. Either specify numeric_only or select only columns which should be valid for the function.\n",
       "  .mean()[[\"x_coord\", \"y_coord\", \"z_coord\"]]\n"
      ]
     },
     "metadata": {},
     "output_type": "display_data"
    },
    {
     "data": {
      "text/html": [
       "<pre style=\"white-space:pre;overflow-x:auto;line-height:normal;font-family:Menlo,'DejaVu Sans Mono',consolas,'Courier New',monospace\"><span style=\"color: #7fbfbf; text-decoration-color: #7fbfbf\">[05/03/24 18:03:45] </span><span style=\"color: #000080; text-decoration-color: #000080\">INFO    </span> Found: <span style=\"color: #008080; text-decoration-color: #008080; font-weight: bold\">92</span> aromatic-aromatic interactions                               <span style=\"color: #7f7f7f; text-decoration-color: #7f7f7f\">distance.py:467</span>\n",
       "</pre>\n"
      ],
      "text/plain": [
       "\u001b[2;36m[05/03/24 18:03:45]\u001b[0m\u001b[2;36m \u001b[0m\u001b[34mINFO    \u001b[0m Found: \u001b[1;36m92\u001b[0m aromatic-aromatic interactions                               \u001b[2mdistance.py\u001b[0m\u001b[2m:\u001b[0m\u001b[2m467\u001b[0m\n"
      ]
     },
     "metadata": {},
     "output_type": "display_data"
    },
    {
     "data": {
      "text/html": [
       "<pre style=\"white-space:pre;overflow-x:auto;line-height:normal;font-family:Menlo,'DejaVu Sans Mono',consolas,'Courier New',monospace\"><span style=\"color: #7fbfbf; text-decoration-color: #7fbfbf\">                    </span><span style=\"color: #000080; text-decoration-color: #000080\">INFO    </span> Found <span style=\"color: #008080; text-decoration-color: #008080; font-weight: bold\">958</span> hydrophobic interactions.                                   <span style=\"color: #7f7f7f; text-decoration-color: #7f7f7f\">distance.py:1344</span>\n",
       "</pre>\n"
      ],
      "text/plain": [
       "\u001b[2;36m                   \u001b[0m\u001b[2;36m \u001b[0m\u001b[34mINFO    \u001b[0m Found \u001b[1;36m958\u001b[0m hydrophobic interactions.                                   \u001b[2mdistance.py\u001b[0m\u001b[2m:\u001b[0m\u001b[2m1344\u001b[0m\n"
      ]
     },
     "metadata": {},
     "output_type": "display_data"
    },
    {
     "data": {
      "text/html": [
       "<pre style=\"white-space:pre;overflow-x:auto;line-height:normal;font-family:Menlo,'DejaVu Sans Mono',consolas,'Courier New',monospace\"><span style=\"color: #7fbfbf; text-decoration-color: #7fbfbf\">                    </span><span style=\"color: #000080; text-decoration-color: #000080\">INFO    </span> Found <span style=\"color: #008080; text-decoration-color: #008080; font-weight: bold\">12</span> disulfide interactions.                                      <span style=\"color: #7f7f7f; text-decoration-color: #7f7f7f\">distance.py:1344</span>\n",
       "</pre>\n"
      ],
      "text/plain": [
       "\u001b[2;36m                   \u001b[0m\u001b[2;36m \u001b[0m\u001b[34mINFO    \u001b[0m Found \u001b[1;36m12\u001b[0m disulfide interactions.                                      \u001b[2mdistance.py\u001b[0m\u001b[2m:\u001b[0m\u001b[2m1344\u001b[0m\n"
      ]
     },
     "metadata": {},
     "output_type": "display_data"
    },
    {
     "data": {
      "text/html": [
       "<pre style=\"white-space:pre;overflow-x:auto;line-height:normal;font-family:Menlo,'DejaVu Sans Mono',consolas,'Courier New',monospace\"><span style=\"color: #7fbfbf; text-decoration-color: #7fbfbf\">                    </span><span style=\"color: #000080; text-decoration-color: #000080\">INFO    </span> Found <span style=\"color: #008080; text-decoration-color: #008080; font-weight: bold\">193</span> hbond interactions.                                         <span style=\"color: #7f7f7f; text-decoration-color: #7f7f7f\">distance.py:1344</span>\n",
       "</pre>\n"
      ],
      "text/plain": [
       "\u001b[2;36m                   \u001b[0m\u001b[2;36m \u001b[0m\u001b[34mINFO    \u001b[0m Found \u001b[1;36m193\u001b[0m hbond interactions.                                         \u001b[2mdistance.py\u001b[0m\u001b[2m:\u001b[0m\u001b[2m1344\u001b[0m\n"
      ]
     },
     "metadata": {},
     "output_type": "display_data"
    },
    {
     "data": {
      "text/html": [
       "<pre style=\"white-space:pre;overflow-x:auto;line-height:normal;font-family:Menlo,'DejaVu Sans Mono',consolas,'Courier New',monospace\"><span style=\"color: #7fbfbf; text-decoration-color: #7fbfbf\">                    </span><span style=\"color: #000080; text-decoration-color: #000080\">INFO    </span> Found <span style=\"color: #008080; text-decoration-color: #008080; font-weight: bold\">22</span> hbond interactions.                                          <span style=\"color: #7f7f7f; text-decoration-color: #7f7f7f\">distance.py:1344</span>\n",
       "</pre>\n"
      ],
      "text/plain": [
       "\u001b[2;36m                   \u001b[0m\u001b[2;36m \u001b[0m\u001b[34mINFO    \u001b[0m Found \u001b[1;36m22\u001b[0m hbond interactions.                                          \u001b[2mdistance.py\u001b[0m\u001b[2m:\u001b[0m\u001b[2m1344\u001b[0m\n"
      ]
     },
     "metadata": {},
     "output_type": "display_data"
    },
    {
     "data": {
      "text/html": [
       "<pre style=\"white-space:pre;overflow-x:auto;line-height:normal;font-family:Menlo,'DejaVu Sans Mono',consolas,'Courier New',monospace\"><span style=\"color: #7fbfbf; text-decoration-color: #7fbfbf\">                    </span><span style=\"color: #000080; text-decoration-color: #000080\">INFO    </span> Found <span style=\"color: #008080; text-decoration-color: #008080; font-weight: bold\">3493</span> ionic interactions.                                        <span style=\"color: #7f7f7f; text-decoration-color: #7f7f7f\">distance.py:1344</span>\n",
       "</pre>\n"
      ],
      "text/plain": [
       "\u001b[2;36m                   \u001b[0m\u001b[2;36m \u001b[0m\u001b[34mINFO    \u001b[0m Found \u001b[1;36m3493\u001b[0m ionic interactions.                                        \u001b[2mdistance.py\u001b[0m\u001b[2m:\u001b[0m\u001b[2m1344\u001b[0m\n"
      ]
     },
     "metadata": {},
     "output_type": "display_data"
    },
    {
     "data": {
      "text/html": [
       "<pre style=\"white-space:pre;overflow-x:auto;line-height:normal;font-family:Menlo,'DejaVu Sans Mono',consolas,'Courier New',monospace\"></pre>\n"
      ],
      "text/plain": []
     },
     "metadata": {},
     "output_type": "display_data"
    },
    {
     "data": {
      "text/html": [
       "<pre style=\"white-space:pre;overflow-x:auto;line-height:normal;font-family:Menlo,'DejaVu Sans Mono',consolas,'Courier New',monospace\">\n",
       "</pre>\n"
      ],
      "text/plain": [
       "\n"
      ]
     },
     "metadata": {},
     "output_type": "display_data"
    },
    {
     "data": {
      "application/vnd.jupyter.widget-view+json": {
       "model_id": "75814968e1c84ac5a39501fb13365712",
       "version_major": 2,
       "version_minor": 0
      },
      "text/plain": [
       "Output()"
      ]
     },
     "metadata": {},
     "output_type": "display_data"
    },
    {
     "data": {
      "text/html": [
       "<pre style=\"white-space:pre;overflow-x:auto;line-height:normal;font-family:Menlo,'DejaVu Sans Mono',consolas,'Courier New',monospace\"><span style=\"color: #7fbfbf; text-decoration-color: #7fbfbf\">                    </span><span style=\"color: #008000; text-decoration-color: #008000\">DEBUG   </span> Deprotonating protein. This removes H atoms from the pdb_df dataframe    <span style=\"color: #7f7f7f; text-decoration-color: #7f7f7f\">graphs.py:188</span>\n",
       "</pre>\n"
      ],
      "text/plain": [
       "\u001b[2;36m                   \u001b[0m\u001b[2;36m \u001b[0m\u001b[32mDEBUG   \u001b[0m Deprotonating protein. This removes H atoms from the pdb_df dataframe    \u001b[2mgraphs.py\u001b[0m\u001b[2m:\u001b[0m\u001b[2m188\u001b[0m\n"
      ]
     },
     "metadata": {},
     "output_type": "display_data"
    },
    {
     "data": {
      "text/html": [
       "<pre style=\"white-space:pre;overflow-x:auto;line-height:normal;font-family:Menlo,'DejaVu Sans Mono',consolas,'Courier New',monospace\"><span style=\"color: #7fbfbf; text-decoration-color: #7fbfbf\">                    </span><span style=\"color: #008000; text-decoration-color: #008000\">DEBUG   </span> Detected <span style=\"color: #008080; text-decoration-color: #008080; font-weight: bold\">445</span> total nodes                                                 <span style=\"color: #7f7f7f; text-decoration-color: #7f7f7f\">graphs.py:435</span>\n",
       "</pre>\n"
      ],
      "text/plain": [
       "\u001b[2;36m                   \u001b[0m\u001b[2;36m \u001b[0m\u001b[32mDEBUG   \u001b[0m Detected \u001b[1;36m445\u001b[0m total nodes                                                 \u001b[2mgraphs.py\u001b[0m\u001b[2m:\u001b[0m\u001b[2m435\u001b[0m\n"
      ]
     },
     "metadata": {},
     "output_type": "display_data"
    },
    {
     "data": {
      "text/html": [
       "<pre style=\"white-space:pre;overflow-x:auto;line-height:normal;font-family:Menlo,'DejaVu Sans Mono',consolas,'Courier New',monospace\">c:\\Users\\HUAWEI\\Desktop\\materiale \n",
       "magistrale\\CHL\\CHL-Project\\.venv\\lib\\site-packages\\graphein\\protein\\edges\\distance.py:1213: FutureWarning: The \n",
       "default value of numeric_only in DataFrameGroupBy.mean is deprecated. In a future version, numeric_only will \n",
       "default to False. Either specify numeric_only or select only columns which should be valid for the function.\n",
       "  .mean()[[\"x_coord\", \"y_coord\", \"z_coord\"]]\n",
       "</pre>\n"
      ],
      "text/plain": [
       "c:\\Users\\HUAWEI\\Desktop\\materiale \n",
       "magistrale\\CHL\\CHL-Project\\.venv\\lib\\site-packages\\graphein\\protein\\edges\\distance.py:1213: FutureWarning: The \n",
       "default value of numeric_only in DataFrameGroupBy.mean is deprecated. In a future version, numeric_only will \n",
       "default to False. Either specify numeric_only or select only columns which should be valid for the function.\n",
       "  .mean()[[\"x_coord\", \"y_coord\", \"z_coord\"]]\n"
      ]
     },
     "metadata": {},
     "output_type": "display_data"
    },
    {
     "data": {
      "text/html": [
       "<pre style=\"white-space:pre;overflow-x:auto;line-height:normal;font-family:Menlo,'DejaVu Sans Mono',consolas,'Courier New',monospace\">c:\\Users\\HUAWEI\\Desktop\\materiale \n",
       "magistrale\\CHL\\CHL-Project\\.venv\\lib\\site-packages\\graphein\\protein\\edges\\distance.py:1213: FutureWarning: The \n",
       "default value of numeric_only in DataFrameGroupBy.mean is deprecated. In a future version, numeric_only will \n",
       "default to False. Either specify numeric_only or select only columns which should be valid for the function.\n",
       "  .mean()[[\"x_coord\", \"y_coord\", \"z_coord\"]]\n",
       "</pre>\n"
      ],
      "text/plain": [
       "c:\\Users\\HUAWEI\\Desktop\\materiale \n",
       "magistrale\\CHL\\CHL-Project\\.venv\\lib\\site-packages\\graphein\\protein\\edges\\distance.py:1213: FutureWarning: The \n",
       "default value of numeric_only in DataFrameGroupBy.mean is deprecated. In a future version, numeric_only will \n",
       "default to False. Either specify numeric_only or select only columns which should be valid for the function.\n",
       "  .mean()[[\"x_coord\", \"y_coord\", \"z_coord\"]]\n"
      ]
     },
     "metadata": {},
     "output_type": "display_data"
    },
    {
     "data": {
      "text/html": [
       "<pre style=\"white-space:pre;overflow-x:auto;line-height:normal;font-family:Menlo,'DejaVu Sans Mono',consolas,'Courier New',monospace\">c:\\Users\\HUAWEI\\Desktop\\materiale \n",
       "magistrale\\CHL\\CHL-Project\\.venv\\lib\\site-packages\\graphein\\protein\\edges\\distance.py:1213: FutureWarning: The \n",
       "default value of numeric_only in DataFrameGroupBy.mean is deprecated. In a future version, numeric_only will \n",
       "default to False. Either specify numeric_only or select only columns which should be valid for the function.\n",
       "  .mean()[[\"x_coord\", \"y_coord\", \"z_coord\"]]\n",
       "</pre>\n"
      ],
      "text/plain": [
       "c:\\Users\\HUAWEI\\Desktop\\materiale \n",
       "magistrale\\CHL\\CHL-Project\\.venv\\lib\\site-packages\\graphein\\protein\\edges\\distance.py:1213: FutureWarning: The \n",
       "default value of numeric_only in DataFrameGroupBy.mean is deprecated. In a future version, numeric_only will \n",
       "default to False. Either specify numeric_only or select only columns which should be valid for the function.\n",
       "  .mean()[[\"x_coord\", \"y_coord\", \"z_coord\"]]\n"
      ]
     },
     "metadata": {},
     "output_type": "display_data"
    },
    {
     "data": {
      "text/html": [
       "<pre style=\"white-space:pre;overflow-x:auto;line-height:normal;font-family:Menlo,'DejaVu Sans Mono',consolas,'Courier New',monospace\">c:\\Users\\HUAWEI\\Desktop\\materiale \n",
       "magistrale\\CHL\\CHL-Project\\.venv\\lib\\site-packages\\graphein\\protein\\edges\\distance.py:1213: FutureWarning: The \n",
       "default value of numeric_only in DataFrameGroupBy.mean is deprecated. In a future version, numeric_only will \n",
       "default to False. Either specify numeric_only or select only columns which should be valid for the function.\n",
       "  .mean()[[\"x_coord\", \"y_coord\", \"z_coord\"]]\n",
       "</pre>\n"
      ],
      "text/plain": [
       "c:\\Users\\HUAWEI\\Desktop\\materiale \n",
       "magistrale\\CHL\\CHL-Project\\.venv\\lib\\site-packages\\graphein\\protein\\edges\\distance.py:1213: FutureWarning: The \n",
       "default value of numeric_only in DataFrameGroupBy.mean is deprecated. In a future version, numeric_only will \n",
       "default to False. Either specify numeric_only or select only columns which should be valid for the function.\n",
       "  .mean()[[\"x_coord\", \"y_coord\", \"z_coord\"]]\n"
      ]
     },
     "metadata": {},
     "output_type": "display_data"
    },
    {
     "data": {
      "text/html": [
       "<pre style=\"white-space:pre;overflow-x:auto;line-height:normal;font-family:Menlo,'DejaVu Sans Mono',consolas,'Courier New',monospace\"><span style=\"color: #7fbfbf; text-decoration-color: #7fbfbf\">[05/03/24 18:03:46] </span><span style=\"color: #000080; text-decoration-color: #000080\">INFO    </span> Found: <span style=\"color: #008080; text-decoration-color: #008080; font-weight: bold\">90</span> aromatic-aromatic interactions                               <span style=\"color: #7f7f7f; text-decoration-color: #7f7f7f\">distance.py:467</span>\n",
       "</pre>\n"
      ],
      "text/plain": [
       "\u001b[2;36m[05/03/24 18:03:46]\u001b[0m\u001b[2;36m \u001b[0m\u001b[34mINFO    \u001b[0m Found: \u001b[1;36m90\u001b[0m aromatic-aromatic interactions                               \u001b[2mdistance.py\u001b[0m\u001b[2m:\u001b[0m\u001b[2m467\u001b[0m\n"
      ]
     },
     "metadata": {},
     "output_type": "display_data"
    },
    {
     "data": {
      "text/html": [
       "<pre style=\"white-space:pre;overflow-x:auto;line-height:normal;font-family:Menlo,'DejaVu Sans Mono',consolas,'Courier New',monospace\"><span style=\"color: #7fbfbf; text-decoration-color: #7fbfbf\">                    </span><span style=\"color: #000080; text-decoration-color: #000080\">INFO    </span> Found <span style=\"color: #008080; text-decoration-color: #008080; font-weight: bold\">965</span> hydrophobic interactions.                                   <span style=\"color: #7f7f7f; text-decoration-color: #7f7f7f\">distance.py:1344</span>\n",
       "</pre>\n"
      ],
      "text/plain": [
       "\u001b[2;36m                   \u001b[0m\u001b[2;36m \u001b[0m\u001b[34mINFO    \u001b[0m Found \u001b[1;36m965\u001b[0m hydrophobic interactions.                                   \u001b[2mdistance.py\u001b[0m\u001b[2m:\u001b[0m\u001b[2m1344\u001b[0m\n"
      ]
     },
     "metadata": {},
     "output_type": "display_data"
    },
    {
     "data": {
      "text/html": [
       "<pre style=\"white-space:pre;overflow-x:auto;line-height:normal;font-family:Menlo,'DejaVu Sans Mono',consolas,'Courier New',monospace\"><span style=\"color: #7fbfbf; text-decoration-color: #7fbfbf\">                    </span><span style=\"color: #000080; text-decoration-color: #000080\">INFO    </span> Found <span style=\"color: #008080; text-decoration-color: #008080; font-weight: bold\">12</span> disulfide interactions.                                      <span style=\"color: #7f7f7f; text-decoration-color: #7f7f7f\">distance.py:1344</span>\n",
       "</pre>\n"
      ],
      "text/plain": [
       "\u001b[2;36m                   \u001b[0m\u001b[2;36m \u001b[0m\u001b[34mINFO    \u001b[0m Found \u001b[1;36m12\u001b[0m disulfide interactions.                                      \u001b[2mdistance.py\u001b[0m\u001b[2m:\u001b[0m\u001b[2m1344\u001b[0m\n"
      ]
     },
     "metadata": {},
     "output_type": "display_data"
    },
    {
     "data": {
      "text/html": [
       "<pre style=\"white-space:pre;overflow-x:auto;line-height:normal;font-family:Menlo,'DejaVu Sans Mono',consolas,'Courier New',monospace\"><span style=\"color: #7fbfbf; text-decoration-color: #7fbfbf\">                    </span><span style=\"color: #000080; text-decoration-color: #000080\">INFO    </span> Found <span style=\"color: #008080; text-decoration-color: #008080; font-weight: bold\">190</span> hbond interactions.                                         <span style=\"color: #7f7f7f; text-decoration-color: #7f7f7f\">distance.py:1344</span>\n",
       "</pre>\n"
      ],
      "text/plain": [
       "\u001b[2;36m                   \u001b[0m\u001b[2;36m \u001b[0m\u001b[34mINFO    \u001b[0m Found \u001b[1;36m190\u001b[0m hbond interactions.                                         \u001b[2mdistance.py\u001b[0m\u001b[2m:\u001b[0m\u001b[2m1344\u001b[0m\n"
      ]
     },
     "metadata": {},
     "output_type": "display_data"
    },
    {
     "data": {
      "text/html": [
       "<pre style=\"white-space:pre;overflow-x:auto;line-height:normal;font-family:Menlo,'DejaVu Sans Mono',consolas,'Courier New',monospace\"><span style=\"color: #7fbfbf; text-decoration-color: #7fbfbf\">                    </span><span style=\"color: #000080; text-decoration-color: #000080\">INFO    </span> Found <span style=\"color: #008080; text-decoration-color: #008080; font-weight: bold\">22</span> hbond interactions.                                          <span style=\"color: #7f7f7f; text-decoration-color: #7f7f7f\">distance.py:1344</span>\n",
       "</pre>\n"
      ],
      "text/plain": [
       "\u001b[2;36m                   \u001b[0m\u001b[2;36m \u001b[0m\u001b[34mINFO    \u001b[0m Found \u001b[1;36m22\u001b[0m hbond interactions.                                          \u001b[2mdistance.py\u001b[0m\u001b[2m:\u001b[0m\u001b[2m1344\u001b[0m\n"
      ]
     },
     "metadata": {},
     "output_type": "display_data"
    },
    {
     "data": {
      "text/html": [
       "<pre style=\"white-space:pre;overflow-x:auto;line-height:normal;font-family:Menlo,'DejaVu Sans Mono',consolas,'Courier New',monospace\"><span style=\"color: #7fbfbf; text-decoration-color: #7fbfbf\">                    </span><span style=\"color: #000080; text-decoration-color: #000080\">INFO    </span> Found <span style=\"color: #008080; text-decoration-color: #008080; font-weight: bold\">3499</span> ionic interactions.                                        <span style=\"color: #7f7f7f; text-decoration-color: #7f7f7f\">distance.py:1344</span>\n",
       "</pre>\n"
      ],
      "text/plain": [
       "\u001b[2;36m                   \u001b[0m\u001b[2;36m \u001b[0m\u001b[34mINFO    \u001b[0m Found \u001b[1;36m3499\u001b[0m ionic interactions.                                        \u001b[2mdistance.py\u001b[0m\u001b[2m:\u001b[0m\u001b[2m1344\u001b[0m\n"
      ]
     },
     "metadata": {},
     "output_type": "display_data"
    },
    {
     "data": {
      "text/html": [
       "<pre style=\"white-space:pre;overflow-x:auto;line-height:normal;font-family:Menlo,'DejaVu Sans Mono',consolas,'Courier New',monospace\"></pre>\n"
      ],
      "text/plain": []
     },
     "metadata": {},
     "output_type": "display_data"
    },
    {
     "data": {
      "text/html": [
       "<pre style=\"white-space:pre;overflow-x:auto;line-height:normal;font-family:Menlo,'DejaVu Sans Mono',consolas,'Courier New',monospace\">\n",
       "</pre>\n"
      ],
      "text/plain": [
       "\n"
      ]
     },
     "metadata": {},
     "output_type": "display_data"
    },
    {
     "data": {
      "application/vnd.jupyter.widget-view+json": {
       "model_id": "4bbb19def02e4341b0c100ff3ad664bc",
       "version_major": 2,
       "version_minor": 0
      },
      "text/plain": [
       "Output()"
      ]
     },
     "metadata": {},
     "output_type": "display_data"
    },
    {
     "data": {
      "text/html": [
       "<pre style=\"white-space:pre;overflow-x:auto;line-height:normal;font-family:Menlo,'DejaVu Sans Mono',consolas,'Courier New',monospace\"><span style=\"color: #7fbfbf; text-decoration-color: #7fbfbf\">                    </span><span style=\"color: #008000; text-decoration-color: #008000\">DEBUG   </span> Deprotonating protein. This removes H atoms from the pdb_df dataframe    <span style=\"color: #7f7f7f; text-decoration-color: #7f7f7f\">graphs.py:188</span>\n",
       "</pre>\n"
      ],
      "text/plain": [
       "\u001b[2;36m                   \u001b[0m\u001b[2;36m \u001b[0m\u001b[32mDEBUG   \u001b[0m Deprotonating protein. This removes H atoms from the pdb_df dataframe    \u001b[2mgraphs.py\u001b[0m\u001b[2m:\u001b[0m\u001b[2m188\u001b[0m\n"
      ]
     },
     "metadata": {},
     "output_type": "display_data"
    },
    {
     "data": {
      "text/html": [
       "<pre style=\"white-space:pre;overflow-x:auto;line-height:normal;font-family:Menlo,'DejaVu Sans Mono',consolas,'Courier New',monospace\"><span style=\"color: #7fbfbf; text-decoration-color: #7fbfbf\">                    </span><span style=\"color: #008000; text-decoration-color: #008000\">DEBUG   </span> Detected <span style=\"color: #008080; text-decoration-color: #008080; font-weight: bold\">445</span> total nodes                                                 <span style=\"color: #7f7f7f; text-decoration-color: #7f7f7f\">graphs.py:435</span>\n",
       "</pre>\n"
      ],
      "text/plain": [
       "\u001b[2;36m                   \u001b[0m\u001b[2;36m \u001b[0m\u001b[32mDEBUG   \u001b[0m Detected \u001b[1;36m445\u001b[0m total nodes                                                 \u001b[2mgraphs.py\u001b[0m\u001b[2m:\u001b[0m\u001b[2m435\u001b[0m\n"
      ]
     },
     "metadata": {},
     "output_type": "display_data"
    },
    {
     "data": {
      "text/html": [
       "<pre style=\"white-space:pre;overflow-x:auto;line-height:normal;font-family:Menlo,'DejaVu Sans Mono',consolas,'Courier New',monospace\">c:\\Users\\HUAWEI\\Desktop\\materiale \n",
       "magistrale\\CHL\\CHL-Project\\.venv\\lib\\site-packages\\graphein\\protein\\edges\\distance.py:1213: FutureWarning: The \n",
       "default value of numeric_only in DataFrameGroupBy.mean is deprecated. In a future version, numeric_only will \n",
       "default to False. Either specify numeric_only or select only columns which should be valid for the function.\n",
       "  .mean()[[\"x_coord\", \"y_coord\", \"z_coord\"]]\n",
       "</pre>\n"
      ],
      "text/plain": [
       "c:\\Users\\HUAWEI\\Desktop\\materiale \n",
       "magistrale\\CHL\\CHL-Project\\.venv\\lib\\site-packages\\graphein\\protein\\edges\\distance.py:1213: FutureWarning: The \n",
       "default value of numeric_only in DataFrameGroupBy.mean is deprecated. In a future version, numeric_only will \n",
       "default to False. Either specify numeric_only or select only columns which should be valid for the function.\n",
       "  .mean()[[\"x_coord\", \"y_coord\", \"z_coord\"]]\n"
      ]
     },
     "metadata": {},
     "output_type": "display_data"
    },
    {
     "data": {
      "text/html": [
       "<pre style=\"white-space:pre;overflow-x:auto;line-height:normal;font-family:Menlo,'DejaVu Sans Mono',consolas,'Courier New',monospace\">c:\\Users\\HUAWEI\\Desktop\\materiale \n",
       "magistrale\\CHL\\CHL-Project\\.venv\\lib\\site-packages\\graphein\\protein\\edges\\distance.py:1213: FutureWarning: The \n",
       "default value of numeric_only in DataFrameGroupBy.mean is deprecated. In a future version, numeric_only will \n",
       "default to False. Either specify numeric_only or select only columns which should be valid for the function.\n",
       "  .mean()[[\"x_coord\", \"y_coord\", \"z_coord\"]]\n",
       "</pre>\n"
      ],
      "text/plain": [
       "c:\\Users\\HUAWEI\\Desktop\\materiale \n",
       "magistrale\\CHL\\CHL-Project\\.venv\\lib\\site-packages\\graphein\\protein\\edges\\distance.py:1213: FutureWarning: The \n",
       "default value of numeric_only in DataFrameGroupBy.mean is deprecated. In a future version, numeric_only will \n",
       "default to False. Either specify numeric_only or select only columns which should be valid for the function.\n",
       "  .mean()[[\"x_coord\", \"y_coord\", \"z_coord\"]]\n"
      ]
     },
     "metadata": {},
     "output_type": "display_data"
    },
    {
     "data": {
      "text/html": [
       "<pre style=\"white-space:pre;overflow-x:auto;line-height:normal;font-family:Menlo,'DejaVu Sans Mono',consolas,'Courier New',monospace\">c:\\Users\\HUAWEI\\Desktop\\materiale \n",
       "magistrale\\CHL\\CHL-Project\\.venv\\lib\\site-packages\\graphein\\protein\\edges\\distance.py:1213: FutureWarning: The \n",
       "default value of numeric_only in DataFrameGroupBy.mean is deprecated. In a future version, numeric_only will \n",
       "default to False. Either specify numeric_only or select only columns which should be valid for the function.\n",
       "  .mean()[[\"x_coord\", \"y_coord\", \"z_coord\"]]\n",
       "</pre>\n"
      ],
      "text/plain": [
       "c:\\Users\\HUAWEI\\Desktop\\materiale \n",
       "magistrale\\CHL\\CHL-Project\\.venv\\lib\\site-packages\\graphein\\protein\\edges\\distance.py:1213: FutureWarning: The \n",
       "default value of numeric_only in DataFrameGroupBy.mean is deprecated. In a future version, numeric_only will \n",
       "default to False. Either specify numeric_only or select only columns which should be valid for the function.\n",
       "  .mean()[[\"x_coord\", \"y_coord\", \"z_coord\"]]\n"
      ]
     },
     "metadata": {},
     "output_type": "display_data"
    },
    {
     "data": {
      "text/html": [
       "<pre style=\"white-space:pre;overflow-x:auto;line-height:normal;font-family:Menlo,'DejaVu Sans Mono',consolas,'Courier New',monospace\"><span style=\"color: #7fbfbf; text-decoration-color: #7fbfbf\">[05/03/24 18:03:47] </span><span style=\"color: #000080; text-decoration-color: #000080\">INFO    </span> Found: <span style=\"color: #008080; text-decoration-color: #008080; font-weight: bold\">94</span> aromatic-aromatic interactions                               <span style=\"color: #7f7f7f; text-decoration-color: #7f7f7f\">distance.py:467</span>\n",
       "</pre>\n"
      ],
      "text/plain": [
       "\u001b[2;36m[05/03/24 18:03:47]\u001b[0m\u001b[2;36m \u001b[0m\u001b[34mINFO    \u001b[0m Found: \u001b[1;36m94\u001b[0m aromatic-aromatic interactions                               \u001b[2mdistance.py\u001b[0m\u001b[2m:\u001b[0m\u001b[2m467\u001b[0m\n"
      ]
     },
     "metadata": {},
     "output_type": "display_data"
    },
    {
     "data": {
      "text/html": [
       "<pre style=\"white-space:pre;overflow-x:auto;line-height:normal;font-family:Menlo,'DejaVu Sans Mono',consolas,'Courier New',monospace\"><span style=\"color: #7fbfbf; text-decoration-color: #7fbfbf\">                    </span><span style=\"color: #000080; text-decoration-color: #000080\">INFO    </span> Found <span style=\"color: #008080; text-decoration-color: #008080; font-weight: bold\">962</span> hydrophobic interactions.                                   <span style=\"color: #7f7f7f; text-decoration-color: #7f7f7f\">distance.py:1344</span>\n",
       "</pre>\n"
      ],
      "text/plain": [
       "\u001b[2;36m                   \u001b[0m\u001b[2;36m \u001b[0m\u001b[34mINFO    \u001b[0m Found \u001b[1;36m962\u001b[0m hydrophobic interactions.                                   \u001b[2mdistance.py\u001b[0m\u001b[2m:\u001b[0m\u001b[2m1344\u001b[0m\n"
      ]
     },
     "metadata": {},
     "output_type": "display_data"
    },
    {
     "data": {
      "text/html": [
       "<pre style=\"white-space:pre;overflow-x:auto;line-height:normal;font-family:Menlo,'DejaVu Sans Mono',consolas,'Courier New',monospace\"><span style=\"color: #7fbfbf; text-decoration-color: #7fbfbf\">                    </span><span style=\"color: #000080; text-decoration-color: #000080\">INFO    </span> Found <span style=\"color: #008080; text-decoration-color: #008080; font-weight: bold\">12</span> disulfide interactions.                                      <span style=\"color: #7f7f7f; text-decoration-color: #7f7f7f\">distance.py:1344</span>\n",
       "</pre>\n"
      ],
      "text/plain": [
       "\u001b[2;36m                   \u001b[0m\u001b[2;36m \u001b[0m\u001b[34mINFO    \u001b[0m Found \u001b[1;36m12\u001b[0m disulfide interactions.                                      \u001b[2mdistance.py\u001b[0m\u001b[2m:\u001b[0m\u001b[2m1344\u001b[0m\n"
      ]
     },
     "metadata": {},
     "output_type": "display_data"
    },
    {
     "data": {
      "text/html": [
       "<pre style=\"white-space:pre;overflow-x:auto;line-height:normal;font-family:Menlo,'DejaVu Sans Mono',consolas,'Courier New',monospace\"><span style=\"color: #7fbfbf; text-decoration-color: #7fbfbf\">                    </span><span style=\"color: #000080; text-decoration-color: #000080\">INFO    </span> Found <span style=\"color: #008080; text-decoration-color: #008080; font-weight: bold\">191</span> hbond interactions.                                         <span style=\"color: #7f7f7f; text-decoration-color: #7f7f7f\">distance.py:1344</span>\n",
       "</pre>\n"
      ],
      "text/plain": [
       "\u001b[2;36m                   \u001b[0m\u001b[2;36m \u001b[0m\u001b[34mINFO    \u001b[0m Found \u001b[1;36m191\u001b[0m hbond interactions.                                         \u001b[2mdistance.py\u001b[0m\u001b[2m:\u001b[0m\u001b[2m1344\u001b[0m\n"
      ]
     },
     "metadata": {},
     "output_type": "display_data"
    },
    {
     "data": {
      "text/html": [
       "<pre style=\"white-space:pre;overflow-x:auto;line-height:normal;font-family:Menlo,'DejaVu Sans Mono',consolas,'Courier New',monospace\"><span style=\"color: #7fbfbf; text-decoration-color: #7fbfbf\">                    </span><span style=\"color: #000080; text-decoration-color: #000080\">INFO    </span> Found <span style=\"color: #008080; text-decoration-color: #008080; font-weight: bold\">22</span> hbond interactions.                                          <span style=\"color: #7f7f7f; text-decoration-color: #7f7f7f\">distance.py:1344</span>\n",
       "</pre>\n"
      ],
      "text/plain": [
       "\u001b[2;36m                   \u001b[0m\u001b[2;36m \u001b[0m\u001b[34mINFO    \u001b[0m Found \u001b[1;36m22\u001b[0m hbond interactions.                                          \u001b[2mdistance.py\u001b[0m\u001b[2m:\u001b[0m\u001b[2m1344\u001b[0m\n"
      ]
     },
     "metadata": {},
     "output_type": "display_data"
    },
    {
     "data": {
      "text/html": [
       "<pre style=\"white-space:pre;overflow-x:auto;line-height:normal;font-family:Menlo,'DejaVu Sans Mono',consolas,'Courier New',monospace\"><span style=\"color: #7fbfbf; text-decoration-color: #7fbfbf\">                    </span><span style=\"color: #000080; text-decoration-color: #000080\">INFO    </span> Found <span style=\"color: #008080; text-decoration-color: #008080; font-weight: bold\">3497</span> ionic interactions.                                        <span style=\"color: #7f7f7f; text-decoration-color: #7f7f7f\">distance.py:1344</span>\n",
       "</pre>\n"
      ],
      "text/plain": [
       "\u001b[2;36m                   \u001b[0m\u001b[2;36m \u001b[0m\u001b[34mINFO    \u001b[0m Found \u001b[1;36m3497\u001b[0m ionic interactions.                                        \u001b[2mdistance.py\u001b[0m\u001b[2m:\u001b[0m\u001b[2m1344\u001b[0m\n"
      ]
     },
     "metadata": {},
     "output_type": "display_data"
    },
    {
     "data": {
      "text/html": [
       "<pre style=\"white-space:pre;overflow-x:auto;line-height:normal;font-family:Menlo,'DejaVu Sans Mono',consolas,'Courier New',monospace\"></pre>\n"
      ],
      "text/plain": []
     },
     "metadata": {},
     "output_type": "display_data"
    },
    {
     "data": {
      "text/html": [
       "<pre style=\"white-space:pre;overflow-x:auto;line-height:normal;font-family:Menlo,'DejaVu Sans Mono',consolas,'Courier New',monospace\">\n",
       "</pre>\n"
      ],
      "text/plain": [
       "\n"
      ]
     },
     "metadata": {},
     "output_type": "display_data"
    },
    {
     "data": {
      "application/vnd.jupyter.widget-view+json": {
       "model_id": "d9278b493eba4993ad99c1c265867beb",
       "version_major": 2,
       "version_minor": 0
      },
      "text/plain": [
       "Output()"
      ]
     },
     "metadata": {},
     "output_type": "display_data"
    },
    {
     "data": {
      "text/html": [
       "<pre style=\"white-space:pre;overflow-x:auto;line-height:normal;font-family:Menlo,'DejaVu Sans Mono',consolas,'Courier New',monospace\"><span style=\"color: #7fbfbf; text-decoration-color: #7fbfbf\">[05/03/24 18:03:48] </span><span style=\"color: #008000; text-decoration-color: #008000\">DEBUG   </span> Deprotonating protein. This removes H atoms from the pdb_df dataframe    <span style=\"color: #7f7f7f; text-decoration-color: #7f7f7f\">graphs.py:188</span>\n",
       "</pre>\n"
      ],
      "text/plain": [
       "\u001b[2;36m[05/03/24 18:03:48]\u001b[0m\u001b[2;36m \u001b[0m\u001b[32mDEBUG   \u001b[0m Deprotonating protein. This removes H atoms from the pdb_df dataframe    \u001b[2mgraphs.py\u001b[0m\u001b[2m:\u001b[0m\u001b[2m188\u001b[0m\n"
      ]
     },
     "metadata": {},
     "output_type": "display_data"
    },
    {
     "data": {
      "text/html": [
       "<pre style=\"white-space:pre;overflow-x:auto;line-height:normal;font-family:Menlo,'DejaVu Sans Mono',consolas,'Courier New',monospace\"><span style=\"color: #7fbfbf; text-decoration-color: #7fbfbf\">                    </span><span style=\"color: #008000; text-decoration-color: #008000\">DEBUG   </span> Detected <span style=\"color: #008080; text-decoration-color: #008080; font-weight: bold\">445</span> total nodes                                                 <span style=\"color: #7f7f7f; text-decoration-color: #7f7f7f\">graphs.py:435</span>\n",
       "</pre>\n"
      ],
      "text/plain": [
       "\u001b[2;36m                   \u001b[0m\u001b[2;36m \u001b[0m\u001b[32mDEBUG   \u001b[0m Detected \u001b[1;36m445\u001b[0m total nodes                                                 \u001b[2mgraphs.py\u001b[0m\u001b[2m:\u001b[0m\u001b[2m435\u001b[0m\n"
      ]
     },
     "metadata": {},
     "output_type": "display_data"
    },
    {
     "data": {
      "text/html": [
       "<pre style=\"white-space:pre;overflow-x:auto;line-height:normal;font-family:Menlo,'DejaVu Sans Mono',consolas,'Courier New',monospace\">c:\\Users\\HUAWEI\\Desktop\\materiale \n",
       "magistrale\\CHL\\CHL-Project\\.venv\\lib\\site-packages\\graphein\\protein\\edges\\distance.py:1213: FutureWarning: The \n",
       "default value of numeric_only in DataFrameGroupBy.mean is deprecated. In a future version, numeric_only will \n",
       "default to False. Either specify numeric_only or select only columns which should be valid for the function.\n",
       "  .mean()[[\"x_coord\", \"y_coord\", \"z_coord\"]]\n",
       "</pre>\n"
      ],
      "text/plain": [
       "c:\\Users\\HUAWEI\\Desktop\\materiale \n",
       "magistrale\\CHL\\CHL-Project\\.venv\\lib\\site-packages\\graphein\\protein\\edges\\distance.py:1213: FutureWarning: The \n",
       "default value of numeric_only in DataFrameGroupBy.mean is deprecated. In a future version, numeric_only will \n",
       "default to False. Either specify numeric_only or select only columns which should be valid for the function.\n",
       "  .mean()[[\"x_coord\", \"y_coord\", \"z_coord\"]]\n"
      ]
     },
     "metadata": {},
     "output_type": "display_data"
    },
    {
     "data": {
      "text/html": [
       "<pre style=\"white-space:pre;overflow-x:auto;line-height:normal;font-family:Menlo,'DejaVu Sans Mono',consolas,'Courier New',monospace\">c:\\Users\\HUAWEI\\Desktop\\materiale \n",
       "magistrale\\CHL\\CHL-Project\\.venv\\lib\\site-packages\\graphein\\protein\\edges\\distance.py:1213: FutureWarning: The \n",
       "default value of numeric_only in DataFrameGroupBy.mean is deprecated. In a future version, numeric_only will \n",
       "default to False. Either specify numeric_only or select only columns which should be valid for the function.\n",
       "  .mean()[[\"x_coord\", \"y_coord\", \"z_coord\"]]\n",
       "</pre>\n"
      ],
      "text/plain": [
       "c:\\Users\\HUAWEI\\Desktop\\materiale \n",
       "magistrale\\CHL\\CHL-Project\\.venv\\lib\\site-packages\\graphein\\protein\\edges\\distance.py:1213: FutureWarning: The \n",
       "default value of numeric_only in DataFrameGroupBy.mean is deprecated. In a future version, numeric_only will \n",
       "default to False. Either specify numeric_only or select only columns which should be valid for the function.\n",
       "  .mean()[[\"x_coord\", \"y_coord\", \"z_coord\"]]\n"
      ]
     },
     "metadata": {},
     "output_type": "display_data"
    },
    {
     "data": {
      "text/html": [
       "<pre style=\"white-space:pre;overflow-x:auto;line-height:normal;font-family:Menlo,'DejaVu Sans Mono',consolas,'Courier New',monospace\">c:\\Users\\HUAWEI\\Desktop\\materiale \n",
       "magistrale\\CHL\\CHL-Project\\.venv\\lib\\site-packages\\graphein\\protein\\edges\\distance.py:1213: FutureWarning: The \n",
       "default value of numeric_only in DataFrameGroupBy.mean is deprecated. In a future version, numeric_only will \n",
       "default to False. Either specify numeric_only or select only columns which should be valid for the function.\n",
       "  .mean()[[\"x_coord\", \"y_coord\", \"z_coord\"]]\n",
       "</pre>\n"
      ],
      "text/plain": [
       "c:\\Users\\HUAWEI\\Desktop\\materiale \n",
       "magistrale\\CHL\\CHL-Project\\.venv\\lib\\site-packages\\graphein\\protein\\edges\\distance.py:1213: FutureWarning: The \n",
       "default value of numeric_only in DataFrameGroupBy.mean is deprecated. In a future version, numeric_only will \n",
       "default to False. Either specify numeric_only or select only columns which should be valid for the function.\n",
       "  .mean()[[\"x_coord\", \"y_coord\", \"z_coord\"]]\n"
      ]
     },
     "metadata": {},
     "output_type": "display_data"
    },
    {
     "data": {
      "text/html": [
       "<pre style=\"white-space:pre;overflow-x:auto;line-height:normal;font-family:Menlo,'DejaVu Sans Mono',consolas,'Courier New',monospace\">c:\\Users\\HUAWEI\\Desktop\\materiale \n",
       "magistrale\\CHL\\CHL-Project\\.venv\\lib\\site-packages\\graphein\\protein\\edges\\distance.py:1213: FutureWarning: The \n",
       "default value of numeric_only in DataFrameGroupBy.mean is deprecated. In a future version, numeric_only will \n",
       "default to False. Either specify numeric_only or select only columns which should be valid for the function.\n",
       "  .mean()[[\"x_coord\", \"y_coord\", \"z_coord\"]]\n",
       "</pre>\n"
      ],
      "text/plain": [
       "c:\\Users\\HUAWEI\\Desktop\\materiale \n",
       "magistrale\\CHL\\CHL-Project\\.venv\\lib\\site-packages\\graphein\\protein\\edges\\distance.py:1213: FutureWarning: The \n",
       "default value of numeric_only in DataFrameGroupBy.mean is deprecated. In a future version, numeric_only will \n",
       "default to False. Either specify numeric_only or select only columns which should be valid for the function.\n",
       "  .mean()[[\"x_coord\", \"y_coord\", \"z_coord\"]]\n"
      ]
     },
     "metadata": {},
     "output_type": "display_data"
    },
    {
     "data": {
      "text/html": [
       "<pre style=\"white-space:pre;overflow-x:auto;line-height:normal;font-family:Menlo,'DejaVu Sans Mono',consolas,'Courier New',monospace\"><span style=\"color: #7fbfbf; text-decoration-color: #7fbfbf\">                    </span><span style=\"color: #000080; text-decoration-color: #000080\">INFO    </span> Found: <span style=\"color: #008080; text-decoration-color: #008080; font-weight: bold\">90</span> aromatic-aromatic interactions                               <span style=\"color: #7f7f7f; text-decoration-color: #7f7f7f\">distance.py:467</span>\n",
       "</pre>\n"
      ],
      "text/plain": [
       "\u001b[2;36m                   \u001b[0m\u001b[2;36m \u001b[0m\u001b[34mINFO    \u001b[0m Found: \u001b[1;36m90\u001b[0m aromatic-aromatic interactions                               \u001b[2mdistance.py\u001b[0m\u001b[2m:\u001b[0m\u001b[2m467\u001b[0m\n"
      ]
     },
     "metadata": {},
     "output_type": "display_data"
    },
    {
     "data": {
      "text/html": [
       "<pre style=\"white-space:pre;overflow-x:auto;line-height:normal;font-family:Menlo,'DejaVu Sans Mono',consolas,'Courier New',monospace\"><span style=\"color: #7fbfbf; text-decoration-color: #7fbfbf\">                    </span><span style=\"color: #000080; text-decoration-color: #000080\">INFO    </span> Found <span style=\"color: #008080; text-decoration-color: #008080; font-weight: bold\">966</span> hydrophobic interactions.                                   <span style=\"color: #7f7f7f; text-decoration-color: #7f7f7f\">distance.py:1344</span>\n",
       "</pre>\n"
      ],
      "text/plain": [
       "\u001b[2;36m                   \u001b[0m\u001b[2;36m \u001b[0m\u001b[34mINFO    \u001b[0m Found \u001b[1;36m966\u001b[0m hydrophobic interactions.                                   \u001b[2mdistance.py\u001b[0m\u001b[2m:\u001b[0m\u001b[2m1344\u001b[0m\n"
      ]
     },
     "metadata": {},
     "output_type": "display_data"
    },
    {
     "data": {
      "text/html": [
       "<pre style=\"white-space:pre;overflow-x:auto;line-height:normal;font-family:Menlo,'DejaVu Sans Mono',consolas,'Courier New',monospace\"><span style=\"color: #7fbfbf; text-decoration-color: #7fbfbf\">                    </span><span style=\"color: #000080; text-decoration-color: #000080\">INFO    </span> Found <span style=\"color: #008080; text-decoration-color: #008080; font-weight: bold\">12</span> disulfide interactions.                                      <span style=\"color: #7f7f7f; text-decoration-color: #7f7f7f\">distance.py:1344</span>\n",
       "</pre>\n"
      ],
      "text/plain": [
       "\u001b[2;36m                   \u001b[0m\u001b[2;36m \u001b[0m\u001b[34mINFO    \u001b[0m Found \u001b[1;36m12\u001b[0m disulfide interactions.                                      \u001b[2mdistance.py\u001b[0m\u001b[2m:\u001b[0m\u001b[2m1344\u001b[0m\n"
      ]
     },
     "metadata": {},
     "output_type": "display_data"
    },
    {
     "data": {
      "text/html": [
       "<pre style=\"white-space:pre;overflow-x:auto;line-height:normal;font-family:Menlo,'DejaVu Sans Mono',consolas,'Courier New',monospace\"><span style=\"color: #7fbfbf; text-decoration-color: #7fbfbf\">                    </span><span style=\"color: #000080; text-decoration-color: #000080\">INFO    </span> Found <span style=\"color: #008080; text-decoration-color: #008080; font-weight: bold\">193</span> hbond interactions.                                         <span style=\"color: #7f7f7f; text-decoration-color: #7f7f7f\">distance.py:1344</span>\n",
       "</pre>\n"
      ],
      "text/plain": [
       "\u001b[2;36m                   \u001b[0m\u001b[2;36m \u001b[0m\u001b[34mINFO    \u001b[0m Found \u001b[1;36m193\u001b[0m hbond interactions.                                         \u001b[2mdistance.py\u001b[0m\u001b[2m:\u001b[0m\u001b[2m1344\u001b[0m\n"
      ]
     },
     "metadata": {},
     "output_type": "display_data"
    },
    {
     "data": {
      "text/html": [
       "<pre style=\"white-space:pre;overflow-x:auto;line-height:normal;font-family:Menlo,'DejaVu Sans Mono',consolas,'Courier New',monospace\"><span style=\"color: #7fbfbf; text-decoration-color: #7fbfbf\">                    </span><span style=\"color: #000080; text-decoration-color: #000080\">INFO    </span> Found <span style=\"color: #008080; text-decoration-color: #008080; font-weight: bold\">22</span> hbond interactions.                                          <span style=\"color: #7f7f7f; text-decoration-color: #7f7f7f\">distance.py:1344</span>\n",
       "</pre>\n"
      ],
      "text/plain": [
       "\u001b[2;36m                   \u001b[0m\u001b[2;36m \u001b[0m\u001b[34mINFO    \u001b[0m Found \u001b[1;36m22\u001b[0m hbond interactions.                                          \u001b[2mdistance.py\u001b[0m\u001b[2m:\u001b[0m\u001b[2m1344\u001b[0m\n"
      ]
     },
     "metadata": {},
     "output_type": "display_data"
    },
    {
     "data": {
      "text/html": [
       "<pre style=\"white-space:pre;overflow-x:auto;line-height:normal;font-family:Menlo,'DejaVu Sans Mono',consolas,'Courier New',monospace\"><span style=\"color: #7fbfbf; text-decoration-color: #7fbfbf\">                    </span><span style=\"color: #000080; text-decoration-color: #000080\">INFO    </span> Found <span style=\"color: #008080; text-decoration-color: #008080; font-weight: bold\">3515</span> ionic interactions.                                        <span style=\"color: #7f7f7f; text-decoration-color: #7f7f7f\">distance.py:1344</span>\n",
       "</pre>\n"
      ],
      "text/plain": [
       "\u001b[2;36m                   \u001b[0m\u001b[2;36m \u001b[0m\u001b[34mINFO    \u001b[0m Found \u001b[1;36m3515\u001b[0m ionic interactions.                                        \u001b[2mdistance.py\u001b[0m\u001b[2m:\u001b[0m\u001b[2m1344\u001b[0m\n"
      ]
     },
     "metadata": {},
     "output_type": "display_data"
    },
    {
     "data": {
      "text/html": [
       "<pre style=\"white-space:pre;overflow-x:auto;line-height:normal;font-family:Menlo,'DejaVu Sans Mono',consolas,'Courier New',monospace\"></pre>\n"
      ],
      "text/plain": []
     },
     "metadata": {},
     "output_type": "display_data"
    },
    {
     "data": {
      "text/html": [
       "<pre style=\"white-space:pre;overflow-x:auto;line-height:normal;font-family:Menlo,'DejaVu Sans Mono',consolas,'Courier New',monospace\">\n",
       "</pre>\n"
      ],
      "text/plain": [
       "\n"
      ]
     },
     "metadata": {},
     "output_type": "display_data"
    },
    {
     "data": {
      "application/vnd.jupyter.widget-view+json": {
       "model_id": "df4e457ca4e04c4a8f47615e635e85b3",
       "version_major": 2,
       "version_minor": 0
      },
      "text/plain": [
       "Output()"
      ]
     },
     "metadata": {},
     "output_type": "display_data"
    },
    {
     "data": {
      "text/html": [
       "<pre style=\"white-space:pre;overflow-x:auto;line-height:normal;font-family:Menlo,'DejaVu Sans Mono',consolas,'Courier New',monospace\"><span style=\"color: #7fbfbf; text-decoration-color: #7fbfbf\">[05/03/24 18:03:49] </span><span style=\"color: #008000; text-decoration-color: #008000\">DEBUG   </span> Deprotonating protein. This removes H atoms from the pdb_df dataframe    <span style=\"color: #7f7f7f; text-decoration-color: #7f7f7f\">graphs.py:188</span>\n",
       "</pre>\n"
      ],
      "text/plain": [
       "\u001b[2;36m[05/03/24 18:03:49]\u001b[0m\u001b[2;36m \u001b[0m\u001b[32mDEBUG   \u001b[0m Deprotonating protein. This removes H atoms from the pdb_df dataframe    \u001b[2mgraphs.py\u001b[0m\u001b[2m:\u001b[0m\u001b[2m188\u001b[0m\n"
      ]
     },
     "metadata": {},
     "output_type": "display_data"
    },
    {
     "data": {
      "text/html": [
       "<pre style=\"white-space:pre;overflow-x:auto;line-height:normal;font-family:Menlo,'DejaVu Sans Mono',consolas,'Courier New',monospace\"><span style=\"color: #7fbfbf; text-decoration-color: #7fbfbf\">                    </span><span style=\"color: #008000; text-decoration-color: #008000\">DEBUG   </span> Detected <span style=\"color: #008080; text-decoration-color: #008080; font-weight: bold\">445</span> total nodes                                                 <span style=\"color: #7f7f7f; text-decoration-color: #7f7f7f\">graphs.py:435</span>\n",
       "</pre>\n"
      ],
      "text/plain": [
       "\u001b[2;36m                   \u001b[0m\u001b[2;36m \u001b[0m\u001b[32mDEBUG   \u001b[0m Detected \u001b[1;36m445\u001b[0m total nodes                                                 \u001b[2mgraphs.py\u001b[0m\u001b[2m:\u001b[0m\u001b[2m435\u001b[0m\n"
      ]
     },
     "metadata": {},
     "output_type": "display_data"
    },
    {
     "data": {
      "text/html": [
       "<pre style=\"white-space:pre;overflow-x:auto;line-height:normal;font-family:Menlo,'DejaVu Sans Mono',consolas,'Courier New',monospace\">c:\\Users\\HUAWEI\\Desktop\\materiale \n",
       "magistrale\\CHL\\CHL-Project\\.venv\\lib\\site-packages\\graphein\\protein\\edges\\distance.py:1213: FutureWarning: The \n",
       "default value of numeric_only in DataFrameGroupBy.mean is deprecated. In a future version, numeric_only will \n",
       "default to False. Either specify numeric_only or select only columns which should be valid for the function.\n",
       "  .mean()[[\"x_coord\", \"y_coord\", \"z_coord\"]]\n",
       "</pre>\n"
      ],
      "text/plain": [
       "c:\\Users\\HUAWEI\\Desktop\\materiale \n",
       "magistrale\\CHL\\CHL-Project\\.venv\\lib\\site-packages\\graphein\\protein\\edges\\distance.py:1213: FutureWarning: The \n",
       "default value of numeric_only in DataFrameGroupBy.mean is deprecated. In a future version, numeric_only will \n",
       "default to False. Either specify numeric_only or select only columns which should be valid for the function.\n",
       "  .mean()[[\"x_coord\", \"y_coord\", \"z_coord\"]]\n"
      ]
     },
     "metadata": {},
     "output_type": "display_data"
    },
    {
     "data": {
      "text/html": [
       "<pre style=\"white-space:pre;overflow-x:auto;line-height:normal;font-family:Menlo,'DejaVu Sans Mono',consolas,'Courier New',monospace\">c:\\Users\\HUAWEI\\Desktop\\materiale \n",
       "magistrale\\CHL\\CHL-Project\\.venv\\lib\\site-packages\\graphein\\protein\\edges\\distance.py:1213: FutureWarning: The \n",
       "default value of numeric_only in DataFrameGroupBy.mean is deprecated. In a future version, numeric_only will \n",
       "default to False. Either specify numeric_only or select only columns which should be valid for the function.\n",
       "  .mean()[[\"x_coord\", \"y_coord\", \"z_coord\"]]\n",
       "</pre>\n"
      ],
      "text/plain": [
       "c:\\Users\\HUAWEI\\Desktop\\materiale \n",
       "magistrale\\CHL\\CHL-Project\\.venv\\lib\\site-packages\\graphein\\protein\\edges\\distance.py:1213: FutureWarning: The \n",
       "default value of numeric_only in DataFrameGroupBy.mean is deprecated. In a future version, numeric_only will \n",
       "default to False. Either specify numeric_only or select only columns which should be valid for the function.\n",
       "  .mean()[[\"x_coord\", \"y_coord\", \"z_coord\"]]\n"
      ]
     },
     "metadata": {},
     "output_type": "display_data"
    },
    {
     "data": {
      "text/html": [
       "<pre style=\"white-space:pre;overflow-x:auto;line-height:normal;font-family:Menlo,'DejaVu Sans Mono',consolas,'Courier New',monospace\">c:\\Users\\HUAWEI\\Desktop\\materiale \n",
       "magistrale\\CHL\\CHL-Project\\.venv\\lib\\site-packages\\graphein\\protein\\edges\\distance.py:1213: FutureWarning: The \n",
       "default value of numeric_only in DataFrameGroupBy.mean is deprecated. In a future version, numeric_only will \n",
       "default to False. Either specify numeric_only or select only columns which should be valid for the function.\n",
       "  .mean()[[\"x_coord\", \"y_coord\", \"z_coord\"]]\n",
       "</pre>\n"
      ],
      "text/plain": [
       "c:\\Users\\HUAWEI\\Desktop\\materiale \n",
       "magistrale\\CHL\\CHL-Project\\.venv\\lib\\site-packages\\graphein\\protein\\edges\\distance.py:1213: FutureWarning: The \n",
       "default value of numeric_only in DataFrameGroupBy.mean is deprecated. In a future version, numeric_only will \n",
       "default to False. Either specify numeric_only or select only columns which should be valid for the function.\n",
       "  .mean()[[\"x_coord\", \"y_coord\", \"z_coord\"]]\n"
      ]
     },
     "metadata": {},
     "output_type": "display_data"
    },
    {
     "data": {
      "text/html": [
       "<pre style=\"white-space:pre;overflow-x:auto;line-height:normal;font-family:Menlo,'DejaVu Sans Mono',consolas,'Courier New',monospace\">c:\\Users\\HUAWEI\\Desktop\\materiale \n",
       "magistrale\\CHL\\CHL-Project\\.venv\\lib\\site-packages\\graphein\\protein\\edges\\distance.py:1213: FutureWarning: The \n",
       "default value of numeric_only in DataFrameGroupBy.mean is deprecated. In a future version, numeric_only will \n",
       "default to False. Either specify numeric_only or select only columns which should be valid for the function.\n",
       "  .mean()[[\"x_coord\", \"y_coord\", \"z_coord\"]]\n",
       "</pre>\n"
      ],
      "text/plain": [
       "c:\\Users\\HUAWEI\\Desktop\\materiale \n",
       "magistrale\\CHL\\CHL-Project\\.venv\\lib\\site-packages\\graphein\\protein\\edges\\distance.py:1213: FutureWarning: The \n",
       "default value of numeric_only in DataFrameGroupBy.mean is deprecated. In a future version, numeric_only will \n",
       "default to False. Either specify numeric_only or select only columns which should be valid for the function.\n",
       "  .mean()[[\"x_coord\", \"y_coord\", \"z_coord\"]]\n"
      ]
     },
     "metadata": {},
     "output_type": "display_data"
    },
    {
     "data": {
      "text/html": [
       "<pre style=\"white-space:pre;overflow-x:auto;line-height:normal;font-family:Menlo,'DejaVu Sans Mono',consolas,'Courier New',monospace\"><span style=\"color: #7fbfbf; text-decoration-color: #7fbfbf\">                    </span><span style=\"color: #000080; text-decoration-color: #000080\">INFO    </span> Found: <span style=\"color: #008080; text-decoration-color: #008080; font-weight: bold\">92</span> aromatic-aromatic interactions                               <span style=\"color: #7f7f7f; text-decoration-color: #7f7f7f\">distance.py:467</span>\n",
       "</pre>\n"
      ],
      "text/plain": [
       "\u001b[2;36m                   \u001b[0m\u001b[2;36m \u001b[0m\u001b[34mINFO    \u001b[0m Found: \u001b[1;36m92\u001b[0m aromatic-aromatic interactions                               \u001b[2mdistance.py\u001b[0m\u001b[2m:\u001b[0m\u001b[2m467\u001b[0m\n"
      ]
     },
     "metadata": {},
     "output_type": "display_data"
    },
    {
     "data": {
      "text/html": [
       "<pre style=\"white-space:pre;overflow-x:auto;line-height:normal;font-family:Menlo,'DejaVu Sans Mono',consolas,'Courier New',monospace\"><span style=\"color: #7fbfbf; text-decoration-color: #7fbfbf\">                    </span><span style=\"color: #000080; text-decoration-color: #000080\">INFO    </span> Found <span style=\"color: #008080; text-decoration-color: #008080; font-weight: bold\">960</span> hydrophobic interactions.                                   <span style=\"color: #7f7f7f; text-decoration-color: #7f7f7f\">distance.py:1344</span>\n",
       "</pre>\n"
      ],
      "text/plain": [
       "\u001b[2;36m                   \u001b[0m\u001b[2;36m \u001b[0m\u001b[34mINFO    \u001b[0m Found \u001b[1;36m960\u001b[0m hydrophobic interactions.                                   \u001b[2mdistance.py\u001b[0m\u001b[2m:\u001b[0m\u001b[2m1344\u001b[0m\n"
      ]
     },
     "metadata": {},
     "output_type": "display_data"
    },
    {
     "data": {
      "text/html": [
       "<pre style=\"white-space:pre;overflow-x:auto;line-height:normal;font-family:Menlo,'DejaVu Sans Mono',consolas,'Courier New',monospace\"><span style=\"color: #7fbfbf; text-decoration-color: #7fbfbf\">[05/03/24 18:03:50] </span><span style=\"color: #000080; text-decoration-color: #000080\">INFO    </span> Found <span style=\"color: #008080; text-decoration-color: #008080; font-weight: bold\">12</span> disulfide interactions.                                      <span style=\"color: #7f7f7f; text-decoration-color: #7f7f7f\">distance.py:1344</span>\n",
       "</pre>\n"
      ],
      "text/plain": [
       "\u001b[2;36m[05/03/24 18:03:50]\u001b[0m\u001b[2;36m \u001b[0m\u001b[34mINFO    \u001b[0m Found \u001b[1;36m12\u001b[0m disulfide interactions.                                      \u001b[2mdistance.py\u001b[0m\u001b[2m:\u001b[0m\u001b[2m1344\u001b[0m\n"
      ]
     },
     "metadata": {},
     "output_type": "display_data"
    },
    {
     "data": {
      "text/html": [
       "<pre style=\"white-space:pre;overflow-x:auto;line-height:normal;font-family:Menlo,'DejaVu Sans Mono',consolas,'Courier New',monospace\"><span style=\"color: #7fbfbf; text-decoration-color: #7fbfbf\">                    </span><span style=\"color: #000080; text-decoration-color: #000080\">INFO    </span> Found <span style=\"color: #008080; text-decoration-color: #008080; font-weight: bold\">191</span> hbond interactions.                                         <span style=\"color: #7f7f7f; text-decoration-color: #7f7f7f\">distance.py:1344</span>\n",
       "</pre>\n"
      ],
      "text/plain": [
       "\u001b[2;36m                   \u001b[0m\u001b[2;36m \u001b[0m\u001b[34mINFO    \u001b[0m Found \u001b[1;36m191\u001b[0m hbond interactions.                                         \u001b[2mdistance.py\u001b[0m\u001b[2m:\u001b[0m\u001b[2m1344\u001b[0m\n"
      ]
     },
     "metadata": {},
     "output_type": "display_data"
    },
    {
     "data": {
      "text/html": [
       "<pre style=\"white-space:pre;overflow-x:auto;line-height:normal;font-family:Menlo,'DejaVu Sans Mono',consolas,'Courier New',monospace\"><span style=\"color: #7fbfbf; text-decoration-color: #7fbfbf\">                    </span><span style=\"color: #000080; text-decoration-color: #000080\">INFO    </span> Found <span style=\"color: #008080; text-decoration-color: #008080; font-weight: bold\">22</span> hbond interactions.                                          <span style=\"color: #7f7f7f; text-decoration-color: #7f7f7f\">distance.py:1344</span>\n",
       "</pre>\n"
      ],
      "text/plain": [
       "\u001b[2;36m                   \u001b[0m\u001b[2;36m \u001b[0m\u001b[34mINFO    \u001b[0m Found \u001b[1;36m22\u001b[0m hbond interactions.                                          \u001b[2mdistance.py\u001b[0m\u001b[2m:\u001b[0m\u001b[2m1344\u001b[0m\n"
      ]
     },
     "metadata": {},
     "output_type": "display_data"
    },
    {
     "data": {
      "text/html": [
       "<pre style=\"white-space:pre;overflow-x:auto;line-height:normal;font-family:Menlo,'DejaVu Sans Mono',consolas,'Courier New',monospace\"><span style=\"color: #7fbfbf; text-decoration-color: #7fbfbf\">                    </span><span style=\"color: #000080; text-decoration-color: #000080\">INFO    </span> Found <span style=\"color: #008080; text-decoration-color: #008080; font-weight: bold\">3531</span> ionic interactions.                                        <span style=\"color: #7f7f7f; text-decoration-color: #7f7f7f\">distance.py:1344</span>\n",
       "</pre>\n"
      ],
      "text/plain": [
       "\u001b[2;36m                   \u001b[0m\u001b[2;36m \u001b[0m\u001b[34mINFO    \u001b[0m Found \u001b[1;36m3531\u001b[0m ionic interactions.                                        \u001b[2mdistance.py\u001b[0m\u001b[2m:\u001b[0m\u001b[2m1344\u001b[0m\n"
      ]
     },
     "metadata": {},
     "output_type": "display_data"
    },
    {
     "data": {
      "text/html": [
       "<pre style=\"white-space:pre;overflow-x:auto;line-height:normal;font-family:Menlo,'DejaVu Sans Mono',consolas,'Courier New',monospace\"></pre>\n"
      ],
      "text/plain": []
     },
     "metadata": {},
     "output_type": "display_data"
    },
    {
     "data": {
      "text/html": [
       "<pre style=\"white-space:pre;overflow-x:auto;line-height:normal;font-family:Menlo,'DejaVu Sans Mono',consolas,'Courier New',monospace\">\n",
       "</pre>\n"
      ],
      "text/plain": [
       "\n"
      ]
     },
     "metadata": {},
     "output_type": "display_data"
    },
    {
     "data": {
      "application/vnd.jupyter.widget-view+json": {
       "model_id": "4847e8a4e8574866ae4244f4e8ac57b3",
       "version_major": 2,
       "version_minor": 0
      },
      "text/plain": [
       "Output()"
      ]
     },
     "metadata": {},
     "output_type": "display_data"
    },
    {
     "data": {
      "text/html": [
       "<pre style=\"white-space:pre;overflow-x:auto;line-height:normal;font-family:Menlo,'DejaVu Sans Mono',consolas,'Courier New',monospace\"><span style=\"color: #7fbfbf; text-decoration-color: #7fbfbf\">                    </span><span style=\"color: #008000; text-decoration-color: #008000\">DEBUG   </span> Deprotonating protein. This removes H atoms from the pdb_df dataframe    <span style=\"color: #7f7f7f; text-decoration-color: #7f7f7f\">graphs.py:188</span>\n",
       "</pre>\n"
      ],
      "text/plain": [
       "\u001b[2;36m                   \u001b[0m\u001b[2;36m \u001b[0m\u001b[32mDEBUG   \u001b[0m Deprotonating protein. This removes H atoms from the pdb_df dataframe    \u001b[2mgraphs.py\u001b[0m\u001b[2m:\u001b[0m\u001b[2m188\u001b[0m\n"
      ]
     },
     "metadata": {},
     "output_type": "display_data"
    },
    {
     "data": {
      "text/html": [
       "<pre style=\"white-space:pre;overflow-x:auto;line-height:normal;font-family:Menlo,'DejaVu Sans Mono',consolas,'Courier New',monospace\"><span style=\"color: #7fbfbf; text-decoration-color: #7fbfbf\">                    </span><span style=\"color: #008000; text-decoration-color: #008000\">DEBUG   </span> Detected <span style=\"color: #008080; text-decoration-color: #008080; font-weight: bold\">445</span> total nodes                                                 <span style=\"color: #7f7f7f; text-decoration-color: #7f7f7f\">graphs.py:435</span>\n",
       "</pre>\n"
      ],
      "text/plain": [
       "\u001b[2;36m                   \u001b[0m\u001b[2;36m \u001b[0m\u001b[32mDEBUG   \u001b[0m Detected \u001b[1;36m445\u001b[0m total nodes                                                 \u001b[2mgraphs.py\u001b[0m\u001b[2m:\u001b[0m\u001b[2m435\u001b[0m\n"
      ]
     },
     "metadata": {},
     "output_type": "display_data"
    },
    {
     "data": {
      "text/html": [
       "<pre style=\"white-space:pre;overflow-x:auto;line-height:normal;font-family:Menlo,'DejaVu Sans Mono',consolas,'Courier New',monospace\">c:\\Users\\HUAWEI\\Desktop\\materiale \n",
       "magistrale\\CHL\\CHL-Project\\.venv\\lib\\site-packages\\graphein\\protein\\edges\\distance.py:1213: FutureWarning: The \n",
       "default value of numeric_only in DataFrameGroupBy.mean is deprecated. In a future version, numeric_only will \n",
       "default to False. Either specify numeric_only or select only columns which should be valid for the function.\n",
       "  .mean()[[\"x_coord\", \"y_coord\", \"z_coord\"]]\n",
       "</pre>\n"
      ],
      "text/plain": [
       "c:\\Users\\HUAWEI\\Desktop\\materiale \n",
       "magistrale\\CHL\\CHL-Project\\.venv\\lib\\site-packages\\graphein\\protein\\edges\\distance.py:1213: FutureWarning: The \n",
       "default value of numeric_only in DataFrameGroupBy.mean is deprecated. In a future version, numeric_only will \n",
       "default to False. Either specify numeric_only or select only columns which should be valid for the function.\n",
       "  .mean()[[\"x_coord\", \"y_coord\", \"z_coord\"]]\n"
      ]
     },
     "metadata": {},
     "output_type": "display_data"
    },
    {
     "data": {
      "text/html": [
       "<pre style=\"white-space:pre;overflow-x:auto;line-height:normal;font-family:Menlo,'DejaVu Sans Mono',consolas,'Courier New',monospace\">c:\\Users\\HUAWEI\\Desktop\\materiale \n",
       "magistrale\\CHL\\CHL-Project\\.venv\\lib\\site-packages\\graphein\\protein\\edges\\distance.py:1213: FutureWarning: The \n",
       "default value of numeric_only in DataFrameGroupBy.mean is deprecated. In a future version, numeric_only will \n",
       "default to False. Either specify numeric_only or select only columns which should be valid for the function.\n",
       "  .mean()[[\"x_coord\", \"y_coord\", \"z_coord\"]]\n",
       "</pre>\n"
      ],
      "text/plain": [
       "c:\\Users\\HUAWEI\\Desktop\\materiale \n",
       "magistrale\\CHL\\CHL-Project\\.venv\\lib\\site-packages\\graphein\\protein\\edges\\distance.py:1213: FutureWarning: The \n",
       "default value of numeric_only in DataFrameGroupBy.mean is deprecated. In a future version, numeric_only will \n",
       "default to False. Either specify numeric_only or select only columns which should be valid for the function.\n",
       "  .mean()[[\"x_coord\", \"y_coord\", \"z_coord\"]]\n"
      ]
     },
     "metadata": {},
     "output_type": "display_data"
    },
    {
     "data": {
      "text/html": [
       "<pre style=\"white-space:pre;overflow-x:auto;line-height:normal;font-family:Menlo,'DejaVu Sans Mono',consolas,'Courier New',monospace\">c:\\Users\\HUAWEI\\Desktop\\materiale \n",
       "magistrale\\CHL\\CHL-Project\\.venv\\lib\\site-packages\\graphein\\protein\\edges\\distance.py:1213: FutureWarning: The \n",
       "default value of numeric_only in DataFrameGroupBy.mean is deprecated. In a future version, numeric_only will \n",
       "default to False. Either specify numeric_only or select only columns which should be valid for the function.\n",
       "  .mean()[[\"x_coord\", \"y_coord\", \"z_coord\"]]\n",
       "</pre>\n"
      ],
      "text/plain": [
       "c:\\Users\\HUAWEI\\Desktop\\materiale \n",
       "magistrale\\CHL\\CHL-Project\\.venv\\lib\\site-packages\\graphein\\protein\\edges\\distance.py:1213: FutureWarning: The \n",
       "default value of numeric_only in DataFrameGroupBy.mean is deprecated. In a future version, numeric_only will \n",
       "default to False. Either specify numeric_only or select only columns which should be valid for the function.\n",
       "  .mean()[[\"x_coord\", \"y_coord\", \"z_coord\"]]\n"
      ]
     },
     "metadata": {},
     "output_type": "display_data"
    },
    {
     "data": {
      "text/html": [
       "<pre style=\"white-space:pre;overflow-x:auto;line-height:normal;font-family:Menlo,'DejaVu Sans Mono',consolas,'Courier New',monospace\">c:\\Users\\HUAWEI\\Desktop\\materiale \n",
       "magistrale\\CHL\\CHL-Project\\.venv\\lib\\site-packages\\graphein\\protein\\edges\\distance.py:1213: FutureWarning: The \n",
       "default value of numeric_only in DataFrameGroupBy.mean is deprecated. In a future version, numeric_only will \n",
       "default to False. Either specify numeric_only or select only columns which should be valid for the function.\n",
       "  .mean()[[\"x_coord\", \"y_coord\", \"z_coord\"]]\n",
       "</pre>\n"
      ],
      "text/plain": [
       "c:\\Users\\HUAWEI\\Desktop\\materiale \n",
       "magistrale\\CHL\\CHL-Project\\.venv\\lib\\site-packages\\graphein\\protein\\edges\\distance.py:1213: FutureWarning: The \n",
       "default value of numeric_only in DataFrameGroupBy.mean is deprecated. In a future version, numeric_only will \n",
       "default to False. Either specify numeric_only or select only columns which should be valid for the function.\n",
       "  .mean()[[\"x_coord\", \"y_coord\", \"z_coord\"]]\n"
      ]
     },
     "metadata": {},
     "output_type": "display_data"
    },
    {
     "data": {
      "text/html": [
       "<pre style=\"white-space:pre;overflow-x:auto;line-height:normal;font-family:Menlo,'DejaVu Sans Mono',consolas,'Courier New',monospace\"><span style=\"color: #7fbfbf; text-decoration-color: #7fbfbf\">                    </span><span style=\"color: #000080; text-decoration-color: #000080\">INFO    </span> Found: <span style=\"color: #008080; text-decoration-color: #008080; font-weight: bold\">98</span> aromatic-aromatic interactions                               <span style=\"color: #7f7f7f; text-decoration-color: #7f7f7f\">distance.py:467</span>\n",
       "</pre>\n"
      ],
      "text/plain": [
       "\u001b[2;36m                   \u001b[0m\u001b[2;36m \u001b[0m\u001b[34mINFO    \u001b[0m Found: \u001b[1;36m98\u001b[0m aromatic-aromatic interactions                               \u001b[2mdistance.py\u001b[0m\u001b[2m:\u001b[0m\u001b[2m467\u001b[0m\n"
      ]
     },
     "metadata": {},
     "output_type": "display_data"
    },
    {
     "data": {
      "text/html": [
       "<pre style=\"white-space:pre;overflow-x:auto;line-height:normal;font-family:Menlo,'DejaVu Sans Mono',consolas,'Courier New',monospace\"><span style=\"color: #7fbfbf; text-decoration-color: #7fbfbf\">                    </span><span style=\"color: #000080; text-decoration-color: #000080\">INFO    </span> Found <span style=\"color: #008080; text-decoration-color: #008080; font-weight: bold\">962</span> hydrophobic interactions.                                   <span style=\"color: #7f7f7f; text-decoration-color: #7f7f7f\">distance.py:1344</span>\n",
       "</pre>\n"
      ],
      "text/plain": [
       "\u001b[2;36m                   \u001b[0m\u001b[2;36m \u001b[0m\u001b[34mINFO    \u001b[0m Found \u001b[1;36m962\u001b[0m hydrophobic interactions.                                   \u001b[2mdistance.py\u001b[0m\u001b[2m:\u001b[0m\u001b[2m1344\u001b[0m\n"
      ]
     },
     "metadata": {},
     "output_type": "display_data"
    },
    {
     "data": {
      "text/html": [
       "<pre style=\"white-space:pre;overflow-x:auto;line-height:normal;font-family:Menlo,'DejaVu Sans Mono',consolas,'Courier New',monospace\"><span style=\"color: #7fbfbf; text-decoration-color: #7fbfbf\">                    </span><span style=\"color: #000080; text-decoration-color: #000080\">INFO    </span> Found <span style=\"color: #008080; text-decoration-color: #008080; font-weight: bold\">193</span> hbond interactions.                                         <span style=\"color: #7f7f7f; text-decoration-color: #7f7f7f\">distance.py:1344</span>\n",
       "</pre>\n"
      ],
      "text/plain": [
       "\u001b[2;36m                   \u001b[0m\u001b[2;36m \u001b[0m\u001b[34mINFO    \u001b[0m Found \u001b[1;36m193\u001b[0m hbond interactions.                                         \u001b[2mdistance.py\u001b[0m\u001b[2m:\u001b[0m\u001b[2m1344\u001b[0m\n"
      ]
     },
     "metadata": {},
     "output_type": "display_data"
    },
    {
     "data": {
      "text/html": [
       "<pre style=\"white-space:pre;overflow-x:auto;line-height:normal;font-family:Menlo,'DejaVu Sans Mono',consolas,'Courier New',monospace\"><span style=\"color: #7fbfbf; text-decoration-color: #7fbfbf\">                    </span><span style=\"color: #000080; text-decoration-color: #000080\">INFO    </span> Found <span style=\"color: #008080; text-decoration-color: #008080; font-weight: bold\">22</span> hbond interactions.                                          <span style=\"color: #7f7f7f; text-decoration-color: #7f7f7f\">distance.py:1344</span>\n",
       "</pre>\n"
      ],
      "text/plain": [
       "\u001b[2;36m                   \u001b[0m\u001b[2;36m \u001b[0m\u001b[34mINFO    \u001b[0m Found \u001b[1;36m22\u001b[0m hbond interactions.                                          \u001b[2mdistance.py\u001b[0m\u001b[2m:\u001b[0m\u001b[2m1344\u001b[0m\n"
      ]
     },
     "metadata": {},
     "output_type": "display_data"
    },
    {
     "data": {
      "text/html": [
       "<pre style=\"white-space:pre;overflow-x:auto;line-height:normal;font-family:Menlo,'DejaVu Sans Mono',consolas,'Courier New',monospace\"><span style=\"color: #7fbfbf; text-decoration-color: #7fbfbf\">                    </span><span style=\"color: #000080; text-decoration-color: #000080\">INFO    </span> Found <span style=\"color: #008080; text-decoration-color: #008080; font-weight: bold\">3515</span> ionic interactions.                                        <span style=\"color: #7f7f7f; text-decoration-color: #7f7f7f\">distance.py:1344</span>\n",
       "</pre>\n"
      ],
      "text/plain": [
       "\u001b[2;36m                   \u001b[0m\u001b[2;36m \u001b[0m\u001b[34mINFO    \u001b[0m Found \u001b[1;36m3515\u001b[0m ionic interactions.                                        \u001b[2mdistance.py\u001b[0m\u001b[2m:\u001b[0m\u001b[2m1344\u001b[0m\n"
      ]
     },
     "metadata": {},
     "output_type": "display_data"
    },
    {
     "data": {
      "text/html": [
       "<pre style=\"white-space:pre;overflow-x:auto;line-height:normal;font-family:Menlo,'DejaVu Sans Mono',consolas,'Courier New',monospace\"></pre>\n"
      ],
      "text/plain": []
     },
     "metadata": {},
     "output_type": "display_data"
    },
    {
     "data": {
      "text/html": [
       "<pre style=\"white-space:pre;overflow-x:auto;line-height:normal;font-family:Menlo,'DejaVu Sans Mono',consolas,'Courier New',monospace\">\n",
       "</pre>\n"
      ],
      "text/plain": [
       "\n"
      ]
     },
     "metadata": {},
     "output_type": "display_data"
    },
    {
     "data": {
      "application/vnd.jupyter.widget-view+json": {
       "model_id": "113e17cae544449295a3bc9a1c69ecf1",
       "version_major": 2,
       "version_minor": 0
      },
      "text/plain": [
       "Output()"
      ]
     },
     "metadata": {},
     "output_type": "display_data"
    },
    {
     "data": {
      "text/html": [
       "<pre style=\"white-space:pre;overflow-x:auto;line-height:normal;font-family:Menlo,'DejaVu Sans Mono',consolas,'Courier New',monospace\"><span style=\"color: #7fbfbf; text-decoration-color: #7fbfbf\">                    </span><span style=\"color: #008000; text-decoration-color: #008000\">DEBUG   </span> Deprotonating protein. This removes H atoms from the pdb_df dataframe    <span style=\"color: #7f7f7f; text-decoration-color: #7f7f7f\">graphs.py:188</span>\n",
       "</pre>\n"
      ],
      "text/plain": [
       "\u001b[2;36m                   \u001b[0m\u001b[2;36m \u001b[0m\u001b[32mDEBUG   \u001b[0m Deprotonating protein. This removes H atoms from the pdb_df dataframe    \u001b[2mgraphs.py\u001b[0m\u001b[2m:\u001b[0m\u001b[2m188\u001b[0m\n"
      ]
     },
     "metadata": {},
     "output_type": "display_data"
    },
    {
     "data": {
      "text/html": [
       "<pre style=\"white-space:pre;overflow-x:auto;line-height:normal;font-family:Menlo,'DejaVu Sans Mono',consolas,'Courier New',monospace\"><span style=\"color: #7fbfbf; text-decoration-color: #7fbfbf\">                    </span><span style=\"color: #008000; text-decoration-color: #008000\">DEBUG   </span> Detected <span style=\"color: #008080; text-decoration-color: #008080; font-weight: bold\">445</span> total nodes                                                 <span style=\"color: #7f7f7f; text-decoration-color: #7f7f7f\">graphs.py:435</span>\n",
       "</pre>\n"
      ],
      "text/plain": [
       "\u001b[2;36m                   \u001b[0m\u001b[2;36m \u001b[0m\u001b[32mDEBUG   \u001b[0m Detected \u001b[1;36m445\u001b[0m total nodes                                                 \u001b[2mgraphs.py\u001b[0m\u001b[2m:\u001b[0m\u001b[2m435\u001b[0m\n"
      ]
     },
     "metadata": {},
     "output_type": "display_data"
    },
    {
     "data": {
      "text/html": [
       "<pre style=\"white-space:pre;overflow-x:auto;line-height:normal;font-family:Menlo,'DejaVu Sans Mono',consolas,'Courier New',monospace\">c:\\Users\\HUAWEI\\Desktop\\materiale \n",
       "magistrale\\CHL\\CHL-Project\\.venv\\lib\\site-packages\\graphein\\protein\\edges\\distance.py:1213: FutureWarning: The \n",
       "default value of numeric_only in DataFrameGroupBy.mean is deprecated. In a future version, numeric_only will \n",
       "default to False. Either specify numeric_only or select only columns which should be valid for the function.\n",
       "  .mean()[[\"x_coord\", \"y_coord\", \"z_coord\"]]\n",
       "</pre>\n"
      ],
      "text/plain": [
       "c:\\Users\\HUAWEI\\Desktop\\materiale \n",
       "magistrale\\CHL\\CHL-Project\\.venv\\lib\\site-packages\\graphein\\protein\\edges\\distance.py:1213: FutureWarning: The \n",
       "default value of numeric_only in DataFrameGroupBy.mean is deprecated. In a future version, numeric_only will \n",
       "default to False. Either specify numeric_only or select only columns which should be valid for the function.\n",
       "  .mean()[[\"x_coord\", \"y_coord\", \"z_coord\"]]\n"
      ]
     },
     "metadata": {},
     "output_type": "display_data"
    },
    {
     "data": {
      "text/html": [
       "<pre style=\"white-space:pre;overflow-x:auto;line-height:normal;font-family:Menlo,'DejaVu Sans Mono',consolas,'Courier New',monospace\">c:\\Users\\HUAWEI\\Desktop\\materiale \n",
       "magistrale\\CHL\\CHL-Project\\.venv\\lib\\site-packages\\graphein\\protein\\edges\\distance.py:1213: FutureWarning: The \n",
       "default value of numeric_only in DataFrameGroupBy.mean is deprecated. In a future version, numeric_only will \n",
       "default to False. Either specify numeric_only or select only columns which should be valid for the function.\n",
       "  .mean()[[\"x_coord\", \"y_coord\", \"z_coord\"]]\n",
       "</pre>\n"
      ],
      "text/plain": [
       "c:\\Users\\HUAWEI\\Desktop\\materiale \n",
       "magistrale\\CHL\\CHL-Project\\.venv\\lib\\site-packages\\graphein\\protein\\edges\\distance.py:1213: FutureWarning: The \n",
       "default value of numeric_only in DataFrameGroupBy.mean is deprecated. In a future version, numeric_only will \n",
       "default to False. Either specify numeric_only or select only columns which should be valid for the function.\n",
       "  .mean()[[\"x_coord\", \"y_coord\", \"z_coord\"]]\n"
      ]
     },
     "metadata": {},
     "output_type": "display_data"
    },
    {
     "data": {
      "text/html": [
       "<pre style=\"white-space:pre;overflow-x:auto;line-height:normal;font-family:Menlo,'DejaVu Sans Mono',consolas,'Courier New',monospace\">c:\\Users\\HUAWEI\\Desktop\\materiale \n",
       "magistrale\\CHL\\CHL-Project\\.venv\\lib\\site-packages\\graphein\\protein\\edges\\distance.py:1213: FutureWarning: The \n",
       "default value of numeric_only in DataFrameGroupBy.mean is deprecated. In a future version, numeric_only will \n",
       "default to False. Either specify numeric_only or select only columns which should be valid for the function.\n",
       "  .mean()[[\"x_coord\", \"y_coord\", \"z_coord\"]]\n",
       "</pre>\n"
      ],
      "text/plain": [
       "c:\\Users\\HUAWEI\\Desktop\\materiale \n",
       "magistrale\\CHL\\CHL-Project\\.venv\\lib\\site-packages\\graphein\\protein\\edges\\distance.py:1213: FutureWarning: The \n",
       "default value of numeric_only in DataFrameGroupBy.mean is deprecated. In a future version, numeric_only will \n",
       "default to False. Either specify numeric_only or select only columns which should be valid for the function.\n",
       "  .mean()[[\"x_coord\", \"y_coord\", \"z_coord\"]]\n"
      ]
     },
     "metadata": {},
     "output_type": "display_data"
    },
    {
     "data": {
      "text/html": [
       "<pre style=\"white-space:pre;overflow-x:auto;line-height:normal;font-family:Menlo,'DejaVu Sans Mono',consolas,'Courier New',monospace\">c:\\Users\\HUAWEI\\Desktop\\materiale \n",
       "magistrale\\CHL\\CHL-Project\\.venv\\lib\\site-packages\\graphein\\protein\\edges\\distance.py:1213: FutureWarning: The \n",
       "default value of numeric_only in DataFrameGroupBy.mean is deprecated. In a future version, numeric_only will \n",
       "default to False. Either specify numeric_only or select only columns which should be valid for the function.\n",
       "  .mean()[[\"x_coord\", \"y_coord\", \"z_coord\"]]\n",
       "</pre>\n"
      ],
      "text/plain": [
       "c:\\Users\\HUAWEI\\Desktop\\materiale \n",
       "magistrale\\CHL\\CHL-Project\\.venv\\lib\\site-packages\\graphein\\protein\\edges\\distance.py:1213: FutureWarning: The \n",
       "default value of numeric_only in DataFrameGroupBy.mean is deprecated. In a future version, numeric_only will \n",
       "default to False. Either specify numeric_only or select only columns which should be valid for the function.\n",
       "  .mean()[[\"x_coord\", \"y_coord\", \"z_coord\"]]\n"
      ]
     },
     "metadata": {},
     "output_type": "display_data"
    },
    {
     "data": {
      "text/html": [
       "<pre style=\"white-space:pre;overflow-x:auto;line-height:normal;font-family:Menlo,'DejaVu Sans Mono',consolas,'Courier New',monospace\"><span style=\"color: #7fbfbf; text-decoration-color: #7fbfbf\">                    </span><span style=\"color: #000080; text-decoration-color: #000080\">INFO    </span> Found: <span style=\"color: #008080; text-decoration-color: #008080; font-weight: bold\">96</span> aromatic-aromatic interactions                               <span style=\"color: #7f7f7f; text-decoration-color: #7f7f7f\">distance.py:467</span>\n",
       "</pre>\n"
      ],
      "text/plain": [
       "\u001b[2;36m                   \u001b[0m\u001b[2;36m \u001b[0m\u001b[34mINFO    \u001b[0m Found: \u001b[1;36m96\u001b[0m aromatic-aromatic interactions                               \u001b[2mdistance.py\u001b[0m\u001b[2m:\u001b[0m\u001b[2m467\u001b[0m\n"
      ]
     },
     "metadata": {},
     "output_type": "display_data"
    },
    {
     "data": {
      "text/html": [
       "<pre style=\"white-space:pre;overflow-x:auto;line-height:normal;font-family:Menlo,'DejaVu Sans Mono',consolas,'Courier New',monospace\"><span style=\"color: #7fbfbf; text-decoration-color: #7fbfbf\">                    </span><span style=\"color: #000080; text-decoration-color: #000080\">INFO    </span> Found <span style=\"color: #008080; text-decoration-color: #008080; font-weight: bold\">964</span> hydrophobic interactions.                                   <span style=\"color: #7f7f7f; text-decoration-color: #7f7f7f\">distance.py:1344</span>\n",
       "</pre>\n"
      ],
      "text/plain": [
       "\u001b[2;36m                   \u001b[0m\u001b[2;36m \u001b[0m\u001b[34mINFO    \u001b[0m Found \u001b[1;36m964\u001b[0m hydrophobic interactions.                                   \u001b[2mdistance.py\u001b[0m\u001b[2m:\u001b[0m\u001b[2m1344\u001b[0m\n"
      ]
     },
     "metadata": {},
     "output_type": "display_data"
    },
    {
     "data": {
      "text/html": [
       "<pre style=\"white-space:pre;overflow-x:auto;line-height:normal;font-family:Menlo,'DejaVu Sans Mono',consolas,'Courier New',monospace\"><span style=\"color: #7fbfbf; text-decoration-color: #7fbfbf\">[05/03/24 18:03:52] </span><span style=\"color: #000080; text-decoration-color: #000080\">INFO    </span> Found <span style=\"color: #008080; text-decoration-color: #008080; font-weight: bold\">12</span> disulfide interactions.                                      <span style=\"color: #7f7f7f; text-decoration-color: #7f7f7f\">distance.py:1344</span>\n",
       "</pre>\n"
      ],
      "text/plain": [
       "\u001b[2;36m[05/03/24 18:03:52]\u001b[0m\u001b[2;36m \u001b[0m\u001b[34mINFO    \u001b[0m Found \u001b[1;36m12\u001b[0m disulfide interactions.                                      \u001b[2mdistance.py\u001b[0m\u001b[2m:\u001b[0m\u001b[2m1344\u001b[0m\n"
      ]
     },
     "metadata": {},
     "output_type": "display_data"
    },
    {
     "data": {
      "text/html": [
       "<pre style=\"white-space:pre;overflow-x:auto;line-height:normal;font-family:Menlo,'DejaVu Sans Mono',consolas,'Courier New',monospace\"><span style=\"color: #7fbfbf; text-decoration-color: #7fbfbf\">                    </span><span style=\"color: #000080; text-decoration-color: #000080\">INFO    </span> Found <span style=\"color: #008080; text-decoration-color: #008080; font-weight: bold\">191</span> hbond interactions.                                         <span style=\"color: #7f7f7f; text-decoration-color: #7f7f7f\">distance.py:1344</span>\n",
       "</pre>\n"
      ],
      "text/plain": [
       "\u001b[2;36m                   \u001b[0m\u001b[2;36m \u001b[0m\u001b[34mINFO    \u001b[0m Found \u001b[1;36m191\u001b[0m hbond interactions.                                         \u001b[2mdistance.py\u001b[0m\u001b[2m:\u001b[0m\u001b[2m1344\u001b[0m\n"
      ]
     },
     "metadata": {},
     "output_type": "display_data"
    },
    {
     "data": {
      "text/html": [
       "<pre style=\"white-space:pre;overflow-x:auto;line-height:normal;font-family:Menlo,'DejaVu Sans Mono',consolas,'Courier New',monospace\"><span style=\"color: #7fbfbf; text-decoration-color: #7fbfbf\">                    </span><span style=\"color: #000080; text-decoration-color: #000080\">INFO    </span> Found <span style=\"color: #008080; text-decoration-color: #008080; font-weight: bold\">22</span> hbond interactions.                                          <span style=\"color: #7f7f7f; text-decoration-color: #7f7f7f\">distance.py:1344</span>\n",
       "</pre>\n"
      ],
      "text/plain": [
       "\u001b[2;36m                   \u001b[0m\u001b[2;36m \u001b[0m\u001b[34mINFO    \u001b[0m Found \u001b[1;36m22\u001b[0m hbond interactions.                                          \u001b[2mdistance.py\u001b[0m\u001b[2m:\u001b[0m\u001b[2m1344\u001b[0m\n"
      ]
     },
     "metadata": {},
     "output_type": "display_data"
    },
    {
     "data": {
      "text/html": [
       "<pre style=\"white-space:pre;overflow-x:auto;line-height:normal;font-family:Menlo,'DejaVu Sans Mono',consolas,'Courier New',monospace\"><span style=\"color: #7fbfbf; text-decoration-color: #7fbfbf\">                    </span><span style=\"color: #000080; text-decoration-color: #000080\">INFO    </span> Found <span style=\"color: #008080; text-decoration-color: #008080; font-weight: bold\">3521</span> ionic interactions.                                        <span style=\"color: #7f7f7f; text-decoration-color: #7f7f7f\">distance.py:1344</span>\n",
       "</pre>\n"
      ],
      "text/plain": [
       "\u001b[2;36m                   \u001b[0m\u001b[2;36m \u001b[0m\u001b[34mINFO    \u001b[0m Found \u001b[1;36m3521\u001b[0m ionic interactions.                                        \u001b[2mdistance.py\u001b[0m\u001b[2m:\u001b[0m\u001b[2m1344\u001b[0m\n"
      ]
     },
     "metadata": {},
     "output_type": "display_data"
    },
    {
     "data": {
      "text/html": [
       "<pre style=\"white-space:pre;overflow-x:auto;line-height:normal;font-family:Menlo,'DejaVu Sans Mono',consolas,'Courier New',monospace\"></pre>\n"
      ],
      "text/plain": []
     },
     "metadata": {},
     "output_type": "display_data"
    },
    {
     "data": {
      "text/html": [
       "<pre style=\"white-space:pre;overflow-x:auto;line-height:normal;font-family:Menlo,'DejaVu Sans Mono',consolas,'Courier New',monospace\">\n",
       "</pre>\n"
      ],
      "text/plain": [
       "\n"
      ]
     },
     "metadata": {},
     "output_type": "display_data"
    },
    {
     "data": {
      "application/vnd.jupyter.widget-view+json": {
       "model_id": "f578cae9944248dcb90252a2ea361eaf",
       "version_major": 2,
       "version_minor": 0
      },
      "text/plain": [
       "Output()"
      ]
     },
     "metadata": {},
     "output_type": "display_data"
    },
    {
     "data": {
      "text/html": [
       "<pre style=\"white-space:pre;overflow-x:auto;line-height:normal;font-family:Menlo,'DejaVu Sans Mono',consolas,'Courier New',monospace\"><span style=\"color: #7fbfbf; text-decoration-color: #7fbfbf\">[05/03/24 18:03:53] </span><span style=\"color: #008000; text-decoration-color: #008000\">DEBUG   </span> Deprotonating protein. This removes H atoms from the pdb_df dataframe    <span style=\"color: #7f7f7f; text-decoration-color: #7f7f7f\">graphs.py:188</span>\n",
       "</pre>\n"
      ],
      "text/plain": [
       "\u001b[2;36m[05/03/24 18:03:53]\u001b[0m\u001b[2;36m \u001b[0m\u001b[32mDEBUG   \u001b[0m Deprotonating protein. This removes H atoms from the pdb_df dataframe    \u001b[2mgraphs.py\u001b[0m\u001b[2m:\u001b[0m\u001b[2m188\u001b[0m\n"
      ]
     },
     "metadata": {},
     "output_type": "display_data"
    },
    {
     "data": {
      "text/html": [
       "<pre style=\"white-space:pre;overflow-x:auto;line-height:normal;font-family:Menlo,'DejaVu Sans Mono',consolas,'Courier New',monospace\"><span style=\"color: #7fbfbf; text-decoration-color: #7fbfbf\">                    </span><span style=\"color: #008000; text-decoration-color: #008000\">DEBUG   </span> Detected <span style=\"color: #008080; text-decoration-color: #008080; font-weight: bold\">445</span> total nodes                                                 <span style=\"color: #7f7f7f; text-decoration-color: #7f7f7f\">graphs.py:435</span>\n",
       "</pre>\n"
      ],
      "text/plain": [
       "\u001b[2;36m                   \u001b[0m\u001b[2;36m \u001b[0m\u001b[32mDEBUG   \u001b[0m Detected \u001b[1;36m445\u001b[0m total nodes                                                 \u001b[2mgraphs.py\u001b[0m\u001b[2m:\u001b[0m\u001b[2m435\u001b[0m\n"
      ]
     },
     "metadata": {},
     "output_type": "display_data"
    },
    {
     "data": {
      "text/html": [
       "<pre style=\"white-space:pre;overflow-x:auto;line-height:normal;font-family:Menlo,'DejaVu Sans Mono',consolas,'Courier New',monospace\">c:\\Users\\HUAWEI\\Desktop\\materiale \n",
       "magistrale\\CHL\\CHL-Project\\.venv\\lib\\site-packages\\graphein\\protein\\edges\\distance.py:1213: FutureWarning: The \n",
       "default value of numeric_only in DataFrameGroupBy.mean is deprecated. In a future version, numeric_only will \n",
       "default to False. Either specify numeric_only or select only columns which should be valid for the function.\n",
       "  .mean()[[\"x_coord\", \"y_coord\", \"z_coord\"]]\n",
       "</pre>\n"
      ],
      "text/plain": [
       "c:\\Users\\HUAWEI\\Desktop\\materiale \n",
       "magistrale\\CHL\\CHL-Project\\.venv\\lib\\site-packages\\graphein\\protein\\edges\\distance.py:1213: FutureWarning: The \n",
       "default value of numeric_only in DataFrameGroupBy.mean is deprecated. In a future version, numeric_only will \n",
       "default to False. Either specify numeric_only or select only columns which should be valid for the function.\n",
       "  .mean()[[\"x_coord\", \"y_coord\", \"z_coord\"]]\n"
      ]
     },
     "metadata": {},
     "output_type": "display_data"
    },
    {
     "data": {
      "text/html": [
       "<pre style=\"white-space:pre;overflow-x:auto;line-height:normal;font-family:Menlo,'DejaVu Sans Mono',consolas,'Courier New',monospace\">c:\\Users\\HUAWEI\\Desktop\\materiale \n",
       "magistrale\\CHL\\CHL-Project\\.venv\\lib\\site-packages\\graphein\\protein\\edges\\distance.py:1213: FutureWarning: The \n",
       "default value of numeric_only in DataFrameGroupBy.mean is deprecated. In a future version, numeric_only will \n",
       "default to False. Either specify numeric_only or select only columns which should be valid for the function.\n",
       "  .mean()[[\"x_coord\", \"y_coord\", \"z_coord\"]]\n",
       "</pre>\n"
      ],
      "text/plain": [
       "c:\\Users\\HUAWEI\\Desktop\\materiale \n",
       "magistrale\\CHL\\CHL-Project\\.venv\\lib\\site-packages\\graphein\\protein\\edges\\distance.py:1213: FutureWarning: The \n",
       "default value of numeric_only in DataFrameGroupBy.mean is deprecated. In a future version, numeric_only will \n",
       "default to False. Either specify numeric_only or select only columns which should be valid for the function.\n",
       "  .mean()[[\"x_coord\", \"y_coord\", \"z_coord\"]]\n"
      ]
     },
     "metadata": {},
     "output_type": "display_data"
    },
    {
     "data": {
      "text/html": [
       "<pre style=\"white-space:pre;overflow-x:auto;line-height:normal;font-family:Menlo,'DejaVu Sans Mono',consolas,'Courier New',monospace\">c:\\Users\\HUAWEI\\Desktop\\materiale \n",
       "magistrale\\CHL\\CHL-Project\\.venv\\lib\\site-packages\\graphein\\protein\\edges\\distance.py:1213: FutureWarning: The \n",
       "default value of numeric_only in DataFrameGroupBy.mean is deprecated. In a future version, numeric_only will \n",
       "default to False. Either specify numeric_only or select only columns which should be valid for the function.\n",
       "  .mean()[[\"x_coord\", \"y_coord\", \"z_coord\"]]\n",
       "</pre>\n"
      ],
      "text/plain": [
       "c:\\Users\\HUAWEI\\Desktop\\materiale \n",
       "magistrale\\CHL\\CHL-Project\\.venv\\lib\\site-packages\\graphein\\protein\\edges\\distance.py:1213: FutureWarning: The \n",
       "default value of numeric_only in DataFrameGroupBy.mean is deprecated. In a future version, numeric_only will \n",
       "default to False. Either specify numeric_only or select only columns which should be valid for the function.\n",
       "  .mean()[[\"x_coord\", \"y_coord\", \"z_coord\"]]\n"
      ]
     },
     "metadata": {},
     "output_type": "display_data"
    },
    {
     "data": {
      "text/html": [
       "<pre style=\"white-space:pre;overflow-x:auto;line-height:normal;font-family:Menlo,'DejaVu Sans Mono',consolas,'Courier New',monospace\">c:\\Users\\HUAWEI\\Desktop\\materiale \n",
       "magistrale\\CHL\\CHL-Project\\.venv\\lib\\site-packages\\graphein\\protein\\edges\\distance.py:1213: FutureWarning: The \n",
       "default value of numeric_only in DataFrameGroupBy.mean is deprecated. In a future version, numeric_only will \n",
       "default to False. Either specify numeric_only or select only columns which should be valid for the function.\n",
       "  .mean()[[\"x_coord\", \"y_coord\", \"z_coord\"]]\n",
       "</pre>\n"
      ],
      "text/plain": [
       "c:\\Users\\HUAWEI\\Desktop\\materiale \n",
       "magistrale\\CHL\\CHL-Project\\.venv\\lib\\site-packages\\graphein\\protein\\edges\\distance.py:1213: FutureWarning: The \n",
       "default value of numeric_only in DataFrameGroupBy.mean is deprecated. In a future version, numeric_only will \n",
       "default to False. Either specify numeric_only or select only columns which should be valid for the function.\n",
       "  .mean()[[\"x_coord\", \"y_coord\", \"z_coord\"]]\n"
      ]
     },
     "metadata": {},
     "output_type": "display_data"
    },
    {
     "data": {
      "text/html": [
       "<pre style=\"white-space:pre;overflow-x:auto;line-height:normal;font-family:Menlo,'DejaVu Sans Mono',consolas,'Courier New',monospace\"><span style=\"color: #7fbfbf; text-decoration-color: #7fbfbf\">                    </span><span style=\"color: #000080; text-decoration-color: #000080\">INFO    </span> Found: <span style=\"color: #008080; text-decoration-color: #008080; font-weight: bold\">90</span> aromatic-aromatic interactions                               <span style=\"color: #7f7f7f; text-decoration-color: #7f7f7f\">distance.py:467</span>\n",
       "</pre>\n"
      ],
      "text/plain": [
       "\u001b[2;36m                   \u001b[0m\u001b[2;36m \u001b[0m\u001b[34mINFO    \u001b[0m Found: \u001b[1;36m90\u001b[0m aromatic-aromatic interactions                               \u001b[2mdistance.py\u001b[0m\u001b[2m:\u001b[0m\u001b[2m467\u001b[0m\n"
      ]
     },
     "metadata": {},
     "output_type": "display_data"
    },
    {
     "data": {
      "text/html": [
       "<pre style=\"white-space:pre;overflow-x:auto;line-height:normal;font-family:Menlo,'DejaVu Sans Mono',consolas,'Courier New',monospace\"><span style=\"color: #7fbfbf; text-decoration-color: #7fbfbf\">                    </span><span style=\"color: #000080; text-decoration-color: #000080\">INFO    </span> Found <span style=\"color: #008080; text-decoration-color: #008080; font-weight: bold\">960</span> hydrophobic interactions.                                   <span style=\"color: #7f7f7f; text-decoration-color: #7f7f7f\">distance.py:1344</span>\n",
       "</pre>\n"
      ],
      "text/plain": [
       "\u001b[2;36m                   \u001b[0m\u001b[2;36m \u001b[0m\u001b[34mINFO    \u001b[0m Found \u001b[1;36m960\u001b[0m hydrophobic interactions.                                   \u001b[2mdistance.py\u001b[0m\u001b[2m:\u001b[0m\u001b[2m1344\u001b[0m\n"
      ]
     },
     "metadata": {},
     "output_type": "display_data"
    },
    {
     "data": {
      "text/html": [
       "<pre style=\"white-space:pre;overflow-x:auto;line-height:normal;font-family:Menlo,'DejaVu Sans Mono',consolas,'Courier New',monospace\"><span style=\"color: #7fbfbf; text-decoration-color: #7fbfbf\">                    </span><span style=\"color: #000080; text-decoration-color: #000080\">INFO    </span> Found <span style=\"color: #008080; text-decoration-color: #008080; font-weight: bold\">12</span> disulfide interactions.                                      <span style=\"color: #7f7f7f; text-decoration-color: #7f7f7f\">distance.py:1344</span>\n",
       "</pre>\n"
      ],
      "text/plain": [
       "\u001b[2;36m                   \u001b[0m\u001b[2;36m \u001b[0m\u001b[34mINFO    \u001b[0m Found \u001b[1;36m12\u001b[0m disulfide interactions.                                      \u001b[2mdistance.py\u001b[0m\u001b[2m:\u001b[0m\u001b[2m1344\u001b[0m\n"
      ]
     },
     "metadata": {},
     "output_type": "display_data"
    },
    {
     "data": {
      "text/html": [
       "<pre style=\"white-space:pre;overflow-x:auto;line-height:normal;font-family:Menlo,'DejaVu Sans Mono',consolas,'Courier New',monospace\"><span style=\"color: #7fbfbf; text-decoration-color: #7fbfbf\">                    </span><span style=\"color: #000080; text-decoration-color: #000080\">INFO    </span> Found <span style=\"color: #008080; text-decoration-color: #008080; font-weight: bold\">191</span> hbond interactions.                                         <span style=\"color: #7f7f7f; text-decoration-color: #7f7f7f\">distance.py:1344</span>\n",
       "</pre>\n"
      ],
      "text/plain": [
       "\u001b[2;36m                   \u001b[0m\u001b[2;36m \u001b[0m\u001b[34mINFO    \u001b[0m Found \u001b[1;36m191\u001b[0m hbond interactions.                                         \u001b[2mdistance.py\u001b[0m\u001b[2m:\u001b[0m\u001b[2m1344\u001b[0m\n"
      ]
     },
     "metadata": {},
     "output_type": "display_data"
    },
    {
     "data": {
      "text/html": [
       "<pre style=\"white-space:pre;overflow-x:auto;line-height:normal;font-family:Menlo,'DejaVu Sans Mono',consolas,'Courier New',monospace\"><span style=\"color: #7fbfbf; text-decoration-color: #7fbfbf\">                    </span><span style=\"color: #000080; text-decoration-color: #000080\">INFO    </span> Found <span style=\"color: #008080; text-decoration-color: #008080; font-weight: bold\">22</span> hbond interactions.                                          <span style=\"color: #7f7f7f; text-decoration-color: #7f7f7f\">distance.py:1344</span>\n",
       "</pre>\n"
      ],
      "text/plain": [
       "\u001b[2;36m                   \u001b[0m\u001b[2;36m \u001b[0m\u001b[34mINFO    \u001b[0m Found \u001b[1;36m22\u001b[0m hbond interactions.                                          \u001b[2mdistance.py\u001b[0m\u001b[2m:\u001b[0m\u001b[2m1344\u001b[0m\n"
      ]
     },
     "metadata": {},
     "output_type": "display_data"
    },
    {
     "data": {
      "text/html": [
       "<pre style=\"white-space:pre;overflow-x:auto;line-height:normal;font-family:Menlo,'DejaVu Sans Mono',consolas,'Courier New',monospace\"><span style=\"color: #7fbfbf; text-decoration-color: #7fbfbf\">[05/03/24 18:03:54] </span><span style=\"color: #000080; text-decoration-color: #000080\">INFO    </span> Found <span style=\"color: #008080; text-decoration-color: #008080; font-weight: bold\">3519</span> ionic interactions.                                        <span style=\"color: #7f7f7f; text-decoration-color: #7f7f7f\">distance.py:1344</span>\n",
       "</pre>\n"
      ],
      "text/plain": [
       "\u001b[2;36m[05/03/24 18:03:54]\u001b[0m\u001b[2;36m \u001b[0m\u001b[34mINFO    \u001b[0m Found \u001b[1;36m3519\u001b[0m ionic interactions.                                        \u001b[2mdistance.py\u001b[0m\u001b[2m:\u001b[0m\u001b[2m1344\u001b[0m\n"
      ]
     },
     "metadata": {},
     "output_type": "display_data"
    },
    {
     "data": {
      "text/html": [
       "<pre style=\"white-space:pre;overflow-x:auto;line-height:normal;font-family:Menlo,'DejaVu Sans Mono',consolas,'Courier New',monospace\"></pre>\n"
      ],
      "text/plain": []
     },
     "metadata": {},
     "output_type": "display_data"
    },
    {
     "data": {
      "text/html": [
       "<pre style=\"white-space:pre;overflow-x:auto;line-height:normal;font-family:Menlo,'DejaVu Sans Mono',consolas,'Courier New',monospace\">\n",
       "</pre>\n"
      ],
      "text/plain": [
       "\n"
      ]
     },
     "metadata": {},
     "output_type": "display_data"
    },
    {
     "data": {
      "application/vnd.jupyter.widget-view+json": {
       "model_id": "916f36b5e6504fb49f0a5f35b118e94e",
       "version_major": 2,
       "version_minor": 0
      },
      "text/plain": [
       "Output()"
      ]
     },
     "metadata": {},
     "output_type": "display_data"
    },
    {
     "data": {
      "text/html": [
       "<pre style=\"white-space:pre;overflow-x:auto;line-height:normal;font-family:Menlo,'DejaVu Sans Mono',consolas,'Courier New',monospace\"><span style=\"color: #7fbfbf; text-decoration-color: #7fbfbf\">                    </span><span style=\"color: #008000; text-decoration-color: #008000\">DEBUG   </span> Deprotonating protein. This removes H atoms from the pdb_df dataframe    <span style=\"color: #7f7f7f; text-decoration-color: #7f7f7f\">graphs.py:188</span>\n",
       "</pre>\n"
      ],
      "text/plain": [
       "\u001b[2;36m                   \u001b[0m\u001b[2;36m \u001b[0m\u001b[32mDEBUG   \u001b[0m Deprotonating protein. This removes H atoms from the pdb_df dataframe    \u001b[2mgraphs.py\u001b[0m\u001b[2m:\u001b[0m\u001b[2m188\u001b[0m\n"
      ]
     },
     "metadata": {},
     "output_type": "display_data"
    },
    {
     "data": {
      "text/html": [
       "<pre style=\"white-space:pre;overflow-x:auto;line-height:normal;font-family:Menlo,'DejaVu Sans Mono',consolas,'Courier New',monospace\"><span style=\"color: #7fbfbf; text-decoration-color: #7fbfbf\">                    </span><span style=\"color: #008000; text-decoration-color: #008000\">DEBUG   </span> Detected <span style=\"color: #008080; text-decoration-color: #008080; font-weight: bold\">445</span> total nodes                                                 <span style=\"color: #7f7f7f; text-decoration-color: #7f7f7f\">graphs.py:435</span>\n",
       "</pre>\n"
      ],
      "text/plain": [
       "\u001b[2;36m                   \u001b[0m\u001b[2;36m \u001b[0m\u001b[32mDEBUG   \u001b[0m Detected \u001b[1;36m445\u001b[0m total nodes                                                 \u001b[2mgraphs.py\u001b[0m\u001b[2m:\u001b[0m\u001b[2m435\u001b[0m\n"
      ]
     },
     "metadata": {},
     "output_type": "display_data"
    },
    {
     "data": {
      "text/html": [
       "<pre style=\"white-space:pre;overflow-x:auto;line-height:normal;font-family:Menlo,'DejaVu Sans Mono',consolas,'Courier New',monospace\">c:\\Users\\HUAWEI\\Desktop\\materiale \n",
       "magistrale\\CHL\\CHL-Project\\.venv\\lib\\site-packages\\graphein\\protein\\edges\\distance.py:1213: FutureWarning: The \n",
       "default value of numeric_only in DataFrameGroupBy.mean is deprecated. In a future version, numeric_only will \n",
       "default to False. Either specify numeric_only or select only columns which should be valid for the function.\n",
       "  .mean()[[\"x_coord\", \"y_coord\", \"z_coord\"]]\n",
       "</pre>\n"
      ],
      "text/plain": [
       "c:\\Users\\HUAWEI\\Desktop\\materiale \n",
       "magistrale\\CHL\\CHL-Project\\.venv\\lib\\site-packages\\graphein\\protein\\edges\\distance.py:1213: FutureWarning: The \n",
       "default value of numeric_only in DataFrameGroupBy.mean is deprecated. In a future version, numeric_only will \n",
       "default to False. Either specify numeric_only or select only columns which should be valid for the function.\n",
       "  .mean()[[\"x_coord\", \"y_coord\", \"z_coord\"]]\n"
      ]
     },
     "metadata": {},
     "output_type": "display_data"
    },
    {
     "data": {
      "text/html": [
       "<pre style=\"white-space:pre;overflow-x:auto;line-height:normal;font-family:Menlo,'DejaVu Sans Mono',consolas,'Courier New',monospace\">c:\\Users\\HUAWEI\\Desktop\\materiale \n",
       "magistrale\\CHL\\CHL-Project\\.venv\\lib\\site-packages\\graphein\\protein\\edges\\distance.py:1213: FutureWarning: The \n",
       "default value of numeric_only in DataFrameGroupBy.mean is deprecated. In a future version, numeric_only will \n",
       "default to False. Either specify numeric_only or select only columns which should be valid for the function.\n",
       "  .mean()[[\"x_coord\", \"y_coord\", \"z_coord\"]]\n",
       "</pre>\n"
      ],
      "text/plain": [
       "c:\\Users\\HUAWEI\\Desktop\\materiale \n",
       "magistrale\\CHL\\CHL-Project\\.venv\\lib\\site-packages\\graphein\\protein\\edges\\distance.py:1213: FutureWarning: The \n",
       "default value of numeric_only in DataFrameGroupBy.mean is deprecated. In a future version, numeric_only will \n",
       "default to False. Either specify numeric_only or select only columns which should be valid for the function.\n",
       "  .mean()[[\"x_coord\", \"y_coord\", \"z_coord\"]]\n"
      ]
     },
     "metadata": {},
     "output_type": "display_data"
    },
    {
     "data": {
      "text/html": [
       "<pre style=\"white-space:pre;overflow-x:auto;line-height:normal;font-family:Menlo,'DejaVu Sans Mono',consolas,'Courier New',monospace\">c:\\Users\\HUAWEI\\Desktop\\materiale \n",
       "magistrale\\CHL\\CHL-Project\\.venv\\lib\\site-packages\\graphein\\protein\\edges\\distance.py:1213: FutureWarning: The \n",
       "default value of numeric_only in DataFrameGroupBy.mean is deprecated. In a future version, numeric_only will \n",
       "default to False. Either specify numeric_only or select only columns which should be valid for the function.\n",
       "  .mean()[[\"x_coord\", \"y_coord\", \"z_coord\"]]\n",
       "</pre>\n"
      ],
      "text/plain": [
       "c:\\Users\\HUAWEI\\Desktop\\materiale \n",
       "magistrale\\CHL\\CHL-Project\\.venv\\lib\\site-packages\\graphein\\protein\\edges\\distance.py:1213: FutureWarning: The \n",
       "default value of numeric_only in DataFrameGroupBy.mean is deprecated. In a future version, numeric_only will \n",
       "default to False. Either specify numeric_only or select only columns which should be valid for the function.\n",
       "  .mean()[[\"x_coord\", \"y_coord\", \"z_coord\"]]\n"
      ]
     },
     "metadata": {},
     "output_type": "display_data"
    },
    {
     "data": {
      "text/html": [
       "<pre style=\"white-space:pre;overflow-x:auto;line-height:normal;font-family:Menlo,'DejaVu Sans Mono',consolas,'Courier New',monospace\">c:\\Users\\HUAWEI\\Desktop\\materiale \n",
       "magistrale\\CHL\\CHL-Project\\.venv\\lib\\site-packages\\graphein\\protein\\edges\\distance.py:1213: FutureWarning: The \n",
       "default value of numeric_only in DataFrameGroupBy.mean is deprecated. In a future version, numeric_only will \n",
       "default to False. Either specify numeric_only or select only columns which should be valid for the function.\n",
       "  .mean()[[\"x_coord\", \"y_coord\", \"z_coord\"]]\n",
       "</pre>\n"
      ],
      "text/plain": [
       "c:\\Users\\HUAWEI\\Desktop\\materiale \n",
       "magistrale\\CHL\\CHL-Project\\.venv\\lib\\site-packages\\graphein\\protein\\edges\\distance.py:1213: FutureWarning: The \n",
       "default value of numeric_only in DataFrameGroupBy.mean is deprecated. In a future version, numeric_only will \n",
       "default to False. Either specify numeric_only or select only columns which should be valid for the function.\n",
       "  .mean()[[\"x_coord\", \"y_coord\", \"z_coord\"]]\n"
      ]
     },
     "metadata": {},
     "output_type": "display_data"
    },
    {
     "data": {
      "text/html": [
       "<pre style=\"white-space:pre;overflow-x:auto;line-height:normal;font-family:Menlo,'DejaVu Sans Mono',consolas,'Courier New',monospace\"><span style=\"color: #7fbfbf; text-decoration-color: #7fbfbf\">                    </span><span style=\"color: #000080; text-decoration-color: #000080\">INFO    </span> Found: <span style=\"color: #008080; text-decoration-color: #008080; font-weight: bold\">92</span> aromatic-aromatic interactions                               <span style=\"color: #7f7f7f; text-decoration-color: #7f7f7f\">distance.py:467</span>\n",
       "</pre>\n"
      ],
      "text/plain": [
       "\u001b[2;36m                   \u001b[0m\u001b[2;36m \u001b[0m\u001b[34mINFO    \u001b[0m Found: \u001b[1;36m92\u001b[0m aromatic-aromatic interactions                               \u001b[2mdistance.py\u001b[0m\u001b[2m:\u001b[0m\u001b[2m467\u001b[0m\n"
      ]
     },
     "metadata": {},
     "output_type": "display_data"
    },
    {
     "data": {
      "text/html": [
       "<pre style=\"white-space:pre;overflow-x:auto;line-height:normal;font-family:Menlo,'DejaVu Sans Mono',consolas,'Courier New',monospace\"><span style=\"color: #7fbfbf; text-decoration-color: #7fbfbf\">                    </span><span style=\"color: #000080; text-decoration-color: #000080\">INFO    </span> Found <span style=\"color: #008080; text-decoration-color: #008080; font-weight: bold\">967</span> hydrophobic interactions.                                   <span style=\"color: #7f7f7f; text-decoration-color: #7f7f7f\">distance.py:1344</span>\n",
       "</pre>\n"
      ],
      "text/plain": [
       "\u001b[2;36m                   \u001b[0m\u001b[2;36m \u001b[0m\u001b[34mINFO    \u001b[0m Found \u001b[1;36m967\u001b[0m hydrophobic interactions.                                   \u001b[2mdistance.py\u001b[0m\u001b[2m:\u001b[0m\u001b[2m1344\u001b[0m\n"
      ]
     },
     "metadata": {},
     "output_type": "display_data"
    },
    {
     "data": {
      "text/html": [
       "<pre style=\"white-space:pre;overflow-x:auto;line-height:normal;font-family:Menlo,'DejaVu Sans Mono',consolas,'Courier New',monospace\"><span style=\"color: #7fbfbf; text-decoration-color: #7fbfbf\">                    </span><span style=\"color: #000080; text-decoration-color: #000080\">INFO    </span> Found <span style=\"color: #008080; text-decoration-color: #008080; font-weight: bold\">190</span> hbond interactions.                                         <span style=\"color: #7f7f7f; text-decoration-color: #7f7f7f\">distance.py:1344</span>\n",
       "</pre>\n"
      ],
      "text/plain": [
       "\u001b[2;36m                   \u001b[0m\u001b[2;36m \u001b[0m\u001b[34mINFO    \u001b[0m Found \u001b[1;36m190\u001b[0m hbond interactions.                                         \u001b[2mdistance.py\u001b[0m\u001b[2m:\u001b[0m\u001b[2m1344\u001b[0m\n"
      ]
     },
     "metadata": {},
     "output_type": "display_data"
    },
    {
     "data": {
      "text/html": [
       "<pre style=\"white-space:pre;overflow-x:auto;line-height:normal;font-family:Menlo,'DejaVu Sans Mono',consolas,'Courier New',monospace\"><span style=\"color: #7fbfbf; text-decoration-color: #7fbfbf\">                    </span><span style=\"color: #000080; text-decoration-color: #000080\">INFO    </span> Found <span style=\"color: #008080; text-decoration-color: #008080; font-weight: bold\">22</span> hbond interactions.                                          <span style=\"color: #7f7f7f; text-decoration-color: #7f7f7f\">distance.py:1344</span>\n",
       "</pre>\n"
      ],
      "text/plain": [
       "\u001b[2;36m                   \u001b[0m\u001b[2;36m \u001b[0m\u001b[34mINFO    \u001b[0m Found \u001b[1;36m22\u001b[0m hbond interactions.                                          \u001b[2mdistance.py\u001b[0m\u001b[2m:\u001b[0m\u001b[2m1344\u001b[0m\n"
      ]
     },
     "metadata": {},
     "output_type": "display_data"
    },
    {
     "data": {
      "text/html": [
       "<pre style=\"white-space:pre;overflow-x:auto;line-height:normal;font-family:Menlo,'DejaVu Sans Mono',consolas,'Courier New',monospace\"><span style=\"color: #7fbfbf; text-decoration-color: #7fbfbf\">                    </span><span style=\"color: #000080; text-decoration-color: #000080\">INFO    </span> Found <span style=\"color: #008080; text-decoration-color: #008080; font-weight: bold\">3497</span> ionic interactions.                                        <span style=\"color: #7f7f7f; text-decoration-color: #7f7f7f\">distance.py:1344</span>\n",
       "</pre>\n"
      ],
      "text/plain": [
       "\u001b[2;36m                   \u001b[0m\u001b[2;36m \u001b[0m\u001b[34mINFO    \u001b[0m Found \u001b[1;36m3497\u001b[0m ionic interactions.                                        \u001b[2mdistance.py\u001b[0m\u001b[2m:\u001b[0m\u001b[2m1344\u001b[0m\n"
      ]
     },
     "metadata": {},
     "output_type": "display_data"
    },
    {
     "data": {
      "text/html": [
       "<pre style=\"white-space:pre;overflow-x:auto;line-height:normal;font-family:Menlo,'DejaVu Sans Mono',consolas,'Courier New',monospace\"></pre>\n"
      ],
      "text/plain": []
     },
     "metadata": {},
     "output_type": "display_data"
    },
    {
     "data": {
      "text/html": [
       "<pre style=\"white-space:pre;overflow-x:auto;line-height:normal;font-family:Menlo,'DejaVu Sans Mono',consolas,'Courier New',monospace\">\n",
       "</pre>\n"
      ],
      "text/plain": [
       "\n"
      ]
     },
     "metadata": {},
     "output_type": "display_data"
    },
    {
     "data": {
      "application/vnd.jupyter.widget-view+json": {
       "model_id": "f40efa028abf4d7db223b0230a5d63cf",
       "version_major": 2,
       "version_minor": 0
      },
      "text/plain": [
       "Output()"
      ]
     },
     "metadata": {},
     "output_type": "display_data"
    },
    {
     "data": {
      "text/html": [
       "<pre style=\"white-space:pre;overflow-x:auto;line-height:normal;font-family:Menlo,'DejaVu Sans Mono',consolas,'Courier New',monospace\"><span style=\"color: #7fbfbf; text-decoration-color: #7fbfbf\">[05/03/24 18:03:55] </span><span style=\"color: #008000; text-decoration-color: #008000\">DEBUG   </span> Deprotonating protein. This removes H atoms from the pdb_df dataframe    <span style=\"color: #7f7f7f; text-decoration-color: #7f7f7f\">graphs.py:188</span>\n",
       "</pre>\n"
      ],
      "text/plain": [
       "\u001b[2;36m[05/03/24 18:03:55]\u001b[0m\u001b[2;36m \u001b[0m\u001b[32mDEBUG   \u001b[0m Deprotonating protein. This removes H atoms from the pdb_df dataframe    \u001b[2mgraphs.py\u001b[0m\u001b[2m:\u001b[0m\u001b[2m188\u001b[0m\n"
      ]
     },
     "metadata": {},
     "output_type": "display_data"
    },
    {
     "data": {
      "text/html": [
       "<pre style=\"white-space:pre;overflow-x:auto;line-height:normal;font-family:Menlo,'DejaVu Sans Mono',consolas,'Courier New',monospace\"><span style=\"color: #7fbfbf; text-decoration-color: #7fbfbf\">                    </span><span style=\"color: #008000; text-decoration-color: #008000\">DEBUG   </span> Detected <span style=\"color: #008080; text-decoration-color: #008080; font-weight: bold\">445</span> total nodes                                                 <span style=\"color: #7f7f7f; text-decoration-color: #7f7f7f\">graphs.py:435</span>\n",
       "</pre>\n"
      ],
      "text/plain": [
       "\u001b[2;36m                   \u001b[0m\u001b[2;36m \u001b[0m\u001b[32mDEBUG   \u001b[0m Detected \u001b[1;36m445\u001b[0m total nodes                                                 \u001b[2mgraphs.py\u001b[0m\u001b[2m:\u001b[0m\u001b[2m435\u001b[0m\n"
      ]
     },
     "metadata": {},
     "output_type": "display_data"
    },
    {
     "data": {
      "text/html": [
       "<pre style=\"white-space:pre;overflow-x:auto;line-height:normal;font-family:Menlo,'DejaVu Sans Mono',consolas,'Courier New',monospace\">c:\\Users\\HUAWEI\\Desktop\\materiale \n",
       "magistrale\\CHL\\CHL-Project\\.venv\\lib\\site-packages\\graphein\\protein\\edges\\distance.py:1213: FutureWarning: The \n",
       "default value of numeric_only in DataFrameGroupBy.mean is deprecated. In a future version, numeric_only will \n",
       "default to False. Either specify numeric_only or select only columns which should be valid for the function.\n",
       "  .mean()[[\"x_coord\", \"y_coord\", \"z_coord\"]]\n",
       "</pre>\n"
      ],
      "text/plain": [
       "c:\\Users\\HUAWEI\\Desktop\\materiale \n",
       "magistrale\\CHL\\CHL-Project\\.venv\\lib\\site-packages\\graphein\\protein\\edges\\distance.py:1213: FutureWarning: The \n",
       "default value of numeric_only in DataFrameGroupBy.mean is deprecated. In a future version, numeric_only will \n",
       "default to False. Either specify numeric_only or select only columns which should be valid for the function.\n",
       "  .mean()[[\"x_coord\", \"y_coord\", \"z_coord\"]]\n"
      ]
     },
     "metadata": {},
     "output_type": "display_data"
    },
    {
     "data": {
      "text/html": [
       "<pre style=\"white-space:pre;overflow-x:auto;line-height:normal;font-family:Menlo,'DejaVu Sans Mono',consolas,'Courier New',monospace\">c:\\Users\\HUAWEI\\Desktop\\materiale \n",
       "magistrale\\CHL\\CHL-Project\\.venv\\lib\\site-packages\\graphein\\protein\\edges\\distance.py:1213: FutureWarning: The \n",
       "default value of numeric_only in DataFrameGroupBy.mean is deprecated. In a future version, numeric_only will \n",
       "default to False. Either specify numeric_only or select only columns which should be valid for the function.\n",
       "  .mean()[[\"x_coord\", \"y_coord\", \"z_coord\"]]\n",
       "</pre>\n"
      ],
      "text/plain": [
       "c:\\Users\\HUAWEI\\Desktop\\materiale \n",
       "magistrale\\CHL\\CHL-Project\\.venv\\lib\\site-packages\\graphein\\protein\\edges\\distance.py:1213: FutureWarning: The \n",
       "default value of numeric_only in DataFrameGroupBy.mean is deprecated. In a future version, numeric_only will \n",
       "default to False. Either specify numeric_only or select only columns which should be valid for the function.\n",
       "  .mean()[[\"x_coord\", \"y_coord\", \"z_coord\"]]\n"
      ]
     },
     "metadata": {},
     "output_type": "display_data"
    },
    {
     "data": {
      "text/html": [
       "<pre style=\"white-space:pre;overflow-x:auto;line-height:normal;font-family:Menlo,'DejaVu Sans Mono',consolas,'Courier New',monospace\">c:\\Users\\HUAWEI\\Desktop\\materiale \n",
       "magistrale\\CHL\\CHL-Project\\.venv\\lib\\site-packages\\graphein\\protein\\edges\\distance.py:1213: FutureWarning: The \n",
       "default value of numeric_only in DataFrameGroupBy.mean is deprecated. In a future version, numeric_only will \n",
       "default to False. Either specify numeric_only or select only columns which should be valid for the function.\n",
       "  .mean()[[\"x_coord\", \"y_coord\", \"z_coord\"]]\n",
       "</pre>\n"
      ],
      "text/plain": [
       "c:\\Users\\HUAWEI\\Desktop\\materiale \n",
       "magistrale\\CHL\\CHL-Project\\.venv\\lib\\site-packages\\graphein\\protein\\edges\\distance.py:1213: FutureWarning: The \n",
       "default value of numeric_only in DataFrameGroupBy.mean is deprecated. In a future version, numeric_only will \n",
       "default to False. Either specify numeric_only or select only columns which should be valid for the function.\n",
       "  .mean()[[\"x_coord\", \"y_coord\", \"z_coord\"]]\n"
      ]
     },
     "metadata": {},
     "output_type": "display_data"
    },
    {
     "data": {
      "text/html": [
       "<pre style=\"white-space:pre;overflow-x:auto;line-height:normal;font-family:Menlo,'DejaVu Sans Mono',consolas,'Courier New',monospace\">c:\\Users\\HUAWEI\\Desktop\\materiale \n",
       "magistrale\\CHL\\CHL-Project\\.venv\\lib\\site-packages\\graphein\\protein\\edges\\distance.py:1213: FutureWarning: The \n",
       "default value of numeric_only in DataFrameGroupBy.mean is deprecated. In a future version, numeric_only will \n",
       "default to False. Either specify numeric_only or select only columns which should be valid for the function.\n",
       "  .mean()[[\"x_coord\", \"y_coord\", \"z_coord\"]]\n",
       "</pre>\n"
      ],
      "text/plain": [
       "c:\\Users\\HUAWEI\\Desktop\\materiale \n",
       "magistrale\\CHL\\CHL-Project\\.venv\\lib\\site-packages\\graphein\\protein\\edges\\distance.py:1213: FutureWarning: The \n",
       "default value of numeric_only in DataFrameGroupBy.mean is deprecated. In a future version, numeric_only will \n",
       "default to False. Either specify numeric_only or select only columns which should be valid for the function.\n",
       "  .mean()[[\"x_coord\", \"y_coord\", \"z_coord\"]]\n"
      ]
     },
     "metadata": {},
     "output_type": "display_data"
    },
    {
     "data": {
      "text/html": [
       "<pre style=\"white-space:pre;overflow-x:auto;line-height:normal;font-family:Menlo,'DejaVu Sans Mono',consolas,'Courier New',monospace\"><span style=\"color: #7fbfbf; text-decoration-color: #7fbfbf\">                    </span><span style=\"color: #000080; text-decoration-color: #000080\">INFO    </span> Found: <span style=\"color: #008080; text-decoration-color: #008080; font-weight: bold\">92</span> aromatic-aromatic interactions                               <span style=\"color: #7f7f7f; text-decoration-color: #7f7f7f\">distance.py:467</span>\n",
       "</pre>\n"
      ],
      "text/plain": [
       "\u001b[2;36m                   \u001b[0m\u001b[2;36m \u001b[0m\u001b[34mINFO    \u001b[0m Found: \u001b[1;36m92\u001b[0m aromatic-aromatic interactions                               \u001b[2mdistance.py\u001b[0m\u001b[2m:\u001b[0m\u001b[2m467\u001b[0m\n"
      ]
     },
     "metadata": {},
     "output_type": "display_data"
    },
    {
     "data": {
      "text/html": [
       "<pre style=\"white-space:pre;overflow-x:auto;line-height:normal;font-family:Menlo,'DejaVu Sans Mono',consolas,'Courier New',monospace\"><span style=\"color: #7fbfbf; text-decoration-color: #7fbfbf\">                    </span><span style=\"color: #000080; text-decoration-color: #000080\">INFO    </span> Found <span style=\"color: #008080; text-decoration-color: #008080; font-weight: bold\">958</span> hydrophobic interactions.                                   <span style=\"color: #7f7f7f; text-decoration-color: #7f7f7f\">distance.py:1344</span>\n",
       "</pre>\n"
      ],
      "text/plain": [
       "\u001b[2;36m                   \u001b[0m\u001b[2;36m \u001b[0m\u001b[34mINFO    \u001b[0m Found \u001b[1;36m958\u001b[0m hydrophobic interactions.                                   \u001b[2mdistance.py\u001b[0m\u001b[2m:\u001b[0m\u001b[2m1344\u001b[0m\n"
      ]
     },
     "metadata": {},
     "output_type": "display_data"
    },
    {
     "data": {
      "text/html": [
       "<pre style=\"white-space:pre;overflow-x:auto;line-height:normal;font-family:Menlo,'DejaVu Sans Mono',consolas,'Courier New',monospace\"><span style=\"color: #7fbfbf; text-decoration-color: #7fbfbf\">                    </span><span style=\"color: #000080; text-decoration-color: #000080\">INFO    </span> Found <span style=\"color: #008080; text-decoration-color: #008080; font-weight: bold\">12</span> disulfide interactions.                                      <span style=\"color: #7f7f7f; text-decoration-color: #7f7f7f\">distance.py:1344</span>\n",
       "</pre>\n"
      ],
      "text/plain": [
       "\u001b[2;36m                   \u001b[0m\u001b[2;36m \u001b[0m\u001b[34mINFO    \u001b[0m Found \u001b[1;36m12\u001b[0m disulfide interactions.                                      \u001b[2mdistance.py\u001b[0m\u001b[2m:\u001b[0m\u001b[2m1344\u001b[0m\n"
      ]
     },
     "metadata": {},
     "output_type": "display_data"
    },
    {
     "data": {
      "text/html": [
       "<pre style=\"white-space:pre;overflow-x:auto;line-height:normal;font-family:Menlo,'DejaVu Sans Mono',consolas,'Courier New',monospace\"><span style=\"color: #7fbfbf; text-decoration-color: #7fbfbf\">                    </span><span style=\"color: #000080; text-decoration-color: #000080\">INFO    </span> Found <span style=\"color: #008080; text-decoration-color: #008080; font-weight: bold\">193</span> hbond interactions.                                         <span style=\"color: #7f7f7f; text-decoration-color: #7f7f7f\">distance.py:1344</span>\n",
       "</pre>\n"
      ],
      "text/plain": [
       "\u001b[2;36m                   \u001b[0m\u001b[2;36m \u001b[0m\u001b[34mINFO    \u001b[0m Found \u001b[1;36m193\u001b[0m hbond interactions.                                         \u001b[2mdistance.py\u001b[0m\u001b[2m:\u001b[0m\u001b[2m1344\u001b[0m\n"
      ]
     },
     "metadata": {},
     "output_type": "display_data"
    },
    {
     "data": {
      "text/html": [
       "<pre style=\"white-space:pre;overflow-x:auto;line-height:normal;font-family:Menlo,'DejaVu Sans Mono',consolas,'Courier New',monospace\"><span style=\"color: #7fbfbf; text-decoration-color: #7fbfbf\">                    </span><span style=\"color: #000080; text-decoration-color: #000080\">INFO    </span> Found <span style=\"color: #008080; text-decoration-color: #008080; font-weight: bold\">22</span> hbond interactions.                                          <span style=\"color: #7f7f7f; text-decoration-color: #7f7f7f\">distance.py:1344</span>\n",
       "</pre>\n"
      ],
      "text/plain": [
       "\u001b[2;36m                   \u001b[0m\u001b[2;36m \u001b[0m\u001b[34mINFO    \u001b[0m Found \u001b[1;36m22\u001b[0m hbond interactions.                                          \u001b[2mdistance.py\u001b[0m\u001b[2m:\u001b[0m\u001b[2m1344\u001b[0m\n"
      ]
     },
     "metadata": {},
     "output_type": "display_data"
    },
    {
     "data": {
      "text/html": [
       "<pre style=\"white-space:pre;overflow-x:auto;line-height:normal;font-family:Menlo,'DejaVu Sans Mono',consolas,'Courier New',monospace\"><span style=\"color: #7fbfbf; text-decoration-color: #7fbfbf\">                    </span><span style=\"color: #000080; text-decoration-color: #000080\">INFO    </span> Found <span style=\"color: #008080; text-decoration-color: #008080; font-weight: bold\">3513</span> ionic interactions.                                        <span style=\"color: #7f7f7f; text-decoration-color: #7f7f7f\">distance.py:1344</span>\n",
       "</pre>\n"
      ],
      "text/plain": [
       "\u001b[2;36m                   \u001b[0m\u001b[2;36m \u001b[0m\u001b[34mINFO    \u001b[0m Found \u001b[1;36m3513\u001b[0m ionic interactions.                                        \u001b[2mdistance.py\u001b[0m\u001b[2m:\u001b[0m\u001b[2m1344\u001b[0m\n"
      ]
     },
     "metadata": {},
     "output_type": "display_data"
    },
    {
     "data": {
      "text/html": [
       "<pre style=\"white-space:pre;overflow-x:auto;line-height:normal;font-family:Menlo,'DejaVu Sans Mono',consolas,'Courier New',monospace\"></pre>\n"
      ],
      "text/plain": []
     },
     "metadata": {},
     "output_type": "display_data"
    },
    {
     "data": {
      "text/html": [
       "<pre style=\"white-space:pre;overflow-x:auto;line-height:normal;font-family:Menlo,'DejaVu Sans Mono',consolas,'Courier New',monospace\">\n",
       "</pre>\n"
      ],
      "text/plain": [
       "\n"
      ]
     },
     "metadata": {},
     "output_type": "display_data"
    },
    {
     "data": {
      "application/vnd.jupyter.widget-view+json": {
       "model_id": "7299904d89ea4c42b95e39e57761be0f",
       "version_major": 2,
       "version_minor": 0
      },
      "text/plain": [
       "Output()"
      ]
     },
     "metadata": {},
     "output_type": "display_data"
    },
    {
     "data": {
      "text/html": [
       "<pre style=\"white-space:pre;overflow-x:auto;line-height:normal;font-family:Menlo,'DejaVu Sans Mono',consolas,'Courier New',monospace\"><span style=\"color: #7fbfbf; text-decoration-color: #7fbfbf\">[05/03/24 18:03:56] </span><span style=\"color: #008000; text-decoration-color: #008000\">DEBUG   </span> Deprotonating protein. This removes H atoms from the pdb_df dataframe    <span style=\"color: #7f7f7f; text-decoration-color: #7f7f7f\">graphs.py:188</span>\n",
       "</pre>\n"
      ],
      "text/plain": [
       "\u001b[2;36m[05/03/24 18:03:56]\u001b[0m\u001b[2;36m \u001b[0m\u001b[32mDEBUG   \u001b[0m Deprotonating protein. This removes H atoms from the pdb_df dataframe    \u001b[2mgraphs.py\u001b[0m\u001b[2m:\u001b[0m\u001b[2m188\u001b[0m\n"
      ]
     },
     "metadata": {},
     "output_type": "display_data"
    },
    {
     "data": {
      "text/html": [
       "<pre style=\"white-space:pre;overflow-x:auto;line-height:normal;font-family:Menlo,'DejaVu Sans Mono',consolas,'Courier New',monospace\"><span style=\"color: #7fbfbf; text-decoration-color: #7fbfbf\">                    </span><span style=\"color: #008000; text-decoration-color: #008000\">DEBUG   </span> Detected <span style=\"color: #008080; text-decoration-color: #008080; font-weight: bold\">445</span> total nodes                                                 <span style=\"color: #7f7f7f; text-decoration-color: #7f7f7f\">graphs.py:435</span>\n",
       "</pre>\n"
      ],
      "text/plain": [
       "\u001b[2;36m                   \u001b[0m\u001b[2;36m \u001b[0m\u001b[32mDEBUG   \u001b[0m Detected \u001b[1;36m445\u001b[0m total nodes                                                 \u001b[2mgraphs.py\u001b[0m\u001b[2m:\u001b[0m\u001b[2m435\u001b[0m\n"
      ]
     },
     "metadata": {},
     "output_type": "display_data"
    },
    {
     "data": {
      "text/html": [
       "<pre style=\"white-space:pre;overflow-x:auto;line-height:normal;font-family:Menlo,'DejaVu Sans Mono',consolas,'Courier New',monospace\">c:\\Users\\HUAWEI\\Desktop\\materiale \n",
       "magistrale\\CHL\\CHL-Project\\.venv\\lib\\site-packages\\graphein\\protein\\edges\\distance.py:1213: FutureWarning: The \n",
       "default value of numeric_only in DataFrameGroupBy.mean is deprecated. In a future version, numeric_only will \n",
       "default to False. Either specify numeric_only or select only columns which should be valid for the function.\n",
       "  .mean()[[\"x_coord\", \"y_coord\", \"z_coord\"]]\n",
       "</pre>\n"
      ],
      "text/plain": [
       "c:\\Users\\HUAWEI\\Desktop\\materiale \n",
       "magistrale\\CHL\\CHL-Project\\.venv\\lib\\site-packages\\graphein\\protein\\edges\\distance.py:1213: FutureWarning: The \n",
       "default value of numeric_only in DataFrameGroupBy.mean is deprecated. In a future version, numeric_only will \n",
       "default to False. Either specify numeric_only or select only columns which should be valid for the function.\n",
       "  .mean()[[\"x_coord\", \"y_coord\", \"z_coord\"]]\n"
      ]
     },
     "metadata": {},
     "output_type": "display_data"
    },
    {
     "data": {
      "text/html": [
       "<pre style=\"white-space:pre;overflow-x:auto;line-height:normal;font-family:Menlo,'DejaVu Sans Mono',consolas,'Courier New',monospace\">c:\\Users\\HUAWEI\\Desktop\\materiale \n",
       "magistrale\\CHL\\CHL-Project\\.venv\\lib\\site-packages\\graphein\\protein\\edges\\distance.py:1213: FutureWarning: The \n",
       "default value of numeric_only in DataFrameGroupBy.mean is deprecated. In a future version, numeric_only will \n",
       "default to False. Either specify numeric_only or select only columns which should be valid for the function.\n",
       "  .mean()[[\"x_coord\", \"y_coord\", \"z_coord\"]]\n",
       "</pre>\n"
      ],
      "text/plain": [
       "c:\\Users\\HUAWEI\\Desktop\\materiale \n",
       "magistrale\\CHL\\CHL-Project\\.venv\\lib\\site-packages\\graphein\\protein\\edges\\distance.py:1213: FutureWarning: The \n",
       "default value of numeric_only in DataFrameGroupBy.mean is deprecated. In a future version, numeric_only will \n",
       "default to False. Either specify numeric_only or select only columns which should be valid for the function.\n",
       "  .mean()[[\"x_coord\", \"y_coord\", \"z_coord\"]]\n"
      ]
     },
     "metadata": {},
     "output_type": "display_data"
    },
    {
     "data": {
      "text/html": [
       "<pre style=\"white-space:pre;overflow-x:auto;line-height:normal;font-family:Menlo,'DejaVu Sans Mono',consolas,'Courier New',monospace\">c:\\Users\\HUAWEI\\Desktop\\materiale \n",
       "magistrale\\CHL\\CHL-Project\\.venv\\lib\\site-packages\\graphein\\protein\\edges\\distance.py:1213: FutureWarning: The \n",
       "default value of numeric_only in DataFrameGroupBy.mean is deprecated. In a future version, numeric_only will \n",
       "default to False. Either specify numeric_only or select only columns which should be valid for the function.\n",
       "  .mean()[[\"x_coord\", \"y_coord\", \"z_coord\"]]\n",
       "</pre>\n"
      ],
      "text/plain": [
       "c:\\Users\\HUAWEI\\Desktop\\materiale \n",
       "magistrale\\CHL\\CHL-Project\\.venv\\lib\\site-packages\\graphein\\protein\\edges\\distance.py:1213: FutureWarning: The \n",
       "default value of numeric_only in DataFrameGroupBy.mean is deprecated. In a future version, numeric_only will \n",
       "default to False. Either specify numeric_only or select only columns which should be valid for the function.\n",
       "  .mean()[[\"x_coord\", \"y_coord\", \"z_coord\"]]\n"
      ]
     },
     "metadata": {},
     "output_type": "display_data"
    },
    {
     "data": {
      "text/html": [
       "<pre style=\"white-space:pre;overflow-x:auto;line-height:normal;font-family:Menlo,'DejaVu Sans Mono',consolas,'Courier New',monospace\">c:\\Users\\HUAWEI\\Desktop\\materiale \n",
       "magistrale\\CHL\\CHL-Project\\.venv\\lib\\site-packages\\graphein\\protein\\edges\\distance.py:1213: FutureWarning: The \n",
       "default value of numeric_only in DataFrameGroupBy.mean is deprecated. In a future version, numeric_only will \n",
       "default to False. Either specify numeric_only or select only columns which should be valid for the function.\n",
       "  .mean()[[\"x_coord\", \"y_coord\", \"z_coord\"]]\n",
       "</pre>\n"
      ],
      "text/plain": [
       "c:\\Users\\HUAWEI\\Desktop\\materiale \n",
       "magistrale\\CHL\\CHL-Project\\.venv\\lib\\site-packages\\graphein\\protein\\edges\\distance.py:1213: FutureWarning: The \n",
       "default value of numeric_only in DataFrameGroupBy.mean is deprecated. In a future version, numeric_only will \n",
       "default to False. Either specify numeric_only or select only columns which should be valid for the function.\n",
       "  .mean()[[\"x_coord\", \"y_coord\", \"z_coord\"]]\n"
      ]
     },
     "metadata": {},
     "output_type": "display_data"
    },
    {
     "data": {
      "text/html": [
       "<pre style=\"white-space:pre;overflow-x:auto;line-height:normal;font-family:Menlo,'DejaVu Sans Mono',consolas,'Courier New',monospace\"><span style=\"color: #7fbfbf; text-decoration-color: #7fbfbf\">                    </span><span style=\"color: #000080; text-decoration-color: #000080\">INFO    </span> Found: <span style=\"color: #008080; text-decoration-color: #008080; font-weight: bold\">98</span> aromatic-aromatic interactions                               <span style=\"color: #7f7f7f; text-decoration-color: #7f7f7f\">distance.py:467</span>\n",
       "</pre>\n"
      ],
      "text/plain": [
       "\u001b[2;36m                   \u001b[0m\u001b[2;36m \u001b[0m\u001b[34mINFO    \u001b[0m Found: \u001b[1;36m98\u001b[0m aromatic-aromatic interactions                               \u001b[2mdistance.py\u001b[0m\u001b[2m:\u001b[0m\u001b[2m467\u001b[0m\n"
      ]
     },
     "metadata": {},
     "output_type": "display_data"
    },
    {
     "data": {
      "text/html": [
       "<pre style=\"white-space:pre;overflow-x:auto;line-height:normal;font-family:Menlo,'DejaVu Sans Mono',consolas,'Courier New',monospace\"><span style=\"color: #7fbfbf; text-decoration-color: #7fbfbf\">                    </span><span style=\"color: #000080; text-decoration-color: #000080\">INFO    </span> Found <span style=\"color: #008080; text-decoration-color: #008080; font-weight: bold\">962</span> hydrophobic interactions.                                   <span style=\"color: #7f7f7f; text-decoration-color: #7f7f7f\">distance.py:1344</span>\n",
       "</pre>\n"
      ],
      "text/plain": [
       "\u001b[2;36m                   \u001b[0m\u001b[2;36m \u001b[0m\u001b[34mINFO    \u001b[0m Found \u001b[1;36m962\u001b[0m hydrophobic interactions.                                   \u001b[2mdistance.py\u001b[0m\u001b[2m:\u001b[0m\u001b[2m1344\u001b[0m\n"
      ]
     },
     "metadata": {},
     "output_type": "display_data"
    },
    {
     "data": {
      "text/html": [
       "<pre style=\"white-space:pre;overflow-x:auto;line-height:normal;font-family:Menlo,'DejaVu Sans Mono',consolas,'Courier New',monospace\"><span style=\"color: #7fbfbf; text-decoration-color: #7fbfbf\">[05/03/24 18:03:57] </span><span style=\"color: #000080; text-decoration-color: #000080\">INFO    </span> Found <span style=\"color: #008080; text-decoration-color: #008080; font-weight: bold\">12</span> disulfide interactions.                                      <span style=\"color: #7f7f7f; text-decoration-color: #7f7f7f\">distance.py:1344</span>\n",
       "</pre>\n"
      ],
      "text/plain": [
       "\u001b[2;36m[05/03/24 18:03:57]\u001b[0m\u001b[2;36m \u001b[0m\u001b[34mINFO    \u001b[0m Found \u001b[1;36m12\u001b[0m disulfide interactions.                                      \u001b[2mdistance.py\u001b[0m\u001b[2m:\u001b[0m\u001b[2m1344\u001b[0m\n"
      ]
     },
     "metadata": {},
     "output_type": "display_data"
    },
    {
     "data": {
      "text/html": [
       "<pre style=\"white-space:pre;overflow-x:auto;line-height:normal;font-family:Menlo,'DejaVu Sans Mono',consolas,'Courier New',monospace\"><span style=\"color: #7fbfbf; text-decoration-color: #7fbfbf\">                    </span><span style=\"color: #000080; text-decoration-color: #000080\">INFO    </span> Found <span style=\"color: #008080; text-decoration-color: #008080; font-weight: bold\">191</span> hbond interactions.                                         <span style=\"color: #7f7f7f; text-decoration-color: #7f7f7f\">distance.py:1344</span>\n",
       "</pre>\n"
      ],
      "text/plain": [
       "\u001b[2;36m                   \u001b[0m\u001b[2;36m \u001b[0m\u001b[34mINFO    \u001b[0m Found \u001b[1;36m191\u001b[0m hbond interactions.                                         \u001b[2mdistance.py\u001b[0m\u001b[2m:\u001b[0m\u001b[2m1344\u001b[0m\n"
      ]
     },
     "metadata": {},
     "output_type": "display_data"
    },
    {
     "data": {
      "text/html": [
       "<pre style=\"white-space:pre;overflow-x:auto;line-height:normal;font-family:Menlo,'DejaVu Sans Mono',consolas,'Courier New',monospace\"><span style=\"color: #7fbfbf; text-decoration-color: #7fbfbf\">                    </span><span style=\"color: #000080; text-decoration-color: #000080\">INFO    </span> Found <span style=\"color: #008080; text-decoration-color: #008080; font-weight: bold\">22</span> hbond interactions.                                          <span style=\"color: #7f7f7f; text-decoration-color: #7f7f7f\">distance.py:1344</span>\n",
       "</pre>\n"
      ],
      "text/plain": [
       "\u001b[2;36m                   \u001b[0m\u001b[2;36m \u001b[0m\u001b[34mINFO    \u001b[0m Found \u001b[1;36m22\u001b[0m hbond interactions.                                          \u001b[2mdistance.py\u001b[0m\u001b[2m:\u001b[0m\u001b[2m1344\u001b[0m\n"
      ]
     },
     "metadata": {},
     "output_type": "display_data"
    },
    {
     "data": {
      "text/html": [
       "<pre style=\"white-space:pre;overflow-x:auto;line-height:normal;font-family:Menlo,'DejaVu Sans Mono',consolas,'Courier New',monospace\"><span style=\"color: #7fbfbf; text-decoration-color: #7fbfbf\">                    </span><span style=\"color: #000080; text-decoration-color: #000080\">INFO    </span> Found <span style=\"color: #008080; text-decoration-color: #008080; font-weight: bold\">3517</span> ionic interactions.                                        <span style=\"color: #7f7f7f; text-decoration-color: #7f7f7f\">distance.py:1344</span>\n",
       "</pre>\n"
      ],
      "text/plain": [
       "\u001b[2;36m                   \u001b[0m\u001b[2;36m \u001b[0m\u001b[34mINFO    \u001b[0m Found \u001b[1;36m3517\u001b[0m ionic interactions.                                        \u001b[2mdistance.py\u001b[0m\u001b[2m:\u001b[0m\u001b[2m1344\u001b[0m\n"
      ]
     },
     "metadata": {},
     "output_type": "display_data"
    },
    {
     "data": {
      "text/html": [
       "<pre style=\"white-space:pre;overflow-x:auto;line-height:normal;font-family:Menlo,'DejaVu Sans Mono',consolas,'Courier New',monospace\"></pre>\n"
      ],
      "text/plain": []
     },
     "metadata": {},
     "output_type": "display_data"
    },
    {
     "data": {
      "text/html": [
       "<pre style=\"white-space:pre;overflow-x:auto;line-height:normal;font-family:Menlo,'DejaVu Sans Mono',consolas,'Courier New',monospace\">\n",
       "</pre>\n"
      ],
      "text/plain": [
       "\n"
      ]
     },
     "metadata": {},
     "output_type": "display_data"
    },
    {
     "data": {
      "application/vnd.jupyter.widget-view+json": {
       "model_id": "70ad710f7b874c188350bc34d5f0f84b",
       "version_major": 2,
       "version_minor": 0
      },
      "text/plain": [
       "Output()"
      ]
     },
     "metadata": {},
     "output_type": "display_data"
    },
    {
     "data": {
      "text/html": [
       "<pre style=\"white-space:pre;overflow-x:auto;line-height:normal;font-family:Menlo,'DejaVu Sans Mono',consolas,'Courier New',monospace\"><span style=\"color: #7fbfbf; text-decoration-color: #7fbfbf\">                    </span><span style=\"color: #008000; text-decoration-color: #008000\">DEBUG   </span> Deprotonating protein. This removes H atoms from the pdb_df dataframe    <span style=\"color: #7f7f7f; text-decoration-color: #7f7f7f\">graphs.py:188</span>\n",
       "</pre>\n"
      ],
      "text/plain": [
       "\u001b[2;36m                   \u001b[0m\u001b[2;36m \u001b[0m\u001b[32mDEBUG   \u001b[0m Deprotonating protein. This removes H atoms from the pdb_df dataframe    \u001b[2mgraphs.py\u001b[0m\u001b[2m:\u001b[0m\u001b[2m188\u001b[0m\n"
      ]
     },
     "metadata": {},
     "output_type": "display_data"
    },
    {
     "data": {
      "text/html": [
       "<pre style=\"white-space:pre;overflow-x:auto;line-height:normal;font-family:Menlo,'DejaVu Sans Mono',consolas,'Courier New',monospace\"><span style=\"color: #7fbfbf; text-decoration-color: #7fbfbf\">                    </span><span style=\"color: #008000; text-decoration-color: #008000\">DEBUG   </span> Detected <span style=\"color: #008080; text-decoration-color: #008080; font-weight: bold\">445</span> total nodes                                                 <span style=\"color: #7f7f7f; text-decoration-color: #7f7f7f\">graphs.py:435</span>\n",
       "</pre>\n"
      ],
      "text/plain": [
       "\u001b[2;36m                   \u001b[0m\u001b[2;36m \u001b[0m\u001b[32mDEBUG   \u001b[0m Detected \u001b[1;36m445\u001b[0m total nodes                                                 \u001b[2mgraphs.py\u001b[0m\u001b[2m:\u001b[0m\u001b[2m435\u001b[0m\n"
      ]
     },
     "metadata": {},
     "output_type": "display_data"
    },
    {
     "data": {
      "text/html": [
       "<pre style=\"white-space:pre;overflow-x:auto;line-height:normal;font-family:Menlo,'DejaVu Sans Mono',consolas,'Courier New',monospace\">c:\\Users\\HUAWEI\\Desktop\\materiale \n",
       "magistrale\\CHL\\CHL-Project\\.venv\\lib\\site-packages\\graphein\\protein\\edges\\distance.py:1213: FutureWarning: The \n",
       "default value of numeric_only in DataFrameGroupBy.mean is deprecated. In a future version, numeric_only will \n",
       "default to False. Either specify numeric_only or select only columns which should be valid for the function.\n",
       "  .mean()[[\"x_coord\", \"y_coord\", \"z_coord\"]]\n",
       "</pre>\n"
      ],
      "text/plain": [
       "c:\\Users\\HUAWEI\\Desktop\\materiale \n",
       "magistrale\\CHL\\CHL-Project\\.venv\\lib\\site-packages\\graphein\\protein\\edges\\distance.py:1213: FutureWarning: The \n",
       "default value of numeric_only in DataFrameGroupBy.mean is deprecated. In a future version, numeric_only will \n",
       "default to False. Either specify numeric_only or select only columns which should be valid for the function.\n",
       "  .mean()[[\"x_coord\", \"y_coord\", \"z_coord\"]]\n"
      ]
     },
     "metadata": {},
     "output_type": "display_data"
    },
    {
     "data": {
      "text/html": [
       "<pre style=\"white-space:pre;overflow-x:auto;line-height:normal;font-family:Menlo,'DejaVu Sans Mono',consolas,'Courier New',monospace\">c:\\Users\\HUAWEI\\Desktop\\materiale \n",
       "magistrale\\CHL\\CHL-Project\\.venv\\lib\\site-packages\\graphein\\protein\\edges\\distance.py:1213: FutureWarning: The \n",
       "default value of numeric_only in DataFrameGroupBy.mean is deprecated. In a future version, numeric_only will \n",
       "default to False. Either specify numeric_only or select only columns which should be valid for the function.\n",
       "  .mean()[[\"x_coord\", \"y_coord\", \"z_coord\"]]\n",
       "</pre>\n"
      ],
      "text/plain": [
       "c:\\Users\\HUAWEI\\Desktop\\materiale \n",
       "magistrale\\CHL\\CHL-Project\\.venv\\lib\\site-packages\\graphein\\protein\\edges\\distance.py:1213: FutureWarning: The \n",
       "default value of numeric_only in DataFrameGroupBy.mean is deprecated. In a future version, numeric_only will \n",
       "default to False. Either specify numeric_only or select only columns which should be valid for the function.\n",
       "  .mean()[[\"x_coord\", \"y_coord\", \"z_coord\"]]\n"
      ]
     },
     "metadata": {},
     "output_type": "display_data"
    },
    {
     "data": {
      "text/html": [
       "<pre style=\"white-space:pre;overflow-x:auto;line-height:normal;font-family:Menlo,'DejaVu Sans Mono',consolas,'Courier New',monospace\">c:\\Users\\HUAWEI\\Desktop\\materiale \n",
       "magistrale\\CHL\\CHL-Project\\.venv\\lib\\site-packages\\graphein\\protein\\edges\\distance.py:1213: FutureWarning: The \n",
       "default value of numeric_only in DataFrameGroupBy.mean is deprecated. In a future version, numeric_only will \n",
       "default to False. Either specify numeric_only or select only columns which should be valid for the function.\n",
       "  .mean()[[\"x_coord\", \"y_coord\", \"z_coord\"]]\n",
       "</pre>\n"
      ],
      "text/plain": [
       "c:\\Users\\HUAWEI\\Desktop\\materiale \n",
       "magistrale\\CHL\\CHL-Project\\.venv\\lib\\site-packages\\graphein\\protein\\edges\\distance.py:1213: FutureWarning: The \n",
       "default value of numeric_only in DataFrameGroupBy.mean is deprecated. In a future version, numeric_only will \n",
       "default to False. Either specify numeric_only or select only columns which should be valid for the function.\n",
       "  .mean()[[\"x_coord\", \"y_coord\", \"z_coord\"]]\n"
      ]
     },
     "metadata": {},
     "output_type": "display_data"
    },
    {
     "data": {
      "text/html": [
       "<pre style=\"white-space:pre;overflow-x:auto;line-height:normal;font-family:Menlo,'DejaVu Sans Mono',consolas,'Courier New',monospace\"><span style=\"color: #7fbfbf; text-decoration-color: #7fbfbf\">                    </span><span style=\"color: #000080; text-decoration-color: #000080\">INFO    </span> Found: <span style=\"color: #008080; text-decoration-color: #008080; font-weight: bold\">90</span> aromatic-aromatic interactions                               <span style=\"color: #7f7f7f; text-decoration-color: #7f7f7f\">distance.py:467</span>\n",
       "</pre>\n"
      ],
      "text/plain": [
       "\u001b[2;36m                   \u001b[0m\u001b[2;36m \u001b[0m\u001b[34mINFO    \u001b[0m Found: \u001b[1;36m90\u001b[0m aromatic-aromatic interactions                               \u001b[2mdistance.py\u001b[0m\u001b[2m:\u001b[0m\u001b[2m467\u001b[0m\n"
      ]
     },
     "metadata": {},
     "output_type": "display_data"
    },
    {
     "data": {
      "text/html": [
       "<pre style=\"white-space:pre;overflow-x:auto;line-height:normal;font-family:Menlo,'DejaVu Sans Mono',consolas,'Courier New',monospace\"><span style=\"color: #7fbfbf; text-decoration-color: #7fbfbf\">                    </span><span style=\"color: #000080; text-decoration-color: #000080\">INFO    </span> Found <span style=\"color: #008080; text-decoration-color: #008080; font-weight: bold\">960</span> hydrophobic interactions.                                   <span style=\"color: #7f7f7f; text-decoration-color: #7f7f7f\">distance.py:1344</span>\n",
       "</pre>\n"
      ],
      "text/plain": [
       "\u001b[2;36m                   \u001b[0m\u001b[2;36m \u001b[0m\u001b[34mINFO    \u001b[0m Found \u001b[1;36m960\u001b[0m hydrophobic interactions.                                   \u001b[2mdistance.py\u001b[0m\u001b[2m:\u001b[0m\u001b[2m1344\u001b[0m\n"
      ]
     },
     "metadata": {},
     "output_type": "display_data"
    },
    {
     "data": {
      "text/html": [
       "<pre style=\"white-space:pre;overflow-x:auto;line-height:normal;font-family:Menlo,'DejaVu Sans Mono',consolas,'Courier New',monospace\"><span style=\"color: #7fbfbf; text-decoration-color: #7fbfbf\">[05/03/24 18:03:58] </span><span style=\"color: #000080; text-decoration-color: #000080\">INFO    </span> Found <span style=\"color: #008080; text-decoration-color: #008080; font-weight: bold\">12</span> disulfide interactions.                                      <span style=\"color: #7f7f7f; text-decoration-color: #7f7f7f\">distance.py:1344</span>\n",
       "</pre>\n"
      ],
      "text/plain": [
       "\u001b[2;36m[05/03/24 18:03:58]\u001b[0m\u001b[2;36m \u001b[0m\u001b[34mINFO    \u001b[0m Found \u001b[1;36m12\u001b[0m disulfide interactions.                                      \u001b[2mdistance.py\u001b[0m\u001b[2m:\u001b[0m\u001b[2m1344\u001b[0m\n"
      ]
     },
     "metadata": {},
     "output_type": "display_data"
    },
    {
     "data": {
      "text/html": [
       "<pre style=\"white-space:pre;overflow-x:auto;line-height:normal;font-family:Menlo,'DejaVu Sans Mono',consolas,'Courier New',monospace\"><span style=\"color: #7fbfbf; text-decoration-color: #7fbfbf\">                    </span><span style=\"color: #000080; text-decoration-color: #000080\">INFO    </span> Found <span style=\"color: #008080; text-decoration-color: #008080; font-weight: bold\">188</span> hbond interactions.                                         <span style=\"color: #7f7f7f; text-decoration-color: #7f7f7f\">distance.py:1344</span>\n",
       "</pre>\n"
      ],
      "text/plain": [
       "\u001b[2;36m                   \u001b[0m\u001b[2;36m \u001b[0m\u001b[34mINFO    \u001b[0m Found \u001b[1;36m188\u001b[0m hbond interactions.                                         \u001b[2mdistance.py\u001b[0m\u001b[2m:\u001b[0m\u001b[2m1344\u001b[0m\n"
      ]
     },
     "metadata": {},
     "output_type": "display_data"
    },
    {
     "data": {
      "text/html": [
       "<pre style=\"white-space:pre;overflow-x:auto;line-height:normal;font-family:Menlo,'DejaVu Sans Mono',consolas,'Courier New',monospace\"><span style=\"color: #7fbfbf; text-decoration-color: #7fbfbf\">                    </span><span style=\"color: #000080; text-decoration-color: #000080\">INFO    </span> Found <span style=\"color: #008080; text-decoration-color: #008080; font-weight: bold\">22</span> hbond interactions.                                          <span style=\"color: #7f7f7f; text-decoration-color: #7f7f7f\">distance.py:1344</span>\n",
       "</pre>\n"
      ],
      "text/plain": [
       "\u001b[2;36m                   \u001b[0m\u001b[2;36m \u001b[0m\u001b[34mINFO    \u001b[0m Found \u001b[1;36m22\u001b[0m hbond interactions.                                          \u001b[2mdistance.py\u001b[0m\u001b[2m:\u001b[0m\u001b[2m1344\u001b[0m\n"
      ]
     },
     "metadata": {},
     "output_type": "display_data"
    },
    {
     "data": {
      "text/html": [
       "<pre style=\"white-space:pre;overflow-x:auto;line-height:normal;font-family:Menlo,'DejaVu Sans Mono',consolas,'Courier New',monospace\"><span style=\"color: #7fbfbf; text-decoration-color: #7fbfbf\">                    </span><span style=\"color: #000080; text-decoration-color: #000080\">INFO    </span> Found <span style=\"color: #008080; text-decoration-color: #008080; font-weight: bold\">3509</span> ionic interactions.                                        <span style=\"color: #7f7f7f; text-decoration-color: #7f7f7f\">distance.py:1344</span>\n",
       "</pre>\n"
      ],
      "text/plain": [
       "\u001b[2;36m                   \u001b[0m\u001b[2;36m \u001b[0m\u001b[34mINFO    \u001b[0m Found \u001b[1;36m3509\u001b[0m ionic interactions.                                        \u001b[2mdistance.py\u001b[0m\u001b[2m:\u001b[0m\u001b[2m1344\u001b[0m\n"
      ]
     },
     "metadata": {},
     "output_type": "display_data"
    },
    {
     "data": {
      "text/html": [
       "<pre style=\"white-space:pre;overflow-x:auto;line-height:normal;font-family:Menlo,'DejaVu Sans Mono',consolas,'Courier New',monospace\"></pre>\n"
      ],
      "text/plain": []
     },
     "metadata": {},
     "output_type": "display_data"
    },
    {
     "data": {
      "text/html": [
       "<pre style=\"white-space:pre;overflow-x:auto;line-height:normal;font-family:Menlo,'DejaVu Sans Mono',consolas,'Courier New',monospace\">\n",
       "</pre>\n"
      ],
      "text/plain": [
       "\n"
      ]
     },
     "metadata": {},
     "output_type": "display_data"
    },
    {
     "data": {
      "application/vnd.jupyter.widget-view+json": {
       "model_id": "df5ecbbe30f64fac83898dddd6e4d2e0",
       "version_major": 2,
       "version_minor": 0
      },
      "text/plain": [
       "Output()"
      ]
     },
     "metadata": {},
     "output_type": "display_data"
    },
    {
     "data": {
      "text/html": [
       "<pre style=\"white-space:pre;overflow-x:auto;line-height:normal;font-family:Menlo,'DejaVu Sans Mono',consolas,'Courier New',monospace\"><span style=\"color: #7fbfbf; text-decoration-color: #7fbfbf\">                    </span><span style=\"color: #008000; text-decoration-color: #008000\">DEBUG   </span> Deprotonating protein. This removes H atoms from the pdb_df dataframe    <span style=\"color: #7f7f7f; text-decoration-color: #7f7f7f\">graphs.py:188</span>\n",
       "</pre>\n"
      ],
      "text/plain": [
       "\u001b[2;36m                   \u001b[0m\u001b[2;36m \u001b[0m\u001b[32mDEBUG   \u001b[0m Deprotonating protein. This removes H atoms from the pdb_df dataframe    \u001b[2mgraphs.py\u001b[0m\u001b[2m:\u001b[0m\u001b[2m188\u001b[0m\n"
      ]
     },
     "metadata": {},
     "output_type": "display_data"
    },
    {
     "data": {
      "text/html": [
       "<pre style=\"white-space:pre;overflow-x:auto;line-height:normal;font-family:Menlo,'DejaVu Sans Mono',consolas,'Courier New',monospace\"><span style=\"color: #7fbfbf; text-decoration-color: #7fbfbf\">                    </span><span style=\"color: #008000; text-decoration-color: #008000\">DEBUG   </span> Detected <span style=\"color: #008080; text-decoration-color: #008080; font-weight: bold\">445</span> total nodes                                                 <span style=\"color: #7f7f7f; text-decoration-color: #7f7f7f\">graphs.py:435</span>\n",
       "</pre>\n"
      ],
      "text/plain": [
       "\u001b[2;36m                   \u001b[0m\u001b[2;36m \u001b[0m\u001b[32mDEBUG   \u001b[0m Detected \u001b[1;36m445\u001b[0m total nodes                                                 \u001b[2mgraphs.py\u001b[0m\u001b[2m:\u001b[0m\u001b[2m435\u001b[0m\n"
      ]
     },
     "metadata": {},
     "output_type": "display_data"
    },
    {
     "data": {
      "text/html": [
       "<pre style=\"white-space:pre;overflow-x:auto;line-height:normal;font-family:Menlo,'DejaVu Sans Mono',consolas,'Courier New',monospace\">c:\\Users\\HUAWEI\\Desktop\\materiale \n",
       "magistrale\\CHL\\CHL-Project\\.venv\\lib\\site-packages\\graphein\\protein\\edges\\distance.py:1213: FutureWarning: The \n",
       "default value of numeric_only in DataFrameGroupBy.mean is deprecated. In a future version, numeric_only will \n",
       "default to False. Either specify numeric_only or select only columns which should be valid for the function.\n",
       "  .mean()[[\"x_coord\", \"y_coord\", \"z_coord\"]]\n",
       "</pre>\n"
      ],
      "text/plain": [
       "c:\\Users\\HUAWEI\\Desktop\\materiale \n",
       "magistrale\\CHL\\CHL-Project\\.venv\\lib\\site-packages\\graphein\\protein\\edges\\distance.py:1213: FutureWarning: The \n",
       "default value of numeric_only in DataFrameGroupBy.mean is deprecated. In a future version, numeric_only will \n",
       "default to False. Either specify numeric_only or select only columns which should be valid for the function.\n",
       "  .mean()[[\"x_coord\", \"y_coord\", \"z_coord\"]]\n"
      ]
     },
     "metadata": {},
     "output_type": "display_data"
    },
    {
     "data": {
      "text/html": [
       "<pre style=\"white-space:pre;overflow-x:auto;line-height:normal;font-family:Menlo,'DejaVu Sans Mono',consolas,'Courier New',monospace\">c:\\Users\\HUAWEI\\Desktop\\materiale \n",
       "magistrale\\CHL\\CHL-Project\\.venv\\lib\\site-packages\\graphein\\protein\\edges\\distance.py:1213: FutureWarning: The \n",
       "default value of numeric_only in DataFrameGroupBy.mean is deprecated. In a future version, numeric_only will \n",
       "default to False. Either specify numeric_only or select only columns which should be valid for the function.\n",
       "  .mean()[[\"x_coord\", \"y_coord\", \"z_coord\"]]\n",
       "</pre>\n"
      ],
      "text/plain": [
       "c:\\Users\\HUAWEI\\Desktop\\materiale \n",
       "magistrale\\CHL\\CHL-Project\\.venv\\lib\\site-packages\\graphein\\protein\\edges\\distance.py:1213: FutureWarning: The \n",
       "default value of numeric_only in DataFrameGroupBy.mean is deprecated. In a future version, numeric_only will \n",
       "default to False. Either specify numeric_only or select only columns which should be valid for the function.\n",
       "  .mean()[[\"x_coord\", \"y_coord\", \"z_coord\"]]\n"
      ]
     },
     "metadata": {},
     "output_type": "display_data"
    },
    {
     "data": {
      "text/html": [
       "<pre style=\"white-space:pre;overflow-x:auto;line-height:normal;font-family:Menlo,'DejaVu Sans Mono',consolas,'Courier New',monospace\">c:\\Users\\HUAWEI\\Desktop\\materiale \n",
       "magistrale\\CHL\\CHL-Project\\.venv\\lib\\site-packages\\graphein\\protein\\edges\\distance.py:1213: FutureWarning: The \n",
       "default value of numeric_only in DataFrameGroupBy.mean is deprecated. In a future version, numeric_only will \n",
       "default to False. Either specify numeric_only or select only columns which should be valid for the function.\n",
       "  .mean()[[\"x_coord\", \"y_coord\", \"z_coord\"]]\n",
       "</pre>\n"
      ],
      "text/plain": [
       "c:\\Users\\HUAWEI\\Desktop\\materiale \n",
       "magistrale\\CHL\\CHL-Project\\.venv\\lib\\site-packages\\graphein\\protein\\edges\\distance.py:1213: FutureWarning: The \n",
       "default value of numeric_only in DataFrameGroupBy.mean is deprecated. In a future version, numeric_only will \n",
       "default to False. Either specify numeric_only or select only columns which should be valid for the function.\n",
       "  .mean()[[\"x_coord\", \"y_coord\", \"z_coord\"]]\n"
      ]
     },
     "metadata": {},
     "output_type": "display_data"
    },
    {
     "data": {
      "text/html": [
       "<pre style=\"white-space:pre;overflow-x:auto;line-height:normal;font-family:Menlo,'DejaVu Sans Mono',consolas,'Courier New',monospace\"><span style=\"color: #7fbfbf; text-decoration-color: #7fbfbf\">                    </span><span style=\"color: #000080; text-decoration-color: #000080\">INFO    </span> Found: <span style=\"color: #008080; text-decoration-color: #008080; font-weight: bold\">94</span> aromatic-aromatic interactions                               <span style=\"color: #7f7f7f; text-decoration-color: #7f7f7f\">distance.py:467</span>\n",
       "</pre>\n"
      ],
      "text/plain": [
       "\u001b[2;36m                   \u001b[0m\u001b[2;36m \u001b[0m\u001b[34mINFO    \u001b[0m Found: \u001b[1;36m94\u001b[0m aromatic-aromatic interactions                               \u001b[2mdistance.py\u001b[0m\u001b[2m:\u001b[0m\u001b[2m467\u001b[0m\n"
      ]
     },
     "metadata": {},
     "output_type": "display_data"
    },
    {
     "data": {
      "text/html": [
       "<pre style=\"white-space:pre;overflow-x:auto;line-height:normal;font-family:Menlo,'DejaVu Sans Mono',consolas,'Courier New',monospace\"><span style=\"color: #7fbfbf; text-decoration-color: #7fbfbf\">                    </span><span style=\"color: #000080; text-decoration-color: #000080\">INFO    </span> Found <span style=\"color: #008080; text-decoration-color: #008080; font-weight: bold\">953</span> hydrophobic interactions.                                   <span style=\"color: #7f7f7f; text-decoration-color: #7f7f7f\">distance.py:1344</span>\n",
       "</pre>\n"
      ],
      "text/plain": [
       "\u001b[2;36m                   \u001b[0m\u001b[2;36m \u001b[0m\u001b[34mINFO    \u001b[0m Found \u001b[1;36m953\u001b[0m hydrophobic interactions.                                   \u001b[2mdistance.py\u001b[0m\u001b[2m:\u001b[0m\u001b[2m1344\u001b[0m\n"
      ]
     },
     "metadata": {},
     "output_type": "display_data"
    },
    {
     "data": {
      "text/html": [
       "<pre style=\"white-space:pre;overflow-x:auto;line-height:normal;font-family:Menlo,'DejaVu Sans Mono',consolas,'Courier New',monospace\"><span style=\"color: #7fbfbf; text-decoration-color: #7fbfbf\">[05/03/24 18:03:59] </span><span style=\"color: #000080; text-decoration-color: #000080\">INFO    </span> Found <span style=\"color: #008080; text-decoration-color: #008080; font-weight: bold\">12</span> disulfide interactions.                                      <span style=\"color: #7f7f7f; text-decoration-color: #7f7f7f\">distance.py:1344</span>\n",
       "</pre>\n"
      ],
      "text/plain": [
       "\u001b[2;36m[05/03/24 18:03:59]\u001b[0m\u001b[2;36m \u001b[0m\u001b[34mINFO    \u001b[0m Found \u001b[1;36m12\u001b[0m disulfide interactions.                                      \u001b[2mdistance.py\u001b[0m\u001b[2m:\u001b[0m\u001b[2m1344\u001b[0m\n"
      ]
     },
     "metadata": {},
     "output_type": "display_data"
    },
    {
     "data": {
      "text/html": [
       "<pre style=\"white-space:pre;overflow-x:auto;line-height:normal;font-family:Menlo,'DejaVu Sans Mono',consolas,'Courier New',monospace\"><span style=\"color: #7fbfbf; text-decoration-color: #7fbfbf\">                    </span><span style=\"color: #000080; text-decoration-color: #000080\">INFO    </span> Found <span style=\"color: #008080; text-decoration-color: #008080; font-weight: bold\">190</span> hbond interactions.                                         <span style=\"color: #7f7f7f; text-decoration-color: #7f7f7f\">distance.py:1344</span>\n",
       "</pre>\n"
      ],
      "text/plain": [
       "\u001b[2;36m                   \u001b[0m\u001b[2;36m \u001b[0m\u001b[34mINFO    \u001b[0m Found \u001b[1;36m190\u001b[0m hbond interactions.                                         \u001b[2mdistance.py\u001b[0m\u001b[2m:\u001b[0m\u001b[2m1344\u001b[0m\n"
      ]
     },
     "metadata": {},
     "output_type": "display_data"
    },
    {
     "data": {
      "text/html": [
       "<pre style=\"white-space:pre;overflow-x:auto;line-height:normal;font-family:Menlo,'DejaVu Sans Mono',consolas,'Courier New',monospace\"><span style=\"color: #7fbfbf; text-decoration-color: #7fbfbf\">                    </span><span style=\"color: #000080; text-decoration-color: #000080\">INFO    </span> Found <span style=\"color: #008080; text-decoration-color: #008080; font-weight: bold\">22</span> hbond interactions.                                          <span style=\"color: #7f7f7f; text-decoration-color: #7f7f7f\">distance.py:1344</span>\n",
       "</pre>\n"
      ],
      "text/plain": [
       "\u001b[2;36m                   \u001b[0m\u001b[2;36m \u001b[0m\u001b[34mINFO    \u001b[0m Found \u001b[1;36m22\u001b[0m hbond interactions.                                          \u001b[2mdistance.py\u001b[0m\u001b[2m:\u001b[0m\u001b[2m1344\u001b[0m\n"
      ]
     },
     "metadata": {},
     "output_type": "display_data"
    },
    {
     "data": {
      "text/html": [
       "<pre style=\"white-space:pre;overflow-x:auto;line-height:normal;font-family:Menlo,'DejaVu Sans Mono',consolas,'Courier New',monospace\"><span style=\"color: #7fbfbf; text-decoration-color: #7fbfbf\">                    </span><span style=\"color: #000080; text-decoration-color: #000080\">INFO    </span> Found <span style=\"color: #008080; text-decoration-color: #008080; font-weight: bold\">3488</span> ionic interactions.                                        <span style=\"color: #7f7f7f; text-decoration-color: #7f7f7f\">distance.py:1344</span>\n",
       "</pre>\n"
      ],
      "text/plain": [
       "\u001b[2;36m                   \u001b[0m\u001b[2;36m \u001b[0m\u001b[34mINFO    \u001b[0m Found \u001b[1;36m3488\u001b[0m ionic interactions.                                        \u001b[2mdistance.py\u001b[0m\u001b[2m:\u001b[0m\u001b[2m1344\u001b[0m\n"
      ]
     },
     "metadata": {},
     "output_type": "display_data"
    },
    {
     "data": {
      "text/html": [
       "<pre style=\"white-space:pre;overflow-x:auto;line-height:normal;font-family:Menlo,'DejaVu Sans Mono',consolas,'Courier New',monospace\"></pre>\n"
      ],
      "text/plain": []
     },
     "metadata": {},
     "output_type": "display_data"
    },
    {
     "data": {
      "text/html": [
       "<pre style=\"white-space:pre;overflow-x:auto;line-height:normal;font-family:Menlo,'DejaVu Sans Mono',consolas,'Courier New',monospace\">\n",
       "</pre>\n"
      ],
      "text/plain": [
       "\n"
      ]
     },
     "metadata": {},
     "output_type": "display_data"
    },
    {
     "data": {
      "application/vnd.jupyter.widget-view+json": {
       "model_id": "15e47258d7414a1a946cf7c08b06ad60",
       "version_major": 2,
       "version_minor": 0
      },
      "text/plain": [
       "Output()"
      ]
     },
     "metadata": {},
     "output_type": "display_data"
    },
    {
     "data": {
      "text/html": [
       "<pre style=\"white-space:pre;overflow-x:auto;line-height:normal;font-family:Menlo,'DejaVu Sans Mono',consolas,'Courier New',monospace\"><span style=\"color: #7fbfbf; text-decoration-color: #7fbfbf\">                    </span><span style=\"color: #008000; text-decoration-color: #008000\">DEBUG   </span> Deprotonating protein. This removes H atoms from the pdb_df dataframe    <span style=\"color: #7f7f7f; text-decoration-color: #7f7f7f\">graphs.py:188</span>\n",
       "</pre>\n"
      ],
      "text/plain": [
       "\u001b[2;36m                   \u001b[0m\u001b[2;36m \u001b[0m\u001b[32mDEBUG   \u001b[0m Deprotonating protein. This removes H atoms from the pdb_df dataframe    \u001b[2mgraphs.py\u001b[0m\u001b[2m:\u001b[0m\u001b[2m188\u001b[0m\n"
      ]
     },
     "metadata": {},
     "output_type": "display_data"
    },
    {
     "data": {
      "text/html": [
       "<pre style=\"white-space:pre;overflow-x:auto;line-height:normal;font-family:Menlo,'DejaVu Sans Mono',consolas,'Courier New',monospace\"><span style=\"color: #7fbfbf; text-decoration-color: #7fbfbf\">                    </span><span style=\"color: #008000; text-decoration-color: #008000\">DEBUG   </span> Detected <span style=\"color: #008080; text-decoration-color: #008080; font-weight: bold\">445</span> total nodes                                                 <span style=\"color: #7f7f7f; text-decoration-color: #7f7f7f\">graphs.py:435</span>\n",
       "</pre>\n"
      ],
      "text/plain": [
       "\u001b[2;36m                   \u001b[0m\u001b[2;36m \u001b[0m\u001b[32mDEBUG   \u001b[0m Detected \u001b[1;36m445\u001b[0m total nodes                                                 \u001b[2mgraphs.py\u001b[0m\u001b[2m:\u001b[0m\u001b[2m435\u001b[0m\n"
      ]
     },
     "metadata": {},
     "output_type": "display_data"
    },
    {
     "data": {
      "text/html": [
       "<pre style=\"white-space:pre;overflow-x:auto;line-height:normal;font-family:Menlo,'DejaVu Sans Mono',consolas,'Courier New',monospace\">c:\\Users\\HUAWEI\\Desktop\\materiale \n",
       "magistrale\\CHL\\CHL-Project\\.venv\\lib\\site-packages\\graphein\\protein\\edges\\distance.py:1213: FutureWarning: The \n",
       "default value of numeric_only in DataFrameGroupBy.mean is deprecated. In a future version, numeric_only will \n",
       "default to False. Either specify numeric_only or select only columns which should be valid for the function.\n",
       "  .mean()[[\"x_coord\", \"y_coord\", \"z_coord\"]]\n",
       "</pre>\n"
      ],
      "text/plain": [
       "c:\\Users\\HUAWEI\\Desktop\\materiale \n",
       "magistrale\\CHL\\CHL-Project\\.venv\\lib\\site-packages\\graphein\\protein\\edges\\distance.py:1213: FutureWarning: The \n",
       "default value of numeric_only in DataFrameGroupBy.mean is deprecated. In a future version, numeric_only will \n",
       "default to False. Either specify numeric_only or select only columns which should be valid for the function.\n",
       "  .mean()[[\"x_coord\", \"y_coord\", \"z_coord\"]]\n"
      ]
     },
     "metadata": {},
     "output_type": "display_data"
    },
    {
     "data": {
      "text/html": [
       "<pre style=\"white-space:pre;overflow-x:auto;line-height:normal;font-family:Menlo,'DejaVu Sans Mono',consolas,'Courier New',monospace\">c:\\Users\\HUAWEI\\Desktop\\materiale \n",
       "magistrale\\CHL\\CHL-Project\\.venv\\lib\\site-packages\\graphein\\protein\\edges\\distance.py:1213: FutureWarning: The \n",
       "default value of numeric_only in DataFrameGroupBy.mean is deprecated. In a future version, numeric_only will \n",
       "default to False. Either specify numeric_only or select only columns which should be valid for the function.\n",
       "  .mean()[[\"x_coord\", \"y_coord\", \"z_coord\"]]\n",
       "</pre>\n"
      ],
      "text/plain": [
       "c:\\Users\\HUAWEI\\Desktop\\materiale \n",
       "magistrale\\CHL\\CHL-Project\\.venv\\lib\\site-packages\\graphein\\protein\\edges\\distance.py:1213: FutureWarning: The \n",
       "default value of numeric_only in DataFrameGroupBy.mean is deprecated. In a future version, numeric_only will \n",
       "default to False. Either specify numeric_only or select only columns which should be valid for the function.\n",
       "  .mean()[[\"x_coord\", \"y_coord\", \"z_coord\"]]\n"
      ]
     },
     "metadata": {},
     "output_type": "display_data"
    },
    {
     "data": {
      "text/html": [
       "<pre style=\"white-space:pre;overflow-x:auto;line-height:normal;font-family:Menlo,'DejaVu Sans Mono',consolas,'Courier New',monospace\">c:\\Users\\HUAWEI\\Desktop\\materiale \n",
       "magistrale\\CHL\\CHL-Project\\.venv\\lib\\site-packages\\graphein\\protein\\edges\\distance.py:1213: FutureWarning: The \n",
       "default value of numeric_only in DataFrameGroupBy.mean is deprecated. In a future version, numeric_only will \n",
       "default to False. Either specify numeric_only or select only columns which should be valid for the function.\n",
       "  .mean()[[\"x_coord\", \"y_coord\", \"z_coord\"]]\n",
       "</pre>\n"
      ],
      "text/plain": [
       "c:\\Users\\HUAWEI\\Desktop\\materiale \n",
       "magistrale\\CHL\\CHL-Project\\.venv\\lib\\site-packages\\graphein\\protein\\edges\\distance.py:1213: FutureWarning: The \n",
       "default value of numeric_only in DataFrameGroupBy.mean is deprecated. In a future version, numeric_only will \n",
       "default to False. Either specify numeric_only or select only columns which should be valid for the function.\n",
       "  .mean()[[\"x_coord\", \"y_coord\", \"z_coord\"]]\n"
      ]
     },
     "metadata": {},
     "output_type": "display_data"
    },
    {
     "data": {
      "text/html": [
       "<pre style=\"white-space:pre;overflow-x:auto;line-height:normal;font-family:Menlo,'DejaVu Sans Mono',consolas,'Courier New',monospace\"><span style=\"color: #7fbfbf; text-decoration-color: #7fbfbf\">                    </span><span style=\"color: #000080; text-decoration-color: #000080\">INFO    </span> Found: <span style=\"color: #008080; text-decoration-color: #008080; font-weight: bold\">90</span> aromatic-aromatic interactions                               <span style=\"color: #7f7f7f; text-decoration-color: #7f7f7f\">distance.py:467</span>\n",
       "</pre>\n"
      ],
      "text/plain": [
       "\u001b[2;36m                   \u001b[0m\u001b[2;36m \u001b[0m\u001b[34mINFO    \u001b[0m Found: \u001b[1;36m90\u001b[0m aromatic-aromatic interactions                               \u001b[2mdistance.py\u001b[0m\u001b[2m:\u001b[0m\u001b[2m467\u001b[0m\n"
      ]
     },
     "metadata": {},
     "output_type": "display_data"
    },
    {
     "data": {
      "text/html": [
       "<pre style=\"white-space:pre;overflow-x:auto;line-height:normal;font-family:Menlo,'DejaVu Sans Mono',consolas,'Courier New',monospace\"><span style=\"color: #7fbfbf; text-decoration-color: #7fbfbf\">                    </span><span style=\"color: #000080; text-decoration-color: #000080\">INFO    </span> Found <span style=\"color: #008080; text-decoration-color: #008080; font-weight: bold\">949</span> hydrophobic interactions.                                   <span style=\"color: #7f7f7f; text-decoration-color: #7f7f7f\">distance.py:1344</span>\n",
       "</pre>\n"
      ],
      "text/plain": [
       "\u001b[2;36m                   \u001b[0m\u001b[2;36m \u001b[0m\u001b[34mINFO    \u001b[0m Found \u001b[1;36m949\u001b[0m hydrophobic interactions.                                   \u001b[2mdistance.py\u001b[0m\u001b[2m:\u001b[0m\u001b[2m1344\u001b[0m\n"
      ]
     },
     "metadata": {},
     "output_type": "display_data"
    },
    {
     "data": {
      "text/html": [
       "<pre style=\"white-space:pre;overflow-x:auto;line-height:normal;font-family:Menlo,'DejaVu Sans Mono',consolas,'Courier New',monospace\"><span style=\"color: #7fbfbf; text-decoration-color: #7fbfbf\">[05/03/24 18:04:00] </span><span style=\"color: #000080; text-decoration-color: #000080\">INFO    </span> Found <span style=\"color: #008080; text-decoration-color: #008080; font-weight: bold\">12</span> disulfide interactions.                                      <span style=\"color: #7f7f7f; text-decoration-color: #7f7f7f\">distance.py:1344</span>\n",
       "</pre>\n"
      ],
      "text/plain": [
       "\u001b[2;36m[05/03/24 18:04:00]\u001b[0m\u001b[2;36m \u001b[0m\u001b[34mINFO    \u001b[0m Found \u001b[1;36m12\u001b[0m disulfide interactions.                                      \u001b[2mdistance.py\u001b[0m\u001b[2m:\u001b[0m\u001b[2m1344\u001b[0m\n"
      ]
     },
     "metadata": {},
     "output_type": "display_data"
    },
    {
     "data": {
      "text/html": [
       "<pre style=\"white-space:pre;overflow-x:auto;line-height:normal;font-family:Menlo,'DejaVu Sans Mono',consolas,'Courier New',monospace\"><span style=\"color: #7fbfbf; text-decoration-color: #7fbfbf\">                    </span><span style=\"color: #000080; text-decoration-color: #000080\">INFO    </span> Found <span style=\"color: #008080; text-decoration-color: #008080; font-weight: bold\">192</span> hbond interactions.                                         <span style=\"color: #7f7f7f; text-decoration-color: #7f7f7f\">distance.py:1344</span>\n",
       "</pre>\n"
      ],
      "text/plain": [
       "\u001b[2;36m                   \u001b[0m\u001b[2;36m \u001b[0m\u001b[34mINFO    \u001b[0m Found \u001b[1;36m192\u001b[0m hbond interactions.                                         \u001b[2mdistance.py\u001b[0m\u001b[2m:\u001b[0m\u001b[2m1344\u001b[0m\n"
      ]
     },
     "metadata": {},
     "output_type": "display_data"
    },
    {
     "data": {
      "text/html": [
       "<pre style=\"white-space:pre;overflow-x:auto;line-height:normal;font-family:Menlo,'DejaVu Sans Mono',consolas,'Courier New',monospace\"><span style=\"color: #7fbfbf; text-decoration-color: #7fbfbf\">                    </span><span style=\"color: #000080; text-decoration-color: #000080\">INFO    </span> Found <span style=\"color: #008080; text-decoration-color: #008080; font-weight: bold\">22</span> hbond interactions.                                          <span style=\"color: #7f7f7f; text-decoration-color: #7f7f7f\">distance.py:1344</span>\n",
       "</pre>\n"
      ],
      "text/plain": [
       "\u001b[2;36m                   \u001b[0m\u001b[2;36m \u001b[0m\u001b[34mINFO    \u001b[0m Found \u001b[1;36m22\u001b[0m hbond interactions.                                          \u001b[2mdistance.py\u001b[0m\u001b[2m:\u001b[0m\u001b[2m1344\u001b[0m\n"
      ]
     },
     "metadata": {},
     "output_type": "display_data"
    },
    {
     "data": {
      "text/html": [
       "<pre style=\"white-space:pre;overflow-x:auto;line-height:normal;font-family:Menlo,'DejaVu Sans Mono',consolas,'Courier New',monospace\"><span style=\"color: #7fbfbf; text-decoration-color: #7fbfbf\">                    </span><span style=\"color: #000080; text-decoration-color: #000080\">INFO    </span> Found <span style=\"color: #008080; text-decoration-color: #008080; font-weight: bold\">3500</span> ionic interactions.                                        <span style=\"color: #7f7f7f; text-decoration-color: #7f7f7f\">distance.py:1344</span>\n",
       "</pre>\n"
      ],
      "text/plain": [
       "\u001b[2;36m                   \u001b[0m\u001b[2;36m \u001b[0m\u001b[34mINFO    \u001b[0m Found \u001b[1;36m3500\u001b[0m ionic interactions.                                        \u001b[2mdistance.py\u001b[0m\u001b[2m:\u001b[0m\u001b[2m1344\u001b[0m\n"
      ]
     },
     "metadata": {},
     "output_type": "display_data"
    },
    {
     "data": {
      "text/html": [
       "<pre style=\"white-space:pre;overflow-x:auto;line-height:normal;font-family:Menlo,'DejaVu Sans Mono',consolas,'Courier New',monospace\"></pre>\n"
      ],
      "text/plain": []
     },
     "metadata": {},
     "output_type": "display_data"
    },
    {
     "data": {
      "text/html": [
       "<pre style=\"white-space:pre;overflow-x:auto;line-height:normal;font-family:Menlo,'DejaVu Sans Mono',consolas,'Courier New',monospace\">\n",
       "</pre>\n"
      ],
      "text/plain": [
       "\n"
      ]
     },
     "metadata": {},
     "output_type": "display_data"
    },
    {
     "data": {
      "application/vnd.jupyter.widget-view+json": {
       "model_id": "4b98515501e6468ca375a5f8ec4b0ffd",
       "version_major": 2,
       "version_minor": 0
      },
      "text/plain": [
       "Output()"
      ]
     },
     "metadata": {},
     "output_type": "display_data"
    },
    {
     "data": {
      "text/html": [
       "<pre style=\"white-space:pre;overflow-x:auto;line-height:normal;font-family:Menlo,'DejaVu Sans Mono',consolas,'Courier New',monospace\"><span style=\"color: #7fbfbf; text-decoration-color: #7fbfbf\">                    </span><span style=\"color: #008000; text-decoration-color: #008000\">DEBUG   </span> Deprotonating protein. This removes H atoms from the pdb_df dataframe    <span style=\"color: #7f7f7f; text-decoration-color: #7f7f7f\">graphs.py:188</span>\n",
       "</pre>\n"
      ],
      "text/plain": [
       "\u001b[2;36m                   \u001b[0m\u001b[2;36m \u001b[0m\u001b[32mDEBUG   \u001b[0m Deprotonating protein. This removes H atoms from the pdb_df dataframe    \u001b[2mgraphs.py\u001b[0m\u001b[2m:\u001b[0m\u001b[2m188\u001b[0m\n"
      ]
     },
     "metadata": {},
     "output_type": "display_data"
    },
    {
     "data": {
      "text/html": [
       "<pre style=\"white-space:pre;overflow-x:auto;line-height:normal;font-family:Menlo,'DejaVu Sans Mono',consolas,'Courier New',monospace\"><span style=\"color: #7fbfbf; text-decoration-color: #7fbfbf\">                    </span><span style=\"color: #008000; text-decoration-color: #008000\">DEBUG   </span> Detected <span style=\"color: #008080; text-decoration-color: #008080; font-weight: bold\">445</span> total nodes                                                 <span style=\"color: #7f7f7f; text-decoration-color: #7f7f7f\">graphs.py:435</span>\n",
       "</pre>\n"
      ],
      "text/plain": [
       "\u001b[2;36m                   \u001b[0m\u001b[2;36m \u001b[0m\u001b[32mDEBUG   \u001b[0m Detected \u001b[1;36m445\u001b[0m total nodes                                                 \u001b[2mgraphs.py\u001b[0m\u001b[2m:\u001b[0m\u001b[2m435\u001b[0m\n"
      ]
     },
     "metadata": {},
     "output_type": "display_data"
    },
    {
     "data": {
      "text/html": [
       "<pre style=\"white-space:pre;overflow-x:auto;line-height:normal;font-family:Menlo,'DejaVu Sans Mono',consolas,'Courier New',monospace\">c:\\Users\\HUAWEI\\Desktop\\materiale \n",
       "magistrale\\CHL\\CHL-Project\\.venv\\lib\\site-packages\\graphein\\protein\\edges\\distance.py:1213: FutureWarning: The \n",
       "default value of numeric_only in DataFrameGroupBy.mean is deprecated. In a future version, numeric_only will \n",
       "default to False. Either specify numeric_only or select only columns which should be valid for the function.\n",
       "  .mean()[[\"x_coord\", \"y_coord\", \"z_coord\"]]\n",
       "</pre>\n"
      ],
      "text/plain": [
       "c:\\Users\\HUAWEI\\Desktop\\materiale \n",
       "magistrale\\CHL\\CHL-Project\\.venv\\lib\\site-packages\\graphein\\protein\\edges\\distance.py:1213: FutureWarning: The \n",
       "default value of numeric_only in DataFrameGroupBy.mean is deprecated. In a future version, numeric_only will \n",
       "default to False. Either specify numeric_only or select only columns which should be valid for the function.\n",
       "  .mean()[[\"x_coord\", \"y_coord\", \"z_coord\"]]\n"
      ]
     },
     "metadata": {},
     "output_type": "display_data"
    },
    {
     "data": {
      "text/html": [
       "<pre style=\"white-space:pre;overflow-x:auto;line-height:normal;font-family:Menlo,'DejaVu Sans Mono',consolas,'Courier New',monospace\">c:\\Users\\HUAWEI\\Desktop\\materiale \n",
       "magistrale\\CHL\\CHL-Project\\.venv\\lib\\site-packages\\graphein\\protein\\edges\\distance.py:1213: FutureWarning: The \n",
       "default value of numeric_only in DataFrameGroupBy.mean is deprecated. In a future version, numeric_only will \n",
       "default to False. Either specify numeric_only or select only columns which should be valid for the function.\n",
       "  .mean()[[\"x_coord\", \"y_coord\", \"z_coord\"]]\n",
       "</pre>\n"
      ],
      "text/plain": [
       "c:\\Users\\HUAWEI\\Desktop\\materiale \n",
       "magistrale\\CHL\\CHL-Project\\.venv\\lib\\site-packages\\graphein\\protein\\edges\\distance.py:1213: FutureWarning: The \n",
       "default value of numeric_only in DataFrameGroupBy.mean is deprecated. In a future version, numeric_only will \n",
       "default to False. Either specify numeric_only or select only columns which should be valid for the function.\n",
       "  .mean()[[\"x_coord\", \"y_coord\", \"z_coord\"]]\n"
      ]
     },
     "metadata": {},
     "output_type": "display_data"
    },
    {
     "data": {
      "text/html": [
       "<pre style=\"white-space:pre;overflow-x:auto;line-height:normal;font-family:Menlo,'DejaVu Sans Mono',consolas,'Courier New',monospace\">c:\\Users\\HUAWEI\\Desktop\\materiale \n",
       "magistrale\\CHL\\CHL-Project\\.venv\\lib\\site-packages\\graphein\\protein\\edges\\distance.py:1213: FutureWarning: The \n",
       "default value of numeric_only in DataFrameGroupBy.mean is deprecated. In a future version, numeric_only will \n",
       "default to False. Either specify numeric_only or select only columns which should be valid for the function.\n",
       "  .mean()[[\"x_coord\", \"y_coord\", \"z_coord\"]]\n",
       "</pre>\n"
      ],
      "text/plain": [
       "c:\\Users\\HUAWEI\\Desktop\\materiale \n",
       "magistrale\\CHL\\CHL-Project\\.venv\\lib\\site-packages\\graphein\\protein\\edges\\distance.py:1213: FutureWarning: The \n",
       "default value of numeric_only in DataFrameGroupBy.mean is deprecated. In a future version, numeric_only will \n",
       "default to False. Either specify numeric_only or select only columns which should be valid for the function.\n",
       "  .mean()[[\"x_coord\", \"y_coord\", \"z_coord\"]]\n"
      ]
     },
     "metadata": {},
     "output_type": "display_data"
    },
    {
     "data": {
      "text/html": [
       "<pre style=\"white-space:pre;overflow-x:auto;line-height:normal;font-family:Menlo,'DejaVu Sans Mono',consolas,'Courier New',monospace\">c:\\Users\\HUAWEI\\Desktop\\materiale \n",
       "magistrale\\CHL\\CHL-Project\\.venv\\lib\\site-packages\\graphein\\protein\\edges\\distance.py:1213: FutureWarning: The \n",
       "default value of numeric_only in DataFrameGroupBy.mean is deprecated. In a future version, numeric_only will \n",
       "default to False. Either specify numeric_only or select only columns which should be valid for the function.\n",
       "  .mean()[[\"x_coord\", \"y_coord\", \"z_coord\"]]\n",
       "</pre>\n"
      ],
      "text/plain": [
       "c:\\Users\\HUAWEI\\Desktop\\materiale \n",
       "magistrale\\CHL\\CHL-Project\\.venv\\lib\\site-packages\\graphein\\protein\\edges\\distance.py:1213: FutureWarning: The \n",
       "default value of numeric_only in DataFrameGroupBy.mean is deprecated. In a future version, numeric_only will \n",
       "default to False. Either specify numeric_only or select only columns which should be valid for the function.\n",
       "  .mean()[[\"x_coord\", \"y_coord\", \"z_coord\"]]\n"
      ]
     },
     "metadata": {},
     "output_type": "display_data"
    },
    {
     "data": {
      "text/html": [
       "<pre style=\"white-space:pre;overflow-x:auto;line-height:normal;font-family:Menlo,'DejaVu Sans Mono',consolas,'Courier New',monospace\"><span style=\"color: #7fbfbf; text-decoration-color: #7fbfbf\">                    </span><span style=\"color: #000080; text-decoration-color: #000080\">INFO    </span> Found: <span style=\"color: #008080; text-decoration-color: #008080; font-weight: bold\">90</span> aromatic-aromatic interactions                               <span style=\"color: #7f7f7f; text-decoration-color: #7f7f7f\">distance.py:467</span>\n",
       "</pre>\n"
      ],
      "text/plain": [
       "\u001b[2;36m                   \u001b[0m\u001b[2;36m \u001b[0m\u001b[34mINFO    \u001b[0m Found: \u001b[1;36m90\u001b[0m aromatic-aromatic interactions                               \u001b[2mdistance.py\u001b[0m\u001b[2m:\u001b[0m\u001b[2m467\u001b[0m\n"
      ]
     },
     "metadata": {},
     "output_type": "display_data"
    },
    {
     "data": {
      "text/html": [
       "<pre style=\"white-space:pre;overflow-x:auto;line-height:normal;font-family:Menlo,'DejaVu Sans Mono',consolas,'Courier New',monospace\"><span style=\"color: #7fbfbf; text-decoration-color: #7fbfbf\">[05/03/24 18:04:01] </span><span style=\"color: #000080; text-decoration-color: #000080\">INFO    </span> Found <span style=\"color: #008080; text-decoration-color: #008080; font-weight: bold\">960</span> hydrophobic interactions.                                   <span style=\"color: #7f7f7f; text-decoration-color: #7f7f7f\">distance.py:1344</span>\n",
       "</pre>\n"
      ],
      "text/plain": [
       "\u001b[2;36m[05/03/24 18:04:01]\u001b[0m\u001b[2;36m \u001b[0m\u001b[34mINFO    \u001b[0m Found \u001b[1;36m960\u001b[0m hydrophobic interactions.                                   \u001b[2mdistance.py\u001b[0m\u001b[2m:\u001b[0m\u001b[2m1344\u001b[0m\n"
      ]
     },
     "metadata": {},
     "output_type": "display_data"
    },
    {
     "data": {
      "text/html": [
       "<pre style=\"white-space:pre;overflow-x:auto;line-height:normal;font-family:Menlo,'DejaVu Sans Mono',consolas,'Courier New',monospace\"><span style=\"color: #7fbfbf; text-decoration-color: #7fbfbf\">                    </span><span style=\"color: #000080; text-decoration-color: #000080\">INFO    </span> Found <span style=\"color: #008080; text-decoration-color: #008080; font-weight: bold\">12</span> disulfide interactions.                                      <span style=\"color: #7f7f7f; text-decoration-color: #7f7f7f\">distance.py:1344</span>\n",
       "</pre>\n"
      ],
      "text/plain": [
       "\u001b[2;36m                   \u001b[0m\u001b[2;36m \u001b[0m\u001b[34mINFO    \u001b[0m Found \u001b[1;36m12\u001b[0m disulfide interactions.                                      \u001b[2mdistance.py\u001b[0m\u001b[2m:\u001b[0m\u001b[2m1344\u001b[0m\n"
      ]
     },
     "metadata": {},
     "output_type": "display_data"
    },
    {
     "data": {
      "text/html": [
       "<pre style=\"white-space:pre;overflow-x:auto;line-height:normal;font-family:Menlo,'DejaVu Sans Mono',consolas,'Courier New',monospace\"><span style=\"color: #7fbfbf; text-decoration-color: #7fbfbf\">                    </span><span style=\"color: #000080; text-decoration-color: #000080\">INFO    </span> Found <span style=\"color: #008080; text-decoration-color: #008080; font-weight: bold\">189</span> hbond interactions.                                         <span style=\"color: #7f7f7f; text-decoration-color: #7f7f7f\">distance.py:1344</span>\n",
       "</pre>\n"
      ],
      "text/plain": [
       "\u001b[2;36m                   \u001b[0m\u001b[2;36m \u001b[0m\u001b[34mINFO    \u001b[0m Found \u001b[1;36m189\u001b[0m hbond interactions.                                         \u001b[2mdistance.py\u001b[0m\u001b[2m:\u001b[0m\u001b[2m1344\u001b[0m\n"
      ]
     },
     "metadata": {},
     "output_type": "display_data"
    },
    {
     "data": {
      "text/html": [
       "<pre style=\"white-space:pre;overflow-x:auto;line-height:normal;font-family:Menlo,'DejaVu Sans Mono',consolas,'Courier New',monospace\"><span style=\"color: #7fbfbf; text-decoration-color: #7fbfbf\">                    </span><span style=\"color: #000080; text-decoration-color: #000080\">INFO    </span> Found <span style=\"color: #008080; text-decoration-color: #008080; font-weight: bold\">22</span> hbond interactions.                                          <span style=\"color: #7f7f7f; text-decoration-color: #7f7f7f\">distance.py:1344</span>\n",
       "</pre>\n"
      ],
      "text/plain": [
       "\u001b[2;36m                   \u001b[0m\u001b[2;36m \u001b[0m\u001b[34mINFO    \u001b[0m Found \u001b[1;36m22\u001b[0m hbond interactions.                                          \u001b[2mdistance.py\u001b[0m\u001b[2m:\u001b[0m\u001b[2m1344\u001b[0m\n"
      ]
     },
     "metadata": {},
     "output_type": "display_data"
    },
    {
     "data": {
      "text/html": [
       "<pre style=\"white-space:pre;overflow-x:auto;line-height:normal;font-family:Menlo,'DejaVu Sans Mono',consolas,'Courier New',monospace\"><span style=\"color: #7fbfbf; text-decoration-color: #7fbfbf\">                    </span><span style=\"color: #000080; text-decoration-color: #000080\">INFO    </span> Found <span style=\"color: #008080; text-decoration-color: #008080; font-weight: bold\">3504</span> ionic interactions.                                        <span style=\"color: #7f7f7f; text-decoration-color: #7f7f7f\">distance.py:1344</span>\n",
       "</pre>\n"
      ],
      "text/plain": [
       "\u001b[2;36m                   \u001b[0m\u001b[2;36m \u001b[0m\u001b[34mINFO    \u001b[0m Found \u001b[1;36m3504\u001b[0m ionic interactions.                                        \u001b[2mdistance.py\u001b[0m\u001b[2m:\u001b[0m\u001b[2m1344\u001b[0m\n"
      ]
     },
     "metadata": {},
     "output_type": "display_data"
    },
    {
     "data": {
      "text/html": [
       "<pre style=\"white-space:pre;overflow-x:auto;line-height:normal;font-family:Menlo,'DejaVu Sans Mono',consolas,'Courier New',monospace\"></pre>\n"
      ],
      "text/plain": []
     },
     "metadata": {},
     "output_type": "display_data"
    },
    {
     "data": {
      "text/html": [
       "<pre style=\"white-space:pre;overflow-x:auto;line-height:normal;font-family:Menlo,'DejaVu Sans Mono',consolas,'Courier New',monospace\">\n",
       "</pre>\n"
      ],
      "text/plain": [
       "\n"
      ]
     },
     "metadata": {},
     "output_type": "display_data"
    },
    {
     "data": {
      "application/vnd.jupyter.widget-view+json": {
       "model_id": "65f5006b4a4c434da09322f9d98c045b",
       "version_major": 2,
       "version_minor": 0
      },
      "text/plain": [
       "Output()"
      ]
     },
     "metadata": {},
     "output_type": "display_data"
    },
    {
     "data": {
      "text/html": [
       "<pre style=\"white-space:pre;overflow-x:auto;line-height:normal;font-family:Menlo,'DejaVu Sans Mono',consolas,'Courier New',monospace\"><span style=\"color: #7fbfbf; text-decoration-color: #7fbfbf\">[05/03/24 18:04:02] </span><span style=\"color: #008000; text-decoration-color: #008000\">DEBUG   </span> Deprotonating protein. This removes H atoms from the pdb_df dataframe    <span style=\"color: #7f7f7f; text-decoration-color: #7f7f7f\">graphs.py:188</span>\n",
       "</pre>\n"
      ],
      "text/plain": [
       "\u001b[2;36m[05/03/24 18:04:02]\u001b[0m\u001b[2;36m \u001b[0m\u001b[32mDEBUG   \u001b[0m Deprotonating protein. This removes H atoms from the pdb_df dataframe    \u001b[2mgraphs.py\u001b[0m\u001b[2m:\u001b[0m\u001b[2m188\u001b[0m\n"
      ]
     },
     "metadata": {},
     "output_type": "display_data"
    },
    {
     "data": {
      "text/html": [
       "<pre style=\"white-space:pre;overflow-x:auto;line-height:normal;font-family:Menlo,'DejaVu Sans Mono',consolas,'Courier New',monospace\"><span style=\"color: #7fbfbf; text-decoration-color: #7fbfbf\">                    </span><span style=\"color: #008000; text-decoration-color: #008000\">DEBUG   </span> Detected <span style=\"color: #008080; text-decoration-color: #008080; font-weight: bold\">445</span> total nodes                                                 <span style=\"color: #7f7f7f; text-decoration-color: #7f7f7f\">graphs.py:435</span>\n",
       "</pre>\n"
      ],
      "text/plain": [
       "\u001b[2;36m                   \u001b[0m\u001b[2;36m \u001b[0m\u001b[32mDEBUG   \u001b[0m Detected \u001b[1;36m445\u001b[0m total nodes                                                 \u001b[2mgraphs.py\u001b[0m\u001b[2m:\u001b[0m\u001b[2m435\u001b[0m\n"
      ]
     },
     "metadata": {},
     "output_type": "display_data"
    },
    {
     "data": {
      "text/html": [
       "<pre style=\"white-space:pre;overflow-x:auto;line-height:normal;font-family:Menlo,'DejaVu Sans Mono',consolas,'Courier New',monospace\">c:\\Users\\HUAWEI\\Desktop\\materiale \n",
       "magistrale\\CHL\\CHL-Project\\.venv\\lib\\site-packages\\graphein\\protein\\edges\\distance.py:1213: FutureWarning: The \n",
       "default value of numeric_only in DataFrameGroupBy.mean is deprecated. In a future version, numeric_only will \n",
       "default to False. Either specify numeric_only or select only columns which should be valid for the function.\n",
       "  .mean()[[\"x_coord\", \"y_coord\", \"z_coord\"]]\n",
       "</pre>\n"
      ],
      "text/plain": [
       "c:\\Users\\HUAWEI\\Desktop\\materiale \n",
       "magistrale\\CHL\\CHL-Project\\.venv\\lib\\site-packages\\graphein\\protein\\edges\\distance.py:1213: FutureWarning: The \n",
       "default value of numeric_only in DataFrameGroupBy.mean is deprecated. In a future version, numeric_only will \n",
       "default to False. Either specify numeric_only or select only columns which should be valid for the function.\n",
       "  .mean()[[\"x_coord\", \"y_coord\", \"z_coord\"]]\n"
      ]
     },
     "metadata": {},
     "output_type": "display_data"
    },
    {
     "data": {
      "text/html": [
       "<pre style=\"white-space:pre;overflow-x:auto;line-height:normal;font-family:Menlo,'DejaVu Sans Mono',consolas,'Courier New',monospace\">c:\\Users\\HUAWEI\\Desktop\\materiale \n",
       "magistrale\\CHL\\CHL-Project\\.venv\\lib\\site-packages\\graphein\\protein\\edges\\distance.py:1213: FutureWarning: The \n",
       "default value of numeric_only in DataFrameGroupBy.mean is deprecated. In a future version, numeric_only will \n",
       "default to False. Either specify numeric_only or select only columns which should be valid for the function.\n",
       "  .mean()[[\"x_coord\", \"y_coord\", \"z_coord\"]]\n",
       "</pre>\n"
      ],
      "text/plain": [
       "c:\\Users\\HUAWEI\\Desktop\\materiale \n",
       "magistrale\\CHL\\CHL-Project\\.venv\\lib\\site-packages\\graphein\\protein\\edges\\distance.py:1213: FutureWarning: The \n",
       "default value of numeric_only in DataFrameGroupBy.mean is deprecated. In a future version, numeric_only will \n",
       "default to False. Either specify numeric_only or select only columns which should be valid for the function.\n",
       "  .mean()[[\"x_coord\", \"y_coord\", \"z_coord\"]]\n"
      ]
     },
     "metadata": {},
     "output_type": "display_data"
    },
    {
     "data": {
      "text/html": [
       "<pre style=\"white-space:pre;overflow-x:auto;line-height:normal;font-family:Menlo,'DejaVu Sans Mono',consolas,'Courier New',monospace\">c:\\Users\\HUAWEI\\Desktop\\materiale \n",
       "magistrale\\CHL\\CHL-Project\\.venv\\lib\\site-packages\\graphein\\protein\\edges\\distance.py:1213: FutureWarning: The \n",
       "default value of numeric_only in DataFrameGroupBy.mean is deprecated. In a future version, numeric_only will \n",
       "default to False. Either specify numeric_only or select only columns which should be valid for the function.\n",
       "  .mean()[[\"x_coord\", \"y_coord\", \"z_coord\"]]\n",
       "</pre>\n"
      ],
      "text/plain": [
       "c:\\Users\\HUAWEI\\Desktop\\materiale \n",
       "magistrale\\CHL\\CHL-Project\\.venv\\lib\\site-packages\\graphein\\protein\\edges\\distance.py:1213: FutureWarning: The \n",
       "default value of numeric_only in DataFrameGroupBy.mean is deprecated. In a future version, numeric_only will \n",
       "default to False. Either specify numeric_only or select only columns which should be valid for the function.\n",
       "  .mean()[[\"x_coord\", \"y_coord\", \"z_coord\"]]\n"
      ]
     },
     "metadata": {},
     "output_type": "display_data"
    },
    {
     "data": {
      "text/html": [
       "<pre style=\"white-space:pre;overflow-x:auto;line-height:normal;font-family:Menlo,'DejaVu Sans Mono',consolas,'Courier New',monospace\"><span style=\"color: #7fbfbf; text-decoration-color: #7fbfbf\">                    </span><span style=\"color: #000080; text-decoration-color: #000080\">INFO    </span> Found: <span style=\"color: #008080; text-decoration-color: #008080; font-weight: bold\">92</span> aromatic-aromatic interactions                               <span style=\"color: #7f7f7f; text-decoration-color: #7f7f7f\">distance.py:467</span>\n",
       "</pre>\n"
      ],
      "text/plain": [
       "\u001b[2;36m                   \u001b[0m\u001b[2;36m \u001b[0m\u001b[34mINFO    \u001b[0m Found: \u001b[1;36m92\u001b[0m aromatic-aromatic interactions                               \u001b[2mdistance.py\u001b[0m\u001b[2m:\u001b[0m\u001b[2m467\u001b[0m\n"
      ]
     },
     "metadata": {},
     "output_type": "display_data"
    },
    {
     "data": {
      "text/html": [
       "<pre style=\"white-space:pre;overflow-x:auto;line-height:normal;font-family:Menlo,'DejaVu Sans Mono',consolas,'Courier New',monospace\"><span style=\"color: #7fbfbf; text-decoration-color: #7fbfbf\">                    </span><span style=\"color: #000080; text-decoration-color: #000080\">INFO    </span> Found <span style=\"color: #008080; text-decoration-color: #008080; font-weight: bold\">964</span> hydrophobic interactions.                                   <span style=\"color: #7f7f7f; text-decoration-color: #7f7f7f\">distance.py:1344</span>\n",
       "</pre>\n"
      ],
      "text/plain": [
       "\u001b[2;36m                   \u001b[0m\u001b[2;36m \u001b[0m\u001b[34mINFO    \u001b[0m Found \u001b[1;36m964\u001b[0m hydrophobic interactions.                                   \u001b[2mdistance.py\u001b[0m\u001b[2m:\u001b[0m\u001b[2m1344\u001b[0m\n"
      ]
     },
     "metadata": {},
     "output_type": "display_data"
    },
    {
     "data": {
      "text/html": [
       "<pre style=\"white-space:pre;overflow-x:auto;line-height:normal;font-family:Menlo,'DejaVu Sans Mono',consolas,'Courier New',monospace\"><span style=\"color: #7fbfbf; text-decoration-color: #7fbfbf\">[05/03/24 18:04:03] </span><span style=\"color: #000080; text-decoration-color: #000080\">INFO    </span> Found <span style=\"color: #008080; text-decoration-color: #008080; font-weight: bold\">12</span> disulfide interactions.                                      <span style=\"color: #7f7f7f; text-decoration-color: #7f7f7f\">distance.py:1344</span>\n",
       "</pre>\n"
      ],
      "text/plain": [
       "\u001b[2;36m[05/03/24 18:04:03]\u001b[0m\u001b[2;36m \u001b[0m\u001b[34mINFO    \u001b[0m Found \u001b[1;36m12\u001b[0m disulfide interactions.                                      \u001b[2mdistance.py\u001b[0m\u001b[2m:\u001b[0m\u001b[2m1344\u001b[0m\n"
      ]
     },
     "metadata": {},
     "output_type": "display_data"
    },
    {
     "data": {
      "text/html": [
       "<pre style=\"white-space:pre;overflow-x:auto;line-height:normal;font-family:Menlo,'DejaVu Sans Mono',consolas,'Courier New',monospace\"><span style=\"color: #7fbfbf; text-decoration-color: #7fbfbf\">                    </span><span style=\"color: #000080; text-decoration-color: #000080\">INFO    </span> Found <span style=\"color: #008080; text-decoration-color: #008080; font-weight: bold\">185</span> hbond interactions.                                         <span style=\"color: #7f7f7f; text-decoration-color: #7f7f7f\">distance.py:1344</span>\n",
       "</pre>\n"
      ],
      "text/plain": [
       "\u001b[2;36m                   \u001b[0m\u001b[2;36m \u001b[0m\u001b[34mINFO    \u001b[0m Found \u001b[1;36m185\u001b[0m hbond interactions.                                         \u001b[2mdistance.py\u001b[0m\u001b[2m:\u001b[0m\u001b[2m1344\u001b[0m\n"
      ]
     },
     "metadata": {},
     "output_type": "display_data"
    },
    {
     "data": {
      "text/html": [
       "<pre style=\"white-space:pre;overflow-x:auto;line-height:normal;font-family:Menlo,'DejaVu Sans Mono',consolas,'Courier New',monospace\"><span style=\"color: #7fbfbf; text-decoration-color: #7fbfbf\">                    </span><span style=\"color: #000080; text-decoration-color: #000080\">INFO    </span> Found <span style=\"color: #008080; text-decoration-color: #008080; font-weight: bold\">22</span> hbond interactions.                                          <span style=\"color: #7f7f7f; text-decoration-color: #7f7f7f\">distance.py:1344</span>\n",
       "</pre>\n"
      ],
      "text/plain": [
       "\u001b[2;36m                   \u001b[0m\u001b[2;36m \u001b[0m\u001b[34mINFO    \u001b[0m Found \u001b[1;36m22\u001b[0m hbond interactions.                                          \u001b[2mdistance.py\u001b[0m\u001b[2m:\u001b[0m\u001b[2m1344\u001b[0m\n"
      ]
     },
     "metadata": {},
     "output_type": "display_data"
    },
    {
     "data": {
      "text/html": [
       "<pre style=\"white-space:pre;overflow-x:auto;line-height:normal;font-family:Menlo,'DejaVu Sans Mono',consolas,'Courier New',monospace\"><span style=\"color: #7fbfbf; text-decoration-color: #7fbfbf\">                    </span><span style=\"color: #000080; text-decoration-color: #000080\">INFO    </span> Found <span style=\"color: #008080; text-decoration-color: #008080; font-weight: bold\">3490</span> ionic interactions.                                        <span style=\"color: #7f7f7f; text-decoration-color: #7f7f7f\">distance.py:1344</span>\n",
       "</pre>\n"
      ],
      "text/plain": [
       "\u001b[2;36m                   \u001b[0m\u001b[2;36m \u001b[0m\u001b[34mINFO    \u001b[0m Found \u001b[1;36m3490\u001b[0m ionic interactions.                                        \u001b[2mdistance.py\u001b[0m\u001b[2m:\u001b[0m\u001b[2m1344\u001b[0m\n"
      ]
     },
     "metadata": {},
     "output_type": "display_data"
    },
    {
     "data": {
      "text/html": [
       "<pre style=\"white-space:pre;overflow-x:auto;line-height:normal;font-family:Menlo,'DejaVu Sans Mono',consolas,'Courier New',monospace\"></pre>\n"
      ],
      "text/plain": []
     },
     "metadata": {},
     "output_type": "display_data"
    },
    {
     "data": {
      "text/html": [
       "<pre style=\"white-space:pre;overflow-x:auto;line-height:normal;font-family:Menlo,'DejaVu Sans Mono',consolas,'Courier New',monospace\">\n",
       "</pre>\n"
      ],
      "text/plain": [
       "\n"
      ]
     },
     "metadata": {},
     "output_type": "display_data"
    },
    {
     "data": {
      "application/vnd.jupyter.widget-view+json": {
       "model_id": "bd6a3440d02d49a0a12c2a05c50f0f45",
       "version_major": 2,
       "version_minor": 0
      },
      "text/plain": [
       "Output()"
      ]
     },
     "metadata": {},
     "output_type": "display_data"
    },
    {
     "data": {
      "text/html": [
       "<pre style=\"white-space:pre;overflow-x:auto;line-height:normal;font-family:Menlo,'DejaVu Sans Mono',consolas,'Courier New',monospace\"><span style=\"color: #7fbfbf; text-decoration-color: #7fbfbf\">                    </span><span style=\"color: #008000; text-decoration-color: #008000\">DEBUG   </span> Deprotonating protein. This removes H atoms from the pdb_df dataframe    <span style=\"color: #7f7f7f; text-decoration-color: #7f7f7f\">graphs.py:188</span>\n",
       "</pre>\n"
      ],
      "text/plain": [
       "\u001b[2;36m                   \u001b[0m\u001b[2;36m \u001b[0m\u001b[32mDEBUG   \u001b[0m Deprotonating protein. This removes H atoms from the pdb_df dataframe    \u001b[2mgraphs.py\u001b[0m\u001b[2m:\u001b[0m\u001b[2m188\u001b[0m\n"
      ]
     },
     "metadata": {},
     "output_type": "display_data"
    },
    {
     "data": {
      "text/html": [
       "<pre style=\"white-space:pre;overflow-x:auto;line-height:normal;font-family:Menlo,'DejaVu Sans Mono',consolas,'Courier New',monospace\"><span style=\"color: #7fbfbf; text-decoration-color: #7fbfbf\">                    </span><span style=\"color: #008000; text-decoration-color: #008000\">DEBUG   </span> Detected <span style=\"color: #008080; text-decoration-color: #008080; font-weight: bold\">445</span> total nodes                                                 <span style=\"color: #7f7f7f; text-decoration-color: #7f7f7f\">graphs.py:435</span>\n",
       "</pre>\n"
      ],
      "text/plain": [
       "\u001b[2;36m                   \u001b[0m\u001b[2;36m \u001b[0m\u001b[32mDEBUG   \u001b[0m Detected \u001b[1;36m445\u001b[0m total nodes                                                 \u001b[2mgraphs.py\u001b[0m\u001b[2m:\u001b[0m\u001b[2m435\u001b[0m\n"
      ]
     },
     "metadata": {},
     "output_type": "display_data"
    },
    {
     "data": {
      "text/html": [
       "<pre style=\"white-space:pre;overflow-x:auto;line-height:normal;font-family:Menlo,'DejaVu Sans Mono',consolas,'Courier New',monospace\">c:\\Users\\HUAWEI\\Desktop\\materiale \n",
       "magistrale\\CHL\\CHL-Project\\.venv\\lib\\site-packages\\graphein\\protein\\edges\\distance.py:1213: FutureWarning: The \n",
       "default value of numeric_only in DataFrameGroupBy.mean is deprecated. In a future version, numeric_only will \n",
       "default to False. Either specify numeric_only or select only columns which should be valid for the function.\n",
       "  .mean()[[\"x_coord\", \"y_coord\", \"z_coord\"]]\n",
       "</pre>\n"
      ],
      "text/plain": [
       "c:\\Users\\HUAWEI\\Desktop\\materiale \n",
       "magistrale\\CHL\\CHL-Project\\.venv\\lib\\site-packages\\graphein\\protein\\edges\\distance.py:1213: FutureWarning: The \n",
       "default value of numeric_only in DataFrameGroupBy.mean is deprecated. In a future version, numeric_only will \n",
       "default to False. Either specify numeric_only or select only columns which should be valid for the function.\n",
       "  .mean()[[\"x_coord\", \"y_coord\", \"z_coord\"]]\n"
      ]
     },
     "metadata": {},
     "output_type": "display_data"
    },
    {
     "data": {
      "text/html": [
       "<pre style=\"white-space:pre;overflow-x:auto;line-height:normal;font-family:Menlo,'DejaVu Sans Mono',consolas,'Courier New',monospace\">c:\\Users\\HUAWEI\\Desktop\\materiale \n",
       "magistrale\\CHL\\CHL-Project\\.venv\\lib\\site-packages\\graphein\\protein\\edges\\distance.py:1213: FutureWarning: The \n",
       "default value of numeric_only in DataFrameGroupBy.mean is deprecated. In a future version, numeric_only will \n",
       "default to False. Either specify numeric_only or select only columns which should be valid for the function.\n",
       "  .mean()[[\"x_coord\", \"y_coord\", \"z_coord\"]]\n",
       "</pre>\n"
      ],
      "text/plain": [
       "c:\\Users\\HUAWEI\\Desktop\\materiale \n",
       "magistrale\\CHL\\CHL-Project\\.venv\\lib\\site-packages\\graphein\\protein\\edges\\distance.py:1213: FutureWarning: The \n",
       "default value of numeric_only in DataFrameGroupBy.mean is deprecated. In a future version, numeric_only will \n",
       "default to False. Either specify numeric_only or select only columns which should be valid for the function.\n",
       "  .mean()[[\"x_coord\", \"y_coord\", \"z_coord\"]]\n"
      ]
     },
     "metadata": {},
     "output_type": "display_data"
    },
    {
     "data": {
      "text/html": [
       "<pre style=\"white-space:pre;overflow-x:auto;line-height:normal;font-family:Menlo,'DejaVu Sans Mono',consolas,'Courier New',monospace\">c:\\Users\\HUAWEI\\Desktop\\materiale \n",
       "magistrale\\CHL\\CHL-Project\\.venv\\lib\\site-packages\\graphein\\protein\\edges\\distance.py:1213: FutureWarning: The \n",
       "default value of numeric_only in DataFrameGroupBy.mean is deprecated. In a future version, numeric_only will \n",
       "default to False. Either specify numeric_only or select only columns which should be valid for the function.\n",
       "  .mean()[[\"x_coord\", \"y_coord\", \"z_coord\"]]\n",
       "</pre>\n"
      ],
      "text/plain": [
       "c:\\Users\\HUAWEI\\Desktop\\materiale \n",
       "magistrale\\CHL\\CHL-Project\\.venv\\lib\\site-packages\\graphein\\protein\\edges\\distance.py:1213: FutureWarning: The \n",
       "default value of numeric_only in DataFrameGroupBy.mean is deprecated. In a future version, numeric_only will \n",
       "default to False. Either specify numeric_only or select only columns which should be valid for the function.\n",
       "  .mean()[[\"x_coord\", \"y_coord\", \"z_coord\"]]\n"
      ]
     },
     "metadata": {},
     "output_type": "display_data"
    },
    {
     "data": {
      "text/html": [
       "<pre style=\"white-space:pre;overflow-x:auto;line-height:normal;font-family:Menlo,'DejaVu Sans Mono',consolas,'Courier New',monospace\">c:\\Users\\HUAWEI\\Desktop\\materiale \n",
       "magistrale\\CHL\\CHL-Project\\.venv\\lib\\site-packages\\graphein\\protein\\edges\\distance.py:1213: FutureWarning: The \n",
       "default value of numeric_only in DataFrameGroupBy.mean is deprecated. In a future version, numeric_only will \n",
       "default to False. Either specify numeric_only or select only columns which should be valid for the function.\n",
       "  .mean()[[\"x_coord\", \"y_coord\", \"z_coord\"]]\n",
       "</pre>\n"
      ],
      "text/plain": [
       "c:\\Users\\HUAWEI\\Desktop\\materiale \n",
       "magistrale\\CHL\\CHL-Project\\.venv\\lib\\site-packages\\graphein\\protein\\edges\\distance.py:1213: FutureWarning: The \n",
       "default value of numeric_only in DataFrameGroupBy.mean is deprecated. In a future version, numeric_only will \n",
       "default to False. Either specify numeric_only or select only columns which should be valid for the function.\n",
       "  .mean()[[\"x_coord\", \"y_coord\", \"z_coord\"]]\n"
      ]
     },
     "metadata": {},
     "output_type": "display_data"
    },
    {
     "data": {
      "text/html": [
       "<pre style=\"white-space:pre;overflow-x:auto;line-height:normal;font-family:Menlo,'DejaVu Sans Mono',consolas,'Courier New',monospace\"><span style=\"color: #7fbfbf; text-decoration-color: #7fbfbf\">                    </span><span style=\"color: #000080; text-decoration-color: #000080\">INFO    </span> Found: <span style=\"color: #008080; text-decoration-color: #008080; font-weight: bold\">100</span> aromatic-aromatic interactions                              <span style=\"color: #7f7f7f; text-decoration-color: #7f7f7f\">distance.py:467</span>\n",
       "</pre>\n"
      ],
      "text/plain": [
       "\u001b[2;36m                   \u001b[0m\u001b[2;36m \u001b[0m\u001b[34mINFO    \u001b[0m Found: \u001b[1;36m100\u001b[0m aromatic-aromatic interactions                              \u001b[2mdistance.py\u001b[0m\u001b[2m:\u001b[0m\u001b[2m467\u001b[0m\n"
      ]
     },
     "metadata": {},
     "output_type": "display_data"
    },
    {
     "data": {
      "text/html": [
       "<pre style=\"white-space:pre;overflow-x:auto;line-height:normal;font-family:Menlo,'DejaVu Sans Mono',consolas,'Courier New',monospace\"><span style=\"color: #7fbfbf; text-decoration-color: #7fbfbf\">                    </span><span style=\"color: #000080; text-decoration-color: #000080\">INFO    </span> Found <span style=\"color: #008080; text-decoration-color: #008080; font-weight: bold\">948</span> hydrophobic interactions.                                   <span style=\"color: #7f7f7f; text-decoration-color: #7f7f7f\">distance.py:1344</span>\n",
       "</pre>\n"
      ],
      "text/plain": [
       "\u001b[2;36m                   \u001b[0m\u001b[2;36m \u001b[0m\u001b[34mINFO    \u001b[0m Found \u001b[1;36m948\u001b[0m hydrophobic interactions.                                   \u001b[2mdistance.py\u001b[0m\u001b[2m:\u001b[0m\u001b[2m1344\u001b[0m\n"
      ]
     },
     "metadata": {},
     "output_type": "display_data"
    },
    {
     "data": {
      "text/html": [
       "<pre style=\"white-space:pre;overflow-x:auto;line-height:normal;font-family:Menlo,'DejaVu Sans Mono',consolas,'Courier New',monospace\"><span style=\"color: #7fbfbf; text-decoration-color: #7fbfbf\">[05/03/24 18:04:04] </span><span style=\"color: #000080; text-decoration-color: #000080\">INFO    </span> Found <span style=\"color: #008080; text-decoration-color: #008080; font-weight: bold\">12</span> disulfide interactions.                                      <span style=\"color: #7f7f7f; text-decoration-color: #7f7f7f\">distance.py:1344</span>\n",
       "</pre>\n"
      ],
      "text/plain": [
       "\u001b[2;36m[05/03/24 18:04:04]\u001b[0m\u001b[2;36m \u001b[0m\u001b[34mINFO    \u001b[0m Found \u001b[1;36m12\u001b[0m disulfide interactions.                                      \u001b[2mdistance.py\u001b[0m\u001b[2m:\u001b[0m\u001b[2m1344\u001b[0m\n"
      ]
     },
     "metadata": {},
     "output_type": "display_data"
    },
    {
     "data": {
      "text/html": [
       "<pre style=\"white-space:pre;overflow-x:auto;line-height:normal;font-family:Menlo,'DejaVu Sans Mono',consolas,'Courier New',monospace\"><span style=\"color: #7fbfbf; text-decoration-color: #7fbfbf\">                    </span><span style=\"color: #000080; text-decoration-color: #000080\">INFO    </span> Found <span style=\"color: #008080; text-decoration-color: #008080; font-weight: bold\">188</span> hbond interactions.                                         <span style=\"color: #7f7f7f; text-decoration-color: #7f7f7f\">distance.py:1344</span>\n",
       "</pre>\n"
      ],
      "text/plain": [
       "\u001b[2;36m                   \u001b[0m\u001b[2;36m \u001b[0m\u001b[34mINFO    \u001b[0m Found \u001b[1;36m188\u001b[0m hbond interactions.                                         \u001b[2mdistance.py\u001b[0m\u001b[2m:\u001b[0m\u001b[2m1344\u001b[0m\n"
      ]
     },
     "metadata": {},
     "output_type": "display_data"
    },
    {
     "data": {
      "text/html": [
       "<pre style=\"white-space:pre;overflow-x:auto;line-height:normal;font-family:Menlo,'DejaVu Sans Mono',consolas,'Courier New',monospace\"><span style=\"color: #7fbfbf; text-decoration-color: #7fbfbf\">                    </span><span style=\"color: #000080; text-decoration-color: #000080\">INFO    </span> Found <span style=\"color: #008080; text-decoration-color: #008080; font-weight: bold\">22</span> hbond interactions.                                          <span style=\"color: #7f7f7f; text-decoration-color: #7f7f7f\">distance.py:1344</span>\n",
       "</pre>\n"
      ],
      "text/plain": [
       "\u001b[2;36m                   \u001b[0m\u001b[2;36m \u001b[0m\u001b[34mINFO    \u001b[0m Found \u001b[1;36m22\u001b[0m hbond interactions.                                          \u001b[2mdistance.py\u001b[0m\u001b[2m:\u001b[0m\u001b[2m1344\u001b[0m\n"
      ]
     },
     "metadata": {},
     "output_type": "display_data"
    },
    {
     "data": {
      "text/html": [
       "<pre style=\"white-space:pre;overflow-x:auto;line-height:normal;font-family:Menlo,'DejaVu Sans Mono',consolas,'Courier New',monospace\"><span style=\"color: #7fbfbf; text-decoration-color: #7fbfbf\">                    </span><span style=\"color: #000080; text-decoration-color: #000080\">INFO    </span> Found <span style=\"color: #008080; text-decoration-color: #008080; font-weight: bold\">3486</span> ionic interactions.                                        <span style=\"color: #7f7f7f; text-decoration-color: #7f7f7f\">distance.py:1344</span>\n",
       "</pre>\n"
      ],
      "text/plain": [
       "\u001b[2;36m                   \u001b[0m\u001b[2;36m \u001b[0m\u001b[34mINFO    \u001b[0m Found \u001b[1;36m3486\u001b[0m ionic interactions.                                        \u001b[2mdistance.py\u001b[0m\u001b[2m:\u001b[0m\u001b[2m1344\u001b[0m\n"
      ]
     },
     "metadata": {},
     "output_type": "display_data"
    },
    {
     "data": {
      "text/html": [
       "<pre style=\"white-space:pre;overflow-x:auto;line-height:normal;font-family:Menlo,'DejaVu Sans Mono',consolas,'Courier New',monospace\"></pre>\n"
      ],
      "text/plain": []
     },
     "metadata": {},
     "output_type": "display_data"
    },
    {
     "data": {
      "text/html": [
       "<pre style=\"white-space:pre;overflow-x:auto;line-height:normal;font-family:Menlo,'DejaVu Sans Mono',consolas,'Courier New',monospace\">\n",
       "</pre>\n"
      ],
      "text/plain": [
       "\n"
      ]
     },
     "metadata": {},
     "output_type": "display_data"
    },
    {
     "data": {
      "application/vnd.jupyter.widget-view+json": {
       "model_id": "33544d28b148452394eeab9e4e1ab488",
       "version_major": 2,
       "version_minor": 0
      },
      "text/plain": [
       "Output()"
      ]
     },
     "metadata": {},
     "output_type": "display_data"
    },
    {
     "data": {
      "text/html": [
       "<pre style=\"white-space:pre;overflow-x:auto;line-height:normal;font-family:Menlo,'DejaVu Sans Mono',consolas,'Courier New',monospace\"><span style=\"color: #7fbfbf; text-decoration-color: #7fbfbf\">                    </span><span style=\"color: #008000; text-decoration-color: #008000\">DEBUG   </span> Deprotonating protein. This removes H atoms from the pdb_df dataframe    <span style=\"color: #7f7f7f; text-decoration-color: #7f7f7f\">graphs.py:188</span>\n",
       "</pre>\n"
      ],
      "text/plain": [
       "\u001b[2;36m                   \u001b[0m\u001b[2;36m \u001b[0m\u001b[32mDEBUG   \u001b[0m Deprotonating protein. This removes H atoms from the pdb_df dataframe    \u001b[2mgraphs.py\u001b[0m\u001b[2m:\u001b[0m\u001b[2m188\u001b[0m\n"
      ]
     },
     "metadata": {},
     "output_type": "display_data"
    },
    {
     "data": {
      "text/html": [
       "<pre style=\"white-space:pre;overflow-x:auto;line-height:normal;font-family:Menlo,'DejaVu Sans Mono',consolas,'Courier New',monospace\"><span style=\"color: #7fbfbf; text-decoration-color: #7fbfbf\">                    </span><span style=\"color: #008000; text-decoration-color: #008000\">DEBUG   </span> Detected <span style=\"color: #008080; text-decoration-color: #008080; font-weight: bold\">445</span> total nodes                                                 <span style=\"color: #7f7f7f; text-decoration-color: #7f7f7f\">graphs.py:435</span>\n",
       "</pre>\n"
      ],
      "text/plain": [
       "\u001b[2;36m                   \u001b[0m\u001b[2;36m \u001b[0m\u001b[32mDEBUG   \u001b[0m Detected \u001b[1;36m445\u001b[0m total nodes                                                 \u001b[2mgraphs.py\u001b[0m\u001b[2m:\u001b[0m\u001b[2m435\u001b[0m\n"
      ]
     },
     "metadata": {},
     "output_type": "display_data"
    },
    {
     "data": {
      "text/html": [
       "<pre style=\"white-space:pre;overflow-x:auto;line-height:normal;font-family:Menlo,'DejaVu Sans Mono',consolas,'Courier New',monospace\">c:\\Users\\HUAWEI\\Desktop\\materiale \n",
       "magistrale\\CHL\\CHL-Project\\.venv\\lib\\site-packages\\graphein\\protein\\edges\\distance.py:1213: FutureWarning: The \n",
       "default value of numeric_only in DataFrameGroupBy.mean is deprecated. In a future version, numeric_only will \n",
       "default to False. Either specify numeric_only or select only columns which should be valid for the function.\n",
       "  .mean()[[\"x_coord\", \"y_coord\", \"z_coord\"]]\n",
       "</pre>\n"
      ],
      "text/plain": [
       "c:\\Users\\HUAWEI\\Desktop\\materiale \n",
       "magistrale\\CHL\\CHL-Project\\.venv\\lib\\site-packages\\graphein\\protein\\edges\\distance.py:1213: FutureWarning: The \n",
       "default value of numeric_only in DataFrameGroupBy.mean is deprecated. In a future version, numeric_only will \n",
       "default to False. Either specify numeric_only or select only columns which should be valid for the function.\n",
       "  .mean()[[\"x_coord\", \"y_coord\", \"z_coord\"]]\n"
      ]
     },
     "metadata": {},
     "output_type": "display_data"
    },
    {
     "data": {
      "text/html": [
       "<pre style=\"white-space:pre;overflow-x:auto;line-height:normal;font-family:Menlo,'DejaVu Sans Mono',consolas,'Courier New',monospace\">c:\\Users\\HUAWEI\\Desktop\\materiale \n",
       "magistrale\\CHL\\CHL-Project\\.venv\\lib\\site-packages\\graphein\\protein\\edges\\distance.py:1213: FutureWarning: The \n",
       "default value of numeric_only in DataFrameGroupBy.mean is deprecated. In a future version, numeric_only will \n",
       "default to False. Either specify numeric_only or select only columns which should be valid for the function.\n",
       "  .mean()[[\"x_coord\", \"y_coord\", \"z_coord\"]]\n",
       "</pre>\n"
      ],
      "text/plain": [
       "c:\\Users\\HUAWEI\\Desktop\\materiale \n",
       "magistrale\\CHL\\CHL-Project\\.venv\\lib\\site-packages\\graphein\\protein\\edges\\distance.py:1213: FutureWarning: The \n",
       "default value of numeric_only in DataFrameGroupBy.mean is deprecated. In a future version, numeric_only will \n",
       "default to False. Either specify numeric_only or select only columns which should be valid for the function.\n",
       "  .mean()[[\"x_coord\", \"y_coord\", \"z_coord\"]]\n"
      ]
     },
     "metadata": {},
     "output_type": "display_data"
    },
    {
     "data": {
      "text/html": [
       "<pre style=\"white-space:pre;overflow-x:auto;line-height:normal;font-family:Menlo,'DejaVu Sans Mono',consolas,'Courier New',monospace\">c:\\Users\\HUAWEI\\Desktop\\materiale \n",
       "magistrale\\CHL\\CHL-Project\\.venv\\lib\\site-packages\\graphein\\protein\\edges\\distance.py:1213: FutureWarning: The \n",
       "default value of numeric_only in DataFrameGroupBy.mean is deprecated. In a future version, numeric_only will \n",
       "default to False. Either specify numeric_only or select only columns which should be valid for the function.\n",
       "  .mean()[[\"x_coord\", \"y_coord\", \"z_coord\"]]\n",
       "</pre>\n"
      ],
      "text/plain": [
       "c:\\Users\\HUAWEI\\Desktop\\materiale \n",
       "magistrale\\CHL\\CHL-Project\\.venv\\lib\\site-packages\\graphein\\protein\\edges\\distance.py:1213: FutureWarning: The \n",
       "default value of numeric_only in DataFrameGroupBy.mean is deprecated. In a future version, numeric_only will \n",
       "default to False. Either specify numeric_only or select only columns which should be valid for the function.\n",
       "  .mean()[[\"x_coord\", \"y_coord\", \"z_coord\"]]\n"
      ]
     },
     "metadata": {},
     "output_type": "display_data"
    },
    {
     "data": {
      "text/html": [
       "<pre style=\"white-space:pre;overflow-x:auto;line-height:normal;font-family:Menlo,'DejaVu Sans Mono',consolas,'Courier New',monospace\">c:\\Users\\HUAWEI\\Desktop\\materiale \n",
       "magistrale\\CHL\\CHL-Project\\.venv\\lib\\site-packages\\graphein\\protein\\edges\\distance.py:1213: FutureWarning: The \n",
       "default value of numeric_only in DataFrameGroupBy.mean is deprecated. In a future version, numeric_only will \n",
       "default to False. Either specify numeric_only or select only columns which should be valid for the function.\n",
       "  .mean()[[\"x_coord\", \"y_coord\", \"z_coord\"]]\n",
       "</pre>\n"
      ],
      "text/plain": [
       "c:\\Users\\HUAWEI\\Desktop\\materiale \n",
       "magistrale\\CHL\\CHL-Project\\.venv\\lib\\site-packages\\graphein\\protein\\edges\\distance.py:1213: FutureWarning: The \n",
       "default value of numeric_only in DataFrameGroupBy.mean is deprecated. In a future version, numeric_only will \n",
       "default to False. Either specify numeric_only or select only columns which should be valid for the function.\n",
       "  .mean()[[\"x_coord\", \"y_coord\", \"z_coord\"]]\n"
      ]
     },
     "metadata": {},
     "output_type": "display_data"
    },
    {
     "data": {
      "text/html": [
       "<pre style=\"white-space:pre;overflow-x:auto;line-height:normal;font-family:Menlo,'DejaVu Sans Mono',consolas,'Courier New',monospace\"><span style=\"color: #7fbfbf; text-decoration-color: #7fbfbf\">                    </span><span style=\"color: #000080; text-decoration-color: #000080\">INFO    </span> Found: <span style=\"color: #008080; text-decoration-color: #008080; font-weight: bold\">96</span> aromatic-aromatic interactions                               <span style=\"color: #7f7f7f; text-decoration-color: #7f7f7f\">distance.py:467</span>\n",
       "</pre>\n"
      ],
      "text/plain": [
       "\u001b[2;36m                   \u001b[0m\u001b[2;36m \u001b[0m\u001b[34mINFO    \u001b[0m Found: \u001b[1;36m96\u001b[0m aromatic-aromatic interactions                               \u001b[2mdistance.py\u001b[0m\u001b[2m:\u001b[0m\u001b[2m467\u001b[0m\n"
      ]
     },
     "metadata": {},
     "output_type": "display_data"
    },
    {
     "data": {
      "text/html": [
       "<pre style=\"white-space:pre;overflow-x:auto;line-height:normal;font-family:Menlo,'DejaVu Sans Mono',consolas,'Courier New',monospace\"><span style=\"color: #7fbfbf; text-decoration-color: #7fbfbf\">                    </span><span style=\"color: #000080; text-decoration-color: #000080\">INFO    </span> Found <span style=\"color: #008080; text-decoration-color: #008080; font-weight: bold\">958</span> hydrophobic interactions.                                   <span style=\"color: #7f7f7f; text-decoration-color: #7f7f7f\">distance.py:1344</span>\n",
       "</pre>\n"
      ],
      "text/plain": [
       "\u001b[2;36m                   \u001b[0m\u001b[2;36m \u001b[0m\u001b[34mINFO    \u001b[0m Found \u001b[1;36m958\u001b[0m hydrophobic interactions.                                   \u001b[2mdistance.py\u001b[0m\u001b[2m:\u001b[0m\u001b[2m1344\u001b[0m\n"
      ]
     },
     "metadata": {},
     "output_type": "display_data"
    },
    {
     "data": {
      "text/html": [
       "<pre style=\"white-space:pre;overflow-x:auto;line-height:normal;font-family:Menlo,'DejaVu Sans Mono',consolas,'Courier New',monospace\"><span style=\"color: #7fbfbf; text-decoration-color: #7fbfbf\">[05/03/24 18:04:05] </span><span style=\"color: #000080; text-decoration-color: #000080\">INFO    </span> Found <span style=\"color: #008080; text-decoration-color: #008080; font-weight: bold\">12</span> disulfide interactions.                                      <span style=\"color: #7f7f7f; text-decoration-color: #7f7f7f\">distance.py:1344</span>\n",
       "</pre>\n"
      ],
      "text/plain": [
       "\u001b[2;36m[05/03/24 18:04:05]\u001b[0m\u001b[2;36m \u001b[0m\u001b[34mINFO    \u001b[0m Found \u001b[1;36m12\u001b[0m disulfide interactions.                                      \u001b[2mdistance.py\u001b[0m\u001b[2m:\u001b[0m\u001b[2m1344\u001b[0m\n"
      ]
     },
     "metadata": {},
     "output_type": "display_data"
    },
    {
     "data": {
      "text/html": [
       "<pre style=\"white-space:pre;overflow-x:auto;line-height:normal;font-family:Menlo,'DejaVu Sans Mono',consolas,'Courier New',monospace\"><span style=\"color: #7fbfbf; text-decoration-color: #7fbfbf\">                    </span><span style=\"color: #000080; text-decoration-color: #000080\">INFO    </span> Found <span style=\"color: #008080; text-decoration-color: #008080; font-weight: bold\">192</span> hbond interactions.                                         <span style=\"color: #7f7f7f; text-decoration-color: #7f7f7f\">distance.py:1344</span>\n",
       "</pre>\n"
      ],
      "text/plain": [
       "\u001b[2;36m                   \u001b[0m\u001b[2;36m \u001b[0m\u001b[34mINFO    \u001b[0m Found \u001b[1;36m192\u001b[0m hbond interactions.                                         \u001b[2mdistance.py\u001b[0m\u001b[2m:\u001b[0m\u001b[2m1344\u001b[0m\n"
      ]
     },
     "metadata": {},
     "output_type": "display_data"
    },
    {
     "data": {
      "text/html": [
       "<pre style=\"white-space:pre;overflow-x:auto;line-height:normal;font-family:Menlo,'DejaVu Sans Mono',consolas,'Courier New',monospace\"><span style=\"color: #7fbfbf; text-decoration-color: #7fbfbf\">                    </span><span style=\"color: #000080; text-decoration-color: #000080\">INFO    </span> Found <span style=\"color: #008080; text-decoration-color: #008080; font-weight: bold\">22</span> hbond interactions.                                          <span style=\"color: #7f7f7f; text-decoration-color: #7f7f7f\">distance.py:1344</span>\n",
       "</pre>\n"
      ],
      "text/plain": [
       "\u001b[2;36m                   \u001b[0m\u001b[2;36m \u001b[0m\u001b[34mINFO    \u001b[0m Found \u001b[1;36m22\u001b[0m hbond interactions.                                          \u001b[2mdistance.py\u001b[0m\u001b[2m:\u001b[0m\u001b[2m1344\u001b[0m\n"
      ]
     },
     "metadata": {},
     "output_type": "display_data"
    },
    {
     "data": {
      "text/html": [
       "<pre style=\"white-space:pre;overflow-x:auto;line-height:normal;font-family:Menlo,'DejaVu Sans Mono',consolas,'Courier New',monospace\"><span style=\"color: #7fbfbf; text-decoration-color: #7fbfbf\">                    </span><span style=\"color: #000080; text-decoration-color: #000080\">INFO    </span> Found <span style=\"color: #008080; text-decoration-color: #008080; font-weight: bold\">3502</span> ionic interactions.                                        <span style=\"color: #7f7f7f; text-decoration-color: #7f7f7f\">distance.py:1344</span>\n",
       "</pre>\n"
      ],
      "text/plain": [
       "\u001b[2;36m                   \u001b[0m\u001b[2;36m \u001b[0m\u001b[34mINFO    \u001b[0m Found \u001b[1;36m3502\u001b[0m ionic interactions.                                        \u001b[2mdistance.py\u001b[0m\u001b[2m:\u001b[0m\u001b[2m1344\u001b[0m\n"
      ]
     },
     "metadata": {},
     "output_type": "display_data"
    },
    {
     "data": {
      "text/html": [
       "<pre style=\"white-space:pre;overflow-x:auto;line-height:normal;font-family:Menlo,'DejaVu Sans Mono',consolas,'Courier New',monospace\"></pre>\n"
      ],
      "text/plain": []
     },
     "metadata": {},
     "output_type": "display_data"
    },
    {
     "data": {
      "text/html": [
       "<pre style=\"white-space:pre;overflow-x:auto;line-height:normal;font-family:Menlo,'DejaVu Sans Mono',consolas,'Courier New',monospace\">\n",
       "</pre>\n"
      ],
      "text/plain": [
       "\n"
      ]
     },
     "metadata": {},
     "output_type": "display_data"
    },
    {
     "data": {
      "application/vnd.jupyter.widget-view+json": {
       "model_id": "4f9b7f31d5ab4782a34f696d9a080bbc",
       "version_major": 2,
       "version_minor": 0
      },
      "text/plain": [
       "Output()"
      ]
     },
     "metadata": {},
     "output_type": "display_data"
    },
    {
     "data": {
      "text/html": [
       "<pre style=\"white-space:pre;overflow-x:auto;line-height:normal;font-family:Menlo,'DejaVu Sans Mono',consolas,'Courier New',monospace\"><span style=\"color: #7fbfbf; text-decoration-color: #7fbfbf\">                    </span><span style=\"color: #008000; text-decoration-color: #008000\">DEBUG   </span> Deprotonating protein. This removes H atoms from the pdb_df dataframe    <span style=\"color: #7f7f7f; text-decoration-color: #7f7f7f\">graphs.py:188</span>\n",
       "</pre>\n"
      ],
      "text/plain": [
       "\u001b[2;36m                   \u001b[0m\u001b[2;36m \u001b[0m\u001b[32mDEBUG   \u001b[0m Deprotonating protein. This removes H atoms from the pdb_df dataframe    \u001b[2mgraphs.py\u001b[0m\u001b[2m:\u001b[0m\u001b[2m188\u001b[0m\n"
      ]
     },
     "metadata": {},
     "output_type": "display_data"
    },
    {
     "data": {
      "text/html": [
       "<pre style=\"white-space:pre;overflow-x:auto;line-height:normal;font-family:Menlo,'DejaVu Sans Mono',consolas,'Courier New',monospace\"><span style=\"color: #7fbfbf; text-decoration-color: #7fbfbf\">                    </span><span style=\"color: #008000; text-decoration-color: #008000\">DEBUG   </span> Detected <span style=\"color: #008080; text-decoration-color: #008080; font-weight: bold\">445</span> total nodes                                                 <span style=\"color: #7f7f7f; text-decoration-color: #7f7f7f\">graphs.py:435</span>\n",
       "</pre>\n"
      ],
      "text/plain": [
       "\u001b[2;36m                   \u001b[0m\u001b[2;36m \u001b[0m\u001b[32mDEBUG   \u001b[0m Detected \u001b[1;36m445\u001b[0m total nodes                                                 \u001b[2mgraphs.py\u001b[0m\u001b[2m:\u001b[0m\u001b[2m435\u001b[0m\n"
      ]
     },
     "metadata": {},
     "output_type": "display_data"
    },
    {
     "data": {
      "text/html": [
       "<pre style=\"white-space:pre;overflow-x:auto;line-height:normal;font-family:Menlo,'DejaVu Sans Mono',consolas,'Courier New',monospace\">c:\\Users\\HUAWEI\\Desktop\\materiale \n",
       "magistrale\\CHL\\CHL-Project\\.venv\\lib\\site-packages\\graphein\\protein\\edges\\distance.py:1213: FutureWarning: The \n",
       "default value of numeric_only in DataFrameGroupBy.mean is deprecated. In a future version, numeric_only will \n",
       "default to False. Either specify numeric_only or select only columns which should be valid for the function.\n",
       "  .mean()[[\"x_coord\", \"y_coord\", \"z_coord\"]]\n",
       "</pre>\n"
      ],
      "text/plain": [
       "c:\\Users\\HUAWEI\\Desktop\\materiale \n",
       "magistrale\\CHL\\CHL-Project\\.venv\\lib\\site-packages\\graphein\\protein\\edges\\distance.py:1213: FutureWarning: The \n",
       "default value of numeric_only in DataFrameGroupBy.mean is deprecated. In a future version, numeric_only will \n",
       "default to False. Either specify numeric_only or select only columns which should be valid for the function.\n",
       "  .mean()[[\"x_coord\", \"y_coord\", \"z_coord\"]]\n"
      ]
     },
     "metadata": {},
     "output_type": "display_data"
    },
    {
     "data": {
      "text/html": [
       "<pre style=\"white-space:pre;overflow-x:auto;line-height:normal;font-family:Menlo,'DejaVu Sans Mono',consolas,'Courier New',monospace\">c:\\Users\\HUAWEI\\Desktop\\materiale \n",
       "magistrale\\CHL\\CHL-Project\\.venv\\lib\\site-packages\\graphein\\protein\\edges\\distance.py:1213: FutureWarning: The \n",
       "default value of numeric_only in DataFrameGroupBy.mean is deprecated. In a future version, numeric_only will \n",
       "default to False. Either specify numeric_only or select only columns which should be valid for the function.\n",
       "  .mean()[[\"x_coord\", \"y_coord\", \"z_coord\"]]\n",
       "</pre>\n"
      ],
      "text/plain": [
       "c:\\Users\\HUAWEI\\Desktop\\materiale \n",
       "magistrale\\CHL\\CHL-Project\\.venv\\lib\\site-packages\\graphein\\protein\\edges\\distance.py:1213: FutureWarning: The \n",
       "default value of numeric_only in DataFrameGroupBy.mean is deprecated. In a future version, numeric_only will \n",
       "default to False. Either specify numeric_only or select only columns which should be valid for the function.\n",
       "  .mean()[[\"x_coord\", \"y_coord\", \"z_coord\"]]\n"
      ]
     },
     "metadata": {},
     "output_type": "display_data"
    },
    {
     "data": {
      "text/html": [
       "<pre style=\"white-space:pre;overflow-x:auto;line-height:normal;font-family:Menlo,'DejaVu Sans Mono',consolas,'Courier New',monospace\">c:\\Users\\HUAWEI\\Desktop\\materiale \n",
       "magistrale\\CHL\\CHL-Project\\.venv\\lib\\site-packages\\graphein\\protein\\edges\\distance.py:1213: FutureWarning: The \n",
       "default value of numeric_only in DataFrameGroupBy.mean is deprecated. In a future version, numeric_only will \n",
       "default to False. Either specify numeric_only or select only columns which should be valid for the function.\n",
       "  .mean()[[\"x_coord\", \"y_coord\", \"z_coord\"]]\n",
       "</pre>\n"
      ],
      "text/plain": [
       "c:\\Users\\HUAWEI\\Desktop\\materiale \n",
       "magistrale\\CHL\\CHL-Project\\.venv\\lib\\site-packages\\graphein\\protein\\edges\\distance.py:1213: FutureWarning: The \n",
       "default value of numeric_only in DataFrameGroupBy.mean is deprecated. In a future version, numeric_only will \n",
       "default to False. Either specify numeric_only or select only columns which should be valid for the function.\n",
       "  .mean()[[\"x_coord\", \"y_coord\", \"z_coord\"]]\n"
      ]
     },
     "metadata": {},
     "output_type": "display_data"
    },
    {
     "data": {
      "text/html": [
       "<pre style=\"white-space:pre;overflow-x:auto;line-height:normal;font-family:Menlo,'DejaVu Sans Mono',consolas,'Courier New',monospace\">c:\\Users\\HUAWEI\\Desktop\\materiale \n",
       "magistrale\\CHL\\CHL-Project\\.venv\\lib\\site-packages\\graphein\\protein\\edges\\distance.py:1213: FutureWarning: The \n",
       "default value of numeric_only in DataFrameGroupBy.mean is deprecated. In a future version, numeric_only will \n",
       "default to False. Either specify numeric_only or select only columns which should be valid for the function.\n",
       "  .mean()[[\"x_coord\", \"y_coord\", \"z_coord\"]]\n",
       "</pre>\n"
      ],
      "text/plain": [
       "c:\\Users\\HUAWEI\\Desktop\\materiale \n",
       "magistrale\\CHL\\CHL-Project\\.venv\\lib\\site-packages\\graphein\\protein\\edges\\distance.py:1213: FutureWarning: The \n",
       "default value of numeric_only in DataFrameGroupBy.mean is deprecated. In a future version, numeric_only will \n",
       "default to False. Either specify numeric_only or select only columns which should be valid for the function.\n",
       "  .mean()[[\"x_coord\", \"y_coord\", \"z_coord\"]]\n"
      ]
     },
     "metadata": {},
     "output_type": "display_data"
    },
    {
     "data": {
      "text/html": [
       "<pre style=\"white-space:pre;overflow-x:auto;line-height:normal;font-family:Menlo,'DejaVu Sans Mono',consolas,'Courier New',monospace\"><span style=\"color: #7fbfbf; text-decoration-color: #7fbfbf\">                    </span><span style=\"color: #000080; text-decoration-color: #000080\">INFO    </span> Found: <span style=\"color: #008080; text-decoration-color: #008080; font-weight: bold\">90</span> aromatic-aromatic interactions                               <span style=\"color: #7f7f7f; text-decoration-color: #7f7f7f\">distance.py:467</span>\n",
       "</pre>\n"
      ],
      "text/plain": [
       "\u001b[2;36m                   \u001b[0m\u001b[2;36m \u001b[0m\u001b[34mINFO    \u001b[0m Found: \u001b[1;36m90\u001b[0m aromatic-aromatic interactions                               \u001b[2mdistance.py\u001b[0m\u001b[2m:\u001b[0m\u001b[2m467\u001b[0m\n"
      ]
     },
     "metadata": {},
     "output_type": "display_data"
    },
    {
     "data": {
      "text/html": [
       "<pre style=\"white-space:pre;overflow-x:auto;line-height:normal;font-family:Menlo,'DejaVu Sans Mono',consolas,'Courier New',monospace\"><span style=\"color: #7fbfbf; text-decoration-color: #7fbfbf\">[05/03/24 18:04:06] </span><span style=\"color: #000080; text-decoration-color: #000080\">INFO    </span> Found <span style=\"color: #008080; text-decoration-color: #008080; font-weight: bold\">954</span> hydrophobic interactions.                                   <span style=\"color: #7f7f7f; text-decoration-color: #7f7f7f\">distance.py:1344</span>\n",
       "</pre>\n"
      ],
      "text/plain": [
       "\u001b[2;36m[05/03/24 18:04:06]\u001b[0m\u001b[2;36m \u001b[0m\u001b[34mINFO    \u001b[0m Found \u001b[1;36m954\u001b[0m hydrophobic interactions.                                   \u001b[2mdistance.py\u001b[0m\u001b[2m:\u001b[0m\u001b[2m1344\u001b[0m\n"
      ]
     },
     "metadata": {},
     "output_type": "display_data"
    },
    {
     "data": {
      "text/html": [
       "<pre style=\"white-space:pre;overflow-x:auto;line-height:normal;font-family:Menlo,'DejaVu Sans Mono',consolas,'Courier New',monospace\"><span style=\"color: #7fbfbf; text-decoration-color: #7fbfbf\">                    </span><span style=\"color: #000080; text-decoration-color: #000080\">INFO    </span> Found <span style=\"color: #008080; text-decoration-color: #008080; font-weight: bold\">12</span> disulfide interactions.                                      <span style=\"color: #7f7f7f; text-decoration-color: #7f7f7f\">distance.py:1344</span>\n",
       "</pre>\n"
      ],
      "text/plain": [
       "\u001b[2;36m                   \u001b[0m\u001b[2;36m \u001b[0m\u001b[34mINFO    \u001b[0m Found \u001b[1;36m12\u001b[0m disulfide interactions.                                      \u001b[2mdistance.py\u001b[0m\u001b[2m:\u001b[0m\u001b[2m1344\u001b[0m\n"
      ]
     },
     "metadata": {},
     "output_type": "display_data"
    },
    {
     "data": {
      "text/html": [
       "<pre style=\"white-space:pre;overflow-x:auto;line-height:normal;font-family:Menlo,'DejaVu Sans Mono',consolas,'Courier New',monospace\"><span style=\"color: #7fbfbf; text-decoration-color: #7fbfbf\">                    </span><span style=\"color: #000080; text-decoration-color: #000080\">INFO    </span> Found <span style=\"color: #008080; text-decoration-color: #008080; font-weight: bold\">187</span> hbond interactions.                                         <span style=\"color: #7f7f7f; text-decoration-color: #7f7f7f\">distance.py:1344</span>\n",
       "</pre>\n"
      ],
      "text/plain": [
       "\u001b[2;36m                   \u001b[0m\u001b[2;36m \u001b[0m\u001b[34mINFO    \u001b[0m Found \u001b[1;36m187\u001b[0m hbond interactions.                                         \u001b[2mdistance.py\u001b[0m\u001b[2m:\u001b[0m\u001b[2m1344\u001b[0m\n"
      ]
     },
     "metadata": {},
     "output_type": "display_data"
    },
    {
     "data": {
      "text/html": [
       "<pre style=\"white-space:pre;overflow-x:auto;line-height:normal;font-family:Menlo,'DejaVu Sans Mono',consolas,'Courier New',monospace\"><span style=\"color: #7fbfbf; text-decoration-color: #7fbfbf\">                    </span><span style=\"color: #000080; text-decoration-color: #000080\">INFO    </span> Found <span style=\"color: #008080; text-decoration-color: #008080; font-weight: bold\">23</span> hbond interactions.                                          <span style=\"color: #7f7f7f; text-decoration-color: #7f7f7f\">distance.py:1344</span>\n",
       "</pre>\n"
      ],
      "text/plain": [
       "\u001b[2;36m                   \u001b[0m\u001b[2;36m \u001b[0m\u001b[34mINFO    \u001b[0m Found \u001b[1;36m23\u001b[0m hbond interactions.                                          \u001b[2mdistance.py\u001b[0m\u001b[2m:\u001b[0m\u001b[2m1344\u001b[0m\n"
      ]
     },
     "metadata": {},
     "output_type": "display_data"
    },
    {
     "data": {
      "text/html": [
       "<pre style=\"white-space:pre;overflow-x:auto;line-height:normal;font-family:Menlo,'DejaVu Sans Mono',consolas,'Courier New',monospace\"><span style=\"color: #7fbfbf; text-decoration-color: #7fbfbf\">                    </span><span style=\"color: #000080; text-decoration-color: #000080\">INFO    </span> Found <span style=\"color: #008080; text-decoration-color: #008080; font-weight: bold\">3486</span> ionic interactions.                                        <span style=\"color: #7f7f7f; text-decoration-color: #7f7f7f\">distance.py:1344</span>\n",
       "</pre>\n"
      ],
      "text/plain": [
       "\u001b[2;36m                   \u001b[0m\u001b[2;36m \u001b[0m\u001b[34mINFO    \u001b[0m Found \u001b[1;36m3486\u001b[0m ionic interactions.                                        \u001b[2mdistance.py\u001b[0m\u001b[2m:\u001b[0m\u001b[2m1344\u001b[0m\n"
      ]
     },
     "metadata": {},
     "output_type": "display_data"
    },
    {
     "data": {
      "text/html": [
       "<pre style=\"white-space:pre;overflow-x:auto;line-height:normal;font-family:Menlo,'DejaVu Sans Mono',consolas,'Courier New',monospace\"></pre>\n"
      ],
      "text/plain": []
     },
     "metadata": {},
     "output_type": "display_data"
    },
    {
     "data": {
      "text/html": [
       "<pre style=\"white-space:pre;overflow-x:auto;line-height:normal;font-family:Menlo,'DejaVu Sans Mono',consolas,'Courier New',monospace\">\n",
       "</pre>\n"
      ],
      "text/plain": [
       "\n"
      ]
     },
     "metadata": {},
     "output_type": "display_data"
    },
    {
     "data": {
      "application/vnd.jupyter.widget-view+json": {
       "model_id": "94be51cbcfd348179a0d2e1aca80c3aa",
       "version_major": 2,
       "version_minor": 0
      },
      "text/plain": [
       "Output()"
      ]
     },
     "metadata": {},
     "output_type": "display_data"
    },
    {
     "data": {
      "text/html": [
       "<pre style=\"white-space:pre;overflow-x:auto;line-height:normal;font-family:Menlo,'DejaVu Sans Mono',consolas,'Courier New',monospace\"><span style=\"color: #7fbfbf; text-decoration-color: #7fbfbf\">                    </span><span style=\"color: #008000; text-decoration-color: #008000\">DEBUG   </span> Deprotonating protein. This removes H atoms from the pdb_df dataframe    <span style=\"color: #7f7f7f; text-decoration-color: #7f7f7f\">graphs.py:188</span>\n",
       "</pre>\n"
      ],
      "text/plain": [
       "\u001b[2;36m                   \u001b[0m\u001b[2;36m \u001b[0m\u001b[32mDEBUG   \u001b[0m Deprotonating protein. This removes H atoms from the pdb_df dataframe    \u001b[2mgraphs.py\u001b[0m\u001b[2m:\u001b[0m\u001b[2m188\u001b[0m\n"
      ]
     },
     "metadata": {},
     "output_type": "display_data"
    },
    {
     "data": {
      "text/html": [
       "<pre style=\"white-space:pre;overflow-x:auto;line-height:normal;font-family:Menlo,'DejaVu Sans Mono',consolas,'Courier New',monospace\"><span style=\"color: #7fbfbf; text-decoration-color: #7fbfbf\">[05/03/24 18:04:07] </span><span style=\"color: #008000; text-decoration-color: #008000\">DEBUG   </span> Detected <span style=\"color: #008080; text-decoration-color: #008080; font-weight: bold\">445</span> total nodes                                                 <span style=\"color: #7f7f7f; text-decoration-color: #7f7f7f\">graphs.py:435</span>\n",
       "</pre>\n"
      ],
      "text/plain": [
       "\u001b[2;36m[05/03/24 18:04:07]\u001b[0m\u001b[2;36m \u001b[0m\u001b[32mDEBUG   \u001b[0m Detected \u001b[1;36m445\u001b[0m total nodes                                                 \u001b[2mgraphs.py\u001b[0m\u001b[2m:\u001b[0m\u001b[2m435\u001b[0m\n"
      ]
     },
     "metadata": {},
     "output_type": "display_data"
    },
    {
     "data": {
      "text/html": [
       "<pre style=\"white-space:pre;overflow-x:auto;line-height:normal;font-family:Menlo,'DejaVu Sans Mono',consolas,'Courier New',monospace\">c:\\Users\\HUAWEI\\Desktop\\materiale \n",
       "magistrale\\CHL\\CHL-Project\\.venv\\lib\\site-packages\\graphein\\protein\\edges\\distance.py:1213: FutureWarning: The \n",
       "default value of numeric_only in DataFrameGroupBy.mean is deprecated. In a future version, numeric_only will \n",
       "default to False. Either specify numeric_only or select only columns which should be valid for the function.\n",
       "  .mean()[[\"x_coord\", \"y_coord\", \"z_coord\"]]\n",
       "</pre>\n"
      ],
      "text/plain": [
       "c:\\Users\\HUAWEI\\Desktop\\materiale \n",
       "magistrale\\CHL\\CHL-Project\\.venv\\lib\\site-packages\\graphein\\protein\\edges\\distance.py:1213: FutureWarning: The \n",
       "default value of numeric_only in DataFrameGroupBy.mean is deprecated. In a future version, numeric_only will \n",
       "default to False. Either specify numeric_only or select only columns which should be valid for the function.\n",
       "  .mean()[[\"x_coord\", \"y_coord\", \"z_coord\"]]\n"
      ]
     },
     "metadata": {},
     "output_type": "display_data"
    },
    {
     "data": {
      "text/html": [
       "<pre style=\"white-space:pre;overflow-x:auto;line-height:normal;font-family:Menlo,'DejaVu Sans Mono',consolas,'Courier New',monospace\">c:\\Users\\HUAWEI\\Desktop\\materiale \n",
       "magistrale\\CHL\\CHL-Project\\.venv\\lib\\site-packages\\graphein\\protein\\edges\\distance.py:1213: FutureWarning: The \n",
       "default value of numeric_only in DataFrameGroupBy.mean is deprecated. In a future version, numeric_only will \n",
       "default to False. Either specify numeric_only or select only columns which should be valid for the function.\n",
       "  .mean()[[\"x_coord\", \"y_coord\", \"z_coord\"]]\n",
       "</pre>\n"
      ],
      "text/plain": [
       "c:\\Users\\HUAWEI\\Desktop\\materiale \n",
       "magistrale\\CHL\\CHL-Project\\.venv\\lib\\site-packages\\graphein\\protein\\edges\\distance.py:1213: FutureWarning: The \n",
       "default value of numeric_only in DataFrameGroupBy.mean is deprecated. In a future version, numeric_only will \n",
       "default to False. Either specify numeric_only or select only columns which should be valid for the function.\n",
       "  .mean()[[\"x_coord\", \"y_coord\", \"z_coord\"]]\n"
      ]
     },
     "metadata": {},
     "output_type": "display_data"
    },
    {
     "data": {
      "text/html": [
       "<pre style=\"white-space:pre;overflow-x:auto;line-height:normal;font-family:Menlo,'DejaVu Sans Mono',consolas,'Courier New',monospace\">c:\\Users\\HUAWEI\\Desktop\\materiale \n",
       "magistrale\\CHL\\CHL-Project\\.venv\\lib\\site-packages\\graphein\\protein\\edges\\distance.py:1213: FutureWarning: The \n",
       "default value of numeric_only in DataFrameGroupBy.mean is deprecated. In a future version, numeric_only will \n",
       "default to False. Either specify numeric_only or select only columns which should be valid for the function.\n",
       "  .mean()[[\"x_coord\", \"y_coord\", \"z_coord\"]]\n",
       "</pre>\n"
      ],
      "text/plain": [
       "c:\\Users\\HUAWEI\\Desktop\\materiale \n",
       "magistrale\\CHL\\CHL-Project\\.venv\\lib\\site-packages\\graphein\\protein\\edges\\distance.py:1213: FutureWarning: The \n",
       "default value of numeric_only in DataFrameGroupBy.mean is deprecated. In a future version, numeric_only will \n",
       "default to False. Either specify numeric_only or select only columns which should be valid for the function.\n",
       "  .mean()[[\"x_coord\", \"y_coord\", \"z_coord\"]]\n"
      ]
     },
     "metadata": {},
     "output_type": "display_data"
    },
    {
     "data": {
      "text/html": [
       "<pre style=\"white-space:pre;overflow-x:auto;line-height:normal;font-family:Menlo,'DejaVu Sans Mono',consolas,'Courier New',monospace\">c:\\Users\\HUAWEI\\Desktop\\materiale \n",
       "magistrale\\CHL\\CHL-Project\\.venv\\lib\\site-packages\\graphein\\protein\\edges\\distance.py:1213: FutureWarning: The \n",
       "default value of numeric_only in DataFrameGroupBy.mean is deprecated. In a future version, numeric_only will \n",
       "default to False. Either specify numeric_only or select only columns which should be valid for the function.\n",
       "  .mean()[[\"x_coord\", \"y_coord\", \"z_coord\"]]\n",
       "</pre>\n"
      ],
      "text/plain": [
       "c:\\Users\\HUAWEI\\Desktop\\materiale \n",
       "magistrale\\CHL\\CHL-Project\\.venv\\lib\\site-packages\\graphein\\protein\\edges\\distance.py:1213: FutureWarning: The \n",
       "default value of numeric_only in DataFrameGroupBy.mean is deprecated. In a future version, numeric_only will \n",
       "default to False. Either specify numeric_only or select only columns which should be valid for the function.\n",
       "  .mean()[[\"x_coord\", \"y_coord\", \"z_coord\"]]\n"
      ]
     },
     "metadata": {},
     "output_type": "display_data"
    },
    {
     "data": {
      "text/html": [
       "<pre style=\"white-space:pre;overflow-x:auto;line-height:normal;font-family:Menlo,'DejaVu Sans Mono',consolas,'Courier New',monospace\"><span style=\"color: #7fbfbf; text-decoration-color: #7fbfbf\">                    </span><span style=\"color: #000080; text-decoration-color: #000080\">INFO    </span> Found: <span style=\"color: #008080; text-decoration-color: #008080; font-weight: bold\">94</span> aromatic-aromatic interactions                               <span style=\"color: #7f7f7f; text-decoration-color: #7f7f7f\">distance.py:467</span>\n",
       "</pre>\n"
      ],
      "text/plain": [
       "\u001b[2;36m                   \u001b[0m\u001b[2;36m \u001b[0m\u001b[34mINFO    \u001b[0m Found: \u001b[1;36m94\u001b[0m aromatic-aromatic interactions                               \u001b[2mdistance.py\u001b[0m\u001b[2m:\u001b[0m\u001b[2m467\u001b[0m\n"
      ]
     },
     "metadata": {},
     "output_type": "display_data"
    },
    {
     "data": {
      "text/html": [
       "<pre style=\"white-space:pre;overflow-x:auto;line-height:normal;font-family:Menlo,'DejaVu Sans Mono',consolas,'Courier New',monospace\"><span style=\"color: #7fbfbf; text-decoration-color: #7fbfbf\">                    </span><span style=\"color: #000080; text-decoration-color: #000080\">INFO    </span> Found <span style=\"color: #008080; text-decoration-color: #008080; font-weight: bold\">951</span> hydrophobic interactions.                                   <span style=\"color: #7f7f7f; text-decoration-color: #7f7f7f\">distance.py:1344</span>\n",
       "</pre>\n"
      ],
      "text/plain": [
       "\u001b[2;36m                   \u001b[0m\u001b[2;36m \u001b[0m\u001b[34mINFO    \u001b[0m Found \u001b[1;36m951\u001b[0m hydrophobic interactions.                                   \u001b[2mdistance.py\u001b[0m\u001b[2m:\u001b[0m\u001b[2m1344\u001b[0m\n"
      ]
     },
     "metadata": {},
     "output_type": "display_data"
    },
    {
     "data": {
      "text/html": [
       "<pre style=\"white-space:pre;overflow-x:auto;line-height:normal;font-family:Menlo,'DejaVu Sans Mono',consolas,'Courier New',monospace\"><span style=\"color: #7fbfbf; text-decoration-color: #7fbfbf\">                    </span><span style=\"color: #000080; text-decoration-color: #000080\">INFO    </span> Found <span style=\"color: #008080; text-decoration-color: #008080; font-weight: bold\">12</span> disulfide interactions.                                      <span style=\"color: #7f7f7f; text-decoration-color: #7f7f7f\">distance.py:1344</span>\n",
       "</pre>\n"
      ],
      "text/plain": [
       "\u001b[2;36m                   \u001b[0m\u001b[2;36m \u001b[0m\u001b[34mINFO    \u001b[0m Found \u001b[1;36m12\u001b[0m disulfide interactions.                                      \u001b[2mdistance.py\u001b[0m\u001b[2m:\u001b[0m\u001b[2m1344\u001b[0m\n"
      ]
     },
     "metadata": {},
     "output_type": "display_data"
    },
    {
     "data": {
      "text/html": [
       "<pre style=\"white-space:pre;overflow-x:auto;line-height:normal;font-family:Menlo,'DejaVu Sans Mono',consolas,'Courier New',monospace\"><span style=\"color: #7fbfbf; text-decoration-color: #7fbfbf\">                    </span><span style=\"color: #000080; text-decoration-color: #000080\">INFO    </span> Found <span style=\"color: #008080; text-decoration-color: #008080; font-weight: bold\">189</span> hbond interactions.                                         <span style=\"color: #7f7f7f; text-decoration-color: #7f7f7f\">distance.py:1344</span>\n",
       "</pre>\n"
      ],
      "text/plain": [
       "\u001b[2;36m                   \u001b[0m\u001b[2;36m \u001b[0m\u001b[34mINFO    \u001b[0m Found \u001b[1;36m189\u001b[0m hbond interactions.                                         \u001b[2mdistance.py\u001b[0m\u001b[2m:\u001b[0m\u001b[2m1344\u001b[0m\n"
      ]
     },
     "metadata": {},
     "output_type": "display_data"
    },
    {
     "data": {
      "text/html": [
       "<pre style=\"white-space:pre;overflow-x:auto;line-height:normal;font-family:Menlo,'DejaVu Sans Mono',consolas,'Courier New',monospace\"><span style=\"color: #7fbfbf; text-decoration-color: #7fbfbf\">                    </span><span style=\"color: #000080; text-decoration-color: #000080\">INFO    </span> Found <span style=\"color: #008080; text-decoration-color: #008080; font-weight: bold\">22</span> hbond interactions.                                          <span style=\"color: #7f7f7f; text-decoration-color: #7f7f7f\">distance.py:1344</span>\n",
       "</pre>\n"
      ],
      "text/plain": [
       "\u001b[2;36m                   \u001b[0m\u001b[2;36m \u001b[0m\u001b[34mINFO    \u001b[0m Found \u001b[1;36m22\u001b[0m hbond interactions.                                          \u001b[2mdistance.py\u001b[0m\u001b[2m:\u001b[0m\u001b[2m1344\u001b[0m\n"
      ]
     },
     "metadata": {},
     "output_type": "display_data"
    },
    {
     "data": {
      "text/html": [
       "<pre style=\"white-space:pre;overflow-x:auto;line-height:normal;font-family:Menlo,'DejaVu Sans Mono',consolas,'Courier New',monospace\"><span style=\"color: #7fbfbf; text-decoration-color: #7fbfbf\">                    </span><span style=\"color: #000080; text-decoration-color: #000080\">INFO    </span> Found <span style=\"color: #008080; text-decoration-color: #008080; font-weight: bold\">3486</span> ionic interactions.                                        <span style=\"color: #7f7f7f; text-decoration-color: #7f7f7f\">distance.py:1344</span>\n",
       "</pre>\n"
      ],
      "text/plain": [
       "\u001b[2;36m                   \u001b[0m\u001b[2;36m \u001b[0m\u001b[34mINFO    \u001b[0m Found \u001b[1;36m3486\u001b[0m ionic interactions.                                        \u001b[2mdistance.py\u001b[0m\u001b[2m:\u001b[0m\u001b[2m1344\u001b[0m\n"
      ]
     },
     "metadata": {},
     "output_type": "display_data"
    },
    {
     "data": {
      "text/html": [
       "<pre style=\"white-space:pre;overflow-x:auto;line-height:normal;font-family:Menlo,'DejaVu Sans Mono',consolas,'Courier New',monospace\"></pre>\n"
      ],
      "text/plain": []
     },
     "metadata": {},
     "output_type": "display_data"
    },
    {
     "data": {
      "text/html": [
       "<pre style=\"white-space:pre;overflow-x:auto;line-height:normal;font-family:Menlo,'DejaVu Sans Mono',consolas,'Courier New',monospace\">\n",
       "</pre>\n"
      ],
      "text/plain": [
       "\n"
      ]
     },
     "metadata": {},
     "output_type": "display_data"
    },
    {
     "data": {
      "application/vnd.jupyter.widget-view+json": {
       "model_id": "0d813ed5b03248e289906b20191bbc5f",
       "version_major": 2,
       "version_minor": 0
      },
      "text/plain": [
       "Output()"
      ]
     },
     "metadata": {},
     "output_type": "display_data"
    },
    {
     "data": {
      "text/html": [
       "<pre style=\"white-space:pre;overflow-x:auto;line-height:normal;font-family:Menlo,'DejaVu Sans Mono',consolas,'Courier New',monospace\"><span style=\"color: #7fbfbf; text-decoration-color: #7fbfbf\">[05/03/24 18:04:08] </span><span style=\"color: #008000; text-decoration-color: #008000\">DEBUG   </span> Deprotonating protein. This removes H atoms from the pdb_df dataframe    <span style=\"color: #7f7f7f; text-decoration-color: #7f7f7f\">graphs.py:188</span>\n",
       "</pre>\n"
      ],
      "text/plain": [
       "\u001b[2;36m[05/03/24 18:04:08]\u001b[0m\u001b[2;36m \u001b[0m\u001b[32mDEBUG   \u001b[0m Deprotonating protein. This removes H atoms from the pdb_df dataframe    \u001b[2mgraphs.py\u001b[0m\u001b[2m:\u001b[0m\u001b[2m188\u001b[0m\n"
      ]
     },
     "metadata": {},
     "output_type": "display_data"
    },
    {
     "data": {
      "text/html": [
       "<pre style=\"white-space:pre;overflow-x:auto;line-height:normal;font-family:Menlo,'DejaVu Sans Mono',consolas,'Courier New',monospace\"><span style=\"color: #7fbfbf; text-decoration-color: #7fbfbf\">                    </span><span style=\"color: #008000; text-decoration-color: #008000\">DEBUG   </span> Detected <span style=\"color: #008080; text-decoration-color: #008080; font-weight: bold\">445</span> total nodes                                                 <span style=\"color: #7f7f7f; text-decoration-color: #7f7f7f\">graphs.py:435</span>\n",
       "</pre>\n"
      ],
      "text/plain": [
       "\u001b[2;36m                   \u001b[0m\u001b[2;36m \u001b[0m\u001b[32mDEBUG   \u001b[0m Detected \u001b[1;36m445\u001b[0m total nodes                                                 \u001b[2mgraphs.py\u001b[0m\u001b[2m:\u001b[0m\u001b[2m435\u001b[0m\n"
      ]
     },
     "metadata": {},
     "output_type": "display_data"
    },
    {
     "data": {
      "text/html": [
       "<pre style=\"white-space:pre;overflow-x:auto;line-height:normal;font-family:Menlo,'DejaVu Sans Mono',consolas,'Courier New',monospace\">c:\\Users\\HUAWEI\\Desktop\\materiale \n",
       "magistrale\\CHL\\CHL-Project\\.venv\\lib\\site-packages\\graphein\\protein\\edges\\distance.py:1213: FutureWarning: The \n",
       "default value of numeric_only in DataFrameGroupBy.mean is deprecated. In a future version, numeric_only will \n",
       "default to False. Either specify numeric_only or select only columns which should be valid for the function.\n",
       "  .mean()[[\"x_coord\", \"y_coord\", \"z_coord\"]]\n",
       "</pre>\n"
      ],
      "text/plain": [
       "c:\\Users\\HUAWEI\\Desktop\\materiale \n",
       "magistrale\\CHL\\CHL-Project\\.venv\\lib\\site-packages\\graphein\\protein\\edges\\distance.py:1213: FutureWarning: The \n",
       "default value of numeric_only in DataFrameGroupBy.mean is deprecated. In a future version, numeric_only will \n",
       "default to False. Either specify numeric_only or select only columns which should be valid for the function.\n",
       "  .mean()[[\"x_coord\", \"y_coord\", \"z_coord\"]]\n"
      ]
     },
     "metadata": {},
     "output_type": "display_data"
    },
    {
     "data": {
      "text/html": [
       "<pre style=\"white-space:pre;overflow-x:auto;line-height:normal;font-family:Menlo,'DejaVu Sans Mono',consolas,'Courier New',monospace\">c:\\Users\\HUAWEI\\Desktop\\materiale \n",
       "magistrale\\CHL\\CHL-Project\\.venv\\lib\\site-packages\\graphein\\protein\\edges\\distance.py:1213: FutureWarning: The \n",
       "default value of numeric_only in DataFrameGroupBy.mean is deprecated. In a future version, numeric_only will \n",
       "default to False. Either specify numeric_only or select only columns which should be valid for the function.\n",
       "  .mean()[[\"x_coord\", \"y_coord\", \"z_coord\"]]\n",
       "</pre>\n"
      ],
      "text/plain": [
       "c:\\Users\\HUAWEI\\Desktop\\materiale \n",
       "magistrale\\CHL\\CHL-Project\\.venv\\lib\\site-packages\\graphein\\protein\\edges\\distance.py:1213: FutureWarning: The \n",
       "default value of numeric_only in DataFrameGroupBy.mean is deprecated. In a future version, numeric_only will \n",
       "default to False. Either specify numeric_only or select only columns which should be valid for the function.\n",
       "  .mean()[[\"x_coord\", \"y_coord\", \"z_coord\"]]\n"
      ]
     },
     "metadata": {},
     "output_type": "display_data"
    },
    {
     "data": {
      "text/html": [
       "<pre style=\"white-space:pre;overflow-x:auto;line-height:normal;font-family:Menlo,'DejaVu Sans Mono',consolas,'Courier New',monospace\">c:\\Users\\HUAWEI\\Desktop\\materiale \n",
       "magistrale\\CHL\\CHL-Project\\.venv\\lib\\site-packages\\graphein\\protein\\edges\\distance.py:1213: FutureWarning: The \n",
       "default value of numeric_only in DataFrameGroupBy.mean is deprecated. In a future version, numeric_only will \n",
       "default to False. Either specify numeric_only or select only columns which should be valid for the function.\n",
       "  .mean()[[\"x_coord\", \"y_coord\", \"z_coord\"]]\n",
       "</pre>\n"
      ],
      "text/plain": [
       "c:\\Users\\HUAWEI\\Desktop\\materiale \n",
       "magistrale\\CHL\\CHL-Project\\.venv\\lib\\site-packages\\graphein\\protein\\edges\\distance.py:1213: FutureWarning: The \n",
       "default value of numeric_only in DataFrameGroupBy.mean is deprecated. In a future version, numeric_only will \n",
       "default to False. Either specify numeric_only or select only columns which should be valid for the function.\n",
       "  .mean()[[\"x_coord\", \"y_coord\", \"z_coord\"]]\n"
      ]
     },
     "metadata": {},
     "output_type": "display_data"
    },
    {
     "data": {
      "text/html": [
       "<pre style=\"white-space:pre;overflow-x:auto;line-height:normal;font-family:Menlo,'DejaVu Sans Mono',consolas,'Courier New',monospace\">c:\\Users\\HUAWEI\\Desktop\\materiale \n",
       "magistrale\\CHL\\CHL-Project\\.venv\\lib\\site-packages\\graphein\\protein\\edges\\distance.py:1213: FutureWarning: The \n",
       "default value of numeric_only in DataFrameGroupBy.mean is deprecated. In a future version, numeric_only will \n",
       "default to False. Either specify numeric_only or select only columns which should be valid for the function.\n",
       "  .mean()[[\"x_coord\", \"y_coord\", \"z_coord\"]]\n",
       "</pre>\n"
      ],
      "text/plain": [
       "c:\\Users\\HUAWEI\\Desktop\\materiale \n",
       "magistrale\\CHL\\CHL-Project\\.venv\\lib\\site-packages\\graphein\\protein\\edges\\distance.py:1213: FutureWarning: The \n",
       "default value of numeric_only in DataFrameGroupBy.mean is deprecated. In a future version, numeric_only will \n",
       "default to False. Either specify numeric_only or select only columns which should be valid for the function.\n",
       "  .mean()[[\"x_coord\", \"y_coord\", \"z_coord\"]]\n"
      ]
     },
     "metadata": {},
     "output_type": "display_data"
    },
    {
     "data": {
      "text/html": [
       "<pre style=\"white-space:pre;overflow-x:auto;line-height:normal;font-family:Menlo,'DejaVu Sans Mono',consolas,'Courier New',monospace\"><span style=\"color: #7fbfbf; text-decoration-color: #7fbfbf\">                    </span><span style=\"color: #000080; text-decoration-color: #000080\">INFO    </span> Found <span style=\"color: #008080; text-decoration-color: #008080; font-weight: bold\">951</span> hydrophobic interactions.                                   <span style=\"color: #7f7f7f; text-decoration-color: #7f7f7f\">distance.py:1344</span>\n",
       "</pre>\n"
      ],
      "text/plain": [
       "\u001b[2;36m                   \u001b[0m\u001b[2;36m \u001b[0m\u001b[34mINFO    \u001b[0m Found \u001b[1;36m951\u001b[0m hydrophobic interactions.                                   \u001b[2mdistance.py\u001b[0m\u001b[2m:\u001b[0m\u001b[2m1344\u001b[0m\n"
      ]
     },
     "metadata": {},
     "output_type": "display_data"
    },
    {
     "data": {
      "text/html": [
       "<pre style=\"white-space:pre;overflow-x:auto;line-height:normal;font-family:Menlo,'DejaVu Sans Mono',consolas,'Courier New',monospace\"><span style=\"color: #7fbfbf; text-decoration-color: #7fbfbf\">[05/03/24 18:04:09] </span><span style=\"color: #000080; text-decoration-color: #000080\">INFO    </span> Found <span style=\"color: #008080; text-decoration-color: #008080; font-weight: bold\">12</span> disulfide interactions.                                      <span style=\"color: #7f7f7f; text-decoration-color: #7f7f7f\">distance.py:1344</span>\n",
       "</pre>\n"
      ],
      "text/plain": [
       "\u001b[2;36m[05/03/24 18:04:09]\u001b[0m\u001b[2;36m \u001b[0m\u001b[34mINFO    \u001b[0m Found \u001b[1;36m12\u001b[0m disulfide interactions.                                      \u001b[2mdistance.py\u001b[0m\u001b[2m:\u001b[0m\u001b[2m1344\u001b[0m\n"
      ]
     },
     "metadata": {},
     "output_type": "display_data"
    },
    {
     "data": {
      "text/html": [
       "<pre style=\"white-space:pre;overflow-x:auto;line-height:normal;font-family:Menlo,'DejaVu Sans Mono',consolas,'Courier New',monospace\"><span style=\"color: #7fbfbf; text-decoration-color: #7fbfbf\">                    </span><span style=\"color: #000080; text-decoration-color: #000080\">INFO    </span> Found <span style=\"color: #008080; text-decoration-color: #008080; font-weight: bold\">193</span> hbond interactions.                                         <span style=\"color: #7f7f7f; text-decoration-color: #7f7f7f\">distance.py:1344</span>\n",
       "</pre>\n"
      ],
      "text/plain": [
       "\u001b[2;36m                   \u001b[0m\u001b[2;36m \u001b[0m\u001b[34mINFO    \u001b[0m Found \u001b[1;36m193\u001b[0m hbond interactions.                                         \u001b[2mdistance.py\u001b[0m\u001b[2m:\u001b[0m\u001b[2m1344\u001b[0m\n"
      ]
     },
     "metadata": {},
     "output_type": "display_data"
    },
    {
     "data": {
      "text/html": [
       "<pre style=\"white-space:pre;overflow-x:auto;line-height:normal;font-family:Menlo,'DejaVu Sans Mono',consolas,'Courier New',monospace\"><span style=\"color: #7fbfbf; text-decoration-color: #7fbfbf\">                    </span><span style=\"color: #000080; text-decoration-color: #000080\">INFO    </span> Found <span style=\"color: #008080; text-decoration-color: #008080; font-weight: bold\">22</span> hbond interactions.                                          <span style=\"color: #7f7f7f; text-decoration-color: #7f7f7f\">distance.py:1344</span>\n",
       "</pre>\n"
      ],
      "text/plain": [
       "\u001b[2;36m                   \u001b[0m\u001b[2;36m \u001b[0m\u001b[34mINFO    \u001b[0m Found \u001b[1;36m22\u001b[0m hbond interactions.                                          \u001b[2mdistance.py\u001b[0m\u001b[2m:\u001b[0m\u001b[2m1344\u001b[0m\n"
      ]
     },
     "metadata": {},
     "output_type": "display_data"
    },
    {
     "data": {
      "text/html": [
       "<pre style=\"white-space:pre;overflow-x:auto;line-height:normal;font-family:Menlo,'DejaVu Sans Mono',consolas,'Courier New',monospace\"></pre>\n"
      ],
      "text/plain": []
     },
     "metadata": {},
     "output_type": "display_data"
    },
    {
     "data": {
      "text/html": [
       "<pre style=\"white-space:pre;overflow-x:auto;line-height:normal;font-family:Menlo,'DejaVu Sans Mono',consolas,'Courier New',monospace\">\n",
       "</pre>\n"
      ],
      "text/plain": [
       "\n"
      ]
     },
     "metadata": {},
     "output_type": "display_data"
    },
    {
     "data": {
      "application/vnd.jupyter.widget-view+json": {
       "model_id": "576c8763c5c14a8ebe09c070f2e01a3f",
       "version_major": 2,
       "version_minor": 0
      },
      "text/plain": [
       "Output()"
      ]
     },
     "metadata": {},
     "output_type": "display_data"
    },
    {
     "data": {
      "text/html": [
       "<pre style=\"white-space:pre;overflow-x:auto;line-height:normal;font-family:Menlo,'DejaVu Sans Mono',consolas,'Courier New',monospace\"><span style=\"color: #7fbfbf; text-decoration-color: #7fbfbf\">                    </span><span style=\"color: #008000; text-decoration-color: #008000\">DEBUG   </span> Deprotonating protein. This removes H atoms from the pdb_df dataframe    <span style=\"color: #7f7f7f; text-decoration-color: #7f7f7f\">graphs.py:188</span>\n",
       "</pre>\n"
      ],
      "text/plain": [
       "\u001b[2;36m                   \u001b[0m\u001b[2;36m \u001b[0m\u001b[32mDEBUG   \u001b[0m Deprotonating protein. This removes H atoms from the pdb_df dataframe    \u001b[2mgraphs.py\u001b[0m\u001b[2m:\u001b[0m\u001b[2m188\u001b[0m\n"
      ]
     },
     "metadata": {},
     "output_type": "display_data"
    },
    {
     "data": {
      "text/html": [
       "<pre style=\"white-space:pre;overflow-x:auto;line-height:normal;font-family:Menlo,'DejaVu Sans Mono',consolas,'Courier New',monospace\"><span style=\"color: #7fbfbf; text-decoration-color: #7fbfbf\">                    </span><span style=\"color: #008000; text-decoration-color: #008000\">DEBUG   </span> Detected <span style=\"color: #008080; text-decoration-color: #008080; font-weight: bold\">445</span> total nodes                                                 <span style=\"color: #7f7f7f; text-decoration-color: #7f7f7f\">graphs.py:435</span>\n",
       "</pre>\n"
      ],
      "text/plain": [
       "\u001b[2;36m                   \u001b[0m\u001b[2;36m \u001b[0m\u001b[32mDEBUG   \u001b[0m Detected \u001b[1;36m445\u001b[0m total nodes                                                 \u001b[2mgraphs.py\u001b[0m\u001b[2m:\u001b[0m\u001b[2m435\u001b[0m\n"
      ]
     },
     "metadata": {},
     "output_type": "display_data"
    },
    {
     "data": {
      "text/html": [
       "<pre style=\"white-space:pre;overflow-x:auto;line-height:normal;font-family:Menlo,'DejaVu Sans Mono',consolas,'Courier New',monospace\">c:\\Users\\HUAWEI\\Desktop\\materiale \n",
       "magistrale\\CHL\\CHL-Project\\.venv\\lib\\site-packages\\graphein\\protein\\edges\\distance.py:1213: FutureWarning: The \n",
       "default value of numeric_only in DataFrameGroupBy.mean is deprecated. In a future version, numeric_only will \n",
       "default to False. Either specify numeric_only or select only columns which should be valid for the function.\n",
       "  .mean()[[\"x_coord\", \"y_coord\", \"z_coord\"]]\n",
       "</pre>\n"
      ],
      "text/plain": [
       "c:\\Users\\HUAWEI\\Desktop\\materiale \n",
       "magistrale\\CHL\\CHL-Project\\.venv\\lib\\site-packages\\graphein\\protein\\edges\\distance.py:1213: FutureWarning: The \n",
       "default value of numeric_only in DataFrameGroupBy.mean is deprecated. In a future version, numeric_only will \n",
       "default to False. Either specify numeric_only or select only columns which should be valid for the function.\n",
       "  .mean()[[\"x_coord\", \"y_coord\", \"z_coord\"]]\n"
      ]
     },
     "metadata": {},
     "output_type": "display_data"
    },
    {
     "data": {
      "text/html": [
       "<pre style=\"white-space:pre;overflow-x:auto;line-height:normal;font-family:Menlo,'DejaVu Sans Mono',consolas,'Courier New',monospace\">c:\\Users\\HUAWEI\\Desktop\\materiale \n",
       "magistrale\\CHL\\CHL-Project\\.venv\\lib\\site-packages\\graphein\\protein\\edges\\distance.py:1213: FutureWarning: The \n",
       "default value of numeric_only in DataFrameGroupBy.mean is deprecated. In a future version, numeric_only will \n",
       "default to False. Either specify numeric_only or select only columns which should be valid for the function.\n",
       "  .mean()[[\"x_coord\", \"y_coord\", \"z_coord\"]]\n",
       "</pre>\n"
      ],
      "text/plain": [
       "c:\\Users\\HUAWEI\\Desktop\\materiale \n",
       "magistrale\\CHL\\CHL-Project\\.venv\\lib\\site-packages\\graphein\\protein\\edges\\distance.py:1213: FutureWarning: The \n",
       "default value of numeric_only in DataFrameGroupBy.mean is deprecated. In a future version, numeric_only will \n",
       "default to False. Either specify numeric_only or select only columns which should be valid for the function.\n",
       "  .mean()[[\"x_coord\", \"y_coord\", \"z_coord\"]]\n"
      ]
     },
     "metadata": {},
     "output_type": "display_data"
    },
    {
     "data": {
      "text/html": [
       "<pre style=\"white-space:pre;overflow-x:auto;line-height:normal;font-family:Menlo,'DejaVu Sans Mono',consolas,'Courier New',monospace\">c:\\Users\\HUAWEI\\Desktop\\materiale \n",
       "magistrale\\CHL\\CHL-Project\\.venv\\lib\\site-packages\\graphein\\protein\\edges\\distance.py:1213: FutureWarning: The \n",
       "default value of numeric_only in DataFrameGroupBy.mean is deprecated. In a future version, numeric_only will \n",
       "default to False. Either specify numeric_only or select only columns which should be valid for the function.\n",
       "  .mean()[[\"x_coord\", \"y_coord\", \"z_coord\"]]\n",
       "</pre>\n"
      ],
      "text/plain": [
       "c:\\Users\\HUAWEI\\Desktop\\materiale \n",
       "magistrale\\CHL\\CHL-Project\\.venv\\lib\\site-packages\\graphein\\protein\\edges\\distance.py:1213: FutureWarning: The \n",
       "default value of numeric_only in DataFrameGroupBy.mean is deprecated. In a future version, numeric_only will \n",
       "default to False. Either specify numeric_only or select only columns which should be valid for the function.\n",
       "  .mean()[[\"x_coord\", \"y_coord\", \"z_coord\"]]\n"
      ]
     },
     "metadata": {},
     "output_type": "display_data"
    },
    {
     "data": {
      "text/html": [
       "<pre style=\"white-space:pre;overflow-x:auto;line-height:normal;font-family:Menlo,'DejaVu Sans Mono',consolas,'Courier New',monospace\">c:\\Users\\HUAWEI\\Desktop\\materiale \n",
       "magistrale\\CHL\\CHL-Project\\.venv\\lib\\site-packages\\graphein\\protein\\edges\\distance.py:1213: FutureWarning: The \n",
       "default value of numeric_only in DataFrameGroupBy.mean is deprecated. In a future version, numeric_only will \n",
       "default to False. Either specify numeric_only or select only columns which should be valid for the function.\n",
       "  .mean()[[\"x_coord\", \"y_coord\", \"z_coord\"]]\n",
       "</pre>\n"
      ],
      "text/plain": [
       "c:\\Users\\HUAWEI\\Desktop\\materiale \n",
       "magistrale\\CHL\\CHL-Project\\.venv\\lib\\site-packages\\graphein\\protein\\edges\\distance.py:1213: FutureWarning: The \n",
       "default value of numeric_only in DataFrameGroupBy.mean is deprecated. In a future version, numeric_only will \n",
       "default to False. Either specify numeric_only or select only columns which should be valid for the function.\n",
       "  .mean()[[\"x_coord\", \"y_coord\", \"z_coord\"]]\n"
      ]
     },
     "metadata": {},
     "output_type": "display_data"
    },
    {
     "data": {
      "text/html": [
       "<pre style=\"white-space:pre;overflow-x:auto;line-height:normal;font-family:Menlo,'DejaVu Sans Mono',consolas,'Courier New',monospace\"><span style=\"color: #7fbfbf; text-decoration-color: #7fbfbf\">                    </span><span style=\"color: #000080; text-decoration-color: #000080\">INFO    </span> Found <span style=\"color: #008080; text-decoration-color: #008080; font-weight: bold\">961</span> hydrophobic interactions.                                   <span style=\"color: #7f7f7f; text-decoration-color: #7f7f7f\">distance.py:1344</span>\n",
       "</pre>\n"
      ],
      "text/plain": [
       "\u001b[2;36m                   \u001b[0m\u001b[2;36m \u001b[0m\u001b[34mINFO    \u001b[0m Found \u001b[1;36m961\u001b[0m hydrophobic interactions.                                   \u001b[2mdistance.py\u001b[0m\u001b[2m:\u001b[0m\u001b[2m1344\u001b[0m\n"
      ]
     },
     "metadata": {},
     "output_type": "display_data"
    },
    {
     "data": {
      "text/html": [
       "<pre style=\"white-space:pre;overflow-x:auto;line-height:normal;font-family:Menlo,'DejaVu Sans Mono',consolas,'Courier New',monospace\"><span style=\"color: #7fbfbf; text-decoration-color: #7fbfbf\">[05/03/24 18:04:10] </span><span style=\"color: #000080; text-decoration-color: #000080\">INFO    </span> Found <span style=\"color: #008080; text-decoration-color: #008080; font-weight: bold\">12</span> disulfide interactions.                                      <span style=\"color: #7f7f7f; text-decoration-color: #7f7f7f\">distance.py:1344</span>\n",
       "</pre>\n"
      ],
      "text/plain": [
       "\u001b[2;36m[05/03/24 18:04:10]\u001b[0m\u001b[2;36m \u001b[0m\u001b[34mINFO    \u001b[0m Found \u001b[1;36m12\u001b[0m disulfide interactions.                                      \u001b[2mdistance.py\u001b[0m\u001b[2m:\u001b[0m\u001b[2m1344\u001b[0m\n"
      ]
     },
     "metadata": {},
     "output_type": "display_data"
    },
    {
     "data": {
      "text/html": [
       "<pre style=\"white-space:pre;overflow-x:auto;line-height:normal;font-family:Menlo,'DejaVu Sans Mono',consolas,'Courier New',monospace\"><span style=\"color: #7fbfbf; text-decoration-color: #7fbfbf\">                    </span><span style=\"color: #000080; text-decoration-color: #000080\">INFO    </span> Found <span style=\"color: #008080; text-decoration-color: #008080; font-weight: bold\">185</span> hbond interactions.                                         <span style=\"color: #7f7f7f; text-decoration-color: #7f7f7f\">distance.py:1344</span>\n",
       "</pre>\n"
      ],
      "text/plain": [
       "\u001b[2;36m                   \u001b[0m\u001b[2;36m \u001b[0m\u001b[34mINFO    \u001b[0m Found \u001b[1;36m185\u001b[0m hbond interactions.                                         \u001b[2mdistance.py\u001b[0m\u001b[2m:\u001b[0m\u001b[2m1344\u001b[0m\n"
      ]
     },
     "metadata": {},
     "output_type": "display_data"
    },
    {
     "data": {
      "text/html": [
       "<pre style=\"white-space:pre;overflow-x:auto;line-height:normal;font-family:Menlo,'DejaVu Sans Mono',consolas,'Courier New',monospace\"><span style=\"color: #7fbfbf; text-decoration-color: #7fbfbf\">                    </span><span style=\"color: #000080; text-decoration-color: #000080\">INFO    </span> Found <span style=\"color: #008080; text-decoration-color: #008080; font-weight: bold\">22</span> hbond interactions.                                          <span style=\"color: #7f7f7f; text-decoration-color: #7f7f7f\">distance.py:1344</span>\n",
       "</pre>\n"
      ],
      "text/plain": [
       "\u001b[2;36m                   \u001b[0m\u001b[2;36m \u001b[0m\u001b[34mINFO    \u001b[0m Found \u001b[1;36m22\u001b[0m hbond interactions.                                          \u001b[2mdistance.py\u001b[0m\u001b[2m:\u001b[0m\u001b[2m1344\u001b[0m\n"
      ]
     },
     "metadata": {},
     "output_type": "display_data"
    },
    {
     "data": {
      "text/html": [
       "<pre style=\"white-space:pre;overflow-x:auto;line-height:normal;font-family:Menlo,'DejaVu Sans Mono',consolas,'Courier New',monospace\"><span style=\"color: #7fbfbf; text-decoration-color: #7fbfbf\">                    </span><span style=\"color: #000080; text-decoration-color: #000080\">INFO    </span> Found <span style=\"color: #008080; text-decoration-color: #008080; font-weight: bold\">3486</span> ionic interactions.                                        <span style=\"color: #7f7f7f; text-decoration-color: #7f7f7f\">distance.py:1344</span>\n",
       "</pre>\n"
      ],
      "text/plain": [
       "\u001b[2;36m                   \u001b[0m\u001b[2;36m \u001b[0m\u001b[34mINFO    \u001b[0m Found \u001b[1;36m3486\u001b[0m ionic interactions.                                        \u001b[2mdistance.py\u001b[0m\u001b[2m:\u001b[0m\u001b[2m1344\u001b[0m\n"
      ]
     },
     "metadata": {},
     "output_type": "display_data"
    },
    {
     "data": {
      "text/html": [
       "<pre style=\"white-space:pre;overflow-x:auto;line-height:normal;font-family:Menlo,'DejaVu Sans Mono',consolas,'Courier New',monospace\"></pre>\n"
      ],
      "text/plain": []
     },
     "metadata": {},
     "output_type": "display_data"
    },
    {
     "data": {
      "text/html": [
       "<pre style=\"white-space:pre;overflow-x:auto;line-height:normal;font-family:Menlo,'DejaVu Sans Mono',consolas,'Courier New',monospace\">\n",
       "</pre>\n"
      ],
      "text/plain": [
       "\n"
      ]
     },
     "metadata": {},
     "output_type": "display_data"
    },
    {
     "data": {
      "application/vnd.jupyter.widget-view+json": {
       "model_id": "eda1d68061294e9596f12aba4903f72b",
       "version_major": 2,
       "version_minor": 0
      },
      "text/plain": [
       "Output()"
      ]
     },
     "metadata": {},
     "output_type": "display_data"
    },
    {
     "data": {
      "text/html": [
       "<pre style=\"white-space:pre;overflow-x:auto;line-height:normal;font-family:Menlo,'DejaVu Sans Mono',consolas,'Courier New',monospace\"><span style=\"color: #7fbfbf; text-decoration-color: #7fbfbf\">[05/03/24 18:04:11] </span><span style=\"color: #008000; text-decoration-color: #008000\">DEBUG   </span> Deprotonating protein. This removes H atoms from the pdb_df dataframe    <span style=\"color: #7f7f7f; text-decoration-color: #7f7f7f\">graphs.py:188</span>\n",
       "</pre>\n"
      ],
      "text/plain": [
       "\u001b[2;36m[05/03/24 18:04:11]\u001b[0m\u001b[2;36m \u001b[0m\u001b[32mDEBUG   \u001b[0m Deprotonating protein. This removes H atoms from the pdb_df dataframe    \u001b[2mgraphs.py\u001b[0m\u001b[2m:\u001b[0m\u001b[2m188\u001b[0m\n"
      ]
     },
     "metadata": {},
     "output_type": "display_data"
    },
    {
     "data": {
      "text/html": [
       "<pre style=\"white-space:pre;overflow-x:auto;line-height:normal;font-family:Menlo,'DejaVu Sans Mono',consolas,'Courier New',monospace\"><span style=\"color: #7fbfbf; text-decoration-color: #7fbfbf\">                    </span><span style=\"color: #008000; text-decoration-color: #008000\">DEBUG   </span> Detected <span style=\"color: #008080; text-decoration-color: #008080; font-weight: bold\">445</span> total nodes                                                 <span style=\"color: #7f7f7f; text-decoration-color: #7f7f7f\">graphs.py:435</span>\n",
       "</pre>\n"
      ],
      "text/plain": [
       "\u001b[2;36m                   \u001b[0m\u001b[2;36m \u001b[0m\u001b[32mDEBUG   \u001b[0m Detected \u001b[1;36m445\u001b[0m total nodes                                                 \u001b[2mgraphs.py\u001b[0m\u001b[2m:\u001b[0m\u001b[2m435\u001b[0m\n"
      ]
     },
     "metadata": {},
     "output_type": "display_data"
    },
    {
     "data": {
      "text/html": [
       "<pre style=\"white-space:pre;overflow-x:auto;line-height:normal;font-family:Menlo,'DejaVu Sans Mono',consolas,'Courier New',monospace\">c:\\Users\\HUAWEI\\Desktop\\materiale \n",
       "magistrale\\CHL\\CHL-Project\\.venv\\lib\\site-packages\\graphein\\protein\\edges\\distance.py:1213: FutureWarning: The \n",
       "default value of numeric_only in DataFrameGroupBy.mean is deprecated. In a future version, numeric_only will \n",
       "default to False. Either specify numeric_only or select only columns which should be valid for the function.\n",
       "  .mean()[[\"x_coord\", \"y_coord\", \"z_coord\"]]\n",
       "</pre>\n"
      ],
      "text/plain": [
       "c:\\Users\\HUAWEI\\Desktop\\materiale \n",
       "magistrale\\CHL\\CHL-Project\\.venv\\lib\\site-packages\\graphein\\protein\\edges\\distance.py:1213: FutureWarning: The \n",
       "default value of numeric_only in DataFrameGroupBy.mean is deprecated. In a future version, numeric_only will \n",
       "default to False. Either specify numeric_only or select only columns which should be valid for the function.\n",
       "  .mean()[[\"x_coord\", \"y_coord\", \"z_coord\"]]\n"
      ]
     },
     "metadata": {},
     "output_type": "display_data"
    },
    {
     "data": {
      "text/html": [
       "<pre style=\"white-space:pre;overflow-x:auto;line-height:normal;font-family:Menlo,'DejaVu Sans Mono',consolas,'Courier New',monospace\">c:\\Users\\HUAWEI\\Desktop\\materiale \n",
       "magistrale\\CHL\\CHL-Project\\.venv\\lib\\site-packages\\graphein\\protein\\edges\\distance.py:1213: FutureWarning: The \n",
       "default value of numeric_only in DataFrameGroupBy.mean is deprecated. In a future version, numeric_only will \n",
       "default to False. Either specify numeric_only or select only columns which should be valid for the function.\n",
       "  .mean()[[\"x_coord\", \"y_coord\", \"z_coord\"]]\n",
       "</pre>\n"
      ],
      "text/plain": [
       "c:\\Users\\HUAWEI\\Desktop\\materiale \n",
       "magistrale\\CHL\\CHL-Project\\.venv\\lib\\site-packages\\graphein\\protein\\edges\\distance.py:1213: FutureWarning: The \n",
       "default value of numeric_only in DataFrameGroupBy.mean is deprecated. In a future version, numeric_only will \n",
       "default to False. Either specify numeric_only or select only columns which should be valid for the function.\n",
       "  .mean()[[\"x_coord\", \"y_coord\", \"z_coord\"]]\n"
      ]
     },
     "metadata": {},
     "output_type": "display_data"
    },
    {
     "data": {
      "text/html": [
       "<pre style=\"white-space:pre;overflow-x:auto;line-height:normal;font-family:Menlo,'DejaVu Sans Mono',consolas,'Courier New',monospace\">c:\\Users\\HUAWEI\\Desktop\\materiale \n",
       "magistrale\\CHL\\CHL-Project\\.venv\\lib\\site-packages\\graphein\\protein\\edges\\distance.py:1213: FutureWarning: The \n",
       "default value of numeric_only in DataFrameGroupBy.mean is deprecated. In a future version, numeric_only will \n",
       "default to False. Either specify numeric_only or select only columns which should be valid for the function.\n",
       "  .mean()[[\"x_coord\", \"y_coord\", \"z_coord\"]]\n",
       "</pre>\n"
      ],
      "text/plain": [
       "c:\\Users\\HUAWEI\\Desktop\\materiale \n",
       "magistrale\\CHL\\CHL-Project\\.venv\\lib\\site-packages\\graphein\\protein\\edges\\distance.py:1213: FutureWarning: The \n",
       "default value of numeric_only in DataFrameGroupBy.mean is deprecated. In a future version, numeric_only will \n",
       "default to False. Either specify numeric_only or select only columns which should be valid for the function.\n",
       "  .mean()[[\"x_coord\", \"y_coord\", \"z_coord\"]]\n"
      ]
     },
     "metadata": {},
     "output_type": "display_data"
    },
    {
     "data": {
      "text/html": [
       "<pre style=\"white-space:pre;overflow-x:auto;line-height:normal;font-family:Menlo,'DejaVu Sans Mono',consolas,'Courier New',monospace\">c:\\Users\\HUAWEI\\Desktop\\materiale \n",
       "magistrale\\CHL\\CHL-Project\\.venv\\lib\\site-packages\\graphein\\protein\\edges\\distance.py:1213: FutureWarning: The \n",
       "default value of numeric_only in DataFrameGroupBy.mean is deprecated. In a future version, numeric_only will \n",
       "default to False. Either specify numeric_only or select only columns which should be valid for the function.\n",
       "  .mean()[[\"x_coord\", \"y_coord\", \"z_coord\"]]\n",
       "</pre>\n"
      ],
      "text/plain": [
       "c:\\Users\\HUAWEI\\Desktop\\materiale \n",
       "magistrale\\CHL\\CHL-Project\\.venv\\lib\\site-packages\\graphein\\protein\\edges\\distance.py:1213: FutureWarning: The \n",
       "default value of numeric_only in DataFrameGroupBy.mean is deprecated. In a future version, numeric_only will \n",
       "default to False. Either specify numeric_only or select only columns which should be valid for the function.\n",
       "  .mean()[[\"x_coord\", \"y_coord\", \"z_coord\"]]\n"
      ]
     },
     "metadata": {},
     "output_type": "display_data"
    },
    {
     "data": {
      "text/html": [
       "<pre style=\"white-space:pre;overflow-x:auto;line-height:normal;font-family:Menlo,'DejaVu Sans Mono',consolas,'Courier New',monospace\"><span style=\"color: #7fbfbf; text-decoration-color: #7fbfbf\">                    </span><span style=\"color: #000080; text-decoration-color: #000080\">INFO    </span> Found: <span style=\"color: #008080; text-decoration-color: #008080; font-weight: bold\">90</span> aromatic-aromatic interactions                               <span style=\"color: #7f7f7f; text-decoration-color: #7f7f7f\">distance.py:467</span>\n",
       "</pre>\n"
      ],
      "text/plain": [
       "\u001b[2;36m                   \u001b[0m\u001b[2;36m \u001b[0m\u001b[34mINFO    \u001b[0m Found: \u001b[1;36m90\u001b[0m aromatic-aromatic interactions                               \u001b[2mdistance.py\u001b[0m\u001b[2m:\u001b[0m\u001b[2m467\u001b[0m\n"
      ]
     },
     "metadata": {},
     "output_type": "display_data"
    },
    {
     "data": {
      "text/html": [
       "<pre style=\"white-space:pre;overflow-x:auto;line-height:normal;font-family:Menlo,'DejaVu Sans Mono',consolas,'Courier New',monospace\"><span style=\"color: #7fbfbf; text-decoration-color: #7fbfbf\">                    </span><span style=\"color: #000080; text-decoration-color: #000080\">INFO    </span> Found <span style=\"color: #008080; text-decoration-color: #008080; font-weight: bold\">962</span> hydrophobic interactions.                                   <span style=\"color: #7f7f7f; text-decoration-color: #7f7f7f\">distance.py:1344</span>\n",
       "</pre>\n"
      ],
      "text/plain": [
       "\u001b[2;36m                   \u001b[0m\u001b[2;36m \u001b[0m\u001b[34mINFO    \u001b[0m Found \u001b[1;36m962\u001b[0m hydrophobic interactions.                                   \u001b[2mdistance.py\u001b[0m\u001b[2m:\u001b[0m\u001b[2m1344\u001b[0m\n"
      ]
     },
     "metadata": {},
     "output_type": "display_data"
    },
    {
     "data": {
      "text/html": [
       "<pre style=\"white-space:pre;overflow-x:auto;line-height:normal;font-family:Menlo,'DejaVu Sans Mono',consolas,'Courier New',monospace\"><span style=\"color: #7fbfbf; text-decoration-color: #7fbfbf\">[05/03/24 18:04:12] </span><span style=\"color: #000080; text-decoration-color: #000080\">INFO    </span> Found <span style=\"color: #008080; text-decoration-color: #008080; font-weight: bold\">12</span> disulfide interactions.                                      <span style=\"color: #7f7f7f; text-decoration-color: #7f7f7f\">distance.py:1344</span>\n",
       "</pre>\n"
      ],
      "text/plain": [
       "\u001b[2;36m[05/03/24 18:04:12]\u001b[0m\u001b[2;36m \u001b[0m\u001b[34mINFO    \u001b[0m Found \u001b[1;36m12\u001b[0m disulfide interactions.                                      \u001b[2mdistance.py\u001b[0m\u001b[2m:\u001b[0m\u001b[2m1344\u001b[0m\n"
      ]
     },
     "metadata": {},
     "output_type": "display_data"
    },
    {
     "data": {
      "text/html": [
       "<pre style=\"white-space:pre;overflow-x:auto;line-height:normal;font-family:Menlo,'DejaVu Sans Mono',consolas,'Courier New',monospace\"><span style=\"color: #7fbfbf; text-decoration-color: #7fbfbf\">                    </span><span style=\"color: #000080; text-decoration-color: #000080\">INFO    </span> Found <span style=\"color: #008080; text-decoration-color: #008080; font-weight: bold\">192</span> hbond interactions.                                         <span style=\"color: #7f7f7f; text-decoration-color: #7f7f7f\">distance.py:1344</span>\n",
       "</pre>\n"
      ],
      "text/plain": [
       "\u001b[2;36m                   \u001b[0m\u001b[2;36m \u001b[0m\u001b[34mINFO    \u001b[0m Found \u001b[1;36m192\u001b[0m hbond interactions.                                         \u001b[2mdistance.py\u001b[0m\u001b[2m:\u001b[0m\u001b[2m1344\u001b[0m\n"
      ]
     },
     "metadata": {},
     "output_type": "display_data"
    },
    {
     "data": {
      "text/html": [
       "<pre style=\"white-space:pre;overflow-x:auto;line-height:normal;font-family:Menlo,'DejaVu Sans Mono',consolas,'Courier New',monospace\"><span style=\"color: #7fbfbf; text-decoration-color: #7fbfbf\">                    </span><span style=\"color: #000080; text-decoration-color: #000080\">INFO    </span> Found <span style=\"color: #008080; text-decoration-color: #008080; font-weight: bold\">22</span> hbond interactions.                                          <span style=\"color: #7f7f7f; text-decoration-color: #7f7f7f\">distance.py:1344</span>\n",
       "</pre>\n"
      ],
      "text/plain": [
       "\u001b[2;36m                   \u001b[0m\u001b[2;36m \u001b[0m\u001b[34mINFO    \u001b[0m Found \u001b[1;36m22\u001b[0m hbond interactions.                                          \u001b[2mdistance.py\u001b[0m\u001b[2m:\u001b[0m\u001b[2m1344\u001b[0m\n"
      ]
     },
     "metadata": {},
     "output_type": "display_data"
    },
    {
     "data": {
      "text/html": [
       "<pre style=\"white-space:pre;overflow-x:auto;line-height:normal;font-family:Menlo,'DejaVu Sans Mono',consolas,'Courier New',monospace\"></pre>\n"
      ],
      "text/plain": []
     },
     "metadata": {},
     "output_type": "display_data"
    },
    {
     "data": {
      "text/html": [
       "<pre style=\"white-space:pre;overflow-x:auto;line-height:normal;font-family:Menlo,'DejaVu Sans Mono',consolas,'Courier New',monospace\">\n",
       "</pre>\n"
      ],
      "text/plain": [
       "\n"
      ]
     },
     "metadata": {},
     "output_type": "display_data"
    },
    {
     "data": {
      "application/vnd.jupyter.widget-view+json": {
       "model_id": "b0545f8c21d14afeb20ec63ea7d9cad6",
       "version_major": 2,
       "version_minor": 0
      },
      "text/plain": [
       "Output()"
      ]
     },
     "metadata": {},
     "output_type": "display_data"
    },
    {
     "data": {
      "text/html": [
       "<pre style=\"white-space:pre;overflow-x:auto;line-height:normal;font-family:Menlo,'DejaVu Sans Mono',consolas,'Courier New',monospace\"><span style=\"color: #7fbfbf; text-decoration-color: #7fbfbf\">                    </span><span style=\"color: #008000; text-decoration-color: #008000\">DEBUG   </span> Deprotonating protein. This removes H atoms from the pdb_df dataframe    <span style=\"color: #7f7f7f; text-decoration-color: #7f7f7f\">graphs.py:188</span>\n",
       "</pre>\n"
      ],
      "text/plain": [
       "\u001b[2;36m                   \u001b[0m\u001b[2;36m \u001b[0m\u001b[32mDEBUG   \u001b[0m Deprotonating protein. This removes H atoms from the pdb_df dataframe    \u001b[2mgraphs.py\u001b[0m\u001b[2m:\u001b[0m\u001b[2m188\u001b[0m\n"
      ]
     },
     "metadata": {},
     "output_type": "display_data"
    },
    {
     "data": {
      "text/html": [
       "<pre style=\"white-space:pre;overflow-x:auto;line-height:normal;font-family:Menlo,'DejaVu Sans Mono',consolas,'Courier New',monospace\"><span style=\"color: #7fbfbf; text-decoration-color: #7fbfbf\">                    </span><span style=\"color: #008000; text-decoration-color: #008000\">DEBUG   </span> Detected <span style=\"color: #008080; text-decoration-color: #008080; font-weight: bold\">445</span> total nodes                                                 <span style=\"color: #7f7f7f; text-decoration-color: #7f7f7f\">graphs.py:435</span>\n",
       "</pre>\n"
      ],
      "text/plain": [
       "\u001b[2;36m                   \u001b[0m\u001b[2;36m \u001b[0m\u001b[32mDEBUG   \u001b[0m Detected \u001b[1;36m445\u001b[0m total nodes                                                 \u001b[2mgraphs.py\u001b[0m\u001b[2m:\u001b[0m\u001b[2m435\u001b[0m\n"
      ]
     },
     "metadata": {},
     "output_type": "display_data"
    },
    {
     "data": {
      "text/html": [
       "<pre style=\"white-space:pre;overflow-x:auto;line-height:normal;font-family:Menlo,'DejaVu Sans Mono',consolas,'Courier New',monospace\">c:\\Users\\HUAWEI\\Desktop\\materiale \n",
       "magistrale\\CHL\\CHL-Project\\.venv\\lib\\site-packages\\graphein\\protein\\edges\\distance.py:1213: FutureWarning: The \n",
       "default value of numeric_only in DataFrameGroupBy.mean is deprecated. In a future version, numeric_only will \n",
       "default to False. Either specify numeric_only or select only columns which should be valid for the function.\n",
       "  .mean()[[\"x_coord\", \"y_coord\", \"z_coord\"]]\n",
       "</pre>\n"
      ],
      "text/plain": [
       "c:\\Users\\HUAWEI\\Desktop\\materiale \n",
       "magistrale\\CHL\\CHL-Project\\.venv\\lib\\site-packages\\graphein\\protein\\edges\\distance.py:1213: FutureWarning: The \n",
       "default value of numeric_only in DataFrameGroupBy.mean is deprecated. In a future version, numeric_only will \n",
       "default to False. Either specify numeric_only or select only columns which should be valid for the function.\n",
       "  .mean()[[\"x_coord\", \"y_coord\", \"z_coord\"]]\n"
      ]
     },
     "metadata": {},
     "output_type": "display_data"
    },
    {
     "data": {
      "text/html": [
       "<pre style=\"white-space:pre;overflow-x:auto;line-height:normal;font-family:Menlo,'DejaVu Sans Mono',consolas,'Courier New',monospace\">c:\\Users\\HUAWEI\\Desktop\\materiale \n",
       "magistrale\\CHL\\CHL-Project\\.venv\\lib\\site-packages\\graphein\\protein\\edges\\distance.py:1213: FutureWarning: The \n",
       "default value of numeric_only in DataFrameGroupBy.mean is deprecated. In a future version, numeric_only will \n",
       "default to False. Either specify numeric_only or select only columns which should be valid for the function.\n",
       "  .mean()[[\"x_coord\", \"y_coord\", \"z_coord\"]]\n",
       "</pre>\n"
      ],
      "text/plain": [
       "c:\\Users\\HUAWEI\\Desktop\\materiale \n",
       "magistrale\\CHL\\CHL-Project\\.venv\\lib\\site-packages\\graphein\\protein\\edges\\distance.py:1213: FutureWarning: The \n",
       "default value of numeric_only in DataFrameGroupBy.mean is deprecated. In a future version, numeric_only will \n",
       "default to False. Either specify numeric_only or select only columns which should be valid for the function.\n",
       "  .mean()[[\"x_coord\", \"y_coord\", \"z_coord\"]]\n"
      ]
     },
     "metadata": {},
     "output_type": "display_data"
    },
    {
     "data": {
      "text/html": [
       "<pre style=\"white-space:pre;overflow-x:auto;line-height:normal;font-family:Menlo,'DejaVu Sans Mono',consolas,'Courier New',monospace\">c:\\Users\\HUAWEI\\Desktop\\materiale \n",
       "magistrale\\CHL\\CHL-Project\\.venv\\lib\\site-packages\\graphein\\protein\\edges\\distance.py:1213: FutureWarning: The \n",
       "default value of numeric_only in DataFrameGroupBy.mean is deprecated. In a future version, numeric_only will \n",
       "default to False. Either specify numeric_only or select only columns which should be valid for the function.\n",
       "  .mean()[[\"x_coord\", \"y_coord\", \"z_coord\"]]\n",
       "</pre>\n"
      ],
      "text/plain": [
       "c:\\Users\\HUAWEI\\Desktop\\materiale \n",
       "magistrale\\CHL\\CHL-Project\\.venv\\lib\\site-packages\\graphein\\protein\\edges\\distance.py:1213: FutureWarning: The \n",
       "default value of numeric_only in DataFrameGroupBy.mean is deprecated. In a future version, numeric_only will \n",
       "default to False. Either specify numeric_only or select only columns which should be valid for the function.\n",
       "  .mean()[[\"x_coord\", \"y_coord\", \"z_coord\"]]\n"
      ]
     },
     "metadata": {},
     "output_type": "display_data"
    },
    {
     "data": {
      "text/html": [
       "<pre style=\"white-space:pre;overflow-x:auto;line-height:normal;font-family:Menlo,'DejaVu Sans Mono',consolas,'Courier New',monospace\">c:\\Users\\HUAWEI\\Desktop\\materiale \n",
       "magistrale\\CHL\\CHL-Project\\.venv\\lib\\site-packages\\graphein\\protein\\edges\\distance.py:1213: FutureWarning: The \n",
       "default value of numeric_only in DataFrameGroupBy.mean is deprecated. In a future version, numeric_only will \n",
       "default to False. Either specify numeric_only or select only columns which should be valid for the function.\n",
       "  .mean()[[\"x_coord\", \"y_coord\", \"z_coord\"]]\n",
       "</pre>\n"
      ],
      "text/plain": [
       "c:\\Users\\HUAWEI\\Desktop\\materiale \n",
       "magistrale\\CHL\\CHL-Project\\.venv\\lib\\site-packages\\graphein\\protein\\edges\\distance.py:1213: FutureWarning: The \n",
       "default value of numeric_only in DataFrameGroupBy.mean is deprecated. In a future version, numeric_only will \n",
       "default to False. Either specify numeric_only or select only columns which should be valid for the function.\n",
       "  .mean()[[\"x_coord\", \"y_coord\", \"z_coord\"]]\n"
      ]
     },
     "metadata": {},
     "output_type": "display_data"
    },
    {
     "data": {
      "text/html": [
       "<pre style=\"white-space:pre;overflow-x:auto;line-height:normal;font-family:Menlo,'DejaVu Sans Mono',consolas,'Courier New',monospace\"><span style=\"color: #7fbfbf; text-decoration-color: #7fbfbf\">                    </span><span style=\"color: #000080; text-decoration-color: #000080\">INFO    </span> Found: <span style=\"color: #008080; text-decoration-color: #008080; font-weight: bold\">92</span> aromatic-aromatic interactions                               <span style=\"color: #7f7f7f; text-decoration-color: #7f7f7f\">distance.py:467</span>\n",
       "</pre>\n"
      ],
      "text/plain": [
       "\u001b[2;36m                   \u001b[0m\u001b[2;36m \u001b[0m\u001b[34mINFO    \u001b[0m Found: \u001b[1;36m92\u001b[0m aromatic-aromatic interactions                               \u001b[2mdistance.py\u001b[0m\u001b[2m:\u001b[0m\u001b[2m467\u001b[0m\n"
      ]
     },
     "metadata": {},
     "output_type": "display_data"
    },
    {
     "data": {
      "text/html": [
       "<pre style=\"white-space:pre;overflow-x:auto;line-height:normal;font-family:Menlo,'DejaVu Sans Mono',consolas,'Courier New',monospace\"><span style=\"color: #7fbfbf; text-decoration-color: #7fbfbf\">                    </span><span style=\"color: #000080; text-decoration-color: #000080\">INFO    </span> Found <span style=\"color: #008080; text-decoration-color: #008080; font-weight: bold\">962</span> hydrophobic interactions.                                   <span style=\"color: #7f7f7f; text-decoration-color: #7f7f7f\">distance.py:1344</span>\n",
       "</pre>\n"
      ],
      "text/plain": [
       "\u001b[2;36m                   \u001b[0m\u001b[2;36m \u001b[0m\u001b[34mINFO    \u001b[0m Found \u001b[1;36m962\u001b[0m hydrophobic interactions.                                   \u001b[2mdistance.py\u001b[0m\u001b[2m:\u001b[0m\u001b[2m1344\u001b[0m\n"
      ]
     },
     "metadata": {},
     "output_type": "display_data"
    },
    {
     "data": {
      "text/html": [
       "<pre style=\"white-space:pre;overflow-x:auto;line-height:normal;font-family:Menlo,'DejaVu Sans Mono',consolas,'Courier New',monospace\"><span style=\"color: #7fbfbf; text-decoration-color: #7fbfbf\">[05/03/24 18:04:13] </span><span style=\"color: #000080; text-decoration-color: #000080\">INFO    </span> Found <span style=\"color: #008080; text-decoration-color: #008080; font-weight: bold\">12</span> disulfide interactions.                                      <span style=\"color: #7f7f7f; text-decoration-color: #7f7f7f\">distance.py:1344</span>\n",
       "</pre>\n"
      ],
      "text/plain": [
       "\u001b[2;36m[05/03/24 18:04:13]\u001b[0m\u001b[2;36m \u001b[0m\u001b[34mINFO    \u001b[0m Found \u001b[1;36m12\u001b[0m disulfide interactions.                                      \u001b[2mdistance.py\u001b[0m\u001b[2m:\u001b[0m\u001b[2m1344\u001b[0m\n"
      ]
     },
     "metadata": {},
     "output_type": "display_data"
    },
    {
     "data": {
      "text/html": [
       "<pre style=\"white-space:pre;overflow-x:auto;line-height:normal;font-family:Menlo,'DejaVu Sans Mono',consolas,'Courier New',monospace\"><span style=\"color: #7fbfbf; text-decoration-color: #7fbfbf\">                    </span><span style=\"color: #000080; text-decoration-color: #000080\">INFO    </span> Found <span style=\"color: #008080; text-decoration-color: #008080; font-weight: bold\">191</span> hbond interactions.                                         <span style=\"color: #7f7f7f; text-decoration-color: #7f7f7f\">distance.py:1344</span>\n",
       "</pre>\n"
      ],
      "text/plain": [
       "\u001b[2;36m                   \u001b[0m\u001b[2;36m \u001b[0m\u001b[34mINFO    \u001b[0m Found \u001b[1;36m191\u001b[0m hbond interactions.                                         \u001b[2mdistance.py\u001b[0m\u001b[2m:\u001b[0m\u001b[2m1344\u001b[0m\n"
      ]
     },
     "metadata": {},
     "output_type": "display_data"
    },
    {
     "data": {
      "text/html": [
       "<pre style=\"white-space:pre;overflow-x:auto;line-height:normal;font-family:Menlo,'DejaVu Sans Mono',consolas,'Courier New',monospace\"><span style=\"color: #7fbfbf; text-decoration-color: #7fbfbf\">                    </span><span style=\"color: #000080; text-decoration-color: #000080\">INFO    </span> Found <span style=\"color: #008080; text-decoration-color: #008080; font-weight: bold\">22</span> hbond interactions.                                          <span style=\"color: #7f7f7f; text-decoration-color: #7f7f7f\">distance.py:1344</span>\n",
       "</pre>\n"
      ],
      "text/plain": [
       "\u001b[2;36m                   \u001b[0m\u001b[2;36m \u001b[0m\u001b[34mINFO    \u001b[0m Found \u001b[1;36m22\u001b[0m hbond interactions.                                          \u001b[2mdistance.py\u001b[0m\u001b[2m:\u001b[0m\u001b[2m1344\u001b[0m\n"
      ]
     },
     "metadata": {},
     "output_type": "display_data"
    },
    {
     "data": {
      "text/html": [
       "<pre style=\"white-space:pre;overflow-x:auto;line-height:normal;font-family:Menlo,'DejaVu Sans Mono',consolas,'Courier New',monospace\"><span style=\"color: #7fbfbf; text-decoration-color: #7fbfbf\">                    </span><span style=\"color: #000080; text-decoration-color: #000080\">INFO    </span> Found <span style=\"color: #008080; text-decoration-color: #008080; font-weight: bold\">3510</span> ionic interactions.                                        <span style=\"color: #7f7f7f; text-decoration-color: #7f7f7f\">distance.py:1344</span>\n",
       "</pre>\n"
      ],
      "text/plain": [
       "\u001b[2;36m                   \u001b[0m\u001b[2;36m \u001b[0m\u001b[34mINFO    \u001b[0m Found \u001b[1;36m3510\u001b[0m ionic interactions.                                        \u001b[2mdistance.py\u001b[0m\u001b[2m:\u001b[0m\u001b[2m1344\u001b[0m\n"
      ]
     },
     "metadata": {},
     "output_type": "display_data"
    },
    {
     "data": {
      "text/html": [
       "<pre style=\"white-space:pre;overflow-x:auto;line-height:normal;font-family:Menlo,'DejaVu Sans Mono',consolas,'Courier New',monospace\"></pre>\n"
      ],
      "text/plain": []
     },
     "metadata": {},
     "output_type": "display_data"
    },
    {
     "data": {
      "text/html": [
       "<pre style=\"white-space:pre;overflow-x:auto;line-height:normal;font-family:Menlo,'DejaVu Sans Mono',consolas,'Courier New',monospace\">\n",
       "</pre>\n"
      ],
      "text/plain": [
       "\n"
      ]
     },
     "metadata": {},
     "output_type": "display_data"
    },
    {
     "data": {
      "application/vnd.jupyter.widget-view+json": {
       "model_id": "0b951c1248524b1fa45836cff1a222e3",
       "version_major": 2,
       "version_minor": 0
      },
      "text/plain": [
       "Output()"
      ]
     },
     "metadata": {},
     "output_type": "display_data"
    },
    {
     "data": {
      "text/html": [
       "<pre style=\"white-space:pre;overflow-x:auto;line-height:normal;font-family:Menlo,'DejaVu Sans Mono',consolas,'Courier New',monospace\"><span style=\"color: #7fbfbf; text-decoration-color: #7fbfbf\">                    </span><span style=\"color: #008000; text-decoration-color: #008000\">DEBUG   </span> Deprotonating protein. This removes H atoms from the pdb_df dataframe    <span style=\"color: #7f7f7f; text-decoration-color: #7f7f7f\">graphs.py:188</span>\n",
       "</pre>\n"
      ],
      "text/plain": [
       "\u001b[2;36m                   \u001b[0m\u001b[2;36m \u001b[0m\u001b[32mDEBUG   \u001b[0m Deprotonating protein. This removes H atoms from the pdb_df dataframe    \u001b[2mgraphs.py\u001b[0m\u001b[2m:\u001b[0m\u001b[2m188\u001b[0m\n"
      ]
     },
     "metadata": {},
     "output_type": "display_data"
    },
    {
     "data": {
      "text/html": [
       "<pre style=\"white-space:pre;overflow-x:auto;line-height:normal;font-family:Menlo,'DejaVu Sans Mono',consolas,'Courier New',monospace\"><span style=\"color: #7fbfbf; text-decoration-color: #7fbfbf\">                    </span><span style=\"color: #008000; text-decoration-color: #008000\">DEBUG   </span> Detected <span style=\"color: #008080; text-decoration-color: #008080; font-weight: bold\">445</span> total nodes                                                 <span style=\"color: #7f7f7f; text-decoration-color: #7f7f7f\">graphs.py:435</span>\n",
       "</pre>\n"
      ],
      "text/plain": [
       "\u001b[2;36m                   \u001b[0m\u001b[2;36m \u001b[0m\u001b[32mDEBUG   \u001b[0m Detected \u001b[1;36m445\u001b[0m total nodes                                                 \u001b[2mgraphs.py\u001b[0m\u001b[2m:\u001b[0m\u001b[2m435\u001b[0m\n"
      ]
     },
     "metadata": {},
     "output_type": "display_data"
    },
    {
     "data": {
      "text/html": [
       "<pre style=\"white-space:pre;overflow-x:auto;line-height:normal;font-family:Menlo,'DejaVu Sans Mono',consolas,'Courier New',monospace\">c:\\Users\\HUAWEI\\Desktop\\materiale \n",
       "magistrale\\CHL\\CHL-Project\\.venv\\lib\\site-packages\\graphein\\protein\\edges\\distance.py:1213: FutureWarning: The \n",
       "default value of numeric_only in DataFrameGroupBy.mean is deprecated. In a future version, numeric_only will \n",
       "default to False. Either specify numeric_only or select only columns which should be valid for the function.\n",
       "  .mean()[[\"x_coord\", \"y_coord\", \"z_coord\"]]\n",
       "</pre>\n"
      ],
      "text/plain": [
       "c:\\Users\\HUAWEI\\Desktop\\materiale \n",
       "magistrale\\CHL\\CHL-Project\\.venv\\lib\\site-packages\\graphein\\protein\\edges\\distance.py:1213: FutureWarning: The \n",
       "default value of numeric_only in DataFrameGroupBy.mean is deprecated. In a future version, numeric_only will \n",
       "default to False. Either specify numeric_only or select only columns which should be valid for the function.\n",
       "  .mean()[[\"x_coord\", \"y_coord\", \"z_coord\"]]\n"
      ]
     },
     "metadata": {},
     "output_type": "display_data"
    },
    {
     "data": {
      "text/html": [
       "<pre style=\"white-space:pre;overflow-x:auto;line-height:normal;font-family:Menlo,'DejaVu Sans Mono',consolas,'Courier New',monospace\">c:\\Users\\HUAWEI\\Desktop\\materiale \n",
       "magistrale\\CHL\\CHL-Project\\.venv\\lib\\site-packages\\graphein\\protein\\edges\\distance.py:1213: FutureWarning: The \n",
       "default value of numeric_only in DataFrameGroupBy.mean is deprecated. In a future version, numeric_only will \n",
       "default to False. Either specify numeric_only or select only columns which should be valid for the function.\n",
       "  .mean()[[\"x_coord\", \"y_coord\", \"z_coord\"]]\n",
       "</pre>\n"
      ],
      "text/plain": [
       "c:\\Users\\HUAWEI\\Desktop\\materiale \n",
       "magistrale\\CHL\\CHL-Project\\.venv\\lib\\site-packages\\graphein\\protein\\edges\\distance.py:1213: FutureWarning: The \n",
       "default value of numeric_only in DataFrameGroupBy.mean is deprecated. In a future version, numeric_only will \n",
       "default to False. Either specify numeric_only or select only columns which should be valid for the function.\n",
       "  .mean()[[\"x_coord\", \"y_coord\", \"z_coord\"]]\n"
      ]
     },
     "metadata": {},
     "output_type": "display_data"
    },
    {
     "data": {
      "text/html": [
       "<pre style=\"white-space:pre;overflow-x:auto;line-height:normal;font-family:Menlo,'DejaVu Sans Mono',consolas,'Courier New',monospace\">c:\\Users\\HUAWEI\\Desktop\\materiale \n",
       "magistrale\\CHL\\CHL-Project\\.venv\\lib\\site-packages\\graphein\\protein\\edges\\distance.py:1213: FutureWarning: The \n",
       "default value of numeric_only in DataFrameGroupBy.mean is deprecated. In a future version, numeric_only will \n",
       "default to False. Either specify numeric_only or select only columns which should be valid for the function.\n",
       "  .mean()[[\"x_coord\", \"y_coord\", \"z_coord\"]]\n",
       "</pre>\n"
      ],
      "text/plain": [
       "c:\\Users\\HUAWEI\\Desktop\\materiale \n",
       "magistrale\\CHL\\CHL-Project\\.venv\\lib\\site-packages\\graphein\\protein\\edges\\distance.py:1213: FutureWarning: The \n",
       "default value of numeric_only in DataFrameGroupBy.mean is deprecated. In a future version, numeric_only will \n",
       "default to False. Either specify numeric_only or select only columns which should be valid for the function.\n",
       "  .mean()[[\"x_coord\", \"y_coord\", \"z_coord\"]]\n"
      ]
     },
     "metadata": {},
     "output_type": "display_data"
    },
    {
     "data": {
      "text/html": [
       "<pre style=\"white-space:pre;overflow-x:auto;line-height:normal;font-family:Menlo,'DejaVu Sans Mono',consolas,'Courier New',monospace\">c:\\Users\\HUAWEI\\Desktop\\materiale \n",
       "magistrale\\CHL\\CHL-Project\\.venv\\lib\\site-packages\\graphein\\protein\\edges\\distance.py:1213: FutureWarning: The \n",
       "default value of numeric_only in DataFrameGroupBy.mean is deprecated. In a future version, numeric_only will \n",
       "default to False. Either specify numeric_only or select only columns which should be valid for the function.\n",
       "  .mean()[[\"x_coord\", \"y_coord\", \"z_coord\"]]\n",
       "</pre>\n"
      ],
      "text/plain": [
       "c:\\Users\\HUAWEI\\Desktop\\materiale \n",
       "magistrale\\CHL\\CHL-Project\\.venv\\lib\\site-packages\\graphein\\protein\\edges\\distance.py:1213: FutureWarning: The \n",
       "default value of numeric_only in DataFrameGroupBy.mean is deprecated. In a future version, numeric_only will \n",
       "default to False. Either specify numeric_only or select only columns which should be valid for the function.\n",
       "  .mean()[[\"x_coord\", \"y_coord\", \"z_coord\"]]\n"
      ]
     },
     "metadata": {},
     "output_type": "display_data"
    },
    {
     "data": {
      "text/html": [
       "<pre style=\"white-space:pre;overflow-x:auto;line-height:normal;font-family:Menlo,'DejaVu Sans Mono',consolas,'Courier New',monospace\"><span style=\"color: #7fbfbf; text-decoration-color: #7fbfbf\">                    </span><span style=\"color: #000080; text-decoration-color: #000080\">INFO    </span> Found: <span style=\"color: #008080; text-decoration-color: #008080; font-weight: bold\">92</span> aromatic-aromatic interactions                               <span style=\"color: #7f7f7f; text-decoration-color: #7f7f7f\">distance.py:467</span>\n",
       "</pre>\n"
      ],
      "text/plain": [
       "\u001b[2;36m                   \u001b[0m\u001b[2;36m \u001b[0m\u001b[34mINFO    \u001b[0m Found: \u001b[1;36m92\u001b[0m aromatic-aromatic interactions                               \u001b[2mdistance.py\u001b[0m\u001b[2m:\u001b[0m\u001b[2m467\u001b[0m\n"
      ]
     },
     "metadata": {},
     "output_type": "display_data"
    },
    {
     "data": {
      "text/html": [
       "<pre style=\"white-space:pre;overflow-x:auto;line-height:normal;font-family:Menlo,'DejaVu Sans Mono',consolas,'Courier New',monospace\"><span style=\"color: #7fbfbf; text-decoration-color: #7fbfbf\">[05/03/24 18:04:14] </span><span style=\"color: #000080; text-decoration-color: #000080\">INFO    </span> Found <span style=\"color: #008080; text-decoration-color: #008080; font-weight: bold\">967</span> hydrophobic interactions.                                   <span style=\"color: #7f7f7f; text-decoration-color: #7f7f7f\">distance.py:1344</span>\n",
       "</pre>\n"
      ],
      "text/plain": [
       "\u001b[2;36m[05/03/24 18:04:14]\u001b[0m\u001b[2;36m \u001b[0m\u001b[34mINFO    \u001b[0m Found \u001b[1;36m967\u001b[0m hydrophobic interactions.                                   \u001b[2mdistance.py\u001b[0m\u001b[2m:\u001b[0m\u001b[2m1344\u001b[0m\n"
      ]
     },
     "metadata": {},
     "output_type": "display_data"
    },
    {
     "data": {
      "text/html": [
       "<pre style=\"white-space:pre;overflow-x:auto;line-height:normal;font-family:Menlo,'DejaVu Sans Mono',consolas,'Courier New',monospace\"><span style=\"color: #7fbfbf; text-decoration-color: #7fbfbf\">                    </span><span style=\"color: #000080; text-decoration-color: #000080\">INFO    </span> Found <span style=\"color: #008080; text-decoration-color: #008080; font-weight: bold\">12</span> disulfide interactions.                                      <span style=\"color: #7f7f7f; text-decoration-color: #7f7f7f\">distance.py:1344</span>\n",
       "</pre>\n"
      ],
      "text/plain": [
       "\u001b[2;36m                   \u001b[0m\u001b[2;36m \u001b[0m\u001b[34mINFO    \u001b[0m Found \u001b[1;36m12\u001b[0m disulfide interactions.                                      \u001b[2mdistance.py\u001b[0m\u001b[2m:\u001b[0m\u001b[2m1344\u001b[0m\n"
      ]
     },
     "metadata": {},
     "output_type": "display_data"
    },
    {
     "data": {
      "text/html": [
       "<pre style=\"white-space:pre;overflow-x:auto;line-height:normal;font-family:Menlo,'DejaVu Sans Mono',consolas,'Courier New',monospace\"><span style=\"color: #7fbfbf; text-decoration-color: #7fbfbf\">                    </span><span style=\"color: #000080; text-decoration-color: #000080\">INFO    </span> Found <span style=\"color: #008080; text-decoration-color: #008080; font-weight: bold\">189</span> hbond interactions.                                         <span style=\"color: #7f7f7f; text-decoration-color: #7f7f7f\">distance.py:1344</span>\n",
       "</pre>\n"
      ],
      "text/plain": [
       "\u001b[2;36m                   \u001b[0m\u001b[2;36m \u001b[0m\u001b[34mINFO    \u001b[0m Found \u001b[1;36m189\u001b[0m hbond interactions.                                         \u001b[2mdistance.py\u001b[0m\u001b[2m:\u001b[0m\u001b[2m1344\u001b[0m\n"
      ]
     },
     "metadata": {},
     "output_type": "display_data"
    },
    {
     "data": {
      "text/html": [
       "<pre style=\"white-space:pre;overflow-x:auto;line-height:normal;font-family:Menlo,'DejaVu Sans Mono',consolas,'Courier New',monospace\"><span style=\"color: #7fbfbf; text-decoration-color: #7fbfbf\">                    </span><span style=\"color: #000080; text-decoration-color: #000080\">INFO    </span> Found <span style=\"color: #008080; text-decoration-color: #008080; font-weight: bold\">22</span> hbond interactions.                                          <span style=\"color: #7f7f7f; text-decoration-color: #7f7f7f\">distance.py:1344</span>\n",
       "</pre>\n"
      ],
      "text/plain": [
       "\u001b[2;36m                   \u001b[0m\u001b[2;36m \u001b[0m\u001b[34mINFO    \u001b[0m Found \u001b[1;36m22\u001b[0m hbond interactions.                                          \u001b[2mdistance.py\u001b[0m\u001b[2m:\u001b[0m\u001b[2m1344\u001b[0m\n"
      ]
     },
     "metadata": {},
     "output_type": "display_data"
    },
    {
     "data": {
      "text/html": [
       "<pre style=\"white-space:pre;overflow-x:auto;line-height:normal;font-family:Menlo,'DejaVu Sans Mono',consolas,'Courier New',monospace\"><span style=\"color: #7fbfbf; text-decoration-color: #7fbfbf\">                    </span><span style=\"color: #000080; text-decoration-color: #000080\">INFO    </span> Found <span style=\"color: #008080; text-decoration-color: #008080; font-weight: bold\">3508</span> ionic interactions.                                        <span style=\"color: #7f7f7f; text-decoration-color: #7f7f7f\">distance.py:1344</span>\n",
       "</pre>\n"
      ],
      "text/plain": [
       "\u001b[2;36m                   \u001b[0m\u001b[2;36m \u001b[0m\u001b[34mINFO    \u001b[0m Found \u001b[1;36m3508\u001b[0m ionic interactions.                                        \u001b[2mdistance.py\u001b[0m\u001b[2m:\u001b[0m\u001b[2m1344\u001b[0m\n"
      ]
     },
     "metadata": {},
     "output_type": "display_data"
    },
    {
     "data": {
      "text/html": [
       "<pre style=\"white-space:pre;overflow-x:auto;line-height:normal;font-family:Menlo,'DejaVu Sans Mono',consolas,'Courier New',monospace\"></pre>\n"
      ],
      "text/plain": []
     },
     "metadata": {},
     "output_type": "display_data"
    },
    {
     "data": {
      "text/html": [
       "<pre style=\"white-space:pre;overflow-x:auto;line-height:normal;font-family:Menlo,'DejaVu Sans Mono',consolas,'Courier New',monospace\">\n",
       "</pre>\n"
      ],
      "text/plain": [
       "\n"
      ]
     },
     "metadata": {},
     "output_type": "display_data"
    },
    {
     "data": {
      "application/vnd.jupyter.widget-view+json": {
       "model_id": "26895206182a4c4a8457c9adcbd52b3e",
       "version_major": 2,
       "version_minor": 0
      },
      "text/plain": [
       "Output()"
      ]
     },
     "metadata": {},
     "output_type": "display_data"
    },
    {
     "data": {
      "text/html": [
       "<pre style=\"white-space:pre;overflow-x:auto;line-height:normal;font-family:Menlo,'DejaVu Sans Mono',consolas,'Courier New',monospace\"><span style=\"color: #7fbfbf; text-decoration-color: #7fbfbf\">                    </span><span style=\"color: #008000; text-decoration-color: #008000\">DEBUG   </span> Deprotonating protein. This removes H atoms from the pdb_df dataframe    <span style=\"color: #7f7f7f; text-decoration-color: #7f7f7f\">graphs.py:188</span>\n",
       "</pre>\n"
      ],
      "text/plain": [
       "\u001b[2;36m                   \u001b[0m\u001b[2;36m \u001b[0m\u001b[32mDEBUG   \u001b[0m Deprotonating protein. This removes H atoms from the pdb_df dataframe    \u001b[2mgraphs.py\u001b[0m\u001b[2m:\u001b[0m\u001b[2m188\u001b[0m\n"
      ]
     },
     "metadata": {},
     "output_type": "display_data"
    },
    {
     "data": {
      "text/html": [
       "<pre style=\"white-space:pre;overflow-x:auto;line-height:normal;font-family:Menlo,'DejaVu Sans Mono',consolas,'Courier New',monospace\"><span style=\"color: #7fbfbf; text-decoration-color: #7fbfbf\">                    </span><span style=\"color: #008000; text-decoration-color: #008000\">DEBUG   </span> Detected <span style=\"color: #008080; text-decoration-color: #008080; font-weight: bold\">445</span> total nodes                                                 <span style=\"color: #7f7f7f; text-decoration-color: #7f7f7f\">graphs.py:435</span>\n",
       "</pre>\n"
      ],
      "text/plain": [
       "\u001b[2;36m                   \u001b[0m\u001b[2;36m \u001b[0m\u001b[32mDEBUG   \u001b[0m Detected \u001b[1;36m445\u001b[0m total nodes                                                 \u001b[2mgraphs.py\u001b[0m\u001b[2m:\u001b[0m\u001b[2m435\u001b[0m\n"
      ]
     },
     "metadata": {},
     "output_type": "display_data"
    },
    {
     "data": {
      "text/html": [
       "<pre style=\"white-space:pre;overflow-x:auto;line-height:normal;font-family:Menlo,'DejaVu Sans Mono',consolas,'Courier New',monospace\">c:\\Users\\HUAWEI\\Desktop\\materiale \n",
       "magistrale\\CHL\\CHL-Project\\.venv\\lib\\site-packages\\graphein\\protein\\edges\\distance.py:1213: FutureWarning: The \n",
       "default value of numeric_only in DataFrameGroupBy.mean is deprecated. In a future version, numeric_only will \n",
       "default to False. Either specify numeric_only or select only columns which should be valid for the function.\n",
       "  .mean()[[\"x_coord\", \"y_coord\", \"z_coord\"]]\n",
       "</pre>\n"
      ],
      "text/plain": [
       "c:\\Users\\HUAWEI\\Desktop\\materiale \n",
       "magistrale\\CHL\\CHL-Project\\.venv\\lib\\site-packages\\graphein\\protein\\edges\\distance.py:1213: FutureWarning: The \n",
       "default value of numeric_only in DataFrameGroupBy.mean is deprecated. In a future version, numeric_only will \n",
       "default to False. Either specify numeric_only or select only columns which should be valid for the function.\n",
       "  .mean()[[\"x_coord\", \"y_coord\", \"z_coord\"]]\n"
      ]
     },
     "metadata": {},
     "output_type": "display_data"
    },
    {
     "data": {
      "text/html": [
       "<pre style=\"white-space:pre;overflow-x:auto;line-height:normal;font-family:Menlo,'DejaVu Sans Mono',consolas,'Courier New',monospace\">c:\\Users\\HUAWEI\\Desktop\\materiale \n",
       "magistrale\\CHL\\CHL-Project\\.venv\\lib\\site-packages\\graphein\\protein\\edges\\distance.py:1213: FutureWarning: The \n",
       "default value of numeric_only in DataFrameGroupBy.mean is deprecated. In a future version, numeric_only will \n",
       "default to False. Either specify numeric_only or select only columns which should be valid for the function.\n",
       "  .mean()[[\"x_coord\", \"y_coord\", \"z_coord\"]]\n",
       "</pre>\n"
      ],
      "text/plain": [
       "c:\\Users\\HUAWEI\\Desktop\\materiale \n",
       "magistrale\\CHL\\CHL-Project\\.venv\\lib\\site-packages\\graphein\\protein\\edges\\distance.py:1213: FutureWarning: The \n",
       "default value of numeric_only in DataFrameGroupBy.mean is deprecated. In a future version, numeric_only will \n",
       "default to False. Either specify numeric_only or select only columns which should be valid for the function.\n",
       "  .mean()[[\"x_coord\", \"y_coord\", \"z_coord\"]]\n"
      ]
     },
     "metadata": {},
     "output_type": "display_data"
    },
    {
     "data": {
      "text/html": [
       "<pre style=\"white-space:pre;overflow-x:auto;line-height:normal;font-family:Menlo,'DejaVu Sans Mono',consolas,'Courier New',monospace\">c:\\Users\\HUAWEI\\Desktop\\materiale \n",
       "magistrale\\CHL\\CHL-Project\\.venv\\lib\\site-packages\\graphein\\protein\\edges\\distance.py:1213: FutureWarning: The \n",
       "default value of numeric_only in DataFrameGroupBy.mean is deprecated. In a future version, numeric_only will \n",
       "default to False. Either specify numeric_only or select only columns which should be valid for the function.\n",
       "  .mean()[[\"x_coord\", \"y_coord\", \"z_coord\"]]\n",
       "</pre>\n"
      ],
      "text/plain": [
       "c:\\Users\\HUAWEI\\Desktop\\materiale \n",
       "magistrale\\CHL\\CHL-Project\\.venv\\lib\\site-packages\\graphein\\protein\\edges\\distance.py:1213: FutureWarning: The \n",
       "default value of numeric_only in DataFrameGroupBy.mean is deprecated. In a future version, numeric_only will \n",
       "default to False. Either specify numeric_only or select only columns which should be valid for the function.\n",
       "  .mean()[[\"x_coord\", \"y_coord\", \"z_coord\"]]\n"
      ]
     },
     "metadata": {},
     "output_type": "display_data"
    },
    {
     "data": {
      "text/html": [
       "<pre style=\"white-space:pre;overflow-x:auto;line-height:normal;font-family:Menlo,'DejaVu Sans Mono',consolas,'Courier New',monospace\">c:\\Users\\HUAWEI\\Desktop\\materiale \n",
       "magistrale\\CHL\\CHL-Project\\.venv\\lib\\site-packages\\graphein\\protein\\edges\\distance.py:1213: FutureWarning: The \n",
       "default value of numeric_only in DataFrameGroupBy.mean is deprecated. In a future version, numeric_only will \n",
       "default to False. Either specify numeric_only or select only columns which should be valid for the function.\n",
       "  .mean()[[\"x_coord\", \"y_coord\", \"z_coord\"]]\n",
       "</pre>\n"
      ],
      "text/plain": [
       "c:\\Users\\HUAWEI\\Desktop\\materiale \n",
       "magistrale\\CHL\\CHL-Project\\.venv\\lib\\site-packages\\graphein\\protein\\edges\\distance.py:1213: FutureWarning: The \n",
       "default value of numeric_only in DataFrameGroupBy.mean is deprecated. In a future version, numeric_only will \n",
       "default to False. Either specify numeric_only or select only columns which should be valid for the function.\n",
       "  .mean()[[\"x_coord\", \"y_coord\", \"z_coord\"]]\n"
      ]
     },
     "metadata": {},
     "output_type": "display_data"
    },
    {
     "data": {
      "text/html": [
       "<pre style=\"white-space:pre;overflow-x:auto;line-height:normal;font-family:Menlo,'DejaVu Sans Mono',consolas,'Courier New',monospace\"><span style=\"color: #7fbfbf; text-decoration-color: #7fbfbf\">                    </span><span style=\"color: #000080; text-decoration-color: #000080\">INFO    </span> Found: <span style=\"color: #008080; text-decoration-color: #008080; font-weight: bold\">94</span> aromatic-aromatic interactions                               <span style=\"color: #7f7f7f; text-decoration-color: #7f7f7f\">distance.py:467</span>\n",
       "</pre>\n"
      ],
      "text/plain": [
       "\u001b[2;36m                   \u001b[0m\u001b[2;36m \u001b[0m\u001b[34mINFO    \u001b[0m Found: \u001b[1;36m94\u001b[0m aromatic-aromatic interactions                               \u001b[2mdistance.py\u001b[0m\u001b[2m:\u001b[0m\u001b[2m467\u001b[0m\n"
      ]
     },
     "metadata": {},
     "output_type": "display_data"
    },
    {
     "data": {
      "text/html": [
       "<pre style=\"white-space:pre;overflow-x:auto;line-height:normal;font-family:Menlo,'DejaVu Sans Mono',consolas,'Courier New',monospace\"><span style=\"color: #7fbfbf; text-decoration-color: #7fbfbf\">                    </span><span style=\"color: #000080; text-decoration-color: #000080\">INFO    </span> Found <span style=\"color: #008080; text-decoration-color: #008080; font-weight: bold\">969</span> hydrophobic interactions.                                   <span style=\"color: #7f7f7f; text-decoration-color: #7f7f7f\">distance.py:1344</span>\n",
       "</pre>\n"
      ],
      "text/plain": [
       "\u001b[2;36m                   \u001b[0m\u001b[2;36m \u001b[0m\u001b[34mINFO    \u001b[0m Found \u001b[1;36m969\u001b[0m hydrophobic interactions.                                   \u001b[2mdistance.py\u001b[0m\u001b[2m:\u001b[0m\u001b[2m1344\u001b[0m\n"
      ]
     },
     "metadata": {},
     "output_type": "display_data"
    },
    {
     "data": {
      "text/html": [
       "<pre style=\"white-space:pre;overflow-x:auto;line-height:normal;font-family:Menlo,'DejaVu Sans Mono',consolas,'Courier New',monospace\"><span style=\"color: #7fbfbf; text-decoration-color: #7fbfbf\">[05/03/24 18:04:15] </span><span style=\"color: #000080; text-decoration-color: #000080\">INFO    </span> Found <span style=\"color: #008080; text-decoration-color: #008080; font-weight: bold\">12</span> disulfide interactions.                                      <span style=\"color: #7f7f7f; text-decoration-color: #7f7f7f\">distance.py:1344</span>\n",
       "</pre>\n"
      ],
      "text/plain": [
       "\u001b[2;36m[05/03/24 18:04:15]\u001b[0m\u001b[2;36m \u001b[0m\u001b[34mINFO    \u001b[0m Found \u001b[1;36m12\u001b[0m disulfide interactions.                                      \u001b[2mdistance.py\u001b[0m\u001b[2m:\u001b[0m\u001b[2m1344\u001b[0m\n"
      ]
     },
     "metadata": {},
     "output_type": "display_data"
    },
    {
     "data": {
      "text/html": [
       "<pre style=\"white-space:pre;overflow-x:auto;line-height:normal;font-family:Menlo,'DejaVu Sans Mono',consolas,'Courier New',monospace\"><span style=\"color: #7fbfbf; text-decoration-color: #7fbfbf\">                    </span><span style=\"color: #000080; text-decoration-color: #000080\">INFO    </span> Found <span style=\"color: #008080; text-decoration-color: #008080; font-weight: bold\">187</span> hbond interactions.                                         <span style=\"color: #7f7f7f; text-decoration-color: #7f7f7f\">distance.py:1344</span>\n",
       "</pre>\n"
      ],
      "text/plain": [
       "\u001b[2;36m                   \u001b[0m\u001b[2;36m \u001b[0m\u001b[34mINFO    \u001b[0m Found \u001b[1;36m187\u001b[0m hbond interactions.                                         \u001b[2mdistance.py\u001b[0m\u001b[2m:\u001b[0m\u001b[2m1344\u001b[0m\n"
      ]
     },
     "metadata": {},
     "output_type": "display_data"
    },
    {
     "data": {
      "text/html": [
       "<pre style=\"white-space:pre;overflow-x:auto;line-height:normal;font-family:Menlo,'DejaVu Sans Mono',consolas,'Courier New',monospace\"><span style=\"color: #7fbfbf; text-decoration-color: #7fbfbf\">                    </span><span style=\"color: #000080; text-decoration-color: #000080\">INFO    </span> Found <span style=\"color: #008080; text-decoration-color: #008080; font-weight: bold\">22</span> hbond interactions.                                          <span style=\"color: #7f7f7f; text-decoration-color: #7f7f7f\">distance.py:1344</span>\n",
       "</pre>\n"
      ],
      "text/plain": [
       "\u001b[2;36m                   \u001b[0m\u001b[2;36m \u001b[0m\u001b[34mINFO    \u001b[0m Found \u001b[1;36m22\u001b[0m hbond interactions.                                          \u001b[2mdistance.py\u001b[0m\u001b[2m:\u001b[0m\u001b[2m1344\u001b[0m\n"
      ]
     },
     "metadata": {},
     "output_type": "display_data"
    },
    {
     "data": {
      "text/html": [
       "<pre style=\"white-space:pre;overflow-x:auto;line-height:normal;font-family:Menlo,'DejaVu Sans Mono',consolas,'Courier New',monospace\"><span style=\"color: #7fbfbf; text-decoration-color: #7fbfbf\">                    </span><span style=\"color: #000080; text-decoration-color: #000080\">INFO    </span> Found <span style=\"color: #008080; text-decoration-color: #008080; font-weight: bold\">3512</span> ionic interactions.                                        <span style=\"color: #7f7f7f; text-decoration-color: #7f7f7f\">distance.py:1344</span>\n",
       "</pre>\n"
      ],
      "text/plain": [
       "\u001b[2;36m                   \u001b[0m\u001b[2;36m \u001b[0m\u001b[34mINFO    \u001b[0m Found \u001b[1;36m3512\u001b[0m ionic interactions.                                        \u001b[2mdistance.py\u001b[0m\u001b[2m:\u001b[0m\u001b[2m1344\u001b[0m\n"
      ]
     },
     "metadata": {},
     "output_type": "display_data"
    },
    {
     "data": {
      "text/html": [
       "<pre style=\"white-space:pre;overflow-x:auto;line-height:normal;font-family:Menlo,'DejaVu Sans Mono',consolas,'Courier New',monospace\"></pre>\n"
      ],
      "text/plain": []
     },
     "metadata": {},
     "output_type": "display_data"
    },
    {
     "data": {
      "text/html": [
       "<pre style=\"white-space:pre;overflow-x:auto;line-height:normal;font-family:Menlo,'DejaVu Sans Mono',consolas,'Courier New',monospace\">\n",
       "</pre>\n"
      ],
      "text/plain": [
       "\n"
      ]
     },
     "metadata": {},
     "output_type": "display_data"
    },
    {
     "data": {
      "application/vnd.jupyter.widget-view+json": {
       "model_id": "cf03dd57ea77492ab67641cf3a659d85",
       "version_major": 2,
       "version_minor": 0
      },
      "text/plain": [
       "Output()"
      ]
     },
     "metadata": {},
     "output_type": "display_data"
    },
    {
     "data": {
      "text/html": [
       "<pre style=\"white-space:pre;overflow-x:auto;line-height:normal;font-family:Menlo,'DejaVu Sans Mono',consolas,'Courier New',monospace\"><span style=\"color: #7fbfbf; text-decoration-color: #7fbfbf\">                    </span><span style=\"color: #008000; text-decoration-color: #008000\">DEBUG   </span> Deprotonating protein. This removes H atoms from the pdb_df dataframe    <span style=\"color: #7f7f7f; text-decoration-color: #7f7f7f\">graphs.py:188</span>\n",
       "</pre>\n"
      ],
      "text/plain": [
       "\u001b[2;36m                   \u001b[0m\u001b[2;36m \u001b[0m\u001b[32mDEBUG   \u001b[0m Deprotonating protein. This removes H atoms from the pdb_df dataframe    \u001b[2mgraphs.py\u001b[0m\u001b[2m:\u001b[0m\u001b[2m188\u001b[0m\n"
      ]
     },
     "metadata": {},
     "output_type": "display_data"
    },
    {
     "data": {
      "text/html": [
       "<pre style=\"white-space:pre;overflow-x:auto;line-height:normal;font-family:Menlo,'DejaVu Sans Mono',consolas,'Courier New',monospace\"><span style=\"color: #7fbfbf; text-decoration-color: #7fbfbf\">                    </span><span style=\"color: #008000; text-decoration-color: #008000\">DEBUG   </span> Detected <span style=\"color: #008080; text-decoration-color: #008080; font-weight: bold\">445</span> total nodes                                                 <span style=\"color: #7f7f7f; text-decoration-color: #7f7f7f\">graphs.py:435</span>\n",
       "</pre>\n"
      ],
      "text/plain": [
       "\u001b[2;36m                   \u001b[0m\u001b[2;36m \u001b[0m\u001b[32mDEBUG   \u001b[0m Detected \u001b[1;36m445\u001b[0m total nodes                                                 \u001b[2mgraphs.py\u001b[0m\u001b[2m:\u001b[0m\u001b[2m435\u001b[0m\n"
      ]
     },
     "metadata": {},
     "output_type": "display_data"
    },
    {
     "data": {
      "text/html": [
       "<pre style=\"white-space:pre;overflow-x:auto;line-height:normal;font-family:Menlo,'DejaVu Sans Mono',consolas,'Courier New',monospace\">c:\\Users\\HUAWEI\\Desktop\\materiale \n",
       "magistrale\\CHL\\CHL-Project\\.venv\\lib\\site-packages\\graphein\\protein\\edges\\distance.py:1213: FutureWarning: The \n",
       "default value of numeric_only in DataFrameGroupBy.mean is deprecated. In a future version, numeric_only will \n",
       "default to False. Either specify numeric_only or select only columns which should be valid for the function.\n",
       "  .mean()[[\"x_coord\", \"y_coord\", \"z_coord\"]]\n",
       "</pre>\n"
      ],
      "text/plain": [
       "c:\\Users\\HUAWEI\\Desktop\\materiale \n",
       "magistrale\\CHL\\CHL-Project\\.venv\\lib\\site-packages\\graphein\\protein\\edges\\distance.py:1213: FutureWarning: The \n",
       "default value of numeric_only in DataFrameGroupBy.mean is deprecated. In a future version, numeric_only will \n",
       "default to False. Either specify numeric_only or select only columns which should be valid for the function.\n",
       "  .mean()[[\"x_coord\", \"y_coord\", \"z_coord\"]]\n"
      ]
     },
     "metadata": {},
     "output_type": "display_data"
    },
    {
     "data": {
      "text/html": [
       "<pre style=\"white-space:pre;overflow-x:auto;line-height:normal;font-family:Menlo,'DejaVu Sans Mono',consolas,'Courier New',monospace\">c:\\Users\\HUAWEI\\Desktop\\materiale \n",
       "magistrale\\CHL\\CHL-Project\\.venv\\lib\\site-packages\\graphein\\protein\\edges\\distance.py:1213: FutureWarning: The \n",
       "default value of numeric_only in DataFrameGroupBy.mean is deprecated. In a future version, numeric_only will \n",
       "default to False. Either specify numeric_only or select only columns which should be valid for the function.\n",
       "  .mean()[[\"x_coord\", \"y_coord\", \"z_coord\"]]\n",
       "</pre>\n"
      ],
      "text/plain": [
       "c:\\Users\\HUAWEI\\Desktop\\materiale \n",
       "magistrale\\CHL\\CHL-Project\\.venv\\lib\\site-packages\\graphein\\protein\\edges\\distance.py:1213: FutureWarning: The \n",
       "default value of numeric_only in DataFrameGroupBy.mean is deprecated. In a future version, numeric_only will \n",
       "default to False. Either specify numeric_only or select only columns which should be valid for the function.\n",
       "  .mean()[[\"x_coord\", \"y_coord\", \"z_coord\"]]\n"
      ]
     },
     "metadata": {},
     "output_type": "display_data"
    },
    {
     "data": {
      "text/html": [
       "<pre style=\"white-space:pre;overflow-x:auto;line-height:normal;font-family:Menlo,'DejaVu Sans Mono',consolas,'Courier New',monospace\">c:\\Users\\HUAWEI\\Desktop\\materiale \n",
       "magistrale\\CHL\\CHL-Project\\.venv\\lib\\site-packages\\graphein\\protein\\edges\\distance.py:1213: FutureWarning: The \n",
       "default value of numeric_only in DataFrameGroupBy.mean is deprecated. In a future version, numeric_only will \n",
       "default to False. Either specify numeric_only or select only columns which should be valid for the function.\n",
       "  .mean()[[\"x_coord\", \"y_coord\", \"z_coord\"]]\n",
       "</pre>\n"
      ],
      "text/plain": [
       "c:\\Users\\HUAWEI\\Desktop\\materiale \n",
       "magistrale\\CHL\\CHL-Project\\.venv\\lib\\site-packages\\graphein\\protein\\edges\\distance.py:1213: FutureWarning: The \n",
       "default value of numeric_only in DataFrameGroupBy.mean is deprecated. In a future version, numeric_only will \n",
       "default to False. Either specify numeric_only or select only columns which should be valid for the function.\n",
       "  .mean()[[\"x_coord\", \"y_coord\", \"z_coord\"]]\n"
      ]
     },
     "metadata": {},
     "output_type": "display_data"
    },
    {
     "data": {
      "text/html": [
       "<pre style=\"white-space:pre;overflow-x:auto;line-height:normal;font-family:Menlo,'DejaVu Sans Mono',consolas,'Courier New',monospace\">c:\\Users\\HUAWEI\\Desktop\\materiale \n",
       "magistrale\\CHL\\CHL-Project\\.venv\\lib\\site-packages\\graphein\\protein\\edges\\distance.py:1213: FutureWarning: The \n",
       "default value of numeric_only in DataFrameGroupBy.mean is deprecated. In a future version, numeric_only will \n",
       "default to False. Either specify numeric_only or select only columns which should be valid for the function.\n",
       "  .mean()[[\"x_coord\", \"y_coord\", \"z_coord\"]]\n",
       "</pre>\n"
      ],
      "text/plain": [
       "c:\\Users\\HUAWEI\\Desktop\\materiale \n",
       "magistrale\\CHL\\CHL-Project\\.venv\\lib\\site-packages\\graphein\\protein\\edges\\distance.py:1213: FutureWarning: The \n",
       "default value of numeric_only in DataFrameGroupBy.mean is deprecated. In a future version, numeric_only will \n",
       "default to False. Either specify numeric_only or select only columns which should be valid for the function.\n",
       "  .mean()[[\"x_coord\", \"y_coord\", \"z_coord\"]]\n"
      ]
     },
     "metadata": {},
     "output_type": "display_data"
    },
    {
     "data": {
      "text/html": [
       "<pre style=\"white-space:pre;overflow-x:auto;line-height:normal;font-family:Menlo,'DejaVu Sans Mono',consolas,'Courier New',monospace\"><span style=\"color: #7fbfbf; text-decoration-color: #7fbfbf\">                    </span><span style=\"color: #000080; text-decoration-color: #000080\">INFO    </span> Found: <span style=\"color: #008080; text-decoration-color: #008080; font-weight: bold\">92</span> aromatic-aromatic interactions                               <span style=\"color: #7f7f7f; text-decoration-color: #7f7f7f\">distance.py:467</span>\n",
       "</pre>\n"
      ],
      "text/plain": [
       "\u001b[2;36m                   \u001b[0m\u001b[2;36m \u001b[0m\u001b[34mINFO    \u001b[0m Found: \u001b[1;36m92\u001b[0m aromatic-aromatic interactions                               \u001b[2mdistance.py\u001b[0m\u001b[2m:\u001b[0m\u001b[2m467\u001b[0m\n"
      ]
     },
     "metadata": {},
     "output_type": "display_data"
    },
    {
     "data": {
      "text/html": [
       "<pre style=\"white-space:pre;overflow-x:auto;line-height:normal;font-family:Menlo,'DejaVu Sans Mono',consolas,'Courier New',monospace\"><span style=\"color: #7fbfbf; text-decoration-color: #7fbfbf\">                    </span><span style=\"color: #000080; text-decoration-color: #000080\">INFO    </span> Found <span style=\"color: #008080; text-decoration-color: #008080; font-weight: bold\">977</span> hydrophobic interactions.                                   <span style=\"color: #7f7f7f; text-decoration-color: #7f7f7f\">distance.py:1344</span>\n",
       "</pre>\n"
      ],
      "text/plain": [
       "\u001b[2;36m                   \u001b[0m\u001b[2;36m \u001b[0m\u001b[34mINFO    \u001b[0m Found \u001b[1;36m977\u001b[0m hydrophobic interactions.                                   \u001b[2mdistance.py\u001b[0m\u001b[2m:\u001b[0m\u001b[2m1344\u001b[0m\n"
      ]
     },
     "metadata": {},
     "output_type": "display_data"
    },
    {
     "data": {
      "text/html": [
       "<pre style=\"white-space:pre;overflow-x:auto;line-height:normal;font-family:Menlo,'DejaVu Sans Mono',consolas,'Courier New',monospace\"><span style=\"color: #7fbfbf; text-decoration-color: #7fbfbf\">[05/03/24 18:04:16] </span><span style=\"color: #000080; text-decoration-color: #000080\">INFO    </span> Found <span style=\"color: #008080; text-decoration-color: #008080; font-weight: bold\">12</span> disulfide interactions.                                      <span style=\"color: #7f7f7f; text-decoration-color: #7f7f7f\">distance.py:1344</span>\n",
       "</pre>\n"
      ],
      "text/plain": [
       "\u001b[2;36m[05/03/24 18:04:16]\u001b[0m\u001b[2;36m \u001b[0m\u001b[34mINFO    \u001b[0m Found \u001b[1;36m12\u001b[0m disulfide interactions.                                      \u001b[2mdistance.py\u001b[0m\u001b[2m:\u001b[0m\u001b[2m1344\u001b[0m\n"
      ]
     },
     "metadata": {},
     "output_type": "display_data"
    },
    {
     "data": {
      "text/html": [
       "<pre style=\"white-space:pre;overflow-x:auto;line-height:normal;font-family:Menlo,'DejaVu Sans Mono',consolas,'Courier New',monospace\"><span style=\"color: #7fbfbf; text-decoration-color: #7fbfbf\">                    </span><span style=\"color: #000080; text-decoration-color: #000080\">INFO    </span> Found <span style=\"color: #008080; text-decoration-color: #008080; font-weight: bold\">188</span> hbond interactions.                                         <span style=\"color: #7f7f7f; text-decoration-color: #7f7f7f\">distance.py:1344</span>\n",
       "</pre>\n"
      ],
      "text/plain": [
       "\u001b[2;36m                   \u001b[0m\u001b[2;36m \u001b[0m\u001b[34mINFO    \u001b[0m Found \u001b[1;36m188\u001b[0m hbond interactions.                                         \u001b[2mdistance.py\u001b[0m\u001b[2m:\u001b[0m\u001b[2m1344\u001b[0m\n"
      ]
     },
     "metadata": {},
     "output_type": "display_data"
    },
    {
     "data": {
      "text/html": [
       "<pre style=\"white-space:pre;overflow-x:auto;line-height:normal;font-family:Menlo,'DejaVu Sans Mono',consolas,'Courier New',monospace\"><span style=\"color: #7fbfbf; text-decoration-color: #7fbfbf\">                    </span><span style=\"color: #000080; text-decoration-color: #000080\">INFO    </span> Found <span style=\"color: #008080; text-decoration-color: #008080; font-weight: bold\">3490</span> ionic interactions.                                        <span style=\"color: #7f7f7f; text-decoration-color: #7f7f7f\">distance.py:1344</span>\n",
       "</pre>\n"
      ],
      "text/plain": [
       "\u001b[2;36m                   \u001b[0m\u001b[2;36m \u001b[0m\u001b[34mINFO    \u001b[0m Found \u001b[1;36m3490\u001b[0m ionic interactions.                                        \u001b[2mdistance.py\u001b[0m\u001b[2m:\u001b[0m\u001b[2m1344\u001b[0m\n"
      ]
     },
     "metadata": {},
     "output_type": "display_data"
    },
    {
     "data": {
      "text/html": [
       "<pre style=\"white-space:pre;overflow-x:auto;line-height:normal;font-family:Menlo,'DejaVu Sans Mono',consolas,'Courier New',monospace\"></pre>\n"
      ],
      "text/plain": []
     },
     "metadata": {},
     "output_type": "display_data"
    },
    {
     "data": {
      "text/html": [
       "<pre style=\"white-space:pre;overflow-x:auto;line-height:normal;font-family:Menlo,'DejaVu Sans Mono',consolas,'Courier New',monospace\">\n",
       "</pre>\n"
      ],
      "text/plain": [
       "\n"
      ]
     },
     "metadata": {},
     "output_type": "display_data"
    },
    {
     "data": {
      "application/vnd.jupyter.widget-view+json": {
       "model_id": "c008e1ef4eb64e7dbc512f8c870575c3",
       "version_major": 2,
       "version_minor": 0
      },
      "text/plain": [
       "Output()"
      ]
     },
     "metadata": {},
     "output_type": "display_data"
    },
    {
     "data": {
      "text/html": [
       "<pre style=\"white-space:pre;overflow-x:auto;line-height:normal;font-family:Menlo,'DejaVu Sans Mono',consolas,'Courier New',monospace\"><span style=\"color: #7fbfbf; text-decoration-color: #7fbfbf\">                    </span><span style=\"color: #008000; text-decoration-color: #008000\">DEBUG   </span> Deprotonating protein. This removes H atoms from the pdb_df dataframe    <span style=\"color: #7f7f7f; text-decoration-color: #7f7f7f\">graphs.py:188</span>\n",
       "</pre>\n"
      ],
      "text/plain": [
       "\u001b[2;36m                   \u001b[0m\u001b[2;36m \u001b[0m\u001b[32mDEBUG   \u001b[0m Deprotonating protein. This removes H atoms from the pdb_df dataframe    \u001b[2mgraphs.py\u001b[0m\u001b[2m:\u001b[0m\u001b[2m188\u001b[0m\n"
      ]
     },
     "metadata": {},
     "output_type": "display_data"
    },
    {
     "data": {
      "text/html": [
       "<pre style=\"white-space:pre;overflow-x:auto;line-height:normal;font-family:Menlo,'DejaVu Sans Mono',consolas,'Courier New',monospace\"><span style=\"color: #7fbfbf; text-decoration-color: #7fbfbf\">                    </span><span style=\"color: #008000; text-decoration-color: #008000\">DEBUG   </span> Detected <span style=\"color: #008080; text-decoration-color: #008080; font-weight: bold\">445</span> total nodes                                                 <span style=\"color: #7f7f7f; text-decoration-color: #7f7f7f\">graphs.py:435</span>\n",
       "</pre>\n"
      ],
      "text/plain": [
       "\u001b[2;36m                   \u001b[0m\u001b[2;36m \u001b[0m\u001b[32mDEBUG   \u001b[0m Detected \u001b[1;36m445\u001b[0m total nodes                                                 \u001b[2mgraphs.py\u001b[0m\u001b[2m:\u001b[0m\u001b[2m435\u001b[0m\n"
      ]
     },
     "metadata": {},
     "output_type": "display_data"
    },
    {
     "data": {
      "text/html": [
       "<pre style=\"white-space:pre;overflow-x:auto;line-height:normal;font-family:Menlo,'DejaVu Sans Mono',consolas,'Courier New',monospace\">c:\\Users\\HUAWEI\\Desktop\\materiale \n",
       "magistrale\\CHL\\CHL-Project\\.venv\\lib\\site-packages\\graphein\\protein\\edges\\distance.py:1213: FutureWarning: The \n",
       "default value of numeric_only in DataFrameGroupBy.mean is deprecated. In a future version, numeric_only will \n",
       "default to False. Either specify numeric_only or select only columns which should be valid for the function.\n",
       "  .mean()[[\"x_coord\", \"y_coord\", \"z_coord\"]]\n",
       "</pre>\n"
      ],
      "text/plain": [
       "c:\\Users\\HUAWEI\\Desktop\\materiale \n",
       "magistrale\\CHL\\CHL-Project\\.venv\\lib\\site-packages\\graphein\\protein\\edges\\distance.py:1213: FutureWarning: The \n",
       "default value of numeric_only in DataFrameGroupBy.mean is deprecated. In a future version, numeric_only will \n",
       "default to False. Either specify numeric_only or select only columns which should be valid for the function.\n",
       "  .mean()[[\"x_coord\", \"y_coord\", \"z_coord\"]]\n"
      ]
     },
     "metadata": {},
     "output_type": "display_data"
    },
    {
     "data": {
      "text/html": [
       "<pre style=\"white-space:pre;overflow-x:auto;line-height:normal;font-family:Menlo,'DejaVu Sans Mono',consolas,'Courier New',monospace\">c:\\Users\\HUAWEI\\Desktop\\materiale \n",
       "magistrale\\CHL\\CHL-Project\\.venv\\lib\\site-packages\\graphein\\protein\\edges\\distance.py:1213: FutureWarning: The \n",
       "default value of numeric_only in DataFrameGroupBy.mean is deprecated. In a future version, numeric_only will \n",
       "default to False. Either specify numeric_only or select only columns which should be valid for the function.\n",
       "  .mean()[[\"x_coord\", \"y_coord\", \"z_coord\"]]\n",
       "</pre>\n"
      ],
      "text/plain": [
       "c:\\Users\\HUAWEI\\Desktop\\materiale \n",
       "magistrale\\CHL\\CHL-Project\\.venv\\lib\\site-packages\\graphein\\protein\\edges\\distance.py:1213: FutureWarning: The \n",
       "default value of numeric_only in DataFrameGroupBy.mean is deprecated. In a future version, numeric_only will \n",
       "default to False. Either specify numeric_only or select only columns which should be valid for the function.\n",
       "  .mean()[[\"x_coord\", \"y_coord\", \"z_coord\"]]\n"
      ]
     },
     "metadata": {},
     "output_type": "display_data"
    },
    {
     "data": {
      "text/html": [
       "<pre style=\"white-space:pre;overflow-x:auto;line-height:normal;font-family:Menlo,'DejaVu Sans Mono',consolas,'Courier New',monospace\">c:\\Users\\HUAWEI\\Desktop\\materiale \n",
       "magistrale\\CHL\\CHL-Project\\.venv\\lib\\site-packages\\graphein\\protein\\edges\\distance.py:1213: FutureWarning: The \n",
       "default value of numeric_only in DataFrameGroupBy.mean is deprecated. In a future version, numeric_only will \n",
       "default to False. Either specify numeric_only or select only columns which should be valid for the function.\n",
       "  .mean()[[\"x_coord\", \"y_coord\", \"z_coord\"]]\n",
       "</pre>\n"
      ],
      "text/plain": [
       "c:\\Users\\HUAWEI\\Desktop\\materiale \n",
       "magistrale\\CHL\\CHL-Project\\.venv\\lib\\site-packages\\graphein\\protein\\edges\\distance.py:1213: FutureWarning: The \n",
       "default value of numeric_only in DataFrameGroupBy.mean is deprecated. In a future version, numeric_only will \n",
       "default to False. Either specify numeric_only or select only columns which should be valid for the function.\n",
       "  .mean()[[\"x_coord\", \"y_coord\", \"z_coord\"]]\n"
      ]
     },
     "metadata": {},
     "output_type": "display_data"
    },
    {
     "data": {
      "text/html": [
       "<pre style=\"white-space:pre;overflow-x:auto;line-height:normal;font-family:Menlo,'DejaVu Sans Mono',consolas,'Courier New',monospace\">c:\\Users\\HUAWEI\\Desktop\\materiale \n",
       "magistrale\\CHL\\CHL-Project\\.venv\\lib\\site-packages\\graphein\\protein\\edges\\distance.py:1213: FutureWarning: The \n",
       "default value of numeric_only in DataFrameGroupBy.mean is deprecated. In a future version, numeric_only will \n",
       "default to False. Either specify numeric_only or select only columns which should be valid for the function.\n",
       "  .mean()[[\"x_coord\", \"y_coord\", \"z_coord\"]]\n",
       "</pre>\n"
      ],
      "text/plain": [
       "c:\\Users\\HUAWEI\\Desktop\\materiale \n",
       "magistrale\\CHL\\CHL-Project\\.venv\\lib\\site-packages\\graphein\\protein\\edges\\distance.py:1213: FutureWarning: The \n",
       "default value of numeric_only in DataFrameGroupBy.mean is deprecated. In a future version, numeric_only will \n",
       "default to False. Either specify numeric_only or select only columns which should be valid for the function.\n",
       "  .mean()[[\"x_coord\", \"y_coord\", \"z_coord\"]]\n"
      ]
     },
     "metadata": {},
     "output_type": "display_data"
    },
    {
     "data": {
      "text/html": [
       "<pre style=\"white-space:pre;overflow-x:auto;line-height:normal;font-family:Menlo,'DejaVu Sans Mono',consolas,'Courier New',monospace\"><span style=\"color: #7fbfbf; text-decoration-color: #7fbfbf\">                    </span><span style=\"color: #000080; text-decoration-color: #000080\">INFO    </span> Found: <span style=\"color: #008080; text-decoration-color: #008080; font-weight: bold\">92</span> aromatic-aromatic interactions                               <span style=\"color: #7f7f7f; text-decoration-color: #7f7f7f\">distance.py:467</span>\n",
       "</pre>\n"
      ],
      "text/plain": [
       "\u001b[2;36m                   \u001b[0m\u001b[2;36m \u001b[0m\u001b[34mINFO    \u001b[0m Found: \u001b[1;36m92\u001b[0m aromatic-aromatic interactions                               \u001b[2mdistance.py\u001b[0m\u001b[2m:\u001b[0m\u001b[2m467\u001b[0m\n"
      ]
     },
     "metadata": {},
     "output_type": "display_data"
    },
    {
     "data": {
      "text/html": [
       "<pre style=\"white-space:pre;overflow-x:auto;line-height:normal;font-family:Menlo,'DejaVu Sans Mono',consolas,'Courier New',monospace\"><span style=\"color: #7fbfbf; text-decoration-color: #7fbfbf\">                    </span><span style=\"color: #000080; text-decoration-color: #000080\">INFO    </span> Found <span style=\"color: #008080; text-decoration-color: #008080; font-weight: bold\">941</span> hydrophobic interactions.                                   <span style=\"color: #7f7f7f; text-decoration-color: #7f7f7f\">distance.py:1344</span>\n",
       "</pre>\n"
      ],
      "text/plain": [
       "\u001b[2;36m                   \u001b[0m\u001b[2;36m \u001b[0m\u001b[34mINFO    \u001b[0m Found \u001b[1;36m941\u001b[0m hydrophobic interactions.                                   \u001b[2mdistance.py\u001b[0m\u001b[2m:\u001b[0m\u001b[2m1344\u001b[0m\n"
      ]
     },
     "metadata": {},
     "output_type": "display_data"
    },
    {
     "data": {
      "text/html": [
       "<pre style=\"white-space:pre;overflow-x:auto;line-height:normal;font-family:Menlo,'DejaVu Sans Mono',consolas,'Courier New',monospace\"><span style=\"color: #7fbfbf; text-decoration-color: #7fbfbf\">                    </span><span style=\"color: #000080; text-decoration-color: #000080\">INFO    </span> Found <span style=\"color: #008080; text-decoration-color: #008080; font-weight: bold\">190</span> hbond interactions.                                         <span style=\"color: #7f7f7f; text-decoration-color: #7f7f7f\">distance.py:1344</span>\n",
       "</pre>\n"
      ],
      "text/plain": [
       "\u001b[2;36m                   \u001b[0m\u001b[2;36m \u001b[0m\u001b[34mINFO    \u001b[0m Found \u001b[1;36m190\u001b[0m hbond interactions.                                         \u001b[2mdistance.py\u001b[0m\u001b[2m:\u001b[0m\u001b[2m1344\u001b[0m\n"
      ]
     },
     "metadata": {},
     "output_type": "display_data"
    },
    {
     "data": {
      "text/html": [
       "<pre style=\"white-space:pre;overflow-x:auto;line-height:normal;font-family:Menlo,'DejaVu Sans Mono',consolas,'Courier New',monospace\"><span style=\"color: #7fbfbf; text-decoration-color: #7fbfbf\">                    </span><span style=\"color: #000080; text-decoration-color: #000080\">INFO    </span> Found <span style=\"color: #008080; text-decoration-color: #008080; font-weight: bold\">22</span> hbond interactions.                                          <span style=\"color: #7f7f7f; text-decoration-color: #7f7f7f\">distance.py:1344</span>\n",
       "</pre>\n"
      ],
      "text/plain": [
       "\u001b[2;36m                   \u001b[0m\u001b[2;36m \u001b[0m\u001b[34mINFO    \u001b[0m Found \u001b[1;36m22\u001b[0m hbond interactions.                                          \u001b[2mdistance.py\u001b[0m\u001b[2m:\u001b[0m\u001b[2m1344\u001b[0m\n"
      ]
     },
     "metadata": {},
     "output_type": "display_data"
    },
    {
     "data": {
      "text/html": [
       "<pre style=\"white-space:pre;overflow-x:auto;line-height:normal;font-family:Menlo,'DejaVu Sans Mono',consolas,'Courier New',monospace\"><span style=\"color: #7fbfbf; text-decoration-color: #7fbfbf\">                    </span><span style=\"color: #000080; text-decoration-color: #000080\">INFO    </span> Found <span style=\"color: #008080; text-decoration-color: #008080; font-weight: bold\">3467</span> ionic interactions.                                        <span style=\"color: #7f7f7f; text-decoration-color: #7f7f7f\">distance.py:1344</span>\n",
       "</pre>\n"
      ],
      "text/plain": [
       "\u001b[2;36m                   \u001b[0m\u001b[2;36m \u001b[0m\u001b[34mINFO    \u001b[0m Found \u001b[1;36m3467\u001b[0m ionic interactions.                                        \u001b[2mdistance.py\u001b[0m\u001b[2m:\u001b[0m\u001b[2m1344\u001b[0m\n"
      ]
     },
     "metadata": {},
     "output_type": "display_data"
    },
    {
     "data": {
      "text/html": [
       "<pre style=\"white-space:pre;overflow-x:auto;line-height:normal;font-family:Menlo,'DejaVu Sans Mono',consolas,'Courier New',monospace\"></pre>\n"
      ],
      "text/plain": []
     },
     "metadata": {},
     "output_type": "display_data"
    },
    {
     "data": {
      "text/html": [
       "<pre style=\"white-space:pre;overflow-x:auto;line-height:normal;font-family:Menlo,'DejaVu Sans Mono',consolas,'Courier New',monospace\">\n",
       "</pre>\n"
      ],
      "text/plain": [
       "\n"
      ]
     },
     "metadata": {},
     "output_type": "display_data"
    },
    {
     "data": {
      "application/vnd.jupyter.widget-view+json": {
       "model_id": "f8ab4897200a4143bf34e4960ddad923",
       "version_major": 2,
       "version_minor": 0
      },
      "text/plain": [
       "Output()"
      ]
     },
     "metadata": {},
     "output_type": "display_data"
    },
    {
     "data": {
      "text/html": [
       "<pre style=\"white-space:pre;overflow-x:auto;line-height:normal;font-family:Menlo,'DejaVu Sans Mono',consolas,'Courier New',monospace\"><span style=\"color: #7fbfbf; text-decoration-color: #7fbfbf\">                    </span><span style=\"color: #008000; text-decoration-color: #008000\">DEBUG   </span> Deprotonating protein. This removes H atoms from the pdb_df dataframe    <span style=\"color: #7f7f7f; text-decoration-color: #7f7f7f\">graphs.py:188</span>\n",
       "</pre>\n"
      ],
      "text/plain": [
       "\u001b[2;36m                   \u001b[0m\u001b[2;36m \u001b[0m\u001b[32mDEBUG   \u001b[0m Deprotonating protein. This removes H atoms from the pdb_df dataframe    \u001b[2mgraphs.py\u001b[0m\u001b[2m:\u001b[0m\u001b[2m188\u001b[0m\n"
      ]
     },
     "metadata": {},
     "output_type": "display_data"
    },
    {
     "data": {
      "text/html": [
       "<pre style=\"white-space:pre;overflow-x:auto;line-height:normal;font-family:Menlo,'DejaVu Sans Mono',consolas,'Courier New',monospace\"><span style=\"color: #7fbfbf; text-decoration-color: #7fbfbf\">                    </span><span style=\"color: #008000; text-decoration-color: #008000\">DEBUG   </span> Detected <span style=\"color: #008080; text-decoration-color: #008080; font-weight: bold\">445</span> total nodes                                                 <span style=\"color: #7f7f7f; text-decoration-color: #7f7f7f\">graphs.py:435</span>\n",
       "</pre>\n"
      ],
      "text/plain": [
       "\u001b[2;36m                   \u001b[0m\u001b[2;36m \u001b[0m\u001b[32mDEBUG   \u001b[0m Detected \u001b[1;36m445\u001b[0m total nodes                                                 \u001b[2mgraphs.py\u001b[0m\u001b[2m:\u001b[0m\u001b[2m435\u001b[0m\n"
      ]
     },
     "metadata": {},
     "output_type": "display_data"
    },
    {
     "data": {
      "text/html": [
       "<pre style=\"white-space:pre;overflow-x:auto;line-height:normal;font-family:Menlo,'DejaVu Sans Mono',consolas,'Courier New',monospace\">c:\\Users\\HUAWEI\\Desktop\\materiale \n",
       "magistrale\\CHL\\CHL-Project\\.venv\\lib\\site-packages\\graphein\\protein\\edges\\distance.py:1213: FutureWarning: The \n",
       "default value of numeric_only in DataFrameGroupBy.mean is deprecated. In a future version, numeric_only will \n",
       "default to False. Either specify numeric_only or select only columns which should be valid for the function.\n",
       "  .mean()[[\"x_coord\", \"y_coord\", \"z_coord\"]]\n",
       "</pre>\n"
      ],
      "text/plain": [
       "c:\\Users\\HUAWEI\\Desktop\\materiale \n",
       "magistrale\\CHL\\CHL-Project\\.venv\\lib\\site-packages\\graphein\\protein\\edges\\distance.py:1213: FutureWarning: The \n",
       "default value of numeric_only in DataFrameGroupBy.mean is deprecated. In a future version, numeric_only will \n",
       "default to False. Either specify numeric_only or select only columns which should be valid for the function.\n",
       "  .mean()[[\"x_coord\", \"y_coord\", \"z_coord\"]]\n"
      ]
     },
     "metadata": {},
     "output_type": "display_data"
    },
    {
     "data": {
      "text/html": [
       "<pre style=\"white-space:pre;overflow-x:auto;line-height:normal;font-family:Menlo,'DejaVu Sans Mono',consolas,'Courier New',monospace\">c:\\Users\\HUAWEI\\Desktop\\materiale \n",
       "magistrale\\CHL\\CHL-Project\\.venv\\lib\\site-packages\\graphein\\protein\\edges\\distance.py:1213: FutureWarning: The \n",
       "default value of numeric_only in DataFrameGroupBy.mean is deprecated. In a future version, numeric_only will \n",
       "default to False. Either specify numeric_only or select only columns which should be valid for the function.\n",
       "  .mean()[[\"x_coord\", \"y_coord\", \"z_coord\"]]\n",
       "</pre>\n"
      ],
      "text/plain": [
       "c:\\Users\\HUAWEI\\Desktop\\materiale \n",
       "magistrale\\CHL\\CHL-Project\\.venv\\lib\\site-packages\\graphein\\protein\\edges\\distance.py:1213: FutureWarning: The \n",
       "default value of numeric_only in DataFrameGroupBy.mean is deprecated. In a future version, numeric_only will \n",
       "default to False. Either specify numeric_only or select only columns which should be valid for the function.\n",
       "  .mean()[[\"x_coord\", \"y_coord\", \"z_coord\"]]\n"
      ]
     },
     "metadata": {},
     "output_type": "display_data"
    },
    {
     "data": {
      "text/html": [
       "<pre style=\"white-space:pre;overflow-x:auto;line-height:normal;font-family:Menlo,'DejaVu Sans Mono',consolas,'Courier New',monospace\">c:\\Users\\HUAWEI\\Desktop\\materiale \n",
       "magistrale\\CHL\\CHL-Project\\.venv\\lib\\site-packages\\graphein\\protein\\edges\\distance.py:1213: FutureWarning: The \n",
       "default value of numeric_only in DataFrameGroupBy.mean is deprecated. In a future version, numeric_only will \n",
       "default to False. Either specify numeric_only or select only columns which should be valid for the function.\n",
       "  .mean()[[\"x_coord\", \"y_coord\", \"z_coord\"]]\n",
       "</pre>\n"
      ],
      "text/plain": [
       "c:\\Users\\HUAWEI\\Desktop\\materiale \n",
       "magistrale\\CHL\\CHL-Project\\.venv\\lib\\site-packages\\graphein\\protein\\edges\\distance.py:1213: FutureWarning: The \n",
       "default value of numeric_only in DataFrameGroupBy.mean is deprecated. In a future version, numeric_only will \n",
       "default to False. Either specify numeric_only or select only columns which should be valid for the function.\n",
       "  .mean()[[\"x_coord\", \"y_coord\", \"z_coord\"]]\n"
      ]
     },
     "metadata": {},
     "output_type": "display_data"
    },
    {
     "data": {
      "text/html": [
       "<pre style=\"white-space:pre;overflow-x:auto;line-height:normal;font-family:Menlo,'DejaVu Sans Mono',consolas,'Courier New',monospace\">c:\\Users\\HUAWEI\\Desktop\\materiale \n",
       "magistrale\\CHL\\CHL-Project\\.venv\\lib\\site-packages\\graphein\\protein\\edges\\distance.py:1213: FutureWarning: The \n",
       "default value of numeric_only in DataFrameGroupBy.mean is deprecated. In a future version, numeric_only will \n",
       "default to False. Either specify numeric_only or select only columns which should be valid for the function.\n",
       "  .mean()[[\"x_coord\", \"y_coord\", \"z_coord\"]]\n",
       "</pre>\n"
      ],
      "text/plain": [
       "c:\\Users\\HUAWEI\\Desktop\\materiale \n",
       "magistrale\\CHL\\CHL-Project\\.venv\\lib\\site-packages\\graphein\\protein\\edges\\distance.py:1213: FutureWarning: The \n",
       "default value of numeric_only in DataFrameGroupBy.mean is deprecated. In a future version, numeric_only will \n",
       "default to False. Either specify numeric_only or select only columns which should be valid for the function.\n",
       "  .mean()[[\"x_coord\", \"y_coord\", \"z_coord\"]]\n"
      ]
     },
     "metadata": {},
     "output_type": "display_data"
    },
    {
     "data": {
      "text/html": [
       "<pre style=\"white-space:pre;overflow-x:auto;line-height:normal;font-family:Menlo,'DejaVu Sans Mono',consolas,'Courier New',monospace\"><span style=\"color: #7fbfbf; text-decoration-color: #7fbfbf\">[05/03/24 18:04:18] </span><span style=\"color: #000080; text-decoration-color: #000080\">INFO    </span> Found: <span style=\"color: #008080; text-decoration-color: #008080; font-weight: bold\">92</span> aromatic-aromatic interactions                               <span style=\"color: #7f7f7f; text-decoration-color: #7f7f7f\">distance.py:467</span>\n",
       "</pre>\n"
      ],
      "text/plain": [
       "\u001b[2;36m[05/03/24 18:04:18]\u001b[0m\u001b[2;36m \u001b[0m\u001b[34mINFO    \u001b[0m Found: \u001b[1;36m92\u001b[0m aromatic-aromatic interactions                               \u001b[2mdistance.py\u001b[0m\u001b[2m:\u001b[0m\u001b[2m467\u001b[0m\n"
      ]
     },
     "metadata": {},
     "output_type": "display_data"
    },
    {
     "data": {
      "text/html": [
       "<pre style=\"white-space:pre;overflow-x:auto;line-height:normal;font-family:Menlo,'DejaVu Sans Mono',consolas,'Courier New',monospace\"><span style=\"color: #7fbfbf; text-decoration-color: #7fbfbf\">                    </span><span style=\"color: #000080; text-decoration-color: #000080\">INFO    </span> Found <span style=\"color: #008080; text-decoration-color: #008080; font-weight: bold\">949</span> hydrophobic interactions.                                   <span style=\"color: #7f7f7f; text-decoration-color: #7f7f7f\">distance.py:1344</span>\n",
       "</pre>\n"
      ],
      "text/plain": [
       "\u001b[2;36m                   \u001b[0m\u001b[2;36m \u001b[0m\u001b[34mINFO    \u001b[0m Found \u001b[1;36m949\u001b[0m hydrophobic interactions.                                   \u001b[2mdistance.py\u001b[0m\u001b[2m:\u001b[0m\u001b[2m1344\u001b[0m\n"
      ]
     },
     "metadata": {},
     "output_type": "display_data"
    },
    {
     "data": {
      "text/html": [
       "<pre style=\"white-space:pre;overflow-x:auto;line-height:normal;font-family:Menlo,'DejaVu Sans Mono',consolas,'Courier New',monospace\"><span style=\"color: #7fbfbf; text-decoration-color: #7fbfbf\">                    </span><span style=\"color: #000080; text-decoration-color: #000080\">INFO    </span> Found <span style=\"color: #008080; text-decoration-color: #008080; font-weight: bold\">13</span> disulfide interactions.                                      <span style=\"color: #7f7f7f; text-decoration-color: #7f7f7f\">distance.py:1344</span>\n",
       "</pre>\n"
      ],
      "text/plain": [
       "\u001b[2;36m                   \u001b[0m\u001b[2;36m \u001b[0m\u001b[34mINFO    \u001b[0m Found \u001b[1;36m13\u001b[0m disulfide interactions.                                      \u001b[2mdistance.py\u001b[0m\u001b[2m:\u001b[0m\u001b[2m1344\u001b[0m\n"
      ]
     },
     "metadata": {},
     "output_type": "display_data"
    },
    {
     "data": {
      "text/html": [
       "<pre style=\"white-space:pre;overflow-x:auto;line-height:normal;font-family:Menlo,'DejaVu Sans Mono',consolas,'Courier New',monospace\"><span style=\"color: #7fbfbf; text-decoration-color: #7fbfbf\">                    </span><span style=\"color: #000080; text-decoration-color: #000080\">INFO    </span> Found <span style=\"color: #008080; text-decoration-color: #008080; font-weight: bold\">191</span> hbond interactions.                                         <span style=\"color: #7f7f7f; text-decoration-color: #7f7f7f\">distance.py:1344</span>\n",
       "</pre>\n"
      ],
      "text/plain": [
       "\u001b[2;36m                   \u001b[0m\u001b[2;36m \u001b[0m\u001b[34mINFO    \u001b[0m Found \u001b[1;36m191\u001b[0m hbond interactions.                                         \u001b[2mdistance.py\u001b[0m\u001b[2m:\u001b[0m\u001b[2m1344\u001b[0m\n"
      ]
     },
     "metadata": {},
     "output_type": "display_data"
    },
    {
     "data": {
      "text/html": [
       "<pre style=\"white-space:pre;overflow-x:auto;line-height:normal;font-family:Menlo,'DejaVu Sans Mono',consolas,'Courier New',monospace\"><span style=\"color: #7fbfbf; text-decoration-color: #7fbfbf\">                    </span><span style=\"color: #000080; text-decoration-color: #000080\">INFO    </span> Found <span style=\"color: #008080; text-decoration-color: #008080; font-weight: bold\">23</span> hbond interactions.                                          <span style=\"color: #7f7f7f; text-decoration-color: #7f7f7f\">distance.py:1344</span>\n",
       "</pre>\n"
      ],
      "text/plain": [
       "\u001b[2;36m                   \u001b[0m\u001b[2;36m \u001b[0m\u001b[34mINFO    \u001b[0m Found \u001b[1;36m23\u001b[0m hbond interactions.                                          \u001b[2mdistance.py\u001b[0m\u001b[2m:\u001b[0m\u001b[2m1344\u001b[0m\n"
      ]
     },
     "metadata": {},
     "output_type": "display_data"
    },
    {
     "data": {
      "text/html": [
       "<pre style=\"white-space:pre;overflow-x:auto;line-height:normal;font-family:Menlo,'DejaVu Sans Mono',consolas,'Courier New',monospace\"><span style=\"color: #7fbfbf; text-decoration-color: #7fbfbf\">                    </span><span style=\"color: #000080; text-decoration-color: #000080\">INFO    </span> Found <span style=\"color: #008080; text-decoration-color: #008080; font-weight: bold\">3486</span> ionic interactions.                                        <span style=\"color: #7f7f7f; text-decoration-color: #7f7f7f\">distance.py:1344</span>\n",
       "</pre>\n"
      ],
      "text/plain": [
       "\u001b[2;36m                   \u001b[0m\u001b[2;36m \u001b[0m\u001b[34mINFO    \u001b[0m Found \u001b[1;36m3486\u001b[0m ionic interactions.                                        \u001b[2mdistance.py\u001b[0m\u001b[2m:\u001b[0m\u001b[2m1344\u001b[0m\n"
      ]
     },
     "metadata": {},
     "output_type": "display_data"
    },
    {
     "data": {
      "text/html": [
       "<pre style=\"white-space:pre;overflow-x:auto;line-height:normal;font-family:Menlo,'DejaVu Sans Mono',consolas,'Courier New',monospace\"></pre>\n"
      ],
      "text/plain": []
     },
     "metadata": {},
     "output_type": "display_data"
    },
    {
     "data": {
      "text/html": [
       "<pre style=\"white-space:pre;overflow-x:auto;line-height:normal;font-family:Menlo,'DejaVu Sans Mono',consolas,'Courier New',monospace\">\n",
       "</pre>\n"
      ],
      "text/plain": [
       "\n"
      ]
     },
     "metadata": {},
     "output_type": "display_data"
    },
    {
     "data": {
      "application/vnd.jupyter.widget-view+json": {
       "model_id": "c2c6b95717ca428fa13519592e6d3bf2",
       "version_major": 2,
       "version_minor": 0
      },
      "text/plain": [
       "Output()"
      ]
     },
     "metadata": {},
     "output_type": "display_data"
    },
    {
     "data": {
      "text/html": [
       "<pre style=\"white-space:pre;overflow-x:auto;line-height:normal;font-family:Menlo,'DejaVu Sans Mono',consolas,'Courier New',monospace\"><span style=\"color: #7fbfbf; text-decoration-color: #7fbfbf\">[05/03/24 18:04:19] </span><span style=\"color: #008000; text-decoration-color: #008000\">DEBUG   </span> Deprotonating protein. This removes H atoms from the pdb_df dataframe    <span style=\"color: #7f7f7f; text-decoration-color: #7f7f7f\">graphs.py:188</span>\n",
       "</pre>\n"
      ],
      "text/plain": [
       "\u001b[2;36m[05/03/24 18:04:19]\u001b[0m\u001b[2;36m \u001b[0m\u001b[32mDEBUG   \u001b[0m Deprotonating protein. This removes H atoms from the pdb_df dataframe    \u001b[2mgraphs.py\u001b[0m\u001b[2m:\u001b[0m\u001b[2m188\u001b[0m\n"
      ]
     },
     "metadata": {},
     "output_type": "display_data"
    },
    {
     "data": {
      "text/html": [
       "<pre style=\"white-space:pre;overflow-x:auto;line-height:normal;font-family:Menlo,'DejaVu Sans Mono',consolas,'Courier New',monospace\"><span style=\"color: #7fbfbf; text-decoration-color: #7fbfbf\">                    </span><span style=\"color: #008000; text-decoration-color: #008000\">DEBUG   </span> Detected <span style=\"color: #008080; text-decoration-color: #008080; font-weight: bold\">445</span> total nodes                                                 <span style=\"color: #7f7f7f; text-decoration-color: #7f7f7f\">graphs.py:435</span>\n",
       "</pre>\n"
      ],
      "text/plain": [
       "\u001b[2;36m                   \u001b[0m\u001b[2;36m \u001b[0m\u001b[32mDEBUG   \u001b[0m Detected \u001b[1;36m445\u001b[0m total nodes                                                 \u001b[2mgraphs.py\u001b[0m\u001b[2m:\u001b[0m\u001b[2m435\u001b[0m\n"
      ]
     },
     "metadata": {},
     "output_type": "display_data"
    },
    {
     "data": {
      "text/html": [
       "<pre style=\"white-space:pre;overflow-x:auto;line-height:normal;font-family:Menlo,'DejaVu Sans Mono',consolas,'Courier New',monospace\">c:\\Users\\HUAWEI\\Desktop\\materiale \n",
       "magistrale\\CHL\\CHL-Project\\.venv\\lib\\site-packages\\graphein\\protein\\edges\\distance.py:1213: FutureWarning: The \n",
       "default value of numeric_only in DataFrameGroupBy.mean is deprecated. In a future version, numeric_only will \n",
       "default to False. Either specify numeric_only or select only columns which should be valid for the function.\n",
       "  .mean()[[\"x_coord\", \"y_coord\", \"z_coord\"]]\n",
       "</pre>\n"
      ],
      "text/plain": [
       "c:\\Users\\HUAWEI\\Desktop\\materiale \n",
       "magistrale\\CHL\\CHL-Project\\.venv\\lib\\site-packages\\graphein\\protein\\edges\\distance.py:1213: FutureWarning: The \n",
       "default value of numeric_only in DataFrameGroupBy.mean is deprecated. In a future version, numeric_only will \n",
       "default to False. Either specify numeric_only or select only columns which should be valid for the function.\n",
       "  .mean()[[\"x_coord\", \"y_coord\", \"z_coord\"]]\n"
      ]
     },
     "metadata": {},
     "output_type": "display_data"
    },
    {
     "data": {
      "text/html": [
       "<pre style=\"white-space:pre;overflow-x:auto;line-height:normal;font-family:Menlo,'DejaVu Sans Mono',consolas,'Courier New',monospace\">c:\\Users\\HUAWEI\\Desktop\\materiale \n",
       "magistrale\\CHL\\CHL-Project\\.venv\\lib\\site-packages\\graphein\\protein\\edges\\distance.py:1213: FutureWarning: The \n",
       "default value of numeric_only in DataFrameGroupBy.mean is deprecated. In a future version, numeric_only will \n",
       "default to False. Either specify numeric_only or select only columns which should be valid for the function.\n",
       "  .mean()[[\"x_coord\", \"y_coord\", \"z_coord\"]]\n",
       "</pre>\n"
      ],
      "text/plain": [
       "c:\\Users\\HUAWEI\\Desktop\\materiale \n",
       "magistrale\\CHL\\CHL-Project\\.venv\\lib\\site-packages\\graphein\\protein\\edges\\distance.py:1213: FutureWarning: The \n",
       "default value of numeric_only in DataFrameGroupBy.mean is deprecated. In a future version, numeric_only will \n",
       "default to False. Either specify numeric_only or select only columns which should be valid for the function.\n",
       "  .mean()[[\"x_coord\", \"y_coord\", \"z_coord\"]]\n"
      ]
     },
     "metadata": {},
     "output_type": "display_data"
    },
    {
     "data": {
      "text/html": [
       "<pre style=\"white-space:pre;overflow-x:auto;line-height:normal;font-family:Menlo,'DejaVu Sans Mono',consolas,'Courier New',monospace\">c:\\Users\\HUAWEI\\Desktop\\materiale \n",
       "magistrale\\CHL\\CHL-Project\\.venv\\lib\\site-packages\\graphein\\protein\\edges\\distance.py:1213: FutureWarning: The \n",
       "default value of numeric_only in DataFrameGroupBy.mean is deprecated. In a future version, numeric_only will \n",
       "default to False. Either specify numeric_only or select only columns which should be valid for the function.\n",
       "  .mean()[[\"x_coord\", \"y_coord\", \"z_coord\"]]\n",
       "</pre>\n"
      ],
      "text/plain": [
       "c:\\Users\\HUAWEI\\Desktop\\materiale \n",
       "magistrale\\CHL\\CHL-Project\\.venv\\lib\\site-packages\\graphein\\protein\\edges\\distance.py:1213: FutureWarning: The \n",
       "default value of numeric_only in DataFrameGroupBy.mean is deprecated. In a future version, numeric_only will \n",
       "default to False. Either specify numeric_only or select only columns which should be valid for the function.\n",
       "  .mean()[[\"x_coord\", \"y_coord\", \"z_coord\"]]\n"
      ]
     },
     "metadata": {},
     "output_type": "display_data"
    },
    {
     "data": {
      "text/html": [
       "<pre style=\"white-space:pre;overflow-x:auto;line-height:normal;font-family:Menlo,'DejaVu Sans Mono',consolas,'Courier New',monospace\">c:\\Users\\HUAWEI\\Desktop\\materiale \n",
       "magistrale\\CHL\\CHL-Project\\.venv\\lib\\site-packages\\graphein\\protein\\edges\\distance.py:1213: FutureWarning: The \n",
       "default value of numeric_only in DataFrameGroupBy.mean is deprecated. In a future version, numeric_only will \n",
       "default to False. Either specify numeric_only or select only columns which should be valid for the function.\n",
       "  .mean()[[\"x_coord\", \"y_coord\", \"z_coord\"]]\n",
       "</pre>\n"
      ],
      "text/plain": [
       "c:\\Users\\HUAWEI\\Desktop\\materiale \n",
       "magistrale\\CHL\\CHL-Project\\.venv\\lib\\site-packages\\graphein\\protein\\edges\\distance.py:1213: FutureWarning: The \n",
       "default value of numeric_only in DataFrameGroupBy.mean is deprecated. In a future version, numeric_only will \n",
       "default to False. Either specify numeric_only or select only columns which should be valid for the function.\n",
       "  .mean()[[\"x_coord\", \"y_coord\", \"z_coord\"]]\n"
      ]
     },
     "metadata": {},
     "output_type": "display_data"
    },
    {
     "data": {
      "text/html": [
       "<pre style=\"white-space:pre;overflow-x:auto;line-height:normal;font-family:Menlo,'DejaVu Sans Mono',consolas,'Courier New',monospace\"><span style=\"color: #7fbfbf; text-decoration-color: #7fbfbf\">                    </span><span style=\"color: #000080; text-decoration-color: #000080\">INFO    </span> Found: <span style=\"color: #008080; text-decoration-color: #008080; font-weight: bold\">86</span> aromatic-aromatic interactions                               <span style=\"color: #7f7f7f; text-decoration-color: #7f7f7f\">distance.py:467</span>\n",
       "</pre>\n"
      ],
      "text/plain": [
       "\u001b[2;36m                   \u001b[0m\u001b[2;36m \u001b[0m\u001b[34mINFO    \u001b[0m Found: \u001b[1;36m86\u001b[0m aromatic-aromatic interactions                               \u001b[2mdistance.py\u001b[0m\u001b[2m:\u001b[0m\u001b[2m467\u001b[0m\n"
      ]
     },
     "metadata": {},
     "output_type": "display_data"
    },
    {
     "data": {
      "text/html": [
       "<pre style=\"white-space:pre;overflow-x:auto;line-height:normal;font-family:Menlo,'DejaVu Sans Mono',consolas,'Courier New',monospace\"><span style=\"color: #7fbfbf; text-decoration-color: #7fbfbf\">                    </span><span style=\"color: #000080; text-decoration-color: #000080\">INFO    </span> Found <span style=\"color: #008080; text-decoration-color: #008080; font-weight: bold\">949</span> hydrophobic interactions.                                   <span style=\"color: #7f7f7f; text-decoration-color: #7f7f7f\">distance.py:1344</span>\n",
       "</pre>\n"
      ],
      "text/plain": [
       "\u001b[2;36m                   \u001b[0m\u001b[2;36m \u001b[0m\u001b[34mINFO    \u001b[0m Found \u001b[1;36m949\u001b[0m hydrophobic interactions.                                   \u001b[2mdistance.py\u001b[0m\u001b[2m:\u001b[0m\u001b[2m1344\u001b[0m\n"
      ]
     },
     "metadata": {},
     "output_type": "display_data"
    },
    {
     "data": {
      "text/html": [
       "<pre style=\"white-space:pre;overflow-x:auto;line-height:normal;font-family:Menlo,'DejaVu Sans Mono',consolas,'Courier New',monospace\"><span style=\"color: #7fbfbf; text-decoration-color: #7fbfbf\">[05/03/24 18:04:20] </span><span style=\"color: #000080; text-decoration-color: #000080\">INFO    </span> Found <span style=\"color: #008080; text-decoration-color: #008080; font-weight: bold\">12</span> disulfide interactions.                                      <span style=\"color: #7f7f7f; text-decoration-color: #7f7f7f\">distance.py:1344</span>\n",
       "</pre>\n"
      ],
      "text/plain": [
       "\u001b[2;36m[05/03/24 18:04:20]\u001b[0m\u001b[2;36m \u001b[0m\u001b[34mINFO    \u001b[0m Found \u001b[1;36m12\u001b[0m disulfide interactions.                                      \u001b[2mdistance.py\u001b[0m\u001b[2m:\u001b[0m\u001b[2m1344\u001b[0m\n"
      ]
     },
     "metadata": {},
     "output_type": "display_data"
    },
    {
     "data": {
      "text/html": [
       "<pre style=\"white-space:pre;overflow-x:auto;line-height:normal;font-family:Menlo,'DejaVu Sans Mono',consolas,'Courier New',monospace\"><span style=\"color: #7fbfbf; text-decoration-color: #7fbfbf\">                    </span><span style=\"color: #000080; text-decoration-color: #000080\">INFO    </span> Found <span style=\"color: #008080; text-decoration-color: #008080; font-weight: bold\">192</span> hbond interactions.                                         <span style=\"color: #7f7f7f; text-decoration-color: #7f7f7f\">distance.py:1344</span>\n",
       "</pre>\n"
      ],
      "text/plain": [
       "\u001b[2;36m                   \u001b[0m\u001b[2;36m \u001b[0m\u001b[34mINFO    \u001b[0m Found \u001b[1;36m192\u001b[0m hbond interactions.                                         \u001b[2mdistance.py\u001b[0m\u001b[2m:\u001b[0m\u001b[2m1344\u001b[0m\n"
      ]
     },
     "metadata": {},
     "output_type": "display_data"
    },
    {
     "data": {
      "text/html": [
       "<pre style=\"white-space:pre;overflow-x:auto;line-height:normal;font-family:Menlo,'DejaVu Sans Mono',consolas,'Courier New',monospace\"><span style=\"color: #7fbfbf; text-decoration-color: #7fbfbf\">                    </span><span style=\"color: #000080; text-decoration-color: #000080\">INFO    </span> Found <span style=\"color: #008080; text-decoration-color: #008080; font-weight: bold\">22</span> hbond interactions.                                          <span style=\"color: #7f7f7f; text-decoration-color: #7f7f7f\">distance.py:1344</span>\n",
       "</pre>\n"
      ],
      "text/plain": [
       "\u001b[2;36m                   \u001b[0m\u001b[2;36m \u001b[0m\u001b[34mINFO    \u001b[0m Found \u001b[1;36m22\u001b[0m hbond interactions.                                          \u001b[2mdistance.py\u001b[0m\u001b[2m:\u001b[0m\u001b[2m1344\u001b[0m\n"
      ]
     },
     "metadata": {},
     "output_type": "display_data"
    },
    {
     "data": {
      "text/html": [
       "<pre style=\"white-space:pre;overflow-x:auto;line-height:normal;font-family:Menlo,'DejaVu Sans Mono',consolas,'Courier New',monospace\"><span style=\"color: #7fbfbf; text-decoration-color: #7fbfbf\">                    </span><span style=\"color: #000080; text-decoration-color: #000080\">INFO    </span> Found <span style=\"color: #008080; text-decoration-color: #008080; font-weight: bold\">3463</span> ionic interactions.                                        <span style=\"color: #7f7f7f; text-decoration-color: #7f7f7f\">distance.py:1344</span>\n",
       "</pre>\n"
      ],
      "text/plain": [
       "\u001b[2;36m                   \u001b[0m\u001b[2;36m \u001b[0m\u001b[34mINFO    \u001b[0m Found \u001b[1;36m3463\u001b[0m ionic interactions.                                        \u001b[2mdistance.py\u001b[0m\u001b[2m:\u001b[0m\u001b[2m1344\u001b[0m\n"
      ]
     },
     "metadata": {},
     "output_type": "display_data"
    },
    {
     "data": {
      "text/html": [
       "<pre style=\"white-space:pre;overflow-x:auto;line-height:normal;font-family:Menlo,'DejaVu Sans Mono',consolas,'Courier New',monospace\"></pre>\n"
      ],
      "text/plain": []
     },
     "metadata": {},
     "output_type": "display_data"
    },
    {
     "data": {
      "text/html": [
       "<pre style=\"white-space:pre;overflow-x:auto;line-height:normal;font-family:Menlo,'DejaVu Sans Mono',consolas,'Courier New',monospace\">\n",
       "</pre>\n"
      ],
      "text/plain": [
       "\n"
      ]
     },
     "metadata": {},
     "output_type": "display_data"
    },
    {
     "data": {
      "application/vnd.jupyter.widget-view+json": {
       "model_id": "81e84d70f1724343a6ed6ee140168147",
       "version_major": 2,
       "version_minor": 0
      },
      "text/plain": [
       "Output()"
      ]
     },
     "metadata": {},
     "output_type": "display_data"
    },
    {
     "data": {
      "text/html": [
       "<pre style=\"white-space:pre;overflow-x:auto;line-height:normal;font-family:Menlo,'DejaVu Sans Mono',consolas,'Courier New',monospace\"><span style=\"color: #7fbfbf; text-decoration-color: #7fbfbf\">                    </span><span style=\"color: #008000; text-decoration-color: #008000\">DEBUG   </span> Deprotonating protein. This removes H atoms from the pdb_df dataframe    <span style=\"color: #7f7f7f; text-decoration-color: #7f7f7f\">graphs.py:188</span>\n",
       "</pre>\n"
      ],
      "text/plain": [
       "\u001b[2;36m                   \u001b[0m\u001b[2;36m \u001b[0m\u001b[32mDEBUG   \u001b[0m Deprotonating protein. This removes H atoms from the pdb_df dataframe    \u001b[2mgraphs.py\u001b[0m\u001b[2m:\u001b[0m\u001b[2m188\u001b[0m\n"
      ]
     },
     "metadata": {},
     "output_type": "display_data"
    },
    {
     "data": {
      "text/html": [
       "<pre style=\"white-space:pre;overflow-x:auto;line-height:normal;font-family:Menlo,'DejaVu Sans Mono',consolas,'Courier New',monospace\"><span style=\"color: #7fbfbf; text-decoration-color: #7fbfbf\">                    </span><span style=\"color: #008000; text-decoration-color: #008000\">DEBUG   </span> Detected <span style=\"color: #008080; text-decoration-color: #008080; font-weight: bold\">445</span> total nodes                                                 <span style=\"color: #7f7f7f; text-decoration-color: #7f7f7f\">graphs.py:435</span>\n",
       "</pre>\n"
      ],
      "text/plain": [
       "\u001b[2;36m                   \u001b[0m\u001b[2;36m \u001b[0m\u001b[32mDEBUG   \u001b[0m Detected \u001b[1;36m445\u001b[0m total nodes                                                 \u001b[2mgraphs.py\u001b[0m\u001b[2m:\u001b[0m\u001b[2m435\u001b[0m\n"
      ]
     },
     "metadata": {},
     "output_type": "display_data"
    },
    {
     "data": {
      "text/html": [
       "<pre style=\"white-space:pre;overflow-x:auto;line-height:normal;font-family:Menlo,'DejaVu Sans Mono',consolas,'Courier New',monospace\">c:\\Users\\HUAWEI\\Desktop\\materiale \n",
       "magistrale\\CHL\\CHL-Project\\.venv\\lib\\site-packages\\graphein\\protein\\edges\\distance.py:1213: FutureWarning: The \n",
       "default value of numeric_only in DataFrameGroupBy.mean is deprecated. In a future version, numeric_only will \n",
       "default to False. Either specify numeric_only or select only columns which should be valid for the function.\n",
       "  .mean()[[\"x_coord\", \"y_coord\", \"z_coord\"]]\n",
       "</pre>\n"
      ],
      "text/plain": [
       "c:\\Users\\HUAWEI\\Desktop\\materiale \n",
       "magistrale\\CHL\\CHL-Project\\.venv\\lib\\site-packages\\graphein\\protein\\edges\\distance.py:1213: FutureWarning: The \n",
       "default value of numeric_only in DataFrameGroupBy.mean is deprecated. In a future version, numeric_only will \n",
       "default to False. Either specify numeric_only or select only columns which should be valid for the function.\n",
       "  .mean()[[\"x_coord\", \"y_coord\", \"z_coord\"]]\n"
      ]
     },
     "metadata": {},
     "output_type": "display_data"
    },
    {
     "data": {
      "text/html": [
       "<pre style=\"white-space:pre;overflow-x:auto;line-height:normal;font-family:Menlo,'DejaVu Sans Mono',consolas,'Courier New',monospace\">c:\\Users\\HUAWEI\\Desktop\\materiale \n",
       "magistrale\\CHL\\CHL-Project\\.venv\\lib\\site-packages\\graphein\\protein\\edges\\distance.py:1213: FutureWarning: The \n",
       "default value of numeric_only in DataFrameGroupBy.mean is deprecated. In a future version, numeric_only will \n",
       "default to False. Either specify numeric_only or select only columns which should be valid for the function.\n",
       "  .mean()[[\"x_coord\", \"y_coord\", \"z_coord\"]]\n",
       "</pre>\n"
      ],
      "text/plain": [
       "c:\\Users\\HUAWEI\\Desktop\\materiale \n",
       "magistrale\\CHL\\CHL-Project\\.venv\\lib\\site-packages\\graphein\\protein\\edges\\distance.py:1213: FutureWarning: The \n",
       "default value of numeric_only in DataFrameGroupBy.mean is deprecated. In a future version, numeric_only will \n",
       "default to False. Either specify numeric_only or select only columns which should be valid for the function.\n",
       "  .mean()[[\"x_coord\", \"y_coord\", \"z_coord\"]]\n"
      ]
     },
     "metadata": {},
     "output_type": "display_data"
    },
    {
     "data": {
      "text/html": [
       "<pre style=\"white-space:pre;overflow-x:auto;line-height:normal;font-family:Menlo,'DejaVu Sans Mono',consolas,'Courier New',monospace\">c:\\Users\\HUAWEI\\Desktop\\materiale \n",
       "magistrale\\CHL\\CHL-Project\\.venv\\lib\\site-packages\\graphein\\protein\\edges\\distance.py:1213: FutureWarning: The \n",
       "default value of numeric_only in DataFrameGroupBy.mean is deprecated. In a future version, numeric_only will \n",
       "default to False. Either specify numeric_only or select only columns which should be valid for the function.\n",
       "  .mean()[[\"x_coord\", \"y_coord\", \"z_coord\"]]\n",
       "</pre>\n"
      ],
      "text/plain": [
       "c:\\Users\\HUAWEI\\Desktop\\materiale \n",
       "magistrale\\CHL\\CHL-Project\\.venv\\lib\\site-packages\\graphein\\protein\\edges\\distance.py:1213: FutureWarning: The \n",
       "default value of numeric_only in DataFrameGroupBy.mean is deprecated. In a future version, numeric_only will \n",
       "default to False. Either specify numeric_only or select only columns which should be valid for the function.\n",
       "  .mean()[[\"x_coord\", \"y_coord\", \"z_coord\"]]\n"
      ]
     },
     "metadata": {},
     "output_type": "display_data"
    },
    {
     "data": {
      "text/html": [
       "<pre style=\"white-space:pre;overflow-x:auto;line-height:normal;font-family:Menlo,'DejaVu Sans Mono',consolas,'Courier New',monospace\">c:\\Users\\HUAWEI\\Desktop\\materiale \n",
       "magistrale\\CHL\\CHL-Project\\.venv\\lib\\site-packages\\graphein\\protein\\edges\\distance.py:1213: FutureWarning: The \n",
       "default value of numeric_only in DataFrameGroupBy.mean is deprecated. In a future version, numeric_only will \n",
       "default to False. Either specify numeric_only or select only columns which should be valid for the function.\n",
       "  .mean()[[\"x_coord\", \"y_coord\", \"z_coord\"]]\n",
       "</pre>\n"
      ],
      "text/plain": [
       "c:\\Users\\HUAWEI\\Desktop\\materiale \n",
       "magistrale\\CHL\\CHL-Project\\.venv\\lib\\site-packages\\graphein\\protein\\edges\\distance.py:1213: FutureWarning: The \n",
       "default value of numeric_only in DataFrameGroupBy.mean is deprecated. In a future version, numeric_only will \n",
       "default to False. Either specify numeric_only or select only columns which should be valid for the function.\n",
       "  .mean()[[\"x_coord\", \"y_coord\", \"z_coord\"]]\n"
      ]
     },
     "metadata": {},
     "output_type": "display_data"
    },
    {
     "data": {
      "text/html": [
       "<pre style=\"white-space:pre;overflow-x:auto;line-height:normal;font-family:Menlo,'DejaVu Sans Mono',consolas,'Courier New',monospace\"><span style=\"color: #7fbfbf; text-decoration-color: #7fbfbf\">                    </span><span style=\"color: #000080; text-decoration-color: #000080\">INFO    </span> Found: <span style=\"color: #008080; text-decoration-color: #008080; font-weight: bold\">88</span> aromatic-aromatic interactions                               <span style=\"color: #7f7f7f; text-decoration-color: #7f7f7f\">distance.py:467</span>\n",
       "</pre>\n"
      ],
      "text/plain": [
       "\u001b[2;36m                   \u001b[0m\u001b[2;36m \u001b[0m\u001b[34mINFO    \u001b[0m Found: \u001b[1;36m88\u001b[0m aromatic-aromatic interactions                               \u001b[2mdistance.py\u001b[0m\u001b[2m:\u001b[0m\u001b[2m467\u001b[0m\n"
      ]
     },
     "metadata": {},
     "output_type": "display_data"
    },
    {
     "data": {
      "text/html": [
       "<pre style=\"white-space:pre;overflow-x:auto;line-height:normal;font-family:Menlo,'DejaVu Sans Mono',consolas,'Courier New',monospace\"><span style=\"color: #7fbfbf; text-decoration-color: #7fbfbf\">                    </span><span style=\"color: #000080; text-decoration-color: #000080\">INFO    </span> Found <span style=\"color: #008080; text-decoration-color: #008080; font-weight: bold\">957</span> hydrophobic interactions.                                   <span style=\"color: #7f7f7f; text-decoration-color: #7f7f7f\">distance.py:1344</span>\n",
       "</pre>\n"
      ],
      "text/plain": [
       "\u001b[2;36m                   \u001b[0m\u001b[2;36m \u001b[0m\u001b[34mINFO    \u001b[0m Found \u001b[1;36m957\u001b[0m hydrophobic interactions.                                   \u001b[2mdistance.py\u001b[0m\u001b[2m:\u001b[0m\u001b[2m1344\u001b[0m\n"
      ]
     },
     "metadata": {},
     "output_type": "display_data"
    },
    {
     "data": {
      "text/html": [
       "<pre style=\"white-space:pre;overflow-x:auto;line-height:normal;font-family:Menlo,'DejaVu Sans Mono',consolas,'Courier New',monospace\"><span style=\"color: #7fbfbf; text-decoration-color: #7fbfbf\">[05/03/24 18:04:21] </span><span style=\"color: #000080; text-decoration-color: #000080\">INFO    </span> Found <span style=\"color: #008080; text-decoration-color: #008080; font-weight: bold\">13</span> disulfide interactions.                                      <span style=\"color: #7f7f7f; text-decoration-color: #7f7f7f\">distance.py:1344</span>\n",
       "</pre>\n"
      ],
      "text/plain": [
       "\u001b[2;36m[05/03/24 18:04:21]\u001b[0m\u001b[2;36m \u001b[0m\u001b[34mINFO    \u001b[0m Found \u001b[1;36m13\u001b[0m disulfide interactions.                                      \u001b[2mdistance.py\u001b[0m\u001b[2m:\u001b[0m\u001b[2m1344\u001b[0m\n"
      ]
     },
     "metadata": {},
     "output_type": "display_data"
    },
    {
     "data": {
      "text/html": [
       "<pre style=\"white-space:pre;overflow-x:auto;line-height:normal;font-family:Menlo,'DejaVu Sans Mono',consolas,'Courier New',monospace\"><span style=\"color: #7fbfbf; text-decoration-color: #7fbfbf\">                    </span><span style=\"color: #000080; text-decoration-color: #000080\">INFO    </span> Found <span style=\"color: #008080; text-decoration-color: #008080; font-weight: bold\">192</span> hbond interactions.                                         <span style=\"color: #7f7f7f; text-decoration-color: #7f7f7f\">distance.py:1344</span>\n",
       "</pre>\n"
      ],
      "text/plain": [
       "\u001b[2;36m                   \u001b[0m\u001b[2;36m \u001b[0m\u001b[34mINFO    \u001b[0m Found \u001b[1;36m192\u001b[0m hbond interactions.                                         \u001b[2mdistance.py\u001b[0m\u001b[2m:\u001b[0m\u001b[2m1344\u001b[0m\n"
      ]
     },
     "metadata": {},
     "output_type": "display_data"
    },
    {
     "data": {
      "text/html": [
       "<pre style=\"white-space:pre;overflow-x:auto;line-height:normal;font-family:Menlo,'DejaVu Sans Mono',consolas,'Courier New',monospace\"><span style=\"color: #7fbfbf; text-decoration-color: #7fbfbf\">                    </span><span style=\"color: #000080; text-decoration-color: #000080\">INFO    </span> Found <span style=\"color: #008080; text-decoration-color: #008080; font-weight: bold\">23</span> hbond interactions.                                          <span style=\"color: #7f7f7f; text-decoration-color: #7f7f7f\">distance.py:1344</span>\n",
       "</pre>\n"
      ],
      "text/plain": [
       "\u001b[2;36m                   \u001b[0m\u001b[2;36m \u001b[0m\u001b[34mINFO    \u001b[0m Found \u001b[1;36m23\u001b[0m hbond interactions.                                          \u001b[2mdistance.py\u001b[0m\u001b[2m:\u001b[0m\u001b[2m1344\u001b[0m\n"
      ]
     },
     "metadata": {},
     "output_type": "display_data"
    },
    {
     "data": {
      "text/html": [
       "<pre style=\"white-space:pre;overflow-x:auto;line-height:normal;font-family:Menlo,'DejaVu Sans Mono',consolas,'Courier New',monospace\"><span style=\"color: #7fbfbf; text-decoration-color: #7fbfbf\">                    </span><span style=\"color: #000080; text-decoration-color: #000080\">INFO    </span> Found <span style=\"color: #008080; text-decoration-color: #008080; font-weight: bold\">3496</span> ionic interactions.                                        <span style=\"color: #7f7f7f; text-decoration-color: #7f7f7f\">distance.py:1344</span>\n",
       "</pre>\n"
      ],
      "text/plain": [
       "\u001b[2;36m                   \u001b[0m\u001b[2;36m \u001b[0m\u001b[34mINFO    \u001b[0m Found \u001b[1;36m3496\u001b[0m ionic interactions.                                        \u001b[2mdistance.py\u001b[0m\u001b[2m:\u001b[0m\u001b[2m1344\u001b[0m\n"
      ]
     },
     "metadata": {},
     "output_type": "display_data"
    },
    {
     "data": {
      "text/html": [
       "<pre style=\"white-space:pre;overflow-x:auto;line-height:normal;font-family:Menlo,'DejaVu Sans Mono',consolas,'Courier New',monospace\"></pre>\n"
      ],
      "text/plain": []
     },
     "metadata": {},
     "output_type": "display_data"
    },
    {
     "data": {
      "text/html": [
       "<pre style=\"white-space:pre;overflow-x:auto;line-height:normal;font-family:Menlo,'DejaVu Sans Mono',consolas,'Courier New',monospace\">\n",
       "</pre>\n"
      ],
      "text/plain": [
       "\n"
      ]
     },
     "metadata": {},
     "output_type": "display_data"
    },
    {
     "data": {
      "application/vnd.jupyter.widget-view+json": {
       "model_id": "dc32f00cf9fe448da5ff42f3bd38e2dd",
       "version_major": 2,
       "version_minor": 0
      },
      "text/plain": [
       "Output()"
      ]
     },
     "metadata": {},
     "output_type": "display_data"
    },
    {
     "data": {
      "text/html": [
       "<pre style=\"white-space:pre;overflow-x:auto;line-height:normal;font-family:Menlo,'DejaVu Sans Mono',consolas,'Courier New',monospace\"><span style=\"color: #7fbfbf; text-decoration-color: #7fbfbf\">[05/03/24 18:04:22] </span><span style=\"color: #008000; text-decoration-color: #008000\">DEBUG   </span> Deprotonating protein. This removes H atoms from the pdb_df dataframe    <span style=\"color: #7f7f7f; text-decoration-color: #7f7f7f\">graphs.py:188</span>\n",
       "</pre>\n"
      ],
      "text/plain": [
       "\u001b[2;36m[05/03/24 18:04:22]\u001b[0m\u001b[2;36m \u001b[0m\u001b[32mDEBUG   \u001b[0m Deprotonating protein. This removes H atoms from the pdb_df dataframe    \u001b[2mgraphs.py\u001b[0m\u001b[2m:\u001b[0m\u001b[2m188\u001b[0m\n"
      ]
     },
     "metadata": {},
     "output_type": "display_data"
    },
    {
     "data": {
      "text/html": [
       "<pre style=\"white-space:pre;overflow-x:auto;line-height:normal;font-family:Menlo,'DejaVu Sans Mono',consolas,'Courier New',monospace\"><span style=\"color: #7fbfbf; text-decoration-color: #7fbfbf\">                    </span><span style=\"color: #008000; text-decoration-color: #008000\">DEBUG   </span> Detected <span style=\"color: #008080; text-decoration-color: #008080; font-weight: bold\">445</span> total nodes                                                 <span style=\"color: #7f7f7f; text-decoration-color: #7f7f7f\">graphs.py:435</span>\n",
       "</pre>\n"
      ],
      "text/plain": [
       "\u001b[2;36m                   \u001b[0m\u001b[2;36m \u001b[0m\u001b[32mDEBUG   \u001b[0m Detected \u001b[1;36m445\u001b[0m total nodes                                                 \u001b[2mgraphs.py\u001b[0m\u001b[2m:\u001b[0m\u001b[2m435\u001b[0m\n"
      ]
     },
     "metadata": {},
     "output_type": "display_data"
    },
    {
     "data": {
      "text/html": [
       "<pre style=\"white-space:pre;overflow-x:auto;line-height:normal;font-family:Menlo,'DejaVu Sans Mono',consolas,'Courier New',monospace\">c:\\Users\\HUAWEI\\Desktop\\materiale \n",
       "magistrale\\CHL\\CHL-Project\\.venv\\lib\\site-packages\\graphein\\protein\\edges\\distance.py:1213: FutureWarning: The \n",
       "default value of numeric_only in DataFrameGroupBy.mean is deprecated. In a future version, numeric_only will \n",
       "default to False. Either specify numeric_only or select only columns which should be valid for the function.\n",
       "  .mean()[[\"x_coord\", \"y_coord\", \"z_coord\"]]\n",
       "</pre>\n"
      ],
      "text/plain": [
       "c:\\Users\\HUAWEI\\Desktop\\materiale \n",
       "magistrale\\CHL\\CHL-Project\\.venv\\lib\\site-packages\\graphein\\protein\\edges\\distance.py:1213: FutureWarning: The \n",
       "default value of numeric_only in DataFrameGroupBy.mean is deprecated. In a future version, numeric_only will \n",
       "default to False. Either specify numeric_only or select only columns which should be valid for the function.\n",
       "  .mean()[[\"x_coord\", \"y_coord\", \"z_coord\"]]\n"
      ]
     },
     "metadata": {},
     "output_type": "display_data"
    },
    {
     "data": {
      "text/html": [
       "<pre style=\"white-space:pre;overflow-x:auto;line-height:normal;font-family:Menlo,'DejaVu Sans Mono',consolas,'Courier New',monospace\">c:\\Users\\HUAWEI\\Desktop\\materiale \n",
       "magistrale\\CHL\\CHL-Project\\.venv\\lib\\site-packages\\graphein\\protein\\edges\\distance.py:1213: FutureWarning: The \n",
       "default value of numeric_only in DataFrameGroupBy.mean is deprecated. In a future version, numeric_only will \n",
       "default to False. Either specify numeric_only or select only columns which should be valid for the function.\n",
       "  .mean()[[\"x_coord\", \"y_coord\", \"z_coord\"]]\n",
       "</pre>\n"
      ],
      "text/plain": [
       "c:\\Users\\HUAWEI\\Desktop\\materiale \n",
       "magistrale\\CHL\\CHL-Project\\.venv\\lib\\site-packages\\graphein\\protein\\edges\\distance.py:1213: FutureWarning: The \n",
       "default value of numeric_only in DataFrameGroupBy.mean is deprecated. In a future version, numeric_only will \n",
       "default to False. Either specify numeric_only or select only columns which should be valid for the function.\n",
       "  .mean()[[\"x_coord\", \"y_coord\", \"z_coord\"]]\n"
      ]
     },
     "metadata": {},
     "output_type": "display_data"
    },
    {
     "data": {
      "text/html": [
       "<pre style=\"white-space:pre;overflow-x:auto;line-height:normal;font-family:Menlo,'DejaVu Sans Mono',consolas,'Courier New',monospace\">c:\\Users\\HUAWEI\\Desktop\\materiale \n",
       "magistrale\\CHL\\CHL-Project\\.venv\\lib\\site-packages\\graphein\\protein\\edges\\distance.py:1213: FutureWarning: The \n",
       "default value of numeric_only in DataFrameGroupBy.mean is deprecated. In a future version, numeric_only will \n",
       "default to False. Either specify numeric_only or select only columns which should be valid for the function.\n",
       "  .mean()[[\"x_coord\", \"y_coord\", \"z_coord\"]]\n",
       "</pre>\n"
      ],
      "text/plain": [
       "c:\\Users\\HUAWEI\\Desktop\\materiale \n",
       "magistrale\\CHL\\CHL-Project\\.venv\\lib\\site-packages\\graphein\\protein\\edges\\distance.py:1213: FutureWarning: The \n",
       "default value of numeric_only in DataFrameGroupBy.mean is deprecated. In a future version, numeric_only will \n",
       "default to False. Either specify numeric_only or select only columns which should be valid for the function.\n",
       "  .mean()[[\"x_coord\", \"y_coord\", \"z_coord\"]]\n"
      ]
     },
     "metadata": {},
     "output_type": "display_data"
    },
    {
     "data": {
      "text/html": [
       "<pre style=\"white-space:pre;overflow-x:auto;line-height:normal;font-family:Menlo,'DejaVu Sans Mono',consolas,'Courier New',monospace\"><span style=\"color: #7fbfbf; text-decoration-color: #7fbfbf\">                    </span><span style=\"color: #000080; text-decoration-color: #000080\">INFO    </span> Found: <span style=\"color: #008080; text-decoration-color: #008080; font-weight: bold\">92</span> aromatic-aromatic interactions                               <span style=\"color: #7f7f7f; text-decoration-color: #7f7f7f\">distance.py:467</span>\n",
       "</pre>\n"
      ],
      "text/plain": [
       "\u001b[2;36m                   \u001b[0m\u001b[2;36m \u001b[0m\u001b[34mINFO    \u001b[0m Found: \u001b[1;36m92\u001b[0m aromatic-aromatic interactions                               \u001b[2mdistance.py\u001b[0m\u001b[2m:\u001b[0m\u001b[2m467\u001b[0m\n"
      ]
     },
     "metadata": {},
     "output_type": "display_data"
    },
    {
     "data": {
      "text/html": [
       "<pre style=\"white-space:pre;overflow-x:auto;line-height:normal;font-family:Menlo,'DejaVu Sans Mono',consolas,'Courier New',monospace\"><span style=\"color: #7fbfbf; text-decoration-color: #7fbfbf\">                    </span><span style=\"color: #000080; text-decoration-color: #000080\">INFO    </span> Found <span style=\"color: #008080; text-decoration-color: #008080; font-weight: bold\">955</span> hydrophobic interactions.                                   <span style=\"color: #7f7f7f; text-decoration-color: #7f7f7f\">distance.py:1344</span>\n",
       "</pre>\n"
      ],
      "text/plain": [
       "\u001b[2;36m                   \u001b[0m\u001b[2;36m \u001b[0m\u001b[34mINFO    \u001b[0m Found \u001b[1;36m955\u001b[0m hydrophobic interactions.                                   \u001b[2mdistance.py\u001b[0m\u001b[2m:\u001b[0m\u001b[2m1344\u001b[0m\n"
      ]
     },
     "metadata": {},
     "output_type": "display_data"
    },
    {
     "data": {
      "text/html": [
       "<pre style=\"white-space:pre;overflow-x:auto;line-height:normal;font-family:Menlo,'DejaVu Sans Mono',consolas,'Courier New',monospace\"><span style=\"color: #7fbfbf; text-decoration-color: #7fbfbf\">                    </span><span style=\"color: #000080; text-decoration-color: #000080\">INFO    </span> Found <span style=\"color: #008080; text-decoration-color: #008080; font-weight: bold\">12</span> disulfide interactions.                                      <span style=\"color: #7f7f7f; text-decoration-color: #7f7f7f\">distance.py:1344</span>\n",
       "</pre>\n"
      ],
      "text/plain": [
       "\u001b[2;36m                   \u001b[0m\u001b[2;36m \u001b[0m\u001b[34mINFO    \u001b[0m Found \u001b[1;36m12\u001b[0m disulfide interactions.                                      \u001b[2mdistance.py\u001b[0m\u001b[2m:\u001b[0m\u001b[2m1344\u001b[0m\n"
      ]
     },
     "metadata": {},
     "output_type": "display_data"
    },
    {
     "data": {
      "text/html": [
       "<pre style=\"white-space:pre;overflow-x:auto;line-height:normal;font-family:Menlo,'DejaVu Sans Mono',consolas,'Courier New',monospace\"><span style=\"color: #7fbfbf; text-decoration-color: #7fbfbf\">                    </span><span style=\"color: #000080; text-decoration-color: #000080\">INFO    </span> Found <span style=\"color: #008080; text-decoration-color: #008080; font-weight: bold\">190</span> hbond interactions.                                         <span style=\"color: #7f7f7f; text-decoration-color: #7f7f7f\">distance.py:1344</span>\n",
       "</pre>\n"
      ],
      "text/plain": [
       "\u001b[2;36m                   \u001b[0m\u001b[2;36m \u001b[0m\u001b[34mINFO    \u001b[0m Found \u001b[1;36m190\u001b[0m hbond interactions.                                         \u001b[2mdistance.py\u001b[0m\u001b[2m:\u001b[0m\u001b[2m1344\u001b[0m\n"
      ]
     },
     "metadata": {},
     "output_type": "display_data"
    },
    {
     "data": {
      "text/html": [
       "<pre style=\"white-space:pre;overflow-x:auto;line-height:normal;font-family:Menlo,'DejaVu Sans Mono',consolas,'Courier New',monospace\"><span style=\"color: #7fbfbf; text-decoration-color: #7fbfbf\">                    </span><span style=\"color: #000080; text-decoration-color: #000080\">INFO    </span> Found <span style=\"color: #008080; text-decoration-color: #008080; font-weight: bold\">22</span> hbond interactions.                                          <span style=\"color: #7f7f7f; text-decoration-color: #7f7f7f\">distance.py:1344</span>\n",
       "</pre>\n"
      ],
      "text/plain": [
       "\u001b[2;36m                   \u001b[0m\u001b[2;36m \u001b[0m\u001b[34mINFO    \u001b[0m Found \u001b[1;36m22\u001b[0m hbond interactions.                                          \u001b[2mdistance.py\u001b[0m\u001b[2m:\u001b[0m\u001b[2m1344\u001b[0m\n"
      ]
     },
     "metadata": {},
     "output_type": "display_data"
    },
    {
     "data": {
      "text/html": [
       "<pre style=\"white-space:pre;overflow-x:auto;line-height:normal;font-family:Menlo,'DejaVu Sans Mono',consolas,'Courier New',monospace\"><span style=\"color: #7fbfbf; text-decoration-color: #7fbfbf\">                    </span><span style=\"color: #000080; text-decoration-color: #000080\">INFO    </span> Found <span style=\"color: #008080; text-decoration-color: #008080; font-weight: bold\">3496</span> ionic interactions.                                        <span style=\"color: #7f7f7f; text-decoration-color: #7f7f7f\">distance.py:1344</span>\n",
       "</pre>\n"
      ],
      "text/plain": [
       "\u001b[2;36m                   \u001b[0m\u001b[2;36m \u001b[0m\u001b[34mINFO    \u001b[0m Found \u001b[1;36m3496\u001b[0m ionic interactions.                                        \u001b[2mdistance.py\u001b[0m\u001b[2m:\u001b[0m\u001b[2m1344\u001b[0m\n"
      ]
     },
     "metadata": {},
     "output_type": "display_data"
    },
    {
     "data": {
      "text/html": [
       "<pre style=\"white-space:pre;overflow-x:auto;line-height:normal;font-family:Menlo,'DejaVu Sans Mono',consolas,'Courier New',monospace\"></pre>\n"
      ],
      "text/plain": []
     },
     "metadata": {},
     "output_type": "display_data"
    },
    {
     "data": {
      "text/html": [
       "<pre style=\"white-space:pre;overflow-x:auto;line-height:normal;font-family:Menlo,'DejaVu Sans Mono',consolas,'Courier New',monospace\">\n",
       "</pre>\n"
      ],
      "text/plain": [
       "\n"
      ]
     },
     "metadata": {},
     "output_type": "display_data"
    }
   ],
   "source": [
    "df = create_graph_df(config =config)"
   ]
  },
  {
   "cell_type": "code",
   "execution_count": 4,
   "metadata": {},
   "outputs": [],
   "source": [
    "set1 = set(df['graph_allele1'])\n",
    "set2 = set(df['graph_allele2'])\n",
    "set_total = set1 | set2\n",
    "graphs = list(set_total)"
   ]
  },
  {
   "cell_type": "code",
   "execution_count": 5,
   "metadata": {},
   "outputs": [
    {
     "data": {
      "text/plain": [
       "45"
      ]
     },
     "execution_count": 5,
     "metadata": {},
     "output_type": "execute_result"
    }
   ],
   "source": [
    "len(graphs)"
   ]
  },
  {
   "cell_type": "code",
   "execution_count": 6,
   "metadata": {},
   "outputs": [
    {
     "data": {
      "text/plain": [
       "[<networkx.classes.graph.Graph at 0x1f7aa9e20b0>,\n",
       " <networkx.classes.graph.Graph at 0x1f7a8ebb100>,\n",
       " <networkx.classes.graph.Graph at 0x1f7ab397910>,\n",
       " <networkx.classes.graph.Graph at 0x1f7a6ef4100>,\n",
       " <networkx.classes.graph.Graph at 0x1f7a7280130>,\n",
       " <networkx.classes.graph.Graph at 0x1f7af89e140>,\n",
       " <networkx.classes.graph.Graph at 0x1f7ae781150>,\n",
       " <networkx.classes.graph.Graph at 0x1f7a8eba170>,\n",
       " <networkx.classes.graph.Graph at 0x1f7a7e8f190>,\n",
       " <networkx.classes.graph.Graph at 0x1f7a67f0190>,\n",
       " <networkx.classes.graph.Graph at 0x1f7ac1449a0>,\n",
       " <networkx.classes.graph.Graph at 0x1f7adf179d0>,\n",
       " <networkx.classes.graph.Graph at 0x1f7a67f2200>,\n",
       " <networkx.classes.graph.Graph at 0x1f7aecc3a30>,\n",
       " <networkx.classes.graph.Graph at 0x1f7a67f3ac0>,\n",
       " <networkx.classes.graph.Graph at 0x1f7a67f0b50>,\n",
       " <networkx.classes.graph.Graph at 0x1f7ab981bd0>,\n",
       " <networkx.classes.graph.Graph at 0x1f7ab983be0>,\n",
       " <networkx.classes.graph.Graph at 0x1f7a8be23e0>,\n",
       " <networkx.classes.graph.Graph at 0x1f7a67f1420>,\n",
       " <networkx.classes.graph.Graph at 0x1f7a5113c70>,\n",
       " <networkx.classes.graph.Graph at 0x1f7ae782c80>,\n",
       " <networkx.classes.graph.Graph at 0x1f7aa9e2cb0>,\n",
       " <networkx.classes.graph.Graph at 0x1f7a7283d30>,\n",
       " <networkx.classes.graph.Graph at 0x1f7ab982d40>,\n",
       " <networkx.classes.graph.Graph at 0x1f7a82e5540>,\n",
       " <networkx.classes.graph.Graph at 0x1f7adb48d60>,\n",
       " <networkx.classes.graph.Graph at 0x1f7ac146d70>,\n",
       " <networkx.classes.graph.Graph at 0x1f7ae783580>,\n",
       " <networkx.classes.graph.Graph at 0x1f7a4df75b0>,\n",
       " <networkx.classes.graph.Graph at 0x1f7a7283dc0>,\n",
       " <networkx.classes.graph.Graph at 0x1f7a8be2650>,\n",
       " <networkx.classes.graph.Graph at 0x1f7aa9e3e80>,\n",
       " <networkx.classes.graph.Graph at 0x1f7aecc1ea0>,\n",
       " <networkx.classes.graph.Graph at 0x1f7ab3966b0>,\n",
       " <networkx.classes.graph.Graph at 0x1f7aecc06d0>,\n",
       " <networkx.classes.graph.Graph at 0x1f7adf15ed0>,\n",
       " <networkx.classes.graph.Graph at 0x1f7a82e6ef0>,\n",
       " <networkx.classes.graph.Graph at 0x1f79f76ef20>,\n",
       " <networkx.classes.graph.Graph at 0x1f7ac147f40>,\n",
       " <networkx.classes.graph.Graph at 0x1f7adb4a740>,\n",
       " <networkx.classes.graph.Graph at 0x1f7af89df60>,\n",
       " <networkx.classes.graph.Graph at 0x1f7adb4af80>,\n",
       " <networkx.classes.graph.Graph at 0x1f79f76e7d0>]"
      ]
     },
     "execution_count": 6,
     "metadata": {},
     "output_type": "execute_result"
    }
   ],
   "source": [
    "graphs = [g for g in graphs if g is not None]\n",
    "graphs"
   ]
  },
  {
   "cell_type": "code",
   "execution_count": 7,
   "metadata": {},
   "outputs": [],
   "source": [
    "adjacency_matrices = [ adjacency_matrix(graph, weight='distance') for graph in graphs]\n",
    "# convert to csr_matrix\n",
    "adjacency_matrices = [csr_matrix(m) for  m in adjacency_matrices]\n"
   ]
  },
  {
   "cell_type": "code",
   "execution_count": 8,
   "metadata": {},
   "outputs": [
    {
     "data": {
      "text/plain": [
       "<matplotlib.lines.Line2D at 0x1f7b2441b70>"
      ]
     },
     "execution_count": 8,
     "metadata": {},
     "output_type": "execute_result"
    },
    {
     "data": {
      "image/png": "[encoded data removed]",
      "text/plain": [
       "<Figure size 640x480 with 1 Axes>"
      ]
     },
     "metadata": {},
     "output_type": "display_data"
    }
   ],
   "source": [
    "# spy one adjacency matrix\n",
    "plt.spy(adjacency_matrices[3], ms=1)"
   ]
  },
  {
   "cell_type": "code",
   "execution_count": 28,
   "metadata": {},
   "outputs": [
    {
     "ename": "TypeError",
     "evalue": "tuple indices must be integers or slices, not str",
     "output_type": "error",
     "traceback": [
      "\u001b[1;31m---------------------------------------------------------------------------\u001b[0m",
      "\u001b[1;31mTypeError\u001b[0m                                 Traceback (most recent call last)",
      "Cell \u001b[1;32mIn[28], line 2\u001b[0m\n\u001b[0;32m      1\u001b[0m nodes \u001b[38;5;241m=\u001b[39m\u001b[38;5;28mlist\u001b[39m(graphs[\u001b[38;5;241m0\u001b[39m]\u001b[38;5;241m.\u001b[39mnodes(data\u001b[38;5;241m=\u001b[39m\u001b[38;5;28;01mTrue\u001b[39;00m))\n\u001b[1;32m----> 2\u001b[0m \u001b[43mnodes\u001b[49m\u001b[43m[\u001b[49m\u001b[38;5;241;43m0\u001b[39;49m\u001b[43m]\u001b[49m\u001b[43m[\u001b[49m\u001b[38;5;124;43m'\u001b[39;49m\u001b[38;5;124;43mcoords\u001b[39;49m\u001b[38;5;124;43m'\u001b[39;49m\u001b[43m]\u001b[49m\n",
      "\u001b[1;31mTypeError\u001b[0m: tuple indices must be integers or slices, not str"
     ]
    }
   ],
   "source": [
    "nodes =list(graphs[0].nodes(data=True))\n"
   ]
  },
  {
   "cell_type": "code",
   "execution_count": 32,
   "metadata": {},
   "outputs": [
    {
     "data": {
      "text/plain": [
       "array([ -9.148, -22.172,   9.305])"
      ]
     },
     "execution_count": 32,
     "metadata": {},
     "output_type": "execute_result"
    }
   ],
   "source": [
    "nodes[0][1]['coords']"
   ]
  },
  {
   "cell_type": "code",
   "execution_count": 35,
   "metadata": {},
   "outputs": [],
   "source": [
    "def chamfer_distance(g1, g2):\n",
    "    \"\"\"\n",
    "    Chamfer distance between two graphs\n",
    "    \"\"\"\n",
    "    coords1 = np.array([node['coords'] for i, node in g1.nodes(data=True)])\n",
    "    coords2 = np.array([node['coords'] for i, node in g2.nodes(data=True)])\n",
    "    tree = KDTree(coords1)\n",
    "    dist_2 = tree.query(coords2)[0]\n",
    "    tree = KDTree(coords2)\n",
    "    dist_1 = tree.query(coords1)[0]\n",
    "    return np.mean(dist_1) + np.mean(dist_2)"
   ]
  },
  {
   "cell_type": "code",
   "execution_count": 42,
   "metadata": {},
   "outputs": [],
   "source": [
    "def chamfer_matrix(graphs_list):\n",
    "    n = len(graphs_list)\n",
    "    M = np.zeros((n, n))\n",
    "    for i in range(n):\n",
    "        for j in range(i+1, n):\n",
    "            M[i, j] = chamfer_distance(graphs_list[i], graphs_list[j])\n",
    "            M[j, i] = M[i, j]\n",
    "\n",
    "    return M"
   ]
  },
  {
   "cell_type": "code",
   "execution_count": 43,
   "metadata": {},
   "outputs": [],
   "source": [
    "M=chamfer_matrix(graphs)"
   ]
  },
  {
   "cell_type": "code",
   "execution_count": null,
   "metadata": {},
   "outputs": [],
   "source": [
    "from "
   ]
  }
 ],
 "metadata": {
  "kernelspec": {
   "display_name": ".venv",
   "language": "python",
   "name": "python3"
  },
  "language_info": {
   "codemirror_mode": {
    "name": "ipython",
    "version": 3
   },
   "file_extension": ".py",
   "mimetype": "text/x-python",
   "name": "python",
   "nbconvert_exporter": "python",
   "pygments_lexer": "ipython3",
   "version": "3.10.8"
  }
 },
 "nbformat": 4,
 "nbformat_minor": 2
}
