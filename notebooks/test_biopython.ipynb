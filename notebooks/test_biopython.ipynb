{
 "cells": [
  {
   "cell_type": "code",
   "execution_count": 2,
   "metadata": {},
   "outputs": [],
   "source": [
    "from Bio.PDB import PDBParser\n",
    "from Bio.PDB.DSSP import DSSP"
   ]
  },
  {
   "cell_type": "code",
   "execution_count": 3,
   "metadata": {},
   "outputs": [],
   "source": [
    "path_og = '../datasets/test/HGD_normal.pdb'\n",
    "path_m = '../datasets/test/a.pdb'"
   ]
  },
  {
   "cell_type": "code",
   "execution_count": 4,
   "metadata": {},
   "outputs": [],
   "source": [
    "from Bio.PDB import DSSP, PDBParser\n",
    "parser = PDBParser()\n",
    "\n",
    "structure_og = parser.get_structure(\"HGD\", path_og)\n",
    "structure_m = parser.get_structure(\"G198D\", path_m)\n",
    "\n",
    "model_og = structure_og[0]\n",
    "model_m = structure_m[0]\n",
    "\n",
    "dssp_og = DSSP(model_og, path_og, dssp='mkdssp')\n",
    "dssp_m = DSSP(model_m, path_m, dssp='mkdssp')\n"
   ]
  },
  {
   "cell_type": "code",
   "execution_count": 5,
   "metadata": {},
   "outputs": [
    {
     "name": "stdout",
     "output_type": "stream",
     "text": [
      "('A', (' ', 198, ' ')) G D\n"
     ]
    }
   ],
   "source": [
    "# comprare the two structures\n",
    "for key in dssp_og.keys():\n",
    "    if key in dssp_m.keys():\n",
    "        if dssp_og[key][1] != dssp_m[key][1]:\n",
    "            print(key, dssp_og[key][1], dssp_m[key][1])\n",
    "    else:\n",
    "        print(key, dssp_og[key][1], 'None')\n",
    "\n",
    "\n",
    "# print(dssp_og)\n",
    "\n"
   ]
  },
  {
   "cell_type": "markdown",
   "metadata": {},
   "source": [
    "-----\n",
    "test"
   ]
  },
  {
   "cell_type": "code",
   "execution_count": 10,
   "metadata": {},
   "outputs": [],
   "source": [
    "import numpy\n",
    "\n",
    "def calc_residue_dist(residue_one, residue_two) :\n",
    "    \"\"\"Returns the C-alpha distance between two residues\"\"\"\n",
    "    diff_vector  = residue_one[\"CA\"].coord - residue_two[\"CA\"].coord\n",
    "    return numpy.sqrt(numpy.sum(diff_vector * diff_vector))\n",
    "\n",
    "def calc_dist_matrix(chain_one, chain_two) :\n",
    "    \"\"\"Returns a matrix of C-alpha distances between two chains\"\"\"\n",
    "    answer = numpy.zeros((len(chain_one), len(chain_two)), numpy.float)\n",
    "    for row, residue_one in enumerate(chain_one) :\n",
    "        for col, residue_two in enumerate(chain_two) :\n",
    "            answer[row, col] = calc_residue_dist(residue_one, residue_two)\n",
    "    return answer"
   ]
  },
  {
   "cell_type": "code",
   "execution_count": null,
   "metadata": {},
   "outputs": [],
   "source": []
  },
  {
   "cell_type": "code",
   "execution_count": 14,
   "metadata": {},
   "outputs": [],
   "source": [
    "chain1 = model1['A']\n",
    "chain2 = model2['A']\n"
   ]
  },
  {
   "cell_type": "code",
   "execution_count": 5,
   "metadata": {},
   "outputs": [
    {
     "data": {
      "application/vnd.jupyter.widget-view+json": {
       "model_id": "9b4e0b26be2943f88888409cb996bac9",
       "version_major": 2,
       "version_minor": 0
      },
      "text/plain": []
     },
     "metadata": {},
     "output_type": "display_data"
    }
   ],
   "source": [
    "# plot the structure\n",
    "import nglview as nv\n"
   ]
  },
  {
   "cell_type": "code",
   "execution_count": 10,
   "metadata": {},
   "outputs": [
    {
     "ename": "ImportError",
     "evalue": "'MDAnalysisTrajectory' requires the 'MDAnalysis' package",
     "output_type": "error",
     "traceback": [
      "\u001b[1;31m---------------------------------------------------------------------------\u001b[0m",
      "\u001b[1;31mModuleNotFoundError\u001b[0m                       Traceback (most recent call last)",
      "File \u001b[1;32m~\\Desktop\\materiale magistrale\\CHL\\CHL-Project\\.venv\\lib\\site-packages\\nglview\\adaptor.py:445\u001b[0m, in \u001b[0;36mMDAnalysisTrajectory.get_structure_string\u001b[1;34m(self)\u001b[0m\n\u001b[0;32m    444\u001b[0m \u001b[38;5;28;01mtry\u001b[39;00m:\n\u001b[1;32m--> 445\u001b[0m     \u001b[38;5;28;01mimport\u001b[39;00m \u001b[38;5;21;01mMDAnalysis\u001b[39;00m \u001b[38;5;28;01mas\u001b[39;00m \u001b[38;5;21;01mmda\u001b[39;00m\n\u001b[0;32m    446\u001b[0m \u001b[38;5;28;01mexcept\u001b[39;00m \u001b[38;5;167;01mImportError\u001b[39;00m:\n",
      "\u001b[1;31mModuleNotFoundError\u001b[0m: No module named 'MDAnalysis'",
      "\nDuring handling of the above exception, another exception occurred:\n",
      "\u001b[1;31mImportError\u001b[0m                               Traceback (most recent call last)",
      "Cell \u001b[1;32mIn[10], line 1\u001b[0m\n\u001b[1;32m----> 1\u001b[0m \u001b[43mnv\u001b[49m\u001b[38;5;241;43m.\u001b[39;49m\u001b[43mshow_mdanalysis\u001b[49m\u001b[43m(\u001b[49m\u001b[43mmodel1\u001b[49m\u001b[43m)\u001b[49m\n",
      "File \u001b[1;32m~\\Desktop\\materiale magistrale\\CHL\\CHL-Project\\.venv\\lib\\site-packages\\nglview\\show.py:392\u001b[0m, in \u001b[0;36mshow_mdanalysis\u001b[1;34m(atomgroup, **kwargs)\u001b[0m\n\u001b[0;32m    378\u001b[0m \u001b[38;5;250m\u001b[39m\u001b[38;5;124;03m'''Show NGL widget with MDAnalysis AtomGroup.\u001b[39;00m\n\u001b[0;32m    379\u001b[0m \n\u001b[0;32m    380\u001b[0m \u001b[38;5;124;03mCan take either a Universe or AtomGroup as its data input.\u001b[39;00m\n\u001b[1;32m   (...)\u001b[0m\n\u001b[0;32m    389\u001b[0m \u001b[38;5;124;03m... w\u001b[39;00m\n\u001b[0;32m    390\u001b[0m \u001b[38;5;124;03m'''\u001b[39;00m\n\u001b[0;32m    391\u001b[0m structure_trajectory \u001b[38;5;241m=\u001b[39m MDAnalysisTrajectory(atomgroup)\n\u001b[1;32m--> 392\u001b[0m \u001b[38;5;28;01mreturn\u001b[39;00m NGLWidget(structure_trajectory, \u001b[38;5;241m*\u001b[39m\u001b[38;5;241m*\u001b[39mkwargs)\n",
      "File \u001b[1;32m~\\Desktop\\materiale magistrale\\CHL\\CHL-Project\\.venv\\lib\\site-packages\\nglview\\widget.py:238\u001b[0m, in \u001b[0;36mNGLWidget.__init__\u001b[1;34m(self, structure, representations, parameters, **kwargs)\u001b[0m\n\u001b[0;32m    236\u001b[0m \u001b[38;5;28;01mif\u001b[39;00m \u001b[38;5;28misinstance\u001b[39m(structure, Trajectory):\n\u001b[0;32m    237\u001b[0m     name \u001b[38;5;241m=\u001b[39m py_utils\u001b[38;5;241m.\u001b[39mget_name(structure, \u001b[38;5;241m*\u001b[39m\u001b[38;5;241m*\u001b[39mkwargs)\n\u001b[1;32m--> 238\u001b[0m     \u001b[38;5;28mself\u001b[39m\u001b[38;5;241m.\u001b[39madd_trajectory(structure, name\u001b[38;5;241m=\u001b[39mname, \u001b[38;5;241m*\u001b[39m\u001b[38;5;241m*\u001b[39mkwargs)\n\u001b[0;32m    239\u001b[0m \u001b[38;5;28;01melif\u001b[39;00m \u001b[38;5;28misinstance\u001b[39m(structure, (\u001b[38;5;28mlist\u001b[39m, \u001b[38;5;28mtuple\u001b[39m)):\n\u001b[0;32m    240\u001b[0m     trajectories \u001b[38;5;241m=\u001b[39m structure\n",
      "File \u001b[1;32m~\\Desktop\\materiale magistrale\\CHL\\CHL-Project\\.venv\\lib\\site-packages\\nglview\\widget.py:1164\u001b[0m, in \u001b[0;36mNGLWidget.add_trajectory\u001b[1;34m(self, trajectory, **kwargs)\u001b[0m\n\u001b[0;32m   1161\u001b[0m \u001b[38;5;28;01melse\u001b[39;00m:\n\u001b[0;32m   1162\u001b[0m     trajectory \u001b[38;5;241m=\u001b[39m trajectory\n\u001b[1;32m-> 1164\u001b[0m \u001b[38;5;28mself\u001b[39m\u001b[38;5;241m.\u001b[39m_load_data(trajectory, \u001b[38;5;241m*\u001b[39m\u001b[38;5;241m*\u001b[39mkwargs)\n\u001b[0;32m   1165\u001b[0m \u001b[38;5;28msetattr\u001b[39m(trajectory, \u001b[38;5;124m'\u001b[39m\u001b[38;5;124mshown\u001b[39m\u001b[38;5;124m'\u001b[39m, \u001b[38;5;28;01mTrue\u001b[39;00m)\n\u001b[0;32m   1166\u001b[0m \u001b[38;5;28mself\u001b[39m\u001b[38;5;241m.\u001b[39m_trajlist\u001b[38;5;241m.\u001b[39mappend(trajectory)\n",
      "File \u001b[1;32m~\\Desktop\\materiale magistrale\\CHL\\CHL-Project\\.venv\\lib\\site-packages\\nglview\\widget.py:1242\u001b[0m, in \u001b[0;36mNGLWidget._load_data\u001b[1;34m(self, obj, **kwargs)\u001b[0m\n\u001b[0;32m   1240\u001b[0m \u001b[38;5;28;01mif\u001b[39;00m \u001b[38;5;129;01mnot\u001b[39;00m is_url:\n\u001b[0;32m   1241\u001b[0m     \u001b[38;5;28;01mif\u001b[39;00m \u001b[38;5;28mhasattr\u001b[39m(obj, \u001b[38;5;124m'\u001b[39m\u001b[38;5;124mget_structure_string\u001b[39m\u001b[38;5;124m'\u001b[39m):\n\u001b[1;32m-> 1242\u001b[0m         blob \u001b[38;5;241m=\u001b[39m \u001b[43mobj\u001b[49m\u001b[38;5;241;43m.\u001b[39;49m\u001b[43mget_structure_string\u001b[49m\u001b[43m(\u001b[49m\u001b[43m)\u001b[49m\n\u001b[0;32m   1243\u001b[0m         kwargs2[\u001b[38;5;124m'\u001b[39m\u001b[38;5;124mext\u001b[39m\u001b[38;5;124m'\u001b[39m] \u001b[38;5;241m=\u001b[39m obj\u001b[38;5;241m.\u001b[39mext\n\u001b[0;32m   1244\u001b[0m         passing_buffer \u001b[38;5;241m=\u001b[39m \u001b[38;5;28;01mTrue\u001b[39;00m\n",
      "File \u001b[1;32m~\\Desktop\\materiale magistrale\\CHL\\CHL-Project\\.venv\\lib\\site-packages\\nglview\\adaptor.py:447\u001b[0m, in \u001b[0;36mMDAnalysisTrajectory.get_structure_string\u001b[1;34m(self)\u001b[0m\n\u001b[0;32m    445\u001b[0m     \u001b[38;5;28;01mimport\u001b[39;00m \u001b[38;5;21;01mMDAnalysis\u001b[39;00m \u001b[38;5;28;01mas\u001b[39;00m \u001b[38;5;21;01mmda\u001b[39;00m\n\u001b[0;32m    446\u001b[0m \u001b[38;5;28;01mexcept\u001b[39;00m \u001b[38;5;167;01mImportError\u001b[39;00m:\n\u001b[1;32m--> 447\u001b[0m     \u001b[38;5;28;01mraise\u001b[39;00m \u001b[38;5;167;01mImportError\u001b[39;00m(\n\u001b[0;32m    448\u001b[0m         \u001b[38;5;124m\"\u001b[39m\u001b[38;5;124m'\u001b[39m\u001b[38;5;124mMDAnalysisTrajectory\u001b[39m\u001b[38;5;124m'\u001b[39m\u001b[38;5;124m requires the \u001b[39m\u001b[38;5;124m'\u001b[39m\u001b[38;5;124mMDAnalysis\u001b[39m\u001b[38;5;124m'\u001b[39m\u001b[38;5;124m package\u001b[39m\u001b[38;5;124m\"\u001b[39m)\n\u001b[0;32m    449\u001b[0m u \u001b[38;5;241m=\u001b[39m \u001b[38;5;28mself\u001b[39m\u001b[38;5;241m.\u001b[39matomgroup\u001b[38;5;241m.\u001b[39muniverse\n\u001b[0;32m    450\u001b[0m u\u001b[38;5;241m.\u001b[39mtrajectory[\u001b[38;5;241m0\u001b[39m]\n",
      "\u001b[1;31mImportError\u001b[0m: 'MDAnalysisTrajectory' requires the 'MDAnalysis' package"
     ]
    }
   ],
   "source": [
    "nv.show_mdanalysis(model1)\n"
   ]
  },
  {
   "cell_type": "code",
   "execution_count": 21,
   "metadata": {},
   "outputs": [
    {
     "data": {
      "text/plain": [
       "['__class__',\n",
       " '__delattr__',\n",
       " '__dict__',\n",
       " '__dir__',\n",
       " '__doc__',\n",
       " '__eq__',\n",
       " '__format__',\n",
       " '__ge__',\n",
       " '__getattribute__',\n",
       " '__gt__',\n",
       " '__hash__',\n",
       " '__init__',\n",
       " '__init_subclass__',\n",
       " '__le__',\n",
       " '__lt__',\n",
       " '__module__',\n",
       " '__ne__',\n",
       " '__new__',\n",
       " '__reduce__',\n",
       " '__reduce_ex__',\n",
       " '__repr__',\n",
       " '__setattr__',\n",
       " '__sizeof__',\n",
       " '__str__',\n",
       " '__subclasshook__',\n",
       " '__weakref__',\n",
       " 'apply',\n",
       " 'rms',\n",
       " 'rotran',\n",
       " 'set_atoms']"
      ]
     },
     "execution_count": 21,
     "metadata": {},
     "output_type": "execute_result"
    }
   ],
   "source": [
    "sup = Superimposer()\n",
    "dir(sup)"
   ]
  },
  {
   "cell_type": "code",
   "execution_count": 20,
   "metadata": {},
   "outputs": [
    {
     "ename": "AttributeError",
     "evalue": "'Superimposer' object has no attribute 'idt'",
     "output_type": "error",
     "traceback": [
      "\u001b[1;31m---------------------------------------------------------------------------\u001b[0m",
      "\u001b[1;31mAttributeError\u001b[0m                            Traceback (most recent call last)",
      "Cell \u001b[1;32mIn[20], line 28\u001b[0m\n\u001b[0;32m     24\u001b[0m     \u001b[38;5;66;03m# Get the RMSD\u001b[39;00m\n\u001b[0;32m     25\u001b[0m     \u001b[38;5;28;01mreturn\u001b[39;00m sup\u001b[38;5;241m.\u001b[39mrms, sup\u001b[38;5;241m.\u001b[39midt\n\u001b[1;32m---> 28\u001b[0m rms, iddt \u001b[38;5;241m=\u001b[39m \u001b[43mcalc_iddt\u001b[49m\u001b[43m(\u001b[49m\u001b[43mchain1\u001b[49m\u001b[43m,\u001b[49m\u001b[43m \u001b[49m\u001b[43mchain2\u001b[49m\u001b[43m)\u001b[49m\n",
      "Cell \u001b[1;32mIn[20], line 25\u001b[0m, in \u001b[0;36mcalc_iddt\u001b[1;34m(chain1, chain2)\u001b[0m\n\u001b[0;32m     22\u001b[0m sup\u001b[38;5;241m.\u001b[39mset_atoms(atoms1, atoms2)\n\u001b[0;32m     24\u001b[0m \u001b[38;5;66;03m# Get the RMSD\u001b[39;00m\n\u001b[1;32m---> 25\u001b[0m \u001b[38;5;28;01mreturn\u001b[39;00m sup\u001b[38;5;241m.\u001b[39mrms, \u001b[43msup\u001b[49m\u001b[38;5;241;43m.\u001b[39;49m\u001b[43midt\u001b[49m\n",
      "\u001b[1;31mAttributeError\u001b[0m: 'Superimposer' object has no attribute 'idt'"
     ]
    }
   ],
   "source": [
    "# compte iddt\n",
    "import numpy as np\n",
    "from Bio.PDB import Superimposer\n",
    "\n"
   ]
  },
  {
   "cell_type": "code",
   "execution_count": 29,
   "metadata": {},
   "outputs": [
    {
     "data": {
      "text/plain": [
       "' MAELKYISGFGNECSSEDPRCPGSLPEGQNNPQVCPYNLYAEQLSGSAFTCPRSTNKRSWLYRILPSVSHKPFESIDEGQVTHNWDEVDPDPNQLRWKPFEIPKASQKKVDFVSGLHTLCGAGDIKSNNGLAIHIFLCNTSMENRCFYNSDGDFLIVPQKRNLLIYTEFGKMLVQPNEICVIQRGMRFSIDVFEETRGYILEVYGVHFELPDLGPIGANGLANPRDFLIPIAWYEDRQVPGGYTVINKYQGKLFAAKQDVSPFNVVAWHGNYTPYKYNLKNFMVINSVAFDHADPSIFTVLTAKSVRPGVAIADFVIFPPRWGVADKTFRPPYYHRNCMSEFMGLIRGHYEAKQGGFLPGGGSLHSTMTPHGPDADCFEKASKVKLAPERIADGTMAFMFESSLSLAVTKWGLKASRCLDENYHKCWEPLKSHFTPNSRNPAEPN'"
      ]
     },
     "execution_count": 29,
     "metadata": {},
     "output_type": "execute_result"
    }
   ],
   "source": [
    "import pandas as pd\n",
    "df=pd.read_csv('..\\\\datasets\\\\HGD_datasets\\\\ncbi_dataset\\\\data\\\\mutated_sequences.csv', header=None)\n",
    "#rename columns as mutation, sequence\n",
    "df.columns=['mutation', 'sequence']\n",
    "df['sequence'][0]"
   ]
  },
  {
   "cell_type": "code",
   "execution_count": null,
   "metadata": {},
   "outputs": [],
   "source": []
  }
 ],
 "metadata": {
  "kernelspec": {
   "display_name": "Python 3 (ipykernel)",
   "language": "python",
   "name": "python3"
  },
  "language_info": {
   "codemirror_mode": {
    "name": "ipython",
    "version": 3
   },
   "file_extension": ".py",
   "mimetype": "text/x-python",
   "name": "python",
   "nbconvert_exporter": "python",
   "pygments_lexer": "ipython3",
   "version": "3.10.13"
  }
 },
 "nbformat": 4,
 "nbformat_minor": 4
}
