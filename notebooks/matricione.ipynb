{
 "cells": [
  {
   "cell_type": "code",
   "execution_count": null,
   "metadata": {},
   "outputs": [],
   "source": [
    "from utils import get_common_backbone_atoms, generate_df\n",
    "from Bio import PDB\n",
    "import pandas as pd\n",
    "import numpy as np\n",
    "import matplotlib.pyplot as plt\n",
    "from scipy.stats import ttest_ind"
   ]
  },
  {
   "cell_type": "code",
   "execution_count": null,
   "metadata": {},
   "outputs": [],
   "source": [
    "\n",
    "def get_rmsd(path_og, path_m):\n",
    "    parser = PDB.PDBParser()\n",
    "    structure_og = parser.get_structure(\"original\", path_og)\n",
    "    structure_m = parser.get_structure(\"mutation\", path_m)\n",
    "    atoms_og, atoms_m = get_common_backbone_atoms(structure_og, structure_m)\n",
    "    superimposer = PDB.Superimposer()\n",
    "    superimposer.set_atoms(atoms_og, atoms_m)\n",
    "    superimposer.apply(structure_m.get_atoms())\n",
    "    \n",
    "    return superimposer.rms\n",
    "\n",
    "\n",
    "df_paths = pd.read_csv('../datasets/df_with_scores.csv')\n",
    "\n"
   ]
  },
  {
   "cell_type": "code",
   "execution_count": null,
   "metadata": {},
   "outputs": [],
   "source": [
    "#strip df_paths columns names\n",
    "df_paths.columns = df_paths.columns.str.strip()\n",
    "df_paths.columns"
   ]
  },
  {
   "cell_type": "code",
   "execution_count": null,
   "metadata": {},
   "outputs": [],
   "source": [
    "mutation_path_dict = {} \n",
    "for i, row in df_paths.iterrows():\n",
    "    mutation_path_dict[row['Protein change allele 1']] = row['pdb_file_allele1']\n",
    "    mutation_path_dict[row['Protein change allele 2']] = row['pdb_file_allele2']\n",
    "\n",
    "print(len(mutation_path_dict))"
   ]
  },
  {
   "cell_type": "code",
   "execution_count": null,
   "metadata": {},
   "outputs": [],
   "source": [
    "print(mutation_path_dict)\n",
    "path_mutation_dict = {v:k for k,v in mutation_path_dict.items()}"
   ]
  },
  {
   "cell_type": "code",
   "execution_count": null,
   "metadata": {},
   "outputs": [],
   "source": [
    "paths = list(mutation_path_dict.values())"
   ]
  },
  {
   "cell_type": "code",
   "execution_count": null,
   "metadata": {},
   "outputs": [],
   "source": [
    "# create a df with the pairs path, path \n",
    "\n",
    "from itertools import product\n",
    "\n",
    "pairs = product(paths, paths)"
   ]
  },
  {
   "cell_type": "code",
   "execution_count": null,
   "metadata": {},
   "outputs": [],
   "source": [
    "from tqdm import tqdm\n",
    "\n",
    "def generate_matriciona(paths):\n",
    "    with tqdm(total=len(paths)*len(paths)) as pbar:\n",
    "        M = np.zeros((len(paths), len(paths)))\n",
    "        for i, path1 in enumerate(paths):\n",
    "            for j, path2 in enumerate(paths):\n",
    "                M[i, j] = get_rmsd(path1, path2)\n",
    "                pbar.update(1)\n",
    "\n",
    "    return M     "
   ]
  },
  {
   "cell_type": "code",
   "execution_count": null,
   "metadata": {},
   "outputs": [],
   "source": [
    "try:\n",
    "    matriciona = np.load('../datasets/matriciona.npy')\n",
    "except:\n",
    "    print('generating matrix')\n",
    "    matriciona = generate_matriciona(paths) \n",
    "    # the matriciona is symmetric, but due to numerical errors it is not exactly symmetric, we can fix this by averaging the matrix with its transpose\n",
    "    print(np.linalg.norm(matriciona- matriciona.T))\n",
    "    np.linalg.norm(matriciona- matriciona.T)\n",
    "    matriciona = (matriciona + matriciona.T) /2\n",
    "    print(np.linalg.norm(matriciona- matriciona.T))\n",
    "    # also the diagonal is not zero, but it should be\n",
    "\n",
    "    print(np.linalg.norm(np.diag(matriciona)))\n",
    "    np.fill_diagonal(matriciona, 0)\n",
    "    print(np.linalg.norm(np.diag(matriciona)))\n",
    "    np.save('../datasets/matriciona.npy', matriciona)"
   ]
  },
  {
   "cell_type": "code",
   "execution_count": null,
   "metadata": {},
   "outputs": [],
   "source": [
    "plt.imshow(matriciona)"
   ]
  },
  {
   "cell_type": "code",
   "execution_count": null,
   "metadata": {},
   "outputs": [],
   "source": [
    "# for each mutation, compute mean distance to all other mutations\n",
    "mean_distances = matriciona.mean(axis=1)\n",
    "std_distances = matriciona.std(axis=1)\n"
   ]
  },
  {
   "cell_type": "code",
   "execution_count": null,
   "metadata": {},
   "outputs": [],
   "source": [
    "# discard  the mutations with the highest mean distances\n",
    "threshold = 4\n",
    "matriciona = matriciona[mean_distances < threshold]\n",
    "matriciona = matriciona[:, mean_distances < threshold]"
   ]
  },
  {
   "cell_type": "code",
   "execution_count": null,
   "metadata": {},
   "outputs": [],
   "source": [
    "plt.imshow(matriciona, cmap='gray')"
   ]
  },
  {
   "cell_type": "markdown",
   "metadata": {},
   "source": [
    "## K-medoids\n",
    "We apply k-medoids algorithm to the protein structures."
   ]
  },
  {
   "cell_type": "code",
   "execution_count": null,
   "metadata": {},
   "outputs": [],
   "source": [
    "from sklearn_extra.cluster import KMedoids\n",
    "\n"
   ]
  },
  {
   "cell_type": "code",
   "execution_count": null,
   "metadata": {},
   "outputs": [],
   "source": [
    "sse = []\n",
    "for k in range(10):\n",
    "    k_medoids = KMedoids(n_clusters=k+1, random_state=0, metric = 'precomputed').fit(matriciona) \n",
    "    sse.append(k_medoids.inertia_)\n",
    "    print(k_medoids.inertia_)\n",
    "    "
   ]
  },
  {
   "cell_type": "code",
   "execution_count": null,
   "metadata": {},
   "outputs": [],
   "source": [
    "plt.plot( range(1,11), sse)\n",
    "# set x ticks to be integers\n",
    "plt.xticks(np.arange(1, 11, step=1))\n",
    "plt.xlabel(\"Number of Clusters\")\n",
    "plt.ylabel(\"SSE\")\n",
    "plt.title(\"SSE vs Number of Clusters\")\n"
   ]
  },
  {
   "cell_type": "code",
   "execution_count": null,
   "metadata": {},
   "outputs": [],
   "source": [
    "# refit with k=2\n",
    "\n",
    "k_medoids = KMedoids(n_clusters=2, random_state=0, metric = 'precomputed').fit(matriciona)"
   ]
  },
  {
   "cell_type": "code",
   "execution_count": null,
   "metadata": {},
   "outputs": [],
   "source": [
    "# order matrix by cluster\n",
    "order = np.argsort(k_medoids.labels_)\n",
    "clusters = k_medoids.labels_\n",
    "clusters = clusters[order]\n",
    "matriciona = matriciona[order, :]\n",
    "matriciona = matriciona[:, order]\n",
    "# colorbar\n",
    "plt.imshow(matriciona, cmap='gray')\n",
    "plt.colorbar()\n",
    "plt.show()\n",
    "\n"
   ]
  },
  {
   "cell_type": "code",
   "execution_count": null,
   "metadata": {},
   "outputs": [],
   "source": [
    "# t-SNE\n",
    "from sklearn.manifold import TSNE\n",
    "\n",
    "tsne = TSNE(n_components=2, random_state=0, metric='precomputed', init='random')\n",
    "X_embedded = tsne.fit_transform(matriciona)\n",
    "\n",
    "plt.scatter(X_embedded[:,0], X_embedded[:,1], c=clusters, cmap='viridis')"
   ]
  },
  {
   "cell_type": "markdown",
   "metadata": {},
   "source": [
    "## Aggregation and statistics\n",
    "Now we aggregate the scores by mutation, and see if there is any difference between mutations in the clusters.\n",
    "From 2 clusters we pass to 3, patients with mutations in the same clusters and patients with two mutations in different clusters."
   ]
  },
  {
   "cell_type": "code",
   "execution_count": null,
   "metadata": {},
   "outputs": [],
   "source": [
    "def get_cluster(mutation):\n",
    "    path = mutation_path_dict[mutation]\n",
    "    idx = paths.index(path)\n",
    "    return k_medoids.labels_[idx]\n",
    "\n",
    "\n",
    "df_paths['cluster1'] = df_paths['Protein change allele 1'].apply(get_cluster)\n",
    "df_paths['cluster2'] = df_paths['Protein change allele 2'].apply(get_cluster)\n",
    "df_paths['clusters'] = list(zip(df_paths['cluster1'], df_paths['cluster2']))\n",
    "\n",
    "df_paths.drop(columns=['cluster1', 'cluster2'], inplace=True)\n",
    "df_paths['clusters'] = df_paths['clusters'].apply(lambda x: str(set(x)))"
   ]
  },
  {
   "cell_type": "code",
   "execution_count": null,
   "metadata": {},
   "outputs": [],
   "source": [
    "# count the number of mutations in each cluster\n",
    "df_paths['clusters'].value_counts()\n"
   ]
  },
  {
   "cell_type": "code",
   "execution_count": null,
   "metadata": {},
   "outputs": [],
   "source": [
    "# mean of each metric for each cluster\n",
    "mean_scores_clusters = df_paths.groupby('clusters').mean(numeric_only=True)\n"
   ]
  },
  {
   "cell_type": "code",
   "execution_count": null,
   "metadata": {},
   "outputs": [],
   "source": [
    "\n",
    "# std of each metric for each cluster\n",
    "std_score_clusters = df_paths.groupby('clusters').std(numeric_only=True)\n"
   ]
  },
  {
   "cell_type": "code",
   "execution_count": null,
   "metadata": {},
   "outputs": [],
   "source": [
    "df_paths.columns    "
   ]
  },
  {
   "cell_type": "code",
   "execution_count": null,
   "metadata": {},
   "outputs": [],
   "source": [
    "columns_to_test = ['birth', 'bmi',\n",
    "       'physical_health_score', 'mental_health_score', 'AKUSSI_jointpain',\n",
    "       'AKUSSI_spinalpain', 'KOOSpain', 'KOOSsymptoms', 'KOOSdaily_living',\n",
    "       'KOOSsport', 'KOOS_QOL', 'HAQ_hapVAS', 'HAQ_haqDI']\n",
    "\n",
    "for column in columns_to_test:\n",
    "    cluster1 = df_paths[df_paths['clusters'] == '{0, 1}'][column]\n",
    "    cluster2 = df_paths[df_paths['clusters'] == '{1}'][column]\n",
    "    print(column, ttest_ind(cluster1, cluster2))"
   ]
  },
  {
   "cell_type": "code",
   "execution_count": null,
   "metadata": {},
   "outputs": [],
   "source": [
    "for column in columns_to_test:\n",
    "    cluster1 = df_paths[df_paths['clusters'] == '{0}'][column]\n",
    "    cluster2 = df_paths[df_paths['clusters'] == '{1}'][column]\n",
    "    print(column, ttest_ind(cluster1, cluster2))"
   ]
  },
  {
   "cell_type": "code",
   "execution_count": null,
   "metadata": {},
   "outputs": [],
   "source": [
    "for column in columns_to_test:\n",
    "    cluster1 = df_paths[df_paths['clusters'] == '{0, 1}'][column]\n",
    "    cluster2 = df_paths[df_paths['clusters'] == '{0}'][column]\n",
    "    print(column, ttest_ind(cluster1, cluster2))"
   ]
  },
  {
   "cell_type": "code",
   "execution_count": null,
   "metadata": {},
   "outputs": [],
   "source": [
    "# plot values of each metric for each cluster\n",
    "import seaborn as sns\n",
    "\n",
    "fig, ax = plt.subplots(4, 4, figsize=(20, 20))\n",
    "\n",
    "for i, column in enumerate(columns_to_test):\n",
    "    sns.boxplot(x='clusters', y=column, data=df_paths, ax=ax[i//4, i%4])\n",
    "    ax[i//4, i%4].set_title(column)\n",
    "    ax[i//4, i%4].set_ylabel('')\n",
    "    ax[i//4, i%4].set_xlabel('')\n",
    "    ax[i//4, i%4].set_xlabel('Clusters')\n",
    "    ax[i//4, i%4].set_ylabel(column)\n",
    "    ax[i//4, i%4].set_title(column)\n",
    "plt.tight_layout()\n",
    "plt.show()\n",
    "    "
   ]
  },
  {
   "cell_type": "code",
   "execution_count": null,
   "metadata": {},
   "outputs": [],
   "source": [
    "# plot distribution of each metric for each cluster\n",
    "\n",
    "fig, ax = plt.subplots(4, 4, figsize=(20, 20))\n",
    "\n",
    "for i, column in enumerate(columns_to_test):\n",
    "    sns.histplot(df_paths, x=column, hue='clusters', ax=ax[i//4, i%4], kde=True)\n",
    "    ax[i//4, i%4].set_title(column)\n",
    "    ax[i//4, i%4].set_ylabel('')\n",
    "    ax[i//4, i%4].set_xlabel('')\n",
    "    ax[i//4, i%4].set_xlabel(column)\n",
    "    ax[i//4, i%4].set_title(column)\n",
    "plt.tight_layout()\n",
    "plt.show()"
   ]
  },
  {
   "cell_type": "code",
   "execution_count": null,
   "metadata": {},
   "outputs": [],
   "source": [
    "for column in columns_to_test:\n",
    "    cluster1 = df_paths[(df_paths['clusters'] == '{0, 1}') | (df_paths['clusters']=='{0}')][column]\n",
    "    cluster2 = df_paths[df_paths['clusters'] == '{1}'][column]\n",
    "    print(column, ttest_ind(cluster1, cluster2))"
   ]
  },
  {
   "cell_type": "code",
   "execution_count": null,
   "metadata": {},
   "outputs": [],
   "source": [
    "# plot values of each metric for each cluster with 2 clusters\n",
    "import seaborn as sns\n",
    "\n",
    "clusters = df_paths['clusters'].apply(lambda x: x[1:-1].split(', '))\n",
    "df_paths['cluster1'] = clusters.apply(lambda x: int(x[0]))\n",
    "\n",
    "fig, ax = plt.subplots(4, 4, figsize=(20, 20))\n",
    "\n",
    "for i, column in enumerate(columns_to_test):\n",
    "    sns.boxplot(x='cluster1', y=column, data=df_paths, ax=ax[i//4, i%4])\n",
    "    ax[i//4, i%4].set_title(column)\n",
    "    ax[i//4, i%4].set_ylabel('')\n",
    "    ax[i//4, i%4].set_xlabel('')\n",
    "    ax[i//4, i%4].set_xlabel('Clusters')\n",
    "    ax[i//4, i%4].set_ylabel(column)\n",
    "    ax[i//4, i%4].set_title(column)"
   ]
  },
  {
   "cell_type": "code",
   "execution_count": null,
   "metadata": {},
   "outputs": [],
   "source": [
    "fig, ax = plt.subplots(4, 4, figsize=(20, 20))\n",
    "\n",
    "for i, column in enumerate(columns_to_test):\n",
    "    sns.histplot(df_paths, x=column, hue='cluster1', ax=ax[i//4, i%4], kde=True)\n",
    "    ax[i//4, i%4].set_title(column)\n",
    "    ax[i//4, i%4].set_ylabel('')\n",
    "    ax[i//4, i%4].set_xlabel('')\n",
    "    ax[i//4, i%4].set_xlabel(column)\n",
    "    ax[i//4, i%4].set_title(column)"
   ]
  },
  {
   "cell_type": "code",
   "execution_count": null,
   "metadata": {},
   "outputs": [],
   "source": [
    "df = pd.read_excel('../datasets/aku_prin_v2.0.xlsx')\n",
    "\n",
    "# strip column names\n",
    "\n",
    "df.columns = df.columns.str.strip()\n",
    "df_paths.columns = df_paths.columns.str.strip()\n",
    "df_paths.columns"
   ]
  },
  {
   "cell_type": "code",
   "execution_count": null,
   "metadata": {},
   "outputs": [],
   "source": [
    "for col in df.columns:\n",
    "    # if column is in df_paths\n",
    "    if col in df_paths.columns and col !='patient':\n",
    "        # drop from df_complete\n",
    "        print(col)\n",
    "        df.drop(columns=[col], inplace=True)\n",
    "        "
   ]
  },
  {
   "cell_type": "code",
   "execution_count": null,
   "metadata": {},
   "outputs": [],
   "source": [
    "df_complete = df_paths.merge(df, on='patient', how='inner')\n",
    "# remove duplicate columns\n"
   ]
  },
  {
   "cell_type": "code",
   "execution_count": null,
   "metadata": {},
   "outputs": [],
   "source": [
    "df_complete.shape"
   ]
  },
  {
   "cell_type": "code",
   "execution_count": null,
   "metadata": {},
   "outputs": [],
   "source": [
    "df_complete.columns "
   ]
  },
  {
   "cell_type": "code",
   "execution_count": null,
   "metadata": {},
   "outputs": [],
   "source": [
    "df_complete_cl = df_complete.loc[:, df_complete.isna().mean() < 1]"
   ]
  },
  {
   "cell_type": "code",
   "execution_count": null,
   "metadata": {},
   "outputs": [],
   "source": [
    "df_complete = df_complete_cl"
   ]
  },
  {
   "cell_type": "code",
   "execution_count": null,
   "metadata": {},
   "outputs": [],
   "source": [
    "df_complete.head()"
   ]
  },
  {
   "cell_type": "code",
   "execution_count": null,
   "metadata": {},
   "outputs": [],
   "source": [
    "# statistical tests on the new columns\n",
    "from scipy.stats import ttest_ind\n",
    "for column in df_complete.columns:\n",
    "    # if column is numeric\n",
    "    if df_complete[column].dtype == 'float64':\n",
    "        cluster1 = df_complete[(df_complete['clusters'] == '{0}') | (df_complete['clusters']=='{0, 1}')][column]\n",
    "        cluster2 = df_complete[df_complete['clusters'] == '{1}'][column]\n",
    "        # print if p-value is significant\n",
    "        result = ttest_ind(cluster1, cluster2)\n",
    "        if result.pvalue < 1:\n",
    "            print(column, result)\n"
   ]
  },
  {
   "cell_type": "code",
   "execution_count": null,
   "metadata": {},
   "outputs": [],
   "source": [
    "df.head()"
   ]
  },
  {
   "cell_type": "code",
   "execution_count": null,
   "metadata": {},
   "outputs": [],
   "source": [
    "# read other sheets\n",
    "df = pd.read_excel('../datasets/aku_prin_v2.0.xlsx')\n",
    "df_plasma = pd.read_excel('../datasets/aku_prin_v2.0.xlsx', sheet_name='plasma')\n",
    "df_piscio = pd.read_excel('../datasets/aku_prin_v2.0.xlsx', sheet_name='URINE')\n"
   ]
  },
  {
   "cell_type": "code",
   "execution_count": null,
   "metadata": {},
   "outputs": [],
   "source": [
    "# strip column names\n",
    "df_plasma.columns = df_plasma.columns.str.strip()\n",
    "df_piscio.columns = df_piscio.columns.str.strip()"
   ]
  },
  {
   "cell_type": "code",
   "execution_count": null,
   "metadata": {},
   "outputs": [],
   "source": [
    "#v rename P.code to patient\n",
    "df_plasma.rename(columns={'P.code':'patient'}, inplace=True)\n",
    "df_piscio.rename(columns={'P.Code':'patient'}, inplace=True)"
   ]
  },
  {
   "cell_type": "code",
   "execution_count": null,
   "metadata": {},
   "outputs": [],
   "source": [
    "df=df.merge(df_plasma, on='patient', how='left')\n",
    "df=df.merge(df_piscio, on='patient', how='left')"
   ]
  },
  {
   "cell_type": "code",
   "execution_count": null,
   "metadata": {},
   "outputs": [],
   "source": [
    "unit_measure = 'mmoli/l'\n",
    "\n",
    "df_piscio = df_piscio[df_piscio['u.m.'] == unit_measure]\n"
   ]
  },
  {
   "cell_type": "code",
   "execution_count": null,
   "metadata": {},
   "outputs": [],
   "source": [
    "df_plasma"
   ]
  },
  {
   "cell_type": "code",
   "execution_count": null,
   "metadata": {},
   "outputs": [],
   "source": []
  }
 ],
 "metadata": {
  "kernelspec": {
   "display_name": ".venv",
   "language": "python",
   "name": "python3"
  },
  "language_info": {
   "codemirror_mode": {
    "name": "ipython",
    "version": 3
   },
   "file_extension": ".py",
   "mimetype": "text/x-python",
   "name": "python",
   "nbconvert_exporter": "python",
   "pygments_lexer": "ipython3",
   "version": "3.10.8"
  }
 },
 "nbformat": 4,
 "nbformat_minor": 2
}
