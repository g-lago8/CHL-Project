{
 "cells": [
  {
   "cell_type": "code",
   "execution_count": 42,
   "metadata": {},
   "outputs": [],
   "source": [
    "from utils import get_common_backbone_atoms, generate_df\n",
    "from Bio import PDB\n",
    "import pandas as pd\n",
    "import numpy as np\n",
    "import matplotlib.pyplot as plt"
   ]
  },
  {
   "cell_type": "code",
   "execution_count": 82,
   "metadata": {},
   "outputs": [],
   "source": [
    "\n",
    "def get_rmsd(path_og, path_m):\n",
    "    parser = PDB.PDBParser()\n",
    "    structure_og = parser.get_structure(\"original\", path_og)\n",
    "    structure_m = parser.get_structure(\"mutation\", path_m)\n",
    "    atoms_og, atoms_m = get_common_backbone_atoms(structure_og, structure_m)\n",
    "    superimposer = PDB.Superimposer()\n",
    "    superimposer.set_atoms(atoms_og, atoms_m)\n",
    "    superimposer.apply(structure_m.get_atoms())\n",
    "    \n",
    "    return superimposer.rms\n",
    "\n",
    "\n",
    "df_paths = pd.read_csv('../datasets/df_with_scores.csv')\n",
    "\n"
   ]
  },
  {
   "cell_type": "code",
   "execution_count": 83,
   "metadata": {},
   "outputs": [],
   "source": [
    "#strip df_paths columns names\n",
    "df_paths.columns = df_paths.columns.str.strip()"
   ]
  },
  {
   "cell_type": "code",
   "execution_count": 44,
   "metadata": {},
   "outputs": [
    {
     "name": "stdout",
     "output_type": "stream",
     "text": [
      "45\n"
     ]
    }
   ],
   "source": [
    "mutation_path_dict = {} \n",
    "for i, row in df_paths.iterrows():\n",
    "    mutation_path_dict[row['Protein change allele 1 ']] = row['pdb_file_allele1']\n",
    "    mutation_path_dict[row['Protein change allele 2']] = row['pdb_file_allele2']\n",
    "\n",
    "print(len(mutation_path_dict))"
   ]
  },
  {
   "cell_type": "code",
   "execution_count": 66,
   "metadata": {},
   "outputs": [
    {
     "name": "stdout",
     "output_type": "stream",
     "text": [
      "{'G161R': '../datasets/ALPHAFOLD PDBs/G161R_c8ba5/G161R_c8ba5_unrelaxed_rank_001_alphafold2_ptm_model_5_seed_000.pdb', 'His371Profs': '../datasets/ALPHAFOLD PDBs/H371fs_9b3dd/H371fs_9b3dd_unrelaxed_rank_001_alphafold2_ptm_model_3_seed_000.pdb', 'M368V': '../datasets/ALPHAFOLD PDBs/M368V_be390/M368V_be390_unrelaxed_rank_001_alphafold2_ptm_model_3_seed_000.pdb', 'S47L': '../datasets/ALPHAFOLD PDBs/S47L_9a618/S47L_9a618_unrelaxed_rank_001_alphafold2_ptm_model_5_seed_000.pdb', 'W97C': '../datasets/ALPHAFOLD PDBs/W97C_b9ccb/W97C_b9ccb_unrelaxed_rank_001_alphafold2_ptm_model_5_seed_000.pdb', 'S59fs': '../datasets/ALPHAFOLD PDBs/S59fs_cd7b7/S59fs_cd7b7_unrelaxed_rank_001_alphafold2_ptm_model_4_seed_000.pdb', 'D18N': '../datasets/ALPHAFOLD PDBs/D18N_1fe41/D18N_1fe41_unrelaxed_rank_001_alphafold2_ptm_model_5_seed_000.pdb', 'M339fs': '../datasets/ALPHAFOLD PDBs/M339fs_aa0f3/M339fs_aa0f3_unrelaxed_rank_001_alphafold2_ptm_model_4_seed_000.pdb', 'R225P': '../datasets/ALPHAFOLD PDBs/R225P_9ee52/R225P_9ee52_unrelaxed_rank_001_alphafold2_ptm_model_5_seed_000.pdb', 'I216T': '../datasets/ALPHAFOLD PDBs/I216T_85a22/I216T_85a22_unrelaxed_rank_001_alphafold2_ptm_model_5_seed_000.pdb', 'G372_P373delinsA': '../datasets/ALPHAFOLD PDBs/G372_P373delinsA_8a71b/G372_P373delinsA_8a71b_unrelaxed_rank_001_alphafold2_ptm_model_5_seed_000.pdb', 'R53Q': '../datasets/ALPHAFOLD PDBs/R53Q_8ee59/R53Q_8ee59_unrelaxed_rank_001_alphafold2_ptm_model_5_seed_000.pdb', 'A267V': '../datasets/ALPHAFOLD PDBs/A267V_1c2c3/A267V_1c2c3_unrelaxed_rank_001_alphafold2_ptm_model_5_seed_000.pdb', 'R321*': '../datasets/ALPHAFOLD PDBs/R321__3bcf4/R321__3bcf4_unrelaxed_rank_001_alphafold2_ptm_model_3_seed_000.pdb', 'D153G': '../datasets/ALPHAFOLD PDBs/D153G_f3577_0/D153G_f3577_0_unrelaxed_rank_001_alphafold2_ptm_model_5_seed_000.pdb', 'D153fs': '../datasets/ALPHAFOLD PDBs/D153fs_315fd/D153fs_315fd_unrelaxed_rank_001_alphafold2_ptm_model_5_seed_000.pdb', 'H371fs': '../datasets/ALPHAFOLD PDBs/H371fs_9b3dd/H371fs_9b3dd_unrelaxed_rank_001_alphafold2_ptm_model_3_seed_000.pdb', 'G270R': '../datasets/ALPHAFOLD PDBs/G270R_3f501/G270R_3f501_unrelaxed_rank_001_alphafold2_ptm_model_5_seed_000.pdb', 'G362E': '../datasets/ALPHAFOLD PDBs/G362E_89990_0/G362E_89990_0_unrelaxed_rank_001_alphafold2_ptm_model_5_seed_000.pdb', 'V300G': '../datasets/ALPHAFOLD PDBs/V300G_f0e19/V300G_f0e19_unrelaxed_rank_001_alphafold2_ptm_model_5_seed_000.pdb', 'A122V': '../datasets/ALPHAFOLD PDBs/A122V_41d52/A122V_41d52_unrelaxed_rank_001_alphafold2_ptm_model_5_seed_000.pdb', 'G152R': '../datasets/ALPHAFOLD PDBs/G152R_d7f73/G152R_d7f73_unrelaxed_rank_001_alphafold2_ptm_model_5_seed_000.pdb', 'Q29fs': '../datasets/ALPHAFOLD PDBs/Q29fs_f0607/Q29fs_f0607_unrelaxed_rank_001_alphafold2_ptm_model_1_seed_000.pdb', 'E401Q': '../datasets/ALPHAFOLD PDBs/E401Q_0f21c/E401Q_0f21c_unrelaxed_rank_001_alphafold2_ptm_model_5_seed_000.pdb', 'A218fs': '../datasets/ALPHAFOLD PDBs/A218fs_8b909/A218fs_8b909_unrelaxed_rank_001_alphafold2_ptm_model_4_seed_000.pdb', 'I346T': '../datasets/ALPHAFOLD PDBs/I346T_e431b/I346T_e431b_unrelaxed_rank_001_alphafold2_ptm_model_5_seed_000.pdb', 'G123A': '../datasets/ALPHAFOLD PDBs/G123A_a58f9/G123A_a58f9_unrelaxed_rank_001_alphafold2_ptm_model_5_seed_000.pdb', 'W60*': '../datasets/ALPHAFOLD PDBs/W60__b58bd/W60__b58bd_unrelaxed_rank_001_alphafold2_ptm_model_2_seed_000.pdb', 'G205V': '../datasets/ALPHAFOLD PDBs/G205V_94e28/G205V_94e28_unrelaxed_rank_001_alphafold2_ptm_model_5_seed_000.pdb', 'P230S': '../datasets/ALPHAFOLD PDBs/P230S_fba2c/P230S_fba2c_unrelaxed_rank_001_alphafold2_ptm_model_5_seed_000.pdb', 'E178G': '../datasets/ALPHAFOLD PDBs/E178G_aeca3/E178G_aeca3_unrelaxed_rank_001_alphafold2_ptm_model_5_seed_000.pdb', 'L116P': '../datasets/ALPHAFOLD PDBs/L116P_12c5f/L116P_12c5f_unrelaxed_rank_001_alphafold2_ptm_model_5_seed_000.pdb', 'G360A': '../datasets/ALPHAFOLD PDBs/G360A_4d8ad/G360A_4d8ad_unrelaxed_rank_001_alphafold2_ptm_model_5_seed_000.pdb', 'S150L': '../datasets/ALPHAFOLD PDBs/S150L_b9ee5/S150L_b9ee5_unrelaxed_rank_001_alphafold2_ptm_model_5_seed_000.pdb', 'C120F': '../datasets/ALPHAFOLD PDBs/C120F_3f78a/C120F_3f78a_unrelaxed_rank_001_alphafold2_ptm_model_5_seed_000.pdb', 'F73L': '../datasets/ALPHAFOLD PDBs/F73L_86356/F73L_86356_unrelaxed_rank_001_alphafold2_ptm_model_5_seed_000.pdb', 'G360R': '../datasets/ALPHAFOLD PDBs/G360R_057f7/G360R_057f7_unrelaxed_rank_001_alphafold2_ptm_model_5_seed_000.pdb', 'F227S': '../datasets/ALPHAFOLD PDBs/F227S_cb1d8_0/F227S_cb1d8_0_unrelaxed_rank_001_alphafold2_ptm_model_5_seed_000.pdb', 'T167I': '../datasets/ALPHAFOLD PDBs/T167I_6e959/T167I_6e959_unrelaxed_rank_001_alphafold2_ptm_model_5_seed_000.pdb', 'W97G': '../datasets/ALPHAFOLD PDBs/W97G_38d4c/W97G_38d4c_unrelaxed_rank_001_alphafold2_ptm_model_5_seed_000.pdb', 'G361R': '../datasets/ALPHAFOLD PDBs/G361R_7f213/G361R_7f213_unrelaxed_rank_001_alphafold2_ptm_model_5_seed_000.pdb', 'P332R': '../datasets/ALPHAFOLD PDBs/P332R_e6340/P332R_e6340_unrelaxed_rank_001_alphafold2_ptm_model_5_seed_000.pdb', 'G185R': '../datasets/ALPHAFOLD PDBs/G185R_e6971/G185R_e6971_unrelaxed_rank_001_alphafold2_ptm_model_5_seed_000.pdb', 'G170A': '../datasets/ALPHAFOLD PDBs/G170A_064f1/G170A_064f1_unrelaxed_rank_001_alphafold2_ptm_model_5_seed_000.pdb', 'E168K': '../datasets/ALPHAFOLD PDBs/E168K_b43e7/E168K_b43e7_unrelaxed_rank_001_alphafold2_ptm_model_5_seed_000.pdb'}\n"
     ]
    }
   ],
   "source": [
    "print(mutation_path_dict)\n",
    "path_mutation_dict = {v:k for k,v in mutation_path_dict.items()}"
   ]
  },
  {
   "cell_type": "code",
   "execution_count": 46,
   "metadata": {},
   "outputs": [],
   "source": [
    "paths = list(mutation_path_dict.values())"
   ]
  },
  {
   "cell_type": "code",
   "execution_count": 48,
   "metadata": {},
   "outputs": [],
   "source": [
    "# create a df with the pairs path, path \n",
    "\n",
    "from itertools import product\n",
    "\n",
    "pairs = product(paths, paths)"
   ]
  },
  {
   "cell_type": "code",
   "execution_count": 49,
   "metadata": {},
   "outputs": [],
   "source": [
    "from tqdm import tqdm\n",
    "\n",
    "def generate_matriciona(paths):\n",
    "    with tqdm(total=len(paths)*len(paths)) as pbar:\n",
    "        M = np.zeros((len(paths), len(paths)))\n",
    "        for i, path1 in enumerate(paths):\n",
    "            for j, path2 in enumerate(paths):\n",
    "                M[i, j] = get_rmsd(path1, path2)\n",
    "                pbar.update(1)\n",
    "\n",
    "    return M     "
   ]
  },
  {
   "cell_type": "code",
   "execution_count": 50,
   "metadata": {},
   "outputs": [
    {
     "name": "stdout",
     "output_type": "stream",
     "text": [
      "generating matrix\n"
     ]
    },
    {
     "name": "stderr",
     "output_type": "stream",
     "text": [
      "  0%|          | 0/2025 [00:00<?, ?it/s]"
     ]
    },
    {
     "name": "stderr",
     "output_type": "stream",
     "text": [
      "100%|██████████| 2025/2025 [07:58<00:00,  4.23it/s]"
     ]
    },
    {
     "name": "stdout",
     "output_type": "stream",
     "text": [
      "1.2125156711366528e-13\n",
      "0.0\n",
      "8.695213989390914e-14\n",
      "0.0\n"
     ]
    },
    {
     "name": "stderr",
     "output_type": "stream",
     "text": [
      "\n"
     ]
    }
   ],
   "source": [
    "try:\n",
    "    matriciona = np.load('../datasets/matriciona.npy')\n",
    "except:\n",
    "    print('generating matrix')\n",
    "    matriciona = generate_matriciona(paths) \n",
    "    # the matriciona is symmetric, but due to numerical errors it is not exactly symmetric, we can fix this by averaging the matrix with its transpose\n",
    "    print(np.linalg.norm(matriciona- matriciona.T))\n",
    "    np.linalg.norm(matriciona- matriciona.T)\n",
    "    matriciona = (matriciona + matriciona.T) /2\n",
    "    print(np.linalg.norm(matriciona- matriciona.T))\n",
    "    # also the diagonal is not zero, but it should be\n",
    "\n",
    "    print(np.linalg.norm(np.diag(matriciona)))\n",
    "    np.fill_diagonal(matriciona, 0)\n",
    "    print(np.linalg.norm(np.diag(matriciona)))\n",
    "    np.save('../datasets/matriciona.npy', matriciona)"
   ]
  },
  {
   "cell_type": "code",
   "execution_count": 51,
   "metadata": {},
   "outputs": [
    {
     "data": {
      "text/plain": [
       "<matplotlib.image.AxesImage at 0x24c847e3610>"
      ]
     },
     "execution_count": 51,
     "metadata": {},
     "output_type": "execute_result"
    },
    {
     "data": {
      "image/png": "[encoded data removed]",
      "text/plain": [
       "<Figure size 640x480 with 1 Axes>"
      ]
     },
     "metadata": {},
     "output_type": "display_data"
    }
   ],
   "source": [
    "plt.imshow(matriciona)"
   ]
  },
  {
   "cell_type": "code",
   "execution_count": 52,
   "metadata": {},
   "outputs": [],
   "source": [
    "from sklearn_extra.cluster import KMedoids\n",
    "\n"
   ]
  },
  {
   "cell_type": "code",
   "execution_count": 53,
   "metadata": {},
   "outputs": [],
   "source": [
    "k_medoids = KMedoids(n_clusters=2, random_state=0, metric = 'precomputed').fit(matriciona) \n"
   ]
  },
  {
   "cell_type": "code",
   "execution_count": 54,
   "metadata": {},
   "outputs": [
    {
     "data": {
      "text/plain": [
       "array([1, 0, 0, 0, 1, 1, 1, 0, 0, 1, 0, 1, 1, 0, 0, 1, 0, 1, 0, 1, 0, 0,\n",
       "       1, 1, 0, 0, 1, 0, 0, 1, 1, 1, 1, 1, 1, 1, 1, 1, 1, 1, 1, 1, 1, 1,\n",
       "       0], dtype=int64)"
      ]
     },
     "execution_count": 54,
     "metadata": {},
     "output_type": "execute_result"
    }
   ],
   "source": [
    "k_medoids.labels_"
   ]
  },
  {
   "cell_type": "code",
   "execution_count": 55,
   "metadata": {},
   "outputs": [
    {
     "name": "stdout",
     "output_type": "stream",
     "text": [
      "80.28172216401242\n",
      "75.69339230670637\n",
      "74.864492771449\n",
      "74.28076438958455\n",
      "73.71122957008996\n",
      "73.54766906347629\n",
      "73.83841404943479\n",
      "73.62346855941338\n",
      "73.45844259060256\n",
      "73.31839671721308\n"
     ]
    }
   ],
   "source": [
    "sse = []\n",
    "for k in range(10):\n",
    "    k_medoids = KMedoids(n_clusters=k+1, random_state=0, metric = 'precomputed').fit(matriciona) \n",
    "    sse.append(k_medoids.inertia_)\n",
    "    print(k_medoids.inertia_)\n",
    "    "
   ]
  },
  {
   "cell_type": "code",
   "execution_count": 56,
   "metadata": {},
   "outputs": [
    {
     "data": {
      "text/plain": [
       "Text(0.5, 1.0, 'SSE vs Number of Clusters')"
      ]
     },
     "execution_count": 56,
     "metadata": {},
     "output_type": "execute_result"
    },
    {
     "data": {
      "image/png": "[encoded data removed]",
      "text/plain": [
       "<Figure size 640x480 with 1 Axes>"
      ]
     },
     "metadata": {},
     "output_type": "display_data"
    }
   ],
   "source": [
    "plt.plot( range(1,11), sse)\n",
    "# set x ticks to be integers\n",
    "plt.xticks(np.arange(1, 11, step=1))\n",
    "plt.xlabel(\"Number of Clusters\")\n",
    "plt.ylabel(\"SSE\")\n",
    "plt.title(\"SSE vs Number of Clusters\")\n"
   ]
  },
  {
   "cell_type": "code",
   "execution_count": 58,
   "metadata": {},
   "outputs": [],
   "source": [
    "# refit with k=2\n",
    "\n",
    "k_medoids = KMedoids(n_clusters=2, random_state=0, metric = 'precomputed').fit(matriciona)"
   ]
  },
  {
   "cell_type": "markdown",
   "metadata": {},
   "source": [
    "### Now we aggregate the scores by mutation, and see if there is any difference between mutations in the clusters"
   ]
  },
  {
   "cell_type": "code",
   "execution_count": 69,
   "metadata": {},
   "outputs": [
    {
     "data": {
      "text/plain": [
       "{'../datasets/ALPHAFOLD PDBs/G161R_c8ba5/G161R_c8ba5_unrelaxed_rank_001_alphafold2_ptm_model_5_seed_000.pdb': 'G161R',\n",
       " '../datasets/ALPHAFOLD PDBs/H371fs_9b3dd/H371fs_9b3dd_unrelaxed_rank_001_alphafold2_ptm_model_3_seed_000.pdb': 'H371fs',\n",
       " '../datasets/ALPHAFOLD PDBs/M368V_be390/M368V_be390_unrelaxed_rank_001_alphafold2_ptm_model_3_seed_000.pdb': 'M368V',\n",
       " '../datasets/ALPHAFOLD PDBs/S47L_9a618/S47L_9a618_unrelaxed_rank_001_alphafold2_ptm_model_5_seed_000.pdb': 'S47L',\n",
       " '../datasets/ALPHAFOLD PDBs/W97C_b9ccb/W97C_b9ccb_unrelaxed_rank_001_alphafold2_ptm_model_5_seed_000.pdb': 'W97C',\n",
       " '../datasets/ALPHAFOLD PDBs/S59fs_cd7b7/S59fs_cd7b7_unrelaxed_rank_001_alphafold2_ptm_model_4_seed_000.pdb': 'S59fs',\n",
       " '../datasets/ALPHAFOLD PDBs/D18N_1fe41/D18N_1fe41_unrelaxed_rank_001_alphafold2_ptm_model_5_seed_000.pdb': 'D18N',\n",
       " '../datasets/ALPHAFOLD PDBs/M339fs_aa0f3/M339fs_aa0f3_unrelaxed_rank_001_alphafold2_ptm_model_4_seed_000.pdb': 'M339fs',\n",
       " '../datasets/ALPHAFOLD PDBs/R225P_9ee52/R225P_9ee52_unrelaxed_rank_001_alphafold2_ptm_model_5_seed_000.pdb': 'R225P',\n",
       " '../datasets/ALPHAFOLD PDBs/I216T_85a22/I216T_85a22_unrelaxed_rank_001_alphafold2_ptm_model_5_seed_000.pdb': 'I216T',\n",
       " '../datasets/ALPHAFOLD PDBs/G372_P373delinsA_8a71b/G372_P373delinsA_8a71b_unrelaxed_rank_001_alphafold2_ptm_model_5_seed_000.pdb': 'G372_P373delinsA',\n",
       " '../datasets/ALPHAFOLD PDBs/R53Q_8ee59/R53Q_8ee59_unrelaxed_rank_001_alphafold2_ptm_model_5_seed_000.pdb': 'R53Q',\n",
       " '../datasets/ALPHAFOLD PDBs/A267V_1c2c3/A267V_1c2c3_unrelaxed_rank_001_alphafold2_ptm_model_5_seed_000.pdb': 'A267V',\n",
       " '../datasets/ALPHAFOLD PDBs/R321__3bcf4/R321__3bcf4_unrelaxed_rank_001_alphafold2_ptm_model_3_seed_000.pdb': 'R321*',\n",
       " '../datasets/ALPHAFOLD PDBs/D153G_f3577_0/D153G_f3577_0_unrelaxed_rank_001_alphafold2_ptm_model_5_seed_000.pdb': 'D153G',\n",
       " '../datasets/ALPHAFOLD PDBs/D153fs_315fd/D153fs_315fd_unrelaxed_rank_001_alphafold2_ptm_model_5_seed_000.pdb': 'D153fs',\n",
       " '../datasets/ALPHAFOLD PDBs/G270R_3f501/G270R_3f501_unrelaxed_rank_001_alphafold2_ptm_model_5_seed_000.pdb': 'G270R',\n",
       " '../datasets/ALPHAFOLD PDBs/G362E_89990_0/G362E_89990_0_unrelaxed_rank_001_alphafold2_ptm_model_5_seed_000.pdb': 'G362E',\n",
       " '../datasets/ALPHAFOLD PDBs/V300G_f0e19/V300G_f0e19_unrelaxed_rank_001_alphafold2_ptm_model_5_seed_000.pdb': 'V300G',\n",
       " '../datasets/ALPHAFOLD PDBs/A122V_41d52/A122V_41d52_unrelaxed_rank_001_alphafold2_ptm_model_5_seed_000.pdb': 'A122V',\n",
       " '../datasets/ALPHAFOLD PDBs/G152R_d7f73/G152R_d7f73_unrelaxed_rank_001_alphafold2_ptm_model_5_seed_000.pdb': 'G152R',\n",
       " '../datasets/ALPHAFOLD PDBs/Q29fs_f0607/Q29fs_f0607_unrelaxed_rank_001_alphafold2_ptm_model_1_seed_000.pdb': 'Q29fs',\n",
       " '../datasets/ALPHAFOLD PDBs/E401Q_0f21c/E401Q_0f21c_unrelaxed_rank_001_alphafold2_ptm_model_5_seed_000.pdb': 'E401Q',\n",
       " '../datasets/ALPHAFOLD PDBs/A218fs_8b909/A218fs_8b909_unrelaxed_rank_001_alphafold2_ptm_model_4_seed_000.pdb': 'A218fs',\n",
       " '../datasets/ALPHAFOLD PDBs/I346T_e431b/I346T_e431b_unrelaxed_rank_001_alphafold2_ptm_model_5_seed_000.pdb': 'I346T',\n",
       " '../datasets/ALPHAFOLD PDBs/G123A_a58f9/G123A_a58f9_unrelaxed_rank_001_alphafold2_ptm_model_5_seed_000.pdb': 'G123A',\n",
       " '../datasets/ALPHAFOLD PDBs/W60__b58bd/W60__b58bd_unrelaxed_rank_001_alphafold2_ptm_model_2_seed_000.pdb': 'W60*',\n",
       " '../datasets/ALPHAFOLD PDBs/G205V_94e28/G205V_94e28_unrelaxed_rank_001_alphafold2_ptm_model_5_seed_000.pdb': 'G205V',\n",
       " '../datasets/ALPHAFOLD PDBs/P230S_fba2c/P230S_fba2c_unrelaxed_rank_001_alphafold2_ptm_model_5_seed_000.pdb': 'P230S',\n",
       " '../datasets/ALPHAFOLD PDBs/E178G_aeca3/E178G_aeca3_unrelaxed_rank_001_alphafold2_ptm_model_5_seed_000.pdb': 'E178G',\n",
       " '../datasets/ALPHAFOLD PDBs/L116P_12c5f/L116P_12c5f_unrelaxed_rank_001_alphafold2_ptm_model_5_seed_000.pdb': 'L116P',\n",
       " '../datasets/ALPHAFOLD PDBs/G360A_4d8ad/G360A_4d8ad_unrelaxed_rank_001_alphafold2_ptm_model_5_seed_000.pdb': 'G360A',\n",
       " '../datasets/ALPHAFOLD PDBs/S150L_b9ee5/S150L_b9ee5_unrelaxed_rank_001_alphafold2_ptm_model_5_seed_000.pdb': 'S150L',\n",
       " '../datasets/ALPHAFOLD PDBs/C120F_3f78a/C120F_3f78a_unrelaxed_rank_001_alphafold2_ptm_model_5_seed_000.pdb': 'C120F',\n",
       " '../datasets/ALPHAFOLD PDBs/F73L_86356/F73L_86356_unrelaxed_rank_001_alphafold2_ptm_model_5_seed_000.pdb': 'F73L',\n",
       " '../datasets/ALPHAFOLD PDBs/G360R_057f7/G360R_057f7_unrelaxed_rank_001_alphafold2_ptm_model_5_seed_000.pdb': 'G360R',\n",
       " '../datasets/ALPHAFOLD PDBs/F227S_cb1d8_0/F227S_cb1d8_0_unrelaxed_rank_001_alphafold2_ptm_model_5_seed_000.pdb': 'F227S',\n",
       " '../datasets/ALPHAFOLD PDBs/T167I_6e959/T167I_6e959_unrelaxed_rank_001_alphafold2_ptm_model_5_seed_000.pdb': 'T167I',\n",
       " '../datasets/ALPHAFOLD PDBs/W97G_38d4c/W97G_38d4c_unrelaxed_rank_001_alphafold2_ptm_model_5_seed_000.pdb': 'W97G',\n",
       " '../datasets/ALPHAFOLD PDBs/G361R_7f213/G361R_7f213_unrelaxed_rank_001_alphafold2_ptm_model_5_seed_000.pdb': 'G361R',\n",
       " '../datasets/ALPHAFOLD PDBs/P332R_e6340/P332R_e6340_unrelaxed_rank_001_alphafold2_ptm_model_5_seed_000.pdb': 'P332R',\n",
       " '../datasets/ALPHAFOLD PDBs/G185R_e6971/G185R_e6971_unrelaxed_rank_001_alphafold2_ptm_model_5_seed_000.pdb': 'G185R',\n",
       " '../datasets/ALPHAFOLD PDBs/G170A_064f1/G170A_064f1_unrelaxed_rank_001_alphafold2_ptm_model_5_seed_000.pdb': 'G170A',\n",
       " '../datasets/ALPHAFOLD PDBs/E168K_b43e7/E168K_b43e7_unrelaxed_rank_001_alphafold2_ptm_model_5_seed_000.pdb': 'E168K'}"
      ]
     },
     "execution_count": 69,
     "metadata": {},
     "output_type": "execute_result"
    }
   ],
   "source": [
    "path_mutation_dict"
   ]
  },
  {
   "cell_type": "code",
   "execution_count": 113,
   "metadata": {},
   "outputs": [],
   "source": [
    "def get_cluster(mutation):\n",
    "    path = mutation_path_dict[mutation]\n",
    "    idx = paths.index(path)\n",
    "    return k_medoids.labels_[idx]\n",
    "\n",
    "\n",
    "df_paths['cluster1'] = df_paths['Protein change allele 1'].apply(get_cluster)\n",
    "df_paths['cluster2'] = df_paths['Protein change allele 2'].apply(get_cluster)\n",
    "df_paths['clusters'] = list(zip(df_paths['cluster1'], df_paths['cluster2']))\n",
    "\n",
    "df_paths.drop(columns=['cluster1', 'cluster2'], inplace=True)\n",
    "df_paths['clusters'] = df_paths['clusters'].apply(lambda x: str(set(x)))"
   ]
  },
  {
   "cell_type": "code",
   "execution_count": 119,
   "metadata": {},
   "outputs": [],
   "source": [
    "# mean of each metric for each cluster\n",
    "mean_scores_clusters = df_paths.groupby('clusters').mean(numeric_only=True)\n"
   ]
  },
  {
   "cell_type": "code",
   "execution_count": 120,
   "metadata": {},
   "outputs": [],
   "source": [
    "\n",
    "# std of each metric for each cluster\n",
    "std_score_clusters = df_paths.groupby('clusters').std(numeric_only=True)\n"
   ]
  },
  {
   "cell_type": "code",
   "execution_count": 124,
   "metadata": {},
   "outputs": [
    {
     "data": {
      "text/plain": [
       "Index(['Protein change allele 1', 'Protein change allele 2',\n",
       "       'structure_allele1', 'structure_allele2', 'pdb_file_allele1',\n",
       "       'pdb_file_allele2', 'patient', 'sex', 'birth', 'bmi',\n",
       "       'physical_health_score', 'mental_health_score', 'AKUSSI_jointpain',\n",
       "       'AKUSSI_spinalpain', 'KOOSpain', 'KOOSsymptoms', 'KOOSdaily_living',\n",
       "       'KOOSsport', 'KOOS_QOL', 'HAQ_hapVAS', 'HAQ_haqDI', 'RMSD_A1',\n",
       "       'RMSD_all_A1', 'Alignment_A1', 'RMSD_A2', 'RMSD_all_A2', 'Alignment_A2',\n",
       "       'clusters'],\n",
       "      dtype='object')"
      ]
     },
     "execution_count": 124,
     "metadata": {},
     "output_type": "execute_result"
    }
   ],
   "source": [
    "df_paths.columns    "
   ]
  },
  {
   "cell_type": "code",
   "execution_count": 129,
   "metadata": {},
   "outputs": [
    {
     "data": {
      "text/plain": [
       "TtestResult(statistic=-1.4751218178681227, pvalue=0.1442050488759218, df=78.0)"
      ]
     },
     "execution_count": 129,
     "metadata": {},
     "output_type": "execute_result"
    }
   ],
   "source": [
    "# perform a statistical test to see if the means are significantly different\n",
    "\n",
    "from scipy.stats import ttest_ind\n",
    "\n",
    "column_to_test = 'physical_health_score'\n",
    "\n",
    "cluster1 = df_paths[df_paths['clusters'] == '{0, 1}'][column_to_test]\n",
    "cluster2 = df_paths[df_paths['clusters'] == '{1}'][column_to_test]\n",
    "\n",
    "ttest_ind(cluster1, cluster2)\n"
   ]
  },
  {
   "cell_type": "code",
   "execution_count": 130,
   "metadata": {},
   "outputs": [
    {
     "name": "stdout",
     "output_type": "stream",
     "text": [
      "birth TtestResult(statistic=-2.375209509999903, pvalue=0.019995030517992594, df=78.0)\n",
      "bmi TtestResult(statistic=-2.1219600071092666, pvalue=0.037015354621593485, df=78.0)\n",
      "physical_health_score TtestResult(statistic=-1.4751218178681227, pvalue=0.1442050488759218, df=78.0)\n",
      "mental_health_score TtestResult(statistic=0.24688464432338972, pvalue=0.8056461355362552, df=78.0)\n",
      "AKUSSI_jointpain TtestResult(statistic=0.9412139412450494, pvalue=0.3495011467015233, df=78.0)\n",
      "AKUSSI_spinalpain TtestResult(statistic=0.39871989680692616, pvalue=0.6911890465493584, df=78.0)\n",
      "KOOSpain TtestResult(statistic=-1.1416332775904727, pvalue=0.25709919324776187, df=78.0)\n",
      "KOOSsymptoms TtestResult(statistic=-0.5424779265276606, pvalue=0.5890359450282012, df=78.0)\n",
      "KOOSdaily_living TtestResult(statistic=-1.3631657277909557, pvalue=0.17675238089131803, df=78.0)\n",
      "KOOSsport TtestResult(statistic=-1.3531755513123196, pvalue=0.17990850840692296, df=78.0)\n",
      "KOOS_QOL TtestResult(statistic=-1.444542841122688, pvalue=0.15259155898919088, df=78.0)\n",
      "HAQ_hapVAS TtestResult(statistic=1.262605432261966, pvalue=0.21049278031519444, df=78.0)\n",
      "HAQ_haqDI TtestResult(statistic=0.6964909391057748, pvalue=0.488191851518597, df=78.0)\n"
     ]
    }
   ],
   "source": [
    "columns_to_test = ['birth', 'bmi',\n",
    "       'physical_health_score', 'mental_health_score', 'AKUSSI_jointpain',\n",
    "       'AKUSSI_spinalpain', 'KOOSpain', 'KOOSsymptoms', 'KOOSdaily_living',\n",
    "       'KOOSsport', 'KOOS_QOL', 'HAQ_hapVAS', 'HAQ_haqDI']\n",
    "\n",
    "for column in columns_to_test:\n",
    "    cluster1 = df_paths[df_paths['clusters'] == '{0, 1}'][column]\n",
    "    cluster2 = df_paths[df_paths['clusters'] == '{1}'][column]\n",
    "    print(column, ttest_ind(cluster1, cluster2))"
   ]
  },
  {
   "cell_type": "code",
   "execution_count": 131,
   "metadata": {},
   "outputs": [
    {
     "name": "stdout",
     "output_type": "stream",
     "text": [
      "birth TtestResult(statistic=0.6162327263997012, pvalue=0.5395125636422967, df=79.0)\n",
      "bmi TtestResult(statistic=-0.10201224380952015, pvalue=0.9190054433832485, df=79.0)\n",
      "physical_health_score TtestResult(statistic=-0.6636295079210025, pvalue=0.5088595225325186, df=79.0)\n",
      "mental_health_score TtestResult(statistic=1.9269195584635521, pvalue=0.05758527932293815, df=79.0)\n",
      "AKUSSI_jointpain TtestResult(statistic=-0.9481791585131741, pvalue=0.34592976314030466, df=79.0)\n",
      "AKUSSI_spinalpain TtestResult(statistic=-0.048559647004189584, pvalue=0.9613927864735733, df=79.0)\n",
      "KOOSpain TtestResult(statistic=0.490149405713294, pvalue=0.6253867058312835, df=79.0)\n",
      "KOOSsymptoms TtestResult(statistic=1.3923374163810471, pvalue=0.16772714178886977, df=79.0)\n",
      "KOOSdaily_living TtestResult(statistic=0.24363578965513993, pvalue=0.808144472849384, df=79.0)\n",
      "KOOSsport TtestResult(statistic=0.458259572161476, pvalue=0.6480240778787245, df=79.0)\n",
      "KOOS_QOL TtestResult(statistic=1.2111939248526606, pvalue=0.2294318441576671, df=79.0)\n",
      "HAQ_hapVAS TtestResult(statistic=-0.3643302734330641, pvalue=0.7165847683944916, df=79.0)\n",
      "HAQ_haqDI TtestResult(statistic=-0.5124580412033283, pvalue=0.6097603145160746, df=79.0)\n"
     ]
    }
   ],
   "source": [
    "for column in columns_to_test:\n",
    "    cluster1 = df_paths[df_paths['clusters'] == '{0}'][column]\n",
    "    cluster2 = df_paths[df_paths['clusters'] == '{1}'][column]\n",
    "    print(column, ttest_ind(cluster1, cluster2))"
   ]
  },
  {
   "cell_type": "code",
   "execution_count": 132,
   "metadata": {},
   "outputs": [
    {
     "name": "stdout",
     "output_type": "stream",
     "text": [
      "birth TtestResult(statistic=-3.228121961751598, pvalue=0.002387224767621413, df=43.0)\n",
      "bmi TtestResult(statistic=-1.9195923451447272, pvalue=0.06156028944283499, df=43.0)\n",
      "physical_health_score TtestResult(statistic=-0.7906676384313891, pvalue=0.4334772754549864, df=43.0)\n",
      "mental_health_score TtestResult(statistic=-1.3830901994417186, pvalue=0.1737771843671314, df=43.0)\n",
      "AKUSSI_jointpain TtestResult(statistic=1.526831462586848, pvalue=0.13412577822686056, df=43.0)\n",
      "AKUSSI_spinalpain TtestResult(statistic=0.39595864094657185, pvalue=0.6940934773854813, df=43.0)\n",
      "KOOSpain TtestResult(statistic=-1.529407578243499, pvalue=0.13348734459019712, df=43.0)\n",
      "KOOSsymptoms TtestResult(statistic=-1.6884654945859787, pvalue=0.0985625523159771, df=43.0)\n",
      "KOOSdaily_living TtestResult(statistic=-1.5402288565480329, pvalue=0.13083207576300837, df=43.0)\n",
      "KOOSsport TtestResult(statistic=-1.6444446494310032, pvalue=0.10737676893398457, df=43.0)\n",
      "KOOS_QOL TtestResult(statistic=-2.626779622110217, pvalue=0.011896541789577397, df=43.0)\n",
      "HAQ_hapVAS TtestResult(statistic=1.375488144908073, pvalue=0.17610374772330356, df=43.0)\n",
      "HAQ_haqDI TtestResult(statistic=1.2674659739895706, pvalue=0.21180981178553862, df=43.0)\n"
     ]
    }
   ],
   "source": [
    "for column in columns_to_test:\n",
    "    cluster1 = df_paths[df_paths['clusters'] == '{0, 1}'][column]\n",
    "    cluster2 = df_paths[df_paths['clusters'] == '{0}'][column]\n",
    "    print(column, ttest_ind(cluster1, cluster2))"
   ]
  },
  {
   "cell_type": "code",
   "execution_count": null,
   "metadata": {},
   "outputs": [],
   "source": []
  }
 ],
 "metadata": {
  "kernelspec": {
   "display_name": ".venv",
   "language": "python",
   "name": "python3"
  },
  "language_info": {
   "codemirror_mode": {
    "name": "ipython",
    "version": 3
   },
   "file_extension": ".py",
   "mimetype": "text/x-python",
   "name": "python",
   "nbconvert_exporter": "python",
   "pygments_lexer": "ipython3",
   "version": "3.10.8"
  }
 },
 "nbformat": 4,
 "nbformat_minor": 2
}
