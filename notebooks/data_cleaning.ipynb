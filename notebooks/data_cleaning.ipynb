{
 "cells": [
  {
   "cell_type": "code",
   "execution_count": 1,
   "metadata": {},
   "outputs": [
    {
     "data": {
      "text/html": [
       "<pre style=\"white-space:pre;overflow-x:auto;line-height:normal;font-family:Menlo,'DejaVu Sans Mono',consolas,'Courier New',monospace\"><span style=\"color: #7fbfbf; text-decoration-color: #7fbfbf\">[05/05/24 18:25:10] </span><span style=\"color: #800000; text-decoration-color: #800000\">WARNING </span> To use the Graphein submodule                                         <a href=\"file:///Users/irene/VSCodeProjects/CHL-Project/.venv/lib/python3.11/site-packages/graphein/protein/features/sequence/embeddings.py\" target=\"_blank\"><span style=\"color: #7f7f7f; text-decoration-color: #7f7f7f\">embeddings.py</span></a><span style=\"color: #7f7f7f; text-decoration-color: #7f7f7f\">:</span><a href=\"file:///Users/irene/VSCodeProjects/CHL-Project/.venv/lib/python3.11/site-packages/graphein/protein/features/sequence/embeddings.py#45\" target=\"_blank\"><span style=\"color: #7f7f7f; text-decoration-color: #7f7f7f\">45</span></a>\n",
       "<span style=\"color: #7fbfbf; text-decoration-color: #7fbfbf\">                    </span>         graphein.protein.features.sequence.embeddings, you need to install:   <span style=\"color: #7f7f7f; text-decoration-color: #7f7f7f\">                </span>\n",
       "<span style=\"color: #7fbfbf; text-decoration-color: #7fbfbf\">                    </span>         biovec                                                                <span style=\"color: #7f7f7f; text-decoration-color: #7f7f7f\">                </span>\n",
       "<span style=\"color: #7fbfbf; text-decoration-color: #7fbfbf\">                    </span>         To do so, use the following command: pip install biovec               <span style=\"color: #7f7f7f; text-decoration-color: #7f7f7f\">                </span>\n",
       "<span style=\"color: #7fbfbf; text-decoration-color: #7fbfbf\">                    </span>         Alternatively, you can install graphein with the extras:              <span style=\"color: #7f7f7f; text-decoration-color: #7f7f7f\">                </span>\n",
       "<span style=\"color: #7fbfbf; text-decoration-color: #7fbfbf\">                    </span>                                                                               <span style=\"color: #7f7f7f; text-decoration-color: #7f7f7f\">                </span>\n",
       "<span style=\"color: #7fbfbf; text-decoration-color: #7fbfbf\">                    </span>         pip install graphein<span style=\"font-weight: bold\">[</span>extras<span style=\"font-weight: bold\">]</span>                                          <span style=\"color: #7f7f7f; text-decoration-color: #7f7f7f\">                </span>\n",
       "</pre>\n"
      ],
      "text/plain": [
       "\u001b[2;36m[05/05/24 18:25:10]\u001b[0m\u001b[2;36m \u001b[0m\u001b[31mWARNING \u001b[0m To use the Graphein submodule                                         \u001b]8;id=616544;file:///Users/irene/VSCodeProjects/CHL-Project/.venv/lib/python3.11/site-packages/graphein/protein/features/sequence/embeddings.py\u001b\\\u001b[2membeddings.py\u001b[0m\u001b]8;;\u001b\\\u001b[2m:\u001b[0m\u001b]8;id=366749;file:///Users/irene/VSCodeProjects/CHL-Project/.venv/lib/python3.11/site-packages/graphein/protein/features/sequence/embeddings.py#45\u001b\\\u001b[2m45\u001b[0m\u001b]8;;\u001b\\\n",
       "\u001b[2;36m                    \u001b[0m         graphein.protein.features.sequence.embeddings, you need to install:   \u001b[2m                \u001b[0m\n",
       "\u001b[2;36m                    \u001b[0m         biovec                                                                \u001b[2m                \u001b[0m\n",
       "\u001b[2;36m                    \u001b[0m         To do so, use the following command: pip install biovec               \u001b[2m                \u001b[0m\n",
       "\u001b[2;36m                    \u001b[0m         Alternatively, you can install graphein with the extras:              \u001b[2m                \u001b[0m\n",
       "\u001b[2;36m                    \u001b[0m                                                                               \u001b[2m                \u001b[0m\n",
       "\u001b[2;36m                    \u001b[0m         pip install graphein\u001b[1m[\u001b[0mextras\u001b[1m]\u001b[0m                                          \u001b[2m                \u001b[0m\n"
      ]
     },
     "metadata": {},
     "output_type": "display_data"
    },
    {
     "data": {
      "text/html": [
       "<pre style=\"white-space:pre;overflow-x:auto;line-height:normal;font-family:Menlo,'DejaVu Sans Mono',consolas,'Courier New',monospace\"><span style=\"color: #7fbfbf; text-decoration-color: #7fbfbf\">                    </span><span style=\"color: #800000; text-decoration-color: #800000\">WARNING </span> To use the Graphein submodule graphein.protein.visualisation, you  <a href=\"file:///Users/irene/VSCodeProjects/CHL-Project/.venv/lib/python3.11/site-packages/graphein/protein/visualisation.py\" target=\"_blank\"><span style=\"color: #7f7f7f; text-decoration-color: #7f7f7f\">visualisation.py</span></a><span style=\"color: #7f7f7f; text-decoration-color: #7f7f7f\">:</span><a href=\"file:///Users/irene/VSCodeProjects/CHL-Project/.venv/lib/python3.11/site-packages/graphein/protein/visualisation.py#36\" target=\"_blank\"><span style=\"color: #7f7f7f; text-decoration-color: #7f7f7f\">36</span></a>\n",
       "<span style=\"color: #7fbfbf; text-decoration-color: #7fbfbf\">                    </span>         need to install: pytorch3d                                         <span style=\"color: #7f7f7f; text-decoration-color: #7f7f7f\">                   </span>\n",
       "<span style=\"color: #7fbfbf; text-decoration-color: #7fbfbf\">                    </span>         pytorch3d cannot be installed via pip                              <span style=\"color: #7f7f7f; text-decoration-color: #7f7f7f\">                   </span>\n",
       "</pre>\n"
      ],
      "text/plain": [
       "\u001b[2;36m                   \u001b[0m\u001b[2;36m \u001b[0m\u001b[31mWARNING \u001b[0m To use the Graphein submodule graphein.protein.visualisation, you  \u001b]8;id=948143;file:///Users/irene/VSCodeProjects/CHL-Project/.venv/lib/python3.11/site-packages/graphein/protein/visualisation.py\u001b\\\u001b[2mvisualisation.py\u001b[0m\u001b]8;;\u001b\\\u001b[2m:\u001b[0m\u001b]8;id=21836;file:///Users/irene/VSCodeProjects/CHL-Project/.venv/lib/python3.11/site-packages/graphein/protein/visualisation.py#36\u001b\\\u001b[2m36\u001b[0m\u001b]8;;\u001b\\\n",
       "\u001b[2;36m                    \u001b[0m         need to install: pytorch3d                                         \u001b[2m                   \u001b[0m\n",
       "\u001b[2;36m                    \u001b[0m         pytorch3d cannot be installed via pip                              \u001b[2m                   \u001b[0m\n"
      ]
     },
     "metadata": {},
     "output_type": "display_data"
    },
    {
     "data": {
      "text/html": [
       "<pre style=\"white-space:pre;overflow-x:auto;line-height:normal;font-family:Menlo,'DejaVu Sans Mono',consolas,'Courier New',monospace\"><span style=\"color: #7fbfbf; text-decoration-color: #7fbfbf\">                    </span><span style=\"color: #800000; text-decoration-color: #800000\">WARNING </span> To use the Graphein submodule graphein.protein.meshes, you need to        <a href=\"file:///Users/irene/VSCodeProjects/CHL-Project/.venv/lib/python3.11/site-packages/graphein/protein/meshes.py\" target=\"_blank\"><span style=\"color: #7f7f7f; text-decoration-color: #7f7f7f\">meshes.py</span></a><span style=\"color: #7f7f7f; text-decoration-color: #7f7f7f\">:</span><a href=\"file:///Users/irene/VSCodeProjects/CHL-Project/.venv/lib/python3.11/site-packages/graphein/protein/meshes.py#30\" target=\"_blank\"><span style=\"color: #7f7f7f; text-decoration-color: #7f7f7f\">30</span></a>\n",
       "<span style=\"color: #7fbfbf; text-decoration-color: #7fbfbf\">                    </span>         install: pytorch3d                                                        <span style=\"color: #7f7f7f; text-decoration-color: #7f7f7f\">            </span>\n",
       "<span style=\"color: #7fbfbf; text-decoration-color: #7fbfbf\">                    </span>         To do so, use the following command: pip install pytorch3d                <span style=\"color: #7f7f7f; text-decoration-color: #7f7f7f\">            </span>\n",
       "</pre>\n"
      ],
      "text/plain": [
       "\u001b[2;36m                   \u001b[0m\u001b[2;36m \u001b[0m\u001b[31mWARNING \u001b[0m To use the Graphein submodule graphein.protein.meshes, you need to        \u001b]8;id=404181;file:///Users/irene/VSCodeProjects/CHL-Project/.venv/lib/python3.11/site-packages/graphein/protein/meshes.py\u001b\\\u001b[2mmeshes.py\u001b[0m\u001b]8;;\u001b\\\u001b[2m:\u001b[0m\u001b]8;id=505110;file:///Users/irene/VSCodeProjects/CHL-Project/.venv/lib/python3.11/site-packages/graphein/protein/meshes.py#30\u001b\\\u001b[2m30\u001b[0m\u001b]8;;\u001b\\\n",
       "\u001b[2;36m                    \u001b[0m         install: pytorch3d                                                        \u001b[2m            \u001b[0m\n",
       "\u001b[2;36m                    \u001b[0m         To do so, use the following command: pip install pytorch3d                \u001b[2m            \u001b[0m\n"
      ]
     },
     "metadata": {},
     "output_type": "display_data"
    }
   ],
   "source": [
    "import pandas as pd\n",
    "import numpy as np\n",
    "import matplotlib.pyplot as plt\n",
    "import seaborn as sns\n",
    "import Bio\n",
    "from Bio import SeqIO\n",
    "from Bio.Seq import Seq, MutableSeq\n",
    "from utils import *"
   ]
  },
  {
   "cell_type": "code",
   "execution_count": 2,
   "metadata": {},
   "outputs": [],
   "source": [
    "# read the first sheet of the excel file\n",
    "df = pd.read_excel('../datasets/aku_prin_v2.0.xlsx', sheet_name=0)"
   ]
  },
  {
   "cell_type": "code",
   "execution_count": 3,
   "metadata": {},
   "outputs": [
    {
     "data": {
      "text/plain": [
       "Index(['patient', 'sex', 'birth', 'creatinine_urines mg/dl', 'HGA_u mg/dl',\n",
       "       'HGA_U mg/24h', 'bqa', 'urate', 'uric_acid_urine', 'tyr_urines',\n",
       "       'hypoxanthine_urines', 'xanthine_urines', 'Protein change allele 1 ',\n",
       "       'DNA change allele 1', 'Exon/intron allele 1',\n",
       "       'Protein change allele 2', 'DNA change allele 2', 'ex/in allele 2',\n",
       "       'SAA (ug/mL) ', 'chitotriosidase', 'HGA_serum', 'CATD (ng/mL)',\n",
       "       'IL-6 (pg/mL)', 'IL-1beta (pg/mL)', 'IL-1ra (pg/mL)', 'TNFalfa (pg/mL)',\n",
       "       'CRP (mg/dL)', 'CRP (æg/mL) ELISA', 'MMP3 (ng/mL)', 'aopp',\n",
       "       'glucose(mg/dL)', 'creatinine (mg/dL)', 'cholesterol (mg/dL)',\n",
       "       'triglycerides  (mg/dL)', 'hdl_cholesterol (mg/dL)',\n",
       "       'ldl_cholesterol (mg/dL)', 'alkaline_phosphatase (UI/L)',\n",
       "       'cystatin_C (mg/dL)', 'smoker/cigarettes_a_day', 'alcohol_units_weekly',\n",
       "       'bmi', 'physical_health_score', 'mental_health_score',\n",
       "       'AKUSSI_jointpain', 'AKUSSI_spinalpain', 'KOOSpain', 'KOOSsymptoms',\n",
       "       'KOOSdaily_living', 'KOOSsport', 'KOOS_QOL', 'HAQ_hapVAS', 'HAQ_haqDI',\n",
       "       'anti_inflammatories', 'painkillers', 'other_drugs', 'nitisinone doses',\n",
       "       'adverse_event_or_diagnosis', 'creatinine_plasma', 'hga_plasma', 'tyr',\n",
       "       'phe', 'trp', 'hypoxanthine', 'xanthine', 'uracil', 'uric_acid',\n",
       "       'nitisinone'],\n",
       "      dtype='object')"
      ]
     },
     "execution_count": 3,
     "metadata": {},
     "output_type": "execute_result"
    }
   ],
   "source": [
    "df.columns"
   ]
  },
  {
   "cell_type": "code",
   "execution_count": 3,
   "metadata": {},
   "outputs": [
    {
     "data": {
      "text/plain": [
       "67"
      ]
     },
     "execution_count": 3,
     "metadata": {},
     "output_type": "execute_result"
    }
   ],
   "source": [
    "len(df.columns)"
   ]
  },
  {
   "cell_type": "code",
   "execution_count": 4,
   "metadata": {},
   "outputs": [
    {
     "data": {
      "text/plain": [
       "18"
      ]
     },
     "execution_count": 4,
     "metadata": {},
     "output_type": "execute_result"
    }
   ],
   "source": [
    "# get the index of Protein change allele 1 column\n",
    "df.columns.get_loc('Protein change allele 1 ') + 6"
   ]
  },
  {
   "cell_type": "code",
   "execution_count": 5,
   "metadata": {},
   "outputs": [
    {
     "data": {
      "text/plain": [
       "52"
      ]
     },
     "execution_count": 5,
     "metadata": {},
     "output_type": "execute_result"
    }
   ],
   "source": [
    "# get the index of physical_health_score column\n",
    "df.columns.get_loc('physical_health_score') + 11"
   ]
  },
  {
   "cell_type": "code",
   "execution_count": 6,
   "metadata": {},
   "outputs": [
    {
     "data": {
      "text/html": [
       "<div>\n",
       "<style scoped>\n",
       "    .dataframe tbody tr th:only-of-type {\n",
       "        vertical-align: middle;\n",
       "    }\n",
       "\n",
       "    .dataframe tbody tr th {\n",
       "        vertical-align: top;\n",
       "    }\n",
       "\n",
       "    .dataframe thead th {\n",
       "        text-align: right;\n",
       "    }\n",
       "</style>\n",
       "<table border=\"1\" class=\"dataframe\">\n",
       "  <thead>\n",
       "    <tr style=\"text-align: right;\">\n",
       "      <th></th>\n",
       "      <th>Protein change allele 1</th>\n",
       "      <th>DNA change allele 1</th>\n",
       "      <th>Exon/intron allele 1</th>\n",
       "      <th>Protein change allele 2</th>\n",
       "      <th>DNA change allele 2</th>\n",
       "      <th>ex/in allele 2</th>\n",
       "      <th>physical_health_score</th>\n",
       "      <th>mental_health_score</th>\n",
       "      <th>AKUSSI_jointpain</th>\n",
       "      <th>AKUSSI_spinalpain</th>\n",
       "      <th>KOOSpain</th>\n",
       "      <th>KOOSsymptoms</th>\n",
       "      <th>KOOSdaily_living</th>\n",
       "      <th>KOOSsport</th>\n",
       "      <th>KOOS_QOL</th>\n",
       "      <th>HAQ_hapVAS</th>\n",
       "      <th>HAQ_haqDI</th>\n",
       "    </tr>\n",
       "  </thead>\n",
       "  <tbody>\n",
       "    <tr>\n",
       "      <th>0</th>\n",
       "      <td>G161R</td>\n",
       "      <td>c.481G&gt;A</td>\n",
       "      <td>ex8</td>\n",
       "      <td>His371Profs</td>\n",
       "      <td>c.1111dupC</td>\n",
       "      <td>ex13</td>\n",
       "      <td>26.0</td>\n",
       "      <td>43.0</td>\n",
       "      <td>57.0</td>\n",
       "      <td>75.0</td>\n",
       "      <td>67.0</td>\n",
       "      <td>89.0</td>\n",
       "      <td>75.0</td>\n",
       "      <td>70.0</td>\n",
       "      <td>69.0</td>\n",
       "      <td>63.0</td>\n",
       "      <td>1.50</td>\n",
       "    </tr>\n",
       "    <tr>\n",
       "      <th>1</th>\n",
       "      <td>G161R</td>\n",
       "      <td>c.481G&gt;A</td>\n",
       "      <td>ex8</td>\n",
       "      <td>G161R</td>\n",
       "      <td>c.481G&gt;A</td>\n",
       "      <td>ex8</td>\n",
       "      <td>53.0</td>\n",
       "      <td>51.0</td>\n",
       "      <td>29.0</td>\n",
       "      <td>25.0</td>\n",
       "      <td>92.0</td>\n",
       "      <td>96.0</td>\n",
       "      <td>91.0</td>\n",
       "      <td>85.0</td>\n",
       "      <td>75.0</td>\n",
       "      <td>23.0</td>\n",
       "      <td>0.25</td>\n",
       "    </tr>\n",
       "    <tr>\n",
       "      <th>2</th>\n",
       "      <td>G161R</td>\n",
       "      <td>c.481G&gt;A</td>\n",
       "      <td>ex8</td>\n",
       "      <td>M368V</td>\n",
       "      <td>c.1102A&gt;G</td>\n",
       "      <td>ex13</td>\n",
       "      <td>23.0</td>\n",
       "      <td>40.0</td>\n",
       "      <td>36.0</td>\n",
       "      <td>100.0</td>\n",
       "      <td>47.0</td>\n",
       "      <td>39.0</td>\n",
       "      <td>31.0</td>\n",
       "      <td>0.0</td>\n",
       "      <td>19.0</td>\n",
       "      <td>53.0</td>\n",
       "      <td>1.75</td>\n",
       "    </tr>\n",
       "    <tr>\n",
       "      <th>3</th>\n",
       "      <td>Y6_G29del ivs1-1G&gt;A</td>\n",
       "      <td>c.16-1G&gt;A</td>\n",
       "      <td>in1</td>\n",
       "      <td>Y6_G29del ivs1-1G&gt;A</td>\n",
       "      <td>c.16-1G&gt;A</td>\n",
       "      <td>in1</td>\n",
       "      <td>NaN</td>\n",
       "      <td>NaN</td>\n",
       "      <td>NaN</td>\n",
       "      <td>NaN</td>\n",
       "      <td>NaN</td>\n",
       "      <td>NaN</td>\n",
       "      <td>NaN</td>\n",
       "      <td>NaN</td>\n",
       "      <td>NaN</td>\n",
       "      <td>NaN</td>\n",
       "      <td>NaN</td>\n",
       "    </tr>\n",
       "    <tr>\n",
       "      <th>4</th>\n",
       "      <td>G161R</td>\n",
       "      <td>c.481G&gt;A</td>\n",
       "      <td>ex8</td>\n",
       "      <td>G161R</td>\n",
       "      <td>c.481G&gt;A</td>\n",
       "      <td>ex8</td>\n",
       "      <td>23.0</td>\n",
       "      <td>29.0</td>\n",
       "      <td>50.0</td>\n",
       "      <td>100.0</td>\n",
       "      <td>33.0</td>\n",
       "      <td>29.0</td>\n",
       "      <td>60.0</td>\n",
       "      <td>25.0</td>\n",
       "      <td>13.0</td>\n",
       "      <td>70.0</td>\n",
       "      <td>2.00</td>\n",
       "    </tr>\n",
       "  </tbody>\n",
       "</table>\n",
       "</div>"
      ],
      "text/plain": [
       "  Protein change allele 1  DNA change allele 1 Exon/intron allele 1  \\\n",
       "0                    G161R            c.481G>A                  ex8   \n",
       "1                    G161R            c.481G>A                  ex8   \n",
       "2                    G161R            c.481G>A                  ex8   \n",
       "3      Y6_G29del ivs1-1G>A           c.16-1G>A                  in1   \n",
       "4                    G161R            c.481G>A                  ex8   \n",
       "\n",
       "  Protein change allele 2 DNA change allele 2 ex/in allele 2  \\\n",
       "0             His371Profs          c.1111dupC           ex13   \n",
       "1                   G161R            c.481G>A            ex8   \n",
       "2                   M368V           c.1102A>G           ex13   \n",
       "3     Y6_G29del ivs1-1G>A           c.16-1G>A            in1   \n",
       "4                   G161R            c.481G>A            ex8   \n",
       "\n",
       "   physical_health_score  mental_health_score  AKUSSI_jointpain  \\\n",
       "0                   26.0                 43.0              57.0   \n",
       "1                   53.0                 51.0              29.0   \n",
       "2                   23.0                 40.0              36.0   \n",
       "3                    NaN                  NaN               NaN   \n",
       "4                   23.0                 29.0              50.0   \n",
       "\n",
       "   AKUSSI_spinalpain  KOOSpain  KOOSsymptoms  KOOSdaily_living  KOOSsport  \\\n",
       "0               75.0      67.0          89.0              75.0       70.0   \n",
       "1               25.0      92.0          96.0              91.0       85.0   \n",
       "2              100.0      47.0          39.0              31.0        0.0   \n",
       "3                NaN       NaN           NaN               NaN        NaN   \n",
       "4              100.0      33.0          29.0              60.0       25.0   \n",
       "\n",
       "   KOOS_QOL  HAQ_hapVAS  HAQ_haqDI  \n",
       "0      69.0        63.0       1.50  \n",
       "1      75.0        23.0       0.25  \n",
       "2      19.0        53.0       1.75  \n",
       "3       NaN         NaN        NaN  \n",
       "4      13.0        70.0       2.00  "
      ]
     },
     "execution_count": 6,
     "metadata": {},
     "output_type": "execute_result"
    }
   ],
   "source": [
    "# create a new dataframe with the columns of interest, from index 12 to 18 and 41 to 52\n",
    "df2 = df.iloc[:, list(range(12, 18)) + list(range(41, 52))] \n",
    "df2.head()"
   ]
  },
  {
   "cell_type": "code",
   "execution_count": 7,
   "metadata": {},
   "outputs": [
    {
     "data": {
      "text/plain": [
       "(219, 17)"
      ]
     },
     "execution_count": 7,
     "metadata": {},
     "output_type": "execute_result"
    }
   ],
   "source": [
    "df2.shape"
   ]
  },
  {
   "cell_type": "code",
   "execution_count": 8,
   "metadata": {},
   "outputs": [
    {
     "data": {
      "text/plain": [
       "19"
      ]
     },
     "execution_count": 8,
     "metadata": {},
     "output_type": "execute_result"
    }
   ],
   "source": [
    "# count null values of Protein change allele 1 column\n",
    "df2['Protein change allele 1 '].isnull().sum()"
   ]
  },
  {
   "cell_type": "code",
   "execution_count": 9,
   "metadata": {},
   "outputs": [
    {
     "data": {
      "text/plain": [
       "True"
      ]
     },
     "execution_count": 9,
     "metadata": {},
     "output_type": "execute_result"
    }
   ],
   "source": [
    "# check if the null value of Protein change allele 1 is the same as Protein change allele 2\n",
    "df2['Protein change allele 1 '].isnull().sum() == df2['Protein change allele 2'].isnull().sum()"
   ]
  },
  {
   "cell_type": "code",
   "execution_count": 10,
   "metadata": {},
   "outputs": [
    {
     "data": {
      "text/plain": [
       "False"
      ]
     },
     "execution_count": 10,
     "metadata": {},
     "output_type": "execute_result"
    }
   ],
   "source": [
    "# check if they are the same indexes\n",
    "(df2['Protein change allele 1 '].isnull() == df2['Protein change allele 2'].isnull()).all()"
   ]
  },
  {
   "cell_type": "code",
   "execution_count": 11,
   "metadata": {},
   "outputs": [
    {
     "data": {
      "text/plain": [
       "Int64Index([ 50,  54,  61,  66,  72,  80,  84,  87,  88,  89,  90, 165, 166,\n",
       "            183, 185, 191, 192, 204, 213],\n",
       "           dtype='int64')"
      ]
     },
     "execution_count": 11,
     "metadata": {},
     "output_type": "execute_result"
    }
   ],
   "source": [
    "# print the indexes of the null values\n",
    "df2[df2['Protein change allele 1 '].isnull()].index"
   ]
  },
  {
   "cell_type": "code",
   "execution_count": 12,
   "metadata": {},
   "outputs": [],
   "source": [
    "# print the indexes of the null values\n",
    "null1 = df2['Protein change allele 1 '][df2['Protein change allele 1 '].isnull()].index"
   ]
  },
  {
   "cell_type": "code",
   "execution_count": 13,
   "metadata": {},
   "outputs": [
    {
     "data": {
      "text/plain": [
       "Int64Index([ 50,  54,  61,  66,  72,  80,  84,  87,  88,  89,  90, 165, 166,\n",
       "            183, 185, 191, 192, 204, 213],\n",
       "           dtype='int64')"
      ]
     },
     "execution_count": 13,
     "metadata": {},
     "output_type": "execute_result"
    }
   ],
   "source": [
    "null1"
   ]
  },
  {
   "cell_type": "code",
   "execution_count": 14,
   "metadata": {},
   "outputs": [],
   "source": [
    "null2 = df2['Protein change allele 2'][df2['Protein change allele 2'].isnull()].index"
   ]
  },
  {
   "cell_type": "code",
   "execution_count": 15,
   "metadata": {},
   "outputs": [
    {
     "data": {
      "text/plain": [
       "Int64Index([ 50,  54,  61,  66,  80,  84,  87,  88,  89,  90, 165, 166, 178,\n",
       "            183, 185, 191, 192, 204, 213],\n",
       "           dtype='int64')"
      ]
     },
     "execution_count": 15,
     "metadata": {},
     "output_type": "execute_result"
    }
   ],
   "source": [
    "null2"
   ]
  },
  {
   "cell_type": "code",
   "execution_count": 16,
   "metadata": {},
   "outputs": [
    {
     "data": {
      "text/plain": [
       "20"
      ]
     },
     "execution_count": 16,
     "metadata": {},
     "output_type": "execute_result"
    }
   ],
   "source": [
    "# merge null1 and null2 in a list without repetition\n",
    "null = list(set(null1) | set(null2))\n",
    "len(null)"
   ]
  },
  {
   "cell_type": "code",
   "execution_count": 17,
   "metadata": {},
   "outputs": [
    {
     "data": {
      "text/plain": [
       "(19, 19)"
      ]
     },
     "execution_count": 17,
     "metadata": {},
     "output_type": "execute_result"
    }
   ],
   "source": [
    "len(null1), len(null2)"
   ]
  },
  {
   "cell_type": "code",
   "execution_count": 18,
   "metadata": {},
   "outputs": [],
   "source": [
    "# remove the null indexed rows from the dataframe\n",
    "df2 = df2.drop(null)"
   ]
  },
  {
   "cell_type": "code",
   "execution_count": 19,
   "metadata": {},
   "outputs": [
    {
     "data": {
      "text/plain": [
       "(199, 17)"
      ]
     },
     "execution_count": 19,
     "metadata": {},
     "output_type": "execute_result"
    }
   ],
   "source": [
    "df2.shape"
   ]
  },
  {
   "cell_type": "code",
   "execution_count": 20,
   "metadata": {},
   "outputs": [
    {
     "data": {
      "text/html": [
       "<div>\n",
       "<style scoped>\n",
       "    .dataframe tbody tr th:only-of-type {\n",
       "        vertical-align: middle;\n",
       "    }\n",
       "\n",
       "    .dataframe tbody tr th {\n",
       "        vertical-align: top;\n",
       "    }\n",
       "\n",
       "    .dataframe thead th {\n",
       "        text-align: right;\n",
       "    }\n",
       "</style>\n",
       "<table border=\"1\" class=\"dataframe\">\n",
       "  <thead>\n",
       "    <tr style=\"text-align: right;\">\n",
       "      <th></th>\n",
       "      <th>Protein change allele 1</th>\n",
       "      <th>DNA change allele 1</th>\n",
       "      <th>Exon/intron allele 1</th>\n",
       "      <th>Protein change allele 2</th>\n",
       "      <th>DNA change allele 2</th>\n",
       "      <th>ex/in allele 2</th>\n",
       "      <th>physical_health_score</th>\n",
       "      <th>mental_health_score</th>\n",
       "      <th>AKUSSI_jointpain</th>\n",
       "      <th>AKUSSI_spinalpain</th>\n",
       "      <th>KOOSpain</th>\n",
       "      <th>KOOSsymptoms</th>\n",
       "      <th>KOOSdaily_living</th>\n",
       "      <th>KOOSsport</th>\n",
       "      <th>KOOS_QOL</th>\n",
       "      <th>HAQ_hapVAS</th>\n",
       "      <th>HAQ_haqDI</th>\n",
       "    </tr>\n",
       "  </thead>\n",
       "  <tbody>\n",
       "    <tr>\n",
       "      <th>0</th>\n",
       "      <td>G161R</td>\n",
       "      <td>c.481G&gt;A</td>\n",
       "      <td>ex8</td>\n",
       "      <td>His371Profs</td>\n",
       "      <td>c.1111dupC</td>\n",
       "      <td>ex13</td>\n",
       "      <td>26.0</td>\n",
       "      <td>43.0</td>\n",
       "      <td>57.0</td>\n",
       "      <td>75.0</td>\n",
       "      <td>67.0</td>\n",
       "      <td>89.0</td>\n",
       "      <td>75.0</td>\n",
       "      <td>70.0</td>\n",
       "      <td>69.0</td>\n",
       "      <td>63.0</td>\n",
       "      <td>1.50</td>\n",
       "    </tr>\n",
       "    <tr>\n",
       "      <th>1</th>\n",
       "      <td>G161R</td>\n",
       "      <td>c.481G&gt;A</td>\n",
       "      <td>ex8</td>\n",
       "      <td>G161R</td>\n",
       "      <td>c.481G&gt;A</td>\n",
       "      <td>ex8</td>\n",
       "      <td>53.0</td>\n",
       "      <td>51.0</td>\n",
       "      <td>29.0</td>\n",
       "      <td>25.0</td>\n",
       "      <td>92.0</td>\n",
       "      <td>96.0</td>\n",
       "      <td>91.0</td>\n",
       "      <td>85.0</td>\n",
       "      <td>75.0</td>\n",
       "      <td>23.0</td>\n",
       "      <td>0.25</td>\n",
       "    </tr>\n",
       "    <tr>\n",
       "      <th>2</th>\n",
       "      <td>G161R</td>\n",
       "      <td>c.481G&gt;A</td>\n",
       "      <td>ex8</td>\n",
       "      <td>M368V</td>\n",
       "      <td>c.1102A&gt;G</td>\n",
       "      <td>ex13</td>\n",
       "      <td>23.0</td>\n",
       "      <td>40.0</td>\n",
       "      <td>36.0</td>\n",
       "      <td>100.0</td>\n",
       "      <td>47.0</td>\n",
       "      <td>39.0</td>\n",
       "      <td>31.0</td>\n",
       "      <td>0.0</td>\n",
       "      <td>19.0</td>\n",
       "      <td>53.0</td>\n",
       "      <td>1.75</td>\n",
       "    </tr>\n",
       "    <tr>\n",
       "      <th>3</th>\n",
       "      <td>Y6_G29del ivs1-1G&gt;A</td>\n",
       "      <td>c.16-1G&gt;A</td>\n",
       "      <td>in1</td>\n",
       "      <td>Y6_G29del ivs1-1G&gt;A</td>\n",
       "      <td>c.16-1G&gt;A</td>\n",
       "      <td>in1</td>\n",
       "      <td>NaN</td>\n",
       "      <td>NaN</td>\n",
       "      <td>NaN</td>\n",
       "      <td>NaN</td>\n",
       "      <td>NaN</td>\n",
       "      <td>NaN</td>\n",
       "      <td>NaN</td>\n",
       "      <td>NaN</td>\n",
       "      <td>NaN</td>\n",
       "      <td>NaN</td>\n",
       "      <td>NaN</td>\n",
       "    </tr>\n",
       "    <tr>\n",
       "      <th>4</th>\n",
       "      <td>G161R</td>\n",
       "      <td>c.481G&gt;A</td>\n",
       "      <td>ex8</td>\n",
       "      <td>G161R</td>\n",
       "      <td>c.481G&gt;A</td>\n",
       "      <td>ex8</td>\n",
       "      <td>23.0</td>\n",
       "      <td>29.0</td>\n",
       "      <td>50.0</td>\n",
       "      <td>100.0</td>\n",
       "      <td>33.0</td>\n",
       "      <td>29.0</td>\n",
       "      <td>60.0</td>\n",
       "      <td>25.0</td>\n",
       "      <td>13.0</td>\n",
       "      <td>70.0</td>\n",
       "      <td>2.00</td>\n",
       "    </tr>\n",
       "  </tbody>\n",
       "</table>\n",
       "</div>"
      ],
      "text/plain": [
       "  Protein change allele 1  DNA change allele 1 Exon/intron allele 1  \\\n",
       "0                    G161R            c.481G>A                  ex8   \n",
       "1                    G161R            c.481G>A                  ex8   \n",
       "2                    G161R            c.481G>A                  ex8   \n",
       "3      Y6_G29del ivs1-1G>A           c.16-1G>A                  in1   \n",
       "4                    G161R            c.481G>A                  ex8   \n",
       "\n",
       "  Protein change allele 2 DNA change allele 2 ex/in allele 2  \\\n",
       "0             His371Profs          c.1111dupC           ex13   \n",
       "1                   G161R            c.481G>A            ex8   \n",
       "2                   M368V           c.1102A>G           ex13   \n",
       "3     Y6_G29del ivs1-1G>A           c.16-1G>A            in1   \n",
       "4                   G161R            c.481G>A            ex8   \n",
       "\n",
       "   physical_health_score  mental_health_score  AKUSSI_jointpain  \\\n",
       "0                   26.0                 43.0              57.0   \n",
       "1                   53.0                 51.0              29.0   \n",
       "2                   23.0                 40.0              36.0   \n",
       "3                    NaN                  NaN               NaN   \n",
       "4                   23.0                 29.0              50.0   \n",
       "\n",
       "   AKUSSI_spinalpain  KOOSpain  KOOSsymptoms  KOOSdaily_living  KOOSsport  \\\n",
       "0               75.0      67.0          89.0              75.0       70.0   \n",
       "1               25.0      92.0          96.0              91.0       85.0   \n",
       "2              100.0      47.0          39.0              31.0        0.0   \n",
       "3                NaN       NaN           NaN               NaN        NaN   \n",
       "4              100.0      33.0          29.0              60.0       25.0   \n",
       "\n",
       "   KOOS_QOL  HAQ_hapVAS  HAQ_haqDI  \n",
       "0      69.0        63.0       1.50  \n",
       "1      75.0        23.0       0.25  \n",
       "2      19.0        53.0       1.75  \n",
       "3       NaN         NaN        NaN  \n",
       "4      13.0        70.0       2.00  "
      ]
     },
     "execution_count": 20,
     "metadata": {},
     "output_type": "execute_result"
    }
   ],
   "source": [
    "df2.head()"
   ]
  },
  {
   "cell_type": "code",
   "execution_count": 21,
   "metadata": {},
   "outputs": [
    {
     "data": {
      "text/plain": [
       "ex8      55\n",
       "ex13     21\n",
       "ex6      18\n",
       "ex7      14\n",
       "ex10     12\n",
       "ex14      8\n",
       "ex3       8\n",
       "ex2       7\n",
       "ex11      7\n",
       " in1      6\n",
       " ex3      6\n",
       "ex9       4\n",
       " ex13     4\n",
       "ex12      4\n",
       " ex14     3\n",
       "ex7i      3\n",
       "ex5       2\n",
       "in1       2\n",
       " ex10     2\n",
       "in7       2\n",
       "ex4       2\n",
       "in8       1\n",
       " ex2      1\n",
       "S47L      1\n",
       " ex8      1\n",
       "in12      1\n",
       "in5       1\n",
       "in10      1\n",
       "in2       1\n",
       "ex 8      1\n",
       "Name: Exon/intron allele 1, dtype: int64"
      ]
     },
     "execution_count": 21,
     "metadata": {},
     "output_type": "execute_result"
    }
   ],
   "source": [
    "# count the number of 'ex8' value in Exon/intron allele 1 column\n",
    "df2['Exon/intron allele 1'].value_counts()"
   ]
  },
  {
   "cell_type": "markdown",
   "metadata": {},
   "source": [
    "vediamo che si deve stare attenti: ci sono varie istanze di ex8, questo perche è stato scritto con gli spazi a volte (ex8, ex8,ex 8)"
   ]
  },
  {
   "cell_type": "code",
   "execution_count": 22,
   "metadata": {},
   "outputs": [
    {
     "data": {
      "text/plain": [
       "183"
      ]
     },
     "execution_count": 22,
     "metadata": {},
     "output_type": "execute_result"
    }
   ],
   "source": [
    "# sum all the values that contains \"ex\" in the string value\n",
    "df2['Exon/intron allele 1'].str.contains('ex').sum()"
   ]
  },
  {
   "cell_type": "code",
   "execution_count": 23,
   "metadata": {},
   "outputs": [],
   "source": [
    "# get the indexes of the values that contains \"in\" in the string value\n",
    "in_indexes = df2['Exon/intron allele 1'][df2['Exon/intron allele 1'].str.contains('in')].index"
   ]
  },
  {
   "cell_type": "code",
   "execution_count": 24,
   "metadata": {},
   "outputs": [
    {
     "data": {
      "text/plain": [
       "Int64Index([3, 24, 74, 103, 115, 135, 141, 142, 148, 157, 159, 163, 170, 193,\n",
       "            217],\n",
       "           dtype='int64')"
      ]
     },
     "execution_count": 24,
     "metadata": {},
     "output_type": "execute_result"
    }
   ],
   "source": [
    "in_indexes"
   ]
  },
  {
   "cell_type": "code",
   "execution_count": 25,
   "metadata": {},
   "outputs": [],
   "source": [
    "# drop the rows which index is in_indexes\n",
    "df3 = df2.drop(in_indexes)"
   ]
  },
  {
   "cell_type": "code",
   "execution_count": 26,
   "metadata": {},
   "outputs": [
    {
     "data": {
      "text/plain": [
       "(184, 17)"
      ]
     },
     "execution_count": 26,
     "metadata": {},
     "output_type": "execute_result"
    }
   ],
   "source": [
    "df3.shape"
   ]
  },
  {
   "cell_type": "code",
   "execution_count": 27,
   "metadata": {},
   "outputs": [
    {
     "data": {
      "text/plain": [
       "183"
      ]
     },
     "execution_count": 27,
     "metadata": {},
     "output_type": "execute_result"
    }
   ],
   "source": [
    "# sum all the values that contains \"ex\" in the string value\n",
    "df3['Exon/intron allele 1'].str.contains('ex').sum()"
   ]
  },
  {
   "cell_type": "markdown",
   "metadata": {},
   "source": [
    "notiamo che 183 su 184 istanze hanno ex nella colonna `Exon/intron allele 1`, vediamo chi è la riga che non ha ex"
   ]
  },
  {
   "cell_type": "code",
   "execution_count": 28,
   "metadata": {},
   "outputs": [
    {
     "data": {
      "text/plain": [
       "51    S47L\n",
       "Name: Exon/intron allele 1, dtype: object"
      ]
     },
     "execution_count": 28,
     "metadata": {},
     "output_type": "execute_result"
    }
   ],
   "source": [
    "# see instance that has no \"ex\" in the string value\n",
    "df3['Exon/intron allele 1'][~df3['Exon/intron allele 1'].str.contains('ex')]"
   ]
  },
  {
   "cell_type": "code",
   "execution_count": 29,
   "metadata": {},
   "outputs": [
    {
     "data": {
      "text/html": [
       "<div>\n",
       "<style scoped>\n",
       "    .dataframe tbody tr th:only-of-type {\n",
       "        vertical-align: middle;\n",
       "    }\n",
       "\n",
       "    .dataframe tbody tr th {\n",
       "        vertical-align: top;\n",
       "    }\n",
       "\n",
       "    .dataframe thead th {\n",
       "        text-align: right;\n",
       "    }\n",
       "</style>\n",
       "<table border=\"1\" class=\"dataframe\">\n",
       "  <thead>\n",
       "    <tr style=\"text-align: right;\">\n",
       "      <th></th>\n",
       "      <th>Protein change allele 1</th>\n",
       "      <th>DNA change allele 1</th>\n",
       "      <th>Exon/intron allele 1</th>\n",
       "      <th>Protein change allele 2</th>\n",
       "      <th>DNA change allele 2</th>\n",
       "      <th>ex/in allele 2</th>\n",
       "      <th>physical_health_score</th>\n",
       "      <th>mental_health_score</th>\n",
       "      <th>AKUSSI_jointpain</th>\n",
       "      <th>AKUSSI_spinalpain</th>\n",
       "      <th>KOOSpain</th>\n",
       "      <th>KOOSsymptoms</th>\n",
       "      <th>KOOSdaily_living</th>\n",
       "      <th>KOOSsport</th>\n",
       "      <th>KOOS_QOL</th>\n",
       "      <th>HAQ_hapVAS</th>\n",
       "      <th>HAQ_haqDI</th>\n",
       "    </tr>\n",
       "  </thead>\n",
       "  <tbody>\n",
       "    <tr>\n",
       "      <th>51</th>\n",
       "      <td>c.140C&gt;T</td>\n",
       "      <td>ex3</td>\n",
       "      <td>S47L</td>\n",
       "      <td>c.140C&gt;T</td>\n",
       "      <td>ex3</td>\n",
       "      <td>NaN</td>\n",
       "      <td>NaN</td>\n",
       "      <td>NaN</td>\n",
       "      <td>NaN</td>\n",
       "      <td>NaN</td>\n",
       "      <td>NaN</td>\n",
       "      <td>NaN</td>\n",
       "      <td>NaN</td>\n",
       "      <td>NaN</td>\n",
       "      <td>NaN</td>\n",
       "      <td>NaN</td>\n",
       "      <td>NaN</td>\n",
       "    </tr>\n",
       "  </tbody>\n",
       "</table>\n",
       "</div>"
      ],
      "text/plain": [
       "   Protein change allele 1  DNA change allele 1 Exon/intron allele 1  \\\n",
       "51                 c.140C>T                 ex3                 S47L   \n",
       "\n",
       "   Protein change allele 2 DNA change allele 2 ex/in allele 2  \\\n",
       "51                c.140C>T                 ex3            NaN   \n",
       "\n",
       "    physical_health_score  mental_health_score  AKUSSI_jointpain  \\\n",
       "51                    NaN                  NaN               NaN   \n",
       "\n",
       "    AKUSSI_spinalpain  KOOSpain  KOOSsymptoms  KOOSdaily_living  KOOSsport  \\\n",
       "51                NaN       NaN           NaN               NaN        NaN   \n",
       "\n",
       "    KOOS_QOL  HAQ_hapVAS  HAQ_haqDI  \n",
       "51       NaN         NaN        NaN  "
      ]
     },
     "execution_count": 29,
     "metadata": {},
     "output_type": "execute_result"
    }
   ],
   "source": [
    "df3[48:49]"
   ]
  },
  {
   "cell_type": "markdown",
   "metadata": {},
   "source": [
    "è evidente che i dati sono utilizzabili, ma vanno spostati nelle colonne corrette\n",
    "\n",
    "siccome vediamo che ci sono altri pazienti con la stessa situazione, non serve nemmeno che facciamo questi cambiamenti perche il paziente 51 e gia rappresentato"
   ]
  },
  {
   "cell_type": "code",
   "execution_count": 30,
   "metadata": {},
   "outputs": [
    {
     "data": {
      "text/html": [
       "<div>\n",
       "<style scoped>\n",
       "    .dataframe tbody tr th:only-of-type {\n",
       "        vertical-align: middle;\n",
       "    }\n",
       "\n",
       "    .dataframe tbody tr th {\n",
       "        vertical-align: top;\n",
       "    }\n",
       "\n",
       "    .dataframe thead th {\n",
       "        text-align: right;\n",
       "    }\n",
       "</style>\n",
       "<table border=\"1\" class=\"dataframe\">\n",
       "  <thead>\n",
       "    <tr style=\"text-align: right;\">\n",
       "      <th></th>\n",
       "      <th>Protein change allele 1</th>\n",
       "      <th>DNA change allele 1</th>\n",
       "      <th>Exon/intron allele 1</th>\n",
       "      <th>Protein change allele 2</th>\n",
       "      <th>DNA change allele 2</th>\n",
       "      <th>ex/in allele 2</th>\n",
       "      <th>physical_health_score</th>\n",
       "      <th>mental_health_score</th>\n",
       "      <th>AKUSSI_jointpain</th>\n",
       "      <th>AKUSSI_spinalpain</th>\n",
       "      <th>KOOSpain</th>\n",
       "      <th>KOOSsymptoms</th>\n",
       "      <th>KOOSdaily_living</th>\n",
       "      <th>KOOSsport</th>\n",
       "      <th>KOOS_QOL</th>\n",
       "      <th>HAQ_hapVAS</th>\n",
       "      <th>HAQ_haqDI</th>\n",
       "    </tr>\n",
       "  </thead>\n",
       "  <tbody>\n",
       "    <tr>\n",
       "      <th>6</th>\n",
       "      <td>S47L</td>\n",
       "      <td>c.140C&gt;T</td>\n",
       "      <td>ex3</td>\n",
       "      <td>S47L</td>\n",
       "      <td>c.140C&gt;T</td>\n",
       "      <td>ex3</td>\n",
       "      <td>38.0</td>\n",
       "      <td>53.0</td>\n",
       "      <td>29.0</td>\n",
       "      <td>100.0</td>\n",
       "      <td>78.0</td>\n",
       "      <td>93.0</td>\n",
       "      <td>71.0</td>\n",
       "      <td>25.0</td>\n",
       "      <td>44.0</td>\n",
       "      <td>50.0</td>\n",
       "      <td>0.75</td>\n",
       "    </tr>\n",
       "  </tbody>\n",
       "</table>\n",
       "</div>"
      ],
      "text/plain": [
       "  Protein change allele 1  DNA change allele 1 Exon/intron allele 1  \\\n",
       "6                     S47L            c.140C>T                  ex3   \n",
       "\n",
       "  Protein change allele 2 DNA change allele 2 ex/in allele 2  \\\n",
       "6                    S47L            c.140C>T            ex3   \n",
       "\n",
       "   physical_health_score  mental_health_score  AKUSSI_jointpain  \\\n",
       "6                   38.0                 53.0              29.0   \n",
       "\n",
       "   AKUSSI_spinalpain  KOOSpain  KOOSsymptoms  KOOSdaily_living  KOOSsport  \\\n",
       "6              100.0      78.0          93.0              71.0       25.0   \n",
       "\n",
       "   KOOS_QOL  HAQ_hapVAS  HAQ_haqDI  \n",
       "6      44.0        50.0       0.75  "
      ]
     },
     "execution_count": 30,
     "metadata": {},
     "output_type": "execute_result"
    }
   ],
   "source": [
    "# define df that has S47L in the Protein change allele 1 column\n",
    "df_s = df3[df3['Protein change allele 1 '].str.contains('S47L')]\n",
    "df_s"
   ]
  },
  {
   "cell_type": "code",
   "execution_count": 31,
   "metadata": {},
   "outputs": [
    {
     "data": {
      "text/plain": [
       "Int64Index([51], dtype='int64')"
      ]
     },
     "execution_count": 31,
     "metadata": {},
     "output_type": "execute_result"
    }
   ],
   "source": [
    "# get the index of the elements that does not contain \"ex\" in the string value\n",
    "not_ex_indexes = df3['Exon/intron allele 1'][~df3['Exon/intron allele 1'].str.contains('ex')].index\n",
    "not_ex_indexes"
   ]
  },
  {
   "cell_type": "code",
   "execution_count": 32,
   "metadata": {},
   "outputs": [],
   "source": [
    "# drop the rows which index is not_ex_indexes\n",
    "df3 = df3.drop(not_ex_indexes)"
   ]
  },
  {
   "cell_type": "code",
   "execution_count": 33,
   "metadata": {},
   "outputs": [
    {
     "data": {
      "text/plain": [
       "Int64Index([8, 15, 45, 78, 98, 108, 130, 131, 146, 147, 153, 181, 207], dtype='int64')"
      ]
     },
     "execution_count": 33,
     "metadata": {},
     "output_type": "execute_result"
    }
   ],
   "source": [
    "not_ex_indexes2 = df3['ex/in allele 2'][~df3['ex/in allele 2'].str.contains('ex')].index\n",
    "not_ex_indexes2"
   ]
  },
  {
   "cell_type": "code",
   "execution_count": 34,
   "metadata": {},
   "outputs": [
    {
     "data": {
      "text/plain": [
       "(170, 17)"
      ]
     },
     "execution_count": 34,
     "metadata": {},
     "output_type": "execute_result"
    }
   ],
   "source": [
    "# drop the rows which index is not_ex_indexes\n",
    "df3 = df3.drop(not_ex_indexes2)\n",
    "df3.shape"
   ]
  },
  {
   "cell_type": "code",
   "execution_count": 35,
   "metadata": {},
   "outputs": [],
   "source": [
    "def is_replace(mutation):\n",
    "\n",
    "    if mutation[0].isupper() and mutation[-1].isupper() and mutation[1:-1].isdigit(): \n",
    "        return True\n",
    "    return False"
   ]
  },
  {
   "cell_type": "code",
   "execution_count": 36,
   "metadata": {},
   "outputs": [
    {
     "data": {
      "text/plain": [
       "(135, 17)"
      ]
     },
     "execution_count": 36,
     "metadata": {},
     "output_type": "execute_result"
    }
   ],
   "source": [
    "# drop the rows that does not contain a replacement mutation\n",
    "df4 = df3[df3['Protein change allele 1 '].apply(is_replace)]\n",
    "df4.shape"
   ]
  },
  {
   "cell_type": "code",
   "execution_count": 38,
   "metadata": {},
   "outputs": [],
   "source": [
    "# in the same way, drop the rows that does not contain a replacement mutation wrt allele 2\n",
    "df4 = df4[df4['Protein change allele 2'].apply(is_replace)]"
   ]
  },
  {
   "cell_type": "code",
   "execution_count": 39,
   "metadata": {},
   "outputs": [
    {
     "data": {
      "text/plain": [
       "(116, 17)"
      ]
     },
     "execution_count": 39,
     "metadata": {},
     "output_type": "execute_result"
    }
   ],
   "source": [
    "df4.shape"
   ]
  },
  {
   "cell_type": "code",
   "execution_count": 40,
   "metadata": {},
   "outputs": [
    {
     "data": {
      "text/html": [
       "<div>\n",
       "<style scoped>\n",
       "    .dataframe tbody tr th:only-of-type {\n",
       "        vertical-align: middle;\n",
       "    }\n",
       "\n",
       "    .dataframe tbody tr th {\n",
       "        vertical-align: top;\n",
       "    }\n",
       "\n",
       "    .dataframe thead th {\n",
       "        text-align: right;\n",
       "    }\n",
       "</style>\n",
       "<table border=\"1\" class=\"dataframe\">\n",
       "  <thead>\n",
       "    <tr style=\"text-align: right;\">\n",
       "      <th></th>\n",
       "      <th>Protein change allele 1</th>\n",
       "      <th>DNA change allele 1</th>\n",
       "      <th>Exon/intron allele 1</th>\n",
       "      <th>Protein change allele 2</th>\n",
       "      <th>DNA change allele 2</th>\n",
       "      <th>ex/in allele 2</th>\n",
       "      <th>physical_health_score</th>\n",
       "      <th>mental_health_score</th>\n",
       "      <th>AKUSSI_jointpain</th>\n",
       "      <th>AKUSSI_spinalpain</th>\n",
       "      <th>KOOSpain</th>\n",
       "      <th>KOOSsymptoms</th>\n",
       "      <th>KOOSdaily_living</th>\n",
       "      <th>KOOSsport</th>\n",
       "      <th>KOOS_QOL</th>\n",
       "      <th>HAQ_hapVAS</th>\n",
       "      <th>HAQ_haqDI</th>\n",
       "    </tr>\n",
       "  </thead>\n",
       "  <tbody>\n",
       "    <tr>\n",
       "      <th>1</th>\n",
       "      <td>G161R</td>\n",
       "      <td>c.481G&gt;A</td>\n",
       "      <td>ex8</td>\n",
       "      <td>G161R</td>\n",
       "      <td>c.481G&gt;A</td>\n",
       "      <td>ex8</td>\n",
       "      <td>53.0</td>\n",
       "      <td>51.0</td>\n",
       "      <td>29.0</td>\n",
       "      <td>25.0</td>\n",
       "      <td>92.0</td>\n",
       "      <td>96.0</td>\n",
       "      <td>91.0</td>\n",
       "      <td>85.0</td>\n",
       "      <td>75.0</td>\n",
       "      <td>23.0</td>\n",
       "      <td>0.25</td>\n",
       "    </tr>\n",
       "    <tr>\n",
       "      <th>2</th>\n",
       "      <td>G161R</td>\n",
       "      <td>c.481G&gt;A</td>\n",
       "      <td>ex8</td>\n",
       "      <td>M368V</td>\n",
       "      <td>c.1102A&gt;G</td>\n",
       "      <td>ex13</td>\n",
       "      <td>23.0</td>\n",
       "      <td>40.0</td>\n",
       "      <td>36.0</td>\n",
       "      <td>100.0</td>\n",
       "      <td>47.0</td>\n",
       "      <td>39.0</td>\n",
       "      <td>31.0</td>\n",
       "      <td>0.0</td>\n",
       "      <td>19.0</td>\n",
       "      <td>53.0</td>\n",
       "      <td>1.75</td>\n",
       "    </tr>\n",
       "    <tr>\n",
       "      <th>4</th>\n",
       "      <td>G161R</td>\n",
       "      <td>c.481G&gt;A</td>\n",
       "      <td>ex8</td>\n",
       "      <td>G161R</td>\n",
       "      <td>c.481G&gt;A</td>\n",
       "      <td>ex8</td>\n",
       "      <td>23.0</td>\n",
       "      <td>29.0</td>\n",
       "      <td>50.0</td>\n",
       "      <td>100.0</td>\n",
       "      <td>33.0</td>\n",
       "      <td>29.0</td>\n",
       "      <td>60.0</td>\n",
       "      <td>25.0</td>\n",
       "      <td>13.0</td>\n",
       "      <td>70.0</td>\n",
       "      <td>2.00</td>\n",
       "    </tr>\n",
       "    <tr>\n",
       "      <th>5</th>\n",
       "      <td>G161R</td>\n",
       "      <td>c.481G&gt;A</td>\n",
       "      <td>ex8</td>\n",
       "      <td>G161R</td>\n",
       "      <td>c.481G&gt;A</td>\n",
       "      <td>ex8</td>\n",
       "      <td>26.0</td>\n",
       "      <td>31.0</td>\n",
       "      <td>50.0</td>\n",
       "      <td>100.0</td>\n",
       "      <td>44.0</td>\n",
       "      <td>29.0</td>\n",
       "      <td>32.0</td>\n",
       "      <td>35.0</td>\n",
       "      <td>13.0</td>\n",
       "      <td>71.0</td>\n",
       "      <td>1.88</td>\n",
       "    </tr>\n",
       "    <tr>\n",
       "      <th>6</th>\n",
       "      <td>S47L</td>\n",
       "      <td>c.140C&gt;T</td>\n",
       "      <td>ex3</td>\n",
       "      <td>S47L</td>\n",
       "      <td>c.140C&gt;T</td>\n",
       "      <td>ex3</td>\n",
       "      <td>38.0</td>\n",
       "      <td>53.0</td>\n",
       "      <td>29.0</td>\n",
       "      <td>100.0</td>\n",
       "      <td>78.0</td>\n",
       "      <td>93.0</td>\n",
       "      <td>71.0</td>\n",
       "      <td>25.0</td>\n",
       "      <td>44.0</td>\n",
       "      <td>50.0</td>\n",
       "      <td>0.75</td>\n",
       "    </tr>\n",
       "    <tr>\n",
       "      <th>7</th>\n",
       "      <td>G161R</td>\n",
       "      <td>c.481G&gt;A</td>\n",
       "      <td>ex8</td>\n",
       "      <td>G161R</td>\n",
       "      <td>c.481G&gt;A</td>\n",
       "      <td>ex8</td>\n",
       "      <td>41.0</td>\n",
       "      <td>64.0</td>\n",
       "      <td>21.0</td>\n",
       "      <td>0.0</td>\n",
       "      <td>78.0</td>\n",
       "      <td>39.0</td>\n",
       "      <td>76.0</td>\n",
       "      <td>60.0</td>\n",
       "      <td>56.0</td>\n",
       "      <td>2.0</td>\n",
       "      <td>0.63</td>\n",
       "    </tr>\n",
       "    <tr>\n",
       "      <th>10</th>\n",
       "      <td>W97C</td>\n",
       "      <td>c.291G&gt;C</td>\n",
       "      <td>ex5</td>\n",
       "      <td>W97C</td>\n",
       "      <td>c.291G&gt;C</td>\n",
       "      <td>ex5</td>\n",
       "      <td>44.0</td>\n",
       "      <td>56.0</td>\n",
       "      <td>57.0</td>\n",
       "      <td>50.0</td>\n",
       "      <td>94.0</td>\n",
       "      <td>100.0</td>\n",
       "      <td>100.0</td>\n",
       "      <td>100.0</td>\n",
       "      <td>69.0</td>\n",
       "      <td>55.0</td>\n",
       "      <td>0.00</td>\n",
       "    </tr>\n",
       "    <tr>\n",
       "      <th>13</th>\n",
       "      <td>R225P</td>\n",
       "      <td>c.674G&gt;C</td>\n",
       "      <td>ex10</td>\n",
       "      <td>I216T</td>\n",
       "      <td>c.647T&gt;C</td>\n",
       "      <td>ex9</td>\n",
       "      <td>33.0</td>\n",
       "      <td>17.0</td>\n",
       "      <td>57.0</td>\n",
       "      <td>100.0</td>\n",
       "      <td>17.0</td>\n",
       "      <td>0.0</td>\n",
       "      <td>21.0</td>\n",
       "      <td>0.0</td>\n",
       "      <td>6.0</td>\n",
       "      <td>100.0</td>\n",
       "      <td>1.38</td>\n",
       "    </tr>\n",
       "    <tr>\n",
       "      <th>16</th>\n",
       "      <td>R53Q</td>\n",
       "      <td>c.158G&gt;A</td>\n",
       "      <td>ex3</td>\n",
       "      <td>R53Q</td>\n",
       "      <td>c.158G&gt;A</td>\n",
       "      <td>ex3</td>\n",
       "      <td>25.0</td>\n",
       "      <td>44.0</td>\n",
       "      <td>29.0</td>\n",
       "      <td>75.0</td>\n",
       "      <td>47.0</td>\n",
       "      <td>54.0</td>\n",
       "      <td>18.0</td>\n",
       "      <td>0.0</td>\n",
       "      <td>19.0</td>\n",
       "      <td>77.0</td>\n",
       "      <td>1.63</td>\n",
       "    </tr>\n",
       "    <tr>\n",
       "      <th>17</th>\n",
       "      <td>G161R</td>\n",
       "      <td>c.481G&gt;A</td>\n",
       "      <td>ex8</td>\n",
       "      <td>G161R</td>\n",
       "      <td>c.481G&gt;A</td>\n",
       "      <td>ex8</td>\n",
       "      <td>40.0</td>\n",
       "      <td>2.0</td>\n",
       "      <td>50.0</td>\n",
       "      <td>100.0</td>\n",
       "      <td>NaN</td>\n",
       "      <td>NaN</td>\n",
       "      <td>NaN</td>\n",
       "      <td>NaN</td>\n",
       "      <td>NaN</td>\n",
       "      <td>98.0</td>\n",
       "      <td>2.50</td>\n",
       "    </tr>\n",
       "    <tr>\n",
       "      <th>18</th>\n",
       "      <td>G161R</td>\n",
       "      <td>c.481G&gt;A</td>\n",
       "      <td>ex8</td>\n",
       "      <td>G161R</td>\n",
       "      <td>c.481G&gt;A</td>\n",
       "      <td>ex8</td>\n",
       "      <td>16.0</td>\n",
       "      <td>30.0</td>\n",
       "      <td>43.0</td>\n",
       "      <td>100.0</td>\n",
       "      <td>36.0</td>\n",
       "      <td>21.0</td>\n",
       "      <td>3.0</td>\n",
       "      <td>0.0</td>\n",
       "      <td>0.0</td>\n",
       "      <td>48.0</td>\n",
       "      <td>2.50</td>\n",
       "    </tr>\n",
       "    <tr>\n",
       "      <th>19</th>\n",
       "      <td>A267V</td>\n",
       "      <td>c.800C&gt;T</td>\n",
       "      <td>ex11</td>\n",
       "      <td>A267V</td>\n",
       "      <td>c.800C&gt;T</td>\n",
       "      <td>ex11</td>\n",
       "      <td>57.0</td>\n",
       "      <td>58.0</td>\n",
       "      <td>0.0</td>\n",
       "      <td>50.0</td>\n",
       "      <td>100.0</td>\n",
       "      <td>100.0</td>\n",
       "      <td>100.0</td>\n",
       "      <td>100.0</td>\n",
       "      <td>100.0</td>\n",
       "      <td>0.0</td>\n",
       "      <td>0.00</td>\n",
       "    </tr>\n",
       "    <tr>\n",
       "      <th>21</th>\n",
       "      <td>M368V</td>\n",
       "      <td>c.1102A&gt;G</td>\n",
       "      <td>ex13</td>\n",
       "      <td>M368V</td>\n",
       "      <td>c.1102A&gt;G</td>\n",
       "      <td>ex13</td>\n",
       "      <td>15.0</td>\n",
       "      <td>50.0</td>\n",
       "      <td>79.0</td>\n",
       "      <td>100.0</td>\n",
       "      <td>19.0</td>\n",
       "      <td>14.0</td>\n",
       "      <td>19.0</td>\n",
       "      <td>5.0</td>\n",
       "      <td>0.0</td>\n",
       "      <td>80.0</td>\n",
       "      <td>1.63</td>\n",
       "    </tr>\n",
       "    <tr>\n",
       "      <th>27</th>\n",
       "      <td>G362E</td>\n",
       "      <td>c.1085G&gt;A</td>\n",
       "      <td>ex13</td>\n",
       "      <td>M368V</td>\n",
       "      <td>c.1102A&gt;G</td>\n",
       "      <td>ex13</td>\n",
       "      <td>38.0</td>\n",
       "      <td>28.0</td>\n",
       "      <td>29.0</td>\n",
       "      <td>100.0</td>\n",
       "      <td>86.0</td>\n",
       "      <td>79.0</td>\n",
       "      <td>78.0</td>\n",
       "      <td>75.0</td>\n",
       "      <td>69.0</td>\n",
       "      <td>74.0</td>\n",
       "      <td>0.50</td>\n",
       "    </tr>\n",
       "    <tr>\n",
       "      <th>28</th>\n",
       "      <td>G161R</td>\n",
       "      <td>c.481G&gt;A</td>\n",
       "      <td>ex8</td>\n",
       "      <td>R53Q</td>\n",
       "      <td>c.158G&gt;A</td>\n",
       "      <td>ex3</td>\n",
       "      <td>54.0</td>\n",
       "      <td>52.0</td>\n",
       "      <td>7.0</td>\n",
       "      <td>25.0</td>\n",
       "      <td>100.0</td>\n",
       "      <td>93.0</td>\n",
       "      <td>84.0</td>\n",
       "      <td>75.0</td>\n",
       "      <td>88.0</td>\n",
       "      <td>20.0</td>\n",
       "      <td>0.00</td>\n",
       "    </tr>\n",
       "  </tbody>\n",
       "</table>\n",
       "</div>"
      ],
      "text/plain": [
       "   Protein change allele 1  DNA change allele 1 Exon/intron allele 1  \\\n",
       "1                     G161R            c.481G>A                  ex8   \n",
       "2                     G161R            c.481G>A                  ex8   \n",
       "4                     G161R            c.481G>A                  ex8   \n",
       "5                     G161R            c.481G>A                  ex8   \n",
       "6                      S47L            c.140C>T                  ex3   \n",
       "7                     G161R            c.481G>A                  ex8   \n",
       "10                     W97C            c.291G>C                  ex5   \n",
       "13                    R225P            c.674G>C                 ex10   \n",
       "16                     R53Q            c.158G>A                  ex3   \n",
       "17                    G161R            c.481G>A                  ex8   \n",
       "18                    G161R            c.481G>A                  ex8   \n",
       "19                    A267V            c.800C>T                 ex11   \n",
       "21                    M368V           c.1102A>G                 ex13   \n",
       "27                    G362E           c.1085G>A                 ex13   \n",
       "28                    G161R            c.481G>A                  ex8   \n",
       "\n",
       "   Protein change allele 2 DNA change allele 2 ex/in allele 2  \\\n",
       "1                    G161R            c.481G>A            ex8   \n",
       "2                    M368V           c.1102A>G           ex13   \n",
       "4                    G161R            c.481G>A            ex8   \n",
       "5                    G161R            c.481G>A            ex8   \n",
       "6                     S47L            c.140C>T            ex3   \n",
       "7                    G161R            c.481G>A            ex8   \n",
       "10                    W97C            c.291G>C            ex5   \n",
       "13                   I216T            c.647T>C            ex9   \n",
       "16                    R53Q            c.158G>A            ex3   \n",
       "17                   G161R            c.481G>A            ex8   \n",
       "18                   G161R            c.481G>A            ex8   \n",
       "19                   A267V            c.800C>T           ex11   \n",
       "21                   M368V           c.1102A>G           ex13   \n",
       "27                   M368V           c.1102A>G           ex13   \n",
       "28                    R53Q            c.158G>A            ex3   \n",
       "\n",
       "    physical_health_score  mental_health_score  AKUSSI_jointpain  \\\n",
       "1                    53.0                 51.0              29.0   \n",
       "2                    23.0                 40.0              36.0   \n",
       "4                    23.0                 29.0              50.0   \n",
       "5                    26.0                 31.0              50.0   \n",
       "6                    38.0                 53.0              29.0   \n",
       "7                    41.0                 64.0              21.0   \n",
       "10                   44.0                 56.0              57.0   \n",
       "13                   33.0                 17.0              57.0   \n",
       "16                   25.0                 44.0              29.0   \n",
       "17                   40.0                  2.0              50.0   \n",
       "18                   16.0                 30.0              43.0   \n",
       "19                   57.0                 58.0               0.0   \n",
       "21                   15.0                 50.0              79.0   \n",
       "27                   38.0                 28.0              29.0   \n",
       "28                   54.0                 52.0               7.0   \n",
       "\n",
       "    AKUSSI_spinalpain  KOOSpain  KOOSsymptoms  KOOSdaily_living  KOOSsport  \\\n",
       "1                25.0      92.0          96.0              91.0       85.0   \n",
       "2               100.0      47.0          39.0              31.0        0.0   \n",
       "4               100.0      33.0          29.0              60.0       25.0   \n",
       "5               100.0      44.0          29.0              32.0       35.0   \n",
       "6               100.0      78.0          93.0              71.0       25.0   \n",
       "7                 0.0      78.0          39.0              76.0       60.0   \n",
       "10               50.0      94.0         100.0             100.0      100.0   \n",
       "13              100.0      17.0           0.0              21.0        0.0   \n",
       "16               75.0      47.0          54.0              18.0        0.0   \n",
       "17              100.0       NaN           NaN               NaN        NaN   \n",
       "18              100.0      36.0          21.0               3.0        0.0   \n",
       "19               50.0     100.0         100.0             100.0      100.0   \n",
       "21              100.0      19.0          14.0              19.0        5.0   \n",
       "27              100.0      86.0          79.0              78.0       75.0   \n",
       "28               25.0     100.0          93.0              84.0       75.0   \n",
       "\n",
       "    KOOS_QOL  HAQ_hapVAS  HAQ_haqDI  \n",
       "1       75.0        23.0       0.25  \n",
       "2       19.0        53.0       1.75  \n",
       "4       13.0        70.0       2.00  \n",
       "5       13.0        71.0       1.88  \n",
       "6       44.0        50.0       0.75  \n",
       "7       56.0         2.0       0.63  \n",
       "10      69.0        55.0       0.00  \n",
       "13       6.0       100.0       1.38  \n",
       "16      19.0        77.0       1.63  \n",
       "17       NaN        98.0       2.50  \n",
       "18       0.0        48.0       2.50  \n",
       "19     100.0         0.0       0.00  \n",
       "21       0.0        80.0       1.63  \n",
       "27      69.0        74.0       0.50  \n",
       "28      88.0        20.0       0.00  "
      ]
     },
     "execution_count": 40,
     "metadata": {},
     "output_type": "execute_result"
    }
   ],
   "source": [
    "df4.head(15)"
   ]
  },
  {
   "cell_type": "code",
   "execution_count": 41,
   "metadata": {},
   "outputs": [
    {
     "data": {
      "text/html": [
       "<div>\n",
       "<style scoped>\n",
       "    .dataframe tbody tr th:only-of-type {\n",
       "        vertical-align: middle;\n",
       "    }\n",
       "\n",
       "    .dataframe tbody tr th {\n",
       "        vertical-align: top;\n",
       "    }\n",
       "\n",
       "    .dataframe thead th {\n",
       "        text-align: right;\n",
       "    }\n",
       "</style>\n",
       "<table border=\"1\" class=\"dataframe\">\n",
       "  <thead>\n",
       "    <tr style=\"text-align: right;\">\n",
       "      <th></th>\n",
       "      <th>Protein change allele 1</th>\n",
       "      <th>DNA change allele 1</th>\n",
       "      <th>Exon/intron allele 1</th>\n",
       "      <th>Protein change allele 2</th>\n",
       "      <th>DNA change allele 2</th>\n",
       "      <th>ex/in allele 2</th>\n",
       "    </tr>\n",
       "  </thead>\n",
       "  <tbody>\n",
       "    <tr>\n",
       "      <th>1</th>\n",
       "      <td>G161R</td>\n",
       "      <td>c.481G&gt;A</td>\n",
       "      <td>ex8</td>\n",
       "      <td>G161R</td>\n",
       "      <td>c.481G&gt;A</td>\n",
       "      <td>ex8</td>\n",
       "    </tr>\n",
       "    <tr>\n",
       "      <th>2</th>\n",
       "      <td>G161R</td>\n",
       "      <td>c.481G&gt;A</td>\n",
       "      <td>ex8</td>\n",
       "      <td>M368V</td>\n",
       "      <td>c.1102A&gt;G</td>\n",
       "      <td>ex13</td>\n",
       "    </tr>\n",
       "    <tr>\n",
       "      <th>4</th>\n",
       "      <td>G161R</td>\n",
       "      <td>c.481G&gt;A</td>\n",
       "      <td>ex8</td>\n",
       "      <td>G161R</td>\n",
       "      <td>c.481G&gt;A</td>\n",
       "      <td>ex8</td>\n",
       "    </tr>\n",
       "    <tr>\n",
       "      <th>5</th>\n",
       "      <td>G161R</td>\n",
       "      <td>c.481G&gt;A</td>\n",
       "      <td>ex8</td>\n",
       "      <td>G161R</td>\n",
       "      <td>c.481G&gt;A</td>\n",
       "      <td>ex8</td>\n",
       "    </tr>\n",
       "    <tr>\n",
       "      <th>6</th>\n",
       "      <td>S47L</td>\n",
       "      <td>c.140C&gt;T</td>\n",
       "      <td>ex3</td>\n",
       "      <td>S47L</td>\n",
       "      <td>c.140C&gt;T</td>\n",
       "      <td>ex3</td>\n",
       "    </tr>\n",
       "  </tbody>\n",
       "</table>\n",
       "</div>"
      ],
      "text/plain": [
       "  Protein change allele 1  DNA change allele 1 Exon/intron allele 1  \\\n",
       "1                    G161R            c.481G>A                  ex8   \n",
       "2                    G161R            c.481G>A                  ex8   \n",
       "4                    G161R            c.481G>A                  ex8   \n",
       "5                    G161R            c.481G>A                  ex8   \n",
       "6                     S47L            c.140C>T                  ex3   \n",
       "\n",
       "  Protein change allele 2 DNA change allele 2 ex/in allele 2  \n",
       "1                   G161R            c.481G>A            ex8  \n",
       "2                   M368V           c.1102A>G           ex13  \n",
       "4                   G161R            c.481G>A            ex8  \n",
       "5                   G161R            c.481G>A            ex8  \n",
       "6                    S47L            c.140C>T            ex3  "
      ]
     },
     "execution_count": 41,
     "metadata": {},
     "output_type": "execute_result"
    }
   ],
   "source": [
    "seq = [\n",
    "    'Protein change allele 1 ', \n",
    "    'DNA change allele 1',\n",
    "    'Exon/intron allele 1', \n",
    "    'Protein change allele 2',\n",
    "    'DNA change allele 2', \n",
    "    'ex/in allele 2'\n",
    "]\n",
    "\n",
    "# keep only the columns in the seq list\n",
    "df5 = df4[seq]\n",
    "df5.head()"
   ]
  },
  {
   "cell_type": "code",
   "execution_count": 42,
   "metadata": {},
   "outputs": [
    {
     "data": {
      "text/plain": [
       "DNA change allele 1\n",
       "c.481G>A      36\n",
       "c.365C>T      12\n",
       " c.1201G>C     8\n",
       "c.1102A>G      7\n",
       " c.158G>A      4\n",
       " c.1102A>G     3\n",
       " C158G>A       3\n",
       "c.502G>A       3\n",
       "c.688C>T       3\n",
       " c.688C>T      3\n",
       "c.1078G>C      2\n",
       "c.368G>C       2\n",
       "c.647T>C       2\n",
       "c.808G>A       2\n",
       "c.359G>T       1\n",
       "c.289T>G       1\n",
       "c.217T>C       1\n",
       "c.509G>C       1\n",
       "c.1081G>A      1\n",
       "c.553G>A       1\n",
       "c.1079G>C      1\n",
       "c.815A>G       1\n",
       "c.508G>A       1\n",
       "c.449C>T       1\n",
       "c.130C>T       1\n",
       "c.680T>C       1\n",
       "c.593G>A       1\n",
       "c.140C>T       1\n",
       "c.742A>G       1\n",
       "c.119A>C       1\n",
       "c.752G>A       1\n",
       "c.347T>C       1\n",
       "c.533A>G       1\n",
       "c.990G>C       1\n",
       "c.1037T>C      1\n",
       "c.1085G>A      1\n",
       "c.800C>T       1\n",
       "c.674G>C       1\n",
       "c.291G>C       1\n",
       "c.1057A>C      1\n",
       "Name: count, dtype: int64"
      ]
     },
     "execution_count": 42,
     "metadata": {},
     "output_type": "execute_result"
    }
   ],
   "source": [
    "df5['DNA change allele 1'].value_counts()"
   ]
  },
  {
   "cell_type": "markdown",
   "metadata": {},
   "source": [
    "some instances have a space before the DNA change: let's uniform the data"
   ]
  },
  {
   "cell_type": "code",
   "execution_count": 43,
   "metadata": {},
   "outputs": [
    {
     "name": "stderr",
     "output_type": "stream",
     "text": [
      "C:\\Users\\HUAWEI\\AppData\\Local\\Temp\\ipykernel_15996\\2035421048.py:2: SettingWithCopyWarning: \n",
      "A value is trying to be set on a copy of a slice from a DataFrame.\n",
      "Try using .loc[row_indexer,col_indexer] = value instead\n",
      "\n",
      "See the caveats in the documentation: https://pandas.pydata.org/pandas-docs/stable/user_guide/indexing.html#returning-a-view-versus-a-copy\n",
      "  df5['DNA change allele 1'] = df5['DNA change allele 1'].str.replace(' ', '')\n"
     ]
    },
    {
     "data": {
      "text/plain": [
       "DNA change allele 1\n",
       "c.481G>A     36\n",
       "c.365C>T     12\n",
       "c.1102A>G    10\n",
       "c.1201G>C     8\n",
       "c.688C>T      6\n",
       "c.158G>A      4\n",
       "C158G>A       3\n",
       "c.502G>A      3\n",
       "c.1078G>C     2\n",
       "c.368G>C      2\n",
       "c.647T>C      2\n",
       "c.808G>A      2\n",
       "c.449C>T      1\n",
       "c.359G>T      1\n",
       "c.217T>C      1\n",
       "c.509G>C      1\n",
       "c.289T>G      1\n",
       "c.1081G>A     1\n",
       "c.553G>A      1\n",
       "c.680T>C      1\n",
       "c.815A>G      1\n",
       "c.508G>A      1\n",
       "c.1079G>C     1\n",
       "c.742A>G      1\n",
       "c.593G>A      1\n",
       "c.130C>T      1\n",
       "c.140C>T      1\n",
       "c.119A>C      1\n",
       "c.752G>A      1\n",
       "c.347T>C      1\n",
       "c.533A>G      1\n",
       "c.990G>C      1\n",
       "c.1037T>C     1\n",
       "c.1085G>A     1\n",
       "c.800C>T      1\n",
       "c.674G>C      1\n",
       "c.291G>C      1\n",
       "c.1057A>C     1\n",
       "Name: count, dtype: int64"
      ]
     },
     "execution_count": 43,
     "metadata": {},
     "output_type": "execute_result"
    }
   ],
   "source": [
    "# eliminate the space in the column DNA change allele 1\n",
    "df5['DNA change allele 1'] = df5['DNA change allele 1'].str.replace(' ', '')\n",
    "df5['DNA change allele 1'].value_counts()"
   ]
  },
  {
   "cell_type": "code",
   "execution_count": 44,
   "metadata": {},
   "outputs": [
    {
     "data": {
      "text/plain": [
       "Exon/intron allele 1\n",
       "ex8      41\n",
       "ex6      16\n",
       "ex13     14\n",
       "ex10      8\n",
       " ex3      6\n",
       "ex14      5\n",
       "ex11      4\n",
       "ex3       4\n",
       "ex9       4\n",
       " ex14     3\n",
       " ex13     3\n",
       "ex5       2\n",
       " ex10     2\n",
       "ex12      1\n",
       "ex7       1\n",
       "ex4       1\n",
       "ex 8      1\n",
       "Name: count, dtype: int64"
      ]
     },
     "execution_count": 44,
     "metadata": {},
     "output_type": "execute_result"
    }
   ],
   "source": [
    "# see value counts for Exon/intron allele 1 column\n",
    "df5['Exon/intron allele 1'].value_counts()"
   ]
  },
  {
   "cell_type": "code",
   "execution_count": 45,
   "metadata": {},
   "outputs": [
    {
     "name": "stderr",
     "output_type": "stream",
     "text": [
      "C:\\Users\\HUAWEI\\AppData\\Local\\Temp\\ipykernel_15996\\4246110940.py:2: SettingWithCopyWarning: \n",
      "A value is trying to be set on a copy of a slice from a DataFrame.\n",
      "Try using .loc[row_indexer,col_indexer] = value instead\n",
      "\n",
      "See the caveats in the documentation: https://pandas.pydata.org/pandas-docs/stable/user_guide/indexing.html#returning-a-view-versus-a-copy\n",
      "  df5['Exon/intron allele 1'] = df5['Exon/intron allele 1'].str.replace(' ', '')\n"
     ]
    },
    {
     "data": {
      "text/plain": [
       "Exon/intron allele 1\n",
       "ex8     42\n",
       "ex13    17\n",
       "ex6     16\n",
       "ex3     10\n",
       "ex10    10\n",
       "ex14     8\n",
       "ex11     4\n",
       "ex9      4\n",
       "ex5      2\n",
       "ex12     1\n",
       "ex7      1\n",
       "ex4      1\n",
       "Name: count, dtype: int64"
      ]
     },
     "execution_count": 45,
     "metadata": {},
     "output_type": "execute_result"
    }
   ],
   "source": [
    "# eliminate the space in the column Exon/intron allele 1\n",
    "df5['Exon/intron allele 1'] = df5['Exon/intron allele 1'].str.replace(' ', '')\n",
    "df5['Exon/intron allele 1'].value_counts()"
   ]
  },
  {
   "cell_type": "code",
   "execution_count": 46,
   "metadata": {},
   "outputs": [
    {
     "data": {
      "text/plain": [
       "DNA change allele 2\n",
       "c.481G>A      23\n",
       "c.365C>T      13\n",
       " c.1201G>C     9\n",
       "c.1102A>G      8\n",
       " c.158G>A      6\n",
       "c.1078G>C      6\n",
       " c.688C>T      5\n",
       " c.899T>G      4\n",
       "c.808G>A       4\n",
       " C158G>A       3\n",
       "c.680T>C       3\n",
       " c.1102A>G     3\n",
       "c.647T>C       2\n",
       "c.502G>A       2\n",
       "c.368G>C       2\n",
       "c.688C>T       2\n",
       "c.500C>T       1\n",
       "c.533A>G       1\n",
       "c.359G>T       1\n",
       "c.1057A>C      1\n",
       "c.995C>G       1\n",
       "c.815A>G       1\n",
       "c.899T>G       1\n",
       "c.752G>A       1\n",
       "c.593G>A       1\n",
       "c.130C>T       1\n",
       "c.742A>G       1\n",
       "c.119A>C       1\n",
       "c.614G>A       1\n",
       "c.347T>C       1\n",
       "c.990G>C       1\n",
       "c.1037T>C      1\n",
       "c.454G>A       1\n",
       "c.800C>T       1\n",
       "c.291G>C       1\n",
       "c.140C>T       1\n",
       "c.52G>T        1\n",
       "Name: count, dtype: int64"
      ]
     },
     "execution_count": 46,
     "metadata": {},
     "output_type": "execute_result"
    }
   ],
   "source": [
    "df5['DNA change allele 2'].value_counts()"
   ]
  },
  {
   "cell_type": "code",
   "execution_count": 47,
   "metadata": {},
   "outputs": [
    {
     "name": "stderr",
     "output_type": "stream",
     "text": [
      "C:\\Users\\HUAWEI\\AppData\\Local\\Temp\\ipykernel_15996\\1093346150.py:2: SettingWithCopyWarning: \n",
      "A value is trying to be set on a copy of a slice from a DataFrame.\n",
      "Try using .loc[row_indexer,col_indexer] = value instead\n",
      "\n",
      "See the caveats in the documentation: https://pandas.pydata.org/pandas-docs/stable/user_guide/indexing.html#returning-a-view-versus-a-copy\n",
      "  df5['DNA change allele 2'] = df5['DNA change allele 2'].str.replace(' ', '')\n"
     ]
    },
    {
     "data": {
      "text/plain": [
       "DNA change allele 2\n",
       "c.481G>A     23\n",
       "c.365C>T     13\n",
       "c.1102A>G    11\n",
       "c.1201G>C     9\n",
       "c.688C>T      7\n",
       "c.158G>A      6\n",
       "c.1078G>C     6\n",
       "c.899T>G      5\n",
       "c.808G>A      4\n",
       "c.680T>C      3\n",
       "C158G>A       3\n",
       "c.647T>C      2\n",
       "c.368G>C      2\n",
       "c.502G>A      2\n",
       "c.995C>G      1\n",
       "c.500C>T      1\n",
       "c.359G>T      1\n",
       "c.1057A>C     1\n",
       "c.815A>G      1\n",
       "c.533A>G      1\n",
       "c.593G>A      1\n",
       "c.614G>A      1\n",
       "c.130C>T      1\n",
       "c.742A>G      1\n",
       "c.119A>C      1\n",
       "c.752G>A      1\n",
       "c.347T>C      1\n",
       "c.990G>C      1\n",
       "c.1037T>C     1\n",
       "c.454G>A      1\n",
       "c.800C>T      1\n",
       "c.291G>C      1\n",
       "c.140C>T      1\n",
       "c.52G>T       1\n",
       "Name: count, dtype: int64"
      ]
     },
     "execution_count": 47,
     "metadata": {},
     "output_type": "execute_result"
    }
   ],
   "source": [
    "# eliminate the space in the column DNA change allele 2\n",
    "df5['DNA change allele 2'] = df5['DNA change allele 2'].str.replace(' ', '')\n",
    "df5['DNA change allele 2'].value_counts()"
   ]
  },
  {
   "cell_type": "code",
   "execution_count": 48,
   "metadata": {},
   "outputs": [
    {
     "data": {
      "text/plain": [
       "ex/in allele 2\n",
       "ex8      26\n",
       "ex6      17\n",
       "ex13     16\n",
       " ex3     10\n",
       " ex14     9\n",
       "ex10      7\n",
       "ex11      6\n",
       " ex10     5\n",
       "ex9       4\n",
       " ex12     4\n",
       "ex12      3\n",
       " ex13     3\n",
       "ex3       2\n",
       "ex5       1\n",
       "ex7       1\n",
       "ex2       1\n",
       "ex 8      1\n",
       "Name: count, dtype: int64"
      ]
     },
     "execution_count": 48,
     "metadata": {},
     "output_type": "execute_result"
    }
   ],
   "source": [
    "df5['ex/in allele 2'].value_counts()"
   ]
  },
  {
   "cell_type": "code",
   "execution_count": 49,
   "metadata": {},
   "outputs": [
    {
     "name": "stderr",
     "output_type": "stream",
     "text": [
      "C:\\Users\\HUAWEI\\AppData\\Local\\Temp\\ipykernel_15996\\4150708269.py:2: SettingWithCopyWarning: \n",
      "A value is trying to be set on a copy of a slice from a DataFrame.\n",
      "Try using .loc[row_indexer,col_indexer] = value instead\n",
      "\n",
      "See the caveats in the documentation: https://pandas.pydata.org/pandas-docs/stable/user_guide/indexing.html#returning-a-view-versus-a-copy\n",
      "  df5['ex/in allele 2'] = df5['ex/in allele 2'].str.replace(' ', '')\n"
     ]
    }
   ],
   "source": [
    "# eliminate the space in the column ex/in allele 2\n",
    "df5['ex/in allele 2'] = df5['ex/in allele 2'].str.replace(' ', '')"
   ]
  },
  {
   "cell_type": "code",
   "execution_count": 50,
   "metadata": {},
   "outputs": [
    {
     "data": {
      "text/plain": [
       "ex/in allele 2\n",
       "ex8     27\n",
       "ex13    19\n",
       "ex6     17\n",
       "ex3     12\n",
       "ex10    12\n",
       "ex14     9\n",
       "ex12     7\n",
       "ex11     6\n",
       "ex9      4\n",
       "ex5      1\n",
       "ex7      1\n",
       "ex2      1\n",
       "Name: count, dtype: int64"
      ]
     },
     "execution_count": 50,
     "metadata": {},
     "output_type": "execute_result"
    }
   ],
   "source": [
    "df5['ex/in allele 2'].value_counts()"
   ]
  },
  {
   "cell_type": "code",
   "execution_count": 51,
   "metadata": {},
   "outputs": [
    {
     "data": {
      "text/html": [
       "<div>\n",
       "<style scoped>\n",
       "    .dataframe tbody tr th:only-of-type {\n",
       "        vertical-align: middle;\n",
       "    }\n",
       "\n",
       "    .dataframe tbody tr th {\n",
       "        vertical-align: top;\n",
       "    }\n",
       "\n",
       "    .dataframe thead th {\n",
       "        text-align: right;\n",
       "    }\n",
       "</style>\n",
       "<table border=\"1\" class=\"dataframe\">\n",
       "  <thead>\n",
       "    <tr style=\"text-align: right;\">\n",
       "      <th></th>\n",
       "      <th>Protein change allele 1</th>\n",
       "      <th>DNA change allele 1</th>\n",
       "      <th>Exon/intron allele 1</th>\n",
       "      <th>Protein change allele 2</th>\n",
       "      <th>DNA change allele 2</th>\n",
       "      <th>ex/in allele 2</th>\n",
       "    </tr>\n",
       "  </thead>\n",
       "  <tbody>\n",
       "    <tr>\n",
       "      <th>1</th>\n",
       "      <td>G161R</td>\n",
       "      <td>c.481G&gt;A</td>\n",
       "      <td>ex8</td>\n",
       "      <td>G161R</td>\n",
       "      <td>c.481G&gt;A</td>\n",
       "      <td>ex8</td>\n",
       "    </tr>\n",
       "    <tr>\n",
       "      <th>2</th>\n",
       "      <td>G161R</td>\n",
       "      <td>c.481G&gt;A</td>\n",
       "      <td>ex8</td>\n",
       "      <td>M368V</td>\n",
       "      <td>c.1102A&gt;G</td>\n",
       "      <td>ex13</td>\n",
       "    </tr>\n",
       "    <tr>\n",
       "      <th>4</th>\n",
       "      <td>G161R</td>\n",
       "      <td>c.481G&gt;A</td>\n",
       "      <td>ex8</td>\n",
       "      <td>G161R</td>\n",
       "      <td>c.481G&gt;A</td>\n",
       "      <td>ex8</td>\n",
       "    </tr>\n",
       "    <tr>\n",
       "      <th>5</th>\n",
       "      <td>G161R</td>\n",
       "      <td>c.481G&gt;A</td>\n",
       "      <td>ex8</td>\n",
       "      <td>G161R</td>\n",
       "      <td>c.481G&gt;A</td>\n",
       "      <td>ex8</td>\n",
       "    </tr>\n",
       "    <tr>\n",
       "      <th>6</th>\n",
       "      <td>S47L</td>\n",
       "      <td>c.140C&gt;T</td>\n",
       "      <td>ex3</td>\n",
       "      <td>S47L</td>\n",
       "      <td>c.140C&gt;T</td>\n",
       "      <td>ex3</td>\n",
       "    </tr>\n",
       "  </tbody>\n",
       "</table>\n",
       "</div>"
      ],
      "text/plain": [
       "  Protein change allele 1  DNA change allele 1 Exon/intron allele 1  \\\n",
       "1                    G161R            c.481G>A                  ex8   \n",
       "2                    G161R            c.481G>A                  ex8   \n",
       "4                    G161R            c.481G>A                  ex8   \n",
       "5                    G161R            c.481G>A                  ex8   \n",
       "6                     S47L            c.140C>T                  ex3   \n",
       "\n",
       "  Protein change allele 2 DNA change allele 2 ex/in allele 2  \n",
       "1                   G161R            c.481G>A            ex8  \n",
       "2                   M368V           c.1102A>G           ex13  \n",
       "4                   G161R            c.481G>A            ex8  \n",
       "5                   G161R            c.481G>A            ex8  \n",
       "6                    S47L            c.140C>T            ex3  "
      ]
     },
     "execution_count": 51,
     "metadata": {},
     "output_type": "execute_result"
    }
   ],
   "source": [
    "df5.head()"
   ]
  },
  {
   "cell_type": "markdown",
   "metadata": {},
   "source": [
    "notiamo che il paziente 4 e 5 sono uguali all'1 in tutto e per tutto, quindi saranno rappresentati dalla proteina 3d ottenuta per il paziente1"
   ]
  },
  {
   "cell_type": "code",
   "execution_count": 52,
   "metadata": {},
   "outputs": [
    {
     "data": {
      "text/plain": [
       "(53, 6)"
      ]
     },
     "execution_count": 52,
     "metadata": {},
     "output_type": "execute_result"
    }
   ],
   "source": [
    "# count how many different rows are in the dataframe\n",
    "df5.drop_duplicates().shape"
   ]
  },
  {
   "cell_type": "code",
   "execution_count": 53,
   "metadata": {},
   "outputs": [
    {
     "data": {
      "text/html": [
       "<div>\n",
       "<style scoped>\n",
       "    .dataframe tbody tr th:only-of-type {\n",
       "        vertical-align: middle;\n",
       "    }\n",
       "\n",
       "    .dataframe tbody tr th {\n",
       "        vertical-align: top;\n",
       "    }\n",
       "\n",
       "    .dataframe thead th {\n",
       "        text-align: right;\n",
       "    }\n",
       "</style>\n",
       "<table border=\"1\" class=\"dataframe\">\n",
       "  <thead>\n",
       "    <tr style=\"text-align: right;\">\n",
       "      <th></th>\n",
       "      <th>Protein change allele 1</th>\n",
       "      <th>DNA change allele 1</th>\n",
       "      <th>Exon/intron allele 1</th>\n",
       "      <th>Protein change allele 2</th>\n",
       "      <th>DNA change allele 2</th>\n",
       "      <th>ex/in allele 2</th>\n",
       "    </tr>\n",
       "  </thead>\n",
       "  <tbody>\n",
       "    <tr>\n",
       "      <th>1</th>\n",
       "      <td>G161R</td>\n",
       "      <td>c.481G&gt;A</td>\n",
       "      <td>ex8</td>\n",
       "      <td>G161R</td>\n",
       "      <td>c.481G&gt;A</td>\n",
       "      <td>ex8</td>\n",
       "    </tr>\n",
       "    <tr>\n",
       "      <th>2</th>\n",
       "      <td>G161R</td>\n",
       "      <td>c.481G&gt;A</td>\n",
       "      <td>ex8</td>\n",
       "      <td>M368V</td>\n",
       "      <td>c.1102A&gt;G</td>\n",
       "      <td>ex13</td>\n",
       "    </tr>\n",
       "    <tr>\n",
       "      <th>6</th>\n",
       "      <td>S47L</td>\n",
       "      <td>c.140C&gt;T</td>\n",
       "      <td>ex3</td>\n",
       "      <td>S47L</td>\n",
       "      <td>c.140C&gt;T</td>\n",
       "      <td>ex3</td>\n",
       "    </tr>\n",
       "    <tr>\n",
       "      <th>10</th>\n",
       "      <td>W97C</td>\n",
       "      <td>c.291G&gt;C</td>\n",
       "      <td>ex5</td>\n",
       "      <td>W97C</td>\n",
       "      <td>c.291G&gt;C</td>\n",
       "      <td>ex5</td>\n",
       "    </tr>\n",
       "    <tr>\n",
       "      <th>13</th>\n",
       "      <td>R225P</td>\n",
       "      <td>c.674G&gt;C</td>\n",
       "      <td>ex10</td>\n",
       "      <td>I216T</td>\n",
       "      <td>c.647T&gt;C</td>\n",
       "      <td>ex9</td>\n",
       "    </tr>\n",
       "  </tbody>\n",
       "</table>\n",
       "</div>"
      ],
      "text/plain": [
       "   Protein change allele 1  DNA change allele 1 Exon/intron allele 1  \\\n",
       "1                     G161R            c.481G>A                  ex8   \n",
       "2                     G161R            c.481G>A                  ex8   \n",
       "6                      S47L            c.140C>T                  ex3   \n",
       "10                     W97C            c.291G>C                  ex5   \n",
       "13                    R225P            c.674G>C                 ex10   \n",
       "\n",
       "   Protein change allele 2 DNA change allele 2 ex/in allele 2  \n",
       "1                    G161R            c.481G>A            ex8  \n",
       "2                    M368V           c.1102A>G           ex13  \n",
       "6                     S47L            c.140C>T            ex3  \n",
       "10                    W97C            c.291G>C            ex5  \n",
       "13                   I216T            c.647T>C            ex9  "
      ]
     },
     "execution_count": 53,
     "metadata": {},
     "output_type": "execute_result"
    }
   ],
   "source": [
    "df6 = df5.drop_duplicates()\n",
    "df6.head()"
   ]
  },
  {
   "cell_type": "markdown",
   "metadata": {},
   "source": [
    "vediamo infatti che i pazienti 4 e 5 sono stati tolti"
   ]
  },
  {
   "cell_type": "code",
   "execution_count": 54,
   "metadata": {},
   "outputs": [],
   "source": [
    "# save the dataframe to a csv file\n",
    "df6.to_csv('../datasets/aku_prin_v2.0_cleaned.csv', index=False)"
   ]
  },
  {
   "cell_type": "markdown",
   "metadata": {},
   "source": [
    "---"
   ]
  },
  {
   "cell_type": "code",
   "execution_count": 56,
   "metadata": {},
   "outputs": [
    {
     "name": "stdout",
     "output_type": "stream",
     "text": [
      "78\n",
      "76\n"
     ]
    },
    {
     "data": {
      "text/html": [
       "<div>\n",
       "<style scoped>\n",
       "    .dataframe tbody tr th:only-of-type {\n",
       "        vertical-align: middle;\n",
       "    }\n",
       "\n",
       "    .dataframe tbody tr th {\n",
       "        vertical-align: top;\n",
       "    }\n",
       "\n",
       "    .dataframe thead th {\n",
       "        text-align: right;\n",
       "    }\n",
       "</style>\n",
       "<table border=\"1\" class=\"dataframe\">\n",
       "  <thead>\n",
       "    <tr style=\"text-align: right;\">\n",
       "      <th></th>\n",
       "      <th>Protein change allele 1</th>\n",
       "      <th>DNA change allele 1</th>\n",
       "      <th>Exon/intron allele 1</th>\n",
       "      <th>Protein change allele 2</th>\n",
       "      <th>DNA change allele 2</th>\n",
       "      <th>ex/in allele 2</th>\n",
       "      <th>physical_health_score</th>\n",
       "      <th>mental_health_score</th>\n",
       "      <th>AKUSSI_jointpain</th>\n",
       "      <th>AKUSSI_spinalpain</th>\n",
       "      <th>KOOSpain</th>\n",
       "      <th>KOOSsymptoms</th>\n",
       "      <th>KOOSdaily_living</th>\n",
       "      <th>KOOSsport</th>\n",
       "      <th>KOOS_QOL</th>\n",
       "      <th>HAQ_hapVAS</th>\n",
       "      <th>HAQ_haqDI</th>\n",
       "    </tr>\n",
       "  </thead>\n",
       "  <tbody>\n",
       "    <tr>\n",
       "      <th>128</th>\n",
       "      <td>A122V</td>\n",
       "      <td>c.365C&gt;T</td>\n",
       "      <td>ex6</td>\n",
       "      <td>A122V</td>\n",
       "      <td>c.365C&gt;T</td>\n",
       "      <td>ex6</td>\n",
       "      <td>24.0</td>\n",
       "      <td>50.0</td>\n",
       "      <td>29.0</td>\n",
       "      <td>25.0</td>\n",
       "      <td>44.0</td>\n",
       "      <td>61.0</td>\n",
       "      <td>25.0</td>\n",
       "      <td>20.0</td>\n",
       "      <td>50.0</td>\n",
       "      <td>100.0</td>\n",
       "      <td>1.88</td>\n",
       "    </tr>\n",
       "    <tr>\n",
       "      <th>1</th>\n",
       "      <td>G161R</td>\n",
       "      <td>c.481G&gt;A</td>\n",
       "      <td>ex8</td>\n",
       "      <td>G161R</td>\n",
       "      <td>c.481G&gt;A</td>\n",
       "      <td>ex8</td>\n",
       "      <td>53.0</td>\n",
       "      <td>51.0</td>\n",
       "      <td>29.0</td>\n",
       "      <td>25.0</td>\n",
       "      <td>92.0</td>\n",
       "      <td>96.0</td>\n",
       "      <td>91.0</td>\n",
       "      <td>85.0</td>\n",
       "      <td>75.0</td>\n",
       "      <td>23.0</td>\n",
       "      <td>0.25</td>\n",
       "    </tr>\n",
       "    <tr>\n",
       "      <th>129</th>\n",
       "      <td>A122V</td>\n",
       "      <td>c.365C&gt;T</td>\n",
       "      <td>ex6</td>\n",
       "      <td>A122V</td>\n",
       "      <td>c.365C&gt;T</td>\n",
       "      <td>ex6</td>\n",
       "      <td>40.0</td>\n",
       "      <td>60.0</td>\n",
       "      <td>14.0</td>\n",
       "      <td>25.0</td>\n",
       "      <td>78.0</td>\n",
       "      <td>86.0</td>\n",
       "      <td>75.0</td>\n",
       "      <td>85.0</td>\n",
       "      <td>63.0</td>\n",
       "      <td>0.0</td>\n",
       "      <td>0.00</td>\n",
       "    </tr>\n",
       "    <tr>\n",
       "      <th>4</th>\n",
       "      <td>G161R</td>\n",
       "      <td>c.481G&gt;A</td>\n",
       "      <td>ex8</td>\n",
       "      <td>G161R</td>\n",
       "      <td>c.481G&gt;A</td>\n",
       "      <td>ex8</td>\n",
       "      <td>23.0</td>\n",
       "      <td>29.0</td>\n",
       "      <td>50.0</td>\n",
       "      <td>100.0</td>\n",
       "      <td>33.0</td>\n",
       "      <td>29.0</td>\n",
       "      <td>60.0</td>\n",
       "      <td>25.0</td>\n",
       "      <td>13.0</td>\n",
       "      <td>70.0</td>\n",
       "      <td>2.00</td>\n",
       "    </tr>\n",
       "    <tr>\n",
       "      <th>5</th>\n",
       "      <td>G161R</td>\n",
       "      <td>c.481G&gt;A</td>\n",
       "      <td>ex8</td>\n",
       "      <td>G161R</td>\n",
       "      <td>c.481G&gt;A</td>\n",
       "      <td>ex8</td>\n",
       "      <td>26.0</td>\n",
       "      <td>31.0</td>\n",
       "      <td>50.0</td>\n",
       "      <td>100.0</td>\n",
       "      <td>44.0</td>\n",
       "      <td>29.0</td>\n",
       "      <td>32.0</td>\n",
       "      <td>35.0</td>\n",
       "      <td>13.0</td>\n",
       "      <td>71.0</td>\n",
       "      <td>1.88</td>\n",
       "    </tr>\n",
       "    <tr>\n",
       "      <th>...</th>\n",
       "      <td>...</td>\n",
       "      <td>...</td>\n",
       "      <td>...</td>\n",
       "      <td>...</td>\n",
       "      <td>...</td>\n",
       "      <td>...</td>\n",
       "      <td>...</td>\n",
       "      <td>...</td>\n",
       "      <td>...</td>\n",
       "      <td>...</td>\n",
       "      <td>...</td>\n",
       "      <td>...</td>\n",
       "      <td>...</td>\n",
       "      <td>...</td>\n",
       "      <td>...</td>\n",
       "      <td>...</td>\n",
       "      <td>...</td>\n",
       "    </tr>\n",
       "    <tr>\n",
       "      <th>111</th>\n",
       "      <td>R53Q</td>\n",
       "      <td>c.158G&gt;A</td>\n",
       "      <td>ex3</td>\n",
       "      <td>R53Q</td>\n",
       "      <td>c.158G&gt;A</td>\n",
       "      <td>ex3</td>\n",
       "      <td>37.0</td>\n",
       "      <td>40.0</td>\n",
       "      <td>21.0</td>\n",
       "      <td>50.0</td>\n",
       "      <td>83.0</td>\n",
       "      <td>93.0</td>\n",
       "      <td>87.0</td>\n",
       "      <td>80.0</td>\n",
       "      <td>75.0</td>\n",
       "      <td>75.0</td>\n",
       "      <td>0.88</td>\n",
       "    </tr>\n",
       "    <tr>\n",
       "      <th>112</th>\n",
       "      <td>P230S</td>\n",
       "      <td>c.688C&gt;T</td>\n",
       "      <td>ex10</td>\n",
       "      <td>P230S</td>\n",
       "      <td>c.688C&gt;T</td>\n",
       "      <td>ex10</td>\n",
       "      <td>39.0</td>\n",
       "      <td>32.0</td>\n",
       "      <td>50.0</td>\n",
       "      <td>75.0</td>\n",
       "      <td>64.0</td>\n",
       "      <td>54.0</td>\n",
       "      <td>65.0</td>\n",
       "      <td>5.0</td>\n",
       "      <td>19.0</td>\n",
       "      <td>30.0</td>\n",
       "      <td>1.13</td>\n",
       "    </tr>\n",
       "    <tr>\n",
       "      <th>114</th>\n",
       "      <td>G123A</td>\n",
       "      <td>c.368G&gt;C</td>\n",
       "      <td>ex6</td>\n",
       "      <td>G123A</td>\n",
       "      <td>c.368G&gt;C</td>\n",
       "      <td>ex6</td>\n",
       "      <td>29.0</td>\n",
       "      <td>37.0</td>\n",
       "      <td>71.0</td>\n",
       "      <td>50.0</td>\n",
       "      <td>44.0</td>\n",
       "      <td>50.0</td>\n",
       "      <td>52.0</td>\n",
       "      <td>40.0</td>\n",
       "      <td>56.0</td>\n",
       "      <td>35.0</td>\n",
       "      <td>1.75</td>\n",
       "    </tr>\n",
       "    <tr>\n",
       "      <th>122</th>\n",
       "      <td>G161R</td>\n",
       "      <td>c.481G&gt;A</td>\n",
       "      <td>ex8</td>\n",
       "      <td>G161R</td>\n",
       "      <td>c.481G&gt;A</td>\n",
       "      <td>ex8</td>\n",
       "      <td>NaN</td>\n",
       "      <td>NaN</td>\n",
       "      <td>14.0</td>\n",
       "      <td>0.0</td>\n",
       "      <td>100.0</td>\n",
       "      <td>100.0</td>\n",
       "      <td>100.0</td>\n",
       "      <td>100.0</td>\n",
       "      <td>100.0</td>\n",
       "      <td>30.0</td>\n",
       "      <td>0.13</td>\n",
       "    </tr>\n",
       "    <tr>\n",
       "      <th>127</th>\n",
       "      <td>A122V</td>\n",
       "      <td>c.365C&gt;T</td>\n",
       "      <td>ex6</td>\n",
       "      <td>A122V</td>\n",
       "      <td>c.365C&gt;T</td>\n",
       "      <td>ex6</td>\n",
       "      <td>28.0</td>\n",
       "      <td>47.0</td>\n",
       "      <td>29.0</td>\n",
       "      <td>25.0</td>\n",
       "      <td>53.0</td>\n",
       "      <td>82.0</td>\n",
       "      <td>52.0</td>\n",
       "      <td>NaN</td>\n",
       "      <td>63.0</td>\n",
       "      <td>50.0</td>\n",
       "      <td>1.13</td>\n",
       "    </tr>\n",
       "  </tbody>\n",
       "</table>\n",
       "<p>71 rows × 17 columns</p>\n",
       "</div>"
      ],
      "text/plain": [
       "    Protein change allele 1  DNA change allele 1 Exon/intron allele 1  \\\n",
       "128                    A122V            c.365C>T                  ex6   \n",
       "1                      G161R            c.481G>A                  ex8   \n",
       "129                    A122V            c.365C>T                  ex6   \n",
       "4                      G161R            c.481G>A                  ex8   \n",
       "5                      G161R            c.481G>A                  ex8   \n",
       "..                       ...                 ...                  ...   \n",
       "111                     R53Q            c.158G>A                  ex3   \n",
       "112                    P230S            c.688C>T                 ex10   \n",
       "114                    G123A            c.368G>C                  ex6   \n",
       "122                    G161R            c.481G>A                  ex8   \n",
       "127                    A122V            c.365C>T                  ex6   \n",
       "\n",
       "    Protein change allele 2 DNA change allele 2 ex/in allele 2  \\\n",
       "128                   A122V            c.365C>T            ex6   \n",
       "1                     G161R            c.481G>A            ex8   \n",
       "129                   A122V            c.365C>T            ex6   \n",
       "4                     G161R            c.481G>A            ex8   \n",
       "5                     G161R            c.481G>A            ex8   \n",
       "..                      ...                 ...            ...   \n",
       "111                    R53Q            c.158G>A            ex3   \n",
       "112                   P230S            c.688C>T           ex10   \n",
       "114                   G123A            c.368G>C            ex6   \n",
       "122                   G161R            c.481G>A            ex8   \n",
       "127                   A122V            c.365C>T            ex6   \n",
       "\n",
       "     physical_health_score  mental_health_score  AKUSSI_jointpain  \\\n",
       "128                   24.0                 50.0              29.0   \n",
       "1                     53.0                 51.0              29.0   \n",
       "129                   40.0                 60.0              14.0   \n",
       "4                     23.0                 29.0              50.0   \n",
       "5                     26.0                 31.0              50.0   \n",
       "..                     ...                  ...               ...   \n",
       "111                   37.0                 40.0              21.0   \n",
       "112                   39.0                 32.0              50.0   \n",
       "114                   29.0                 37.0              71.0   \n",
       "122                    NaN                  NaN              14.0   \n",
       "127                   28.0                 47.0              29.0   \n",
       "\n",
       "     AKUSSI_spinalpain  KOOSpain  KOOSsymptoms  KOOSdaily_living  KOOSsport  \\\n",
       "128               25.0      44.0          61.0              25.0       20.0   \n",
       "1                 25.0      92.0          96.0              91.0       85.0   \n",
       "129               25.0      78.0          86.0              75.0       85.0   \n",
       "4                100.0      33.0          29.0              60.0       25.0   \n",
       "5                100.0      44.0          29.0              32.0       35.0   \n",
       "..                 ...       ...           ...               ...        ...   \n",
       "111               50.0      83.0          93.0              87.0       80.0   \n",
       "112               75.0      64.0          54.0              65.0        5.0   \n",
       "114               50.0      44.0          50.0              52.0       40.0   \n",
       "122                0.0     100.0         100.0             100.0      100.0   \n",
       "127               25.0      53.0          82.0              52.0        NaN   \n",
       "\n",
       "     KOOS_QOL  HAQ_hapVAS  HAQ_haqDI  \n",
       "128      50.0       100.0       1.88  \n",
       "1        75.0        23.0       0.25  \n",
       "129      63.0         0.0       0.00  \n",
       "4        13.0        70.0       2.00  \n",
       "5        13.0        71.0       1.88  \n",
       "..        ...         ...        ...  \n",
       "111      75.0        75.0       0.88  \n",
       "112      19.0        30.0       1.13  \n",
       "114      56.0        35.0       1.75  \n",
       "122     100.0        30.0       0.13  \n",
       "127      63.0        50.0       1.13  \n",
       "\n",
       "[71 rows x 17 columns]"
      ]
     },
     "execution_count": 56,
     "metadata": {},
     "output_type": "execute_result"
    }
   ],
   "source": [
    "# return the indexes of the elements that have the same value in both columns \n",
    "same_change = df4[df4['Protein change allele 1 '] == df4['Protein change allele 2']].index\n",
    "print(len(same_change))\n",
    "# do the same for exon/intron columns\n",
    "same_exon = df4[df4['Exon/intron allele 1'] == df4['ex/in allele 2']].index\n",
    "print(len(same_exon))\n",
    "\n",
    "# count how many indexes are in both lists\n",
    "indexes = set(same_change) & set(same_exon)\n",
    "\n",
    "# print the df4 elements that are in the indexes list\n",
    "df4.loc[list(indexes)]\n"
   ]
  },
  {
   "cell_type": "code",
   "execution_count": 61,
   "metadata": {},
   "outputs": [
    {
     "data": {
      "text/plain": [
       "90"
      ]
     },
     "execution_count": 61,
     "metadata": {},
     "output_type": "execute_result"
    }
   ],
   "source": [
    "# count unique values of Protein change allele 1 column\n",
    "unique1 = df['Protein change allele 1 '].unique()\n",
    "unique2 = df['Protein change allele 2'].unique()\n",
    "unique = set(unique1) | set(unique2)\n",
    "len(unique)"
   ]
  },
  {
   "cell_type": "markdown",
   "metadata": {},
   "source": [
    "# Obtain all the possible mutations we have: not only substitutions"
   ]
  },
  {
   "cell_type": "code",
   "execution_count": 37,
   "metadata": {},
   "outputs": [
    {
     "data": {
      "text/html": [
       "<div>\n",
       "<style scoped>\n",
       "    .dataframe tbody tr th:only-of-type {\n",
       "        vertical-align: middle;\n",
       "    }\n",
       "\n",
       "    .dataframe tbody tr th {\n",
       "        vertical-align: top;\n",
       "    }\n",
       "\n",
       "    .dataframe thead th {\n",
       "        text-align: right;\n",
       "    }\n",
       "</style>\n",
       "<table border=\"1\" class=\"dataframe\">\n",
       "  <thead>\n",
       "    <tr style=\"text-align: right;\">\n",
       "      <th></th>\n",
       "      <th>Protein change allele 1</th>\n",
       "      <th>DNA change allele 1</th>\n",
       "      <th>Exon/intron allele 1</th>\n",
       "      <th>Protein change allele 2</th>\n",
       "      <th>DNA change allele 2</th>\n",
       "      <th>ex/in allele 2</th>\n",
       "      <th>physical_health_score</th>\n",
       "      <th>mental_health_score</th>\n",
       "      <th>AKUSSI_jointpain</th>\n",
       "      <th>AKUSSI_spinalpain</th>\n",
       "      <th>KOOSpain</th>\n",
       "      <th>KOOSsymptoms</th>\n",
       "      <th>KOOSdaily_living</th>\n",
       "      <th>KOOSsport</th>\n",
       "      <th>KOOS_QOL</th>\n",
       "      <th>HAQ_hapVAS</th>\n",
       "      <th>HAQ_haqDI</th>\n",
       "    </tr>\n",
       "  </thead>\n",
       "  <tbody>\n",
       "    <tr>\n",
       "      <th>0</th>\n",
       "      <td>G161R</td>\n",
       "      <td>c.481G&gt;A</td>\n",
       "      <td>ex8</td>\n",
       "      <td>His371Profs</td>\n",
       "      <td>c.1111dupC</td>\n",
       "      <td>ex13</td>\n",
       "      <td>26.0</td>\n",
       "      <td>43.0</td>\n",
       "      <td>57.0</td>\n",
       "      <td>75.0</td>\n",
       "      <td>67.0</td>\n",
       "      <td>89.0</td>\n",
       "      <td>75.0</td>\n",
       "      <td>70.0</td>\n",
       "      <td>69.0</td>\n",
       "      <td>63.0</td>\n",
       "      <td>1.50</td>\n",
       "    </tr>\n",
       "    <tr>\n",
       "      <th>1</th>\n",
       "      <td>G161R</td>\n",
       "      <td>c.481G&gt;A</td>\n",
       "      <td>ex8</td>\n",
       "      <td>G161R</td>\n",
       "      <td>c.481G&gt;A</td>\n",
       "      <td>ex8</td>\n",
       "      <td>53.0</td>\n",
       "      <td>51.0</td>\n",
       "      <td>29.0</td>\n",
       "      <td>25.0</td>\n",
       "      <td>92.0</td>\n",
       "      <td>96.0</td>\n",
       "      <td>91.0</td>\n",
       "      <td>85.0</td>\n",
       "      <td>75.0</td>\n",
       "      <td>23.0</td>\n",
       "      <td>0.25</td>\n",
       "    </tr>\n",
       "    <tr>\n",
       "      <th>2</th>\n",
       "      <td>G161R</td>\n",
       "      <td>c.481G&gt;A</td>\n",
       "      <td>ex8</td>\n",
       "      <td>M368V</td>\n",
       "      <td>c.1102A&gt;G</td>\n",
       "      <td>ex13</td>\n",
       "      <td>23.0</td>\n",
       "      <td>40.0</td>\n",
       "      <td>36.0</td>\n",
       "      <td>100.0</td>\n",
       "      <td>47.0</td>\n",
       "      <td>39.0</td>\n",
       "      <td>31.0</td>\n",
       "      <td>0.0</td>\n",
       "      <td>19.0</td>\n",
       "      <td>53.0</td>\n",
       "      <td>1.75</td>\n",
       "    </tr>\n",
       "    <tr>\n",
       "      <th>4</th>\n",
       "      <td>G161R</td>\n",
       "      <td>c.481G&gt;A</td>\n",
       "      <td>ex8</td>\n",
       "      <td>G161R</td>\n",
       "      <td>c.481G&gt;A</td>\n",
       "      <td>ex8</td>\n",
       "      <td>23.0</td>\n",
       "      <td>29.0</td>\n",
       "      <td>50.0</td>\n",
       "      <td>100.0</td>\n",
       "      <td>33.0</td>\n",
       "      <td>29.0</td>\n",
       "      <td>60.0</td>\n",
       "      <td>25.0</td>\n",
       "      <td>13.0</td>\n",
       "      <td>70.0</td>\n",
       "      <td>2.00</td>\n",
       "    </tr>\n",
       "    <tr>\n",
       "      <th>5</th>\n",
       "      <td>G161R</td>\n",
       "      <td>c.481G&gt;A</td>\n",
       "      <td>ex8</td>\n",
       "      <td>G161R</td>\n",
       "      <td>c.481G&gt;A</td>\n",
       "      <td>ex8</td>\n",
       "      <td>26.0</td>\n",
       "      <td>31.0</td>\n",
       "      <td>50.0</td>\n",
       "      <td>100.0</td>\n",
       "      <td>44.0</td>\n",
       "      <td>29.0</td>\n",
       "      <td>32.0</td>\n",
       "      <td>35.0</td>\n",
       "      <td>13.0</td>\n",
       "      <td>71.0</td>\n",
       "      <td>1.88</td>\n",
       "    </tr>\n",
       "  </tbody>\n",
       "</table>\n",
       "</div>"
      ],
      "text/plain": [
       "  Protein change allele 1  DNA change allele 1 Exon/intron allele 1  \\\n",
       "0                    G161R            c.481G>A                  ex8   \n",
       "1                    G161R            c.481G>A                  ex8   \n",
       "2                    G161R            c.481G>A                  ex8   \n",
       "4                    G161R            c.481G>A                  ex8   \n",
       "5                    G161R            c.481G>A                  ex8   \n",
       "\n",
       "  Protein change allele 2 DNA change allele 2 ex/in allele 2  \\\n",
       "0             His371Profs          c.1111dupC           ex13   \n",
       "1                   G161R            c.481G>A            ex8   \n",
       "2                   M368V           c.1102A>G           ex13   \n",
       "4                   G161R            c.481G>A            ex8   \n",
       "5                   G161R            c.481G>A            ex8   \n",
       "\n",
       "   physical_health_score  mental_health_score  AKUSSI_jointpain  \\\n",
       "0                   26.0                 43.0              57.0   \n",
       "1                   53.0                 51.0              29.0   \n",
       "2                   23.0                 40.0              36.0   \n",
       "4                   23.0                 29.0              50.0   \n",
       "5                   26.0                 31.0              50.0   \n",
       "\n",
       "   AKUSSI_spinalpain  KOOSpain  KOOSsymptoms  KOOSdaily_living  KOOSsport  \\\n",
       "0               75.0      67.0          89.0              75.0       70.0   \n",
       "1               25.0      92.0          96.0              91.0       85.0   \n",
       "2              100.0      47.0          39.0              31.0        0.0   \n",
       "4              100.0      33.0          29.0              60.0       25.0   \n",
       "5              100.0      44.0          29.0              32.0       35.0   \n",
       "\n",
       "   KOOS_QOL  HAQ_hapVAS  HAQ_haqDI  \n",
       "0      69.0        63.0       1.50  \n",
       "1      75.0        23.0       0.25  \n",
       "2      19.0        53.0       1.75  \n",
       "4      13.0        70.0       2.00  \n",
       "5      13.0        71.0       1.88  "
      ]
     },
     "execution_count": 37,
     "metadata": {},
     "output_type": "execute_result"
    }
   ],
   "source": [
    "df3.head()"
   ]
  },
  {
   "cell_type": "code",
   "execution_count": 38,
   "metadata": {},
   "outputs": [
    {
     "data": {
      "text/plain": [
       "71"
      ]
     },
     "execution_count": 38,
     "metadata": {},
     "output_type": "execute_result"
    }
   ],
   "source": [
    "# obtain all the values in the columns Protein change allele 1 and Protein change allele 2, without repetitions\n",
    "unique1 = df3['Protein change allele 1 '].unique()\n",
    "unique2 = df3['Protein change allele 2'].unique()\n",
    "unique = set(unique1) | set(unique2)\n",
    "len(unique)"
   ]
  },
  {
   "cell_type": "code",
   "execution_count": 39,
   "metadata": {},
   "outputs": [
    {
     "data": {
      "text/plain": [
       "49"
      ]
     },
     "execution_count": 39,
     "metadata": {},
     "output_type": "execute_result"
    }
   ],
   "source": [
    "# see which elements of unique are subs (is_replace(mutation))\n",
    "subs = [mutation for mutation in unique if is_replace(mutation)]\n",
    "len(subs)"
   ]
  },
  {
   "cell_type": "code",
   "execution_count": 40,
   "metadata": {},
   "outputs": [
    {
     "data": {
      "text/plain": [
       "['D153G',\n",
       " 'G270R',\n",
       " 'W97C',\n",
       " 'E168L',\n",
       " 'G360A',\n",
       " 'K248E',\n",
       " 'P332R',\n",
       " 'P230S',\n",
       " 'G205V',\n",
       " 'S47L',\n",
       " 'F227S',\n",
       " 'S150L',\n",
       " 'E401Q',\n",
       " 'G251D',\n",
       " 'G360R',\n",
       " 'R225P',\n",
       " 'R225H',\n",
       " 'D18Y',\n",
       " 'V300G',\n",
       " 'G185R',\n",
       " 'G152R',\n",
       " 'I216T',\n",
       " 'W97G',\n",
       " 'R53Q',\n",
       " 'A122V',\n",
       " 'T167I',\n",
       " 'G123A',\n",
       " 'R330S',\n",
       " 'Y272C',\n",
       " 'E168K',\n",
       " 'G362E',\n",
       " 'L353Q',\n",
       " 'F73L',\n",
       " 'K353Q',\n",
       " 'D18N',\n",
       " 'G170A',\n",
       " 'G198D',\n",
       " 'I346T',\n",
       " 'A267V',\n",
       " 'G161R',\n",
       " 'G205D',\n",
       " 'M368V',\n",
       " 'E178G',\n",
       " 'G361R',\n",
       " 'L44F',\n",
       " 'G170S',\n",
       " 'Y40S',\n",
       " 'L116P',\n",
       " 'C120F']"
      ]
     },
     "execution_count": 40,
     "metadata": {},
     "output_type": "execute_result"
    }
   ],
   "source": [
    "subs"
   ]
  },
  {
   "cell_type": "code",
   "execution_count": 41,
   "metadata": {},
   "outputs": [
    {
     "data": {
      "text/html": [
       "<div>\n",
       "<style scoped>\n",
       "    .dataframe tbody tr th:only-of-type {\n",
       "        vertical-align: middle;\n",
       "    }\n",
       "\n",
       "    .dataframe tbody tr th {\n",
       "        vertical-align: top;\n",
       "    }\n",
       "\n",
       "    .dataframe thead th {\n",
       "        text-align: right;\n",
       "    }\n",
       "</style>\n",
       "<table border=\"1\" class=\"dataframe\">\n",
       "  <thead>\n",
       "    <tr style=\"text-align: right;\">\n",
       "      <th></th>\n",
       "      <th>0</th>\n",
       "      <th>1</th>\n",
       "    </tr>\n",
       "  </thead>\n",
       "  <tbody>\n",
       "    <tr>\n",
       "      <th>0</th>\n",
       "      <td>G161R</td>\n",
       "      <td>MAELKYISGFGNECSSEDPRCPGSLPEGQNNPQVCPYNLYAEQLS...</td>\n",
       "    </tr>\n",
       "    <tr>\n",
       "      <th>1</th>\n",
       "      <td>S47L</td>\n",
       "      <td>MAELKYISGFGNECSSEDPRCPGSLPEGQNNPQVCPYNLYAEQLS...</td>\n",
       "    </tr>\n",
       "    <tr>\n",
       "      <th>2</th>\n",
       "      <td>W97C</td>\n",
       "      <td>MAELKYISGFGNECSSEDPRCPGSLPEGQNNPQVCPYNLYAEQLS...</td>\n",
       "    </tr>\n",
       "    <tr>\n",
       "      <th>3</th>\n",
       "      <td>R225P</td>\n",
       "      <td>MAELKYISGFGNECSSEDPRCPGSLPEGQNNPQVCPYNLYAEQLS...</td>\n",
       "    </tr>\n",
       "    <tr>\n",
       "      <th>4</th>\n",
       "      <td>R53Q</td>\n",
       "      <td>MAELKYISGFGNECSSEDPRCPGSLPEGQNNPQVCPYNLYAEQLS...</td>\n",
       "    </tr>\n",
       "  </tbody>\n",
       "</table>\n",
       "</div>"
      ],
      "text/plain": [
       "       0                                                  1\n",
       "0  G161R   MAELKYISGFGNECSSEDPRCPGSLPEGQNNPQVCPYNLYAEQLS...\n",
       "1   S47L   MAELKYISGFGNECSSEDPRCPGSLPEGQNNPQVCPYNLYAEQLS...\n",
       "2   W97C   MAELKYISGFGNECSSEDPRCPGSLPEGQNNPQVCPYNLYAEQLS...\n",
       "3  R225P   MAELKYISGFGNECSSEDPRCPGSLPEGQNNPQVCPYNLYAEQLS...\n",
       "4   R53Q   MAELKYISGFGNECSSEDPRCPGSLPEGQNNPQVCPYNLYAEQLS..."
      ]
     },
     "execution_count": 41,
     "metadata": {},
     "output_type": "execute_result"
    }
   ],
   "source": [
    "# consider the file in datasets/mutated_sequences.csv\n",
    "ms = pd.read_csv('../datasets/mutated_sequences.csv', header=None)\n",
    "ms.head()"
   ]
  },
  {
   "cell_type": "code",
   "execution_count": 42,
   "metadata": {},
   "outputs": [
    {
     "data": {
      "text/plain": [
       "{'D153G', 'D18N', 'G205V', 'L353Q', 'R225H'}"
      ]
     },
     "execution_count": 42,
     "metadata": {},
     "output_type": "execute_result"
    }
   ],
   "source": [
    "# see difference between subs and ms[0]\n",
    "diff = set(subs) - set(ms[0])\n",
    "diff"
   ]
  },
  {
   "cell_type": "code",
   "execution_count": 43,
   "metadata": {},
   "outputs": [
    {
     "data": {
      "text/plain": [
       "MutableSeq('MAELKYISGFGNECSSEDPRCPGSLPEGQNNPQVCPYNLYAEQLSGSAFTCPRS...EPN')"
      ]
     },
     "execution_count": 43,
     "metadata": {},
     "output_type": "execute_result"
    }
   ],
   "source": [
    "def read_faa_file(file_path):\n",
    "    sequences = []\n",
    "    for record in SeqIO.parse(file_path, \"fasta\"):\n",
    "        sequences.append(record)\n",
    "    return sequences\n",
    "\n",
    "# Specify the path to your .faa file\n",
    "file_path = \"../datasets/protein.faa\"\n",
    "\n",
    "# Read the .faa file\n",
    "sequences = read_faa_file(file_path)\n",
    "hgd_protein = sequences[0].seq\n",
    "hgd_protein = Bio.Seq.MutableSeq(hgd_protein)\n",
    "hgd_protein"
   ]
  },
  {
   "cell_type": "code",
   "execution_count": 44,
   "metadata": {},
   "outputs": [
    {
     "data": {
      "text/plain": [
       "('D', 'D', 'G', 'K', 'R')"
      ]
     },
     "execution_count": 44,
     "metadata": {},
     "output_type": "execute_result"
    }
   ],
   "source": [
    "hgd_protein[152], hgd_protein[17], hgd_protein[204], hgd_protein[352], hgd_protein[224]"
   ]
  },
  {
   "cell_type": "code",
   "execution_count": 45,
   "metadata": {},
   "outputs": [
    {
     "name": "stdout",
     "output_type": "stream",
     "text": [
      "MAELKYISGFGNECSSEDPRCPGSLPEGQNNPQVCPYNLYAEQLSGSAFTCPRSTNKRSWLYRILPSVSHKPFESIDEGQVTHNWDEVDPDPNQLRWKPFEIPKASQKKVDFVSGLHTLCGAGDIKSNNGLAIHIFLCNTSMENRCFYNSDGGFLIVPQKGNLLIYTEFGKMLVQPNEICVIQRGMRFSIDVFEETRGYILEVYGVHFELPDLGPIGANGLANPRDFLIPIAWYEDRQVPGGYTVINKYQGKLFAAKQDVSPFNVVAWHGNYTPYKYNLKNFMVINSVAFDHADPSIFTVLTAKSVRPGVAIADFVIFPPRWGVADKTFRPPYYHRNCMSEFMGLIRGHYEAKQGGFLPGGGSLHSTMTPHGPDADCFEKASKVKLAPERIADGTMAFMFESSLSLAVTKWGLKASRCLDENYHKCWEPLKSHFTPNSRNPAEPN\n"
     ]
    }
   ],
   "source": [
    "# obtain the mutated sequences\n",
    "seq = replace(hgd_protein, 'D153G')\n",
    "print(str(seq))"
   ]
  },
  {
   "cell_type": "code",
   "execution_count": 58,
   "metadata": {},
   "outputs": [
    {
     "name": "stdout",
     "output_type": "stream",
     "text": [
      "MAELKYISGFGNECSSEDPRCPGSLPEGQNNPQVCPYNLYAEQLSGSAFTCPRSTNKRSWLYRILPSVSHKPFESIDEGQVTHNWDEVDPDPNQLRWKPFEIPKASQKKVDFVSGLHTLCGAGDIKSNNGLAIHIFLCNTSMENRCFYNSDGDFLIVPQKGNLLIYTEFGKMLVQPNEICVIQRGMRFSIDVFEETRGYILEVYGVHFELPDLGPIGANGLANPRDFLIPIAWYEDRQVPGGYTVINKYQGKLFAAKQDVSPFNVVAWHGNYTPYKYNLKNFMVINSVAFDHADPSIFTVLTAKSVRPVVAIADFVIFPPRWGVADKTFRPPYYHRNCMSEFMGLIRGHYEAKQGGFLPGGGSLHSTMTPHGPDADCFEKASKVKLAPERIADGTMAFMFESSLSLAVTKWGLKASRCLDENYHKCWEPLKSHFTPNSRNPAEPN\n"
     ]
    }
   ],
   "source": [
    "seq = replace(hgd_protein, 'G309V')\n",
    "print(str(seq))"
   ]
  },
  {
   "cell_type": "code",
   "execution_count": null,
   "metadata": {},
   "outputs": [],
   "source": []
  },
  {
   "cell_type": "code",
   "execution_count": 46,
   "metadata": {},
   "outputs": [
    {
     "data": {
      "text/plain": [
       "22"
      ]
     },
     "execution_count": 46,
     "metadata": {},
     "output_type": "execute_result"
    }
   ],
   "source": [
    "# now consider unique - subs\n",
    "other_mutations = set(unique) - set(subs)\n",
    "len(other_mutations)"
   ]
  },
  {
   "cell_type": "code",
   "execution_count": 47,
   "metadata": {},
   "outputs": [
    {
     "data": {
      "text/plain": [
       "{'(p.(Ala218_Asn219insLysIle))',\n",
       " 'A218fs',\n",
       " 'D153fs',\n",
       " 'E168*',\n",
       " 'G115Mfs*',\n",
       " 'G11fs',\n",
       " 'G309V ',\n",
       " 'G372_P373delinsA',\n",
       " 'H371fs',\n",
       " 'His371Profs',\n",
       " 'M339fs',\n",
       " 'Q29fs',\n",
       " 'R145Sfs ivs7+5G>A',\n",
       " 'R321*',\n",
       " 'R336S fs  ivs12-2A>T',\n",
       " 'S59fs',\n",
       " 'V157fs',\n",
       " 'W60*',\n",
       " 'del ex13',\n",
       " 'del ex13 (MLPA)',\n",
       " 'del ex2 (MLPA)',\n",
       " 'del ex5,6 (MLPA)'}"
      ]
     },
     "execution_count": 47,
     "metadata": {},
     "output_type": "execute_result"
    }
   ],
   "source": [
    "other_mutations"
   ]
  },
  {
   "cell_type": "code",
   "execution_count": 48,
   "metadata": {},
   "outputs": [],
   "source": [
    "# We spotted another substitution: 'G309V '"
   ]
  },
  {
   "cell_type": "code",
   "execution_count": 49,
   "metadata": {},
   "outputs": [
    {
     "data": {
      "text/plain": [
       "'G'"
      ]
     },
     "execution_count": 49,
     "metadata": {},
     "output_type": "execute_result"
    }
   ],
   "source": [
    "hgd_protein[308]"
   ]
  },
  {
   "cell_type": "code",
   "execution_count": 50,
   "metadata": {},
   "outputs": [
    {
     "data": {
      "text/plain": [
       "False"
      ]
     },
     "execution_count": 50,
     "metadata": {},
     "output_type": "execute_result"
    }
   ],
   "source": [
    "# see if G309V is in ms[0]\n",
    "'G309V' in ms[0].values"
   ]
  },
  {
   "cell_type": "code",
   "execution_count": 51,
   "metadata": {},
   "outputs": [
    {
     "data": {
      "text/plain": [
       "21"
      ]
     },
     "execution_count": 51,
     "metadata": {},
     "output_type": "execute_result"
    }
   ],
   "source": [
    "# eliminate G309V from other_mutations\n",
    "other_mutations = other_mutations - {'G309V '}\n",
    "len(other_mutations)"
   ]
  },
  {
   "cell_type": "code",
   "execution_count": 52,
   "metadata": {},
   "outputs": [
    {
     "data": {
      "text/plain": [
       "{'(p.(Ala218_Asn219insLysIle))',\n",
       " 'A218fs',\n",
       " 'D153fs',\n",
       " 'E168*',\n",
       " 'G115Mfs*',\n",
       " 'G11fs',\n",
       " 'G372_P373delinsA',\n",
       " 'H371fs',\n",
       " 'His371Profs',\n",
       " 'M339fs',\n",
       " 'Q29fs',\n",
       " 'R145Sfs ivs7+5G>A',\n",
       " 'R321*',\n",
       " 'R336S fs  ivs12-2A>T',\n",
       " 'S59fs',\n",
       " 'V157fs',\n",
       " 'W60*',\n",
       " 'del ex13',\n",
       " 'del ex13 (MLPA)',\n",
       " 'del ex2 (MLPA)',\n",
       " 'del ex5,6 (MLPA)'}"
      ]
     },
     "execution_count": 52,
     "metadata": {},
     "output_type": "execute_result"
    }
   ],
   "source": [
    "other_mutations"
   ]
  },
  {
   "cell_type": "markdown",
   "metadata": {},
   "source": [
    "# Obtain mutated sequences (from the DNA change)"
   ]
  },
  {
   "cell_type": "code",
   "execution_count": 2,
   "metadata": {},
   "outputs": [
    {
     "data": {
      "text/plain": [
       "1338"
      ]
     },
     "execution_count": 2,
     "metadata": {},
     "output_type": "execute_result"
    }
   ],
   "source": [
    "# proviamo con la sequenza trovata su `https://hgddatabase.cvtisr.sk/refseq/HGD_codingDNA.html`\n",
    "dna = 'ATGGCTGAGTTAAAGTACATTTCTGGATTTGGGAATGAGTGTTCTTCAGAGGATCCTCGCTGCCCAGGTTCCCTGCCAGAAGGACAGAATAATCCTCAGGTCTGCCCCTACAATCTCTATGCTGAGCAGCTCTCAGGATCGGCTTTCACTTGTCCACGGAGCACCAATAAGAGAAGCTGGCTGTATAGGATTCTACCTTCAGTTTCTCACAAGCCCTTTGAATCCATTGACGAAGGCCAAGTCACTCACAACTGGGATGAAGTTGATCCTGATCCTAACCAGCTTAGATGGAAACCATTTGAGATTCCAAAAGCATCTCAGAAGAAAGTAGACTTTGTGAGTGGCCTGCATACCTTGTGTGGAGCTGGAGACATAAAGTCTAACAATGGGCTTGCTATCCACATTTTCCTCTGCAATACCTCCATGGAGAACAGATGCTTTTACAATTCAGATGGGGACTTCTTGATTGTTCCGCAGAAAGGGAACCTTCTCATTTACACCGAGTTTGGCAAGATGCTTGTACAGCCCAATGAGATCTGCGTCATTCAGAGAGGAATGCGGTTCAGCATAGATGTCTTTGAGGAGACCAGGGGCTACATCTTGGAGGTCTATGGTGTCCACTTTGAGTTACCTGACCTTGGACCAATTGGGGCCAATGGCTTGGCCAATCCTCGTGATTTCTTGATACCCATTGCCTGGTATGAGGATCGCCAAGTACCAGGTGGTTACACGGTCATTAATAAATACCAGGGCAAGCTGTTTGCTGCCAAACAGGATGTCTCCCCGTTCAATGTTGTGGCCTGGCACGGGAATTATACACCCTACAAGTACAACCTGAAGAATTTCATGGTTATCAACTCAGTGGCCTTTGACCATGCAGACCCATCCATTTTCACAGTATTGACTGCTAAGTCTGTCCGCCCTGGAGTGGCCATTGCTGATTTTGTCATCTTCCCACCTCGATGGGGGGTTGCTGATAAGACCTTCAGGCCTCCTTATTACCATAGGAACTGCATGAGTGAGTTCATGGGACTCATCCGAGGTCACTATGAGGCAAAGCAAGGTGGGTTCCTGCCAGGGGGAGGGAGTCTACACAGCACAATGACCCCCCATGGACCTGATGCTGACTGCTTTGAGAAGGCCAGCAAGGTCAAGCTGGCACCTGAGAGGATTGCCGATGGCACCATGGCATTTATGTTTGAATCATCTTTAAGTCTGGCGGTCACAAAGTGGGGACTCAAGGCCTCCAGGTGTTTGGATGAGAACTACCACAAGTGCTGGGAGCCACTCAAGAGCCACTTCACTCCCAACTCCAGGAACCCAGCAGAACCTAATTGA'\n",
    "len(dna)"
   ]
  },
  {
   "cell_type": "code",
   "execution_count": 3,
   "metadata": {},
   "outputs": [
    {
     "data": {
      "text/plain": [
       "MutableSeq('MAELKYISGFGNECSSEDPRCPGSLPEGQNNPQVCPYNLYAEQLSGSAFTCPRS...EPN')"
      ]
     },
     "execution_count": 3,
     "metadata": {},
     "output_type": "execute_result"
    }
   ],
   "source": [
    "# prendiamo la proteina di hgd sano\n",
    "\n",
    "def read_faa_file(file_path):\n",
    "    sequences = []\n",
    "    for record in SeqIO.parse(file_path, \"fasta\"):\n",
    "        sequences.append(record)\n",
    "    return sequences\n",
    "\n",
    "# Specify the path to your .faa file\n",
    "file_path = \"../datasets/protein.faa\"\n",
    "\n",
    "\n",
    "# Read the .faa file\n",
    "sequences = read_faa_file(file_path)\n",
    "\n",
    "hgd_protein = sequences[0].seq\n",
    "hgd_protein = Bio.Seq.MutableSeq(hgd_protein)\n",
    "hgd_protein"
   ]
  },
  {
   "cell_type": "code",
   "execution_count": 4,
   "metadata": {},
   "outputs": [
    {
     "data": {
      "text/plain": [
       "445"
      ]
     },
     "execution_count": 4,
     "metadata": {},
     "output_type": "execute_result"
    }
   ],
   "source": [
    "len(hgd_protein)"
   ]
  },
  {
   "cell_type": "code",
   "execution_count": 5,
   "metadata": {},
   "outputs": [
    {
     "data": {
      "text/plain": [
       "1335"
      ]
     },
     "execution_count": 5,
     "metadata": {},
     "output_type": "execute_result"
    }
   ],
   "source": [
    "445*3"
   ]
  },
  {
   "cell_type": "markdown",
   "metadata": {},
   "source": [
    "La differenza di lunghezza tra il pezzo di DNA `dna` (1338) e `hgd_protein` si spiega col fatto che l'ultima tripletta di `dna` codifica uno stop e non un aminoacido!"
   ]
  },
  {
   "cell_type": "code",
   "execution_count": 6,
   "metadata": {},
   "outputs": [
    {
     "data": {
      "text/plain": [
       "1335"
      ]
     },
     "execution_count": 6,
     "metadata": {},
     "output_type": "execute_result"
    }
   ],
   "source": [
    "# eliminate last 3 elements of the dna sequence\n",
    "dna = dna[:-3]\n",
    "len(dna)"
   ]
  },
  {
   "cell_type": "code",
   "execution_count": 7,
   "metadata": {},
   "outputs": [],
   "source": [
    "# translate the dna sequence into a protein\n",
    "\n",
    "def translate(seq): \n",
    "\n",
    "    table = { \n",
    "        'ATA':'I', 'ATC':'I', 'ATT':'I', 'ATG':'M', \n",
    "        'ACA':'T', 'ACC':'T', 'ACG':'T', 'ACT':'T', \n",
    "        'AAC':'N', 'AAT':'N', 'AAA':'K', 'AAG':'K', \n",
    "        'AGC':'S', 'AGT':'S', 'AGA':'R', 'AGG':'R',                  \n",
    "        'CTA':'L', 'CTC':'L', 'CTG':'L', 'CTT':'L', \n",
    "        'CCA':'P', 'CCC':'P', 'CCG':'P', 'CCT':'P', \n",
    "        'CAC':'H', 'CAT':'H', 'CAA':'Q', 'CAG':'Q', \n",
    "        'CGA':'R', 'CGC':'R', 'CGG':'R', 'CGT':'R', \n",
    "        'GTA':'V', 'GTC':'V', 'GTG':'V', 'GTT':'V', \n",
    "        'GCA':'A', 'GCC':'A', 'GCG':'A', 'GCT':'A', \n",
    "        'GAC':'D', 'GAT':'D', 'GAA':'E', 'GAG':'E', \n",
    "        'GGA':'G', 'GGC':'G', 'GGG':'G', 'GGT':'G', \n",
    "        'TCA':'S', 'TCC':'S', 'TCG':'S', 'TCT':'S', \n",
    "        'TTC':'F', 'TTT':'F', 'TTA':'L', 'TTG':'L', \n",
    "        'TAC':'Y', 'TAT':'Y', 'TAA':'_', 'TAG':'_', \n",
    "        'TGC':'C', 'TGT':'C', 'TGA':'_', 'TGG':'W', \n",
    "    } \n",
    "    protein =\"\" \n",
    "    if len(seq)%3 == 0: \n",
    "        for i in range(0, len(seq), 3): \n",
    "            codon = seq[i:i + 3] \n",
    "            protein+= table[codon] \n",
    "    return protein "
   ]
  },
  {
   "cell_type": "code",
   "execution_count": 8,
   "metadata": {},
   "outputs": [
    {
     "data": {
      "text/plain": [
       "True"
      ]
     },
     "execution_count": 8,
     "metadata": {},
     "output_type": "execute_result"
    }
   ],
   "source": [
    "# Apply the function to our case\n",
    "protein = translate(dna)\n",
    "\n",
    "# check if the protein is the same as the hgd_protein\n",
    "protein == str(hgd_protein)"
   ]
  },
  {
   "cell_type": "markdown",
   "metadata": {},
   "source": [
    "Let's apply the changes to DNA on the basis of our mutations and then obtain the mutated protein, which we will then give to AlphaFold"
   ]
  },
  {
   "cell_type": "code",
   "execution_count": 9,
   "metadata": {},
   "outputs": [],
   "source": [
    "other_mutations = [\n",
    "    '(p.(Ala218_Asn219insLysIle))',\n",
    "    'A218fs',\n",
    "    'D153fs',\n",
    "    'E168*',\n",
    "    'G115Mfs*',\n",
    "    'G11fs',\n",
    "    'G372_P373delinsA',\n",
    "    'H371fs',\n",
    "    'His371Profs',\n",
    "    'M339fs',\n",
    "    'Q29fs',\n",
    "    'R145Sfs ivs7+5G>A',\n",
    "    'R321*',\n",
    "    'R336S fs  ivs12-2A>T',\n",
    "    'S59fs',\n",
    "    'V157fs',\n",
    "    'W60*',\n",
    "    'del ex13',\n",
    "    'del ex13 (MLPA)',\n",
    "    'del ex2 (MLPA)',\n",
    "    'del ex5,6 (MLPA)'\n",
    "    ]"
   ]
  },
  {
   "cell_type": "markdown",
   "metadata": {},
   "source": [
    "1. Let's consider the first \"strange\" mutation, using `https://hgddatabase.cvtisr.sk/variants.php?action=search_unique&select_db=HGD`, we can obtain the DNA change causing the mutation, then we will obtain the amino acids sequences translated by the DNA!!!"
   ]
  },
  {
   "cell_type": "code",
   "execution_count": 10,
   "metadata": {},
   "outputs": [
    {
     "data": {
      "text/plain": [
       "'AKIN'"
      ]
     },
     "execution_count": 10,
     "metadata": {},
     "output_type": "execute_result"
    }
   ],
   "source": [
    "# p.(Ala218_Asn219insLysIle) --> c.656_657insAATCAA\n",
    "# insert the sequence AATCAA between the nucleotides 656 and 657\n",
    "dna_mutated = dna[:656] + 'AATCAA' + dna[656:]\n",
    "\n",
    "# obtain the protein sequence\n",
    "protein = translate(dna_mutated)\n",
    "\n",
    "# check positions 218-221 of the protein\n",
    "protein[217:221]"
   ]
  },
  {
   "cell_type": "code",
   "execution_count": 17,
   "metadata": {},
   "outputs": [
    {
     "name": "stdout",
     "output_type": "stream",
     "text": [
      "(p.(Ala218_Asn219insLysIle)): MAELKYISGFGNECSSEDPRCPGSLPEGQNNPQVCPYNLYAEQLSGSAFTCPRSTNKRSWLYRILPSVSHKPFESIDEGQVTHNWDEVDPDPNQLRWKPFEIPKASQKKVDFVSGLHTLCGAGDIKSNNGLAIHIFLCNTSMENRCFYNSDGDFLIVPQKGNLLIYTEFGKMLVQPNEICVIQRGMRFSIDVFEETRGYILEVYGVHFELPDLGPIGAKINGLANPRDFLIPIAWYEDRQVPGGYTVINKYQGKLFAAKQDVSPFNVVAWHGNYTPYKYNLKNFMVINSVAFDHADPSIFTVLTAKSVRPGVAIADFVIFPPRWGVADKTFRPPYYHRNCMSEFMGLIRGHYEAKQGGFLPGGGSLHSTMTPHGPDADCFEKASKVKLAPERIADGTMAFMFESSLSLAVTKWGLKASRCLDENYHKCWEPLKSHFTPNSRNPAEPN\n"
     ]
    }
   ],
   "source": [
    "print(other_mutations[0] + ': ' + protein)"
   ]
  },
  {
   "cell_type": "markdown",
   "metadata": {},
   "source": [
    "2. Seconda mutazione: è un frameshift"
   ]
  },
  {
   "cell_type": "code",
   "execution_count": 18,
   "metadata": {},
   "outputs": [
    {
     "data": {
      "text/plain": [
       "'A218fs'"
      ]
     },
     "execution_count": 18,
     "metadata": {},
     "output_type": "execute_result"
    }
   ],
   "source": [
    "other_mutations[1]"
   ]
  },
  {
   "cell_type": "code",
   "execution_count": 29,
   "metadata": {},
   "outputs": [],
   "source": [
    "# translate the dna sequence into a protein: for the FRAMESHIFTS\n",
    "\n",
    "def translate_fs(seq): \n",
    "\n",
    "    table = { \n",
    "        'ATA':'I', 'ATC':'I', 'ATT':'I', 'ATG':'M', \n",
    "        'ACA':'T', 'ACC':'T', 'ACG':'T', 'ACT':'T', \n",
    "        'AAC':'N', 'AAT':'N', 'AAA':'K', 'AAG':'K', \n",
    "        'AGC':'S', 'AGT':'S', 'AGA':'R', 'AGG':'R',                  \n",
    "        'CTA':'L', 'CTC':'L', 'CTG':'L', 'CTT':'L', \n",
    "        'CCA':'P', 'CCC':'P', 'CCG':'P', 'CCT':'P', \n",
    "        'CAC':'H', 'CAT':'H', 'CAA':'Q', 'CAG':'Q', \n",
    "        'CGA':'R', 'CGC':'R', 'CGG':'R', 'CGT':'R', \n",
    "        'GTA':'V', 'GTC':'V', 'GTG':'V', 'GTT':'V', \n",
    "        'GCA':'A', 'GCC':'A', 'GCG':'A', 'GCT':'A', \n",
    "        'GAC':'D', 'GAT':'D', 'GAA':'E', 'GAG':'E', \n",
    "        'GGA':'G', 'GGC':'G', 'GGG':'G', 'GGT':'G', \n",
    "        'TCA':'S', 'TCC':'S', 'TCG':'S', 'TCT':'S', \n",
    "        'TTC':'F', 'TTT':'F', 'TTA':'L', 'TTG':'L', \n",
    "        'TAC':'Y', 'TAT':'Y', 'TAA':'_', 'TAG':'_', \n",
    "        'TGC':'C', 'TGT':'C', 'TGA':'_', 'TGG':'W', \n",
    "    } \n",
    "    protein =\"\" \n",
    "    for i in range(0, len(seq), 3): \n",
    "            codon = seq[i:i + 3] \n",
    "            if table[codon] == '_':\n",
    "                break\n",
    "            protein+= table[codon]\n",
    "    return protein "
   ]
  },
  {
   "cell_type": "code",
   "execution_count": 31,
   "metadata": {},
   "outputs": [
    {
     "data": {
      "text/plain": [
       "227"
      ]
     },
     "execution_count": 31,
     "metadata": {},
     "output_type": "execute_result"
    }
   ],
   "source": [
    "# A218fs --> c.652delG\n",
    "# delete the nucleotide in position 652\n",
    "dna_mutated = dna[:651] + dna[652:]\n",
    "\n",
    "# obtain the protein sequence\n",
    "protein = translate_fs(dna_mutated)\n",
    "\n",
    "# see how long it is\n",
    "len(protein)"
   ]
  },
  {
   "cell_type": "code",
   "execution_count": 32,
   "metadata": {},
   "outputs": [
    {
     "data": {
      "text/plain": [
       "('A', 'P')"
      ]
     },
     "execution_count": 32,
     "metadata": {},
     "output_type": "execute_result"
    }
   ],
   "source": [
    "# see what is in position 218 of hgd_protein, and what is in position 218 of protein\n",
    "hgd_protein[217], protein[217]"
   ]
  },
  {
   "cell_type": "markdown",
   "metadata": {},
   "source": [
    "perfetto, dato che: la mutazione A218fs sarebbe p.(Ala218Profs*11)"
   ]
  },
  {
   "cell_type": "code",
   "execution_count": 33,
   "metadata": {},
   "outputs": [
    {
     "name": "stdout",
     "output_type": "stream",
     "text": [
      "A218fs: MAELKYISGFGNECSSEDPRCPGSLPEGQNNPQVCPYNLYAEQLSGSAFTCPRSTNKRSWLYRILPSVSHKPFESIDEGQVTHNWDEVDPDPNQLRWKPFEIPKASQKKVDFVSGLHTLCGAGDIKSNNGLAIHIFLCNTSMENRCFYNSDGDFLIVPQKGNLLIYTEFGKMLVQPNEICVIQRGMRFSIDVFEETRGYILEVYGVHFELPDLGPIGPMAWPILVIS\n"
     ]
    }
   ],
   "source": [
    "print(other_mutations[1] + ': ' + protein)"
   ]
  },
  {
   "cell_type": "code",
   "execution_count": 34,
   "metadata": {},
   "outputs": [
    {
     "data": {
      "text/plain": [
       "'D153fs'"
      ]
     },
     "execution_count": 34,
     "metadata": {},
     "output_type": "execute_result"
    }
   ],
   "source": [
    "other_mutations[2]"
   ]
  },
  {
   "cell_type": "code",
   "execution_count": 35,
   "metadata": {},
   "outputs": [
    {
     "data": {
      "text/plain": [
       "'G'"
      ]
     },
     "execution_count": 35,
     "metadata": {},
     "output_type": "execute_result"
    }
   ],
   "source": [
    "# c.457dupG\n",
    "# check if in position 457 of dna there is a G\n",
    "dna[456:457]"
   ]
  },
  {
   "cell_type": "code",
   "execution_count": 36,
   "metadata": {},
   "outputs": [
    {
     "data": {
      "text/plain": [
       "1336"
      ]
     },
     "execution_count": 36,
     "metadata": {},
     "output_type": "execute_result"
    }
   ],
   "source": [
    "# add a G in position 458, check length of dna\n",
    "dna_mutated = dna[:457] + 'G' + dna[457:]\n",
    "len(dna_mutated)"
   ]
  },
  {
   "cell_type": "code",
   "execution_count": 37,
   "metadata": {},
   "outputs": [
    {
     "name": "stdout",
     "output_type": "stream",
     "text": [
      "D153fs: MAELKYISGFGNECSSEDPRCPGSLPEGQNNPQVCPYNLYAEQLSGSAFTCPRSTNKRSWLYRILPSVSHKPFESIDEGQVTHNWDEVDPDPNQLRWKPFEIPKASQKKVDFVSGLHTLCGAGDIKSNNGLAIHIFLCNTSMENRCFYNSDGGLLDCSAEREPSHLHRVWQDACTAQ\n"
     ]
    },
    {
     "data": {
      "text/plain": [
       "177"
      ]
     },
     "execution_count": 37,
     "metadata": {},
     "output_type": "execute_result"
    }
   ],
   "source": [
    "protein = translate_fs(dna_mutated)\n",
    "print(other_mutations[2] + ': ' + protein)\n",
    "len(protein)"
   ]
  },
  {
   "cell_type": "code",
   "execution_count": 38,
   "metadata": {},
   "outputs": [
    {
     "data": {
      "text/plain": [
       "'E168*'"
      ]
     },
     "execution_count": 38,
     "metadata": {},
     "output_type": "execute_result"
    }
   ],
   "source": [
    "other_mutations[3]"
   ]
  },
  {
   "cell_type": "code",
   "execution_count": 39,
   "metadata": {},
   "outputs": [
    {
     "data": {
      "text/plain": [
       "'E'"
      ]
     },
     "execution_count": 39,
     "metadata": {},
     "output_type": "execute_result"
    }
   ],
   "source": [
    "# check position 168 of hgd_protein\n",
    "hgd_protein[167]"
   ]
  },
  {
   "cell_type": "code",
   "execution_count": 40,
   "metadata": {},
   "outputs": [
    {
     "name": "stdout",
     "output_type": "stream",
     "text": [
      "E168*: MAELKYISGFGNECSSEDPRCPGSLPEGQNNPQVCPYNLYAEQLSGSAFTCPRSTNKRSWLYRILPSVSHKPFESIDEGQVTHNWDEVDPDPNQLRWKPFEIPKASQKKVDFVSGLHTLCGAGDIKSNNGLAIHIFLCNTSMENRCFYNSDGDFLIVPQKGNLLIYT\n"
     ]
    }
   ],
   "source": [
    "protein = hgd_protein[:167] \n",
    "print(other_mutations[3] + ': ' + protein)"
   ]
  },
  {
   "cell_type": "code",
   "execution_count": 42,
   "metadata": {},
   "outputs": [
    {
     "data": {
      "text/plain": [
       "'G115Mfs*'"
      ]
     },
     "execution_count": 42,
     "metadata": {},
     "output_type": "execute_result"
    }
   ],
   "source": [
    "other_mutations[4]"
   ]
  },
  {
   "cell_type": "code",
   "execution_count": 43,
   "metadata": {},
   "outputs": [
    {
     "name": "stdout",
     "output_type": "stream",
     "text": [
      "G115Mfs*: MAELKYISGFGNECSSEDPRCPGSLPEGQNNPQVCPYNLYAEQLSGSAFTCPRSTNKRSWLYRILPSVSHKPFESIDEGQVTHNWDEVDPDPNQLRWKPFEIPKASQKKVDFVSGLHTLCGAGDIKSNNGLAIHIFLYAFTIQMGTS\n"
     ]
    },
    {
     "data": {
      "text/plain": [
       "147"
      ]
     },
     "execution_count": 43,
     "metadata": {},
     "output_type": "execute_result"
    }
   ],
   "source": [
    "# c.413_434+35del\n",
    "# delete the nucleotides from 413 to 434\n",
    "dna_mutated = dna[:412] + dna[434:]\n",
    "protein = translate_fs(dna_mutated)\n",
    "print(other_mutations[4] + ': ' + protein)\n",
    "len(protein)"
   ]
  },
  {
   "cell_type": "code",
   "execution_count": 44,
   "metadata": {},
   "outputs": [
    {
     "data": {
      "text/plain": [
       "'G11fs'"
      ]
     },
     "execution_count": 44,
     "metadata": {},
     "output_type": "execute_result"
    }
   ],
   "source": [
    "other_mutations[5]"
   ]
  },
  {
   "cell_type": "code",
   "execution_count": 45,
   "metadata": {},
   "outputs": [
    {
     "data": {
      "text/plain": [
       "'GG'"
      ]
     },
     "execution_count": 45,
     "metadata": {},
     "output_type": "execute_result"
    }
   ],
   "source": [
    "# c.31_32delGGinsATT\n",
    "dna[30:32]"
   ]
  },
  {
   "cell_type": "code",
   "execution_count": 46,
   "metadata": {},
   "outputs": [
    {
     "name": "stdout",
     "output_type": "stream",
     "text": [
      "G11fs: MAELKYISGFIE\n"
     ]
    }
   ],
   "source": [
    "# delete the nucleotides from 31 to 32 and insert ATT\n",
    "dna_mutated = dna[:30] + 'ATT' + dna[32:]\n",
    "protein = translate_fs(dna_mutated)\n",
    "print(other_mutations[5] + ': ' + protein)"
   ]
  },
  {
   "cell_type": "code",
   "execution_count": 47,
   "metadata": {},
   "outputs": [
    {
     "data": {
      "text/plain": [
       "'G372_P373delinsA'"
      ]
     },
     "execution_count": 47,
     "metadata": {},
     "output_type": "execute_result"
    }
   ],
   "source": [
    "other_mutations[6]"
   ]
  },
  {
   "cell_type": "code",
   "execution_count": 48,
   "metadata": {},
   "outputs": [
    {
     "data": {
      "text/plain": [
       "MutableSeq('GP')"
      ]
     },
     "execution_count": 48,
     "metadata": {},
     "output_type": "execute_result"
    }
   ],
   "source": [
    "# check positions 372 and 373 of hgd_protein\n",
    "hgd_protein[371:373]"
   ]
  },
  {
   "cell_type": "code",
   "execution_count": 49,
   "metadata": {},
   "outputs": [
    {
     "name": "stdout",
     "output_type": "stream",
     "text": [
      "G372_P373delinsA: MAELKYISGFGNECSSEDPRCPGSLPEGQNNPQVCPYNLYAEQLSGSAFTCPRSTNKRSWLYRILPSVSHKPFESIDEGQVTHNWDEVDPDPNQLRWKPFEIPKASQKKVDFVSGLHTLCGAGDIKSNNGLAIHIFLCNTSMENRCFYNSDGDFLIVPQKGNLLIYTEFGKMLVQPNEICVIQRGMRFSIDVFEETRGYILEVYGVHFELPDLGPIGANGLANPRDFLIPIAWYEDRQVPGGYTVINKYQGKLFAAKQDVSPFNVVAWHGNYTPYKYNLKNFMVINSVAFDHADPSIFTVLTAKSVRPGVAIADFVIFPPRWGVADKTFRPPYYHRNCMSEFMGLIRGHYEAKQGGFLPGGGSLHSTMTPHADADCFEKASKVKLAPERIADGTMAFMFESSLSLAVTKWGLKASRCLDENYHKCWEPLKSHFTPNSRNPAEPN\n"
     ]
    },
    {
     "data": {
      "text/plain": [
       "444"
      ]
     },
     "execution_count": 49,
     "metadata": {},
     "output_type": "execute_result"
    }
   ],
   "source": [
    "# delete these amino acids and insert A\n",
    "protein = hgd_protein[:371] + 'A' + hgd_protein[373:]\n",
    "print(other_mutations[6] + ': ' + protein)\n",
    "len(protein)"
   ]
  },
  {
   "cell_type": "code",
   "execution_count": 51,
   "metadata": {},
   "outputs": [
    {
     "data": {
      "text/plain": [
       "'GAC'"
      ]
     },
     "execution_count": 51,
     "metadata": {},
     "output_type": "execute_result"
    }
   ],
   "source": [
    "dna[1114:1117]"
   ]
  },
  {
   "cell_type": "code",
   "execution_count": 52,
   "metadata": {},
   "outputs": [
    {
     "data": {
      "text/plain": [
       "True"
      ]
     },
     "execution_count": 52,
     "metadata": {},
     "output_type": "execute_result"
    }
   ],
   "source": [
    "# check if it is exact: c.1115_1117delGAC\n",
    "dna_mutated = dna[:1114] + dna[1117:]\n",
    "protein2 = translate_fs(dna_mutated)\n",
    "protein == protein2"
   ]
  },
  {
   "cell_type": "code",
   "execution_count": 53,
   "metadata": {},
   "outputs": [
    {
     "data": {
      "text/plain": [
       "'H371fs'"
      ]
     },
     "execution_count": 53,
     "metadata": {},
     "output_type": "execute_result"
    }
   ],
   "source": [
    "other_mutations[7]"
   ]
  },
  {
   "cell_type": "code",
   "execution_count": 55,
   "metadata": {},
   "outputs": [
    {
     "name": "stdout",
     "output_type": "stream",
     "text": [
      "H371fs: MAELKYISGFGNECSSEDPRCPGSLPEGQNNPQVCPYNLYAEQLSGSAFTCPRSTNKRSWLYRILPSVSHKPFESIDEGQVTHNWDEVDPDPNQLRWKPFEIPKASQKKVDFVSGLHTLCGAGDIKSNNGLAIHIFLCNTSMENRCFYNSDGDFLIVPQKGNLLIYTEFGKMLVQPNEICVIQRGMRFSIDVFEETRGYILEVYGVHFELPDLGPIGANGLANPRDFLIPIAWYEDRQVPGGYTVINKYQGKLFAAKQDVSPFNVVAWHGNYTPYKYNLKNFMVINSVAFDHADPSIFTVLTAKSVRPGVAIADFVIFPPRWGVADKTFRPPYYHRNCMSEFMGLIRGHYEAKQGGFLPGGGSLHSTMTPPWT\n"
     ]
    }
   ],
   "source": [
    "# c.1111dupC\n",
    "dna_mutated = dna[:1111] + 'C' + dna[1111:]\n",
    "protein = translate_fs(dna_mutated)\n",
    "print(other_mutations[7] + ': ' + protein)"
   ]
  },
  {
   "cell_type": "code",
   "execution_count": 56,
   "metadata": {},
   "outputs": [
    {
     "data": {
      "text/plain": [
       "'His371Profs'"
      ]
     },
     "execution_count": 56,
     "metadata": {},
     "output_type": "execute_result"
    }
   ],
   "source": [
    "other_mutations[8]"
   ]
  },
  {
   "cell_type": "code",
   "execution_count": 57,
   "metadata": {},
   "outputs": [
    {
     "data": {
      "text/plain": [
       "'M339fs'"
      ]
     },
     "execution_count": 57,
     "metadata": {},
     "output_type": "execute_result"
    }
   ],
   "source": [
    "other_mutations[9]"
   ]
  },
  {
   "cell_type": "code",
   "execution_count": 58,
   "metadata": {},
   "outputs": [
    {
     "data": {
      "text/plain": [
       "'GAG'"
      ]
     },
     "execution_count": 58,
     "metadata": {},
     "output_type": "execute_result"
    }
   ],
   "source": [
    "# c.1017_1019delGAGinsTA\n",
    "dna[1016:1019]"
   ]
  },
  {
   "cell_type": "code",
   "execution_count": 59,
   "metadata": {},
   "outputs": [
    {
     "name": "stdout",
     "output_type": "stream",
     "text": [
      "M339fs: MAELKYISGFGNECSSEDPRCPGSLPEGQNNPQVCPYNLYAEQLSGSAFTCPRSTNKRSWLYRILPSVSHKPFESIDEGQVTHNWDEVDPDPNQLRWKPFEIPKASQKKVDFVSGLHTLCGAGDIKSNNGLAIHIFLCNTSMENRCFYNSDGDFLIVPQKGNLLIYTEFGKMLVQPNEICVIQRGMRFSIDVFEETRGYILEVYGVHFELPDLGPIGANGLANPRDFLIPIAWYEDRQVPGGYTVINKYQGKLFAAKQDVSPFNVVAWHGNYTPYKYNLKNFMVINSVAFDHADPSIFTVLTAKSVRPGVAIADFVIFPPRWGVADKTFRPPYYHRNCIMSSWDSSEVTMRQSKVGSCQGEGVYTAQ\n"
     ]
    }
   ],
   "source": [
    "# del GAG ins TA\n",
    "dna_mutated = dna[:1016] + 'TA' + dna[1019:]\n",
    "protein = translate_fs(dna_mutated)\n",
    "print(other_mutations[9] + ': ' + protein)"
   ]
  },
  {
   "cell_type": "code",
   "execution_count": 61,
   "metadata": {},
   "outputs": [
    {
     "data": {
      "text/plain": [
       "'Q29fs'"
      ]
     },
     "execution_count": 61,
     "metadata": {},
     "output_type": "execute_result"
    }
   ],
   "source": [
    "other_mutations[10]"
   ]
  },
  {
   "cell_type": "code",
   "execution_count": 62,
   "metadata": {},
   "outputs": [
    {
     "name": "stdout",
     "output_type": "stream",
     "text": [
      "Q29fs: MAELKYISGFGNECSSEDPRCPGSLPEGRIILRSAPTISMLSSSQDRLSLVHGAPIREAGCIGFYLQFLTSPLNPLTKAKSLTTGMKLILILTSLDGNHLRFQKHLRRK\n"
     ]
    }
   ],
   "source": [
    "# c.85delC\n",
    "dna_mutated = dna[:85] + dna[86:]\n",
    "protein = translate_fs(dna_mutated)\n",
    "print(other_mutations[10] + ': ' + protein)"
   ]
  },
  {
   "cell_type": "code",
   "execution_count": 65,
   "metadata": {},
   "outputs": [
    {
     "data": {
      "text/plain": [
       "'R321*'"
      ]
     },
     "execution_count": 65,
     "metadata": {},
     "output_type": "execute_result"
    }
   ],
   "source": [
    "other_mutations[12]"
   ]
  },
  {
   "cell_type": "code",
   "execution_count": 67,
   "metadata": {},
   "outputs": [
    {
     "data": {
      "text/plain": [
       "'R'"
      ]
     },
     "execution_count": 67,
     "metadata": {},
     "output_type": "execute_result"
    }
   ],
   "source": [
    "hgd_protein[320]"
   ]
  },
  {
   "cell_type": "code",
   "execution_count": 68,
   "metadata": {},
   "outputs": [
    {
     "name": "stdout",
     "output_type": "stream",
     "text": [
      "R321*: MAELKYISGFGNECSSEDPRCPGSLPEGQNNPQVCPYNLYAEQLSGSAFTCPRSTNKRSWLYRILPSVSHKPFESIDEGQVTHNWDEVDPDPNQLRWKPFEIPKASQKKVDFVSGLHTLCGAGDIKSNNGLAIHIFLCNTSMENRCFYNSDGDFLIVPQKGNLLIYTEFGKMLVQPNEICVIQRGMRFSIDVFEETRGYILEVYGVHFELPDLGPIGANGLANPRDFLIPIAWYEDRQVPGGYTVINKYQGKLFAAKQDVSPFNVVAWHGNYTPYKYNLKNFMVINSVAFDHADPSIFTVLTAKSVRPGVAIADFVIFPP\n"
     ]
    }
   ],
   "source": [
    "protein = hgd_protein[:320] \n",
    "print(other_mutations[12] + ': ' + protein)"
   ]
  },
  {
   "cell_type": "code",
   "execution_count": 70,
   "metadata": {},
   "outputs": [
    {
     "data": {
      "text/plain": [
       "'S59fs'"
      ]
     },
     "execution_count": 70,
     "metadata": {},
     "output_type": "execute_result"
    }
   ],
   "source": [
    "other_mutations[14]"
   ]
  },
  {
   "cell_type": "code",
   "execution_count": 71,
   "metadata": {},
   "outputs": [
    {
     "name": "stdout",
     "output_type": "stream",
     "text": [
      "S59fs: MAELKYISGFGNECSSEDPRCPGSLPEGQNNPQVCPYNLYAEQLSGSAFTCPRSTNKRAGCIGFYLQFLTSPLNPLTKAKSLTTGMKLILILTSLDGNHLRFQKHLRRK\n"
     ]
    }
   ],
   "source": [
    "# c.175delA\n",
    "# delete the nucleotide in position 175\n",
    "dna_mutated = dna[:174] + dna[175:]\n",
    "protein = translate_fs(dna_mutated)\n",
    "print(other_mutations[14] + ': ' + protein)"
   ]
  },
  {
   "cell_type": "code",
   "execution_count": 73,
   "metadata": {},
   "outputs": [
    {
     "data": {
      "text/plain": [
       "'W60*'"
      ]
     },
     "execution_count": 73,
     "metadata": {},
     "output_type": "execute_result"
    }
   ],
   "source": [
    "other_mutations[16]"
   ]
  },
  {
   "cell_type": "code",
   "execution_count": 74,
   "metadata": {},
   "outputs": [
    {
     "data": {
      "text/plain": [
       "'W'"
      ]
     },
     "execution_count": 74,
     "metadata": {},
     "output_type": "execute_result"
    }
   ],
   "source": [
    "hgd_protein[59]"
   ]
  },
  {
   "cell_type": "code",
   "execution_count": 75,
   "metadata": {},
   "outputs": [
    {
     "name": "stdout",
     "output_type": "stream",
     "text": [
      "W60*: MAELKYISGFGNECSSEDPRCPGSLPEGQNNPQVCPYNLYAEQLSGSAFTCPRSTNKRS\n"
     ]
    }
   ],
   "source": [
    "protein = hgd_protein[:59]\n",
    "print(other_mutations[16] + ': ' + protein)"
   ]
  },
  {
   "cell_type": "code",
   "execution_count": 8,
   "metadata": {},
   "outputs": [
    {
     "data": {
      "text/plain": [
       "'G'"
      ]
     },
     "execution_count": 8,
     "metadata": {},
     "output_type": "execute_result"
    }
   ],
   "source": [
    "# G205V\n",
    "# check if in position 205 of hgd_protein there is a G\n",
    "hgd_protein[204]"
   ]
  },
  {
   "cell_type": "code",
   "execution_count": 9,
   "metadata": {},
   "outputs": [
    {
     "name": "stdout",
     "output_type": "stream",
     "text": [
      "G205V: MAELKYISGFGNECSSEDPRCPGSLPEGQNNPQVCPYNLYAEQLSGSAFTCPRSTNKRSWLYRILPSVSHKPFESIDEGQVTHNWDEVDPDPNQLRWKPFEIPKASQKKVDFVSGLHTLCGAGDIKSNNGLAIHIFLCNTSMENRCFYNSDGDFLIVPQKGNLLIYTEFGKMLVQPNEICVIQRGMRFSIDVFEETRGYILEVYVVHFELPDLGPIGANGLANPRDFLIPIAWYEDRQVPGGYTVINKYQGKLFAAKQDVSPFNVVAWHGNYTPYKYNLKNFMVINSVAFDHADPSIFTVLTAKSVRPGVAIADFVIFPPRWGVADKTFRPPYYHRNCMSEFMGLIRGHYEAKQGGFLPGGGSLHSTMTPHGPDADCFEKASKVKLAPERIADGTMAFMFESSLSLAVTKWGLKASRCLDENYHKCWEPLKSHFTPNSRNPAEPN\n"
     ]
    }
   ],
   "source": [
    "# substitute G with V\n",
    "protein = hgd_protein[:204] + 'V' + hgd_protein[205:]\n",
    "print('G205V: ' + protein)"
   ]
  },
  {
   "cell_type": "code",
   "execution_count": 11,
   "metadata": {},
   "outputs": [
    {
     "data": {
      "text/plain": [
       "'K'"
      ]
     },
     "execution_count": 11,
     "metadata": {},
     "output_type": "execute_result"
    }
   ],
   "source": [
    "# L353Q\n",
    "# check if in position 353 of hgd_protein there is a L\n",
    "hgd_protein[352]"
   ]
  },
  {
   "cell_type": "code",
   "execution_count": 12,
   "metadata": {},
   "outputs": [
    {
     "name": "stdout",
     "output_type": "stream",
     "text": [
      "K353Q: MAELKYISGFGNECSSEDPRCPGSLPEGQNNPQVCPYNLYAEQLSGSAFTCPRSTNKRSWLYRILPSVSHKPFESIDEGQVTHNWDEVDPDPNQLRWKPFEIPKASQKKVDFVSGLHTLCGAGDIKSNNGLAIHIFLCNTSMENRCFYNSDGDFLIVPQKGNLLIYTEFGKMLVQPNEICVIQRGMRFSIDVFEETRGYILEVYGVHFELPDLGPIGANGLANPRDFLIPIAWYEDRQVPGGYTVINKYQGKLFAAKQDVSPFNVVAWHGNYTPYKYNLKNFMVINSVAFDHADPSIFTVLTAKSVRPGVAIADFVIFPPRWGVADKTFRPPYYHRNCMSEFMGLIRGHYEAQQGGFLPGGGSLHSTMTPHGPDADCFEKASKVKLAPERIADGTMAFMFESSLSLAVTKWGLKASRCLDENYHKCWEPLKSHFTPNSRNPAEPN\n"
     ]
    }
   ],
   "source": [
    "# substitute K with Q\n",
    "protein = hgd_protein[:352] + 'Q' + hgd_protein[353:]\n",
    "print('K353Q: ' + protein)"
   ]
  }
 ],
 "metadata": {
  "kernelspec": {
   "display_name": ".venv",
   "language": "python",
   "name": "python3"
  },
  "language_info": {
   "codemirror_mode": {
    "name": "ipython",
    "version": 3
   },
   "file_extension": ".py",
   "mimetype": "text/x-python",
   "name": "python",
   "nbconvert_exporter": "python",
   "pygments_lexer": "ipython3",
   "version": "3.11.7"
  }
 },
 "nbformat": 4,
 "nbformat_minor": 2
}
