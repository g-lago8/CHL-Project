{
 "cells": [
  {
   "cell_type": "code",
   "execution_count": 6,
   "metadata": {},
   "outputs": [],
   "source": [
    "from Bio.PDB import PDBParser\n",
    "from Bio.PDB.DSSP import DSSP\n",
    "\n",
    "from tqdm import tqdm\n",
    "\n",
    "from utils import *"
   ]
  },
  {
   "cell_type": "code",
   "execution_count": 7,
   "metadata": {},
   "outputs": [],
   "source": [
    "path_og = '../datasets/test/HGD_normal.pdb'\n",
    "path_m = '../datasets/test/A122V_4.pdb'\n"
   ]
  },
  {
   "cell_type": "markdown",
   "metadata": {},
   "source": [
    "| Code | Structure                     |\n",
    "|------|-------------------------------|\n",
    "| H    | Alpha helix (4-12)            |\n",
    "| B    | Isolated beta-bridge residue  |\n",
    "| E    | Strand                        |\n",
    "| G    | 3-10 helix                    |\n",
    "| I    | Pi helix                      |\n",
    "| T    | Turn                          |\n",
    "| S    | Bend                          |\n",
    "| -    | None                          |"
   ]
  },
  {
   "cell_type": "code",
   "execution_count": 8,
   "metadata": {},
   "outputs": [],
   "source": [
    "parser = PDBParser()\n",
    "\n",
    "structure_og = parser.get_structure(\"HGD\", path_og)\n",
    "structure_m = parser.get_structure(\"A122V\", path_m)\n",
    "\n",
    "model_og = structure_og[0]\n",
    "model_m = structure_m[0]\n",
    "\n",
    "dssp_og = DSSP(model_og, path_og, dssp='mkdssp')\n",
    "dssp_m = DSSP(model_m, path_m, dssp='mkdssp')\n"
   ]
  },
  {
   "cell_type": "code",
   "execution_count": 6,
   "metadata": {},
   "outputs": [
    {
     "name": "stdout",
     "output_type": "stream",
     "text": [
      "(122, 'A', 'E', 0.0660377358490566, -158.0, 160.4, 9, -2.5, 9, -2.1, -2, -0.3, 2, -0.1)\n"
     ]
    }
   ],
   "source": [
    "# print the dssp \n",
    "print(dssp_og['A', 122])"
   ]
  },
  {
   "cell_type": "code",
   "execution_count": 7,
   "metadata": {},
   "outputs": [
    {
     "data": {
      "text/plain": [
       "Bio.PDB.DSSP.DSSP"
      ]
     },
     "execution_count": 7,
     "metadata": {},
     "output_type": "execute_result"
    }
   ],
   "source": [
    "type(dssp_og)"
   ]
  },
  {
   "cell_type": "markdown",
   "metadata": {},
   "source": [
    "| Tuple Index | Value             |\n",
    "|-------------|-------------------|\n",
    "| 0           | DSSP index        |\n",
    "| 1           | Amino acid        |\n",
    "| 2           | Secondary structure |\n",
    "| 3           | Relative ASA      |\n",
    "| 4           | Phi               |\n",
    "| 5           | Psi               |\n",
    "| 6           | NH–>O_1_relidx    |\n",
    "| 7           | NH–>O_1_energy    |\n",
    "| 8           | O–>NH_1_relidx    |\n",
    "| 9           | O–>NH_1_energy    |\n",
    "| 10          | NH–>O_2_relidx    |\n",
    "| 11          | NH–>O_2_energy    |\n",
    "| 12          | O–>NH_2_relidx    |\n",
    "| 13          | O–>NH_2_energy    |"
   ]
  },
  {
   "cell_type": "code",
   "execution_count": null,
   "metadata": {},
   "outputs": [],
   "source": [
    "# print the secondary structure\n",
    "print('OG')\n",
    "for key in dssp_og.keys():\n",
    "    print(dssp_og[key])\n",
    "\n",
    "print('Mutant')\n",
    "for key in dssp_m.keys():\n",
    "    print(dssp_m[key])"
   ]
  },
  {
   "cell_type": "code",
   "execution_count": null,
   "metadata": {},
   "outputs": [],
   "source": [
    "secondary_structure = [(x[1], x[2]) for x in dssp_og.property_list]\n",
    "\n",
    "secondary_structure2 = [(x[1],x[2]) for x in dssp_m.property_list]\n",
    "\n",
    "print('OG', 'Mutant')\n",
    "print('-----------------')\n",
    "print('(Ammino Acid, Scondary structure) (Ammino Acid, Scondary structure)')\n",
    "print('-----------------')\n",
    "for i in range(len(secondary_structure)):\n",
    "    print(secondary_structure[i], secondary_structure2[i])\n",
    "\n"
   ]
  },
  {
   "cell_type": "code",
   "execution_count": 18,
   "metadata": {},
   "outputs": [],
   "source": [
    "def get_secondary_structure(path, parser):\n",
    "\n",
    "    structure = parser.get_structure(\"HGD\", path)\n",
    "\n",
    "    model = structure[0]\n",
    "\n",
    "    dssp = DSSP(model, path, dssp='mkdssp')\n",
    "\n",
    "    secondary_structure = [x[2] for x in dssp.property_list]\n",
    "    # convert in a string\n",
    "    secondary_structure = ''.join(secondary_structure)\n",
    "    return secondary_structure"
   ]
  },
  {
   "cell_type": "code",
   "execution_count": 19,
   "metadata": {},
   "outputs": [
    {
     "data": {
      "text/plain": [
       "'-PPPPEEE-TT--EEEE-TTSTT-SPSS-S--SS-GGGPEEEEEESS-TTS-TTT--EEEEEESS-TT-SPPPEE---TB----GGGS----S-EEEPPPPPPPTTT----TGGGEEEEEEEEEGGGTEEEEEEEEEE-S---SEEEEESSEEEEEEEEES-EEEEETTEEEEE-TTEEEEE-TT--EEEEESSSEEEEEEEEES--EEPPP-GGG-SS-BS-GGGEEEEPP-----EEEEEEEEEEEETTEEEEEEEEE-S--EEEEEES---EEEEGGG-B----SSSS---GGGGEEEEEE-SSTT-EEEEEEEE-SEEE--TTS--SPPPB--SSEEEEEEEES--TT-SSS--TT-EEEE-TT--B---HHHHHHHTTS----EEESTT-EEEEEEESS-PEEPHIIIIIT--B-TTGGGGTTT------TT-SSPPP--'"
      ]
     },
     "execution_count": 19,
     "metadata": {},
     "output_type": "execute_result"
    }
   ],
   "source": [
    "get_secondary_structure(path_og, PDBParser())"
   ]
  },
  {
   "cell_type": "code",
   "execution_count": 20,
   "metadata": {},
   "outputs": [],
   "source": [
    "pdb_files = pd.read_csv('../datasets/pdb_files.csv')"
   ]
  },
  {
   "cell_type": "code",
   "execution_count": 26,
   "metadata": {},
   "outputs": [
    {
     "name": "stderr",
     "output_type": "stream",
     "text": [
      "100%|██████████| 64/64 [00:00<00:00, 590.72it/s]\n"
     ]
    }
   ],
   "source": [
    "# for each path in the pdb_files['pdb_file'] column add a row at the head of the pdb_files dataframe with 'HEADER test' \n",
    "# and 'SEQRES test' as values\n",
    "\n",
    "for i in tqdm(range(len(pdb_files))):\n",
    "    path = pdb_files['pdb_file'][i]\n",
    "    # add 'HEADER test' at the start of the file\n",
    "    with open(path, 'r') as original: data = original.read()\n",
    "    with open(path, 'w') as modified: modified.write('HEADER test\\n' + data)\n",
    "\n"
   ]
  },
  {
   "cell_type": "code",
   "execution_count": null,
   "metadata": {},
   "outputs": [],
   "source": [
    "# add a column 'secondary_structure' colum\n",
    "\n",
    "pdb_files['secondary_structure'] = pdb_files['pdb_file'].apply(lambda x: get_secondary_structure(x, parser))"
   ]
  },
  {
   "cell_type": "code",
   "execution_count": null,
   "metadata": {},
   "outputs": [],
   "source": [
    "secondary = []\n",
    "# for each path in pdb_files['pdb_files'] use get_secondary_structure to get the secondary structure\n",
    "\n",
    "for i in tqdm(range(len(pdb_files))):\n",
    "    path = pdb_files['pdb_file'][i]\n",
    "    print(path)\n",
    "    secondary_structure = get_secondary_structure(path, PDBParser())\n",
    "    # add the secondary structure to the pdb_files dataframe\n",
    "\n",
    "    secondary.append(secondary_structure)\n",
    "\n",
    "pdb_files['secondary_structure'] = secondary"
   ]
  },
  {
   "cell_type": "code",
   "execution_count": 37,
   "metadata": {},
   "outputs": [
    {
     "data": {
      "text/html": [
       "<div>\n",
       "<style scoped>\n",
       "    .dataframe tbody tr th:only-of-type {\n",
       "        vertical-align: middle;\n",
       "    }\n",
       "\n",
       "    .dataframe tbody tr th {\n",
       "        vertical-align: top;\n",
       "    }\n",
       "\n",
       "    .dataframe thead th {\n",
       "        text-align: right;\n",
       "    }\n",
       "</style>\n",
       "<table border=\"1\" class=\"dataframe\">\n",
       "  <thead>\n",
       "    <tr style=\"text-align: right;\">\n",
       "      <th></th>\n",
       "      <th>mutation</th>\n",
       "      <th>pdb_file</th>\n",
       "      <th>secondary_structure</th>\n",
       "    </tr>\n",
       "  </thead>\n",
       "  <tbody>\n",
       "    <tr>\n",
       "      <th>0</th>\n",
       "      <td>G309V</td>\n",
       "      <td>../datasets/ALPHAFOLD PDBs/G309V_e3b31/G309V_e...</td>\n",
       "      <td>-----EEE-SS--EEEE-TTSTT-SPSS-SS-SS-GGGPEEEEEES...</td>\n",
       "    </tr>\n",
       "    <tr>\n",
       "      <th>1</th>\n",
       "      <td>G185R</td>\n",
       "      <td>../datasets/ALPHAFOLD PDBs/G185R_e6971/G185R_e...</td>\n",
       "      <td>--PPPEEE-SS--EEEE-TTSTT-SPSS-SS-SS-GGGPEEEEEES...</td>\n",
       "    </tr>\n",
       "    <tr>\n",
       "      <th>2</th>\n",
       "      <td>E168L</td>\n",
       "      <td>../datasets/ALPHAFOLD PDBs/E168L_0f4af/E168L_0...</td>\n",
       "      <td>-----EEE-SS--EEEE-TTSTT-SPSS-SS-SS-GGGPEEEEEES...</td>\n",
       "    </tr>\n",
       "    <tr>\n",
       "      <th>3</th>\n",
       "      <td>R225H</td>\n",
       "      <td>../datasets/ALPHAFOLD PDBs/R225H_3ba56/R225H_3...</td>\n",
       "      <td>--PPPEEE-SS--EEEE-TTSTT-SPSS-SS-SS-GGGPEEEEEES...</td>\n",
       "    </tr>\n",
       "    <tr>\n",
       "      <th>4</th>\n",
       "      <td>R53Q</td>\n",
       "      <td>../datasets/ALPHAFOLD PDBs/R53Q_8ee59/R53Q_8ee...</td>\n",
       "      <td>-----EEE-SS--EEEE-TTSTT-SPSS-SS-SS-GGGPEEEEEES...</td>\n",
       "    </tr>\n",
       "    <tr>\n",
       "      <th>5</th>\n",
       "      <td>W97C</td>\n",
       "      <td>../datasets/ALPHAFOLD PDBs/W97C_b9ccb/W97C_b9c...</td>\n",
       "      <td>--PPPEEE-SS--EEEE-TTSTT-SPSS-SS-SS-GGGPEEEEEES...</td>\n",
       "    </tr>\n",
       "    <tr>\n",
       "      <th>6</th>\n",
       "      <td>K353Q</td>\n",
       "      <td>../datasets/ALPHAFOLD PDBs/K353Q_ed31e/K353Q_e...</td>\n",
       "      <td>-----EEE-SS--EEEE-TTSTT-SPSS-SS-SS-GGGPEEEEEES...</td>\n",
       "    </tr>\n",
       "    <tr>\n",
       "      <th>7</th>\n",
       "      <td>G360A</td>\n",
       "      <td>../datasets/ALPHAFOLD PDBs/G360A_4d8ad/G360A_4...</td>\n",
       "      <td>-----EEE-SS--EEEE-TTSTT-SPSS-SS-SS-GGGPEEEEEES...</td>\n",
       "    </tr>\n",
       "    <tr>\n",
       "      <th>8</th>\n",
       "      <td>G360R</td>\n",
       "      <td>../datasets/ALPHAFOLD PDBs/G360R_057f7/G360R_0...</td>\n",
       "      <td>-----EEE-SS--EEEE-TTSTT-SPSS-SS-SS-GGGPEEEEEES...</td>\n",
       "    </tr>\n",
       "    <tr>\n",
       "      <th>9</th>\n",
       "      <td>S59fs</td>\n",
       "      <td>../datasets/ALPHAFOLD PDBs/S59fs_cd7b7/S59fs_c...</td>\n",
       "      <td>---PPPPP-TTS------TTSTT-SPSS-SS-SS-GGG-EEEEEE-...</td>\n",
       "    </tr>\n",
       "  </tbody>\n",
       "</table>\n",
       "</div>"
      ],
      "text/plain": [
       "  mutation                                           pdb_file  \\\n",
       "0    G309V  ../datasets/ALPHAFOLD PDBs/G309V_e3b31/G309V_e...   \n",
       "1    G185R  ../datasets/ALPHAFOLD PDBs/G185R_e6971/G185R_e...   \n",
       "2    E168L  ../datasets/ALPHAFOLD PDBs/E168L_0f4af/E168L_0...   \n",
       "3    R225H  ../datasets/ALPHAFOLD PDBs/R225H_3ba56/R225H_3...   \n",
       "4     R53Q  ../datasets/ALPHAFOLD PDBs/R53Q_8ee59/R53Q_8ee...   \n",
       "5     W97C  ../datasets/ALPHAFOLD PDBs/W97C_b9ccb/W97C_b9c...   \n",
       "6    K353Q  ../datasets/ALPHAFOLD PDBs/K353Q_ed31e/K353Q_e...   \n",
       "7    G360A  ../datasets/ALPHAFOLD PDBs/G360A_4d8ad/G360A_4...   \n",
       "8    G360R  ../datasets/ALPHAFOLD PDBs/G360R_057f7/G360R_0...   \n",
       "9    S59fs  ../datasets/ALPHAFOLD PDBs/S59fs_cd7b7/S59fs_c...   \n",
       "\n",
       "                                 secondary_structure  \n",
       "0  -----EEE-SS--EEEE-TTSTT-SPSS-SS-SS-GGGPEEEEEES...  \n",
       "1  --PPPEEE-SS--EEEE-TTSTT-SPSS-SS-SS-GGGPEEEEEES...  \n",
       "2  -----EEE-SS--EEEE-TTSTT-SPSS-SS-SS-GGGPEEEEEES...  \n",
       "3  --PPPEEE-SS--EEEE-TTSTT-SPSS-SS-SS-GGGPEEEEEES...  \n",
       "4  -----EEE-SS--EEEE-TTSTT-SPSS-SS-SS-GGGPEEEEEES...  \n",
       "5  --PPPEEE-SS--EEEE-TTSTT-SPSS-SS-SS-GGGPEEEEEES...  \n",
       "6  -----EEE-SS--EEEE-TTSTT-SPSS-SS-SS-GGGPEEEEEES...  \n",
       "7  -----EEE-SS--EEEE-TTSTT-SPSS-SS-SS-GGGPEEEEEES...  \n",
       "8  -----EEE-SS--EEEE-TTSTT-SPSS-SS-SS-GGGPEEEEEES...  \n",
       "9  ---PPPPP-TTS------TTSTT-SPSS-SS-SS-GGG-EEEEEE-...  "
      ]
     },
     "execution_count": 37,
     "metadata": {},
     "output_type": "execute_result"
    }
   ],
   "source": [
    "pdb_files.head(10)"
   ]
  },
  {
   "cell_type": "code",
   "execution_count": 38,
   "metadata": {},
   "outputs": [],
   "source": [
    "# save as csv\n",
    "pdb_files.to_csv('../datasets/pdb_files_ss.csv', index=False)"
   ]
  },
  {
   "cell_type": "code",
   "execution_count": 16,
   "metadata": {},
   "outputs": [
    {
     "data": {
      "text/plain": [
       "445"
      ]
     },
     "execution_count": 16,
     "metadata": {},
     "output_type": "execute_result"
    }
   ],
   "source": [
    "len(get_secondary_structure(dssp_og))"
   ]
  },
  {
   "cell_type": "code",
   "execution_count": 17,
   "metadata": {},
   "outputs": [
    {
     "name": "stdout",
     "output_type": "stream",
     "text": [
      "('G', 'E') ('G', 'E')\n"
     ]
    }
   ],
   "source": [
    "print(secondary_structure[197], secondary_structure2[197])"
   ]
  },
  {
   "cell_type": "code",
   "execution_count": 18,
   "metadata": {},
   "outputs": [
    {
     "name": "stdout",
     "output_type": "stream",
     "text": [
      "292 ('A', '-') ('A', '-')\n",
      "335 ('R', '-') ('R', '-')\n",
      "365 ('S', '-') ('S', '-')\n",
      "371 ('G', '-') ('G', '-')\n",
      "341 ('F', 'E') ('F', 'E')\n"
     ]
    }
   ],
   "source": [
    "# check the active site\n",
    "active_site = [292, 335, 365, 371, 341]\n",
    "for i in active_site:\n",
    "    print(i, secondary_structure[i], secondary_structure2[i])"
   ]
  },
  {
   "cell_type": "code",
   "execution_count": 11,
   "metadata": {},
   "outputs": [
    {
     "name": "stdout",
     "output_type": "stream",
     "text": [
      "('A', (' ', 122, ' ')) A V\n"
     ]
    }
   ],
   "source": [
    "# comprare the two structures\n",
    "for key in dssp_og.keys():\n",
    "    if key in dssp_m.keys():\n",
    "        if dssp_og[key][1] != dssp_m[key][1]:\n",
    "            print(key, dssp_og[key][1], dssp_m[key][1])\n",
    "    else:\n",
    "        print(key, dssp_og[key][1], 'None')"
   ]
  },
  {
   "cell_type": "markdown",
   "metadata": {},
   "source": [
    "# RMSD"
   ]
  },
  {
   "cell_type": "code",
   "execution_count": null,
   "metadata": {},
   "outputs": [
    {
     "name": "stdout",
     "output_type": "stream",
     "text": [
      "RMSD: 0.0005 Å\n"
     ]
    }
   ],
   "source": [
    "path_fs = '../datasets/test/A218fs.pdb'\n",
    "\n",
    "path_m_alpha = '../datasets/ALPHAFOLD PDBs/A122V_41d52/A122V_41d52_unrelaxed_rank_001_alphafold2_ptm_model_5_seed_000.pdb'\n",
    "path_fs_alpha = '../datasets/ALPHAFOLD PDBs/A218fs_8b909/A218fs_8b909_unrelaxed_rank_001_alphafold2_ptm_model_4_seed_000.pdb'\n",
    "\n",
    "from Bio.PDB import PDBParser, Superimposer, is_aa\n",
    "\n",
    "# Function to get backbone atoms from residues that are present in both structures\n",
    "def get_common_backbone_atoms(structure1, structure2):\n",
    "    backbone_atoms1 = []\n",
    "    backbone_atoms2 = []\n",
    "    for model1, model2 in zip(structure1, structure2):\n",
    "        for chain1, chain2 in zip(model1, model2):\n",
    "            res_dict2 = {res.get_id(): res for res in chain2 if is_aa(res)}\n",
    "            for res1 in chain1:\n",
    "                if is_aa(res1) and res1.get_id() in res_dict2:\n",
    "                    res2 = res_dict2[res1.get_id()]\n",
    "                    for atom1 in res1:\n",
    "                        if atom1.get_id() in ('N', 'CA', 'C', 'O'):\n",
    "                            atom2 = res2[atom1.get_id()]\n",
    "                            backbone_atoms1.append(atom1)\n",
    "                            backbone_atoms2.append(atom2)\n",
    "    return backbone_atoms1, backbone_atoms2\n",
    "\n",
    "# Load the original and mutant PDB files\n",
    "pdb_parser = PDBParser(QUIET=True)\n",
    "structure_original = pdb_parser.get_structure(\"original\", path_fs_alpha)\n",
    "structure_mutant = pdb_parser.get_structure(\"mutant\", path_fs)\n",
    "\n",
    "# Extract common backbone atoms\n",
    "backbone_atoms_original, backbone_atoms_mutant = get_common_backbone_atoms(structure_original, structure_mutant)\n",
    "\n",
    "# Ensure there are common backbone atoms to align\n",
    "assert len(backbone_atoms_original) > 0 and len(backbone_atoms_mutant) > 0, \"No common backbone atoms found.\"\n",
    "\n",
    "# Superimpose the structures\n",
    "super_imposer = Superimposer()\n",
    "super_imposer.set_atoms(backbone_atoms_original, backbone_atoms_mutant)\n",
    "super_imposer.apply(structure_mutant.get_atoms())\n",
    "\n",
    "# Calculate RMSD\n",
    "print(f\"RMSD: {super_imposer.rms:.4f} Å\")\n",
    "\n",
    "# Optionally, save the aligned mutant structure to a new PDB file\n",
    "from Bio.PDB import PDBIO\n",
    "io = PDBIO()\n",
    "io.set_structure(structure_mutant)\n",
    "io.save(\"aligned_mutant.pdb\")\n",
    "\n",
    "\n"
   ]
  },
  {
   "cell_type": "markdown",
   "metadata": {},
   "source": [
    "----\n",
    "# Test su Grafi"
   ]
  },
  {
   "cell_type": "code",
   "execution_count": null,
   "metadata": {},
   "outputs": [],
   "source": [
    "from graphein.protein.visualisation import plotly_protein_structure_graph\n",
    "\n",
    "# Load the default config\n",
    "c = ProteinGraphConfig(granularity='CA')\n",
    "\n",
    "# Construct the graph!\n",
    "g = construct_graph(path=path_og)"
   ]
  },
  {
   "cell_type": "code",
   "execution_count": 20,
   "metadata": {},
   "outputs": [
    {
     "data": {
      "application/vnd.plotly.v1+json": {
       "config": {
        "plotlyServerURL": "https://plot.ly"
       },
       "data": [
        {
         "hoverinfo": "text+x+y+z",
         "marker": {
          "color": [
           [
            0.881443,
            0.392529,
            0.383229,
            1
           ],
           [
            0.050383,
            0.029803,
            0.527975,
            1
           ],
           [
            0.562738,
            0.051545,
            0.641509,
            1
           ],
           [
            0.798216,
            0.280197,
            0.469538,
            1
           ],
           [
            0.840155,
            0.33358,
            0.427455,
            1
           ],
           [
            0.988648,
            0.809579,
            0.145357,
            1
           ],
           [
            0.748289,
            0.222711,
            0.516834,
            1
           ],
           [
            0.973416,
            0.585761,
            0.25154,
            1
           ],
           [
            0.631017,
            0.107699,
            0.608287,
            1
           ],
           [
            0.918109,
            0.453603,
            0.339529,
            1
           ],
           [
            0.631017,
            0.107699,
            0.608287,
            1
           ],
           [
            0.254627,
            0.013882,
            0.615419,
            1
           ],
           [
            0.562738,
            0.051545,
            0.641509,
            1
           ],
           [
            0.417642,
            0.000564,
            0.65839,
            1
           ],
           [
            0.973416,
            0.585761,
            0.25154,
            1
           ],
           [
            0.973416,
            0.585761,
            0.25154,
            1
           ],
           [
            0.562738,
            0.051545,
            0.641509,
            1
           ],
           [
            0.337683,
            0.005618,
            0.643049,
            1
           ],
           [
            0.949217,
            0.517763,
            0.295662,
            1
           ],
           [
            0.16407,
            0.020171,
            0.577478,
            1
           ],
           [
            0.417642,
            0.000564,
            0.65839,
            1
           ],
           [
            0.949217,
            0.517763,
            0.295662,
            1
           ],
           [
            0.631017,
            0.107699,
            0.608287,
            1
           ],
           [
            0.973416,
            0.585761,
            0.25154,
            1
           ],
           [
            0.798216,
            0.280197,
            0.469538,
            1
           ],
           [
            0.949217,
            0.517763,
            0.295662,
            1
           ],
           [
            0.562738,
            0.051545,
            0.641509,
            1
           ],
           [
            0.631017,
            0.107699,
            0.608287,
            1
           ],
           [
            0.494877,
            0.01199,
            0.657865,
            1
           ],
           [
            0.254627,
            0.013882,
            0.615419,
            1
           ],
           [
            0.254627,
            0.013882,
            0.615419,
            1
           ],
           [
            0.949217,
            0.517763,
            0.295662,
            1
           ],
           [
            0.494877,
            0.01199,
            0.657865,
            1
           ],
           [
            0.968443,
            0.894564,
            0.147014,
            1
           ],
           [
            0.417642,
            0.000564,
            0.65839,
            1
           ],
           [
            0.949217,
            0.517763,
            0.295662,
            1
           ],
           [
            0.988648,
            0.809579,
            0.145357,
            1
           ],
           [
            0.254627,
            0.013882,
            0.615419,
            1
           ],
           [
            0.798216,
            0.280197,
            0.469538,
            1
           ],
           [
            0.988648,
            0.809579,
            0.145357,
            1
           ],
           [
            0.050383,
            0.029803,
            0.527975,
            1
           ],
           [
            0.562738,
            0.051545,
            0.641509,
            1
           ],
           [
            0.494877,
            0.01199,
            0.657865,
            1
           ],
           [
            0.798216,
            0.280197,
            0.469538,
            1
           ],
           [
            0.973416,
            0.585761,
            0.25154,
            1
           ],
           [
            0.631017,
            0.107699,
            0.608287,
            1
           ],
           [
            0.973416,
            0.585761,
            0.25154,
            1
           ],
           [
            0.050383,
            0.029803,
            0.527975,
            1
           ],
           [
            0.918109,
            0.453603,
            0.339529,
            1
           ],
           [
            0.98826,
            0.652325,
            0.211364,
            1
           ],
           [
            0.417642,
            0.000564,
            0.65839,
            1
           ],
           [
            0.949217,
            0.517763,
            0.295662,
            1
           ],
           [
            0.16407,
            0.020171,
            0.577478,
            1
           ],
           [
            0.973416,
            0.585761,
            0.25154,
            1
           ],
           [
            0.98826,
            0.652325,
            0.211364,
            1
           ],
           [
            0.254627,
            0.013882,
            0.615419,
            1
           ],
           [
            0.840155,
            0.33358,
            0.427455,
            1
           ],
           [
            0.16407,
            0.020171,
            0.577478,
            1
           ],
           [
            0.973416,
            0.585761,
            0.25154,
            1
           ],
           [
            0.994553,
            0.728728,
            0.171622,
            1
           ],
           [
            0.798216,
            0.280197,
            0.469538,
            1
           ],
           [
            0.988648,
            0.809579,
            0.145357,
            1
           ],
           [
            0.16407,
            0.020171,
            0.577478,
            1
           ],
           [
            0.748289,
            0.222711,
            0.516834,
            1
           ],
           [
            0.798216,
            0.280197,
            0.469538,
            1
           ],
           [
            0.949217,
            0.517763,
            0.295662,
            1
           ],
           [
            0.973416,
            0.585761,
            0.25154,
            1
           ],
           [
            0.968443,
            0.894564,
            0.147014,
            1
           ],
           [
            0.973416,
            0.585761,
            0.25154,
            1
           ],
           [
            0.69284,
            0.165141,
            0.564522,
            1
           ],
           [
            0.840155,
            0.33358,
            0.427455,
            1
           ],
           [
            0.949217,
            0.517763,
            0.295662,
            1
           ],
           [
            0.918109,
            0.453603,
            0.339529,
            1
           ],
           [
            0.562738,
            0.051545,
            0.641509,
            1
           ],
           [
            0.973416,
            0.585761,
            0.25154,
            1
           ],
           [
            0.748289,
            0.222711,
            0.516834,
            1
           ],
           [
            0.337683,
            0.005618,
            0.643049,
            1
           ],
           [
            0.562738,
            0.051545,
            0.641509,
            1
           ],
           [
            0.631017,
            0.107699,
            0.608287,
            1
           ],
           [
            0.494877,
            0.01199,
            0.657865,
            1
           ],
           [
            0.968443,
            0.894564,
            0.147014,
            1
           ],
           [
            0.98826,
            0.652325,
            0.211364,
            1
           ],
           [
            0.69284,
            0.165141,
            0.564522,
            1
           ],
           [
            0.254627,
            0.013882,
            0.615419,
            1
           ],
           [
            0.994553,
            0.728728,
            0.171622,
            1
           ],
           [
            0.337683,
            0.005618,
            0.643049,
            1
           ],
           [
            0.562738,
            0.051545,
            0.641509,
            1
           ],
           [
            0.968443,
            0.894564,
            0.147014,
            1
           ],
           [
            0.337683,
            0.005618,
            0.643049,
            1
           ],
           [
            0.949217,
            0.517763,
            0.295662,
            1
           ],
           [
            0.337683,
            0.005618,
            0.643049,
            1
           ],
           [
            0.949217,
            0.517763,
            0.295662,
            1
           ],
           [
            0.254627,
            0.013882,
            0.615419,
            1
           ],
           [
            0.494877,
            0.01199,
            0.657865,
            1
           ],
           [
            0.798216,
            0.280197,
            0.469538,
            1
           ],
           [
            0.16407,
            0.020171,
            0.577478,
            1
           ],
           [
            0.994553,
            0.728728,
            0.171622,
            1
           ],
           [
            0.840155,
            0.33358,
            0.427455,
            1
           ],
           [
            0.949217,
            0.517763,
            0.295662,
            1
           ],
           [
            0.918109,
            0.453603,
            0.339529,
            1
           ],
           [
            0.562738,
            0.051545,
            0.641509,
            1
           ],
           [
            0.748289,
            0.222711,
            0.516834,
            1
           ],
           [
            0.949217,
            0.517763,
            0.295662,
            1
           ],
           [
            0.840155,
            0.33358,
            0.427455,
            1
           ],
           [
            0.050383,
            0.029803,
            0.527975,
            1
           ],
           [
            0.973416,
            0.585761,
            0.25154,
            1
           ],
           [
            0.494877,
            0.01199,
            0.657865,
            1
           ],
           [
            0.840155,
            0.33358,
            0.427455,
            1
           ],
           [
            0.840155,
            0.33358,
            0.427455,
            1
           ],
           [
            0.968443,
            0.894564,
            0.147014,
            1
           ],
           [
            0.337683,
            0.005618,
            0.643049,
            1
           ],
           [
            0.918109,
            0.453603,
            0.339529,
            1
           ],
           [
            0.968443,
            0.894564,
            0.147014,
            1
           ],
           [
            0.973416,
            0.585761,
            0.25154,
            1
           ],
           [
            0.631017,
            0.107699,
            0.608287,
            1
           ],
           [
            0.798216,
            0.280197,
            0.469538,
            1
           ],
           [
            0.69284,
            0.165141,
            0.564522,
            1
           ],
           [
            0.98826,
            0.652325,
            0.211364,
            1
           ],
           [
            0.798216,
            0.280197,
            0.469538,
            1
           ],
           [
            0.417642,
            0.000564,
            0.65839,
            1
           ],
           [
            0.631017,
            0.107699,
            0.608287,
            1
           ],
           [
            0.050383,
            0.029803,
            0.527975,
            1
           ],
           [
            0.631017,
            0.107699,
            0.608287,
            1
           ],
           [
            0.337683,
            0.005618,
            0.643049,
            1
           ],
           [
            0.748289,
            0.222711,
            0.516834,
            1
           ],
           [
            0.840155,
            0.33358,
            0.427455,
            1
           ],
           [
            0.973416,
            0.585761,
            0.25154,
            1
           ],
           [
            0.254627,
            0.013882,
            0.615419,
            1
           ],
           [
            0.254627,
            0.013882,
            0.615419,
            1
           ],
           [
            0.631017,
            0.107699,
            0.608287,
            1
           ],
           [
            0.798216,
            0.280197,
            0.469538,
            1
           ],
           [
            0.050383,
            0.029803,
            0.527975,
            1
           ],
           [
            0.748289,
            0.222711,
            0.516834,
            1
           ],
           [
            0.69284,
            0.165141,
            0.564522,
            1
           ],
           [
            0.748289,
            0.222711,
            0.516834,
            1
           ],
           [
            0.918109,
            0.453603,
            0.339529,
            1
           ],
           [
            0.798216,
            0.280197,
            0.469538,
            1
           ],
           [
            0.417642,
            0.000564,
            0.65839,
            1
           ],
           [
            0.254627,
            0.013882,
            0.615419,
            1
           ],
           [
            0.98826,
            0.652325,
            0.211364,
            1
           ],
           [
            0.973416,
            0.585761,
            0.25154,
            1
           ],
           [
            0.881443,
            0.392529,
            0.383229,
            1
           ],
           [
            0.562738,
            0.051545,
            0.641509,
            1
           ],
           [
            0.254627,
            0.013882,
            0.615419,
            1
           ],
           [
            0.16407,
            0.020171,
            0.577478,
            1
           ],
           [
            0.417642,
            0.000564,
            0.65839,
            1
           ],
           [
            0.918109,
            0.453603,
            0.339529,
            1
           ],
           [
            0.988648,
            0.809579,
            0.145357,
            1
           ],
           [
            0.254627,
            0.013882,
            0.615419,
            1
           ],
           [
            0.973416,
            0.585761,
            0.25154,
            1
           ],
           [
            0.337683,
            0.005618,
            0.643049,
            1
           ],
           [
            0.631017,
            0.107699,
            0.608287,
            1
           ],
           [
            0.337683,
            0.005618,
            0.643049,
            1
           ],
           [
            0.918109,
            0.453603,
            0.339529,
            1
           ],
           [
            0.798216,
            0.280197,
            0.469538,
            1
           ],
           [
            0.748289,
            0.222711,
            0.516834,
            1
           ],
           [
            0.968443,
            0.894564,
            0.147014,
            1
           ],
           [
            0.949217,
            0.517763,
            0.295662,
            1
           ],
           [
            0.494877,
            0.01199,
            0.657865,
            1
           ],
           [
            0.840155,
            0.33358,
            0.427455,
            1
           ],
           [
            0.631017,
            0.107699,
            0.608287,
            1
           ],
           [
            0.254627,
            0.013882,
            0.615419,
            1
           ],
           [
            0.798216,
            0.280197,
            0.469538,
            1
           ],
           [
            0.798216,
            0.280197,
            0.469538,
            1
           ],
           [
            0.748289,
            0.222711,
            0.516834,
            1
           ],
           [
            0.988648,
            0.809579,
            0.145357,
            1
           ],
           [
            0.98826,
            0.652325,
            0.211364,
            1
           ],
           [
            0.562738,
            0.051545,
            0.641509,
            1
           ],
           [
            0.918109,
            0.453603,
            0.339529,
            1
           ],
           [
            0.631017,
            0.107699,
            0.608287,
            1
           ],
           [
            0.840155,
            0.33358,
            0.427455,
            1
           ],
           [
            0.881443,
            0.392529,
            0.383229,
            1
           ],
           [
            0.798216,
            0.280197,
            0.469538,
            1
           ],
           [
            0.968443,
            0.894564,
            0.147014,
            1
           ],
           [
            0.494877,
            0.01199,
            0.657865,
            1
           ],
           [
            0.949217,
            0.517763,
            0.295662,
            1
           ],
           [
            0.254627,
            0.013882,
            0.615419,
            1
           ],
           [
            0.562738,
            0.051545,
            0.641509,
            1
           ],
           [
            0.748289,
            0.222711,
            0.516834,
            1
           ],
           [
            0.417642,
            0.000564,
            0.65839,
            1
           ],
           [
            0.968443,
            0.894564,
            0.147014,
            1
           ],
           [
            0.748289,
            0.222711,
            0.516834,
            1
           ],
           [
            0.494877,
            0.01199,
            0.657865,
            1
           ],
           [
            0.16407,
            0.020171,
            0.577478,
            1
           ],
           [
            0.631017,
            0.107699,
            0.608287,
            1
           ],
           [
            0.881443,
            0.392529,
            0.383229,
            1
           ],
           [
            0.16407,
            0.020171,
            0.577478,
            1
           ],
           [
            0.918109,
            0.453603,
            0.339529,
            1
           ],
           [
            0.973416,
            0.585761,
            0.25154,
            1
           ],
           [
            0.748289,
            0.222711,
            0.516834,
            1
           ],
           [
            0.337683,
            0.005618,
            0.643049,
            1
           ],
           [
            0.968443,
            0.894564,
            0.147014,
            1
           ],
           [
            0.918109,
            0.453603,
            0.339529,
            1
           ],
           [
            0.562738,
            0.051545,
            0.641509,
            1
           ],
           [
            0.562738,
            0.051545,
            0.641509,
            1
           ],
           [
            0.98826,
            0.652325,
            0.211364,
            1
           ],
           [
            0.16407,
            0.020171,
            0.577478,
            1
           ],
           [
            0.631017,
            0.107699,
            0.608287,
            1
           ],
           [
            0.988648,
            0.809579,
            0.145357,
            1
           ],
           [
            0.748289,
            0.222711,
            0.516834,
            1
           ],
           [
            0.798216,
            0.280197,
            0.469538,
            1
           ],
           [
            0.562738,
            0.051545,
            0.641509,
            1
           ],
           [
            0.968443,
            0.894564,
            0.147014,
            1
           ],
           [
            0.988648,
            0.809579,
            0.145357,
            1
           ],
           [
            0.631017,
            0.107699,
            0.608287,
            1
           ],
           [
            0.968443,
            0.894564,
            0.147014,
            1
           ],
           [
            0.69284,
            0.165141,
            0.564522,
            1
           ],
           [
            0.918109,
            0.453603,
            0.339529,
            1
           ],
           [
            0.562738,
            0.051545,
            0.641509,
            1
           ],
           [
            0.798216,
            0.280197,
            0.469538,
            1
           ],
           [
            0.949217,
            0.517763,
            0.295662,
            1
           ],
           [
            0.337683,
            0.005618,
            0.643049,
            1
           ],
           [
            0.798216,
            0.280197,
            0.469538,
            1
           ],
           [
            0.631017,
            0.107699,
            0.608287,
            1
           ],
           [
            0.949217,
            0.517763,
            0.295662,
            1
           ],
           [
            0.748289,
            0.222711,
            0.516834,
            1
           ],
           [
            0.631017,
            0.107699,
            0.608287,
            1
           ],
           [
            0.050383,
            0.029803,
            0.527975,
            1
           ],
           [
            0.254627,
            0.013882,
            0.615419,
            1
           ],
           [
            0.631017,
            0.107699,
            0.608287,
            1
           ],
           [
            0.798216,
            0.280197,
            0.469538,
            1
           ],
           [
            0.050383,
            0.029803,
            0.527975,
            1
           ],
           [
            0.254627,
            0.013882,
            0.615419,
            1
           ],
           [
            0.949217,
            0.517763,
            0.295662,
            1
           ],
           [
            0.16407,
            0.020171,
            0.577478,
            1
           ],
           [
            0.337683,
            0.005618,
            0.643049,
            1
           ],
           [
            0.918109,
            0.453603,
            0.339529,
            1
           ],
           [
            0.798216,
            0.280197,
            0.469538,
            1
           ],
           [
            0.748289,
            0.222711,
            0.516834,
            1
           ],
           [
            0.949217,
            0.517763,
            0.295662,
            1
           ],
           [
            0.748289,
            0.222711,
            0.516834,
            1
           ],
           [
            0.050383,
            0.029803,
            0.527975,
            1
           ],
           [
            0.994553,
            0.728728,
            0.171622,
            1
           ],
           [
            0.988648,
            0.809579,
            0.145357,
            1
           ],
           [
            0.562738,
            0.051545,
            0.641509,
            1
           ],
           [
            0.337683,
            0.005618,
            0.643049,
            1
           ],
           [
            0.16407,
            0.020171,
            0.577478,
            1
           ],
           [
            0.494877,
            0.01199,
            0.657865,
            1
           ],
           [
            0.968443,
            0.894564,
            0.147014,
            1
           ],
           [
            0.949217,
            0.517763,
            0.295662,
            1
           ],
           [
            0.631017,
            0.107699,
            0.608287,
            1
           ],
           [
            0.631017,
            0.107699,
            0.608287,
            1
           ],
           [
            0.988648,
            0.809579,
            0.145357,
            1
           ],
           [
            0.98826,
            0.652325,
            0.211364,
            1
           ],
           [
            0.968443,
            0.894564,
            0.147014,
            1
           ],
           [
            0.748289,
            0.222711,
            0.516834,
            1
           ],
           [
            0.254627,
            0.013882,
            0.615419,
            1
           ],
           [
            0.840155,
            0.33358,
            0.427455,
            1
           ],
           [
            0.988648,
            0.809579,
            0.145357,
            1
           ],
           [
            0.494877,
            0.01199,
            0.657865,
            1
           ],
           [
            0.631017,
            0.107699,
            0.608287,
            1
           ],
           [
            0.840155,
            0.33358,
            0.427455,
            1
           ],
           [
            0.798216,
            0.280197,
            0.469538,
            1
           ],
           [
            0.918109,
            0.453603,
            0.339529,
            1
           ],
           [
            0.050383,
            0.029803,
            0.527975,
            1
           ],
           [
            0.050383,
            0.029803,
            0.527975,
            1
           ],
           [
            0.840155,
            0.33358,
            0.427455,
            1
           ],
           [
            0.494877,
            0.01199,
            0.657865,
            1
           ],
           [
            0.337683,
            0.005618,
            0.643049,
            1
           ],
           [
            0.968443,
            0.894564,
            0.147014,
            1
           ],
           [
            0.973416,
            0.585761,
            0.25154,
            1
           ],
           [
            0.949217,
            0.517763,
            0.295662,
            1
           ],
           [
            0.918109,
            0.453603,
            0.339529,
            1
           ],
           [
            0.254627,
            0.013882,
            0.615419,
            1
           ],
           [
            0.968443,
            0.894564,
            0.147014,
            1
           ],
           [
            0.968443,
            0.894564,
            0.147014,
            1
           ],
           [
            0.050383,
            0.029803,
            0.527975,
            1
           ],
           [
            0.994553,
            0.728728,
            0.171622,
            1
           ],
           [
            0.69284,
            0.165141,
            0.564522,
            1
           ],
           [
            0.631017,
            0.107699,
            0.608287,
            1
           ],
           [
            0.254627,
            0.013882,
            0.615419,
            1
           ],
           [
            0.988648,
            0.809579,
            0.145357,
            1
           ],
           [
            0.98826,
            0.652325,
            0.211364,
            1
           ],
           [
            0.949217,
            0.517763,
            0.295662,
            1
           ],
           [
            0.988648,
            0.809579,
            0.145357,
            1
           ],
           [
            0.840155,
            0.33358,
            0.427455,
            1
           ],
           [
            0.988648,
            0.809579,
            0.145357,
            1
           ],
           [
            0.254627,
            0.013882,
            0.615419,
            1
           ],
           [
            0.798216,
            0.280197,
            0.469538,
            1
           ],
           [
            0.840155,
            0.33358,
            0.427455,
            1
           ],
           [
            0.254627,
            0.013882,
            0.615419,
            1
           ],
           [
            0.918109,
            0.453603,
            0.339529,
            1
           ],
           [
            0.881443,
            0.392529,
            0.383229,
            1
           ],
           [
            0.968443,
            0.894564,
            0.147014,
            1
           ],
           [
            0.748289,
            0.222711,
            0.516834,
            1
           ],
           [
            0.254627,
            0.013882,
            0.615419,
            1
           ],
           [
            0.973416,
            0.585761,
            0.25154,
            1
           ],
           [
            0.968443,
            0.894564,
            0.147014,
            1
           ],
           [
            0.050383,
            0.029803,
            0.527975,
            1
           ],
           [
            0.918109,
            0.453603,
            0.339529,
            1
           ],
           [
            0.337683,
            0.005618,
            0.643049,
            1
           ],
           [
            0.69284,
            0.165141,
            0.564522,
            1
           ],
           [
            0.050383,
            0.029803,
            0.527975,
            1
           ],
           [
            0.337683,
            0.005618,
            0.643049,
            1
           ],
           [
            0.949217,
            0.517763,
            0.295662,
            1
           ],
           [
            0.973416,
            0.585761,
            0.25154,
            1
           ],
           [
            0.748289,
            0.222711,
            0.516834,
            1
           ],
           [
            0.918109,
            0.453603,
            0.339529,
            1
           ],
           [
            0.98826,
            0.652325,
            0.211364,
            1
           ],
           [
            0.968443,
            0.894564,
            0.147014,
            1
           ],
           [
            0.798216,
            0.280197,
            0.469538,
            1
           ],
           [
            0.98826,
            0.652325,
            0.211364,
            1
           ],
           [
            0.050383,
            0.029803,
            0.527975,
            1
           ],
           [
            0.840155,
            0.33358,
            0.427455,
            1
           ],
           [
            0.973416,
            0.585761,
            0.25154,
            1
           ],
           [
            0.968443,
            0.894564,
            0.147014,
            1
           ],
           [
            0.16407,
            0.020171,
            0.577478,
            1
           ],
           [
            0.949217,
            0.517763,
            0.295662,
            1
           ],
           [
            0.631017,
            0.107699,
            0.608287,
            1
           ],
           [
            0.968443,
            0.894564,
            0.147014,
            1
           ],
           [
            0.050383,
            0.029803,
            0.527975,
            1
           ],
           [
            0.748289,
            0.222711,
            0.516834,
            1
           ],
           [
            0.050383,
            0.029803,
            0.527975,
            1
           ],
           [
            0.337683,
            0.005618,
            0.643049,
            1
           ],
           [
            0.918109,
            0.453603,
            0.339529,
            1
           ],
           [
            0.968443,
            0.894564,
            0.147014,
            1
           ],
           [
            0.748289,
            0.222711,
            0.516834,
            1
           ],
           [
            0.918109,
            0.453603,
            0.339529,
            1
           ],
           [
            0.949217,
            0.517763,
            0.295662,
            1
           ],
           [
            0.949217,
            0.517763,
            0.295662,
            1
           ],
           [
            0.16407,
            0.020171,
            0.577478,
            1
           ],
           [
            0.994553,
            0.728728,
            0.171622,
            1
           ],
           [
            0.631017,
            0.107699,
            0.608287,
            1
           ],
           [
            0.968443,
            0.894564,
            0.147014,
            1
           ],
           [
            0.050383,
            0.029803,
            0.527975,
            1
           ],
           [
            0.337683,
            0.005618,
            0.643049,
            1
           ],
           [
            0.840155,
            0.33358,
            0.427455,
            1
           ],
           [
            0.98826,
            0.652325,
            0.211364,
            1
           ],
           [
            0.918109,
            0.453603,
            0.339529,
            1
           ],
           [
            0.16407,
            0.020171,
            0.577478,
            1
           ],
           [
            0.949217,
            0.517763,
            0.295662,
            1
           ],
           [
            0.949217,
            0.517763,
            0.295662,
            1
           ],
           [
            0.988648,
            0.809579,
            0.145357,
            1
           ],
           [
            0.988648,
            0.809579,
            0.145357,
            1
           ],
           [
            0.69284,
            0.165141,
            0.564522,
            1
           ],
           [
            0.16407,
            0.020171,
            0.577478,
            1
           ],
           [
            0.254627,
            0.013882,
            0.615419,
            1
           ],
           [
            0.417642,
            0.000564,
            0.65839,
            1
           ],
           [
            0.881443,
            0.392529,
            0.383229,
            1
           ],
           [
            0.973416,
            0.585761,
            0.25154,
            1
           ],
           [
            0.562738,
            0.051545,
            0.641509,
            1
           ],
           [
            0.918109,
            0.453603,
            0.339529,
            1
           ],
           [
            0.881443,
            0.392529,
            0.383229,
            1
           ],
           [
            0.631017,
            0.107699,
            0.608287,
            1
           ],
           [
            0.798216,
            0.280197,
            0.469538,
            1
           ],
           [
            0.748289,
            0.222711,
            0.516834,
            1
           ],
           [
            0.16407,
            0.020171,
            0.577478,
            1
           ],
           [
            0.631017,
            0.107699,
            0.608287,
            1
           ],
           [
            0.69284,
            0.165141,
            0.564522,
            1
           ],
           [
            0.988648,
            0.809579,
            0.145357,
            1
           ],
           [
            0.562738,
            0.051545,
            0.641509,
            1
           ],
           [
            0.050383,
            0.029803,
            0.527975,
            1
           ],
           [
            0.840155,
            0.33358,
            0.427455,
            1
           ],
           [
            0.494877,
            0.01199,
            0.657865,
            1
           ],
           [
            0.631017,
            0.107699,
            0.608287,
            1
           ],
           [
            0.631017,
            0.107699,
            0.608287,
            1
           ],
           [
            0.918109,
            0.453603,
            0.339529,
            1
           ],
           [
            0.798216,
            0.280197,
            0.469538,
            1
           ],
           [
            0.949217,
            0.517763,
            0.295662,
            1
           ],
           [
            0.631017,
            0.107699,
            0.608287,
            1
           ],
           [
            0.631017,
            0.107699,
            0.608287,
            1
           ],
           [
            0.631017,
            0.107699,
            0.608287,
            1
           ],
           [
            0.973416,
            0.585761,
            0.25154,
            1
           ],
           [
            0.798216,
            0.280197,
            0.469538,
            1
           ],
           [
            0.69284,
            0.165141,
            0.564522,
            1
           ],
           [
            0.973416,
            0.585761,
            0.25154,
            1
           ],
           [
            0.98826,
            0.652325,
            0.211364,
            1
           ],
           [
            0.881443,
            0.392529,
            0.383229,
            1
           ],
           [
            0.98826,
            0.652325,
            0.211364,
            1
           ],
           [
            0.949217,
            0.517763,
            0.295662,
            1
           ],
           [
            0.69284,
            0.165141,
            0.564522,
            1
           ],
           [
            0.631017,
            0.107699,
            0.608287,
            1
           ],
           [
            0.949217,
            0.517763,
            0.295662,
            1
           ],
           [
            0.337683,
            0.005618,
            0.643049,
            1
           ],
           [
            0.050383,
            0.029803,
            0.527975,
            1
           ],
           [
            0.337683,
            0.005618,
            0.643049,
            1
           ],
           [
            0.417642,
            0.000564,
            0.65839,
            1
           ],
           [
            0.918109,
            0.453603,
            0.339529,
            1
           ],
           [
            0.562738,
            0.051545,
            0.641509,
            1
           ],
           [
            0.840155,
            0.33358,
            0.427455,
            1
           ],
           [
            0.050383,
            0.029803,
            0.527975,
            1
           ],
           [
            0.973416,
            0.585761,
            0.25154,
            1
           ],
           [
            0.840155,
            0.33358,
            0.427455,
            1
           ],
           [
            0.968443,
            0.894564,
            0.147014,
            1
           ],
           [
            0.840155,
            0.33358,
            0.427455,
            1
           ],
           [
            0.798216,
            0.280197,
            0.469538,
            1
           ],
           [
            0.050383,
            0.029803,
            0.527975,
            1
           ],
           [
            0.949217,
            0.517763,
            0.295662,
            1
           ],
           [
            0.562738,
            0.051545,
            0.641509,
            1
           ],
           [
            0.16407,
            0.020171,
            0.577478,
            1
           ],
           [
            0.748289,
            0.222711,
            0.516834,
            1
           ],
           [
            0.050383,
            0.029803,
            0.527975,
            1
           ],
           [
            0.337683,
            0.005618,
            0.643049,
            1
           ],
           [
            0.631017,
            0.107699,
            0.608287,
            1
           ],
           [
            0.98826,
            0.652325,
            0.211364,
            1
           ],
           [
            0.881443,
            0.392529,
            0.383229,
            1
           ],
           [
            0.050383,
            0.029803,
            0.527975,
            1
           ],
           [
            0.918109,
            0.453603,
            0.339529,
            1
           ],
           [
            0.881443,
            0.392529,
            0.383229,
            1
           ],
           [
            0.918109,
            0.453603,
            0.339529,
            1
           ],
           [
            0.562738,
            0.051545,
            0.641509,
            1
           ],
           [
            0.973416,
            0.585761,
            0.25154,
            1
           ],
           [
            0.973416,
            0.585761,
            0.25154,
            1
           ],
           [
            0.798216,
            0.280197,
            0.469538,
            1
           ],
           [
            0.973416,
            0.585761,
            0.25154,
            1
           ],
           [
            0.798216,
            0.280197,
            0.469538,
            1
           ],
           [
            0.050383,
            0.029803,
            0.527975,
            1
           ],
           [
            0.968443,
            0.894564,
            0.147014,
            1
           ],
           [
            0.98826,
            0.652325,
            0.211364,
            1
           ],
           [
            0.840155,
            0.33358,
            0.427455,
            1
           ],
           [
            0.994553,
            0.728728,
            0.171622,
            1
           ],
           [
            0.631017,
            0.107699,
            0.608287,
            1
           ],
           [
            0.798216,
            0.280197,
            0.469538,
            1
           ],
           [
            0.840155,
            0.33358,
            0.427455,
            1
           ],
           [
            0.050383,
            0.029803,
            0.527975,
            1
           ],
           [
            0.973416,
            0.585761,
            0.25154,
            1
           ],
           [
            0.16407,
            0.020171,
            0.577478,
            1
           ],
           [
            0.417642,
            0.000564,
            0.65839,
            1
           ],
           [
            0.798216,
            0.280197,
            0.469538,
            1
           ],
           [
            0.337683,
            0.005618,
            0.643049,
            1
           ],
           [
            0.562738,
            0.051545,
            0.641509,
            1
           ],
           [
            0.254627,
            0.013882,
            0.615419,
            1
           ],
           [
            0.988648,
            0.809579,
            0.145357,
            1
           ],
           [
            0.69284,
            0.165141,
            0.564522,
            1
           ],
           [
            0.840155,
            0.33358,
            0.427455,
            1
           ],
           [
            0.417642,
            0.000564,
            0.65839,
            1
           ],
           [
            0.994553,
            0.728728,
            0.171622,
            1
           ],
           [
            0.562738,
            0.051545,
            0.641509,
            1
           ],
           [
            0.949217,
            0.517763,
            0.295662,
            1
           ],
           [
            0.798216,
            0.280197,
            0.469538,
            1
           ],
           [
            0.840155,
            0.33358,
            0.427455,
            1
           ],
           [
            0.973416,
            0.585761,
            0.25154,
            1
           ],
           [
            0.69284,
            0.165141,
            0.564522,
            1
           ],
           [
            0.918109,
            0.453603,
            0.339529,
            1
           ],
           [
            0.98826,
            0.652325,
            0.211364,
            1
           ],
           [
            0.949217,
            0.517763,
            0.295662,
            1
           ],
           [
            0.254627,
            0.013882,
            0.615419,
            1
           ],
           [
            0.973416,
            0.585761,
            0.25154,
            1
           ],
           [
            0.16407,
            0.020171,
            0.577478,
            1
           ],
           [
            0.254627,
            0.013882,
            0.615419,
            1
           ],
           [
            0.949217,
            0.517763,
            0.295662,
            1
           ],
           [
            0.050383,
            0.029803,
            0.527975,
            1
           ],
           [
            0.562738,
            0.051545,
            0.641509,
            1
           ],
           [
            0.949217,
            0.517763,
            0.295662,
            1
           ],
           [
            0.254627,
            0.013882,
            0.615419,
            1
           ]
          ],
          "opacity": 0.7,
          "size": [
           20.5,
           21,
           21,
           21,
           21,
           21,
           21,
           21,
           21,
           21,
           21,
           21,
           21,
           21,
           21,
           21,
           21,
           21,
           21,
           21,
           21,
           21,
           21,
           21,
           21,
           21,
           21,
           21,
           21,
           21,
           21,
           21,
           21,
           21,
           21,
           21,
           21,
           21,
           21,
           21,
           21,
           21,
           21,
           21,
           21,
           21,
           21,
           21,
           21,
           21,
           21,
           21,
           21,
           21,
           21,
           21,
           21,
           21,
           21,
           21,
           21,
           21,
           21,
           21,
           21,
           21,
           21,
           21,
           21,
           21,
           21,
           21,
           21,
           21,
           21,
           21,
           21,
           21,
           21,
           21,
           21,
           21,
           21,
           21,
           21,
           21,
           21,
           21,
           21,
           21,
           21,
           21,
           21,
           21,
           21,
           21,
           21,
           21,
           21,
           21,
           21,
           21,
           21,
           21,
           21,
           21,
           21,
           21,
           21,
           21,
           21,
           21,
           21,
           21,
           21,
           21,
           21,
           21,
           21,
           21,
           21,
           21,
           21,
           21,
           21,
           21,
           21,
           21,
           21,
           21,
           21,
           21,
           21,
           21,
           21,
           21,
           21,
           21,
           21,
           21,
           21,
           21,
           21,
           21,
           21,
           21,
           21,
           21,
           21,
           21,
           21,
           21,
           21,
           21,
           21,
           21,
           21,
           21,
           21,
           21,
           21,
           21,
           21,
           21,
           21,
           21,
           21,
           21,
           21,
           21,
           21,
           21,
           21,
           21,
           21,
           21,
           21,
           21,
           21,
           21,
           21,
           21,
           21,
           21,
           21,
           21,
           21,
           21,
           21,
           21,
           21,
           21,
           21,
           21,
           21,
           21,
           21,
           21,
           21,
           21,
           21,
           21,
           21,
           21,
           21,
           21,
           21,
           21,
           21,
           21,
           21,
           21,
           21,
           21,
           21,
           21,
           21,
           21,
           21,
           21,
           21,
           21,
           21,
           21,
           21,
           21,
           21,
           21,
           21,
           21,
           21,
           21,
           21,
           21,
           21,
           21,
           21,
           21,
           21,
           21,
           21,
           21,
           21,
           21,
           21,
           21,
           21,
           21,
           21,
           21,
           21,
           21,
           21,
           21,
           21,
           21,
           21,
           21,
           21,
           21,
           21,
           21,
           21,
           21,
           21,
           21,
           21,
           21,
           21,
           21,
           21,
           21,
           21,
           21,
           21,
           21,
           21,
           21,
           21,
           21,
           21,
           21,
           21,
           21,
           21,
           21,
           21,
           21,
           21,
           21,
           21,
           21,
           21,
           21,
           21,
           21,
           21,
           21,
           21,
           21,
           21,
           21,
           21,
           21,
           21,
           21,
           21,
           21,
           21,
           21,
           21,
           21,
           21,
           21,
           21,
           21,
           21,
           21,
           21,
           21,
           21,
           21,
           21,
           21,
           21,
           21,
           21,
           21,
           21,
           21,
           21,
           21,
           21,
           21,
           21,
           21,
           21,
           21,
           21,
           21,
           21,
           21,
           21,
           21,
           21,
           21,
           21,
           21,
           21,
           21,
           21,
           21,
           21,
           21,
           21,
           21,
           21,
           21,
           21,
           21,
           21,
           21,
           21,
           21,
           21,
           21,
           21,
           21,
           21,
           21,
           21,
           21,
           21,
           21,
           21,
           21,
           21,
           21,
           21,
           21,
           21,
           21,
           21,
           21,
           21,
           21,
           21,
           21,
           21,
           21,
           21,
           21,
           21,
           21,
           21,
           21,
           21,
           21,
           21,
           21,
           21,
           21,
           21,
           21,
           21,
           21,
           21,
           21,
           21,
           21,
           21,
           21,
           21,
           21,
           21,
           21,
           21,
           21,
           21,
           21,
           21,
           21,
           21,
           21,
           21,
           21,
           21,
           21,
           21,
           21,
           21,
           21,
           21,
           21,
           21,
           21,
           21,
           21,
           21,
           21,
           21,
           21,
           21,
           21,
           20.5
          ],
          "symbol": "circle"
         },
         "mode": "markers",
         "text": [
          "A:MET:1",
          "A:ALA:2",
          "A:GLU:3",
          "A:LEU:4",
          "A:LYS:5",
          "A:TYR:6",
          "A:ILE:7",
          "A:SER:8",
          "A:GLY:9",
          "A:PHE:10",
          "A:GLY:11",
          "A:ASN:12",
          "A:GLU:13",
          "A:CYS:14",
          "A:SER:15",
          "A:SER:16",
          "A:GLU:17",
          "A:ASP:18",
          "A:PRO:19",
          "A:ARG:20",
          "A:CYS:21",
          "A:PRO:22",
          "A:GLY:23",
          "A:SER:24",
          "A:LEU:25",
          "A:PRO:26",
          "A:GLU:27",
          "A:GLY:28",
          "A:GLN:29",
          "A:ASN:30",
          "A:ASN:31",
          "A:PRO:32",
          "A:GLN:33",
          "A:VAL:34",
          "A:CYS:35",
          "A:PRO:36",
          "A:TYR:37",
          "A:ASN:38",
          "A:LEU:39",
          "A:TYR:40",
          "A:ALA:41",
          "A:GLU:42",
          "A:GLN:43",
          "A:LEU:44",
          "A:SER:45",
          "A:GLY:46",
          "A:SER:47",
          "A:ALA:48",
          "A:PHE:49",
          "A:THR:50",
          "A:CYS:51",
          "A:PRO:52",
          "A:ARG:53",
          "A:SER:54",
          "A:THR:55",
          "A:ASN:56",
          "A:LYS:57",
          "A:ARG:58",
          "A:SER:59",
          "A:TRP:60",
          "A:LEU:61",
          "A:TYR:62",
          "A:ARG:63",
          "A:ILE:64",
          "A:LEU:65",
          "A:PRO:66",
          "A:SER:67",
          "A:VAL:68",
          "A:SER:69",
          "A:HIS:70",
          "A:LYS:71",
          "A:PRO:72",
          "A:PHE:73",
          "A:GLU:74",
          "A:SER:75",
          "A:ILE:76",
          "A:ASP:77",
          "A:GLU:78",
          "A:GLY:79",
          "A:GLN:80",
          "A:VAL:81",
          "A:THR:82",
          "A:HIS:83",
          "A:ASN:84",
          "A:TRP:85",
          "A:ASP:86",
          "A:GLU:87",
          "A:VAL:88",
          "A:ASP:89",
          "A:PRO:90",
          "A:ASP:91",
          "A:PRO:92",
          "A:ASN:93",
          "A:GLN:94",
          "A:LEU:95",
          "A:ARG:96",
          "A:TRP:97",
          "A:LYS:98",
          "A:PRO:99",
          "A:PHE:100",
          "A:GLU:101",
          "A:ILE:102",
          "A:PRO:103",
          "A:LYS:104",
          "A:ALA:105",
          "A:SER:106",
          "A:GLN:107",
          "A:LYS:108",
          "A:LYS:109",
          "A:VAL:110",
          "A:ASP:111",
          "A:PHE:112",
          "A:VAL:113",
          "A:SER:114",
          "A:GLY:115",
          "A:LEU:116",
          "A:HIS:117",
          "A:THR:118",
          "A:LEU:119",
          "A:CYS:120",
          "A:GLY:121",
          "A:ALA:122",
          "A:GLY:123",
          "A:ASP:124",
          "A:ILE:125",
          "A:LYS:126",
          "A:SER:127",
          "A:ASN:128",
          "A:ASN:129",
          "A:GLY:130",
          "A:LEU:131",
          "A:ALA:132",
          "A:ILE:133",
          "A:HIS:134",
          "A:ILE:135",
          "A:PHE:136",
          "A:LEU:137",
          "A:CYS:138",
          "A:ASN:139",
          "A:THR:140",
          "A:SER:141",
          "A:MET:142",
          "A:GLU:143",
          "A:ASN:144",
          "A:ARG:145",
          "A:CYS:146",
          "A:PHE:147",
          "A:TYR:148",
          "A:ASN:149",
          "A:SER:150",
          "A:ASP:151",
          "A:GLY:152",
          "A:ASP:153",
          "A:PHE:154",
          "A:LEU:155",
          "A:ILE:156",
          "A:VAL:157",
          "A:PRO:158",
          "A:GLN:159",
          "A:LYS:160",
          "A:GLY:161",
          "A:ASN:162",
          "A:LEU:163",
          "A:LEU:164",
          "A:ILE:165",
          "A:TYR:166",
          "A:THR:167",
          "A:GLU:168",
          "A:PHE:169",
          "A:GLY:170",
          "A:LYS:171",
          "A:MET:172",
          "A:LEU:173",
          "A:VAL:174",
          "A:GLN:175",
          "A:PRO:176",
          "A:ASN:177",
          "A:GLU:178",
          "A:ILE:179",
          "A:CYS:180",
          "A:VAL:181",
          "A:ILE:182",
          "A:GLN:183",
          "A:ARG:184",
          "A:GLY:185",
          "A:MET:186",
          "A:ARG:187",
          "A:PHE:188",
          "A:SER:189",
          "A:ILE:190",
          "A:ASP:191",
          "A:VAL:192",
          "A:PHE:193",
          "A:GLU:194",
          "A:GLU:195",
          "A:THR:196",
          "A:ARG:197",
          "A:GLY:198",
          "A:TYR:199",
          "A:ILE:200",
          "A:LEU:201",
          "A:GLU:202",
          "A:VAL:203",
          "A:TYR:204",
          "A:GLY:205",
          "A:VAL:206",
          "A:HIS:207",
          "A:PHE:208",
          "A:GLU:209",
          "A:LEU:210",
          "A:PRO:211",
          "A:ASP:212",
          "A:LEU:213",
          "A:GLY:214",
          "A:PRO:215",
          "A:ILE:216",
          "A:GLY:217",
          "A:ALA:218",
          "A:ASN:219",
          "A:GLY:220",
          "A:LEU:221",
          "A:ALA:222",
          "A:ASN:223",
          "A:PRO:224",
          "A:ARG:225",
          "A:ASP:226",
          "A:PHE:227",
          "A:LEU:228",
          "A:ILE:229",
          "A:PRO:230",
          "A:ILE:231",
          "A:ALA:232",
          "A:TRP:233",
          "A:TYR:234",
          "A:GLU:235",
          "A:ASP:236",
          "A:ARG:237",
          "A:GLN:238",
          "A:VAL:239",
          "A:PRO:240",
          "A:GLY:241",
          "A:GLY:242",
          "A:TYR:243",
          "A:THR:244",
          "A:VAL:245",
          "A:ILE:246",
          "A:ASN:247",
          "A:LYS:248",
          "A:TYR:249",
          "A:GLN:250",
          "A:GLY:251",
          "A:LYS:252",
          "A:LEU:253",
          "A:PHE:254",
          "A:ALA:255",
          "A:ALA:256",
          "A:LYS:257",
          "A:GLN:258",
          "A:ASP:259",
          "A:VAL:260",
          "A:SER:261",
          "A:PRO:262",
          "A:PHE:263",
          "A:ASN:264",
          "A:VAL:265",
          "A:VAL:266",
          "A:ALA:267",
          "A:TRP:268",
          "A:HIS:269",
          "A:GLY:270",
          "A:ASN:271",
          "A:TYR:272",
          "A:THR:273",
          "A:PRO:274",
          "A:TYR:275",
          "A:LYS:276",
          "A:TYR:277",
          "A:ASN:278",
          "A:LEU:279",
          "A:LYS:280",
          "A:ASN:281",
          "A:PHE:282",
          "A:MET:283",
          "A:VAL:284",
          "A:ILE:285",
          "A:ASN:286",
          "A:SER:287",
          "A:VAL:288",
          "A:ALA:289",
          "A:PHE:290",
          "A:ASP:291",
          "A:HIS:292",
          "A:ALA:293",
          "A:ASP:294",
          "A:PRO:295",
          "A:SER:296",
          "A:ILE:297",
          "A:PHE:298",
          "A:THR:299",
          "A:VAL:300",
          "A:LEU:301",
          "A:THR:302",
          "A:ALA:303",
          "A:LYS:304",
          "A:SER:305",
          "A:VAL:306",
          "A:ARG:307",
          "A:PRO:308",
          "A:GLY:309",
          "A:VAL:310",
          "A:ALA:311",
          "A:ILE:312",
          "A:ALA:313",
          "A:ASP:314",
          "A:PHE:315",
          "A:VAL:316",
          "A:ILE:317",
          "A:PHE:318",
          "A:PRO:319",
          "A:PRO:320",
          "A:ARG:321",
          "A:TRP:322",
          "A:GLY:323",
          "A:VAL:324",
          "A:ALA:325",
          "A:ASP:326",
          "A:LYS:327",
          "A:THR:328",
          "A:PHE:329",
          "A:ARG:330",
          "A:PRO:331",
          "A:PRO:332",
          "A:TYR:333",
          "A:TYR:334",
          "A:HIS:335",
          "A:ARG:336",
          "A:ASN:337",
          "A:CYS:338",
          "A:MET:339",
          "A:SER:340",
          "A:GLU:341",
          "A:PHE:342",
          "A:MET:343",
          "A:GLY:344",
          "A:LEU:345",
          "A:ILE:346",
          "A:ARG:347",
          "A:GLY:348",
          "A:HIS:349",
          "A:TYR:350",
          "A:GLU:351",
          "A:ALA:352",
          "A:LYS:353",
          "A:GLN:354",
          "A:GLY:355",
          "A:GLY:356",
          "A:PHE:357",
          "A:LEU:358",
          "A:PRO:359",
          "A:GLY:360",
          "A:GLY:361",
          "A:GLY:362",
          "A:SER:363",
          "A:LEU:364",
          "A:HIS:365",
          "A:SER:366",
          "A:THR:367",
          "A:MET:368",
          "A:THR:369",
          "A:PRO:370",
          "A:HIS:371",
          "A:GLY:372",
          "A:PRO:373",
          "A:ASP:374",
          "A:ALA:375",
          "A:ASP:376",
          "A:CYS:377",
          "A:PHE:378",
          "A:GLU:379",
          "A:LYS:380",
          "A:ALA:381",
          "A:SER:382",
          "A:LYS:383",
          "A:VAL:384",
          "A:LYS:385",
          "A:LEU:386",
          "A:ALA:387",
          "A:PRO:388",
          "A:GLU:389",
          "A:ARG:390",
          "A:ILE:391",
          "A:ALA:392",
          "A:ASP:393",
          "A:GLY:394",
          "A:THR:395",
          "A:MET:396",
          "A:ALA:397",
          "A:PHE:398",
          "A:MET:399",
          "A:PHE:400",
          "A:GLU:401",
          "A:SER:402",
          "A:SER:403",
          "A:LEU:404",
          "A:SER:405",
          "A:LEU:406",
          "A:ALA:407",
          "A:VAL:408",
          "A:THR:409",
          "A:LYS:410",
          "A:TRP:411",
          "A:GLY:412",
          "A:LEU:413",
          "A:LYS:414",
          "A:ALA:415",
          "A:SER:416",
          "A:ARG:417",
          "A:CYS:418",
          "A:LEU:419",
          "A:ASP:420",
          "A:GLU:421",
          "A:ASN:422",
          "A:TYR:423",
          "A:HIS:424",
          "A:LYS:425",
          "A:CYS:426",
          "A:TRP:427",
          "A:GLU:428",
          "A:PRO:429",
          "A:LEU:430",
          "A:LYS:431",
          "A:SER:432",
          "A:HIS:433",
          "A:PHE:434",
          "A:THR:435",
          "A:PRO:436",
          "A:ASN:437",
          "A:SER:438",
          "A:ARG:439",
          "A:ASN:440",
          "A:PRO:441",
          "A:ALA:442",
          "A:GLU:443",
          "A:PRO:444",
          "A:ASN:445"
         ],
         "type": "scatter3d",
         "x": [
          -18.036,
          -16.035,
          -12.28,
          -10.754,
          -7.928,
          -4.77,
          -1.738,
          1.607,
          4.862,
          5.9,
          6.366,
          5.439,
          4.09,
          0.756,
          -2.056,
          -5.6,
          -8.93,
          -12.303,
          -13.074,
          -16.52,
          -14.81,
          -11.868,
          -9.548,
          -10.523,
          -6.876,
          -5.894,
          -3.28,
          0.195,
          -0.859,
          -2.388,
          -4.428,
          -6.613,
          -9.003,
          -11.802,
          -10.954,
          -12.145,
          -15.776,
          -15.924,
          -14.153,
          -12.328,
          -8.534,
          -7.425,
          -3.87,
          -3.255,
          0.252,
          1.766,
          5.146,
          6.584,
          6.764,
          10.61,
          11.273,
          13.83,
          12.077,
          12.629,
          10.706,
          8.317,
          4.797,
          1.728,
          -1.358,
          -3.714,
          -7.411,
          -9.986,
          -13.212,
          -16.941,
          -16.967,
          -13.888,
          -13.019,
          -13.665,
          -17.455,
          -18.316,
          -19.908,
          -17.702,
          -16.177,
          -17.767,
          -16.028,
          -17.192,
          -16.4,
          -12.978,
          -14.189,
          -10.945,
          -8.694,
          -6.128,
          -2.618,
          -2.099,
          0.946,
          1.392,
          -1.965,
          -0.36,
          2.8,
          5.812,
          5.947,
          9.106,
          7.403,
          6.745,
          3.076,
          1.054,
          -2.563,
          -4.908,
          -6.951,
          -8.893,
          -12.684,
          -14.821,
          -18.162,
          -21.069,
          -23.218,
          -26.317,
          -25.222,
          -23.748,
          -23.212,
          -19.564,
          -17.838,
          -14.087,
          -13.72,
          -15.974,
          -13.977,
          -10.528,
          -8.785,
          -5.344,
          -3.217,
          0.083,
          2.146,
          4.979,
          6.061,
          4.122,
          1.365,
          1.115,
          4.808,
          3.961,
          6.575,
          5.961,
          3.714,
          0.619,
          -0.493,
          -4.253,
          -6.475,
          -9.627,
          -12.658,
          -15.706,
          -18.761,
          -20.627,
          -19.649,
          -19.034,
          -22.37,
          -22.512,
          -19.252,
          -15.539,
          -12.441,
          -9.189,
          -6.151,
          -4.705,
          -1.923,
          -0.154,
          -0.088,
          -1.89,
          -0.345,
          -3.325,
          -2.793,
          -6.038,
          -6.123,
          -9.782,
          -12.251,
          -11.663,
          -11.655,
          -13.173,
          -11.606,
          -13.055,
          -10.529,
          -10.45,
          -8.077,
          -10.447,
          -11.149,
          -8.855,
          -9.856,
          -7.428,
          -7.461,
          -5.576,
          -1.912,
          -2.138,
          -1.367,
          -2.452,
          -1.289,
          -3.562,
          -1.43,
          -2.16,
          -5.162,
          -6.66,
          -10.423,
          -11.452,
          -14.409,
          -14.363,
          -16.853,
          -16.685,
          -18.26,
          -18.024,
          -16.814,
          -13.523,
          -10.203,
          -6.657,
          -3.784,
          -2.774,
          0.617,
          0.154,
          3.281,
          3.191,
          4.548,
          6.336,
          5.586,
          6.446,
          9.279,
          11.081,
          14.298,
          17.74,
          18.761,
          22.506,
          24.42,
          21.106,
          21.522,
          18.747,
          16.097,
          14.71,
          12.471,
          9.333,
          9.904,
          8.449,
          6.339,
          4.161,
          2.767,
          -0.686,
          -2.505,
          -6.305,
          -7.515,
          -9.675,
          -13.298,
          -16.009,
          -19.545,
          -21.66,
          -23.913,
          -25.956,
          -26.719,
          -30.065,
          -29.323,
          -25.591,
          -22.479,
          -20.252,
          -16.485,
          -14.627,
          -11.249,
          -8.631,
          -6.798,
          -4.202,
          -5.414,
          -9.01,
          -12.053,
          -14.166,
          -17.11,
          -18.283,
          -21.341,
          -21.324,
          -24.155,
          -22.286,
          -19.895,
          -16.169,
          -15.367,
          -16.126,
          -12.618,
          -13.083,
          -9.347,
          -6.049,
          -2.279,
          0.516,
          2.935,
          0.915,
          -1.587,
          -3.046,
          -1.516,
          -1.761,
          0.87,
          0.523,
          2.928,
          3.107,
          5.204,
          8.005,
          11.34,
          12.733,
          16.499,
          18.314,
          21.344,
          22.297,
          25.216,
          25.171,
          23.958,
          20.611,
          20.351,
          19.047,
          15.224,
          15.741,
          16.456,
          12.624,
          11.717,
          8.818,
          8.381,
          10.252,
          9.401,
          12.284,
          12.685,
          14.136,
          17.451,
          19.45,
          19.795,
          17.062,
          13.539,
          10.569,
          9.062,
          9.887,
          7.23,
          8.937,
          7.409,
          8.161,
          7.032,
          7.128,
          10.841,
          13.648,
          15.721,
          19.142,
          21.688,
          24.088,
          25.533,
          23.257,
          20.62,
          17.928,
          15.278,
          15.711,
          18.664,
          18.259,
          18.004,
          18.035,
          17.839,
          17.35,
          13.987,
          10.559,
          8.956,
          5.218,
          4.579,
          1.306,
          -0.023,
          -2.112,
          -2.445,
          -0.847,
          1.636,
          4.855,
          7.956,
          9.434,
          6.17,
          4.603,
          1.086,
          -0.354,
          0.452,
          -2.613,
          -3.915,
          -5.373,
          -3.334,
          -0.091,
          3.016,
          5.057,
          8.718,
          9.894,
          13.318,
          16.234,
          13.834,
          15.356,
          13.418,
          14,
          12.779,
          10.748,
          12.241,
          10.575,
          11.827,
          15.384,
          15.413,
          14.043,
          16.343,
          19.486,
          18.968,
          17.474,
          19.498,
          19.804,
          18.585,
          16.899,
          13.374,
          10.343,
          9.577,
          6.356,
          4.394,
          0.737,
          1.972,
          2.433,
          3.709,
          4.923,
          6.555,
          6.106,
          9.487,
          10.083,
          13.092,
          10.778,
          9.599,
          5.969,
          3.693,
          0.474,
          -2.912,
          -5.534,
          -7.46,
          -4.399,
          -3.411,
          -6.858,
          -10.034,
          -9.294,
          -9.313,
          -6.935,
          -3.701,
          -2.007,
          -0.721,
          1.366,
          3.522,
          6.804,
          6.284,
          7.308,
          11.009,
          10.923,
          11.739,
          15.126,
          18.177,
          21.937,
          23.604,
          27.097,
          29.81,
          32.927,
          35.305,
          34.016,
          34.391,
          32.901,
          30.359,
          30.601,
          27.816,
          24.982,
          25.834
         ],
         "y": [
          20.589,
          23.108,
          22.689,
          20.445,
          21.799,
          19.861,
          19.865,
          19.463,
          17.574,
          13.909,
          12.177,
          15.3,
          15.207,
          16.843,
          18.174,
          18.66,
          19.61,
          19.743,
          23.524,
          22.908,
          21.792,
          24.16,
          22.874,
          19.219,
          18.113,
          17.745,
          20.353,
          19.05,
          15.326,
          12.419,
          10.626,
          13.094,
          11.552,
          13.275,
          14.408,
          17.756,
          17.372,
          13.995,
          12.237,
          8.881,
          8.898,
          6.054,
          5.341,
          3.881,
          2.31,
          1.895,
          0.65,
          -1.236,
          1.042,
          0.805,
          1.837,
          4.709,
          8.136,
          8.414,
          5.116,
          5.241,
          5.713,
          6.509,
          8.724,
          9.675,
          9.922,
          11.833,
          10.144,
          10.089,
          6.268,
          3.973,
          1.533,
          -1.479,
          -0.752,
          -3.326,
          -6.806,
          -9.906,
          -10.238,
          -12.77,
          -14.206,
          -12.91,
          -13.859,
          -12.509,
          -12.087,
          -11.543,
          -10.61,
          -13.455,
          -14.176,
          -17.801,
          -17.265,
          -21.093,
          -21.362,
          -20.728,
          -22.4,
          -20.022,
          -18.355,
          -16.28,
          -14.799,
          -11.077,
          -10.274,
          -7.284,
          -6.346,
          -4.065,
          -1.629,
          -3.627,
          -3.648,
          -1.663,
          -3.389,
          -1.283,
          0.291,
          -0.798,
          -4.498,
          -4.699,
          -2.191,
          -2.584,
          -0.349,
          -0.025,
          -3.14,
          -5.393,
          -4.227,
          -5.263,
          -7.733,
          -9.067,
          -9.104,
          -10.464,
          -10.637,
          -12.351,
          -13.459,
          -14.953,
          -12.718,
          -14.996,
          -14.199,
          -10.464,
          -10.293,
          -9.472,
          -7.392,
          -7.559,
          -5.529,
          -4.96,
          -3.365,
          -1.638,
          -1.733,
          0.056,
          2.179,
          2.896,
          4.651,
          2.615,
          2.933,
          2.534,
          0.552,
          1.124,
          -0.964,
          -1.368,
          -3.442,
          -5.503,
          -6.903,
          -3.793,
          -0.339,
          0.584,
          2.948,
          3.861,
          5.196,
          6.479,
          6.066,
          6.882,
          8.649,
          10.737,
          9.15,
          11.006,
          9.093,
          9.368,
          8.326,
          8.53,
          11.537,
          13.402,
          13.622,
          13.404,
          14.002,
          12.004,
          12.517,
          10.739,
          11.945,
          12.046,
          9.117,
          8.412,
          6.106,
          4.538,
          2.831,
          -0.469,
          -0.518,
          2.867,
          2.731,
          4.349,
          4.604,
          5.713,
          7.799,
          7.552,
          9.81,
          7.566,
          4.162,
          4.162,
          2.323,
          2.356,
          0.46,
          -0.489,
          -1.505,
          -3.344,
          -3.931,
          -6.349,
          -5.418,
          -2.194,
          1.49,
          3.611,
          6.159,
          8.796,
          7.455,
          8.456,
          11.266,
          10.394,
          12.901,
          14.738,
          16.202,
          17.913,
          18.739,
          16.996,
          14.126,
          14.015,
          17.072,
          16.408,
          19.649,
          18.402,
          15.424,
          16.47,
          15.087,
          15.565,
          17.91,
          16.413,
          15.823,
          13.837,
          12.578,
          11.826,
          9.474,
          6.599,
          4.008,
          2.143,
          -1.558,
          -1.085,
          0.351,
          -2.426,
          -2.497,
          -4.69,
          -6.04,
          -7.614,
          -9.97,
          -12.579,
          -11.872,
          -12.971,
          -10.683,
          -10.24,
          -7.97,
          -6.565,
          -4.36,
          -1.246,
          1.236,
          4.431,
          5.679,
          4.945,
          8.495,
          9.926,
          11.334,
          15.006,
          15.652,
          13.822,
          14.297,
          12.055,
          11.051,
          7.988,
          9.485,
          8.909,
          11.198,
          12.23,
          13.475,
          15.152,
          13.553,
          16.904,
          18.319,
          15.73,
          17.549,
          15.388,
          14.661,
          13.195,
          13.388,
          16.944,
          15.814,
          12.183,
          8.583,
          7.304,
          7.447,
          4.404,
          4.518,
          4.52,
          8.282,
          8.567,
          6.862,
          8.682,
          6.256,
          3.108,
          0.261,
          -1.637,
          -5.427,
          -7.463,
          -7.348,
          -4.083,
          -1.925,
          -3.927,
          -2.524,
          -4.918,
          -2.41,
          0.945,
          3.247,
          4.863,
          7.354,
          8.38,
          12.039,
          14.895,
          15.892,
          17.361,
          14.956,
          16.577,
          13.703,
          14.175,
          11.266,
          8.958,
          6.327,
          8.234,
          5.463,
          2.937,
          0.579,
          -3.16,
          -4.606,
          -7.704,
          -7.263,
          -8.883,
          -7.087,
          -7.847,
          -4.836,
          -4.093,
          -1.083,
          0.912,
          3.905,
          6.738,
          8.863,
          9.493,
          7.153,
          5.48,
          6.28,
          2.731,
          1.126,
          2.237,
          0.799,
          -1.924,
          -0.201,
          2.027,
          4.011,
          1.472,
          -1.48,
          -2.97,
          -5.062,
          -7.471,
          -8.297,
          -11.223,
          -11.465,
          -11.581,
          -11.619,
          -9.549,
          -6.366,
          -2.974,
          -0.712,
          -2.24,
          -2.415,
          0.854,
          2.744,
          1.41,
          2.401,
          5.943,
          6.685,
          5.416,
          7.86,
          11.05,
          14.287,
          14.903,
          18.255,
          19.3,
          17.795,
          17.587,
          13.962,
          12.492,
          15.818,
          14.727,
          11.281,
          9.67,
          6.067,
          4.393,
          1.199,
          -0.962,
          -2.731,
          -5.543,
          -7.533,
          -10.6,
          -12.428,
          -11.297,
          -14.298,
          -13.696,
          -14.788,
          -16.902,
          -13.639,
          -11.797,
          -14.625,
          -15.676,
          -14.312,
          -10.626,
          -11.514,
          -8.524,
          -10.411,
          -9.676,
          -13.056,
          -11.222,
          -9.095,
          -10.879,
          -9.87,
          -6.213,
          -7.341,
          -9.931,
          -7.258,
          -6.402,
          -7.121,
          -7.404,
          -4.131,
          -5.507,
          -4.518,
          -6.54,
          -4.613,
          -1.059,
          0.392,
          3.679,
          3.03,
          5.955,
          8.498,
          7.914,
          10.507
         ],
         "z": [
          0.604,
          2.647,
          2.012,
          4.725,
          6.95,
          7.837,
          10.125,
          8.24,
          9.018,
          8.602,
          12.003,
          14.067,
          17.61,
          16.68,
          18.915,
          17.565,
          19.182,
          17.419,
          17.217,
          18.864,
          22.144,
          22.991,
          25.787,
          25.103,
          25.527,
          29.219,
          30.186,
          31.231,
          31.497,
          29.476,
          32.218,
          34.23,
          36.796,
          34.804,
          31.252,
          29.843,
          28.654,
          30.586,
          27.668,
          27.86,
          27.456,
          25.121,
          23.897,
          20.425,
          20.487,
          16.977,
          18.355,
          21.332,
          24.43,
          24.622,
          20.99,
          20.67,
          20.564,
          16.737,
          16.124,
          19.127,
          17.621,
          19.778,
          19.975,
          22.817,
          21.887,
          23.994,
          22.895,
          23.79,
          24.214,
          24.446,
          21.59,
          23.933,
          23.826,
          21.098,
          20.771,
          20.144,
          16.654,
          14.258,
          11.138,
          7.72,
          4.097,
          2.989,
          -0.639,
          -2.628,
          0.34,
          0.478,
          1.8,
          0.672,
          -1.586,
          -1.856,
          -3.748,
          -7.206,
          -8.541,
          -8.945,
          -12.409,
          -13.319,
          -16.428,
          -16.701,
          -15.954,
          -17.244,
          -16.489,
          -18.449,
          -16.266,
          -13.647,
          -14.24,
          -11.745,
          -10.894,
          -12.251,
          -9.486,
          -11.524,
          -11.249,
          -7.708,
          -4.882,
          -3.785,
          -1.234,
          -0.516,
          1.761,
          -0.358,
          -3.425,
          -2.041,
          -4.375,
          -3.381,
          -6.569,
          -5.21,
          -2.007,
          -0.154,
          3.348,
          6.287,
          7.7,
          10.818,
          11.504,
          10.934,
          8.091,
          4.402,
          2.153,
          -0.057,
          -3.081,
          -3.408,
          -6.051,
          -4.753,
          -7.12,
          -5.645,
          -6.556,
          -3.248,
          0.016,
          3.176,
          5.067,
          8.903,
          8.847,
          9.326,
          8.714,
          10.592,
          9.686,
          12.58,
          10.293,
          8.96,
          7.375,
          4.129,
          1.579,
          -0.672,
          -4.242,
          -5.893,
          -9.694,
          -10.55,
          -8.228,
          -5.1,
          -1.612,
          1.36,
          4.268,
          7.783,
          10.449,
          14.264,
          13.728,
          11.34,
          7.577,
          4.533,
          0.903,
          -1.336,
          -5.119,
          -7.949,
          -7.842,
          -4.017,
          -1.675,
          1.883,
          4.672,
          7.279,
          9.898,
          11.73,
          14.107,
          13.013,
          12.26,
          8.97,
          6.54,
          2.872,
          0.939,
          -2.881,
          -5.53,
          -8.642,
          -9.88,
          -7.961,
          -8.509,
          -7.173,
          -5.579,
          -2.018,
          -0.689,
          2.627,
          4.796,
          7.769,
          11.219,
          10.033,
          9.241,
          6.199,
          6.686,
          4.576,
          2.923,
          4.201,
          1.798,
          1.882,
          -0.374,
          -1.201,
          2.342,
          4.361,
          1.658,
          -1.471,
          -2.653,
          -0.426,
          1.832,
          5.378,
          5.353,
          2.449,
          4.46,
          5.718,
          8.814,
          9.367,
          12.142,
          14.927,
          13.921,
          15.695,
          15.213,
          18.288,
          16.312,
          17.674,
          14.945,
          15.071,
          14.293,
          15.188,
          13.502,
          12.016,
          12.756,
          10.23,
          11.403,
          9.126,
          11.545,
          10.458,
          6.886,
          7.762,
          8.024,
          11.162,
          12.058,
          15.423,
          16.142,
          18.375,
          19.166,
          18.078,
          15.395,
          16.106,
          14.777,
          18.25,
          19.082,
          20.092,
          20.604,
          20.129,
          20.434,
          19.136,
          16.397,
          15.207,
          12.729,
          9.252,
          6.595,
          2.915,
          0.438,
          -2.989,
          -5.535,
          -7.442,
          -4.527,
          -4.999,
          -5.439,
          -8.264,
          -8.107,
          -11.158,
          -13.531,
          -14.667,
          -16.898,
          -18.219,
          -17.507,
          -16.145,
          -12.317,
          -10.365,
          -9.785,
          -5.95,
          -6.446,
          -6.811,
          -3.462,
          -1.701,
          1.242,
          2.396,
          4.819,
          6.521,
          6.464,
          9.38,
          7.379,
          7.93,
          4.766,
          2.907,
          2.474,
          2.67,
          0.224,
          -1.42,
          -2.912,
          -5.928,
          -8.439,
          -12.064,
          -11.945,
          -14.497,
          -14.804,
          -16.92,
          -19.06,
          -19.74,
          -19.855,
          -22.825,
          -24.918,
          -22.873,
          -23.546,
          -21.555,
          -21.009,
          -18.142,
          -18.8,
          -19.55,
          -16.055,
          -13.781,
          -9.978,
          -6.552,
          -6.043,
          -7.456,
          -9.17,
          -9.273,
          -11.561,
          -11.527,
          -13.525,
          -11.982,
          -15.185,
          -18.622,
          -20.414,
          -19.16,
          -21.295,
          -21.412,
          -22.774,
          -26.09,
          -25.558,
          -23.248,
          -19.871,
          -19.172,
          -16.118,
          -13.627,
          -15.037,
          -13.688,
          -14.401,
          -12.265,
          -12.927,
          -10.759,
          -9.071,
          -11.587,
          -14.613,
          -17.481,
          -18.323,
          -19.983,
          -22.827,
          -25.664,
          -29.197,
          -30.377,
          -27.283,
          -27.901,
          -31.618,
          -30.893,
          -27.922,
          -29.761,
          -32.73,
          -31.217,
          -31.295,
          -27.539,
          -26.127,
          -22.804,
          -22.784,
          -20.478,
          -19.541,
          -18.095,
          -18.219,
          -17.718,
          -16.426,
          -12.999,
          -12.906,
          -9.687,
          -8.394,
          -5.343,
          -5.238,
          -2.716,
          -1.484,
          -1.423,
          -4.571,
          -5.057,
          -5.791,
          -7.805,
          -6.347,
          -8.208,
          -8.717,
          -10.083,
          -12.471,
          -13.817,
          -12.185,
          -13.05,
          -16.84,
          -17.031,
          -17.832,
          -21.191,
          -22.497,
          -25.181,
          -22.795,
          -23.792,
          -27.486,
          -26.867,
          -26.773,
          -29.663,
          -32.361,
          -30.675,
          -32.918,
          -32.68,
          -33.727,
          -32.863,
          -35.417,
          -34.292,
          -36.643,
          -35.84,
          -32.308,
          -33.586,
          -36.386,
          -38.842,
          -38.116,
          -40.644,
          -43.36
         ]
        },
        {
         "hoverinfo": "text",
         "line": {
          "color": [
           [
            0.050383,
            0.029803,
            0.527975,
            1
           ],
           [
            0.050383,
            0.029803,
            0.527975,
            1
           ],
           [
            0.050383,
            0.029803,
            0.527975,
            1
           ],
           [
            0.050383,
            0.029803,
            0.527975,
            1
           ],
           [
            0.050383,
            0.029803,
            0.527975,
            1
           ],
           [
            0.050383,
            0.029803,
            0.527975,
            1
           ],
           [
            0.050383,
            0.029803,
            0.527975,
            1
           ],
           [
            0.050383,
            0.029803,
            0.527975,
            1
           ],
           [
            0.050383,
            0.029803,
            0.527975,
            1
           ],
           [
            0.050383,
            0.029803,
            0.527975,
            1
           ],
           [
            0.050383,
            0.029803,
            0.527975,
            1
           ],
           [
            0.050383,
            0.029803,
            0.527975,
            1
           ],
           [
            0.050383,
            0.029803,
            0.527975,
            1
           ],
           [
            0.050383,
            0.029803,
            0.527975,
            1
           ],
           [
            0.050383,
            0.029803,
            0.527975,
            1
           ],
           [
            0.050383,
            0.029803,
            0.527975,
            1
           ],
           [
            0.050383,
            0.029803,
            0.527975,
            1
           ],
           [
            0.050383,
            0.029803,
            0.527975,
            1
           ],
           [
            0.050383,
            0.029803,
            0.527975,
            1
           ],
           [
            0.050383,
            0.029803,
            0.527975,
            1
           ],
           [
            0.050383,
            0.029803,
            0.527975,
            1
           ],
           [
            0.050383,
            0.029803,
            0.527975,
            1
           ],
           [
            0.050383,
            0.029803,
            0.527975,
            1
           ],
           [
            0.050383,
            0.029803,
            0.527975,
            1
           ],
           [
            0.050383,
            0.029803,
            0.527975,
            1
           ],
           [
            0.050383,
            0.029803,
            0.527975,
            1
           ],
           [
            0.050383,
            0.029803,
            0.527975,
            1
           ],
           [
            0.050383,
            0.029803,
            0.527975,
            1
           ],
           [
            0.050383,
            0.029803,
            0.527975,
            1
           ],
           [
            0.050383,
            0.029803,
            0.527975,
            1
           ],
           [
            0.050383,
            0.029803,
            0.527975,
            1
           ],
           [
            0.050383,
            0.029803,
            0.527975,
            1
           ],
           [
            0.050383,
            0.029803,
            0.527975,
            1
           ],
           [
            0.050383,
            0.029803,
            0.527975,
            1
           ],
           [
            0.050383,
            0.029803,
            0.527975,
            1
           ],
           [
            0.050383,
            0.029803,
            0.527975,
            1
           ],
           [
            0.050383,
            0.029803,
            0.527975,
            1
           ],
           [
            0.050383,
            0.029803,
            0.527975,
            1
           ],
           [
            0.050383,
            0.029803,
            0.527975,
            1
           ],
           [
            0.050383,
            0.029803,
            0.527975,
            1
           ],
           [
            0.050383,
            0.029803,
            0.527975,
            1
           ],
           [
            0.050383,
            0.029803,
            0.527975,
            1
           ],
           [
            0.050383,
            0.029803,
            0.527975,
            1
           ],
           [
            0.050383,
            0.029803,
            0.527975,
            1
           ],
           [
            0.050383,
            0.029803,
            0.527975,
            1
           ],
           [
            0.050383,
            0.029803,
            0.527975,
            1
           ],
           [
            0.050383,
            0.029803,
            0.527975,
            1
           ],
           [
            0.050383,
            0.029803,
            0.527975,
            1
           ],
           [
            0.050383,
            0.029803,
            0.527975,
            1
           ],
           [
            0.050383,
            0.029803,
            0.527975,
            1
           ],
           [
            0.050383,
            0.029803,
            0.527975,
            1
           ],
           [
            0.050383,
            0.029803,
            0.527975,
            1
           ],
           [
            0.050383,
            0.029803,
            0.527975,
            1
           ],
           [
            0.050383,
            0.029803,
            0.527975,
            1
           ],
           [
            0.050383,
            0.029803,
            0.527975,
            1
           ],
           [
            0.050383,
            0.029803,
            0.527975,
            1
           ],
           [
            0.050383,
            0.029803,
            0.527975,
            1
           ],
           [
            0.050383,
            0.029803,
            0.527975,
            1
           ],
           [
            0.050383,
            0.029803,
            0.527975,
            1
           ],
           [
            0.050383,
            0.029803,
            0.527975,
            1
           ],
           [
            0.050383,
            0.029803,
            0.527975,
            1
           ],
           [
            0.050383,
            0.029803,
            0.527975,
            1
           ],
           [
            0.050383,
            0.029803,
            0.527975,
            1
           ],
           [
            0.050383,
            0.029803,
            0.527975,
            1
           ],
           [
            0.050383,
            0.029803,
            0.527975,
            1
           ],
           [
            0.050383,
            0.029803,
            0.527975,
            1
           ],
           [
            0.050383,
            0.029803,
            0.527975,
            1
           ],
           [
            0.050383,
            0.029803,
            0.527975,
            1
           ],
           [
            0.050383,
            0.029803,
            0.527975,
            1
           ],
           [
            0.050383,
            0.029803,
            0.527975,
            1
           ],
           [
            0.050383,
            0.029803,
            0.527975,
            1
           ],
           [
            0.050383,
            0.029803,
            0.527975,
            1
           ],
           [
            0.050383,
            0.029803,
            0.527975,
            1
           ],
           [
            0.050383,
            0.029803,
            0.527975,
            1
           ],
           [
            0.050383,
            0.029803,
            0.527975,
            1
           ],
           [
            0.050383,
            0.029803,
            0.527975,
            1
           ],
           [
            0.050383,
            0.029803,
            0.527975,
            1
           ],
           [
            0.050383,
            0.029803,
            0.527975,
            1
           ],
           [
            0.050383,
            0.029803,
            0.527975,
            1
           ],
           [
            0.050383,
            0.029803,
            0.527975,
            1
           ],
           [
            0.050383,
            0.029803,
            0.527975,
            1
           ],
           [
            0.050383,
            0.029803,
            0.527975,
            1
           ],
           [
            0.050383,
            0.029803,
            0.527975,
            1
           ],
           [
            0.050383,
            0.029803,
            0.527975,
            1
           ],
           [
            0.050383,
            0.029803,
            0.527975,
            1
           ],
           [
            0.050383,
            0.029803,
            0.527975,
            1
           ],
           [
            0.050383,
            0.029803,
            0.527975,
            1
           ],
           [
            0.050383,
            0.029803,
            0.527975,
            1
           ],
           [
            0.050383,
            0.029803,
            0.527975,
            1
           ],
           [
            0.050383,
            0.029803,
            0.527975,
            1
           ],
           [
            0.050383,
            0.029803,
            0.527975,
            1
           ],
           [
            0.050383,
            0.029803,
            0.527975,
            1
           ],
           [
            0.050383,
            0.029803,
            0.527975,
            1
           ],
           [
            0.050383,
            0.029803,
            0.527975,
            1
           ],
           [
            0.050383,
            0.029803,
            0.527975,
            1
           ],
           [
            0.050383,
            0.029803,
            0.527975,
            1
           ],
           [
            0.050383,
            0.029803,
            0.527975,
            1
           ],
           [
            0.050383,
            0.029803,
            0.527975,
            1
           ],
           [
            0.050383,
            0.029803,
            0.527975,
            1
           ],
           [
            0.050383,
            0.029803,
            0.527975,
            1
           ],
           [
            0.050383,
            0.029803,
            0.527975,
            1
           ],
           [
            0.050383,
            0.029803,
            0.527975,
            1
           ],
           [
            0.050383,
            0.029803,
            0.527975,
            1
           ],
           [
            0.050383,
            0.029803,
            0.527975,
            1
           ],
           [
            0.050383,
            0.029803,
            0.527975,
            1
           ],
           [
            0.050383,
            0.029803,
            0.527975,
            1
           ],
           [
            0.050383,
            0.029803,
            0.527975,
            1
           ],
           [
            0.050383,
            0.029803,
            0.527975,
            1
           ],
           [
            0.050383,
            0.029803,
            0.527975,
            1
           ],
           [
            0.050383,
            0.029803,
            0.527975,
            1
           ],
           [
            0.050383,
            0.029803,
            0.527975,
            1
           ],
           [
            0.050383,
            0.029803,
            0.527975,
            1
           ],
           [
            0.050383,
            0.029803,
            0.527975,
            1
           ],
           [
            0.050383,
            0.029803,
            0.527975,
            1
           ],
           [
            0.050383,
            0.029803,
            0.527975,
            1
           ],
           [
            0.050383,
            0.029803,
            0.527975,
            1
           ],
           [
            0.050383,
            0.029803,
            0.527975,
            1
           ],
           [
            0.050383,
            0.029803,
            0.527975,
            1
           ],
           [
            0.050383,
            0.029803,
            0.527975,
            1
           ],
           [
            0.050383,
            0.029803,
            0.527975,
            1
           ],
           [
            0.050383,
            0.029803,
            0.527975,
            1
           ],
           [
            0.050383,
            0.029803,
            0.527975,
            1
           ],
           [
            0.050383,
            0.029803,
            0.527975,
            1
           ],
           [
            0.050383,
            0.029803,
            0.527975,
            1
           ],
           [
            0.050383,
            0.029803,
            0.527975,
            1
           ],
           [
            0.050383,
            0.029803,
            0.527975,
            1
           ],
           [
            0.050383,
            0.029803,
            0.527975,
            1
           ],
           [
            0.050383,
            0.029803,
            0.527975,
            1
           ],
           [
            0.050383,
            0.029803,
            0.527975,
            1
           ],
           [
            0.050383,
            0.029803,
            0.527975,
            1
           ],
           [
            0.050383,
            0.029803,
            0.527975,
            1
           ],
           [
            0.050383,
            0.029803,
            0.527975,
            1
           ],
           [
            0.050383,
            0.029803,
            0.527975,
            1
           ],
           [
            0.050383,
            0.029803,
            0.527975,
            1
           ],
           [
            0.050383,
            0.029803,
            0.527975,
            1
           ],
           [
            0.050383,
            0.029803,
            0.527975,
            1
           ],
           [
            0.050383,
            0.029803,
            0.527975,
            1
           ],
           [
            0.050383,
            0.029803,
            0.527975,
            1
           ],
           [
            0.050383,
            0.029803,
            0.527975,
            1
           ],
           [
            0.050383,
            0.029803,
            0.527975,
            1
           ],
           [
            0.050383,
            0.029803,
            0.527975,
            1
           ],
           [
            0.050383,
            0.029803,
            0.527975,
            1
           ],
           [
            0.050383,
            0.029803,
            0.527975,
            1
           ],
           [
            0.050383,
            0.029803,
            0.527975,
            1
           ],
           [
            0.050383,
            0.029803,
            0.527975,
            1
           ],
           [
            0.050383,
            0.029803,
            0.527975,
            1
           ],
           [
            0.050383,
            0.029803,
            0.527975,
            1
           ],
           [
            0.050383,
            0.029803,
            0.527975,
            1
           ],
           [
            0.050383,
            0.029803,
            0.527975,
            1
           ],
           [
            0.050383,
            0.029803,
            0.527975,
            1
           ],
           [
            0.050383,
            0.029803,
            0.527975,
            1
           ],
           [
            0.050383,
            0.029803,
            0.527975,
            1
           ],
           [
            0.050383,
            0.029803,
            0.527975,
            1
           ],
           [
            0.050383,
            0.029803,
            0.527975,
            1
           ],
           [
            0.050383,
            0.029803,
            0.527975,
            1
           ],
           [
            0.050383,
            0.029803,
            0.527975,
            1
           ],
           [
            0.050383,
            0.029803,
            0.527975,
            1
           ],
           [
            0.050383,
            0.029803,
            0.527975,
            1
           ],
           [
            0.050383,
            0.029803,
            0.527975,
            1
           ],
           [
            0.050383,
            0.029803,
            0.527975,
            1
           ],
           [
            0.050383,
            0.029803,
            0.527975,
            1
           ],
           [
            0.050383,
            0.029803,
            0.527975,
            1
           ],
           [
            0.050383,
            0.029803,
            0.527975,
            1
           ],
           [
            0.050383,
            0.029803,
            0.527975,
            1
           ],
           [
            0.050383,
            0.029803,
            0.527975,
            1
           ],
           [
            0.050383,
            0.029803,
            0.527975,
            1
           ],
           [
            0.050383,
            0.029803,
            0.527975,
            1
           ],
           [
            0.050383,
            0.029803,
            0.527975,
            1
           ],
           [
            0.050383,
            0.029803,
            0.527975,
            1
           ],
           [
            0.050383,
            0.029803,
            0.527975,
            1
           ],
           [
            0.050383,
            0.029803,
            0.527975,
            1
           ],
           [
            0.050383,
            0.029803,
            0.527975,
            1
           ],
           [
            0.050383,
            0.029803,
            0.527975,
            1
           ],
           [
            0.050383,
            0.029803,
            0.527975,
            1
           ],
           [
            0.050383,
            0.029803,
            0.527975,
            1
           ],
           [
            0.050383,
            0.029803,
            0.527975,
            1
           ],
           [
            0.050383,
            0.029803,
            0.527975,
            1
           ],
           [
            0.050383,
            0.029803,
            0.527975,
            1
           ],
           [
            0.050383,
            0.029803,
            0.527975,
            1
           ],
           [
            0.050383,
            0.029803,
            0.527975,
            1
           ],
           [
            0.050383,
            0.029803,
            0.527975,
            1
           ],
           [
            0.050383,
            0.029803,
            0.527975,
            1
           ],
           [
            0.050383,
            0.029803,
            0.527975,
            1
           ],
           [
            0.050383,
            0.029803,
            0.527975,
            1
           ],
           [
            0.050383,
            0.029803,
            0.527975,
            1
           ],
           [
            0.050383,
            0.029803,
            0.527975,
            1
           ],
           [
            0.050383,
            0.029803,
            0.527975,
            1
           ],
           [
            0.050383,
            0.029803,
            0.527975,
            1
           ],
           [
            0.050383,
            0.029803,
            0.527975,
            1
           ],
           [
            0.050383,
            0.029803,
            0.527975,
            1
           ],
           [
            0.050383,
            0.029803,
            0.527975,
            1
           ],
           [
            0.050383,
            0.029803,
            0.527975,
            1
           ],
           [
            0.050383,
            0.029803,
            0.527975,
            1
           ],
           [
            0.050383,
            0.029803,
            0.527975,
            1
           ],
           [
            0.050383,
            0.029803,
            0.527975,
            1
           ],
           [
            0.050383,
            0.029803,
            0.527975,
            1
           ],
           [
            0.050383,
            0.029803,
            0.527975,
            1
           ],
           [
            0.050383,
            0.029803,
            0.527975,
            1
           ],
           [
            0.050383,
            0.029803,
            0.527975,
            1
           ],
           [
            0.050383,
            0.029803,
            0.527975,
            1
           ],
           [
            0.050383,
            0.029803,
            0.527975,
            1
           ],
           [
            0.050383,
            0.029803,
            0.527975,
            1
           ],
           [
            0.050383,
            0.029803,
            0.527975,
            1
           ],
           [
            0.050383,
            0.029803,
            0.527975,
            1
           ],
           [
            0.050383,
            0.029803,
            0.527975,
            1
           ],
           [
            0.050383,
            0.029803,
            0.527975,
            1
           ],
           [
            0.050383,
            0.029803,
            0.527975,
            1
           ],
           [
            0.050383,
            0.029803,
            0.527975,
            1
           ],
           [
            0.050383,
            0.029803,
            0.527975,
            1
           ],
           [
            0.050383,
            0.029803,
            0.527975,
            1
           ],
           [
            0.050383,
            0.029803,
            0.527975,
            1
           ],
           [
            0.050383,
            0.029803,
            0.527975,
            1
           ],
           [
            0.050383,
            0.029803,
            0.527975,
            1
           ],
           [
            0.050383,
            0.029803,
            0.527975,
            1
           ],
           [
            0.050383,
            0.029803,
            0.527975,
            1
           ],
           [
            0.050383,
            0.029803,
            0.527975,
            1
           ],
           [
            0.050383,
            0.029803,
            0.527975,
            1
           ],
           [
            0.050383,
            0.029803,
            0.527975,
            1
           ],
           [
            0.050383,
            0.029803,
            0.527975,
            1
           ],
           [
            0.050383,
            0.029803,
            0.527975,
            1
           ],
           [
            0.050383,
            0.029803,
            0.527975,
            1
           ],
           [
            0.050383,
            0.029803,
            0.527975,
            1
           ],
           [
            0.050383,
            0.029803,
            0.527975,
            1
           ],
           [
            0.050383,
            0.029803,
            0.527975,
            1
           ],
           [
            0.050383,
            0.029803,
            0.527975,
            1
           ],
           [
            0.050383,
            0.029803,
            0.527975,
            1
           ],
           [
            0.050383,
            0.029803,
            0.527975,
            1
           ],
           [
            0.050383,
            0.029803,
            0.527975,
            1
           ],
           [
            0.050383,
            0.029803,
            0.527975,
            1
           ],
           [
            0.050383,
            0.029803,
            0.527975,
            1
           ],
           [
            0.050383,
            0.029803,
            0.527975,
            1
           ],
           [
            0.050383,
            0.029803,
            0.527975,
            1
           ],
           [
            0.050383,
            0.029803,
            0.527975,
            1
           ],
           [
            0.050383,
            0.029803,
            0.527975,
            1
           ],
           [
            0.050383,
            0.029803,
            0.527975,
            1
           ],
           [
            0.050383,
            0.029803,
            0.527975,
            1
           ],
           [
            0.050383,
            0.029803,
            0.527975,
            1
           ],
           [
            0.050383,
            0.029803,
            0.527975,
            1
           ],
           [
            0.050383,
            0.029803,
            0.527975,
            1
           ],
           [
            0.050383,
            0.029803,
            0.527975,
            1
           ],
           [
            0.050383,
            0.029803,
            0.527975,
            1
           ],
           [
            0.050383,
            0.029803,
            0.527975,
            1
           ],
           [
            0.050383,
            0.029803,
            0.527975,
            1
           ],
           [
            0.050383,
            0.029803,
            0.527975,
            1
           ],
           [
            0.050383,
            0.029803,
            0.527975,
            1
           ],
           [
            0.050383,
            0.029803,
            0.527975,
            1
           ],
           [
            0.050383,
            0.029803,
            0.527975,
            1
           ],
           [
            0.050383,
            0.029803,
            0.527975,
            1
           ],
           [
            0.050383,
            0.029803,
            0.527975,
            1
           ],
           [
            0.050383,
            0.029803,
            0.527975,
            1
           ],
           [
            0.050383,
            0.029803,
            0.527975,
            1
           ],
           [
            0.050383,
            0.029803,
            0.527975,
            1
           ],
           [
            0.050383,
            0.029803,
            0.527975,
            1
           ],
           [
            0.050383,
            0.029803,
            0.527975,
            1
           ],
           [
            0.050383,
            0.029803,
            0.527975,
            1
           ],
           [
            0.050383,
            0.029803,
            0.527975,
            1
           ],
           [
            0.050383,
            0.029803,
            0.527975,
            1
           ],
           [
            0.050383,
            0.029803,
            0.527975,
            1
           ],
           [
            0.050383,
            0.029803,
            0.527975,
            1
           ],
           [
            0.050383,
            0.029803,
            0.527975,
            1
           ],
           [
            0.050383,
            0.029803,
            0.527975,
            1
           ],
           [
            0.050383,
            0.029803,
            0.527975,
            1
           ],
           [
            0.050383,
            0.029803,
            0.527975,
            1
           ],
           [
            0.050383,
            0.029803,
            0.527975,
            1
           ],
           [
            0.050383,
            0.029803,
            0.527975,
            1
           ],
           [
            0.050383,
            0.029803,
            0.527975,
            1
           ],
           [
            0.050383,
            0.029803,
            0.527975,
            1
           ],
           [
            0.050383,
            0.029803,
            0.527975,
            1
           ],
           [
            0.050383,
            0.029803,
            0.527975,
            1
           ],
           [
            0.050383,
            0.029803,
            0.527975,
            1
           ],
           [
            0.050383,
            0.029803,
            0.527975,
            1
           ],
           [
            0.050383,
            0.029803,
            0.527975,
            1
           ],
           [
            0.050383,
            0.029803,
            0.527975,
            1
           ],
           [
            0.050383,
            0.029803,
            0.527975,
            1
           ],
           [
            0.050383,
            0.029803,
            0.527975,
            1
           ],
           [
            0.050383,
            0.029803,
            0.527975,
            1
           ],
           [
            0.050383,
            0.029803,
            0.527975,
            1
           ],
           [
            0.050383,
            0.029803,
            0.527975,
            1
           ],
           [
            0.050383,
            0.029803,
            0.527975,
            1
           ],
           [
            0.050383,
            0.029803,
            0.527975,
            1
           ],
           [
            0.050383,
            0.029803,
            0.527975,
            1
           ],
           [
            0.050383,
            0.029803,
            0.527975,
            1
           ],
           [
            0.050383,
            0.029803,
            0.527975,
            1
           ],
           [
            0.050383,
            0.029803,
            0.527975,
            1
           ],
           [
            0.050383,
            0.029803,
            0.527975,
            1
           ],
           [
            0.050383,
            0.029803,
            0.527975,
            1
           ],
           [
            0.050383,
            0.029803,
            0.527975,
            1
           ],
           [
            0.050383,
            0.029803,
            0.527975,
            1
           ],
           [
            0.050383,
            0.029803,
            0.527975,
            1
           ],
           [
            0.050383,
            0.029803,
            0.527975,
            1
           ],
           [
            0.050383,
            0.029803,
            0.527975,
            1
           ],
           [
            0.050383,
            0.029803,
            0.527975,
            1
           ],
           [
            0.050383,
            0.029803,
            0.527975,
            1
           ],
           [
            0.050383,
            0.029803,
            0.527975,
            1
           ],
           [
            0.050383,
            0.029803,
            0.527975,
            1
           ],
           [
            0.050383,
            0.029803,
            0.527975,
            1
           ],
           [
            0.050383,
            0.029803,
            0.527975,
            1
           ],
           [
            0.050383,
            0.029803,
            0.527975,
            1
           ],
           [
            0.050383,
            0.029803,
            0.527975,
            1
           ],
           [
            0.050383,
            0.029803,
            0.527975,
            1
           ],
           [
            0.050383,
            0.029803,
            0.527975,
            1
           ],
           [
            0.050383,
            0.029803,
            0.527975,
            1
           ],
           [
            0.050383,
            0.029803,
            0.527975,
            1
           ],
           [
            0.050383,
            0.029803,
            0.527975,
            1
           ],
           [
            0.050383,
            0.029803,
            0.527975,
            1
           ],
           [
            0.050383,
            0.029803,
            0.527975,
            1
           ],
           [
            0.050383,
            0.029803,
            0.527975,
            1
           ],
           [
            0.050383,
            0.029803,
            0.527975,
            1
           ],
           [
            0.050383,
            0.029803,
            0.527975,
            1
           ],
           [
            0.050383,
            0.029803,
            0.527975,
            1
           ],
           [
            0.050383,
            0.029803,
            0.527975,
            1
           ],
           [
            0.050383,
            0.029803,
            0.527975,
            1
           ],
           [
            0.050383,
            0.029803,
            0.527975,
            1
           ],
           [
            0.050383,
            0.029803,
            0.527975,
            1
           ],
           [
            0.050383,
            0.029803,
            0.527975,
            1
           ],
           [
            0.050383,
            0.029803,
            0.527975,
            1
           ],
           [
            0.050383,
            0.029803,
            0.527975,
            1
           ],
           [
            0.050383,
            0.029803,
            0.527975,
            1
           ],
           [
            0.050383,
            0.029803,
            0.527975,
            1
           ],
           [
            0.050383,
            0.029803,
            0.527975,
            1
           ],
           [
            0.050383,
            0.029803,
            0.527975,
            1
           ],
           [
            0.050383,
            0.029803,
            0.527975,
            1
           ],
           [
            0.050383,
            0.029803,
            0.527975,
            1
           ],
           [
            0.050383,
            0.029803,
            0.527975,
            1
           ],
           [
            0.050383,
            0.029803,
            0.527975,
            1
           ],
           [
            0.050383,
            0.029803,
            0.527975,
            1
           ],
           [
            0.050383,
            0.029803,
            0.527975,
            1
           ],
           [
            0.050383,
            0.029803,
            0.527975,
            1
           ],
           [
            0.050383,
            0.029803,
            0.527975,
            1
           ],
           [
            0.050383,
            0.029803,
            0.527975,
            1
           ],
           [
            0.050383,
            0.029803,
            0.527975,
            1
           ],
           [
            0.050383,
            0.029803,
            0.527975,
            1
           ],
           [
            0.050383,
            0.029803,
            0.527975,
            1
           ],
           [
            0.050383,
            0.029803,
            0.527975,
            1
           ],
           [
            0.050383,
            0.029803,
            0.527975,
            1
           ],
           [
            0.050383,
            0.029803,
            0.527975,
            1
           ],
           [
            0.050383,
            0.029803,
            0.527975,
            1
           ],
           [
            0.050383,
            0.029803,
            0.527975,
            1
           ],
           [
            0.050383,
            0.029803,
            0.527975,
            1
           ],
           [
            0.050383,
            0.029803,
            0.527975,
            1
           ],
           [
            0.050383,
            0.029803,
            0.527975,
            1
           ],
           [
            0.050383,
            0.029803,
            0.527975,
            1
           ],
           [
            0.050383,
            0.029803,
            0.527975,
            1
           ],
           [
            0.050383,
            0.029803,
            0.527975,
            1
           ],
           [
            0.050383,
            0.029803,
            0.527975,
            1
           ],
           [
            0.050383,
            0.029803,
            0.527975,
            1
           ],
           [
            0.050383,
            0.029803,
            0.527975,
            1
           ],
           [
            0.050383,
            0.029803,
            0.527975,
            1
           ],
           [
            0.050383,
            0.029803,
            0.527975,
            1
           ],
           [
            0.050383,
            0.029803,
            0.527975,
            1
           ],
           [
            0.050383,
            0.029803,
            0.527975,
            1
           ],
           [
            0.050383,
            0.029803,
            0.527975,
            1
           ],
           [
            0.050383,
            0.029803,
            0.527975,
            1
           ],
           [
            0.050383,
            0.029803,
            0.527975,
            1
           ],
           [
            0.050383,
            0.029803,
            0.527975,
            1
           ],
           [
            0.050383,
            0.029803,
            0.527975,
            1
           ],
           [
            0.050383,
            0.029803,
            0.527975,
            1
           ],
           [
            0.050383,
            0.029803,
            0.527975,
            1
           ],
           [
            0.050383,
            0.029803,
            0.527975,
            1
           ],
           [
            0.050383,
            0.029803,
            0.527975,
            1
           ],
           [
            0.050383,
            0.029803,
            0.527975,
            1
           ],
           [
            0.050383,
            0.029803,
            0.527975,
            1
           ],
           [
            0.050383,
            0.029803,
            0.527975,
            1
           ],
           [
            0.050383,
            0.029803,
            0.527975,
            1
           ],
           [
            0.050383,
            0.029803,
            0.527975,
            1
           ],
           [
            0.050383,
            0.029803,
            0.527975,
            1
           ],
           [
            0.050383,
            0.029803,
            0.527975,
            1
           ],
           [
            0.050383,
            0.029803,
            0.527975,
            1
           ],
           [
            0.050383,
            0.029803,
            0.527975,
            1
           ],
           [
            0.050383,
            0.029803,
            0.527975,
            1
           ],
           [
            0.050383,
            0.029803,
            0.527975,
            1
           ],
           [
            0.050383,
            0.029803,
            0.527975,
            1
           ],
           [
            0.050383,
            0.029803,
            0.527975,
            1
           ],
           [
            0.050383,
            0.029803,
            0.527975,
            1
           ],
           [
            0.050383,
            0.029803,
            0.527975,
            1
           ],
           [
            0.050383,
            0.029803,
            0.527975,
            1
           ],
           [
            0.050383,
            0.029803,
            0.527975,
            1
           ],
           [
            0.050383,
            0.029803,
            0.527975,
            1
           ],
           [
            0.050383,
            0.029803,
            0.527975,
            1
           ],
           [
            0.050383,
            0.029803,
            0.527975,
            1
           ],
           [
            0.050383,
            0.029803,
            0.527975,
            1
           ],
           [
            0.050383,
            0.029803,
            0.527975,
            1
           ],
           [
            0.050383,
            0.029803,
            0.527975,
            1
           ],
           [
            0.050383,
            0.029803,
            0.527975,
            1
           ],
           [
            0.050383,
            0.029803,
            0.527975,
            1
           ],
           [
            0.050383,
            0.029803,
            0.527975,
            1
           ],
           [
            0.050383,
            0.029803,
            0.527975,
            1
           ],
           [
            0.050383,
            0.029803,
            0.527975,
            1
           ],
           [
            0.050383,
            0.029803,
            0.527975,
            1
           ],
           [
            0.050383,
            0.029803,
            0.527975,
            1
           ],
           [
            0.050383,
            0.029803,
            0.527975,
            1
           ],
           [
            0.050383,
            0.029803,
            0.527975,
            1
           ],
           [
            0.050383,
            0.029803,
            0.527975,
            1
           ],
           [
            0.050383,
            0.029803,
            0.527975,
            1
           ],
           [
            0.050383,
            0.029803,
            0.527975,
            1
           ],
           [
            0.050383,
            0.029803,
            0.527975,
            1
           ],
           [
            0.050383,
            0.029803,
            0.527975,
            1
           ],
           [
            0.050383,
            0.029803,
            0.527975,
            1
           ],
           [
            0.050383,
            0.029803,
            0.527975,
            1
           ],
           [
            0.050383,
            0.029803,
            0.527975,
            1
           ],
           [
            0.050383,
            0.029803,
            0.527975,
            1
           ],
           [
            0.050383,
            0.029803,
            0.527975,
            1
           ],
           [
            0.050383,
            0.029803,
            0.527975,
            1
           ],
           [
            0.050383,
            0.029803,
            0.527975,
            1
           ],
           [
            0.050383,
            0.029803,
            0.527975,
            1
           ],
           [
            0.050383,
            0.029803,
            0.527975,
            1
           ],
           [
            0.050383,
            0.029803,
            0.527975,
            1
           ],
           [
            0.050383,
            0.029803,
            0.527975,
            1
           ],
           [
            0.050383,
            0.029803,
            0.527975,
            1
           ],
           [
            0.050383,
            0.029803,
            0.527975,
            1
           ],
           [
            0.050383,
            0.029803,
            0.527975,
            1
           ],
           [
            0.050383,
            0.029803,
            0.527975,
            1
           ],
           [
            0.050383,
            0.029803,
            0.527975,
            1
           ],
           [
            0.050383,
            0.029803,
            0.527975,
            1
           ],
           [
            0.050383,
            0.029803,
            0.527975,
            1
           ],
           [
            0.050383,
            0.029803,
            0.527975,
            1
           ],
           [
            0.050383,
            0.029803,
            0.527975,
            1
           ],
           [
            0.050383,
            0.029803,
            0.527975,
            1
           ],
           [
            0.050383,
            0.029803,
            0.527975,
            1
           ],
           [
            0.050383,
            0.029803,
            0.527975,
            1
           ],
           [
            0.050383,
            0.029803,
            0.527975,
            1
           ],
           [
            0.050383,
            0.029803,
            0.527975,
            1
           ],
           [
            0.050383,
            0.029803,
            0.527975,
            1
           ],
           [
            0.050383,
            0.029803,
            0.527975,
            1
           ],
           [
            0.050383,
            0.029803,
            0.527975,
            1
           ],
           [
            0.050383,
            0.029803,
            0.527975,
            1
           ],
           [
            0.050383,
            0.029803,
            0.527975,
            1
           ],
           [
            0.050383,
            0.029803,
            0.527975,
            1
           ],
           [
            0.050383,
            0.029803,
            0.527975,
            1
           ],
           [
            0.050383,
            0.029803,
            0.527975,
            1
           ],
           [
            0.050383,
            0.029803,
            0.527975,
            1
           ],
           [
            0.050383,
            0.029803,
            0.527975,
            1
           ],
           [
            0.050383,
            0.029803,
            0.527975,
            1
           ],
           [
            0.050383,
            0.029803,
            0.527975,
            1
           ],
           [
            0.050383,
            0.029803,
            0.527975,
            1
           ],
           [
            0.050383,
            0.029803,
            0.527975,
            1
           ],
           [
            0.050383,
            0.029803,
            0.527975,
            1
           ],
           [
            0.050383,
            0.029803,
            0.527975,
            1
           ],
           [
            0.050383,
            0.029803,
            0.527975,
            1
           ],
           [
            0.050383,
            0.029803,
            0.527975,
            1
           ],
           [
            0.050383,
            0.029803,
            0.527975,
            1
           ],
           [
            0.050383,
            0.029803,
            0.527975,
            1
           ],
           [
            0.050383,
            0.029803,
            0.527975,
            1
           ],
           [
            0.050383,
            0.029803,
            0.527975,
            1
           ],
           [
            0.050383,
            0.029803,
            0.527975,
            1
           ],
           [
            0.050383,
            0.029803,
            0.527975,
            1
           ],
           [
            0.050383,
            0.029803,
            0.527975,
            1
           ],
           [
            0.050383,
            0.029803,
            0.527975,
            1
           ],
           [
            0.050383,
            0.029803,
            0.527975,
            1
           ],
           [
            0.050383,
            0.029803,
            0.527975,
            1
           ],
           [
            0.050383,
            0.029803,
            0.527975,
            1
           ],
           [
            0.050383,
            0.029803,
            0.527975,
            1
           ],
           [
            0.050383,
            0.029803,
            0.527975,
            1
           ],
           [
            0.050383,
            0.029803,
            0.527975,
            1
           ],
           [
            0.050383,
            0.029803,
            0.527975,
            1
           ],
           [
            0.050383,
            0.029803,
            0.527975,
            1
           ],
           [
            0.050383,
            0.029803,
            0.527975,
            1
           ],
           [
            0.050383,
            0.029803,
            0.527975,
            1
           ],
           [
            0.050383,
            0.029803,
            0.527975,
            1
           ],
           [
            0.050383,
            0.029803,
            0.527975,
            1
           ],
           [
            0.050383,
            0.029803,
            0.527975,
            1
           ],
           [
            0.050383,
            0.029803,
            0.527975,
            1
           ],
           [
            0.050383,
            0.029803,
            0.527975,
            1
           ],
           [
            0.050383,
            0.029803,
            0.527975,
            1
           ],
           [
            0.050383,
            0.029803,
            0.527975,
            1
           ],
           [
            0.050383,
            0.029803,
            0.527975,
            1
           ],
           [
            0.050383,
            0.029803,
            0.527975,
            1
           ],
           [
            0.050383,
            0.029803,
            0.527975,
            1
           ],
           [
            0.050383,
            0.029803,
            0.527975,
            1
           ],
           [
            0.050383,
            0.029803,
            0.527975,
            1
           ],
           [
            0.050383,
            0.029803,
            0.527975,
            1
           ],
           [
            0.050383,
            0.029803,
            0.527975,
            1
           ],
           [
            0.050383,
            0.029803,
            0.527975,
            1
           ],
           [
            0.050383,
            0.029803,
            0.527975,
            1
           ],
           [
            0.050383,
            0.029803,
            0.527975,
            1
           ],
           [
            0.050383,
            0.029803,
            0.527975,
            1
           ],
           [
            0.050383,
            0.029803,
            0.527975,
            1
           ],
           [
            0.050383,
            0.029803,
            0.527975,
            1
           ],
           [
            0.050383,
            0.029803,
            0.527975,
            1
           ],
           [
            0.050383,
            0.029803,
            0.527975,
            1
           ],
           [
            0.050383,
            0.029803,
            0.527975,
            1
           ],
           [
            0.050383,
            0.029803,
            0.527975,
            1
           ],
           [
            0.050383,
            0.029803,
            0.527975,
            1
           ],
           [
            0.050383,
            0.029803,
            0.527975,
            1
           ],
           [
            0.050383,
            0.029803,
            0.527975,
            1
           ],
           [
            0.050383,
            0.029803,
            0.527975,
            1
           ],
           [
            0.050383,
            0.029803,
            0.527975,
            1
           ],
           [
            0.050383,
            0.029803,
            0.527975,
            1
           ],
           [
            0.050383,
            0.029803,
            0.527975,
            1
           ],
           [
            0.050383,
            0.029803,
            0.527975,
            1
           ],
           [
            0.050383,
            0.029803,
            0.527975,
            1
           ],
           [
            0.050383,
            0.029803,
            0.527975,
            1
           ],
           [
            0.050383,
            0.029803,
            0.527975,
            1
           ],
           [
            0.050383,
            0.029803,
            0.527975,
            1
           ],
           [
            0.050383,
            0.029803,
            0.527975,
            1
           ],
           [
            0.050383,
            0.029803,
            0.527975,
            1
           ],
           [
            0.050383,
            0.029803,
            0.527975,
            1
           ],
           [
            0.050383,
            0.029803,
            0.527975,
            1
           ],
           [
            0.050383,
            0.029803,
            0.527975,
            1
           ],
           [
            0.050383,
            0.029803,
            0.527975,
            1
           ],
           [
            0.050383,
            0.029803,
            0.527975,
            1
           ],
           [
            0.050383,
            0.029803,
            0.527975,
            1
           ],
           [
            0.050383,
            0.029803,
            0.527975,
            1
           ],
           [
            0.050383,
            0.029803,
            0.527975,
            1
           ],
           [
            0.050383,
            0.029803,
            0.527975,
            1
           ],
           [
            0.050383,
            0.029803,
            0.527975,
            1
           ],
           [
            0.050383,
            0.029803,
            0.527975,
            1
           ],
           [
            0.050383,
            0.029803,
            0.527975,
            1
           ],
           [
            0.050383,
            0.029803,
            0.527975,
            1
           ],
           [
            0.050383,
            0.029803,
            0.527975,
            1
           ],
           [
            0.050383,
            0.029803,
            0.527975,
            1
           ],
           [
            0.050383,
            0.029803,
            0.527975,
            1
           ],
           [
            0.050383,
            0.029803,
            0.527975,
            1
           ],
           [
            0.050383,
            0.029803,
            0.527975,
            1
           ],
           [
            0.050383,
            0.029803,
            0.527975,
            1
           ],
           [
            0.050383,
            0.029803,
            0.527975,
            1
           ],
           [
            0.050383,
            0.029803,
            0.527975,
            1
           ],
           [
            0.050383,
            0.029803,
            0.527975,
            1
           ],
           [
            0.050383,
            0.029803,
            0.527975,
            1
           ],
           [
            0.050383,
            0.029803,
            0.527975,
            1
           ],
           [
            0.050383,
            0.029803,
            0.527975,
            1
           ],
           [
            0.050383,
            0.029803,
            0.527975,
            1
           ],
           [
            0.050383,
            0.029803,
            0.527975,
            1
           ],
           [
            0.050383,
            0.029803,
            0.527975,
            1
           ],
           [
            0.050383,
            0.029803,
            0.527975,
            1
           ],
           [
            0.050383,
            0.029803,
            0.527975,
            1
           ],
           [
            0.050383,
            0.029803,
            0.527975,
            1
           ],
           [
            0.050383,
            0.029803,
            0.527975,
            1
           ],
           [
            0.050383,
            0.029803,
            0.527975,
            1
           ],
           [
            0.050383,
            0.029803,
            0.527975,
            1
           ],
           [
            0.050383,
            0.029803,
            0.527975,
            1
           ],
           [
            0.050383,
            0.029803,
            0.527975,
            1
           ],
           [
            0.050383,
            0.029803,
            0.527975,
            1
           ],
           [
            0.050383,
            0.029803,
            0.527975,
            1
           ],
           [
            0.050383,
            0.029803,
            0.527975,
            1
           ],
           [
            0.050383,
            0.029803,
            0.527975,
            1
           ],
           [
            0.050383,
            0.029803,
            0.527975,
            1
           ],
           [
            0.050383,
            0.029803,
            0.527975,
            1
           ],
           [
            0.050383,
            0.029803,
            0.527975,
            1
           ],
           [
            0.050383,
            0.029803,
            0.527975,
            1
           ],
           [
            0.050383,
            0.029803,
            0.527975,
            1
           ],
           [
            0.050383,
            0.029803,
            0.527975,
            1
           ],
           [
            0.050383,
            0.029803,
            0.527975,
            1
           ],
           [
            0.050383,
            0.029803,
            0.527975,
            1
           ],
           [
            0.050383,
            0.029803,
            0.527975,
            1
           ],
           [
            0.050383,
            0.029803,
            0.527975,
            1
           ],
           [
            0.050383,
            0.029803,
            0.527975,
            1
           ],
           [
            0.050383,
            0.029803,
            0.527975,
            1
           ],
           [
            0.050383,
            0.029803,
            0.527975,
            1
           ],
           [
            0.050383,
            0.029803,
            0.527975,
            1
           ],
           [
            0.050383,
            0.029803,
            0.527975,
            1
           ],
           [
            0.050383,
            0.029803,
            0.527975,
            1
           ],
           [
            0.050383,
            0.029803,
            0.527975,
            1
           ],
           [
            0.050383,
            0.029803,
            0.527975,
            1
           ],
           [
            0.050383,
            0.029803,
            0.527975,
            1
           ],
           [
            0.050383,
            0.029803,
            0.527975,
            1
           ],
           [
            0.050383,
            0.029803,
            0.527975,
            1
           ],
           [
            0.050383,
            0.029803,
            0.527975,
            1
           ],
           [
            0.050383,
            0.029803,
            0.527975,
            1
           ],
           [
            0.050383,
            0.029803,
            0.527975,
            1
           ],
           [
            0.050383,
            0.029803,
            0.527975,
            1
           ],
           [
            0.050383,
            0.029803,
            0.527975,
            1
           ],
           [
            0.050383,
            0.029803,
            0.527975,
            1
           ],
           [
            0.050383,
            0.029803,
            0.527975,
            1
           ],
           [
            0.050383,
            0.029803,
            0.527975,
            1
           ],
           [
            0.050383,
            0.029803,
            0.527975,
            1
           ],
           [
            0.050383,
            0.029803,
            0.527975,
            1
           ],
           [
            0.050383,
            0.029803,
            0.527975,
            1
           ],
           [
            0.050383,
            0.029803,
            0.527975,
            1
           ],
           [
            0.050383,
            0.029803,
            0.527975,
            1
           ],
           [
            0.050383,
            0.029803,
            0.527975,
            1
           ],
           [
            0.050383,
            0.029803,
            0.527975,
            1
           ],
           [
            0.050383,
            0.029803,
            0.527975,
            1
           ],
           [
            0.050383,
            0.029803,
            0.527975,
            1
           ],
           [
            0.050383,
            0.029803,
            0.527975,
            1
           ],
           [
            0.050383,
            0.029803,
            0.527975,
            1
           ],
           [
            0.050383,
            0.029803,
            0.527975,
            1
           ],
           [
            0.050383,
            0.029803,
            0.527975,
            1
           ],
           [
            0.050383,
            0.029803,
            0.527975,
            1
           ],
           [
            0.050383,
            0.029803,
            0.527975,
            1
           ],
           [
            0.050383,
            0.029803,
            0.527975,
            1
           ],
           [
            0.050383,
            0.029803,
            0.527975,
            1
           ],
           [
            0.050383,
            0.029803,
            0.527975,
            1
           ],
           [
            0.050383,
            0.029803,
            0.527975,
            1
           ],
           [
            0.050383,
            0.029803,
            0.527975,
            1
           ],
           [
            0.050383,
            0.029803,
            0.527975,
            1
           ],
           [
            0.050383,
            0.029803,
            0.527975,
            1
           ],
           [
            0.050383,
            0.029803,
            0.527975,
            1
           ],
           [
            0.050383,
            0.029803,
            0.527975,
            1
           ],
           [
            0.050383,
            0.029803,
            0.527975,
            1
           ],
           [
            0.050383,
            0.029803,
            0.527975,
            1
           ],
           [
            0.050383,
            0.029803,
            0.527975,
            1
           ],
           [
            0.050383,
            0.029803,
            0.527975,
            1
           ],
           [
            0.050383,
            0.029803,
            0.527975,
            1
           ],
           [
            0.050383,
            0.029803,
            0.527975,
            1
           ],
           [
            0.050383,
            0.029803,
            0.527975,
            1
           ],
           [
            0.050383,
            0.029803,
            0.527975,
            1
           ],
           [
            0.050383,
            0.029803,
            0.527975,
            1
           ],
           [
            0.050383,
            0.029803,
            0.527975,
            1
           ],
           [
            0.050383,
            0.029803,
            0.527975,
            1
           ],
           [
            0.050383,
            0.029803,
            0.527975,
            1
           ],
           [
            0.050383,
            0.029803,
            0.527975,
            1
           ],
           [
            0.050383,
            0.029803,
            0.527975,
            1
           ],
           [
            0.050383,
            0.029803,
            0.527975,
            1
           ],
           [
            0.050383,
            0.029803,
            0.527975,
            1
           ],
           [
            0.050383,
            0.029803,
            0.527975,
            1
           ],
           [
            0.050383,
            0.029803,
            0.527975,
            1
           ],
           [
            0.050383,
            0.029803,
            0.527975,
            1
           ],
           [
            0.050383,
            0.029803,
            0.527975,
            1
           ],
           [
            0.050383,
            0.029803,
            0.527975,
            1
           ],
           [
            0.050383,
            0.029803,
            0.527975,
            1
           ],
           [
            0.050383,
            0.029803,
            0.527975,
            1
           ],
           [
            0.050383,
            0.029803,
            0.527975,
            1
           ],
           [
            0.050383,
            0.029803,
            0.527975,
            1
           ],
           [
            0.050383,
            0.029803,
            0.527975,
            1
           ],
           [
            0.050383,
            0.029803,
            0.527975,
            1
           ],
           [
            0.050383,
            0.029803,
            0.527975,
            1
           ],
           [
            0.050383,
            0.029803,
            0.527975,
            1
           ],
           [
            0.050383,
            0.029803,
            0.527975,
            1
           ],
           [
            0.050383,
            0.029803,
            0.527975,
            1
           ],
           [
            0.050383,
            0.029803,
            0.527975,
            1
           ],
           [
            0.050383,
            0.029803,
            0.527975,
            1
           ],
           [
            0.050383,
            0.029803,
            0.527975,
            1
           ],
           [
            0.050383,
            0.029803,
            0.527975,
            1
           ],
           [
            0.050383,
            0.029803,
            0.527975,
            1
           ],
           [
            0.050383,
            0.029803,
            0.527975,
            1
           ],
           [
            0.050383,
            0.029803,
            0.527975,
            1
           ],
           [
            0.050383,
            0.029803,
            0.527975,
            1
           ],
           [
            0.050383,
            0.029803,
            0.527975,
            1
           ],
           [
            0.050383,
            0.029803,
            0.527975,
            1
           ],
           [
            0.050383,
            0.029803,
            0.527975,
            1
           ],
           [
            0.050383,
            0.029803,
            0.527975,
            1
           ],
           [
            0.050383,
            0.029803,
            0.527975,
            1
           ],
           [
            0.050383,
            0.029803,
            0.527975,
            1
           ],
           [
            0.050383,
            0.029803,
            0.527975,
            1
           ],
           [
            0.050383,
            0.029803,
            0.527975,
            1
           ],
           [
            0.050383,
            0.029803,
            0.527975,
            1
           ],
           [
            0.050383,
            0.029803,
            0.527975,
            1
           ],
           [
            0.050383,
            0.029803,
            0.527975,
            1
           ],
           [
            0.050383,
            0.029803,
            0.527975,
            1
           ],
           [
            0.050383,
            0.029803,
            0.527975,
            1
           ],
           [
            0.050383,
            0.029803,
            0.527975,
            1
           ],
           [
            0.050383,
            0.029803,
            0.527975,
            1
           ],
           [
            0.050383,
            0.029803,
            0.527975,
            1
           ],
           [
            0.050383,
            0.029803,
            0.527975,
            1
           ],
           [
            0.050383,
            0.029803,
            0.527975,
            1
           ],
           [
            0.050383,
            0.029803,
            0.527975,
            1
           ],
           [
            0.050383,
            0.029803,
            0.527975,
            1
           ],
           [
            0.050383,
            0.029803,
            0.527975,
            1
           ],
           [
            0.050383,
            0.029803,
            0.527975,
            1
           ],
           [
            0.050383,
            0.029803,
            0.527975,
            1
           ],
           [
            0.050383,
            0.029803,
            0.527975,
            1
           ],
           [
            0.050383,
            0.029803,
            0.527975,
            1
           ],
           [
            0.050383,
            0.029803,
            0.527975,
            1
           ],
           [
            0.050383,
            0.029803,
            0.527975,
            1
           ],
           [
            0.050383,
            0.029803,
            0.527975,
            1
           ],
           [
            0.050383,
            0.029803,
            0.527975,
            1
           ],
           [
            0.050383,
            0.029803,
            0.527975,
            1
           ],
           [
            0.050383,
            0.029803,
            0.527975,
            1
           ],
           [
            0.050383,
            0.029803,
            0.527975,
            1
           ],
           [
            0.050383,
            0.029803,
            0.527975,
            1
           ],
           [
            0.050383,
            0.029803,
            0.527975,
            1
           ],
           [
            0.050383,
            0.029803,
            0.527975,
            1
           ],
           [
            0.050383,
            0.029803,
            0.527975,
            1
           ],
           [
            0.050383,
            0.029803,
            0.527975,
            1
           ],
           [
            0.050383,
            0.029803,
            0.527975,
            1
           ],
           [
            0.050383,
            0.029803,
            0.527975,
            1
           ],
           [
            0.050383,
            0.029803,
            0.527975,
            1
           ],
           [
            0.050383,
            0.029803,
            0.527975,
            1
           ],
           [
            0.050383,
            0.029803,
            0.527975,
            1
           ],
           [
            0.050383,
            0.029803,
            0.527975,
            1
           ],
           [
            0.050383,
            0.029803,
            0.527975,
            1
           ],
           [
            0.050383,
            0.029803,
            0.527975,
            1
           ],
           [
            0.050383,
            0.029803,
            0.527975,
            1
           ],
           [
            0.050383,
            0.029803,
            0.527975,
            1
           ],
           [
            0.050383,
            0.029803,
            0.527975,
            1
           ],
           [
            0.050383,
            0.029803,
            0.527975,
            1
           ],
           [
            0.050383,
            0.029803,
            0.527975,
            1
           ],
           [
            0.050383,
            0.029803,
            0.527975,
            1
           ],
           [
            0.050383,
            0.029803,
            0.527975,
            1
           ],
           [
            0.050383,
            0.029803,
            0.527975,
            1
           ],
           [
            0.050383,
            0.029803,
            0.527975,
            1
           ],
           [
            0.050383,
            0.029803,
            0.527975,
            1
           ],
           [
            0.050383,
            0.029803,
            0.527975,
            1
           ],
           [
            0.050383,
            0.029803,
            0.527975,
            1
           ],
           [
            0.050383,
            0.029803,
            0.527975,
            1
           ],
           [
            0.050383,
            0.029803,
            0.527975,
            1
           ],
           [
            0.050383,
            0.029803,
            0.527975,
            1
           ],
           [
            0.050383,
            0.029803,
            0.527975,
            1
           ],
           [
            0.050383,
            0.029803,
            0.527975,
            1
           ],
           [
            0.050383,
            0.029803,
            0.527975,
            1
           ],
           [
            0.050383,
            0.029803,
            0.527975,
            1
           ],
           [
            0.050383,
            0.029803,
            0.527975,
            1
           ],
           [
            0.050383,
            0.029803,
            0.527975,
            1
           ],
           [
            0.050383,
            0.029803,
            0.527975,
            1
           ],
           [
            0.050383,
            0.029803,
            0.527975,
            1
           ],
           [
            0.050383,
            0.029803,
            0.527975,
            1
           ],
           [
            0.050383,
            0.029803,
            0.527975,
            1
           ],
           [
            0.050383,
            0.029803,
            0.527975,
            1
           ],
           [
            0.050383,
            0.029803,
            0.527975,
            1
           ],
           [
            0.050383,
            0.029803,
            0.527975,
            1
           ],
           [
            0.050383,
            0.029803,
            0.527975,
            1
           ],
           [
            0.050383,
            0.029803,
            0.527975,
            1
           ],
           [
            0.050383,
            0.029803,
            0.527975,
            1
           ],
           [
            0.050383,
            0.029803,
            0.527975,
            1
           ],
           [
            0.050383,
            0.029803,
            0.527975,
            1
           ],
           [
            0.050383,
            0.029803,
            0.527975,
            1
           ],
           [
            0.050383,
            0.029803,
            0.527975,
            1
           ],
           [
            0.050383,
            0.029803,
            0.527975,
            1
           ],
           [
            0.050383,
            0.029803,
            0.527975,
            1
           ],
           [
            0.050383,
            0.029803,
            0.527975,
            1
           ],
           [
            0.050383,
            0.029803,
            0.527975,
            1
           ],
           [
            0.050383,
            0.029803,
            0.527975,
            1
           ],
           [
            0.050383,
            0.029803,
            0.527975,
            1
           ],
           [
            0.050383,
            0.029803,
            0.527975,
            1
           ],
           [
            0.050383,
            0.029803,
            0.527975,
            1
           ],
           [
            0.050383,
            0.029803,
            0.527975,
            1
           ],
           [
            0.050383,
            0.029803,
            0.527975,
            1
           ],
           [
            0.050383,
            0.029803,
            0.527975,
            1
           ],
           [
            0.050383,
            0.029803,
            0.527975,
            1
           ],
           [
            0.050383,
            0.029803,
            0.527975,
            1
           ],
           [
            0.050383,
            0.029803,
            0.527975,
            1
           ],
           [
            0.050383,
            0.029803,
            0.527975,
            1
           ],
           [
            0.050383,
            0.029803,
            0.527975,
            1
           ],
           [
            0.050383,
            0.029803,
            0.527975,
            1
           ],
           [
            0.050383,
            0.029803,
            0.527975,
            1
           ],
           [
            0.050383,
            0.029803,
            0.527975,
            1
           ],
           [
            0.050383,
            0.029803,
            0.527975,
            1
           ],
           [
            0.050383,
            0.029803,
            0.527975,
            1
           ],
           [
            0.050383,
            0.029803,
            0.527975,
            1
           ],
           [
            0.050383,
            0.029803,
            0.527975,
            1
           ],
           [
            0.050383,
            0.029803,
            0.527975,
            1
           ],
           [
            0.050383,
            0.029803,
            0.527975,
            1
           ],
           [
            0.050383,
            0.029803,
            0.527975,
            1
           ],
           [
            0.050383,
            0.029803,
            0.527975,
            1
           ],
           [
            0.050383,
            0.029803,
            0.527975,
            1
           ],
           [
            0.050383,
            0.029803,
            0.527975,
            1
           ],
           [
            0.050383,
            0.029803,
            0.527975,
            1
           ],
           [
            0.050383,
            0.029803,
            0.527975,
            1
           ],
           [
            0.050383,
            0.029803,
            0.527975,
            1
           ],
           [
            0.050383,
            0.029803,
            0.527975,
            1
           ],
           [
            0.050383,
            0.029803,
            0.527975,
            1
           ],
           [
            0.050383,
            0.029803,
            0.527975,
            1
           ],
           [
            0.050383,
            0.029803,
            0.527975,
            1
           ],
           [
            0.050383,
            0.029803,
            0.527975,
            1
           ],
           [
            0.050383,
            0.029803,
            0.527975,
            1
           ],
           [
            0.050383,
            0.029803,
            0.527975,
            1
           ],
           [
            0.050383,
            0.029803,
            0.527975,
            1
           ],
           [
            0.050383,
            0.029803,
            0.527975,
            1
           ],
           [
            0.050383,
            0.029803,
            0.527975,
            1
           ],
           [
            0.050383,
            0.029803,
            0.527975,
            1
           ],
           [
            0.050383,
            0.029803,
            0.527975,
            1
           ],
           [
            0.050383,
            0.029803,
            0.527975,
            1
           ],
           [
            0.050383,
            0.029803,
            0.527975,
            1
           ],
           [
            0.050383,
            0.029803,
            0.527975,
            1
           ],
           [
            0.050383,
            0.029803,
            0.527975,
            1
           ],
           [
            0.050383,
            0.029803,
            0.527975,
            1
           ],
           [
            0.050383,
            0.029803,
            0.527975,
            1
           ],
           [
            0.050383,
            0.029803,
            0.527975,
            1
           ],
           [
            0.050383,
            0.029803,
            0.527975,
            1
           ],
           [
            0.050383,
            0.029803,
            0.527975,
            1
           ],
           [
            0.050383,
            0.029803,
            0.527975,
            1
           ],
           [
            0.050383,
            0.029803,
            0.527975,
            1
           ],
           [
            0.050383,
            0.029803,
            0.527975,
            1
           ],
           [
            0.050383,
            0.029803,
            0.527975,
            1
           ],
           [
            0.050383,
            0.029803,
            0.527975,
            1
           ],
           [
            0.050383,
            0.029803,
            0.527975,
            1
           ],
           [
            0.050383,
            0.029803,
            0.527975,
            1
           ],
           [
            0.050383,
            0.029803,
            0.527975,
            1
           ],
           [
            0.050383,
            0.029803,
            0.527975,
            1
           ],
           [
            0.050383,
            0.029803,
            0.527975,
            1
           ],
           [
            0.050383,
            0.029803,
            0.527975,
            1
           ],
           [
            0.050383,
            0.029803,
            0.527975,
            1
           ],
           [
            0.050383,
            0.029803,
            0.527975,
            1
           ],
           [
            0.050383,
            0.029803,
            0.527975,
            1
           ],
           [
            0.050383,
            0.029803,
            0.527975,
            1
           ],
           [
            0.050383,
            0.029803,
            0.527975,
            1
           ],
           [
            0.050383,
            0.029803,
            0.527975,
            1
           ],
           [
            0.050383,
            0.029803,
            0.527975,
            1
           ],
           [
            0.050383,
            0.029803,
            0.527975,
            1
           ],
           [
            0.050383,
            0.029803,
            0.527975,
            1
           ],
           [
            0.050383,
            0.029803,
            0.527975,
            1
           ],
           [
            0.050383,
            0.029803,
            0.527975,
            1
           ],
           [
            0.050383,
            0.029803,
            0.527975,
            1
           ],
           [
            0.050383,
            0.029803,
            0.527975,
            1
           ],
           [
            0.050383,
            0.029803,
            0.527975,
            1
           ],
           [
            0.050383,
            0.029803,
            0.527975,
            1
           ],
           [
            0.050383,
            0.029803,
            0.527975,
            1
           ],
           [
            0.050383,
            0.029803,
            0.527975,
            1
           ],
           [
            0.050383,
            0.029803,
            0.527975,
            1
           ],
           [
            0.050383,
            0.029803,
            0.527975,
            1
           ],
           [
            0.050383,
            0.029803,
            0.527975,
            1
           ],
           [
            0.050383,
            0.029803,
            0.527975,
            1
           ],
           [
            0.050383,
            0.029803,
            0.527975,
            1
           ],
           [
            0.050383,
            0.029803,
            0.527975,
            1
           ],
           [
            0.050383,
            0.029803,
            0.527975,
            1
           ],
           [
            0.050383,
            0.029803,
            0.527975,
            1
           ],
           [
            0.050383,
            0.029803,
            0.527975,
            1
           ],
           [
            0.050383,
            0.029803,
            0.527975,
            1
           ],
           [
            0.050383,
            0.029803,
            0.527975,
            1
           ],
           [
            0.050383,
            0.029803,
            0.527975,
            1
           ],
           [
            0.050383,
            0.029803,
            0.527975,
            1
           ],
           [
            0.050383,
            0.029803,
            0.527975,
            1
           ],
           [
            0.050383,
            0.029803,
            0.527975,
            1
           ],
           [
            0.050383,
            0.029803,
            0.527975,
            1
           ],
           [
            0.050383,
            0.029803,
            0.527975,
            1
           ],
           [
            0.050383,
            0.029803,
            0.527975,
            1
           ],
           [
            0.050383,
            0.029803,
            0.527975,
            1
           ],
           [
            0.050383,
            0.029803,
            0.527975,
            1
           ],
           [
            0.050383,
            0.029803,
            0.527975,
            1
           ],
           [
            0.050383,
            0.029803,
            0.527975,
            1
           ],
           [
            0.050383,
            0.029803,
            0.527975,
            1
           ],
           [
            0.050383,
            0.029803,
            0.527975,
            1
           ],
           [
            0.050383,
            0.029803,
            0.527975,
            1
           ],
           [
            0.050383,
            0.029803,
            0.527975,
            1
           ],
           [
            0.050383,
            0.029803,
            0.527975,
            1
           ],
           [
            0.050383,
            0.029803,
            0.527975,
            1
           ],
           [
            0.050383,
            0.029803,
            0.527975,
            1
           ],
           [
            0.050383,
            0.029803,
            0.527975,
            1
           ],
           [
            0.050383,
            0.029803,
            0.527975,
            1
           ],
           [
            0.050383,
            0.029803,
            0.527975,
            1
           ],
           [
            0.050383,
            0.029803,
            0.527975,
            1
           ],
           [
            0.050383,
            0.029803,
            0.527975,
            1
           ],
           [
            0.050383,
            0.029803,
            0.527975,
            1
           ],
           [
            0.050383,
            0.029803,
            0.527975,
            1
           ],
           [
            0.050383,
            0.029803,
            0.527975,
            1
           ],
           [
            0.050383,
            0.029803,
            0.527975,
            1
           ],
           [
            0.050383,
            0.029803,
            0.527975,
            1
           ],
           [
            0.050383,
            0.029803,
            0.527975,
            1
           ],
           [
            0.050383,
            0.029803,
            0.527975,
            1
           ],
           [
            0.050383,
            0.029803,
            0.527975,
            1
           ],
           [
            0.050383,
            0.029803,
            0.527975,
            1
           ],
           [
            0.050383,
            0.029803,
            0.527975,
            1
           ],
           [
            0.050383,
            0.029803,
            0.527975,
            1
           ],
           [
            0.050383,
            0.029803,
            0.527975,
            1
           ],
           [
            0.050383,
            0.029803,
            0.527975,
            1
           ],
           [
            0.050383,
            0.029803,
            0.527975,
            1
           ],
           [
            0.050383,
            0.029803,
            0.527975,
            1
           ],
           [
            0.050383,
            0.029803,
            0.527975,
            1
           ],
           [
            0.050383,
            0.029803,
            0.527975,
            1
           ],
           [
            0.050383,
            0.029803,
            0.527975,
            1
           ],
           [
            0.050383,
            0.029803,
            0.527975,
            1
           ],
           [
            0.050383,
            0.029803,
            0.527975,
            1
           ],
           [
            0.050383,
            0.029803,
            0.527975,
            1
           ],
           [
            0.050383,
            0.029803,
            0.527975,
            1
           ],
           [
            0.050383,
            0.029803,
            0.527975,
            1
           ],
           [
            0.050383,
            0.029803,
            0.527975,
            1
           ],
           [
            0.050383,
            0.029803,
            0.527975,
            1
           ],
           [
            0.050383,
            0.029803,
            0.527975,
            1
           ],
           [
            0.050383,
            0.029803,
            0.527975,
            1
           ],
           [
            0.050383,
            0.029803,
            0.527975,
            1
           ],
           [
            0.050383,
            0.029803,
            0.527975,
            1
           ],
           [
            0.050383,
            0.029803,
            0.527975,
            1
           ],
           [
            0.050383,
            0.029803,
            0.527975,
            1
           ],
           [
            0.050383,
            0.029803,
            0.527975,
            1
           ],
           [
            0.050383,
            0.029803,
            0.527975,
            1
           ],
           [
            0.050383,
            0.029803,
            0.527975,
            1
           ],
           [
            0.050383,
            0.029803,
            0.527975,
            1
           ],
           [
            0.050383,
            0.029803,
            0.527975,
            1
           ],
           [
            0.050383,
            0.029803,
            0.527975,
            1
           ],
           [
            0.050383,
            0.029803,
            0.527975,
            1
           ],
           [
            0.050383,
            0.029803,
            0.527975,
            1
           ],
           [
            0.050383,
            0.029803,
            0.527975,
            1
           ],
           [
            0.050383,
            0.029803,
            0.527975,
            1
           ],
           [
            0.050383,
            0.029803,
            0.527975,
            1
           ],
           [
            0.050383,
            0.029803,
            0.527975,
            1
           ],
           [
            0.050383,
            0.029803,
            0.527975,
            1
           ],
           [
            0.050383,
            0.029803,
            0.527975,
            1
           ],
           [
            0.050383,
            0.029803,
            0.527975,
            1
           ],
           [
            0.050383,
            0.029803,
            0.527975,
            1
           ],
           [
            0.050383,
            0.029803,
            0.527975,
            1
           ],
           [
            0.050383,
            0.029803,
            0.527975,
            1
           ],
           [
            0.050383,
            0.029803,
            0.527975,
            1
           ],
           [
            0.050383,
            0.029803,
            0.527975,
            1
           ],
           [
            0.050383,
            0.029803,
            0.527975,
            1
           ],
           [
            0.050383,
            0.029803,
            0.527975,
            1
           ],
           [
            0.050383,
            0.029803,
            0.527975,
            1
           ],
           [
            0.050383,
            0.029803,
            0.527975,
            1
           ],
           [
            0.050383,
            0.029803,
            0.527975,
            1
           ],
           [
            0.050383,
            0.029803,
            0.527975,
            1
           ],
           [
            0.050383,
            0.029803,
            0.527975,
            1
           ],
           [
            0.050383,
            0.029803,
            0.527975,
            1
           ],
           [
            0.050383,
            0.029803,
            0.527975,
            1
           ],
           [
            0.050383,
            0.029803,
            0.527975,
            1
           ],
           [
            0.050383,
            0.029803,
            0.527975,
            1
           ],
           [
            0.050383,
            0.029803,
            0.527975,
            1
           ],
           [
            0.050383,
            0.029803,
            0.527975,
            1
           ],
           [
            0.050383,
            0.029803,
            0.527975,
            1
           ],
           [
            0.050383,
            0.029803,
            0.527975,
            1
           ],
           [
            0.050383,
            0.029803,
            0.527975,
            1
           ],
           [
            0.050383,
            0.029803,
            0.527975,
            1
           ],
           [
            0.050383,
            0.029803,
            0.527975,
            1
           ],
           [
            0.050383,
            0.029803,
            0.527975,
            1
           ],
           [
            0.050383,
            0.029803,
            0.527975,
            1
           ],
           [
            0.050383,
            0.029803,
            0.527975,
            1
           ],
           [
            0.050383,
            0.029803,
            0.527975,
            1
           ],
           [
            0.050383,
            0.029803,
            0.527975,
            1
           ],
           [
            0.050383,
            0.029803,
            0.527975,
            1
           ],
           [
            0.050383,
            0.029803,
            0.527975,
            1
           ],
           [
            0.050383,
            0.029803,
            0.527975,
            1
           ],
           [
            0.050383,
            0.029803,
            0.527975,
            1
           ],
           [
            0.050383,
            0.029803,
            0.527975,
            1
           ],
           [
            0.050383,
            0.029803,
            0.527975,
            1
           ],
           [
            0.050383,
            0.029803,
            0.527975,
            1
           ],
           [
            0.050383,
            0.029803,
            0.527975,
            1
           ],
           [
            0.050383,
            0.029803,
            0.527975,
            1
           ],
           [
            0.050383,
            0.029803,
            0.527975,
            1
           ],
           [
            0.050383,
            0.029803,
            0.527975,
            1
           ],
           [
            0.050383,
            0.029803,
            0.527975,
            1
           ],
           [
            0.050383,
            0.029803,
            0.527975,
            1
           ],
           [
            0.050383,
            0.029803,
            0.527975,
            1
           ],
           [
            0.050383,
            0.029803,
            0.527975,
            1
           ],
           [
            0.050383,
            0.029803,
            0.527975,
            1
           ],
           [
            0.050383,
            0.029803,
            0.527975,
            1
           ],
           [
            0.050383,
            0.029803,
            0.527975,
            1
           ],
           [
            0.050383,
            0.029803,
            0.527975,
            1
           ],
           [
            0.050383,
            0.029803,
            0.527975,
            1
           ],
           [
            0.050383,
            0.029803,
            0.527975,
            1
           ],
           [
            0.050383,
            0.029803,
            0.527975,
            1
           ],
           [
            0.050383,
            0.029803,
            0.527975,
            1
           ],
           [
            0.050383,
            0.029803,
            0.527975,
            1
           ],
           [
            0.050383,
            0.029803,
            0.527975,
            1
           ],
           [
            0.050383,
            0.029803,
            0.527975,
            1
           ],
           [
            0.050383,
            0.029803,
            0.527975,
            1
           ],
           [
            0.050383,
            0.029803,
            0.527975,
            1
           ],
           [
            0.050383,
            0.029803,
            0.527975,
            1
           ],
           [
            0.050383,
            0.029803,
            0.527975,
            1
           ],
           [
            0.050383,
            0.029803,
            0.527975,
            1
           ],
           [
            0.050383,
            0.029803,
            0.527975,
            1
           ],
           [
            0.050383,
            0.029803,
            0.527975,
            1
           ],
           [
            0.050383,
            0.029803,
            0.527975,
            1
           ],
           [
            0.050383,
            0.029803,
            0.527975,
            1
           ],
           [
            0.050383,
            0.029803,
            0.527975,
            1
           ],
           [
            0.050383,
            0.029803,
            0.527975,
            1
           ],
           [
            0.050383,
            0.029803,
            0.527975,
            1
           ],
           [
            0.050383,
            0.029803,
            0.527975,
            1
           ],
           [
            0.050383,
            0.029803,
            0.527975,
            1
           ],
           [
            0.050383,
            0.029803,
            0.527975,
            1
           ],
           [
            0.050383,
            0.029803,
            0.527975,
            1
           ],
           [
            0.050383,
            0.029803,
            0.527975,
            1
           ],
           [
            0.050383,
            0.029803,
            0.527975,
            1
           ],
           [
            0.050383,
            0.029803,
            0.527975,
            1
           ],
           [
            0.050383,
            0.029803,
            0.527975,
            1
           ],
           [
            0.050383,
            0.029803,
            0.527975,
            1
           ],
           [
            0.050383,
            0.029803,
            0.527975,
            1
           ],
           [
            0.050383,
            0.029803,
            0.527975,
            1
           ],
           [
            0.050383,
            0.029803,
            0.527975,
            1
           ],
           [
            0.050383,
            0.029803,
            0.527975,
            1
           ],
           [
            0.050383,
            0.029803,
            0.527975,
            1
           ],
           [
            0.050383,
            0.029803,
            0.527975,
            1
           ],
           [
            0.050383,
            0.029803,
            0.527975,
            1
           ],
           [
            0.050383,
            0.029803,
            0.527975,
            1
           ],
           [
            0.050383,
            0.029803,
            0.527975,
            1
           ],
           [
            0.050383,
            0.029803,
            0.527975,
            1
           ],
           [
            0.050383,
            0.029803,
            0.527975,
            1
           ],
           [
            0.050383,
            0.029803,
            0.527975,
            1
           ],
           [
            0.050383,
            0.029803,
            0.527975,
            1
           ],
           [
            0.050383,
            0.029803,
            0.527975,
            1
           ],
           [
            0.050383,
            0.029803,
            0.527975,
            1
           ],
           [
            0.050383,
            0.029803,
            0.527975,
            1
           ],
           [
            0.050383,
            0.029803,
            0.527975,
            1
           ],
           [
            0.050383,
            0.029803,
            0.527975,
            1
           ],
           [
            0.050383,
            0.029803,
            0.527975,
            1
           ],
           [
            0.050383,
            0.029803,
            0.527975,
            1
           ],
           [
            0.050383,
            0.029803,
            0.527975,
            1
           ],
           [
            0.050383,
            0.029803,
            0.527975,
            1
           ],
           [
            0.050383,
            0.029803,
            0.527975,
            1
           ],
           [
            0.050383,
            0.029803,
            0.527975,
            1
           ],
           [
            0.050383,
            0.029803,
            0.527975,
            1
           ],
           [
            0.050383,
            0.029803,
            0.527975,
            1
           ],
           [
            0.050383,
            0.029803,
            0.527975,
            1
           ],
           [
            0.050383,
            0.029803,
            0.527975,
            1
           ],
           [
            0.050383,
            0.029803,
            0.527975,
            1
           ],
           [
            0.050383,
            0.029803,
            0.527975,
            1
           ],
           [
            0.050383,
            0.029803,
            0.527975,
            1
           ],
           [
            0.050383,
            0.029803,
            0.527975,
            1
           ],
           [
            0.050383,
            0.029803,
            0.527975,
            1
           ],
           [
            0.050383,
            0.029803,
            0.527975,
            1
           ],
           [
            0.050383,
            0.029803,
            0.527975,
            1
           ],
           [
            0.050383,
            0.029803,
            0.527975,
            1
           ],
           [
            0.050383,
            0.029803,
            0.527975,
            1
           ],
           [
            0.050383,
            0.029803,
            0.527975,
            1
           ],
           [
            0.050383,
            0.029803,
            0.527975,
            1
           ],
           [
            0.050383,
            0.029803,
            0.527975,
            1
           ],
           [
            0.050383,
            0.029803,
            0.527975,
            1
           ],
           [
            0.050383,
            0.029803,
            0.527975,
            1
           ],
           [
            0.050383,
            0.029803,
            0.527975,
            1
           ],
           [
            0.050383,
            0.029803,
            0.527975,
            1
           ],
           [
            0.050383,
            0.029803,
            0.527975,
            1
           ],
           [
            0.050383,
            0.029803,
            0.527975,
            1
           ],
           [
            0.050383,
            0.029803,
            0.527975,
            1
           ],
           [
            0.050383,
            0.029803,
            0.527975,
            1
           ],
           [
            0.050383,
            0.029803,
            0.527975,
            1
           ],
           [
            0.050383,
            0.029803,
            0.527975,
            1
           ],
           [
            0.050383,
            0.029803,
            0.527975,
            1
           ],
           [
            0.050383,
            0.029803,
            0.527975,
            1
           ],
           [
            0.050383,
            0.029803,
            0.527975,
            1
           ],
           [
            0.050383,
            0.029803,
            0.527975,
            1
           ],
           [
            0.050383,
            0.029803,
            0.527975,
            1
           ],
           [
            0.050383,
            0.029803,
            0.527975,
            1
           ],
           [
            0.050383,
            0.029803,
            0.527975,
            1
           ],
           [
            0.050383,
            0.029803,
            0.527975,
            1
           ],
           [
            0.050383,
            0.029803,
            0.527975,
            1
           ],
           [
            0.050383,
            0.029803,
            0.527975,
            1
           ],
           [
            0.050383,
            0.029803,
            0.527975,
            1
           ],
           [
            0.050383,
            0.029803,
            0.527975,
            1
           ],
           [
            0.050383,
            0.029803,
            0.527975,
            1
           ],
           [
            0.050383,
            0.029803,
            0.527975,
            1
           ],
           [
            0.050383,
            0.029803,
            0.527975,
            1
           ],
           [
            0.050383,
            0.029803,
            0.527975,
            1
           ],
           [
            0.050383,
            0.029803,
            0.527975,
            1
           ],
           [
            0.050383,
            0.029803,
            0.527975,
            1
           ],
           [
            0.050383,
            0.029803,
            0.527975,
            1
           ],
           [
            0.050383,
            0.029803,
            0.527975,
            1
           ],
           [
            0.050383,
            0.029803,
            0.527975,
            1
           ],
           [
            0.050383,
            0.029803,
            0.527975,
            1
           ],
           [
            0.050383,
            0.029803,
            0.527975,
            1
           ],
           [
            0.050383,
            0.029803,
            0.527975,
            1
           ],
           [
            0.050383,
            0.029803,
            0.527975,
            1
           ],
           [
            0.050383,
            0.029803,
            0.527975,
            1
           ],
           [
            0.050383,
            0.029803,
            0.527975,
            1
           ],
           [
            0.050383,
            0.029803,
            0.527975,
            1
           ],
           [
            0.050383,
            0.029803,
            0.527975,
            1
           ],
           [
            0.050383,
            0.029803,
            0.527975,
            1
           ],
           [
            0.050383,
            0.029803,
            0.527975,
            1
           ],
           [
            0.050383,
            0.029803,
            0.527975,
            1
           ],
           [
            0.050383,
            0.029803,
            0.527975,
            1
           ],
           [
            0.050383,
            0.029803,
            0.527975,
            1
           ],
           [
            0.050383,
            0.029803,
            0.527975,
            1
           ],
           [
            0.050383,
            0.029803,
            0.527975,
            1
           ],
           [
            0.050383,
            0.029803,
            0.527975,
            1
           ],
           [
            0.050383,
            0.029803,
            0.527975,
            1
           ],
           [
            0.050383,
            0.029803,
            0.527975,
            1
           ],
           [
            0.050383,
            0.029803,
            0.527975,
            1
           ],
           [
            0.050383,
            0.029803,
            0.527975,
            1
           ],
           [
            0.050383,
            0.029803,
            0.527975,
            1
           ],
           [
            0.050383,
            0.029803,
            0.527975,
            1
           ],
           [
            0.050383,
            0.029803,
            0.527975,
            1
           ],
           [
            0.050383,
            0.029803,
            0.527975,
            1
           ],
           [
            0.050383,
            0.029803,
            0.527975,
            1
           ],
           [
            0.050383,
            0.029803,
            0.527975,
            1
           ],
           [
            0.050383,
            0.029803,
            0.527975,
            1
           ],
           [
            0.050383,
            0.029803,
            0.527975,
            1
           ],
           [
            0.050383,
            0.029803,
            0.527975,
            1
           ],
           [
            0.050383,
            0.029803,
            0.527975,
            1
           ],
           [
            0.050383,
            0.029803,
            0.527975,
            1
           ],
           [
            0.050383,
            0.029803,
            0.527975,
            1
           ],
           [
            0.050383,
            0.029803,
            0.527975,
            1
           ],
           [
            0.050383,
            0.029803,
            0.527975,
            1
           ],
           [
            0.050383,
            0.029803,
            0.527975,
            1
           ],
           [
            0.050383,
            0.029803,
            0.527975,
            1
           ],
           [
            0.050383,
            0.029803,
            0.527975,
            1
           ],
           [
            0.050383,
            0.029803,
            0.527975,
            1
           ],
           [
            0.050383,
            0.029803,
            0.527975,
            1
           ],
           [
            0.050383,
            0.029803,
            0.527975,
            1
           ],
           [
            0.050383,
            0.029803,
            0.527975,
            1
           ],
           [
            0.050383,
            0.029803,
            0.527975,
            1
           ],
           [
            0.050383,
            0.029803,
            0.527975,
            1
           ],
           [
            0.050383,
            0.029803,
            0.527975,
            1
           ],
           [
            0.050383,
            0.029803,
            0.527975,
            1
           ],
           [
            0.050383,
            0.029803,
            0.527975,
            1
           ],
           [
            0.050383,
            0.029803,
            0.527975,
            1
           ],
           [
            0.050383,
            0.029803,
            0.527975,
            1
           ],
           [
            0.050383,
            0.029803,
            0.527975,
            1
           ],
           [
            0.050383,
            0.029803,
            0.527975,
            1
           ],
           [
            0.050383,
            0.029803,
            0.527975,
            1
           ],
           [
            0.050383,
            0.029803,
            0.527975,
            1
           ],
           [
            0.050383,
            0.029803,
            0.527975,
            1
           ],
           [
            0.050383,
            0.029803,
            0.527975,
            1
           ],
           [
            0.050383,
            0.029803,
            0.527975,
            1
           ],
           [
            0.050383,
            0.029803,
            0.527975,
            1
           ],
           [
            0.050383,
            0.029803,
            0.527975,
            1
           ],
           [
            0.050383,
            0.029803,
            0.527975,
            1
           ],
           [
            0.050383,
            0.029803,
            0.527975,
            1
           ],
           [
            0.050383,
            0.029803,
            0.527975,
            1
           ],
           [
            0.050383,
            0.029803,
            0.527975,
            1
           ],
           [
            0.050383,
            0.029803,
            0.527975,
            1
           ],
           [
            0.050383,
            0.029803,
            0.527975,
            1
           ],
           [
            0.050383,
            0.029803,
            0.527975,
            1
           ],
           [
            0.050383,
            0.029803,
            0.527975,
            1
           ],
           [
            0.050383,
            0.029803,
            0.527975,
            1
           ],
           [
            0.050383,
            0.029803,
            0.527975,
            1
           ],
           [
            0.050383,
            0.029803,
            0.527975,
            1
           ],
           [
            0.050383,
            0.029803,
            0.527975,
            1
           ],
           [
            0.050383,
            0.029803,
            0.527975,
            1
           ],
           [
            0.050383,
            0.029803,
            0.527975,
            1
           ],
           [
            0.050383,
            0.029803,
            0.527975,
            1
           ],
           [
            0.050383,
            0.029803,
            0.527975,
            1
           ],
           [
            0.050383,
            0.029803,
            0.527975,
            1
           ],
           [
            0.050383,
            0.029803,
            0.527975,
            1
           ],
           [
            0.050383,
            0.029803,
            0.527975,
            1
           ],
           [
            0.050383,
            0.029803,
            0.527975,
            1
           ],
           [
            0.050383,
            0.029803,
            0.527975,
            1
           ],
           [
            0.050383,
            0.029803,
            0.527975,
            1
           ],
           [
            0.050383,
            0.029803,
            0.527975,
            1
           ],
           [
            0.050383,
            0.029803,
            0.527975,
            1
           ],
           [
            0.050383,
            0.029803,
            0.527975,
            1
           ],
           [
            0.050383,
            0.029803,
            0.527975,
            1
           ],
           [
            0.050383,
            0.029803,
            0.527975,
            1
           ],
           [
            0.050383,
            0.029803,
            0.527975,
            1
           ],
           [
            0.050383,
            0.029803,
            0.527975,
            1
           ],
           [
            0.050383,
            0.029803,
            0.527975,
            1
           ],
           [
            0.050383,
            0.029803,
            0.527975,
            1
           ],
           [
            0.050383,
            0.029803,
            0.527975,
            1
           ],
           [
            0.050383,
            0.029803,
            0.527975,
            1
           ],
           [
            0.050383,
            0.029803,
            0.527975,
            1
           ],
           [
            0.050383,
            0.029803,
            0.527975,
            1
           ],
           [
            0.050383,
            0.029803,
            0.527975,
            1
           ],
           [
            0.050383,
            0.029803,
            0.527975,
            1
           ],
           [
            0.050383,
            0.029803,
            0.527975,
            1
           ],
           [
            0.050383,
            0.029803,
            0.527975,
            1
           ],
           [
            0.050383,
            0.029803,
            0.527975,
            1
           ],
           [
            0.050383,
            0.029803,
            0.527975,
            1
           ],
           [
            0.050383,
            0.029803,
            0.527975,
            1
           ],
           [
            0.050383,
            0.029803,
            0.527975,
            1
           ],
           [
            0.050383,
            0.029803,
            0.527975,
            1
           ],
           [
            0.050383,
            0.029803,
            0.527975,
            1
           ],
           [
            0.050383,
            0.029803,
            0.527975,
            1
           ],
           [
            0.050383,
            0.029803,
            0.527975,
            1
           ],
           [
            0.050383,
            0.029803,
            0.527975,
            1
           ],
           [
            0.050383,
            0.029803,
            0.527975,
            1
           ],
           [
            0.050383,
            0.029803,
            0.527975,
            1
           ],
           [
            0.050383,
            0.029803,
            0.527975,
            1
           ],
           [
            0.050383,
            0.029803,
            0.527975,
            1
           ],
           [
            0.050383,
            0.029803,
            0.527975,
            1
           ],
           [
            0.050383,
            0.029803,
            0.527975,
            1
           ],
           [
            0.050383,
            0.029803,
            0.527975,
            1
           ],
           [
            0.050383,
            0.029803,
            0.527975,
            1
           ],
           [
            0.050383,
            0.029803,
            0.527975,
            1
           ],
           [
            0.050383,
            0.029803,
            0.527975,
            1
           ],
           [
            0.050383,
            0.029803,
            0.527975,
            1
           ],
           [
            0.050383,
            0.029803,
            0.527975,
            1
           ],
           [
            0.050383,
            0.029803,
            0.527975,
            1
           ],
           [
            0.050383,
            0.029803,
            0.527975,
            1
           ],
           [
            0.050383,
            0.029803,
            0.527975,
            1
           ],
           [
            0.050383,
            0.029803,
            0.527975,
            1
           ],
           [
            0.050383,
            0.029803,
            0.527975,
            1
           ],
           [
            0.050383,
            0.029803,
            0.527975,
            1
           ],
           [
            0.050383,
            0.029803,
            0.527975,
            1
           ],
           [
            0.050383,
            0.029803,
            0.527975,
            1
           ],
           [
            0.050383,
            0.029803,
            0.527975,
            1
           ],
           [
            0.050383,
            0.029803,
            0.527975,
            1
           ],
           [
            0.050383,
            0.029803,
            0.527975,
            1
           ],
           [
            0.050383,
            0.029803,
            0.527975,
            1
           ],
           [
            0.050383,
            0.029803,
            0.527975,
            1
           ],
           [
            0.050383,
            0.029803,
            0.527975,
            1
           ],
           [
            0.050383,
            0.029803,
            0.527975,
            1
           ],
           [
            0.050383,
            0.029803,
            0.527975,
            1
           ],
           [
            0.050383,
            0.029803,
            0.527975,
            1
           ],
           [
            0.050383,
            0.029803,
            0.527975,
            1
           ],
           [
            0.050383,
            0.029803,
            0.527975,
            1
           ],
           [
            0.050383,
            0.029803,
            0.527975,
            1
           ],
           [
            0.050383,
            0.029803,
            0.527975,
            1
           ],
           [
            0.050383,
            0.029803,
            0.527975,
            1
           ],
           [
            0.050383,
            0.029803,
            0.527975,
            1
           ],
           [
            0.050383,
            0.029803,
            0.527975,
            1
           ],
           [
            0.050383,
            0.029803,
            0.527975,
            1
           ],
           [
            0.050383,
            0.029803,
            0.527975,
            1
           ],
           [
            0.050383,
            0.029803,
            0.527975,
            1
           ],
           [
            0.050383,
            0.029803,
            0.527975,
            1
           ],
           [
            0.050383,
            0.029803,
            0.527975,
            1
           ],
           [
            0.050383,
            0.029803,
            0.527975,
            1
           ],
           [
            0.050383,
            0.029803,
            0.527975,
            1
           ],
           [
            0.050383,
            0.029803,
            0.527975,
            1
           ],
           [
            0.050383,
            0.029803,
            0.527975,
            1
           ],
           [
            0.050383,
            0.029803,
            0.527975,
            1
           ],
           [
            0.050383,
            0.029803,
            0.527975,
            1
           ],
           [
            0.050383,
            0.029803,
            0.527975,
            1
           ],
           [
            0.050383,
            0.029803,
            0.527975,
            1
           ],
           [
            0.050383,
            0.029803,
            0.527975,
            1
           ],
           [
            0.050383,
            0.029803,
            0.527975,
            1
           ],
           [
            0.050383,
            0.029803,
            0.527975,
            1
           ],
           [
            0.050383,
            0.029803,
            0.527975,
            1
           ],
           [
            0.050383,
            0.029803,
            0.527975,
            1
           ],
           [
            0.050383,
            0.029803,
            0.527975,
            1
           ],
           [
            0.050383,
            0.029803,
            0.527975,
            1
           ],
           [
            0.050383,
            0.029803,
            0.527975,
            1
           ],
           [
            0.050383,
            0.029803,
            0.527975,
            1
           ],
           [
            0.050383,
            0.029803,
            0.527975,
            1
           ],
           [
            0.050383,
            0.029803,
            0.527975,
            1
           ],
           [
            0.050383,
            0.029803,
            0.527975,
            1
           ],
           [
            0.050383,
            0.029803,
            0.527975,
            1
           ],
           [
            0.050383,
            0.029803,
            0.527975,
            1
           ],
           [
            0.050383,
            0.029803,
            0.527975,
            1
           ],
           [
            0.050383,
            0.029803,
            0.527975,
            1
           ],
           [
            0.050383,
            0.029803,
            0.527975,
            1
           ],
           [
            0.050383,
            0.029803,
            0.527975,
            1
           ],
           [
            0.050383,
            0.029803,
            0.527975,
            1
           ],
           [
            0.050383,
            0.029803,
            0.527975,
            1
           ],
           [
            0.050383,
            0.029803,
            0.527975,
            1
           ],
           [
            0.050383,
            0.029803,
            0.527975,
            1
           ],
           [
            0.050383,
            0.029803,
            0.527975,
            1
           ],
           [
            0.050383,
            0.029803,
            0.527975,
            1
           ],
           [
            0.050383,
            0.029803,
            0.527975,
            1
           ],
           [
            0.050383,
            0.029803,
            0.527975,
            1
           ],
           [
            0.050383,
            0.029803,
            0.527975,
            1
           ],
           [
            0.050383,
            0.029803,
            0.527975,
            1
           ],
           [
            0.050383,
            0.029803,
            0.527975,
            1
           ],
           [
            0.050383,
            0.029803,
            0.527975,
            1
           ],
           [
            0.050383,
            0.029803,
            0.527975,
            1
           ],
           [
            0.050383,
            0.029803,
            0.527975,
            1
           ],
           [
            0.050383,
            0.029803,
            0.527975,
            1
           ],
           [
            0.050383,
            0.029803,
            0.527975,
            1
           ],
           [
            0.050383,
            0.029803,
            0.527975,
            1
           ],
           [
            0.050383,
            0.029803,
            0.527975,
            1
           ],
           [
            0.050383,
            0.029803,
            0.527975,
            1
           ],
           [
            0.050383,
            0.029803,
            0.527975,
            1
           ],
           [
            0.050383,
            0.029803,
            0.527975,
            1
           ],
           [
            0.050383,
            0.029803,
            0.527975,
            1
           ],
           [
            0.050383,
            0.029803,
            0.527975,
            1
           ],
           [
            0.050383,
            0.029803,
            0.527975,
            1
           ],
           [
            0.050383,
            0.029803,
            0.527975,
            1
           ],
           [
            0.050383,
            0.029803,
            0.527975,
            1
           ],
           [
            0.050383,
            0.029803,
            0.527975,
            1
           ],
           [
            0.050383,
            0.029803,
            0.527975,
            1
           ],
           [
            0.050383,
            0.029803,
            0.527975,
            1
           ],
           [
            0.050383,
            0.029803,
            0.527975,
            1
           ],
           [
            0.050383,
            0.029803,
            0.527975,
            1
           ],
           [
            0.050383,
            0.029803,
            0.527975,
            1
           ],
           [
            0.050383,
            0.029803,
            0.527975,
            1
           ],
           [
            0.050383,
            0.029803,
            0.527975,
            1
           ],
           [
            0.050383,
            0.029803,
            0.527975,
            1
           ],
           [
            0.050383,
            0.029803,
            0.527975,
            1
           ],
           [
            0.050383,
            0.029803,
            0.527975,
            1
           ],
           [
            0.050383,
            0.029803,
            0.527975,
            1
           ],
           [
            0.050383,
            0.029803,
            0.527975,
            1
           ],
           [
            0.050383,
            0.029803,
            0.527975,
            1
           ],
           [
            0.050383,
            0.029803,
            0.527975,
            1
           ],
           [
            0.050383,
            0.029803,
            0.527975,
            1
           ],
           [
            0.050383,
            0.029803,
            0.527975,
            1
           ],
           [
            0.050383,
            0.029803,
            0.527975,
            1
           ],
           [
            0.050383,
            0.029803,
            0.527975,
            1
           ],
           [
            0.050383,
            0.029803,
            0.527975,
            1
           ],
           [
            0.050383,
            0.029803,
            0.527975,
            1
           ],
           [
            0.050383,
            0.029803,
            0.527975,
            1
           ],
           [
            0.050383,
            0.029803,
            0.527975,
            1
           ],
           [
            0.050383,
            0.029803,
            0.527975,
            1
           ],
           [
            0.050383,
            0.029803,
            0.527975,
            1
           ],
           [
            0.050383,
            0.029803,
            0.527975,
            1
           ],
           [
            0.050383,
            0.029803,
            0.527975,
            1
           ],
           [
            0.050383,
            0.029803,
            0.527975,
            1
           ],
           [
            0.050383,
            0.029803,
            0.527975,
            1
           ],
           [
            0.050383,
            0.029803,
            0.527975,
            1
           ],
           [
            0.050383,
            0.029803,
            0.527975,
            1
           ],
           [
            0.050383,
            0.029803,
            0.527975,
            1
           ],
           [
            0.050383,
            0.029803,
            0.527975,
            1
           ],
           [
            0.050383,
            0.029803,
            0.527975,
            1
           ],
           [
            0.050383,
            0.029803,
            0.527975,
            1
           ],
           [
            0.050383,
            0.029803,
            0.527975,
            1
           ],
           [
            0.050383,
            0.029803,
            0.527975,
            1
           ],
           [
            0.050383,
            0.029803,
            0.527975,
            1
           ],
           [
            0.050383,
            0.029803,
            0.527975,
            1
           ],
           [
            0.050383,
            0.029803,
            0.527975,
            1
           ],
           [
            0.050383,
            0.029803,
            0.527975,
            1
           ],
           [
            0.050383,
            0.029803,
            0.527975,
            1
           ],
           [
            0.050383,
            0.029803,
            0.527975,
            1
           ],
           [
            0.050383,
            0.029803,
            0.527975,
            1
           ],
           [
            0.050383,
            0.029803,
            0.527975,
            1
           ],
           [
            0.050383,
            0.029803,
            0.527975,
            1
           ],
           [
            0.050383,
            0.029803,
            0.527975,
            1
           ],
           [
            0.050383,
            0.029803,
            0.527975,
            1
           ],
           [
            0.050383,
            0.029803,
            0.527975,
            1
           ],
           [
            0.050383,
            0.029803,
            0.527975,
            1
           ],
           [
            0.050383,
            0.029803,
            0.527975,
            1
           ],
           [
            0.050383,
            0.029803,
            0.527975,
            1
           ],
           [
            0.050383,
            0.029803,
            0.527975,
            1
           ],
           [
            0.050383,
            0.029803,
            0.527975,
            1
           ],
           [
            0.050383,
            0.029803,
            0.527975,
            1
           ],
           [
            0.050383,
            0.029803,
            0.527975,
            1
           ],
           [
            0.050383,
            0.029803,
            0.527975,
            1
           ],
           [
            0.050383,
            0.029803,
            0.527975,
            1
           ],
           [
            0.050383,
            0.029803,
            0.527975,
            1
           ],
           [
            0.050383,
            0.029803,
            0.527975,
            1
           ],
           [
            0.050383,
            0.029803,
            0.527975,
            1
           ],
           [
            0.050383,
            0.029803,
            0.527975,
            1
           ],
           [
            0.050383,
            0.029803,
            0.527975,
            1
           ],
           [
            0.050383,
            0.029803,
            0.527975,
            1
           ],
           [
            0.050383,
            0.029803,
            0.527975,
            1
           ],
           [
            0.050383,
            0.029803,
            0.527975,
            1
           ],
           [
            0.050383,
            0.029803,
            0.527975,
            1
           ],
           [
            0.050383,
            0.029803,
            0.527975,
            1
           ],
           [
            0.050383,
            0.029803,
            0.527975,
            1
           ],
           [
            0.050383,
            0.029803,
            0.527975,
            1
           ],
           [
            0.050383,
            0.029803,
            0.527975,
            1
           ],
           [
            0.050383,
            0.029803,
            0.527975,
            1
           ],
           [
            0.050383,
            0.029803,
            0.527975,
            1
           ],
           [
            0.050383,
            0.029803,
            0.527975,
            1
           ],
           [
            0.050383,
            0.029803,
            0.527975,
            1
           ],
           [
            0.050383,
            0.029803,
            0.527975,
            1
           ],
           [
            0.050383,
            0.029803,
            0.527975,
            1
           ],
           [
            0.050383,
            0.029803,
            0.527975,
            1
           ],
           [
            0.050383,
            0.029803,
            0.527975,
            1
           ],
           [
            0.050383,
            0.029803,
            0.527975,
            1
           ],
           [
            0.050383,
            0.029803,
            0.527975,
            1
           ],
           [
            0.050383,
            0.029803,
            0.527975,
            1
           ],
           [
            0.050383,
            0.029803,
            0.527975,
            1
           ],
           [
            0.050383,
            0.029803,
            0.527975,
            1
           ],
           [
            0.050383,
            0.029803,
            0.527975,
            1
           ],
           [
            0.050383,
            0.029803,
            0.527975,
            1
           ],
           [
            0.050383,
            0.029803,
            0.527975,
            1
           ],
           [
            0.050383,
            0.029803,
            0.527975,
            1
           ],
           [
            0.050383,
            0.029803,
            0.527975,
            1
           ],
           [
            0.050383,
            0.029803,
            0.527975,
            1
           ],
           [
            0.050383,
            0.029803,
            0.527975,
            1
           ],
           [
            0.050383,
            0.029803,
            0.527975,
            1
           ],
           [
            0.050383,
            0.029803,
            0.527975,
            1
           ],
           [
            0.050383,
            0.029803,
            0.527975,
            1
           ],
           [
            0.050383,
            0.029803,
            0.527975,
            1
           ],
           [
            0.050383,
            0.029803,
            0.527975,
            1
           ],
           [
            0.050383,
            0.029803,
            0.527975,
            1
           ],
           [
            0.050383,
            0.029803,
            0.527975,
            1
           ],
           [
            0.050383,
            0.029803,
            0.527975,
            1
           ],
           [
            0.050383,
            0.029803,
            0.527975,
            1
           ],
           [
            0.050383,
            0.029803,
            0.527975,
            1
           ],
           [
            0.050383,
            0.029803,
            0.527975,
            1
           ],
           [
            0.050383,
            0.029803,
            0.527975,
            1
           ],
           [
            0.050383,
            0.029803,
            0.527975,
            1
           ],
           [
            0.050383,
            0.029803,
            0.527975,
            1
           ],
           [
            0.050383,
            0.029803,
            0.527975,
            1
           ],
           [
            0.050383,
            0.029803,
            0.527975,
            1
           ],
           [
            0.050383,
            0.029803,
            0.527975,
            1
           ],
           [
            0.050383,
            0.029803,
            0.527975,
            1
           ],
           [
            0.050383,
            0.029803,
            0.527975,
            1
           ],
           [
            0.050383,
            0.029803,
            0.527975,
            1
           ],
           [
            0.050383,
            0.029803,
            0.527975,
            1
           ],
           [
            0.050383,
            0.029803,
            0.527975,
            1
           ],
           [
            0.050383,
            0.029803,
            0.527975,
            1
           ],
           [
            0.050383,
            0.029803,
            0.527975,
            1
           ],
           [
            0.050383,
            0.029803,
            0.527975,
            1
           ],
           [
            0.050383,
            0.029803,
            0.527975,
            1
           ],
           [
            0.050383,
            0.029803,
            0.527975,
            1
           ],
           [
            0.050383,
            0.029803,
            0.527975,
            1
           ]
          ],
          "width": 10
         },
         "mode": "lines",
         "text": [
          "peptide_bond",
          "peptide_bond",
          "peptide_bond",
          "peptide_bond",
          "peptide_bond",
          "peptide_bond",
          "peptide_bond",
          "peptide_bond",
          "peptide_bond",
          "peptide_bond",
          "peptide_bond",
          "peptide_bond",
          "peptide_bond",
          "peptide_bond",
          "peptide_bond",
          "peptide_bond",
          "peptide_bond",
          "peptide_bond",
          "peptide_bond",
          "peptide_bond",
          "peptide_bond",
          "peptide_bond",
          "peptide_bond",
          "peptide_bond",
          "peptide_bond",
          "peptide_bond",
          "peptide_bond",
          "peptide_bond",
          "peptide_bond",
          "peptide_bond",
          "peptide_bond",
          "peptide_bond",
          "peptide_bond",
          "peptide_bond",
          "peptide_bond",
          "peptide_bond",
          "peptide_bond",
          "peptide_bond",
          "peptide_bond",
          "peptide_bond",
          "peptide_bond",
          "peptide_bond",
          "peptide_bond",
          "peptide_bond",
          "peptide_bond",
          "peptide_bond",
          "peptide_bond",
          "peptide_bond",
          "peptide_bond",
          "peptide_bond",
          "peptide_bond",
          "peptide_bond",
          "peptide_bond",
          "peptide_bond",
          "peptide_bond",
          "peptide_bond",
          "peptide_bond",
          "peptide_bond",
          "peptide_bond",
          "peptide_bond",
          "peptide_bond",
          "peptide_bond",
          "peptide_bond",
          "peptide_bond",
          "peptide_bond",
          "peptide_bond",
          "peptide_bond",
          "peptide_bond",
          "peptide_bond",
          "peptide_bond",
          "peptide_bond",
          "peptide_bond",
          "peptide_bond",
          "peptide_bond",
          "peptide_bond",
          "peptide_bond",
          "peptide_bond",
          "peptide_bond",
          "peptide_bond",
          "peptide_bond",
          "peptide_bond",
          "peptide_bond",
          "peptide_bond",
          "peptide_bond",
          "peptide_bond",
          "peptide_bond",
          "peptide_bond",
          "peptide_bond",
          "peptide_bond",
          "peptide_bond",
          "peptide_bond",
          "peptide_bond",
          "peptide_bond",
          "peptide_bond",
          "peptide_bond",
          "peptide_bond",
          "peptide_bond",
          "peptide_bond",
          "peptide_bond",
          "peptide_bond",
          "peptide_bond",
          "peptide_bond",
          "peptide_bond",
          "peptide_bond",
          "peptide_bond",
          "peptide_bond",
          "peptide_bond",
          "peptide_bond",
          "peptide_bond",
          "peptide_bond",
          "peptide_bond",
          "peptide_bond",
          "peptide_bond",
          "peptide_bond",
          "peptide_bond",
          "peptide_bond",
          "peptide_bond",
          "peptide_bond",
          "peptide_bond",
          "peptide_bond",
          "peptide_bond",
          "peptide_bond",
          "peptide_bond",
          "peptide_bond",
          "peptide_bond",
          "peptide_bond",
          "peptide_bond",
          "peptide_bond",
          "peptide_bond",
          "peptide_bond",
          "peptide_bond",
          "peptide_bond",
          "peptide_bond",
          "peptide_bond",
          "peptide_bond",
          "peptide_bond",
          "peptide_bond",
          "peptide_bond",
          "peptide_bond",
          "peptide_bond",
          "peptide_bond",
          "peptide_bond",
          "peptide_bond",
          "peptide_bond",
          "peptide_bond",
          "peptide_bond",
          "peptide_bond",
          "peptide_bond",
          "peptide_bond",
          "peptide_bond",
          "peptide_bond",
          "peptide_bond",
          "peptide_bond",
          "peptide_bond",
          "peptide_bond",
          "peptide_bond",
          "peptide_bond",
          "peptide_bond",
          "peptide_bond",
          "peptide_bond",
          "peptide_bond",
          "peptide_bond",
          "peptide_bond",
          "peptide_bond",
          "peptide_bond",
          "peptide_bond",
          "peptide_bond",
          "peptide_bond",
          "peptide_bond",
          "peptide_bond",
          "peptide_bond",
          "peptide_bond",
          "peptide_bond",
          "peptide_bond",
          "peptide_bond",
          "peptide_bond",
          "peptide_bond",
          "peptide_bond",
          "peptide_bond",
          "peptide_bond",
          "peptide_bond",
          "peptide_bond",
          "peptide_bond",
          "peptide_bond",
          "peptide_bond",
          "peptide_bond",
          "peptide_bond",
          "peptide_bond",
          "peptide_bond",
          "peptide_bond",
          "peptide_bond",
          "peptide_bond",
          "peptide_bond",
          "peptide_bond",
          "peptide_bond",
          "peptide_bond",
          "peptide_bond",
          "peptide_bond",
          "peptide_bond",
          "peptide_bond",
          "peptide_bond",
          "peptide_bond",
          "peptide_bond",
          "peptide_bond",
          "peptide_bond",
          "peptide_bond",
          "peptide_bond",
          "peptide_bond",
          "peptide_bond",
          "peptide_bond",
          "peptide_bond",
          "peptide_bond",
          "peptide_bond",
          "peptide_bond",
          "peptide_bond",
          "peptide_bond",
          "peptide_bond",
          "peptide_bond",
          "peptide_bond",
          "peptide_bond",
          "peptide_bond",
          "peptide_bond",
          "peptide_bond",
          "peptide_bond",
          "peptide_bond",
          "peptide_bond",
          "peptide_bond",
          "peptide_bond",
          "peptide_bond",
          "peptide_bond",
          "peptide_bond",
          "peptide_bond",
          "peptide_bond",
          "peptide_bond",
          "peptide_bond",
          "peptide_bond",
          "peptide_bond",
          "peptide_bond",
          "peptide_bond",
          "peptide_bond",
          "peptide_bond",
          "peptide_bond",
          "peptide_bond",
          "peptide_bond",
          "peptide_bond",
          "peptide_bond",
          "peptide_bond",
          "peptide_bond",
          "peptide_bond",
          "peptide_bond",
          "peptide_bond",
          "peptide_bond",
          "peptide_bond",
          "peptide_bond",
          "peptide_bond",
          "peptide_bond",
          "peptide_bond",
          "peptide_bond",
          "peptide_bond",
          "peptide_bond",
          "peptide_bond",
          "peptide_bond",
          "peptide_bond",
          "peptide_bond",
          "peptide_bond",
          "peptide_bond",
          "peptide_bond",
          "peptide_bond",
          "peptide_bond",
          "peptide_bond",
          "peptide_bond",
          "peptide_bond",
          "peptide_bond",
          "peptide_bond",
          "peptide_bond",
          "peptide_bond",
          "peptide_bond",
          "peptide_bond",
          "peptide_bond",
          "peptide_bond",
          "peptide_bond",
          "peptide_bond",
          "peptide_bond",
          "peptide_bond",
          "peptide_bond",
          "peptide_bond",
          "peptide_bond",
          "peptide_bond",
          "peptide_bond",
          "peptide_bond",
          "peptide_bond",
          "peptide_bond",
          "peptide_bond",
          "peptide_bond",
          "peptide_bond",
          "peptide_bond",
          "peptide_bond",
          "peptide_bond",
          "peptide_bond",
          "peptide_bond",
          "peptide_bond",
          "peptide_bond",
          "peptide_bond",
          "peptide_bond",
          "peptide_bond",
          "peptide_bond",
          "peptide_bond",
          "peptide_bond",
          "peptide_bond",
          "peptide_bond",
          "peptide_bond",
          "peptide_bond",
          "peptide_bond",
          "peptide_bond",
          "peptide_bond",
          "peptide_bond",
          "peptide_bond",
          "peptide_bond",
          "peptide_bond",
          "peptide_bond",
          "peptide_bond",
          "peptide_bond",
          "peptide_bond",
          "peptide_bond",
          "peptide_bond",
          "peptide_bond",
          "peptide_bond",
          "peptide_bond",
          "peptide_bond",
          "peptide_bond",
          "peptide_bond",
          "peptide_bond",
          "peptide_bond",
          "peptide_bond",
          "peptide_bond",
          "peptide_bond",
          "peptide_bond",
          "peptide_bond",
          "peptide_bond",
          "peptide_bond",
          "peptide_bond",
          "peptide_bond",
          "peptide_bond",
          "peptide_bond",
          "peptide_bond",
          "peptide_bond",
          "peptide_bond",
          "peptide_bond",
          "peptide_bond",
          "peptide_bond",
          "peptide_bond",
          "peptide_bond",
          "peptide_bond",
          "peptide_bond",
          "peptide_bond",
          "peptide_bond",
          "peptide_bond",
          "peptide_bond",
          "peptide_bond",
          "peptide_bond",
          "peptide_bond",
          "peptide_bond",
          "peptide_bond",
          "peptide_bond",
          "peptide_bond",
          "peptide_bond",
          "peptide_bond",
          "peptide_bond",
          "peptide_bond",
          "peptide_bond",
          "peptide_bond",
          "peptide_bond",
          "peptide_bond",
          "peptide_bond",
          "peptide_bond",
          "peptide_bond",
          "peptide_bond",
          "peptide_bond",
          "peptide_bond",
          "peptide_bond",
          "peptide_bond",
          "peptide_bond",
          "peptide_bond",
          "peptide_bond",
          "peptide_bond",
          "peptide_bond",
          "peptide_bond",
          "peptide_bond",
          "peptide_bond",
          "peptide_bond",
          "peptide_bond",
          "peptide_bond",
          "peptide_bond",
          "peptide_bond",
          "peptide_bond",
          "peptide_bond",
          "peptide_bond",
          "peptide_bond",
          "peptide_bond",
          "peptide_bond",
          "peptide_bond",
          "peptide_bond",
          "peptide_bond",
          "peptide_bond",
          "peptide_bond",
          "peptide_bond",
          "peptide_bond",
          "peptide_bond",
          "peptide_bond",
          "peptide_bond",
          "peptide_bond",
          "peptide_bond",
          "peptide_bond",
          "peptide_bond",
          "peptide_bond",
          "peptide_bond",
          "peptide_bond",
          "peptide_bond",
          "peptide_bond",
          "peptide_bond",
          "peptide_bond",
          "peptide_bond",
          "peptide_bond",
          "peptide_bond",
          "peptide_bond",
          "peptide_bond",
          "peptide_bond",
          "peptide_bond",
          "peptide_bond",
          "peptide_bond",
          "peptide_bond",
          "peptide_bond",
          "peptide_bond",
          "peptide_bond",
          "peptide_bond",
          "peptide_bond",
          "peptide_bond",
          "peptide_bond",
          "peptide_bond",
          "peptide_bond",
          "peptide_bond",
          "peptide_bond",
          "peptide_bond",
          "peptide_bond",
          "peptide_bond",
          "peptide_bond",
          "peptide_bond",
          "peptide_bond",
          "peptide_bond",
          "peptide_bond",
          "peptide_bond",
          "peptide_bond",
          "peptide_bond",
          "peptide_bond",
          "peptide_bond",
          "peptide_bond",
          "peptide_bond",
          "peptide_bond",
          "peptide_bond",
          "peptide_bond",
          "peptide_bond",
          "peptide_bond",
          "peptide_bond",
          "peptide_bond",
          "peptide_bond",
          "peptide_bond",
          "peptide_bond",
          "peptide_bond",
          "peptide_bond",
          "peptide_bond",
          "peptide_bond",
          "peptide_bond",
          "peptide_bond",
          "peptide_bond",
          "peptide_bond",
          "peptide_bond",
          "peptide_bond",
          "peptide_bond",
          "peptide_bond",
          "peptide_bond",
          "peptide_bond",
          "peptide_bond",
          "peptide_bond",
          "peptide_bond",
          "peptide_bond",
          "peptide_bond",
          "peptide_bond",
          "peptide_bond",
          "peptide_bond",
          "peptide_bond",
          "peptide_bond",
          "peptide_bond",
          "peptide_bond",
          "peptide_bond",
          "peptide_bond",
          "peptide_bond",
          "peptide_bond",
          "peptide_bond",
          "peptide_bond",
          "peptide_bond",
          "peptide_bond",
          "peptide_bond",
          "peptide_bond",
          "peptide_bond",
          "peptide_bond",
          "peptide_bond",
          "peptide_bond",
          "peptide_bond",
          "peptide_bond",
          "peptide_bond",
          "peptide_bond",
          "peptide_bond",
          "peptide_bond",
          "peptide_bond",
          "peptide_bond",
          "peptide_bond",
          "peptide_bond",
          "peptide_bond",
          "peptide_bond",
          "peptide_bond",
          "peptide_bond",
          "peptide_bond",
          "peptide_bond",
          "peptide_bond",
          "peptide_bond",
          "peptide_bond",
          "peptide_bond",
          "peptide_bond",
          "peptide_bond",
          "peptide_bond",
          "peptide_bond",
          "peptide_bond",
          "peptide_bond",
          "peptide_bond",
          "peptide_bond",
          "peptide_bond",
          "peptide_bond",
          "peptide_bond",
          "peptide_bond",
          "peptide_bond",
          "peptide_bond",
          "peptide_bond",
          "peptide_bond",
          "peptide_bond",
          "peptide_bond",
          "peptide_bond",
          "peptide_bond",
          "peptide_bond",
          "peptide_bond",
          "peptide_bond",
          "peptide_bond",
          "peptide_bond",
          "peptide_bond",
          "peptide_bond",
          "peptide_bond",
          "peptide_bond",
          "peptide_bond",
          "peptide_bond",
          "peptide_bond",
          "peptide_bond",
          "peptide_bond",
          "peptide_bond",
          "peptide_bond",
          "peptide_bond",
          "peptide_bond",
          "peptide_bond",
          "peptide_bond",
          "peptide_bond",
          "peptide_bond",
          "peptide_bond",
          "peptide_bond",
          "peptide_bond",
          "peptide_bond",
          "peptide_bond",
          "peptide_bond",
          "peptide_bond",
          "peptide_bond",
          "peptide_bond",
          "peptide_bond",
          "peptide_bond",
          "peptide_bond",
          "peptide_bond",
          "peptide_bond",
          "peptide_bond",
          "peptide_bond",
          "peptide_bond",
          "peptide_bond",
          "peptide_bond",
          "peptide_bond",
          "peptide_bond",
          "peptide_bond",
          "peptide_bond",
          "peptide_bond",
          "peptide_bond",
          "peptide_bond",
          "peptide_bond",
          "peptide_bond",
          "peptide_bond",
          "peptide_bond",
          "peptide_bond",
          "peptide_bond",
          "peptide_bond",
          "peptide_bond",
          "peptide_bond",
          "peptide_bond",
          "peptide_bond",
          "peptide_bond",
          "peptide_bond",
          "peptide_bond",
          "peptide_bond",
          "peptide_bond",
          "peptide_bond",
          "peptide_bond",
          "peptide_bond",
          "peptide_bond",
          "peptide_bond",
          "peptide_bond",
          "peptide_bond",
          "peptide_bond",
          "peptide_bond",
          "peptide_bond",
          "peptide_bond",
          "peptide_bond",
          "peptide_bond",
          "peptide_bond",
          "peptide_bond",
          "peptide_bond",
          "peptide_bond",
          "peptide_bond",
          "peptide_bond",
          "peptide_bond",
          "peptide_bond",
          "peptide_bond",
          "peptide_bond",
          "peptide_bond",
          "peptide_bond",
          "peptide_bond",
          "peptide_bond",
          "peptide_bond",
          "peptide_bond",
          "peptide_bond",
          "peptide_bond",
          "peptide_bond",
          "peptide_bond",
          "peptide_bond",
          "peptide_bond",
          "peptide_bond",
          "peptide_bond",
          "peptide_bond",
          "peptide_bond",
          "peptide_bond",
          "peptide_bond",
          "peptide_bond",
          "peptide_bond",
          "peptide_bond",
          "peptide_bond",
          "peptide_bond",
          "peptide_bond",
          "peptide_bond",
          "peptide_bond",
          "peptide_bond",
          "peptide_bond",
          "peptide_bond",
          "peptide_bond",
          "peptide_bond",
          "peptide_bond",
          "peptide_bond",
          "peptide_bond",
          "peptide_bond",
          "peptide_bond",
          "peptide_bond",
          "peptide_bond",
          "peptide_bond",
          "peptide_bond",
          "peptide_bond",
          "peptide_bond",
          "peptide_bond",
          "peptide_bond",
          "peptide_bond",
          "peptide_bond",
          "peptide_bond",
          "peptide_bond",
          "peptide_bond",
          "peptide_bond",
          "peptide_bond",
          "peptide_bond",
          "peptide_bond",
          "peptide_bond",
          "peptide_bond",
          "peptide_bond",
          "peptide_bond",
          "peptide_bond",
          "peptide_bond",
          "peptide_bond",
          "peptide_bond",
          "peptide_bond",
          "peptide_bond",
          "peptide_bond",
          "peptide_bond",
          "peptide_bond",
          "peptide_bond",
          "peptide_bond",
          "peptide_bond",
          "peptide_bond",
          "peptide_bond",
          "peptide_bond",
          "peptide_bond",
          "peptide_bond",
          "peptide_bond",
          "peptide_bond",
          "peptide_bond",
          "peptide_bond",
          "peptide_bond",
          "peptide_bond",
          "peptide_bond",
          "peptide_bond",
          "peptide_bond",
          "peptide_bond",
          "peptide_bond",
          "peptide_bond",
          "peptide_bond",
          "peptide_bond",
          "peptide_bond",
          "peptide_bond",
          "peptide_bond",
          "peptide_bond",
          "peptide_bond",
          "peptide_bond",
          "peptide_bond",
          "peptide_bond",
          "peptide_bond",
          "peptide_bond",
          "peptide_bond",
          "peptide_bond",
          "peptide_bond",
          "peptide_bond",
          "peptide_bond",
          "peptide_bond",
          "peptide_bond",
          "peptide_bond",
          "peptide_bond",
          "peptide_bond",
          "peptide_bond",
          "peptide_bond",
          "peptide_bond",
          "peptide_bond",
          "peptide_bond",
          "peptide_bond",
          "peptide_bond",
          "peptide_bond",
          "peptide_bond",
          "peptide_bond",
          "peptide_bond",
          "peptide_bond",
          "peptide_bond",
          "peptide_bond",
          "peptide_bond",
          "peptide_bond",
          "peptide_bond",
          "peptide_bond",
          "peptide_bond",
          "peptide_bond",
          "peptide_bond",
          "peptide_bond",
          "peptide_bond",
          "peptide_bond",
          "peptide_bond",
          "peptide_bond",
          "peptide_bond",
          "peptide_bond",
          "peptide_bond",
          "peptide_bond",
          "peptide_bond",
          "peptide_bond",
          "peptide_bond",
          "peptide_bond",
          "peptide_bond",
          "peptide_bond",
          "peptide_bond",
          "peptide_bond",
          "peptide_bond",
          "peptide_bond",
          "peptide_bond",
          "peptide_bond",
          "peptide_bond",
          "peptide_bond",
          "peptide_bond",
          "peptide_bond",
          "peptide_bond",
          "peptide_bond",
          "peptide_bond",
          "peptide_bond",
          "peptide_bond",
          "peptide_bond",
          "peptide_bond",
          "peptide_bond",
          "peptide_bond",
          "peptide_bond",
          "peptide_bond",
          "peptide_bond",
          "peptide_bond",
          "peptide_bond",
          "peptide_bond",
          "peptide_bond",
          "peptide_bond",
          "peptide_bond",
          "peptide_bond",
          "peptide_bond",
          "peptide_bond",
          "peptide_bond",
          "peptide_bond",
          "peptide_bond",
          "peptide_bond",
          "peptide_bond",
          "peptide_bond",
          "peptide_bond",
          "peptide_bond",
          "peptide_bond",
          "peptide_bond",
          "peptide_bond",
          "peptide_bond",
          "peptide_bond",
          "peptide_bond",
          "peptide_bond",
          "peptide_bond",
          "peptide_bond",
          "peptide_bond",
          "peptide_bond",
          "peptide_bond",
          "peptide_bond",
          "peptide_bond",
          "peptide_bond",
          "peptide_bond",
          "peptide_bond",
          "peptide_bond",
          "peptide_bond",
          "peptide_bond",
          "peptide_bond",
          "peptide_bond",
          "peptide_bond",
          "peptide_bond",
          "peptide_bond",
          "peptide_bond",
          "peptide_bond",
          "peptide_bond",
          "peptide_bond",
          "peptide_bond",
          "peptide_bond",
          "peptide_bond",
          "peptide_bond",
          "peptide_bond",
          "peptide_bond",
          "peptide_bond",
          "peptide_bond",
          "peptide_bond",
          "peptide_bond",
          "peptide_bond",
          "peptide_bond",
          "peptide_bond",
          "peptide_bond",
          "peptide_bond",
          "peptide_bond",
          "peptide_bond",
          "peptide_bond",
          "peptide_bond",
          "peptide_bond",
          "peptide_bond",
          "peptide_bond",
          "peptide_bond",
          "peptide_bond",
          "peptide_bond",
          "peptide_bond",
          "peptide_bond",
          "peptide_bond",
          "peptide_bond",
          "peptide_bond",
          "peptide_bond",
          "peptide_bond",
          "peptide_bond",
          "peptide_bond",
          "peptide_bond",
          "peptide_bond",
          "peptide_bond",
          "peptide_bond",
          "peptide_bond",
          "peptide_bond",
          "peptide_bond",
          "peptide_bond",
          "peptide_bond",
          "peptide_bond",
          "peptide_bond",
          "peptide_bond",
          "peptide_bond",
          "peptide_bond",
          "peptide_bond",
          "peptide_bond",
          "peptide_bond",
          "peptide_bond",
          "peptide_bond",
          "peptide_bond",
          "peptide_bond",
          "peptide_bond",
          "peptide_bond",
          "peptide_bond",
          "peptide_bond",
          "peptide_bond",
          "peptide_bond",
          "peptide_bond",
          "peptide_bond",
          "peptide_bond",
          "peptide_bond",
          "peptide_bond",
          "peptide_bond",
          "peptide_bond",
          "peptide_bond",
          "peptide_bond",
          "peptide_bond",
          "peptide_bond",
          "peptide_bond",
          "peptide_bond",
          "peptide_bond",
          "peptide_bond",
          "peptide_bond",
          "peptide_bond",
          "peptide_bond",
          "peptide_bond",
          "peptide_bond",
          "peptide_bond",
          "peptide_bond",
          "peptide_bond",
          "peptide_bond",
          "peptide_bond",
          "peptide_bond",
          "peptide_bond",
          "peptide_bond",
          "peptide_bond",
          "peptide_bond",
          "peptide_bond",
          "peptide_bond",
          "peptide_bond",
          "peptide_bond",
          "peptide_bond",
          "peptide_bond",
          "peptide_bond",
          "peptide_bond",
          "peptide_bond",
          "peptide_bond",
          "peptide_bond",
          "peptide_bond",
          "peptide_bond",
          "peptide_bond",
          "peptide_bond",
          "peptide_bond",
          "peptide_bond",
          "peptide_bond",
          "peptide_bond",
          "peptide_bond",
          "peptide_bond",
          "peptide_bond",
          "peptide_bond",
          "peptide_bond",
          "peptide_bond",
          "peptide_bond",
          "peptide_bond",
          "peptide_bond",
          "peptide_bond",
          "peptide_bond",
          "peptide_bond",
          "peptide_bond",
          "peptide_bond",
          "peptide_bond",
          "peptide_bond",
          "peptide_bond",
          "peptide_bond",
          "peptide_bond",
          "peptide_bond",
          "peptide_bond",
          "peptide_bond",
          "peptide_bond",
          "peptide_bond",
          "peptide_bond",
          "peptide_bond",
          "peptide_bond",
          "peptide_bond",
          "peptide_bond",
          "peptide_bond",
          "peptide_bond",
          "peptide_bond",
          "peptide_bond",
          "peptide_bond",
          "peptide_bond",
          "peptide_bond",
          "peptide_bond",
          "peptide_bond",
          "peptide_bond",
          "peptide_bond",
          "peptide_bond",
          "peptide_bond",
          "peptide_bond",
          "peptide_bond",
          "peptide_bond",
          "peptide_bond",
          "peptide_bond",
          "peptide_bond",
          "peptide_bond",
          "peptide_bond",
          "peptide_bond",
          "peptide_bond",
          "peptide_bond",
          "peptide_bond",
          "peptide_bond",
          "peptide_bond",
          "peptide_bond",
          "peptide_bond",
          "peptide_bond",
          "peptide_bond",
          "peptide_bond",
          "peptide_bond",
          "peptide_bond",
          "peptide_bond",
          "peptide_bond",
          "peptide_bond",
          "peptide_bond",
          "peptide_bond",
          "peptide_bond",
          "peptide_bond",
          "peptide_bond",
          "peptide_bond",
          "peptide_bond",
          "peptide_bond",
          "peptide_bond",
          "peptide_bond",
          "peptide_bond",
          "peptide_bond",
          "peptide_bond",
          "peptide_bond",
          "peptide_bond",
          "peptide_bond",
          "peptide_bond",
          "peptide_bond",
          "peptide_bond",
          "peptide_bond",
          "peptide_bond",
          "peptide_bond",
          "peptide_bond",
          "peptide_bond",
          "peptide_bond",
          "peptide_bond",
          "peptide_bond",
          "peptide_bond",
          "peptide_bond",
          "peptide_bond",
          "peptide_bond",
          "peptide_bond",
          "peptide_bond",
          "peptide_bond",
          "peptide_bond",
          "peptide_bond",
          "peptide_bond",
          "peptide_bond",
          "peptide_bond",
          "peptide_bond",
          "peptide_bond",
          "peptide_bond",
          "peptide_bond",
          "peptide_bond",
          "peptide_bond",
          "peptide_bond",
          "peptide_bond",
          "peptide_bond",
          "peptide_bond",
          "peptide_bond",
          "peptide_bond",
          "peptide_bond",
          "peptide_bond",
          "peptide_bond",
          "peptide_bond",
          "peptide_bond",
          "peptide_bond",
          "peptide_bond",
          "peptide_bond",
          "peptide_bond",
          "peptide_bond",
          "peptide_bond",
          "peptide_bond",
          "peptide_bond",
          "peptide_bond",
          "peptide_bond",
          "peptide_bond",
          "peptide_bond",
          "peptide_bond",
          "peptide_bond",
          "peptide_bond",
          "peptide_bond",
          "peptide_bond",
          "peptide_bond",
          "peptide_bond",
          "peptide_bond",
          "peptide_bond",
          "peptide_bond",
          "peptide_bond",
          "peptide_bond",
          "peptide_bond",
          "peptide_bond",
          "peptide_bond",
          "peptide_bond",
          "peptide_bond",
          "peptide_bond",
          "peptide_bond",
          "peptide_bond",
          "peptide_bond",
          "peptide_bond",
          "peptide_bond",
          "peptide_bond",
          "peptide_bond",
          "peptide_bond",
          "peptide_bond",
          "peptide_bond",
          "peptide_bond",
          "peptide_bond",
          "peptide_bond",
          "peptide_bond",
          "peptide_bond",
          "peptide_bond",
          "peptide_bond",
          "peptide_bond",
          "peptide_bond",
          "peptide_bond",
          "peptide_bond",
          "peptide_bond",
          "peptide_bond",
          "peptide_bond",
          "peptide_bond",
          "peptide_bond",
          "peptide_bond",
          "peptide_bond",
          "peptide_bond",
          "peptide_bond",
          "peptide_bond",
          "peptide_bond",
          "peptide_bond",
          "peptide_bond",
          "peptide_bond",
          "peptide_bond",
          "peptide_bond",
          "peptide_bond",
          "peptide_bond",
          "peptide_bond",
          "peptide_bond",
          "peptide_bond",
          "peptide_bond",
          "peptide_bond",
          "peptide_bond",
          "peptide_bond",
          "peptide_bond",
          "peptide_bond",
          "peptide_bond",
          "peptide_bond",
          "peptide_bond",
          "peptide_bond",
          "peptide_bond",
          "peptide_bond",
          "peptide_bond",
          "peptide_bond",
          "peptide_bond",
          "peptide_bond",
          "peptide_bond",
          "peptide_bond",
          "peptide_bond",
          "peptide_bond",
          "peptide_bond",
          "peptide_bond",
          "peptide_bond",
          "peptide_bond",
          "peptide_bond",
          "peptide_bond",
          "peptide_bond",
          "peptide_bond",
          "peptide_bond",
          "peptide_bond",
          "peptide_bond",
          "peptide_bond",
          "peptide_bond",
          "peptide_bond",
          "peptide_bond",
          "peptide_bond",
          "peptide_bond",
          "peptide_bond",
          "peptide_bond",
          "peptide_bond",
          "peptide_bond",
          "peptide_bond",
          "peptide_bond",
          "peptide_bond",
          "peptide_bond",
          "peptide_bond",
          "peptide_bond",
          "peptide_bond",
          "peptide_bond",
          "peptide_bond",
          "peptide_bond",
          "peptide_bond",
          "peptide_bond",
          "peptide_bond",
          "peptide_bond",
          "peptide_bond",
          "peptide_bond",
          "peptide_bond",
          "peptide_bond",
          "peptide_bond",
          "peptide_bond",
          "peptide_bond",
          "peptide_bond",
          "peptide_bond",
          "peptide_bond",
          "peptide_bond",
          "peptide_bond",
          "peptide_bond",
          "peptide_bond",
          "peptide_bond",
          "peptide_bond",
          "peptide_bond",
          "peptide_bond",
          "peptide_bond",
          "peptide_bond",
          "peptide_bond",
          "peptide_bond",
          "peptide_bond",
          "peptide_bond",
          "peptide_bond",
          "peptide_bond",
          "peptide_bond",
          "peptide_bond",
          "peptide_bond",
          "peptide_bond",
          "peptide_bond",
          "peptide_bond",
          "peptide_bond",
          "peptide_bond",
          "peptide_bond",
          "peptide_bond",
          "peptide_bond",
          "peptide_bond",
          "peptide_bond",
          "peptide_bond",
          "peptide_bond",
          "peptide_bond",
          "peptide_bond",
          "peptide_bond",
          "peptide_bond",
          "peptide_bond",
          "peptide_bond",
          "peptide_bond",
          "peptide_bond",
          "peptide_bond",
          "peptide_bond",
          "peptide_bond",
          "peptide_bond",
          "peptide_bond",
          "peptide_bond",
          "peptide_bond",
          "peptide_bond",
          "peptide_bond",
          "peptide_bond",
          "peptide_bond",
          "peptide_bond",
          "peptide_bond",
          "peptide_bond",
          "peptide_bond",
          "peptide_bond",
          "peptide_bond",
          "peptide_bond",
          "peptide_bond",
          "peptide_bond",
          "peptide_bond",
          "peptide_bond",
          "peptide_bond",
          "peptide_bond",
          "peptide_bond",
          "peptide_bond",
          "peptide_bond",
          "peptide_bond",
          "peptide_bond",
          "peptide_bond",
          "peptide_bond",
          "peptide_bond",
          "peptide_bond",
          "peptide_bond",
          "peptide_bond",
          "peptide_bond",
          "peptide_bond",
          "peptide_bond",
          "peptide_bond",
          "peptide_bond",
          "peptide_bond",
          "peptide_bond",
          "peptide_bond",
          "peptide_bond",
          "peptide_bond",
          "peptide_bond",
          "peptide_bond",
          "peptide_bond",
          "peptide_bond",
          "peptide_bond",
          "peptide_bond",
          "peptide_bond",
          "peptide_bond",
          "peptide_bond",
          "peptide_bond",
          "peptide_bond",
          "peptide_bond",
          "peptide_bond",
          "peptide_bond",
          "peptide_bond",
          "peptide_bond",
          "peptide_bond",
          "peptide_bond",
          "peptide_bond",
          "peptide_bond",
          "peptide_bond",
          "peptide_bond",
          "peptide_bond",
          "peptide_bond",
          "peptide_bond",
          "peptide_bond",
          "peptide_bond",
          "peptide_bond",
          "peptide_bond",
          "peptide_bond",
          "peptide_bond",
          "peptide_bond",
          "peptide_bond"
         ],
         "type": "scatter3d",
         "x": [
          -18.036,
          -16.035,
          null,
          -16.035,
          -12.28,
          null,
          -12.28,
          -10.754,
          null,
          -10.754,
          -7.928,
          null,
          -7.928,
          -4.77,
          null,
          -4.77,
          -1.738,
          null,
          -1.738,
          1.607,
          null,
          1.607,
          4.862,
          null,
          4.862,
          5.9,
          null,
          5.9,
          6.366,
          null,
          6.366,
          5.439,
          null,
          5.439,
          4.09,
          null,
          4.09,
          0.756,
          null,
          0.756,
          -2.056,
          null,
          -2.056,
          -5.6,
          null,
          -5.6,
          -8.93,
          null,
          -8.93,
          -12.303,
          null,
          -12.303,
          -13.074,
          null,
          -13.074,
          -16.52,
          null,
          -16.52,
          -14.81,
          null,
          -14.81,
          -11.868,
          null,
          -11.868,
          -9.548,
          null,
          -9.548,
          -10.523,
          null,
          -10.523,
          -6.876,
          null,
          -6.876,
          -5.894,
          null,
          -5.894,
          -3.28,
          null,
          -3.28,
          0.195,
          null,
          0.195,
          -0.859,
          null,
          -0.859,
          -2.388,
          null,
          -2.388,
          -4.428,
          null,
          -4.428,
          -6.613,
          null,
          -6.613,
          -9.003,
          null,
          -9.003,
          -11.802,
          null,
          -11.802,
          -10.954,
          null,
          -10.954,
          -12.145,
          null,
          -12.145,
          -15.776,
          null,
          -15.776,
          -15.924,
          null,
          -15.924,
          -14.153,
          null,
          -14.153,
          -12.328,
          null,
          -12.328,
          -8.534,
          null,
          -8.534,
          -7.425,
          null,
          -7.425,
          -3.87,
          null,
          -3.87,
          -3.255,
          null,
          -3.255,
          0.252,
          null,
          0.252,
          1.766,
          null,
          1.766,
          5.146,
          null,
          5.146,
          6.584,
          null,
          6.584,
          6.764,
          null,
          6.764,
          10.61,
          null,
          10.61,
          11.273,
          null,
          11.273,
          13.83,
          null,
          13.83,
          12.077,
          null,
          12.077,
          12.629,
          null,
          12.629,
          10.706,
          null,
          10.706,
          8.317,
          null,
          8.317,
          4.797,
          null,
          4.797,
          1.728,
          null,
          1.728,
          -1.358,
          null,
          -1.358,
          -3.714,
          null,
          -3.714,
          -7.411,
          null,
          -7.411,
          -9.986,
          null,
          -9.986,
          -13.212,
          null,
          -13.212,
          -16.941,
          null,
          -16.941,
          -16.967,
          null,
          -16.967,
          -13.888,
          null,
          -13.888,
          -13.019,
          null,
          -13.019,
          -13.665,
          null,
          -13.665,
          -17.455,
          null,
          -17.455,
          -18.316,
          null,
          -18.316,
          -19.908,
          null,
          -19.908,
          -17.702,
          null,
          -17.702,
          -16.177,
          null,
          -16.177,
          -17.767,
          null,
          -17.767,
          -16.028,
          null,
          -16.028,
          -17.192,
          null,
          -17.192,
          -16.4,
          null,
          -16.4,
          -12.978,
          null,
          -12.978,
          -14.189,
          null,
          -14.189,
          -10.945,
          null,
          -10.945,
          -8.694,
          null,
          -8.694,
          -6.128,
          null,
          -6.128,
          -2.618,
          null,
          -2.618,
          -2.099,
          null,
          -2.099,
          0.946,
          null,
          0.946,
          1.392,
          null,
          1.392,
          -1.965,
          null,
          -1.965,
          -0.36,
          null,
          -0.36,
          2.8,
          null,
          2.8,
          5.812,
          null,
          5.812,
          5.947,
          null,
          5.947,
          9.106,
          null,
          9.106,
          7.403,
          null,
          7.403,
          6.745,
          null,
          6.745,
          3.076,
          null,
          3.076,
          1.054,
          null,
          1.054,
          -2.563,
          null,
          -2.563,
          -4.908,
          null,
          -4.908,
          -6.951,
          null,
          -6.951,
          -8.893,
          null,
          -8.893,
          -12.684,
          null,
          -12.684,
          -14.821,
          null,
          -14.821,
          -18.162,
          null,
          -18.162,
          -21.069,
          null,
          -21.069,
          -23.218,
          null,
          -23.218,
          -26.317,
          null,
          -26.317,
          -25.222,
          null,
          -25.222,
          -23.748,
          null,
          -23.748,
          -23.212,
          null,
          -23.212,
          -19.564,
          null,
          -19.564,
          -17.838,
          null,
          -17.838,
          -14.087,
          null,
          -14.087,
          -13.72,
          null,
          -13.72,
          -15.974,
          null,
          -15.974,
          -13.977,
          null,
          -13.977,
          -10.528,
          null,
          -10.528,
          -8.785,
          null,
          -8.785,
          -5.344,
          null,
          -5.344,
          -3.217,
          null,
          -3.217,
          0.083,
          null,
          0.083,
          2.146,
          null,
          2.146,
          4.979,
          null,
          4.979,
          6.061,
          null,
          6.061,
          4.122,
          null,
          4.122,
          1.365,
          null,
          1.365,
          1.115,
          null,
          1.115,
          4.808,
          null,
          4.808,
          3.961,
          null,
          3.961,
          6.575,
          null,
          6.575,
          5.961,
          null,
          5.961,
          3.714,
          null,
          3.714,
          0.619,
          null,
          0.619,
          -0.493,
          null,
          -0.493,
          -4.253,
          null,
          -4.253,
          -6.475,
          null,
          -6.475,
          -9.627,
          null,
          -9.627,
          -12.658,
          null,
          -12.658,
          -15.706,
          null,
          -15.706,
          -18.761,
          null,
          -18.761,
          -20.627,
          null,
          -20.627,
          -19.649,
          null,
          -19.649,
          -19.034,
          null,
          -19.034,
          -22.37,
          null,
          -22.37,
          -22.512,
          null,
          -22.512,
          -19.252,
          null,
          -19.252,
          -15.539,
          null,
          -15.539,
          -12.441,
          null,
          -12.441,
          -9.189,
          null,
          -9.189,
          -6.151,
          null,
          -6.151,
          -4.705,
          null,
          -4.705,
          -1.923,
          null,
          -1.923,
          -0.154,
          null,
          -0.154,
          -0.088,
          null,
          -0.088,
          -1.89,
          null,
          -1.89,
          -0.345,
          null,
          -0.345,
          -3.325,
          null,
          -3.325,
          -2.793,
          null,
          -2.793,
          -6.038,
          null,
          -6.038,
          -6.123,
          null,
          -6.123,
          -9.782,
          null,
          -9.782,
          -12.251,
          null,
          -12.251,
          -11.663,
          null,
          -11.663,
          -11.655,
          null,
          -11.655,
          -13.173,
          null,
          -13.173,
          -11.606,
          null,
          -11.606,
          -13.055,
          null,
          -13.055,
          -10.529,
          null,
          -10.529,
          -10.45,
          null,
          -10.45,
          -8.077,
          null,
          -8.077,
          -10.447,
          null,
          -10.447,
          -11.149,
          null,
          -11.149,
          -8.855,
          null,
          -8.855,
          -9.856,
          null,
          -9.856,
          -7.428,
          null,
          -7.428,
          -7.461,
          null,
          -7.461,
          -5.576,
          null,
          -5.576,
          -1.912,
          null,
          -1.912,
          -2.138,
          null,
          -2.138,
          -1.367,
          null,
          -1.367,
          -2.452,
          null,
          -2.452,
          -1.289,
          null,
          -1.289,
          -3.562,
          null,
          -3.562,
          -1.43,
          null,
          -1.43,
          -2.16,
          null,
          -2.16,
          -5.162,
          null,
          -5.162,
          -6.66,
          null,
          -6.66,
          -10.423,
          null,
          -10.423,
          -11.452,
          null,
          -11.452,
          -14.409,
          null,
          -14.409,
          -14.363,
          null,
          -14.363,
          -16.853,
          null,
          -16.853,
          -16.685,
          null,
          -16.685,
          -18.26,
          null,
          -18.26,
          -18.024,
          null,
          -18.024,
          -16.814,
          null,
          -16.814,
          -13.523,
          null,
          -13.523,
          -10.203,
          null,
          -10.203,
          -6.657,
          null,
          -6.657,
          -3.784,
          null,
          -3.784,
          -2.774,
          null,
          -2.774,
          0.617,
          null,
          0.617,
          0.154,
          null,
          0.154,
          3.281,
          null,
          3.281,
          3.191,
          null,
          3.191,
          4.548,
          null,
          4.548,
          6.336,
          null,
          6.336,
          5.586,
          null,
          5.586,
          6.446,
          null,
          6.446,
          9.279,
          null,
          9.279,
          11.081,
          null,
          11.081,
          14.298,
          null,
          14.298,
          17.74,
          null,
          17.74,
          18.761,
          null,
          18.761,
          22.506,
          null,
          22.506,
          24.42,
          null,
          24.42,
          21.106,
          null,
          21.106,
          21.522,
          null,
          21.522,
          18.747,
          null,
          18.747,
          16.097,
          null,
          16.097,
          14.71,
          null,
          14.71,
          12.471,
          null,
          12.471,
          9.333,
          null,
          9.333,
          9.904,
          null,
          9.904,
          8.449,
          null,
          8.449,
          6.339,
          null,
          6.339,
          4.161,
          null,
          4.161,
          2.767,
          null,
          2.767,
          -0.686,
          null,
          -0.686,
          -2.505,
          null,
          -2.505,
          -6.305,
          null,
          -6.305,
          -7.515,
          null,
          -7.515,
          -9.675,
          null,
          -9.675,
          -13.298,
          null,
          -13.298,
          -16.009,
          null,
          -16.009,
          -19.545,
          null,
          -19.545,
          -21.66,
          null,
          -21.66,
          -23.913,
          null,
          -23.913,
          -25.956,
          null,
          -25.956,
          -26.719,
          null,
          -26.719,
          -30.065,
          null,
          -30.065,
          -29.323,
          null,
          -29.323,
          -25.591,
          null,
          -25.591,
          -22.479,
          null,
          -22.479,
          -20.252,
          null,
          -20.252,
          -16.485,
          null,
          -16.485,
          -14.627,
          null,
          -14.627,
          -11.249,
          null,
          -11.249,
          -8.631,
          null,
          -8.631,
          -6.798,
          null,
          -6.798,
          -4.202,
          null,
          -4.202,
          -5.414,
          null,
          -5.414,
          -9.01,
          null,
          -9.01,
          -12.053,
          null,
          -12.053,
          -14.166,
          null,
          -14.166,
          -17.11,
          null,
          -17.11,
          -18.283,
          null,
          -18.283,
          -21.341,
          null,
          -21.341,
          -21.324,
          null,
          -21.324,
          -24.155,
          null,
          -24.155,
          -22.286,
          null,
          -22.286,
          -19.895,
          null,
          -19.895,
          -16.169,
          null,
          -16.169,
          -15.367,
          null,
          -15.367,
          -16.126,
          null,
          -16.126,
          -12.618,
          null,
          -12.618,
          -13.083,
          null,
          -13.083,
          -9.347,
          null,
          -9.347,
          -6.049,
          null,
          -6.049,
          -2.279,
          null,
          -2.279,
          0.516,
          null,
          0.516,
          2.935,
          null,
          2.935,
          0.915,
          null,
          0.915,
          -1.587,
          null,
          -1.587,
          -3.046,
          null,
          -3.046,
          -1.516,
          null,
          -1.516,
          -1.761,
          null,
          -1.761,
          0.87,
          null,
          0.87,
          0.523,
          null,
          0.523,
          2.928,
          null,
          2.928,
          3.107,
          null,
          3.107,
          5.204,
          null,
          5.204,
          8.005,
          null,
          8.005,
          11.34,
          null,
          11.34,
          12.733,
          null,
          12.733,
          16.499,
          null,
          16.499,
          18.314,
          null,
          18.314,
          21.344,
          null,
          21.344,
          22.297,
          null,
          22.297,
          25.216,
          null,
          25.216,
          25.171,
          null,
          25.171,
          23.958,
          null,
          23.958,
          20.611,
          null,
          20.611,
          20.351,
          null,
          20.351,
          19.047,
          null,
          19.047,
          15.224,
          null,
          15.224,
          15.741,
          null,
          15.741,
          16.456,
          null,
          16.456,
          12.624,
          null,
          12.624,
          11.717,
          null,
          11.717,
          8.818,
          null,
          8.818,
          8.381,
          null,
          8.381,
          10.252,
          null,
          10.252,
          9.401,
          null,
          9.401,
          12.284,
          null,
          12.284,
          12.685,
          null,
          12.685,
          14.136,
          null,
          14.136,
          17.451,
          null,
          17.451,
          19.45,
          null,
          19.45,
          19.795,
          null,
          19.795,
          17.062,
          null,
          17.062,
          13.539,
          null,
          13.539,
          10.569,
          null,
          10.569,
          9.062,
          null,
          9.062,
          9.887,
          null,
          9.887,
          7.23,
          null,
          7.23,
          8.937,
          null,
          8.937,
          7.409,
          null,
          7.409,
          8.161,
          null,
          8.161,
          7.032,
          null,
          7.032,
          7.128,
          null,
          7.128,
          10.841,
          null,
          10.841,
          13.648,
          null,
          13.648,
          15.721,
          null,
          15.721,
          19.142,
          null,
          19.142,
          21.688,
          null,
          21.688,
          24.088,
          null,
          24.088,
          25.533,
          null,
          25.533,
          23.257,
          null,
          23.257,
          20.62,
          null,
          20.62,
          17.928,
          null,
          17.928,
          15.278,
          null,
          15.278,
          15.711,
          null,
          15.711,
          18.664,
          null,
          18.664,
          18.259,
          null,
          18.259,
          18.004,
          null,
          18.004,
          18.035,
          null,
          18.035,
          17.839,
          null,
          17.839,
          17.35,
          null,
          17.35,
          13.987,
          null,
          13.987,
          10.559,
          null,
          10.559,
          8.956,
          null,
          8.956,
          5.218,
          null,
          5.218,
          4.579,
          null,
          4.579,
          1.306,
          null,
          1.306,
          -0.023,
          null,
          -0.023,
          -2.112,
          null,
          -2.112,
          -2.445,
          null,
          -2.445,
          -0.847,
          null,
          -0.847,
          1.636,
          null,
          1.636,
          4.855,
          null,
          4.855,
          7.956,
          null,
          7.956,
          9.434,
          null,
          9.434,
          6.17,
          null,
          6.17,
          4.603,
          null,
          4.603,
          1.086,
          null,
          1.086,
          -0.354,
          null,
          -0.354,
          0.452,
          null,
          0.452,
          -2.613,
          null,
          -2.613,
          -3.915,
          null,
          -3.915,
          -5.373,
          null,
          -5.373,
          -3.334,
          null,
          -3.334,
          -0.091,
          null,
          -0.091,
          3.016,
          null,
          3.016,
          5.057,
          null,
          5.057,
          8.718,
          null,
          8.718,
          9.894,
          null,
          9.894,
          13.318,
          null,
          13.318,
          16.234,
          null,
          16.234,
          13.834,
          null,
          13.834,
          15.356,
          null,
          15.356,
          13.418,
          null,
          13.418,
          14,
          null,
          14,
          12.779,
          null,
          12.779,
          10.748,
          null,
          10.748,
          12.241,
          null,
          12.241,
          10.575,
          null,
          10.575,
          11.827,
          null,
          11.827,
          15.384,
          null,
          15.384,
          15.413,
          null,
          15.413,
          14.043,
          null,
          14.043,
          16.343,
          null,
          16.343,
          19.486,
          null,
          19.486,
          18.968,
          null,
          18.968,
          17.474,
          null,
          17.474,
          19.498,
          null,
          19.498,
          19.804,
          null,
          19.804,
          18.585,
          null,
          18.585,
          16.899,
          null,
          16.899,
          13.374,
          null,
          13.374,
          10.343,
          null,
          10.343,
          9.577,
          null,
          9.577,
          6.356,
          null,
          6.356,
          4.394,
          null,
          4.394,
          0.737,
          null,
          0.737,
          1.972,
          null,
          1.972,
          2.433,
          null,
          2.433,
          3.709,
          null,
          3.709,
          4.923,
          null,
          4.923,
          6.555,
          null,
          6.555,
          6.106,
          null,
          6.106,
          9.487,
          null,
          9.487,
          10.083,
          null,
          10.083,
          13.092,
          null,
          13.092,
          10.778,
          null,
          10.778,
          9.599,
          null,
          9.599,
          5.969,
          null,
          5.969,
          3.693,
          null,
          3.693,
          0.474,
          null,
          0.474,
          -2.912,
          null,
          -2.912,
          -5.534,
          null,
          -5.534,
          -7.46,
          null,
          -7.46,
          -4.399,
          null,
          -4.399,
          -3.411,
          null,
          -3.411,
          -6.858,
          null,
          -6.858,
          -10.034,
          null,
          -10.034,
          -9.294,
          null,
          -9.294,
          -9.313,
          null,
          -9.313,
          -6.935,
          null,
          -6.935,
          -3.701,
          null,
          -3.701,
          -2.007,
          null,
          -2.007,
          -0.721,
          null,
          -0.721,
          1.366,
          null,
          1.366,
          3.522,
          null,
          3.522,
          6.804,
          null,
          6.804,
          6.284,
          null,
          6.284,
          7.308,
          null,
          7.308,
          11.009,
          null,
          11.009,
          10.923,
          null,
          10.923,
          11.739,
          null,
          11.739,
          15.126,
          null,
          15.126,
          18.177,
          null,
          18.177,
          21.937,
          null,
          21.937,
          23.604,
          null,
          23.604,
          27.097,
          null,
          27.097,
          29.81,
          null,
          29.81,
          32.927,
          null,
          32.927,
          35.305,
          null,
          35.305,
          34.016,
          null,
          34.016,
          34.391,
          null,
          34.391,
          32.901,
          null,
          32.901,
          30.359,
          null,
          30.359,
          30.601,
          null,
          30.601,
          27.816,
          null,
          27.816,
          24.982,
          null,
          24.982,
          25.834,
          null
         ],
         "y": [
          20.589,
          23.108,
          null,
          23.108,
          22.689,
          null,
          22.689,
          20.445,
          null,
          20.445,
          21.799,
          null,
          21.799,
          19.861,
          null,
          19.861,
          19.865,
          null,
          19.865,
          19.463,
          null,
          19.463,
          17.574,
          null,
          17.574,
          13.909,
          null,
          13.909,
          12.177,
          null,
          12.177,
          15.3,
          null,
          15.3,
          15.207,
          null,
          15.207,
          16.843,
          null,
          16.843,
          18.174,
          null,
          18.174,
          18.66,
          null,
          18.66,
          19.61,
          null,
          19.61,
          19.743,
          null,
          19.743,
          23.524,
          null,
          23.524,
          22.908,
          null,
          22.908,
          21.792,
          null,
          21.792,
          24.16,
          null,
          24.16,
          22.874,
          null,
          22.874,
          19.219,
          null,
          19.219,
          18.113,
          null,
          18.113,
          17.745,
          null,
          17.745,
          20.353,
          null,
          20.353,
          19.05,
          null,
          19.05,
          15.326,
          null,
          15.326,
          12.419,
          null,
          12.419,
          10.626,
          null,
          10.626,
          13.094,
          null,
          13.094,
          11.552,
          null,
          11.552,
          13.275,
          null,
          13.275,
          14.408,
          null,
          14.408,
          17.756,
          null,
          17.756,
          17.372,
          null,
          17.372,
          13.995,
          null,
          13.995,
          12.237,
          null,
          12.237,
          8.881,
          null,
          8.881,
          8.898,
          null,
          8.898,
          6.054,
          null,
          6.054,
          5.341,
          null,
          5.341,
          3.881,
          null,
          3.881,
          2.31,
          null,
          2.31,
          1.895,
          null,
          1.895,
          0.65,
          null,
          0.65,
          -1.236,
          null,
          -1.236,
          1.042,
          null,
          1.042,
          0.805,
          null,
          0.805,
          1.837,
          null,
          1.837,
          4.709,
          null,
          4.709,
          8.136,
          null,
          8.136,
          8.414,
          null,
          8.414,
          5.116,
          null,
          5.116,
          5.241,
          null,
          5.241,
          5.713,
          null,
          5.713,
          6.509,
          null,
          6.509,
          8.724,
          null,
          8.724,
          9.675,
          null,
          9.675,
          9.922,
          null,
          9.922,
          11.833,
          null,
          11.833,
          10.144,
          null,
          10.144,
          10.089,
          null,
          10.089,
          6.268,
          null,
          6.268,
          3.973,
          null,
          3.973,
          1.533,
          null,
          1.533,
          -1.479,
          null,
          -1.479,
          -0.752,
          null,
          -0.752,
          -3.326,
          null,
          -3.326,
          -6.806,
          null,
          -6.806,
          -9.906,
          null,
          -9.906,
          -10.238,
          null,
          -10.238,
          -12.77,
          null,
          -12.77,
          -14.206,
          null,
          -14.206,
          -12.91,
          null,
          -12.91,
          -13.859,
          null,
          -13.859,
          -12.509,
          null,
          -12.509,
          -12.087,
          null,
          -12.087,
          -11.543,
          null,
          -11.543,
          -10.61,
          null,
          -10.61,
          -13.455,
          null,
          -13.455,
          -14.176,
          null,
          -14.176,
          -17.801,
          null,
          -17.801,
          -17.265,
          null,
          -17.265,
          -21.093,
          null,
          -21.093,
          -21.362,
          null,
          -21.362,
          -20.728,
          null,
          -20.728,
          -22.4,
          null,
          -22.4,
          -20.022,
          null,
          -20.022,
          -18.355,
          null,
          -18.355,
          -16.28,
          null,
          -16.28,
          -14.799,
          null,
          -14.799,
          -11.077,
          null,
          -11.077,
          -10.274,
          null,
          -10.274,
          -7.284,
          null,
          -7.284,
          -6.346,
          null,
          -6.346,
          -4.065,
          null,
          -4.065,
          -1.629,
          null,
          -1.629,
          -3.627,
          null,
          -3.627,
          -3.648,
          null,
          -3.648,
          -1.663,
          null,
          -1.663,
          -3.389,
          null,
          -3.389,
          -1.283,
          null,
          -1.283,
          0.291,
          null,
          0.291,
          -0.798,
          null,
          -0.798,
          -4.498,
          null,
          -4.498,
          -4.699,
          null,
          -4.699,
          -2.191,
          null,
          -2.191,
          -2.584,
          null,
          -2.584,
          -0.349,
          null,
          -0.349,
          -0.025,
          null,
          -0.025,
          -3.14,
          null,
          -3.14,
          -5.393,
          null,
          -5.393,
          -4.227,
          null,
          -4.227,
          -5.263,
          null,
          -5.263,
          -7.733,
          null,
          -7.733,
          -9.067,
          null,
          -9.067,
          -9.104,
          null,
          -9.104,
          -10.464,
          null,
          -10.464,
          -10.637,
          null,
          -10.637,
          -12.351,
          null,
          -12.351,
          -13.459,
          null,
          -13.459,
          -14.953,
          null,
          -14.953,
          -12.718,
          null,
          -12.718,
          -14.996,
          null,
          -14.996,
          -14.199,
          null,
          -14.199,
          -10.464,
          null,
          -10.464,
          -10.293,
          null,
          -10.293,
          -9.472,
          null,
          -9.472,
          -7.392,
          null,
          -7.392,
          -7.559,
          null,
          -7.559,
          -5.529,
          null,
          -5.529,
          -4.96,
          null,
          -4.96,
          -3.365,
          null,
          -3.365,
          -1.638,
          null,
          -1.638,
          -1.733,
          null,
          -1.733,
          0.056,
          null,
          0.056,
          2.179,
          null,
          2.179,
          2.896,
          null,
          2.896,
          4.651,
          null,
          4.651,
          2.615,
          null,
          2.615,
          2.933,
          null,
          2.933,
          2.534,
          null,
          2.534,
          0.552,
          null,
          0.552,
          1.124,
          null,
          1.124,
          -0.964,
          null,
          -0.964,
          -1.368,
          null,
          -1.368,
          -3.442,
          null,
          -3.442,
          -5.503,
          null,
          -5.503,
          -6.903,
          null,
          -6.903,
          -3.793,
          null,
          -3.793,
          -0.339,
          null,
          -0.339,
          0.584,
          null,
          0.584,
          2.948,
          null,
          2.948,
          3.861,
          null,
          3.861,
          5.196,
          null,
          5.196,
          6.479,
          null,
          6.479,
          6.066,
          null,
          6.066,
          6.882,
          null,
          6.882,
          8.649,
          null,
          8.649,
          10.737,
          null,
          10.737,
          9.15,
          null,
          9.15,
          11.006,
          null,
          11.006,
          9.093,
          null,
          9.093,
          9.368,
          null,
          9.368,
          8.326,
          null,
          8.326,
          8.53,
          null,
          8.53,
          11.537,
          null,
          11.537,
          13.402,
          null,
          13.402,
          13.622,
          null,
          13.622,
          13.404,
          null,
          13.404,
          14.002,
          null,
          14.002,
          12.004,
          null,
          12.004,
          12.517,
          null,
          12.517,
          10.739,
          null,
          10.739,
          11.945,
          null,
          11.945,
          12.046,
          null,
          12.046,
          9.117,
          null,
          9.117,
          8.412,
          null,
          8.412,
          6.106,
          null,
          6.106,
          4.538,
          null,
          4.538,
          2.831,
          null,
          2.831,
          -0.469,
          null,
          -0.469,
          -0.518,
          null,
          -0.518,
          2.867,
          null,
          2.867,
          2.731,
          null,
          2.731,
          4.349,
          null,
          4.349,
          4.604,
          null,
          4.604,
          5.713,
          null,
          5.713,
          7.799,
          null,
          7.799,
          7.552,
          null,
          7.552,
          9.81,
          null,
          9.81,
          7.566,
          null,
          7.566,
          4.162,
          null,
          4.162,
          4.162,
          null,
          4.162,
          2.323,
          null,
          2.323,
          2.356,
          null,
          2.356,
          0.46,
          null,
          0.46,
          -0.489,
          null,
          -0.489,
          -1.505,
          null,
          -1.505,
          -3.344,
          null,
          -3.344,
          -3.931,
          null,
          -3.931,
          -6.349,
          null,
          -6.349,
          -5.418,
          null,
          -5.418,
          -2.194,
          null,
          -2.194,
          1.49,
          null,
          1.49,
          3.611,
          null,
          3.611,
          6.159,
          null,
          6.159,
          8.796,
          null,
          8.796,
          7.455,
          null,
          7.455,
          8.456,
          null,
          8.456,
          11.266,
          null,
          11.266,
          10.394,
          null,
          10.394,
          12.901,
          null,
          12.901,
          14.738,
          null,
          14.738,
          16.202,
          null,
          16.202,
          17.913,
          null,
          17.913,
          18.739,
          null,
          18.739,
          16.996,
          null,
          16.996,
          14.126,
          null,
          14.126,
          14.015,
          null,
          14.015,
          17.072,
          null,
          17.072,
          16.408,
          null,
          16.408,
          19.649,
          null,
          19.649,
          18.402,
          null,
          18.402,
          15.424,
          null,
          15.424,
          16.47,
          null,
          16.47,
          15.087,
          null,
          15.087,
          15.565,
          null,
          15.565,
          17.91,
          null,
          17.91,
          16.413,
          null,
          16.413,
          15.823,
          null,
          15.823,
          13.837,
          null,
          13.837,
          12.578,
          null,
          12.578,
          11.826,
          null,
          11.826,
          9.474,
          null,
          9.474,
          6.599,
          null,
          6.599,
          4.008,
          null,
          4.008,
          2.143,
          null,
          2.143,
          -1.558,
          null,
          -1.558,
          -1.085,
          null,
          -1.085,
          0.351,
          null,
          0.351,
          -2.426,
          null,
          -2.426,
          -2.497,
          null,
          -2.497,
          -4.69,
          null,
          -4.69,
          -6.04,
          null,
          -6.04,
          -7.614,
          null,
          -7.614,
          -9.97,
          null,
          -9.97,
          -12.579,
          null,
          -12.579,
          -11.872,
          null,
          -11.872,
          -12.971,
          null,
          -12.971,
          -10.683,
          null,
          -10.683,
          -10.24,
          null,
          -10.24,
          -7.97,
          null,
          -7.97,
          -6.565,
          null,
          -6.565,
          -4.36,
          null,
          -4.36,
          -1.246,
          null,
          -1.246,
          1.236,
          null,
          1.236,
          4.431,
          null,
          4.431,
          5.679,
          null,
          5.679,
          4.945,
          null,
          4.945,
          8.495,
          null,
          8.495,
          9.926,
          null,
          9.926,
          11.334,
          null,
          11.334,
          15.006,
          null,
          15.006,
          15.652,
          null,
          15.652,
          13.822,
          null,
          13.822,
          14.297,
          null,
          14.297,
          12.055,
          null,
          12.055,
          11.051,
          null,
          11.051,
          7.988,
          null,
          7.988,
          9.485,
          null,
          9.485,
          8.909,
          null,
          8.909,
          11.198,
          null,
          11.198,
          12.23,
          null,
          12.23,
          13.475,
          null,
          13.475,
          15.152,
          null,
          15.152,
          13.553,
          null,
          13.553,
          16.904,
          null,
          16.904,
          18.319,
          null,
          18.319,
          15.73,
          null,
          15.73,
          17.549,
          null,
          17.549,
          15.388,
          null,
          15.388,
          14.661,
          null,
          14.661,
          13.195,
          null,
          13.195,
          13.388,
          null,
          13.388,
          16.944,
          null,
          16.944,
          15.814,
          null,
          15.814,
          12.183,
          null,
          12.183,
          8.583,
          null,
          8.583,
          7.304,
          null,
          7.304,
          7.447,
          null,
          7.447,
          4.404,
          null,
          4.404,
          4.518,
          null,
          4.518,
          4.52,
          null,
          4.52,
          8.282,
          null,
          8.282,
          8.567,
          null,
          8.567,
          6.862,
          null,
          6.862,
          8.682,
          null,
          8.682,
          6.256,
          null,
          6.256,
          3.108,
          null,
          3.108,
          0.261,
          null,
          0.261,
          -1.637,
          null,
          -1.637,
          -5.427,
          null,
          -5.427,
          -7.463,
          null,
          -7.463,
          -7.348,
          null,
          -7.348,
          -4.083,
          null,
          -4.083,
          -1.925,
          null,
          -1.925,
          -3.927,
          null,
          -3.927,
          -2.524,
          null,
          -2.524,
          -4.918,
          null,
          -4.918,
          -2.41,
          null,
          -2.41,
          0.945,
          null,
          0.945,
          3.247,
          null,
          3.247,
          4.863,
          null,
          4.863,
          7.354,
          null,
          7.354,
          8.38,
          null,
          8.38,
          12.039,
          null,
          12.039,
          14.895,
          null,
          14.895,
          15.892,
          null,
          15.892,
          17.361,
          null,
          17.361,
          14.956,
          null,
          14.956,
          16.577,
          null,
          16.577,
          13.703,
          null,
          13.703,
          14.175,
          null,
          14.175,
          11.266,
          null,
          11.266,
          8.958,
          null,
          8.958,
          6.327,
          null,
          6.327,
          8.234,
          null,
          8.234,
          5.463,
          null,
          5.463,
          2.937,
          null,
          2.937,
          0.579,
          null,
          0.579,
          -3.16,
          null,
          -3.16,
          -4.606,
          null,
          -4.606,
          -7.704,
          null,
          -7.704,
          -7.263,
          null,
          -7.263,
          -8.883,
          null,
          -8.883,
          -7.087,
          null,
          -7.087,
          -7.847,
          null,
          -7.847,
          -4.836,
          null,
          -4.836,
          -4.093,
          null,
          -4.093,
          -1.083,
          null,
          -1.083,
          0.912,
          null,
          0.912,
          3.905,
          null,
          3.905,
          6.738,
          null,
          6.738,
          8.863,
          null,
          8.863,
          9.493,
          null,
          9.493,
          7.153,
          null,
          7.153,
          5.48,
          null,
          5.48,
          6.28,
          null,
          6.28,
          2.731,
          null,
          2.731,
          1.126,
          null,
          1.126,
          2.237,
          null,
          2.237,
          0.799,
          null,
          0.799,
          -1.924,
          null,
          -1.924,
          -0.201,
          null,
          -0.201,
          2.027,
          null,
          2.027,
          4.011,
          null,
          4.011,
          1.472,
          null,
          1.472,
          -1.48,
          null,
          -1.48,
          -2.97,
          null,
          -2.97,
          -5.062,
          null,
          -5.062,
          -7.471,
          null,
          -7.471,
          -8.297,
          null,
          -8.297,
          -11.223,
          null,
          -11.223,
          -11.465,
          null,
          -11.465,
          -11.581,
          null,
          -11.581,
          -11.619,
          null,
          -11.619,
          -9.549,
          null,
          -9.549,
          -6.366,
          null,
          -6.366,
          -2.974,
          null,
          -2.974,
          -0.712,
          null,
          -0.712,
          -2.24,
          null,
          -2.24,
          -2.415,
          null,
          -2.415,
          0.854,
          null,
          0.854,
          2.744,
          null,
          2.744,
          1.41,
          null,
          1.41,
          2.401,
          null,
          2.401,
          5.943,
          null,
          5.943,
          6.685,
          null,
          6.685,
          5.416,
          null,
          5.416,
          7.86,
          null,
          7.86,
          11.05,
          null,
          11.05,
          14.287,
          null,
          14.287,
          14.903,
          null,
          14.903,
          18.255,
          null,
          18.255,
          19.3,
          null,
          19.3,
          17.795,
          null,
          17.795,
          17.587,
          null,
          17.587,
          13.962,
          null,
          13.962,
          12.492,
          null,
          12.492,
          15.818,
          null,
          15.818,
          14.727,
          null,
          14.727,
          11.281,
          null,
          11.281,
          9.67,
          null,
          9.67,
          6.067,
          null,
          6.067,
          4.393,
          null,
          4.393,
          1.199,
          null,
          1.199,
          -0.962,
          null,
          -0.962,
          -2.731,
          null,
          -2.731,
          -5.543,
          null,
          -5.543,
          -7.533,
          null,
          -7.533,
          -10.6,
          null,
          -10.6,
          -12.428,
          null,
          -12.428,
          -11.297,
          null,
          -11.297,
          -14.298,
          null,
          -14.298,
          -13.696,
          null,
          -13.696,
          -14.788,
          null,
          -14.788,
          -16.902,
          null,
          -16.902,
          -13.639,
          null,
          -13.639,
          -11.797,
          null,
          -11.797,
          -14.625,
          null,
          -14.625,
          -15.676,
          null,
          -15.676,
          -14.312,
          null,
          -14.312,
          -10.626,
          null,
          -10.626,
          -11.514,
          null,
          -11.514,
          -8.524,
          null,
          -8.524,
          -10.411,
          null,
          -10.411,
          -9.676,
          null,
          -9.676,
          -13.056,
          null,
          -13.056,
          -11.222,
          null,
          -11.222,
          -9.095,
          null,
          -9.095,
          -10.879,
          null,
          -10.879,
          -9.87,
          null,
          -9.87,
          -6.213,
          null,
          -6.213,
          -7.341,
          null,
          -7.341,
          -9.931,
          null,
          -9.931,
          -7.258,
          null,
          -7.258,
          -6.402,
          null,
          -6.402,
          -7.121,
          null,
          -7.121,
          -7.404,
          null,
          -7.404,
          -4.131,
          null,
          -4.131,
          -5.507,
          null,
          -5.507,
          -4.518,
          null,
          -4.518,
          -6.54,
          null,
          -6.54,
          -4.613,
          null,
          -4.613,
          -1.059,
          null,
          -1.059,
          0.392,
          null,
          0.392,
          3.679,
          null,
          3.679,
          3.03,
          null,
          3.03,
          5.955,
          null,
          5.955,
          8.498,
          null,
          8.498,
          7.914,
          null,
          7.914,
          10.507,
          null
         ],
         "z": [
          0.604,
          2.647,
          null,
          2.647,
          2.012,
          null,
          2.012,
          4.725,
          null,
          4.725,
          6.95,
          null,
          6.95,
          7.837,
          null,
          7.837,
          10.125,
          null,
          10.125,
          8.24,
          null,
          8.24,
          9.018,
          null,
          9.018,
          8.602,
          null,
          8.602,
          12.003,
          null,
          12.003,
          14.067,
          null,
          14.067,
          17.61,
          null,
          17.61,
          16.68,
          null,
          16.68,
          18.915,
          null,
          18.915,
          17.565,
          null,
          17.565,
          19.182,
          null,
          19.182,
          17.419,
          null,
          17.419,
          17.217,
          null,
          17.217,
          18.864,
          null,
          18.864,
          22.144,
          null,
          22.144,
          22.991,
          null,
          22.991,
          25.787,
          null,
          25.787,
          25.103,
          null,
          25.103,
          25.527,
          null,
          25.527,
          29.219,
          null,
          29.219,
          30.186,
          null,
          30.186,
          31.231,
          null,
          31.231,
          31.497,
          null,
          31.497,
          29.476,
          null,
          29.476,
          32.218,
          null,
          32.218,
          34.23,
          null,
          34.23,
          36.796,
          null,
          36.796,
          34.804,
          null,
          34.804,
          31.252,
          null,
          31.252,
          29.843,
          null,
          29.843,
          28.654,
          null,
          28.654,
          30.586,
          null,
          30.586,
          27.668,
          null,
          27.668,
          27.86,
          null,
          27.86,
          27.456,
          null,
          27.456,
          25.121,
          null,
          25.121,
          23.897,
          null,
          23.897,
          20.425,
          null,
          20.425,
          20.487,
          null,
          20.487,
          16.977,
          null,
          16.977,
          18.355,
          null,
          18.355,
          21.332,
          null,
          21.332,
          24.43,
          null,
          24.43,
          24.622,
          null,
          24.622,
          20.99,
          null,
          20.99,
          20.67,
          null,
          20.67,
          20.564,
          null,
          20.564,
          16.737,
          null,
          16.737,
          16.124,
          null,
          16.124,
          19.127,
          null,
          19.127,
          17.621,
          null,
          17.621,
          19.778,
          null,
          19.778,
          19.975,
          null,
          19.975,
          22.817,
          null,
          22.817,
          21.887,
          null,
          21.887,
          23.994,
          null,
          23.994,
          22.895,
          null,
          22.895,
          23.79,
          null,
          23.79,
          24.214,
          null,
          24.214,
          24.446,
          null,
          24.446,
          21.59,
          null,
          21.59,
          23.933,
          null,
          23.933,
          23.826,
          null,
          23.826,
          21.098,
          null,
          21.098,
          20.771,
          null,
          20.771,
          20.144,
          null,
          20.144,
          16.654,
          null,
          16.654,
          14.258,
          null,
          14.258,
          11.138,
          null,
          11.138,
          7.72,
          null,
          7.72,
          4.097,
          null,
          4.097,
          2.989,
          null,
          2.989,
          -0.639,
          null,
          -0.639,
          -2.628,
          null,
          -2.628,
          0.34,
          null,
          0.34,
          0.478,
          null,
          0.478,
          1.8,
          null,
          1.8,
          0.672,
          null,
          0.672,
          -1.586,
          null,
          -1.586,
          -1.856,
          null,
          -1.856,
          -3.748,
          null,
          -3.748,
          -7.206,
          null,
          -7.206,
          -8.541,
          null,
          -8.541,
          -8.945,
          null,
          -8.945,
          -12.409,
          null,
          -12.409,
          -13.319,
          null,
          -13.319,
          -16.428,
          null,
          -16.428,
          -16.701,
          null,
          -16.701,
          -15.954,
          null,
          -15.954,
          -17.244,
          null,
          -17.244,
          -16.489,
          null,
          -16.489,
          -18.449,
          null,
          -18.449,
          -16.266,
          null,
          -16.266,
          -13.647,
          null,
          -13.647,
          -14.24,
          null,
          -14.24,
          -11.745,
          null,
          -11.745,
          -10.894,
          null,
          -10.894,
          -12.251,
          null,
          -12.251,
          -9.486,
          null,
          -9.486,
          -11.524,
          null,
          -11.524,
          -11.249,
          null,
          -11.249,
          -7.708,
          null,
          -7.708,
          -4.882,
          null,
          -4.882,
          -3.785,
          null,
          -3.785,
          -1.234,
          null,
          -1.234,
          -0.516,
          null,
          -0.516,
          1.761,
          null,
          1.761,
          -0.358,
          null,
          -0.358,
          -3.425,
          null,
          -3.425,
          -2.041,
          null,
          -2.041,
          -4.375,
          null,
          -4.375,
          -3.381,
          null,
          -3.381,
          -6.569,
          null,
          -6.569,
          -5.21,
          null,
          -5.21,
          -2.007,
          null,
          -2.007,
          -0.154,
          null,
          -0.154,
          3.348,
          null,
          3.348,
          6.287,
          null,
          6.287,
          7.7,
          null,
          7.7,
          10.818,
          null,
          10.818,
          11.504,
          null,
          11.504,
          10.934,
          null,
          10.934,
          8.091,
          null,
          8.091,
          4.402,
          null,
          4.402,
          2.153,
          null,
          2.153,
          -0.057,
          null,
          -0.057,
          -3.081,
          null,
          -3.081,
          -3.408,
          null,
          -3.408,
          -6.051,
          null,
          -6.051,
          -4.753,
          null,
          -4.753,
          -7.12,
          null,
          -7.12,
          -5.645,
          null,
          -5.645,
          -6.556,
          null,
          -6.556,
          -3.248,
          null,
          -3.248,
          0.016,
          null,
          0.016,
          3.176,
          null,
          3.176,
          5.067,
          null,
          5.067,
          8.903,
          null,
          8.903,
          8.847,
          null,
          8.847,
          9.326,
          null,
          9.326,
          8.714,
          null,
          8.714,
          10.592,
          null,
          10.592,
          9.686,
          null,
          9.686,
          12.58,
          null,
          12.58,
          10.293,
          null,
          10.293,
          8.96,
          null,
          8.96,
          7.375,
          null,
          7.375,
          4.129,
          null,
          4.129,
          1.579,
          null,
          1.579,
          -0.672,
          null,
          -0.672,
          -4.242,
          null,
          -4.242,
          -5.893,
          null,
          -5.893,
          -9.694,
          null,
          -9.694,
          -10.55,
          null,
          -10.55,
          -8.228,
          null,
          -8.228,
          -5.1,
          null,
          -5.1,
          -1.612,
          null,
          -1.612,
          1.36,
          null,
          1.36,
          4.268,
          null,
          4.268,
          7.783,
          null,
          7.783,
          10.449,
          null,
          10.449,
          14.264,
          null,
          14.264,
          13.728,
          null,
          13.728,
          11.34,
          null,
          11.34,
          7.577,
          null,
          7.577,
          4.533,
          null,
          4.533,
          0.903,
          null,
          0.903,
          -1.336,
          null,
          -1.336,
          -5.119,
          null,
          -5.119,
          -7.949,
          null,
          -7.949,
          -7.842,
          null,
          -7.842,
          -4.017,
          null,
          -4.017,
          -1.675,
          null,
          -1.675,
          1.883,
          null,
          1.883,
          4.672,
          null,
          4.672,
          7.279,
          null,
          7.279,
          9.898,
          null,
          9.898,
          11.73,
          null,
          11.73,
          14.107,
          null,
          14.107,
          13.013,
          null,
          13.013,
          12.26,
          null,
          12.26,
          8.97,
          null,
          8.97,
          6.54,
          null,
          6.54,
          2.872,
          null,
          2.872,
          0.939,
          null,
          0.939,
          -2.881,
          null,
          -2.881,
          -5.53,
          null,
          -5.53,
          -8.642,
          null,
          -8.642,
          -9.88,
          null,
          -9.88,
          -7.961,
          null,
          -7.961,
          -8.509,
          null,
          -8.509,
          -7.173,
          null,
          -7.173,
          -5.579,
          null,
          -5.579,
          -2.018,
          null,
          -2.018,
          -0.689,
          null,
          -0.689,
          2.627,
          null,
          2.627,
          4.796,
          null,
          4.796,
          7.769,
          null,
          7.769,
          11.219,
          null,
          11.219,
          10.033,
          null,
          10.033,
          9.241,
          null,
          9.241,
          6.199,
          null,
          6.199,
          6.686,
          null,
          6.686,
          4.576,
          null,
          4.576,
          2.923,
          null,
          2.923,
          4.201,
          null,
          4.201,
          1.798,
          null,
          1.798,
          1.882,
          null,
          1.882,
          -0.374,
          null,
          -0.374,
          -1.201,
          null,
          -1.201,
          2.342,
          null,
          2.342,
          4.361,
          null,
          4.361,
          1.658,
          null,
          1.658,
          -1.471,
          null,
          -1.471,
          -2.653,
          null,
          -2.653,
          -0.426,
          null,
          -0.426,
          1.832,
          null,
          1.832,
          5.378,
          null,
          5.378,
          5.353,
          null,
          5.353,
          2.449,
          null,
          2.449,
          4.46,
          null,
          4.46,
          5.718,
          null,
          5.718,
          8.814,
          null,
          8.814,
          9.367,
          null,
          9.367,
          12.142,
          null,
          12.142,
          14.927,
          null,
          14.927,
          13.921,
          null,
          13.921,
          15.695,
          null,
          15.695,
          15.213,
          null,
          15.213,
          18.288,
          null,
          18.288,
          16.312,
          null,
          16.312,
          17.674,
          null,
          17.674,
          14.945,
          null,
          14.945,
          15.071,
          null,
          15.071,
          14.293,
          null,
          14.293,
          15.188,
          null,
          15.188,
          13.502,
          null,
          13.502,
          12.016,
          null,
          12.016,
          12.756,
          null,
          12.756,
          10.23,
          null,
          10.23,
          11.403,
          null,
          11.403,
          9.126,
          null,
          9.126,
          11.545,
          null,
          11.545,
          10.458,
          null,
          10.458,
          6.886,
          null,
          6.886,
          7.762,
          null,
          7.762,
          8.024,
          null,
          8.024,
          11.162,
          null,
          11.162,
          12.058,
          null,
          12.058,
          15.423,
          null,
          15.423,
          16.142,
          null,
          16.142,
          18.375,
          null,
          18.375,
          19.166,
          null,
          19.166,
          18.078,
          null,
          18.078,
          15.395,
          null,
          15.395,
          16.106,
          null,
          16.106,
          14.777,
          null,
          14.777,
          18.25,
          null,
          18.25,
          19.082,
          null,
          19.082,
          20.092,
          null,
          20.092,
          20.604,
          null,
          20.604,
          20.129,
          null,
          20.129,
          20.434,
          null,
          20.434,
          19.136,
          null,
          19.136,
          16.397,
          null,
          16.397,
          15.207,
          null,
          15.207,
          12.729,
          null,
          12.729,
          9.252,
          null,
          9.252,
          6.595,
          null,
          6.595,
          2.915,
          null,
          2.915,
          0.438,
          null,
          0.438,
          -2.989,
          null,
          -2.989,
          -5.535,
          null,
          -5.535,
          -7.442,
          null,
          -7.442,
          -4.527,
          null,
          -4.527,
          -4.999,
          null,
          -4.999,
          -5.439,
          null,
          -5.439,
          -8.264,
          null,
          -8.264,
          -8.107,
          null,
          -8.107,
          -11.158,
          null,
          -11.158,
          -13.531,
          null,
          -13.531,
          -14.667,
          null,
          -14.667,
          -16.898,
          null,
          -16.898,
          -18.219,
          null,
          -18.219,
          -17.507,
          null,
          -17.507,
          -16.145,
          null,
          -16.145,
          -12.317,
          null,
          -12.317,
          -10.365,
          null,
          -10.365,
          -9.785,
          null,
          -9.785,
          -5.95,
          null,
          -5.95,
          -6.446,
          null,
          -6.446,
          -6.811,
          null,
          -6.811,
          -3.462,
          null,
          -3.462,
          -1.701,
          null,
          -1.701,
          1.242,
          null,
          1.242,
          2.396,
          null,
          2.396,
          4.819,
          null,
          4.819,
          6.521,
          null,
          6.521,
          6.464,
          null,
          6.464,
          9.38,
          null,
          9.38,
          7.379,
          null,
          7.379,
          7.93,
          null,
          7.93,
          4.766,
          null,
          4.766,
          2.907,
          null,
          2.907,
          2.474,
          null,
          2.474,
          2.67,
          null,
          2.67,
          0.224,
          null,
          0.224,
          -1.42,
          null,
          -1.42,
          -2.912,
          null,
          -2.912,
          -5.928,
          null,
          -5.928,
          -8.439,
          null,
          -8.439,
          -12.064,
          null,
          -12.064,
          -11.945,
          null,
          -11.945,
          -14.497,
          null,
          -14.497,
          -14.804,
          null,
          -14.804,
          -16.92,
          null,
          -16.92,
          -19.06,
          null,
          -19.06,
          -19.74,
          null,
          -19.74,
          -19.855,
          null,
          -19.855,
          -22.825,
          null,
          -22.825,
          -24.918,
          null,
          -24.918,
          -22.873,
          null,
          -22.873,
          -23.546,
          null,
          -23.546,
          -21.555,
          null,
          -21.555,
          -21.009,
          null,
          -21.009,
          -18.142,
          null,
          -18.142,
          -18.8,
          null,
          -18.8,
          -19.55,
          null,
          -19.55,
          -16.055,
          null,
          -16.055,
          -13.781,
          null,
          -13.781,
          -9.978,
          null,
          -9.978,
          -6.552,
          null,
          -6.552,
          -6.043,
          null,
          -6.043,
          -7.456,
          null,
          -7.456,
          -9.17,
          null,
          -9.17,
          -9.273,
          null,
          -9.273,
          -11.561,
          null,
          -11.561,
          -11.527,
          null,
          -11.527,
          -13.525,
          null,
          -13.525,
          -11.982,
          null,
          -11.982,
          -15.185,
          null,
          -15.185,
          -18.622,
          null,
          -18.622,
          -20.414,
          null,
          -20.414,
          -19.16,
          null,
          -19.16,
          -21.295,
          null,
          -21.295,
          -21.412,
          null,
          -21.412,
          -22.774,
          null,
          -22.774,
          -26.09,
          null,
          -26.09,
          -25.558,
          null,
          -25.558,
          -23.248,
          null,
          -23.248,
          -19.871,
          null,
          -19.871,
          -19.172,
          null,
          -19.172,
          -16.118,
          null,
          -16.118,
          -13.627,
          null,
          -13.627,
          -15.037,
          null,
          -15.037,
          -13.688,
          null,
          -13.688,
          -14.401,
          null,
          -14.401,
          -12.265,
          null,
          -12.265,
          -12.927,
          null,
          -12.927,
          -10.759,
          null,
          -10.759,
          -9.071,
          null,
          -9.071,
          -11.587,
          null,
          -11.587,
          -14.613,
          null,
          -14.613,
          -17.481,
          null,
          -17.481,
          -18.323,
          null,
          -18.323,
          -19.983,
          null,
          -19.983,
          -22.827,
          null,
          -22.827,
          -25.664,
          null,
          -25.664,
          -29.197,
          null,
          -29.197,
          -30.377,
          null,
          -30.377,
          -27.283,
          null,
          -27.283,
          -27.901,
          null,
          -27.901,
          -31.618,
          null,
          -31.618,
          -30.893,
          null,
          -30.893,
          -27.922,
          null,
          -27.922,
          -29.761,
          null,
          -29.761,
          -32.73,
          null,
          -32.73,
          -31.217,
          null,
          -31.217,
          -31.295,
          null,
          -31.295,
          -27.539,
          null,
          -27.539,
          -26.127,
          null,
          -26.127,
          -22.804,
          null,
          -22.804,
          -22.784,
          null,
          -22.784,
          -20.478,
          null,
          -20.478,
          -19.541,
          null,
          -19.541,
          -18.095,
          null,
          -18.095,
          -18.219,
          null,
          -18.219,
          -17.718,
          null,
          -17.718,
          -16.426,
          null,
          -16.426,
          -12.999,
          null,
          -12.999,
          -12.906,
          null,
          -12.906,
          -9.687,
          null,
          -9.687,
          -8.394,
          null,
          -8.394,
          -5.343,
          null,
          -5.343,
          -5.238,
          null,
          -5.238,
          -2.716,
          null,
          -2.716,
          -1.484,
          null,
          -1.484,
          -1.423,
          null,
          -1.423,
          -4.571,
          null,
          -4.571,
          -5.057,
          null,
          -5.057,
          -5.791,
          null,
          -5.791,
          -7.805,
          null,
          -7.805,
          -6.347,
          null,
          -6.347,
          -8.208,
          null,
          -8.208,
          -8.717,
          null,
          -8.717,
          -10.083,
          null,
          -10.083,
          -12.471,
          null,
          -12.471,
          -13.817,
          null,
          -13.817,
          -12.185,
          null,
          -12.185,
          -13.05,
          null,
          -13.05,
          -16.84,
          null,
          -16.84,
          -17.031,
          null,
          -17.031,
          -17.832,
          null,
          -17.832,
          -21.191,
          null,
          -21.191,
          -22.497,
          null,
          -22.497,
          -25.181,
          null,
          -25.181,
          -22.795,
          null,
          -22.795,
          -23.792,
          null,
          -23.792,
          -27.486,
          null,
          -27.486,
          -26.867,
          null,
          -26.867,
          -26.773,
          null,
          -26.773,
          -29.663,
          null,
          -29.663,
          -32.361,
          null,
          -32.361,
          -30.675,
          null,
          -30.675,
          -32.918,
          null,
          -32.918,
          -32.68,
          null,
          -32.68,
          -33.727,
          null,
          -33.727,
          -32.863,
          null,
          -32.863,
          -35.417,
          null,
          -35.417,
          -34.292,
          null,
          -34.292,
          -36.643,
          null,
          -36.643,
          -35.84,
          null,
          -35.84,
          -32.308,
          null,
          -32.308,
          -33.586,
          null,
          -33.586,
          -36.386,
          null,
          -36.386,
          -38.842,
          null,
          -38.842,
          -38.116,
          null,
          -38.116,
          -40.644,
          null,
          -40.644,
          -43.36,
          null
         ]
        }
       ],
       "layout": {
        "height": 1000,
        "margin": {
         "t": 100
        },
        "scene": {
         "xaxis": {
          "showbackground": false,
          "showgrid": false,
          "showline": false,
          "showticklabels": false,
          "title": {
           "text": ""
          },
          "zeroline": false
         },
         "yaxis": {
          "showbackground": false,
          "showgrid": false,
          "showline": false,
          "showticklabels": false,
          "title": {
           "text": ""
          },
          "zeroline": false
         },
         "zaxis": {
          "showbackground": false,
          "showgrid": false,
          "showline": false,
          "showticklabels": false,
          "title": {
           "text": ""
          },
          "zeroline": false
         }
        },
        "showlegend": false,
        "template": {
         "data": {
          "bar": [
           {
            "error_x": {
             "color": "#2a3f5f"
            },
            "error_y": {
             "color": "#2a3f5f"
            },
            "marker": {
             "line": {
              "color": "#E5ECF6",
              "width": 0.5
             },
             "pattern": {
              "fillmode": "overlay",
              "size": 10,
              "solidity": 0.2
             }
            },
            "type": "bar"
           }
          ],
          "barpolar": [
           {
            "marker": {
             "line": {
              "color": "#E5ECF6",
              "width": 0.5
             },
             "pattern": {
              "fillmode": "overlay",
              "size": 10,
              "solidity": 0.2
             }
            },
            "type": "barpolar"
           }
          ],
          "carpet": [
           {
            "aaxis": {
             "endlinecolor": "#2a3f5f",
             "gridcolor": "white",
             "linecolor": "white",
             "minorgridcolor": "white",
             "startlinecolor": "#2a3f5f"
            },
            "baxis": {
             "endlinecolor": "#2a3f5f",
             "gridcolor": "white",
             "linecolor": "white",
             "minorgridcolor": "white",
             "startlinecolor": "#2a3f5f"
            },
            "type": "carpet"
           }
          ],
          "choropleth": [
           {
            "colorbar": {
             "outlinewidth": 0,
             "ticks": ""
            },
            "type": "choropleth"
           }
          ],
          "contour": [
           {
            "colorbar": {
             "outlinewidth": 0,
             "ticks": ""
            },
            "colorscale": [
             [
              0,
              "#0d0887"
             ],
             [
              0.1111111111111111,
              "#46039f"
             ],
             [
              0.2222222222222222,
              "#7201a8"
             ],
             [
              0.3333333333333333,
              "#9c179e"
             ],
             [
              0.4444444444444444,
              "#bd3786"
             ],
             [
              0.5555555555555556,
              "#d8576b"
             ],
             [
              0.6666666666666666,
              "#ed7953"
             ],
             [
              0.7777777777777778,
              "#fb9f3a"
             ],
             [
              0.8888888888888888,
              "#fdca26"
             ],
             [
              1,
              "#f0f921"
             ]
            ],
            "type": "contour"
           }
          ],
          "contourcarpet": [
           {
            "colorbar": {
             "outlinewidth": 0,
             "ticks": ""
            },
            "type": "contourcarpet"
           }
          ],
          "heatmap": [
           {
            "colorbar": {
             "outlinewidth": 0,
             "ticks": ""
            },
            "colorscale": [
             [
              0,
              "#0d0887"
             ],
             [
              0.1111111111111111,
              "#46039f"
             ],
             [
              0.2222222222222222,
              "#7201a8"
             ],
             [
              0.3333333333333333,
              "#9c179e"
             ],
             [
              0.4444444444444444,
              "#bd3786"
             ],
             [
              0.5555555555555556,
              "#d8576b"
             ],
             [
              0.6666666666666666,
              "#ed7953"
             ],
             [
              0.7777777777777778,
              "#fb9f3a"
             ],
             [
              0.8888888888888888,
              "#fdca26"
             ],
             [
              1,
              "#f0f921"
             ]
            ],
            "type": "heatmap"
           }
          ],
          "heatmapgl": [
           {
            "colorbar": {
             "outlinewidth": 0,
             "ticks": ""
            },
            "colorscale": [
             [
              0,
              "#0d0887"
             ],
             [
              0.1111111111111111,
              "#46039f"
             ],
             [
              0.2222222222222222,
              "#7201a8"
             ],
             [
              0.3333333333333333,
              "#9c179e"
             ],
             [
              0.4444444444444444,
              "#bd3786"
             ],
             [
              0.5555555555555556,
              "#d8576b"
             ],
             [
              0.6666666666666666,
              "#ed7953"
             ],
             [
              0.7777777777777778,
              "#fb9f3a"
             ],
             [
              0.8888888888888888,
              "#fdca26"
             ],
             [
              1,
              "#f0f921"
             ]
            ],
            "type": "heatmapgl"
           }
          ],
          "histogram": [
           {
            "marker": {
             "pattern": {
              "fillmode": "overlay",
              "size": 10,
              "solidity": 0.2
             }
            },
            "type": "histogram"
           }
          ],
          "histogram2d": [
           {
            "colorbar": {
             "outlinewidth": 0,
             "ticks": ""
            },
            "colorscale": [
             [
              0,
              "#0d0887"
             ],
             [
              0.1111111111111111,
              "#46039f"
             ],
             [
              0.2222222222222222,
              "#7201a8"
             ],
             [
              0.3333333333333333,
              "#9c179e"
             ],
             [
              0.4444444444444444,
              "#bd3786"
             ],
             [
              0.5555555555555556,
              "#d8576b"
             ],
             [
              0.6666666666666666,
              "#ed7953"
             ],
             [
              0.7777777777777778,
              "#fb9f3a"
             ],
             [
              0.8888888888888888,
              "#fdca26"
             ],
             [
              1,
              "#f0f921"
             ]
            ],
            "type": "histogram2d"
           }
          ],
          "histogram2dcontour": [
           {
            "colorbar": {
             "outlinewidth": 0,
             "ticks": ""
            },
            "colorscale": [
             [
              0,
              "#0d0887"
             ],
             [
              0.1111111111111111,
              "#46039f"
             ],
             [
              0.2222222222222222,
              "#7201a8"
             ],
             [
              0.3333333333333333,
              "#9c179e"
             ],
             [
              0.4444444444444444,
              "#bd3786"
             ],
             [
              0.5555555555555556,
              "#d8576b"
             ],
             [
              0.6666666666666666,
              "#ed7953"
             ],
             [
              0.7777777777777778,
              "#fb9f3a"
             ],
             [
              0.8888888888888888,
              "#fdca26"
             ],
             [
              1,
              "#f0f921"
             ]
            ],
            "type": "histogram2dcontour"
           }
          ],
          "mesh3d": [
           {
            "colorbar": {
             "outlinewidth": 0,
             "ticks": ""
            },
            "type": "mesh3d"
           }
          ],
          "parcoords": [
           {
            "line": {
             "colorbar": {
              "outlinewidth": 0,
              "ticks": ""
             }
            },
            "type": "parcoords"
           }
          ],
          "pie": [
           {
            "automargin": true,
            "type": "pie"
           }
          ],
          "scatter": [
           {
            "fillpattern": {
             "fillmode": "overlay",
             "size": 10,
             "solidity": 0.2
            },
            "type": "scatter"
           }
          ],
          "scatter3d": [
           {
            "line": {
             "colorbar": {
              "outlinewidth": 0,
              "ticks": ""
             }
            },
            "marker": {
             "colorbar": {
              "outlinewidth": 0,
              "ticks": ""
             }
            },
            "type": "scatter3d"
           }
          ],
          "scattercarpet": [
           {
            "marker": {
             "colorbar": {
              "outlinewidth": 0,
              "ticks": ""
             }
            },
            "type": "scattercarpet"
           }
          ],
          "scattergeo": [
           {
            "marker": {
             "colorbar": {
              "outlinewidth": 0,
              "ticks": ""
             }
            },
            "type": "scattergeo"
           }
          ],
          "scattergl": [
           {
            "marker": {
             "colorbar": {
              "outlinewidth": 0,
              "ticks": ""
             }
            },
            "type": "scattergl"
           }
          ],
          "scattermapbox": [
           {
            "marker": {
             "colorbar": {
              "outlinewidth": 0,
              "ticks": ""
             }
            },
            "type": "scattermapbox"
           }
          ],
          "scatterpolar": [
           {
            "marker": {
             "colorbar": {
              "outlinewidth": 0,
              "ticks": ""
             }
            },
            "type": "scatterpolar"
           }
          ],
          "scatterpolargl": [
           {
            "marker": {
             "colorbar": {
              "outlinewidth": 0,
              "ticks": ""
             }
            },
            "type": "scatterpolargl"
           }
          ],
          "scatterternary": [
           {
            "marker": {
             "colorbar": {
              "outlinewidth": 0,
              "ticks": ""
             }
            },
            "type": "scatterternary"
           }
          ],
          "surface": [
           {
            "colorbar": {
             "outlinewidth": 0,
             "ticks": ""
            },
            "colorscale": [
             [
              0,
              "#0d0887"
             ],
             [
              0.1111111111111111,
              "#46039f"
             ],
             [
              0.2222222222222222,
              "#7201a8"
             ],
             [
              0.3333333333333333,
              "#9c179e"
             ],
             [
              0.4444444444444444,
              "#bd3786"
             ],
             [
              0.5555555555555556,
              "#d8576b"
             ],
             [
              0.6666666666666666,
              "#ed7953"
             ],
             [
              0.7777777777777778,
              "#fb9f3a"
             ],
             [
              0.8888888888888888,
              "#fdca26"
             ],
             [
              1,
              "#f0f921"
             ]
            ],
            "type": "surface"
           }
          ],
          "table": [
           {
            "cells": {
             "fill": {
              "color": "#EBF0F8"
             },
             "line": {
              "color": "white"
             }
            },
            "header": {
             "fill": {
              "color": "#C8D4E3"
             },
             "line": {
              "color": "white"
             }
            },
            "type": "table"
           }
          ]
         },
         "layout": {
          "annotationdefaults": {
           "arrowcolor": "#2a3f5f",
           "arrowhead": 0,
           "arrowwidth": 1
          },
          "autotypenumbers": "strict",
          "coloraxis": {
           "colorbar": {
            "outlinewidth": 0,
            "ticks": ""
           }
          },
          "colorscale": {
           "diverging": [
            [
             0,
             "#8e0152"
            ],
            [
             0.1,
             "#c51b7d"
            ],
            [
             0.2,
             "#de77ae"
            ],
            [
             0.3,
             "#f1b6da"
            ],
            [
             0.4,
             "#fde0ef"
            ],
            [
             0.5,
             "#f7f7f7"
            ],
            [
             0.6,
             "#e6f5d0"
            ],
            [
             0.7,
             "#b8e186"
            ],
            [
             0.8,
             "#7fbc41"
            ],
            [
             0.9,
             "#4d9221"
            ],
            [
             1,
             "#276419"
            ]
           ],
           "sequential": [
            [
             0,
             "#0d0887"
            ],
            [
             0.1111111111111111,
             "#46039f"
            ],
            [
             0.2222222222222222,
             "#7201a8"
            ],
            [
             0.3333333333333333,
             "#9c179e"
            ],
            [
             0.4444444444444444,
             "#bd3786"
            ],
            [
             0.5555555555555556,
             "#d8576b"
            ],
            [
             0.6666666666666666,
             "#ed7953"
            ],
            [
             0.7777777777777778,
             "#fb9f3a"
            ],
            [
             0.8888888888888888,
             "#fdca26"
            ],
            [
             1,
             "#f0f921"
            ]
           ],
           "sequentialminus": [
            [
             0,
             "#0d0887"
            ],
            [
             0.1111111111111111,
             "#46039f"
            ],
            [
             0.2222222222222222,
             "#7201a8"
            ],
            [
             0.3333333333333333,
             "#9c179e"
            ],
            [
             0.4444444444444444,
             "#bd3786"
            ],
            [
             0.5555555555555556,
             "#d8576b"
            ],
            [
             0.6666666666666666,
             "#ed7953"
            ],
            [
             0.7777777777777778,
             "#fb9f3a"
            ],
            [
             0.8888888888888888,
             "#fdca26"
            ],
            [
             1,
             "#f0f921"
            ]
           ]
          },
          "colorway": [
           "#636efa",
           "#EF553B",
           "#00cc96",
           "#ab63fa",
           "#FFA15A",
           "#19d3f3",
           "#FF6692",
           "#B6E880",
           "#FF97FF",
           "#FECB52"
          ],
          "font": {
           "color": "#2a3f5f"
          },
          "geo": {
           "bgcolor": "white",
           "lakecolor": "white",
           "landcolor": "#E5ECF6",
           "showlakes": true,
           "showland": true,
           "subunitcolor": "white"
          },
          "hoverlabel": {
           "align": "left"
          },
          "hovermode": "closest",
          "mapbox": {
           "style": "light"
          },
          "paper_bgcolor": "white",
          "plot_bgcolor": "#E5ECF6",
          "polar": {
           "angularaxis": {
            "gridcolor": "white",
            "linecolor": "white",
            "ticks": ""
           },
           "bgcolor": "#E5ECF6",
           "radialaxis": {
            "gridcolor": "white",
            "linecolor": "white",
            "ticks": ""
           }
          },
          "scene": {
           "xaxis": {
            "backgroundcolor": "#E5ECF6",
            "gridcolor": "white",
            "gridwidth": 2,
            "linecolor": "white",
            "showbackground": true,
            "ticks": "",
            "zerolinecolor": "white"
           },
           "yaxis": {
            "backgroundcolor": "#E5ECF6",
            "gridcolor": "white",
            "gridwidth": 2,
            "linecolor": "white",
            "showbackground": true,
            "ticks": "",
            "zerolinecolor": "white"
           },
           "zaxis": {
            "backgroundcolor": "#E5ECF6",
            "gridcolor": "white",
            "gridwidth": 2,
            "linecolor": "white",
            "showbackground": true,
            "ticks": "",
            "zerolinecolor": "white"
           }
          },
          "shapedefaults": {
           "line": {
            "color": "#2a3f5f"
           }
          },
          "ternary": {
           "aaxis": {
            "gridcolor": "white",
            "linecolor": "white",
            "ticks": ""
           },
           "baxis": {
            "gridcolor": "white",
            "linecolor": "white",
            "ticks": ""
           },
           "bgcolor": "#E5ECF6",
           "caxis": {
            "gridcolor": "white",
            "linecolor": "white",
            "ticks": ""
           }
          },
          "title": {
           "x": 0.05
          },
          "xaxis": {
           "automargin": true,
           "gridcolor": "white",
           "linecolor": "white",
           "ticks": "",
           "title": {
            "standoff": 15
           },
           "zerolinecolor": "white",
           "zerolinewidth": 2
          },
          "yaxis": {
           "automargin": true,
           "gridcolor": "white",
           "linecolor": "white",
           "ticks": "",
           "title": {
            "standoff": 15
           },
           "zerolinecolor": "white",
           "zerolinewidth": 2
          }
         }
        },
        "width": 1000
       }
      }
     },
     "metadata": {},
     "output_type": "display_data"
    }
   ],
   "source": [
    "plotly_protein_structure_graph(g, node_size_multiplier=0.5, colour_nodes_by=\"residue_name\", figsize=(1000, 1000))"
   ]
  },
  {
   "cell_type": "code",
   "execution_count": null,
   "metadata": {},
   "outputs": [],
   "source": [
    "# Load the default config\n",
    "c = ProteinGraphConfig(granularity='CA')\n",
    "\n",
    "# Construct the graph!\n",
    "g1 = construct_graph(path=path_m)"
   ]
  },
  {
   "cell_type": "code",
   "execution_count": 15,
   "metadata": {},
   "outputs": [
    {
     "data": {
      "application/vnd.plotly.v1+json": {
       "config": {
        "plotlyServerURL": "https://plot.ly"
       },
       "data": [
        {
         "hoverinfo": "text+x+y+z",
         "marker": {
          "color": [
           [
            0.881443,
            0.392529,
            0.383229,
            1
           ],
           [
            0.050383,
            0.029803,
            0.527975,
            1
           ],
           [
            0.562738,
            0.051545,
            0.641509,
            1
           ],
           [
            0.798216,
            0.280197,
            0.469538,
            1
           ],
           [
            0.840155,
            0.33358,
            0.427455,
            1
           ],
           [
            0.988648,
            0.809579,
            0.145357,
            1
           ],
           [
            0.748289,
            0.222711,
            0.516834,
            1
           ],
           [
            0.973416,
            0.585761,
            0.25154,
            1
           ],
           [
            0.631017,
            0.107699,
            0.608287,
            1
           ],
           [
            0.918109,
            0.453603,
            0.339529,
            1
           ],
           [
            0.631017,
            0.107699,
            0.608287,
            1
           ],
           [
            0.254627,
            0.013882,
            0.615419,
            1
           ],
           [
            0.562738,
            0.051545,
            0.641509,
            1
           ],
           [
            0.417642,
            0.000564,
            0.65839,
            1
           ],
           [
            0.973416,
            0.585761,
            0.25154,
            1
           ],
           [
            0.973416,
            0.585761,
            0.25154,
            1
           ],
           [
            0.562738,
            0.051545,
            0.641509,
            1
           ],
           [
            0.337683,
            0.005618,
            0.643049,
            1
           ],
           [
            0.949217,
            0.517763,
            0.295662,
            1
           ],
           [
            0.16407,
            0.020171,
            0.577478,
            1
           ],
           [
            0.417642,
            0.000564,
            0.65839,
            1
           ],
           [
            0.949217,
            0.517763,
            0.295662,
            1
           ],
           [
            0.631017,
            0.107699,
            0.608287,
            1
           ],
           [
            0.973416,
            0.585761,
            0.25154,
            1
           ],
           [
            0.798216,
            0.280197,
            0.469538,
            1
           ],
           [
            0.949217,
            0.517763,
            0.295662,
            1
           ],
           [
            0.562738,
            0.051545,
            0.641509,
            1
           ],
           [
            0.631017,
            0.107699,
            0.608287,
            1
           ],
           [
            0.494877,
            0.01199,
            0.657865,
            1
           ],
           [
            0.254627,
            0.013882,
            0.615419,
            1
           ],
           [
            0.254627,
            0.013882,
            0.615419,
            1
           ],
           [
            0.949217,
            0.517763,
            0.295662,
            1
           ],
           [
            0.494877,
            0.01199,
            0.657865,
            1
           ],
           [
            0.968443,
            0.894564,
            0.147014,
            1
           ],
           [
            0.417642,
            0.000564,
            0.65839,
            1
           ],
           [
            0.949217,
            0.517763,
            0.295662,
            1
           ],
           [
            0.988648,
            0.809579,
            0.145357,
            1
           ],
           [
            0.254627,
            0.013882,
            0.615419,
            1
           ],
           [
            0.798216,
            0.280197,
            0.469538,
            1
           ],
           [
            0.988648,
            0.809579,
            0.145357,
            1
           ],
           [
            0.050383,
            0.029803,
            0.527975,
            1
           ],
           [
            0.562738,
            0.051545,
            0.641509,
            1
           ],
           [
            0.494877,
            0.01199,
            0.657865,
            1
           ],
           [
            0.798216,
            0.280197,
            0.469538,
            1
           ],
           [
            0.973416,
            0.585761,
            0.25154,
            1
           ],
           [
            0.631017,
            0.107699,
            0.608287,
            1
           ],
           [
            0.973416,
            0.585761,
            0.25154,
            1
           ],
           [
            0.050383,
            0.029803,
            0.527975,
            1
           ],
           [
            0.918109,
            0.453603,
            0.339529,
            1
           ],
           [
            0.98826,
            0.652325,
            0.211364,
            1
           ],
           [
            0.417642,
            0.000564,
            0.65839,
            1
           ],
           [
            0.949217,
            0.517763,
            0.295662,
            1
           ],
           [
            0.16407,
            0.020171,
            0.577478,
            1
           ],
           [
            0.973416,
            0.585761,
            0.25154,
            1
           ],
           [
            0.98826,
            0.652325,
            0.211364,
            1
           ],
           [
            0.254627,
            0.013882,
            0.615419,
            1
           ],
           [
            0.840155,
            0.33358,
            0.427455,
            1
           ],
           [
            0.16407,
            0.020171,
            0.577478,
            1
           ],
           [
            0.973416,
            0.585761,
            0.25154,
            1
           ],
           [
            0.994553,
            0.728728,
            0.171622,
            1
           ],
           [
            0.798216,
            0.280197,
            0.469538,
            1
           ],
           [
            0.988648,
            0.809579,
            0.145357,
            1
           ],
           [
            0.16407,
            0.020171,
            0.577478,
            1
           ],
           [
            0.748289,
            0.222711,
            0.516834,
            1
           ],
           [
            0.798216,
            0.280197,
            0.469538,
            1
           ],
           [
            0.949217,
            0.517763,
            0.295662,
            1
           ],
           [
            0.973416,
            0.585761,
            0.25154,
            1
           ],
           [
            0.968443,
            0.894564,
            0.147014,
            1
           ],
           [
            0.973416,
            0.585761,
            0.25154,
            1
           ],
           [
            0.69284,
            0.165141,
            0.564522,
            1
           ],
           [
            0.840155,
            0.33358,
            0.427455,
            1
           ],
           [
            0.949217,
            0.517763,
            0.295662,
            1
           ],
           [
            0.918109,
            0.453603,
            0.339529,
            1
           ],
           [
            0.562738,
            0.051545,
            0.641509,
            1
           ],
           [
            0.973416,
            0.585761,
            0.25154,
            1
           ],
           [
            0.748289,
            0.222711,
            0.516834,
            1
           ],
           [
            0.337683,
            0.005618,
            0.643049,
            1
           ],
           [
            0.562738,
            0.051545,
            0.641509,
            1
           ],
           [
            0.631017,
            0.107699,
            0.608287,
            1
           ],
           [
            0.494877,
            0.01199,
            0.657865,
            1
           ],
           [
            0.968443,
            0.894564,
            0.147014,
            1
           ],
           [
            0.98826,
            0.652325,
            0.211364,
            1
           ],
           [
            0.69284,
            0.165141,
            0.564522,
            1
           ],
           [
            0.254627,
            0.013882,
            0.615419,
            1
           ],
           [
            0.994553,
            0.728728,
            0.171622,
            1
           ],
           [
            0.337683,
            0.005618,
            0.643049,
            1
           ],
           [
            0.562738,
            0.051545,
            0.641509,
            1
           ],
           [
            0.968443,
            0.894564,
            0.147014,
            1
           ],
           [
            0.337683,
            0.005618,
            0.643049,
            1
           ],
           [
            0.949217,
            0.517763,
            0.295662,
            1
           ],
           [
            0.337683,
            0.005618,
            0.643049,
            1
           ],
           [
            0.949217,
            0.517763,
            0.295662,
            1
           ],
           [
            0.254627,
            0.013882,
            0.615419,
            1
           ],
           [
            0.494877,
            0.01199,
            0.657865,
            1
           ],
           [
            0.798216,
            0.280197,
            0.469538,
            1
           ],
           [
            0.16407,
            0.020171,
            0.577478,
            1
           ],
           [
            0.994553,
            0.728728,
            0.171622,
            1
           ],
           [
            0.840155,
            0.33358,
            0.427455,
            1
           ],
           [
            0.949217,
            0.517763,
            0.295662,
            1
           ],
           [
            0.918109,
            0.453603,
            0.339529,
            1
           ],
           [
            0.562738,
            0.051545,
            0.641509,
            1
           ],
           [
            0.748289,
            0.222711,
            0.516834,
            1
           ],
           [
            0.949217,
            0.517763,
            0.295662,
            1
           ],
           [
            0.840155,
            0.33358,
            0.427455,
            1
           ],
           [
            0.050383,
            0.029803,
            0.527975,
            1
           ],
           [
            0.973416,
            0.585761,
            0.25154,
            1
           ],
           [
            0.494877,
            0.01199,
            0.657865,
            1
           ],
           [
            0.840155,
            0.33358,
            0.427455,
            1
           ],
           [
            0.840155,
            0.33358,
            0.427455,
            1
           ],
           [
            0.968443,
            0.894564,
            0.147014,
            1
           ],
           [
            0.337683,
            0.005618,
            0.643049,
            1
           ],
           [
            0.918109,
            0.453603,
            0.339529,
            1
           ],
           [
            0.968443,
            0.894564,
            0.147014,
            1
           ],
           [
            0.973416,
            0.585761,
            0.25154,
            1
           ],
           [
            0.631017,
            0.107699,
            0.608287,
            1
           ],
           [
            0.798216,
            0.280197,
            0.469538,
            1
           ],
           [
            0.69284,
            0.165141,
            0.564522,
            1
           ],
           [
            0.98826,
            0.652325,
            0.211364,
            1
           ],
           [
            0.798216,
            0.280197,
            0.469538,
            1
           ],
           [
            0.417642,
            0.000564,
            0.65839,
            1
           ],
           [
            0.631017,
            0.107699,
            0.608287,
            1
           ],
           [
            0.968443,
            0.894564,
            0.147014,
            1
           ],
           [
            0.631017,
            0.107699,
            0.608287,
            1
           ],
           [
            0.337683,
            0.005618,
            0.643049,
            1
           ],
           [
            0.748289,
            0.222711,
            0.516834,
            1
           ],
           [
            0.840155,
            0.33358,
            0.427455,
            1
           ],
           [
            0.973416,
            0.585761,
            0.25154,
            1
           ],
           [
            0.254627,
            0.013882,
            0.615419,
            1
           ],
           [
            0.254627,
            0.013882,
            0.615419,
            1
           ],
           [
            0.631017,
            0.107699,
            0.608287,
            1
           ],
           [
            0.798216,
            0.280197,
            0.469538,
            1
           ],
           [
            0.050383,
            0.029803,
            0.527975,
            1
           ],
           [
            0.748289,
            0.222711,
            0.516834,
            1
           ],
           [
            0.69284,
            0.165141,
            0.564522,
            1
           ],
           [
            0.748289,
            0.222711,
            0.516834,
            1
           ],
           [
            0.918109,
            0.453603,
            0.339529,
            1
           ],
           [
            0.798216,
            0.280197,
            0.469538,
            1
           ],
           [
            0.417642,
            0.000564,
            0.65839,
            1
           ],
           [
            0.254627,
            0.013882,
            0.615419,
            1
           ],
           [
            0.98826,
            0.652325,
            0.211364,
            1
           ],
           [
            0.973416,
            0.585761,
            0.25154,
            1
           ],
           [
            0.881443,
            0.392529,
            0.383229,
            1
           ],
           [
            0.562738,
            0.051545,
            0.641509,
            1
           ],
           [
            0.254627,
            0.013882,
            0.615419,
            1
           ],
           [
            0.16407,
            0.020171,
            0.577478,
            1
           ],
           [
            0.417642,
            0.000564,
            0.65839,
            1
           ],
           [
            0.918109,
            0.453603,
            0.339529,
            1
           ],
           [
            0.988648,
            0.809579,
            0.145357,
            1
           ],
           [
            0.254627,
            0.013882,
            0.615419,
            1
           ],
           [
            0.973416,
            0.585761,
            0.25154,
            1
           ],
           [
            0.337683,
            0.005618,
            0.643049,
            1
           ],
           [
            0.631017,
            0.107699,
            0.608287,
            1
           ],
           [
            0.337683,
            0.005618,
            0.643049,
            1
           ],
           [
            0.918109,
            0.453603,
            0.339529,
            1
           ],
           [
            0.798216,
            0.280197,
            0.469538,
            1
           ],
           [
            0.748289,
            0.222711,
            0.516834,
            1
           ],
           [
            0.968443,
            0.894564,
            0.147014,
            1
           ],
           [
            0.949217,
            0.517763,
            0.295662,
            1
           ],
           [
            0.494877,
            0.01199,
            0.657865,
            1
           ],
           [
            0.840155,
            0.33358,
            0.427455,
            1
           ],
           [
            0.631017,
            0.107699,
            0.608287,
            1
           ],
           [
            0.254627,
            0.013882,
            0.615419,
            1
           ],
           [
            0.798216,
            0.280197,
            0.469538,
            1
           ],
           [
            0.798216,
            0.280197,
            0.469538,
            1
           ],
           [
            0.748289,
            0.222711,
            0.516834,
            1
           ],
           [
            0.988648,
            0.809579,
            0.145357,
            1
           ],
           [
            0.98826,
            0.652325,
            0.211364,
            1
           ],
           [
            0.562738,
            0.051545,
            0.641509,
            1
           ],
           [
            0.918109,
            0.453603,
            0.339529,
            1
           ],
           [
            0.631017,
            0.107699,
            0.608287,
            1
           ],
           [
            0.840155,
            0.33358,
            0.427455,
            1
           ],
           [
            0.881443,
            0.392529,
            0.383229,
            1
           ],
           [
            0.798216,
            0.280197,
            0.469538,
            1
           ],
           [
            0.968443,
            0.894564,
            0.147014,
            1
           ],
           [
            0.494877,
            0.01199,
            0.657865,
            1
           ],
           [
            0.949217,
            0.517763,
            0.295662,
            1
           ],
           [
            0.254627,
            0.013882,
            0.615419,
            1
           ],
           [
            0.562738,
            0.051545,
            0.641509,
            1
           ],
           [
            0.748289,
            0.222711,
            0.516834,
            1
           ],
           [
            0.417642,
            0.000564,
            0.65839,
            1
           ],
           [
            0.968443,
            0.894564,
            0.147014,
            1
           ],
           [
            0.748289,
            0.222711,
            0.516834,
            1
           ],
           [
            0.494877,
            0.01199,
            0.657865,
            1
           ],
           [
            0.16407,
            0.020171,
            0.577478,
            1
           ],
           [
            0.631017,
            0.107699,
            0.608287,
            1
           ],
           [
            0.881443,
            0.392529,
            0.383229,
            1
           ],
           [
            0.16407,
            0.020171,
            0.577478,
            1
           ],
           [
            0.918109,
            0.453603,
            0.339529,
            1
           ],
           [
            0.973416,
            0.585761,
            0.25154,
            1
           ],
           [
            0.748289,
            0.222711,
            0.516834,
            1
           ],
           [
            0.337683,
            0.005618,
            0.643049,
            1
           ],
           [
            0.968443,
            0.894564,
            0.147014,
            1
           ],
           [
            0.918109,
            0.453603,
            0.339529,
            1
           ],
           [
            0.562738,
            0.051545,
            0.641509,
            1
           ],
           [
            0.562738,
            0.051545,
            0.641509,
            1
           ],
           [
            0.98826,
            0.652325,
            0.211364,
            1
           ],
           [
            0.16407,
            0.020171,
            0.577478,
            1
           ],
           [
            0.631017,
            0.107699,
            0.608287,
            1
           ],
           [
            0.988648,
            0.809579,
            0.145357,
            1
           ],
           [
            0.748289,
            0.222711,
            0.516834,
            1
           ],
           [
            0.798216,
            0.280197,
            0.469538,
            1
           ],
           [
            0.562738,
            0.051545,
            0.641509,
            1
           ],
           [
            0.968443,
            0.894564,
            0.147014,
            1
           ],
           [
            0.988648,
            0.809579,
            0.145357,
            1
           ],
           [
            0.631017,
            0.107699,
            0.608287,
            1
           ],
           [
            0.968443,
            0.894564,
            0.147014,
            1
           ],
           [
            0.69284,
            0.165141,
            0.564522,
            1
           ],
           [
            0.918109,
            0.453603,
            0.339529,
            1
           ],
           [
            0.562738,
            0.051545,
            0.641509,
            1
           ],
           [
            0.798216,
            0.280197,
            0.469538,
            1
           ],
           [
            0.949217,
            0.517763,
            0.295662,
            1
           ],
           [
            0.337683,
            0.005618,
            0.643049,
            1
           ],
           [
            0.798216,
            0.280197,
            0.469538,
            1
           ],
           [
            0.631017,
            0.107699,
            0.608287,
            1
           ],
           [
            0.949217,
            0.517763,
            0.295662,
            1
           ],
           [
            0.748289,
            0.222711,
            0.516834,
            1
           ],
           [
            0.631017,
            0.107699,
            0.608287,
            1
           ],
           [
            0.050383,
            0.029803,
            0.527975,
            1
           ],
           [
            0.254627,
            0.013882,
            0.615419,
            1
           ],
           [
            0.631017,
            0.107699,
            0.608287,
            1
           ],
           [
            0.798216,
            0.280197,
            0.469538,
            1
           ],
           [
            0.050383,
            0.029803,
            0.527975,
            1
           ],
           [
            0.254627,
            0.013882,
            0.615419,
            1
           ],
           [
            0.949217,
            0.517763,
            0.295662,
            1
           ],
           [
            0.16407,
            0.020171,
            0.577478,
            1
           ],
           [
            0.337683,
            0.005618,
            0.643049,
            1
           ],
           [
            0.918109,
            0.453603,
            0.339529,
            1
           ],
           [
            0.798216,
            0.280197,
            0.469538,
            1
           ],
           [
            0.748289,
            0.222711,
            0.516834,
            1
           ],
           [
            0.949217,
            0.517763,
            0.295662,
            1
           ],
           [
            0.748289,
            0.222711,
            0.516834,
            1
           ],
           [
            0.050383,
            0.029803,
            0.527975,
            1
           ],
           [
            0.994553,
            0.728728,
            0.171622,
            1
           ],
           [
            0.988648,
            0.809579,
            0.145357,
            1
           ],
           [
            0.562738,
            0.051545,
            0.641509,
            1
           ],
           [
            0.337683,
            0.005618,
            0.643049,
            1
           ],
           [
            0.16407,
            0.020171,
            0.577478,
            1
           ],
           [
            0.494877,
            0.01199,
            0.657865,
            1
           ],
           [
            0.968443,
            0.894564,
            0.147014,
            1
           ],
           [
            0.949217,
            0.517763,
            0.295662,
            1
           ],
           [
            0.631017,
            0.107699,
            0.608287,
            1
           ],
           [
            0.631017,
            0.107699,
            0.608287,
            1
           ],
           [
            0.988648,
            0.809579,
            0.145357,
            1
           ],
           [
            0.98826,
            0.652325,
            0.211364,
            1
           ],
           [
            0.968443,
            0.894564,
            0.147014,
            1
           ],
           [
            0.748289,
            0.222711,
            0.516834,
            1
           ],
           [
            0.254627,
            0.013882,
            0.615419,
            1
           ],
           [
            0.840155,
            0.33358,
            0.427455,
            1
           ],
           [
            0.988648,
            0.809579,
            0.145357,
            1
           ],
           [
            0.494877,
            0.01199,
            0.657865,
            1
           ],
           [
            0.631017,
            0.107699,
            0.608287,
            1
           ],
           [
            0.840155,
            0.33358,
            0.427455,
            1
           ],
           [
            0.798216,
            0.280197,
            0.469538,
            1
           ],
           [
            0.918109,
            0.453603,
            0.339529,
            1
           ],
           [
            0.050383,
            0.029803,
            0.527975,
            1
           ],
           [
            0.050383,
            0.029803,
            0.527975,
            1
           ],
           [
            0.840155,
            0.33358,
            0.427455,
            1
           ],
           [
            0.494877,
            0.01199,
            0.657865,
            1
           ],
           [
            0.337683,
            0.005618,
            0.643049,
            1
           ],
           [
            0.968443,
            0.894564,
            0.147014,
            1
           ],
           [
            0.973416,
            0.585761,
            0.25154,
            1
           ],
           [
            0.949217,
            0.517763,
            0.295662,
            1
           ],
           [
            0.918109,
            0.453603,
            0.339529,
            1
           ],
           [
            0.254627,
            0.013882,
            0.615419,
            1
           ],
           [
            0.968443,
            0.894564,
            0.147014,
            1
           ],
           [
            0.968443,
            0.894564,
            0.147014,
            1
           ],
           [
            0.050383,
            0.029803,
            0.527975,
            1
           ],
           [
            0.994553,
            0.728728,
            0.171622,
            1
           ],
           [
            0.69284,
            0.165141,
            0.564522,
            1
           ],
           [
            0.631017,
            0.107699,
            0.608287,
            1
           ],
           [
            0.254627,
            0.013882,
            0.615419,
            1
           ],
           [
            0.988648,
            0.809579,
            0.145357,
            1
           ],
           [
            0.98826,
            0.652325,
            0.211364,
            1
           ],
           [
            0.949217,
            0.517763,
            0.295662,
            1
           ],
           [
            0.988648,
            0.809579,
            0.145357,
            1
           ],
           [
            0.840155,
            0.33358,
            0.427455,
            1
           ],
           [
            0.988648,
            0.809579,
            0.145357,
            1
           ],
           [
            0.254627,
            0.013882,
            0.615419,
            1
           ],
           [
            0.798216,
            0.280197,
            0.469538,
            1
           ],
           [
            0.840155,
            0.33358,
            0.427455,
            1
           ],
           [
            0.254627,
            0.013882,
            0.615419,
            1
           ],
           [
            0.918109,
            0.453603,
            0.339529,
            1
           ],
           [
            0.881443,
            0.392529,
            0.383229,
            1
           ],
           [
            0.968443,
            0.894564,
            0.147014,
            1
           ],
           [
            0.748289,
            0.222711,
            0.516834,
            1
           ],
           [
            0.254627,
            0.013882,
            0.615419,
            1
           ],
           [
            0.973416,
            0.585761,
            0.25154,
            1
           ],
           [
            0.968443,
            0.894564,
            0.147014,
            1
           ],
           [
            0.050383,
            0.029803,
            0.527975,
            1
           ],
           [
            0.918109,
            0.453603,
            0.339529,
            1
           ],
           [
            0.337683,
            0.005618,
            0.643049,
            1
           ],
           [
            0.69284,
            0.165141,
            0.564522,
            1
           ],
           [
            0.050383,
            0.029803,
            0.527975,
            1
           ],
           [
            0.337683,
            0.005618,
            0.643049,
            1
           ],
           [
            0.949217,
            0.517763,
            0.295662,
            1
           ],
           [
            0.973416,
            0.585761,
            0.25154,
            1
           ],
           [
            0.748289,
            0.222711,
            0.516834,
            1
           ],
           [
            0.918109,
            0.453603,
            0.339529,
            1
           ],
           [
            0.98826,
            0.652325,
            0.211364,
            1
           ],
           [
            0.968443,
            0.894564,
            0.147014,
            1
           ],
           [
            0.798216,
            0.280197,
            0.469538,
            1
           ],
           [
            0.98826,
            0.652325,
            0.211364,
            1
           ],
           [
            0.050383,
            0.029803,
            0.527975,
            1
           ],
           [
            0.840155,
            0.33358,
            0.427455,
            1
           ],
           [
            0.973416,
            0.585761,
            0.25154,
            1
           ],
           [
            0.968443,
            0.894564,
            0.147014,
            1
           ],
           [
            0.16407,
            0.020171,
            0.577478,
            1
           ],
           [
            0.949217,
            0.517763,
            0.295662,
            1
           ],
           [
            0.631017,
            0.107699,
            0.608287,
            1
           ],
           [
            0.968443,
            0.894564,
            0.147014,
            1
           ],
           [
            0.050383,
            0.029803,
            0.527975,
            1
           ],
           [
            0.748289,
            0.222711,
            0.516834,
            1
           ],
           [
            0.050383,
            0.029803,
            0.527975,
            1
           ],
           [
            0.337683,
            0.005618,
            0.643049,
            1
           ],
           [
            0.918109,
            0.453603,
            0.339529,
            1
           ],
           [
            0.968443,
            0.894564,
            0.147014,
            1
           ],
           [
            0.748289,
            0.222711,
            0.516834,
            1
           ],
           [
            0.918109,
            0.453603,
            0.339529,
            1
           ],
           [
            0.949217,
            0.517763,
            0.295662,
            1
           ],
           [
            0.949217,
            0.517763,
            0.295662,
            1
           ],
           [
            0.16407,
            0.020171,
            0.577478,
            1
           ],
           [
            0.994553,
            0.728728,
            0.171622,
            1
           ],
           [
            0.631017,
            0.107699,
            0.608287,
            1
           ],
           [
            0.968443,
            0.894564,
            0.147014,
            1
           ],
           [
            0.050383,
            0.029803,
            0.527975,
            1
           ],
           [
            0.337683,
            0.005618,
            0.643049,
            1
           ],
           [
            0.840155,
            0.33358,
            0.427455,
            1
           ],
           [
            0.98826,
            0.652325,
            0.211364,
            1
           ],
           [
            0.918109,
            0.453603,
            0.339529,
            1
           ],
           [
            0.16407,
            0.020171,
            0.577478,
            1
           ],
           [
            0.949217,
            0.517763,
            0.295662,
            1
           ],
           [
            0.949217,
            0.517763,
            0.295662,
            1
           ],
           [
            0.988648,
            0.809579,
            0.145357,
            1
           ],
           [
            0.988648,
            0.809579,
            0.145357,
            1
           ],
           [
            0.69284,
            0.165141,
            0.564522,
            1
           ],
           [
            0.16407,
            0.020171,
            0.577478,
            1
           ],
           [
            0.254627,
            0.013882,
            0.615419,
            1
           ],
           [
            0.417642,
            0.000564,
            0.65839,
            1
           ],
           [
            0.881443,
            0.392529,
            0.383229,
            1
           ],
           [
            0.973416,
            0.585761,
            0.25154,
            1
           ],
           [
            0.562738,
            0.051545,
            0.641509,
            1
           ],
           [
            0.918109,
            0.453603,
            0.339529,
            1
           ],
           [
            0.881443,
            0.392529,
            0.383229,
            1
           ],
           [
            0.631017,
            0.107699,
            0.608287,
            1
           ],
           [
            0.798216,
            0.280197,
            0.469538,
            1
           ],
           [
            0.748289,
            0.222711,
            0.516834,
            1
           ],
           [
            0.16407,
            0.020171,
            0.577478,
            1
           ],
           [
            0.631017,
            0.107699,
            0.608287,
            1
           ],
           [
            0.69284,
            0.165141,
            0.564522,
            1
           ],
           [
            0.988648,
            0.809579,
            0.145357,
            1
           ],
           [
            0.562738,
            0.051545,
            0.641509,
            1
           ],
           [
            0.050383,
            0.029803,
            0.527975,
            1
           ],
           [
            0.840155,
            0.33358,
            0.427455,
            1
           ],
           [
            0.494877,
            0.01199,
            0.657865,
            1
           ],
           [
            0.631017,
            0.107699,
            0.608287,
            1
           ],
           [
            0.631017,
            0.107699,
            0.608287,
            1
           ],
           [
            0.918109,
            0.453603,
            0.339529,
            1
           ],
           [
            0.798216,
            0.280197,
            0.469538,
            1
           ],
           [
            0.949217,
            0.517763,
            0.295662,
            1
           ],
           [
            0.631017,
            0.107699,
            0.608287,
            1
           ],
           [
            0.631017,
            0.107699,
            0.608287,
            1
           ],
           [
            0.631017,
            0.107699,
            0.608287,
            1
           ],
           [
            0.973416,
            0.585761,
            0.25154,
            1
           ],
           [
            0.798216,
            0.280197,
            0.469538,
            1
           ],
           [
            0.69284,
            0.165141,
            0.564522,
            1
           ],
           [
            0.973416,
            0.585761,
            0.25154,
            1
           ],
           [
            0.98826,
            0.652325,
            0.211364,
            1
           ],
           [
            0.881443,
            0.392529,
            0.383229,
            1
           ],
           [
            0.98826,
            0.652325,
            0.211364,
            1
           ],
           [
            0.949217,
            0.517763,
            0.295662,
            1
           ],
           [
            0.69284,
            0.165141,
            0.564522,
            1
           ],
           [
            0.631017,
            0.107699,
            0.608287,
            1
           ],
           [
            0.949217,
            0.517763,
            0.295662,
            1
           ],
           [
            0.337683,
            0.005618,
            0.643049,
            1
           ],
           [
            0.050383,
            0.029803,
            0.527975,
            1
           ],
           [
            0.337683,
            0.005618,
            0.643049,
            1
           ],
           [
            0.417642,
            0.000564,
            0.65839,
            1
           ],
           [
            0.918109,
            0.453603,
            0.339529,
            1
           ],
           [
            0.562738,
            0.051545,
            0.641509,
            1
           ],
           [
            0.840155,
            0.33358,
            0.427455,
            1
           ],
           [
            0.050383,
            0.029803,
            0.527975,
            1
           ],
           [
            0.973416,
            0.585761,
            0.25154,
            1
           ],
           [
            0.840155,
            0.33358,
            0.427455,
            1
           ],
           [
            0.968443,
            0.894564,
            0.147014,
            1
           ],
           [
            0.840155,
            0.33358,
            0.427455,
            1
           ],
           [
            0.798216,
            0.280197,
            0.469538,
            1
           ],
           [
            0.050383,
            0.029803,
            0.527975,
            1
           ],
           [
            0.949217,
            0.517763,
            0.295662,
            1
           ],
           [
            0.562738,
            0.051545,
            0.641509,
            1
           ],
           [
            0.16407,
            0.020171,
            0.577478,
            1
           ],
           [
            0.748289,
            0.222711,
            0.516834,
            1
           ],
           [
            0.050383,
            0.029803,
            0.527975,
            1
           ],
           [
            0.337683,
            0.005618,
            0.643049,
            1
           ],
           [
            0.631017,
            0.107699,
            0.608287,
            1
           ],
           [
            0.98826,
            0.652325,
            0.211364,
            1
           ],
           [
            0.881443,
            0.392529,
            0.383229,
            1
           ],
           [
            0.050383,
            0.029803,
            0.527975,
            1
           ],
           [
            0.918109,
            0.453603,
            0.339529,
            1
           ],
           [
            0.881443,
            0.392529,
            0.383229,
            1
           ],
           [
            0.918109,
            0.453603,
            0.339529,
            1
           ],
           [
            0.562738,
            0.051545,
            0.641509,
            1
           ],
           [
            0.973416,
            0.585761,
            0.25154,
            1
           ],
           [
            0.973416,
            0.585761,
            0.25154,
            1
           ],
           [
            0.798216,
            0.280197,
            0.469538,
            1
           ],
           [
            0.973416,
            0.585761,
            0.25154,
            1
           ],
           [
            0.798216,
            0.280197,
            0.469538,
            1
           ],
           [
            0.050383,
            0.029803,
            0.527975,
            1
           ],
           [
            0.968443,
            0.894564,
            0.147014,
            1
           ],
           [
            0.98826,
            0.652325,
            0.211364,
            1
           ],
           [
            0.840155,
            0.33358,
            0.427455,
            1
           ],
           [
            0.994553,
            0.728728,
            0.171622,
            1
           ],
           [
            0.631017,
            0.107699,
            0.608287,
            1
           ],
           [
            0.798216,
            0.280197,
            0.469538,
            1
           ],
           [
            0.840155,
            0.33358,
            0.427455,
            1
           ],
           [
            0.050383,
            0.029803,
            0.527975,
            1
           ],
           [
            0.973416,
            0.585761,
            0.25154,
            1
           ],
           [
            0.16407,
            0.020171,
            0.577478,
            1
           ],
           [
            0.417642,
            0.000564,
            0.65839,
            1
           ],
           [
            0.798216,
            0.280197,
            0.469538,
            1
           ],
           [
            0.337683,
            0.005618,
            0.643049,
            1
           ],
           [
            0.562738,
            0.051545,
            0.641509,
            1
           ],
           [
            0.254627,
            0.013882,
            0.615419,
            1
           ],
           [
            0.988648,
            0.809579,
            0.145357,
            1
           ],
           [
            0.69284,
            0.165141,
            0.564522,
            1
           ],
           [
            0.840155,
            0.33358,
            0.427455,
            1
           ],
           [
            0.417642,
            0.000564,
            0.65839,
            1
           ],
           [
            0.994553,
            0.728728,
            0.171622,
            1
           ],
           [
            0.562738,
            0.051545,
            0.641509,
            1
           ],
           [
            0.949217,
            0.517763,
            0.295662,
            1
           ],
           [
            0.798216,
            0.280197,
            0.469538,
            1
           ],
           [
            0.840155,
            0.33358,
            0.427455,
            1
           ],
           [
            0.973416,
            0.585761,
            0.25154,
            1
           ],
           [
            0.69284,
            0.165141,
            0.564522,
            1
           ],
           [
            0.918109,
            0.453603,
            0.339529,
            1
           ],
           [
            0.98826,
            0.652325,
            0.211364,
            1
           ],
           [
            0.949217,
            0.517763,
            0.295662,
            1
           ],
           [
            0.254627,
            0.013882,
            0.615419,
            1
           ],
           [
            0.973416,
            0.585761,
            0.25154,
            1
           ],
           [
            0.16407,
            0.020171,
            0.577478,
            1
           ],
           [
            0.254627,
            0.013882,
            0.615419,
            1
           ],
           [
            0.949217,
            0.517763,
            0.295662,
            1
           ],
           [
            0.050383,
            0.029803,
            0.527975,
            1
           ],
           [
            0.562738,
            0.051545,
            0.641509,
            1
           ],
           [
            0.949217,
            0.517763,
            0.295662,
            1
           ],
           [
            0.254627,
            0.013882,
            0.615419,
            1
           ]
          ],
          "opacity": 0.7,
          "size": [
           20.5,
           21,
           21,
           21,
           21,
           21,
           21,
           21,
           21,
           21,
           21,
           21,
           21,
           21,
           21,
           21,
           21,
           21,
           21,
           21,
           21,
           21,
           21,
           21,
           21,
           21,
           21,
           21,
           21,
           21,
           21,
           21,
           21,
           21,
           21,
           21,
           21,
           21,
           21,
           21,
           21,
           21,
           21,
           21,
           21,
           21,
           21,
           21,
           21,
           21,
           21,
           21,
           21,
           21,
           21,
           21,
           21,
           21,
           21,
           21,
           21,
           21,
           21,
           21,
           21,
           21,
           21,
           21,
           21,
           21,
           21,
           21,
           21,
           21,
           21,
           21,
           21,
           21,
           21,
           21,
           21,
           21,
           21,
           21,
           21,
           21,
           21,
           21,
           21,
           21,
           21,
           21,
           21,
           21,
           21,
           21,
           21,
           21,
           21,
           21,
           21,
           21,
           21,
           21,
           21,
           21,
           21,
           21,
           21,
           21,
           21,
           21,
           21,
           21,
           21,
           21,
           21,
           21,
           21,
           21,
           21,
           21,
           21,
           21,
           21,
           21,
           21,
           21,
           21,
           21,
           21,
           21,
           21,
           21,
           21,
           21,
           21,
           21,
           21,
           21,
           21,
           21,
           21,
           21,
           21,
           21,
           21,
           21,
           21,
           21,
           21,
           21,
           21,
           21,
           21,
           21,
           21,
           21,
           21,
           21,
           21,
           21,
           21,
           21,
           21,
           21,
           21,
           21,
           21,
           21,
           21,
           21,
           21,
           21,
           21,
           21,
           21,
           21,
           21,
           21,
           21,
           21,
           21,
           21,
           21,
           21,
           21,
           21,
           21,
           21,
           21,
           21,
           21,
           21,
           21,
           21,
           21,
           21,
           21,
           21,
           21,
           21,
           21,
           21,
           21,
           21,
           21,
           21,
           21,
           21,
           21,
           21,
           21,
           21,
           21,
           21,
           21,
           21,
           21,
           21,
           21,
           21,
           21,
           21,
           21,
           21,
           21,
           21,
           21,
           21,
           21,
           21,
           21,
           21,
           21,
           21,
           21,
           21,
           21,
           21,
           21,
           21,
           21,
           21,
           21,
           21,
           21,
           21,
           21,
           21,
           21,
           21,
           21,
           21,
           21,
           21,
           21,
           21,
           21,
           21,
           21,
           21,
           21,
           21,
           21,
           21,
           21,
           21,
           21,
           21,
           21,
           21,
           21,
           21,
           21,
           21,
           21,
           21,
           21,
           21,
           21,
           21,
           21,
           21,
           21,
           21,
           21,
           21,
           21,
           21,
           21,
           21,
           21,
           21,
           21,
           21,
           21,
           21,
           21,
           21,
           21,
           21,
           21,
           21,
           21,
           21,
           21,
           21,
           21,
           21,
           21,
           21,
           21,
           21,
           21,
           21,
           21,
           21,
           21,
           21,
           21,
           21,
           21,
           21,
           21,
           21,
           21,
           21,
           21,
           21,
           21,
           21,
           21,
           21,
           21,
           21,
           21,
           21,
           21,
           21,
           21,
           21,
           21,
           21,
           21,
           21,
           21,
           21,
           21,
           21,
           21,
           21,
           21,
           21,
           21,
           21,
           21,
           21,
           21,
           21,
           21,
           21,
           21,
           21,
           21,
           21,
           21,
           21,
           21,
           21,
           21,
           21,
           21,
           21,
           21,
           21,
           21,
           21,
           21,
           21,
           21,
           21,
           21,
           21,
           21,
           21,
           21,
           21,
           21,
           21,
           21,
           21,
           21,
           21,
           21,
           21,
           21,
           21,
           21,
           21,
           21,
           21,
           21,
           21,
           21,
           21,
           21,
           21,
           21,
           21,
           21,
           21,
           21,
           21,
           21,
           21,
           21,
           21,
           21,
           21,
           21,
           21,
           21,
           21,
           21,
           21,
           21,
           21,
           21,
           21,
           21,
           21,
           21,
           21,
           21,
           21,
           21,
           21,
           21,
           21,
           21,
           21,
           21,
           21,
           20.5
          ],
          "symbol": "circle"
         },
         "mode": "markers",
         "text": [
          "A:MET:1",
          "A:ALA:2",
          "A:GLU:3",
          "A:LEU:4",
          "A:LYS:5",
          "A:TYR:6",
          "A:ILE:7",
          "A:SER:8",
          "A:GLY:9",
          "A:PHE:10",
          "A:GLY:11",
          "A:ASN:12",
          "A:GLU:13",
          "A:CYS:14",
          "A:SER:15",
          "A:SER:16",
          "A:GLU:17",
          "A:ASP:18",
          "A:PRO:19",
          "A:ARG:20",
          "A:CYS:21",
          "A:PRO:22",
          "A:GLY:23",
          "A:SER:24",
          "A:LEU:25",
          "A:PRO:26",
          "A:GLU:27",
          "A:GLY:28",
          "A:GLN:29",
          "A:ASN:30",
          "A:ASN:31",
          "A:PRO:32",
          "A:GLN:33",
          "A:VAL:34",
          "A:CYS:35",
          "A:PRO:36",
          "A:TYR:37",
          "A:ASN:38",
          "A:LEU:39",
          "A:TYR:40",
          "A:ALA:41",
          "A:GLU:42",
          "A:GLN:43",
          "A:LEU:44",
          "A:SER:45",
          "A:GLY:46",
          "A:SER:47",
          "A:ALA:48",
          "A:PHE:49",
          "A:THR:50",
          "A:CYS:51",
          "A:PRO:52",
          "A:ARG:53",
          "A:SER:54",
          "A:THR:55",
          "A:ASN:56",
          "A:LYS:57",
          "A:ARG:58",
          "A:SER:59",
          "A:TRP:60",
          "A:LEU:61",
          "A:TYR:62",
          "A:ARG:63",
          "A:ILE:64",
          "A:LEU:65",
          "A:PRO:66",
          "A:SER:67",
          "A:VAL:68",
          "A:SER:69",
          "A:HIS:70",
          "A:LYS:71",
          "A:PRO:72",
          "A:PHE:73",
          "A:GLU:74",
          "A:SER:75",
          "A:ILE:76",
          "A:ASP:77",
          "A:GLU:78",
          "A:GLY:79",
          "A:GLN:80",
          "A:VAL:81",
          "A:THR:82",
          "A:HIS:83",
          "A:ASN:84",
          "A:TRP:85",
          "A:ASP:86",
          "A:GLU:87",
          "A:VAL:88",
          "A:ASP:89",
          "A:PRO:90",
          "A:ASP:91",
          "A:PRO:92",
          "A:ASN:93",
          "A:GLN:94",
          "A:LEU:95",
          "A:ARG:96",
          "A:TRP:97",
          "A:LYS:98",
          "A:PRO:99",
          "A:PHE:100",
          "A:GLU:101",
          "A:ILE:102",
          "A:PRO:103",
          "A:LYS:104",
          "A:ALA:105",
          "A:SER:106",
          "A:GLN:107",
          "A:LYS:108",
          "A:LYS:109",
          "A:VAL:110",
          "A:ASP:111",
          "A:PHE:112",
          "A:VAL:113",
          "A:SER:114",
          "A:GLY:115",
          "A:LEU:116",
          "A:HIS:117",
          "A:THR:118",
          "A:LEU:119",
          "A:CYS:120",
          "A:GLY:121",
          "A:VAL:122",
          "A:GLY:123",
          "A:ASP:124",
          "A:ILE:125",
          "A:LYS:126",
          "A:SER:127",
          "A:ASN:128",
          "A:ASN:129",
          "A:GLY:130",
          "A:LEU:131",
          "A:ALA:132",
          "A:ILE:133",
          "A:HIS:134",
          "A:ILE:135",
          "A:PHE:136",
          "A:LEU:137",
          "A:CYS:138",
          "A:ASN:139",
          "A:THR:140",
          "A:SER:141",
          "A:MET:142",
          "A:GLU:143",
          "A:ASN:144",
          "A:ARG:145",
          "A:CYS:146",
          "A:PHE:147",
          "A:TYR:148",
          "A:ASN:149",
          "A:SER:150",
          "A:ASP:151",
          "A:GLY:152",
          "A:ASP:153",
          "A:PHE:154",
          "A:LEU:155",
          "A:ILE:156",
          "A:VAL:157",
          "A:PRO:158",
          "A:GLN:159",
          "A:LYS:160",
          "A:GLY:161",
          "A:ASN:162",
          "A:LEU:163",
          "A:LEU:164",
          "A:ILE:165",
          "A:TYR:166",
          "A:THR:167",
          "A:GLU:168",
          "A:PHE:169",
          "A:GLY:170",
          "A:LYS:171",
          "A:MET:172",
          "A:LEU:173",
          "A:VAL:174",
          "A:GLN:175",
          "A:PRO:176",
          "A:ASN:177",
          "A:GLU:178",
          "A:ILE:179",
          "A:CYS:180",
          "A:VAL:181",
          "A:ILE:182",
          "A:GLN:183",
          "A:ARG:184",
          "A:GLY:185",
          "A:MET:186",
          "A:ARG:187",
          "A:PHE:188",
          "A:SER:189",
          "A:ILE:190",
          "A:ASP:191",
          "A:VAL:192",
          "A:PHE:193",
          "A:GLU:194",
          "A:GLU:195",
          "A:THR:196",
          "A:ARG:197",
          "A:GLY:198",
          "A:TYR:199",
          "A:ILE:200",
          "A:LEU:201",
          "A:GLU:202",
          "A:VAL:203",
          "A:TYR:204",
          "A:GLY:205",
          "A:VAL:206",
          "A:HIS:207",
          "A:PHE:208",
          "A:GLU:209",
          "A:LEU:210",
          "A:PRO:211",
          "A:ASP:212",
          "A:LEU:213",
          "A:GLY:214",
          "A:PRO:215",
          "A:ILE:216",
          "A:GLY:217",
          "A:ALA:218",
          "A:ASN:219",
          "A:GLY:220",
          "A:LEU:221",
          "A:ALA:222",
          "A:ASN:223",
          "A:PRO:224",
          "A:ARG:225",
          "A:ASP:226",
          "A:PHE:227",
          "A:LEU:228",
          "A:ILE:229",
          "A:PRO:230",
          "A:ILE:231",
          "A:ALA:232",
          "A:TRP:233",
          "A:TYR:234",
          "A:GLU:235",
          "A:ASP:236",
          "A:ARG:237",
          "A:GLN:238",
          "A:VAL:239",
          "A:PRO:240",
          "A:GLY:241",
          "A:GLY:242",
          "A:TYR:243",
          "A:THR:244",
          "A:VAL:245",
          "A:ILE:246",
          "A:ASN:247",
          "A:LYS:248",
          "A:TYR:249",
          "A:GLN:250",
          "A:GLY:251",
          "A:LYS:252",
          "A:LEU:253",
          "A:PHE:254",
          "A:ALA:255",
          "A:ALA:256",
          "A:LYS:257",
          "A:GLN:258",
          "A:ASP:259",
          "A:VAL:260",
          "A:SER:261",
          "A:PRO:262",
          "A:PHE:263",
          "A:ASN:264",
          "A:VAL:265",
          "A:VAL:266",
          "A:ALA:267",
          "A:TRP:268",
          "A:HIS:269",
          "A:GLY:270",
          "A:ASN:271",
          "A:TYR:272",
          "A:THR:273",
          "A:PRO:274",
          "A:TYR:275",
          "A:LYS:276",
          "A:TYR:277",
          "A:ASN:278",
          "A:LEU:279",
          "A:LYS:280",
          "A:ASN:281",
          "A:PHE:282",
          "A:MET:283",
          "A:VAL:284",
          "A:ILE:285",
          "A:ASN:286",
          "A:SER:287",
          "A:VAL:288",
          "A:ALA:289",
          "A:PHE:290",
          "A:ASP:291",
          "A:HIS:292",
          "A:ALA:293",
          "A:ASP:294",
          "A:PRO:295",
          "A:SER:296",
          "A:ILE:297",
          "A:PHE:298",
          "A:THR:299",
          "A:VAL:300",
          "A:LEU:301",
          "A:THR:302",
          "A:ALA:303",
          "A:LYS:304",
          "A:SER:305",
          "A:VAL:306",
          "A:ARG:307",
          "A:PRO:308",
          "A:GLY:309",
          "A:VAL:310",
          "A:ALA:311",
          "A:ILE:312",
          "A:ALA:313",
          "A:ASP:314",
          "A:PHE:315",
          "A:VAL:316",
          "A:ILE:317",
          "A:PHE:318",
          "A:PRO:319",
          "A:PRO:320",
          "A:ARG:321",
          "A:TRP:322",
          "A:GLY:323",
          "A:VAL:324",
          "A:ALA:325",
          "A:ASP:326",
          "A:LYS:327",
          "A:THR:328",
          "A:PHE:329",
          "A:ARG:330",
          "A:PRO:331",
          "A:PRO:332",
          "A:TYR:333",
          "A:TYR:334",
          "A:HIS:335",
          "A:ARG:336",
          "A:ASN:337",
          "A:CYS:338",
          "A:MET:339",
          "A:SER:340",
          "A:GLU:341",
          "A:PHE:342",
          "A:MET:343",
          "A:GLY:344",
          "A:LEU:345",
          "A:ILE:346",
          "A:ARG:347",
          "A:GLY:348",
          "A:HIS:349",
          "A:TYR:350",
          "A:GLU:351",
          "A:ALA:352",
          "A:LYS:353",
          "A:GLN:354",
          "A:GLY:355",
          "A:GLY:356",
          "A:PHE:357",
          "A:LEU:358",
          "A:PRO:359",
          "A:GLY:360",
          "A:GLY:361",
          "A:GLY:362",
          "A:SER:363",
          "A:LEU:364",
          "A:HIS:365",
          "A:SER:366",
          "A:THR:367",
          "A:MET:368",
          "A:THR:369",
          "A:PRO:370",
          "A:HIS:371",
          "A:GLY:372",
          "A:PRO:373",
          "A:ASP:374",
          "A:ALA:375",
          "A:ASP:376",
          "A:CYS:377",
          "A:PHE:378",
          "A:GLU:379",
          "A:LYS:380",
          "A:ALA:381",
          "A:SER:382",
          "A:LYS:383",
          "A:VAL:384",
          "A:LYS:385",
          "A:LEU:386",
          "A:ALA:387",
          "A:PRO:388",
          "A:GLU:389",
          "A:ARG:390",
          "A:ILE:391",
          "A:ALA:392",
          "A:ASP:393",
          "A:GLY:394",
          "A:THR:395",
          "A:MET:396",
          "A:ALA:397",
          "A:PHE:398",
          "A:MET:399",
          "A:PHE:400",
          "A:GLU:401",
          "A:SER:402",
          "A:SER:403",
          "A:LEU:404",
          "A:SER:405",
          "A:LEU:406",
          "A:ALA:407",
          "A:VAL:408",
          "A:THR:409",
          "A:LYS:410",
          "A:TRP:411",
          "A:GLY:412",
          "A:LEU:413",
          "A:LYS:414",
          "A:ALA:415",
          "A:SER:416",
          "A:ARG:417",
          "A:CYS:418",
          "A:LEU:419",
          "A:ASP:420",
          "A:GLU:421",
          "A:ASN:422",
          "A:TYR:423",
          "A:HIS:424",
          "A:LYS:425",
          "A:CYS:426",
          "A:TRP:427",
          "A:GLU:428",
          "A:PRO:429",
          "A:LEU:430",
          "A:LYS:431",
          "A:SER:432",
          "A:HIS:433",
          "A:PHE:434",
          "A:THR:435",
          "A:PRO:436",
          "A:ASN:437",
          "A:SER:438",
          "A:ARG:439",
          "A:ASN:440",
          "A:PRO:441",
          "A:ALA:442",
          "A:GLU:443",
          "A:PRO:444",
          "A:ASN:445"
         ],
         "type": "scatter3d",
         "x": [
          -17.305,
          -15.685,
          -11.84,
          -10.521,
          -7.811,
          -4.581,
          -1.529,
          1.67,
          4.561,
          5.81,
          6.63,
          5.997,
          4.272,
          0.939,
          -2.149,
          -5.573,
          -9.043,
          -12.345,
          -13.239,
          -16.686,
          -15.069,
          -12.21,
          -9.981,
          -10.736,
          -7.035,
          -5.883,
          -3.187,
          0.181,
          -0.867,
          -2.275,
          -4.871,
          -6.425,
          -8.882,
          -11.536,
          -11.042,
          -12.451,
          -15.994,
          -16.042,
          -14.338,
          -12.508,
          -8.788,
          -7.508,
          -4.005,
          -3.214,
          0.246,
          1.937,
          5.186,
          6.261,
          6.267,
          9.982,
          10.979,
          13.477,
          12.019,
          13.078,
          11.114,
          8.341,
          4.872,
          1.718,
          -1.319,
          -3.658,
          -7.307,
          -9.993,
          -13.203,
          -16.899,
          -16.941,
          -13.967,
          -13.248,
          -13.543,
          -17.359,
          -18.581,
          -20.147,
          -18.031,
          -16.251,
          -17.494,
          -15.748,
          -17.032,
          -16.501,
          -13.042,
          -13.884,
          -10.583,
          -8.531,
          -6.008,
          -2.734,
          -2.223,
          0.936,
          0.906,
          -2.428,
          -0.727,
          2.649,
          5.273,
          5.628,
          8.982,
          7.723,
          7.208,
          3.65,
          1.452,
          -2.156,
          -4.582,
          -6.671,
          -8.772,
          -12.489,
          -14.476,
          -17.886,
          -20.457,
          -22.849,
          -25.668,
          -24.116,
          -24.071,
          -23.027,
          -19.39,
          -17.703,
          -13.964,
          -13.684,
          -15.803,
          -13.854,
          -10.434,
          -8.528,
          -5.166,
          -2.934,
          0.361,
          2.328,
          4.769,
          5.68,
          4.023,
          1.479,
          1.778,
          5.534,
          5.001,
          7.229,
          6.076,
          3.817,
          0.74,
          -0.389,
          -4.115,
          -6.414,
          -9.483,
          -12.505,
          -15.663,
          -18.76,
          -20.428,
          -19.536,
          -19.123,
          -22.441,
          -22.384,
          -19.34,
          -15.599,
          -12.473,
          -9.289,
          -6.257,
          -4.534,
          -1.962,
          -0.174,
          0.006,
          -2.032,
          -0.374,
          -3.332,
          -2.824,
          -6.029,
          -6.007,
          -9.687,
          -12.152,
          -11.676,
          -11.57,
          -13.18,
          -11.686,
          -13.035,
          -10.516,
          -10.381,
          -8.034,
          -10.191,
          -11.17,
          -8.885,
          -9.668,
          -7.341,
          -7.393,
          -5.681,
          -1.96,
          -2.211,
          -1.415,
          -2.295,
          -1.091,
          -3.497,
          -1.427,
          -2.041,
          -5.061,
          -6.664,
          -10.386,
          -11.479,
          -14.429,
          -14.408,
          -16.843,
          -16.714,
          -18.466,
          -18.04,
          -16.702,
          -13.44,
          -10.231,
          -6.716,
          -3.747,
          -2.783,
          0.655,
          0.3,
          3.399,
          3.716,
          5.617,
          7.104,
          5.957,
          6.585,
          9.331,
          11.136,
          14.2,
          17.664,
          19.146,
          22.75,
          24.942,
          21.852,
          22.088,
          19.335,
          16.951,
          15.489,
          12.829,
          9.649,
          9.8,
          8.372,
          6.517,
          4.422,
          2.785,
          -0.663,
          -2.363,
          -6.1,
          -7.549,
          -9.677,
          -13.259,
          -15.985,
          -19.53,
          -21.811,
          -24.474,
          -26.482,
          -26.853,
          -30.153,
          -29.613,
          -25.913,
          -22.569,
          -20.38,
          -16.677,
          -14.655,
          -11.284,
          -8.575,
          -6.726,
          -4.043,
          -4.992,
          -8.715,
          -11.835,
          -14.092,
          -17.021,
          -18.562,
          -21.556,
          -21.924,
          -24.519,
          -22.416,
          -20.021,
          -16.334,
          -15.488,
          -16.2,
          -12.731,
          -12.997,
          -9.292,
          -5.968,
          -2.224,
          0.768,
          3.071,
          1.11,
          -1.382,
          -2.796,
          -1.352,
          -1.538,
          0.917,
          0.601,
          2.928,
          3.23,
          5.188,
          7.962,
          11.297,
          12.782,
          16.579,
          18.45,
          21.673,
          22.478,
          25.582,
          25.491,
          24.113,
          21.063,
          20.593,
          18.858,
          15.131,
          15.587,
          16.446,
          12.684,
          11.67,
          8.853,
          8.366,
          10.261,
          9.397,
          12.797,
          13.759,
          16.062,
          18.828,
          20.419,
          19.865,
          17.23,
          13.504,
          10.611,
          9.048,
          9.748,
          7.113,
          8.784,
          7.303,
          8.171,
          7.136,
          7.255,
          10.804,
          13.536,
          15.662,
          19.067,
          21.703,
          24.398,
          25.074,
          22.775,
          20.108,
          17.416,
          14.794,
          15.073,
          18.016,
          17.751,
          18.418,
          17.901,
          17.251,
          17.409,
          14.309,
          10.736,
          9.176,
          5.464,
          4.662,
          1.372,
          0.036,
          -2.079,
          -2.593,
          -1.212,
          1.15,
          4.233,
          7.409,
          8.997,
          5.893,
          4.091,
          1.314,
          -0.535,
          0.63,
          -2.458,
          -3.783,
          -5.363,
          -3.231,
          0.115,
          3.266,
          5.315,
          8.91,
          9.9,
          13.295,
          15.897,
          13.38,
          15.003,
          13.118,
          13.41,
          12,
          10.152,
          11.817,
          10.26,
          11.341,
          14.866,
          15.087,
          13.713,
          15.69,
          18.939,
          18.841,
          17.059,
          18.896,
          19.4,
          18.091,
          16.58,
          12.982,
          9.998,
          9.258,
          6.106,
          4.129,
          0.574,
          1.808,
          2.352,
          3.721,
          4.845,
          6.61,
          6.331,
          9.82,
          10.471,
          13.464,
          11.123,
          10.013,
          6.312,
          3.804,
          0.904,
          -2.623,
          -5.161,
          -7.189,
          -4.188,
          -3.282,
          -6.656,
          -9.874,
          -9.168,
          -9.083,
          -6.689,
          -3.413,
          -1.7,
          -0.552,
          1.374,
          3.511,
          6.739,
          6.12,
          7.101,
          10.762,
          10.751,
          11.448,
          14.737,
          17.655,
          21.3,
          23.01,
          26.478,
          29.123,
          32.356,
          34.69,
          33.205,
          33.883,
          32.148,
          28.788,
          28.342,
          26.894,
          23.174,
          23.313
         ],
         "y": [
          20.774,
          23.346,
          23.093,
          20.573,
          21.868,
          20.032,
          20.004,
          20.026,
          17.769,
          14.137,
          12.19,
          15.214,
          15.345,
          16.842,
          17.678,
          18.502,
          19.115,
          19.688,
          23.406,
          22.501,
          21.341,
          23.697,
          22.585,
          18.877,
          17.919,
          17.167,
          19.579,
          18.26,
          14.588,
          11.83,
          10.124,
          12.325,
          10.856,
          12.884,
          14.018,
          17.28,
          16.871,
          13.54,
          11.868,
          8.555,
          8.553,
          5.848,
          5.12,
          3.793,
          2.298,
          1.777,
          0.456,
          -1.471,
          0.512,
          -0.024,
          1.211,
          4.06,
          7.566,
          8.115,
          5.113,
          5.095,
          5.568,
          6.384,
          8.548,
          9.423,
          9.643,
          11.383,
          9.932,
          9.859,
          6.033,
          3.752,
          1.465,
          -1.597,
          -1.122,
          -3.584,
          -7.028,
          -10.075,
          -10.258,
          -12.844,
          -14.262,
          -12.919,
          -13.638,
          -12.524,
          -12.22,
          -11.894,
          -11.016,
          -13.76,
          -14.436,
          -17.818,
          -17.385,
          -21.052,
          -21.028,
          -21.238,
          -22.388,
          -19.636,
          -17.793,
          -16.235,
          -14.585,
          -10.833,
          -10.035,
          -7.236,
          -6.481,
          -4.415,
          -1.935,
          -3.68,
          -3.372,
          -1.172,
          -2.475,
          -0.369,
          1.82,
          -0.308,
          -3.447,
          -4.733,
          -2.236,
          -2.684,
          -0.494,
          -0.161,
          -3.297,
          -5.568,
          -4.467,
          -5.409,
          -7.792,
          -9.21,
          -9.223,
          -10.48,
          -10.642,
          -12.496,
          -13.144,
          -14.04,
          -11.755,
          -13.462,
          -12.836,
          -9.246,
          -9.763,
          -9.25,
          -7.264,
          -7.458,
          -5.518,
          -4.987,
          -3.581,
          -1.805,
          -1.614,
          0.111,
          1.922,
          2.864,
          4.604,
          2.801,
          3.216,
          2.898,
          0.735,
          1.151,
          -0.832,
          -1.263,
          -3.314,
          -5.17,
          -6.658,
          -3.692,
          -0.175,
          0.709,
          2.948,
          3.835,
          5.134,
          6.273,
          5.964,
          6.886,
          8.73,
          10.941,
          9.414,
          11.171,
          9.292,
          9.445,
          8.479,
          8.559,
          11.595,
          13.596,
          13.816,
          13.474,
          14.125,
          12.061,
          12.617,
          10.884,
          11.864,
          11.995,
          9.159,
          8.471,
          6.193,
          4.746,
          3.111,
          -0.221,
          -0.332,
          2.977,
          2.842,
          4.53,
          4.851,
          5.936,
          7.904,
          7.733,
          9.832,
          7.707,
          4.355,
          4.241,
          2.209,
          2.235,
          0.433,
          -0.51,
          -1.39,
          -3.204,
          -3.794,
          -6.049,
          -5.228,
          -1.921,
          1.667,
          3.927,
          6.514,
          9.052,
          7.658,
          8.63,
          11.443,
          10.552,
          12.75,
          14.757,
          16.579,
          18.366,
          19.01,
          16.864,
          14.273,
          14.313,
          17.149,
          16.422,
          19.846,
          18.758,
          15.882,
          16.652,
          15.286,
          15.635,
          17.81,
          16.317,
          15.731,
          13.762,
          12.637,
          11.882,
          9.814,
          6.738,
          4.22,
          2.432,
          -1.142,
          -1.165,
          0.256,
          -2.41,
          -2.553,
          -4.652,
          -5.929,
          -7.449,
          -9.791,
          -12.269,
          -12.192,
          -12.747,
          -10.573,
          -10.199,
          -8.039,
          -6.717,
          -4.582,
          -1.465,
          1.183,
          4.213,
          5.648,
          4.93,
          8.377,
          9.787,
          11.124,
          14.678,
          15.375,
          13.63,
          14.123,
          12.05,
          11.054,
          8.034,
          9.581,
          9.104,
          11.357,
          12.26,
          13.594,
          15.337,
          13.603,
          16.835,
          18.268,
          15.683,
          17.336,
          15.257,
          14.762,
          13.09,
          13.123,
          16.591,
          15.521,
          12.023,
          8.506,
          7.149,
          7.237,
          4.263,
          4.656,
          4.527,
          8.262,
          8.79,
          7.075,
          8.908,
          6.49,
          3.438,
          0.575,
          -0.584,
          -4.086,
          -5.117,
          -5.238,
          -1.837,
          -0.326,
          -2.93,
          -2.162,
          -4.495,
          -2.153,
          1.201,
          3.488,
          5.02,
          7.463,
          8.649,
          12.266,
          14.862,
          16.083,
          17.445,
          15.004,
          16.67,
          13.855,
          13.965,
          11.008,
          8.813,
          6.307,
          8.079,
          5.429,
          2.889,
          0.503,
          -3.278,
          -5.24,
          -8.133,
          -7.157,
          -8.902,
          -6.777,
          -7.349,
          -4.495,
          -3.811,
          -0.907,
          1.014,
          3.984,
          6.695,
          8.952,
          9.607,
          7.485,
          5.652,
          6.701,
          3.254,
          1.466,
          3.085,
          0.352,
          -1.775,
          -0.211,
          1.856,
          3.677,
          1.24,
          -1.609,
          -2.874,
          -4.921,
          -7.207,
          -7.978,
          -10.623,
          -11.191,
          -11.78,
          -11.518,
          -9.477,
          -6.501,
          -3.017,
          -0.796,
          -2.338,
          -2.738,
          0.445,
          2.517,
          1.223,
          1.925,
          5.377,
          6.383,
          5.008,
          7.298,
          10.354,
          13.673,
          14.488,
          17.854,
          19.119,
          17.827,
          17.549,
          13.902,
          12.395,
          15.695,
          14.706,
          11.205,
          9.726,
          6.221,
          4.54,
          1.453,
          -0.797,
          -2.216,
          -5.034,
          -7.021,
          -9.981,
          -12.431,
          -11.869,
          -14.656,
          -13.888,
          -14.935,
          -16.984,
          -13.83,
          -11.959,
          -14.638,
          -15.754,
          -14.458,
          -10.808,
          -11.551,
          -8.692,
          -10.55,
          -9.69,
          -13.002,
          -11.216,
          -9.022,
          -10.797,
          -10.025,
          -6.41,
          -7.51,
          -10.334,
          -7.979,
          -6.678,
          -7.174,
          -7.481,
          -4.206,
          -5.721,
          -5.037,
          -7.113,
          -4.775,
          -1.347,
          0.262,
          3.48,
          3.023,
          5.817,
          9.001,
          9.134,
          11.622
         ],
         "z": [
          0.146,
          2.559,
          2.173,
          4.806,
          7.12,
          7.816,
          10.038,
          7.951,
          8.715,
          8.932,
          12.03,
          14.415,
          17.767,
          17.016,
          18.876,
          17.621,
          19.101,
          17.411,
          17.485,
          18.741,
          22.04,
          22.949,
          25.791,
          25.236,
          25.467,
          28.945,
          30.137,
          31.511,
          31.523,
          29.148,
          31.356,
          34.124,
          36.598,
          34.765,
          31.203,
          29.9,
          28.691,
          30.521,
          27.6,
          27.69,
          27.318,
          24.977,
          23.774,
          20.317,
          20.2,
          16.788,
          18.407,
          21.477,
          24.76,
          25.139,
          21.688,
          21.723,
          21.733,
          18.047,
          16.897,
          19.464,
          17.87,
          19.822,
          19.999,
          22.769,
          21.773,
          23.784,
          22.643,
          23.667,
          23.962,
          24.054,
          21.112,
          23.349,
          23.289,
          20.598,
          20.146,
          19.44,
          16.061,
          13.605,
          10.653,
          7.313,
          3.617,
          2.541,
          -1.096,
          -2.96,
          0.055,
          0.799,
          2.418,
          0.933,
          -1.069,
          -2.161,
          -4.035,
          -7.448,
          -8.869,
          -9.09,
          -12.466,
          -13.179,
          -16.393,
          -16.967,
          -15.958,
          -17.022,
          -16.249,
          -18.255,
          -16.316,
          -13.669,
          -14.272,
          -11.882,
          -10.973,
          -12.753,
          -10.779,
          -12.245,
          -10.815,
          -7.235,
          -4.642,
          -3.84,
          -1.243,
          -0.407,
          1.835,
          -0.349,
          -3.323,
          -1.944,
          -4.224,
          -3.253,
          -6.298,
          -4.918,
          -1.738,
          0.48,
          4.048,
          7.307,
          8.921,
          12.317,
          12.47,
          11.177,
          8.095,
          4.571,
          2.387,
          0.146,
          -2.841,
          -3.19,
          -5.807,
          -4.542,
          -6.875,
          -5.623,
          -6.755,
          -3.524,
          -0.212,
          3.042,
          4.91,
          8.722,
          8.583,
          9.055,
          8.495,
          10.452,
          9.629,
          12.498,
          10.247,
          8.743,
          7.347,
          4.22,
          1.688,
          -0.57,
          -4.13,
          -5.827,
          -9.556,
          -10.341,
          -8.121,
          -5.049,
          -1.592,
          1.327,
          4.25,
          7.768,
          10.42,
          14.117,
          13.652,
          11.264,
          7.607,
          4.548,
          0.969,
          -1.229,
          -4.952,
          -7.819,
          -7.753,
          -3.97,
          -1.625,
          1.95,
          4.699,
          7.187,
          9.776,
          11.421,
          13.779,
          12.784,
          12.028,
          8.882,
          6.487,
          2.888,
          0.837,
          -2.88,
          -5.497,
          -8.583,
          -9.799,
          -7.971,
          -8.285,
          -6.948,
          -5.421,
          -1.884,
          -0.532,
          2.776,
          4.903,
          8.032,
          11.195,
          9.966,
          9.298,
          6.308,
          6.69,
          4.61,
          2.802,
          4.068,
          1.938,
          2.167,
          -0.147,
          -1.309,
          1.994,
          3.889,
          0.929,
          -1.854,
          -2.73,
          -0.52,
          1.997,
          5.423,
          5.463,
          2.493,
          4.381,
          5.697,
          8.83,
          9.403,
          12.14,
          14.893,
          13.85,
          15.484,
          15.17,
          18.029,
          16.524,
          17.434,
          14.668,
          14.799,
          13.497,
          14.369,
          13.178,
          11.494,
          12.398,
          9.951,
          11.01,
          9.024,
          11.442,
          10.474,
          6.904,
          7.492,
          7.764,
          10.781,
          11.672,
          14.873,
          15.666,
          17.863,
          18.554,
          17.796,
          15.212,
          15.953,
          14.707,
          18.133,
          18.901,
          20.023,
          20.568,
          20.061,
          20.443,
          19.368,
          16.476,
          15.136,
          12.656,
          9.231,
          6.587,
          2.931,
          0.343,
          -2.966,
          -5.468,
          -7.421,
          -4.565,
          -4.892,
          -5.668,
          -8.451,
          -8.69,
          -11.407,
          -13.461,
          -14.835,
          -16.854,
          -18.208,
          -17.294,
          -15.643,
          -11.868,
          -10.307,
          -9.924,
          -6.155,
          -6.405,
          -6.844,
          -3.542,
          -1.667,
          1.258,
          2.478,
          4.831,
          6.051,
          6.873,
          9.656,
          7.064,
          6.718,
          3.274,
          2.376,
          2.295,
          2.731,
          0.329,
          -1.353,
          -2.813,
          -5.866,
          -8.334,
          -11.838,
          -11.832,
          -14.66,
          -15.064,
          -17.372,
          -19.298,
          -19.885,
          -19.602,
          -22.336,
          -24.582,
          -22.431,
          -23.228,
          -21.221,
          -20.952,
          -18.266,
          -18.937,
          -19.558,
          -16.378,
          -13.95,
          -10.376,
          -7.077,
          -6.142,
          -7.117,
          -9.075,
          -9.206,
          -11.421,
          -11.594,
          -13.53,
          -11.875,
          -14.995,
          -18.469,
          -20.626,
          -19.502,
          -21.52,
          -21.792,
          -23.104,
          -26.085,
          -25.842,
          -23.209,
          -19.771,
          -18.968,
          -15.897,
          -13.447,
          -14.671,
          -13.521,
          -14.166,
          -12.062,
          -12.674,
          -10.166,
          -8.741,
          -11.396,
          -14.219,
          -17.107,
          -18.334,
          -19.968,
          -22.621,
          -25.628,
          -29.107,
          -30.535,
          -27.587,
          -27.895,
          -31.613,
          -31.209,
          -28.122,
          -29.43,
          -32.516,
          -31.37,
          -31.219,
          -27.587,
          -26.418,
          -23.196,
          -23.052,
          -20.767,
          -19.784,
          -18.32,
          -18.347,
          -17.446,
          -16.356,
          -12.922,
          -12.659,
          -9.47,
          -8.29,
          -5.282,
          -5.052,
          -2.677,
          -1.573,
          -1.156,
          -3.882,
          -4.466,
          -5.054,
          -7.317,
          -6.364,
          -8.433,
          -8.877,
          -10.17,
          -12.717,
          -13.892,
          -12.159,
          -12.865,
          -16.613,
          -16.91,
          -17.375,
          -20.633,
          -22.189,
          -24.846,
          -22.666,
          -23.622,
          -27.331,
          -26.826,
          -26.553,
          -29.323,
          -32.174,
          -30.55,
          -32.987,
          -32.586,
          -33.498,
          -32.813,
          -35.448,
          -34.344,
          -36.388,
          -35.941,
          -32.552,
          -33.648,
          -35.349,
          -38.112,
          -36.305,
          -37.303,
          -40.28
         ]
        },
        {
         "hoverinfo": "text",
         "line": {
          "color": [
           [
            0.050383,
            0.029803,
            0.527975,
            1
           ],
           [
            0.050383,
            0.029803,
            0.527975,
            1
           ],
           [
            0.050383,
            0.029803,
            0.527975,
            1
           ],
           [
            0.050383,
            0.029803,
            0.527975,
            1
           ],
           [
            0.050383,
            0.029803,
            0.527975,
            1
           ],
           [
            0.050383,
            0.029803,
            0.527975,
            1
           ],
           [
            0.050383,
            0.029803,
            0.527975,
            1
           ],
           [
            0.050383,
            0.029803,
            0.527975,
            1
           ],
           [
            0.050383,
            0.029803,
            0.527975,
            1
           ],
           [
            0.050383,
            0.029803,
            0.527975,
            1
           ],
           [
            0.050383,
            0.029803,
            0.527975,
            1
           ],
           [
            0.050383,
            0.029803,
            0.527975,
            1
           ],
           [
            0.050383,
            0.029803,
            0.527975,
            1
           ],
           [
            0.050383,
            0.029803,
            0.527975,
            1
           ],
           [
            0.050383,
            0.029803,
            0.527975,
            1
           ],
           [
            0.050383,
            0.029803,
            0.527975,
            1
           ],
           [
            0.050383,
            0.029803,
            0.527975,
            1
           ],
           [
            0.050383,
            0.029803,
            0.527975,
            1
           ],
           [
            0.050383,
            0.029803,
            0.527975,
            1
           ],
           [
            0.050383,
            0.029803,
            0.527975,
            1
           ],
           [
            0.050383,
            0.029803,
            0.527975,
            1
           ],
           [
            0.050383,
            0.029803,
            0.527975,
            1
           ],
           [
            0.050383,
            0.029803,
            0.527975,
            1
           ],
           [
            0.050383,
            0.029803,
            0.527975,
            1
           ],
           [
            0.050383,
            0.029803,
            0.527975,
            1
           ],
           [
            0.050383,
            0.029803,
            0.527975,
            1
           ],
           [
            0.050383,
            0.029803,
            0.527975,
            1
           ],
           [
            0.050383,
            0.029803,
            0.527975,
            1
           ],
           [
            0.050383,
            0.029803,
            0.527975,
            1
           ],
           [
            0.050383,
            0.029803,
            0.527975,
            1
           ],
           [
            0.050383,
            0.029803,
            0.527975,
            1
           ],
           [
            0.050383,
            0.029803,
            0.527975,
            1
           ],
           [
            0.050383,
            0.029803,
            0.527975,
            1
           ],
           [
            0.050383,
            0.029803,
            0.527975,
            1
           ],
           [
            0.050383,
            0.029803,
            0.527975,
            1
           ],
           [
            0.050383,
            0.029803,
            0.527975,
            1
           ],
           [
            0.050383,
            0.029803,
            0.527975,
            1
           ],
           [
            0.050383,
            0.029803,
            0.527975,
            1
           ],
           [
            0.050383,
            0.029803,
            0.527975,
            1
           ],
           [
            0.050383,
            0.029803,
            0.527975,
            1
           ],
           [
            0.050383,
            0.029803,
            0.527975,
            1
           ],
           [
            0.050383,
            0.029803,
            0.527975,
            1
           ],
           [
            0.050383,
            0.029803,
            0.527975,
            1
           ],
           [
            0.050383,
            0.029803,
            0.527975,
            1
           ],
           [
            0.050383,
            0.029803,
            0.527975,
            1
           ],
           [
            0.050383,
            0.029803,
            0.527975,
            1
           ],
           [
            0.050383,
            0.029803,
            0.527975,
            1
           ],
           [
            0.050383,
            0.029803,
            0.527975,
            1
           ],
           [
            0.050383,
            0.029803,
            0.527975,
            1
           ],
           [
            0.050383,
            0.029803,
            0.527975,
            1
           ],
           [
            0.050383,
            0.029803,
            0.527975,
            1
           ],
           [
            0.050383,
            0.029803,
            0.527975,
            1
           ],
           [
            0.050383,
            0.029803,
            0.527975,
            1
           ],
           [
            0.050383,
            0.029803,
            0.527975,
            1
           ],
           [
            0.050383,
            0.029803,
            0.527975,
            1
           ],
           [
            0.050383,
            0.029803,
            0.527975,
            1
           ],
           [
            0.050383,
            0.029803,
            0.527975,
            1
           ],
           [
            0.050383,
            0.029803,
            0.527975,
            1
           ],
           [
            0.050383,
            0.029803,
            0.527975,
            1
           ],
           [
            0.050383,
            0.029803,
            0.527975,
            1
           ],
           [
            0.050383,
            0.029803,
            0.527975,
            1
           ],
           [
            0.050383,
            0.029803,
            0.527975,
            1
           ],
           [
            0.050383,
            0.029803,
            0.527975,
            1
           ],
           [
            0.050383,
            0.029803,
            0.527975,
            1
           ],
           [
            0.050383,
            0.029803,
            0.527975,
            1
           ],
           [
            0.050383,
            0.029803,
            0.527975,
            1
           ],
           [
            0.050383,
            0.029803,
            0.527975,
            1
           ],
           [
            0.050383,
            0.029803,
            0.527975,
            1
           ],
           [
            0.050383,
            0.029803,
            0.527975,
            1
           ],
           [
            0.050383,
            0.029803,
            0.527975,
            1
           ],
           [
            0.050383,
            0.029803,
            0.527975,
            1
           ],
           [
            0.050383,
            0.029803,
            0.527975,
            1
           ],
           [
            0.050383,
            0.029803,
            0.527975,
            1
           ],
           [
            0.050383,
            0.029803,
            0.527975,
            1
           ],
           [
            0.050383,
            0.029803,
            0.527975,
            1
           ],
           [
            0.050383,
            0.029803,
            0.527975,
            1
           ],
           [
            0.050383,
            0.029803,
            0.527975,
            1
           ],
           [
            0.050383,
            0.029803,
            0.527975,
            1
           ],
           [
            0.050383,
            0.029803,
            0.527975,
            1
           ],
           [
            0.050383,
            0.029803,
            0.527975,
            1
           ],
           [
            0.050383,
            0.029803,
            0.527975,
            1
           ],
           [
            0.050383,
            0.029803,
            0.527975,
            1
           ],
           [
            0.050383,
            0.029803,
            0.527975,
            1
           ],
           [
            0.050383,
            0.029803,
            0.527975,
            1
           ],
           [
            0.050383,
            0.029803,
            0.527975,
            1
           ],
           [
            0.050383,
            0.029803,
            0.527975,
            1
           ],
           [
            0.050383,
            0.029803,
            0.527975,
            1
           ],
           [
            0.050383,
            0.029803,
            0.527975,
            1
           ],
           [
            0.050383,
            0.029803,
            0.527975,
            1
           ],
           [
            0.050383,
            0.029803,
            0.527975,
            1
           ],
           [
            0.050383,
            0.029803,
            0.527975,
            1
           ],
           [
            0.050383,
            0.029803,
            0.527975,
            1
           ],
           [
            0.050383,
            0.029803,
            0.527975,
            1
           ],
           [
            0.050383,
            0.029803,
            0.527975,
            1
           ],
           [
            0.050383,
            0.029803,
            0.527975,
            1
           ],
           [
            0.050383,
            0.029803,
            0.527975,
            1
           ],
           [
            0.050383,
            0.029803,
            0.527975,
            1
           ],
           [
            0.050383,
            0.029803,
            0.527975,
            1
           ],
           [
            0.050383,
            0.029803,
            0.527975,
            1
           ],
           [
            0.050383,
            0.029803,
            0.527975,
            1
           ],
           [
            0.050383,
            0.029803,
            0.527975,
            1
           ],
           [
            0.050383,
            0.029803,
            0.527975,
            1
           ],
           [
            0.050383,
            0.029803,
            0.527975,
            1
           ],
           [
            0.050383,
            0.029803,
            0.527975,
            1
           ],
           [
            0.050383,
            0.029803,
            0.527975,
            1
           ],
           [
            0.050383,
            0.029803,
            0.527975,
            1
           ],
           [
            0.050383,
            0.029803,
            0.527975,
            1
           ],
           [
            0.050383,
            0.029803,
            0.527975,
            1
           ],
           [
            0.050383,
            0.029803,
            0.527975,
            1
           ],
           [
            0.050383,
            0.029803,
            0.527975,
            1
           ],
           [
            0.050383,
            0.029803,
            0.527975,
            1
           ],
           [
            0.050383,
            0.029803,
            0.527975,
            1
           ],
           [
            0.050383,
            0.029803,
            0.527975,
            1
           ],
           [
            0.050383,
            0.029803,
            0.527975,
            1
           ],
           [
            0.050383,
            0.029803,
            0.527975,
            1
           ],
           [
            0.050383,
            0.029803,
            0.527975,
            1
           ],
           [
            0.050383,
            0.029803,
            0.527975,
            1
           ],
           [
            0.050383,
            0.029803,
            0.527975,
            1
           ],
           [
            0.050383,
            0.029803,
            0.527975,
            1
           ],
           [
            0.050383,
            0.029803,
            0.527975,
            1
           ],
           [
            0.050383,
            0.029803,
            0.527975,
            1
           ],
           [
            0.050383,
            0.029803,
            0.527975,
            1
           ],
           [
            0.050383,
            0.029803,
            0.527975,
            1
           ],
           [
            0.050383,
            0.029803,
            0.527975,
            1
           ],
           [
            0.050383,
            0.029803,
            0.527975,
            1
           ],
           [
            0.050383,
            0.029803,
            0.527975,
            1
           ],
           [
            0.050383,
            0.029803,
            0.527975,
            1
           ],
           [
            0.050383,
            0.029803,
            0.527975,
            1
           ],
           [
            0.050383,
            0.029803,
            0.527975,
            1
           ],
           [
            0.050383,
            0.029803,
            0.527975,
            1
           ],
           [
            0.050383,
            0.029803,
            0.527975,
            1
           ],
           [
            0.050383,
            0.029803,
            0.527975,
            1
           ],
           [
            0.050383,
            0.029803,
            0.527975,
            1
           ],
           [
            0.050383,
            0.029803,
            0.527975,
            1
           ],
           [
            0.050383,
            0.029803,
            0.527975,
            1
           ],
           [
            0.050383,
            0.029803,
            0.527975,
            1
           ],
           [
            0.050383,
            0.029803,
            0.527975,
            1
           ],
           [
            0.050383,
            0.029803,
            0.527975,
            1
           ],
           [
            0.050383,
            0.029803,
            0.527975,
            1
           ],
           [
            0.050383,
            0.029803,
            0.527975,
            1
           ],
           [
            0.050383,
            0.029803,
            0.527975,
            1
           ],
           [
            0.050383,
            0.029803,
            0.527975,
            1
           ],
           [
            0.050383,
            0.029803,
            0.527975,
            1
           ],
           [
            0.050383,
            0.029803,
            0.527975,
            1
           ],
           [
            0.050383,
            0.029803,
            0.527975,
            1
           ],
           [
            0.050383,
            0.029803,
            0.527975,
            1
           ],
           [
            0.050383,
            0.029803,
            0.527975,
            1
           ],
           [
            0.050383,
            0.029803,
            0.527975,
            1
           ],
           [
            0.050383,
            0.029803,
            0.527975,
            1
           ],
           [
            0.050383,
            0.029803,
            0.527975,
            1
           ],
           [
            0.050383,
            0.029803,
            0.527975,
            1
           ],
           [
            0.050383,
            0.029803,
            0.527975,
            1
           ],
           [
            0.050383,
            0.029803,
            0.527975,
            1
           ],
           [
            0.050383,
            0.029803,
            0.527975,
            1
           ],
           [
            0.050383,
            0.029803,
            0.527975,
            1
           ],
           [
            0.050383,
            0.029803,
            0.527975,
            1
           ],
           [
            0.050383,
            0.029803,
            0.527975,
            1
           ],
           [
            0.050383,
            0.029803,
            0.527975,
            1
           ],
           [
            0.050383,
            0.029803,
            0.527975,
            1
           ],
           [
            0.050383,
            0.029803,
            0.527975,
            1
           ],
           [
            0.050383,
            0.029803,
            0.527975,
            1
           ],
           [
            0.050383,
            0.029803,
            0.527975,
            1
           ],
           [
            0.050383,
            0.029803,
            0.527975,
            1
           ],
           [
            0.050383,
            0.029803,
            0.527975,
            1
           ],
           [
            0.050383,
            0.029803,
            0.527975,
            1
           ],
           [
            0.050383,
            0.029803,
            0.527975,
            1
           ],
           [
            0.050383,
            0.029803,
            0.527975,
            1
           ],
           [
            0.050383,
            0.029803,
            0.527975,
            1
           ],
           [
            0.050383,
            0.029803,
            0.527975,
            1
           ],
           [
            0.050383,
            0.029803,
            0.527975,
            1
           ],
           [
            0.050383,
            0.029803,
            0.527975,
            1
           ],
           [
            0.050383,
            0.029803,
            0.527975,
            1
           ],
           [
            0.050383,
            0.029803,
            0.527975,
            1
           ],
           [
            0.050383,
            0.029803,
            0.527975,
            1
           ],
           [
            0.050383,
            0.029803,
            0.527975,
            1
           ],
           [
            0.050383,
            0.029803,
            0.527975,
            1
           ],
           [
            0.050383,
            0.029803,
            0.527975,
            1
           ],
           [
            0.050383,
            0.029803,
            0.527975,
            1
           ],
           [
            0.050383,
            0.029803,
            0.527975,
            1
           ],
           [
            0.050383,
            0.029803,
            0.527975,
            1
           ],
           [
            0.050383,
            0.029803,
            0.527975,
            1
           ],
           [
            0.050383,
            0.029803,
            0.527975,
            1
           ],
           [
            0.050383,
            0.029803,
            0.527975,
            1
           ],
           [
            0.050383,
            0.029803,
            0.527975,
            1
           ],
           [
            0.050383,
            0.029803,
            0.527975,
            1
           ],
           [
            0.050383,
            0.029803,
            0.527975,
            1
           ],
           [
            0.050383,
            0.029803,
            0.527975,
            1
           ],
           [
            0.050383,
            0.029803,
            0.527975,
            1
           ],
           [
            0.050383,
            0.029803,
            0.527975,
            1
           ],
           [
            0.050383,
            0.029803,
            0.527975,
            1
           ],
           [
            0.050383,
            0.029803,
            0.527975,
            1
           ],
           [
            0.050383,
            0.029803,
            0.527975,
            1
           ],
           [
            0.050383,
            0.029803,
            0.527975,
            1
           ],
           [
            0.050383,
            0.029803,
            0.527975,
            1
           ],
           [
            0.050383,
            0.029803,
            0.527975,
            1
           ],
           [
            0.050383,
            0.029803,
            0.527975,
            1
           ],
           [
            0.050383,
            0.029803,
            0.527975,
            1
           ],
           [
            0.050383,
            0.029803,
            0.527975,
            1
           ],
           [
            0.050383,
            0.029803,
            0.527975,
            1
           ],
           [
            0.050383,
            0.029803,
            0.527975,
            1
           ],
           [
            0.050383,
            0.029803,
            0.527975,
            1
           ],
           [
            0.050383,
            0.029803,
            0.527975,
            1
           ],
           [
            0.050383,
            0.029803,
            0.527975,
            1
           ],
           [
            0.050383,
            0.029803,
            0.527975,
            1
           ],
           [
            0.050383,
            0.029803,
            0.527975,
            1
           ],
           [
            0.050383,
            0.029803,
            0.527975,
            1
           ],
           [
            0.050383,
            0.029803,
            0.527975,
            1
           ],
           [
            0.050383,
            0.029803,
            0.527975,
            1
           ],
           [
            0.050383,
            0.029803,
            0.527975,
            1
           ],
           [
            0.050383,
            0.029803,
            0.527975,
            1
           ],
           [
            0.050383,
            0.029803,
            0.527975,
            1
           ],
           [
            0.050383,
            0.029803,
            0.527975,
            1
           ],
           [
            0.050383,
            0.029803,
            0.527975,
            1
           ],
           [
            0.050383,
            0.029803,
            0.527975,
            1
           ],
           [
            0.050383,
            0.029803,
            0.527975,
            1
           ],
           [
            0.050383,
            0.029803,
            0.527975,
            1
           ],
           [
            0.050383,
            0.029803,
            0.527975,
            1
           ],
           [
            0.050383,
            0.029803,
            0.527975,
            1
           ],
           [
            0.050383,
            0.029803,
            0.527975,
            1
           ],
           [
            0.050383,
            0.029803,
            0.527975,
            1
           ],
           [
            0.050383,
            0.029803,
            0.527975,
            1
           ],
           [
            0.050383,
            0.029803,
            0.527975,
            1
           ],
           [
            0.050383,
            0.029803,
            0.527975,
            1
           ],
           [
            0.050383,
            0.029803,
            0.527975,
            1
           ],
           [
            0.050383,
            0.029803,
            0.527975,
            1
           ],
           [
            0.050383,
            0.029803,
            0.527975,
            1
           ],
           [
            0.050383,
            0.029803,
            0.527975,
            1
           ],
           [
            0.050383,
            0.029803,
            0.527975,
            1
           ],
           [
            0.050383,
            0.029803,
            0.527975,
            1
           ],
           [
            0.050383,
            0.029803,
            0.527975,
            1
           ],
           [
            0.050383,
            0.029803,
            0.527975,
            1
           ],
           [
            0.050383,
            0.029803,
            0.527975,
            1
           ],
           [
            0.050383,
            0.029803,
            0.527975,
            1
           ],
           [
            0.050383,
            0.029803,
            0.527975,
            1
           ],
           [
            0.050383,
            0.029803,
            0.527975,
            1
           ],
           [
            0.050383,
            0.029803,
            0.527975,
            1
           ],
           [
            0.050383,
            0.029803,
            0.527975,
            1
           ],
           [
            0.050383,
            0.029803,
            0.527975,
            1
           ],
           [
            0.050383,
            0.029803,
            0.527975,
            1
           ],
           [
            0.050383,
            0.029803,
            0.527975,
            1
           ],
           [
            0.050383,
            0.029803,
            0.527975,
            1
           ],
           [
            0.050383,
            0.029803,
            0.527975,
            1
           ],
           [
            0.050383,
            0.029803,
            0.527975,
            1
           ],
           [
            0.050383,
            0.029803,
            0.527975,
            1
           ],
           [
            0.050383,
            0.029803,
            0.527975,
            1
           ],
           [
            0.050383,
            0.029803,
            0.527975,
            1
           ],
           [
            0.050383,
            0.029803,
            0.527975,
            1
           ],
           [
            0.050383,
            0.029803,
            0.527975,
            1
           ],
           [
            0.050383,
            0.029803,
            0.527975,
            1
           ],
           [
            0.050383,
            0.029803,
            0.527975,
            1
           ],
           [
            0.050383,
            0.029803,
            0.527975,
            1
           ],
           [
            0.050383,
            0.029803,
            0.527975,
            1
           ],
           [
            0.050383,
            0.029803,
            0.527975,
            1
           ],
           [
            0.050383,
            0.029803,
            0.527975,
            1
           ],
           [
            0.050383,
            0.029803,
            0.527975,
            1
           ],
           [
            0.050383,
            0.029803,
            0.527975,
            1
           ],
           [
            0.050383,
            0.029803,
            0.527975,
            1
           ],
           [
            0.050383,
            0.029803,
            0.527975,
            1
           ],
           [
            0.050383,
            0.029803,
            0.527975,
            1
           ],
           [
            0.050383,
            0.029803,
            0.527975,
            1
           ],
           [
            0.050383,
            0.029803,
            0.527975,
            1
           ],
           [
            0.050383,
            0.029803,
            0.527975,
            1
           ],
           [
            0.050383,
            0.029803,
            0.527975,
            1
           ],
           [
            0.050383,
            0.029803,
            0.527975,
            1
           ],
           [
            0.050383,
            0.029803,
            0.527975,
            1
           ],
           [
            0.050383,
            0.029803,
            0.527975,
            1
           ],
           [
            0.050383,
            0.029803,
            0.527975,
            1
           ],
           [
            0.050383,
            0.029803,
            0.527975,
            1
           ],
           [
            0.050383,
            0.029803,
            0.527975,
            1
           ],
           [
            0.050383,
            0.029803,
            0.527975,
            1
           ],
           [
            0.050383,
            0.029803,
            0.527975,
            1
           ],
           [
            0.050383,
            0.029803,
            0.527975,
            1
           ],
           [
            0.050383,
            0.029803,
            0.527975,
            1
           ],
           [
            0.050383,
            0.029803,
            0.527975,
            1
           ],
           [
            0.050383,
            0.029803,
            0.527975,
            1
           ],
           [
            0.050383,
            0.029803,
            0.527975,
            1
           ],
           [
            0.050383,
            0.029803,
            0.527975,
            1
           ],
           [
            0.050383,
            0.029803,
            0.527975,
            1
           ],
           [
            0.050383,
            0.029803,
            0.527975,
            1
           ],
           [
            0.050383,
            0.029803,
            0.527975,
            1
           ],
           [
            0.050383,
            0.029803,
            0.527975,
            1
           ],
           [
            0.050383,
            0.029803,
            0.527975,
            1
           ],
           [
            0.050383,
            0.029803,
            0.527975,
            1
           ],
           [
            0.050383,
            0.029803,
            0.527975,
            1
           ],
           [
            0.050383,
            0.029803,
            0.527975,
            1
           ],
           [
            0.050383,
            0.029803,
            0.527975,
            1
           ],
           [
            0.050383,
            0.029803,
            0.527975,
            1
           ],
           [
            0.050383,
            0.029803,
            0.527975,
            1
           ],
           [
            0.050383,
            0.029803,
            0.527975,
            1
           ],
           [
            0.050383,
            0.029803,
            0.527975,
            1
           ],
           [
            0.050383,
            0.029803,
            0.527975,
            1
           ],
           [
            0.050383,
            0.029803,
            0.527975,
            1
           ],
           [
            0.050383,
            0.029803,
            0.527975,
            1
           ],
           [
            0.050383,
            0.029803,
            0.527975,
            1
           ],
           [
            0.050383,
            0.029803,
            0.527975,
            1
           ],
           [
            0.050383,
            0.029803,
            0.527975,
            1
           ],
           [
            0.050383,
            0.029803,
            0.527975,
            1
           ],
           [
            0.050383,
            0.029803,
            0.527975,
            1
           ],
           [
            0.050383,
            0.029803,
            0.527975,
            1
           ],
           [
            0.050383,
            0.029803,
            0.527975,
            1
           ],
           [
            0.050383,
            0.029803,
            0.527975,
            1
           ],
           [
            0.050383,
            0.029803,
            0.527975,
            1
           ],
           [
            0.050383,
            0.029803,
            0.527975,
            1
           ],
           [
            0.050383,
            0.029803,
            0.527975,
            1
           ],
           [
            0.050383,
            0.029803,
            0.527975,
            1
           ],
           [
            0.050383,
            0.029803,
            0.527975,
            1
           ],
           [
            0.050383,
            0.029803,
            0.527975,
            1
           ],
           [
            0.050383,
            0.029803,
            0.527975,
            1
           ],
           [
            0.050383,
            0.029803,
            0.527975,
            1
           ],
           [
            0.050383,
            0.029803,
            0.527975,
            1
           ],
           [
            0.050383,
            0.029803,
            0.527975,
            1
           ],
           [
            0.050383,
            0.029803,
            0.527975,
            1
           ],
           [
            0.050383,
            0.029803,
            0.527975,
            1
           ],
           [
            0.050383,
            0.029803,
            0.527975,
            1
           ],
           [
            0.050383,
            0.029803,
            0.527975,
            1
           ],
           [
            0.050383,
            0.029803,
            0.527975,
            1
           ],
           [
            0.050383,
            0.029803,
            0.527975,
            1
           ],
           [
            0.050383,
            0.029803,
            0.527975,
            1
           ],
           [
            0.050383,
            0.029803,
            0.527975,
            1
           ],
           [
            0.050383,
            0.029803,
            0.527975,
            1
           ],
           [
            0.050383,
            0.029803,
            0.527975,
            1
           ],
           [
            0.050383,
            0.029803,
            0.527975,
            1
           ],
           [
            0.050383,
            0.029803,
            0.527975,
            1
           ],
           [
            0.050383,
            0.029803,
            0.527975,
            1
           ],
           [
            0.050383,
            0.029803,
            0.527975,
            1
           ],
           [
            0.050383,
            0.029803,
            0.527975,
            1
           ],
           [
            0.050383,
            0.029803,
            0.527975,
            1
           ],
           [
            0.050383,
            0.029803,
            0.527975,
            1
           ],
           [
            0.050383,
            0.029803,
            0.527975,
            1
           ],
           [
            0.050383,
            0.029803,
            0.527975,
            1
           ],
           [
            0.050383,
            0.029803,
            0.527975,
            1
           ],
           [
            0.050383,
            0.029803,
            0.527975,
            1
           ],
           [
            0.050383,
            0.029803,
            0.527975,
            1
           ],
           [
            0.050383,
            0.029803,
            0.527975,
            1
           ],
           [
            0.050383,
            0.029803,
            0.527975,
            1
           ],
           [
            0.050383,
            0.029803,
            0.527975,
            1
           ],
           [
            0.050383,
            0.029803,
            0.527975,
            1
           ],
           [
            0.050383,
            0.029803,
            0.527975,
            1
           ],
           [
            0.050383,
            0.029803,
            0.527975,
            1
           ],
           [
            0.050383,
            0.029803,
            0.527975,
            1
           ],
           [
            0.050383,
            0.029803,
            0.527975,
            1
           ],
           [
            0.050383,
            0.029803,
            0.527975,
            1
           ],
           [
            0.050383,
            0.029803,
            0.527975,
            1
           ],
           [
            0.050383,
            0.029803,
            0.527975,
            1
           ],
           [
            0.050383,
            0.029803,
            0.527975,
            1
           ],
           [
            0.050383,
            0.029803,
            0.527975,
            1
           ],
           [
            0.050383,
            0.029803,
            0.527975,
            1
           ],
           [
            0.050383,
            0.029803,
            0.527975,
            1
           ],
           [
            0.050383,
            0.029803,
            0.527975,
            1
           ],
           [
            0.050383,
            0.029803,
            0.527975,
            1
           ],
           [
            0.050383,
            0.029803,
            0.527975,
            1
           ],
           [
            0.050383,
            0.029803,
            0.527975,
            1
           ],
           [
            0.050383,
            0.029803,
            0.527975,
            1
           ],
           [
            0.050383,
            0.029803,
            0.527975,
            1
           ],
           [
            0.050383,
            0.029803,
            0.527975,
            1
           ],
           [
            0.050383,
            0.029803,
            0.527975,
            1
           ],
           [
            0.050383,
            0.029803,
            0.527975,
            1
           ],
           [
            0.050383,
            0.029803,
            0.527975,
            1
           ],
           [
            0.050383,
            0.029803,
            0.527975,
            1
           ],
           [
            0.050383,
            0.029803,
            0.527975,
            1
           ],
           [
            0.050383,
            0.029803,
            0.527975,
            1
           ],
           [
            0.050383,
            0.029803,
            0.527975,
            1
           ],
           [
            0.050383,
            0.029803,
            0.527975,
            1
           ],
           [
            0.050383,
            0.029803,
            0.527975,
            1
           ],
           [
            0.050383,
            0.029803,
            0.527975,
            1
           ],
           [
            0.050383,
            0.029803,
            0.527975,
            1
           ],
           [
            0.050383,
            0.029803,
            0.527975,
            1
           ],
           [
            0.050383,
            0.029803,
            0.527975,
            1
           ],
           [
            0.050383,
            0.029803,
            0.527975,
            1
           ],
           [
            0.050383,
            0.029803,
            0.527975,
            1
           ],
           [
            0.050383,
            0.029803,
            0.527975,
            1
           ],
           [
            0.050383,
            0.029803,
            0.527975,
            1
           ],
           [
            0.050383,
            0.029803,
            0.527975,
            1
           ],
           [
            0.050383,
            0.029803,
            0.527975,
            1
           ],
           [
            0.050383,
            0.029803,
            0.527975,
            1
           ],
           [
            0.050383,
            0.029803,
            0.527975,
            1
           ],
           [
            0.050383,
            0.029803,
            0.527975,
            1
           ],
           [
            0.050383,
            0.029803,
            0.527975,
            1
           ],
           [
            0.050383,
            0.029803,
            0.527975,
            1
           ],
           [
            0.050383,
            0.029803,
            0.527975,
            1
           ],
           [
            0.050383,
            0.029803,
            0.527975,
            1
           ],
           [
            0.050383,
            0.029803,
            0.527975,
            1
           ],
           [
            0.050383,
            0.029803,
            0.527975,
            1
           ],
           [
            0.050383,
            0.029803,
            0.527975,
            1
           ],
           [
            0.050383,
            0.029803,
            0.527975,
            1
           ],
           [
            0.050383,
            0.029803,
            0.527975,
            1
           ],
           [
            0.050383,
            0.029803,
            0.527975,
            1
           ],
           [
            0.050383,
            0.029803,
            0.527975,
            1
           ],
           [
            0.050383,
            0.029803,
            0.527975,
            1
           ],
           [
            0.050383,
            0.029803,
            0.527975,
            1
           ],
           [
            0.050383,
            0.029803,
            0.527975,
            1
           ],
           [
            0.050383,
            0.029803,
            0.527975,
            1
           ],
           [
            0.050383,
            0.029803,
            0.527975,
            1
           ],
           [
            0.050383,
            0.029803,
            0.527975,
            1
           ],
           [
            0.050383,
            0.029803,
            0.527975,
            1
           ],
           [
            0.050383,
            0.029803,
            0.527975,
            1
           ],
           [
            0.050383,
            0.029803,
            0.527975,
            1
           ],
           [
            0.050383,
            0.029803,
            0.527975,
            1
           ],
           [
            0.050383,
            0.029803,
            0.527975,
            1
           ],
           [
            0.050383,
            0.029803,
            0.527975,
            1
           ],
           [
            0.050383,
            0.029803,
            0.527975,
            1
           ],
           [
            0.050383,
            0.029803,
            0.527975,
            1
           ],
           [
            0.050383,
            0.029803,
            0.527975,
            1
           ],
           [
            0.050383,
            0.029803,
            0.527975,
            1
           ],
           [
            0.050383,
            0.029803,
            0.527975,
            1
           ],
           [
            0.050383,
            0.029803,
            0.527975,
            1
           ],
           [
            0.050383,
            0.029803,
            0.527975,
            1
           ],
           [
            0.050383,
            0.029803,
            0.527975,
            1
           ],
           [
            0.050383,
            0.029803,
            0.527975,
            1
           ],
           [
            0.050383,
            0.029803,
            0.527975,
            1
           ],
           [
            0.050383,
            0.029803,
            0.527975,
            1
           ],
           [
            0.050383,
            0.029803,
            0.527975,
            1
           ],
           [
            0.050383,
            0.029803,
            0.527975,
            1
           ],
           [
            0.050383,
            0.029803,
            0.527975,
            1
           ],
           [
            0.050383,
            0.029803,
            0.527975,
            1
           ],
           [
            0.050383,
            0.029803,
            0.527975,
            1
           ],
           [
            0.050383,
            0.029803,
            0.527975,
            1
           ],
           [
            0.050383,
            0.029803,
            0.527975,
            1
           ],
           [
            0.050383,
            0.029803,
            0.527975,
            1
           ],
           [
            0.050383,
            0.029803,
            0.527975,
            1
           ],
           [
            0.050383,
            0.029803,
            0.527975,
            1
           ],
           [
            0.050383,
            0.029803,
            0.527975,
            1
           ],
           [
            0.050383,
            0.029803,
            0.527975,
            1
           ],
           [
            0.050383,
            0.029803,
            0.527975,
            1
           ],
           [
            0.050383,
            0.029803,
            0.527975,
            1
           ],
           [
            0.050383,
            0.029803,
            0.527975,
            1
           ],
           [
            0.050383,
            0.029803,
            0.527975,
            1
           ],
           [
            0.050383,
            0.029803,
            0.527975,
            1
           ],
           [
            0.050383,
            0.029803,
            0.527975,
            1
           ],
           [
            0.050383,
            0.029803,
            0.527975,
            1
           ],
           [
            0.050383,
            0.029803,
            0.527975,
            1
           ],
           [
            0.050383,
            0.029803,
            0.527975,
            1
           ],
           [
            0.050383,
            0.029803,
            0.527975,
            1
           ],
           [
            0.050383,
            0.029803,
            0.527975,
            1
           ],
           [
            0.050383,
            0.029803,
            0.527975,
            1
           ],
           [
            0.050383,
            0.029803,
            0.527975,
            1
           ],
           [
            0.050383,
            0.029803,
            0.527975,
            1
           ],
           [
            0.050383,
            0.029803,
            0.527975,
            1
           ],
           [
            0.050383,
            0.029803,
            0.527975,
            1
           ],
           [
            0.050383,
            0.029803,
            0.527975,
            1
           ],
           [
            0.050383,
            0.029803,
            0.527975,
            1
           ],
           [
            0.050383,
            0.029803,
            0.527975,
            1
           ],
           [
            0.050383,
            0.029803,
            0.527975,
            1
           ],
           [
            0.050383,
            0.029803,
            0.527975,
            1
           ],
           [
            0.050383,
            0.029803,
            0.527975,
            1
           ],
           [
            0.050383,
            0.029803,
            0.527975,
            1
           ],
           [
            0.050383,
            0.029803,
            0.527975,
            1
           ],
           [
            0.050383,
            0.029803,
            0.527975,
            1
           ],
           [
            0.050383,
            0.029803,
            0.527975,
            1
           ],
           [
            0.050383,
            0.029803,
            0.527975,
            1
           ],
           [
            0.050383,
            0.029803,
            0.527975,
            1
           ],
           [
            0.050383,
            0.029803,
            0.527975,
            1
           ],
           [
            0.050383,
            0.029803,
            0.527975,
            1
           ],
           [
            0.050383,
            0.029803,
            0.527975,
            1
           ],
           [
            0.050383,
            0.029803,
            0.527975,
            1
           ],
           [
            0.050383,
            0.029803,
            0.527975,
            1
           ],
           [
            0.050383,
            0.029803,
            0.527975,
            1
           ],
           [
            0.050383,
            0.029803,
            0.527975,
            1
           ],
           [
            0.050383,
            0.029803,
            0.527975,
            1
           ],
           [
            0.050383,
            0.029803,
            0.527975,
            1
           ],
           [
            0.050383,
            0.029803,
            0.527975,
            1
           ],
           [
            0.050383,
            0.029803,
            0.527975,
            1
           ],
           [
            0.050383,
            0.029803,
            0.527975,
            1
           ],
           [
            0.050383,
            0.029803,
            0.527975,
            1
           ],
           [
            0.050383,
            0.029803,
            0.527975,
            1
           ],
           [
            0.050383,
            0.029803,
            0.527975,
            1
           ],
           [
            0.050383,
            0.029803,
            0.527975,
            1
           ],
           [
            0.050383,
            0.029803,
            0.527975,
            1
           ],
           [
            0.050383,
            0.029803,
            0.527975,
            1
           ],
           [
            0.050383,
            0.029803,
            0.527975,
            1
           ],
           [
            0.050383,
            0.029803,
            0.527975,
            1
           ],
           [
            0.050383,
            0.029803,
            0.527975,
            1
           ],
           [
            0.050383,
            0.029803,
            0.527975,
            1
           ],
           [
            0.050383,
            0.029803,
            0.527975,
            1
           ],
           [
            0.050383,
            0.029803,
            0.527975,
            1
           ],
           [
            0.050383,
            0.029803,
            0.527975,
            1
           ],
           [
            0.050383,
            0.029803,
            0.527975,
            1
           ],
           [
            0.050383,
            0.029803,
            0.527975,
            1
           ],
           [
            0.050383,
            0.029803,
            0.527975,
            1
           ],
           [
            0.050383,
            0.029803,
            0.527975,
            1
           ],
           [
            0.050383,
            0.029803,
            0.527975,
            1
           ],
           [
            0.050383,
            0.029803,
            0.527975,
            1
           ],
           [
            0.050383,
            0.029803,
            0.527975,
            1
           ],
           [
            0.050383,
            0.029803,
            0.527975,
            1
           ],
           [
            0.050383,
            0.029803,
            0.527975,
            1
           ],
           [
            0.050383,
            0.029803,
            0.527975,
            1
           ],
           [
            0.050383,
            0.029803,
            0.527975,
            1
           ],
           [
            0.050383,
            0.029803,
            0.527975,
            1
           ],
           [
            0.050383,
            0.029803,
            0.527975,
            1
           ],
           [
            0.050383,
            0.029803,
            0.527975,
            1
           ],
           [
            0.050383,
            0.029803,
            0.527975,
            1
           ],
           [
            0.050383,
            0.029803,
            0.527975,
            1
           ],
           [
            0.050383,
            0.029803,
            0.527975,
            1
           ],
           [
            0.050383,
            0.029803,
            0.527975,
            1
           ],
           [
            0.050383,
            0.029803,
            0.527975,
            1
           ],
           [
            0.050383,
            0.029803,
            0.527975,
            1
           ],
           [
            0.050383,
            0.029803,
            0.527975,
            1
           ],
           [
            0.050383,
            0.029803,
            0.527975,
            1
           ],
           [
            0.050383,
            0.029803,
            0.527975,
            1
           ],
           [
            0.050383,
            0.029803,
            0.527975,
            1
           ],
           [
            0.050383,
            0.029803,
            0.527975,
            1
           ],
           [
            0.050383,
            0.029803,
            0.527975,
            1
           ],
           [
            0.050383,
            0.029803,
            0.527975,
            1
           ],
           [
            0.050383,
            0.029803,
            0.527975,
            1
           ],
           [
            0.050383,
            0.029803,
            0.527975,
            1
           ],
           [
            0.050383,
            0.029803,
            0.527975,
            1
           ],
           [
            0.050383,
            0.029803,
            0.527975,
            1
           ],
           [
            0.050383,
            0.029803,
            0.527975,
            1
           ],
           [
            0.050383,
            0.029803,
            0.527975,
            1
           ],
           [
            0.050383,
            0.029803,
            0.527975,
            1
           ],
           [
            0.050383,
            0.029803,
            0.527975,
            1
           ],
           [
            0.050383,
            0.029803,
            0.527975,
            1
           ],
           [
            0.050383,
            0.029803,
            0.527975,
            1
           ],
           [
            0.050383,
            0.029803,
            0.527975,
            1
           ],
           [
            0.050383,
            0.029803,
            0.527975,
            1
           ],
           [
            0.050383,
            0.029803,
            0.527975,
            1
           ],
           [
            0.050383,
            0.029803,
            0.527975,
            1
           ],
           [
            0.050383,
            0.029803,
            0.527975,
            1
           ],
           [
            0.050383,
            0.029803,
            0.527975,
            1
           ],
           [
            0.050383,
            0.029803,
            0.527975,
            1
           ],
           [
            0.050383,
            0.029803,
            0.527975,
            1
           ],
           [
            0.050383,
            0.029803,
            0.527975,
            1
           ],
           [
            0.050383,
            0.029803,
            0.527975,
            1
           ],
           [
            0.050383,
            0.029803,
            0.527975,
            1
           ],
           [
            0.050383,
            0.029803,
            0.527975,
            1
           ],
           [
            0.050383,
            0.029803,
            0.527975,
            1
           ],
           [
            0.050383,
            0.029803,
            0.527975,
            1
           ],
           [
            0.050383,
            0.029803,
            0.527975,
            1
           ],
           [
            0.050383,
            0.029803,
            0.527975,
            1
           ],
           [
            0.050383,
            0.029803,
            0.527975,
            1
           ],
           [
            0.050383,
            0.029803,
            0.527975,
            1
           ],
           [
            0.050383,
            0.029803,
            0.527975,
            1
           ],
           [
            0.050383,
            0.029803,
            0.527975,
            1
           ],
           [
            0.050383,
            0.029803,
            0.527975,
            1
           ],
           [
            0.050383,
            0.029803,
            0.527975,
            1
           ],
           [
            0.050383,
            0.029803,
            0.527975,
            1
           ],
           [
            0.050383,
            0.029803,
            0.527975,
            1
           ],
           [
            0.050383,
            0.029803,
            0.527975,
            1
           ],
           [
            0.050383,
            0.029803,
            0.527975,
            1
           ],
           [
            0.050383,
            0.029803,
            0.527975,
            1
           ],
           [
            0.050383,
            0.029803,
            0.527975,
            1
           ],
           [
            0.050383,
            0.029803,
            0.527975,
            1
           ],
           [
            0.050383,
            0.029803,
            0.527975,
            1
           ],
           [
            0.050383,
            0.029803,
            0.527975,
            1
           ],
           [
            0.050383,
            0.029803,
            0.527975,
            1
           ],
           [
            0.050383,
            0.029803,
            0.527975,
            1
           ],
           [
            0.050383,
            0.029803,
            0.527975,
            1
           ],
           [
            0.050383,
            0.029803,
            0.527975,
            1
           ],
           [
            0.050383,
            0.029803,
            0.527975,
            1
           ],
           [
            0.050383,
            0.029803,
            0.527975,
            1
           ],
           [
            0.050383,
            0.029803,
            0.527975,
            1
           ],
           [
            0.050383,
            0.029803,
            0.527975,
            1
           ],
           [
            0.050383,
            0.029803,
            0.527975,
            1
           ],
           [
            0.050383,
            0.029803,
            0.527975,
            1
           ],
           [
            0.050383,
            0.029803,
            0.527975,
            1
           ],
           [
            0.050383,
            0.029803,
            0.527975,
            1
           ],
           [
            0.050383,
            0.029803,
            0.527975,
            1
           ],
           [
            0.050383,
            0.029803,
            0.527975,
            1
           ],
           [
            0.050383,
            0.029803,
            0.527975,
            1
           ],
           [
            0.050383,
            0.029803,
            0.527975,
            1
           ],
           [
            0.050383,
            0.029803,
            0.527975,
            1
           ],
           [
            0.050383,
            0.029803,
            0.527975,
            1
           ],
           [
            0.050383,
            0.029803,
            0.527975,
            1
           ],
           [
            0.050383,
            0.029803,
            0.527975,
            1
           ],
           [
            0.050383,
            0.029803,
            0.527975,
            1
           ],
           [
            0.050383,
            0.029803,
            0.527975,
            1
           ],
           [
            0.050383,
            0.029803,
            0.527975,
            1
           ],
           [
            0.050383,
            0.029803,
            0.527975,
            1
           ],
           [
            0.050383,
            0.029803,
            0.527975,
            1
           ],
           [
            0.050383,
            0.029803,
            0.527975,
            1
           ],
           [
            0.050383,
            0.029803,
            0.527975,
            1
           ],
           [
            0.050383,
            0.029803,
            0.527975,
            1
           ],
           [
            0.050383,
            0.029803,
            0.527975,
            1
           ],
           [
            0.050383,
            0.029803,
            0.527975,
            1
           ],
           [
            0.050383,
            0.029803,
            0.527975,
            1
           ],
           [
            0.050383,
            0.029803,
            0.527975,
            1
           ],
           [
            0.050383,
            0.029803,
            0.527975,
            1
           ],
           [
            0.050383,
            0.029803,
            0.527975,
            1
           ],
           [
            0.050383,
            0.029803,
            0.527975,
            1
           ],
           [
            0.050383,
            0.029803,
            0.527975,
            1
           ],
           [
            0.050383,
            0.029803,
            0.527975,
            1
           ],
           [
            0.050383,
            0.029803,
            0.527975,
            1
           ],
           [
            0.050383,
            0.029803,
            0.527975,
            1
           ],
           [
            0.050383,
            0.029803,
            0.527975,
            1
           ],
           [
            0.050383,
            0.029803,
            0.527975,
            1
           ],
           [
            0.050383,
            0.029803,
            0.527975,
            1
           ],
           [
            0.050383,
            0.029803,
            0.527975,
            1
           ],
           [
            0.050383,
            0.029803,
            0.527975,
            1
           ],
           [
            0.050383,
            0.029803,
            0.527975,
            1
           ],
           [
            0.050383,
            0.029803,
            0.527975,
            1
           ],
           [
            0.050383,
            0.029803,
            0.527975,
            1
           ],
           [
            0.050383,
            0.029803,
            0.527975,
            1
           ],
           [
            0.050383,
            0.029803,
            0.527975,
            1
           ],
           [
            0.050383,
            0.029803,
            0.527975,
            1
           ],
           [
            0.050383,
            0.029803,
            0.527975,
            1
           ],
           [
            0.050383,
            0.029803,
            0.527975,
            1
           ],
           [
            0.050383,
            0.029803,
            0.527975,
            1
           ],
           [
            0.050383,
            0.029803,
            0.527975,
            1
           ],
           [
            0.050383,
            0.029803,
            0.527975,
            1
           ],
           [
            0.050383,
            0.029803,
            0.527975,
            1
           ],
           [
            0.050383,
            0.029803,
            0.527975,
            1
           ],
           [
            0.050383,
            0.029803,
            0.527975,
            1
           ],
           [
            0.050383,
            0.029803,
            0.527975,
            1
           ],
           [
            0.050383,
            0.029803,
            0.527975,
            1
           ],
           [
            0.050383,
            0.029803,
            0.527975,
            1
           ],
           [
            0.050383,
            0.029803,
            0.527975,
            1
           ],
           [
            0.050383,
            0.029803,
            0.527975,
            1
           ],
           [
            0.050383,
            0.029803,
            0.527975,
            1
           ],
           [
            0.050383,
            0.029803,
            0.527975,
            1
           ],
           [
            0.050383,
            0.029803,
            0.527975,
            1
           ],
           [
            0.050383,
            0.029803,
            0.527975,
            1
           ],
           [
            0.050383,
            0.029803,
            0.527975,
            1
           ],
           [
            0.050383,
            0.029803,
            0.527975,
            1
           ],
           [
            0.050383,
            0.029803,
            0.527975,
            1
           ],
           [
            0.050383,
            0.029803,
            0.527975,
            1
           ],
           [
            0.050383,
            0.029803,
            0.527975,
            1
           ],
           [
            0.050383,
            0.029803,
            0.527975,
            1
           ],
           [
            0.050383,
            0.029803,
            0.527975,
            1
           ],
           [
            0.050383,
            0.029803,
            0.527975,
            1
           ],
           [
            0.050383,
            0.029803,
            0.527975,
            1
           ],
           [
            0.050383,
            0.029803,
            0.527975,
            1
           ],
           [
            0.050383,
            0.029803,
            0.527975,
            1
           ],
           [
            0.050383,
            0.029803,
            0.527975,
            1
           ],
           [
            0.050383,
            0.029803,
            0.527975,
            1
           ],
           [
            0.050383,
            0.029803,
            0.527975,
            1
           ],
           [
            0.050383,
            0.029803,
            0.527975,
            1
           ],
           [
            0.050383,
            0.029803,
            0.527975,
            1
           ],
           [
            0.050383,
            0.029803,
            0.527975,
            1
           ],
           [
            0.050383,
            0.029803,
            0.527975,
            1
           ],
           [
            0.050383,
            0.029803,
            0.527975,
            1
           ],
           [
            0.050383,
            0.029803,
            0.527975,
            1
           ],
           [
            0.050383,
            0.029803,
            0.527975,
            1
           ],
           [
            0.050383,
            0.029803,
            0.527975,
            1
           ],
           [
            0.050383,
            0.029803,
            0.527975,
            1
           ],
           [
            0.050383,
            0.029803,
            0.527975,
            1
           ],
           [
            0.050383,
            0.029803,
            0.527975,
            1
           ],
           [
            0.050383,
            0.029803,
            0.527975,
            1
           ],
           [
            0.050383,
            0.029803,
            0.527975,
            1
           ],
           [
            0.050383,
            0.029803,
            0.527975,
            1
           ],
           [
            0.050383,
            0.029803,
            0.527975,
            1
           ],
           [
            0.050383,
            0.029803,
            0.527975,
            1
           ],
           [
            0.050383,
            0.029803,
            0.527975,
            1
           ],
           [
            0.050383,
            0.029803,
            0.527975,
            1
           ],
           [
            0.050383,
            0.029803,
            0.527975,
            1
           ],
           [
            0.050383,
            0.029803,
            0.527975,
            1
           ],
           [
            0.050383,
            0.029803,
            0.527975,
            1
           ],
           [
            0.050383,
            0.029803,
            0.527975,
            1
           ],
           [
            0.050383,
            0.029803,
            0.527975,
            1
           ],
           [
            0.050383,
            0.029803,
            0.527975,
            1
           ],
           [
            0.050383,
            0.029803,
            0.527975,
            1
           ],
           [
            0.050383,
            0.029803,
            0.527975,
            1
           ],
           [
            0.050383,
            0.029803,
            0.527975,
            1
           ],
           [
            0.050383,
            0.029803,
            0.527975,
            1
           ],
           [
            0.050383,
            0.029803,
            0.527975,
            1
           ],
           [
            0.050383,
            0.029803,
            0.527975,
            1
           ],
           [
            0.050383,
            0.029803,
            0.527975,
            1
           ],
           [
            0.050383,
            0.029803,
            0.527975,
            1
           ],
           [
            0.050383,
            0.029803,
            0.527975,
            1
           ],
           [
            0.050383,
            0.029803,
            0.527975,
            1
           ],
           [
            0.050383,
            0.029803,
            0.527975,
            1
           ],
           [
            0.050383,
            0.029803,
            0.527975,
            1
           ],
           [
            0.050383,
            0.029803,
            0.527975,
            1
           ],
           [
            0.050383,
            0.029803,
            0.527975,
            1
           ],
           [
            0.050383,
            0.029803,
            0.527975,
            1
           ],
           [
            0.050383,
            0.029803,
            0.527975,
            1
           ],
           [
            0.050383,
            0.029803,
            0.527975,
            1
           ],
           [
            0.050383,
            0.029803,
            0.527975,
            1
           ],
           [
            0.050383,
            0.029803,
            0.527975,
            1
           ],
           [
            0.050383,
            0.029803,
            0.527975,
            1
           ],
           [
            0.050383,
            0.029803,
            0.527975,
            1
           ],
           [
            0.050383,
            0.029803,
            0.527975,
            1
           ],
           [
            0.050383,
            0.029803,
            0.527975,
            1
           ],
           [
            0.050383,
            0.029803,
            0.527975,
            1
           ],
           [
            0.050383,
            0.029803,
            0.527975,
            1
           ],
           [
            0.050383,
            0.029803,
            0.527975,
            1
           ],
           [
            0.050383,
            0.029803,
            0.527975,
            1
           ],
           [
            0.050383,
            0.029803,
            0.527975,
            1
           ],
           [
            0.050383,
            0.029803,
            0.527975,
            1
           ],
           [
            0.050383,
            0.029803,
            0.527975,
            1
           ],
           [
            0.050383,
            0.029803,
            0.527975,
            1
           ],
           [
            0.050383,
            0.029803,
            0.527975,
            1
           ],
           [
            0.050383,
            0.029803,
            0.527975,
            1
           ],
           [
            0.050383,
            0.029803,
            0.527975,
            1
           ],
           [
            0.050383,
            0.029803,
            0.527975,
            1
           ],
           [
            0.050383,
            0.029803,
            0.527975,
            1
           ],
           [
            0.050383,
            0.029803,
            0.527975,
            1
           ],
           [
            0.050383,
            0.029803,
            0.527975,
            1
           ],
           [
            0.050383,
            0.029803,
            0.527975,
            1
           ],
           [
            0.050383,
            0.029803,
            0.527975,
            1
           ],
           [
            0.050383,
            0.029803,
            0.527975,
            1
           ],
           [
            0.050383,
            0.029803,
            0.527975,
            1
           ],
           [
            0.050383,
            0.029803,
            0.527975,
            1
           ],
           [
            0.050383,
            0.029803,
            0.527975,
            1
           ],
           [
            0.050383,
            0.029803,
            0.527975,
            1
           ],
           [
            0.050383,
            0.029803,
            0.527975,
            1
           ],
           [
            0.050383,
            0.029803,
            0.527975,
            1
           ],
           [
            0.050383,
            0.029803,
            0.527975,
            1
           ],
           [
            0.050383,
            0.029803,
            0.527975,
            1
           ],
           [
            0.050383,
            0.029803,
            0.527975,
            1
           ],
           [
            0.050383,
            0.029803,
            0.527975,
            1
           ],
           [
            0.050383,
            0.029803,
            0.527975,
            1
           ],
           [
            0.050383,
            0.029803,
            0.527975,
            1
           ],
           [
            0.050383,
            0.029803,
            0.527975,
            1
           ],
           [
            0.050383,
            0.029803,
            0.527975,
            1
           ],
           [
            0.050383,
            0.029803,
            0.527975,
            1
           ],
           [
            0.050383,
            0.029803,
            0.527975,
            1
           ],
           [
            0.050383,
            0.029803,
            0.527975,
            1
           ],
           [
            0.050383,
            0.029803,
            0.527975,
            1
           ],
           [
            0.050383,
            0.029803,
            0.527975,
            1
           ],
           [
            0.050383,
            0.029803,
            0.527975,
            1
           ],
           [
            0.050383,
            0.029803,
            0.527975,
            1
           ],
           [
            0.050383,
            0.029803,
            0.527975,
            1
           ],
           [
            0.050383,
            0.029803,
            0.527975,
            1
           ],
           [
            0.050383,
            0.029803,
            0.527975,
            1
           ],
           [
            0.050383,
            0.029803,
            0.527975,
            1
           ],
           [
            0.050383,
            0.029803,
            0.527975,
            1
           ],
           [
            0.050383,
            0.029803,
            0.527975,
            1
           ],
           [
            0.050383,
            0.029803,
            0.527975,
            1
           ],
           [
            0.050383,
            0.029803,
            0.527975,
            1
           ],
           [
            0.050383,
            0.029803,
            0.527975,
            1
           ],
           [
            0.050383,
            0.029803,
            0.527975,
            1
           ],
           [
            0.050383,
            0.029803,
            0.527975,
            1
           ],
           [
            0.050383,
            0.029803,
            0.527975,
            1
           ],
           [
            0.050383,
            0.029803,
            0.527975,
            1
           ],
           [
            0.050383,
            0.029803,
            0.527975,
            1
           ],
           [
            0.050383,
            0.029803,
            0.527975,
            1
           ],
           [
            0.050383,
            0.029803,
            0.527975,
            1
           ],
           [
            0.050383,
            0.029803,
            0.527975,
            1
           ],
           [
            0.050383,
            0.029803,
            0.527975,
            1
           ],
           [
            0.050383,
            0.029803,
            0.527975,
            1
           ],
           [
            0.050383,
            0.029803,
            0.527975,
            1
           ],
           [
            0.050383,
            0.029803,
            0.527975,
            1
           ],
           [
            0.050383,
            0.029803,
            0.527975,
            1
           ],
           [
            0.050383,
            0.029803,
            0.527975,
            1
           ],
           [
            0.050383,
            0.029803,
            0.527975,
            1
           ],
           [
            0.050383,
            0.029803,
            0.527975,
            1
           ],
           [
            0.050383,
            0.029803,
            0.527975,
            1
           ],
           [
            0.050383,
            0.029803,
            0.527975,
            1
           ],
           [
            0.050383,
            0.029803,
            0.527975,
            1
           ],
           [
            0.050383,
            0.029803,
            0.527975,
            1
           ],
           [
            0.050383,
            0.029803,
            0.527975,
            1
           ],
           [
            0.050383,
            0.029803,
            0.527975,
            1
           ],
           [
            0.050383,
            0.029803,
            0.527975,
            1
           ],
           [
            0.050383,
            0.029803,
            0.527975,
            1
           ],
           [
            0.050383,
            0.029803,
            0.527975,
            1
           ],
           [
            0.050383,
            0.029803,
            0.527975,
            1
           ],
           [
            0.050383,
            0.029803,
            0.527975,
            1
           ],
           [
            0.050383,
            0.029803,
            0.527975,
            1
           ],
           [
            0.050383,
            0.029803,
            0.527975,
            1
           ],
           [
            0.050383,
            0.029803,
            0.527975,
            1
           ],
           [
            0.050383,
            0.029803,
            0.527975,
            1
           ],
           [
            0.050383,
            0.029803,
            0.527975,
            1
           ],
           [
            0.050383,
            0.029803,
            0.527975,
            1
           ],
           [
            0.050383,
            0.029803,
            0.527975,
            1
           ],
           [
            0.050383,
            0.029803,
            0.527975,
            1
           ],
           [
            0.050383,
            0.029803,
            0.527975,
            1
           ],
           [
            0.050383,
            0.029803,
            0.527975,
            1
           ],
           [
            0.050383,
            0.029803,
            0.527975,
            1
           ],
           [
            0.050383,
            0.029803,
            0.527975,
            1
           ],
           [
            0.050383,
            0.029803,
            0.527975,
            1
           ],
           [
            0.050383,
            0.029803,
            0.527975,
            1
           ],
           [
            0.050383,
            0.029803,
            0.527975,
            1
           ],
           [
            0.050383,
            0.029803,
            0.527975,
            1
           ],
           [
            0.050383,
            0.029803,
            0.527975,
            1
           ],
           [
            0.050383,
            0.029803,
            0.527975,
            1
           ],
           [
            0.050383,
            0.029803,
            0.527975,
            1
           ],
           [
            0.050383,
            0.029803,
            0.527975,
            1
           ],
           [
            0.050383,
            0.029803,
            0.527975,
            1
           ],
           [
            0.050383,
            0.029803,
            0.527975,
            1
           ],
           [
            0.050383,
            0.029803,
            0.527975,
            1
           ],
           [
            0.050383,
            0.029803,
            0.527975,
            1
           ],
           [
            0.050383,
            0.029803,
            0.527975,
            1
           ],
           [
            0.050383,
            0.029803,
            0.527975,
            1
           ],
           [
            0.050383,
            0.029803,
            0.527975,
            1
           ],
           [
            0.050383,
            0.029803,
            0.527975,
            1
           ],
           [
            0.050383,
            0.029803,
            0.527975,
            1
           ],
           [
            0.050383,
            0.029803,
            0.527975,
            1
           ],
           [
            0.050383,
            0.029803,
            0.527975,
            1
           ],
           [
            0.050383,
            0.029803,
            0.527975,
            1
           ],
           [
            0.050383,
            0.029803,
            0.527975,
            1
           ],
           [
            0.050383,
            0.029803,
            0.527975,
            1
           ],
           [
            0.050383,
            0.029803,
            0.527975,
            1
           ],
           [
            0.050383,
            0.029803,
            0.527975,
            1
           ],
           [
            0.050383,
            0.029803,
            0.527975,
            1
           ],
           [
            0.050383,
            0.029803,
            0.527975,
            1
           ],
           [
            0.050383,
            0.029803,
            0.527975,
            1
           ],
           [
            0.050383,
            0.029803,
            0.527975,
            1
           ],
           [
            0.050383,
            0.029803,
            0.527975,
            1
           ],
           [
            0.050383,
            0.029803,
            0.527975,
            1
           ],
           [
            0.050383,
            0.029803,
            0.527975,
            1
           ],
           [
            0.050383,
            0.029803,
            0.527975,
            1
           ],
           [
            0.050383,
            0.029803,
            0.527975,
            1
           ],
           [
            0.050383,
            0.029803,
            0.527975,
            1
           ],
           [
            0.050383,
            0.029803,
            0.527975,
            1
           ],
           [
            0.050383,
            0.029803,
            0.527975,
            1
           ],
           [
            0.050383,
            0.029803,
            0.527975,
            1
           ],
           [
            0.050383,
            0.029803,
            0.527975,
            1
           ],
           [
            0.050383,
            0.029803,
            0.527975,
            1
           ],
           [
            0.050383,
            0.029803,
            0.527975,
            1
           ],
           [
            0.050383,
            0.029803,
            0.527975,
            1
           ],
           [
            0.050383,
            0.029803,
            0.527975,
            1
           ],
           [
            0.050383,
            0.029803,
            0.527975,
            1
           ],
           [
            0.050383,
            0.029803,
            0.527975,
            1
           ],
           [
            0.050383,
            0.029803,
            0.527975,
            1
           ],
           [
            0.050383,
            0.029803,
            0.527975,
            1
           ],
           [
            0.050383,
            0.029803,
            0.527975,
            1
           ],
           [
            0.050383,
            0.029803,
            0.527975,
            1
           ],
           [
            0.050383,
            0.029803,
            0.527975,
            1
           ],
           [
            0.050383,
            0.029803,
            0.527975,
            1
           ],
           [
            0.050383,
            0.029803,
            0.527975,
            1
           ],
           [
            0.050383,
            0.029803,
            0.527975,
            1
           ],
           [
            0.050383,
            0.029803,
            0.527975,
            1
           ],
           [
            0.050383,
            0.029803,
            0.527975,
            1
           ],
           [
            0.050383,
            0.029803,
            0.527975,
            1
           ],
           [
            0.050383,
            0.029803,
            0.527975,
            1
           ],
           [
            0.050383,
            0.029803,
            0.527975,
            1
           ],
           [
            0.050383,
            0.029803,
            0.527975,
            1
           ],
           [
            0.050383,
            0.029803,
            0.527975,
            1
           ],
           [
            0.050383,
            0.029803,
            0.527975,
            1
           ],
           [
            0.050383,
            0.029803,
            0.527975,
            1
           ],
           [
            0.050383,
            0.029803,
            0.527975,
            1
           ],
           [
            0.050383,
            0.029803,
            0.527975,
            1
           ],
           [
            0.050383,
            0.029803,
            0.527975,
            1
           ],
           [
            0.050383,
            0.029803,
            0.527975,
            1
           ],
           [
            0.050383,
            0.029803,
            0.527975,
            1
           ],
           [
            0.050383,
            0.029803,
            0.527975,
            1
           ],
           [
            0.050383,
            0.029803,
            0.527975,
            1
           ],
           [
            0.050383,
            0.029803,
            0.527975,
            1
           ],
           [
            0.050383,
            0.029803,
            0.527975,
            1
           ],
           [
            0.050383,
            0.029803,
            0.527975,
            1
           ],
           [
            0.050383,
            0.029803,
            0.527975,
            1
           ],
           [
            0.050383,
            0.029803,
            0.527975,
            1
           ],
           [
            0.050383,
            0.029803,
            0.527975,
            1
           ],
           [
            0.050383,
            0.029803,
            0.527975,
            1
           ],
           [
            0.050383,
            0.029803,
            0.527975,
            1
           ],
           [
            0.050383,
            0.029803,
            0.527975,
            1
           ],
           [
            0.050383,
            0.029803,
            0.527975,
            1
           ],
           [
            0.050383,
            0.029803,
            0.527975,
            1
           ],
           [
            0.050383,
            0.029803,
            0.527975,
            1
           ],
           [
            0.050383,
            0.029803,
            0.527975,
            1
           ],
           [
            0.050383,
            0.029803,
            0.527975,
            1
           ],
           [
            0.050383,
            0.029803,
            0.527975,
            1
           ],
           [
            0.050383,
            0.029803,
            0.527975,
            1
           ],
           [
            0.050383,
            0.029803,
            0.527975,
            1
           ],
           [
            0.050383,
            0.029803,
            0.527975,
            1
           ],
           [
            0.050383,
            0.029803,
            0.527975,
            1
           ],
           [
            0.050383,
            0.029803,
            0.527975,
            1
           ],
           [
            0.050383,
            0.029803,
            0.527975,
            1
           ],
           [
            0.050383,
            0.029803,
            0.527975,
            1
           ],
           [
            0.050383,
            0.029803,
            0.527975,
            1
           ],
           [
            0.050383,
            0.029803,
            0.527975,
            1
           ],
           [
            0.050383,
            0.029803,
            0.527975,
            1
           ],
           [
            0.050383,
            0.029803,
            0.527975,
            1
           ],
           [
            0.050383,
            0.029803,
            0.527975,
            1
           ],
           [
            0.050383,
            0.029803,
            0.527975,
            1
           ],
           [
            0.050383,
            0.029803,
            0.527975,
            1
           ],
           [
            0.050383,
            0.029803,
            0.527975,
            1
           ],
           [
            0.050383,
            0.029803,
            0.527975,
            1
           ],
           [
            0.050383,
            0.029803,
            0.527975,
            1
           ],
           [
            0.050383,
            0.029803,
            0.527975,
            1
           ],
           [
            0.050383,
            0.029803,
            0.527975,
            1
           ],
           [
            0.050383,
            0.029803,
            0.527975,
            1
           ],
           [
            0.050383,
            0.029803,
            0.527975,
            1
           ],
           [
            0.050383,
            0.029803,
            0.527975,
            1
           ],
           [
            0.050383,
            0.029803,
            0.527975,
            1
           ],
           [
            0.050383,
            0.029803,
            0.527975,
            1
           ],
           [
            0.050383,
            0.029803,
            0.527975,
            1
           ],
           [
            0.050383,
            0.029803,
            0.527975,
            1
           ],
           [
            0.050383,
            0.029803,
            0.527975,
            1
           ],
           [
            0.050383,
            0.029803,
            0.527975,
            1
           ],
           [
            0.050383,
            0.029803,
            0.527975,
            1
           ],
           [
            0.050383,
            0.029803,
            0.527975,
            1
           ],
           [
            0.050383,
            0.029803,
            0.527975,
            1
           ],
           [
            0.050383,
            0.029803,
            0.527975,
            1
           ],
           [
            0.050383,
            0.029803,
            0.527975,
            1
           ],
           [
            0.050383,
            0.029803,
            0.527975,
            1
           ],
           [
            0.050383,
            0.029803,
            0.527975,
            1
           ],
           [
            0.050383,
            0.029803,
            0.527975,
            1
           ],
           [
            0.050383,
            0.029803,
            0.527975,
            1
           ],
           [
            0.050383,
            0.029803,
            0.527975,
            1
           ],
           [
            0.050383,
            0.029803,
            0.527975,
            1
           ],
           [
            0.050383,
            0.029803,
            0.527975,
            1
           ],
           [
            0.050383,
            0.029803,
            0.527975,
            1
           ],
           [
            0.050383,
            0.029803,
            0.527975,
            1
           ],
           [
            0.050383,
            0.029803,
            0.527975,
            1
           ],
           [
            0.050383,
            0.029803,
            0.527975,
            1
           ],
           [
            0.050383,
            0.029803,
            0.527975,
            1
           ],
           [
            0.050383,
            0.029803,
            0.527975,
            1
           ],
           [
            0.050383,
            0.029803,
            0.527975,
            1
           ],
           [
            0.050383,
            0.029803,
            0.527975,
            1
           ],
           [
            0.050383,
            0.029803,
            0.527975,
            1
           ],
           [
            0.050383,
            0.029803,
            0.527975,
            1
           ],
           [
            0.050383,
            0.029803,
            0.527975,
            1
           ],
           [
            0.050383,
            0.029803,
            0.527975,
            1
           ],
           [
            0.050383,
            0.029803,
            0.527975,
            1
           ],
           [
            0.050383,
            0.029803,
            0.527975,
            1
           ],
           [
            0.050383,
            0.029803,
            0.527975,
            1
           ],
           [
            0.050383,
            0.029803,
            0.527975,
            1
           ],
           [
            0.050383,
            0.029803,
            0.527975,
            1
           ],
           [
            0.050383,
            0.029803,
            0.527975,
            1
           ],
           [
            0.050383,
            0.029803,
            0.527975,
            1
           ],
           [
            0.050383,
            0.029803,
            0.527975,
            1
           ],
           [
            0.050383,
            0.029803,
            0.527975,
            1
           ],
           [
            0.050383,
            0.029803,
            0.527975,
            1
           ],
           [
            0.050383,
            0.029803,
            0.527975,
            1
           ],
           [
            0.050383,
            0.029803,
            0.527975,
            1
           ],
           [
            0.050383,
            0.029803,
            0.527975,
            1
           ],
           [
            0.050383,
            0.029803,
            0.527975,
            1
           ],
           [
            0.050383,
            0.029803,
            0.527975,
            1
           ],
           [
            0.050383,
            0.029803,
            0.527975,
            1
           ],
           [
            0.050383,
            0.029803,
            0.527975,
            1
           ],
           [
            0.050383,
            0.029803,
            0.527975,
            1
           ],
           [
            0.050383,
            0.029803,
            0.527975,
            1
           ],
           [
            0.050383,
            0.029803,
            0.527975,
            1
           ],
           [
            0.050383,
            0.029803,
            0.527975,
            1
           ],
           [
            0.050383,
            0.029803,
            0.527975,
            1
           ],
           [
            0.050383,
            0.029803,
            0.527975,
            1
           ],
           [
            0.050383,
            0.029803,
            0.527975,
            1
           ],
           [
            0.050383,
            0.029803,
            0.527975,
            1
           ],
           [
            0.050383,
            0.029803,
            0.527975,
            1
           ],
           [
            0.050383,
            0.029803,
            0.527975,
            1
           ],
           [
            0.050383,
            0.029803,
            0.527975,
            1
           ],
           [
            0.050383,
            0.029803,
            0.527975,
            1
           ],
           [
            0.050383,
            0.029803,
            0.527975,
            1
           ],
           [
            0.050383,
            0.029803,
            0.527975,
            1
           ],
           [
            0.050383,
            0.029803,
            0.527975,
            1
           ],
           [
            0.050383,
            0.029803,
            0.527975,
            1
           ],
           [
            0.050383,
            0.029803,
            0.527975,
            1
           ],
           [
            0.050383,
            0.029803,
            0.527975,
            1
           ],
           [
            0.050383,
            0.029803,
            0.527975,
            1
           ],
           [
            0.050383,
            0.029803,
            0.527975,
            1
           ],
           [
            0.050383,
            0.029803,
            0.527975,
            1
           ],
           [
            0.050383,
            0.029803,
            0.527975,
            1
           ],
           [
            0.050383,
            0.029803,
            0.527975,
            1
           ],
           [
            0.050383,
            0.029803,
            0.527975,
            1
           ],
           [
            0.050383,
            0.029803,
            0.527975,
            1
           ],
           [
            0.050383,
            0.029803,
            0.527975,
            1
           ],
           [
            0.050383,
            0.029803,
            0.527975,
            1
           ],
           [
            0.050383,
            0.029803,
            0.527975,
            1
           ],
           [
            0.050383,
            0.029803,
            0.527975,
            1
           ],
           [
            0.050383,
            0.029803,
            0.527975,
            1
           ],
           [
            0.050383,
            0.029803,
            0.527975,
            1
           ],
           [
            0.050383,
            0.029803,
            0.527975,
            1
           ],
           [
            0.050383,
            0.029803,
            0.527975,
            1
           ],
           [
            0.050383,
            0.029803,
            0.527975,
            1
           ],
           [
            0.050383,
            0.029803,
            0.527975,
            1
           ],
           [
            0.050383,
            0.029803,
            0.527975,
            1
           ],
           [
            0.050383,
            0.029803,
            0.527975,
            1
           ],
           [
            0.050383,
            0.029803,
            0.527975,
            1
           ],
           [
            0.050383,
            0.029803,
            0.527975,
            1
           ],
           [
            0.050383,
            0.029803,
            0.527975,
            1
           ],
           [
            0.050383,
            0.029803,
            0.527975,
            1
           ],
           [
            0.050383,
            0.029803,
            0.527975,
            1
           ],
           [
            0.050383,
            0.029803,
            0.527975,
            1
           ],
           [
            0.050383,
            0.029803,
            0.527975,
            1
           ],
           [
            0.050383,
            0.029803,
            0.527975,
            1
           ],
           [
            0.050383,
            0.029803,
            0.527975,
            1
           ],
           [
            0.050383,
            0.029803,
            0.527975,
            1
           ],
           [
            0.050383,
            0.029803,
            0.527975,
            1
           ],
           [
            0.050383,
            0.029803,
            0.527975,
            1
           ],
           [
            0.050383,
            0.029803,
            0.527975,
            1
           ],
           [
            0.050383,
            0.029803,
            0.527975,
            1
           ],
           [
            0.050383,
            0.029803,
            0.527975,
            1
           ],
           [
            0.050383,
            0.029803,
            0.527975,
            1
           ],
           [
            0.050383,
            0.029803,
            0.527975,
            1
           ],
           [
            0.050383,
            0.029803,
            0.527975,
            1
           ],
           [
            0.050383,
            0.029803,
            0.527975,
            1
           ],
           [
            0.050383,
            0.029803,
            0.527975,
            1
           ],
           [
            0.050383,
            0.029803,
            0.527975,
            1
           ],
           [
            0.050383,
            0.029803,
            0.527975,
            1
           ],
           [
            0.050383,
            0.029803,
            0.527975,
            1
           ],
           [
            0.050383,
            0.029803,
            0.527975,
            1
           ],
           [
            0.050383,
            0.029803,
            0.527975,
            1
           ],
           [
            0.050383,
            0.029803,
            0.527975,
            1
           ],
           [
            0.050383,
            0.029803,
            0.527975,
            1
           ],
           [
            0.050383,
            0.029803,
            0.527975,
            1
           ],
           [
            0.050383,
            0.029803,
            0.527975,
            1
           ],
           [
            0.050383,
            0.029803,
            0.527975,
            1
           ],
           [
            0.050383,
            0.029803,
            0.527975,
            1
           ],
           [
            0.050383,
            0.029803,
            0.527975,
            1
           ],
           [
            0.050383,
            0.029803,
            0.527975,
            1
           ],
           [
            0.050383,
            0.029803,
            0.527975,
            1
           ],
           [
            0.050383,
            0.029803,
            0.527975,
            1
           ],
           [
            0.050383,
            0.029803,
            0.527975,
            1
           ],
           [
            0.050383,
            0.029803,
            0.527975,
            1
           ],
           [
            0.050383,
            0.029803,
            0.527975,
            1
           ],
           [
            0.050383,
            0.029803,
            0.527975,
            1
           ],
           [
            0.050383,
            0.029803,
            0.527975,
            1
           ],
           [
            0.050383,
            0.029803,
            0.527975,
            1
           ],
           [
            0.050383,
            0.029803,
            0.527975,
            1
           ],
           [
            0.050383,
            0.029803,
            0.527975,
            1
           ],
           [
            0.050383,
            0.029803,
            0.527975,
            1
           ],
           [
            0.050383,
            0.029803,
            0.527975,
            1
           ],
           [
            0.050383,
            0.029803,
            0.527975,
            1
           ],
           [
            0.050383,
            0.029803,
            0.527975,
            1
           ],
           [
            0.050383,
            0.029803,
            0.527975,
            1
           ],
           [
            0.050383,
            0.029803,
            0.527975,
            1
           ],
           [
            0.050383,
            0.029803,
            0.527975,
            1
           ],
           [
            0.050383,
            0.029803,
            0.527975,
            1
           ],
           [
            0.050383,
            0.029803,
            0.527975,
            1
           ],
           [
            0.050383,
            0.029803,
            0.527975,
            1
           ],
           [
            0.050383,
            0.029803,
            0.527975,
            1
           ],
           [
            0.050383,
            0.029803,
            0.527975,
            1
           ],
           [
            0.050383,
            0.029803,
            0.527975,
            1
           ],
           [
            0.050383,
            0.029803,
            0.527975,
            1
           ],
           [
            0.050383,
            0.029803,
            0.527975,
            1
           ],
           [
            0.050383,
            0.029803,
            0.527975,
            1
           ],
           [
            0.050383,
            0.029803,
            0.527975,
            1
           ],
           [
            0.050383,
            0.029803,
            0.527975,
            1
           ],
           [
            0.050383,
            0.029803,
            0.527975,
            1
           ],
           [
            0.050383,
            0.029803,
            0.527975,
            1
           ],
           [
            0.050383,
            0.029803,
            0.527975,
            1
           ],
           [
            0.050383,
            0.029803,
            0.527975,
            1
           ],
           [
            0.050383,
            0.029803,
            0.527975,
            1
           ],
           [
            0.050383,
            0.029803,
            0.527975,
            1
           ],
           [
            0.050383,
            0.029803,
            0.527975,
            1
           ],
           [
            0.050383,
            0.029803,
            0.527975,
            1
           ],
           [
            0.050383,
            0.029803,
            0.527975,
            1
           ],
           [
            0.050383,
            0.029803,
            0.527975,
            1
           ],
           [
            0.050383,
            0.029803,
            0.527975,
            1
           ],
           [
            0.050383,
            0.029803,
            0.527975,
            1
           ],
           [
            0.050383,
            0.029803,
            0.527975,
            1
           ],
           [
            0.050383,
            0.029803,
            0.527975,
            1
           ],
           [
            0.050383,
            0.029803,
            0.527975,
            1
           ],
           [
            0.050383,
            0.029803,
            0.527975,
            1
           ],
           [
            0.050383,
            0.029803,
            0.527975,
            1
           ],
           [
            0.050383,
            0.029803,
            0.527975,
            1
           ],
           [
            0.050383,
            0.029803,
            0.527975,
            1
           ],
           [
            0.050383,
            0.029803,
            0.527975,
            1
           ],
           [
            0.050383,
            0.029803,
            0.527975,
            1
           ],
           [
            0.050383,
            0.029803,
            0.527975,
            1
           ],
           [
            0.050383,
            0.029803,
            0.527975,
            1
           ],
           [
            0.050383,
            0.029803,
            0.527975,
            1
           ],
           [
            0.050383,
            0.029803,
            0.527975,
            1
           ],
           [
            0.050383,
            0.029803,
            0.527975,
            1
           ],
           [
            0.050383,
            0.029803,
            0.527975,
            1
           ],
           [
            0.050383,
            0.029803,
            0.527975,
            1
           ],
           [
            0.050383,
            0.029803,
            0.527975,
            1
           ],
           [
            0.050383,
            0.029803,
            0.527975,
            1
           ],
           [
            0.050383,
            0.029803,
            0.527975,
            1
           ],
           [
            0.050383,
            0.029803,
            0.527975,
            1
           ],
           [
            0.050383,
            0.029803,
            0.527975,
            1
           ],
           [
            0.050383,
            0.029803,
            0.527975,
            1
           ],
           [
            0.050383,
            0.029803,
            0.527975,
            1
           ],
           [
            0.050383,
            0.029803,
            0.527975,
            1
           ],
           [
            0.050383,
            0.029803,
            0.527975,
            1
           ],
           [
            0.050383,
            0.029803,
            0.527975,
            1
           ],
           [
            0.050383,
            0.029803,
            0.527975,
            1
           ],
           [
            0.050383,
            0.029803,
            0.527975,
            1
           ],
           [
            0.050383,
            0.029803,
            0.527975,
            1
           ],
           [
            0.050383,
            0.029803,
            0.527975,
            1
           ],
           [
            0.050383,
            0.029803,
            0.527975,
            1
           ],
           [
            0.050383,
            0.029803,
            0.527975,
            1
           ],
           [
            0.050383,
            0.029803,
            0.527975,
            1
           ],
           [
            0.050383,
            0.029803,
            0.527975,
            1
           ],
           [
            0.050383,
            0.029803,
            0.527975,
            1
           ],
           [
            0.050383,
            0.029803,
            0.527975,
            1
           ],
           [
            0.050383,
            0.029803,
            0.527975,
            1
           ],
           [
            0.050383,
            0.029803,
            0.527975,
            1
           ],
           [
            0.050383,
            0.029803,
            0.527975,
            1
           ],
           [
            0.050383,
            0.029803,
            0.527975,
            1
           ],
           [
            0.050383,
            0.029803,
            0.527975,
            1
           ],
           [
            0.050383,
            0.029803,
            0.527975,
            1
           ],
           [
            0.050383,
            0.029803,
            0.527975,
            1
           ],
           [
            0.050383,
            0.029803,
            0.527975,
            1
           ],
           [
            0.050383,
            0.029803,
            0.527975,
            1
           ],
           [
            0.050383,
            0.029803,
            0.527975,
            1
           ],
           [
            0.050383,
            0.029803,
            0.527975,
            1
           ],
           [
            0.050383,
            0.029803,
            0.527975,
            1
           ],
           [
            0.050383,
            0.029803,
            0.527975,
            1
           ],
           [
            0.050383,
            0.029803,
            0.527975,
            1
           ],
           [
            0.050383,
            0.029803,
            0.527975,
            1
           ],
           [
            0.050383,
            0.029803,
            0.527975,
            1
           ],
           [
            0.050383,
            0.029803,
            0.527975,
            1
           ],
           [
            0.050383,
            0.029803,
            0.527975,
            1
           ],
           [
            0.050383,
            0.029803,
            0.527975,
            1
           ],
           [
            0.050383,
            0.029803,
            0.527975,
            1
           ],
           [
            0.050383,
            0.029803,
            0.527975,
            1
           ],
           [
            0.050383,
            0.029803,
            0.527975,
            1
           ],
           [
            0.050383,
            0.029803,
            0.527975,
            1
           ],
           [
            0.050383,
            0.029803,
            0.527975,
            1
           ],
           [
            0.050383,
            0.029803,
            0.527975,
            1
           ],
           [
            0.050383,
            0.029803,
            0.527975,
            1
           ],
           [
            0.050383,
            0.029803,
            0.527975,
            1
           ],
           [
            0.050383,
            0.029803,
            0.527975,
            1
           ],
           [
            0.050383,
            0.029803,
            0.527975,
            1
           ],
           [
            0.050383,
            0.029803,
            0.527975,
            1
           ],
           [
            0.050383,
            0.029803,
            0.527975,
            1
           ],
           [
            0.050383,
            0.029803,
            0.527975,
            1
           ],
           [
            0.050383,
            0.029803,
            0.527975,
            1
           ],
           [
            0.050383,
            0.029803,
            0.527975,
            1
           ],
           [
            0.050383,
            0.029803,
            0.527975,
            1
           ],
           [
            0.050383,
            0.029803,
            0.527975,
            1
           ],
           [
            0.050383,
            0.029803,
            0.527975,
            1
           ],
           [
            0.050383,
            0.029803,
            0.527975,
            1
           ],
           [
            0.050383,
            0.029803,
            0.527975,
            1
           ],
           [
            0.050383,
            0.029803,
            0.527975,
            1
           ],
           [
            0.050383,
            0.029803,
            0.527975,
            1
           ],
           [
            0.050383,
            0.029803,
            0.527975,
            1
           ],
           [
            0.050383,
            0.029803,
            0.527975,
            1
           ],
           [
            0.050383,
            0.029803,
            0.527975,
            1
           ],
           [
            0.050383,
            0.029803,
            0.527975,
            1
           ],
           [
            0.050383,
            0.029803,
            0.527975,
            1
           ],
           [
            0.050383,
            0.029803,
            0.527975,
            1
           ],
           [
            0.050383,
            0.029803,
            0.527975,
            1
           ],
           [
            0.050383,
            0.029803,
            0.527975,
            1
           ],
           [
            0.050383,
            0.029803,
            0.527975,
            1
           ],
           [
            0.050383,
            0.029803,
            0.527975,
            1
           ],
           [
            0.050383,
            0.029803,
            0.527975,
            1
           ],
           [
            0.050383,
            0.029803,
            0.527975,
            1
           ],
           [
            0.050383,
            0.029803,
            0.527975,
            1
           ],
           [
            0.050383,
            0.029803,
            0.527975,
            1
           ],
           [
            0.050383,
            0.029803,
            0.527975,
            1
           ],
           [
            0.050383,
            0.029803,
            0.527975,
            1
           ],
           [
            0.050383,
            0.029803,
            0.527975,
            1
           ],
           [
            0.050383,
            0.029803,
            0.527975,
            1
           ],
           [
            0.050383,
            0.029803,
            0.527975,
            1
           ],
           [
            0.050383,
            0.029803,
            0.527975,
            1
           ],
           [
            0.050383,
            0.029803,
            0.527975,
            1
           ],
           [
            0.050383,
            0.029803,
            0.527975,
            1
           ],
           [
            0.050383,
            0.029803,
            0.527975,
            1
           ],
           [
            0.050383,
            0.029803,
            0.527975,
            1
           ],
           [
            0.050383,
            0.029803,
            0.527975,
            1
           ],
           [
            0.050383,
            0.029803,
            0.527975,
            1
           ],
           [
            0.050383,
            0.029803,
            0.527975,
            1
           ],
           [
            0.050383,
            0.029803,
            0.527975,
            1
           ],
           [
            0.050383,
            0.029803,
            0.527975,
            1
           ],
           [
            0.050383,
            0.029803,
            0.527975,
            1
           ],
           [
            0.050383,
            0.029803,
            0.527975,
            1
           ],
           [
            0.050383,
            0.029803,
            0.527975,
            1
           ],
           [
            0.050383,
            0.029803,
            0.527975,
            1
           ],
           [
            0.050383,
            0.029803,
            0.527975,
            1
           ],
           [
            0.050383,
            0.029803,
            0.527975,
            1
           ],
           [
            0.050383,
            0.029803,
            0.527975,
            1
           ],
           [
            0.050383,
            0.029803,
            0.527975,
            1
           ],
           [
            0.050383,
            0.029803,
            0.527975,
            1
           ],
           [
            0.050383,
            0.029803,
            0.527975,
            1
           ],
           [
            0.050383,
            0.029803,
            0.527975,
            1
           ],
           [
            0.050383,
            0.029803,
            0.527975,
            1
           ],
           [
            0.050383,
            0.029803,
            0.527975,
            1
           ],
           [
            0.050383,
            0.029803,
            0.527975,
            1
           ],
           [
            0.050383,
            0.029803,
            0.527975,
            1
           ],
           [
            0.050383,
            0.029803,
            0.527975,
            1
           ],
           [
            0.050383,
            0.029803,
            0.527975,
            1
           ],
           [
            0.050383,
            0.029803,
            0.527975,
            1
           ],
           [
            0.050383,
            0.029803,
            0.527975,
            1
           ],
           [
            0.050383,
            0.029803,
            0.527975,
            1
           ],
           [
            0.050383,
            0.029803,
            0.527975,
            1
           ],
           [
            0.050383,
            0.029803,
            0.527975,
            1
           ],
           [
            0.050383,
            0.029803,
            0.527975,
            1
           ],
           [
            0.050383,
            0.029803,
            0.527975,
            1
           ],
           [
            0.050383,
            0.029803,
            0.527975,
            1
           ],
           [
            0.050383,
            0.029803,
            0.527975,
            1
           ],
           [
            0.050383,
            0.029803,
            0.527975,
            1
           ],
           [
            0.050383,
            0.029803,
            0.527975,
            1
           ],
           [
            0.050383,
            0.029803,
            0.527975,
            1
           ],
           [
            0.050383,
            0.029803,
            0.527975,
            1
           ],
           [
            0.050383,
            0.029803,
            0.527975,
            1
           ],
           [
            0.050383,
            0.029803,
            0.527975,
            1
           ],
           [
            0.050383,
            0.029803,
            0.527975,
            1
           ],
           [
            0.050383,
            0.029803,
            0.527975,
            1
           ],
           [
            0.050383,
            0.029803,
            0.527975,
            1
           ],
           [
            0.050383,
            0.029803,
            0.527975,
            1
           ],
           [
            0.050383,
            0.029803,
            0.527975,
            1
           ],
           [
            0.050383,
            0.029803,
            0.527975,
            1
           ],
           [
            0.050383,
            0.029803,
            0.527975,
            1
           ],
           [
            0.050383,
            0.029803,
            0.527975,
            1
           ],
           [
            0.050383,
            0.029803,
            0.527975,
            1
           ],
           [
            0.050383,
            0.029803,
            0.527975,
            1
           ],
           [
            0.050383,
            0.029803,
            0.527975,
            1
           ],
           [
            0.050383,
            0.029803,
            0.527975,
            1
           ],
           [
            0.050383,
            0.029803,
            0.527975,
            1
           ],
           [
            0.050383,
            0.029803,
            0.527975,
            1
           ],
           [
            0.050383,
            0.029803,
            0.527975,
            1
           ],
           [
            0.050383,
            0.029803,
            0.527975,
            1
           ],
           [
            0.050383,
            0.029803,
            0.527975,
            1
           ],
           [
            0.050383,
            0.029803,
            0.527975,
            1
           ],
           [
            0.050383,
            0.029803,
            0.527975,
            1
           ],
           [
            0.050383,
            0.029803,
            0.527975,
            1
           ],
           [
            0.050383,
            0.029803,
            0.527975,
            1
           ],
           [
            0.050383,
            0.029803,
            0.527975,
            1
           ],
           [
            0.050383,
            0.029803,
            0.527975,
            1
           ],
           [
            0.050383,
            0.029803,
            0.527975,
            1
           ],
           [
            0.050383,
            0.029803,
            0.527975,
            1
           ],
           [
            0.050383,
            0.029803,
            0.527975,
            1
           ],
           [
            0.050383,
            0.029803,
            0.527975,
            1
           ],
           [
            0.050383,
            0.029803,
            0.527975,
            1
           ],
           [
            0.050383,
            0.029803,
            0.527975,
            1
           ],
           [
            0.050383,
            0.029803,
            0.527975,
            1
           ],
           [
            0.050383,
            0.029803,
            0.527975,
            1
           ],
           [
            0.050383,
            0.029803,
            0.527975,
            1
           ],
           [
            0.050383,
            0.029803,
            0.527975,
            1
           ],
           [
            0.050383,
            0.029803,
            0.527975,
            1
           ],
           [
            0.050383,
            0.029803,
            0.527975,
            1
           ],
           [
            0.050383,
            0.029803,
            0.527975,
            1
           ],
           [
            0.050383,
            0.029803,
            0.527975,
            1
           ],
           [
            0.050383,
            0.029803,
            0.527975,
            1
           ],
           [
            0.050383,
            0.029803,
            0.527975,
            1
           ],
           [
            0.050383,
            0.029803,
            0.527975,
            1
           ],
           [
            0.050383,
            0.029803,
            0.527975,
            1
           ],
           [
            0.050383,
            0.029803,
            0.527975,
            1
           ],
           [
            0.050383,
            0.029803,
            0.527975,
            1
           ],
           [
            0.050383,
            0.029803,
            0.527975,
            1
           ],
           [
            0.050383,
            0.029803,
            0.527975,
            1
           ],
           [
            0.050383,
            0.029803,
            0.527975,
            1
           ],
           [
            0.050383,
            0.029803,
            0.527975,
            1
           ],
           [
            0.050383,
            0.029803,
            0.527975,
            1
           ],
           [
            0.050383,
            0.029803,
            0.527975,
            1
           ],
           [
            0.050383,
            0.029803,
            0.527975,
            1
           ],
           [
            0.050383,
            0.029803,
            0.527975,
            1
           ],
           [
            0.050383,
            0.029803,
            0.527975,
            1
           ],
           [
            0.050383,
            0.029803,
            0.527975,
            1
           ],
           [
            0.050383,
            0.029803,
            0.527975,
            1
           ],
           [
            0.050383,
            0.029803,
            0.527975,
            1
           ],
           [
            0.050383,
            0.029803,
            0.527975,
            1
           ],
           [
            0.050383,
            0.029803,
            0.527975,
            1
           ],
           [
            0.050383,
            0.029803,
            0.527975,
            1
           ],
           [
            0.050383,
            0.029803,
            0.527975,
            1
           ],
           [
            0.050383,
            0.029803,
            0.527975,
            1
           ],
           [
            0.050383,
            0.029803,
            0.527975,
            1
           ],
           [
            0.050383,
            0.029803,
            0.527975,
            1
           ],
           [
            0.050383,
            0.029803,
            0.527975,
            1
           ],
           [
            0.050383,
            0.029803,
            0.527975,
            1
           ],
           [
            0.050383,
            0.029803,
            0.527975,
            1
           ],
           [
            0.050383,
            0.029803,
            0.527975,
            1
           ],
           [
            0.050383,
            0.029803,
            0.527975,
            1
           ],
           [
            0.050383,
            0.029803,
            0.527975,
            1
           ],
           [
            0.050383,
            0.029803,
            0.527975,
            1
           ],
           [
            0.050383,
            0.029803,
            0.527975,
            1
           ],
           [
            0.050383,
            0.029803,
            0.527975,
            1
           ],
           [
            0.050383,
            0.029803,
            0.527975,
            1
           ],
           [
            0.050383,
            0.029803,
            0.527975,
            1
           ],
           [
            0.050383,
            0.029803,
            0.527975,
            1
           ],
           [
            0.050383,
            0.029803,
            0.527975,
            1
           ],
           [
            0.050383,
            0.029803,
            0.527975,
            1
           ],
           [
            0.050383,
            0.029803,
            0.527975,
            1
           ],
           [
            0.050383,
            0.029803,
            0.527975,
            1
           ],
           [
            0.050383,
            0.029803,
            0.527975,
            1
           ],
           [
            0.050383,
            0.029803,
            0.527975,
            1
           ],
           [
            0.050383,
            0.029803,
            0.527975,
            1
           ],
           [
            0.050383,
            0.029803,
            0.527975,
            1
           ],
           [
            0.050383,
            0.029803,
            0.527975,
            1
           ],
           [
            0.050383,
            0.029803,
            0.527975,
            1
           ],
           [
            0.050383,
            0.029803,
            0.527975,
            1
           ],
           [
            0.050383,
            0.029803,
            0.527975,
            1
           ],
           [
            0.050383,
            0.029803,
            0.527975,
            1
           ],
           [
            0.050383,
            0.029803,
            0.527975,
            1
           ],
           [
            0.050383,
            0.029803,
            0.527975,
            1
           ],
           [
            0.050383,
            0.029803,
            0.527975,
            1
           ],
           [
            0.050383,
            0.029803,
            0.527975,
            1
           ],
           [
            0.050383,
            0.029803,
            0.527975,
            1
           ],
           [
            0.050383,
            0.029803,
            0.527975,
            1
           ],
           [
            0.050383,
            0.029803,
            0.527975,
            1
           ],
           [
            0.050383,
            0.029803,
            0.527975,
            1
           ],
           [
            0.050383,
            0.029803,
            0.527975,
            1
           ],
           [
            0.050383,
            0.029803,
            0.527975,
            1
           ],
           [
            0.050383,
            0.029803,
            0.527975,
            1
           ],
           [
            0.050383,
            0.029803,
            0.527975,
            1
           ],
           [
            0.050383,
            0.029803,
            0.527975,
            1
           ],
           [
            0.050383,
            0.029803,
            0.527975,
            1
           ],
           [
            0.050383,
            0.029803,
            0.527975,
            1
           ],
           [
            0.050383,
            0.029803,
            0.527975,
            1
           ],
           [
            0.050383,
            0.029803,
            0.527975,
            1
           ],
           [
            0.050383,
            0.029803,
            0.527975,
            1
           ],
           [
            0.050383,
            0.029803,
            0.527975,
            1
           ],
           [
            0.050383,
            0.029803,
            0.527975,
            1
           ],
           [
            0.050383,
            0.029803,
            0.527975,
            1
           ],
           [
            0.050383,
            0.029803,
            0.527975,
            1
           ],
           [
            0.050383,
            0.029803,
            0.527975,
            1
           ],
           [
            0.050383,
            0.029803,
            0.527975,
            1
           ],
           [
            0.050383,
            0.029803,
            0.527975,
            1
           ],
           [
            0.050383,
            0.029803,
            0.527975,
            1
           ],
           [
            0.050383,
            0.029803,
            0.527975,
            1
           ],
           [
            0.050383,
            0.029803,
            0.527975,
            1
           ],
           [
            0.050383,
            0.029803,
            0.527975,
            1
           ],
           [
            0.050383,
            0.029803,
            0.527975,
            1
           ],
           [
            0.050383,
            0.029803,
            0.527975,
            1
           ],
           [
            0.050383,
            0.029803,
            0.527975,
            1
           ],
           [
            0.050383,
            0.029803,
            0.527975,
            1
           ],
           [
            0.050383,
            0.029803,
            0.527975,
            1
           ],
           [
            0.050383,
            0.029803,
            0.527975,
            1
           ],
           [
            0.050383,
            0.029803,
            0.527975,
            1
           ],
           [
            0.050383,
            0.029803,
            0.527975,
            1
           ],
           [
            0.050383,
            0.029803,
            0.527975,
            1
           ],
           [
            0.050383,
            0.029803,
            0.527975,
            1
           ],
           [
            0.050383,
            0.029803,
            0.527975,
            1
           ],
           [
            0.050383,
            0.029803,
            0.527975,
            1
           ],
           [
            0.050383,
            0.029803,
            0.527975,
            1
           ],
           [
            0.050383,
            0.029803,
            0.527975,
            1
           ],
           [
            0.050383,
            0.029803,
            0.527975,
            1
           ],
           [
            0.050383,
            0.029803,
            0.527975,
            1
           ],
           [
            0.050383,
            0.029803,
            0.527975,
            1
           ],
           [
            0.050383,
            0.029803,
            0.527975,
            1
           ],
           [
            0.050383,
            0.029803,
            0.527975,
            1
           ],
           [
            0.050383,
            0.029803,
            0.527975,
            1
           ],
           [
            0.050383,
            0.029803,
            0.527975,
            1
           ],
           [
            0.050383,
            0.029803,
            0.527975,
            1
           ],
           [
            0.050383,
            0.029803,
            0.527975,
            1
           ],
           [
            0.050383,
            0.029803,
            0.527975,
            1
           ],
           [
            0.050383,
            0.029803,
            0.527975,
            1
           ],
           [
            0.050383,
            0.029803,
            0.527975,
            1
           ],
           [
            0.050383,
            0.029803,
            0.527975,
            1
           ],
           [
            0.050383,
            0.029803,
            0.527975,
            1
           ],
           [
            0.050383,
            0.029803,
            0.527975,
            1
           ],
           [
            0.050383,
            0.029803,
            0.527975,
            1
           ],
           [
            0.050383,
            0.029803,
            0.527975,
            1
           ],
           [
            0.050383,
            0.029803,
            0.527975,
            1
           ],
           [
            0.050383,
            0.029803,
            0.527975,
            1
           ],
           [
            0.050383,
            0.029803,
            0.527975,
            1
           ],
           [
            0.050383,
            0.029803,
            0.527975,
            1
           ],
           [
            0.050383,
            0.029803,
            0.527975,
            1
           ],
           [
            0.050383,
            0.029803,
            0.527975,
            1
           ],
           [
            0.050383,
            0.029803,
            0.527975,
            1
           ],
           [
            0.050383,
            0.029803,
            0.527975,
            1
           ],
           [
            0.050383,
            0.029803,
            0.527975,
            1
           ],
           [
            0.050383,
            0.029803,
            0.527975,
            1
           ],
           [
            0.050383,
            0.029803,
            0.527975,
            1
           ],
           [
            0.050383,
            0.029803,
            0.527975,
            1
           ],
           [
            0.050383,
            0.029803,
            0.527975,
            1
           ],
           [
            0.050383,
            0.029803,
            0.527975,
            1
           ],
           [
            0.050383,
            0.029803,
            0.527975,
            1
           ],
           [
            0.050383,
            0.029803,
            0.527975,
            1
           ],
           [
            0.050383,
            0.029803,
            0.527975,
            1
           ],
           [
            0.050383,
            0.029803,
            0.527975,
            1
           ],
           [
            0.050383,
            0.029803,
            0.527975,
            1
           ],
           [
            0.050383,
            0.029803,
            0.527975,
            1
           ],
           [
            0.050383,
            0.029803,
            0.527975,
            1
           ],
           [
            0.050383,
            0.029803,
            0.527975,
            1
           ],
           [
            0.050383,
            0.029803,
            0.527975,
            1
           ],
           [
            0.050383,
            0.029803,
            0.527975,
            1
           ],
           [
            0.050383,
            0.029803,
            0.527975,
            1
           ],
           [
            0.050383,
            0.029803,
            0.527975,
            1
           ]
          ],
          "width": 10
         },
         "mode": "lines",
         "text": [
          "peptide_bond",
          "peptide_bond",
          "peptide_bond",
          "peptide_bond",
          "peptide_bond",
          "peptide_bond",
          "peptide_bond",
          "peptide_bond",
          "peptide_bond",
          "peptide_bond",
          "peptide_bond",
          "peptide_bond",
          "peptide_bond",
          "peptide_bond",
          "peptide_bond",
          "peptide_bond",
          "peptide_bond",
          "peptide_bond",
          "peptide_bond",
          "peptide_bond",
          "peptide_bond",
          "peptide_bond",
          "peptide_bond",
          "peptide_bond",
          "peptide_bond",
          "peptide_bond",
          "peptide_bond",
          "peptide_bond",
          "peptide_bond",
          "peptide_bond",
          "peptide_bond",
          "peptide_bond",
          "peptide_bond",
          "peptide_bond",
          "peptide_bond",
          "peptide_bond",
          "peptide_bond",
          "peptide_bond",
          "peptide_bond",
          "peptide_bond",
          "peptide_bond",
          "peptide_bond",
          "peptide_bond",
          "peptide_bond",
          "peptide_bond",
          "peptide_bond",
          "peptide_bond",
          "peptide_bond",
          "peptide_bond",
          "peptide_bond",
          "peptide_bond",
          "peptide_bond",
          "peptide_bond",
          "peptide_bond",
          "peptide_bond",
          "peptide_bond",
          "peptide_bond",
          "peptide_bond",
          "peptide_bond",
          "peptide_bond",
          "peptide_bond",
          "peptide_bond",
          "peptide_bond",
          "peptide_bond",
          "peptide_bond",
          "peptide_bond",
          "peptide_bond",
          "peptide_bond",
          "peptide_bond",
          "peptide_bond",
          "peptide_bond",
          "peptide_bond",
          "peptide_bond",
          "peptide_bond",
          "peptide_bond",
          "peptide_bond",
          "peptide_bond",
          "peptide_bond",
          "peptide_bond",
          "peptide_bond",
          "peptide_bond",
          "peptide_bond",
          "peptide_bond",
          "peptide_bond",
          "peptide_bond",
          "peptide_bond",
          "peptide_bond",
          "peptide_bond",
          "peptide_bond",
          "peptide_bond",
          "peptide_bond",
          "peptide_bond",
          "peptide_bond",
          "peptide_bond",
          "peptide_bond",
          "peptide_bond",
          "peptide_bond",
          "peptide_bond",
          "peptide_bond",
          "peptide_bond",
          "peptide_bond",
          "peptide_bond",
          "peptide_bond",
          "peptide_bond",
          "peptide_bond",
          "peptide_bond",
          "peptide_bond",
          "peptide_bond",
          "peptide_bond",
          "peptide_bond",
          "peptide_bond",
          "peptide_bond",
          "peptide_bond",
          "peptide_bond",
          "peptide_bond",
          "peptide_bond",
          "peptide_bond",
          "peptide_bond",
          "peptide_bond",
          "peptide_bond",
          "peptide_bond",
          "peptide_bond",
          "peptide_bond",
          "peptide_bond",
          "peptide_bond",
          "peptide_bond",
          "peptide_bond",
          "peptide_bond",
          "peptide_bond",
          "peptide_bond",
          "peptide_bond",
          "peptide_bond",
          "peptide_bond",
          "peptide_bond",
          "peptide_bond",
          "peptide_bond",
          "peptide_bond",
          "peptide_bond",
          "peptide_bond",
          "peptide_bond",
          "peptide_bond",
          "peptide_bond",
          "peptide_bond",
          "peptide_bond",
          "peptide_bond",
          "peptide_bond",
          "peptide_bond",
          "peptide_bond",
          "peptide_bond",
          "peptide_bond",
          "peptide_bond",
          "peptide_bond",
          "peptide_bond",
          "peptide_bond",
          "peptide_bond",
          "peptide_bond",
          "peptide_bond",
          "peptide_bond",
          "peptide_bond",
          "peptide_bond",
          "peptide_bond",
          "peptide_bond",
          "peptide_bond",
          "peptide_bond",
          "peptide_bond",
          "peptide_bond",
          "peptide_bond",
          "peptide_bond",
          "peptide_bond",
          "peptide_bond",
          "peptide_bond",
          "peptide_bond",
          "peptide_bond",
          "peptide_bond",
          "peptide_bond",
          "peptide_bond",
          "peptide_bond",
          "peptide_bond",
          "peptide_bond",
          "peptide_bond",
          "peptide_bond",
          "peptide_bond",
          "peptide_bond",
          "peptide_bond",
          "peptide_bond",
          "peptide_bond",
          "peptide_bond",
          "peptide_bond",
          "peptide_bond",
          "peptide_bond",
          "peptide_bond",
          "peptide_bond",
          "peptide_bond",
          "peptide_bond",
          "peptide_bond",
          "peptide_bond",
          "peptide_bond",
          "peptide_bond",
          "peptide_bond",
          "peptide_bond",
          "peptide_bond",
          "peptide_bond",
          "peptide_bond",
          "peptide_bond",
          "peptide_bond",
          "peptide_bond",
          "peptide_bond",
          "peptide_bond",
          "peptide_bond",
          "peptide_bond",
          "peptide_bond",
          "peptide_bond",
          "peptide_bond",
          "peptide_bond",
          "peptide_bond",
          "peptide_bond",
          "peptide_bond",
          "peptide_bond",
          "peptide_bond",
          "peptide_bond",
          "peptide_bond",
          "peptide_bond",
          "peptide_bond",
          "peptide_bond",
          "peptide_bond",
          "peptide_bond",
          "peptide_bond",
          "peptide_bond",
          "peptide_bond",
          "peptide_bond",
          "peptide_bond",
          "peptide_bond",
          "peptide_bond",
          "peptide_bond",
          "peptide_bond",
          "peptide_bond",
          "peptide_bond",
          "peptide_bond",
          "peptide_bond",
          "peptide_bond",
          "peptide_bond",
          "peptide_bond",
          "peptide_bond",
          "peptide_bond",
          "peptide_bond",
          "peptide_bond",
          "peptide_bond",
          "peptide_bond",
          "peptide_bond",
          "peptide_bond",
          "peptide_bond",
          "peptide_bond",
          "peptide_bond",
          "peptide_bond",
          "peptide_bond",
          "peptide_bond",
          "peptide_bond",
          "peptide_bond",
          "peptide_bond",
          "peptide_bond",
          "peptide_bond",
          "peptide_bond",
          "peptide_bond",
          "peptide_bond",
          "peptide_bond",
          "peptide_bond",
          "peptide_bond",
          "peptide_bond",
          "peptide_bond",
          "peptide_bond",
          "peptide_bond",
          "peptide_bond",
          "peptide_bond",
          "peptide_bond",
          "peptide_bond",
          "peptide_bond",
          "peptide_bond",
          "peptide_bond",
          "peptide_bond",
          "peptide_bond",
          "peptide_bond",
          "peptide_bond",
          "peptide_bond",
          "peptide_bond",
          "peptide_bond",
          "peptide_bond",
          "peptide_bond",
          "peptide_bond",
          "peptide_bond",
          "peptide_bond",
          "peptide_bond",
          "peptide_bond",
          "peptide_bond",
          "peptide_bond",
          "peptide_bond",
          "peptide_bond",
          "peptide_bond",
          "peptide_bond",
          "peptide_bond",
          "peptide_bond",
          "peptide_bond",
          "peptide_bond",
          "peptide_bond",
          "peptide_bond",
          "peptide_bond",
          "peptide_bond",
          "peptide_bond",
          "peptide_bond",
          "peptide_bond",
          "peptide_bond",
          "peptide_bond",
          "peptide_bond",
          "peptide_bond",
          "peptide_bond",
          "peptide_bond",
          "peptide_bond",
          "peptide_bond",
          "peptide_bond",
          "peptide_bond",
          "peptide_bond",
          "peptide_bond",
          "peptide_bond",
          "peptide_bond",
          "peptide_bond",
          "peptide_bond",
          "peptide_bond",
          "peptide_bond",
          "peptide_bond",
          "peptide_bond",
          "peptide_bond",
          "peptide_bond",
          "peptide_bond",
          "peptide_bond",
          "peptide_bond",
          "peptide_bond",
          "peptide_bond",
          "peptide_bond",
          "peptide_bond",
          "peptide_bond",
          "peptide_bond",
          "peptide_bond",
          "peptide_bond",
          "peptide_bond",
          "peptide_bond",
          "peptide_bond",
          "peptide_bond",
          "peptide_bond",
          "peptide_bond",
          "peptide_bond",
          "peptide_bond",
          "peptide_bond",
          "peptide_bond",
          "peptide_bond",
          "peptide_bond",
          "peptide_bond",
          "peptide_bond",
          "peptide_bond",
          "peptide_bond",
          "peptide_bond",
          "peptide_bond",
          "peptide_bond",
          "peptide_bond",
          "peptide_bond",
          "peptide_bond",
          "peptide_bond",
          "peptide_bond",
          "peptide_bond",
          "peptide_bond",
          "peptide_bond",
          "peptide_bond",
          "peptide_bond",
          "peptide_bond",
          "peptide_bond",
          "peptide_bond",
          "peptide_bond",
          "peptide_bond",
          "peptide_bond",
          "peptide_bond",
          "peptide_bond",
          "peptide_bond",
          "peptide_bond",
          "peptide_bond",
          "peptide_bond",
          "peptide_bond",
          "peptide_bond",
          "peptide_bond",
          "peptide_bond",
          "peptide_bond",
          "peptide_bond",
          "peptide_bond",
          "peptide_bond",
          "peptide_bond",
          "peptide_bond",
          "peptide_bond",
          "peptide_bond",
          "peptide_bond",
          "peptide_bond",
          "peptide_bond",
          "peptide_bond",
          "peptide_bond",
          "peptide_bond",
          "peptide_bond",
          "peptide_bond",
          "peptide_bond",
          "peptide_bond",
          "peptide_bond",
          "peptide_bond",
          "peptide_bond",
          "peptide_bond",
          "peptide_bond",
          "peptide_bond",
          "peptide_bond",
          "peptide_bond",
          "peptide_bond",
          "peptide_bond",
          "peptide_bond",
          "peptide_bond",
          "peptide_bond",
          "peptide_bond",
          "peptide_bond",
          "peptide_bond",
          "peptide_bond",
          "peptide_bond",
          "peptide_bond",
          "peptide_bond",
          "peptide_bond",
          "peptide_bond",
          "peptide_bond",
          "peptide_bond",
          "peptide_bond",
          "peptide_bond",
          "peptide_bond",
          "peptide_bond",
          "peptide_bond",
          "peptide_bond",
          "peptide_bond",
          "peptide_bond",
          "peptide_bond",
          "peptide_bond",
          "peptide_bond",
          "peptide_bond",
          "peptide_bond",
          "peptide_bond",
          "peptide_bond",
          "peptide_bond",
          "peptide_bond",
          "peptide_bond",
          "peptide_bond",
          "peptide_bond",
          "peptide_bond",
          "peptide_bond",
          "peptide_bond",
          "peptide_bond",
          "peptide_bond",
          "peptide_bond",
          "peptide_bond",
          "peptide_bond",
          "peptide_bond",
          "peptide_bond",
          "peptide_bond",
          "peptide_bond",
          "peptide_bond",
          "peptide_bond",
          "peptide_bond",
          "peptide_bond",
          "peptide_bond",
          "peptide_bond",
          "peptide_bond",
          "peptide_bond",
          "peptide_bond",
          "peptide_bond",
          "peptide_bond",
          "peptide_bond",
          "peptide_bond",
          "peptide_bond",
          "peptide_bond",
          "peptide_bond",
          "peptide_bond",
          "peptide_bond",
          "peptide_bond",
          "peptide_bond",
          "peptide_bond",
          "peptide_bond",
          "peptide_bond",
          "peptide_bond",
          "peptide_bond",
          "peptide_bond",
          "peptide_bond",
          "peptide_bond",
          "peptide_bond",
          "peptide_bond",
          "peptide_bond",
          "peptide_bond",
          "peptide_bond",
          "peptide_bond",
          "peptide_bond",
          "peptide_bond",
          "peptide_bond",
          "peptide_bond",
          "peptide_bond",
          "peptide_bond",
          "peptide_bond",
          "peptide_bond",
          "peptide_bond",
          "peptide_bond",
          "peptide_bond",
          "peptide_bond",
          "peptide_bond",
          "peptide_bond",
          "peptide_bond",
          "peptide_bond",
          "peptide_bond",
          "peptide_bond",
          "peptide_bond",
          "peptide_bond",
          "peptide_bond",
          "peptide_bond",
          "peptide_bond",
          "peptide_bond",
          "peptide_bond",
          "peptide_bond",
          "peptide_bond",
          "peptide_bond",
          "peptide_bond",
          "peptide_bond",
          "peptide_bond",
          "peptide_bond",
          "peptide_bond",
          "peptide_bond",
          "peptide_bond",
          "peptide_bond",
          "peptide_bond",
          "peptide_bond",
          "peptide_bond",
          "peptide_bond",
          "peptide_bond",
          "peptide_bond",
          "peptide_bond",
          "peptide_bond",
          "peptide_bond",
          "peptide_bond",
          "peptide_bond",
          "peptide_bond",
          "peptide_bond",
          "peptide_bond",
          "peptide_bond",
          "peptide_bond",
          "peptide_bond",
          "peptide_bond",
          "peptide_bond",
          "peptide_bond",
          "peptide_bond",
          "peptide_bond",
          "peptide_bond",
          "peptide_bond",
          "peptide_bond",
          "peptide_bond",
          "peptide_bond",
          "peptide_bond",
          "peptide_bond",
          "peptide_bond",
          "peptide_bond",
          "peptide_bond",
          "peptide_bond",
          "peptide_bond",
          "peptide_bond",
          "peptide_bond",
          "peptide_bond",
          "peptide_bond",
          "peptide_bond",
          "peptide_bond",
          "peptide_bond",
          "peptide_bond",
          "peptide_bond",
          "peptide_bond",
          "peptide_bond",
          "peptide_bond",
          "peptide_bond",
          "peptide_bond",
          "peptide_bond",
          "peptide_bond",
          "peptide_bond",
          "peptide_bond",
          "peptide_bond",
          "peptide_bond",
          "peptide_bond",
          "peptide_bond",
          "peptide_bond",
          "peptide_bond",
          "peptide_bond",
          "peptide_bond",
          "peptide_bond",
          "peptide_bond",
          "peptide_bond",
          "peptide_bond",
          "peptide_bond",
          "peptide_bond",
          "peptide_bond",
          "peptide_bond",
          "peptide_bond",
          "peptide_bond",
          "peptide_bond",
          "peptide_bond",
          "peptide_bond",
          "peptide_bond",
          "peptide_bond",
          "peptide_bond",
          "peptide_bond",
          "peptide_bond",
          "peptide_bond",
          "peptide_bond",
          "peptide_bond",
          "peptide_bond",
          "peptide_bond",
          "peptide_bond",
          "peptide_bond",
          "peptide_bond",
          "peptide_bond",
          "peptide_bond",
          "peptide_bond",
          "peptide_bond",
          "peptide_bond",
          "peptide_bond",
          "peptide_bond",
          "peptide_bond",
          "peptide_bond",
          "peptide_bond",
          "peptide_bond",
          "peptide_bond",
          "peptide_bond",
          "peptide_bond",
          "peptide_bond",
          "peptide_bond",
          "peptide_bond",
          "peptide_bond",
          "peptide_bond",
          "peptide_bond",
          "peptide_bond",
          "peptide_bond",
          "peptide_bond",
          "peptide_bond",
          "peptide_bond",
          "peptide_bond",
          "peptide_bond",
          "peptide_bond",
          "peptide_bond",
          "peptide_bond",
          "peptide_bond",
          "peptide_bond",
          "peptide_bond",
          "peptide_bond",
          "peptide_bond",
          "peptide_bond",
          "peptide_bond",
          "peptide_bond",
          "peptide_bond",
          "peptide_bond",
          "peptide_bond",
          "peptide_bond",
          "peptide_bond",
          "peptide_bond",
          "peptide_bond",
          "peptide_bond",
          "peptide_bond",
          "peptide_bond",
          "peptide_bond",
          "peptide_bond",
          "peptide_bond",
          "peptide_bond",
          "peptide_bond",
          "peptide_bond",
          "peptide_bond",
          "peptide_bond",
          "peptide_bond",
          "peptide_bond",
          "peptide_bond",
          "peptide_bond",
          "peptide_bond",
          "peptide_bond",
          "peptide_bond",
          "peptide_bond",
          "peptide_bond",
          "peptide_bond",
          "peptide_bond",
          "peptide_bond",
          "peptide_bond",
          "peptide_bond",
          "peptide_bond",
          "peptide_bond",
          "peptide_bond",
          "peptide_bond",
          "peptide_bond",
          "peptide_bond",
          "peptide_bond",
          "peptide_bond",
          "peptide_bond",
          "peptide_bond",
          "peptide_bond",
          "peptide_bond",
          "peptide_bond",
          "peptide_bond",
          "peptide_bond",
          "peptide_bond",
          "peptide_bond",
          "peptide_bond",
          "peptide_bond",
          "peptide_bond",
          "peptide_bond",
          "peptide_bond",
          "peptide_bond",
          "peptide_bond",
          "peptide_bond",
          "peptide_bond",
          "peptide_bond",
          "peptide_bond",
          "peptide_bond",
          "peptide_bond",
          "peptide_bond",
          "peptide_bond",
          "peptide_bond",
          "peptide_bond",
          "peptide_bond",
          "peptide_bond",
          "peptide_bond",
          "peptide_bond",
          "peptide_bond",
          "peptide_bond",
          "peptide_bond",
          "peptide_bond",
          "peptide_bond",
          "peptide_bond",
          "peptide_bond",
          "peptide_bond",
          "peptide_bond",
          "peptide_bond",
          "peptide_bond",
          "peptide_bond",
          "peptide_bond",
          "peptide_bond",
          "peptide_bond",
          "peptide_bond",
          "peptide_bond",
          "peptide_bond",
          "peptide_bond",
          "peptide_bond",
          "peptide_bond",
          "peptide_bond",
          "peptide_bond",
          "peptide_bond",
          "peptide_bond",
          "peptide_bond",
          "peptide_bond",
          "peptide_bond",
          "peptide_bond",
          "peptide_bond",
          "peptide_bond",
          "peptide_bond",
          "peptide_bond",
          "peptide_bond",
          "peptide_bond",
          "peptide_bond",
          "peptide_bond",
          "peptide_bond",
          "peptide_bond",
          "peptide_bond",
          "peptide_bond",
          "peptide_bond",
          "peptide_bond",
          "peptide_bond",
          "peptide_bond",
          "peptide_bond",
          "peptide_bond",
          "peptide_bond",
          "peptide_bond",
          "peptide_bond",
          "peptide_bond",
          "peptide_bond",
          "peptide_bond",
          "peptide_bond",
          "peptide_bond",
          "peptide_bond",
          "peptide_bond",
          "peptide_bond",
          "peptide_bond",
          "peptide_bond",
          "peptide_bond",
          "peptide_bond",
          "peptide_bond",
          "peptide_bond",
          "peptide_bond",
          "peptide_bond",
          "peptide_bond",
          "peptide_bond",
          "peptide_bond",
          "peptide_bond",
          "peptide_bond",
          "peptide_bond",
          "peptide_bond",
          "peptide_bond",
          "peptide_bond",
          "peptide_bond",
          "peptide_bond",
          "peptide_bond",
          "peptide_bond",
          "peptide_bond",
          "peptide_bond",
          "peptide_bond",
          "peptide_bond",
          "peptide_bond",
          "peptide_bond",
          "peptide_bond",
          "peptide_bond",
          "peptide_bond",
          "peptide_bond",
          "peptide_bond",
          "peptide_bond",
          "peptide_bond",
          "peptide_bond",
          "peptide_bond",
          "peptide_bond",
          "peptide_bond",
          "peptide_bond",
          "peptide_bond",
          "peptide_bond",
          "peptide_bond",
          "peptide_bond",
          "peptide_bond",
          "peptide_bond",
          "peptide_bond",
          "peptide_bond",
          "peptide_bond",
          "peptide_bond",
          "peptide_bond",
          "peptide_bond",
          "peptide_bond",
          "peptide_bond",
          "peptide_bond",
          "peptide_bond",
          "peptide_bond",
          "peptide_bond",
          "peptide_bond",
          "peptide_bond",
          "peptide_bond",
          "peptide_bond",
          "peptide_bond",
          "peptide_bond",
          "peptide_bond",
          "peptide_bond",
          "peptide_bond",
          "peptide_bond",
          "peptide_bond",
          "peptide_bond",
          "peptide_bond",
          "peptide_bond",
          "peptide_bond",
          "peptide_bond",
          "peptide_bond",
          "peptide_bond",
          "peptide_bond",
          "peptide_bond",
          "peptide_bond",
          "peptide_bond",
          "peptide_bond",
          "peptide_bond",
          "peptide_bond",
          "peptide_bond",
          "peptide_bond",
          "peptide_bond",
          "peptide_bond",
          "peptide_bond",
          "peptide_bond",
          "peptide_bond",
          "peptide_bond",
          "peptide_bond",
          "peptide_bond",
          "peptide_bond",
          "peptide_bond",
          "peptide_bond",
          "peptide_bond",
          "peptide_bond",
          "peptide_bond",
          "peptide_bond",
          "peptide_bond",
          "peptide_bond",
          "peptide_bond",
          "peptide_bond",
          "peptide_bond",
          "peptide_bond",
          "peptide_bond",
          "peptide_bond",
          "peptide_bond",
          "peptide_bond",
          "peptide_bond",
          "peptide_bond",
          "peptide_bond",
          "peptide_bond",
          "peptide_bond",
          "peptide_bond",
          "peptide_bond",
          "peptide_bond",
          "peptide_bond",
          "peptide_bond",
          "peptide_bond",
          "peptide_bond",
          "peptide_bond",
          "peptide_bond",
          "peptide_bond",
          "peptide_bond",
          "peptide_bond",
          "peptide_bond",
          "peptide_bond",
          "peptide_bond",
          "peptide_bond",
          "peptide_bond",
          "peptide_bond",
          "peptide_bond",
          "peptide_bond",
          "peptide_bond",
          "peptide_bond",
          "peptide_bond",
          "peptide_bond",
          "peptide_bond",
          "peptide_bond",
          "peptide_bond",
          "peptide_bond",
          "peptide_bond",
          "peptide_bond",
          "peptide_bond",
          "peptide_bond",
          "peptide_bond",
          "peptide_bond",
          "peptide_bond",
          "peptide_bond",
          "peptide_bond",
          "peptide_bond",
          "peptide_bond",
          "peptide_bond",
          "peptide_bond",
          "peptide_bond",
          "peptide_bond",
          "peptide_bond",
          "peptide_bond",
          "peptide_bond",
          "peptide_bond",
          "peptide_bond",
          "peptide_bond",
          "peptide_bond",
          "peptide_bond",
          "peptide_bond",
          "peptide_bond",
          "peptide_bond",
          "peptide_bond",
          "peptide_bond",
          "peptide_bond",
          "peptide_bond",
          "peptide_bond",
          "peptide_bond",
          "peptide_bond",
          "peptide_bond",
          "peptide_bond",
          "peptide_bond",
          "peptide_bond",
          "peptide_bond",
          "peptide_bond",
          "peptide_bond",
          "peptide_bond",
          "peptide_bond",
          "peptide_bond",
          "peptide_bond",
          "peptide_bond",
          "peptide_bond",
          "peptide_bond",
          "peptide_bond",
          "peptide_bond",
          "peptide_bond",
          "peptide_bond",
          "peptide_bond",
          "peptide_bond",
          "peptide_bond",
          "peptide_bond",
          "peptide_bond",
          "peptide_bond",
          "peptide_bond",
          "peptide_bond",
          "peptide_bond",
          "peptide_bond",
          "peptide_bond",
          "peptide_bond",
          "peptide_bond",
          "peptide_bond",
          "peptide_bond",
          "peptide_bond",
          "peptide_bond",
          "peptide_bond",
          "peptide_bond",
          "peptide_bond",
          "peptide_bond",
          "peptide_bond",
          "peptide_bond",
          "peptide_bond",
          "peptide_bond",
          "peptide_bond",
          "peptide_bond",
          "peptide_bond",
          "peptide_bond",
          "peptide_bond",
          "peptide_bond",
          "peptide_bond",
          "peptide_bond",
          "peptide_bond",
          "peptide_bond",
          "peptide_bond",
          "peptide_bond",
          "peptide_bond",
          "peptide_bond",
          "peptide_bond",
          "peptide_bond",
          "peptide_bond",
          "peptide_bond",
          "peptide_bond",
          "peptide_bond",
          "peptide_bond",
          "peptide_bond",
          "peptide_bond",
          "peptide_bond",
          "peptide_bond",
          "peptide_bond",
          "peptide_bond",
          "peptide_bond",
          "peptide_bond",
          "peptide_bond",
          "peptide_bond",
          "peptide_bond",
          "peptide_bond",
          "peptide_bond",
          "peptide_bond",
          "peptide_bond",
          "peptide_bond",
          "peptide_bond",
          "peptide_bond",
          "peptide_bond",
          "peptide_bond",
          "peptide_bond",
          "peptide_bond",
          "peptide_bond",
          "peptide_bond",
          "peptide_bond",
          "peptide_bond",
          "peptide_bond",
          "peptide_bond",
          "peptide_bond",
          "peptide_bond",
          "peptide_bond",
          "peptide_bond",
          "peptide_bond",
          "peptide_bond",
          "peptide_bond",
          "peptide_bond",
          "peptide_bond",
          "peptide_bond",
          "peptide_bond",
          "peptide_bond",
          "peptide_bond",
          "peptide_bond",
          "peptide_bond",
          "peptide_bond",
          "peptide_bond",
          "peptide_bond",
          "peptide_bond",
          "peptide_bond",
          "peptide_bond",
          "peptide_bond",
          "peptide_bond",
          "peptide_bond",
          "peptide_bond",
          "peptide_bond",
          "peptide_bond",
          "peptide_bond",
          "peptide_bond",
          "peptide_bond",
          "peptide_bond",
          "peptide_bond",
          "peptide_bond",
          "peptide_bond",
          "peptide_bond",
          "peptide_bond",
          "peptide_bond",
          "peptide_bond",
          "peptide_bond",
          "peptide_bond",
          "peptide_bond",
          "peptide_bond",
          "peptide_bond",
          "peptide_bond",
          "peptide_bond",
          "peptide_bond",
          "peptide_bond",
          "peptide_bond",
          "peptide_bond",
          "peptide_bond",
          "peptide_bond",
          "peptide_bond",
          "peptide_bond",
          "peptide_bond",
          "peptide_bond",
          "peptide_bond",
          "peptide_bond",
          "peptide_bond",
          "peptide_bond",
          "peptide_bond",
          "peptide_bond",
          "peptide_bond",
          "peptide_bond",
          "peptide_bond",
          "peptide_bond",
          "peptide_bond",
          "peptide_bond",
          "peptide_bond",
          "peptide_bond",
          "peptide_bond",
          "peptide_bond",
          "peptide_bond",
          "peptide_bond",
          "peptide_bond",
          "peptide_bond",
          "peptide_bond",
          "peptide_bond",
          "peptide_bond",
          "peptide_bond",
          "peptide_bond",
          "peptide_bond",
          "peptide_bond",
          "peptide_bond",
          "peptide_bond",
          "peptide_bond",
          "peptide_bond",
          "peptide_bond",
          "peptide_bond",
          "peptide_bond",
          "peptide_bond",
          "peptide_bond",
          "peptide_bond",
          "peptide_bond",
          "peptide_bond",
          "peptide_bond",
          "peptide_bond",
          "peptide_bond",
          "peptide_bond",
          "peptide_bond",
          "peptide_bond",
          "peptide_bond",
          "peptide_bond",
          "peptide_bond",
          "peptide_bond",
          "peptide_bond",
          "peptide_bond",
          "peptide_bond",
          "peptide_bond",
          "peptide_bond",
          "peptide_bond",
          "peptide_bond",
          "peptide_bond",
          "peptide_bond",
          "peptide_bond",
          "peptide_bond",
          "peptide_bond",
          "peptide_bond",
          "peptide_bond",
          "peptide_bond",
          "peptide_bond",
          "peptide_bond",
          "peptide_bond",
          "peptide_bond",
          "peptide_bond",
          "peptide_bond",
          "peptide_bond",
          "peptide_bond",
          "peptide_bond",
          "peptide_bond",
          "peptide_bond",
          "peptide_bond",
          "peptide_bond",
          "peptide_bond",
          "peptide_bond",
          "peptide_bond",
          "peptide_bond",
          "peptide_bond",
          "peptide_bond",
          "peptide_bond",
          "peptide_bond",
          "peptide_bond",
          "peptide_bond",
          "peptide_bond",
          "peptide_bond",
          "peptide_bond",
          "peptide_bond",
          "peptide_bond",
          "peptide_bond",
          "peptide_bond",
          "peptide_bond",
          "peptide_bond",
          "peptide_bond",
          "peptide_bond",
          "peptide_bond",
          "peptide_bond",
          "peptide_bond",
          "peptide_bond",
          "peptide_bond",
          "peptide_bond",
          "peptide_bond",
          "peptide_bond",
          "peptide_bond",
          "peptide_bond",
          "peptide_bond",
          "peptide_bond",
          "peptide_bond",
          "peptide_bond",
          "peptide_bond",
          "peptide_bond",
          "peptide_bond",
          "peptide_bond",
          "peptide_bond",
          "peptide_bond",
          "peptide_bond",
          "peptide_bond",
          "peptide_bond",
          "peptide_bond",
          "peptide_bond",
          "peptide_bond",
          "peptide_bond",
          "peptide_bond",
          "peptide_bond",
          "peptide_bond",
          "peptide_bond",
          "peptide_bond",
          "peptide_bond",
          "peptide_bond",
          "peptide_bond",
          "peptide_bond",
          "peptide_bond",
          "peptide_bond",
          "peptide_bond",
          "peptide_bond",
          "peptide_bond",
          "peptide_bond",
          "peptide_bond",
          "peptide_bond",
          "peptide_bond",
          "peptide_bond",
          "peptide_bond",
          "peptide_bond",
          "peptide_bond",
          "peptide_bond",
          "peptide_bond",
          "peptide_bond",
          "peptide_bond",
          "peptide_bond",
          "peptide_bond",
          "peptide_bond",
          "peptide_bond",
          "peptide_bond",
          "peptide_bond",
          "peptide_bond",
          "peptide_bond",
          "peptide_bond",
          "peptide_bond",
          "peptide_bond",
          "peptide_bond",
          "peptide_bond",
          "peptide_bond",
          "peptide_bond",
          "peptide_bond",
          "peptide_bond",
          "peptide_bond",
          "peptide_bond",
          "peptide_bond",
          "peptide_bond",
          "peptide_bond",
          "peptide_bond",
          "peptide_bond",
          "peptide_bond",
          "peptide_bond",
          "peptide_bond",
          "peptide_bond",
          "peptide_bond",
          "peptide_bond",
          "peptide_bond",
          "peptide_bond",
          "peptide_bond",
          "peptide_bond",
          "peptide_bond",
          "peptide_bond",
          "peptide_bond",
          "peptide_bond",
          "peptide_bond",
          "peptide_bond",
          "peptide_bond",
          "peptide_bond",
          "peptide_bond",
          "peptide_bond",
          "peptide_bond",
          "peptide_bond",
          "peptide_bond",
          "peptide_bond",
          "peptide_bond",
          "peptide_bond",
          "peptide_bond",
          "peptide_bond",
          "peptide_bond",
          "peptide_bond",
          "peptide_bond",
          "peptide_bond",
          "peptide_bond",
          "peptide_bond",
          "peptide_bond",
          "peptide_bond",
          "peptide_bond",
          "peptide_bond",
          "peptide_bond",
          "peptide_bond",
          "peptide_bond",
          "peptide_bond",
          "peptide_bond",
          "peptide_bond",
          "peptide_bond",
          "peptide_bond",
          "peptide_bond",
          "peptide_bond",
          "peptide_bond",
          "peptide_bond",
          "peptide_bond",
          "peptide_bond"
         ],
         "type": "scatter3d",
         "x": [
          -17.305,
          -15.685,
          null,
          -15.685,
          -11.84,
          null,
          -11.84,
          -10.521,
          null,
          -10.521,
          -7.811,
          null,
          -7.811,
          -4.581,
          null,
          -4.581,
          -1.529,
          null,
          -1.529,
          1.67,
          null,
          1.67,
          4.561,
          null,
          4.561,
          5.81,
          null,
          5.81,
          6.63,
          null,
          6.63,
          5.997,
          null,
          5.997,
          4.272,
          null,
          4.272,
          0.939,
          null,
          0.939,
          -2.149,
          null,
          -2.149,
          -5.573,
          null,
          -5.573,
          -9.043,
          null,
          -9.043,
          -12.345,
          null,
          -12.345,
          -13.239,
          null,
          -13.239,
          -16.686,
          null,
          -16.686,
          -15.069,
          null,
          -15.069,
          -12.21,
          null,
          -12.21,
          -9.981,
          null,
          -9.981,
          -10.736,
          null,
          -10.736,
          -7.035,
          null,
          -7.035,
          -5.883,
          null,
          -5.883,
          -3.187,
          null,
          -3.187,
          0.181,
          null,
          0.181,
          -0.867,
          null,
          -0.867,
          -2.275,
          null,
          -2.275,
          -4.871,
          null,
          -4.871,
          -6.425,
          null,
          -6.425,
          -8.882,
          null,
          -8.882,
          -11.536,
          null,
          -11.536,
          -11.042,
          null,
          -11.042,
          -12.451,
          null,
          -12.451,
          -15.994,
          null,
          -15.994,
          -16.042,
          null,
          -16.042,
          -14.338,
          null,
          -14.338,
          -12.508,
          null,
          -12.508,
          -8.788,
          null,
          -8.788,
          -7.508,
          null,
          -7.508,
          -4.005,
          null,
          -4.005,
          -3.214,
          null,
          -3.214,
          0.246,
          null,
          0.246,
          1.937,
          null,
          1.937,
          5.186,
          null,
          5.186,
          6.261,
          null,
          6.261,
          6.267,
          null,
          6.267,
          9.982,
          null,
          9.982,
          10.979,
          null,
          10.979,
          13.477,
          null,
          13.477,
          12.019,
          null,
          12.019,
          13.078,
          null,
          13.078,
          11.114,
          null,
          11.114,
          8.341,
          null,
          8.341,
          4.872,
          null,
          4.872,
          1.718,
          null,
          1.718,
          -1.319,
          null,
          -1.319,
          -3.658,
          null,
          -3.658,
          -7.307,
          null,
          -7.307,
          -9.993,
          null,
          -9.993,
          -13.203,
          null,
          -13.203,
          -16.899,
          null,
          -16.899,
          -16.941,
          null,
          -16.941,
          -13.967,
          null,
          -13.967,
          -13.248,
          null,
          -13.248,
          -13.543,
          null,
          -13.543,
          -17.359,
          null,
          -17.359,
          -18.581,
          null,
          -18.581,
          -20.147,
          null,
          -20.147,
          -18.031,
          null,
          -18.031,
          -16.251,
          null,
          -16.251,
          -17.494,
          null,
          -17.494,
          -15.748,
          null,
          -15.748,
          -17.032,
          null,
          -17.032,
          -16.501,
          null,
          -16.501,
          -13.042,
          null,
          -13.042,
          -13.884,
          null,
          -13.884,
          -10.583,
          null,
          -10.583,
          -8.531,
          null,
          -8.531,
          -6.008,
          null,
          -6.008,
          -2.734,
          null,
          -2.734,
          -2.223,
          null,
          -2.223,
          0.936,
          null,
          0.936,
          0.906,
          null,
          0.906,
          -2.428,
          null,
          -2.428,
          -0.727,
          null,
          -0.727,
          2.649,
          null,
          2.649,
          5.273,
          null,
          5.273,
          5.628,
          null,
          5.628,
          8.982,
          null,
          8.982,
          7.723,
          null,
          7.723,
          7.208,
          null,
          7.208,
          3.65,
          null,
          3.65,
          1.452,
          null,
          1.452,
          -2.156,
          null,
          -2.156,
          -4.582,
          null,
          -4.582,
          -6.671,
          null,
          -6.671,
          -8.772,
          null,
          -8.772,
          -12.489,
          null,
          -12.489,
          -14.476,
          null,
          -14.476,
          -17.886,
          null,
          -17.886,
          -20.457,
          null,
          -20.457,
          -22.849,
          null,
          -22.849,
          -25.668,
          null,
          -25.668,
          -24.116,
          null,
          -24.116,
          -24.071,
          null,
          -24.071,
          -23.027,
          null,
          -23.027,
          -19.39,
          null,
          -19.39,
          -17.703,
          null,
          -17.703,
          -13.964,
          null,
          -13.964,
          -13.684,
          null,
          -13.684,
          -15.803,
          null,
          -15.803,
          -13.854,
          null,
          -13.854,
          -10.434,
          null,
          -10.434,
          -8.528,
          null,
          -8.528,
          -5.166,
          null,
          -5.166,
          -2.934,
          null,
          -2.934,
          0.361,
          null,
          0.361,
          2.328,
          null,
          2.328,
          4.769,
          null,
          4.769,
          5.68,
          null,
          5.68,
          4.023,
          null,
          4.023,
          1.479,
          null,
          1.479,
          1.778,
          null,
          1.778,
          5.534,
          null,
          5.534,
          5.001,
          null,
          5.001,
          7.229,
          null,
          7.229,
          6.076,
          null,
          6.076,
          3.817,
          null,
          3.817,
          0.74,
          null,
          0.74,
          -0.389,
          null,
          -0.389,
          -4.115,
          null,
          -4.115,
          -6.414,
          null,
          -6.414,
          -9.483,
          null,
          -9.483,
          -12.505,
          null,
          -12.505,
          -15.663,
          null,
          -15.663,
          -18.76,
          null,
          -18.76,
          -20.428,
          null,
          -20.428,
          -19.536,
          null,
          -19.536,
          -19.123,
          null,
          -19.123,
          -22.441,
          null,
          -22.441,
          -22.384,
          null,
          -22.384,
          -19.34,
          null,
          -19.34,
          -15.599,
          null,
          -15.599,
          -12.473,
          null,
          -12.473,
          -9.289,
          null,
          -9.289,
          -6.257,
          null,
          -6.257,
          -4.534,
          null,
          -4.534,
          -1.962,
          null,
          -1.962,
          -0.174,
          null,
          -0.174,
          0.006,
          null,
          0.006,
          -2.032,
          null,
          -2.032,
          -0.374,
          null,
          -0.374,
          -3.332,
          null,
          -3.332,
          -2.824,
          null,
          -2.824,
          -6.029,
          null,
          -6.029,
          -6.007,
          null,
          -6.007,
          -9.687,
          null,
          -9.687,
          -12.152,
          null,
          -12.152,
          -11.676,
          null,
          -11.676,
          -11.57,
          null,
          -11.57,
          -13.18,
          null,
          -13.18,
          -11.686,
          null,
          -11.686,
          -13.035,
          null,
          -13.035,
          -10.516,
          null,
          -10.516,
          -10.381,
          null,
          -10.381,
          -8.034,
          null,
          -8.034,
          -10.191,
          null,
          -10.191,
          -11.17,
          null,
          -11.17,
          -8.885,
          null,
          -8.885,
          -9.668,
          null,
          -9.668,
          -7.341,
          null,
          -7.341,
          -7.393,
          null,
          -7.393,
          -5.681,
          null,
          -5.681,
          -1.96,
          null,
          -1.96,
          -2.211,
          null,
          -2.211,
          -1.415,
          null,
          -1.415,
          -2.295,
          null,
          -2.295,
          -1.091,
          null,
          -1.091,
          -3.497,
          null,
          -3.497,
          -1.427,
          null,
          -1.427,
          -2.041,
          null,
          -2.041,
          -5.061,
          null,
          -5.061,
          -6.664,
          null,
          -6.664,
          -10.386,
          null,
          -10.386,
          -11.479,
          null,
          -11.479,
          -14.429,
          null,
          -14.429,
          -14.408,
          null,
          -14.408,
          -16.843,
          null,
          -16.843,
          -16.714,
          null,
          -16.714,
          -18.466,
          null,
          -18.466,
          -18.04,
          null,
          -18.04,
          -16.702,
          null,
          -16.702,
          -13.44,
          null,
          -13.44,
          -10.231,
          null,
          -10.231,
          -6.716,
          null,
          -6.716,
          -3.747,
          null,
          -3.747,
          -2.783,
          null,
          -2.783,
          0.655,
          null,
          0.655,
          0.3,
          null,
          0.3,
          3.399,
          null,
          3.399,
          3.716,
          null,
          3.716,
          5.617,
          null,
          5.617,
          7.104,
          null,
          7.104,
          5.957,
          null,
          5.957,
          6.585,
          null,
          6.585,
          9.331,
          null,
          9.331,
          11.136,
          null,
          11.136,
          14.2,
          null,
          14.2,
          17.664,
          null,
          17.664,
          19.146,
          null,
          19.146,
          22.75,
          null,
          22.75,
          24.942,
          null,
          24.942,
          21.852,
          null,
          21.852,
          22.088,
          null,
          22.088,
          19.335,
          null,
          19.335,
          16.951,
          null,
          16.951,
          15.489,
          null,
          15.489,
          12.829,
          null,
          12.829,
          9.649,
          null,
          9.649,
          9.8,
          null,
          9.8,
          8.372,
          null,
          8.372,
          6.517,
          null,
          6.517,
          4.422,
          null,
          4.422,
          2.785,
          null,
          2.785,
          -0.663,
          null,
          -0.663,
          -2.363,
          null,
          -2.363,
          -6.1,
          null,
          -6.1,
          -7.549,
          null,
          -7.549,
          -9.677,
          null,
          -9.677,
          -13.259,
          null,
          -13.259,
          -15.985,
          null,
          -15.985,
          -19.53,
          null,
          -19.53,
          -21.811,
          null,
          -21.811,
          -24.474,
          null,
          -24.474,
          -26.482,
          null,
          -26.482,
          -26.853,
          null,
          -26.853,
          -30.153,
          null,
          -30.153,
          -29.613,
          null,
          -29.613,
          -25.913,
          null,
          -25.913,
          -22.569,
          null,
          -22.569,
          -20.38,
          null,
          -20.38,
          -16.677,
          null,
          -16.677,
          -14.655,
          null,
          -14.655,
          -11.284,
          null,
          -11.284,
          -8.575,
          null,
          -8.575,
          -6.726,
          null,
          -6.726,
          -4.043,
          null,
          -4.043,
          -4.992,
          null,
          -4.992,
          -8.715,
          null,
          -8.715,
          -11.835,
          null,
          -11.835,
          -14.092,
          null,
          -14.092,
          -17.021,
          null,
          -17.021,
          -18.562,
          null,
          -18.562,
          -21.556,
          null,
          -21.556,
          -21.924,
          null,
          -21.924,
          -24.519,
          null,
          -24.519,
          -22.416,
          null,
          -22.416,
          -20.021,
          null,
          -20.021,
          -16.334,
          null,
          -16.334,
          -15.488,
          null,
          -15.488,
          -16.2,
          null,
          -16.2,
          -12.731,
          null,
          -12.731,
          -12.997,
          null,
          -12.997,
          -9.292,
          null,
          -9.292,
          -5.968,
          null,
          -5.968,
          -2.224,
          null,
          -2.224,
          0.768,
          null,
          0.768,
          3.071,
          null,
          3.071,
          1.11,
          null,
          1.11,
          -1.382,
          null,
          -1.382,
          -2.796,
          null,
          -2.796,
          -1.352,
          null,
          -1.352,
          -1.538,
          null,
          -1.538,
          0.917,
          null,
          0.917,
          0.601,
          null,
          0.601,
          2.928,
          null,
          2.928,
          3.23,
          null,
          3.23,
          5.188,
          null,
          5.188,
          7.962,
          null,
          7.962,
          11.297,
          null,
          11.297,
          12.782,
          null,
          12.782,
          16.579,
          null,
          16.579,
          18.45,
          null,
          18.45,
          21.673,
          null,
          21.673,
          22.478,
          null,
          22.478,
          25.582,
          null,
          25.582,
          25.491,
          null,
          25.491,
          24.113,
          null,
          24.113,
          21.063,
          null,
          21.063,
          20.593,
          null,
          20.593,
          18.858,
          null,
          18.858,
          15.131,
          null,
          15.131,
          15.587,
          null,
          15.587,
          16.446,
          null,
          16.446,
          12.684,
          null,
          12.684,
          11.67,
          null,
          11.67,
          8.853,
          null,
          8.853,
          8.366,
          null,
          8.366,
          10.261,
          null,
          10.261,
          9.397,
          null,
          9.397,
          12.797,
          null,
          12.797,
          13.759,
          null,
          13.759,
          16.062,
          null,
          16.062,
          18.828,
          null,
          18.828,
          20.419,
          null,
          20.419,
          19.865,
          null,
          19.865,
          17.23,
          null,
          17.23,
          13.504,
          null,
          13.504,
          10.611,
          null,
          10.611,
          9.048,
          null,
          9.048,
          9.748,
          null,
          9.748,
          7.113,
          null,
          7.113,
          8.784,
          null,
          8.784,
          7.303,
          null,
          7.303,
          8.171,
          null,
          8.171,
          7.136,
          null,
          7.136,
          7.255,
          null,
          7.255,
          10.804,
          null,
          10.804,
          13.536,
          null,
          13.536,
          15.662,
          null,
          15.662,
          19.067,
          null,
          19.067,
          21.703,
          null,
          21.703,
          24.398,
          null,
          24.398,
          25.074,
          null,
          25.074,
          22.775,
          null,
          22.775,
          20.108,
          null,
          20.108,
          17.416,
          null,
          17.416,
          14.794,
          null,
          14.794,
          15.073,
          null,
          15.073,
          18.016,
          null,
          18.016,
          17.751,
          null,
          17.751,
          18.418,
          null,
          18.418,
          17.901,
          null,
          17.901,
          17.251,
          null,
          17.251,
          17.409,
          null,
          17.409,
          14.309,
          null,
          14.309,
          10.736,
          null,
          10.736,
          9.176,
          null,
          9.176,
          5.464,
          null,
          5.464,
          4.662,
          null,
          4.662,
          1.372,
          null,
          1.372,
          0.036,
          null,
          0.036,
          -2.079,
          null,
          -2.079,
          -2.593,
          null,
          -2.593,
          -1.212,
          null,
          -1.212,
          1.15,
          null,
          1.15,
          4.233,
          null,
          4.233,
          7.409,
          null,
          7.409,
          8.997,
          null,
          8.997,
          5.893,
          null,
          5.893,
          4.091,
          null,
          4.091,
          1.314,
          null,
          1.314,
          -0.535,
          null,
          -0.535,
          0.63,
          null,
          0.63,
          -2.458,
          null,
          -2.458,
          -3.783,
          null,
          -3.783,
          -5.363,
          null,
          -5.363,
          -3.231,
          null,
          -3.231,
          0.115,
          null,
          0.115,
          3.266,
          null,
          3.266,
          5.315,
          null,
          5.315,
          8.91,
          null,
          8.91,
          9.9,
          null,
          9.9,
          13.295,
          null,
          13.295,
          15.897,
          null,
          15.897,
          13.38,
          null,
          13.38,
          15.003,
          null,
          15.003,
          13.118,
          null,
          13.118,
          13.41,
          null,
          13.41,
          12,
          null,
          12,
          10.152,
          null,
          10.152,
          11.817,
          null,
          11.817,
          10.26,
          null,
          10.26,
          11.341,
          null,
          11.341,
          14.866,
          null,
          14.866,
          15.087,
          null,
          15.087,
          13.713,
          null,
          13.713,
          15.69,
          null,
          15.69,
          18.939,
          null,
          18.939,
          18.841,
          null,
          18.841,
          17.059,
          null,
          17.059,
          18.896,
          null,
          18.896,
          19.4,
          null,
          19.4,
          18.091,
          null,
          18.091,
          16.58,
          null,
          16.58,
          12.982,
          null,
          12.982,
          9.998,
          null,
          9.998,
          9.258,
          null,
          9.258,
          6.106,
          null,
          6.106,
          4.129,
          null,
          4.129,
          0.574,
          null,
          0.574,
          1.808,
          null,
          1.808,
          2.352,
          null,
          2.352,
          3.721,
          null,
          3.721,
          4.845,
          null,
          4.845,
          6.61,
          null,
          6.61,
          6.331,
          null,
          6.331,
          9.82,
          null,
          9.82,
          10.471,
          null,
          10.471,
          13.464,
          null,
          13.464,
          11.123,
          null,
          11.123,
          10.013,
          null,
          10.013,
          6.312,
          null,
          6.312,
          3.804,
          null,
          3.804,
          0.904,
          null,
          0.904,
          -2.623,
          null,
          -2.623,
          -5.161,
          null,
          -5.161,
          -7.189,
          null,
          -7.189,
          -4.188,
          null,
          -4.188,
          -3.282,
          null,
          -3.282,
          -6.656,
          null,
          -6.656,
          -9.874,
          null,
          -9.874,
          -9.168,
          null,
          -9.168,
          -9.083,
          null,
          -9.083,
          -6.689,
          null,
          -6.689,
          -3.413,
          null,
          -3.413,
          -1.7,
          null,
          -1.7,
          -0.552,
          null,
          -0.552,
          1.374,
          null,
          1.374,
          3.511,
          null,
          3.511,
          6.739,
          null,
          6.739,
          6.12,
          null,
          6.12,
          7.101,
          null,
          7.101,
          10.762,
          null,
          10.762,
          10.751,
          null,
          10.751,
          11.448,
          null,
          11.448,
          14.737,
          null,
          14.737,
          17.655,
          null,
          17.655,
          21.3,
          null,
          21.3,
          23.01,
          null,
          23.01,
          26.478,
          null,
          26.478,
          29.123,
          null,
          29.123,
          32.356,
          null,
          32.356,
          34.69,
          null,
          34.69,
          33.205,
          null,
          33.205,
          33.883,
          null,
          33.883,
          32.148,
          null,
          32.148,
          28.788,
          null,
          28.788,
          28.342,
          null,
          28.342,
          26.894,
          null,
          26.894,
          23.174,
          null,
          23.174,
          23.313,
          null
         ],
         "y": [
          20.774,
          23.346,
          null,
          23.346,
          23.093,
          null,
          23.093,
          20.573,
          null,
          20.573,
          21.868,
          null,
          21.868,
          20.032,
          null,
          20.032,
          20.004,
          null,
          20.004,
          20.026,
          null,
          20.026,
          17.769,
          null,
          17.769,
          14.137,
          null,
          14.137,
          12.19,
          null,
          12.19,
          15.214,
          null,
          15.214,
          15.345,
          null,
          15.345,
          16.842,
          null,
          16.842,
          17.678,
          null,
          17.678,
          18.502,
          null,
          18.502,
          19.115,
          null,
          19.115,
          19.688,
          null,
          19.688,
          23.406,
          null,
          23.406,
          22.501,
          null,
          22.501,
          21.341,
          null,
          21.341,
          23.697,
          null,
          23.697,
          22.585,
          null,
          22.585,
          18.877,
          null,
          18.877,
          17.919,
          null,
          17.919,
          17.167,
          null,
          17.167,
          19.579,
          null,
          19.579,
          18.26,
          null,
          18.26,
          14.588,
          null,
          14.588,
          11.83,
          null,
          11.83,
          10.124,
          null,
          10.124,
          12.325,
          null,
          12.325,
          10.856,
          null,
          10.856,
          12.884,
          null,
          12.884,
          14.018,
          null,
          14.018,
          17.28,
          null,
          17.28,
          16.871,
          null,
          16.871,
          13.54,
          null,
          13.54,
          11.868,
          null,
          11.868,
          8.555,
          null,
          8.555,
          8.553,
          null,
          8.553,
          5.848,
          null,
          5.848,
          5.12,
          null,
          5.12,
          3.793,
          null,
          3.793,
          2.298,
          null,
          2.298,
          1.777,
          null,
          1.777,
          0.456,
          null,
          0.456,
          -1.471,
          null,
          -1.471,
          0.512,
          null,
          0.512,
          -0.024,
          null,
          -0.024,
          1.211,
          null,
          1.211,
          4.06,
          null,
          4.06,
          7.566,
          null,
          7.566,
          8.115,
          null,
          8.115,
          5.113,
          null,
          5.113,
          5.095,
          null,
          5.095,
          5.568,
          null,
          5.568,
          6.384,
          null,
          6.384,
          8.548,
          null,
          8.548,
          9.423,
          null,
          9.423,
          9.643,
          null,
          9.643,
          11.383,
          null,
          11.383,
          9.932,
          null,
          9.932,
          9.859,
          null,
          9.859,
          6.033,
          null,
          6.033,
          3.752,
          null,
          3.752,
          1.465,
          null,
          1.465,
          -1.597,
          null,
          -1.597,
          -1.122,
          null,
          -1.122,
          -3.584,
          null,
          -3.584,
          -7.028,
          null,
          -7.028,
          -10.075,
          null,
          -10.075,
          -10.258,
          null,
          -10.258,
          -12.844,
          null,
          -12.844,
          -14.262,
          null,
          -14.262,
          -12.919,
          null,
          -12.919,
          -13.638,
          null,
          -13.638,
          -12.524,
          null,
          -12.524,
          -12.22,
          null,
          -12.22,
          -11.894,
          null,
          -11.894,
          -11.016,
          null,
          -11.016,
          -13.76,
          null,
          -13.76,
          -14.436,
          null,
          -14.436,
          -17.818,
          null,
          -17.818,
          -17.385,
          null,
          -17.385,
          -21.052,
          null,
          -21.052,
          -21.028,
          null,
          -21.028,
          -21.238,
          null,
          -21.238,
          -22.388,
          null,
          -22.388,
          -19.636,
          null,
          -19.636,
          -17.793,
          null,
          -17.793,
          -16.235,
          null,
          -16.235,
          -14.585,
          null,
          -14.585,
          -10.833,
          null,
          -10.833,
          -10.035,
          null,
          -10.035,
          -7.236,
          null,
          -7.236,
          -6.481,
          null,
          -6.481,
          -4.415,
          null,
          -4.415,
          -1.935,
          null,
          -1.935,
          -3.68,
          null,
          -3.68,
          -3.372,
          null,
          -3.372,
          -1.172,
          null,
          -1.172,
          -2.475,
          null,
          -2.475,
          -0.369,
          null,
          -0.369,
          1.82,
          null,
          1.82,
          -0.308,
          null,
          -0.308,
          -3.447,
          null,
          -3.447,
          -4.733,
          null,
          -4.733,
          -2.236,
          null,
          -2.236,
          -2.684,
          null,
          -2.684,
          -0.494,
          null,
          -0.494,
          -0.161,
          null,
          -0.161,
          -3.297,
          null,
          -3.297,
          -5.568,
          null,
          -5.568,
          -4.467,
          null,
          -4.467,
          -5.409,
          null,
          -5.409,
          -7.792,
          null,
          -7.792,
          -9.21,
          null,
          -9.21,
          -9.223,
          null,
          -9.223,
          -10.48,
          null,
          -10.48,
          -10.642,
          null,
          -10.642,
          -12.496,
          null,
          -12.496,
          -13.144,
          null,
          -13.144,
          -14.04,
          null,
          -14.04,
          -11.755,
          null,
          -11.755,
          -13.462,
          null,
          -13.462,
          -12.836,
          null,
          -12.836,
          -9.246,
          null,
          -9.246,
          -9.763,
          null,
          -9.763,
          -9.25,
          null,
          -9.25,
          -7.264,
          null,
          -7.264,
          -7.458,
          null,
          -7.458,
          -5.518,
          null,
          -5.518,
          -4.987,
          null,
          -4.987,
          -3.581,
          null,
          -3.581,
          -1.805,
          null,
          -1.805,
          -1.614,
          null,
          -1.614,
          0.111,
          null,
          0.111,
          1.922,
          null,
          1.922,
          2.864,
          null,
          2.864,
          4.604,
          null,
          4.604,
          2.801,
          null,
          2.801,
          3.216,
          null,
          3.216,
          2.898,
          null,
          2.898,
          0.735,
          null,
          0.735,
          1.151,
          null,
          1.151,
          -0.832,
          null,
          -0.832,
          -1.263,
          null,
          -1.263,
          -3.314,
          null,
          -3.314,
          -5.17,
          null,
          -5.17,
          -6.658,
          null,
          -6.658,
          -3.692,
          null,
          -3.692,
          -0.175,
          null,
          -0.175,
          0.709,
          null,
          0.709,
          2.948,
          null,
          2.948,
          3.835,
          null,
          3.835,
          5.134,
          null,
          5.134,
          6.273,
          null,
          6.273,
          5.964,
          null,
          5.964,
          6.886,
          null,
          6.886,
          8.73,
          null,
          8.73,
          10.941,
          null,
          10.941,
          9.414,
          null,
          9.414,
          11.171,
          null,
          11.171,
          9.292,
          null,
          9.292,
          9.445,
          null,
          9.445,
          8.479,
          null,
          8.479,
          8.559,
          null,
          8.559,
          11.595,
          null,
          11.595,
          13.596,
          null,
          13.596,
          13.816,
          null,
          13.816,
          13.474,
          null,
          13.474,
          14.125,
          null,
          14.125,
          12.061,
          null,
          12.061,
          12.617,
          null,
          12.617,
          10.884,
          null,
          10.884,
          11.864,
          null,
          11.864,
          11.995,
          null,
          11.995,
          9.159,
          null,
          9.159,
          8.471,
          null,
          8.471,
          6.193,
          null,
          6.193,
          4.746,
          null,
          4.746,
          3.111,
          null,
          3.111,
          -0.221,
          null,
          -0.221,
          -0.332,
          null,
          -0.332,
          2.977,
          null,
          2.977,
          2.842,
          null,
          2.842,
          4.53,
          null,
          4.53,
          4.851,
          null,
          4.851,
          5.936,
          null,
          5.936,
          7.904,
          null,
          7.904,
          7.733,
          null,
          7.733,
          9.832,
          null,
          9.832,
          7.707,
          null,
          7.707,
          4.355,
          null,
          4.355,
          4.241,
          null,
          4.241,
          2.209,
          null,
          2.209,
          2.235,
          null,
          2.235,
          0.433,
          null,
          0.433,
          -0.51,
          null,
          -0.51,
          -1.39,
          null,
          -1.39,
          -3.204,
          null,
          -3.204,
          -3.794,
          null,
          -3.794,
          -6.049,
          null,
          -6.049,
          -5.228,
          null,
          -5.228,
          -1.921,
          null,
          -1.921,
          1.667,
          null,
          1.667,
          3.927,
          null,
          3.927,
          6.514,
          null,
          6.514,
          9.052,
          null,
          9.052,
          7.658,
          null,
          7.658,
          8.63,
          null,
          8.63,
          11.443,
          null,
          11.443,
          10.552,
          null,
          10.552,
          12.75,
          null,
          12.75,
          14.757,
          null,
          14.757,
          16.579,
          null,
          16.579,
          18.366,
          null,
          18.366,
          19.01,
          null,
          19.01,
          16.864,
          null,
          16.864,
          14.273,
          null,
          14.273,
          14.313,
          null,
          14.313,
          17.149,
          null,
          17.149,
          16.422,
          null,
          16.422,
          19.846,
          null,
          19.846,
          18.758,
          null,
          18.758,
          15.882,
          null,
          15.882,
          16.652,
          null,
          16.652,
          15.286,
          null,
          15.286,
          15.635,
          null,
          15.635,
          17.81,
          null,
          17.81,
          16.317,
          null,
          16.317,
          15.731,
          null,
          15.731,
          13.762,
          null,
          13.762,
          12.637,
          null,
          12.637,
          11.882,
          null,
          11.882,
          9.814,
          null,
          9.814,
          6.738,
          null,
          6.738,
          4.22,
          null,
          4.22,
          2.432,
          null,
          2.432,
          -1.142,
          null,
          -1.142,
          -1.165,
          null,
          -1.165,
          0.256,
          null,
          0.256,
          -2.41,
          null,
          -2.41,
          -2.553,
          null,
          -2.553,
          -4.652,
          null,
          -4.652,
          -5.929,
          null,
          -5.929,
          -7.449,
          null,
          -7.449,
          -9.791,
          null,
          -9.791,
          -12.269,
          null,
          -12.269,
          -12.192,
          null,
          -12.192,
          -12.747,
          null,
          -12.747,
          -10.573,
          null,
          -10.573,
          -10.199,
          null,
          -10.199,
          -8.039,
          null,
          -8.039,
          -6.717,
          null,
          -6.717,
          -4.582,
          null,
          -4.582,
          -1.465,
          null,
          -1.465,
          1.183,
          null,
          1.183,
          4.213,
          null,
          4.213,
          5.648,
          null,
          5.648,
          4.93,
          null,
          4.93,
          8.377,
          null,
          8.377,
          9.787,
          null,
          9.787,
          11.124,
          null,
          11.124,
          14.678,
          null,
          14.678,
          15.375,
          null,
          15.375,
          13.63,
          null,
          13.63,
          14.123,
          null,
          14.123,
          12.05,
          null,
          12.05,
          11.054,
          null,
          11.054,
          8.034,
          null,
          8.034,
          9.581,
          null,
          9.581,
          9.104,
          null,
          9.104,
          11.357,
          null,
          11.357,
          12.26,
          null,
          12.26,
          13.594,
          null,
          13.594,
          15.337,
          null,
          15.337,
          13.603,
          null,
          13.603,
          16.835,
          null,
          16.835,
          18.268,
          null,
          18.268,
          15.683,
          null,
          15.683,
          17.336,
          null,
          17.336,
          15.257,
          null,
          15.257,
          14.762,
          null,
          14.762,
          13.09,
          null,
          13.09,
          13.123,
          null,
          13.123,
          16.591,
          null,
          16.591,
          15.521,
          null,
          15.521,
          12.023,
          null,
          12.023,
          8.506,
          null,
          8.506,
          7.149,
          null,
          7.149,
          7.237,
          null,
          7.237,
          4.263,
          null,
          4.263,
          4.656,
          null,
          4.656,
          4.527,
          null,
          4.527,
          8.262,
          null,
          8.262,
          8.79,
          null,
          8.79,
          7.075,
          null,
          7.075,
          8.908,
          null,
          8.908,
          6.49,
          null,
          6.49,
          3.438,
          null,
          3.438,
          0.575,
          null,
          0.575,
          -0.584,
          null,
          -0.584,
          -4.086,
          null,
          -4.086,
          -5.117,
          null,
          -5.117,
          -5.238,
          null,
          -5.238,
          -1.837,
          null,
          -1.837,
          -0.326,
          null,
          -0.326,
          -2.93,
          null,
          -2.93,
          -2.162,
          null,
          -2.162,
          -4.495,
          null,
          -4.495,
          -2.153,
          null,
          -2.153,
          1.201,
          null,
          1.201,
          3.488,
          null,
          3.488,
          5.02,
          null,
          5.02,
          7.463,
          null,
          7.463,
          8.649,
          null,
          8.649,
          12.266,
          null,
          12.266,
          14.862,
          null,
          14.862,
          16.083,
          null,
          16.083,
          17.445,
          null,
          17.445,
          15.004,
          null,
          15.004,
          16.67,
          null,
          16.67,
          13.855,
          null,
          13.855,
          13.965,
          null,
          13.965,
          11.008,
          null,
          11.008,
          8.813,
          null,
          8.813,
          6.307,
          null,
          6.307,
          8.079,
          null,
          8.079,
          5.429,
          null,
          5.429,
          2.889,
          null,
          2.889,
          0.503,
          null,
          0.503,
          -3.278,
          null,
          -3.278,
          -5.24,
          null,
          -5.24,
          -8.133,
          null,
          -8.133,
          -7.157,
          null,
          -7.157,
          -8.902,
          null,
          -8.902,
          -6.777,
          null,
          -6.777,
          -7.349,
          null,
          -7.349,
          -4.495,
          null,
          -4.495,
          -3.811,
          null,
          -3.811,
          -0.907,
          null,
          -0.907,
          1.014,
          null,
          1.014,
          3.984,
          null,
          3.984,
          6.695,
          null,
          6.695,
          8.952,
          null,
          8.952,
          9.607,
          null,
          9.607,
          7.485,
          null,
          7.485,
          5.652,
          null,
          5.652,
          6.701,
          null,
          6.701,
          3.254,
          null,
          3.254,
          1.466,
          null,
          1.466,
          3.085,
          null,
          3.085,
          0.352,
          null,
          0.352,
          -1.775,
          null,
          -1.775,
          -0.211,
          null,
          -0.211,
          1.856,
          null,
          1.856,
          3.677,
          null,
          3.677,
          1.24,
          null,
          1.24,
          -1.609,
          null,
          -1.609,
          -2.874,
          null,
          -2.874,
          -4.921,
          null,
          -4.921,
          -7.207,
          null,
          -7.207,
          -7.978,
          null,
          -7.978,
          -10.623,
          null,
          -10.623,
          -11.191,
          null,
          -11.191,
          -11.78,
          null,
          -11.78,
          -11.518,
          null,
          -11.518,
          -9.477,
          null,
          -9.477,
          -6.501,
          null,
          -6.501,
          -3.017,
          null,
          -3.017,
          -0.796,
          null,
          -0.796,
          -2.338,
          null,
          -2.338,
          -2.738,
          null,
          -2.738,
          0.445,
          null,
          0.445,
          2.517,
          null,
          2.517,
          1.223,
          null,
          1.223,
          1.925,
          null,
          1.925,
          5.377,
          null,
          5.377,
          6.383,
          null,
          6.383,
          5.008,
          null,
          5.008,
          7.298,
          null,
          7.298,
          10.354,
          null,
          10.354,
          13.673,
          null,
          13.673,
          14.488,
          null,
          14.488,
          17.854,
          null,
          17.854,
          19.119,
          null,
          19.119,
          17.827,
          null,
          17.827,
          17.549,
          null,
          17.549,
          13.902,
          null,
          13.902,
          12.395,
          null,
          12.395,
          15.695,
          null,
          15.695,
          14.706,
          null,
          14.706,
          11.205,
          null,
          11.205,
          9.726,
          null,
          9.726,
          6.221,
          null,
          6.221,
          4.54,
          null,
          4.54,
          1.453,
          null,
          1.453,
          -0.797,
          null,
          -0.797,
          -2.216,
          null,
          -2.216,
          -5.034,
          null,
          -5.034,
          -7.021,
          null,
          -7.021,
          -9.981,
          null,
          -9.981,
          -12.431,
          null,
          -12.431,
          -11.869,
          null,
          -11.869,
          -14.656,
          null,
          -14.656,
          -13.888,
          null,
          -13.888,
          -14.935,
          null,
          -14.935,
          -16.984,
          null,
          -16.984,
          -13.83,
          null,
          -13.83,
          -11.959,
          null,
          -11.959,
          -14.638,
          null,
          -14.638,
          -15.754,
          null,
          -15.754,
          -14.458,
          null,
          -14.458,
          -10.808,
          null,
          -10.808,
          -11.551,
          null,
          -11.551,
          -8.692,
          null,
          -8.692,
          -10.55,
          null,
          -10.55,
          -9.69,
          null,
          -9.69,
          -13.002,
          null,
          -13.002,
          -11.216,
          null,
          -11.216,
          -9.022,
          null,
          -9.022,
          -10.797,
          null,
          -10.797,
          -10.025,
          null,
          -10.025,
          -6.41,
          null,
          -6.41,
          -7.51,
          null,
          -7.51,
          -10.334,
          null,
          -10.334,
          -7.979,
          null,
          -7.979,
          -6.678,
          null,
          -6.678,
          -7.174,
          null,
          -7.174,
          -7.481,
          null,
          -7.481,
          -4.206,
          null,
          -4.206,
          -5.721,
          null,
          -5.721,
          -5.037,
          null,
          -5.037,
          -7.113,
          null,
          -7.113,
          -4.775,
          null,
          -4.775,
          -1.347,
          null,
          -1.347,
          0.262,
          null,
          0.262,
          3.48,
          null,
          3.48,
          3.023,
          null,
          3.023,
          5.817,
          null,
          5.817,
          9.001,
          null,
          9.001,
          9.134,
          null,
          9.134,
          11.622,
          null
         ],
         "z": [
          0.146,
          2.559,
          null,
          2.559,
          2.173,
          null,
          2.173,
          4.806,
          null,
          4.806,
          7.12,
          null,
          7.12,
          7.816,
          null,
          7.816,
          10.038,
          null,
          10.038,
          7.951,
          null,
          7.951,
          8.715,
          null,
          8.715,
          8.932,
          null,
          8.932,
          12.03,
          null,
          12.03,
          14.415,
          null,
          14.415,
          17.767,
          null,
          17.767,
          17.016,
          null,
          17.016,
          18.876,
          null,
          18.876,
          17.621,
          null,
          17.621,
          19.101,
          null,
          19.101,
          17.411,
          null,
          17.411,
          17.485,
          null,
          17.485,
          18.741,
          null,
          18.741,
          22.04,
          null,
          22.04,
          22.949,
          null,
          22.949,
          25.791,
          null,
          25.791,
          25.236,
          null,
          25.236,
          25.467,
          null,
          25.467,
          28.945,
          null,
          28.945,
          30.137,
          null,
          30.137,
          31.511,
          null,
          31.511,
          31.523,
          null,
          31.523,
          29.148,
          null,
          29.148,
          31.356,
          null,
          31.356,
          34.124,
          null,
          34.124,
          36.598,
          null,
          36.598,
          34.765,
          null,
          34.765,
          31.203,
          null,
          31.203,
          29.9,
          null,
          29.9,
          28.691,
          null,
          28.691,
          30.521,
          null,
          30.521,
          27.6,
          null,
          27.6,
          27.69,
          null,
          27.69,
          27.318,
          null,
          27.318,
          24.977,
          null,
          24.977,
          23.774,
          null,
          23.774,
          20.317,
          null,
          20.317,
          20.2,
          null,
          20.2,
          16.788,
          null,
          16.788,
          18.407,
          null,
          18.407,
          21.477,
          null,
          21.477,
          24.76,
          null,
          24.76,
          25.139,
          null,
          25.139,
          21.688,
          null,
          21.688,
          21.723,
          null,
          21.723,
          21.733,
          null,
          21.733,
          18.047,
          null,
          18.047,
          16.897,
          null,
          16.897,
          19.464,
          null,
          19.464,
          17.87,
          null,
          17.87,
          19.822,
          null,
          19.822,
          19.999,
          null,
          19.999,
          22.769,
          null,
          22.769,
          21.773,
          null,
          21.773,
          23.784,
          null,
          23.784,
          22.643,
          null,
          22.643,
          23.667,
          null,
          23.667,
          23.962,
          null,
          23.962,
          24.054,
          null,
          24.054,
          21.112,
          null,
          21.112,
          23.349,
          null,
          23.349,
          23.289,
          null,
          23.289,
          20.598,
          null,
          20.598,
          20.146,
          null,
          20.146,
          19.44,
          null,
          19.44,
          16.061,
          null,
          16.061,
          13.605,
          null,
          13.605,
          10.653,
          null,
          10.653,
          7.313,
          null,
          7.313,
          3.617,
          null,
          3.617,
          2.541,
          null,
          2.541,
          -1.096,
          null,
          -1.096,
          -2.96,
          null,
          -2.96,
          0.055,
          null,
          0.055,
          0.799,
          null,
          0.799,
          2.418,
          null,
          2.418,
          0.933,
          null,
          0.933,
          -1.069,
          null,
          -1.069,
          -2.161,
          null,
          -2.161,
          -4.035,
          null,
          -4.035,
          -7.448,
          null,
          -7.448,
          -8.869,
          null,
          -8.869,
          -9.09,
          null,
          -9.09,
          -12.466,
          null,
          -12.466,
          -13.179,
          null,
          -13.179,
          -16.393,
          null,
          -16.393,
          -16.967,
          null,
          -16.967,
          -15.958,
          null,
          -15.958,
          -17.022,
          null,
          -17.022,
          -16.249,
          null,
          -16.249,
          -18.255,
          null,
          -18.255,
          -16.316,
          null,
          -16.316,
          -13.669,
          null,
          -13.669,
          -14.272,
          null,
          -14.272,
          -11.882,
          null,
          -11.882,
          -10.973,
          null,
          -10.973,
          -12.753,
          null,
          -12.753,
          -10.779,
          null,
          -10.779,
          -12.245,
          null,
          -12.245,
          -10.815,
          null,
          -10.815,
          -7.235,
          null,
          -7.235,
          -4.642,
          null,
          -4.642,
          -3.84,
          null,
          -3.84,
          -1.243,
          null,
          -1.243,
          -0.407,
          null,
          -0.407,
          1.835,
          null,
          1.835,
          -0.349,
          null,
          -0.349,
          -3.323,
          null,
          -3.323,
          -1.944,
          null,
          -1.944,
          -4.224,
          null,
          -4.224,
          -3.253,
          null,
          -3.253,
          -6.298,
          null,
          -6.298,
          -4.918,
          null,
          -4.918,
          -1.738,
          null,
          -1.738,
          0.48,
          null,
          0.48,
          4.048,
          null,
          4.048,
          7.307,
          null,
          7.307,
          8.921,
          null,
          8.921,
          12.317,
          null,
          12.317,
          12.47,
          null,
          12.47,
          11.177,
          null,
          11.177,
          8.095,
          null,
          8.095,
          4.571,
          null,
          4.571,
          2.387,
          null,
          2.387,
          0.146,
          null,
          0.146,
          -2.841,
          null,
          -2.841,
          -3.19,
          null,
          -3.19,
          -5.807,
          null,
          -5.807,
          -4.542,
          null,
          -4.542,
          -6.875,
          null,
          -6.875,
          -5.623,
          null,
          -5.623,
          -6.755,
          null,
          -6.755,
          -3.524,
          null,
          -3.524,
          -0.212,
          null,
          -0.212,
          3.042,
          null,
          3.042,
          4.91,
          null,
          4.91,
          8.722,
          null,
          8.722,
          8.583,
          null,
          8.583,
          9.055,
          null,
          9.055,
          8.495,
          null,
          8.495,
          10.452,
          null,
          10.452,
          9.629,
          null,
          9.629,
          12.498,
          null,
          12.498,
          10.247,
          null,
          10.247,
          8.743,
          null,
          8.743,
          7.347,
          null,
          7.347,
          4.22,
          null,
          4.22,
          1.688,
          null,
          1.688,
          -0.57,
          null,
          -0.57,
          -4.13,
          null,
          -4.13,
          -5.827,
          null,
          -5.827,
          -9.556,
          null,
          -9.556,
          -10.341,
          null,
          -10.341,
          -8.121,
          null,
          -8.121,
          -5.049,
          null,
          -5.049,
          -1.592,
          null,
          -1.592,
          1.327,
          null,
          1.327,
          4.25,
          null,
          4.25,
          7.768,
          null,
          7.768,
          10.42,
          null,
          10.42,
          14.117,
          null,
          14.117,
          13.652,
          null,
          13.652,
          11.264,
          null,
          11.264,
          7.607,
          null,
          7.607,
          4.548,
          null,
          4.548,
          0.969,
          null,
          0.969,
          -1.229,
          null,
          -1.229,
          -4.952,
          null,
          -4.952,
          -7.819,
          null,
          -7.819,
          -7.753,
          null,
          -7.753,
          -3.97,
          null,
          -3.97,
          -1.625,
          null,
          -1.625,
          1.95,
          null,
          1.95,
          4.699,
          null,
          4.699,
          7.187,
          null,
          7.187,
          9.776,
          null,
          9.776,
          11.421,
          null,
          11.421,
          13.779,
          null,
          13.779,
          12.784,
          null,
          12.784,
          12.028,
          null,
          12.028,
          8.882,
          null,
          8.882,
          6.487,
          null,
          6.487,
          2.888,
          null,
          2.888,
          0.837,
          null,
          0.837,
          -2.88,
          null,
          -2.88,
          -5.497,
          null,
          -5.497,
          -8.583,
          null,
          -8.583,
          -9.799,
          null,
          -9.799,
          -7.971,
          null,
          -7.971,
          -8.285,
          null,
          -8.285,
          -6.948,
          null,
          -6.948,
          -5.421,
          null,
          -5.421,
          -1.884,
          null,
          -1.884,
          -0.532,
          null,
          -0.532,
          2.776,
          null,
          2.776,
          4.903,
          null,
          4.903,
          8.032,
          null,
          8.032,
          11.195,
          null,
          11.195,
          9.966,
          null,
          9.966,
          9.298,
          null,
          9.298,
          6.308,
          null,
          6.308,
          6.69,
          null,
          6.69,
          4.61,
          null,
          4.61,
          2.802,
          null,
          2.802,
          4.068,
          null,
          4.068,
          1.938,
          null,
          1.938,
          2.167,
          null,
          2.167,
          -0.147,
          null,
          -0.147,
          -1.309,
          null,
          -1.309,
          1.994,
          null,
          1.994,
          3.889,
          null,
          3.889,
          0.929,
          null,
          0.929,
          -1.854,
          null,
          -1.854,
          -2.73,
          null,
          -2.73,
          -0.52,
          null,
          -0.52,
          1.997,
          null,
          1.997,
          5.423,
          null,
          5.423,
          5.463,
          null,
          5.463,
          2.493,
          null,
          2.493,
          4.381,
          null,
          4.381,
          5.697,
          null,
          5.697,
          8.83,
          null,
          8.83,
          9.403,
          null,
          9.403,
          12.14,
          null,
          12.14,
          14.893,
          null,
          14.893,
          13.85,
          null,
          13.85,
          15.484,
          null,
          15.484,
          15.17,
          null,
          15.17,
          18.029,
          null,
          18.029,
          16.524,
          null,
          16.524,
          17.434,
          null,
          17.434,
          14.668,
          null,
          14.668,
          14.799,
          null,
          14.799,
          13.497,
          null,
          13.497,
          14.369,
          null,
          14.369,
          13.178,
          null,
          13.178,
          11.494,
          null,
          11.494,
          12.398,
          null,
          12.398,
          9.951,
          null,
          9.951,
          11.01,
          null,
          11.01,
          9.024,
          null,
          9.024,
          11.442,
          null,
          11.442,
          10.474,
          null,
          10.474,
          6.904,
          null,
          6.904,
          7.492,
          null,
          7.492,
          7.764,
          null,
          7.764,
          10.781,
          null,
          10.781,
          11.672,
          null,
          11.672,
          14.873,
          null,
          14.873,
          15.666,
          null,
          15.666,
          17.863,
          null,
          17.863,
          18.554,
          null,
          18.554,
          17.796,
          null,
          17.796,
          15.212,
          null,
          15.212,
          15.953,
          null,
          15.953,
          14.707,
          null,
          14.707,
          18.133,
          null,
          18.133,
          18.901,
          null,
          18.901,
          20.023,
          null,
          20.023,
          20.568,
          null,
          20.568,
          20.061,
          null,
          20.061,
          20.443,
          null,
          20.443,
          19.368,
          null,
          19.368,
          16.476,
          null,
          16.476,
          15.136,
          null,
          15.136,
          12.656,
          null,
          12.656,
          9.231,
          null,
          9.231,
          6.587,
          null,
          6.587,
          2.931,
          null,
          2.931,
          0.343,
          null,
          0.343,
          -2.966,
          null,
          -2.966,
          -5.468,
          null,
          -5.468,
          -7.421,
          null,
          -7.421,
          -4.565,
          null,
          -4.565,
          -4.892,
          null,
          -4.892,
          -5.668,
          null,
          -5.668,
          -8.451,
          null,
          -8.451,
          -8.69,
          null,
          -8.69,
          -11.407,
          null,
          -11.407,
          -13.461,
          null,
          -13.461,
          -14.835,
          null,
          -14.835,
          -16.854,
          null,
          -16.854,
          -18.208,
          null,
          -18.208,
          -17.294,
          null,
          -17.294,
          -15.643,
          null,
          -15.643,
          -11.868,
          null,
          -11.868,
          -10.307,
          null,
          -10.307,
          -9.924,
          null,
          -9.924,
          -6.155,
          null,
          -6.155,
          -6.405,
          null,
          -6.405,
          -6.844,
          null,
          -6.844,
          -3.542,
          null,
          -3.542,
          -1.667,
          null,
          -1.667,
          1.258,
          null,
          1.258,
          2.478,
          null,
          2.478,
          4.831,
          null,
          4.831,
          6.051,
          null,
          6.051,
          6.873,
          null,
          6.873,
          9.656,
          null,
          9.656,
          7.064,
          null,
          7.064,
          6.718,
          null,
          6.718,
          3.274,
          null,
          3.274,
          2.376,
          null,
          2.376,
          2.295,
          null,
          2.295,
          2.731,
          null,
          2.731,
          0.329,
          null,
          0.329,
          -1.353,
          null,
          -1.353,
          -2.813,
          null,
          -2.813,
          -5.866,
          null,
          -5.866,
          -8.334,
          null,
          -8.334,
          -11.838,
          null,
          -11.838,
          -11.832,
          null,
          -11.832,
          -14.66,
          null,
          -14.66,
          -15.064,
          null,
          -15.064,
          -17.372,
          null,
          -17.372,
          -19.298,
          null,
          -19.298,
          -19.885,
          null,
          -19.885,
          -19.602,
          null,
          -19.602,
          -22.336,
          null,
          -22.336,
          -24.582,
          null,
          -24.582,
          -22.431,
          null,
          -22.431,
          -23.228,
          null,
          -23.228,
          -21.221,
          null,
          -21.221,
          -20.952,
          null,
          -20.952,
          -18.266,
          null,
          -18.266,
          -18.937,
          null,
          -18.937,
          -19.558,
          null,
          -19.558,
          -16.378,
          null,
          -16.378,
          -13.95,
          null,
          -13.95,
          -10.376,
          null,
          -10.376,
          -7.077,
          null,
          -7.077,
          -6.142,
          null,
          -6.142,
          -7.117,
          null,
          -7.117,
          -9.075,
          null,
          -9.075,
          -9.206,
          null,
          -9.206,
          -11.421,
          null,
          -11.421,
          -11.594,
          null,
          -11.594,
          -13.53,
          null,
          -13.53,
          -11.875,
          null,
          -11.875,
          -14.995,
          null,
          -14.995,
          -18.469,
          null,
          -18.469,
          -20.626,
          null,
          -20.626,
          -19.502,
          null,
          -19.502,
          -21.52,
          null,
          -21.52,
          -21.792,
          null,
          -21.792,
          -23.104,
          null,
          -23.104,
          -26.085,
          null,
          -26.085,
          -25.842,
          null,
          -25.842,
          -23.209,
          null,
          -23.209,
          -19.771,
          null,
          -19.771,
          -18.968,
          null,
          -18.968,
          -15.897,
          null,
          -15.897,
          -13.447,
          null,
          -13.447,
          -14.671,
          null,
          -14.671,
          -13.521,
          null,
          -13.521,
          -14.166,
          null,
          -14.166,
          -12.062,
          null,
          -12.062,
          -12.674,
          null,
          -12.674,
          -10.166,
          null,
          -10.166,
          -8.741,
          null,
          -8.741,
          -11.396,
          null,
          -11.396,
          -14.219,
          null,
          -14.219,
          -17.107,
          null,
          -17.107,
          -18.334,
          null,
          -18.334,
          -19.968,
          null,
          -19.968,
          -22.621,
          null,
          -22.621,
          -25.628,
          null,
          -25.628,
          -29.107,
          null,
          -29.107,
          -30.535,
          null,
          -30.535,
          -27.587,
          null,
          -27.587,
          -27.895,
          null,
          -27.895,
          -31.613,
          null,
          -31.613,
          -31.209,
          null,
          -31.209,
          -28.122,
          null,
          -28.122,
          -29.43,
          null,
          -29.43,
          -32.516,
          null,
          -32.516,
          -31.37,
          null,
          -31.37,
          -31.219,
          null,
          -31.219,
          -27.587,
          null,
          -27.587,
          -26.418,
          null,
          -26.418,
          -23.196,
          null,
          -23.196,
          -23.052,
          null,
          -23.052,
          -20.767,
          null,
          -20.767,
          -19.784,
          null,
          -19.784,
          -18.32,
          null,
          -18.32,
          -18.347,
          null,
          -18.347,
          -17.446,
          null,
          -17.446,
          -16.356,
          null,
          -16.356,
          -12.922,
          null,
          -12.922,
          -12.659,
          null,
          -12.659,
          -9.47,
          null,
          -9.47,
          -8.29,
          null,
          -8.29,
          -5.282,
          null,
          -5.282,
          -5.052,
          null,
          -5.052,
          -2.677,
          null,
          -2.677,
          -1.573,
          null,
          -1.573,
          -1.156,
          null,
          -1.156,
          -3.882,
          null,
          -3.882,
          -4.466,
          null,
          -4.466,
          -5.054,
          null,
          -5.054,
          -7.317,
          null,
          -7.317,
          -6.364,
          null,
          -6.364,
          -8.433,
          null,
          -8.433,
          -8.877,
          null,
          -8.877,
          -10.17,
          null,
          -10.17,
          -12.717,
          null,
          -12.717,
          -13.892,
          null,
          -13.892,
          -12.159,
          null,
          -12.159,
          -12.865,
          null,
          -12.865,
          -16.613,
          null,
          -16.613,
          -16.91,
          null,
          -16.91,
          -17.375,
          null,
          -17.375,
          -20.633,
          null,
          -20.633,
          -22.189,
          null,
          -22.189,
          -24.846,
          null,
          -24.846,
          -22.666,
          null,
          -22.666,
          -23.622,
          null,
          -23.622,
          -27.331,
          null,
          -27.331,
          -26.826,
          null,
          -26.826,
          -26.553,
          null,
          -26.553,
          -29.323,
          null,
          -29.323,
          -32.174,
          null,
          -32.174,
          -30.55,
          null,
          -30.55,
          -32.987,
          null,
          -32.987,
          -32.586,
          null,
          -32.586,
          -33.498,
          null,
          -33.498,
          -32.813,
          null,
          -32.813,
          -35.448,
          null,
          -35.448,
          -34.344,
          null,
          -34.344,
          -36.388,
          null,
          -36.388,
          -35.941,
          null,
          -35.941,
          -32.552,
          null,
          -32.552,
          -33.648,
          null,
          -33.648,
          -35.349,
          null,
          -35.349,
          -38.112,
          null,
          -38.112,
          -36.305,
          null,
          -36.305,
          -37.303,
          null,
          -37.303,
          -40.28,
          null
         ]
        }
       ],
       "layout": {
        "height": 650,
        "margin": {
         "t": 100
        },
        "scene": {
         "xaxis": {
          "showbackground": false,
          "showgrid": false,
          "showline": false,
          "showticklabels": false,
          "title": {
           "text": ""
          },
          "zeroline": false
         },
         "yaxis": {
          "showbackground": false,
          "showgrid": false,
          "showline": false,
          "showticklabels": false,
          "title": {
           "text": ""
          },
          "zeroline": false
         },
         "zaxis": {
          "showbackground": false,
          "showgrid": false,
          "showline": false,
          "showticklabels": false,
          "title": {
           "text": ""
          },
          "zeroline": false
         }
        },
        "showlegend": false,
        "template": {
         "data": {
          "bar": [
           {
            "error_x": {
             "color": "#2a3f5f"
            },
            "error_y": {
             "color": "#2a3f5f"
            },
            "marker": {
             "line": {
              "color": "#E5ECF6",
              "width": 0.5
             },
             "pattern": {
              "fillmode": "overlay",
              "size": 10,
              "solidity": 0.2
             }
            },
            "type": "bar"
           }
          ],
          "barpolar": [
           {
            "marker": {
             "line": {
              "color": "#E5ECF6",
              "width": 0.5
             },
             "pattern": {
              "fillmode": "overlay",
              "size": 10,
              "solidity": 0.2
             }
            },
            "type": "barpolar"
           }
          ],
          "carpet": [
           {
            "aaxis": {
             "endlinecolor": "#2a3f5f",
             "gridcolor": "white",
             "linecolor": "white",
             "minorgridcolor": "white",
             "startlinecolor": "#2a3f5f"
            },
            "baxis": {
             "endlinecolor": "#2a3f5f",
             "gridcolor": "white",
             "linecolor": "white",
             "minorgridcolor": "white",
             "startlinecolor": "#2a3f5f"
            },
            "type": "carpet"
           }
          ],
          "choropleth": [
           {
            "colorbar": {
             "outlinewidth": 0,
             "ticks": ""
            },
            "type": "choropleth"
           }
          ],
          "contour": [
           {
            "colorbar": {
             "outlinewidth": 0,
             "ticks": ""
            },
            "colorscale": [
             [
              0,
              "#0d0887"
             ],
             [
              0.1111111111111111,
              "#46039f"
             ],
             [
              0.2222222222222222,
              "#7201a8"
             ],
             [
              0.3333333333333333,
              "#9c179e"
             ],
             [
              0.4444444444444444,
              "#bd3786"
             ],
             [
              0.5555555555555556,
              "#d8576b"
             ],
             [
              0.6666666666666666,
              "#ed7953"
             ],
             [
              0.7777777777777778,
              "#fb9f3a"
             ],
             [
              0.8888888888888888,
              "#fdca26"
             ],
             [
              1,
              "#f0f921"
             ]
            ],
            "type": "contour"
           }
          ],
          "contourcarpet": [
           {
            "colorbar": {
             "outlinewidth": 0,
             "ticks": ""
            },
            "type": "contourcarpet"
           }
          ],
          "heatmap": [
           {
            "colorbar": {
             "outlinewidth": 0,
             "ticks": ""
            },
            "colorscale": [
             [
              0,
              "#0d0887"
             ],
             [
              0.1111111111111111,
              "#46039f"
             ],
             [
              0.2222222222222222,
              "#7201a8"
             ],
             [
              0.3333333333333333,
              "#9c179e"
             ],
             [
              0.4444444444444444,
              "#bd3786"
             ],
             [
              0.5555555555555556,
              "#d8576b"
             ],
             [
              0.6666666666666666,
              "#ed7953"
             ],
             [
              0.7777777777777778,
              "#fb9f3a"
             ],
             [
              0.8888888888888888,
              "#fdca26"
             ],
             [
              1,
              "#f0f921"
             ]
            ],
            "type": "heatmap"
           }
          ],
          "heatmapgl": [
           {
            "colorbar": {
             "outlinewidth": 0,
             "ticks": ""
            },
            "colorscale": [
             [
              0,
              "#0d0887"
             ],
             [
              0.1111111111111111,
              "#46039f"
             ],
             [
              0.2222222222222222,
              "#7201a8"
             ],
             [
              0.3333333333333333,
              "#9c179e"
             ],
             [
              0.4444444444444444,
              "#bd3786"
             ],
             [
              0.5555555555555556,
              "#d8576b"
             ],
             [
              0.6666666666666666,
              "#ed7953"
             ],
             [
              0.7777777777777778,
              "#fb9f3a"
             ],
             [
              0.8888888888888888,
              "#fdca26"
             ],
             [
              1,
              "#f0f921"
             ]
            ],
            "type": "heatmapgl"
           }
          ],
          "histogram": [
           {
            "marker": {
             "pattern": {
              "fillmode": "overlay",
              "size": 10,
              "solidity": 0.2
             }
            },
            "type": "histogram"
           }
          ],
          "histogram2d": [
           {
            "colorbar": {
             "outlinewidth": 0,
             "ticks": ""
            },
            "colorscale": [
             [
              0,
              "#0d0887"
             ],
             [
              0.1111111111111111,
              "#46039f"
             ],
             [
              0.2222222222222222,
              "#7201a8"
             ],
             [
              0.3333333333333333,
              "#9c179e"
             ],
             [
              0.4444444444444444,
              "#bd3786"
             ],
             [
              0.5555555555555556,
              "#d8576b"
             ],
             [
              0.6666666666666666,
              "#ed7953"
             ],
             [
              0.7777777777777778,
              "#fb9f3a"
             ],
             [
              0.8888888888888888,
              "#fdca26"
             ],
             [
              1,
              "#f0f921"
             ]
            ],
            "type": "histogram2d"
           }
          ],
          "histogram2dcontour": [
           {
            "colorbar": {
             "outlinewidth": 0,
             "ticks": ""
            },
            "colorscale": [
             [
              0,
              "#0d0887"
             ],
             [
              0.1111111111111111,
              "#46039f"
             ],
             [
              0.2222222222222222,
              "#7201a8"
             ],
             [
              0.3333333333333333,
              "#9c179e"
             ],
             [
              0.4444444444444444,
              "#bd3786"
             ],
             [
              0.5555555555555556,
              "#d8576b"
             ],
             [
              0.6666666666666666,
              "#ed7953"
             ],
             [
              0.7777777777777778,
              "#fb9f3a"
             ],
             [
              0.8888888888888888,
              "#fdca26"
             ],
             [
              1,
              "#f0f921"
             ]
            ],
            "type": "histogram2dcontour"
           }
          ],
          "mesh3d": [
           {
            "colorbar": {
             "outlinewidth": 0,
             "ticks": ""
            },
            "type": "mesh3d"
           }
          ],
          "parcoords": [
           {
            "line": {
             "colorbar": {
              "outlinewidth": 0,
              "ticks": ""
             }
            },
            "type": "parcoords"
           }
          ],
          "pie": [
           {
            "automargin": true,
            "type": "pie"
           }
          ],
          "scatter": [
           {
            "fillpattern": {
             "fillmode": "overlay",
             "size": 10,
             "solidity": 0.2
            },
            "type": "scatter"
           }
          ],
          "scatter3d": [
           {
            "line": {
             "colorbar": {
              "outlinewidth": 0,
              "ticks": ""
             }
            },
            "marker": {
             "colorbar": {
              "outlinewidth": 0,
              "ticks": ""
             }
            },
            "type": "scatter3d"
           }
          ],
          "scattercarpet": [
           {
            "marker": {
             "colorbar": {
              "outlinewidth": 0,
              "ticks": ""
             }
            },
            "type": "scattercarpet"
           }
          ],
          "scattergeo": [
           {
            "marker": {
             "colorbar": {
              "outlinewidth": 0,
              "ticks": ""
             }
            },
            "type": "scattergeo"
           }
          ],
          "scattergl": [
           {
            "marker": {
             "colorbar": {
              "outlinewidth": 0,
              "ticks": ""
             }
            },
            "type": "scattergl"
           }
          ],
          "scattermapbox": [
           {
            "marker": {
             "colorbar": {
              "outlinewidth": 0,
              "ticks": ""
             }
            },
            "type": "scattermapbox"
           }
          ],
          "scatterpolar": [
           {
            "marker": {
             "colorbar": {
              "outlinewidth": 0,
              "ticks": ""
             }
            },
            "type": "scatterpolar"
           }
          ],
          "scatterpolargl": [
           {
            "marker": {
             "colorbar": {
              "outlinewidth": 0,
              "ticks": ""
             }
            },
            "type": "scatterpolargl"
           }
          ],
          "scatterternary": [
           {
            "marker": {
             "colorbar": {
              "outlinewidth": 0,
              "ticks": ""
             }
            },
            "type": "scatterternary"
           }
          ],
          "surface": [
           {
            "colorbar": {
             "outlinewidth": 0,
             "ticks": ""
            },
            "colorscale": [
             [
              0,
              "#0d0887"
             ],
             [
              0.1111111111111111,
              "#46039f"
             ],
             [
              0.2222222222222222,
              "#7201a8"
             ],
             [
              0.3333333333333333,
              "#9c179e"
             ],
             [
              0.4444444444444444,
              "#bd3786"
             ],
             [
              0.5555555555555556,
              "#d8576b"
             ],
             [
              0.6666666666666666,
              "#ed7953"
             ],
             [
              0.7777777777777778,
              "#fb9f3a"
             ],
             [
              0.8888888888888888,
              "#fdca26"
             ],
             [
              1,
              "#f0f921"
             ]
            ],
            "type": "surface"
           }
          ],
          "table": [
           {
            "cells": {
             "fill": {
              "color": "#EBF0F8"
             },
             "line": {
              "color": "white"
             }
            },
            "header": {
             "fill": {
              "color": "#C8D4E3"
             },
             "line": {
              "color": "white"
             }
            },
            "type": "table"
           }
          ]
         },
         "layout": {
          "annotationdefaults": {
           "arrowcolor": "#2a3f5f",
           "arrowhead": 0,
           "arrowwidth": 1
          },
          "autotypenumbers": "strict",
          "coloraxis": {
           "colorbar": {
            "outlinewidth": 0,
            "ticks": ""
           }
          },
          "colorscale": {
           "diverging": [
            [
             0,
             "#8e0152"
            ],
            [
             0.1,
             "#c51b7d"
            ],
            [
             0.2,
             "#de77ae"
            ],
            [
             0.3,
             "#f1b6da"
            ],
            [
             0.4,
             "#fde0ef"
            ],
            [
             0.5,
             "#f7f7f7"
            ],
            [
             0.6,
             "#e6f5d0"
            ],
            [
             0.7,
             "#b8e186"
            ],
            [
             0.8,
             "#7fbc41"
            ],
            [
             0.9,
             "#4d9221"
            ],
            [
             1,
             "#276419"
            ]
           ],
           "sequential": [
            [
             0,
             "#0d0887"
            ],
            [
             0.1111111111111111,
             "#46039f"
            ],
            [
             0.2222222222222222,
             "#7201a8"
            ],
            [
             0.3333333333333333,
             "#9c179e"
            ],
            [
             0.4444444444444444,
             "#bd3786"
            ],
            [
             0.5555555555555556,
             "#d8576b"
            ],
            [
             0.6666666666666666,
             "#ed7953"
            ],
            [
             0.7777777777777778,
             "#fb9f3a"
            ],
            [
             0.8888888888888888,
             "#fdca26"
            ],
            [
             1,
             "#f0f921"
            ]
           ],
           "sequentialminus": [
            [
             0,
             "#0d0887"
            ],
            [
             0.1111111111111111,
             "#46039f"
            ],
            [
             0.2222222222222222,
             "#7201a8"
            ],
            [
             0.3333333333333333,
             "#9c179e"
            ],
            [
             0.4444444444444444,
             "#bd3786"
            ],
            [
             0.5555555555555556,
             "#d8576b"
            ],
            [
             0.6666666666666666,
             "#ed7953"
            ],
            [
             0.7777777777777778,
             "#fb9f3a"
            ],
            [
             0.8888888888888888,
             "#fdca26"
            ],
            [
             1,
             "#f0f921"
            ]
           ]
          },
          "colorway": [
           "#636efa",
           "#EF553B",
           "#00cc96",
           "#ab63fa",
           "#FFA15A",
           "#19d3f3",
           "#FF6692",
           "#B6E880",
           "#FF97FF",
           "#FECB52"
          ],
          "font": {
           "color": "#2a3f5f"
          },
          "geo": {
           "bgcolor": "white",
           "lakecolor": "white",
           "landcolor": "#E5ECF6",
           "showlakes": true,
           "showland": true,
           "subunitcolor": "white"
          },
          "hoverlabel": {
           "align": "left"
          },
          "hovermode": "closest",
          "mapbox": {
           "style": "light"
          },
          "paper_bgcolor": "white",
          "plot_bgcolor": "#E5ECF6",
          "polar": {
           "angularaxis": {
            "gridcolor": "white",
            "linecolor": "white",
            "ticks": ""
           },
           "bgcolor": "#E5ECF6",
           "radialaxis": {
            "gridcolor": "white",
            "linecolor": "white",
            "ticks": ""
           }
          },
          "scene": {
           "xaxis": {
            "backgroundcolor": "#E5ECF6",
            "gridcolor": "white",
            "gridwidth": 2,
            "linecolor": "white",
            "showbackground": true,
            "ticks": "",
            "zerolinecolor": "white"
           },
           "yaxis": {
            "backgroundcolor": "#E5ECF6",
            "gridcolor": "white",
            "gridwidth": 2,
            "linecolor": "white",
            "showbackground": true,
            "ticks": "",
            "zerolinecolor": "white"
           },
           "zaxis": {
            "backgroundcolor": "#E5ECF6",
            "gridcolor": "white",
            "gridwidth": 2,
            "linecolor": "white",
            "showbackground": true,
            "ticks": "",
            "zerolinecolor": "white"
           }
          },
          "shapedefaults": {
           "line": {
            "color": "#2a3f5f"
           }
          },
          "ternary": {
           "aaxis": {
            "gridcolor": "white",
            "linecolor": "white",
            "ticks": ""
           },
           "baxis": {
            "gridcolor": "white",
            "linecolor": "white",
            "ticks": ""
           },
           "bgcolor": "#E5ECF6",
           "caxis": {
            "gridcolor": "white",
            "linecolor": "white",
            "ticks": ""
           }
          },
          "title": {
           "x": 0.05
          },
          "xaxis": {
           "automargin": true,
           "gridcolor": "white",
           "linecolor": "white",
           "ticks": "",
           "title": {
            "standoff": 15
           },
           "zerolinecolor": "white",
           "zerolinewidth": 2
          },
          "yaxis": {
           "automargin": true,
           "gridcolor": "white",
           "linecolor": "white",
           "ticks": "",
           "title": {
            "standoff": 15
           },
           "zerolinecolor": "white",
           "zerolinewidth": 2
          }
         }
        },
        "width": 620
       }
      }
     },
     "metadata": {},
     "output_type": "display_data"
    }
   ],
   "source": [
    "plotly_protein_structure_graph(g1, node_size_multiplier=0.5, colour_nodes_by=\"residue_name\")"
   ]
  },
  {
   "cell_type": "code",
   "execution_count": 16,
   "metadata": {},
   "outputs": [
    {
     "name": "stdout",
     "output_type": "stream",
     "text": [
      "<class 'networkx.classes.graph.Graph'>\n"
     ]
    }
   ],
   "source": [
    "print(type(g1))"
   ]
  },
  {
   "cell_type": "code",
   "execution_count": 17,
   "metadata": {},
   "outputs": [
    {
     "name": "stdout",
     "output_type": "stream",
     "text": [
      "A:ALA:122\n",
      "0.0\n"
     ]
    }
   ],
   "source": [
    "# difference between the two graphs\n",
    "for node in g.nodes:\n",
    "    if node not in g1.nodes:\n",
    "        print(node)\n",
    "\n",
    "# distance between the two graphs\n",
    "from networkx.algorithms.similarity import graph_edit_distance\n",
    "distance = graph_edit_distance(g, g1)\n",
    "print(distance)\n"
   ]
  },
  {
   "cell_type": "markdown",
   "metadata": {},
   "source": [
    "---\n",
    "Include the graph in the dataset"
   ]
  },
  {
   "cell_type": "code",
   "execution_count": 16,
   "metadata": {},
   "outputs": [],
   "source": [
    "#read the csv file aku_prin_v2.0_cleaned.csv\n",
    "\n",
    "import pandas as pd\n",
    "\n",
    "df = pd.read_excel('../datasets/aku_prin_v2.0.xlsx', sheet_name=0)"
   ]
  },
  {
   "cell_type": "code",
   "execution_count": 17,
   "metadata": {},
   "outputs": [
    {
     "data": {
      "text/html": [
       "<div>\n",
       "<style scoped>\n",
       "    .dataframe tbody tr th:only-of-type {\n",
       "        vertical-align: middle;\n",
       "    }\n",
       "\n",
       "    .dataframe tbody tr th {\n",
       "        vertical-align: top;\n",
       "    }\n",
       "\n",
       "    .dataframe thead th {\n",
       "        text-align: right;\n",
       "    }\n",
       "</style>\n",
       "<table border=\"1\" class=\"dataframe\">\n",
       "  <thead>\n",
       "    <tr style=\"text-align: right;\">\n",
       "      <th></th>\n",
       "      <th>Protein change allele 1</th>\n",
       "      <th>DNA change allele 1</th>\n",
       "      <th>Exon/intron allele 1</th>\n",
       "      <th>Protein change allele 2</th>\n",
       "      <th>DNA change allele 2</th>\n",
       "      <th>ex/in allele 2</th>\n",
       "      <th>physical_health_score</th>\n",
       "      <th>mental_health_score</th>\n",
       "      <th>AKUSSI_jointpain</th>\n",
       "      <th>AKUSSI_spinalpain</th>\n",
       "      <th>KOOSpain</th>\n",
       "      <th>KOOSsymptoms</th>\n",
       "      <th>KOOSdaily_living</th>\n",
       "      <th>KOOSsport</th>\n",
       "      <th>KOOS_QOL</th>\n",
       "      <th>HAQ_hapVAS</th>\n",
       "      <th>HAQ_haqDI</th>\n",
       "    </tr>\n",
       "  </thead>\n",
       "  <tbody>\n",
       "    <tr>\n",
       "      <th>0</th>\n",
       "      <td>G161R</td>\n",
       "      <td>c.481G&gt;A</td>\n",
       "      <td>ex8</td>\n",
       "      <td>His371Profs</td>\n",
       "      <td>c.1111dupC</td>\n",
       "      <td>ex13</td>\n",
       "      <td>26.0</td>\n",
       "      <td>43.0</td>\n",
       "      <td>57.0</td>\n",
       "      <td>75.0</td>\n",
       "      <td>67.0</td>\n",
       "      <td>89.0</td>\n",
       "      <td>75.0</td>\n",
       "      <td>70.0</td>\n",
       "      <td>69.0</td>\n",
       "      <td>63.0</td>\n",
       "      <td>1.50</td>\n",
       "    </tr>\n",
       "    <tr>\n",
       "      <th>1</th>\n",
       "      <td>G161R</td>\n",
       "      <td>c.481G&gt;A</td>\n",
       "      <td>ex8</td>\n",
       "      <td>G161R</td>\n",
       "      <td>c.481G&gt;A</td>\n",
       "      <td>ex8</td>\n",
       "      <td>53.0</td>\n",
       "      <td>51.0</td>\n",
       "      <td>29.0</td>\n",
       "      <td>25.0</td>\n",
       "      <td>92.0</td>\n",
       "      <td>96.0</td>\n",
       "      <td>91.0</td>\n",
       "      <td>85.0</td>\n",
       "      <td>75.0</td>\n",
       "      <td>23.0</td>\n",
       "      <td>0.25</td>\n",
       "    </tr>\n",
       "    <tr>\n",
       "      <th>2</th>\n",
       "      <td>G161R</td>\n",
       "      <td>c.481G&gt;A</td>\n",
       "      <td>ex8</td>\n",
       "      <td>M368V</td>\n",
       "      <td>c.1102A&gt;G</td>\n",
       "      <td>ex13</td>\n",
       "      <td>23.0</td>\n",
       "      <td>40.0</td>\n",
       "      <td>36.0</td>\n",
       "      <td>100.0</td>\n",
       "      <td>47.0</td>\n",
       "      <td>39.0</td>\n",
       "      <td>31.0</td>\n",
       "      <td>0.0</td>\n",
       "      <td>19.0</td>\n",
       "      <td>53.0</td>\n",
       "      <td>1.75</td>\n",
       "    </tr>\n",
       "    <tr>\n",
       "      <th>3</th>\n",
       "      <td>Y6_G29del ivs1-1G&gt;A</td>\n",
       "      <td>c.16-1G&gt;A</td>\n",
       "      <td>in1</td>\n",
       "      <td>Y6_G29del ivs1-1G&gt;A</td>\n",
       "      <td>c.16-1G&gt;A</td>\n",
       "      <td>in1</td>\n",
       "      <td>NaN</td>\n",
       "      <td>NaN</td>\n",
       "      <td>NaN</td>\n",
       "      <td>NaN</td>\n",
       "      <td>NaN</td>\n",
       "      <td>NaN</td>\n",
       "      <td>NaN</td>\n",
       "      <td>NaN</td>\n",
       "      <td>NaN</td>\n",
       "      <td>NaN</td>\n",
       "      <td>NaN</td>\n",
       "    </tr>\n",
       "    <tr>\n",
       "      <th>4</th>\n",
       "      <td>G161R</td>\n",
       "      <td>c.481G&gt;A</td>\n",
       "      <td>ex8</td>\n",
       "      <td>G161R</td>\n",
       "      <td>c.481G&gt;A</td>\n",
       "      <td>ex8</td>\n",
       "      <td>23.0</td>\n",
       "      <td>29.0</td>\n",
       "      <td>50.0</td>\n",
       "      <td>100.0</td>\n",
       "      <td>33.0</td>\n",
       "      <td>29.0</td>\n",
       "      <td>60.0</td>\n",
       "      <td>25.0</td>\n",
       "      <td>13.0</td>\n",
       "      <td>70.0</td>\n",
       "      <td>2.00</td>\n",
       "    </tr>\n",
       "  </tbody>\n",
       "</table>\n",
       "</div>"
      ],
      "text/plain": [
       "  Protein change allele 1  DNA change allele 1 Exon/intron allele 1  \\\n",
       "0                    G161R            c.481G>A                  ex8   \n",
       "1                    G161R            c.481G>A                  ex8   \n",
       "2                    G161R            c.481G>A                  ex8   \n",
       "3      Y6_G29del ivs1-1G>A           c.16-1G>A                  in1   \n",
       "4                    G161R            c.481G>A                  ex8   \n",
       "\n",
       "  Protein change allele 2 DNA change allele 2 ex/in allele 2  \\\n",
       "0             His371Profs          c.1111dupC           ex13   \n",
       "1                   G161R            c.481G>A            ex8   \n",
       "2                   M368V           c.1102A>G           ex13   \n",
       "3     Y6_G29del ivs1-1G>A           c.16-1G>A            in1   \n",
       "4                   G161R            c.481G>A            ex8   \n",
       "\n",
       "   physical_health_score  mental_health_score  AKUSSI_jointpain  \\\n",
       "0                   26.0                 43.0              57.0   \n",
       "1                   53.0                 51.0              29.0   \n",
       "2                   23.0                 40.0              36.0   \n",
       "3                    NaN                  NaN               NaN   \n",
       "4                   23.0                 29.0              50.0   \n",
       "\n",
       "   AKUSSI_spinalpain  KOOSpain  KOOSsymptoms  KOOSdaily_living  KOOSsport  \\\n",
       "0               75.0      67.0          89.0              75.0       70.0   \n",
       "1               25.0      92.0          96.0              91.0       85.0   \n",
       "2              100.0      47.0          39.0              31.0        0.0   \n",
       "3                NaN       NaN           NaN               NaN        NaN   \n",
       "4              100.0      33.0          29.0              60.0       25.0   \n",
       "\n",
       "   KOOS_QOL  HAQ_hapVAS  HAQ_haqDI  \n",
       "0      69.0        63.0       1.50  \n",
       "1      75.0        23.0       0.25  \n",
       "2      19.0        53.0       1.75  \n",
       "3       NaN         NaN        NaN  \n",
       "4      13.0        70.0       2.00  "
      ]
     },
     "execution_count": 17,
     "metadata": {},
     "output_type": "execute_result"
    }
   ],
   "source": [
    "df2 = df.iloc[:, list(range(12, 18)) + list(range(41, 52))] \n",
    "df2.head()"
   ]
  },
  {
   "cell_type": "markdown",
   "metadata": {},
   "source": [
    "---"
   ]
  },
  {
   "cell_type": "code",
   "execution_count": null,
   "metadata": {},
   "outputs": [],
   "source": [
    "from graphein.protein.config import ProteinGraphConfig\n",
    "from graphein.protein.edges.distance import *\n",
    "from graphein.protein.graphs import construct_graph\n",
    "\n",
    "edge_fns = [\n",
    "    add_aromatic_interactions,\n",
    "    add_hydrophobic_interactions,\n",
    "    add_aromatic_sulphur_interactions,\n",
    "    add_cation_pi_interactions,\n",
    "    add_disulfide_interactions,\n",
    "    add_hydrogen_bond_interactions,\n",
    "    add_ionic_interactions,\n",
    "    add_peptide_bonds\n",
    "    ]\n",
    "config = ProteinGraphConfig(edge_construction_functions=edge_fns)\n",
    "\n",
    "g = construct_graph(config=config, path= '../datasets/test/HGD_normal.pdb')"
   ]
  },
  {
   "cell_type": "code",
   "execution_count": null,
   "metadata": {},
   "outputs": [],
   "source": [
    "p = plotly_protein_structure_graph(\n",
    "    g,\n",
    "    colour_edges_by=\"kind\",\n",
    "    colour_nodes_by=\"degree\",\n",
    "    label_node_ids=False,\n",
    "    plot_title=\"Peptide backbone graph. Nodes coloured by degree.\",\n",
    "    node_size_multiplier=1\n",
    "    )\n",
    "p.show()"
   ]
  },
  {
   "cell_type": "code",
   "execution_count": 38,
   "metadata": {},
   "outputs": [
    {
     "data": {
      "text/plain": [
       "networkx.classes.graph.Graph"
      ]
     },
     "execution_count": 38,
     "metadata": {},
     "output_type": "execute_result"
    }
   ],
   "source": [
    "type(g)"
   ]
  },
  {
   "cell_type": "markdown",
   "metadata": {},
   "source": [
    "# funzione per controllare i nodi neighbor dei siti attivi"
   ]
  },
  {
   "cell_type": "code",
   "execution_count": 21,
   "metadata": {},
   "outputs": [],
   "source": [
    "active_site = [292, 335, 365, 371, 341]"
   ]
  },
  {
   "cell_type": "code",
   "execution_count": 22,
   "metadata": {},
   "outputs": [],
   "source": [
    "active_nodes = []\n",
    "active_edges = {}\n",
    "for i in active_site:\n",
    "    active_edges[i] = []\n",
    "\n",
    "\n",
    "for node in g.nodes:\n",
    "    #get the int of the node at the end of the string\n",
    "    nnode = int(node.split(':')[2])\n",
    "    if nnode in active_site:\n",
    "        active_nodes.append(node)\n",
    "        # get the edges of the node\n",
    "        for edge in g.edges(node, data=True):\n",
    "            active_edges[nnode].append(edge)"
   ]
  },
  {
   "cell_type": "code",
   "execution_count": 23,
   "metadata": {},
   "outputs": [],
   "source": [
    "active_nodes = get_edges_from_nodes(g, active_site)[0]"
   ]
  },
  {
   "cell_type": "code",
   "execution_count": 24,
   "metadata": {},
   "outputs": [
    {
     "data": {
      "text/plain": [
       "['A:HIS:292', 'A:HIS:335', 'A:GLU:341', 'A:HIS:365', 'A:HIS:371']"
      ]
     },
     "execution_count": 24,
     "metadata": {},
     "output_type": "execute_result"
    }
   ],
   "source": [
    "active_nodes"
   ]
  },
  {
   "cell_type": "code",
   "execution_count": 25,
   "metadata": {},
   "outputs": [],
   "source": [
    "SG = get_subgraph(g, active_nodes)"
   ]
  },
  {
   "cell_type": "code",
   "execution_count": 26,
   "metadata": {},
   "outputs": [],
   "source": [
    "#g.subgraph(active_nodes)\n",
    "SG = g.__class__()\n",
    "SG.add_nodes_from((n, g.nodes[n]) for n in active_nodes)\n",
    "if SG.is_multigraph():\n",
    "    SG.add_edges_from(\n",
    "        (n, nbr, key, d)\n",
    "        for n, nbrs in g.adj.items()\n",
    "        if n in active_nodes\n",
    "        for nbr, keydict in nbrs.items()\n",
    "        if nbr in active_nodes\n",
    "        for key, d in keydict.items()\n",
    "    )\n",
    "else:\n",
    "    SG.add_edges_from(\n",
    "        (n, nbr, d)\n",
    "        for n, nbrs in g.adj.items()\n",
    "        if n in active_nodes\n",
    "        for nbr, d in nbrs.items()\n",
    "        if nbr in active_nodes\n",
    "    )\n",
    "SG.graph.update(g.graph)"
   ]
  },
  {
   "cell_type": "code",
   "execution_count": 27,
   "metadata": {},
   "outputs": [
    {
     "data": {
      "application/vnd.plotly.v1+json": {
       "config": {
        "plotlyServerURL": "https://plot.ly"
       },
       "data": [
        {
         "hoverinfo": "text+x+y+z",
         "marker": {
          "color": [
           [
            0.050383,
            0.029803,
            0.527975,
            1
           ],
           [
            0.798216,
            0.280197,
            0.469538,
            1
           ],
           [
            0.973416,
            0.585761,
            0.25154,
            1
           ],
           [
            0.798216,
            0.280197,
            0.469538,
            1
           ],
           [
            0.973416,
            0.585761,
            0.25154,
            1
           ]
          ],
          "opacity": 0.7,
          "size": [
           20,
           22,
           23,
           22,
           23
          ],
          "symbol": "circle"
         },
         "mode": "markers",
         "text": [
          "A:HIS:292",
          "A:HIS:335",
          "A:GLU:341",
          "A:HIS:365",
          "A:HIS:371"
         ],
         "type": "scatter3d",
         "x": [
          20.611,
          18.004,
          8.956,
          8.718,
          13.418
         ],
         "y": [
          7.304,
          -4.606,
          -4.836,
          -8.297,
          -6.366
         ],
         "z": [
          -16.145,
          -16.055,
          -9.17,
          -12.927,
          -18.323
         ]
        },
        {
         "hoverinfo": "text",
         "line": {
          "color": [
           [
            0.050383,
            0.029803,
            0.527975,
            1
           ],
           [
            0.050383,
            0.029803,
            0.527975,
            1
           ],
           [
            0.050383,
            0.029803,
            0.527975,
            1
           ],
           [
            0.610667,
            0.090204,
            0.619951,
            1
           ],
           [
            0.610667,
            0.090204,
            0.619951,
            1
           ],
           [
            0.610667,
            0.090204,
            0.619951,
            1
           ],
           [
            0.610667,
            0.090204,
            0.619951,
            1
           ],
           [
            0.610667,
            0.090204,
            0.619951,
            1
           ],
           [
            0.610667,
            0.090204,
            0.619951,
            1
           ],
           [
            0.610667,
            0.090204,
            0.619951,
            1
           ],
           [
            0.610667,
            0.090204,
            0.619951,
            1
           ],
           [
            0.610667,
            0.090204,
            0.619951,
            1
           ],
           [
            0.050383,
            0.029803,
            0.527975,
            1
           ],
           [
            0.050383,
            0.029803,
            0.527975,
            1
           ],
           [
            0.050383,
            0.029803,
            0.527975,
            1
           ]
          ],
          "width": 10
         },
         "mode": "lines",
         "text": [
          "aromatic",
          "aromatic",
          "aromatic",
          "ionic",
          "ionic",
          "ionic",
          "ionic",
          "ionic",
          "ionic",
          "ionic",
          "ionic",
          "ionic",
          "aromatic",
          "aromatic",
          "aromatic"
         ],
         "type": "scatter3d",
         "x": [
          18.004,
          13.418,
          null,
          18.004,
          8.956,
          null,
          8.956,
          8.718,
          null,
          8.956,
          13.418,
          null,
          8.718,
          13.418,
          null
         ],
         "y": [
          -4.606,
          -6.366,
          null,
          -4.606,
          -4.836,
          null,
          -4.836,
          -8.297,
          null,
          -4.836,
          -6.366,
          null,
          -8.297,
          -6.366,
          null
         ],
         "z": [
          -16.055,
          -18.323,
          null,
          -16.055,
          -9.17,
          null,
          -9.17,
          -12.927,
          null,
          -9.17,
          -18.323,
          null,
          -12.927,
          -18.323,
          null
         ]
        }
       ],
       "layout": {
        "height": 650,
        "margin": {
         "t": 100
        },
        "scene": {
         "xaxis": {
          "showbackground": false,
          "showgrid": false,
          "showline": false,
          "showticklabels": false,
          "title": {
           "text": ""
          },
          "zeroline": false
         },
         "yaxis": {
          "showbackground": false,
          "showgrid": false,
          "showline": false,
          "showticklabels": false,
          "title": {
           "text": ""
          },
          "zeroline": false
         },
         "zaxis": {
          "showbackground": false,
          "showgrid": false,
          "showline": false,
          "showticklabels": false,
          "title": {
           "text": ""
          },
          "zeroline": false
         }
        },
        "showlegend": false,
        "template": {
         "data": {
          "bar": [
           {
            "error_x": {
             "color": "#2a3f5f"
            },
            "error_y": {
             "color": "#2a3f5f"
            },
            "marker": {
             "line": {
              "color": "#E5ECF6",
              "width": 0.5
             },
             "pattern": {
              "fillmode": "overlay",
              "size": 10,
              "solidity": 0.2
             }
            },
            "type": "bar"
           }
          ],
          "barpolar": [
           {
            "marker": {
             "line": {
              "color": "#E5ECF6",
              "width": 0.5
             },
             "pattern": {
              "fillmode": "overlay",
              "size": 10,
              "solidity": 0.2
             }
            },
            "type": "barpolar"
           }
          ],
          "carpet": [
           {
            "aaxis": {
             "endlinecolor": "#2a3f5f",
             "gridcolor": "white",
             "linecolor": "white",
             "minorgridcolor": "white",
             "startlinecolor": "#2a3f5f"
            },
            "baxis": {
             "endlinecolor": "#2a3f5f",
             "gridcolor": "white",
             "linecolor": "white",
             "minorgridcolor": "white",
             "startlinecolor": "#2a3f5f"
            },
            "type": "carpet"
           }
          ],
          "choropleth": [
           {
            "colorbar": {
             "outlinewidth": 0,
             "ticks": ""
            },
            "type": "choropleth"
           }
          ],
          "contour": [
           {
            "colorbar": {
             "outlinewidth": 0,
             "ticks": ""
            },
            "colorscale": [
             [
              0,
              "#0d0887"
             ],
             [
              0.1111111111111111,
              "#46039f"
             ],
             [
              0.2222222222222222,
              "#7201a8"
             ],
             [
              0.3333333333333333,
              "#9c179e"
             ],
             [
              0.4444444444444444,
              "#bd3786"
             ],
             [
              0.5555555555555556,
              "#d8576b"
             ],
             [
              0.6666666666666666,
              "#ed7953"
             ],
             [
              0.7777777777777778,
              "#fb9f3a"
             ],
             [
              0.8888888888888888,
              "#fdca26"
             ],
             [
              1,
              "#f0f921"
             ]
            ],
            "type": "contour"
           }
          ],
          "contourcarpet": [
           {
            "colorbar": {
             "outlinewidth": 0,
             "ticks": ""
            },
            "type": "contourcarpet"
           }
          ],
          "heatmap": [
           {
            "colorbar": {
             "outlinewidth": 0,
             "ticks": ""
            },
            "colorscale": [
             [
              0,
              "#0d0887"
             ],
             [
              0.1111111111111111,
              "#46039f"
             ],
             [
              0.2222222222222222,
              "#7201a8"
             ],
             [
              0.3333333333333333,
              "#9c179e"
             ],
             [
              0.4444444444444444,
              "#bd3786"
             ],
             [
              0.5555555555555556,
              "#d8576b"
             ],
             [
              0.6666666666666666,
              "#ed7953"
             ],
             [
              0.7777777777777778,
              "#fb9f3a"
             ],
             [
              0.8888888888888888,
              "#fdca26"
             ],
             [
              1,
              "#f0f921"
             ]
            ],
            "type": "heatmap"
           }
          ],
          "heatmapgl": [
           {
            "colorbar": {
             "outlinewidth": 0,
             "ticks": ""
            },
            "colorscale": [
             [
              0,
              "#0d0887"
             ],
             [
              0.1111111111111111,
              "#46039f"
             ],
             [
              0.2222222222222222,
              "#7201a8"
             ],
             [
              0.3333333333333333,
              "#9c179e"
             ],
             [
              0.4444444444444444,
              "#bd3786"
             ],
             [
              0.5555555555555556,
              "#d8576b"
             ],
             [
              0.6666666666666666,
              "#ed7953"
             ],
             [
              0.7777777777777778,
              "#fb9f3a"
             ],
             [
              0.8888888888888888,
              "#fdca26"
             ],
             [
              1,
              "#f0f921"
             ]
            ],
            "type": "heatmapgl"
           }
          ],
          "histogram": [
           {
            "marker": {
             "pattern": {
              "fillmode": "overlay",
              "size": 10,
              "solidity": 0.2
             }
            },
            "type": "histogram"
           }
          ],
          "histogram2d": [
           {
            "colorbar": {
             "outlinewidth": 0,
             "ticks": ""
            },
            "colorscale": [
             [
              0,
              "#0d0887"
             ],
             [
              0.1111111111111111,
              "#46039f"
             ],
             [
              0.2222222222222222,
              "#7201a8"
             ],
             [
              0.3333333333333333,
              "#9c179e"
             ],
             [
              0.4444444444444444,
              "#bd3786"
             ],
             [
              0.5555555555555556,
              "#d8576b"
             ],
             [
              0.6666666666666666,
              "#ed7953"
             ],
             [
              0.7777777777777778,
              "#fb9f3a"
             ],
             [
              0.8888888888888888,
              "#fdca26"
             ],
             [
              1,
              "#f0f921"
             ]
            ],
            "type": "histogram2d"
           }
          ],
          "histogram2dcontour": [
           {
            "colorbar": {
             "outlinewidth": 0,
             "ticks": ""
            },
            "colorscale": [
             [
              0,
              "#0d0887"
             ],
             [
              0.1111111111111111,
              "#46039f"
             ],
             [
              0.2222222222222222,
              "#7201a8"
             ],
             [
              0.3333333333333333,
              "#9c179e"
             ],
             [
              0.4444444444444444,
              "#bd3786"
             ],
             [
              0.5555555555555556,
              "#d8576b"
             ],
             [
              0.6666666666666666,
              "#ed7953"
             ],
             [
              0.7777777777777778,
              "#fb9f3a"
             ],
             [
              0.8888888888888888,
              "#fdca26"
             ],
             [
              1,
              "#f0f921"
             ]
            ],
            "type": "histogram2dcontour"
           }
          ],
          "mesh3d": [
           {
            "colorbar": {
             "outlinewidth": 0,
             "ticks": ""
            },
            "type": "mesh3d"
           }
          ],
          "parcoords": [
           {
            "line": {
             "colorbar": {
              "outlinewidth": 0,
              "ticks": ""
             }
            },
            "type": "parcoords"
           }
          ],
          "pie": [
           {
            "automargin": true,
            "type": "pie"
           }
          ],
          "scatter": [
           {
            "fillpattern": {
             "fillmode": "overlay",
             "size": 10,
             "solidity": 0.2
            },
            "type": "scatter"
           }
          ],
          "scatter3d": [
           {
            "line": {
             "colorbar": {
              "outlinewidth": 0,
              "ticks": ""
             }
            },
            "marker": {
             "colorbar": {
              "outlinewidth": 0,
              "ticks": ""
             }
            },
            "type": "scatter3d"
           }
          ],
          "scattercarpet": [
           {
            "marker": {
             "colorbar": {
              "outlinewidth": 0,
              "ticks": ""
             }
            },
            "type": "scattercarpet"
           }
          ],
          "scattergeo": [
           {
            "marker": {
             "colorbar": {
              "outlinewidth": 0,
              "ticks": ""
             }
            },
            "type": "scattergeo"
           }
          ],
          "scattergl": [
           {
            "marker": {
             "colorbar": {
              "outlinewidth": 0,
              "ticks": ""
             }
            },
            "type": "scattergl"
           }
          ],
          "scattermapbox": [
           {
            "marker": {
             "colorbar": {
              "outlinewidth": 0,
              "ticks": ""
             }
            },
            "type": "scattermapbox"
           }
          ],
          "scatterpolar": [
           {
            "marker": {
             "colorbar": {
              "outlinewidth": 0,
              "ticks": ""
             }
            },
            "type": "scatterpolar"
           }
          ],
          "scatterpolargl": [
           {
            "marker": {
             "colorbar": {
              "outlinewidth": 0,
              "ticks": ""
             }
            },
            "type": "scatterpolargl"
           }
          ],
          "scatterternary": [
           {
            "marker": {
             "colorbar": {
              "outlinewidth": 0,
              "ticks": ""
             }
            },
            "type": "scatterternary"
           }
          ],
          "surface": [
           {
            "colorbar": {
             "outlinewidth": 0,
             "ticks": ""
            },
            "colorscale": [
             [
              0,
              "#0d0887"
             ],
             [
              0.1111111111111111,
              "#46039f"
             ],
             [
              0.2222222222222222,
              "#7201a8"
             ],
             [
              0.3333333333333333,
              "#9c179e"
             ],
             [
              0.4444444444444444,
              "#bd3786"
             ],
             [
              0.5555555555555556,
              "#d8576b"
             ],
             [
              0.6666666666666666,
              "#ed7953"
             ],
             [
              0.7777777777777778,
              "#fb9f3a"
             ],
             [
              0.8888888888888888,
              "#fdca26"
             ],
             [
              1,
              "#f0f921"
             ]
            ],
            "type": "surface"
           }
          ],
          "table": [
           {
            "cells": {
             "fill": {
              "color": "#EBF0F8"
             },
             "line": {
              "color": "white"
             }
            },
            "header": {
             "fill": {
              "color": "#C8D4E3"
             },
             "line": {
              "color": "white"
             }
            },
            "type": "table"
           }
          ]
         },
         "layout": {
          "annotationdefaults": {
           "arrowcolor": "#2a3f5f",
           "arrowhead": 0,
           "arrowwidth": 1
          },
          "autotypenumbers": "strict",
          "coloraxis": {
           "colorbar": {
            "outlinewidth": 0,
            "ticks": ""
           }
          },
          "colorscale": {
           "diverging": [
            [
             0,
             "#8e0152"
            ],
            [
             0.1,
             "#c51b7d"
            ],
            [
             0.2,
             "#de77ae"
            ],
            [
             0.3,
             "#f1b6da"
            ],
            [
             0.4,
             "#fde0ef"
            ],
            [
             0.5,
             "#f7f7f7"
            ],
            [
             0.6,
             "#e6f5d0"
            ],
            [
             0.7,
             "#b8e186"
            ],
            [
             0.8,
             "#7fbc41"
            ],
            [
             0.9,
             "#4d9221"
            ],
            [
             1,
             "#276419"
            ]
           ],
           "sequential": [
            [
             0,
             "#0d0887"
            ],
            [
             0.1111111111111111,
             "#46039f"
            ],
            [
             0.2222222222222222,
             "#7201a8"
            ],
            [
             0.3333333333333333,
             "#9c179e"
            ],
            [
             0.4444444444444444,
             "#bd3786"
            ],
            [
             0.5555555555555556,
             "#d8576b"
            ],
            [
             0.6666666666666666,
             "#ed7953"
            ],
            [
             0.7777777777777778,
             "#fb9f3a"
            ],
            [
             0.8888888888888888,
             "#fdca26"
            ],
            [
             1,
             "#f0f921"
            ]
           ],
           "sequentialminus": [
            [
             0,
             "#0d0887"
            ],
            [
             0.1111111111111111,
             "#46039f"
            ],
            [
             0.2222222222222222,
             "#7201a8"
            ],
            [
             0.3333333333333333,
             "#9c179e"
            ],
            [
             0.4444444444444444,
             "#bd3786"
            ],
            [
             0.5555555555555556,
             "#d8576b"
            ],
            [
             0.6666666666666666,
             "#ed7953"
            ],
            [
             0.7777777777777778,
             "#fb9f3a"
            ],
            [
             0.8888888888888888,
             "#fdca26"
            ],
            [
             1,
             "#f0f921"
            ]
           ]
          },
          "colorway": [
           "#636efa",
           "#EF553B",
           "#00cc96",
           "#ab63fa",
           "#FFA15A",
           "#19d3f3",
           "#FF6692",
           "#B6E880",
           "#FF97FF",
           "#FECB52"
          ],
          "font": {
           "color": "#2a3f5f"
          },
          "geo": {
           "bgcolor": "white",
           "lakecolor": "white",
           "landcolor": "#E5ECF6",
           "showlakes": true,
           "showland": true,
           "subunitcolor": "white"
          },
          "hoverlabel": {
           "align": "left"
          },
          "hovermode": "closest",
          "mapbox": {
           "style": "light"
          },
          "paper_bgcolor": "white",
          "plot_bgcolor": "#E5ECF6",
          "polar": {
           "angularaxis": {
            "gridcolor": "white",
            "linecolor": "white",
            "ticks": ""
           },
           "bgcolor": "#E5ECF6",
           "radialaxis": {
            "gridcolor": "white",
            "linecolor": "white",
            "ticks": ""
           }
          },
          "scene": {
           "xaxis": {
            "backgroundcolor": "#E5ECF6",
            "gridcolor": "white",
            "gridwidth": 2,
            "linecolor": "white",
            "showbackground": true,
            "ticks": "",
            "zerolinecolor": "white"
           },
           "yaxis": {
            "backgroundcolor": "#E5ECF6",
            "gridcolor": "white",
            "gridwidth": 2,
            "linecolor": "white",
            "showbackground": true,
            "ticks": "",
            "zerolinecolor": "white"
           },
           "zaxis": {
            "backgroundcolor": "#E5ECF6",
            "gridcolor": "white",
            "gridwidth": 2,
            "linecolor": "white",
            "showbackground": true,
            "ticks": "",
            "zerolinecolor": "white"
           }
          },
          "shapedefaults": {
           "line": {
            "color": "#2a3f5f"
           }
          },
          "ternary": {
           "aaxis": {
            "gridcolor": "white",
            "linecolor": "white",
            "ticks": ""
           },
           "baxis": {
            "gridcolor": "white",
            "linecolor": "white",
            "ticks": ""
           },
           "bgcolor": "#E5ECF6",
           "caxis": {
            "gridcolor": "white",
            "linecolor": "white",
            "ticks": ""
           }
          },
          "title": {
           "x": 0.05
          },
          "xaxis": {
           "automargin": true,
           "gridcolor": "white",
           "linecolor": "white",
           "ticks": "",
           "title": {
            "standoff": 15
           },
           "zerolinecolor": "white",
           "zerolinewidth": 2
          },
          "yaxis": {
           "automargin": true,
           "gridcolor": "white",
           "linecolor": "white",
           "ticks": "",
           "title": {
            "standoff": 15
           },
           "zerolinecolor": "white",
           "zerolinewidth": 2
          }
         }
        },
        "title": {
         "text": "Peptide backbone graph. Nodes coloured by degree."
        },
        "width": 620
       }
      }
     },
     "metadata": {},
     "output_type": "display_data"
    }
   ],
   "source": [
    "p = plotly_protein_structure_graph(\n",
    "    SG,\n",
    "    colour_edges_by=\"kind\",\n",
    "    colour_nodes_by=\"degree\",\n",
    "    label_node_ids=False,\n",
    "    plot_title=\"Peptide backbone graph. Nodes coloured by degree.\",\n",
    "    node_size_multiplier=1\n",
    "    )\n",
    "p.show()"
   ]
  },
  {
   "cell_type": "code",
   "execution_count": 28,
   "metadata": {},
   "outputs": [
    {
     "data": {
      "text/plain": [
       "'372'"
      ]
     },
     "execution_count": 28,
     "metadata": {},
     "output_type": "execute_result"
    }
   ],
   "source": [
    "edge[1].split(':')[2]"
   ]
  },
  {
   "cell_type": "code",
   "execution_count": 29,
   "metadata": {},
   "outputs": [
    {
     "data": {
      "text/plain": [
       "{292: [('A:HIS:292',\n",
       "   'A:TYR:333',\n",
       "   {'kind': {'aromatic'}, 'distance': 7.4876871595974155}),\n",
       "  ('A:HIS:292',\n",
       "   'A:GLU:351',\n",
       "   {'kind': {'ionic'}, 'distance': 13.701098532599495}),\n",
       "  ('A:HIS:292',\n",
       "   'A:ASP:291',\n",
       "   {'kind': {'peptide_bond'}, 'distance': 3.833183272425151}),\n",
       "  ('A:HIS:292',\n",
       "   'A:ALA:293',\n",
       "   {'kind': {'peptide_bond'}, 'distance': 3.839483428796118})],\n",
       " 335: [('A:HIS:335',\n",
       "   'A:HIS:371',\n",
       "   {'kind': {'aromatic'}, 'distance': 5.410436211619173}),\n",
       "  ('A:HIS:335',\n",
       "   'A:TYR:333',\n",
       "   {'kind': {'aromatic'}, 'distance': 5.903799623970991}),\n",
       "  ('A:HIS:335',\n",
       "   'A:GLU:341',\n",
       "   {'kind': {'ionic'}, 'distance': 11.37200197854362}),\n",
       "  ('A:HIS:335',\n",
       "   'A:TYR:334',\n",
       "   {'kind': {'peptide_bond'}, 'distance': 3.7909056965321635}),\n",
       "  ('A:HIS:335',\n",
       "   'A:ARG:336',\n",
       "   {'kind': {'peptide_bond'}, 'distance': 3.84312906366674})],\n",
       " 365: [('A:HIS:365',\n",
       "   'A:HIS:371',\n",
       "   {'kind': {'aromatic'}, 'distance': 7.411853816691206}),\n",
       "  ('A:HIS:365',\n",
       "   'A:TRP:427',\n",
       "   {'kind': {'aromatic'}, 'distance': 14.06678118831739}),\n",
       "  ('A:HIS:365',\n",
       "   'A:TYR:423',\n",
       "   {'kind': {'aromatic'}, 'distance': 11.180905330070551}),\n",
       "  ('A:HIS:365',\n",
       "   'A:GLU:341',\n",
       "   {'kind': {'ionic'}, 'distance': 5.113727994330555}),\n",
       "  ('A:HIS:365',\n",
       "   'A:LEU:364',\n",
       "   {'kind': {'peptide_bond'}, 'distance': 3.8109632640580515}),\n",
       "  ('A:HIS:365',\n",
       "   'A:SER:366',\n",
       "   {'kind': {'peptide_bond'}, 'distance': 3.8268362912463343})],\n",
       " 371: [('A:HIS:371',\n",
       "   'A:HIS:335',\n",
       "   {'kind': {'aromatic'}, 'distance': 5.410436211619173}),\n",
       "  ('A:HIS:371',\n",
       "   'A:HIS:365',\n",
       "   {'kind': {'aromatic'}, 'distance': 7.411853816691206}),\n",
       "  ('A:HIS:371',\n",
       "   'A:GLU:341',\n",
       "   {'kind': {'ionic'}, 'distance': 10.29697785760463}),\n",
       "  ('A:HIS:371',\n",
       "   'A:PRO:370',\n",
       "   {'kind': {'peptide_bond'}, 'distance': 3.8205100444835898}),\n",
       "  ('A:HIS:371',\n",
       "   'A:GLY:372',\n",
       "   {'kind': {'peptide_bond'}, 'distance': 3.820993064636469})],\n",
       " 341: [('A:GLU:341',\n",
       "   'A:HIS:365',\n",
       "   {'kind': {'ionic'}, 'distance': 5.113727994330555}),\n",
       "  ('A:GLU:341',\n",
       "   'A:HIS:335',\n",
       "   {'kind': {'ionic'}, 'distance': 11.37200197854362}),\n",
       "  ('A:GLU:341',\n",
       "   'A:HIS:371',\n",
       "   {'kind': {'ionic'}, 'distance': 10.29697785760463}),\n",
       "  ('A:GLU:341',\n",
       "   'A:SER:340',\n",
       "   {'kind': {'peptide_bond'}, 'distance': 3.8175287818168444}),\n",
       "  ('A:GLU:341',\n",
       "   'A:PHE:342',\n",
       "   {'kind': {'peptide_bond'}, 'distance': 3.8125191147061805})]}"
      ]
     },
     "execution_count": 29,
     "metadata": {},
     "output_type": "execute_result"
    }
   ],
   "source": [
    "active_edges"
   ]
  },
  {
   "cell_type": "code",
   "execution_count": 30,
   "metadata": {},
   "outputs": [
    {
     "data": {
      "text/plain": [
       "{292: ['333', '351', '291', '293'],\n",
       " 335: ['371', '333', '341', '334', '336'],\n",
       " 365: ['371', '427', '423', '341', '364', '366'],\n",
       " 371: ['335', '365', '341', '370', '372'],\n",
       " 341: ['365', '335', '371', '340', '342']}"
      ]
     },
     "execution_count": 30,
     "metadata": {},
     "output_type": "execute_result"
    }
   ],
   "source": [
    "active_site = [292, 335, 365, 371, 341]\n",
    "\n",
    "active_edges_num = {}\n",
    "for i in active_site:\n",
    "    active_edges_num[i] = []\n",
    "\n",
    "for key, value in active_edges.items():\n",
    "    for edge in value:\n",
    "        active_edges_num[key].append(edge[1].split(':')[2])\n",
    "    #active_edges_num[key] = value[2][1].split(':')[2]\n",
    "\n",
    "active_edges_num"
   ]
  },
  {
   "cell_type": "code",
   "execution_count": 31,
   "metadata": {},
   "outputs": [],
   "source": [
    "def get_neighbor_nodes(nodes, n):\n",
    "    active_site_neighbors = []\n",
    "    for node in nodes:\n",
    "        for i in range(n*2+1):\n",
    "            active_site_neighbors.append(node - n + i)\n",
    "    \n",
    "    active_site_neighbors = list(set(active_site_neighbors))\n",
    "    return active_site_neighbors\n"
   ]
  },
  {
   "cell_type": "code",
   "execution_count": 32,
   "metadata": {},
   "outputs": [
    {
     "data": {
      "text/plain": [
       "[291, 292, 293, 364, 365, 334, 335, 336, 366, 370, 371, 372, 340, 341, 342]"
      ]
     },
     "execution_count": 32,
     "metadata": {},
     "output_type": "execute_result"
    }
   ],
   "source": [
    "get_neighbor_nodes(active_site, 1)"
   ]
  },
  {
   "cell_type": "markdown",
   "metadata": {},
   "source": [
    "---"
   ]
  },
  {
   "cell_type": "markdown",
   "metadata": {},
   "source": [
    "# creazione del df con informazioni su grafo (networkx object)"
   ]
  },
  {
   "cell_type": "code",
   "execution_count": null,
   "metadata": {},
   "outputs": [],
   "source": [
    "from utils import create_graph_df\n",
    "df_g = create_graph_df(g)\n"
   ]
  },
  {
   "cell_type": "code",
   "execution_count": 35,
   "metadata": {},
   "outputs": [
    {
     "data": {
      "text/plain": [
       "219"
      ]
     },
     "execution_count": 35,
     "metadata": {},
     "output_type": "execute_result"
    }
   ],
   "source": [
    "len(df_g)"
   ]
  },
  {
   "cell_type": "code",
   "execution_count": 36,
   "metadata": {},
   "outputs": [],
   "source": [
    "df_all=pd.read_excel('../datasets/aku_prin_v2.0.xlsx')"
   ]
  },
  {
   "cell_type": "code",
   "execution_count": 37,
   "metadata": {},
   "outputs": [],
   "source": [
    "df_scores=df_all[['physical_health_score', 'mental_health_score', 'AKUSSI_jointpain',\n",
    "        'AKUSSI_spinalpain', 'KOOSpain', 'KOOSsymptoms', 'KOOSdaily_living',\n",
    "        'KOOSsport', 'KOOS_QOL', 'HAQ_hapVAS', 'HAQ_haqDI']]"
   ]
  },
  {
   "cell_type": "code",
   "execution_count": 38,
   "metadata": {},
   "outputs": [
    {
     "data": {
      "text/html": [
       "<div>\n",
       "<style scoped>\n",
       "    .dataframe tbody tr th:only-of-type {\n",
       "        vertical-align: middle;\n",
       "    }\n",
       "\n",
       "    .dataframe tbody tr th {\n",
       "        vertical-align: top;\n",
       "    }\n",
       "\n",
       "    .dataframe thead th {\n",
       "        text-align: right;\n",
       "    }\n",
       "</style>\n",
       "<table border=\"1\" class=\"dataframe\">\n",
       "  <thead>\n",
       "    <tr style=\"text-align: right;\">\n",
       "      <th></th>\n",
       "      <th>physical_health_score</th>\n",
       "      <th>mental_health_score</th>\n",
       "      <th>AKUSSI_jointpain</th>\n",
       "      <th>AKUSSI_spinalpain</th>\n",
       "      <th>KOOSpain</th>\n",
       "      <th>KOOSsymptoms</th>\n",
       "      <th>KOOSdaily_living</th>\n",
       "      <th>KOOSsport</th>\n",
       "      <th>KOOS_QOL</th>\n",
       "      <th>HAQ_hapVAS</th>\n",
       "      <th>HAQ_haqDI</th>\n",
       "    </tr>\n",
       "  </thead>\n",
       "  <tbody>\n",
       "    <tr>\n",
       "      <th>0</th>\n",
       "      <td>26.0</td>\n",
       "      <td>43.0</td>\n",
       "      <td>57.0</td>\n",
       "      <td>75.0</td>\n",
       "      <td>67.0</td>\n",
       "      <td>89.0</td>\n",
       "      <td>75.0</td>\n",
       "      <td>70.0</td>\n",
       "      <td>69.0</td>\n",
       "      <td>63.0</td>\n",
       "      <td>1.50</td>\n",
       "    </tr>\n",
       "    <tr>\n",
       "      <th>1</th>\n",
       "      <td>53.0</td>\n",
       "      <td>51.0</td>\n",
       "      <td>29.0</td>\n",
       "      <td>25.0</td>\n",
       "      <td>92.0</td>\n",
       "      <td>96.0</td>\n",
       "      <td>91.0</td>\n",
       "      <td>85.0</td>\n",
       "      <td>75.0</td>\n",
       "      <td>23.0</td>\n",
       "      <td>0.25</td>\n",
       "    </tr>\n",
       "    <tr>\n",
       "      <th>2</th>\n",
       "      <td>23.0</td>\n",
       "      <td>40.0</td>\n",
       "      <td>36.0</td>\n",
       "      <td>100.0</td>\n",
       "      <td>47.0</td>\n",
       "      <td>39.0</td>\n",
       "      <td>31.0</td>\n",
       "      <td>0.0</td>\n",
       "      <td>19.0</td>\n",
       "      <td>53.0</td>\n",
       "      <td>1.75</td>\n",
       "    </tr>\n",
       "    <tr>\n",
       "      <th>3</th>\n",
       "      <td>NaN</td>\n",
       "      <td>NaN</td>\n",
       "      <td>NaN</td>\n",
       "      <td>NaN</td>\n",
       "      <td>NaN</td>\n",
       "      <td>NaN</td>\n",
       "      <td>NaN</td>\n",
       "      <td>NaN</td>\n",
       "      <td>NaN</td>\n",
       "      <td>NaN</td>\n",
       "      <td>NaN</td>\n",
       "    </tr>\n",
       "    <tr>\n",
       "      <th>4</th>\n",
       "      <td>23.0</td>\n",
       "      <td>29.0</td>\n",
       "      <td>50.0</td>\n",
       "      <td>100.0</td>\n",
       "      <td>33.0</td>\n",
       "      <td>29.0</td>\n",
       "      <td>60.0</td>\n",
       "      <td>25.0</td>\n",
       "      <td>13.0</td>\n",
       "      <td>70.0</td>\n",
       "      <td>2.00</td>\n",
       "    </tr>\n",
       "  </tbody>\n",
       "</table>\n",
       "</div>"
      ],
      "text/plain": [
       "   physical_health_score  mental_health_score  AKUSSI_jointpain  \\\n",
       "0                   26.0                 43.0              57.0   \n",
       "1                   53.0                 51.0              29.0   \n",
       "2                   23.0                 40.0              36.0   \n",
       "3                    NaN                  NaN               NaN   \n",
       "4                   23.0                 29.0              50.0   \n",
       "\n",
       "   AKUSSI_spinalpain  KOOSpain  KOOSsymptoms  KOOSdaily_living  KOOSsport  \\\n",
       "0               75.0      67.0          89.0              75.0       70.0   \n",
       "1               25.0      92.0          96.0              91.0       85.0   \n",
       "2              100.0      47.0          39.0              31.0        0.0   \n",
       "3                NaN       NaN           NaN               NaN        NaN   \n",
       "4              100.0      33.0          29.0              60.0       25.0   \n",
       "\n",
       "   KOOS_QOL  HAQ_hapVAS  HAQ_haqDI  \n",
       "0      69.0        63.0       1.50  \n",
       "1      75.0        23.0       0.25  \n",
       "2      19.0        53.0       1.75  \n",
       "3       NaN         NaN        NaN  \n",
       "4      13.0        70.0       2.00  "
      ]
     },
     "execution_count": 38,
     "metadata": {},
     "output_type": "execute_result"
    }
   ],
   "source": [
    "df_scores.head()"
   ]
  },
  {
   "cell_type": "code",
   "execution_count": 39,
   "metadata": {},
   "outputs": [],
   "source": [
    "# append df_g and df_scores\n",
    "df_g = pd.concat([df_g, df_scores], axis=1)"
   ]
  },
  {
   "cell_type": "code",
   "execution_count": 40,
   "metadata": {},
   "outputs": [
    {
     "data": {
      "text/html": [
       "<div>\n",
       "<style scoped>\n",
       "    .dataframe tbody tr th:only-of-type {\n",
       "        vertical-align: middle;\n",
       "    }\n",
       "\n",
       "    .dataframe tbody tr th {\n",
       "        vertical-align: top;\n",
       "    }\n",
       "\n",
       "    .dataframe thead th {\n",
       "        text-align: right;\n",
       "    }\n",
       "</style>\n",
       "<table border=\"1\" class=\"dataframe\">\n",
       "  <thead>\n",
       "    <tr style=\"text-align: right;\">\n",
       "      <th></th>\n",
       "      <th>Protein change allele 1</th>\n",
       "      <th>Protein change allele 2</th>\n",
       "      <th>graph_allele1</th>\n",
       "      <th>graph_allele2</th>\n",
       "      <th>structure_allele1</th>\n",
       "      <th>structure_allele2</th>\n",
       "      <th>pdb_file_allele1</th>\n",
       "      <th>pdb_file_allele2</th>\n",
       "      <th>physical_health_score</th>\n",
       "      <th>mental_health_score</th>\n",
       "      <th>AKUSSI_jointpain</th>\n",
       "      <th>AKUSSI_spinalpain</th>\n",
       "      <th>KOOSpain</th>\n",
       "      <th>KOOSsymptoms</th>\n",
       "      <th>KOOSdaily_living</th>\n",
       "      <th>KOOSsport</th>\n",
       "      <th>KOOS_QOL</th>\n",
       "      <th>HAQ_hapVAS</th>\n",
       "      <th>HAQ_haqDI</th>\n",
       "    </tr>\n",
       "  </thead>\n",
       "  <tbody>\n",
       "    <tr>\n",
       "      <th>0</th>\n",
       "      <td>G161R</td>\n",
       "      <td>His371Profs</td>\n",
       "      <td>(A:MET:1, A:ALA:2, A:GLU:3, A:LEU:4, A:LYS:5, ...</td>\n",
       "      <td>(A:MET:1, A:ALA:2, A:GLU:3, A:LEU:4, A:LYS:5, ...</td>\n",
       "      <td>(((&lt;Residue MET het=  resseq=1 icode= &gt;, &lt;Resi...</td>\n",
       "      <td>(((&lt;Residue MET het=  resseq=1 icode= &gt;, &lt;Resi...</td>\n",
       "      <td>../datasets/ALPHAFOLD PDBs/G161R_c8ba5/G161R_c...</td>\n",
       "      <td>../datasets/ALPHAFOLD PDBs/H371fs_9b3dd/H371fs...</td>\n",
       "      <td>26.0</td>\n",
       "      <td>43.0</td>\n",
       "      <td>57.0</td>\n",
       "      <td>75.0</td>\n",
       "      <td>67.0</td>\n",
       "      <td>89.0</td>\n",
       "      <td>75.0</td>\n",
       "      <td>70.0</td>\n",
       "      <td>69.0</td>\n",
       "      <td>63.0</td>\n",
       "      <td>1.50</td>\n",
       "    </tr>\n",
       "    <tr>\n",
       "      <th>1</th>\n",
       "      <td>G161R</td>\n",
       "      <td>G161R</td>\n",
       "      <td>(A:MET:1, A:ALA:2, A:GLU:3, A:LEU:4, A:LYS:5, ...</td>\n",
       "      <td>(A:MET:1, A:ALA:2, A:GLU:3, A:LEU:4, A:LYS:5, ...</td>\n",
       "      <td>(((&lt;Residue MET het=  resseq=1 icode= &gt;, &lt;Resi...</td>\n",
       "      <td>(((&lt;Residue MET het=  resseq=1 icode= &gt;, &lt;Resi...</td>\n",
       "      <td>../datasets/ALPHAFOLD PDBs/G161R_c8ba5/G161R_c...</td>\n",
       "      <td>../datasets/ALPHAFOLD PDBs/G161R_c8ba5/G161R_c...</td>\n",
       "      <td>53.0</td>\n",
       "      <td>51.0</td>\n",
       "      <td>29.0</td>\n",
       "      <td>25.0</td>\n",
       "      <td>92.0</td>\n",
       "      <td>96.0</td>\n",
       "      <td>91.0</td>\n",
       "      <td>85.0</td>\n",
       "      <td>75.0</td>\n",
       "      <td>23.0</td>\n",
       "      <td>0.25</td>\n",
       "    </tr>\n",
       "    <tr>\n",
       "      <th>2</th>\n",
       "      <td>G161R</td>\n",
       "      <td>M368V</td>\n",
       "      <td>(A:MET:1, A:ALA:2, A:GLU:3, A:LEU:4, A:LYS:5, ...</td>\n",
       "      <td>(A:MET:1, A:ALA:2, A:GLU:3, A:LEU:4, A:LYS:5, ...</td>\n",
       "      <td>(((&lt;Residue MET het=  resseq=1 icode= &gt;, &lt;Resi...</td>\n",
       "      <td>(((&lt;Residue MET het=  resseq=1 icode= &gt;, &lt;Resi...</td>\n",
       "      <td>../datasets/ALPHAFOLD PDBs/G161R_c8ba5/G161R_c...</td>\n",
       "      <td>../datasets/ALPHAFOLD PDBs/M368V_be390/M368V_b...</td>\n",
       "      <td>23.0</td>\n",
       "      <td>40.0</td>\n",
       "      <td>36.0</td>\n",
       "      <td>100.0</td>\n",
       "      <td>47.0</td>\n",
       "      <td>39.0</td>\n",
       "      <td>31.0</td>\n",
       "      <td>0.0</td>\n",
       "      <td>19.0</td>\n",
       "      <td>53.0</td>\n",
       "      <td>1.75</td>\n",
       "    </tr>\n",
       "    <tr>\n",
       "      <th>3</th>\n",
       "      <td>Y6_G29del ivs1-1G&gt;A</td>\n",
       "      <td>Y6_G29del ivs1-1G&gt;A</td>\n",
       "      <td>None</td>\n",
       "      <td>None</td>\n",
       "      <td>None</td>\n",
       "      <td>None</td>\n",
       "      <td>NaN</td>\n",
       "      <td>NaN</td>\n",
       "      <td>NaN</td>\n",
       "      <td>NaN</td>\n",
       "      <td>NaN</td>\n",
       "      <td>NaN</td>\n",
       "      <td>NaN</td>\n",
       "      <td>NaN</td>\n",
       "      <td>NaN</td>\n",
       "      <td>NaN</td>\n",
       "      <td>NaN</td>\n",
       "      <td>NaN</td>\n",
       "      <td>NaN</td>\n",
       "    </tr>\n",
       "    <tr>\n",
       "      <th>4</th>\n",
       "      <td>G161R</td>\n",
       "      <td>G161R</td>\n",
       "      <td>(A:MET:1, A:ALA:2, A:GLU:3, A:LEU:4, A:LYS:5, ...</td>\n",
       "      <td>(A:MET:1, A:ALA:2, A:GLU:3, A:LEU:4, A:LYS:5, ...</td>\n",
       "      <td>(((&lt;Residue MET het=  resseq=1 icode= &gt;, &lt;Resi...</td>\n",
       "      <td>(((&lt;Residue MET het=  resseq=1 icode= &gt;, &lt;Resi...</td>\n",
       "      <td>../datasets/ALPHAFOLD PDBs/G161R_c8ba5/G161R_c...</td>\n",
       "      <td>../datasets/ALPHAFOLD PDBs/G161R_c8ba5/G161R_c...</td>\n",
       "      <td>23.0</td>\n",
       "      <td>29.0</td>\n",
       "      <td>50.0</td>\n",
       "      <td>100.0</td>\n",
       "      <td>33.0</td>\n",
       "      <td>29.0</td>\n",
       "      <td>60.0</td>\n",
       "      <td>25.0</td>\n",
       "      <td>13.0</td>\n",
       "      <td>70.0</td>\n",
       "      <td>2.00</td>\n",
       "    </tr>\n",
       "  </tbody>\n",
       "</table>\n",
       "</div>"
      ],
      "text/plain": [
       "  Protein change allele 1  Protein change allele 2  \\\n",
       "0                    G161R             His371Profs   \n",
       "1                    G161R                   G161R   \n",
       "2                    G161R                   M368V   \n",
       "3      Y6_G29del ivs1-1G>A     Y6_G29del ivs1-1G>A   \n",
       "4                    G161R                   G161R   \n",
       "\n",
       "                                       graph_allele1  \\\n",
       "0  (A:MET:1, A:ALA:2, A:GLU:3, A:LEU:4, A:LYS:5, ...   \n",
       "1  (A:MET:1, A:ALA:2, A:GLU:3, A:LEU:4, A:LYS:5, ...   \n",
       "2  (A:MET:1, A:ALA:2, A:GLU:3, A:LEU:4, A:LYS:5, ...   \n",
       "3                                               None   \n",
       "4  (A:MET:1, A:ALA:2, A:GLU:3, A:LEU:4, A:LYS:5, ...   \n",
       "\n",
       "                                       graph_allele2  \\\n",
       "0  (A:MET:1, A:ALA:2, A:GLU:3, A:LEU:4, A:LYS:5, ...   \n",
       "1  (A:MET:1, A:ALA:2, A:GLU:3, A:LEU:4, A:LYS:5, ...   \n",
       "2  (A:MET:1, A:ALA:2, A:GLU:3, A:LEU:4, A:LYS:5, ...   \n",
       "3                                               None   \n",
       "4  (A:MET:1, A:ALA:2, A:GLU:3, A:LEU:4, A:LYS:5, ...   \n",
       "\n",
       "                                   structure_allele1  \\\n",
       "0  (((<Residue MET het=  resseq=1 icode= >, <Resi...   \n",
       "1  (((<Residue MET het=  resseq=1 icode= >, <Resi...   \n",
       "2  (((<Residue MET het=  resseq=1 icode= >, <Resi...   \n",
       "3                                               None   \n",
       "4  (((<Residue MET het=  resseq=1 icode= >, <Resi...   \n",
       "\n",
       "                                   structure_allele2  \\\n",
       "0  (((<Residue MET het=  resseq=1 icode= >, <Resi...   \n",
       "1  (((<Residue MET het=  resseq=1 icode= >, <Resi...   \n",
       "2  (((<Residue MET het=  resseq=1 icode= >, <Resi...   \n",
       "3                                               None   \n",
       "4  (((<Residue MET het=  resseq=1 icode= >, <Resi...   \n",
       "\n",
       "                                    pdb_file_allele1  \\\n",
       "0  ../datasets/ALPHAFOLD PDBs/G161R_c8ba5/G161R_c...   \n",
       "1  ../datasets/ALPHAFOLD PDBs/G161R_c8ba5/G161R_c...   \n",
       "2  ../datasets/ALPHAFOLD PDBs/G161R_c8ba5/G161R_c...   \n",
       "3                                                NaN   \n",
       "4  ../datasets/ALPHAFOLD PDBs/G161R_c8ba5/G161R_c...   \n",
       "\n",
       "                                    pdb_file_allele2  physical_health_score  \\\n",
       "0  ../datasets/ALPHAFOLD PDBs/H371fs_9b3dd/H371fs...                   26.0   \n",
       "1  ../datasets/ALPHAFOLD PDBs/G161R_c8ba5/G161R_c...                   53.0   \n",
       "2  ../datasets/ALPHAFOLD PDBs/M368V_be390/M368V_b...                   23.0   \n",
       "3                                                NaN                    NaN   \n",
       "4  ../datasets/ALPHAFOLD PDBs/G161R_c8ba5/G161R_c...                   23.0   \n",
       "\n",
       "   mental_health_score  AKUSSI_jointpain  AKUSSI_spinalpain  KOOSpain  \\\n",
       "0                 43.0              57.0               75.0      67.0   \n",
       "1                 51.0              29.0               25.0      92.0   \n",
       "2                 40.0              36.0              100.0      47.0   \n",
       "3                  NaN               NaN                NaN       NaN   \n",
       "4                 29.0              50.0              100.0      33.0   \n",
       "\n",
       "   KOOSsymptoms  KOOSdaily_living  KOOSsport  KOOS_QOL  HAQ_hapVAS  HAQ_haqDI  \n",
       "0          89.0              75.0       70.0      69.0        63.0       1.50  \n",
       "1          96.0              91.0       85.0      75.0        23.0       0.25  \n",
       "2          39.0              31.0        0.0      19.0        53.0       1.75  \n",
       "3           NaN               NaN        NaN       NaN         NaN        NaN  \n",
       "4          29.0              60.0       25.0      13.0        70.0       2.00  "
      ]
     },
     "execution_count": 40,
     "metadata": {},
     "output_type": "execute_result"
    }
   ],
   "source": [
    "df_g.head()"
   ]
  },
  {
   "cell_type": "code",
   "execution_count": 41,
   "metadata": {},
   "outputs": [
    {
     "data": {
      "text/plain": [
       "199"
      ]
     },
     "execution_count": 41,
     "metadata": {},
     "output_type": "execute_result"
    }
   ],
   "source": [
    "# drop the rows with nan values in the columns 'Protein change allele 1' and 'Protein change allele 2'\n",
    "df_g = df_g.dropna(subset=['Protein change allele 1 ', 'Protein change allele 2'])\n",
    "len(df_g)\n"
   ]
  },
  {
   "cell_type": "code",
   "execution_count": 42,
   "metadata": {},
   "outputs": [
    {
     "name": "stdout",
     "output_type": "stream",
     "text": [
      "40\n"
     ]
    },
    {
     "data": {
      "text/html": [
       "<div>\n",
       "<style scoped>\n",
       "    .dataframe tbody tr th:only-of-type {\n",
       "        vertical-align: middle;\n",
       "    }\n",
       "\n",
       "    .dataframe tbody tr th {\n",
       "        vertical-align: top;\n",
       "    }\n",
       "\n",
       "    .dataframe thead th {\n",
       "        text-align: right;\n",
       "    }\n",
       "</style>\n",
       "<table border=\"1\" class=\"dataframe\">\n",
       "  <thead>\n",
       "    <tr style=\"text-align: right;\">\n",
       "      <th></th>\n",
       "      <th>Protein change allele 1</th>\n",
       "      <th>Protein change allele 2</th>\n",
       "      <th>graph_allele1</th>\n",
       "      <th>graph_allele2</th>\n",
       "      <th>structure_allele1</th>\n",
       "      <th>structure_allele2</th>\n",
       "      <th>pdb_file_allele1</th>\n",
       "      <th>pdb_file_allele2</th>\n",
       "      <th>physical_health_score</th>\n",
       "      <th>mental_health_score</th>\n",
       "      <th>AKUSSI_jointpain</th>\n",
       "      <th>AKUSSI_spinalpain</th>\n",
       "      <th>KOOSpain</th>\n",
       "      <th>KOOSsymptoms</th>\n",
       "      <th>KOOSdaily_living</th>\n",
       "      <th>KOOSsport</th>\n",
       "      <th>KOOS_QOL</th>\n",
       "      <th>HAQ_hapVAS</th>\n",
       "      <th>HAQ_haqDI</th>\n",
       "    </tr>\n",
       "  </thead>\n",
       "  <tbody>\n",
       "    <tr>\n",
       "      <th>3</th>\n",
       "      <td>Y6_G29del ivs1-1G&gt;A</td>\n",
       "      <td>Y6_G29del ivs1-1G&gt;A</td>\n",
       "      <td>None</td>\n",
       "      <td>None</td>\n",
       "      <td>None</td>\n",
       "      <td>None</td>\n",
       "      <td>NaN</td>\n",
       "      <td>NaN</td>\n",
       "      <td>NaN</td>\n",
       "      <td>NaN</td>\n",
       "      <td>NaN</td>\n",
       "      <td>NaN</td>\n",
       "      <td>NaN</td>\n",
       "      <td>NaN</td>\n",
       "      <td>NaN</td>\n",
       "      <td>NaN</td>\n",
       "      <td>NaN</td>\n",
       "      <td>NaN</td>\n",
       "      <td>NaN</td>\n",
       "    </tr>\n",
       "    <tr>\n",
       "      <th>8</th>\n",
       "      <td>G161R</td>\n",
       "      <td>ivs1-1G&gt;A (Y6_G29del)</td>\n",
       "      <td>(A:MET:1, A:ALA:2, A:GLU:3, A:LEU:4, A:LYS:5, ...</td>\n",
       "      <td>None</td>\n",
       "      <td>(((&lt;Residue MET het=  resseq=1 icode= &gt;, &lt;Resi...</td>\n",
       "      <td>None</td>\n",
       "      <td>../datasets/ALPHAFOLD PDBs/G161R_c8ba5/G161R_c...</td>\n",
       "      <td>NaN</td>\n",
       "      <td>32.0</td>\n",
       "      <td>30.0</td>\n",
       "      <td>50.0</td>\n",
       "      <td>100.0</td>\n",
       "      <td>44.0</td>\n",
       "      <td>68.0</td>\n",
       "      <td>54.0</td>\n",
       "      <td>45.0</td>\n",
       "      <td>31.0</td>\n",
       "      <td>53.0</td>\n",
       "      <td>0.63</td>\n",
       "    </tr>\n",
       "    <tr>\n",
       "      <th>9</th>\n",
       "      <td>G251D</td>\n",
       "      <td>del ex13 (MLPA)</td>\n",
       "      <td>(A:MET:1, A:ALA:2, A:GLU:3, A:LEU:4, A:LYS:5, ...</td>\n",
       "      <td>None</td>\n",
       "      <td>(((&lt;Residue MET het=  resseq=1 icode= &gt;, &lt;Resi...</td>\n",
       "      <td>None</td>\n",
       "      <td>../datasets/ALPHAFOLD PDBs/G251D_5ea06/G251D_5...</td>\n",
       "      <td>NaN</td>\n",
       "      <td>31.0</td>\n",
       "      <td>39.0</td>\n",
       "      <td>36.0</td>\n",
       "      <td>75.0</td>\n",
       "      <td>44.0</td>\n",
       "      <td>46.0</td>\n",
       "      <td>52.0</td>\n",
       "      <td>0.0</td>\n",
       "      <td>44.0</td>\n",
       "      <td>80.0</td>\n",
       "      <td>1.25</td>\n",
       "    </tr>\n",
       "    <tr>\n",
       "      <th>15</th>\n",
       "      <td>D153fs</td>\n",
       "      <td>ivs1-1G&gt;A (Y6_G29del) (2copies)**</td>\n",
       "      <td>(A:MET:1, A:ALA:2, A:GLU:3, A:LEU:4, A:LYS:5, ...</td>\n",
       "      <td>None</td>\n",
       "      <td>(((&lt;Residue MET het=  resseq=1 icode= &gt;, &lt;Resi...</td>\n",
       "      <td>None</td>\n",
       "      <td>../datasets/ALPHAFOLD PDBs/D153fs_315fd/D153fs...</td>\n",
       "      <td>NaN</td>\n",
       "      <td>39.0</td>\n",
       "      <td>51.0</td>\n",
       "      <td>14.0</td>\n",
       "      <td>75.0</td>\n",
       "      <td>NaN</td>\n",
       "      <td>NaN</td>\n",
       "      <td>NaN</td>\n",
       "      <td>NaN</td>\n",
       "      <td>NaN</td>\n",
       "      <td>70.0</td>\n",
       "      <td>0.63</td>\n",
       "    </tr>\n",
       "    <tr>\n",
       "      <th>24</th>\n",
       "      <td>ivs1-1G&gt;A (Y6_G29del)</td>\n",
       "      <td>H371fs</td>\n",
       "      <td>None</td>\n",
       "      <td>(A:MET:1, A:ALA:2, A:GLU:3, A:LEU:4, A:LYS:5, ...</td>\n",
       "      <td>None</td>\n",
       "      <td>(((&lt;Residue MET het=  resseq=1 icode= &gt;, &lt;Resi...</td>\n",
       "      <td>NaN</td>\n",
       "      <td>../datasets/ALPHAFOLD PDBs/H371fs_9b3dd/H371fs...</td>\n",
       "      <td>40.0</td>\n",
       "      <td>46.0</td>\n",
       "      <td>7.0</td>\n",
       "      <td>50.0</td>\n",
       "      <td>100.0</td>\n",
       "      <td>96.0</td>\n",
       "      <td>100.0</td>\n",
       "      <td>95.0</td>\n",
       "      <td>100.0</td>\n",
       "      <td>40.0</td>\n",
       "      <td>0.38</td>\n",
       "    </tr>\n",
       "    <tr>\n",
       "      <th>45</th>\n",
       "      <td>G161R</td>\n",
       "      <td>n.i. (MLPAneg)</td>\n",
       "      <td>(A:MET:1, A:ALA:2, A:GLU:3, A:LEU:4, A:LYS:5, ...</td>\n",
       "      <td>None</td>\n",
       "      <td>(((&lt;Residue MET het=  resseq=1 icode= &gt;, &lt;Resi...</td>\n",
       "      <td>None</td>\n",
       "      <td>../datasets/ALPHAFOLD PDBs/G161R_c8ba5/G161R_c...</td>\n",
       "      <td>NaN</td>\n",
       "      <td>43.0</td>\n",
       "      <td>30.0</td>\n",
       "      <td>7.0</td>\n",
       "      <td>75.0</td>\n",
       "      <td>67.0</td>\n",
       "      <td>64.0</td>\n",
       "      <td>54.0</td>\n",
       "      <td>42.0</td>\n",
       "      <td>56.0</td>\n",
       "      <td>48.0</td>\n",
       "      <td>0.75</td>\n",
       "    </tr>\n",
       "    <tr>\n",
       "      <th>51</th>\n",
       "      <td>c.140C&gt;T</td>\n",
       "      <td>c.140C&gt;T</td>\n",
       "      <td>None</td>\n",
       "      <td>None</td>\n",
       "      <td>None</td>\n",
       "      <td>None</td>\n",
       "      <td>NaN</td>\n",
       "      <td>NaN</td>\n",
       "      <td>NaN</td>\n",
       "      <td>NaN</td>\n",
       "      <td>NaN</td>\n",
       "      <td>NaN</td>\n",
       "      <td>NaN</td>\n",
       "      <td>NaN</td>\n",
       "      <td>NaN</td>\n",
       "      <td>NaN</td>\n",
       "      <td>NaN</td>\n",
       "      <td>NaN</td>\n",
       "      <td>NaN</td>\n",
       "    </tr>\n",
       "    <tr>\n",
       "      <th>60</th>\n",
       "      <td>R336S fs  ivs12-2A&gt;T</td>\n",
       "      <td>E168*</td>\n",
       "      <td>None</td>\n",
       "      <td>(A:MET:1, A:ALA:2, A:GLU:3, A:LEU:4, A:LYS:5, ...</td>\n",
       "      <td>None</td>\n",
       "      <td>(((&lt;Residue MET het=  resseq=1 icode= &gt;, &lt;Resi...</td>\n",
       "      <td>NaN</td>\n",
       "      <td>../datasets/ALPHAFOLD PDBs/E168__10c4e/E168_10...</td>\n",
       "      <td>NaN</td>\n",
       "      <td>NaN</td>\n",
       "      <td>NaN</td>\n",
       "      <td>NaN</td>\n",
       "      <td>NaN</td>\n",
       "      <td>NaN</td>\n",
       "      <td>NaN</td>\n",
       "      <td>NaN</td>\n",
       "      <td>NaN</td>\n",
       "      <td>NaN</td>\n",
       "      <td>NaN</td>\n",
       "    </tr>\n",
       "    <tr>\n",
       "      <th>74</th>\n",
       "      <td>ivs1-1G&gt;A (Y6_G29del)</td>\n",
       "      <td>ivs1-1G&gt;A (Y6_G29del)</td>\n",
       "      <td>None</td>\n",
       "      <td>None</td>\n",
       "      <td>None</td>\n",
       "      <td>None</td>\n",
       "      <td>NaN</td>\n",
       "      <td>NaN</td>\n",
       "      <td>NaN</td>\n",
       "      <td>NaN</td>\n",
       "      <td>NaN</td>\n",
       "      <td>NaN</td>\n",
       "      <td>NaN</td>\n",
       "      <td>NaN</td>\n",
       "      <td>NaN</td>\n",
       "      <td>NaN</td>\n",
       "      <td>NaN</td>\n",
       "      <td>NaN</td>\n",
       "      <td>NaN</td>\n",
       "    </tr>\n",
       "    <tr>\n",
       "      <th>78</th>\n",
       "      <td>K248R</td>\n",
       "      <td>ivs7+5G&gt;A (R145Sfs)</td>\n",
       "      <td>None</td>\n",
       "      <td>None</td>\n",
       "      <td>None</td>\n",
       "      <td>None</td>\n",
       "      <td>NaN</td>\n",
       "      <td>NaN</td>\n",
       "      <td>NaN</td>\n",
       "      <td>NaN</td>\n",
       "      <td>NaN</td>\n",
       "      <td>NaN</td>\n",
       "      <td>NaN</td>\n",
       "      <td>NaN</td>\n",
       "      <td>NaN</td>\n",
       "      <td>NaN</td>\n",
       "      <td>NaN</td>\n",
       "      <td>NaN</td>\n",
       "      <td>NaN</td>\n",
       "    </tr>\n",
       "    <tr>\n",
       "      <th>98</th>\n",
       "      <td>G161R</td>\n",
       "      <td>ivs1-1G&gt;A (Y6_G29del)</td>\n",
       "      <td>(A:MET:1, A:ALA:2, A:GLU:3, A:LEU:4, A:LYS:5, ...</td>\n",
       "      <td>None</td>\n",
       "      <td>(((&lt;Residue MET het=  resseq=1 icode= &gt;, &lt;Resi...</td>\n",
       "      <td>None</td>\n",
       "      <td>../datasets/ALPHAFOLD PDBs/G161R_c8ba5/G161R_c...</td>\n",
       "      <td>NaN</td>\n",
       "      <td>29.0</td>\n",
       "      <td>33.0</td>\n",
       "      <td>50.0</td>\n",
       "      <td>100.0</td>\n",
       "      <td>69.0</td>\n",
       "      <td>71.0</td>\n",
       "      <td>65.0</td>\n",
       "      <td>NaN</td>\n",
       "      <td>19.0</td>\n",
       "      <td>75.0</td>\n",
       "      <td>0.63</td>\n",
       "    </tr>\n",
       "    <tr>\n",
       "      <th>99</th>\n",
       "      <td>R225H</td>\n",
       "      <td>del ex5,6 (MLPA)</td>\n",
       "      <td>(A:MET:1, A:ALA:2, A:GLU:3, A:LEU:4, A:LYS:5, ...</td>\n",
       "      <td>None</td>\n",
       "      <td>(((&lt;Residue MET het=  resseq=1 icode= &gt;, &lt;Resi...</td>\n",
       "      <td>None</td>\n",
       "      <td>../datasets/ALPHAFOLD PDBs/R225H_3ba56/R225H_3...</td>\n",
       "      <td>NaN</td>\n",
       "      <td>40.0</td>\n",
       "      <td>58.0</td>\n",
       "      <td>29.0</td>\n",
       "      <td>25.0</td>\n",
       "      <td>75.0</td>\n",
       "      <td>68.0</td>\n",
       "      <td>84.0</td>\n",
       "      <td>45.0</td>\n",
       "      <td>31.0</td>\n",
       "      <td>25.0</td>\n",
       "      <td>0.38</td>\n",
       "    </tr>\n",
       "    <tr>\n",
       "      <th>103</th>\n",
       "      <td>ivs1-1G&gt;A (Y6_G29del)</td>\n",
       "      <td>ivs1-1G&gt;A (Y6_G29del)</td>\n",
       "      <td>None</td>\n",
       "      <td>None</td>\n",
       "      <td>None</td>\n",
       "      <td>None</td>\n",
       "      <td>NaN</td>\n",
       "      <td>NaN</td>\n",
       "      <td>25.0</td>\n",
       "      <td>56.0</td>\n",
       "      <td>29.0</td>\n",
       "      <td>100.0</td>\n",
       "      <td>36.0</td>\n",
       "      <td>54.0</td>\n",
       "      <td>40.0</td>\n",
       "      <td>5.0</td>\n",
       "      <td>31.0</td>\n",
       "      <td>51.0</td>\n",
       "      <td>1.38</td>\n",
       "    </tr>\n",
       "    <tr>\n",
       "      <th>108</th>\n",
       "      <td>G161R</td>\n",
       "      <td>ivs1-1G&gt;A (Y6_G29del)</td>\n",
       "      <td>(A:MET:1, A:ALA:2, A:GLU:3, A:LEU:4, A:LYS:5, ...</td>\n",
       "      <td>None</td>\n",
       "      <td>(((&lt;Residue MET het=  resseq=1 icode= &gt;, &lt;Resi...</td>\n",
       "      <td>None</td>\n",
       "      <td>../datasets/ALPHAFOLD PDBs/G161R_c8ba5/G161R_c...</td>\n",
       "      <td>NaN</td>\n",
       "      <td>32.0</td>\n",
       "      <td>38.0</td>\n",
       "      <td>57.0</td>\n",
       "      <td>100.0</td>\n",
       "      <td>39.0</td>\n",
       "      <td>43.0</td>\n",
       "      <td>38.0</td>\n",
       "      <td>20.0</td>\n",
       "      <td>31.0</td>\n",
       "      <td>77.0</td>\n",
       "      <td>1.88</td>\n",
       "    </tr>\n",
       "    <tr>\n",
       "      <th>115</th>\n",
       "      <td>ivs7+5G&gt;A (R145fs)</td>\n",
       "      <td>ivs7+5G&gt;A (R145fs)</td>\n",
       "      <td>None</td>\n",
       "      <td>None</td>\n",
       "      <td>None</td>\n",
       "      <td>None</td>\n",
       "      <td>NaN</td>\n",
       "      <td>NaN</td>\n",
       "      <td>34.0</td>\n",
       "      <td>40.0</td>\n",
       "      <td>71.0</td>\n",
       "      <td>75.0</td>\n",
       "      <td>36.0</td>\n",
       "      <td>46.0</td>\n",
       "      <td>56.0</td>\n",
       "      <td>15.0</td>\n",
       "      <td>6.0</td>\n",
       "      <td>80.0</td>\n",
       "      <td>0.63</td>\n",
       "    </tr>\n",
       "    <tr>\n",
       "      <th>130</th>\n",
       "      <td>A122V</td>\n",
       "      <td>ivs1-1G&gt;A (Y6_G29del)</td>\n",
       "      <td>(A:MET:1, A:ALA:2, A:GLU:3, A:LEU:4, A:LYS:5, ...</td>\n",
       "      <td>None</td>\n",
       "      <td>(((&lt;Residue MET het=  resseq=1 icode= &gt;, &lt;Resi...</td>\n",
       "      <td>None</td>\n",
       "      <td>../datasets/ALPHAFOLD PDBs/A122V_41d52/A122V_4...</td>\n",
       "      <td>NaN</td>\n",
       "      <td>34.0</td>\n",
       "      <td>39.0</td>\n",
       "      <td>21.0</td>\n",
       "      <td>25.0</td>\n",
       "      <td>100.0</td>\n",
       "      <td>100.0</td>\n",
       "      <td>100.0</td>\n",
       "      <td>100.0</td>\n",
       "      <td>100.0</td>\n",
       "      <td>60.0</td>\n",
       "      <td>0.88</td>\n",
       "    </tr>\n",
       "    <tr>\n",
       "      <th>131</th>\n",
       "      <td>A122V</td>\n",
       "      <td>ivs1-1G&gt;A (Y6_G29del)</td>\n",
       "      <td>(A:MET:1, A:ALA:2, A:GLU:3, A:LEU:4, A:LYS:5, ...</td>\n",
       "      <td>None</td>\n",
       "      <td>(((&lt;Residue MET het=  resseq=1 icode= &gt;, &lt;Resi...</td>\n",
       "      <td>None</td>\n",
       "      <td>../datasets/ALPHAFOLD PDBs/A122V_41d52/A122V_4...</td>\n",
       "      <td>NaN</td>\n",
       "      <td>42.0</td>\n",
       "      <td>62.0</td>\n",
       "      <td>14.0</td>\n",
       "      <td>25.0</td>\n",
       "      <td>100.0</td>\n",
       "      <td>100.0</td>\n",
       "      <td>100.0</td>\n",
       "      <td>100.0</td>\n",
       "      <td>100.0</td>\n",
       "      <td>0.0</td>\n",
       "      <td>0.00</td>\n",
       "    </tr>\n",
       "    <tr>\n",
       "      <th>135</th>\n",
       "      <td>del in2</td>\n",
       "      <td>del in2</td>\n",
       "      <td>None</td>\n",
       "      <td>None</td>\n",
       "      <td>None</td>\n",
       "      <td>None</td>\n",
       "      <td>NaN</td>\n",
       "      <td>NaN</td>\n",
       "      <td>37.0</td>\n",
       "      <td>43.0</td>\n",
       "      <td>43.0</td>\n",
       "      <td>25.0</td>\n",
       "      <td>33.0</td>\n",
       "      <td>46.0</td>\n",
       "      <td>38.0</td>\n",
       "      <td>10.0</td>\n",
       "      <td>31.0</td>\n",
       "      <td>40.0</td>\n",
       "      <td>0.63</td>\n",
       "    </tr>\n",
       "    <tr>\n",
       "      <th>141</th>\n",
       "      <td>ivs1-1G&gt;A (Y6_G29del)</td>\n",
       "      <td>ivs1-1G&gt;A (Y6_G29del)</td>\n",
       "      <td>None</td>\n",
       "      <td>None</td>\n",
       "      <td>None</td>\n",
       "      <td>None</td>\n",
       "      <td>NaN</td>\n",
       "      <td>NaN</td>\n",
       "      <td>26.0</td>\n",
       "      <td>28.0</td>\n",
       "      <td>14.0</td>\n",
       "      <td>75.0</td>\n",
       "      <td>25.0</td>\n",
       "      <td>21.0</td>\n",
       "      <td>19.0</td>\n",
       "      <td>0.0</td>\n",
       "      <td>0.0</td>\n",
       "      <td>100.0</td>\n",
       "      <td>1.75</td>\n",
       "    </tr>\n",
       "    <tr>\n",
       "      <th>142</th>\n",
       "      <td>ivs1-1G&gt;A (Y6_G29del)</td>\n",
       "      <td>ivs1-1G&gt;A (Y6_G29del)</td>\n",
       "      <td>None</td>\n",
       "      <td>None</td>\n",
       "      <td>None</td>\n",
       "      <td>None</td>\n",
       "      <td>NaN</td>\n",
       "      <td>NaN</td>\n",
       "      <td>32.0</td>\n",
       "      <td>26.0</td>\n",
       "      <td>21.0</td>\n",
       "      <td>50.0</td>\n",
       "      <td>25.0</td>\n",
       "      <td>36.0</td>\n",
       "      <td>20.0</td>\n",
       "      <td>5.0</td>\n",
       "      <td>25.0</td>\n",
       "      <td>75.0</td>\n",
       "      <td>1.50</td>\n",
       "    </tr>\n",
       "    <tr>\n",
       "      <th>143</th>\n",
       "      <td>del ex2 (MLPA)</td>\n",
       "      <td>del ex2 (MLPA)</td>\n",
       "      <td>None</td>\n",
       "      <td>None</td>\n",
       "      <td>None</td>\n",
       "      <td>None</td>\n",
       "      <td>NaN</td>\n",
       "      <td>NaN</td>\n",
       "      <td>25.0</td>\n",
       "      <td>44.0</td>\n",
       "      <td>57.0</td>\n",
       "      <td>75.0</td>\n",
       "      <td>61.0</td>\n",
       "      <td>71.0</td>\n",
       "      <td>56.0</td>\n",
       "      <td>40.0</td>\n",
       "      <td>50.0</td>\n",
       "      <td>73.0</td>\n",
       "      <td>0.63</td>\n",
       "    </tr>\n",
       "    <tr>\n",
       "      <th>145</th>\n",
       "      <td>del ex2 (MLPA)</td>\n",
       "      <td>del ex2 (MLPA)</td>\n",
       "      <td>None</td>\n",
       "      <td>None</td>\n",
       "      <td>None</td>\n",
       "      <td>None</td>\n",
       "      <td>NaN</td>\n",
       "      <td>NaN</td>\n",
       "      <td>33.0</td>\n",
       "      <td>41.0</td>\n",
       "      <td>57.0</td>\n",
       "      <td>75.0</td>\n",
       "      <td>47.0</td>\n",
       "      <td>57.0</td>\n",
       "      <td>46.0</td>\n",
       "      <td>25.0</td>\n",
       "      <td>19.0</td>\n",
       "      <td>47.0</td>\n",
       "      <td>0.88</td>\n",
       "    </tr>\n",
       "    <tr>\n",
       "      <th>146</th>\n",
       "      <td>G161R</td>\n",
       "      <td>ivs1-1G&gt;A (Y6_G29del)</td>\n",
       "      <td>(A:MET:1, A:ALA:2, A:GLU:3, A:LEU:4, A:LYS:5, ...</td>\n",
       "      <td>None</td>\n",
       "      <td>(((&lt;Residue MET het=  resseq=1 icode= &gt;, &lt;Resi...</td>\n",
       "      <td>None</td>\n",
       "      <td>../datasets/ALPHAFOLD PDBs/G161R_c8ba5/G161R_c...</td>\n",
       "      <td>NaN</td>\n",
       "      <td>26.0</td>\n",
       "      <td>35.0</td>\n",
       "      <td>21.0</td>\n",
       "      <td>25.0</td>\n",
       "      <td>33.0</td>\n",
       "      <td>25.0</td>\n",
       "      <td>31.0</td>\n",
       "      <td>5.0</td>\n",
       "      <td>13.0</td>\n",
       "      <td>98.0</td>\n",
       "      <td>1.00</td>\n",
       "    </tr>\n",
       "    <tr>\n",
       "      <th>147</th>\n",
       "      <td>G161R</td>\n",
       "      <td>ivs1-1G&gt;A (Y6_G29del)</td>\n",
       "      <td>(A:MET:1, A:ALA:2, A:GLU:3, A:LEU:4, A:LYS:5, ...</td>\n",
       "      <td>None</td>\n",
       "      <td>(((&lt;Residue MET het=  resseq=1 icode= &gt;, &lt;Resi...</td>\n",
       "      <td>None</td>\n",
       "      <td>../datasets/ALPHAFOLD PDBs/G161R_c8ba5/G161R_c...</td>\n",
       "      <td>NaN</td>\n",
       "      <td>25.0</td>\n",
       "      <td>43.0</td>\n",
       "      <td>29.0</td>\n",
       "      <td>25.0</td>\n",
       "      <td>47.0</td>\n",
       "      <td>68.0</td>\n",
       "      <td>38.0</td>\n",
       "      <td>20.0</td>\n",
       "      <td>0.0</td>\n",
       "      <td>44.0</td>\n",
       "      <td>1.25</td>\n",
       "    </tr>\n",
       "    <tr>\n",
       "      <th>148</th>\n",
       "      <td>ivs1-1G&gt;A (Y6_G29del)</td>\n",
       "      <td>R63fs</td>\n",
       "      <td>None</td>\n",
       "      <td>None</td>\n",
       "      <td>None</td>\n",
       "      <td>None</td>\n",
       "      <td>NaN</td>\n",
       "      <td>NaN</td>\n",
       "      <td>25.0</td>\n",
       "      <td>50.0</td>\n",
       "      <td>71.0</td>\n",
       "      <td>100.0</td>\n",
       "      <td>67.0</td>\n",
       "      <td>43.0</td>\n",
       "      <td>41.0</td>\n",
       "      <td>10.0</td>\n",
       "      <td>31.0</td>\n",
       "      <td>67.0</td>\n",
       "      <td>1.88</td>\n",
       "    </tr>\n",
       "    <tr>\n",
       "      <th>152</th>\n",
       "      <td>V157fs</td>\n",
       "      <td>G161R</td>\n",
       "      <td>None</td>\n",
       "      <td>(A:MET:1, A:ALA:2, A:GLU:3, A:LEU:4, A:LYS:5, ...</td>\n",
       "      <td>None</td>\n",
       "      <td>(((&lt;Residue MET het=  resseq=1 icode= &gt;, &lt;Resi...</td>\n",
       "      <td>NaN</td>\n",
       "      <td>../datasets/ALPHAFOLD PDBs/G161R_c8ba5/G161R_c...</td>\n",
       "      <td>27.0</td>\n",
       "      <td>31.0</td>\n",
       "      <td>21.0</td>\n",
       "      <td>50.0</td>\n",
       "      <td>25.0</td>\n",
       "      <td>21.0</td>\n",
       "      <td>29.0</td>\n",
       "      <td>5.0</td>\n",
       "      <td>6.0</td>\n",
       "      <td>71.0</td>\n",
       "      <td>1.13</td>\n",
       "    </tr>\n",
       "    <tr>\n",
       "      <th>153</th>\n",
       "      <td>D153fs</td>\n",
       "      <td>ivs1-1G&gt;A (Y6_G29del)</td>\n",
       "      <td>(A:MET:1, A:ALA:2, A:GLU:3, A:LEU:4, A:LYS:5, ...</td>\n",
       "      <td>None</td>\n",
       "      <td>(((&lt;Residue MET het=  resseq=1 icode= &gt;, &lt;Resi...</td>\n",
       "      <td>None</td>\n",
       "      <td>../datasets/ALPHAFOLD PDBs/D153fs_315fd/D153fs...</td>\n",
       "      <td>NaN</td>\n",
       "      <td>NaN</td>\n",
       "      <td>NaN</td>\n",
       "      <td>NaN</td>\n",
       "      <td>NaN</td>\n",
       "      <td>NaN</td>\n",
       "      <td>NaN</td>\n",
       "      <td>NaN</td>\n",
       "      <td>NaN</td>\n",
       "      <td>NaN</td>\n",
       "      <td>NaN</td>\n",
       "      <td>NaN</td>\n",
       "    </tr>\n",
       "    <tr>\n",
       "      <th>157</th>\n",
       "      <td>ivs10+1G&gt;T (A218fs)</td>\n",
       "      <td>P332R</td>\n",
       "      <td>None</td>\n",
       "      <td>(A:MET:1, A:ALA:2, A:GLU:3, A:LEU:4, A:LYS:5, ...</td>\n",
       "      <td>None</td>\n",
       "      <td>(((&lt;Residue MET het=  resseq=1 icode= &gt;, &lt;Resi...</td>\n",
       "      <td>NaN</td>\n",
       "      <td>../datasets/ALPHAFOLD PDBs/P332R_e6340/P332R_e...</td>\n",
       "      <td>37.0</td>\n",
       "      <td>41.0</td>\n",
       "      <td>14.0</td>\n",
       "      <td>25.0</td>\n",
       "      <td>61.0</td>\n",
       "      <td>75.0</td>\n",
       "      <td>50.0</td>\n",
       "      <td>40.0</td>\n",
       "      <td>69.0</td>\n",
       "      <td>53.0</td>\n",
       "      <td>0.75</td>\n",
       "    </tr>\n",
       "    <tr>\n",
       "      <th>159</th>\n",
       "      <td>ivs7+2T&gt;C (R145fs)</td>\n",
       "      <td>M368V</td>\n",
       "      <td>None</td>\n",
       "      <td>(A:MET:1, A:ALA:2, A:GLU:3, A:LEU:4, A:LYS:5, ...</td>\n",
       "      <td>None</td>\n",
       "      <td>(((&lt;Residue MET het=  resseq=1 icode= &gt;, &lt;Resi...</td>\n",
       "      <td>NaN</td>\n",
       "      <td>../datasets/ALPHAFOLD PDBs/M368V_be390/M368V_b...</td>\n",
       "      <td>44.0</td>\n",
       "      <td>48.0</td>\n",
       "      <td>43.0</td>\n",
       "      <td>25.0</td>\n",
       "      <td>81.0</td>\n",
       "      <td>79.0</td>\n",
       "      <td>72.0</td>\n",
       "      <td>50.0</td>\n",
       "      <td>69.0</td>\n",
       "      <td>24.0</td>\n",
       "      <td>0.00</td>\n",
       "    </tr>\n",
       "    <tr>\n",
       "      <th>163</th>\n",
       "      <td>ivs5-11G&gt;A (G115fs) (2copies)**(MLPAneg)</td>\n",
       "      <td>ivs9-13T&gt;G (R284fs?) (2copies)**(MLPAneg)</td>\n",
       "      <td>None</td>\n",
       "      <td>None</td>\n",
       "      <td>None</td>\n",
       "      <td>None</td>\n",
       "      <td>NaN</td>\n",
       "      <td>NaN</td>\n",
       "      <td>36.0</td>\n",
       "      <td>58.0</td>\n",
       "      <td>43.0</td>\n",
       "      <td>50.0</td>\n",
       "      <td>50.0</td>\n",
       "      <td>64.0</td>\n",
       "      <td>57.0</td>\n",
       "      <td>10.0</td>\n",
       "      <td>25.0</td>\n",
       "      <td>61.0</td>\n",
       "      <td>1.00</td>\n",
       "    </tr>\n",
       "    <tr>\n",
       "      <th>170</th>\n",
       "      <td>R336Sfs5</td>\n",
       "      <td>R336Sfs5</td>\n",
       "      <td>None</td>\n",
       "      <td>None</td>\n",
       "      <td>None</td>\n",
       "      <td>None</td>\n",
       "      <td>NaN</td>\n",
       "      <td>NaN</td>\n",
       "      <td>NaN</td>\n",
       "      <td>NaN</td>\n",
       "      <td>NaN</td>\n",
       "      <td>NaN</td>\n",
       "      <td>NaN</td>\n",
       "      <td>NaN</td>\n",
       "      <td>NaN</td>\n",
       "      <td>NaN</td>\n",
       "      <td>NaN</td>\n",
       "      <td>NaN</td>\n",
       "      <td>NaN</td>\n",
       "    </tr>\n",
       "    <tr>\n",
       "      <th>181</th>\n",
       "      <td>G161R</td>\n",
       "      <td>Y6_G29del ivs1-1G&gt;A</td>\n",
       "      <td>(A:MET:1, A:ALA:2, A:GLU:3, A:LEU:4, A:LYS:5, ...</td>\n",
       "      <td>None</td>\n",
       "      <td>(((&lt;Residue MET het=  resseq=1 icode= &gt;, &lt;Resi...</td>\n",
       "      <td>None</td>\n",
       "      <td>../datasets/ALPHAFOLD PDBs/G161R_c8ba5/G161R_c...</td>\n",
       "      <td>NaN</td>\n",
       "      <td>NaN</td>\n",
       "      <td>NaN</td>\n",
       "      <td>NaN</td>\n",
       "      <td>NaN</td>\n",
       "      <td>NaN</td>\n",
       "      <td>NaN</td>\n",
       "      <td>NaN</td>\n",
       "      <td>NaN</td>\n",
       "      <td>NaN</td>\n",
       "      <td>NaN</td>\n",
       "      <td>NaN</td>\n",
       "    </tr>\n",
       "    <tr>\n",
       "      <th>193</th>\n",
       "      <td>ivs1-1G&gt;A (Y6_G29del)</td>\n",
       "      <td>ivs1-1G&gt;A (Y6_G29del)</td>\n",
       "      <td>None</td>\n",
       "      <td>None</td>\n",
       "      <td>None</td>\n",
       "      <td>None</td>\n",
       "      <td>NaN</td>\n",
       "      <td>NaN</td>\n",
       "      <td>44.0</td>\n",
       "      <td>62.0</td>\n",
       "      <td>NaN</td>\n",
       "      <td>NaN</td>\n",
       "      <td>NaN</td>\n",
       "      <td>NaN</td>\n",
       "      <td>NaN</td>\n",
       "      <td>NaN</td>\n",
       "      <td>NaN</td>\n",
       "      <td>NaN</td>\n",
       "      <td>NaN</td>\n",
       "    </tr>\n",
       "    <tr>\n",
       "      <th>196</th>\n",
       "      <td>R145Sfs ivs7+5G&gt;A</td>\n",
       "      <td>R145Sfs ivs7+5G&gt;A</td>\n",
       "      <td>None</td>\n",
       "      <td>None</td>\n",
       "      <td>None</td>\n",
       "      <td>None</td>\n",
       "      <td>NaN</td>\n",
       "      <td>NaN</td>\n",
       "      <td>56.0</td>\n",
       "      <td>50.0</td>\n",
       "      <td>NaN</td>\n",
       "      <td>NaN</td>\n",
       "      <td>NaN</td>\n",
       "      <td>NaN</td>\n",
       "      <td>NaN</td>\n",
       "      <td>NaN</td>\n",
       "      <td>NaN</td>\n",
       "      <td>NaN</td>\n",
       "      <td>NaN</td>\n",
       "    </tr>\n",
       "    <tr>\n",
       "      <th>201</th>\n",
       "      <td>R145Sfs ivs7+5G&gt;A</td>\n",
       "      <td>R145Sfs ivs7+5G&gt;A</td>\n",
       "      <td>None</td>\n",
       "      <td>None</td>\n",
       "      <td>None</td>\n",
       "      <td>None</td>\n",
       "      <td>NaN</td>\n",
       "      <td>NaN</td>\n",
       "      <td>54.0</td>\n",
       "      <td>68.0</td>\n",
       "      <td>NaN</td>\n",
       "      <td>NaN</td>\n",
       "      <td>NaN</td>\n",
       "      <td>NaN</td>\n",
       "      <td>NaN</td>\n",
       "      <td>NaN</td>\n",
       "      <td>NaN</td>\n",
       "      <td>NaN</td>\n",
       "      <td>NaN</td>\n",
       "    </tr>\n",
       "    <tr>\n",
       "      <th>202</th>\n",
       "      <td>R145Sfs ivs7+5G&gt;A</td>\n",
       "      <td>R145Sfs ivs7+5G&gt;A</td>\n",
       "      <td>None</td>\n",
       "      <td>None</td>\n",
       "      <td>None</td>\n",
       "      <td>None</td>\n",
       "      <td>NaN</td>\n",
       "      <td>NaN</td>\n",
       "      <td>NaN</td>\n",
       "      <td>NaN</td>\n",
       "      <td>NaN</td>\n",
       "      <td>NaN</td>\n",
       "      <td>NaN</td>\n",
       "      <td>NaN</td>\n",
       "      <td>NaN</td>\n",
       "      <td>NaN</td>\n",
       "      <td>NaN</td>\n",
       "      <td>NaN</td>\n",
       "      <td>NaN</td>\n",
       "    </tr>\n",
       "    <tr>\n",
       "      <th>207</th>\n",
       "      <td>E13K</td>\n",
       "      <td>ivs9-56G&gt;A</td>\n",
       "      <td>None</td>\n",
       "      <td>None</td>\n",
       "      <td>None</td>\n",
       "      <td>None</td>\n",
       "      <td>NaN</td>\n",
       "      <td>NaN</td>\n",
       "      <td>NaN</td>\n",
       "      <td>NaN</td>\n",
       "      <td>NaN</td>\n",
       "      <td>NaN</td>\n",
       "      <td>NaN</td>\n",
       "      <td>NaN</td>\n",
       "      <td>NaN</td>\n",
       "      <td>NaN</td>\n",
       "      <td>NaN</td>\n",
       "      <td>NaN</td>\n",
       "      <td>NaN</td>\n",
       "    </tr>\n",
       "    <tr>\n",
       "      <th>210</th>\n",
       "      <td>M368V</td>\n",
       "      <td>del ex13</td>\n",
       "      <td>(A:MET:1, A:ALA:2, A:GLU:3, A:LEU:4, A:LYS:5, ...</td>\n",
       "      <td>None</td>\n",
       "      <td>(((&lt;Residue MET het=  resseq=1 icode= &gt;, &lt;Resi...</td>\n",
       "      <td>None</td>\n",
       "      <td>../datasets/ALPHAFOLD PDBs/M368V_be390/M368V_b...</td>\n",
       "      <td>NaN</td>\n",
       "      <td>NaN</td>\n",
       "      <td>NaN</td>\n",
       "      <td>NaN</td>\n",
       "      <td>NaN</td>\n",
       "      <td>NaN</td>\n",
       "      <td>NaN</td>\n",
       "      <td>NaN</td>\n",
       "      <td>NaN</td>\n",
       "      <td>NaN</td>\n",
       "      <td>NaN</td>\n",
       "      <td>NaN</td>\n",
       "    </tr>\n",
       "    <tr>\n",
       "      <th>214</th>\n",
       "      <td>G251D</td>\n",
       "      <td>del ex13 (MLPA)</td>\n",
       "      <td>(A:MET:1, A:ALA:2, A:GLU:3, A:LEU:4, A:LYS:5, ...</td>\n",
       "      <td>None</td>\n",
       "      <td>(((&lt;Residue MET het=  resseq=1 icode= &gt;, &lt;Resi...</td>\n",
       "      <td>None</td>\n",
       "      <td>../datasets/ALPHAFOLD PDBs/G251D_5ea06/G251D_5...</td>\n",
       "      <td>NaN</td>\n",
       "      <td>NaN</td>\n",
       "      <td>NaN</td>\n",
       "      <td>NaN</td>\n",
       "      <td>NaN</td>\n",
       "      <td>NaN</td>\n",
       "      <td>NaN</td>\n",
       "      <td>NaN</td>\n",
       "      <td>NaN</td>\n",
       "      <td>NaN</td>\n",
       "      <td>NaN</td>\n",
       "      <td>NaN</td>\n",
       "    </tr>\n",
       "    <tr>\n",
       "      <th>217</th>\n",
       "      <td>ivs8-2A&gt;G (R184fs)</td>\n",
       "      <td>n.i. (MLPAneg)</td>\n",
       "      <td>None</td>\n",
       "      <td>None</td>\n",
       "      <td>None</td>\n",
       "      <td>None</td>\n",
       "      <td>NaN</td>\n",
       "      <td>NaN</td>\n",
       "      <td>31.0</td>\n",
       "      <td>51.0</td>\n",
       "      <td>43.0</td>\n",
       "      <td>100.0</td>\n",
       "      <td>NaN</td>\n",
       "      <td>NaN</td>\n",
       "      <td>NaN</td>\n",
       "      <td>NaN</td>\n",
       "      <td>NaN</td>\n",
       "      <td>78.0</td>\n",
       "      <td>0.63</td>\n",
       "    </tr>\n",
       "  </tbody>\n",
       "</table>\n",
       "</div>"
      ],
      "text/plain": [
       "                     Protein change allele 1   \\\n",
       "3                         Y6_G29del ivs1-1G>A   \n",
       "8                                       G161R   \n",
       "9                                       G251D   \n",
       "15                                     D153fs   \n",
       "24                      ivs1-1G>A (Y6_G29del)   \n",
       "45                                      G161R   \n",
       "51                                   c.140C>T   \n",
       "60                       R336S fs  ivs12-2A>T   \n",
       "74                      ivs1-1G>A (Y6_G29del)   \n",
       "78                                      K248R   \n",
       "98                                      G161R   \n",
       "99                                      R225H   \n",
       "103                     ivs1-1G>A (Y6_G29del)   \n",
       "108                                     G161R   \n",
       "115                        ivs7+5G>A (R145fs)   \n",
       "130                                     A122V   \n",
       "131                                     A122V   \n",
       "135                                   del in2   \n",
       "141                     ivs1-1G>A (Y6_G29del)   \n",
       "142                     ivs1-1G>A (Y6_G29del)   \n",
       "143                            del ex2 (MLPA)   \n",
       "145                            del ex2 (MLPA)   \n",
       "146                                     G161R   \n",
       "147                                     G161R   \n",
       "148                     ivs1-1G>A (Y6_G29del)   \n",
       "152                                    V157fs   \n",
       "153                                    D153fs   \n",
       "157                       ivs10+1G>T (A218fs)   \n",
       "159                        ivs7+2T>C (R145fs)   \n",
       "163  ivs5-11G>A (G115fs) (2copies)**(MLPAneg)   \n",
       "170                                  R336Sfs5   \n",
       "181                                     G161R   \n",
       "193                     ivs1-1G>A (Y6_G29del)   \n",
       "196                         R145Sfs ivs7+5G>A   \n",
       "201                         R145Sfs ivs7+5G>A   \n",
       "202                         R145Sfs ivs7+5G>A   \n",
       "207                                      E13K   \n",
       "210                                     M368V   \n",
       "214                                     G251D   \n",
       "217                        ivs8-2A>G (R184fs)   \n",
       "\n",
       "                       Protein change allele 2  \\\n",
       "3                          Y6_G29del ivs1-1G>A   \n",
       "8                        ivs1-1G>A (Y6_G29del)   \n",
       "9                              del ex13 (MLPA)   \n",
       "15           ivs1-1G>A (Y6_G29del) (2copies)**   \n",
       "24                                      H371fs   \n",
       "45                              n.i. (MLPAneg)   \n",
       "51                                    c.140C>T   \n",
       "60                                       E168*   \n",
       "74                       ivs1-1G>A (Y6_G29del)   \n",
       "78                         ivs7+5G>A (R145Sfs)   \n",
       "98                       ivs1-1G>A (Y6_G29del)   \n",
       "99                            del ex5,6 (MLPA)   \n",
       "103                      ivs1-1G>A (Y6_G29del)   \n",
       "108                      ivs1-1G>A (Y6_G29del)   \n",
       "115                         ivs7+5G>A (R145fs)   \n",
       "130                      ivs1-1G>A (Y6_G29del)   \n",
       "131                      ivs1-1G>A (Y6_G29del)   \n",
       "135                                    del in2   \n",
       "141                      ivs1-1G>A (Y6_G29del)   \n",
       "142                      ivs1-1G>A (Y6_G29del)   \n",
       "143                             del ex2 (MLPA)   \n",
       "145                             del ex2 (MLPA)   \n",
       "146                      ivs1-1G>A (Y6_G29del)   \n",
       "147                      ivs1-1G>A (Y6_G29del)   \n",
       "148                                      R63fs   \n",
       "152                                      G161R   \n",
       "153                      ivs1-1G>A (Y6_G29del)   \n",
       "157                                      P332R   \n",
       "159                                      M368V   \n",
       "163  ivs9-13T>G (R284fs?) (2copies)**(MLPAneg)   \n",
       "170                                   R336Sfs5   \n",
       "181                        Y6_G29del ivs1-1G>A   \n",
       "193                      ivs1-1G>A (Y6_G29del)   \n",
       "196                          R145Sfs ivs7+5G>A   \n",
       "201                          R145Sfs ivs7+5G>A   \n",
       "202                          R145Sfs ivs7+5G>A   \n",
       "207                                 ivs9-56G>A   \n",
       "210                                   del ex13   \n",
       "214                            del ex13 (MLPA)   \n",
       "217                             n.i. (MLPAneg)   \n",
       "\n",
       "                                         graph_allele1  \\\n",
       "3                                                 None   \n",
       "8    (A:MET:1, A:ALA:2, A:GLU:3, A:LEU:4, A:LYS:5, ...   \n",
       "9    (A:MET:1, A:ALA:2, A:GLU:3, A:LEU:4, A:LYS:5, ...   \n",
       "15   (A:MET:1, A:ALA:2, A:GLU:3, A:LEU:4, A:LYS:5, ...   \n",
       "24                                                None   \n",
       "45   (A:MET:1, A:ALA:2, A:GLU:3, A:LEU:4, A:LYS:5, ...   \n",
       "51                                                None   \n",
       "60                                                None   \n",
       "74                                                None   \n",
       "78                                                None   \n",
       "98   (A:MET:1, A:ALA:2, A:GLU:3, A:LEU:4, A:LYS:5, ...   \n",
       "99   (A:MET:1, A:ALA:2, A:GLU:3, A:LEU:4, A:LYS:5, ...   \n",
       "103                                               None   \n",
       "108  (A:MET:1, A:ALA:2, A:GLU:3, A:LEU:4, A:LYS:5, ...   \n",
       "115                                               None   \n",
       "130  (A:MET:1, A:ALA:2, A:GLU:3, A:LEU:4, A:LYS:5, ...   \n",
       "131  (A:MET:1, A:ALA:2, A:GLU:3, A:LEU:4, A:LYS:5, ...   \n",
       "135                                               None   \n",
       "141                                               None   \n",
       "142                                               None   \n",
       "143                                               None   \n",
       "145                                               None   \n",
       "146  (A:MET:1, A:ALA:2, A:GLU:3, A:LEU:4, A:LYS:5, ...   \n",
       "147  (A:MET:1, A:ALA:2, A:GLU:3, A:LEU:4, A:LYS:5, ...   \n",
       "148                                               None   \n",
       "152                                               None   \n",
       "153  (A:MET:1, A:ALA:2, A:GLU:3, A:LEU:4, A:LYS:5, ...   \n",
       "157                                               None   \n",
       "159                                               None   \n",
       "163                                               None   \n",
       "170                                               None   \n",
       "181  (A:MET:1, A:ALA:2, A:GLU:3, A:LEU:4, A:LYS:5, ...   \n",
       "193                                               None   \n",
       "196                                               None   \n",
       "201                                               None   \n",
       "202                                               None   \n",
       "207                                               None   \n",
       "210  (A:MET:1, A:ALA:2, A:GLU:3, A:LEU:4, A:LYS:5, ...   \n",
       "214  (A:MET:1, A:ALA:2, A:GLU:3, A:LEU:4, A:LYS:5, ...   \n",
       "217                                               None   \n",
       "\n",
       "                                         graph_allele2  \\\n",
       "3                                                 None   \n",
       "8                                                 None   \n",
       "9                                                 None   \n",
       "15                                                None   \n",
       "24   (A:MET:1, A:ALA:2, A:GLU:3, A:LEU:4, A:LYS:5, ...   \n",
       "45                                                None   \n",
       "51                                                None   \n",
       "60   (A:MET:1, A:ALA:2, A:GLU:3, A:LEU:4, A:LYS:5, ...   \n",
       "74                                                None   \n",
       "78                                                None   \n",
       "98                                                None   \n",
       "99                                                None   \n",
       "103                                               None   \n",
       "108                                               None   \n",
       "115                                               None   \n",
       "130                                               None   \n",
       "131                                               None   \n",
       "135                                               None   \n",
       "141                                               None   \n",
       "142                                               None   \n",
       "143                                               None   \n",
       "145                                               None   \n",
       "146                                               None   \n",
       "147                                               None   \n",
       "148                                               None   \n",
       "152  (A:MET:1, A:ALA:2, A:GLU:3, A:LEU:4, A:LYS:5, ...   \n",
       "153                                               None   \n",
       "157  (A:MET:1, A:ALA:2, A:GLU:3, A:LEU:4, A:LYS:5, ...   \n",
       "159  (A:MET:1, A:ALA:2, A:GLU:3, A:LEU:4, A:LYS:5, ...   \n",
       "163                                               None   \n",
       "170                                               None   \n",
       "181                                               None   \n",
       "193                                               None   \n",
       "196                                               None   \n",
       "201                                               None   \n",
       "202                                               None   \n",
       "207                                               None   \n",
       "210                                               None   \n",
       "214                                               None   \n",
       "217                                               None   \n",
       "\n",
       "                                     structure_allele1  \\\n",
       "3                                                 None   \n",
       "8    (((<Residue MET het=  resseq=1 icode= >, <Resi...   \n",
       "9    (((<Residue MET het=  resseq=1 icode= >, <Resi...   \n",
       "15   (((<Residue MET het=  resseq=1 icode= >, <Resi...   \n",
       "24                                                None   \n",
       "45   (((<Residue MET het=  resseq=1 icode= >, <Resi...   \n",
       "51                                                None   \n",
       "60                                                None   \n",
       "74                                                None   \n",
       "78                                                None   \n",
       "98   (((<Residue MET het=  resseq=1 icode= >, <Resi...   \n",
       "99   (((<Residue MET het=  resseq=1 icode= >, <Resi...   \n",
       "103                                               None   \n",
       "108  (((<Residue MET het=  resseq=1 icode= >, <Resi...   \n",
       "115                                               None   \n",
       "130  (((<Residue MET het=  resseq=1 icode= >, <Resi...   \n",
       "131  (((<Residue MET het=  resseq=1 icode= >, <Resi...   \n",
       "135                                               None   \n",
       "141                                               None   \n",
       "142                                               None   \n",
       "143                                               None   \n",
       "145                                               None   \n",
       "146  (((<Residue MET het=  resseq=1 icode= >, <Resi...   \n",
       "147  (((<Residue MET het=  resseq=1 icode= >, <Resi...   \n",
       "148                                               None   \n",
       "152                                               None   \n",
       "153  (((<Residue MET het=  resseq=1 icode= >, <Resi...   \n",
       "157                                               None   \n",
       "159                                               None   \n",
       "163                                               None   \n",
       "170                                               None   \n",
       "181  (((<Residue MET het=  resseq=1 icode= >, <Resi...   \n",
       "193                                               None   \n",
       "196                                               None   \n",
       "201                                               None   \n",
       "202                                               None   \n",
       "207                                               None   \n",
       "210  (((<Residue MET het=  resseq=1 icode= >, <Resi...   \n",
       "214  (((<Residue MET het=  resseq=1 icode= >, <Resi...   \n",
       "217                                               None   \n",
       "\n",
       "                                     structure_allele2  \\\n",
       "3                                                 None   \n",
       "8                                                 None   \n",
       "9                                                 None   \n",
       "15                                                None   \n",
       "24   (((<Residue MET het=  resseq=1 icode= >, <Resi...   \n",
       "45                                                None   \n",
       "51                                                None   \n",
       "60   (((<Residue MET het=  resseq=1 icode= >, <Resi...   \n",
       "74                                                None   \n",
       "78                                                None   \n",
       "98                                                None   \n",
       "99                                                None   \n",
       "103                                               None   \n",
       "108                                               None   \n",
       "115                                               None   \n",
       "130                                               None   \n",
       "131                                               None   \n",
       "135                                               None   \n",
       "141                                               None   \n",
       "142                                               None   \n",
       "143                                               None   \n",
       "145                                               None   \n",
       "146                                               None   \n",
       "147                                               None   \n",
       "148                                               None   \n",
       "152  (((<Residue MET het=  resseq=1 icode= >, <Resi...   \n",
       "153                                               None   \n",
       "157  (((<Residue MET het=  resseq=1 icode= >, <Resi...   \n",
       "159  (((<Residue MET het=  resseq=1 icode= >, <Resi...   \n",
       "163                                               None   \n",
       "170                                               None   \n",
       "181                                               None   \n",
       "193                                               None   \n",
       "196                                               None   \n",
       "201                                               None   \n",
       "202                                               None   \n",
       "207                                               None   \n",
       "210                                               None   \n",
       "214                                               None   \n",
       "217                                               None   \n",
       "\n",
       "                                      pdb_file_allele1  \\\n",
       "3                                                  NaN   \n",
       "8    ../datasets/ALPHAFOLD PDBs/G161R_c8ba5/G161R_c...   \n",
       "9    ../datasets/ALPHAFOLD PDBs/G251D_5ea06/G251D_5...   \n",
       "15   ../datasets/ALPHAFOLD PDBs/D153fs_315fd/D153fs...   \n",
       "24                                                 NaN   \n",
       "45   ../datasets/ALPHAFOLD PDBs/G161R_c8ba5/G161R_c...   \n",
       "51                                                 NaN   \n",
       "60                                                 NaN   \n",
       "74                                                 NaN   \n",
       "78                                                 NaN   \n",
       "98   ../datasets/ALPHAFOLD PDBs/G161R_c8ba5/G161R_c...   \n",
       "99   ../datasets/ALPHAFOLD PDBs/R225H_3ba56/R225H_3...   \n",
       "103                                                NaN   \n",
       "108  ../datasets/ALPHAFOLD PDBs/G161R_c8ba5/G161R_c...   \n",
       "115                                                NaN   \n",
       "130  ../datasets/ALPHAFOLD PDBs/A122V_41d52/A122V_4...   \n",
       "131  ../datasets/ALPHAFOLD PDBs/A122V_41d52/A122V_4...   \n",
       "135                                                NaN   \n",
       "141                                                NaN   \n",
       "142                                                NaN   \n",
       "143                                                NaN   \n",
       "145                                                NaN   \n",
       "146  ../datasets/ALPHAFOLD PDBs/G161R_c8ba5/G161R_c...   \n",
       "147  ../datasets/ALPHAFOLD PDBs/G161R_c8ba5/G161R_c...   \n",
       "148                                                NaN   \n",
       "152                                                NaN   \n",
       "153  ../datasets/ALPHAFOLD PDBs/D153fs_315fd/D153fs...   \n",
       "157                                                NaN   \n",
       "159                                                NaN   \n",
       "163                                                NaN   \n",
       "170                                                NaN   \n",
       "181  ../datasets/ALPHAFOLD PDBs/G161R_c8ba5/G161R_c...   \n",
       "193                                                NaN   \n",
       "196                                                NaN   \n",
       "201                                                NaN   \n",
       "202                                                NaN   \n",
       "207                                                NaN   \n",
       "210  ../datasets/ALPHAFOLD PDBs/M368V_be390/M368V_b...   \n",
       "214  ../datasets/ALPHAFOLD PDBs/G251D_5ea06/G251D_5...   \n",
       "217                                                NaN   \n",
       "\n",
       "                                      pdb_file_allele2  physical_health_score  \\\n",
       "3                                                  NaN                    NaN   \n",
       "8                                                  NaN                   32.0   \n",
       "9                                                  NaN                   31.0   \n",
       "15                                                 NaN                   39.0   \n",
       "24   ../datasets/ALPHAFOLD PDBs/H371fs_9b3dd/H371fs...                   40.0   \n",
       "45                                                 NaN                   43.0   \n",
       "51                                                 NaN                    NaN   \n",
       "60   ../datasets/ALPHAFOLD PDBs/E168__10c4e/E168_10...                    NaN   \n",
       "74                                                 NaN                    NaN   \n",
       "78                                                 NaN                    NaN   \n",
       "98                                                 NaN                   29.0   \n",
       "99                                                 NaN                   40.0   \n",
       "103                                                NaN                   25.0   \n",
       "108                                                NaN                   32.0   \n",
       "115                                                NaN                   34.0   \n",
       "130                                                NaN                   34.0   \n",
       "131                                                NaN                   42.0   \n",
       "135                                                NaN                   37.0   \n",
       "141                                                NaN                   26.0   \n",
       "142                                                NaN                   32.0   \n",
       "143                                                NaN                   25.0   \n",
       "145                                                NaN                   33.0   \n",
       "146                                                NaN                   26.0   \n",
       "147                                                NaN                   25.0   \n",
       "148                                                NaN                   25.0   \n",
       "152  ../datasets/ALPHAFOLD PDBs/G161R_c8ba5/G161R_c...                   27.0   \n",
       "153                                                NaN                    NaN   \n",
       "157  ../datasets/ALPHAFOLD PDBs/P332R_e6340/P332R_e...                   37.0   \n",
       "159  ../datasets/ALPHAFOLD PDBs/M368V_be390/M368V_b...                   44.0   \n",
       "163                                                NaN                   36.0   \n",
       "170                                                NaN                    NaN   \n",
       "181                                                NaN                    NaN   \n",
       "193                                                NaN                   44.0   \n",
       "196                                                NaN                   56.0   \n",
       "201                                                NaN                   54.0   \n",
       "202                                                NaN                    NaN   \n",
       "207                                                NaN                    NaN   \n",
       "210                                                NaN                    NaN   \n",
       "214                                                NaN                    NaN   \n",
       "217                                                NaN                   31.0   \n",
       "\n",
       "     mental_health_score  AKUSSI_jointpain  AKUSSI_spinalpain  KOOSpain  \\\n",
       "3                    NaN               NaN                NaN       NaN   \n",
       "8                   30.0              50.0              100.0      44.0   \n",
       "9                   39.0              36.0               75.0      44.0   \n",
       "15                  51.0              14.0               75.0       NaN   \n",
       "24                  46.0               7.0               50.0     100.0   \n",
       "45                  30.0               7.0               75.0      67.0   \n",
       "51                   NaN               NaN                NaN       NaN   \n",
       "60                   NaN               NaN                NaN       NaN   \n",
       "74                   NaN               NaN                NaN       NaN   \n",
       "78                   NaN               NaN                NaN       NaN   \n",
       "98                  33.0              50.0              100.0      69.0   \n",
       "99                  58.0              29.0               25.0      75.0   \n",
       "103                 56.0              29.0              100.0      36.0   \n",
       "108                 38.0              57.0              100.0      39.0   \n",
       "115                 40.0              71.0               75.0      36.0   \n",
       "130                 39.0              21.0               25.0     100.0   \n",
       "131                 62.0              14.0               25.0     100.0   \n",
       "135                 43.0              43.0               25.0      33.0   \n",
       "141                 28.0              14.0               75.0      25.0   \n",
       "142                 26.0              21.0               50.0      25.0   \n",
       "143                 44.0              57.0               75.0      61.0   \n",
       "145                 41.0              57.0               75.0      47.0   \n",
       "146                 35.0              21.0               25.0      33.0   \n",
       "147                 43.0              29.0               25.0      47.0   \n",
       "148                 50.0              71.0              100.0      67.0   \n",
       "152                 31.0              21.0               50.0      25.0   \n",
       "153                  NaN               NaN                NaN       NaN   \n",
       "157                 41.0              14.0               25.0      61.0   \n",
       "159                 48.0              43.0               25.0      81.0   \n",
       "163                 58.0              43.0               50.0      50.0   \n",
       "170                  NaN               NaN                NaN       NaN   \n",
       "181                  NaN               NaN                NaN       NaN   \n",
       "193                 62.0               NaN                NaN       NaN   \n",
       "196                 50.0               NaN                NaN       NaN   \n",
       "201                 68.0               NaN                NaN       NaN   \n",
       "202                  NaN               NaN                NaN       NaN   \n",
       "207                  NaN               NaN                NaN       NaN   \n",
       "210                  NaN               NaN                NaN       NaN   \n",
       "214                  NaN               NaN                NaN       NaN   \n",
       "217                 51.0              43.0              100.0       NaN   \n",
       "\n",
       "     KOOSsymptoms  KOOSdaily_living  KOOSsport  KOOS_QOL  HAQ_hapVAS  \\\n",
       "3             NaN               NaN        NaN       NaN         NaN   \n",
       "8            68.0              54.0       45.0      31.0        53.0   \n",
       "9            46.0              52.0        0.0      44.0        80.0   \n",
       "15            NaN               NaN        NaN       NaN        70.0   \n",
       "24           96.0             100.0       95.0     100.0        40.0   \n",
       "45           64.0              54.0       42.0      56.0        48.0   \n",
       "51            NaN               NaN        NaN       NaN         NaN   \n",
       "60            NaN               NaN        NaN       NaN         NaN   \n",
       "74            NaN               NaN        NaN       NaN         NaN   \n",
       "78            NaN               NaN        NaN       NaN         NaN   \n",
       "98           71.0              65.0        NaN      19.0        75.0   \n",
       "99           68.0              84.0       45.0      31.0        25.0   \n",
       "103          54.0              40.0        5.0      31.0        51.0   \n",
       "108          43.0              38.0       20.0      31.0        77.0   \n",
       "115          46.0              56.0       15.0       6.0        80.0   \n",
       "130         100.0             100.0      100.0     100.0        60.0   \n",
       "131         100.0             100.0      100.0     100.0         0.0   \n",
       "135          46.0              38.0       10.0      31.0        40.0   \n",
       "141          21.0              19.0        0.0       0.0       100.0   \n",
       "142          36.0              20.0        5.0      25.0        75.0   \n",
       "143          71.0              56.0       40.0      50.0        73.0   \n",
       "145          57.0              46.0       25.0      19.0        47.0   \n",
       "146          25.0              31.0        5.0      13.0        98.0   \n",
       "147          68.0              38.0       20.0       0.0        44.0   \n",
       "148          43.0              41.0       10.0      31.0        67.0   \n",
       "152          21.0              29.0        5.0       6.0        71.0   \n",
       "153           NaN               NaN        NaN       NaN         NaN   \n",
       "157          75.0              50.0       40.0      69.0        53.0   \n",
       "159          79.0              72.0       50.0      69.0        24.0   \n",
       "163          64.0              57.0       10.0      25.0        61.0   \n",
       "170           NaN               NaN        NaN       NaN         NaN   \n",
       "181           NaN               NaN        NaN       NaN         NaN   \n",
       "193           NaN               NaN        NaN       NaN         NaN   \n",
       "196           NaN               NaN        NaN       NaN         NaN   \n",
       "201           NaN               NaN        NaN       NaN         NaN   \n",
       "202           NaN               NaN        NaN       NaN         NaN   \n",
       "207           NaN               NaN        NaN       NaN         NaN   \n",
       "210           NaN               NaN        NaN       NaN         NaN   \n",
       "214           NaN               NaN        NaN       NaN         NaN   \n",
       "217           NaN               NaN        NaN       NaN        78.0   \n",
       "\n",
       "     HAQ_haqDI  \n",
       "3          NaN  \n",
       "8         0.63  \n",
       "9         1.25  \n",
       "15        0.63  \n",
       "24        0.38  \n",
       "45        0.75  \n",
       "51         NaN  \n",
       "60         NaN  \n",
       "74         NaN  \n",
       "78         NaN  \n",
       "98        0.63  \n",
       "99        0.38  \n",
       "103       1.38  \n",
       "108       1.88  \n",
       "115       0.63  \n",
       "130       0.88  \n",
       "131       0.00  \n",
       "135       0.63  \n",
       "141       1.75  \n",
       "142       1.50  \n",
       "143       0.63  \n",
       "145       0.88  \n",
       "146       1.00  \n",
       "147       1.25  \n",
       "148       1.88  \n",
       "152       1.13  \n",
       "153        NaN  \n",
       "157       0.75  \n",
       "159       0.00  \n",
       "163       1.00  \n",
       "170        NaN  \n",
       "181        NaN  \n",
       "193        NaN  \n",
       "196        NaN  \n",
       "201        NaN  \n",
       "202        NaN  \n",
       "207        NaN  \n",
       "210        NaN  \n",
       "214        NaN  \n",
       "217       0.63  "
      ]
     },
     "execution_count": 42,
     "metadata": {},
     "output_type": "execute_result"
    }
   ],
   "source": [
    "# print all the rows that have None in the 'graph_allele1' or 'graph_allele2' column\n",
    "print(len(df_g[df_g['graph_allele1'].isnull() | df_g['graph_allele2'].isnull()]))\n",
    "\n",
    "df_g[df_g['graph_allele1'].isnull() | df_g['graph_allele2'].isnull()]\n"
   ]
  },
  {
   "cell_type": "code",
   "execution_count": 43,
   "metadata": {},
   "outputs": [],
   "source": [
    "# drop the rows with None value of the column 'graph_allele1'\n",
    "df_g = df_g.dropna(subset=['graph_allele1'])"
   ]
  },
  {
   "cell_type": "code",
   "execution_count": 44,
   "metadata": {},
   "outputs": [],
   "source": [
    "df_g = df_g.dropna(subset=['graph_allele2'])"
   ]
  },
  {
   "cell_type": "code",
   "execution_count": 45,
   "metadata": {},
   "outputs": [
    {
     "data": {
      "text/plain": [
       "159"
      ]
     },
     "execution_count": 45,
     "metadata": {},
     "output_type": "execute_result"
    }
   ],
   "source": [
    "len(df_g)"
   ]
  },
  {
   "cell_type": "markdown",
   "metadata": {},
   "source": [
    "---\n",
    "# df con solo pazienti che abbiamo entrambi i pdb delle mutazioni"
   ]
  },
  {
   "cell_type": "code",
   "execution_count": 137,
   "metadata": {},
   "outputs": [
    {
     "data": {
      "text/html": [
       "<div>\n",
       "<style scoped>\n",
       "    .dataframe tbody tr th:only-of-type {\n",
       "        vertical-align: middle;\n",
       "    }\n",
       "\n",
       "    .dataframe tbody tr th {\n",
       "        vertical-align: top;\n",
       "    }\n",
       "\n",
       "    .dataframe thead th {\n",
       "        text-align: right;\n",
       "    }\n",
       "</style>\n",
       "<table border=\"1\" class=\"dataframe\">\n",
       "  <thead>\n",
       "    <tr style=\"text-align: right;\">\n",
       "      <th></th>\n",
       "      <th>Protein change allele 1</th>\n",
       "      <th>Protein change allele 2</th>\n",
       "      <th>graph_allele1</th>\n",
       "      <th>graph_allele2</th>\n",
       "      <th>structure_allele1</th>\n",
       "      <th>structure_allele2</th>\n",
       "      <th>pdb_file_allele1</th>\n",
       "      <th>pdb_file_allele2</th>\n",
       "      <th>physical_health_score</th>\n",
       "      <th>mental_health_score</th>\n",
       "      <th>AKUSSI_jointpain</th>\n",
       "      <th>AKUSSI_spinalpain</th>\n",
       "      <th>KOOSpain</th>\n",
       "      <th>KOOSsymptoms</th>\n",
       "      <th>KOOSdaily_living</th>\n",
       "      <th>KOOSsport</th>\n",
       "      <th>KOOS_QOL</th>\n",
       "      <th>AKUSSI</th>\n",
       "    </tr>\n",
       "  </thead>\n",
       "  <tbody>\n",
       "    <tr>\n",
       "      <th>0</th>\n",
       "      <td>G161R</td>\n",
       "      <td>His371Profs</td>\n",
       "      <td>(A:MET:1, A:ALA:2, A:GLU:3, A:LEU:4, A:LYS:5, ...</td>\n",
       "      <td>(A:MET:1, A:ALA:2, A:GLU:3, A:LEU:4, A:LYS:5, ...</td>\n",
       "      <td>(((&lt;Residue MET het=  resseq=1 icode= &gt;, &lt;Resi...</td>\n",
       "      <td>(((&lt;Residue MET het=  resseq=1 icode= &gt;, &lt;Resi...</td>\n",
       "      <td>../datasets/ALPHAFOLD PDBs/G161R_c8ba5/G161R_c...</td>\n",
       "      <td>../datasets/ALPHAFOLD PDBs/H371fs_9b3dd/H371fs...</td>\n",
       "      <td>26.0</td>\n",
       "      <td>43.0</td>\n",
       "      <td>57.0</td>\n",
       "      <td>75.0</td>\n",
       "      <td>67.0</td>\n",
       "      <td>89.0</td>\n",
       "      <td>75.0</td>\n",
       "      <td>70.0</td>\n",
       "      <td>69.0</td>\n",
       "      <td>132.0</td>\n",
       "    </tr>\n",
       "    <tr>\n",
       "      <th>1</th>\n",
       "      <td>G161R</td>\n",
       "      <td>G161R</td>\n",
       "      <td>(A:MET:1, A:ALA:2, A:GLU:3, A:LEU:4, A:LYS:5, ...</td>\n",
       "      <td>(A:MET:1, A:ALA:2, A:GLU:3, A:LEU:4, A:LYS:5, ...</td>\n",
       "      <td>(((&lt;Residue MET het=  resseq=1 icode= &gt;, &lt;Resi...</td>\n",
       "      <td>(((&lt;Residue MET het=  resseq=1 icode= &gt;, &lt;Resi...</td>\n",
       "      <td>../datasets/ALPHAFOLD PDBs/G161R_c8ba5/G161R_c...</td>\n",
       "      <td>../datasets/ALPHAFOLD PDBs/G161R_c8ba5/G161R_c...</td>\n",
       "      <td>53.0</td>\n",
       "      <td>51.0</td>\n",
       "      <td>29.0</td>\n",
       "      <td>25.0</td>\n",
       "      <td>92.0</td>\n",
       "      <td>96.0</td>\n",
       "      <td>91.0</td>\n",
       "      <td>85.0</td>\n",
       "      <td>75.0</td>\n",
       "      <td>54.0</td>\n",
       "    </tr>\n",
       "    <tr>\n",
       "      <th>2</th>\n",
       "      <td>G161R</td>\n",
       "      <td>M368V</td>\n",
       "      <td>(A:MET:1, A:ALA:2, A:GLU:3, A:LEU:4, A:LYS:5, ...</td>\n",
       "      <td>(A:MET:1, A:ALA:2, A:GLU:3, A:LEU:4, A:LYS:5, ...</td>\n",
       "      <td>(((&lt;Residue MET het=  resseq=1 icode= &gt;, &lt;Resi...</td>\n",
       "      <td>(((&lt;Residue MET het=  resseq=1 icode= &gt;, &lt;Resi...</td>\n",
       "      <td>../datasets/ALPHAFOLD PDBs/G161R_c8ba5/G161R_c...</td>\n",
       "      <td>../datasets/ALPHAFOLD PDBs/M368V_be390/M368V_b...</td>\n",
       "      <td>23.0</td>\n",
       "      <td>40.0</td>\n",
       "      <td>36.0</td>\n",
       "      <td>100.0</td>\n",
       "      <td>47.0</td>\n",
       "      <td>39.0</td>\n",
       "      <td>31.0</td>\n",
       "      <td>0.0</td>\n",
       "      <td>19.0</td>\n",
       "      <td>136.0</td>\n",
       "    </tr>\n",
       "    <tr>\n",
       "      <th>4</th>\n",
       "      <td>G161R</td>\n",
       "      <td>G161R</td>\n",
       "      <td>(A:MET:1, A:ALA:2, A:GLU:3, A:LEU:4, A:LYS:5, ...</td>\n",
       "      <td>(A:MET:1, A:ALA:2, A:GLU:3, A:LEU:4, A:LYS:5, ...</td>\n",
       "      <td>(((&lt;Residue MET het=  resseq=1 icode= &gt;, &lt;Resi...</td>\n",
       "      <td>(((&lt;Residue MET het=  resseq=1 icode= &gt;, &lt;Resi...</td>\n",
       "      <td>../datasets/ALPHAFOLD PDBs/G161R_c8ba5/G161R_c...</td>\n",
       "      <td>../datasets/ALPHAFOLD PDBs/G161R_c8ba5/G161R_c...</td>\n",
       "      <td>23.0</td>\n",
       "      <td>29.0</td>\n",
       "      <td>50.0</td>\n",
       "      <td>100.0</td>\n",
       "      <td>33.0</td>\n",
       "      <td>29.0</td>\n",
       "      <td>60.0</td>\n",
       "      <td>25.0</td>\n",
       "      <td>13.0</td>\n",
       "      <td>150.0</td>\n",
       "    </tr>\n",
       "    <tr>\n",
       "      <th>5</th>\n",
       "      <td>G161R</td>\n",
       "      <td>G161R</td>\n",
       "      <td>(A:MET:1, A:ALA:2, A:GLU:3, A:LEU:4, A:LYS:5, ...</td>\n",
       "      <td>(A:MET:1, A:ALA:2, A:GLU:3, A:LEU:4, A:LYS:5, ...</td>\n",
       "      <td>(((&lt;Residue MET het=  resseq=1 icode= &gt;, &lt;Resi...</td>\n",
       "      <td>(((&lt;Residue MET het=  resseq=1 icode= &gt;, &lt;Resi...</td>\n",
       "      <td>../datasets/ALPHAFOLD PDBs/G161R_c8ba5/G161R_c...</td>\n",
       "      <td>../datasets/ALPHAFOLD PDBs/G161R_c8ba5/G161R_c...</td>\n",
       "      <td>26.0</td>\n",
       "      <td>31.0</td>\n",
       "      <td>50.0</td>\n",
       "      <td>100.0</td>\n",
       "      <td>44.0</td>\n",
       "      <td>29.0</td>\n",
       "      <td>32.0</td>\n",
       "      <td>35.0</td>\n",
       "      <td>13.0</td>\n",
       "      <td>150.0</td>\n",
       "    </tr>\n",
       "  </tbody>\n",
       "</table>\n",
       "</div>"
      ],
      "text/plain": [
       "  Protein change allele 1  Protein change allele 2  \\\n",
       "0                    G161R             His371Profs   \n",
       "1                    G161R                   G161R   \n",
       "2                    G161R                   M368V   \n",
       "4                    G161R                   G161R   \n",
       "5                    G161R                   G161R   \n",
       "\n",
       "                                       graph_allele1  \\\n",
       "0  (A:MET:1, A:ALA:2, A:GLU:3, A:LEU:4, A:LYS:5, ...   \n",
       "1  (A:MET:1, A:ALA:2, A:GLU:3, A:LEU:4, A:LYS:5, ...   \n",
       "2  (A:MET:1, A:ALA:2, A:GLU:3, A:LEU:4, A:LYS:5, ...   \n",
       "4  (A:MET:1, A:ALA:2, A:GLU:3, A:LEU:4, A:LYS:5, ...   \n",
       "5  (A:MET:1, A:ALA:2, A:GLU:3, A:LEU:4, A:LYS:5, ...   \n",
       "\n",
       "                                       graph_allele2  \\\n",
       "0  (A:MET:1, A:ALA:2, A:GLU:3, A:LEU:4, A:LYS:5, ...   \n",
       "1  (A:MET:1, A:ALA:2, A:GLU:3, A:LEU:4, A:LYS:5, ...   \n",
       "2  (A:MET:1, A:ALA:2, A:GLU:3, A:LEU:4, A:LYS:5, ...   \n",
       "4  (A:MET:1, A:ALA:2, A:GLU:3, A:LEU:4, A:LYS:5, ...   \n",
       "5  (A:MET:1, A:ALA:2, A:GLU:3, A:LEU:4, A:LYS:5, ...   \n",
       "\n",
       "                                   structure_allele1  \\\n",
       "0  (((<Residue MET het=  resseq=1 icode= >, <Resi...   \n",
       "1  (((<Residue MET het=  resseq=1 icode= >, <Resi...   \n",
       "2  (((<Residue MET het=  resseq=1 icode= >, <Resi...   \n",
       "4  (((<Residue MET het=  resseq=1 icode= >, <Resi...   \n",
       "5  (((<Residue MET het=  resseq=1 icode= >, <Resi...   \n",
       "\n",
       "                                   structure_allele2  \\\n",
       "0  (((<Residue MET het=  resseq=1 icode= >, <Resi...   \n",
       "1  (((<Residue MET het=  resseq=1 icode= >, <Resi...   \n",
       "2  (((<Residue MET het=  resseq=1 icode= >, <Resi...   \n",
       "4  (((<Residue MET het=  resseq=1 icode= >, <Resi...   \n",
       "5  (((<Residue MET het=  resseq=1 icode= >, <Resi...   \n",
       "\n",
       "                                    pdb_file_allele1  \\\n",
       "0  ../datasets/ALPHAFOLD PDBs/G161R_c8ba5/G161R_c...   \n",
       "1  ../datasets/ALPHAFOLD PDBs/G161R_c8ba5/G161R_c...   \n",
       "2  ../datasets/ALPHAFOLD PDBs/G161R_c8ba5/G161R_c...   \n",
       "4  ../datasets/ALPHAFOLD PDBs/G161R_c8ba5/G161R_c...   \n",
       "5  ../datasets/ALPHAFOLD PDBs/G161R_c8ba5/G161R_c...   \n",
       "\n",
       "                                    pdb_file_allele2  physical_health_score  \\\n",
       "0  ../datasets/ALPHAFOLD PDBs/H371fs_9b3dd/H371fs...                   26.0   \n",
       "1  ../datasets/ALPHAFOLD PDBs/G161R_c8ba5/G161R_c...                   53.0   \n",
       "2  ../datasets/ALPHAFOLD PDBs/M368V_be390/M368V_b...                   23.0   \n",
       "4  ../datasets/ALPHAFOLD PDBs/G161R_c8ba5/G161R_c...                   23.0   \n",
       "5  ../datasets/ALPHAFOLD PDBs/G161R_c8ba5/G161R_c...                   26.0   \n",
       "\n",
       "   mental_health_score  AKUSSI_jointpain  AKUSSI_spinalpain  KOOSpain  \\\n",
       "0                 43.0              57.0               75.0      67.0   \n",
       "1                 51.0              29.0               25.0      92.0   \n",
       "2                 40.0              36.0              100.0      47.0   \n",
       "4                 29.0              50.0              100.0      33.0   \n",
       "5                 31.0              50.0              100.0      44.0   \n",
       "\n",
       "   KOOSsymptoms  KOOSdaily_living  KOOSsport  KOOS_QOL  AKUSSI  \n",
       "0          89.0              75.0       70.0      69.0   132.0  \n",
       "1          96.0              91.0       85.0      75.0    54.0  \n",
       "2          39.0              31.0        0.0      19.0   136.0  \n",
       "4          29.0              60.0       25.0      13.0   150.0  \n",
       "5          29.0              32.0       35.0      13.0   150.0  "
      ]
     },
     "execution_count": 137,
     "metadata": {},
     "output_type": "execute_result"
    }
   ],
   "source": [
    "# create a column called 'AKUSSI' which is the sum of the columns 'AKUSSI_jointpain', 'AKUSSI_spinalpain'\n",
    "df_g['AKUSSI'] = df_g['AKUSSI_jointpain'] + df_g['AKUSSI_spinalpain']\n",
    "\n",
    "df_g.head()\n"
   ]
  },
  {
   "cell_type": "code",
   "execution_count": 139,
   "metadata": {},
   "outputs": [
    {
     "data": {
      "text/html": [
       "<div>\n",
       "<style scoped>\n",
       "    .dataframe tbody tr th:only-of-type {\n",
       "        vertical-align: middle;\n",
       "    }\n",
       "\n",
       "    .dataframe tbody tr th {\n",
       "        vertical-align: top;\n",
       "    }\n",
       "\n",
       "    .dataframe thead th {\n",
       "        text-align: right;\n",
       "    }\n",
       "</style>\n",
       "<table border=\"1\" class=\"dataframe\">\n",
       "  <thead>\n",
       "    <tr style=\"text-align: right;\">\n",
       "      <th></th>\n",
       "      <th>Protein change allele 1</th>\n",
       "      <th>Protein change allele 2</th>\n",
       "      <th>graph_allele1</th>\n",
       "      <th>graph_allele2</th>\n",
       "      <th>structure_allele1</th>\n",
       "      <th>structure_allele2</th>\n",
       "      <th>pdb_file_allele1</th>\n",
       "      <th>pdb_file_allele2</th>\n",
       "      <th>physical_health_score</th>\n",
       "      <th>mental_health_score</th>\n",
       "      <th>AKUSSI_jointpain</th>\n",
       "      <th>AKUSSI_spinalpain</th>\n",
       "      <th>KOOSpain</th>\n",
       "      <th>KOOSsymptoms</th>\n",
       "      <th>KOOSdaily_living</th>\n",
       "      <th>KOOSsport</th>\n",
       "      <th>KOOS_QOL</th>\n",
       "      <th>AKUSSI</th>\n",
       "    </tr>\n",
       "  </thead>\n",
       "  <tbody>\n",
       "    <tr>\n",
       "      <th>40</th>\n",
       "      <td>D153fs</td>\n",
       "      <td>A218fs</td>\n",
       "      <td>(A:MET:1, A:ALA:2, A:GLU:3, A:LEU:4, A:LYS:5, ...</td>\n",
       "      <td>(A:MET:1, A:ALA:2, A:GLU:3, A:LEU:4, A:LYS:5, ...</td>\n",
       "      <td>(((&lt;Residue MET het=  resseq=1 icode= &gt;, &lt;Resi...</td>\n",
       "      <td>(((&lt;Residue MET het=  resseq=1 icode= &gt;, &lt;Resi...</td>\n",
       "      <td>../datasets/ALPHAFOLD PDBs/D153fs_315fd/D153fs...</td>\n",
       "      <td>../datasets/ALPHAFOLD PDBs/A218fs_8b909/A218fs...</td>\n",
       "      <td>28.0</td>\n",
       "      <td>26.0</td>\n",
       "      <td>93.0</td>\n",
       "      <td>100.0</td>\n",
       "      <td>36.0</td>\n",
       "      <td>50.0</td>\n",
       "      <td>22.0</td>\n",
       "      <td>6.0</td>\n",
       "      <td>19.0</td>\n",
       "      <td>193.0</td>\n",
       "    </tr>\n",
       "    <tr>\n",
       "      <th>21</th>\n",
       "      <td>M368V</td>\n",
       "      <td>M368V</td>\n",
       "      <td>(A:MET:1, A:ALA:2, A:GLU:3, A:LEU:4, A:LYS:5, ...</td>\n",
       "      <td>(A:MET:1, A:ALA:2, A:GLU:3, A:LEU:4, A:LYS:5, ...</td>\n",
       "      <td>(((&lt;Residue MET het=  resseq=1 icode= &gt;, &lt;Resi...</td>\n",
       "      <td>(((&lt;Residue MET het=  resseq=1 icode= &gt;, &lt;Resi...</td>\n",
       "      <td>../datasets/ALPHAFOLD PDBs/M368V_be390/M368V_b...</td>\n",
       "      <td>../datasets/ALPHAFOLD PDBs/M368V_be390/M368V_b...</td>\n",
       "      <td>15.0</td>\n",
       "      <td>50.0</td>\n",
       "      <td>79.0</td>\n",
       "      <td>100.0</td>\n",
       "      <td>19.0</td>\n",
       "      <td>14.0</td>\n",
       "      <td>19.0</td>\n",
       "      <td>5.0</td>\n",
       "      <td>0.0</td>\n",
       "      <td>179.0</td>\n",
       "    </tr>\n",
       "    <tr>\n",
       "      <th>105</th>\n",
       "      <td>C120F</td>\n",
       "      <td>C120F</td>\n",
       "      <td>(A:MET:1, A:ALA:2, A:GLU:3, A:LEU:4, A:LYS:5, ...</td>\n",
       "      <td>(A:MET:1, A:ALA:2, A:GLU:3, A:LEU:4, A:LYS:5, ...</td>\n",
       "      <td>(((&lt;Residue MET het=  resseq=1 icode= &gt;, &lt;Resi...</td>\n",
       "      <td>(((&lt;Residue MET het=  resseq=1 icode= &gt;, &lt;Resi...</td>\n",
       "      <td>../datasets/ALPHAFOLD PDBs/C120F_3f78a/C120F_3...</td>\n",
       "      <td>../datasets/ALPHAFOLD PDBs/C120F_3f78a/C120F_3...</td>\n",
       "      <td>19.0</td>\n",
       "      <td>61.0</td>\n",
       "      <td>79.0</td>\n",
       "      <td>100.0</td>\n",
       "      <td>31.0</td>\n",
       "      <td>14.0</td>\n",
       "      <td>41.0</td>\n",
       "      <td>0.0</td>\n",
       "      <td>25.0</td>\n",
       "      <td>179.0</td>\n",
       "    </tr>\n",
       "    <tr>\n",
       "      <th>126</th>\n",
       "      <td>G161R</td>\n",
       "      <td>V300G</td>\n",
       "      <td>(A:MET:1, A:ALA:2, A:GLU:3, A:LEU:4, A:LYS:5, ...</td>\n",
       "      <td>(A:MET:1, A:ALA:2, A:GLU:3, A:LEU:4, A:LYS:5, ...</td>\n",
       "      <td>(((&lt;Residue MET het=  resseq=1 icode= &gt;, &lt;Resi...</td>\n",
       "      <td>(((&lt;Residue MET het=  resseq=1 icode= &gt;, &lt;Resi...</td>\n",
       "      <td>../datasets/ALPHAFOLD PDBs/G161R_c8ba5/G161R_c...</td>\n",
       "      <td>../datasets/ALPHAFOLD PDBs/V300G_f0e19/V300G_f...</td>\n",
       "      <td>29.0</td>\n",
       "      <td>35.0</td>\n",
       "      <td>71.0</td>\n",
       "      <td>100.0</td>\n",
       "      <td>33.0</td>\n",
       "      <td>36.0</td>\n",
       "      <td>34.0</td>\n",
       "      <td>5.0</td>\n",
       "      <td>19.0</td>\n",
       "      <td>171.0</td>\n",
       "    </tr>\n",
       "    <tr>\n",
       "      <th>120</th>\n",
       "      <td>D153fs</td>\n",
       "      <td>D153fs</td>\n",
       "      <td>(A:MET:1, A:ALA:2, A:GLU:3, A:LEU:4, A:LYS:5, ...</td>\n",
       "      <td>(A:MET:1, A:ALA:2, A:GLU:3, A:LEU:4, A:LYS:5, ...</td>\n",
       "      <td>(((&lt;Residue MET het=  resseq=1 icode= &gt;, &lt;Resi...</td>\n",
       "      <td>(((&lt;Residue MET het=  resseq=1 icode= &gt;, &lt;Resi...</td>\n",
       "      <td>../datasets/ALPHAFOLD PDBs/D153fs_315fd/D153fs...</td>\n",
       "      <td>../datasets/ALPHAFOLD PDBs/D153fs_315fd/D153fs...</td>\n",
       "      <td>25.0</td>\n",
       "      <td>29.0</td>\n",
       "      <td>64.0</td>\n",
       "      <td>100.0</td>\n",
       "      <td>56.0</td>\n",
       "      <td>29.0</td>\n",
       "      <td>31.0</td>\n",
       "      <td>5.0</td>\n",
       "      <td>0.0</td>\n",
       "      <td>164.0</td>\n",
       "    </tr>\n",
       "  </tbody>\n",
       "</table>\n",
       "</div>"
      ],
      "text/plain": [
       "    Protein change allele 1  Protein change allele 2  \\\n",
       "40                    D153fs                  A218fs   \n",
       "21                     M368V                   M368V   \n",
       "105                    C120F                   C120F   \n",
       "126                    G161R                   V300G   \n",
       "120                   D153fs                  D153fs   \n",
       "\n",
       "                                         graph_allele1  \\\n",
       "40   (A:MET:1, A:ALA:2, A:GLU:3, A:LEU:4, A:LYS:5, ...   \n",
       "21   (A:MET:1, A:ALA:2, A:GLU:3, A:LEU:4, A:LYS:5, ...   \n",
       "105  (A:MET:1, A:ALA:2, A:GLU:3, A:LEU:4, A:LYS:5, ...   \n",
       "126  (A:MET:1, A:ALA:2, A:GLU:3, A:LEU:4, A:LYS:5, ...   \n",
       "120  (A:MET:1, A:ALA:2, A:GLU:3, A:LEU:4, A:LYS:5, ...   \n",
       "\n",
       "                                         graph_allele2  \\\n",
       "40   (A:MET:1, A:ALA:2, A:GLU:3, A:LEU:4, A:LYS:5, ...   \n",
       "21   (A:MET:1, A:ALA:2, A:GLU:3, A:LEU:4, A:LYS:5, ...   \n",
       "105  (A:MET:1, A:ALA:2, A:GLU:3, A:LEU:4, A:LYS:5, ...   \n",
       "126  (A:MET:1, A:ALA:2, A:GLU:3, A:LEU:4, A:LYS:5, ...   \n",
       "120  (A:MET:1, A:ALA:2, A:GLU:3, A:LEU:4, A:LYS:5, ...   \n",
       "\n",
       "                                     structure_allele1  \\\n",
       "40   (((<Residue MET het=  resseq=1 icode= >, <Resi...   \n",
       "21   (((<Residue MET het=  resseq=1 icode= >, <Resi...   \n",
       "105  (((<Residue MET het=  resseq=1 icode= >, <Resi...   \n",
       "126  (((<Residue MET het=  resseq=1 icode= >, <Resi...   \n",
       "120  (((<Residue MET het=  resseq=1 icode= >, <Resi...   \n",
       "\n",
       "                                     structure_allele2  \\\n",
       "40   (((<Residue MET het=  resseq=1 icode= >, <Resi...   \n",
       "21   (((<Residue MET het=  resseq=1 icode= >, <Resi...   \n",
       "105  (((<Residue MET het=  resseq=1 icode= >, <Resi...   \n",
       "126  (((<Residue MET het=  resseq=1 icode= >, <Resi...   \n",
       "120  (((<Residue MET het=  resseq=1 icode= >, <Resi...   \n",
       "\n",
       "                                      pdb_file_allele1  \\\n",
       "40   ../datasets/ALPHAFOLD PDBs/D153fs_315fd/D153fs...   \n",
       "21   ../datasets/ALPHAFOLD PDBs/M368V_be390/M368V_b...   \n",
       "105  ../datasets/ALPHAFOLD PDBs/C120F_3f78a/C120F_3...   \n",
       "126  ../datasets/ALPHAFOLD PDBs/G161R_c8ba5/G161R_c...   \n",
       "120  ../datasets/ALPHAFOLD PDBs/D153fs_315fd/D153fs...   \n",
       "\n",
       "                                      pdb_file_allele2  physical_health_score  \\\n",
       "40   ../datasets/ALPHAFOLD PDBs/A218fs_8b909/A218fs...                   28.0   \n",
       "21   ../datasets/ALPHAFOLD PDBs/M368V_be390/M368V_b...                   15.0   \n",
       "105  ../datasets/ALPHAFOLD PDBs/C120F_3f78a/C120F_3...                   19.0   \n",
       "126  ../datasets/ALPHAFOLD PDBs/V300G_f0e19/V300G_f...                   29.0   \n",
       "120  ../datasets/ALPHAFOLD PDBs/D153fs_315fd/D153fs...                   25.0   \n",
       "\n",
       "     mental_health_score  AKUSSI_jointpain  AKUSSI_spinalpain  KOOSpain  \\\n",
       "40                  26.0              93.0              100.0      36.0   \n",
       "21                  50.0              79.0              100.0      19.0   \n",
       "105                 61.0              79.0              100.0      31.0   \n",
       "126                 35.0              71.0              100.0      33.0   \n",
       "120                 29.0              64.0              100.0      56.0   \n",
       "\n",
       "     KOOSsymptoms  KOOSdaily_living  KOOSsport  KOOS_QOL  AKUSSI  \n",
       "40           50.0              22.0        6.0      19.0   193.0  \n",
       "21           14.0              19.0        5.0       0.0   179.0  \n",
       "105          14.0              41.0        0.0      25.0   179.0  \n",
       "126          36.0              34.0        5.0      19.0   171.0  \n",
       "120          29.0              31.0        5.0       0.0   164.0  "
      ]
     },
     "execution_count": 139,
     "metadata": {},
     "output_type": "execute_result"
    }
   ],
   "source": [
    "#sort the dataframe by the column 'AKUSSI'\n",
    "df_g = df_g.sort_values(by='AKUSSI', ascending=False)\n",
    "\n",
    "df_g.head()"
   ]
  },
  {
   "cell_type": "code",
   "execution_count": 145,
   "metadata": {},
   "outputs": [],
   "source": [
    "# drop the rows with nan value in the column AKUSSI\n",
    "df_NO_AKUSSI = df_g.dropna(subset=['AKUSSI'])"
   ]
  },
  {
   "cell_type": "code",
   "execution_count": 148,
   "metadata": {},
   "outputs": [
    {
     "data": {
      "text/html": [
       "<div>\n",
       "<style scoped>\n",
       "    .dataframe tbody tr th:only-of-type {\n",
       "        vertical-align: middle;\n",
       "    }\n",
       "\n",
       "    .dataframe tbody tr th {\n",
       "        vertical-align: top;\n",
       "    }\n",
       "\n",
       "    .dataframe thead th {\n",
       "        text-align: right;\n",
       "    }\n",
       "</style>\n",
       "<table border=\"1\" class=\"dataframe\">\n",
       "  <thead>\n",
       "    <tr style=\"text-align: right;\">\n",
       "      <th></th>\n",
       "      <th>Protein change allele 1</th>\n",
       "      <th>Protein change allele 2</th>\n",
       "      <th>graph_allele1</th>\n",
       "      <th>graph_allele2</th>\n",
       "      <th>structure_allele1</th>\n",
       "      <th>structure_allele2</th>\n",
       "      <th>pdb_file_allele1</th>\n",
       "      <th>pdb_file_allele2</th>\n",
       "      <th>physical_health_score</th>\n",
       "      <th>mental_health_score</th>\n",
       "      <th>AKUSSI_jointpain</th>\n",
       "      <th>AKUSSI_spinalpain</th>\n",
       "      <th>KOOSpain</th>\n",
       "      <th>KOOSsymptoms</th>\n",
       "      <th>KOOSdaily_living</th>\n",
       "      <th>KOOSsport</th>\n",
       "      <th>KOOS_QOL</th>\n",
       "      <th>AKUSSI</th>\n",
       "    </tr>\n",
       "  </thead>\n",
       "  <tbody>\n",
       "    <tr>\n",
       "      <th>156</th>\n",
       "      <td>Q29fs</td>\n",
       "      <td>Q29fs</td>\n",
       "      <td>(A:MET:1, A:ALA:2, A:GLU:3, A:LEU:4, A:LYS:5, ...</td>\n",
       "      <td>(A:MET:1, A:ALA:2, A:GLU:3, A:LEU:4, A:LYS:5, ...</td>\n",
       "      <td>(((&lt;Residue MET het=  resseq=1 icode= &gt;, &lt;Resi...</td>\n",
       "      <td>(((&lt;Residue MET het=  resseq=1 icode= &gt;, &lt;Resi...</td>\n",
       "      <td>../datasets/ALPHAFOLD PDBs/Q29fs_f0607/Q29fs_f...</td>\n",
       "      <td>../datasets/ALPHAFOLD PDBs/Q29fs_f0607/Q29fs_f...</td>\n",
       "      <td>44.0</td>\n",
       "      <td>52.0</td>\n",
       "      <td>0.0</td>\n",
       "      <td>25.0</td>\n",
       "      <td>100.0</td>\n",
       "      <td>96.0</td>\n",
       "      <td>97.0</td>\n",
       "      <td>100.0</td>\n",
       "      <td>100.0</td>\n",
       "      <td>25.0</td>\n",
       "    </tr>\n",
       "    <tr>\n",
       "      <th>34</th>\n",
       "      <td>G161R</td>\n",
       "      <td>G161R</td>\n",
       "      <td>(A:MET:1, A:ALA:2, A:GLU:3, A:LEU:4, A:LYS:5, ...</td>\n",
       "      <td>(A:MET:1, A:ALA:2, A:GLU:3, A:LEU:4, A:LYS:5, ...</td>\n",
       "      <td>(((&lt;Residue MET het=  resseq=1 icode= &gt;, &lt;Resi...</td>\n",
       "      <td>(((&lt;Residue MET het=  resseq=1 icode= &gt;, &lt;Resi...</td>\n",
       "      <td>../datasets/ALPHAFOLD PDBs/G161R_c8ba5/G161R_c...</td>\n",
       "      <td>../datasets/ALPHAFOLD PDBs/G161R_c8ba5/G161R_c...</td>\n",
       "      <td>54.0</td>\n",
       "      <td>56.0</td>\n",
       "      <td>0.0</td>\n",
       "      <td>25.0</td>\n",
       "      <td>97.0</td>\n",
       "      <td>93.0</td>\n",
       "      <td>100.0</td>\n",
       "      <td>100.0</td>\n",
       "      <td>88.0</td>\n",
       "      <td>25.0</td>\n",
       "    </tr>\n",
       "    <tr>\n",
       "      <th>93</th>\n",
       "      <td>G161R</td>\n",
       "      <td>E178G</td>\n",
       "      <td>(A:MET:1, A:ALA:2, A:GLU:3, A:LEU:4, A:LYS:5, ...</td>\n",
       "      <td>(A:MET:1, A:ALA:2, A:GLU:3, A:LEU:4, A:LYS:5, ...</td>\n",
       "      <td>(((&lt;Residue MET het=  resseq=1 icode= &gt;, &lt;Resi...</td>\n",
       "      <td>(((&lt;Residue MET het=  resseq=1 icode= &gt;, &lt;Resi...</td>\n",
       "      <td>../datasets/ALPHAFOLD PDBs/G161R_c8ba5/G161R_c...</td>\n",
       "      <td>../datasets/ALPHAFOLD PDBs/E178G_aeca3/E178G_a...</td>\n",
       "      <td>45.0</td>\n",
       "      <td>51.0</td>\n",
       "      <td>0.0</td>\n",
       "      <td>25.0</td>\n",
       "      <td>100.0</td>\n",
       "      <td>93.0</td>\n",
       "      <td>100.0</td>\n",
       "      <td>95.0</td>\n",
       "      <td>100.0</td>\n",
       "      <td>25.0</td>\n",
       "    </tr>\n",
       "    <tr>\n",
       "      <th>7</th>\n",
       "      <td>G161R</td>\n",
       "      <td>G161R</td>\n",
       "      <td>(A:MET:1, A:ALA:2, A:GLU:3, A:LEU:4, A:LYS:5, ...</td>\n",
       "      <td>(A:MET:1, A:ALA:2, A:GLU:3, A:LEU:4, A:LYS:5, ...</td>\n",
       "      <td>(((&lt;Residue MET het=  resseq=1 icode= &gt;, &lt;Resi...</td>\n",
       "      <td>(((&lt;Residue MET het=  resseq=1 icode= &gt;, &lt;Resi...</td>\n",
       "      <td>../datasets/ALPHAFOLD PDBs/G161R_c8ba5/G161R_c...</td>\n",
       "      <td>../datasets/ALPHAFOLD PDBs/G161R_c8ba5/G161R_c...</td>\n",
       "      <td>41.0</td>\n",
       "      <td>64.0</td>\n",
       "      <td>21.0</td>\n",
       "      <td>0.0</td>\n",
       "      <td>78.0</td>\n",
       "      <td>39.0</td>\n",
       "      <td>76.0</td>\n",
       "      <td>60.0</td>\n",
       "      <td>56.0</td>\n",
       "      <td>21.0</td>\n",
       "    </tr>\n",
       "    <tr>\n",
       "      <th>173</th>\n",
       "      <td>G161R</td>\n",
       "      <td>V300G</td>\n",
       "      <td>(A:MET:1, A:ALA:2, A:GLU:3, A:LEU:4, A:LYS:5, ...</td>\n",
       "      <td>(A:MET:1, A:ALA:2, A:GLU:3, A:LEU:4, A:LYS:5, ...</td>\n",
       "      <td>(((&lt;Residue MET het=  resseq=1 icode= &gt;, &lt;Resi...</td>\n",
       "      <td>(((&lt;Residue MET het=  resseq=1 icode= &gt;, &lt;Resi...</td>\n",
       "      <td>../datasets/ALPHAFOLD PDBs/G161R_c8ba5/G161R_c...</td>\n",
       "      <td>../datasets/ALPHAFOLD PDBs/V300G_f0e19/V300G_f...</td>\n",
       "      <td>54.0</td>\n",
       "      <td>60.0</td>\n",
       "      <td>14.0</td>\n",
       "      <td>0.0</td>\n",
       "      <td>97.0</td>\n",
       "      <td>82.0</td>\n",
       "      <td>99.0</td>\n",
       "      <td>90.0</td>\n",
       "      <td>100.0</td>\n",
       "      <td>14.0</td>\n",
       "    </tr>\n",
       "    <tr>\n",
       "      <th>122</th>\n",
       "      <td>G161R</td>\n",
       "      <td>G161R</td>\n",
       "      <td>(A:MET:1, A:ALA:2, A:GLU:3, A:LEU:4, A:LYS:5, ...</td>\n",
       "      <td>(A:MET:1, A:ALA:2, A:GLU:3, A:LEU:4, A:LYS:5, ...</td>\n",
       "      <td>(((&lt;Residue MET het=  resseq=1 icode= &gt;, &lt;Resi...</td>\n",
       "      <td>(((&lt;Residue MET het=  resseq=1 icode= &gt;, &lt;Resi...</td>\n",
       "      <td>../datasets/ALPHAFOLD PDBs/G161R_c8ba5/G161R_c...</td>\n",
       "      <td>../datasets/ALPHAFOLD PDBs/G161R_c8ba5/G161R_c...</td>\n",
       "      <td>NaN</td>\n",
       "      <td>NaN</td>\n",
       "      <td>14.0</td>\n",
       "      <td>0.0</td>\n",
       "      <td>100.0</td>\n",
       "      <td>100.0</td>\n",
       "      <td>100.0</td>\n",
       "      <td>100.0</td>\n",
       "      <td>100.0</td>\n",
       "      <td>14.0</td>\n",
       "    </tr>\n",
       "    <tr>\n",
       "      <th>150</th>\n",
       "      <td>Q29fs</td>\n",
       "      <td>Q29fs</td>\n",
       "      <td>(A:MET:1, A:ALA:2, A:GLU:3, A:LEU:4, A:LYS:5, ...</td>\n",
       "      <td>(A:MET:1, A:ALA:2, A:GLU:3, A:LEU:4, A:LYS:5, ...</td>\n",
       "      <td>(((&lt;Residue MET het=  resseq=1 icode= &gt;, &lt;Resi...</td>\n",
       "      <td>(((&lt;Residue MET het=  resseq=1 icode= &gt;, &lt;Resi...</td>\n",
       "      <td>../datasets/ALPHAFOLD PDBs/Q29fs_f0607/Q29fs_f...</td>\n",
       "      <td>../datasets/ALPHAFOLD PDBs/Q29fs_f0607/Q29fs_f...</td>\n",
       "      <td>45.0</td>\n",
       "      <td>52.0</td>\n",
       "      <td>7.0</td>\n",
       "      <td>0.0</td>\n",
       "      <td>33.0</td>\n",
       "      <td>36.0</td>\n",
       "      <td>40.0</td>\n",
       "      <td>30.0</td>\n",
       "      <td>44.0</td>\n",
       "      <td>7.0</td>\n",
       "    </tr>\n",
       "    <tr>\n",
       "      <th>14</th>\n",
       "      <td>G161R</td>\n",
       "      <td>G372_P373delinsA</td>\n",
       "      <td>(A:MET:1, A:ALA:2, A:GLU:3, A:LEU:4, A:LYS:5, ...</td>\n",
       "      <td>(A:MET:1, A:ALA:2, A:GLU:3, A:LEU:4, A:LYS:5, ...</td>\n",
       "      <td>(((&lt;Residue MET het=  resseq=1 icode= &gt;, &lt;Resi...</td>\n",
       "      <td>(((&lt;Residue MET het=  resseq=1 icode= &gt;, &lt;Resi...</td>\n",
       "      <td>../datasets/ALPHAFOLD PDBs/G161R_c8ba5/G161R_c...</td>\n",
       "      <td>../datasets/ALPHAFOLD PDBs/G372_P373delinsA_8a...</td>\n",
       "      <td>56.0</td>\n",
       "      <td>53.0</td>\n",
       "      <td>0.0</td>\n",
       "      <td>0.0</td>\n",
       "      <td>100.0</td>\n",
       "      <td>89.0</td>\n",
       "      <td>100.0</td>\n",
       "      <td>90.0</td>\n",
       "      <td>69.0</td>\n",
       "      <td>0.0</td>\n",
       "    </tr>\n",
       "    <tr>\n",
       "      <th>35</th>\n",
       "      <td>G161R</td>\n",
       "      <td>H371fs</td>\n",
       "      <td>(A:MET:1, A:ALA:2, A:GLU:3, A:LEU:4, A:LYS:5, ...</td>\n",
       "      <td>(A:MET:1, A:ALA:2, A:GLU:3, A:LEU:4, A:LYS:5, ...</td>\n",
       "      <td>(((&lt;Residue MET het=  resseq=1 icode= &gt;, &lt;Resi...</td>\n",
       "      <td>(((&lt;Residue MET het=  resseq=1 icode= &gt;, &lt;Resi...</td>\n",
       "      <td>../datasets/ALPHAFOLD PDBs/G161R_c8ba5/G161R_c...</td>\n",
       "      <td>../datasets/ALPHAFOLD PDBs/H371fs_9b3dd/H371fs...</td>\n",
       "      <td>57.0</td>\n",
       "      <td>62.0</td>\n",
       "      <td>0.0</td>\n",
       "      <td>0.0</td>\n",
       "      <td>100.0</td>\n",
       "      <td>93.0</td>\n",
       "      <td>100.0</td>\n",
       "      <td>100.0</td>\n",
       "      <td>100.0</td>\n",
       "      <td>0.0</td>\n",
       "    </tr>\n",
       "    <tr>\n",
       "      <th>113</th>\n",
       "      <td>I216T</td>\n",
       "      <td>G360R</td>\n",
       "      <td>(A:MET:1, A:ALA:2, A:GLU:3, A:LEU:4, A:LYS:5, ...</td>\n",
       "      <td>(A:MET:1, A:ALA:2, A:GLU:3, A:LEU:4, A:LYS:5, ...</td>\n",
       "      <td>(((&lt;Residue MET het=  resseq=1 icode= &gt;, &lt;Resi...</td>\n",
       "      <td>(((&lt;Residue MET het=  resseq=1 icode= &gt;, &lt;Resi...</td>\n",
       "      <td>../datasets/ALPHAFOLD PDBs/I216T_85a22/I216T_8...</td>\n",
       "      <td>../datasets/ALPHAFOLD PDBs/G360R_057f7/G360R_0...</td>\n",
       "      <td>61.0</td>\n",
       "      <td>24.0</td>\n",
       "      <td>0.0</td>\n",
       "      <td>0.0</td>\n",
       "      <td>100.0</td>\n",
       "      <td>100.0</td>\n",
       "      <td>100.0</td>\n",
       "      <td>95.0</td>\n",
       "      <td>100.0</td>\n",
       "      <td>0.0</td>\n",
       "    </tr>\n",
       "  </tbody>\n",
       "</table>\n",
       "</div>"
      ],
      "text/plain": [
       "    Protein change allele 1  Protein change allele 2  \\\n",
       "156                    Q29fs                   Q29fs   \n",
       "34                     G161R                   G161R   \n",
       "93                     G161R                   E178G   \n",
       "7                      G161R                   G161R   \n",
       "173                    G161R                   V300G   \n",
       "122                    G161R                   G161R   \n",
       "150                    Q29fs                   Q29fs   \n",
       "14                     G161R        G372_P373delinsA   \n",
       "35                     G161R                  H371fs   \n",
       "113                    I216T                   G360R   \n",
       "\n",
       "                                         graph_allele1  \\\n",
       "156  (A:MET:1, A:ALA:2, A:GLU:3, A:LEU:4, A:LYS:5, ...   \n",
       "34   (A:MET:1, A:ALA:2, A:GLU:3, A:LEU:4, A:LYS:5, ...   \n",
       "93   (A:MET:1, A:ALA:2, A:GLU:3, A:LEU:4, A:LYS:5, ...   \n",
       "7    (A:MET:1, A:ALA:2, A:GLU:3, A:LEU:4, A:LYS:5, ...   \n",
       "173  (A:MET:1, A:ALA:2, A:GLU:3, A:LEU:4, A:LYS:5, ...   \n",
       "122  (A:MET:1, A:ALA:2, A:GLU:3, A:LEU:4, A:LYS:5, ...   \n",
       "150  (A:MET:1, A:ALA:2, A:GLU:3, A:LEU:4, A:LYS:5, ...   \n",
       "14   (A:MET:1, A:ALA:2, A:GLU:3, A:LEU:4, A:LYS:5, ...   \n",
       "35   (A:MET:1, A:ALA:2, A:GLU:3, A:LEU:4, A:LYS:5, ...   \n",
       "113  (A:MET:1, A:ALA:2, A:GLU:3, A:LEU:4, A:LYS:5, ...   \n",
       "\n",
       "                                         graph_allele2  \\\n",
       "156  (A:MET:1, A:ALA:2, A:GLU:3, A:LEU:4, A:LYS:5, ...   \n",
       "34   (A:MET:1, A:ALA:2, A:GLU:3, A:LEU:4, A:LYS:5, ...   \n",
       "93   (A:MET:1, A:ALA:2, A:GLU:3, A:LEU:4, A:LYS:5, ...   \n",
       "7    (A:MET:1, A:ALA:2, A:GLU:3, A:LEU:4, A:LYS:5, ...   \n",
       "173  (A:MET:1, A:ALA:2, A:GLU:3, A:LEU:4, A:LYS:5, ...   \n",
       "122  (A:MET:1, A:ALA:2, A:GLU:3, A:LEU:4, A:LYS:5, ...   \n",
       "150  (A:MET:1, A:ALA:2, A:GLU:3, A:LEU:4, A:LYS:5, ...   \n",
       "14   (A:MET:1, A:ALA:2, A:GLU:3, A:LEU:4, A:LYS:5, ...   \n",
       "35   (A:MET:1, A:ALA:2, A:GLU:3, A:LEU:4, A:LYS:5, ...   \n",
       "113  (A:MET:1, A:ALA:2, A:GLU:3, A:LEU:4, A:LYS:5, ...   \n",
       "\n",
       "                                     structure_allele1  \\\n",
       "156  (((<Residue MET het=  resseq=1 icode= >, <Resi...   \n",
       "34   (((<Residue MET het=  resseq=1 icode= >, <Resi...   \n",
       "93   (((<Residue MET het=  resseq=1 icode= >, <Resi...   \n",
       "7    (((<Residue MET het=  resseq=1 icode= >, <Resi...   \n",
       "173  (((<Residue MET het=  resseq=1 icode= >, <Resi...   \n",
       "122  (((<Residue MET het=  resseq=1 icode= >, <Resi...   \n",
       "150  (((<Residue MET het=  resseq=1 icode= >, <Resi...   \n",
       "14   (((<Residue MET het=  resseq=1 icode= >, <Resi...   \n",
       "35   (((<Residue MET het=  resseq=1 icode= >, <Resi...   \n",
       "113  (((<Residue MET het=  resseq=1 icode= >, <Resi...   \n",
       "\n",
       "                                     structure_allele2  \\\n",
       "156  (((<Residue MET het=  resseq=1 icode= >, <Resi...   \n",
       "34   (((<Residue MET het=  resseq=1 icode= >, <Resi...   \n",
       "93   (((<Residue MET het=  resseq=1 icode= >, <Resi...   \n",
       "7    (((<Residue MET het=  resseq=1 icode= >, <Resi...   \n",
       "173  (((<Residue MET het=  resseq=1 icode= >, <Resi...   \n",
       "122  (((<Residue MET het=  resseq=1 icode= >, <Resi...   \n",
       "150  (((<Residue MET het=  resseq=1 icode= >, <Resi...   \n",
       "14   (((<Residue MET het=  resseq=1 icode= >, <Resi...   \n",
       "35   (((<Residue MET het=  resseq=1 icode= >, <Resi...   \n",
       "113  (((<Residue MET het=  resseq=1 icode= >, <Resi...   \n",
       "\n",
       "                                      pdb_file_allele1  \\\n",
       "156  ../datasets/ALPHAFOLD PDBs/Q29fs_f0607/Q29fs_f...   \n",
       "34   ../datasets/ALPHAFOLD PDBs/G161R_c8ba5/G161R_c...   \n",
       "93   ../datasets/ALPHAFOLD PDBs/G161R_c8ba5/G161R_c...   \n",
       "7    ../datasets/ALPHAFOLD PDBs/G161R_c8ba5/G161R_c...   \n",
       "173  ../datasets/ALPHAFOLD PDBs/G161R_c8ba5/G161R_c...   \n",
       "122  ../datasets/ALPHAFOLD PDBs/G161R_c8ba5/G161R_c...   \n",
       "150  ../datasets/ALPHAFOLD PDBs/Q29fs_f0607/Q29fs_f...   \n",
       "14   ../datasets/ALPHAFOLD PDBs/G161R_c8ba5/G161R_c...   \n",
       "35   ../datasets/ALPHAFOLD PDBs/G161R_c8ba5/G161R_c...   \n",
       "113  ../datasets/ALPHAFOLD PDBs/I216T_85a22/I216T_8...   \n",
       "\n",
       "                                      pdb_file_allele2  physical_health_score  \\\n",
       "156  ../datasets/ALPHAFOLD PDBs/Q29fs_f0607/Q29fs_f...                   44.0   \n",
       "34   ../datasets/ALPHAFOLD PDBs/G161R_c8ba5/G161R_c...                   54.0   \n",
       "93   ../datasets/ALPHAFOLD PDBs/E178G_aeca3/E178G_a...                   45.0   \n",
       "7    ../datasets/ALPHAFOLD PDBs/G161R_c8ba5/G161R_c...                   41.0   \n",
       "173  ../datasets/ALPHAFOLD PDBs/V300G_f0e19/V300G_f...                   54.0   \n",
       "122  ../datasets/ALPHAFOLD PDBs/G161R_c8ba5/G161R_c...                    NaN   \n",
       "150  ../datasets/ALPHAFOLD PDBs/Q29fs_f0607/Q29fs_f...                   45.0   \n",
       "14   ../datasets/ALPHAFOLD PDBs/G372_P373delinsA_8a...                   56.0   \n",
       "35   ../datasets/ALPHAFOLD PDBs/H371fs_9b3dd/H371fs...                   57.0   \n",
       "113  ../datasets/ALPHAFOLD PDBs/G360R_057f7/G360R_0...                   61.0   \n",
       "\n",
       "     mental_health_score  AKUSSI_jointpain  AKUSSI_spinalpain  KOOSpain  \\\n",
       "156                 52.0               0.0               25.0     100.0   \n",
       "34                  56.0               0.0               25.0      97.0   \n",
       "93                  51.0               0.0               25.0     100.0   \n",
       "7                   64.0              21.0                0.0      78.0   \n",
       "173                 60.0              14.0                0.0      97.0   \n",
       "122                  NaN              14.0                0.0     100.0   \n",
       "150                 52.0               7.0                0.0      33.0   \n",
       "14                  53.0               0.0                0.0     100.0   \n",
       "35                  62.0               0.0                0.0     100.0   \n",
       "113                 24.0               0.0                0.0     100.0   \n",
       "\n",
       "     KOOSsymptoms  KOOSdaily_living  KOOSsport  KOOS_QOL  AKUSSI  \n",
       "156          96.0              97.0      100.0     100.0    25.0  \n",
       "34           93.0             100.0      100.0      88.0    25.0  \n",
       "93           93.0             100.0       95.0     100.0    25.0  \n",
       "7            39.0              76.0       60.0      56.0    21.0  \n",
       "173          82.0              99.0       90.0     100.0    14.0  \n",
       "122         100.0             100.0      100.0     100.0    14.0  \n",
       "150          36.0              40.0       30.0      44.0     7.0  \n",
       "14           89.0             100.0       90.0      69.0     0.0  \n",
       "35           93.0             100.0      100.0     100.0     0.0  \n",
       "113         100.0             100.0       95.0     100.0     0.0  "
      ]
     },
     "execution_count": 148,
     "metadata": {},
     "output_type": "execute_result"
    }
   ],
   "source": [
    "len(df_NO_AKUSSI)\n",
    "\n",
    "df_NO_AKUSSI.tail(10)"
   ]
  }
 ],
 "metadata": {
  "kernelspec": {
   "display_name": "Python 3 (ipykernel)",
   "language": "python",
   "name": "python3"
  },
  "language_info": {
   "codemirror_mode": {
    "name": "ipython",
    "version": 3
   },
   "file_extension": ".py",
   "mimetype": "text/x-python",
   "name": "python",
   "nbconvert_exporter": "python",
   "pygments_lexer": "ipython3",
   "version": "3.11.7"
  }
 },
 "nbformat": 4,
 "nbformat_minor": 4
}
